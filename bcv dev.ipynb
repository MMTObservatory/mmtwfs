{
 "cells": [
  {
   "cell_type": "code",
   "execution_count": 3,
   "metadata": {
    "collapsed": true
   },
   "outputs": [],
   "source": [
    "import os\n",
    "import sys\n",
    "import numpy as np\n",
    "import matplotlib\n",
    "matplotlib.use('nbagg')\n",
    "#from matplotlib import style\n",
    "#style.use('ggplot')\n",
    "import matplotlib.pyplot as plt\n",
    "\n",
    "from skimage import feature\n",
    "from scipy import stats, ndimage\n",
    "from scipy.misc import factorial as fac\n",
    "\n",
    "import pandas as pd\n",
    "\n",
    "import photutils\n",
    "import opticspy\n",
    "\n",
    "from astropy import units as u\n",
    "from astropy import stats\n",
    "from astropy import visualization\n",
    "from astropy import coordinates\n",
    "from astropy.table import Table, vstack\n",
    "from astropy.io import ascii, fits\n",
    "from astropy.modeling import models, fitting, custom_model"
   ]
  },
  {
   "cell_type": "code",
   "execution_count": 2,
   "metadata": {
    "collapsed": true
   },
   "outputs": [],
   "source": [
    "ACT = 104\n",
    "NODE = 3222\n",
    "BRAD = 3228.5"
   ]
  },
  {
   "cell_type": "code",
   "execution_count": 4,
   "metadata": {
    "collapsed": false
   },
   "outputs": [
    {
     "data": {
      "text/plain": [
       "335088"
      ]
     },
     "execution_count": 4,
     "metadata": {},
     "output_type": "execute_result"
    }
   ],
   "source": [
    "NODE*ACT"
   ]
  },
  {
   "cell_type": "code",
   "execution_count": 39,
   "metadata": {
    "collapsed": false
   },
   "outputs": [],
   "source": [
    "# for each node, the influence from each actuator\n",
    "surf2act = np.fromfile(\"Surf2ActTEL_32.bin\", dtype=np.float32).reshape(NODE, ACT)\n",
    "nodecoor = ascii.read(\"bcv_node_coordinates.dat\", names=[\"bcv_id\", \"bcv_x\", \"bcv_y\", \"bcv_z\"])\n",
    "for ax in [\"bcv_x\", \"bcv_y\"]:\n",
    "    nodecoor[ax] /= BRAD\n",
    "nodecoor['bcv_rho'] = np.sqrt(nodecoor['bcv_x']**2 + nodecoor['bcv_y']**2)\n",
    "nodecoor['bcv_phi'] = np.arctan2(nodecoor['bcv_y'], nodecoor['bcv_x'])"
   ]
  },
  {
   "cell_type": "code",
   "execution_count": 40,
   "metadata": {
    "collapsed": false
   },
   "outputs": [
    {
     "data": {
      "text/html": [
       "&lt;Table length=3222&gt;\n",
       "<table id=\"table4667237488\" class=\"table-striped table-bordered table-condensed\">\n",
       "<thead><tr><th>bcv_id</th><th>bcv_x</th><th>bcv_y</th><th>bcv_z</th><th>bcv_rho</th><th>bcv_phi</th></tr></thead>\n",
       "<thead><tr><th>int64</th><th>float64</th><th>float64</th><th>float64</th><th>float64</th><th>float64</th></tr></thead>\n",
       "<tr><td>5</td><td>0.0</td><td>-1.0</td><td>679.205</td><td>1.0</td><td>-1.57079632679</td></tr>\n",
       "<tr><td>10</td><td>0.00696918073409</td><td>-0.999975220691</td><td>679.204</td><td>0.999999505738</td><td>-1.5638270862</td></tr>\n",
       "<tr><td>15</td><td>0.0418336688865</td><td>-0.999123431934</td><td>679.204</td><td>0.999998844046</td><td>-1.52895039801</td></tr>\n",
       "<tr><td>20</td><td>0.0936224252749</td><td>-0.995607867431</td><td>679.205</td><td>1.0000000921</td><td>-1.47703659865</td></tr>\n",
       "<tr><td>25</td><td>0.113820659749</td><td>-0.993501626142</td><td>679.205</td><td>1.00000031187</td><td>-1.45672849841</td></tr>\n",
       "<tr><td>31</td><td>0.161375251665</td><td>-0.986891745393</td><td>679.204</td><td>0.999998644486</td><td>-1.40871209415</td></tr>\n",
       "<tr><td>43</td><td>0.0859284497445</td><td>-0.982282793867</td><td>670.313</td><td>0.98603406919</td><td>-1.48354012798</td></tr>\n",
       "<tr><td>44</td><td>0.120300449125</td><td>-0.982282793867</td><td>672.585</td><td>0.989621991059</td><td>-1.44893290375</td></tr>\n",
       "<tr><td>49</td><td>0.188877187548</td><td>-0.982000929224</td><td>679.205</td><td>1.00000020849</td><td>-1.38077773907</td></tr>\n",
       "<tr><td>55</td><td>0.219553972433</td><td>-0.975601672603</td><td>679.206</td><td>1.0000012852</td><td>-1.34943935172</td></tr>\n",
       "<tr><td>...</td><td>...</td><td>...</td><td>...</td><td>...</td><td>...</td></tr>\n",
       "<tr><td>19171</td><td>-0.0515564503639</td><td>0.975096794177</td><td>664.288</td><td>0.976458819197</td><td>1.62362030063</td></tr>\n",
       "<tr><td>19176</td><td>-0.219553972433</td><td>0.975601672603</td><td>679.206</td><td>1.0000012852</td><td>1.79215330187</td></tr>\n",
       "<tr><td>19182</td><td>-0.188877187548</td><td>0.982000929224</td><td>679.205</td><td>1.00000020849</td><td>1.76081491452</td></tr>\n",
       "<tr><td>19191</td><td>-0.0859284497445</td><td>0.982282793867</td><td>670.313</td><td>0.98603406919</td><td>1.65805252561</td></tr>\n",
       "<tr><td>19192</td><td>-0.120300449125</td><td>0.982282793867</td><td>672.585</td><td>0.989621991059</td><td>1.69265974984</td></tr>\n",
       "<tr><td>19200</td><td>-0.161375251665</td><td>0.986891745393</td><td>679.204</td><td>0.999998644486</td><td>1.73288055944</td></tr>\n",
       "<tr><td>19206</td><td>-0.113820659749</td><td>0.993501626142</td><td>679.205</td><td>1.00000031187</td><td>1.68486415518</td></tr>\n",
       "<tr><td>19211</td><td>-0.0936224252749</td><td>0.995607867431</td><td>679.205</td><td>1.0000000921</td><td>1.66455605494</td></tr>\n",
       "<tr><td>19216</td><td>-0.0418336688865</td><td>0.999123431934</td><td>679.204</td><td>0.999998844046</td><td>1.61264225558</td></tr>\n",
       "<tr><td>19221</td><td>-0.00696918073409</td><td>0.999975220691</td><td>679.204</td><td>0.999999505738</td><td>1.57776556739</td></tr>\n",
       "</table>"
      ],
      "text/plain": [
       "<Table length=3222>\n",
       "bcv_id       bcv_x            bcv_y       bcv_z     bcv_rho        bcv_phi    \n",
       "int64       float64          float64     float64    float64        float64    \n",
       "------ ----------------- --------------- ------- -------------- --------------\n",
       "     5               0.0            -1.0 679.205            1.0 -1.57079632679\n",
       "    10  0.00696918073409 -0.999975220691 679.204 0.999999505738  -1.5638270862\n",
       "    15   0.0418336688865 -0.999123431934 679.204 0.999998844046 -1.52895039801\n",
       "    20   0.0936224252749 -0.995607867431 679.205   1.0000000921 -1.47703659865\n",
       "    25    0.113820659749 -0.993501626142 679.205  1.00000031187 -1.45672849841\n",
       "    31    0.161375251665 -0.986891745393 679.204 0.999998644486 -1.40871209415\n",
       "    43   0.0859284497445 -0.982282793867 670.313  0.98603406919 -1.48354012798\n",
       "    44    0.120300449125 -0.982282793867 672.585 0.989621991059 -1.44893290375\n",
       "    49    0.188877187548 -0.982000929224 679.205  1.00000020849 -1.38077773907\n",
       "    55    0.219553972433 -0.975601672603 679.206   1.0000012852 -1.34943935172\n",
       "   ...               ...             ...     ...            ...            ...\n",
       " 19171  -0.0515564503639  0.975096794177 664.288 0.976458819197  1.62362030063\n",
       " 19176   -0.219553972433  0.975601672603 679.206   1.0000012852  1.79215330187\n",
       " 19182   -0.188877187548  0.982000929224 679.205  1.00000020849  1.76081491452\n",
       " 19191  -0.0859284497445  0.982282793867 670.313  0.98603406919  1.65805252561\n",
       " 19192   -0.120300449125  0.982282793867 672.585 0.989621991059  1.69265974984\n",
       " 19200   -0.161375251665  0.986891745393 679.204 0.999998644486  1.73288055944\n",
       " 19206   -0.113820659749  0.993501626142 679.205  1.00000031187  1.68486415518\n",
       " 19211  -0.0936224252749  0.995607867431 679.205   1.0000000921  1.66455605494\n",
       " 19216  -0.0418336688865  0.999123431934 679.204 0.999998844046  1.61264225558\n",
       " 19221 -0.00696918073409  0.999975220691 679.204 0.999999505738  1.57776556739"
      ]
     },
     "execution_count": 40,
     "metadata": {},
     "output_type": "execute_result"
    }
   ],
   "source": [
    "nodecoor"
   ]
  },
  {
   "cell_type": "code",
   "execution_count": 38,
   "metadata": {
    "collapsed": false
   },
   "outputs": [
    {
     "data": {
      "text/plain": [
       "315.9818181818182"
      ]
     },
     "execution_count": 38,
     "metadata": {},
     "output_type": "execute_result"
    }
   ],
   "source": [
    "9/11*386.2"
   ]
  },
  {
   "cell_type": "code",
   "execution_count": 77,
   "metadata": {
    "collapsed": true
   },
   "outputs": [],
   "source": [
    "im = np.arange(90).reshape(9, 10)"
   ]
  },
  {
   "cell_type": "code",
   "execution_count": 78,
   "metadata": {
    "collapsed": false
   },
   "outputs": [
    {
     "data": {
      "text/plain": [
       "array([[[ 0.,  0.,  0.,  0.,  0.,  0.,  0.,  0.,  0.,  0.],\n",
       "        [ 1.,  1.,  1.,  1.,  1.,  1.,  1.,  1.,  1.,  1.],\n",
       "        [ 2.,  2.,  2.,  2.,  2.,  2.,  2.,  2.,  2.,  2.],\n",
       "        [ 3.,  3.,  3.,  3.,  3.,  3.,  3.,  3.,  3.,  3.],\n",
       "        [ 4.,  4.,  4.,  4.,  4.,  4.,  4.,  4.,  4.,  4.],\n",
       "        [ 5.,  5.,  5.,  5.,  5.,  5.,  5.,  5.,  5.,  5.],\n",
       "        [ 6.,  6.,  6.,  6.,  6.,  6.,  6.,  6.,  6.,  6.],\n",
       "        [ 7.,  7.,  7.,  7.,  7.,  7.,  7.,  7.,  7.,  7.],\n",
       "        [ 8.,  8.,  8.,  8.,  8.,  8.,  8.,  8.,  8.,  8.]],\n",
       "\n",
       "       [[ 0.,  1.,  2.,  3.,  4.,  5.,  6.,  7.,  8.,  9.],\n",
       "        [ 0.,  1.,  2.,  3.,  4.,  5.,  6.,  7.,  8.,  9.],\n",
       "        [ 0.,  1.,  2.,  3.,  4.,  5.,  6.,  7.,  8.,  9.],\n",
       "        [ 0.,  1.,  2.,  3.,  4.,  5.,  6.,  7.,  8.,  9.],\n",
       "        [ 0.,  1.,  2.,  3.,  4.,  5.,  6.,  7.,  8.,  9.],\n",
       "        [ 0.,  1.,  2.,  3.,  4.,  5.,  6.,  7.,  8.,  9.],\n",
       "        [ 0.,  1.,  2.,  3.,  4.,  5.,  6.,  7.,  8.,  9.],\n",
       "        [ 0.,  1.,  2.,  3.,  4.,  5.,  6.,  7.,  8.,  9.],\n",
       "        [ 0.,  1.,  2.,  3.,  4.,  5.,  6.,  7.,  8.,  9.]]])"
      ]
     },
     "execution_count": 78,
     "metadata": {},
     "output_type": "execute_result"
    }
   ],
   "source": [
    "np.indices(im.shape, dtype=float)"
   ]
  },
  {
   "cell_type": "code",
   "execution_count": 79,
   "metadata": {
    "collapsed": false
   },
   "outputs": [
    {
     "data": {
      "text/plain": [
       "array([[ 0.        ,  0.        ,  0.        ,  0.        ,  0.        ,\n",
       "         0.        ,  0.        ,  0.        ,  0.        ,  0.        ,\n",
       "         0.11111111,  0.11111111,  0.11111111,  0.11111111,  0.11111111,\n",
       "         0.11111111,  0.11111111,  0.11111111,  0.11111111,  0.11111111,\n",
       "         0.22222222,  0.22222222,  0.22222222,  0.22222222,  0.22222222,\n",
       "         0.22222222,  0.22222222,  0.22222222,  0.22222222,  0.22222222,\n",
       "         0.33333333,  0.33333333,  0.33333333,  0.33333333,  0.33333333,\n",
       "         0.33333333,  0.33333333,  0.33333333,  0.33333333,  0.33333333,\n",
       "         0.44444444,  0.44444444,  0.44444444,  0.44444444,  0.44444444,\n",
       "         0.44444444,  0.44444444,  0.44444444,  0.44444444,  0.44444444,\n",
       "         0.55555556,  0.55555556,  0.55555556,  0.55555556,  0.55555556,\n",
       "         0.55555556,  0.55555556,  0.55555556,  0.55555556,  0.55555556,\n",
       "         0.66666667,  0.66666667,  0.66666667,  0.66666667,  0.66666667,\n",
       "         0.66666667,  0.66666667,  0.66666667,  0.66666667,  0.66666667,\n",
       "         0.77777778,  0.77777778,  0.77777778,  0.77777778,  0.77777778,\n",
       "         0.77777778,  0.77777778,  0.77777778,  0.77777778,  0.77777778,\n",
       "         0.88888889,  0.88888889,  0.88888889,  0.88888889,  0.88888889,\n",
       "         0.88888889,  0.88888889,  0.88888889,  0.88888889,  0.88888889],\n",
       "       [ 0.        ,  0.1       ,  0.2       ,  0.3       ,  0.4       ,\n",
       "         0.5       ,  0.6       ,  0.7       ,  0.8       ,  0.9       ,\n",
       "         0.        ,  0.1       ,  0.2       ,  0.3       ,  0.4       ,\n",
       "         0.5       ,  0.6       ,  0.7       ,  0.8       ,  0.9       ,\n",
       "         0.        ,  0.1       ,  0.2       ,  0.3       ,  0.4       ,\n",
       "         0.5       ,  0.6       ,  0.7       ,  0.8       ,  0.9       ,\n",
       "         0.        ,  0.1       ,  0.2       ,  0.3       ,  0.4       ,\n",
       "         0.5       ,  0.6       ,  0.7       ,  0.8       ,  0.9       ,\n",
       "         0.        ,  0.1       ,  0.2       ,  0.3       ,  0.4       ,\n",
       "         0.5       ,  0.6       ,  0.7       ,  0.8       ,  0.9       ,\n",
       "         0.        ,  0.1       ,  0.2       ,  0.3       ,  0.4       ,\n",
       "         0.5       ,  0.6       ,  0.7       ,  0.8       ,  0.9       ,\n",
       "         0.        ,  0.1       ,  0.2       ,  0.3       ,  0.4       ,\n",
       "         0.5       ,  0.6       ,  0.7       ,  0.8       ,  0.9       ,\n",
       "         0.        ,  0.1       ,  0.2       ,  0.3       ,  0.4       ,\n",
       "         0.5       ,  0.6       ,  0.7       ,  0.8       ,  0.9       ,\n",
       "         0.        ,  0.1       ,  0.2       ,  0.3       ,  0.4       ,\n",
       "         0.5       ,  0.6       ,  0.7       ,  0.8       ,  0.9       ],\n",
       "       [ 1.        ,  1.        ,  1.        ,  1.        ,  1.        ,\n",
       "         1.        ,  1.        ,  1.        ,  1.        ,  1.        ,\n",
       "         1.        ,  1.        ,  1.        ,  1.        ,  1.        ,\n",
       "         1.        ,  1.        ,  1.        ,  1.        ,  1.        ,\n",
       "         1.        ,  1.        ,  1.        ,  1.        ,  1.        ,\n",
       "         1.        ,  1.        ,  1.        ,  1.        ,  1.        ,\n",
       "         1.        ,  1.        ,  1.        ,  1.        ,  1.        ,\n",
       "         1.        ,  1.        ,  1.        ,  1.        ,  1.        ,\n",
       "         1.        ,  1.        ,  1.        ,  1.        ,  1.        ,\n",
       "         1.        ,  1.        ,  1.        ,  1.        ,  1.        ,\n",
       "         1.        ,  1.        ,  1.        ,  1.        ,  1.        ,\n",
       "         1.        ,  1.        ,  1.        ,  1.        ,  1.        ,\n",
       "         1.        ,  1.        ,  1.        ,  1.        ,  1.        ,\n",
       "         1.        ,  1.        ,  1.        ,  1.        ,  1.        ,\n",
       "         1.        ,  1.        ,  1.        ,  1.        ,  1.        ,\n",
       "         1.        ,  1.        ,  1.        ,  1.        ,  1.        ,\n",
       "         1.        ,  1.        ,  1.        ,  1.        ,  1.        ,\n",
       "         1.        ,  1.        ,  1.        ,  1.        ,  1.        ]])"
      ]
     },
     "execution_count": 79,
     "metadata": {},
     "output_type": "execute_result"
    }
   ],
   "source": [
    "slopes = (np.indices(im.shape, dtype=float)/(np.r_[im.shape].reshape(-1, 1, 1))).reshape(2, -1)\n",
    "slopes = np.vstack([slopes, np.ones(slopes.shape[1])])\n",
    "slopes"
   ]
  },
  {
   "cell_type": "code",
   "execution_count": 80,
   "metadata": {
    "collapsed": false
   },
   "outputs": [],
   "source": [
    "pinv = np.linalg.pinv(slopes)"
   ]
  },
  {
   "cell_type": "code",
   "execution_count": 81,
   "metadata": {
    "collapsed": false
   },
   "outputs": [
    {
     "data": {
      "text/plain": [
       "array([ 90.,  10.])"
      ]
     },
     "execution_count": 81,
     "metadata": {},
     "output_type": "execute_result"
    }
   ],
   "source": [
    "np.dot(im.reshape(1, -1), pinv).ravel()[:2]"
   ]
  },
  {
   "cell_type": "code",
   "execution_count": 82,
   "metadata": {
    "collapsed": false
   },
   "outputs": [
    {
     "data": {
      "text/plain": [
       "array([[ 0,  1,  2,  3,  4,  5,  6,  7,  8,  9],\n",
       "       [10, 11, 12, 13, 14, 15, 16, 17, 18, 19],\n",
       "       [20, 21, 22, 23, 24, 25, 26, 27, 28, 29],\n",
       "       [30, 31, 32, 33, 34, 35, 36, 37, 38, 39],\n",
       "       [40, 41, 42, 43, 44, 45, 46, 47, 48, 49],\n",
       "       [50, 51, 52, 53, 54, 55, 56, 57, 58, 59],\n",
       "       [60, 61, 62, 63, 64, 65, 66, 67, 68, 69],\n",
       "       [70, 71, 72, 73, 74, 75, 76, 77, 78, 79],\n",
       "       [80, 81, 82, 83, 84, 85, 86, 87, 88, 89]])"
      ]
     },
     "execution_count": 82,
     "metadata": {},
     "output_type": "execute_result"
    }
   ],
   "source": [
    "im"
   ]
  },
  {
   "cell_type": "code",
   "execution_count": null,
   "metadata": {
    "collapsed": true
   },
   "outputs": [],
   "source": []
  }
 ],
 "metadata": {
  "kernelspec": {
   "display_name": "Python [conda env:astroconda]",
   "language": "python",
   "name": "conda-env-astroconda-py"
  },
  "language_info": {
   "codemirror_mode": {
    "name": "ipython",
    "version": 3
   },
   "file_extension": ".py",
   "mimetype": "text/x-python",
   "name": "python",
   "nbconvert_exporter": "python",
   "pygments_lexer": "ipython3",
   "version": "3.5.2"
  }
 },
 "nbformat": 4,
 "nbformat_minor": 2
}
