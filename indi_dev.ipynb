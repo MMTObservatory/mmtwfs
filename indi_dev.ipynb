{
 "cells": [
  {
   "cell_type": "code",
   "execution_count": null,
   "metadata": {
    "collapsed": true
   },
   "outputs": [],
   "source": [
    "import indiclient\n",
    "import time\n",
    "global run"
   ]
  },
  {
   "cell_type": "code",
   "execution_count": null,
   "metadata": {
    "collapsed": true
   },
   "outputs": [],
   "source": [
    "indi = indiclient.indiclient(\"192.168.1.105\", 7624)\n",
    "time.sleep(1)\n",
    "indi.process_events()"
   ]
  },
  {
   "cell_type": "code",
   "execution_count": null,
   "metadata": {
    "collapsed": true
   },
   "outputs": [],
   "source": [
    "def get_blob(blob, i):                                                        \n",
    "    #blob.tell()  \n",
    "    b = blob.get_first_element()\n",
    "    if b.get_plain_format() == \".fits\":\n",
    "        global run\n",
    "        out_file = open(\"blob.fits\", \"wb\")\n",
    "        print(\"Wrote blob.fits...\")\n",
    "        out_file.write(b.get_data())\n",
    "        out_file.close()\n",
    "        run = False\n",
    "\n",
    "def def_hand(v, i):\n",
    "    v.tell()"
   ]
  },
  {
   "cell_type": "code",
   "execution_count": null,
   "metadata": {
    "collapsed": false
   },
   "outputs": [],
   "source": [
    "indi.process_events()\n",
    "indi.defvectorlist = []\n",
    "print(indi.get_float(\"SBIG CCD\", \"CCD_EXPOSURE\", \"CCD_EXPOSURE_VALUE\"))\n",
    "ft_v = indi.set_and_send_switchvector_by_elementlabel(\"SBIG CCD\", \"CCD_FRAME_TYPE\", \"Light\")\n",
    "time.sleep(1)\n",
    "indi.process_events()\n",
    "indi.get_text(\"SBIG CCD\", \"CCD_FRAME_TYPE\", \"FRAME_DARK\")"
   ]
  },
  {
   "cell_type": "code",
   "execution_count": null,
   "metadata": {
    "collapsed": false
   },
   "outputs": [],
   "source": [
    "indi.number_def_handler = def_hand\n",
    "indi.text_def_handler = def_hand\n",
    "indi.switch_def_handler = def_hand\n",
    "indi.light_def_handler = def_hand\n",
    "indi.blob_def_handler = get_blob\n",
    "indi.enable_blob()\n",
    "indi.defvectorlist = []"
   ]
  },
  {
   "cell_type": "code",
   "execution_count": null,
   "metadata": {
    "collapsed": false
   },
   "outputs": [],
   "source": [
    "indi.defvectorlist = []\n",
    "exp_time = 2.0\n",
    "ft_v = indi.set_and_send_switchvector_by_elementlabel(\"SBIG CCD\", \"CCD_FRAME_TYPE\", \"Dark\")\n",
    "indi.process_events()\n",
    "time.sleep(1)\n",
    "exp_v = indi.set_and_send_float(\"SBIG CCD\", \"CCD_EXPOSURE\", \"CCD_EXPOSURE_VALUE\", exp_time)\n",
    "\n",
    "run = True\n",
    "while run:\n",
    "    indi.process_events()\n",
    "    time.sleep(1)"
   ]
  },
  {
   "cell_type": "code",
   "execution_count": null,
   "metadata": {
    "collapsed": true
   },
   "outputs": [],
   "source": [
    "indi.process_events()"
   ]
  },
  {
   "cell_type": "code",
   "execution_count": null,
   "metadata": {
    "collapsed": true
   },
   "outputs": [],
   "source": [
    "indi.set_and_send_switchvector_by_elementlabel?"
   ]
  },
  {
   "cell_type": "code",
   "execution_count": null,
   "metadata": {
    "collapsed": false
   },
   "outputs": [],
   "source": [
    "indi.get_text(\"SBIG CCD\", \"CONNECTION\", \"CONNECT\")"
   ]
  },
  {
   "cell_type": "code",
   "execution_count": null,
   "metadata": {
    "collapsed": false
   },
   "outputs": [],
   "source": [
    "indi.set_and_send_switchvector_by_elementlabel(\"SBIG CCD\", \"CONNECTION\", \"Connect\")"
   ]
  },
  {
   "cell_type": "code",
   "execution_count": null,
   "metadata": {
    "collapsed": true
   },
   "outputs": [],
   "source": [
    "indi.quit()"
   ]
  },
  {
   "cell_type": "code",
   "execution_count": 6,
   "metadata": {
    "collapsed": false
   },
   "outputs": [
    {
     "name": "stdout",
     "output_type": "stream",
     "text": [
      "The autoreload extension is already loaded. To reload it, use:\n",
      "  %reload_ext autoreload\n"
     ]
    }
   ],
   "source": [
    "%load_ext autoreload\n",
    "%autoreload 2"
   ]
  },
  {
   "cell_type": "code",
   "execution_count": 11,
   "metadata": {
    "collapsed": false
   },
   "outputs": [],
   "source": [
    "from sbigindi import SBIGCam"
   ]
  },
  {
   "cell_type": "code",
   "execution_count": 12,
   "metadata": {
    "collapsed": false
   },
   "outputs": [
    {
     "name": "stdout",
     "output_type": "stream",
     "text": [
      "SBIG CCD CONNECTION Connection SwitchVector OneOfMany\n",
      "    CONNECT Connect Switch On\n",
      "    DISCONNECT Disconnect Switch Off\n",
      "SBIG CCD DRIVER_INFO Driver Info TextVector read only\n",
      "    DRIVER_NAME Name Text SBIG CCD\n",
      "    DRIVER_EXEC Exec Text indi_sbig_ccd\n",
      "    DRIVER_VERSION Version Text 1.8\n",
      "    DRIVER_INTERFACE Interface Text 18\n",
      "SBIG CCD SIMULATION Simulation SwitchVector OneOfMany\n",
      "    ENABLE Enable Switch Off\n",
      "    DISABLE Disable Switch On\n",
      "SBIG CCD CONFIG_PROCESS Configuration SwitchVector AtMostOne\n",
      "    CONFIG_LOAD Load Switch Off\n",
      "    CONFIG_SAVE Save Switch Off\n",
      "    CONFIG_DEFAULT Default Switch Off\n",
      "SBIG CCD ACTIVE_DEVICES Snoop devices TextVector read and write\n",
      "    ACTIVE_TELESCOPE Telescope Text Telescope Simulator\n",
      "    ACTIVE_FOCUSER Focuser Text Focuser Simulator\n",
      "    ACTIVE_FILTER Filter Text CCD Simulator\n",
      "    ACTIVE_SKYQUALITY Sky Quality Text SQM\n",
      "SBIG CCD DEVICE_PORT_TYPE Port SwitchVector OneOfMany\n",
      "    Ethernet Ethernet Switch Off\n",
      "    USB 1 USB 1 Switch On\n",
      "    USB 2 USB 2 Switch Off\n",
      "    USB 3 USB 3 Switch Off\n",
      "    USB 4 USB 4 Switch Off\n",
      "    LPT 1 LPT 1 Switch Off\n",
      "    LPT 2 LPT 2 Switch Off\n",
      "    LPT 3 LPT 3 Switch Off\n",
      "SBIG CCD DEBUG Debug SwitchVector OneOfMany\n",
      "    ENABLE Enable Switch Off\n",
      "    DISABLE Disable Switch On\n",
      "SBIG CCD CCD_EXPOSURE Expose NumberVector read and write\n",
      "    CCD_EXPOSURE_VALUE Duration (s) Number 0\n",
      "SBIG CCD CCD_ABORT_EXPOSURE Expose Abort SwitchVector AtMostOne\n",
      "    ABORT Abort Switch Off\n",
      "SBIG CCD CCD_FRAME Frame NumberVector read and write\n",
      "    X Left Number 0\n",
      "    Y Top Number 0\n",
      "    WIDTH Width Number 648\n",
      "    HEIGHT Height Number 486\n",
      "SBIG CCD CCD_BINNING Binning NumberVector read and write\n",
      "    HOR_BIN X Number 1\n",
      "    VER_BIN Y Number 1\n",
      "SBIG CCD CCD_INFO CCD Information NumberVector read only\n",
      "    CCD_MAX_X Max. Width Number 648\n",
      "    CCD_MAX_Y Max. Height Number 486\n",
      "    CCD_PIXEL_SIZE Pixel size (um) Number 7.4000000953674316406\n",
      "    CCD_PIXEL_SIZE_X Pixel size X Number 7.4000000953674316406\n",
      "    CCD_PIXEL_SIZE_Y Pixel size Y Number 7.4000000953674316406\n",
      "    CCD_BITSPERPIXEL Bits per pixel Number 16\n",
      "SBIG CCD CCD_COMPRESSION Image SwitchVector OneOfMany\n",
      "    CCD_COMPRESS Compress Switch Off\n",
      "    CCD_RAW Raw Switch On\n",
      "SBIG CCD CCD1 Image Data BLOBVector read only\n",
      "    CCD1 Image BLOB \n",
      "SBIG CCD TELESCOPE_TIMED_GUIDE_NS Guide N/S NumberVector read and write\n",
      "    TIMED_GUIDE_N North (ms) Number 0\n",
      "    TIMED_GUIDE_S South (ms) Number 0\n",
      "SBIG CCD TELESCOPE_TIMED_GUIDE_WE Guide E/W NumberVector read and write\n",
      "    TIMED_GUIDE_W West (ms) Number 0\n",
      "    TIMED_GUIDE_E East (ms) Number 0\n",
      "SBIG CCD CCD_FRAME_TYPE Frame Type SwitchVector OneOfMany\n",
      "    FRAME_LIGHT Light Switch On\n",
      "    FRAME_BIAS Bias Switch Off\n",
      "    FRAME_DARK Dark Switch Off\n",
      "    FRAME_FLAT Flat Switch Off\n",
      "SBIG CCD CCD_FRAME_RESET Frame Values SwitchVector OneOfMany\n",
      "    RESET Reset Switch Off\n",
      "SBIG CCD CCD_RAPID_GUIDE Rapid Guide SwitchVector OneOfMany\n",
      "    ENABLE Enable Switch Off\n",
      "    DISABLE Disable Switch On\n",
      "SBIG CCD TELESCOPE_TYPE Telescope SwitchVector OneOfMany\n",
      "    TELESCOPE_PRIMARY Primary Switch On\n",
      "    TELESCOPE_GUIDE Guide Switch Off\n",
      "SBIG CCD ASTROMETRY_SOLVER Solver SwitchVector OneOfMany\n",
      "    ASTROMETRY_SOLVER_ENABLE Enable Switch Off\n",
      "    ASTROMETRY_SOLVER_DISABLE Disable Switch On\n",
      "SBIG CCD ASTROMETRY_SETTINGS Settings TextVector write only\n",
      "    ASTROMETRY_SETTINGS_BINARY Solver Text /usr/bin/solve-field\n",
      "    ASTROMETRY_SETTINGS_OPTIONS Options Text --no-verify --no-plots --no-fits2fits --resort --downsample 2 -O\n",
      "SBIG CCD WCS_CONTROL WCS SwitchVector OneOfMany\n",
      "    WCS_ENABLE Enable Switch Off\n",
      "    WCS_DISABLE Disable Switch On\n",
      "SBIG CCD UPLOAD_MODE Upload SwitchVector OneOfMany\n",
      "    UPLOAD_CLIENT Client Switch On\n",
      "    UPLOAD_LOCAL Local Switch Off\n",
      "    UPLOAD_BOTH Both Switch Off\n",
      "SBIG CCD UPLOAD_SETTINGS Upload Settings TextVector read and write\n",
      "    UPLOAD_DIR Dir Text /home/sbig\n",
      "    UPLOAD_PREFIX Prefix Text IMAGE_XXX\n",
      "SBIG CCD CCD_PRODUCT Product TextVector read only\n",
      "    NAME Name Text SBIG ST-i CCD Camera\n",
      "    ID ID Text 12739\n"
     ]
    }
   ],
   "source": [
    "c = SBIGCam()"
   ]
  },
  {
   "cell_type": "code",
   "execution_count": 13,
   "metadata": {
    "collapsed": false
   },
   "outputs": [
    {
     "data": {
      "text/plain": [
       "True"
      ]
     },
     "execution_count": 13,
     "metadata": {},
     "output_type": "execute_result"
    }
   ],
   "source": [
    "c.connected"
   ]
  },
  {
   "cell_type": "code",
   "execution_count": 17,
   "metadata": {
    "collapsed": false
   },
   "outputs": [
    {
     "name": "stdout",
     "output_type": "stream",
     "text": [
      "SBIG CCD CCD_FRAME_TYPE Frame Type SwitchVector OneOfMany\n",
      "    FRAME_LIGHT Light Switch Off\n",
      "    FRAME_BIAS Bias Switch Off\n",
      "    FRAME_DARK Dark Switch On\n",
      "    FRAME_FLAT Flat Switch Off\n",
      "SBIG CCD CCD_EXPOSURE Expose NumberVector read and write\n",
      "    CCD_EXPOSURE_VALUE Duration (s) Number 1\n",
      "reading out...\n"
     ]
    }
   ],
   "source": [
    "f = c.expose(exptime=1, exptype=\"Dark\")"
   ]
  },
  {
   "cell_type": "code",
   "execution_count": 15,
   "metadata": {
    "collapsed": false
   },
   "outputs": [
    {
     "data": {
      "text/plain": [
       "[<astropy.io.fits.hdu.image.PrimaryHDU object at 0x10cb72160>]"
      ]
     },
     "execution_count": 15,
     "metadata": {},
     "output_type": "execute_result"
    }
   ],
   "source": [
    "f"
   ]
  },
  {
   "cell_type": "code",
   "execution_count": null,
   "metadata": {
    "collapsed": true
   },
   "outputs": [],
   "source": []
  }
 ],
 "metadata": {
  "kernelspec": {
   "display_name": "Python [conda env:astroconda]",
   "language": "python",
   "name": "conda-env-astroconda-py"
  },
  "language_info": {
   "codemirror_mode": {
    "name": "ipython",
    "version": 3
   },
   "file_extension": ".py",
   "mimetype": "text/x-python",
   "name": "python",
   "nbconvert_exporter": "python",
   "pygments_lexer": "ipython3",
   "version": "3.5.2"
  }
 },
 "nbformat": 4,
 "nbformat_minor": 2
}
