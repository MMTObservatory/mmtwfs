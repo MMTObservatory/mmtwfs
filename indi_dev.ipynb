{
 "cells": [
  {
   "cell_type": "code",
   "execution_count": 1,
   "metadata": {
    "collapsed": true
   },
   "outputs": [],
   "source": [
    "import indiclient\n",
    "import time\n",
    "global run"
   ]
  },
  {
   "cell_type": "code",
   "execution_count": 2,
   "metadata": {
    "collapsed": true
   },
   "outputs": [],
   "source": [
    "indi = indiclient.indiclient(\"192.168.1.103\", 7624)"
   ]
  },
  {
   "cell_type": "code",
   "execution_count": 3,
   "metadata": {
    "collapsed": true
   },
   "outputs": [],
   "source": [
    "def get_blob(blob, i):                                                        \n",
    "    #blob.tell()  \n",
    "    b = blob.get_first_element()\n",
    "    if b.get_plain_format() == \".fits\":\n",
    "        global run\n",
    "        out_file = open(\"blob.fits\", \"wb\")\n",
    "        print(\"Wrote blob.fits...\")\n",
    "        out_file.write(b.get_data())\n",
    "        out_file.close()\n",
    "        run = False\n",
    "\n",
    "def def_hand(v, i):\n",
    "    v.tell()"
   ]
  },
  {
   "cell_type": "code",
   "execution_count": 4,
   "metadata": {
    "collapsed": false
   },
   "outputs": [
    {
     "data": {
      "text/plain": [
       "0.0"
      ]
     },
     "execution_count": 4,
     "metadata": {},
     "output_type": "execute_result"
    }
   ],
   "source": [
    "indi.process_events()\n",
    "indi.get_float(\"SBIG CCD\", \"CCD_EXPOSURE\", \"CCD_EXPOSURE_VALUE\")"
   ]
  },
  {
   "cell_type": "code",
   "execution_count": 5,
   "metadata": {
    "collapsed": false
   },
   "outputs": [],
   "source": [
    "indi.number_def_handler = def_hand\n",
    "indi.text_def_handler = def_hand\n",
    "indi.switch_def_handler = def_hand\n",
    "indi.light_def_handler = def_hand\n",
    "indi.blob_def_handler = get_blob\n",
    "indi.enable_blob()\n",
    "indi.defvectorlist = []"
   ]
  },
  {
   "cell_type": "code",
   "execution_count": 10,
   "metadata": {
    "collapsed": false
   },
   "outputs": [],
   "source": [
    "indi.defvectorlist = []\n",
    "exp_time = 20.0\n",
    "exp_v = indi.set_and_send_float(\"SBIG CCD\", \"CCD_EXPOSURE\", \"CCD_EXPOSURE_VALUE\", exp_time)"
   ]
  },
  {
   "cell_type": "code",
   "execution_count": 11,
   "metadata": {
    "collapsed": false
   },
   "outputs": [
    {
     "name": "stdout",
     "output_type": "stream",
     "text": [
      "got message by host :192.168.1.103 : \n",
      "    INDImessage SBIG CCD Taking 2s exposure on main camera...\n",
      "SBIG CCD CCD_EXPOSURE Expose NumberVector read and write\n",
      "    CCD_EXPOSURE_VALUE Duration (s) Number 20\n",
      "Wrote blob.fits...\n"
     ]
    }
   ],
   "source": [
    "run = True\n",
    "while run:\n",
    "    indi.process_events()\n",
    "    time.sleep(1)"
   ]
  },
  {
   "cell_type": "code",
   "execution_count": null,
   "metadata": {
    "collapsed": true
   },
   "outputs": [],
   "source": [
    "indi.process_events()"
   ]
  },
  {
   "cell_type": "code",
   "execution_count": null,
   "metadata": {
    "collapsed": true
   },
   "outputs": [],
   "source": []
  }
 ],
 "metadata": {
  "kernelspec": {
   "display_name": "Python [conda env:astroconda]",
   "language": "python",
   "name": "conda-env-astroconda-py"
  },
  "language_info": {
   "codemirror_mode": {
    "name": "ipython",
    "version": 3
   },
   "file_extension": ".py",
   "mimetype": "text/x-python",
   "name": "python",
   "nbconvert_exporter": "python",
   "pygments_lexer": "ipython3",
   "version": "3.5.2"
  }
 },
 "nbformat": 4,
 "nbformat_minor": 2
}
