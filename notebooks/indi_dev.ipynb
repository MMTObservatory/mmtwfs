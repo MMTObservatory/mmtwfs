{
 "cells": [
  {
   "cell_type": "code",
   "execution_count": null,
   "metadata": {
    "collapsed": true,
    "deletable": true,
    "editable": true
   },
   "outputs": [],
   "source": [
    "import indiclient\n",
    "import time\n",
    "global run"
   ]
  },
  {
   "cell_type": "code",
   "execution_count": null,
   "metadata": {
    "collapsed": true,
    "deletable": true,
    "editable": true
   },
   "outputs": [],
   "source": [
    "indi = indiclient.indiclient(\"192.168.1.105\", 7624)\n",
    "time.sleep(1)\n",
    "indi.process_events()"
   ]
  },
  {
   "cell_type": "code",
   "execution_count": null,
   "metadata": {
    "collapsed": true,
    "deletable": true,
    "editable": true
   },
   "outputs": [],
   "source": [
    "def get_blob(blob, i):                                                        \n",
    "    #blob.tell()  \n",
    "    b = blob.get_first_element()\n",
    "    if b.get_plain_format() == \".fits\":\n",
    "        global run\n",
    "        out_file = open(\"blob.fits\", \"wb\")\n",
    "        print(\"Wrote blob.fits...\")\n",
    "        out_file.write(b.get_data())\n",
    "        out_file.close()\n",
    "        run = False\n",
    "\n",
    "def def_hand(v, i):\n",
    "    v.tell()"
   ]
  },
  {
   "cell_type": "code",
   "execution_count": null,
   "metadata": {
    "collapsed": false,
    "deletable": true,
    "editable": true
   },
   "outputs": [],
   "source": [
    "indi.process_events()\n",
    "indi.defvectorlist = []\n",
    "print(indi.get_float(\"SBIG CCD\", \"CCD_EXPOSURE\", \"CCD_EXPOSURE_VALUE\"))\n",
    "ft_v = indi.set_and_send_switchvector_by_elementlabel(\"SBIG CCD\", \"CCD_FRAME_TYPE\", \"Light\")\n",
    "time.sleep(1)\n",
    "indi.process_events()\n",
    "indi.get_text(\"SBIG CCD\", \"CCD_FRAME_TYPE\", \"FRAME_DARK\")"
   ]
  },
  {
   "cell_type": "code",
   "execution_count": null,
   "metadata": {
    "collapsed": false,
    "deletable": true,
    "editable": true
   },
   "outputs": [],
   "source": [
    "indi.number_def_handler = def_hand\n",
    "indi.text_def_handler = def_hand\n",
    "indi.switch_def_handler = def_hand\n",
    "indi.light_def_handler = def_hand\n",
    "indi.blob_def_handler = get_blob\n",
    "indi.enable_blob()\n",
    "indi.defvectorlist = []"
   ]
  },
  {
   "cell_type": "code",
   "execution_count": null,
   "metadata": {
    "collapsed": false,
    "deletable": true,
    "editable": true
   },
   "outputs": [],
   "source": [
    "indi.defvectorlist = []\n",
    "exp_time = 2.0\n",
    "ft_v = indi.set_and_send_switchvector_by_elementlabel(\"SBIG CCD\", \"CCD_FRAME_TYPE\", \"Dark\")\n",
    "indi.process_events()\n",
    "time.sleep(1)\n",
    "exp_v = indi.set_and_send_float(\"SBIG CCD\", \"CCD_EXPOSURE\", \"CCD_EXPOSURE_VALUE\", exp_time)\n",
    "\n",
    "run = True\n",
    "while run:\n",
    "    indi.process_events()\n",
    "    time.sleep(1)"
   ]
  },
  {
   "cell_type": "code",
   "execution_count": null,
   "metadata": {
    "collapsed": true,
    "deletable": true,
    "editable": true
   },
   "outputs": [],
   "source": [
    "indi.process_events()"
   ]
  },
  {
   "cell_type": "code",
   "execution_count": null,
   "metadata": {
    "collapsed": true,
    "deletable": true,
    "editable": true
   },
   "outputs": [],
   "source": [
    "indi.set_and_send_switchvector_by_elementlabel?"
   ]
  },
  {
   "cell_type": "code",
   "execution_count": null,
   "metadata": {
    "collapsed": false,
    "deletable": true,
    "editable": true
   },
   "outputs": [],
   "source": [
    "indi.get_text(\"SBIG CCD\", \"CONNECTION\", \"CONNECT\")"
   ]
  },
  {
   "cell_type": "code",
   "execution_count": null,
   "metadata": {
    "collapsed": false,
    "deletable": true,
    "editable": true
   },
   "outputs": [],
   "source": [
    "indi.set_and_send_switchvector_by_elementlabel(\"SBIG CCD\", \"CONNECTION\", \"Connect\")"
   ]
  },
  {
   "cell_type": "code",
   "execution_count": null,
   "metadata": {
    "collapsed": true,
    "deletable": true,
    "editable": true
   },
   "outputs": [],
   "source": [
    "indi.quit()"
   ]
  },
  {
   "cell_type": "code",
   "execution_count": null,
   "metadata": {
    "collapsed": false,
    "deletable": true,
    "editable": true
   },
   "outputs": [],
   "source": [
    "%load_ext autoreload\n",
    "%autoreload 2"
   ]
  },
  {
   "cell_type": "code",
   "execution_count": null,
   "metadata": {
    "collapsed": false,
    "deletable": true,
    "editable": true
   },
   "outputs": [],
   "source": [
    "from sbigindi import SBIGCam"
   ]
  },
  {
   "cell_type": "code",
   "execution_count": null,
   "metadata": {
    "collapsed": false,
    "deletable": true,
    "editable": true
   },
   "outputs": [],
   "source": [
    "c = SBIGCam()"
   ]
  },
  {
   "cell_type": "code",
   "execution_count": null,
   "metadata": {
    "collapsed": false,
    "deletable": true,
    "editable": true
   },
   "outputs": [],
   "source": [
    "c.connected"
   ]
  },
  {
   "cell_type": "code",
   "execution_count": null,
   "metadata": {
    "collapsed": false,
    "deletable": true,
    "editable": true
   },
   "outputs": [],
   "source": [
    "f = c.expose(exptime=1, exptype=\"Dark\")"
   ]
  },
  {
   "cell_type": "code",
   "execution_count": null,
   "metadata": {
    "collapsed": false,
    "deletable": true,
    "editable": true
   },
   "outputs": [],
   "source": [
    "f"
   ]
  },
  {
   "cell_type": "code",
   "execution_count": null,
   "metadata": {
    "collapsed": true,
    "deletable": true,
    "editable": true
   },
   "outputs": [],
   "source": []
  }
 ],
 "metadata": {
  "kernelspec": {
   "display_name": "Python [conda env:astroconda]",
   "language": "python",
   "name": "conda-env-astroconda-py"
  },
  "language_info": {
   "codemirror_mode": {
    "name": "ipython",
    "version": 3
   },
   "file_extension": ".py",
   "mimetype": "text/x-python",
   "name": "python",
   "nbconvert_exporter": "python",
   "pygments_lexer": "ipython3",
   "version": "3.5.3"
  }
 },
 "nbformat": 4,
 "nbformat_minor": 2
}
