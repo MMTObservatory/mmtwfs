{
 "cells": [
  {
   "cell_type": "code",
   "execution_count": null,
   "metadata": {
    "collapsed": false,
    "deletable": true,
    "editable": true
   },
   "outputs": [],
   "source": [
    "import numpy as np\n",
    "\n",
    "#from matplotlib import style\n",
    "#style.use('ggplot')\n",
    "import matplotlib.pyplot as plt\n",
    "import matplotlib.cm as cm\n",
    "import matplotlib.tri as tri\n",
    "\n",
    "from sklearn.decomposition import PCA\n",
    "\n",
    "from astropy import units as u\n",
    "from astropy.io import ascii\n",
    "\n",
    "from mmtwfs.zernike import ZernikeVector\n",
    "\n",
    "%load_ext autoreload\n",
    "%autoreload 2\n",
    "%matplotlib widget"
   ]
  },
  {
   "cell_type": "code",
   "execution_count": null,
   "metadata": {
    "collapsed": true,
    "deletable": true,
    "editable": true
   },
   "outputs": [],
   "source": [
    "ACT = 104 # number of active actuators\n",
    "NODE = 3222 # number of FE nodes in BCV analysis\n",
    "BRAD = 3228.5 # radius of M1 in mm"
   ]
  },
  {
   "cell_type": "code",
   "execution_count": null,
   "metadata": {
    "collapsed": false,
    "deletable": true,
    "editable": true
   },
   "outputs": [],
   "source": [
    "# matrix to convert a phase surface calculated at each BCV node into a vector of actuator force commands\n",
    "# this version uses the first 32 modes from an SVD analysis.\n",
    "# surface units are nm, actuator force commands are in Newtons\n",
    "surf2act = np.fromfile(\"../mmtwfs/data/Surf2ActTEL_32.bin\", dtype=np.float32).reshape(ACT, NODE).T\n",
    "\n",
    "# coordinates of the BCV FE nodes\n",
    "nodecoor = ascii.read(\n",
    "    \"../mmtwfs/data/bcv_node_coordinates.dat\",\n",
    "    names=[\"bcv_id\", \"bcv_x\", \"bcv_y\", \"bcv_z\"]\n",
    ")\n",
    "\n",
    "# coordinates of the actuators\n",
    "actcoor = ascii.read(\n",
    "    \"../mmtwfs/data/actuator_coordinates.dat\",\n",
    "    names=[\"act_i\", \"act_x\", \"act_y\", \"act_type\"]\n",
    ")\n",
    "\n",
    "# add index to be able to query by actuator number\n",
    "actcoor.add_index(\"act_i\")\n",
    "\n",
    "# convert BCV coordinates to a unit circle\n",
    "for ax in [\"bcv_x\", \"bcv_y\"]:\n",
    "    nodecoor[ax] /= BRAD\n",
    "\n",
    "# calculate polar coordinates for the BCV nodes\n",
    "nodecoor['bcv_rho'] = np.sqrt(nodecoor['bcv_x']**2 + nodecoor['bcv_y']**2)\n",
    "nodecoor['bcv_phi'] = np.arctan2(nodecoor['bcv_y'], nodecoor['bcv_x'])\n",
    "\n",
    "# full 104 mode matrix to convert a phase surface calculated at each BCV node\n",
    "# into a vector of actuator force commands\n",
    "surf2act_full = np.loadtxt(\"../mmtwfs/data/Surf2ActTEL_104\").T\n",
    "\n",
    "# matrix to convert a force vector in unit of Newtons into a phase surface\n",
    "# at each BCV node in units of nm\n",
    "act2surf = np.loadtxt(\"../mmtwfs/data/Act2SurfTEL\").T"
   ]
  },
  {
   "cell_type": "code",
   "execution_count": null,
   "metadata": {},
   "outputs": [],
   "source": [
    "def plot_actuator_influence(act_id, force=1.0):\n",
    "    \"\"\"\n",
    "    Plot the phase surface created by applying <force> Newtons to actuator `act_id`.\n",
    "    \"\"\"\n",
    "    actuator_info = actcoor.loc[act_id]\n",
    "    actuator = actuator_info['act_i']\n",
    "    # this maps act_id to force vector index\n",
    "    act_index = actcoor['act_i'].searchsorted(actuator)\n",
    "    fig, ax = plt.subplots()\n",
    "    fig.set_label(f\"Actuator ID: {actuator}\")\n",
    "    fvec = np.zeros(ACT)\n",
    "    fvec[act_index] = force\n",
    "    ph = fvec @ act2surf\n",
    "    X, Y = nodecoor['bcv_x'].value, nodecoor['bcv_y'].value\n",
    "    triang = tri.Triangulation(X, Y)\n",
    "    # Mask off hole in center of mirror\n",
    "    triang.set_mask(\n",
    "        np.hypot(\n",
    "            X[triang.triangles].mean(axis=1),\n",
    "            Y[triang.triangles].mean(axis=1)\n",
    "        ) < np.min(nodecoor['bcv_rho'])\n",
    "    )\n",
    "    ax.set_aspect('equal')\n",
    "    vmax = np.ceil(np.max(np.abs(ph))+1)\n",
    "    vmin = -vmax+1\n",
    "    levels = np.arange(vmin, vmax)\n",
    "    tcf = ax.tricontourf(triang, ph, vmax=vmax, vmin=vmin, levels=levels, cmap=cm.RdBu)\n",
    "    ax.set_axis_off()\n",
    "    fig.colorbar(tcf, ax=ax, label='Wavefront Error (nm)')\n",
    "    ax.tricontour(triang, ph, vmax=vmax, vmin=vmin, levels=levels, colors='k')\n",
    "    xcor = actcoor['act_x']/BRAD\n",
    "    ycor = actcoor['act_y']/BRAD\n",
    "    ax.scatter(xcor, ycor, marker='.', color='black')\n",
    "    for i, (x, y) in enumerate(zip(xcor, ycor)):\n",
    "        ax.text(\n",
    "            x,\n",
    "            y + 0.02,\n",
    "            actcoor[\"act_i\"][i],\n",
    "            horizontalalignment=\"center\",\n",
    "            verticalalignment=\"bottom\",\n",
    "            size=\"xx-small\",\n",
    "            color=\"black\"\n",
    "        )\n",
    "    ax.scatter(actuator_info['act_x']/BRAD, actuator_info['act_y']/BRAD, color='lime', marker='*')\n",
    "    return fig\n",
    "\n",
    "def zernike_surface(zv=ZernikeVector()):\n",
    "    \"\"\"\n",
    "    Calculate phase surface at the BCV node positions for a given ZernikeVector `zv`.\n",
    "    Displacements are in nm.\n",
    "    \"\"\"\n",
    "    # convert to nm...\n",
    "    zv.units = u.nm\n",
    "\n",
    "    # make sure we're not Noll normalized...\n",
    "    zv.denormalize()\n",
    "\n",
    "    # need to rotate the wavefront -90 degrees to match the BCV angle convention of +Y being 0 deg.\n",
    "    zv.rotate(-90 * u.deg)\n",
    "\n",
    "    # get surface displacements at the BCV node positions. multiply the wavefront amplitude by 0.5 to account for\n",
    "    # reflection off the surface.\n",
    "    surface = (\n",
    "        -0.5 * zv.total_phase(nodecoor[\"bcv_rho\"], nodecoor[\"bcv_phi\"])\n",
    "    )\n",
    "\n",
    "    return surface.to(u.nm).value\n",
    "\n",
    "def plot_phase_surface(zsurf):\n",
    "    \"\"\"\n",
    "    Plot a phase surface <zsurf> that was calculated at the BCV node positions.\n",
    "    \"\"\"\n",
    "    fig, ax = plt.subplots()\n",
    "    fig.set_label(\"Phase Surface\")\n",
    "    X, Y = nodecoor['bcv_x'].value, nodecoor['bcv_y'].value\n",
    "    triang = tri.Triangulation(X, Y)\n",
    "    # Mask off hole in center of mirror\n",
    "    triang.set_mask(\n",
    "        np.hypot(\n",
    "            X[triang.triangles].mean(axis=1),\n",
    "            Y[triang.triangles].mean(axis=1)\n",
    "        ) < np.min(nodecoor['bcv_rho'])\n",
    "    )\n",
    "    ax.set_aspect('equal')\n",
    "    tcf = ax.tricontourf(triang, zsurf, cmap=cm.RdBu)\n",
    "    ax.set_axis_off()\n",
    "    fig.colorbar(tcf, ax=ax, label='Wavefront Error (nm)')\n",
    "    ax.tricontour(triang, zsurf, colors='k')\n",
    "    return fig"
   ]
  },
  {
   "cell_type": "code",
   "execution_count": null,
   "metadata": {},
   "outputs": [],
   "source": [
    "fig = plot_actuator_influence(43, force=1)\n"
   ]
  },
  {
   "cell_type": "code",
   "execution_count": null,
   "metadata": {},
   "outputs": [],
   "source": [
    "zv = ZernikeVector(Z05=400*u.nm)\n",
    "zsurf = zernike_surface(zv)\n",
    "fig = plot_phase_surface(zsurf)"
   ]
  },
  {
   "cell_type": "code",
   "execution_count": null,
   "metadata": {},
   "outputs": [],
   "source": [
    "# create matrix of surfaces for all actuators\n",
    "act_surfaces = np.identity(ACT) @ act2surf\n",
    "# perform PCA on the actuator surfaces to generate a reduced basis of bending modes\n",
    "pca = PCA(n_components=13).fit(act_surfaces)"
   ]
  },
  {
   "cell_type": "code",
   "execution_count": null,
   "metadata": {},
   "outputs": [],
   "source": [
    "vr = np.cumsum(pca.explained_variance_ratio_)\n",
    "plt.figure()\n",
    "plt.plot(vr)\n",
    "plt.xlabel('number of components')\n",
    "plt.ylabel('explained variance')\n",
    "plt.show()\n",
    "vr[-1]"
   ]
  },
  {
   "cell_type": "code",
   "execution_count": null,
   "metadata": {},
   "outputs": [],
   "source": [
    "components = pca.transform([zsurf])\n",
    "filtered = pca.inverse_transform(components)\n",
    "resid = zsurf - filtered\n",
    "fig = plot_phase_surface(resid[0])\n",
    "#fig = plot_phase_surface(zsurf)"
   ]
  },
  {
   "cell_type": "code",
   "execution_count": null,
   "metadata": {},
   "outputs": [],
   "source": [
    "fig = plot_phase_surface(pca.components_[0] / pca.mean_[0])"
   ]
  },
  {
   "cell_type": "code",
   "execution_count": null,
   "metadata": {},
   "outputs": [],
   "source": [
    "# try to create a new surf2act via moore-penrose pseudoinverse. basically an SVD, but more user-friendly.\n",
    "inv = np.linalg.pinv(act2surf, rcond=0.005)  # Use rcond reject less significant modes\n",
    "inv"
   ]
  },
  {
   "cell_type": "code",
   "execution_count": null,
   "metadata": {},
   "outputs": [],
   "source": [
    "# check quality of the fitted forces using the pseudoinverse matrix\n",
    "inv_act = zsurf @ inv\n",
    "inv_resid = zsurf - inv_act @ act2surf\n",
    "fig = plot_phase_surface(inv_resid)"
   ]
  },
  {
   "cell_type": "code",
   "execution_count": null,
   "metadata": {},
   "outputs": [],
   "source": [
    "# check quality of the fitted forces using the original 32-mode SVD matrix\n",
    "svd_act = zsurf @ surf2act\n",
    "svd_resid = zsurf - svd_act @ act2surf\n",
    "fig = plot_phase_surface(svd_resid)"
   ]
  },
  {
   "cell_type": "code",
   "execution_count": null,
   "metadata": {},
   "outputs": [],
   "source": [
    "# max required force is similar for both so the pseudoinverse\n",
    "# is a good reconstruction of what we have been using\n",
    "np.abs(inv_act).max(), np.abs(svd_act).max()"
   ]
  },
  {
   "cell_type": "code",
   "execution_count": null,
   "metadata": {},
   "outputs": [],
   "source": [
    "buddy_forces = [\n",
    "    -22.5, -25.8, -15.3, 65.5, 48.8, -33.6, 51.4, 100.7, 126.6, 17.4, 24.5, 120.2, 135.7, -27.5, 8.9,\n",
    "\t-13.8, 63.4, 85.9, -8.9, 86.4, -35.8, 65.8, 92.9, 34.0, 47.8, 8.6, 71.7, 75.2, 38.1, 46.3,\n",
    "\t21.5, 29.5, 8.3, 2.8, 52.1, 24.7, -6.0, 10.4, 55.3, 40.9, 38.0, 43.8, 51.4, 49.5, 67.1,\n",
    "\t75.6, 62.9, 51.2, 55.5, -10.2, 13.0, 32.4, -10.8, -14.5, -11.5, 75.1,\n",
    "    52.7, -11.9, 52.4, 94.2, 117.4, 49.8, 22.7, 101.8, 134.3, 31.3, 9.3,\n",
    "\t-28.5, 27.1, 72.7, 16.9, 59.9, -88.8, 10.3, 60.3, 9.3, 13.9, -8.7, 60.9, 60.3, 50.1, 98.4,\n",
    "\t86.8, 66.0, 16.4, 8.8, 94.4, 93.0, 40.1, 20.4, 47.7, 42.1, 35.9, 12.3, 42.7, 25.4, 43.6,\n",
    "\t30.5, 55.8, 43.5, 15.0, -11.2, 13.7, 23.6\n",
    "]"
   ]
  },
  {
   "cell_type": "code",
   "execution_count": null,
   "metadata": {},
   "outputs": [],
   "source": [
    "buddy_surf = buddy_forces @ act2surf\n",
    "fig = plot_phase_surface(buddy_surf)"
   ]
  },
  {
   "cell_type": "code",
   "execution_count": null,
   "metadata": {},
   "outputs": [],
   "source": [
    "np.min(buddy_forces), np.max(buddy_forces), np.mean(buddy_forces), np.std(buddy_forces)"
   ]
  },
  {
   "cell_type": "code",
   "execution_count": null,
   "metadata": {},
   "outputs": [],
   "source": []
  }
 ],
 "metadata": {
  "kernelspec": {
   "display_name": "mmtwfs",
   "language": "python",
   "name": "python3"
  },
  "language_info": {
   "codemirror_mode": {
    "name": "ipython",
    "version": 3
   },
   "file_extension": ".py",
   "mimetype": "text/x-python",
   "name": "python",
   "nbconvert_exporter": "python",
   "pygments_lexer": "ipython3",
   "version": "3.13.5"
  }
 },
 "nbformat": 4,
 "nbformat_minor": 2
}
