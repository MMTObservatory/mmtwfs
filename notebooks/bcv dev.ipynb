{
 "cells": [
  {
   "cell_type": "code",
   "execution_count": null,
   "metadata": {
    "collapsed": false,
    "deletable": true,
    "editable": true
   },
   "outputs": [],
   "source": [
    "import numpy as np\n",
    "\n",
    "#from matplotlib import style\n",
    "#style.use('ggplot')\n",
    "import matplotlib.pyplot as plt\n",
    "import matplotlib.cm as cm\n",
    "\n",
    "from astropy import units as u\n",
    "from astropy.io import ascii\n",
    "\n",
    "%load_ext autoreload\n",
    "%autoreload 2\n",
    "%matplotlib widget"
   ]
  },
  {
   "cell_type": "code",
   "execution_count": null,
   "metadata": {
    "collapsed": true,
    "deletable": true,
    "editable": true
   },
   "outputs": [],
   "source": [
    "ACT = 104\n",
    "NODE = 3222\n",
    "BRAD = 3228.5"
   ]
  },
  {
   "cell_type": "code",
   "execution_count": null,
   "metadata": {
    "collapsed": false,
    "deletable": true,
    "editable": true
   },
   "outputs": [],
   "source": [
    "NODE*ACT"
   ]
  },
  {
   "cell_type": "code",
   "execution_count": null,
   "metadata": {
    "collapsed": false,
    "deletable": true,
    "editable": true
   },
   "outputs": [],
   "source": [
    "# for each node, the influence from each actuator\n",
    "surf2act = np.fromfile(\"../mmtwfs/data/Surf2ActTEL_32.bin\", dtype=np.float32).reshape(ACT, NODE).T\n",
    "nodecoor = ascii.read(\"../mmtwfs/data/bcv_node_coordinates.dat\", names=[\"bcv_id\", \"bcv_x\", \"bcv_y\", \"bcv_z\"])\n",
    "actcoor = ascii.read(\"../mmtwfs/data/actuator_coordinates.dat\", names=[\"act_i\", \"act_x\", \"act_y\", \"act_type\"])\n",
    "for ax in [\"bcv_x\", \"bcv_y\"]:\n",
    "    nodecoor[ax] /= BRAD\n",
    "nodecoor['bcv_rho'] = np.sqrt(nodecoor['bcv_x']**2 + nodecoor['bcv_y']**2)\n",
    "nodecoor['bcv_phi'] = np.arctan2(nodecoor['bcv_y'], nodecoor['bcv_x'])"
   ]
  },
  {
   "cell_type": "code",
   "execution_count": null,
   "metadata": {},
   "outputs": [],
   "source": [
    "np.min(nodecoor['bcv_rho']), np.max(nodecoor['bcv_rho'])"
   ]
  },
  {
   "cell_type": "code",
   "execution_count": null,
   "metadata": {},
   "outputs": [],
   "source": [
    "surf2act"
   ]
  },
  {
   "cell_type": "code",
   "execution_count": null,
   "metadata": {},
   "outputs": [],
   "source": [
    "surf2act_full = np.loadtxt(\"../mmtwfs/data/Surf2ActTEL_104\").T\n",
    "act2surf = np.loadtxt(\"../mmtwfs/data/Act2SurfTEL\").T\n",
    "act2surf, surf2act_full"
   ]
  },
  {
   "cell_type": "code",
   "execution_count": null,
   "metadata": {},
   "outputs": [],
   "source": [
    "np.ones(ACT) @ act2surf"
   ]
  },
  {
   "cell_type": "code",
   "execution_count": null,
   "metadata": {},
   "outputs": [],
   "source": [
    "surf2act_full / surf2act"
   ]
  },
  {
   "cell_type": "code",
   "execution_count": null,
   "metadata": {},
   "outputs": [],
   "source": [
    "import matplotlib.tri as tri\n",
    "\n",
    "fig, ax = plt.subplots()\n",
    "fig.set_label(\"Wavefront Map\")\n",
    "fvec = np.zeros(ACT)\n",
    "fvec[100] = 1.0  # Set the first actuator to a value of 1.0\n",
    "fvec[101] = 1.0  # Set the second actuator to a value of 0.5\n",
    "fvec[0] = -1.0\n",
    "ph = fvec @ act2surf\n",
    "X, Y = nodecoor['bcv_x'].value, nodecoor['bcv_y'].value\n",
    "triang = tri.Triangulation(X, Y)\n",
    "# Mask off unwanted triangles.\n",
    "triang.set_mask(\n",
    "    np.hypot(\n",
    "        X[triang.triangles].mean(axis=1),\n",
    "        Y[triang.triangles].mean(axis=1)\n",
    "    ) < np.min(nodecoor['bcv_rho'])\n",
    ")\n",
    "ax.set_aspect('equal')\n",
    "tcf = ax.tricontourf(triang, ph, cmap=cm.RdBu)\n",
    "ax.set_axis_off()\n",
    "fig.colorbar(tcf, ax=ax, label='Wavefront Error (nm)')\n",
    "ax.tricontour(triang, ph, colors='k')\n",
    "plt.show()"
   ]
  },
  {
   "cell_type": "code",
   "execution_count": null,
   "metadata": {},
   "outputs": [],
   "source": []
  }
 ],
 "metadata": {
  "kernelspec": {
   "display_name": "mmtwfs",
   "language": "python",
   "name": "python3"
  },
  "language_info": {
   "codemirror_mode": {
    "name": "ipython",
    "version": 3
   },
   "file_extension": ".py",
   "mimetype": "text/x-python",
   "name": "python",
   "nbconvert_exporter": "python",
   "pygments_lexer": "ipython3",
   "version": "3.13.5"
  }
 },
 "nbformat": 4,
 "nbformat_minor": 2
}
