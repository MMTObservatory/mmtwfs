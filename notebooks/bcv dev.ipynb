{
 "cells": [
  {
   "cell_type": "code",
   "execution_count": null,
   "metadata": {
    "collapsed": false,
    "deletable": true,
    "editable": true
   },
   "outputs": [],
   "source": [
    "import numpy as np\n",
    "\n",
    "#from matplotlib import style\n",
    "#style.use('ggplot')\n",
    "import matplotlib.pyplot as plt\n",
    "import matplotlib.cm as cm\n",
    "import matplotlib.tri as tri\n",
    "\n",
    "from sklearn.decomposition import PCA\n",
    "\n",
    "from astropy import units as u\n",
    "from astropy.io import ascii\n",
    "\n",
    "from mmtwfs.zernike import ZernikeVector\n",
    "\n",
    "%load_ext autoreload\n",
    "%autoreload 2\n",
    "%matplotlib widget"
   ]
  },
  {
   "cell_type": "code",
   "execution_count": null,
   "metadata": {
    "collapsed": true,
    "deletable": true,
    "editable": true
   },
   "outputs": [],
   "source": [
    "ACT = 104\n",
    "NODE = 3222\n",
    "BRAD = 3228.5"
   ]
  },
  {
   "cell_type": "code",
   "execution_count": null,
   "metadata": {
    "collapsed": false,
    "deletable": true,
    "editable": true
   },
   "outputs": [],
   "source": [
    "# for each node, the influence from each actuator\n",
    "surf2act = np.fromfile(\"../mmtwfs/data/Surf2ActTEL_32.bin\", dtype=np.float32).reshape(ACT, NODE).T\n",
    "nodecoor = ascii.read(\"../mmtwfs/data/bcv_node_coordinates.dat\", names=[\"bcv_id\", \"bcv_x\", \"bcv_y\", \"bcv_z\"])\n",
    "actcoor = ascii.read(\"../mmtwfs/data/actuator_coordinates.dat\", names=[\"act_i\", \"act_x\", \"act_y\", \"act_type\"])\n",
    "actcoor.add_index(\"act_i\")\n",
    "for ax in [\"bcv_x\", \"bcv_y\"]:\n",
    "    nodecoor[ax] /= BRAD\n",
    "nodecoor['bcv_rho'] = np.sqrt(nodecoor['bcv_x']**2 + nodecoor['bcv_y']**2)\n",
    "nodecoor['bcv_phi'] = np.arctan2(nodecoor['bcv_y'], nodecoor['bcv_x'])"
   ]
  },
  {
   "cell_type": "code",
   "execution_count": null,
   "metadata": {},
   "outputs": [],
   "source": [
    "surf2act_full = np.loadtxt(\"../mmtwfs/data/Surf2ActTEL_104\").T\n",
    "act2surf = np.loadtxt(\"../mmtwfs/data/Act2SurfTEL\").T\n",
    "act2surf, surf2act_full"
   ]
  },
  {
   "cell_type": "code",
   "execution_count": null,
   "metadata": {},
   "outputs": [],
   "source": [
    "def plot_actuator_influence(act_id):\n",
    "    actuator_info = actcoor.loc[act_id]\n",
    "    actuator = actuator_info['act_i']\n",
    "    act_index = actcoor['act_i'].searchsorted(actuator)\n",
    "    fig, ax = plt.subplots()\n",
    "    fig.set_label(f\"Actuator ID: {actuator}\")\n",
    "    fvec = np.zeros(ACT)\n",
    "    fvec[act_index] = 1.0\n",
    "    ph = fvec @ act2surf\n",
    "    X, Y = nodecoor['bcv_x'].value, nodecoor['bcv_y'].value\n",
    "    triang = tri.Triangulation(X, Y)\n",
    "    # Mask off hole in center of mirror\n",
    "    triang.set_mask(\n",
    "        np.hypot(\n",
    "            X[triang.triangles].mean(axis=1),\n",
    "            Y[triang.triangles].mean(axis=1)\n",
    "        ) < np.min(nodecoor['bcv_rho'])\n",
    "    )\n",
    "    ax.set_aspect('equal')\n",
    "    vmax = np.ceil(np.max(np.abs(ph))+1)\n",
    "    vmin = -vmax+1\n",
    "    levels = np.arange(vmin, vmax)\n",
    "    tcf = ax.tricontourf(triang, ph, vmax=vmax, vmin=vmin, levels=levels, cmap=cm.RdBu)\n",
    "    ax.set_axis_off()\n",
    "    fig.colorbar(tcf, ax=ax, label='Wavefront Error (nm)')\n",
    "    ax.tricontour(triang, ph, vmax=vmax, vmin=vmin, levels=levels, colors='k')\n",
    "    xcor = actcoor['act_x']/BRAD\n",
    "    ycor = actcoor['act_y']/BRAD\n",
    "    ax.scatter(xcor, ycor, marker='.', color='black')\n",
    "    for i, (x, y) in enumerate(zip(xcor, ycor)):\n",
    "        ax.text(\n",
    "            x,\n",
    "            y + 0.02,\n",
    "            actcoor[\"act_i\"][i],\n",
    "            horizontalalignment=\"center\",\n",
    "            verticalalignment=\"bottom\",\n",
    "            size=\"xx-small\",\n",
    "            color=\"black\"\n",
    "        )\n",
    "    ax.scatter(actuator_info['act_x']/BRAD, actuator_info['act_y']/BRAD, color='lime', marker='*')\n",
    "    return fig\n",
    "\n",
    "def zernike_surface(zv=ZernikeVector()):\n",
    "    # convert to nm...\n",
    "    zv.units = u.nm\n",
    "\n",
    "    # make sure we're not Noll normalized...\n",
    "    zv.denormalize()\n",
    "\n",
    "    # need to rotate the wavefront -90 degrees to match the BCV angle convention of +Y being 0 deg.\n",
    "    zv.rotate(-90 * u.deg)\n",
    "\n",
    "    # get surface displacements at the BCV node positions. multiply the wavefront amplitude by 0.5 to account for\n",
    "    # reflection off the surface.\n",
    "    surface = (\n",
    "        -0.5 * zv.total_phase(nodecoor[\"bcv_rho\"], nodecoor[\"bcv_phi\"])\n",
    "    )\n",
    "\n",
    "    return surface.to(u.nm).value\n",
    "\n",
    "def plot_zernike_surface(zsurf):\n",
    "    fig, ax = plt.subplots()\n",
    "    fig.set_label(\"Zernike Phase Surface\")\n",
    "    X, Y = nodecoor['bcv_x'].value, nodecoor['bcv_y'].value\n",
    "    triang = tri.Triangulation(X, Y)\n",
    "    # Mask off hole in center of mirror\n",
    "    triang.set_mask(\n",
    "        np.hypot(\n",
    "            X[triang.triangles].mean(axis=1),\n",
    "            Y[triang.triangles].mean(axis=1)\n",
    "        ) < np.min(nodecoor['bcv_rho'])\n",
    "    )\n",
    "    ax.set_aspect('equal')\n",
    "    tcf = ax.tricontourf(triang, zsurf, cmap=cm.RdBu)\n",
    "    ax.set_axis_off()\n",
    "    fig.colorbar(tcf, ax=ax, label='Wavefront Error (nm)')\n",
    "    ax.tricontour(triang, zsurf, colors='k')\n",
    "    return fig"
   ]
  },
  {
   "cell_type": "code",
   "execution_count": null,
   "metadata": {},
   "outputs": [],
   "source": [
    "fig = plot_actuator_influence(43)\n"
   ]
  },
  {
   "cell_type": "code",
   "execution_count": null,
   "metadata": {},
   "outputs": [],
   "source": [
    "zv = ZernikeVector(Z05=400*u.nm)\n",
    "zsurf = zernike_surface(zv)\n",
    "fig = plot_zernike_surface(zsurf)"
   ]
  },
  {
   "cell_type": "code",
   "execution_count": null,
   "metadata": {},
   "outputs": [],
   "source": [
    "zsurf"
   ]
  },
  {
   "cell_type": "code",
   "execution_count": null,
   "metadata": {},
   "outputs": [],
   "source": [
    "act_surfaces = np.identity(ACT) @ act2surf"
   ]
  },
  {
   "cell_type": "code",
   "execution_count": null,
   "metadata": {},
   "outputs": [],
   "source": [
    "pca = PCA(n_components=16).fit(act_surfaces)"
   ]
  },
  {
   "cell_type": "code",
   "execution_count": null,
   "metadata": {},
   "outputs": [],
   "source": [
    "vr = np.cumsum(pca.explained_variance_ratio_)\n",
    "plt.figure()\n",
    "plt.plot(vr)\n",
    "plt.xlabel('number of components')\n",
    "plt.ylabel('explained variance')\n",
    "plt.show()\n",
    "vr[-1]"
   ]
  },
  {
   "cell_type": "code",
   "execution_count": null,
   "metadata": {},
   "outputs": [],
   "source": [
    "components = pca.transform([zsurf])\n",
    "filtered = pca.inverse_transform(components)\n",
    "resid = zsurf - filtered\n",
    "fig = plot_zernike_surface(resid[0])"
   ]
  },
  {
   "cell_type": "code",
   "execution_count": null,
   "metadata": {},
   "outputs": [],
   "source": [
    "inv = np.linalg.pinv(act2surf, rcond=0.005)  # Use rcond to avoid issues with singular matrices\n",
    "inv"
   ]
  },
  {
   "cell_type": "code",
   "execution_count": null,
   "metadata": {},
   "outputs": [],
   "source": [
    "inv_act = zsurf @ inv\n",
    "inv_resid = zsurf - inv_act @ act2surf"
   ]
  },
  {
   "cell_type": "code",
   "execution_count": null,
   "metadata": {},
   "outputs": [],
   "source": [
    "svd_act = zsurf @ surf2act\n",
    "svd_resid = zsurf - svd_act @ act2surf"
   ]
  },
  {
   "cell_type": "code",
   "execution_count": null,
   "metadata": {},
   "outputs": [],
   "source": [
    "fig = plot_zernike_surface(inv_resid)"
   ]
  },
  {
   "cell_type": "code",
   "execution_count": null,
   "metadata": {},
   "outputs": [],
   "source": [
    "fig = plot_zernike_surface(svd_resid)"
   ]
  },
  {
   "cell_type": "code",
   "execution_count": null,
   "metadata": {},
   "outputs": [],
   "source": [
    "np.abs(inv_act).max(), np.abs(svd_act).max()"
   ]
  },
  {
   "cell_type": "code",
   "execution_count": null,
   "metadata": {},
   "outputs": [],
   "source": []
  }
 ],
 "metadata": {
  "kernelspec": {
   "display_name": "mmtwfs",
   "language": "python",
   "name": "python3"
  },
  "language_info": {
   "codemirror_mode": {
    "name": "ipython",
    "version": 3
   },
   "file_extension": ".py",
   "mimetype": "text/x-python",
   "name": "python",
   "nbconvert_exporter": "python",
   "pygments_lexer": "ipython3",
   "version": "3.13.5"
  }
 },
 "nbformat": 4,
 "nbformat_minor": 2
}
