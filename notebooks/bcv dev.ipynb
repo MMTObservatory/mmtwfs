{
 "cells": [
  {
   "cell_type": "code",
   "execution_count": 8,
   "metadata": {
    "collapsed": false,
    "deletable": true,
    "editable": true
   },
   "outputs": [
    {
     "name": "stderr",
     "output_type": "stream",
     "text": [
      "/Users/tim/conda/envs/astroconda/lib/python3.5/site-packages/matplotlib/__init__.py:1401: UserWarning:  This call to matplotlib.use() has no effect\n",
      "because the backend has already been chosen;\n",
      "matplotlib.use() must be called *before* pylab, matplotlib.pyplot,\n",
      "or matplotlib.backends is imported for the first time.\n",
      "\n",
      "  warnings.warn(_use_error_msg)\n"
     ]
    }
   ],
   "source": [
    "import os\n",
    "import sys\n",
    "import numpy as np\n",
    "import matplotlib\n",
    "matplotlib.use('nbagg')\n",
    "#from matplotlib import style\n",
    "#style.use('ggplot')\n",
    "import matplotlib.pyplot as plt\n",
    "\n",
    "from skimage import feature\n",
    "from scipy import stats, ndimage\n",
    "from scipy.misc import factorial as fac\n",
    "\n",
    "import photutils\n",
    "\n",
    "from astropy import units as u\n",
    "from astropy import stats\n",
    "from astropy import visualization\n",
    "from astropy import coordinates\n",
    "from astropy.table import Table, vstack\n",
    "from astropy.io import ascii, fits\n",
    "from astropy.modeling import models, fitting, custom_model\n",
    "\n",
    "%load_ext autoreload\n",
    "%autoreload 2"
   ]
  },
  {
   "cell_type": "code",
   "execution_count": 2,
   "metadata": {
    "collapsed": true,
    "deletable": true,
    "editable": true
   },
   "outputs": [],
   "source": [
    "ACT = 104\n",
    "NODE = 3222\n",
    "BRAD = 3228.5"
   ]
  },
  {
   "cell_type": "code",
   "execution_count": 3,
   "metadata": {
    "collapsed": false,
    "deletable": true,
    "editable": true
   },
   "outputs": [
    {
     "data": {
      "text/plain": [
       "335088"
      ]
     },
     "execution_count": 3,
     "metadata": {},
     "output_type": "execute_result"
    }
   ],
   "source": [
    "NODE*ACT"
   ]
  },
  {
   "cell_type": "code",
   "execution_count": 4,
   "metadata": {
    "collapsed": false,
    "deletable": true,
    "editable": true
   },
   "outputs": [],
   "source": [
    "# for each node, the influence from each actuator\n",
    "surf2act = np.fromfile(\"../mmtwfs/data/Surf2ActTEL_32.bin\", dtype=np.float32).reshape(NODE, ACT)\n",
    "nodecoor = ascii.read(\"../mmtwfs/data/bcv_node_coordinates.dat\", names=[\"bcv_id\", \"bcv_x\", \"bcv_y\", \"bcv_z\"])\n",
    "actcoor = ascii.read(\"../mmtwfs/data/actuator_coordinates.dat\", names=[\"act_i\", \"act_x\", \"act_y\", \"act_type\"])\n",
    "for ax in [\"bcv_x\", \"bcv_y\"]:\n",
    "    nodecoor[ax] /= BRAD\n",
    "nodecoor['bcv_rho'] = np.sqrt(nodecoor['bcv_x']**2 + nodecoor['bcv_y']**2)\n",
    "nodecoor['bcv_phi'] = np.arctan2(nodecoor['bcv_y'], nodecoor['bcv_x'])"
   ]
  },
  {
   "cell_type": "code",
   "execution_count": 5,
   "metadata": {
    "collapsed": false,
    "deletable": true,
    "editable": true
   },
   "outputs": [],
   "source": [
    "actcoor['act_x'].unit = u.mm"
   ]
  },
  {
   "cell_type": "code",
   "execution_count": 6,
   "metadata": {
    "collapsed": false,
    "deletable": true,
    "editable": true
   },
   "outputs": [
    {
     "data": {
      "text/html": [
       "&lt;Table length=104&gt;\n",
       "<table id=\"table4810891504\" class=\"table-striped table-bordered table-condensed\">\n",
       "<thead><tr><th>act_i</th><th>act_x</th><th>act_y</th><th>act_type</th></tr></thead>\n",
       "<thead><tr><th></th><th>mm</th><th></th><th></th></tr></thead>\n",
       "<thead><tr><th>int64</th><th>float64</th><th>float64</th><th>int64</th></tr></thead>\n",
       "<tr><td>1</td><td>297.9</td><td>-3207.0</td><td>0</td></tr>\n",
       "<tr><td>2</td><td>1085.0</td><td>-3033.0</td><td>0</td></tr>\n",
       "<tr><td>3</td><td>1441.0</td><td>-2880.0</td><td>0</td></tr>\n",
       "<tr><td>4</td><td>444.0</td><td>-2883.0</td><td>0</td></tr>\n",
       "<tr><td>5</td><td>1054.0</td><td>-2787.0</td><td>0</td></tr>\n",
       "<tr><td>6</td><td>1928.0</td><td>-2573.0</td><td>0</td></tr>\n",
       "<tr><td>7</td><td>166.4</td><td>-2306.0</td><td>0</td></tr>\n",
       "<tr><td>8</td><td>776.7</td><td>-2306.0</td><td>1</td></tr>\n",
       "<tr><td>9</td><td>1442.0</td><td>-2306.0</td><td>1</td></tr>\n",
       "<tr><td>...</td><td>...</td><td>...</td><td>...</td></tr>\n",
       "<tr><td>143</td><td>-166.4</td><td>2306.0</td><td>0</td></tr>\n",
       "<tr><td>144</td><td>-776.7</td><td>2306.0</td><td>-1</td></tr>\n",
       "<tr><td>145</td><td>-1442.0</td><td>2306.0</td><td>-1</td></tr>\n",
       "<tr><td>146</td><td>-2053.0</td><td>2210.0</td><td>0</td></tr>\n",
       "<tr><td>147</td><td>-444.0</td><td>2883.0</td><td>0</td></tr>\n",
       "<tr><td>148</td><td>-1054.0</td><td>2787.0</td><td>0</td></tr>\n",
       "<tr><td>149</td><td>-1928.0</td><td>2573.0</td><td>0</td></tr>\n",
       "<tr><td>150</td><td>-297.9</td><td>3207.0</td><td>0</td></tr>\n",
       "<tr><td>151</td><td>-1085.0</td><td>3033.0</td><td>0</td></tr>\n",
       "<tr><td>152</td><td>-1441.0</td><td>2880.0</td><td>0</td></tr>\n",
       "</table>"
      ],
      "text/plain": [
       "<Table length=104>\n",
       "act_i  act_x   act_y  act_type\n",
       "         mm                   \n",
       "int64 float64 float64  int64  \n",
       "----- ------- ------- --------\n",
       "    1   297.9 -3207.0        0\n",
       "    2  1085.0 -3033.0        0\n",
       "    3  1441.0 -2880.0        0\n",
       "    4   444.0 -2883.0        0\n",
       "    5  1054.0 -2787.0        0\n",
       "    6  1928.0 -2573.0        0\n",
       "    7   166.4 -2306.0        0\n",
       "    8   776.7 -2306.0        1\n",
       "    9  1442.0 -2306.0        1\n",
       "  ...     ...     ...      ...\n",
       "  143  -166.4  2306.0        0\n",
       "  144  -776.7  2306.0       -1\n",
       "  145 -1442.0  2306.0       -1\n",
       "  146 -2053.0  2210.0        0\n",
       "  147  -444.0  2883.0        0\n",
       "  148 -1054.0  2787.0        0\n",
       "  149 -1928.0  2573.0        0\n",
       "  150  -297.9  3207.0        0\n",
       "  151 -1085.0  3033.0        0\n",
       "  152 -1441.0  2880.0        0"
      ]
     },
     "execution_count": 6,
     "metadata": {},
     "output_type": "execute_result"
    }
   ],
   "source": [
    "actcoor"
   ]
  },
  {
   "cell_type": "code",
   "execution_count": 7,
   "metadata": {
    "collapsed": true,
    "deletable": true,
    "editable": true
   },
   "outputs": [],
   "source": [
    "im = np.arange(90).reshape(9, 10)"
   ]
  },
  {
   "cell_type": "code",
   "execution_count": 8,
   "metadata": {
    "collapsed": false,
    "deletable": true,
    "editable": true
   },
   "outputs": [
    {
     "data": {
      "text/plain": [
       "array([[[ 0.,  0.,  0.,  0.,  0.,  0.,  0.,  0.,  0.,  0.],\n",
       "        [ 1.,  1.,  1.,  1.,  1.,  1.,  1.,  1.,  1.,  1.],\n",
       "        [ 2.,  2.,  2.,  2.,  2.,  2.,  2.,  2.,  2.,  2.],\n",
       "        [ 3.,  3.,  3.,  3.,  3.,  3.,  3.,  3.,  3.,  3.],\n",
       "        [ 4.,  4.,  4.,  4.,  4.,  4.,  4.,  4.,  4.,  4.],\n",
       "        [ 5.,  5.,  5.,  5.,  5.,  5.,  5.,  5.,  5.,  5.],\n",
       "        [ 6.,  6.,  6.,  6.,  6.,  6.,  6.,  6.,  6.,  6.],\n",
       "        [ 7.,  7.,  7.,  7.,  7.,  7.,  7.,  7.,  7.,  7.],\n",
       "        [ 8.,  8.,  8.,  8.,  8.,  8.,  8.,  8.,  8.,  8.]],\n",
       "\n",
       "       [[ 0.,  1.,  2.,  3.,  4.,  5.,  6.,  7.,  8.,  9.],\n",
       "        [ 0.,  1.,  2.,  3.,  4.,  5.,  6.,  7.,  8.,  9.],\n",
       "        [ 0.,  1.,  2.,  3.,  4.,  5.,  6.,  7.,  8.,  9.],\n",
       "        [ 0.,  1.,  2.,  3.,  4.,  5.,  6.,  7.,  8.,  9.],\n",
       "        [ 0.,  1.,  2.,  3.,  4.,  5.,  6.,  7.,  8.,  9.],\n",
       "        [ 0.,  1.,  2.,  3.,  4.,  5.,  6.,  7.,  8.,  9.],\n",
       "        [ 0.,  1.,  2.,  3.,  4.,  5.,  6.,  7.,  8.,  9.],\n",
       "        [ 0.,  1.,  2.,  3.,  4.,  5.,  6.,  7.,  8.,  9.],\n",
       "        [ 0.,  1.,  2.,  3.,  4.,  5.,  6.,  7.,  8.,  9.]]])"
      ]
     },
     "execution_count": 8,
     "metadata": {},
     "output_type": "execute_result"
    }
   ],
   "source": [
    "np.indices(im.shape, dtype=float)"
   ]
  },
  {
   "cell_type": "code",
   "execution_count": 9,
   "metadata": {
    "collapsed": false,
    "deletable": true,
    "editable": true
   },
   "outputs": [
    {
     "data": {
      "text/plain": [
       "array([[ 0.        ,  0.        ,  0.        ,  0.        ,  0.        ,\n",
       "         0.        ,  0.        ,  0.        ,  0.        ,  0.        ,\n",
       "         0.11111111,  0.11111111,  0.11111111,  0.11111111,  0.11111111,\n",
       "         0.11111111,  0.11111111,  0.11111111,  0.11111111,  0.11111111,\n",
       "         0.22222222,  0.22222222,  0.22222222,  0.22222222,  0.22222222,\n",
       "         0.22222222,  0.22222222,  0.22222222,  0.22222222,  0.22222222,\n",
       "         0.33333333,  0.33333333,  0.33333333,  0.33333333,  0.33333333,\n",
       "         0.33333333,  0.33333333,  0.33333333,  0.33333333,  0.33333333,\n",
       "         0.44444444,  0.44444444,  0.44444444,  0.44444444,  0.44444444,\n",
       "         0.44444444,  0.44444444,  0.44444444,  0.44444444,  0.44444444,\n",
       "         0.55555556,  0.55555556,  0.55555556,  0.55555556,  0.55555556,\n",
       "         0.55555556,  0.55555556,  0.55555556,  0.55555556,  0.55555556,\n",
       "         0.66666667,  0.66666667,  0.66666667,  0.66666667,  0.66666667,\n",
       "         0.66666667,  0.66666667,  0.66666667,  0.66666667,  0.66666667,\n",
       "         0.77777778,  0.77777778,  0.77777778,  0.77777778,  0.77777778,\n",
       "         0.77777778,  0.77777778,  0.77777778,  0.77777778,  0.77777778,\n",
       "         0.88888889,  0.88888889,  0.88888889,  0.88888889,  0.88888889,\n",
       "         0.88888889,  0.88888889,  0.88888889,  0.88888889,  0.88888889],\n",
       "       [ 0.        ,  0.1       ,  0.2       ,  0.3       ,  0.4       ,\n",
       "         0.5       ,  0.6       ,  0.7       ,  0.8       ,  0.9       ,\n",
       "         0.        ,  0.1       ,  0.2       ,  0.3       ,  0.4       ,\n",
       "         0.5       ,  0.6       ,  0.7       ,  0.8       ,  0.9       ,\n",
       "         0.        ,  0.1       ,  0.2       ,  0.3       ,  0.4       ,\n",
       "         0.5       ,  0.6       ,  0.7       ,  0.8       ,  0.9       ,\n",
       "         0.        ,  0.1       ,  0.2       ,  0.3       ,  0.4       ,\n",
       "         0.5       ,  0.6       ,  0.7       ,  0.8       ,  0.9       ,\n",
       "         0.        ,  0.1       ,  0.2       ,  0.3       ,  0.4       ,\n",
       "         0.5       ,  0.6       ,  0.7       ,  0.8       ,  0.9       ,\n",
       "         0.        ,  0.1       ,  0.2       ,  0.3       ,  0.4       ,\n",
       "         0.5       ,  0.6       ,  0.7       ,  0.8       ,  0.9       ,\n",
       "         0.        ,  0.1       ,  0.2       ,  0.3       ,  0.4       ,\n",
       "         0.5       ,  0.6       ,  0.7       ,  0.8       ,  0.9       ,\n",
       "         0.        ,  0.1       ,  0.2       ,  0.3       ,  0.4       ,\n",
       "         0.5       ,  0.6       ,  0.7       ,  0.8       ,  0.9       ,\n",
       "         0.        ,  0.1       ,  0.2       ,  0.3       ,  0.4       ,\n",
       "         0.5       ,  0.6       ,  0.7       ,  0.8       ,  0.9       ],\n",
       "       [ 1.        ,  1.        ,  1.        ,  1.        ,  1.        ,\n",
       "         1.        ,  1.        ,  1.        ,  1.        ,  1.        ,\n",
       "         1.        ,  1.        ,  1.        ,  1.        ,  1.        ,\n",
       "         1.        ,  1.        ,  1.        ,  1.        ,  1.        ,\n",
       "         1.        ,  1.        ,  1.        ,  1.        ,  1.        ,\n",
       "         1.        ,  1.        ,  1.        ,  1.        ,  1.        ,\n",
       "         1.        ,  1.        ,  1.        ,  1.        ,  1.        ,\n",
       "         1.        ,  1.        ,  1.        ,  1.        ,  1.        ,\n",
       "         1.        ,  1.        ,  1.        ,  1.        ,  1.        ,\n",
       "         1.        ,  1.        ,  1.        ,  1.        ,  1.        ,\n",
       "         1.        ,  1.        ,  1.        ,  1.        ,  1.        ,\n",
       "         1.        ,  1.        ,  1.        ,  1.        ,  1.        ,\n",
       "         1.        ,  1.        ,  1.        ,  1.        ,  1.        ,\n",
       "         1.        ,  1.        ,  1.        ,  1.        ,  1.        ,\n",
       "         1.        ,  1.        ,  1.        ,  1.        ,  1.        ,\n",
       "         1.        ,  1.        ,  1.        ,  1.        ,  1.        ,\n",
       "         1.        ,  1.        ,  1.        ,  1.        ,  1.        ,\n",
       "         1.        ,  1.        ,  1.        ,  1.        ,  1.        ]])"
      ]
     },
     "execution_count": 9,
     "metadata": {},
     "output_type": "execute_result"
    }
   ],
   "source": [
    "slopes = (np.indices(im.shape, dtype=float)/(np.r_[im.shape].reshape(-1, 1, 1))).reshape(2, -1)\n",
    "slopes = np.vstack([slopes, np.ones(slopes.shape[1])])\n",
    "slopes"
   ]
  },
  {
   "cell_type": "code",
   "execution_count": 10,
   "metadata": {
    "collapsed": false,
    "deletable": true,
    "editable": true
   },
   "outputs": [],
   "source": [
    "pinv = np.linalg.pinv(slopes)"
   ]
  },
  {
   "cell_type": "code",
   "execution_count": 11,
   "metadata": {
    "collapsed": false,
    "deletable": true,
    "editable": true
   },
   "outputs": [
    {
     "data": {
      "text/plain": [
       "array([ 90.,  10.])"
      ]
     },
     "execution_count": 11,
     "metadata": {},
     "output_type": "execute_result"
    }
   ],
   "source": [
    "np.dot(im.reshape(1, -1), pinv).ravel()[:2]"
   ]
  },
  {
   "cell_type": "code",
   "execution_count": 12,
   "metadata": {
    "collapsed": false,
    "deletable": true,
    "editable": true
   },
   "outputs": [
    {
     "data": {
      "text/plain": [
       "array([[ 0,  1,  2,  3,  4,  5,  6,  7,  8,  9],\n",
       "       [10, 11, 12, 13, 14, 15, 16, 17, 18, 19],\n",
       "       [20, 21, 22, 23, 24, 25, 26, 27, 28, 29],\n",
       "       [30, 31, 32, 33, 34, 35, 36, 37, 38, 39],\n",
       "       [40, 41, 42, 43, 44, 45, 46, 47, 48, 49],\n",
       "       [50, 51, 52, 53, 54, 55, 56, 57, 58, 59],\n",
       "       [60, 61, 62, 63, 64, 65, 66, 67, 68, 69],\n",
       "       [70, 71, 72, 73, 74, 75, 76, 77, 78, 79],\n",
       "       [80, 81, 82, 83, 84, 85, 86, 87, 88, 89]])"
      ]
     },
     "execution_count": 12,
     "metadata": {},
     "output_type": "execute_result"
    }
   ],
   "source": [
    "im"
   ]
  },
  {
   "cell_type": "code",
   "execution_count": 13,
   "metadata": {
    "collapsed": true,
    "deletable": true,
    "editable": true
   },
   "outputs": [],
   "source": [
    "import astropy.units as u"
   ]
  },
  {
   "cell_type": "code",
   "execution_count": 25,
   "metadata": {
    "collapsed": false,
    "deletable": true,
    "editable": true
   },
   "outputs": [
    {
     "data": {
      "text/latex": [
       "$\\mathrm{rad}$"
      ],
      "text/plain": [
       "Unit(\"rad\")"
      ]
     },
     "execution_count": 25,
     "metadata": {},
     "output_type": "execute_result"
    }
   ],
   "source": [
    "u.radian"
   ]
  },
  {
   "cell_type": "code",
   "execution_count": 15,
   "metadata": {
    "collapsed": false,
    "deletable": true,
    "editable": true
   },
   "outputs": [
    {
     "data": {
      "text/plain": [
       "1000000.0"
      ]
     },
     "execution_count": 15,
     "metadata": {},
     "output_type": "execute_result"
    }
   ],
   "source": [
    "a.to(u.nm).value"
   ]
  },
  {
   "cell_type": "code",
   "execution_count": 16,
   "metadata": {
    "collapsed": true,
    "deletable": true,
    "editable": true
   },
   "outputs": [],
   "source": [
    "from mmtwfs.telescope import MMT"
   ]
  },
  {
   "cell_type": "code",
   "execution_count": 26,
   "metadata": {
    "collapsed": false,
    "deletable": true,
    "editable": true
   },
   "outputs": [],
   "source": [
    "mmt = MMT()"
   ]
  },
  {
   "cell_type": "code",
   "execution_count": 27,
   "metadata": {
    "collapsed": false,
    "deletable": true,
    "editable": true
   },
   "outputs": [
    {
     "data": {
      "text/latex": [
       "$6502.4 \\; \\mathrm{mm}$"
      ],
      "text/plain": [
       "<Quantity 6502.4 mm>"
      ]
     },
     "execution_count": 27,
     "metadata": {},
     "output_type": "execute_result"
    }
   ],
   "source": [
    "mmt.diameter"
   ]
  },
  {
   "cell_type": "code",
   "execution_count": 31,
   "metadata": {
    "collapsed": false,
    "deletable": true,
    "editable": true
   },
   "outputs": [
    {
     "data": {
      "text/latex": [
       "$0.25959646 \\; \\mathrm{}$"
      ],
      "text/plain": [
       "<Quantity 0.2595964566929134>"
      ]
     },
     "execution_count": 31,
     "metadata": {},
     "output_type": "execute_result"
    }
   ],
   "source": [
    "mmt.obscuration"
   ]
  },
  {
   "cell_type": "code",
   "execution_count": 35,
   "metadata": {
    "collapsed": false,
    "deletable": true,
    "editable": true
   },
   "outputs": [
    {
     "data": {
      "text/plain": [
       "732.421875"
      ]
     },
     "execution_count": 35,
     "metadata": {},
     "output_type": "execute_result"
    }
   ],
   "source": [
    "12e6/(128*128)"
   ]
  },
  {
   "cell_type": "code",
   "execution_count": 36,
   "metadata": {
    "collapsed": false,
    "deletable": true,
    "editable": true
   },
   "outputs": [
    {
     "data": {
      "text/plain": [
       "1.1205134640897845"
      ]
     },
     "execution_count": 36,
     "metadata": {},
     "output_type": "execute_result"
    }
   ],
   "source": [
    "12e6/(4008*2672)"
   ]
  },
  {
   "cell_type": "code",
   "execution_count": 1,
   "metadata": {
    "collapsed": false,
    "deletable": true,
    "editable": true
   },
   "outputs": [
    {
     "name": "stderr",
     "output_type": "stream",
     "text": [
      "/Users/tim/conda/envs/astroconda/lib/python3.5/site-packages/pysynphot/locations.py:46: UserWarning: PYSYN_CDBS is undefined; functionality will be SEVERELY crippled.\n",
      "  warnings.warn(\"PYSYN_CDBS is undefined; functionality will be SEVERELY \"\n",
      "/Users/tim/conda/envs/astroconda/lib/python3.5/site-packages/pysynphot/locations.py:329: UserWarning: Extinction files not found in extinction\n",
      "  warnings.warn('Extinction files not found in %s' % (extdir, ))\n"
     ]
    }
   ],
   "source": [
    "import poppy"
   ]
  },
  {
   "cell_type": "code",
   "execution_count": 4,
   "metadata": {
    "collapsed": true
   },
   "outputs": [],
   "source": [
    "ap = poppy.HexagonAperture?"
   ]
  },
  {
   "cell_type": "code",
   "execution_count": 5,
   "metadata": {
    "collapsed": true
   },
   "outputs": [],
   "source": [
    "ap = poppy.HexagonAperture(side=1.0, rotation=30)"
   ]
  },
  {
   "cell_type": "code",
   "execution_count": 11,
   "metadata": {
    "collapsed": false
   },
   "outputs": [
    {
     "data": {
      "image/png": "[encoded data removed]",
      "text/plain": [
       "<matplotlib.figure.Figure at 0x1209cc828>"
      ]
     },
     "metadata": {},
     "output_type": "display_data"
    }
   ],
   "source": [
    "ap.display(colorbar=False)\n",
    "plt.show()"
   ]
  },
  {
   "cell_type": "code",
   "execution_count": 17,
   "metadata": {
    "collapsed": false
   },
   "outputs": [],
   "source": [
    "arr = ap.to_fits(npix=27)[0].data.astype(float)"
   ]
  },
  {
   "cell_type": "code",
   "execution_count": 18,
   "metadata": {
    "collapsed": false
   },
   "outputs": [
    {
     "data": {
      "image/png": "[encoded data removed]",
      "text/plain": [
       "<matplotlib.figure.Figure at 0x120cb8128>"
      ]
     },
     "metadata": {},
     "output_type": "display_data"
    }
   ],
   "source": [
    "plt.imshow(arr)\n",
    "plt.show()"
   ]
  },
  {
   "cell_type": "code",
   "execution_count": 21,
   "metadata": {
    "collapsed": true
   },
   "outputs": [],
   "source": [
    "from mmtwfs.telescope import MMT\n",
    "from mmtwfs.zernike import ZernikeVector"
   ]
  },
  {
   "cell_type": "code",
   "execution_count": 20,
   "metadata": {
    "collapsed": true
   },
   "outputs": [],
   "source": [
    "t = MMT()"
   ]
  },
  {
   "cell_type": "code",
   "execution_count": 30,
   "metadata": {
    "collapsed": true
   },
   "outputs": [],
   "source": [
    "zv = ZernikeVector(Z05=-1000)"
   ]
  },
  {
   "cell_type": "code",
   "execution_count": 31,
   "metadata": {
    "collapsed": false
   },
   "outputs": [
    {
     "data": {
      "image/png": "[encoded data removed]",
      "text/plain": [
       "<matplotlib.figure.Figure at 0x1165fc160>"
      ]
     },
     "metadata": {},
     "output_type": "display_data"
    }
   ],
   "source": [
    "zv.plot_map()\n",
    "plt.show()"
   ]
  },
  {
   "cell_type": "code",
   "execution_count": 27,
   "metadata": {
    "collapsed": false
   },
   "outputs": [
    {
     "name": "stdout",
     "output_type": "stream",
     "text": [
      "Phase Amplitude Coefficients\n",
      " Z06:    -1e+03 nm \t Primary Astig at 0˚ (2, 2)\n",
      "\n"
     ]
    }
   ],
   "source": [
    "print(zv)"
   ]
  },
  {
   "cell_type": "code",
   "execution_count": null,
   "metadata": {
    "collapsed": true
   },
   "outputs": [],
   "source": []
  }
 ],
 "metadata": {
  "kernelspec": {
   "display_name": "Python [conda env:astroconda]",
   "language": "python",
   "name": "conda-env-astroconda-py"
  },
  "language_info": {
   "codemirror_mode": {
    "name": "ipython",
    "version": 3
   },
   "file_extension": ".py",
   "mimetype": "text/x-python",
   "name": "python",
   "nbconvert_exporter": "python",
   "pygments_lexer": "ipython3",
   "version": "3.5.3"
  }
 },
 "nbformat": 4,
 "nbformat_minor": 2
}
