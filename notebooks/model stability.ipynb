{
 "cells": [
  {
   "cell_type": "code",
   "execution_count": 8,
   "metadata": {},
   "outputs": [],
   "source": [
    "import time\n",
    "from datetime import datetime\n",
    "import os\n",
    "import sys\n",
    "import numpy as np\n",
    "import ipympl\n",
    "import matplotlib\n",
    "import matplotlib.pyplot as plt\n",
    "import pandas as pd\n",
    "\n",
    "from pathlib import Path\n",
    "\n",
    "import astropy.units as u\n",
    "from astropy import stats\n",
    "from astropy.io import fits\n",
    "from mmtwfs.wfs import *\n",
    "from mmtwfs.zernike import ZernikeVector\n",
    "from mmtwfs.telescope import MMT"
   ]
  },
  {
   "cell_type": "code",
   "execution_count": 2,
   "metadata": {},
   "outputs": [
    {
     "name": "stdout",
     "output_type": "stream",
     "text": [
      "/Users/tim/MMT/wfsdat/20180209\n"
     ]
    }
   ],
   "source": [
    "%cd /Users/tim/MMT/wfsdat/20180209"
   ]
  },
  {
   "cell_type": "code",
   "execution_count": 3,
   "metadata": {},
   "outputs": [],
   "source": [
    "rootdir = Path(\".\")"
   ]
  },
  {
   "cell_type": "code",
   "execution_count": 5,
   "metadata": {},
   "outputs": [
    {
     "data": {
      "text/plain": [
       "(<Quantity 467.1909092320569 nm>, <Quantity 1000.5993478630754 nm>)"
      ]
     },
     "execution_count": 5,
     "metadata": {},
     "output_type": "execute_result"
    }
   ],
   "source": [
    "z = ZernikeVector()q\n",
    "z.load(\"wfs_ff_cal_img_2018.0209.033646.zernike\")\n",
    "zz = ZernikeVector(modestart=23, **z.coeffs)\n",
    "zz.rms, z.rms"
   ]
  },
  {
   "cell_type": "code",
   "execution_count": 41,
   "metadata": {},
   "outputs": [],
   "source": [
    "files = sorted(list(rootdir.glob(\"wfs_*.fits\")))\n",
    "ngood = 0\n",
    "dataframes = []\n",
    "norm_dataframes = []\n",
    "for f in files:\n",
    "    full_zern = str(f.stem) + \".zernike\"\n",
    "    dtime = datetime.strptime(f.stem, \"wfs_ff_cal_img_%Y.%m%d.%H%M%S\")\n",
    "    if Path(full_zern).exists():\n",
    "        zv = ZernikeVector()\n",
    "        zv.load(full_zern)\n",
    "        norm_zv = zv.copy()\n",
    "        norm_zv.normalize()\n",
    "        df_zv = pd.DataFrame(zv.coeffs, index=[1])\n",
    "        df_norm = pd.DataFrame(norm_zv.coeffs, index=[1])\n",
    "        df_zv['time'] = dtime\n",
    "        df_norm['time'] = dtime\n",
    "        df_zv['rms'] = zv.rms\n",
    "        df_norm['rms'] = norm_zv.rms\n",
    "        dataframes.append(df_zv)\n",
    "        norm_dataframes.append(df_norm)\n"
   ]
  },
  {
   "cell_type": "code",
   "execution_count": 81,
   "metadata": {},
   "outputs": [],
   "source": [
    "zdf = pd.concat(dataframes)\n",
    "zdf_norm = pd.concat(norm_dataframes)\n",
    "\n",
    "# create a date-time index so we can group and analyze the data by timestamps\n",
    "zdf = zdf.set_index(pd.DatetimeIndex(zdf['time'], name='ut'))\n",
    "zdf_norm = zdf_norm.set_index(pd.DatetimeIndex(zdf_norm['time'], name='ut'))\n",
    "zdf_trim = zdf[zdf['rms'] < 500.]"
   ]
  },
  {
   "cell_type": "code",
   "execution_count": 85,
   "metadata": {},
   "outputs": [
    {
     "name": "stderr",
     "output_type": "stream",
     "text": [
      "/Users/tim/conda/envs/py36/lib/python3.6/site-packages/matplotlib/__init__.py:942: MatplotlibDeprecationWarning: nbagg.transparent is deprecated and ignored. Use figure.facecolor instead.\n",
      "  mplDeprecation)\n"
     ]
    },
    {
     "data": {
      "application/vnd.jupyter.widget-view+json": {
       "model_id": "4d36d6b3bf0e4b65bb5cecc00f80e21e",
       "version_major": 2,
       "version_minor": 0
      },
      "text/plain": [
       "FigureCanvasNbAgg()"
      ]
     },
     "metadata": {},
     "output_type": "display_data"
    }
   ],
   "source": [
    "plt.close('all')\n",
    "zdf_trim.plot(y='Z05')\n",
    "plt.show()"
   ]
  },
  {
   "cell_type": "code",
   "execution_count": null,
   "metadata": {},
   "outputs": [],
   "source": []
  }
 ],
 "metadata": {
  "kernelspec": {
   "display_name": "Python 3",
   "language": "python",
   "name": "python3"
  },
  "language_info": {
   "codemirror_mode": {
    "name": "ipython",
    "version": 3
   },
   "file_extension": ".py",
   "mimetype": "text/x-python",
   "name": "python",
   "nbconvert_exporter": "python",
   "pygments_lexer": "ipython3",
   "version": "3.6.6"
  }
 },
 "nbformat": 4,
 "nbformat_minor": 2
}
