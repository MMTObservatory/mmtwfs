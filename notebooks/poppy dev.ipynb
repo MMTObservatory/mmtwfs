{
 "cells": [
  {
   "cell_type": "code",
   "execution_count": 1,
   "metadata": {
    "collapsed": false
   },
   "outputs": [],
   "source": [
    "import warnings\n",
    "import numpy as np\n",
    "\n",
    "import astropy.units as u\n",
    "\n",
    "%load_ext autoreload\n",
    "%autoreload 2\n",
    "\n",
    "with warnings.catch_warnings():\n",
    "    warnings.simplefilter(\"ignore\")\n",
    "    import poppy\n",
    "    import matplotlib\n",
    "    matplotlib.use('nbagg')\n",
    "    #from matplotlib import style\n",
    "    #style.use('ggplot')\n",
    "    import matplotlib.pyplot as plt"
   ]
  },
  {
   "cell_type": "code",
   "execution_count": 8,
   "metadata": {
    "collapsed": false
   },
   "outputs": [
    {
     "data": {
      "image/png": "[encoded data removed]",
      "text/plain": [
       "<matplotlib.figure.Figure at 0x114db8470>"
      ]
     },
     "metadata": {},
     "output_type": "display_data"
    }
   ],
   "source": [
    "osys = poppy.OpticalSystem()\n",
    "primary = poppy.CircularAperture(radius=3.2285 * u.m)\n",
    "secondary = poppy.SecondaryObscuration(secondary_radius=0.5, n_supports=4, support_width=0.12, support_angle_offset=45.)\n",
    "mmt = poppy.CompoundAnalyticOptic(opticslist=[primary, secondary], name=\"MMTO\")\n",
    "plt.figure(figsize=(12,8))\n",
    "mmt.display(npix=1024, colorbar_orientation='vertical')\n",
    "\n",
    "plt.show()"
   ]
  },
  {
   "cell_type": "code",
   "execution_count": 5,
   "metadata": {
    "collapsed": false
   },
   "outputs": [
    {
     "data": {
      "image/png": "[encoded data removed]",
      "text/plain": [
       "<matplotlib.figure.Figure at 0x115c312b0>"
      ]
     },
     "metadata": {},
     "output_type": "display_data"
    }
   ],
   "source": [
    "im = mmt.to_fits(npix=400)[0].data\n",
    "plt.imshow(im)\n",
    "plt.show()"
   ]
  },
  {
   "cell_type": "code",
   "execution_count": null,
   "metadata": {
    "collapsed": false
   },
   "outputs": [],
   "source": [
    "a = 15 * u.mm\n",
    "a.to(u.m)"
   ]
  },
  {
   "cell_type": "code",
   "execution_count": null,
   "metadata": {
    "collapsed": false
   },
   "outputs": [],
   "source": [
    "osys = poppy.OpticalSystem()\n",
    "coeffs = [0, 0, 0, 550e-9, 90e-9, -1e-9 , 1e-9, 1e-9, -1e-9, 5e-9, 0.0, 5e-9]\n",
    "osys.add_pupil(mmt)\n",
    "wfe = poppy.ZernikeWFE(radius=3.2285, coefficients=coeffs)\n",
    "osys.add_pupil(wfe)\n",
    "osys.add_detector(pixelscale=0.01, fov_arcsec=1.0)\n",
    "\n",
    "psf = osys.calc_psf(5.5e-7)\n",
    "poppy.display_psf(psf, scale='linear', title=\"MMT\", normalize='peak', vmin=1.0e-5, vmax=1.0, cmap='viridis')\n",
    "plt.show()"
   ]
  },
  {
   "cell_type": "code",
   "execution_count": null,
   "metadata": {
    "collapsed": false
   },
   "outputs": [],
   "source": [
    "osys.calc_psf?"
   ]
  },
  {
   "cell_type": "code",
   "execution_count": null,
   "metadata": {
    "collapsed": true
   },
   "outputs": [],
   "source": [
    "from mmtwfs.telescope import MMT\n",
    "from mmtwfs.zernike import ZernikeVector"
   ]
  },
  {
   "cell_type": "code",
   "execution_count": null,
   "metadata": {
    "collapsed": true
   },
   "outputs": [],
   "source": [
    "t = MMT()"
   ]
  },
  {
   "cell_type": "code",
   "execution_count": null,
   "metadata": {
    "collapsed": false
   },
   "outputs": [],
   "source": [
    "t.pupil.display(npix=1024)\n",
    "plt.show()"
   ]
  },
  {
   "cell_type": "code",
   "execution_count": null,
   "metadata": {
    "collapsed": false
   },
   "outputs": [],
   "source": [
    "z = ZernikeVector(Z02=25000, Z04=3000*u.nm)\n",
    "\n",
    "psf = t.psf(z, fov=5)\n",
    "poppy.display_psf(psf, scale='linear', title=\"MMT\", normalize='peak', vmin=1.0e-5, vmax=1.0, cmap='viridis')\n",
    "plt.show()"
   ]
  },
  {
   "cell_type": "code",
   "execution_count": null,
   "metadata": {
    "collapsed": false
   },
   "outputs": [],
   "source": [
    "z = ZernikeVector(Z04=3000*u.nm)\n",
    "\n",
    "psf = t.psf(z, fov=5)\n",
    "poppy.display_psf(psf, scale='linear', title=\"MMT\", normalize='peak', vmin=1.0e-5, vmax=1.0, cmap='viridis')\n",
    "plt.show()"
   ]
  },
  {
   "cell_type": "code",
   "execution_count": null,
   "metadata": {
    "collapsed": true
   },
   "outputs": [],
   "source": []
  }
 ],
 "metadata": {
  "kernelspec": {
   "display_name": "Python [conda env:astroconda]",
   "language": "python",
   "name": "conda-env-astroconda-py"
  },
  "language_info": {
   "codemirror_mode": {
    "name": "ipython",
    "version": 3
   },
   "file_extension": ".py",
   "mimetype": "text/x-python",
   "name": "python",
   "nbconvert_exporter": "python",
   "pygments_lexer": "ipython3",
   "version": "3.5.3"
  }
 },
 "nbformat": 4,
 "nbformat_minor": 2
}
