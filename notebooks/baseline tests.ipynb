{
 "cells": [
  {
   "cell_type": "code",
   "execution_count": 1,
   "metadata": {},
   "outputs": [],
   "source": [
    "import time\n",
    "import os\n",
    "import sys\n",
    "import numpy as np\n",
    "import ipympl\n",
    "import matplotlib\n",
    "#matplotlib.use('nbagg')\n",
    "#from matplotlib import style\n",
    "#style.use('ggplot')\n",
    "import matplotlib.pyplot as plt\n",
    "\n",
    "import astropy.units as u\n",
    "from astropy import stats\n",
    "from astropy.io import fits\n",
    "from mmtwfs.wfs import *\n",
    "from mmtwfs.zernike import ZernikeVector\n",
    "from mmtwfs.telescope import MMT"
   ]
  },
  {
   "cell_type": "code",
   "execution_count": 2,
   "metadata": {},
   "outputs": [
    {
     "name": "stdout",
     "output_type": "stream",
     "text": [
      "/Users/tim/MMT/wfsdat/20180201\n"
     ]
    }
   ],
   "source": [
    "%cd /Users/tim/MMT/wfsdat/20180201"
   ]
  },
  {
   "cell_type": "code",
   "execution_count": 3,
   "metadata": {},
   "outputs": [
    {
     "name": "stdout",
     "output_type": "stream",
     "text": [
      "f9wfs_20180131-190219.fits.zernike  f9wfs_20180131-192541.fits.zernike\n",
      "f9wfs_20180131-190336.fits.zernike  f9wfs_20180131-192731.fits.zernike\n",
      "f9wfs_20180131-190443.fits.zernike  f9wfs_20180131-192927.fits.zernike\n",
      "f9wfs_20180131-190620.fits.zernike  f9wfs_20180131-193109.fits.zernike\n",
      "f9wfs_20180131-190736.fits.zernike  f9wfs_20180131-193325.fits.zernike\n",
      "f9wfs_20180131-190910.fits.zernike  f9wfs_20180131-193509.fits.zernike\n",
      "f9wfs_20180131-191110.fits.zernike  f9wfs_20180131-193702.fits.zernike\n",
      "f9wfs_20180131-191321.fits.zernike  f9wfs_20180131-193901.fits.zernike\n",
      "f9wfs_20180131-191546.fits.zernike  f9wfs_20180131-194155.fits.zernike\n",
      "f9wfs_20180131-191734.fits.zernike  f9wfs_20180131-194349.fits.zernike\n",
      "f9wfs_20180131-191925.fits.zernike  f9wfs_20180131-194553.fits.zernike\n",
      "f9wfs_20180131-192131.fits.zernike  f9wfs_20180131-194806.fits.zernike\n",
      "f9wfs_20180131-192350.fits.zernike\n"
     ]
    }
   ],
   "source": [
    "%ls *.fits.zernike"
   ]
  },
  {
   "cell_type": "code",
   "execution_count": 4,
   "metadata": {},
   "outputs": [
    {
     "data": {
      "text/plain": [
       "f9wfs_20180131-191734.fits - 60 sec baseline after applying all M2 corrections\n",
       "f9wfs_20180131-191925.fits - 60 sec baseline after applying all M2 corrections\n",
       "f9wfs_20180131-192131.fits - 60 sec baseline after applying all M2 corrections\n",
       "f9wfs_20180131-192350.fits - cleared forces from M1\n",
       "f9wfs_20180131-192541.fits - \"\n",
       "f9wfs_20180131-192731.fits - \"\n",
       "f9wfs_20180131-192927.fits - apply null force set\n",
       "f9wfs_20180131-193109.fits - \"\n",
       "f9wfs_20180131-193325.fits - \"\n",
       "f9wfs_20180131-193509.fits - \"\n",
       "f9wfs_20180131-193702.fits - clear forces\n",
       "f9wfs_20180131-193901.fits - apply null forces\n"
      ]
     },
     "metadata": {},
     "output_type": "display_data"
    }
   ],
   "source": [
    "%more notes"
   ]
  },
  {
   "cell_type": "code",
   "execution_count": 5,
   "metadata": {},
   "outputs": [],
   "source": [
    "baseline1_files = [\"f9wfs_20180131-191734.fits\", \"f9wfs_20180131-191925.fits\", \"f9wfs_20180131-192131.fits\"]\n",
    "baseline2_files = [\"f9wfs_20180131-192350.fits\", \"f9wfs_20180131-192541.fits\", \"f9wfs_20180131-192731.fits\"]\n",
    "baseline3_files = [\n",
    "    \"f9wfs_20180131-192927.fits\", \"f9wfs_20180131-193109.fits\", \n",
    "    \"f9wfs_20180131-193325.fits\", \"f9wfs_20180131-193509.fits\"\n",
    "]"
   ]
  },
  {
   "cell_type": "code",
   "execution_count": 7,
   "metadata": {},
   "outputs": [
    {
     "name": "stderr",
     "output_type": "stream",
     "text": [
      "/Users/tim/conda/envs/py36/lib/python3.6/site-packages/matplotlib/__init__.py:942: MatplotlibDeprecationWarning: nbagg.transparent is deprecated and ignored. Use figure.facecolor instead.\n",
      "  mplDeprecation)\n"
     ]
    }
   ],
   "source": [
    "plt.close('all')\n",
    "f9wfs = WFSFactory(wfs=\"newf9\", nzern=37)"
   ]
  },
  {
   "cell_type": "code",
   "execution_count": 8,
   "metadata": {},
   "outputs": [
    {
     "name": "stderr",
     "output_type": "stream",
     "text": [
      "/Users/tim/conda/envs/py36/lib/python3.6/site-packages/matplotlib/__init__.py:942: MatplotlibDeprecationWarning: nbagg.transparent is deprecated and ignored. Use figure.facecolor instead.\n",
      "  mplDeprecation)\n",
      "/Users/tim/conda/envs/py36/lib/python3.6/site-packages/matplotlib/__init__.py:942: MatplotlibDeprecationWarning: nbagg.transparent is deprecated and ignored. Use figure.facecolor instead.\n",
      "  mplDeprecation)\n",
      "/Users/tim/conda/envs/py36/lib/python3.6/site-packages/matplotlib/__init__.py:942: MatplotlibDeprecationWarning: nbagg.transparent is deprecated and ignored. Use figure.facecolor instead.\n",
      "  mplDeprecation)\n",
      "/Users/tim/conda/envs/py36/lib/python3.6/site-packages/matplotlib/__init__.py:942: MatplotlibDeprecationWarning: nbagg.transparent is deprecated and ignored. Use figure.facecolor instead.\n",
      "  mplDeprecation)\n",
      "/Users/tim/conda/envs/py36/lib/python3.6/site-packages/matplotlib/__init__.py:942: MatplotlibDeprecationWarning: nbagg.transparent is deprecated and ignored. Use figure.facecolor instead.\n",
      "  mplDeprecation)\n",
      "/Users/tim/conda/envs/py36/lib/python3.6/site-packages/matplotlib/__init__.py:942: MatplotlibDeprecationWarning: nbagg.transparent is deprecated and ignored. Use figure.facecolor instead.\n",
      "  mplDeprecation)\n",
      "/Users/tim/conda/envs/py36/lib/python3.6/site-packages/matplotlib/pyplot.py:537: RuntimeWarning: More than 20 figures have been opened. Figures created through the pyplot interface (`matplotlib.pyplot.figure`) are retained until explicitly closed and may consume too much memory. (To control this warning, see the rcParam `figure.max_open_warning`).\n",
      "  max_open_warning, RuntimeWarning)\n",
      "/Users/tim/conda/envs/py36/lib/python3.6/site-packages/matplotlib/pyplot.py:537: RuntimeWarning: More than 20 figures have been opened. Figures created through the pyplot interface (`matplotlib.pyplot.figure`) are retained until explicitly closed and may consume too much memory. (To control this warning, see the rcParam `figure.max_open_warning`).\n",
      "  max_open_warning, RuntimeWarning)\n",
      "/Users/tim/conda/envs/py36/lib/python3.6/site-packages/matplotlib/__init__.py:942: MatplotlibDeprecationWarning: nbagg.transparent is deprecated and ignored. Use figure.facecolor instead.\n",
      "  mplDeprecation)\n",
      "/Users/tim/conda/envs/py36/lib/python3.6/site-packages/matplotlib/pyplot.py:537: RuntimeWarning: More than 20 figures have been opened. Figures created through the pyplot interface (`matplotlib.pyplot.figure`) are retained until explicitly closed and may consume too much memory. (To control this warning, see the rcParam `figure.max_open_warning`).\n",
      "  max_open_warning, RuntimeWarning)\n",
      "/Users/tim/conda/envs/py36/lib/python3.6/site-packages/matplotlib/__init__.py:942: MatplotlibDeprecationWarning: nbagg.transparent is deprecated and ignored. Use figure.facecolor instead.\n",
      "  mplDeprecation)\n",
      "/Users/tim/conda/envs/py36/lib/python3.6/site-packages/matplotlib/pyplot.py:537: RuntimeWarning: More than 20 figures have been opened. Figures created through the pyplot interface (`matplotlib.pyplot.figure`) are retained until explicitly closed and may consume too much memory. (To control this warning, see the rcParam `figure.max_open_warning`).\n",
      "  max_open_warning, RuntimeWarning)\n",
      "/Users/tim/conda/envs/py36/lib/python3.6/site-packages/matplotlib/__init__.py:942: MatplotlibDeprecationWarning: nbagg.transparent is deprecated and ignored. Use figure.facecolor instead.\n",
      "  mplDeprecation)\n",
      "/Users/tim/conda/envs/py36/lib/python3.6/site-packages/matplotlib/pyplot.py:537: RuntimeWarning: More than 20 figures have been opened. Figures created through the pyplot interface (`matplotlib.pyplot.figure`) are retained until explicitly closed and may consume too much memory. (To control this warning, see the rcParam `figure.max_open_warning`).\n",
      "  max_open_warning, RuntimeWarning)\n",
      "/Users/tim/conda/envs/py36/lib/python3.6/site-packages/matplotlib/__init__.py:942: MatplotlibDeprecationWarning: nbagg.transparent is deprecated and ignored. Use figure.facecolor instead.\n",
      "  mplDeprecation)\n",
      "/Users/tim/conda/envs/py36/lib/python3.6/site-packages/matplotlib/pyplot.py:537: RuntimeWarning: More than 20 figures have been opened. Figures created through the pyplot interface (`matplotlib.pyplot.figure`) are retained until explicitly closed and may consume too much memory. (To control this warning, see the rcParam `figure.max_open_warning`).\n",
      "  max_open_warning, RuntimeWarning)\n",
      "/Users/tim/conda/envs/py36/lib/python3.6/site-packages/matplotlib/__init__.py:942: MatplotlibDeprecationWarning: nbagg.transparent is deprecated and ignored. Use figure.facecolor instead.\n",
      "  mplDeprecation)\n"
     ]
    }
   ],
   "source": [
    "baseline1 = []\n",
    "for f in baseline1_files:\n",
    "    results = f9wfs.measure_slopes(f, 'blue', plot=True)\n",
    "    zresults = f9wfs.fit_wavefront(results, plot=True)\n",
    "    baseline1.append(zresults)\n",
    "baseline2 = []\n",
    "for f in baseline2_files:\n",
    "    results = f9wfs.measure_slopes(f, 'blue', plot=True)\n",
    "    zresults = f9wfs.fit_wavefront(results, plot=True)\n",
    "    baseline2.append(zresults)\n",
    "baseline3 = []\n",
    "for f in baseline3_files:\n",
    "    results = f9wfs.measure_slopes(f, 'blue', plot=True)\n",
    "    zresults = f9wfs.fit_wavefront(results, plot=True)\n",
    "    baseline3.append(zresults)"
   ]
  },
  {
   "cell_type": "code",
   "execution_count": 9,
   "metadata": {},
   "outputs": [
    {
     "name": "stderr",
     "output_type": "stream",
     "text": [
      "/Users/tim/conda/envs/py36/lib/python3.6/site-packages/matplotlib/pyplot.py:537: RuntimeWarning: More than 20 figures have been opened. Figures created through the pyplot interface (`matplotlib.pyplot.figure`) are retained until explicitly closed and may consume too much memory. (To control this warning, see the rcParam `figure.max_open_warning`).\n",
      "  max_open_warning, RuntimeWarning)\n",
      "/Users/tim/conda/envs/py36/lib/python3.6/site-packages/matplotlib/__init__.py:942: MatplotlibDeprecationWarning: nbagg.transparent is deprecated and ignored. Use figure.facecolor instead.\n",
      "  mplDeprecation)\n"
     ]
    },
    {
     "data": {
      "application/vnd.jupyter.widget-view+json": {
       "model_id": "b04c773725fa4da1b8d1cd04684f1c46",
       "version_major": 2,
       "version_minor": 0
      },
      "text/html": [
       "<p>Failed to display Jupyter Widget of type <code>FigureCanvasNbAgg</code>.</p>\n",
       "<p>\n",
       "  If you're reading this message in the Jupyter Notebook or JupyterLab Notebook, it may mean\n",
       "  that the widgets JavaScript is still loading. If this message persists, it\n",
       "  likely means that the widgets JavaScript library is either not installed or\n",
       "  not enabled. See the <a href=\"https://ipywidgets.readthedocs.io/en/stable/user_install.html\">Jupyter\n",
       "  Widgets Documentation</a> for setup instructions.\n",
       "</p>\n",
       "<p>\n",
       "  If you're reading this message in another frontend (for example, a static\n",
       "  rendering on GitHub or <a href=\"https://nbviewer.jupyter.org/\">NBViewer</a>),\n",
       "  it may mean that your frontend doesn't currently support widgets.\n",
       "</p>\n"
      ],
      "text/plain": [
       "FigureCanvasNbAgg()"
      ]
     },
     "metadata": {},
     "output_type": "display_data"
    }
   ],
   "source": [
    "baseline3[0]['zernike'].fringe_bar_chart().show()"
   ]
  },
  {
   "cell_type": "code",
   "execution_count": 10,
   "metadata": {},
   "outputs": [],
   "source": [
    "rms = []\n",
    "mean = []\n",
    "for baseline in [baseline1, baseline2, baseline3]:\n",
    "    baseline_mean = ZernikeVector()\n",
    "    for z in baseline:\n",
    "        baseline_mean += z['zernike']\n",
    "    baseline_mean /= len(baseline)\n",
    "    baseline_rms = ZernikeVector()**2\n",
    "    for z in baseline:\n",
    "        baseline_rms += (z['zernike'] - baseline_mean)**2\n",
    "    baseline_rms = baseline_rms**0.5\n",
    "    rms.append(baseline_rms)\n",
    "    mean.append(baseline_mean)"
   ]
  },
  {
   "cell_type": "code",
   "execution_count": 11,
   "metadata": {},
   "outputs": [
    {
     "data": {
      "text/plain": [
       "Fringe Coefficients\n",
       " Z02:       554 nm \t X Tilt (1, 1)\n",
       " Z03:       494 nm \t Y Tilt (1, -1)\n",
       " Z04:       944 nm \t Defocus (2, 0)\n",
       " Z05:       623 nm \t Primary Astig at 45° (2, -2)\n",
       " Z06:       290 nm \t Primary Astig at 0° (2, 2)\n",
       " Z07:       347 nm \t Primary Y Coma (3, -1)\n",
       " Z08:       370 nm \t Primary X Coma (3, 1)\n",
       " Z09:       371 nm \t Y Trefoil (3, -3)\n",
       " Z10:       164 nm \t X Trefoil (3, 3)\n",
       " Z11:       287 nm \t Primary Spherical (4, 0)\n",
       " Z12:       189 nm \t Secondary Astigmatism at 0° (4, 2)\n",
       " Z13:       342 nm \t Secondary Astigmatism at 45° (4, -2)\n",
       " Z14:       232 nm \t X Tetrafoil (4, 4)\n",
       " Z15:       371 nm \t Y Tetrafoil (4, -4)\n",
       " Z16:       664 nm \t Secondary X Coma (5, 1)\n",
       " Z17:       367 nm \t Secondary Y Coma (5, -1)\n",
       " Z18:       287 nm \t Secondary X Trefoil (5, 3)\n",
       " Z19:       580 nm \t Secondary Y Trefoil (5, -3)\n",
       " Z20:      91.6 nm \t X Pentafoil (5, 5)\n",
       " Z21:       334 nm \t Y Pentafoil (5, -5)\n",
       " Z22:       263 nm \t Secondary Spherical (6, 0)\n",
       " Z23:       532 nm \t Tertiary Astigmatism at 45° (6, -2)\n",
       " Z24:       311 nm \t Tertiary Astigmatism at 0° (6, 2)\n",
       " Z25:       252 nm \t Secondary X Trefoil (6, -4)\n",
       " Z26:       265 nm \t Secondary Y Trefoil (6, 4)\n",
       " Z27:       212 nm \t Y Hexafoil (6, -6)\n",
       " Z28:       246 nm \t X Hexafoil (6, 6)\n",
       " Z29:       189 nm \t Tertiary Y Coma (7, -1)\n",
       " Z30:       294 nm \t Tertiary X Coma (7, 1)\n",
       " Z31:       374 nm \t Tertiary Y Trefoil (7, -3)\n",
       " Z32:       275 nm \t Tertiary X Trefoil (7, 3)\n",
       " Z33:       283 nm \t Secondary Y Pentafoil (7, -5)\n",
       " Z34:       339 nm \t Secondary X Pentafoil (7, 5)\n",
       " Z35:       214 nm \t Y Heptafoil (7, -7)\n",
       " Z36:       427 nm \t X Heptafoil (7, 7)\n",
       " Z37:       129 nm \t Tertiary Spherical (8, 0)\n",
       " Z38:    0.0234 nm\n",
       " Z39:      88.4 nm\n",
       "\n",
       "Total RMS: \t \t 822 nm"
      ]
     },
     "execution_count": 11,
     "metadata": {},
     "output_type": "execute_result"
    }
   ],
   "source": [
    "rms[2]"
   ]
  },
  {
   "cell_type": "code",
   "execution_count": 8,
   "metadata": {},
   "outputs": [],
   "source": [
    "plt.close('all')"
   ]
  },
  {
   "cell_type": "code",
   "execution_count": null,
   "metadata": {},
   "outputs": [],
   "source": []
  }
 ],
 "metadata": {
  "kernelspec": {
   "display_name": "Python 3",
   "language": "python",
   "name": "python3"
  },
  "language_info": {
   "codemirror_mode": {
    "name": "ipython",
    "version": 3
   },
   "file_extension": ".py",
   "mimetype": "text/x-python",
   "name": "python",
   "nbconvert_exporter": "python",
   "pygments_lexer": "ipython3",
   "version": "3.6.5"
  }
 },
 "nbformat": 4,
 "nbformat_minor": 2
}
