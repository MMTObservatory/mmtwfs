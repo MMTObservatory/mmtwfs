{
 "cells": [
  {
   "cell_type": "code",
   "execution_count": 2,
   "metadata": {},
   "outputs": [],
   "source": [
    "import time\n",
    "import os\n",
    "import sys\n",
    "import numpy as np\n",
    "import ipympl\n",
    "import matplotlib\n",
    "#matplotlib.use('nbagg')\n",
    "#from matplotlib import style\n",
    "#style.use('ggplot')\n",
    "import matplotlib.pyplot as plt\n",
    "\n",
    "import astropy.units as u\n",
    "from astropy import stats\n",
    "from astropy.io import fits\n",
    "from mmtwfs.wfs import *\n",
    "from mmtwfs.zernike import ZernikeVector\n",
    "from mmtwfs.telescope import MMT"
   ]
  },
  {
   "cell_type": "code",
   "execution_count": 3,
   "metadata": {},
   "outputs": [
    {
     "name": "stdout",
     "output_type": "stream",
     "text": [
      "/Users/tim/MMT/wfsdat/20180201\n"
     ]
    }
   ],
   "source": [
    "%cd /Users/tim/MMT/wfsdat/20180201"
   ]
  },
  {
   "cell_type": "code",
   "execution_count": 4,
   "metadata": {},
   "outputs": [
    {
     "name": "stdout",
     "output_type": "stream",
     "text": [
      "f9wfs_20180131-190219.fits.zernike  f9wfs_20180131-192541.fits.zernike\n",
      "f9wfs_20180131-190336.fits.zernike  f9wfs_20180131-192731.fits.zernike\n",
      "f9wfs_20180131-190443.fits.zernike  f9wfs_20180131-192927.fits.zernike\n",
      "f9wfs_20180131-190620.fits.zernike  f9wfs_20180131-193109.fits.zernike\n",
      "f9wfs_20180131-190736.fits.zernike  f9wfs_20180131-193325.fits.zernike\n",
      "f9wfs_20180131-190910.fits.zernike  f9wfs_20180131-193509.fits.zernike\n",
      "f9wfs_20180131-191110.fits.zernike  f9wfs_20180131-193702.fits.zernike\n",
      "f9wfs_20180131-191321.fits.zernike  f9wfs_20180131-193901.fits.zernike\n",
      "f9wfs_20180131-191546.fits.zernike  f9wfs_20180131-194155.fits.zernike\n",
      "f9wfs_20180131-191734.fits.zernike  f9wfs_20180131-194349.fits.zernike\n",
      "f9wfs_20180131-191925.fits.zernike  f9wfs_20180131-194553.fits.zernike\n",
      "f9wfs_20180131-192131.fits.zernike  f9wfs_20180131-194806.fits.zernike\n",
      "f9wfs_20180131-192350.fits.zernike\n"
     ]
    }
   ],
   "source": [
    "%ls *.fits.zernike"
   ]
  },
  {
   "cell_type": "code",
   "execution_count": 5,
   "metadata": {},
   "outputs": [
    {
     "data": {
      "text/plain": [
       "f9wfs_20180131-191734.fits - 60 sec baseline after applying all M2 corrections\n",
       "f9wfs_20180131-191925.fits - 60 sec baseline after applying all M2 corrections\n",
       "f9wfs_20180131-192131.fits - 60 sec baseline after applying all M2 corrections\n",
       "f9wfs_20180131-192350.fits - cleared forces from M1\n",
       "f9wfs_20180131-192541.fits - \"\n",
       "f9wfs_20180131-192731.fits - \"\n",
       "f9wfs_20180131-192927.fits - apply null force set\n",
       "f9wfs_20180131-193109.fits - \"\n",
       "f9wfs_20180131-193325.fits - \"\n",
       "f9wfs_20180131-193509.fits - \"\n",
       "f9wfs_20180131-193702.fits - clear forces\n",
       "f9wfs_20180131-193901.fits - apply null forces\n"
      ]
     },
     "metadata": {},
     "output_type": "display_data"
    }
   ],
   "source": [
    "%more notes"
   ]
  },
  {
   "cell_type": "code",
   "execution_count": 14,
   "metadata": {},
   "outputs": [],
   "source": [
    "baseline1_files = [\"f9wfs_20180131-191734.fits\", \"f9wfs_20180131-191925.fits\", \"f9wfs_20180131-192131.fits\"]\n",
    "baseline2_files = [\"f9wfs_20180131-192350.fits\", \"f9wfs_20180131-192541.fits\", \"f9wfs_20180131-192731.fits\"]\n",
    "baseline3_files = [\n",
    "    \"f9wfs_20180131-192927.fits\", \"f9wfs_20180131-193109.fits\", \n",
    "    \"f9wfs_20180131-193325.fits\", \"f9wfs_20180131-193509.fits\"\n",
    "]"
   ]
  },
  {
   "cell_type": "code",
   "execution_count": 15,
   "metadata": {},
   "outputs": [],
   "source": [
    "plt.close('all')\n",
    "f9wfs = WFSFactory(wfs=\"newf9\", nzern=75)"
   ]
  },
  {
   "cell_type": "code",
   "execution_count": 16,
   "metadata": {},
   "outputs": [
    {
     "name": "stderr",
     "output_type": "stream",
     "text": [
      "/Users/tim/conda/envs/py36/lib/python3.6/site-packages/matplotlib/pyplot.py:528: RuntimeWarning: More than 20 figures have been opened. Figures created through the pyplot interface (`matplotlib.pyplot.figure`) are retained until explicitly closed and may consume too much memory. (To control this warning, see the rcParam `figure.max_open_warning`).\n",
      "  max_open_warning, RuntimeWarning)\n",
      "/Users/tim/conda/envs/py36/lib/python3.6/site-packages/matplotlib/pyplot.py:528: RuntimeWarning: More than 20 figures have been opened. Figures created through the pyplot interface (`matplotlib.pyplot.figure`) are retained until explicitly closed and may consume too much memory. (To control this warning, see the rcParam `figure.max_open_warning`).\n",
      "  max_open_warning, RuntimeWarning)\n",
      "/Users/tim/conda/envs/py36/lib/python3.6/site-packages/matplotlib/pyplot.py:528: RuntimeWarning: More than 20 figures have been opened. Figures created through the pyplot interface (`matplotlib.pyplot.figure`) are retained until explicitly closed and may consume too much memory. (To control this warning, see the rcParam `figure.max_open_warning`).\n",
      "  max_open_warning, RuntimeWarning)\n",
      "/Users/tim/conda/envs/py36/lib/python3.6/site-packages/matplotlib/pyplot.py:528: RuntimeWarning: More than 20 figures have been opened. Figures created through the pyplot interface (`matplotlib.pyplot.figure`) are retained until explicitly closed and may consume too much memory. (To control this warning, see the rcParam `figure.max_open_warning`).\n",
      "  max_open_warning, RuntimeWarning)\n",
      "/Users/tim/conda/envs/py36/lib/python3.6/site-packages/matplotlib/pyplot.py:528: RuntimeWarning: More than 20 figures have been opened. Figures created through the pyplot interface (`matplotlib.pyplot.figure`) are retained until explicitly closed and may consume too much memory. (To control this warning, see the rcParam `figure.max_open_warning`).\n",
      "  max_open_warning, RuntimeWarning)\n",
      "/Users/tim/conda/envs/py36/lib/python3.6/site-packages/matplotlib/pyplot.py:528: RuntimeWarning: More than 20 figures have been opened. Figures created through the pyplot interface (`matplotlib.pyplot.figure`) are retained until explicitly closed and may consume too much memory. (To control this warning, see the rcParam `figure.max_open_warning`).\n",
      "  max_open_warning, RuntimeWarning)\n"
     ]
    }
   ],
   "source": [
    "baseline1 = []\n",
    "for f in baseline1_files:\n",
    "    results = f9wfs.measure_slopes(f, 'blue', plot=True)\n",
    "    zresults = f9wfs.fit_wavefront(results, plot=True)\n",
    "    baseline1.append(zresults)\n",
    "baseline2 = []\n",
    "for f in baseline2_files:\n",
    "    results = f9wfs.measure_slopes(f, 'blue', plot=True)\n",
    "    zresults = f9wfs.fit_wavefront(results, plot=True)\n",
    "    baseline2.append(zresults)\n",
    "baseline3 = []\n",
    "for f in baseline3_files:\n",
    "    results = f9wfs.measure_slopes(f, 'blue', plot=True)\n",
    "    zresults = f9wfs.fit_wavefront(results, plot=True)\n",
    "    baseline3.append(zresults)"
   ]
  },
  {
   "cell_type": "code",
   "execution_count": 28,
   "metadata": {},
   "outputs": [
    {
     "data": {
      "application/vnd.jupyter.widget-view+json": {
       "model_id": "5f4c1836f79b4faaa4e5587e69672fe6",
       "version_major": 2,
       "version_minor": 0
      },
      "text/html": [
       "<p>Failed to display Jupyter Widget of type <code>FigureCanvasNbAgg</code>.</p>\n",
       "<p>\n",
       "  If you're reading this message in the Jupyter Notebook or JupyterLab Notebook, it may mean\n",
       "  that the widgets JavaScript is still loading. If this message persists, it\n",
       "  likely means that the widgets JavaScript library is either not installed or\n",
       "  not enabled. See the <a href=\"https://ipywidgets.readthedocs.io/en/stable/user_install.html\">Jupyter\n",
       "  Widgets Documentation</a> for setup instructions.\n",
       "</p>\n",
       "<p>\n",
       "  If you're reading this message in another frontend (for example, a static\n",
       "  rendering on GitHub or <a href=\"https://nbviewer.jupyter.org/\">NBViewer</a>),\n",
       "  it may mean that your frontend doesn't currently support widgets.\n",
       "</p>\n"
      ],
      "text/plain": [
       "FigureCanvasNbAgg()"
      ]
     },
     "metadata": {},
     "output_type": "display_data"
    }
   ],
   "source": [
    "baseline3[3]['zernike'].fringe_bar_chart().show()"
   ]
  },
  {
   "cell_type": "code",
   "execution_count": 9,
   "metadata": {},
   "outputs": [],
   "source": [
    "rms = []\n",
    "mean = []\n",
    "for baseline in [baseline1, baseline2, baseline3]:\n",
    "    baseline_mean = ZernikeVector()\n",
    "    for z in baseline:\n",
    "        baseline_mean += z\n",
    "    baseline_mean /= len(baseline)\n",
    "    baseline_rms = ZernikeVector()**2\n",
    "    for z in baseline:\n",
    "        baseline_rms += (z - baseline_mean)**2\n",
    "    baseline_rms = baseline_rms**0.5\n",
    "    rms.append(baseline_rms)\n",
    "    mean.append(baseline_mean)"
   ]
  },
  {
   "cell_type": "code",
   "execution_count": 11,
   "metadata": {},
   "outputs": [
    {
     "data": {
      "text/plain": [
       "Fringe Coefficients\n",
       " Z02:       100 nm \t X Tilt (1, 1)\n",
       " Z03:       221 nm \t Y Tilt (1, -1)\n",
       " Z04:       177 nm \t Defocus (2, 0)\n",
       " Z05:       671 nm \t Primary Astig at 45° (2, -2)\n",
       " Z06:       634 nm \t Primary Astig at 0° (2, 2)\n",
       " Z07:       347 nm \t Primary Y Coma (3, -1)\n",
       " Z08:       429 nm \t Primary X Coma (3, 1)\n",
       " Z09:       188 nm \t Y Trefoil (3, -3)\n",
       " Z10:       244 nm \t X Trefoil (3, 3)\n",
       " Z11:       164 nm \t Primary Spherical (4, 0)\n",
       " Z12:       635 nm \t Secondary Astigmatism at 0° (4, 2)\n",
       " Z13:       217 nm \t Secondary Astigmatism at 45° (4, -2)\n",
       " Z14:       181 nm \t X Tetrafoil (4, 4)\n",
       " Z15:       234 nm \t Y Tetrafoil (4, -4)\n",
       " Z16:       419 nm \t Secondary X Coma (5, 1)\n",
       " Z17:       274 nm \t Secondary Y Coma (5, -1)\n",
       " Z18:       528 nm \t Secondary X Trefoil (5, 3)\n",
       " Z19:       282 nm \t Secondary Y Trefoil (5, -3)\n",
       " Z20:       151 nm \t X Pentafoil (5, 5)\n",
       " Z21:       310 nm \t Y Pentafoil (5, -5)\n",
       " Z22:      36.3 nm \t Secondary Spherical (6, 0)"
      ]
     },
     "execution_count": 11,
     "metadata": {},
     "output_type": "execute_result"
    }
   ],
   "source": [
    "rms[0]"
   ]
  },
  {
   "cell_type": "code",
   "execution_count": 18,
   "metadata": {},
   "outputs": [],
   "source": [
    "plt.close('all')"
   ]
  },
  {
   "cell_type": "code",
   "execution_count": null,
   "metadata": {},
   "outputs": [],
   "source": []
  }
 ],
 "metadata": {
  "kernelspec": {
   "display_name": "Python 3",
   "language": "python",
   "name": "python3"
  },
  "language_info": {
   "codemirror_mode": {
    "name": "ipython",
    "version": 3
   },
   "file_extension": ".py",
   "mimetype": "text/x-python",
   "name": "python",
   "nbconvert_exporter": "python",
   "pygments_lexer": "ipython3",
   "version": "3.6.4"
  }
 },
 "nbformat": 4,
 "nbformat_minor": 2
}
