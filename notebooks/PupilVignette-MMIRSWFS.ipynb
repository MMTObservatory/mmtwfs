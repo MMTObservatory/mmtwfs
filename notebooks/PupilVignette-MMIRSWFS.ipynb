{
 "cells": [
  {
   "cell_type": "code",
   "execution_count": 1,
   "metadata": {},
   "outputs": [],
   "source": [
    "import traceback\n",
    "import functools\n",
    "import multiprocessing\n",
    "from multiprocessing import Pool\n",
    "\n",
    "import numpy as np\n",
    "\n",
    "import pandas as pd\n",
    "\n",
    "import matplotlib\n",
    "import matplotlib.pyplot as plt\n",
    "\n",
    "import astropy.units as u\n",
    "from astropy import stats\n",
    "from astropy.io import fits\n",
    "\n",
    "import ccdproc\n",
    "\n",
    "from mmtwfs.wfs import *\n",
    "from mmtwfs.zernike import ZernikeVector\n",
    "from mmtwfs.telescope import MMT"
   ]
  },
  {
   "cell_type": "code",
   "execution_count": 11,
   "metadata": {},
   "outputs": [
    {
     "name": "stdout",
     "output_type": "stream",
     "text": [
      "The autoreload extension is already loaded. To reload it, use:\n",
      "  %reload_ext autoreload\n"
     ]
    }
   ],
   "source": [
    "%load_ext autoreload\n",
    "%autoreload 2\n",
    "%matplotlib widget"
   ]
  },
  {
   "cell_type": "code",
   "execution_count": 14,
   "metadata": {},
   "outputs": [
    {
     "data": {
      "application/vnd.jupyter.widget-view+json": {
       "model_id": "de876c6f993e4fd393d1cc169b313a07",
       "version_major": 2,
       "version_minor": 0
      },
      "text/plain": [
       "Canvas(toolbar=Toolbar(toolitems=[('Home', 'Reset original view', 'home', 'home'), ('Back', 'Back to previous …"
      ]
     },
     "metadata": {},
     "output_type": "display_data"
    },
    {
     "data": {
      "application/vnd.jupyter.widget-view+json": {
       "model_id": "1c58cc45e1184d3fbaa084a0182ce8d9",
       "version_major": 2,
       "version_minor": 0
      },
      "text/plain": [
       "Canvas(toolbar=Toolbar(toolitems=[('Home', 'Reset original view', 'home', 'home'), ('Back', 'Back to previous …"
      ]
     },
     "metadata": {},
     "output_type": "display_data"
    }
   ],
   "source": [
    "mmirs = WFSFactory(wfs=\"mmirs\")\n",
    "plt.show()"
   ]
  },
  {
   "cell_type": "code",
   "execution_count": null,
   "metadata": {},
   "outputs": [],
   "source": [
    "fig, ax = plt.subplots()\n",
    "mmirs.drawoutline(ax)\n",
    "\n",
    "# Some representative positions that vignette on different edges of the mirror\n",
    "mmirs.plotgrid(-50, -60, ax)\n",
    "mmirs.plotgrid(-45, -40, ax)\n",
    "mmirs.plotgrid(-7, -52, ax)\n",
    "mmirs.plotgrid(50, 60, ax)\n",
    "mmirs.plotgrid(45, 40, ax)\n",
    "mmirs.plotgrid(7, 52, ax)\n",
    "plt.show()"
   ]
  },
  {
   "cell_type": "code",
   "execution_count": 16,
   "metadata": {},
   "outputs": [
    {
     "data": {
      "application/vnd.jupyter.widget-view+json": {
       "model_id": "319ca01585bc482cbe2d42d0bdea4396",
       "version_major": 2,
       "version_minor": 0
      },
      "text/plain": [
       "Canvas(toolbar=Toolbar(toolitems=[('Home', 'Reset original view', 'home', 'home'), ('Back', 'Back to previous …"
      ]
     },
     "metadata": {},
     "output_type": "display_data"
    }
   ],
   "source": [
    "# The PacMan from last WFS image on 2017.1019\n",
    "fig, ax = plt.subplots()\n",
    "mmirs.drawoutline(ax)\n",
    "mmirs.plotgrid(43.687, -39.144, ax)  # use GUIDERX/Y to place and then CA to rotate to match\n",
    "plt.show()"
   ]
  },
  {
   "cell_type": "code",
   "execution_count": 18,
   "metadata": {},
   "outputs": [
    {
     "data": {
      "application/vnd.jupyter.widget-view+json": {
       "model_id": "8636830ac3de49d0bfefc460e500d935",
       "version_major": 2,
       "version_minor": 0
      },
      "text/plain": [
       "Canvas(toolbar=Toolbar(toolitems=[('Home', 'Reset original view', 'home', 'home'), ('Back', 'Back to previous …"
      ]
     },
     "metadata": {},
     "output_type": "display_data"
    }
   ],
   "source": [
    "fig, ax = plt.subplots()\n",
    "mmirs.drawoutline(ax)\n",
    "mmirs.plotgrid(37.31, 50.572, ax)  # use GUIDERX/Y to place and then CA to rotate to match\n",
    "plt.show()"
   ]
  },
  {
   "cell_type": "code",
   "execution_count": 17,
   "metadata": {},
   "outputs": [
    {
     "data": {
      "application/vnd.jupyter.widget-view+json": {
       "model_id": "7db10a3ce6964ded8faef14a65ff4063",
       "version_major": 2,
       "version_minor": 0
      },
      "text/plain": [
       "Canvas(toolbar=Toolbar(toolitems=[('Home', 'Reset original view', 'home', 'home'), ('Back', 'Back to previous …"
      ]
     },
     "metadata": {},
     "output_type": "display_data"
    }
   ],
   "source": [
    "#data, hdr = check_wfsdata(\"/Users/tim/MMT/wfsdat/20171013/mmirs_wfs_rename_0533.fits\", header=True)\n",
    "fig, ax = plt.subplots()\n",
    "data, hdr = check_wfsdata(\"/Volumes/LaCie 8TB/wfsdat/20191213/mmirs_wfs_0381.fits\", header=True)\n",
    "im = mmirs.pupil_mask(hdr)\n",
    "ax.imshow(im, origin='lower')\n",
    "plt.show()"
   ]
  },
  {
   "cell_type": "code",
   "execution_count": null,
   "metadata": {},
   "outputs": [],
   "source": [
    "import photutils"
   ]
  },
  {
   "cell_type": "code",
   "execution_count": null,
   "metadata": {},
   "outputs": [],
   "source": [
    "t = photutils.detection.find_peaks(im, 0.8, box_size=5, centroid_func=photutils.centroids.centroid_com)\n",
    "t"
   ]
  },
  {
   "cell_type": "code",
   "execution_count": null,
   "metadata": {},
   "outputs": [],
   "source": [
    "fig, ax = plt.subplots()\n",
    "mmirs.drawoutline(ax)\n",
    "mmirs.plotgrid_hdr(hdr, ax)\n",
    "plt.show()"
   ]
  },
  {
   "cell_type": "code",
   "execution_count": null,
   "metadata": {},
   "outputs": [],
   "source": [
    "%cd /Volumes/LaCie\\ 8TB/wfsdat/20150927"
   ]
  },
  {
   "cell_type": "code",
   "execution_count": null,
   "metadata": {},
   "outputs": [],
   "source": [
    "ic = ccdproc.ImageFileCollection('.', glob_include=\"mmirs_wfs*.fits\", keywords=['wfsname', 'guiderx', 'guidery'])"
   ]
  },
  {
   "cell_type": "code",
   "execution_count": null,
   "metadata": {},
   "outputs": [],
   "source": [
    "cam1 = ic.summary['file'][ic.summary['wfsname'] == '                        mmirs1']\n",
    "cam2 = ic.summary['file'][ic.summary['wfsname'] == '                        mmirs2']"
   ]
  },
  {
   "cell_type": "code",
   "execution_count": null,
   "metadata": {},
   "outputs": [],
   "source": [
    "cam1_proc = []\n",
    "cam2_proc = []\n",
    "for f in cam1:\n",
    "    data, hdr = mmirs.process_image(f)\n",
    "    cam1_proc.append(data)\n",
    "for f in cam2:\n",
    "    data, hdr = mmirs.process_image(f)\n",
    "    cam2_proc.append(data)"
   ]
  },
  {
   "cell_type": "code",
   "execution_count": null,
   "metadata": {},
   "outputs": [],
   "source": [
    "cam1_mean = np.mean(cam1_proc, axis=0)\n",
    "cam2_mean = np.mean(cam2_proc, axis=0)"
   ]
  },
  {
   "cell_type": "code",
   "execution_count": null,
   "metadata": {},
   "outputs": [],
   "source": [
    "hdu1 = fits.PrimaryHDU(cam1_mean)\n",
    "hdu1.writeto('cam1_mean.fits', overwrite=True)\n",
    "hdu2 = fits.PrimaryHDU(cam2_mean)\n",
    "hdu2.writeto('cam2_mean.fits', overwrite=True)"
   ]
  },
  {
   "cell_type": "code",
   "execution_count": null,
   "metadata": {},
   "outputs": [],
   "source": [
    "c1 = fits.open(\"cam1_mean.fits\")[0].data\n",
    "r1, rh1 = check_wfsdata(\"/Users/tim/MMT/mmtwfs/mmtwfs/data/ref_images/mmirs_camera1_ref.fits\", header=True)\n",
    "r1 = mmirs.trim_overscan(r1, hdr=hdr)\n",
    "comb1 = c1 + 0.1*r1\n",
    "hh = fits.PrimaryHDU(comb1)\n",
    "hh.writeto(\"comb1.fits\", overwrite=True)"
   ]
  },
  {
   "cell_type": "code",
   "execution_count": null,
   "metadata": {},
   "outputs": [],
   "source": [
    "len(cam1_proc), len(cam2_proc)"
   ]
  },
  {
   "cell_type": "code",
   "execution_count": null,
   "metadata": {},
   "outputs": [],
   "source": [
    "cam2_proc[0].shape"
   ]
  },
  {
   "cell_type": "code",
   "execution_count": null,
   "metadata": {},
   "outputs": [],
   "source": [
    "c2 = fits.open(\"cam2_mean.fits\")[0].data\n",
    "r2, rh2 = check_wfsdata(\"/Users/tim/MMT/mmtwfs/mmtwfs/data/ref_images/mmirs_camera2_ref.fits\", header=True)\n",
    "r2 = mmirs.trim_overscan(r2, hdr=hdr)\n",
    "comb2 = c2 + 0.1*r2\n",
    "hh = fits.PrimaryHDU(comb2)\n",
    "hh.writeto(\"comb2.fits\", overwrite=True)"
   ]
  },
  {
   "cell_type": "code",
   "execution_count": null,
   "metadata": {},
   "outputs": [],
   "source": [
    "df = ic.summary.to_pandas()"
   ]
  },
  {
   "cell_type": "code",
   "execution_count": null,
   "metadata": {},
   "outputs": [],
   "source": [
    "df1 = df[df['wfsname'].str.contains('mmirs1')]\n",
    "df2 = df[df['wfsname'].str.contains('mmirs2')]"
   ]
  },
  {
   "cell_type": "code",
   "execution_count": null,
   "metadata": {},
   "outputs": [],
   "source": [
    "df2['guiderx'].mean(), df2['guidery'].max()"
   ]
  },
  {
   "cell_type": "code",
   "execution_count": null,
   "metadata": {},
   "outputs": [],
   "source": [
    "df1_pos = df1.drop_duplicates(subset=['guiderx', 'guidery'])\n",
    "df2_pos = df2.drop_duplicates(subset=['guiderx', 'guidery'])"
   ]
  },
  {
   "cell_type": "code",
   "execution_count": null,
   "metadata": {},
   "outputs": [],
   "source": [
    "fig, ax = plt.subplots()\n",
    "mmirs.drawoutline(ax)\n",
    "for i, p in df1_pos.iterrows():\n",
    "    mmirs.plotgrid(p['guiderx'], p['guidery'], ax)\n",
    "for i, p in df2_pos.iterrows():\n",
    "    mmirs.plotgrid(p['guiderx'], p['guidery'], ax)\n",
    "ax.set_xlabel(\"GUIDERX (mm)\")\n",
    "ax.set_ylabel(\"GUIDERY (mm)\")\n",
    "fig.show()"
   ]
  },
  {
   "cell_type": "code",
   "execution_count": null,
   "metadata": {},
   "outputs": [],
   "source": [
    "fig.savefig(\"wfs_positions.pdf\")"
   ]
  },
  {
   "cell_type": "code",
   "execution_count": null,
   "metadata": {},
   "outputs": [],
   "source": [
    "7.4 * 206265/280e3 * 486"
   ]
  },
  {
   "cell_type": "code",
   "execution_count": null,
   "metadata": {},
   "outputs": [],
   "source": [
    "206265 * 1.22 * 0.5e-3 / 60"
   ]
  },
  {
   "cell_type": "code",
   "execution_count": null,
   "metadata": {},
   "outputs": [],
   "source": [
    "ngood = 0\n",
    "ngood += 1"
   ]
  },
  {
   "cell_type": "code",
   "execution_count": null,
   "metadata": {},
   "outputs": [],
   "source": []
  }
 ],
 "metadata": {
  "kernelspec": {
   "display_name": "Python 3",
   "language": "python",
   "name": "python3"
  },
  "language_info": {
   "codemirror_mode": {
    "name": "ipython",
    "version": 3
   },
   "file_extension": ".py",
   "mimetype": "text/x-python",
   "name": "python",
   "nbconvert_exporter": "python",
   "pygments_lexer": "ipython3",
   "version": "3.7.5"
  }
 },
 "nbformat": 4,
 "nbformat_minor": 4
}
