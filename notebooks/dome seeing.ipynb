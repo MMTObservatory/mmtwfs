{
 "cells": [
  {
   "cell_type": "code",
   "execution_count": 1,
   "metadata": {},
   "outputs": [],
   "source": [
    "import time\n",
    "from datetime import datetime\n",
    "import pytz\n",
    "import os\n",
    "import sys\n",
    "import numpy as np\n",
    "import matplotlib\n",
    "%matplotlib ipympl\n",
    "import matplotlib.pyplot as plt\n",
    "import pandas as pd\n",
    "from matplotlib import style\n",
    "\n",
    "style.use('ggplot')\n",
    "\n",
    "import multiprocessing\n",
    "from multiprocessing import Pool\n",
    "\n",
    "from pathlib import Path\n",
    "\n",
    "import photutils\n",
    "import astropy.units as u\n",
    "from astropy import stats\n",
    "from astropy.io import fits\n",
    "from astropy.table import Table, hstack, vstack\n",
    "\n",
    "from astropy.modeling.models import Gaussian2D, Polynomial2D, Moffat2D\n",
    "from astropy.modeling.fitting import LevMarLSQFitter\n",
    "\n",
    "from mmtwfs.wfs import *\n",
    "from mmtwfs.zernike import ZernikeVector\n",
    "from mmtwfs.telescope import MMT\n",
    "from mmtwfs.custom_exceptions import WFSAnalysisFailed\n",
    "\n",
    "tz = pytz.timezone(\"America/Phoenix\")"
   ]
  },
  {
   "cell_type": "code",
   "execution_count": 2,
   "metadata": {},
   "outputs": [],
   "source": [
    "%load_ext line_profiler\n",
    "%load_ext autoreload\n",
    "%autoreload 2"
   ]
  },
  {
   "cell_type": "code",
   "execution_count": 3,
   "metadata": {},
   "outputs": [],
   "source": [
    "hdr_keys = ['DATE-OBS', 'RA', 'DEC', 'AZ', 'EL', 'ROT', 'TEMP', 'FOCUS', 'CHAM_DPT', 'CHAM_T', 'OUT_T', 'WIND_W', 'WDIR_W', 'PRESSURE',\n",
    "            'EXPTIME', 'AIRMASS', 'OSSTEMP', 'TRANSX', 'TRANSY', 'TILTX', 'TILTY']\n",
    "f5_hdr_keys = ['DATEOBS', 'UT', 'RA', 'DEC', 'AZ', 'EL', 'ROT', 'FOCUS', 'T_OUT', 'T_CHAM', 'RH_OUT', 'RH_CHAM', 'P_BARO', 'EXPTIME', 'AIRMASS',\n",
    "               'WIND', 'WINDDIR', 'OSSTEMP', 'TRANSX', 'TRANSY', 'TILTX', 'TILTY']\n",
    "old_f9_keys = ['DATE-OBS', 'TIME-OBS', 'RA', 'DEC', 'AZ', 'EL', 'ROT', 'FOCUS', 'T_OUT', 'T_CHAM', 'RH_OUT', 'RH_CHAM', 'P_BARO', 'EXPTIME', 'AIRMASS',\n",
    "               'WIND', 'WINDDIR', 'OSSTEMP', 'TRANSX', 'TRANSY', 'TILTX', 'TILTY']"
   ]
  },
  {
   "cell_type": "code",
   "execution_count": 4,
   "metadata": {},
   "outputs": [],
   "source": [
    "def check_image(f, wfskey=None):\n",
    "    hdr = {}\n",
    "    with fits.open(f) as hdulist:\n",
    "        for h in hdulist:\n",
    "            hdr.update(h.header)\n",
    "        data = hdulist[-1].data\n",
    "    \n",
    "    # if wfskey is None, figure out which WFS from the header info...\n",
    "    if wfskey is None:\n",
    "        # check for MMIRS\n",
    "        if 'WFSNAME' in hdr:\n",
    "            if 'mmirs' in hdr['WFSNAME']:\n",
    "                wfskey = 'mmirs'\n",
    "        if 'mmirs' in f.name:\n",
    "            wfskey = 'mmirs'\n",
    "\n",
    "        # check for binospec\n",
    "        if 'bino' in f.name:\n",
    "            wfskey = 'binospec'\n",
    "        if 'ORIGIN' in hdr:\n",
    "            if 'Binospec' in hdr['ORIGIN']:\n",
    "                wfskey = 'binospec'\n",
    "\n",
    "        # check for new F/9\n",
    "        if 'f9wfs' in f.name:\n",
    "            wfskey = 'newf9'\n",
    "        if 'OBSERVER' in hdr:\n",
    "            if 'F/9 WFS' in hdr['OBSERVER']:\n",
    "                wfskey = 'newf9'\n",
    "        if wfskey is None and 'CAMERA' in hdr:\n",
    "            if 'F/9 WFS' in hdr['CAMERA']:\n",
    "                wfskey = 'newf9'\n",
    "\n",
    "        # check for old F/9\n",
    "        if 'INSTRUME' in hdr:\n",
    "            if 'Apogee' in hdr['INSTRUME']:\n",
    "                wfskey = 'oldf9'\n",
    "        if 'DETECTOR' in hdr:\n",
    "            if 'Apogee' in hdr['DETECTOR']:\n",
    "                wfskey = 'oldf9'\n",
    "\n",
    "        # check for F/5 (hecto)\n",
    "        if wfskey is None and 'SEC' in hdr:  # mmirs has SEC in header as well and is caught above\n",
    "            if 'F5' in hdr['SEC']:\n",
    "                wfskey = 'f5'\n",
    "        if Path(f.parent / \"F5\").exists():\n",
    "            wfskey = 'f5'\n",
    "            \n",
    "    if wfskey is None:\n",
    "        # if wfskey is still None at this point, whinge.\n",
    "        print(f\"Can't determine WFS for {f.name}...\")\n",
    "\n",
    "    if 'AIRMASS' not in hdr:\n",
    "        if 'SECZ' in hdr:\n",
    "            hdr['AIRMASS'] = hdr['SECZ']\n",
    "        else:\n",
    "            hdr['AIRMASS'] = np.nan\n",
    "\n",
    "    # we need to fix the headers in all cases to have a proper DATE-OBS entry with\n",
    "    # properly formatted FITS timestamp.  in the meantime, this hack gets us what we need \n",
    "    # for analysis in pandas.\n",
    "    dtime = None\n",
    "    if 'DATEOBS' in hdr:\n",
    "        dateobs = hdr['DATEOBS']\n",
    "        if 'UT' in hdr:\n",
    "            ut = hdr['UT']\n",
    "        elif 'TIME-OBS' in hdr:\n",
    "            ut = hdr['TIME-OBS']\n",
    "        else:\n",
    "            ut = \"07:00:00\"  # midnight\n",
    "        timestring = dateobs + \" \" + ut + \" UTC\"\n",
    "        if wfskey in ('newf9', 'f5'):\n",
    "            if '-' in timestring:\n",
    "                dtime = datetime.strptime(timestring, \"%Y-%m-%d %H:%M:%S %Z\")\n",
    "            else:\n",
    "                dtime = datetime.strptime(timestring, \"%a %b %d %Y %H:%M:%S %Z\")\n",
    "\n",
    "        else:\n",
    "            dtime = datetime.strptime(timestring, \"%Y-%m-%d %H:%M:%S %Z\")\n",
    "    else:\n",
    "        if wfskey == \"oldf9\":\n",
    "            d = hdr['DATE-OBS']\n",
    "            if '/' in d:\n",
    "                day, month, year = d.split('/')\n",
    "                year = str(int(year) + 1900)\n",
    "                timestring = year + \"-\" + month + \"-\" + day + \" \" + hdr['TIME-OBS'] + \" UTC\"\n",
    "            else:\n",
    "                timestring = d + \" \" + hdr['TIME-OBS'] + \" UTC\"\n",
    "            dtime = datetime.strptime(timestring, \"%Y-%m-%d %H:%M:%S %Z\")\n",
    "        else:\n",
    "            if 'DATE-OBS' in hdr:\n",
    "                timestring = hdr['DATE-OBS'] + \" UTC\"\n",
    "                try:\n",
    "                    dtime = datetime.strptime(timestring, \"%Y-%m-%dT%H:%M:%S.%f %Z\")\n",
    "                except:\n",
    "                    dtime = datetime.strptime(timestring, \"%Y-%m-%dT%H:%M:%S %Z\")\n",
    "            else:\n",
    "                dt = datetime.fromtimestamp(f.stat().st_ctime)\n",
    "                local_dt = tz.localize(dt)\n",
    "                dtime = local_dt.astimezone(pytz.utc)\n",
    "\n",
    "    if dtime is None:\n",
    "        print(f\"No valid timestamp in header for {f.name}...\")\n",
    "        obstime = None\n",
    "    else:\n",
    "        obstime = dtime.isoformat().replace('+00:00', '')\n",
    "        \n",
    "    hdr['WFSKEY'] = wfskey\n",
    "    hdr['OBS-TIME'] = obstime\n",
    "    return data, hdr"
   ]
  },
  {
   "cell_type": "code",
   "execution_count": 5,
   "metadata": {},
   "outputs": [],
   "source": [
    "findpars = {\n",
    "    \"oldf9\": {\"fwhm\": 8.0, \"thresh\": 5.0},\n",
    "    \"newf9\": {\"fwhm\": 12.0, \"thresh\": 7.0},\n",
    "    \"f5\": {\"fwhm\": 9.0, \"thresh\": 5.0},\n",
    "    \"mmirs\": {\"fwhm\": 7.0, \"thresh\": 5.0},\n",
    "    \"binospec\": {\"fwhm\": 7.0, \"thresh\": 5.0}\n",
    "}"
   ]
  },
  {
   "cell_type": "code",
   "execution_count": 6,
   "metadata": {},
   "outputs": [
    {
     "name": "stdout",
     "output_type": "stream",
     "text": [
      "/Volumes/LACIE SHARE/wfsdat\n"
     ]
    }
   ],
   "source": [
    "#%cd /Users/tim/MMT/wfsdat/20180209\n",
    "%cd /Volumes/LACIE\\ SHARE/wfsdat"
   ]
  },
  {
   "cell_type": "code",
   "execution_count": 6,
   "metadata": {},
   "outputs": [
    {
     "data": {
      "text/plain": [
       "((512, 512),\n",
       " {'SIMPLE': True,\n",
       "  'BITPIX': 16,\n",
       "  'NAXIS': 2,\n",
       "  'NAXIS1': 512,\n",
       "  'NAXIS2': 512,\n",
       "  'BZERO': 32768,\n",
       "  'BSCALE': 1,\n",
       "  'OFFSET1': 0,\n",
       "  'OFFSET2': 0,\n",
       "  'XFACTOR': 1,\n",
       "  'YFACTOR': 1,\n",
       "  'EXPTIME': 20,\n",
       "  'ORIGIN': 'Clear Sky Institute',\n",
       "  'TELESCOP': 'Engineering model',\n",
       "  'CDELT1': -0.0003444444444,\n",
       "  'CDELT2': -0.0003444444444,\n",
       "  'INSTRUME': 'Apogee CCD Camera',\n",
       "  'JD': 2452720.70917,\n",
       "  'DATE-OBS': '22/03/103',\n",
       "  'TIME-OBS': '05:01:12',\n",
       "  'FILTER': 'C',\n",
       "  'CAMTEMP': -19,\n",
       "  'AIRMASS': nan,\n",
       "  'WFSKEY': 'oldf9',\n",
       "  'OBS-TIME': '2003-03-22T05:01:12'})"
      ]
     },
     "execution_count": 6,
     "metadata": {},
     "output_type": "execute_result"
    }
   ],
   "source": [
    "file = Path(\"wfs_start_0188.fits\")\n",
    "data, hdr = check_image(file)\n",
    "data.shape, hdr"
   ]
  },
  {
   "cell_type": "code",
   "execution_count": 79,
   "metadata": {},
   "outputs": [],
   "source": [
    "def process_image(f, clobber=False):\n",
    "    tablefile = Path(str(f.parent / f.stem) + \".csv\")\n",
    "    \n",
    "    if '_ave' in str(f):\n",
    "        print(f\"Not processing {f.name} because it's an average of multiple images\")\n",
    "        return\n",
    "    \n",
    "    if tablefile.exists() and not clobber:\n",
    "        print(f\"{f.name} already processed...\")\n",
    "        return\n",
    "    else:\n",
    "        print(f\"Processing {f.name}...\")\n",
    "\n",
    "    try:\n",
    "        data, hdr = check_image(f)\n",
    "        w = hdr['WFSKEY']\n",
    "        mean, median, stddev = stats.sigma_clipped_stats(data, sigma=3.0, iters=None)\n",
    "        data = data - median\n",
    "        spots, fig = wfsfind(data, fwhm=findpars[w]['fwhm'], threshold=findpars[w]['thresh'], plot=False)\n",
    "    except WFSAnalysisFailed as e:\n",
    "        try:\n",
    "            spots, fig = wfsfind(data, fwhm=2.*findpars[w]['fwhm'], threshold=findpars[w]['thresh'], plot=False)\n",
    "        except Exception as e:\n",
    "            print(f\"Failed to find spots for {str(Path(str(f.parent / f.stem)))}: {e}\")\n",
    "            return\n",
    "    except Exception as ee:\n",
    "        print(f\"Failure in data loading or spot finding in {str(Path(str(f.parent / f.stem)))}: {ee}\")\n",
    "        return      \n",
    "\n",
    "    apsize = 15.\n",
    "    apers = photutils.CircularAperture(\n",
    "            (spots['xcentroid'], spots['ycentroid']),\n",
    "            r=apsize\n",
    "    )\n",
    "    masks = apers.to_mask(method=\"subpixel\")\n",
    "    props = []\n",
    "    spot_lines = []\n",
    "    fit_lines = []\n",
    "    for m, s in zip(masks, spots):\n",
    "        tline = {}\n",
    "        subim = m.cutout(data)\n",
    "        try:\n",
    "            props_table = photutils.data_properties(subim).to_table()\n",
    "        except Exception as e:\n",
    "            print(f\"Can't measure source properties for {str(Path(str(f.parent / f.stem)))}: {e}\")\n",
    "            continue\n",
    "        moment_fwhm = 0.5 * (props_table['semimajor_axis_sigma'][0].value + props_table['semiminor_axis_sigma'][0].value) * stats.gaussian_sigma_to_fwhm\n",
    "        props.append(props_table)\n",
    "        spot_lines.append(s)\n",
    "        tline['filename'] = f.name\n",
    "        for k in hdr:\n",
    "            if 'COMMENT' not in k and k != '':\n",
    "                tline[k] = hdr[k]\n",
    "\n",
    "        y, x = np.mgrid[:subim.shape[0], :subim.shape[1]]\n",
    "        sigma = (props_table['semimajor_axis_sigma'][0].value + props_table['semiminor_axis_sigma'][0].value) / 2.\n",
    "\n",
    "        fitter = LevMarLSQFitter()\n",
    "        gauss_model = Gaussian2D(\n",
    "            amplitude=subim.max(),\n",
    "            x_mean=subim.shape[1]/2.,\n",
    "            y_mean=subim.shape[0]/2.,\n",
    "            x_stddev = sigma,\n",
    "            y_stddev = sigma\n",
    "        ) + Polynomial2D(degree=0)\n",
    "        moffat_model = Moffat2D(\n",
    "            amplitude=subim.max(),\n",
    "            x_0=subim.shape[1]/2.,\n",
    "            y_0=subim.shape[0]/2.,\n",
    "            gamma=sigma\n",
    "        ) + Polynomial2D(degree=0)\n",
    "        \n",
    "        try:\n",
    "            gauss_fit = fitter(gauss_model, x, y, subim)\n",
    "            gauss_resid = subim - gauss_fit(x, y)\n",
    "            gauss_fwhm = 0.5 * (gauss_fit.x_stddev_0.value + gauss_fit.y_stddev_0.value) * stats.gaussian_sigma_to_fwhm\n",
    "            tline['gauss_x'] = gauss_fit.x_mean_0.value\n",
    "            tline['gauss_y'] = gauss_fit.y_mean_0.value\n",
    "            tline['gauss_sigx'] = gauss_fit.x_stddev_0.value\n",
    "            tline['gauss_sigy'] = gauss_fit.y_stddev_0.value\n",
    "            tline['gauss_amplitude'] = gauss_fit.amplitude_0.value\n",
    "            tline['gauss_theta'] = gauss_fit.theta_0.value\n",
    "            tline['gauss_background'] = gauss_fit.c0_0_1.value\n",
    "            tline['gauss_rms'] = np.nanstd(gauss_resid)\n",
    "            tline['gauss_fwhm'] = gauss_fwhm\n",
    "        except Exception as e:\n",
    "            print(f\"Gaussian fit failed in {str(Path(str(f.parent / f.stem)))}: {e}\")\n",
    "            tline['gauss_x'] = np.nan\n",
    "            tline['gauss_y'] = np.nan\n",
    "            tline['gauss_sigx'] = np.nan\n",
    "            tline['gauss_sigy'] = np.nan\n",
    "            tline['gauss_amplitude'] = np.nan\n",
    "            tline['gauss_theta'] = np.nan\n",
    "            tline['gauss_background'] = np.nan\n",
    "            tline['gauss_rms'] = np.nan\n",
    "            tline['gauss_fwhm'] = np.nan\n",
    "            \n",
    "        try:\n",
    "            moffat_fit = fitter(moffat_model, x, y, subim)\n",
    "            moffat_resid = subim - moffat_fit(x, y)\n",
    "            gamma = moffat_fit.gamma_0.value\n",
    "            alpha = moffat_fit.alpha_0.value\n",
    "            moffat_fwhm = np.abs(2. * gamma * np.sqrt(2.**(1./alpha) - 1.))\n",
    "            tline['moffat_amplitude'] = moffat_fit.amplitude_0.value\n",
    "            tline['moffat_gamma'] = gamma\n",
    "            tline['moffat_alpha'] = alpha\n",
    "            tline['moffat_x'] = moffat_fit.x_0_0.value\n",
    "            tline['moffat_y'] = moffat_fit.y_0_0.value\n",
    "            tline['moffat_background'] = moffat_fit.c0_0_1.value\n",
    "            tline['moffat_rms'] = np.nanstd(moffat_resid)\n",
    "            tline['moment_fwhm'] = moment_fwhm\n",
    "            tline['moffat_fwhm'] = moffat_fwhm\n",
    "        except Exception as e:\n",
    "            print(f\"Moffat fit failed in {str(Path(str(f.parent / f.stem)))}: {e}\")\n",
    "            tline['moffat_amplitude'] = np.nan\n",
    "            tline['moffat_gamma'] = np.nan\n",
    "            tline['moffat_alpha'] = np.nan\n",
    "            tline['moffat_x'] = np.nan\n",
    "            tline['moffat_y'] = np.nan\n",
    "            tline['moffat_background'] = np.nan\n",
    "            tline['moffat_rms'] = np.nan\n",
    "            tline['moment_fwhm'] = np.nan\n",
    "            tline['moffat_fwhm'] = np.nan\n",
    "        fit_lines.append(tline)\n",
    "        \n",
    "    fit_table = Table(fit_lines)\n",
    "    spot_table = Table(vstack(spot_lines))\n",
    "    prop_table = Table(vstack(props))\n",
    "    t = hstack([spot_table, prop_table, fit_table])\n",
    "    try:\n",
    "        if tablefile.exists():\n",
    "            if clobber:\n",
    "                t.write(tablefile, format=\"csv\")\n",
    "        else:\n",
    "            t.write(tablefile, format=\"csv\")\n",
    "    except Exception as e:\n",
    "        print(f\"Failed to write {str(tablefile)}: {e}\")\n",
    "    return t"
   ]
  },
  {
   "cell_type": "code",
   "execution_count": 37,
   "metadata": {},
   "outputs": [
    {
     "name": "stdout",
     "output_type": "stream",
     "text": [
      "Processing wfs_start_0188.fits...\n"
     ]
    },
    {
     "name": "stderr",
     "output_type": "stream",
     "text": [
      "WARNING: The fit may be unsuccessful; check fit_info['message'] for more information. [astropy.modeling.fitting]\n"
     ]
    }
   ],
   "source": [
    "process_image(file, clobber=True)"
   ]
  },
  {
   "cell_type": "code",
   "execution_count": 93,
   "metadata": {},
   "outputs": [
    {
     "data": {
      "application/vnd.jupyter.widget-view+json": {
       "model_id": "c94932896be8433fa982b2be779e0649",
       "version_major": 2,
       "version_minor": 0
      },
      "text/plain": [
       "FigureCanvasNbAgg()"
      ]
     },
     "metadata": {},
     "output_type": "display_data"
    },
    {
     "data": {
      "application/vnd.jupyter.widget-view+json": {
       "model_id": "e0f1a42182cb426591a933985997eb10",
       "version_major": 2,
       "version_minor": 0
      },
      "text/plain": [
       "FigureCanvasNbAgg()"
      ]
     },
     "metadata": {},
     "output_type": "display_data"
    }
   ],
   "source": [
    "t.hist(column='gauss_fwhm', bins=50, range=(0,10), alpha=0.6)\n",
    "t.hist(column='moffat_fwhm', bins=50, range=(0,10), alpha=0.6)\n",
    "plt.show()"
   ]
  },
  {
   "cell_type": "code",
   "execution_count": 86,
   "metadata": {},
   "outputs": [
    {
     "data": {
      "text/plain": [
       "(495.81356566699588, 398.06243108166296)"
      ]
     },
     "execution_count": 86,
     "metadata": {},
     "output_type": "execute_result"
    }
   ],
   "source": [
    "t['gauss_background'].mean(), t['moffat_background'].mean()"
   ]
  },
  {
   "cell_type": "code",
   "execution_count": 87,
   "metadata": {},
   "outputs": [
    {
     "data": {
      "application/vnd.jupyter.widget-view+json": {
       "model_id": "",
       "version_major": 2,
       "version_minor": 0
      },
      "text/plain": [
       "FigureCanvasNbAgg()"
      ]
     },
     "metadata": {},
     "output_type": "display_data"
    },
    {
     "data": {
      "text/plain": [
       "array([[<matplotlib.axes._subplots.AxesSubplot object at 0x1c217115f8>]], dtype=object)"
      ]
     },
     "execution_count": 87,
     "metadata": {},
     "output_type": "execute_result"
    }
   ],
   "source": [
    "t.hist(column='ellipticity', bins=50, range=(0,1.0), alpha=0.6)"
   ]
  },
  {
   "cell_type": "code",
   "execution_count": 97,
   "metadata": {},
   "outputs": [
    {
     "data": {
      "text/plain": [
       "0.015914200328812602"
      ]
     },
     "execution_count": 97,
     "metadata": {},
     "output_type": "execute_result"
    }
   ],
   "source": [
    "(t['moffat_rms']/t['moffat_amplitude']).mean()"
   ]
  },
  {
   "cell_type": "code",
   "execution_count": 91,
   "metadata": {},
   "outputs": [
    {
     "data": {
      "application/vnd.jupyter.widget-view+json": {
       "model_id": "4c77b72503484a60abb915f7268cdd17",
       "version_major": 2,
       "version_minor": 0
      },
      "text/plain": [
       "FigureCanvasNbAgg()"
      ]
     },
     "metadata": {},
     "output_type": "display_data"
    }
   ],
   "source": [
    "%matplotlib ipympl\n",
    "plt.imshow(gauss_resids[100])\n",
    "plt.show()"
   ]
  },
  {
   "cell_type": "code",
   "execution_count": 22,
   "metadata": {},
   "outputs": [],
   "source": [
    "#%matplotlib ipympl\n",
    "plt.imshow(moffat_resids[10])\n",
    "plt.show()"
   ]
  },
  {
   "cell_type": "code",
   "execution_count": 35,
   "metadata": {},
   "outputs": [
    {
     "name": "stderr",
     "output_type": "stream",
     "text": [
      "WARNING: The fit may be unsuccessful; check fit_info['message'] for more information. [astropy.modeling.fitting]\n"
     ]
    },
    {
     "data": {
      "text/plain": [
       "Timer unit: 1e-06 s\n",
       "\n",
       "Total time: 29.8775 s\n",
       "File: <ipython-input-33-bb5c1b33ae24>\n",
       "Function: process_image at line 1\n",
       "\n",
       "Line #      Hits         Time  Per Hit   % Time  Line Contents\n",
       "==============================================================\n",
       "     1                                           def process_image(f, clobber=False):\n",
       "     2         1         91.0     91.0      0.0      tablefile = Path(f.stem + \".csv\")\n",
       "     3         1         90.0     90.0      0.0      if tablefile.exists() and not clobber:\n",
       "     4                                                   print(f\"{file.name} already processed...\")\n",
       "     5                                                   return\n",
       "     6                                           \n",
       "     7         1     150092.0 150092.0      0.5      data, hdr = check_image(file)\n",
       "     8         1     510791.0 510791.0      1.7      mean, median, stddev = stats.sigma_clipped_stats(data, sigma=3.0, iters=None)\n",
       "     9         1        272.0    272.0      0.0      data = data - median\n",
       "    10         1     322845.0 322845.0      1.1      spots, fig = wfsfind(data, plot=False)\n",
       "    11                                           \n",
       "    12         1          2.0      2.0      0.0      apsize = 12.\n",
       "    13         1          3.0      3.0      0.0      apers = photutils.CircularAperture(\n",
       "    14         1          9.0      9.0      0.0              (spots['xcentroid'], spots['ycentroid']),\n",
       "    15         1         36.0     36.0      0.0              r=apsize\n",
       "    16                                               )\n",
       "    17         1       6308.0   6308.0      0.0      masks = apers.to_mask(method=\"subpixel\")\n",
       "    18                                           \n",
       "    19         1          2.0      2.0      0.0      props = []\n",
       "    20         1          1.0      1.0      0.0      spot_lines = []\n",
       "    21         1          2.0      2.0      0.0      fit_lines = []\n",
       "    22       144       4301.0     29.9      0.0      for m, s in zip(masks, spots):\n",
       "    23       143        208.0      1.5      0.0          tline = {}\n",
       "    24       143       2024.0     14.2      0.0          subim = m.cutout(data)\n",
       "    25       143    6826979.0  47741.1     22.8          props_table = photutils.data_properties(subim).to_table()\n",
       "    26       143        469.0      3.3      0.0          props.append(props_table)\n",
       "    27       143        246.0      1.7      0.0          spot_lines.append(s)\n",
       "    28       143       1037.0      7.3      0.0          tline['filename'] = file.name\n",
       "    29      3718       5025.0      1.4      0.0          for k in hdr:\n",
       "    30      3575       5037.0      1.4      0.0              tline[k] = hdr[k]\n",
       "    31                                           \n",
       "    32       143      11583.0     81.0      0.0          y, x = np.mgrid[:subim.shape[0], :subim.shape[1]]\n",
       "    33       143      24912.0    174.2      0.1          sigma = (props_table['semimajor_axis_sigma'][0].value + props_table['semiminor_axis_sigma'][0].value) / 2.\n",
       "    34                                           \n",
       "    35       143       1781.0     12.5      0.0          fitter = LevMarLSQFitter()\n",
       "    36       143        231.0      1.6      0.0          gauss_model = Gaussian2D(\n",
       "    37       143       2499.0     17.5      0.0              amplitude=subim.max(),\n",
       "    38       143        298.0      2.1      0.0              x_mean=subim.shape[1]/2.,\n",
       "    39       143        201.0      1.4      0.0              y_mean=subim.shape[0]/2.,\n",
       "    40       143        163.0      1.1      0.0              x_stddev = sigma,\n",
       "    41       143      72432.0    506.5      0.2              y_stddev = sigma\n",
       "    42       143    1780906.0  12453.9      6.0          ) + Polynomial2D(degree=0)\n",
       "    43       143        390.0      2.7      0.0          moffat_model = Moffat2D(\n",
       "    44       143       3219.0     22.5      0.0              amplitude=subim.max(),\n",
       "    45       143        389.0      2.7      0.0              x_0=subim.shape[1]/2.,\n",
       "    46       143        207.0      1.4      0.0              y_0=subim.shape[0]/2.,\n",
       "    47       143      59945.0    419.2      0.2              gamma=sigma\n",
       "    48       143    1690133.0  11819.1      5.7          ) + Polynomial2D(degree=0)\n",
       "    49       143    7916453.0  55359.8     26.5          gauss_fit = fitter(gauss_model, x, y, subim)\n",
       "    50       143    7933402.0  55478.3     26.6          moffat_fit = fitter(moffat_model, x, y, subim)\n",
       "    51                                           \n",
       "    52       143     108862.0    761.3      0.4          gauss_resid = subim - gauss_fit(x, y)\n",
       "    53       143      94758.0    662.6      0.3          moffat_resid = subim - moffat_fit(x, y)\n",
       "    54                                           \n",
       "    55       143       2234.0     15.6      0.0          gamma = moffat_fit.gamma_0.value\n",
       "    56       143       1563.0     10.9      0.0          alpha = moffat_fit.alpha_0.value\n",
       "    57       143       1598.0     11.2      0.0          moffat_fwhm = np.abs(2. * gamma * np.sqrt(2.**(1./alpha) - 1.))\n",
       "    58       143       3076.0     21.5      0.0          gauss_fwhm = 0.5 * (gauss_fit.x_stddev_0.value + gauss_fit.y_stddev_0.value) * stats.gaussian_sigma_to_fwhm\n",
       "    59       143      30136.0    210.7      0.1          moment_fwhm = 0.5 * (props_table['semimajor_axis_sigma'][0].value + props_table['semiminor_axis_sigma'][0].value) * stats.gaussian_sigma_to_fwhm\n",
       "    60                                           \n",
       "    61       143       2004.0     14.0      0.0          tline['gauss_x'] = gauss_fit.x_mean_0.value\n",
       "    62       143       1445.0     10.1      0.0          tline['gauss_y'] = gauss_fit.y_mean_0.value\n",
       "    63       143       1341.0      9.4      0.0          tline['gauss_sigx'] = gauss_fit.x_stddev_0.value\n",
       "    64       143       1306.0      9.1      0.0          tline['gauss_sigy'] = gauss_fit.y_stddev_0.value\n",
       "    65       143       1349.0      9.4      0.0          tline['gauss_amplitude'] = gauss_fit.amplitude_0.value\n",
       "    66       143       1325.0      9.3      0.0          tline['gauss_theta'] = gauss_fit.theta_0.value\n",
       "    67       143       1332.0      9.3      0.0          tline['gauss_background'] = gauss_fit.c0_0_1.value\n",
       "    68       143      25805.0    180.5      0.1          tline['gauss_rms'] = np.nanstd(gauss_resid)\n",
       "    69       143       2035.0     14.2      0.0          tline['moffat_amplitude'] = moffat_fit.amplitude_0.value\n",
       "    70       143        215.0      1.5      0.0          tline['moffat_gamma'] = gamma\n",
       "    71       143        184.0      1.3      0.0          tline['moffat_alpha'] = alpha\n",
       "    72       143       1436.0     10.0      0.0          tline['moffat_x'] = moffat_fit.x_0_0.value\n",
       "    73       143       1324.0      9.3      0.0          tline['moffat_y'] = moffat_fit.y_0_0.value\n",
       "    74       143       1311.0      9.2      0.0          tline['moffat_background'] = moffat_fit.c0_0_1.value\n",
       "    75       143      20145.0    140.9      0.1          tline['moffat_rms'] = np.nanstd(moffat_resid)\n",
       "    76       143        240.0      1.7      0.0          tline['moment_fwhm'] = moment_fwhm\n",
       "    77       143        421.0      2.9      0.0          tline['gauss_fwhm'] = gauss_fwhm\n",
       "    78       143        190.0      1.3      0.0          tline['moffat_fwhm'] = moffat_fwhm\n",
       "    79       143        282.0      2.0      0.0          fit_lines.append(tline)\n",
       "    80         1      14581.0  14581.0      0.0      fit_table = Table(fit_lines)\n",
       "    81         1     743586.0 743586.0      2.5      spot_table = Table(vstack(spot_lines))\n",
       "    82         1     894647.0 894647.0      3.0      prop_table = Table(vstack(props))\n",
       "    83         1     163437.0 163437.0      0.5      t = hstack([spot_table, prop_table, fit_table])\n",
       "    84         1         33.0     33.0      0.0      if tablefile.exists():\n",
       "    85                                                   if clobber:\n",
       "    86                                                       t.write(tablefile, format=\"csv\")\n",
       "    87                                               else:\n",
       "    88         1     420272.0 420272.0      1.4          t.write(tablefile, format=\"csv\")"
      ]
     },
     "metadata": {},
     "output_type": "display_data"
    }
   ],
   "source": [
    "%lprun -f process_image process_image(file)"
   ]
  },
  {
   "cell_type": "code",
   "execution_count": 91,
   "metadata": {},
   "outputs": [],
   "source": [
    "rootdir = Path(\"/Volumes/LACIE SHARE/wfsdat\")\n",
    "dirs = sorted(list(rootdir.glob(\"20071*\")))"
   ]
  },
  {
   "cell_type": "code",
   "execution_count": 92,
   "metadata": {},
   "outputs": [
    {
     "name": "stdout",
     "output_type": "stream",
     "text": [
      "Working in 20071012...\n",
      "Processing auto_wfs_0005.fits...\n",
      "Not processing auto_wfs_0019_ave.fits because it's an average of multiple images\n",
      "Processing auto_wfs_0001.fits...\n",
      "Processing auto_wfs_0013.fits...\n",
      "Processing auto_wfs_0009.fits...\n",
      "Processing auto_wfs_0016.fits...\n",
      "Processing auto_wfs_0020.fits...\n",
      "Processing Ref_0000.fits...\n",
      "Processing auto_wfs_0023.fits...\n"
     ]
    },
    {
     "name": "stderr",
     "output_type": "stream",
     "text": [
      "WARNING: The fit may be unsuccessful; check fit_info['message'] for more information. [astropy.modeling.fitting]\n",
      "WARNING: The fit may be unsuccessful; check fit_info['message'] for more information. [astropy.modeling.fitting]\n",
      "WARNING: The fit may be unsuccessful; check fit_info['message'] for more information. [astropy.modeling.fitting]\n",
      "WARNING: The fit may be unsuccessful; check fit_info['message'] for more information. [astropy.modeling.fitting]\n",
      "/Users/tim/conda/envs/py36/lib/python3.6/site-packages/ipykernel_launcher.py:103: RuntimeWarning: invalid value encountered in sqrt\n",
      "WARNING: The fit may be unsuccessful; check fit_info['message'] for more information. [astropy.modeling.fitting]\n"
     ]
    },
    {
     "name": "stdout",
     "output_type": "stream",
     "text": [
      "Processing Ref_0001.fits...\n"
     ]
    },
    {
     "name": "stderr",
     "output_type": "stream",
     "text": [
      "WARNING: The fit may be unsuccessful; check fit_info['message'] for more information. [astropy.modeling.fitting]\n",
      "WARNING: The fit may be unsuccessful; check fit_info['message'] for more information. [astropy.modeling.fitting]\n"
     ]
    },
    {
     "name": "stdout",
     "output_type": "stream",
     "text": [
      "Processing Ref_0002.fits...\n"
     ]
    },
    {
     "name": "stderr",
     "output_type": "stream",
     "text": [
      "WARNING: The fit may be unsuccessful; check fit_info['message'] for more information. [astropy.modeling.fitting]\n"
     ]
    },
    {
     "name": "stdout",
     "output_type": "stream",
     "text": [
      "Processing Ref_0003.fits...\n",
      "Processing auto_wfs_0000.fits...\n",
      "Processing auto_wfs_0010.fits...\n",
      "Processing auto_wfs_0021.fits...\n",
      "Processing auto_wfs_0024.fits...\n",
      "Processing auto_wfs_0002.fits...\n",
      "Not processing auto_wfs_0013_ave.fits because it's an average of multiple images\n",
      "Processing auto_wfs_0006.fits...\n",
      "Processing auto_wfs_0014.fits...\n",
      "Not processing auto_wfs_0016_ave.fits because it's an average of multiple images\n",
      "Processing auto_wfs_0017.fits...\n",
      "Processing auto_wfs_0027.fits...\n",
      "Processing auto_wfs_0003.fits...\n",
      "Not processing auto_wfs_0010_ave.fits because it's an average of multiple images\n",
      "Processing auto_wfs_0011.fits...\n",
      "Processing auto_wfs_0022.fits...\n",
      "Not processing auto_wfs_0014_ave.fits because it's an average of multiple images\n",
      "Processing auto_wfs_0015.fits...\n",
      "Processing auto_wfs_0007.fits...\n",
      "Processing auto_wfs_0025.fits...\n",
      "Processing auto_wfs_0018.fits...\n",
      "Processing auto_wfs_0004.fits...\n",
      "Processing auto_wfs_0028.fits...\n",
      "Processing auto_wfs_0012.fits...\n",
      "Not processing auto_wfs_0022_ave.fits because it's an average of multiple images\n",
      "Processing auto_wfs_0031.fits...\n",
      "Not processing auto_wfs_0034_ave.fits because it's an average of multiple images\n",
      "Processing auto_wfs_0035.fits...\n",
      "Not processing auto_wfs_0007_ave.fits because it's an average of multiple images\n",
      "Processing auto_wfs_0008.fits...\n",
      "Not processing auto_wfs_0025_ave.fits because it's an average of multiple images\n",
      "Processing auto_wfs_0026.fits...\n",
      "Processing auto_wfs_0019.fits...\n",
      "Not processing auto_wfs_0004_ave.fits because it's an average of multiple images\n",
      "Processing auto_wfs_0038.fits...\n",
      "Not processing auto_wfs_0028_ave.fits because it's an average of multiple images\n",
      "Processing auto_wfs_0029.fits...\n",
      "Processing auto_wfs_0042.fits...\n",
      "Not processing auto_wfs_0031_ave.fits because it's an average of multiple images\n",
      "Processing auto_wfs_0032.fits...\n",
      "Not processing el70_test_0000_ave.fits because it's an average of multiple images\n",
      "Processing el70_test_0001.fits...\n",
      "Processing auto_wfs_0036.fits...\n",
      "Processing el75_test_0000.fits...\n",
      "Processing el75_test_0004.fits...\n",
      "Not processing el75_test_0000_ave.fits because it's an average of multiple images\n",
      "Processing el75_test_0001.fits...\n",
      "Processing auto_wfs_0039.fits...\n",
      "Processing auto_wfs_0030.fits...\n",
      "Processing el75_test_0002.fits...\n",
      "Processing auto_wfs_0043.fits...\n",
      "Processing auto_wfs_0033.fits...\n",
      "Processing el75_test_0003.fits...\n",
      "Processing auto_wfs_0037.fits...\n",
      "Processing el70_test_0002.fits...\n",
      "Processing el75_test_0005.fits...\n",
      "Processing el75_test_0008.fits...\n",
      "Processing auto_wfs_0040.fits...\n",
      "Processing el80_test_0002.fits...\n",
      "Not processing auto_wfs_0043_ave.fits because it's an average of multiple images\n",
      "Processing back.fits...\n",
      "Processing el70_test_0000.fits...\n",
      "Processing auto_wfs_0034.fits...\n",
      "Not processing auto_wfs_0037_ave.fits because it's an average of multiple images\n",
      "Processing elcoll_75_0002.fits...\n",
      "Processing el70_test_0003.fits...\n",
      "Processing el75_test_0009.fits...\n",
      "Not processing auto_wfs_0040_ave.fits because it's an average of multiple images\n",
      "Processing auto_wfs_0041.fits...\n",
      "Processing el80_test_0003.fits...\n"
     ]
    },
    {
     "name": "stderr",
     "output_type": "stream",
     "text": [
      "/Users/tim/conda/envs/py36/lib/python3.6/site-packages/ipykernel_launcher.py:103: RuntimeWarning: invalid value encountered in sqrt\n"
     ]
    },
    {
     "name": "stdout",
     "output_type": "stream",
     "text": [
      "Processing elcoll_80_0003.fits...\n",
      "Processing elcoll_85_0001.fits...\n",
      "Not processing el75_test_0005_ave.fits because it's an average of multiple images\n",
      "Processing el75_test_0006.fits...\n",
      "Processing el70_test_0004.fits...\n",
      "Processing el80_test_0000.fits...\n",
      "Processing elcoll_85_0005.fits...\n",
      "Processing el80_test_0004.fits...\n",
      "Processing elcoll_80_0004.fits...\n",
      "Processing elcoll_85_0002.fits...\n",
      "Processing elcoll_80_0000.fits...\n",
      "Processing el75_test_0007.fits...\n",
      "Processing manual_wfs_0003.fits...\n",
      "Not processing el80_test_0000_ave.fits because it's an average of multiple images\n",
      "Processing el80_test_0001.fits...\n",
      "Not processing elcoll_85_0005_ave.fits because it's an average of multiple images\n",
      "Processing manual_wfs_0000.fits...\n",
      "Not processing elcoll_85_0002_ave.fits because it's an average of multiple images\n",
      "Processing elcoll_85_0003.fits...\n",
      "Processing elcoll_75_0000.fits...\n",
      "Processing elcoll_80_0001.fits...\n",
      "Processing manual_wfs_0008.fits...\n",
      "Processing manual_wfs_0004.fits...\n"
     ]
    },
    {
     "name": "stderr",
     "output_type": "stream",
     "text": [
      "/Users/tim/conda/envs/py36/lib/python3.6/site-packages/ipykernel_launcher.py:103: RuntimeWarning: invalid value encountered in sqrt\n"
     ]
    },
    {
     "name": "stdout",
     "output_type": "stream",
     "text": [
      "Processing manual_wfs_0001.fits...\n",
      "Processing manual_wfs_0011.fits...\n",
      "Processing elcoll_80_0005.fits...\n",
      "Processing elcoll_75_0001.fits...\n",
      "Processing elcoll_85_0004.fits...\n",
      "Processing manual_wfs_0009.fits...\n",
      "Processing manual_wfs_0005.fits...\n",
      "Processing manual_wfs_0012.fits...\n",
      "Not processing elcoll_80_0005_ave.fits because it's an average of multiple images\n",
      "Processing elcoll_85_0000.fits...\n",
      "Processing manual_wfs_0016.fits...\n",
      "Processing elcoll_80_0002.fits...\n",
      "Processing test_0002.fits...\n",
      "Processing manual_wfs_0002.fits...\n",
      "Not processing manual_wfs_0009_ave.fits because it's an average of multiple images\n",
      "Processing manual_wfs_0010.fits...\n",
      "Processing manual_wfs_0006.fits...\n",
      "Processing manual_wfs_0017.fits...\n",
      "Processing test_0003.fits...\n",
      "Processing manual_wfs_0013.fits...\n",
      "Not processing elcoll_80_0002_ave.fits because it's an average of multiple images\n",
      "Not processing manual_wfs_0010_ave.fits because it's an average of multiple images\n",
      "Processing manual_wfs_0007.fits...\n",
      "Processing manual_wfs_0018.fits...\n",
      "Processing test_0004.fits...\n",
      "Processing manual_wfs_0014.fits...\n",
      "Processing manual_wfs_0015.fits...\n",
      "Processing test_0000.fits...\n"
     ]
    },
    {
     "name": "stderr",
     "output_type": "stream",
     "text": [
      "/Users/tim/conda/envs/py36/lib/python3.6/site-packages/ipykernel_launcher.py:103: RuntimeWarning: invalid value encountered in sqrt\n"
     ]
    },
    {
     "name": "stdout",
     "output_type": "stream",
     "text": [
      "Processing test_0001.fits...\n",
      "Working in 20071013...\n",
      "Processing auto_wfs_0000.fits...\n",
      "Not processing auto_wfs_0002_ave.fits because it's an average of multiple images\n",
      "Processing auto_wfs_0007.fits...\n",
      "Processing auto_wfs_0005.fits...\n",
      "Processing auto_wfs_0009.fits...\n",
      "Processing auto_wfs_0014.fits...\n",
      "Processing auto_wfs_0003.fits...\n",
      "Processing auto_wfs_0016.fits...\n",
      "Not processing auto_wfs_0011_ave.fits because it's an average of multiple images\n",
      "Processing auto_wfs_0012.fits...\n"
     ]
    },
    {
     "name": "stderr",
     "output_type": "stream",
     "text": [
      "WARNING: The fit may be unsuccessful; check fit_info['message'] for more information. [astropy.modeling.fitting]\n",
      "WARNING: The fit may be unsuccessful; check fit_info['message'] for more information. [astropy.modeling.fitting]\n",
      "WARNING: The fit may be unsuccessful; check fit_info['message'] for more information. [astropy.modeling.fitting]\n",
      "WARNING: The fit may be unsuccessful; check fit_info['message'] for more information. [astropy.modeling.fitting]\n",
      "WARNING: The fit may be unsuccessful; check fit_info['message'] for more information. [astropy.modeling.fitting]\n",
      "WARNING: The fit may be unsuccessful; check fit_info['message'] for more information. [astropy.modeling.fitting]\n",
      "WARNING: The fit may be unsuccessful; check fit_info['message'] for more information. [astropy.modeling.fitting]\n",
      "WARNING: The fit may be unsuccessful; check fit_info['message'] for more information. [astropy.modeling.fitting]\n"
     ]
    },
    {
     "name": "stdout",
     "output_type": "stream",
     "text": [
      "Not processing auto_wfs_0014_ave.fits because it's an average of multiple images\n",
      "Processing auto_wfs_0015.fits...\n",
      "Processing auto_wfs_0013.fits...\n",
      "Processing auto_wfs_0001.fits...\n",
      "Processing auto_wfs_0017.fits...\n",
      "Processing auto_wfs_0004.fits...\n",
      "Processing auto_wfs_0008.fits...\n",
      "Not processing auto_wfs_0005_ave.fits because it's an average of multiple images\n",
      "Processing auto_wfs_0006.fits...\n",
      "Processing auto_wfs_0010.fits...\n",
      "Processing auto_wfs_0018.fits...\n",
      "Processing auto_wfs_0020.fits...\n",
      "Not processing auto_wfs_0017_ave.fits because it's an average of multiple images\n",
      "Processing auto_wfs_0022.fits...\n",
      "Processing auto_wfs_0002.fits...\n",
      "Processing auto_wfs_0024.fits...\n",
      "Not processing auto_wfs_0008_ave.fits because it's an average of multiple images\n",
      "Not processing auto_wfs_0026_ave.fits because it's an average of multiple images\n",
      "Processing auto_wfs_0027.fits...\n",
      "Processing auto_wfs_0029.fits...\n",
      "Processing auto_wfs_0011.fits...\n",
      "Not processing auto_wfs_0020_ave.fits because it's an average of multiple images\n",
      "Processing auto_wfs_0021.fits...\n",
      "Processing auto_wfs_0031.fits...\n",
      "Processing auto_wfs_0023.fits...\n",
      "Not processing auto_wfs_0029_ave.fits because it's an average of multiple images\n",
      "Processing auto_wfs_0030.fits...\n"
     ]
    },
    {
     "name": "stderr",
     "output_type": "stream",
     "text": [
      "WARNING: File may have been truncated: actual file length (528384) is smaller than the expected size (529920) [astropy.io.fits.file]\n"
     ]
    },
    {
     "name": "stdout",
     "output_type": "stream",
     "text": [
      "Processing auto_wfs_0028.fits...\n",
      "Processing auto_wfs_0025.fits...\n",
      "Not processing auto_wfs_0018_ave.fits because it's an average of multiple images\n",
      "Processing auto_wfs_0019.fits...\n",
      "Processing auto_wfs_0033.fits...\n",
      "Processing manual_wfs_0001.fits...\n",
      "Processing auto_wfs_0026.fits...\n",
      "Processing manual_wfs_0004.fits...\n",
      "Not processing auto_wfs_0023_ave.fits because it's an average of multiple images\n",
      "Processing manual_wfs_0007.fits...\n",
      "Processing manual_wfs_0010.fits...\n",
      "Not processing auto_wfs_0031_ave.fits because it's an average of multiple images\n",
      "Processing auto_wfs_0032.fits...\n",
      "Processing manual_wfs_0012.fits...\n",
      "Processing manual_wfs_0002.fits...\n",
      "Processing back.fits...\n"
     ]
    },
    {
     "name": "stderr",
     "output_type": "stream",
     "text": [
      "WARNING: No sources were found. [photutils.detection.findstars]\n"
     ]
    },
    {
     "name": "stdout",
     "output_type": "stream",
     "text": [
      "Processing manual_wfs_0000.fits...\n",
      "Failed to find spots for /Volumes/LACIE SHARE/wfsdat/20071013/manual_wfs_0000: (WFSAnalysisFailed(...), 'No WFS spots detected.')\n",
      "Not processing manual_wfs_0014_ave.fits because it's an average of multiple images\n",
      "Processing manual_wfs_0015.fits...\n"
     ]
    },
    {
     "name": "stderr",
     "output_type": "stream",
     "text": [
      "WARNING: File may have been truncated: actual file length (528384) is smaller than the expected size (529920) [astropy.io.fits.file]\n"
     ]
    },
    {
     "name": "stdout",
     "output_type": "stream",
     "text": [
      "Processing manual_wfs_0008.fits...\n",
      "Processing manual_wfs_0011.fits...\n",
      "Not processing manual_wfs_0016_ave.fits because it's an average of multiple images\n",
      "Processing manual_wfs_0017.fits...\n",
      "Processing manual_wfs_0019.fits...\n",
      "Processing manual_wfs_0005.fits...\n",
      "Processing manual_wfs_0013.fits...\n",
      "Processing manual_wfs_0003.fits...\n",
      "Processing manual_wfs_0016.fits...\n",
      "Processing manual_wfs_0009.fits...\n",
      "Not processing manual_wfs_0011_ave.fits because it's an average of multiple images\n",
      "Processing manual_wfs_0021.fits...\n",
      "Processing manual_wfs_0006.fits...\n",
      "Not processing manual_wfs_0019_ave.fits because it's an average of multiple images\n",
      "Processing manual_wfs_0020.fits...\n",
      "Processing manual_wfs_0018.fits...\n",
      "Processing manual_wfs_0014.fits...\n",
      "Processing manual_wfs_0023.fits...\n",
      "Processing manual_wfs_0026.fits...\n",
      "Processing manual_wfs_0028.fits...\n"
     ]
    },
    {
     "name": "stderr",
     "output_type": "stream",
     "text": [
      "WARNING: File may have been truncated: actual file length (528384) is smaller than the expected size (529920) [astropy.io.fits.file]\n"
     ]
    },
    {
     "name": "stdout",
     "output_type": "stream",
     "text": [
      "Processing manual_wfs_0022.fits...\n",
      "Processing manual_wfs_0030.fits...\n",
      "Processing manual_wfs_0024.fits...\n",
      "Not processing manual_wfs_0026_ave.fits because it's an average of multiple images\n",
      "Processing manual_wfs_0027.fits...\n",
      "Processing manual_wfs_0029.fits...\n",
      "Not processing manual_wfs_0022_ave.fits because it's an average of multiple images\n",
      "Processing manual_wfs_0025.fits...\n",
      "Not processing manual_wfs_0029_ave.fits because it's an average of multiple images\n",
      "Working in 20071014...\n",
      "Processing Ref_0002.fits...\n",
      "Processing Ref_0000.fits...\n",
      "Processing Ref_0003.fits...\n",
      "Not processing auto_wfs_0000_ave.fits because it's an average of multiple images\n",
      "Processing back.fits...\n",
      "Processing manual_wfs_0001.fits...\n",
      "Not processing manual_wfs_0002_ave.fits because it's an average of multiple images\n",
      "Processing auto_wfs_0001.fits...\n",
      "Processing manual_wfs_0004.fits...\n",
      "Processing manual_wfs_0003.fits...\n"
     ]
    },
    {
     "name": "stderr",
     "output_type": "stream",
     "text": [
      "WARNING: No sources were found. [photutils.detection.findstars]\n",
      "WARNING: The fit may be unsuccessful; check fit_info['message'] for more information. [astropy.modeling.fitting]\n"
     ]
    },
    {
     "name": "stdout",
     "output_type": "stream",
     "text": [
      "Processing manual_wfs_0000.fits...\n"
     ]
    },
    {
     "name": "stderr",
     "output_type": "stream",
     "text": [
      "WARNING: The fit may be unsuccessful; check fit_info['message'] for more information. [astropy.modeling.fitting]\n",
      "WARNING: The fit may be unsuccessful; check fit_info['message'] for more information. [astropy.modeling.fitting]\n",
      "WARNING: The fit may be unsuccessful; check fit_info['message'] for more information. [astropy.modeling.fitting]\n",
      "WARNING: The fit may be unsuccessful; check fit_info['message'] for more information. [astropy.modeling.fitting]\n",
      "WARNING: The fit may be unsuccessful; check fit_info['message'] for more information. [astropy.modeling.fitting]\n",
      "WARNING: The fit may be unsuccessful; check fit_info['message'] for more information. [astropy.modeling.fitting]\n",
      "WARNING: The fit may be unsuccessful; check fit_info['message'] for more information. [astropy.modeling.fitting]\n",
      "/Users/tim/conda/envs/py36/lib/python3.6/site-packages/ipykernel_launcher.py:103: RuntimeWarning: invalid value encountered in sqrt\n"
     ]
    },
    {
     "name": "stdout",
     "output_type": "stream",
     "text": [
      "Processing Ref_0001.fits...\n",
      "Not processing Ref_0002_ave.fits because it's an average of multiple images\n",
      "Processing manual_wfs_0006.fits...\n",
      "Processing auto_wfs_0000.fits...\n",
      "Processing manual_wfs_0008.fits...\n",
      "Processing manual_wfs_0009.fits...\n",
      "Processing manual_wfs_0002.fits...\n",
      "Processing manual_wfs_0005.fits...\n",
      "Processing manual_wfs_0011.fits...\n",
      "Not processing manual_wfs_0012_ave.fits because it's an average of multiple images\n",
      "Processing manual_wfs_0013.fits...\n",
      "Processing manual_wfs_0014.fits...\n",
      "Processing manual_wfs_0007.fits...\n",
      "Not processing manual_wfs_0008_ave.fits because it's an average of multiple images\n",
      "Not processing manual_wfs_0015_ave.fits because it's an average of multiple images\n",
      "Processing manual_wfs_0016.fits...\n",
      "Processing manual_wfs_0010.fits...\n",
      "Processing manual_wfs_0017.fits...\n",
      "Processing manual_wfs_0019.fits...\n",
      "Processing manual_wfs_0012.fits...\n",
      "Not processing manual_wfs_0020_ave.fits because it's an average of multiple images\n",
      "Processing manual_wfs_0021.fits...\n",
      "Processing manual_wfs_0022.fits...\n",
      "Processing manual_wfs_0015.fits...\n",
      "Not processing manual_wfs_0022_ave_ave.fits because it's an average of multiple images\n",
      "Processing manual_wfs_0023.fits...\n"
     ]
    },
    {
     "name": "stderr",
     "output_type": "stream",
     "text": [
      "WARNING: File may have been truncated: actual file length (528384) is smaller than the expected size (529920) [astropy.io.fits.file]\n"
     ]
    },
    {
     "name": "stdout",
     "output_type": "stream",
     "text": [
      "Processing manual_wfs_0024.fits...\n",
      "Processing manual_wfs_0018.fits...\n",
      "Processing manual_wfs_0026.fits...\n"
     ]
    },
    {
     "name": "stderr",
     "output_type": "stream",
     "text": [
      "WARNING: File may have been truncated: actual file length (524288) is smaller than the expected size (529920) [astropy.io.fits.file]\n"
     ]
    },
    {
     "name": "stdout",
     "output_type": "stream",
     "text": [
      "Failure in data loading or spot finding in /Volumes/LACIE SHARE/wfsdat/20071014/manual_wfs_0026: buffer is too small for requested array\n",
      "Processing manual_wfs_0027.fits...\n"
     ]
    },
    {
     "name": "stderr",
     "output_type": "stream",
     "text": [
      "WARNING: File may have been truncated: actual file length (528384) is smaller than the expected size (529920) [astropy.io.fits.file]\n"
     ]
    },
    {
     "name": "stdout",
     "output_type": "stream",
     "text": [
      "Processing manual_wfs_0028.fits...\n",
      "Processing manual_wfs_0020.fits...\n",
      "Not processing manual_wfs_0022_ave.fits because it's an average of multiple images\n",
      "Processing manual_wfs_0030.fits...\n",
      "Processing manual_wfs_0032.fits...\n",
      "Processing tim_test.fits...\n",
      "Processing tmp6582a.fits...\n",
      "Failure in data loading or spot finding in /Volumes/LACIE SHARE/wfsdat/20071014/tmp6582a: Header missing END card.\n",
      "Processing tmp7081a.fits...\n",
      "Failure in data loading or spot finding in /Volumes/LACIE SHARE/wfsdat/20071014/tmp7081a: Header missing END card.\n",
      "Processing manual_wfs_0025.fits...\n",
      "Processing manual_wfs_0029.fits...\n",
      "Processing manual_wfs_0031.fits...\n"
     ]
    },
    {
     "name": "stderr",
     "output_type": "stream",
     "text": [
      "WARNING: File may have been truncated: actual file length (524288) is smaller than the expected size (529920) [astropy.io.fits.file]\n"
     ]
    },
    {
     "name": "stdout",
     "output_type": "stream",
     "text": [
      "Failure in data loading or spot finding in /Volumes/LACIE SHARE/wfsdat/20071014/manual_wfs_0031: buffer is too small for requested array\n",
      "Processing test.fits...\n",
      "Working in 20071015...\n",
      "Processing back.fits...\n",
      "Processing Ref_0002.fits...\n",
      "Processing Ref_0000.fits...\n",
      "Processing manual_wfs_0001.fits...\n",
      "Not processing manual_wfs_0008_ave.fits because it's an average of multiple images\n",
      "Processing manual_wfs_0003.fits...\n",
      "Processing manual_wfs_0007.fits...\n",
      "Processing manual_wfs_0005.fits...\n",
      "Processing manual_wfs_0009.fits...\n"
     ]
    },
    {
     "name": "stderr",
     "output_type": "stream",
     "text": [
      "WARNING: File may have been truncated: actual file length (528384) is smaller than the expected size (529920) [astropy.io.fits.file]\n",
      "WARNING: File may have been truncated: actual file length (524288) is smaller than the expected size (529920) [astropy.io.fits.file]\n"
     ]
    },
    {
     "name": "stdout",
     "output_type": "stream",
     "text": [
      "Failure in data loading or spot finding in /Volumes/LACIE SHARE/wfsdat/20071015/Ref_0002: buffer is too small for requested array\n",
      "Processing Ref_0003.fits...\n",
      "Failure in data loading or spot finding in /Volumes/LACIE SHARE/wfsdat/20071015/Ref_0003: Empty or corrupt FITS file\n",
      "Processing manual_wfs_0010.fits...\n"
     ]
    },
    {
     "name": "stderr",
     "output_type": "stream",
     "text": [
      "WARNING: No sources were found. [photutils.detection.findstars]\n",
      "WARNING: The fit may be unsuccessful; check fit_info['message'] for more information. [astropy.modeling.fitting]\n",
      "/Users/tim/conda/envs/py36/lib/python3.6/site-packages/astropy/modeling/fitting.py:1331: RuntimeWarning: invalid value encountered in fmax\n",
      "  values = np.fmax(values, _min)\n",
      "/Users/tim/conda/envs/py36/lib/python3.6/site-packages/numpy/lib/nanfunctions.py:1427: RuntimeWarning: Degrees of freedom <= 0 for slice.\n",
      "  keepdims=keepdims)\n",
      "WARNING: The fit may be unsuccessful; check fit_info['message'] for more information. [astropy.modeling.fitting]\n",
      "WARNING: The fit may be unsuccessful; check fit_info['message'] for more information. [astropy.modeling.fitting]\n",
      "WARNING: The fit may be unsuccessful; check fit_info['message'] for more information. [astropy.modeling.fitting]\n"
     ]
    },
    {
     "name": "stdout",
     "output_type": "stream",
     "text": [
      "Processing manual_wfs_0000.fits...\n"
     ]
    },
    {
     "name": "stderr",
     "output_type": "stream",
     "text": [
      "WARNING: The fit may be unsuccessful; check fit_info['message'] for more information. [astropy.modeling.fitting]\n"
     ]
    },
    {
     "name": "stdout",
     "output_type": "stream",
     "text": [
      "Processing manual_wfs_0002.fits...\n",
      "Processing Ref_0001.fits...\n"
     ]
    },
    {
     "name": "stderr",
     "output_type": "stream",
     "text": [
      "WARNING: The fit may be unsuccessful; check fit_info['message'] for more information. [astropy.modeling.fitting]\n",
      "WARNING: The fit may be unsuccessful; check fit_info['message'] for more information. [astropy.modeling.fitting]\n",
      "WARNING: The fit may be unsuccessful; check fit_info['message'] for more information. [astropy.modeling.fitting]\n"
     ]
    },
    {
     "name": "stdout",
     "output_type": "stream",
     "text": [
      "Not processing manual_wfs_0011_ave.fits because it's an average of multiple images\n",
      "Processing manual_wfs_0012.fits...\n",
      "Processing manual_wfs_0013.fits...\n",
      "Processing manual_wfs_0004.fits...\n",
      "Processing manual_wfs_0008.fits...\n",
      "Processing manual_wfs_0015.fits...\n"
     ]
    },
    {
     "name": "stderr",
     "output_type": "stream",
     "text": [
      "WARNING: File may have been truncated: actual file length (524288) is smaller than the expected size (529920) [astropy.io.fits.file]\n"
     ]
    },
    {
     "name": "stdout",
     "output_type": "stream",
     "text": [
      "Failure in data loading or spot finding in /Volumes/LACIE SHARE/wfsdat/20071015/manual_wfs_0015: buffer is too small for requested array\n",
      "Processing manual_wfs_0016.fits...\n",
      "Processing manual_wfs_0006.fits...\n",
      "Processing manual_wfs_0017.fits...\n",
      "Processing manual_wfs_0011.fits...\n",
      "Processing manual_wfs_0019.fits...\n"
     ]
    },
    {
     "name": "stderr",
     "output_type": "stream",
     "text": [
      "WARNING: File may have been truncated: actual file length (524288) is smaller than the expected size (529920) [astropy.io.fits.file]\n"
     ]
    },
    {
     "name": "stdout",
     "output_type": "stream",
     "text": [
      "Failure in data loading or spot finding in /Volumes/LACIE SHARE/wfsdat/20071015/manual_wfs_0019: buffer is too small for requested array\n",
      "Processing manual_wfs_0020.fits...\n",
      "Processing manual_wfs_0014.fits...\n"
     ]
    },
    {
     "name": "stderr",
     "output_type": "stream",
     "text": [
      "WARNING: File may have been truncated: actual file length (528384) is smaller than the expected size (529920) [astropy.io.fits.file]\n"
     ]
    },
    {
     "name": "stdout",
     "output_type": "stream",
     "text": [
      "Processing manual_wfs_0021.fits...\n",
      "Processing manual_wfs_0023.fits...\n",
      "Processing manual_wfs_0022.fits...\n",
      "Processing manual_wfs_0018.fits...\n",
      "Processing manual_wfs_0025.fits...\n",
      "Processing test_0000.fits...\n",
      "Failure in data loading or spot finding in /Volumes/LACIE SHARE/wfsdat/20071015/test_0000: Empty or corrupt FITS file\n",
      "Processing tmp8064a.fits...\n",
      "Failure in data loading or spot finding in /Volumes/LACIE SHARE/wfsdat/20071015/tmp8064a: Header missing END card.\n",
      "Processing tmp9310a.fits...\n",
      "Failure in data loading or spot finding in /Volumes/LACIE SHARE/wfsdat/20071015/tmp9310a: Header missing END card.\n",
      "Processing manual_wfs_0024.fits...\n",
      "Processing manual_wfs_0026.fits...\n",
      "Working in 20071016...\n",
      "Processing manual_wfs_0004.fits...\n",
      "Not processing manual_wfs_0006_ave.fits because it's an average of multiple images\n",
      "Processing back.fits...\n",
      "Processing Ref_0000.fits...\n",
      "Processing manual_wfs_0009.fits...\n",
      "Processing manual_wfs_0011.fits...\n",
      "Processing manual_wfs_0002.fits...\n",
      "Processing manual_wfs_0007.fits...\n",
      "Processing manual_wfs_0014.fits...\n"
     ]
    },
    {
     "name": "stderr",
     "output_type": "stream",
     "text": [
      "WARNING: File may have been truncated: actual file length (528384) is smaller than the expected size (529920) [astropy.io.fits.file]\n"
     ]
    },
    {
     "name": "stdout",
     "output_type": "stream",
     "text": [
      "Failure in data loading or spot finding in /Volumes/LACIE SHARE/wfsdat/20071016/back: ufunc 'isfinite' not supported for the input types, and the inputs could not be safely coerced to any supported types according to the casting rule ''safe''\n",
      "Processing manual_wfs_0000.fits...\n"
     ]
    },
    {
     "name": "stderr",
     "output_type": "stream",
     "text": [
      "WARNING: File may have been truncated: actual file length (524288) is smaller than the expected size (529920) [astropy.io.fits.file]\n"
     ]
    },
    {
     "name": "stdout",
     "output_type": "stream",
     "text": [
      "Failure in data loading or spot finding in /Volumes/LACIE SHARE/wfsdat/20071016/manual_wfs_0014: buffer is too small for requested array\n",
      "Processing manual_wfs_0015.fits...\n"
     ]
    },
    {
     "name": "stderr",
     "output_type": "stream",
     "text": [
      "WARNING: The fit may be unsuccessful; check fit_info['message'] for more information. [astropy.modeling.fitting]\n",
      "WARNING: The fit may be unsuccessful; check fit_info['message'] for more information. [astropy.modeling.fitting]\n",
      "WARNING: The fit may be unsuccessful; check fit_info['message'] for more information. [astropy.modeling.fitting]\n",
      "WARNING: The fit may be unsuccessful; check fit_info['message'] for more information. [astropy.modeling.fitting]\n",
      "WARNING: The fit may be unsuccessful; check fit_info['message'] for more information. [astropy.modeling.fitting]\n",
      "WARNING: The fit may be unsuccessful; check fit_info['message'] for more information. [astropy.modeling.fitting]\n",
      "WARNING: The fit may be unsuccessful; check fit_info['message'] for more information. [astropy.modeling.fitting]\n",
      "WARNING: The fit may be unsuccessful; check fit_info['message'] for more information. [astropy.modeling.fitting]\n"
     ]
    },
    {
     "name": "stdout",
     "output_type": "stream",
     "text": [
      "Processing Ref_0001.fits...\n",
      "Processing Ref_0002.fits...\n",
      "Processing manual_wfs_0001.fits...\n",
      "Processing manual_wfs_0016.fits...\n",
      "Processing manual_wfs_0008.fits...\n"
     ]
    },
    {
     "name": "stderr",
     "output_type": "stream",
     "text": [
      "WARNING: File may have been truncated: actual file length (524288) is smaller than the expected size (529920) [astropy.io.fits.file]\n"
     ]
    },
    {
     "name": "stdout",
     "output_type": "stream",
     "text": [
      "Failure in data loading or spot finding in /Volumes/LACIE SHARE/wfsdat/20071016/manual_wfs_0008: buffer is too small for requested array\n",
      "Processing manual_wfs_0019.fits...\n"
     ]
    },
    {
     "name": "stderr",
     "output_type": "stream",
     "text": [
      "WARNING: File may have been truncated: actual file length (528384) is smaller than the expected size (529920) [astropy.io.fits.file]\n"
     ]
    },
    {
     "name": "stdout",
     "output_type": "stream",
     "text": [
      "Processing manual_wfs_0003.fits...\n",
      "Processing manual_wfs_0005.fits...\n",
      "Not processing manual_wfs_0015_ave.fits because it's an average of multiple images\n",
      "Processing manual_wfs_0021.fits...\n",
      "Processing manual_wfs_0010.fits...\n",
      "Processing manual_wfs_0012.fits...\n",
      "Processing manual_wfs_0024.fits...\n"
     ]
    },
    {
     "name": "stderr",
     "output_type": "stream",
     "text": [
      "WARNING: File may have been truncated: actual file length (524288) is smaller than the expected size (529920) [astropy.io.fits.file]\n"
     ]
    },
    {
     "name": "stdout",
     "output_type": "stream",
     "text": [
      "Failure in data loading or spot finding in /Volumes/LACIE SHARE/wfsdat/20071016/manual_wfs_0024: buffer is too small for requested array\n",
      "Processing manual_wfs_0025.fits...\n",
      "Failure in data loading or spot finding in /Volumes/LACIE SHARE/wfsdat/20071016/manual_wfs_0025: buffer is too small for requested array\n",
      "Processing manual_wfs_0026.fits...\n",
      "Processing manual_wfs_0017.fits...\n",
      "Processing manual_wfs_0020.fits...\n",
      "Not processing manual_wfs_0003_ave.fits because it's an average of multiple images\n",
      "Processing manual_wfs_0027.fits...\n"
     ]
    },
    {
     "name": "stderr",
     "output_type": "stream",
     "text": [
      "WARNING: File may have been truncated: actual file length (524288) is smaller than the expected size (529920) [astropy.io.fits.file]\n"
     ]
    },
    {
     "name": "stdout",
     "output_type": "stream",
     "text": [
      "Failure in data loading or spot finding in /Volumes/LACIE SHARE/wfsdat/20071016/manual_wfs_0027: buffer is too small for requested array\n",
      "Processing manual_wfs_0028.fits...\n",
      "Processing manual_wfs_0006.fits...\n",
      "Processing manual_wfs_0022.fits...\n",
      "Failure in data loading or spot finding in /Volumes/LACIE SHARE/wfsdat/20071016/manual_wfs_0022: buffer is too small for requested array\n",
      "Processing manual_wfs_0023.fits...\n"
     ]
    },
    {
     "name": "stderr",
     "output_type": "stream",
     "text": [
      "WARNING: File may have been truncated: actual file length (528384) is smaller than the expected size (529920) [astropy.io.fits.file]\n"
     ]
    },
    {
     "name": "stdout",
     "output_type": "stream",
     "text": [
      "Not processing manual_wfs_0010_ave.fits because it's an average of multiple images\n",
      "Processing manual_wfs_0029.fits...\n",
      "Processing manual_wfs_0013.fits...\n",
      "Processing manual_wfs_0032.fits...\n",
      "Processing manual_wfs_0018.fits...\n"
     ]
    },
    {
     "name": "stderr",
     "output_type": "stream",
     "text": [
      "WARNING: File may have been truncated: actual file length (524288) is smaller than the expected size (529920) [astropy.io.fits.file]\n"
     ]
    },
    {
     "name": "stdout",
     "output_type": "stream",
     "text": [
      "Failure in data loading or spot finding in /Volumes/LACIE SHARE/wfsdat/20071016/manual_wfs_0018: buffer is too small for requested array\n",
      "Processing manual_wfs_0034.fits...\n",
      "Not processing manual_wfs_0020_ave.fits because it's an average of multiple images\n",
      "Processing manual_wfs_0037.fits...\n",
      "Not processing manual_wfs_0028_ave.fits because it's an average of multiple images\n",
      "Processing manual_wfs_0039.fits...\n",
      "Processing manual_wfs_0041.fits...\n",
      "Not processing manual_wfs_0043_ave.fits because it's an average of multiple images\n",
      "Processing manual_wfs_0044.fits...\n",
      "Processing manual_wfs_0030.fits...\n",
      "Processing manual_wfs_0046.fits...\n",
      "Not processing manual_wfs_0032_ave.fits because it's an average of multiple images\n",
      "Processing manual_wfs_0033.fits...\n",
      "Not processing manual_wfs_0037_ave.fits because it's an average of multiple images\n",
      "Processing manual_wfs_0038.fits...\n",
      "Processing manual_wfs_0035.fits...\n",
      "Not processing manual_wfs_0039_ave.fits because it's an average of multiple images\n",
      "Processing manual_wfs_0040.fits...\n",
      "Processing manual_wfs_0042.fits...\n",
      "Processing manual_wfs_0045.fits...\n",
      "Processing manual_wfs_0031.fits...\n"
     ]
    },
    {
     "name": "stderr",
     "output_type": "stream",
     "text": [
      "WARNING: File may have been truncated: actual file length (524288) is smaller than the expected size (529920) [astropy.io.fits.file]\n"
     ]
    },
    {
     "name": "stdout",
     "output_type": "stream",
     "text": [
      "Failure in data loading or spot finding in /Volumes/LACIE SHARE/wfsdat/20071016/manual_wfs_0031: buffer is too small for requested array\n",
      "Processing manual_wfs_0049.fits...\n"
     ]
    },
    {
     "name": "stderr",
     "output_type": "stream",
     "text": [
      "WARNING: File may have been truncated: actual file length (528384) is smaller than the expected size (529920) [astropy.io.fits.file]\n"
     ]
    },
    {
     "name": "stdout",
     "output_type": "stream",
     "text": [
      "Processing manual_wfs_0047.fits...\n",
      "Processing manual_wfs_0051.fits...\n",
      "Processing manual_wfs_0054.fits...\n",
      "Failure in data loading or spot finding in /Volumes/LACIE SHARE/wfsdat/20071016/manual_wfs_0054: buffer is too small for requested array\n",
      "Processing manual_wfs_0055.fits...\n",
      "Processing manual_wfs_0036.fits...\n",
      "Failure in data loading or spot finding in /Volumes/LACIE SHARE/wfsdat/20071016/manual_wfs_0036: buffer is too small for requested array\n",
      "Processing manual_wfs_0056.fits...\n",
      "Processing manual_wfs_0043.fits...\n",
      "Processing tmp1362a.fits...\n",
      "Failure in data loading or spot finding in /Volumes/LACIE SHARE/wfsdat/20071016/tmp1362a: Header missing END card.\n",
      "Processing tmp199a.fits...\n",
      "Failure in data loading or spot finding in /Volumes/LACIE SHARE/wfsdat/20071016/tmp199a: Header missing END card.\n",
      "Processing tmp2084a.fits...\n",
      "Failure in data loading or spot finding in /Volumes/LACIE SHARE/wfsdat/20071016/tmp2084a: Header missing END card.\n",
      "Processing tmp2341a.fits...\n",
      "Failure in data loading or spot finding in /Volumes/LACIE SHARE/wfsdat/20071016/tmp2341a: Header missing END card.\n",
      "Processing tmp453a.fits...\n",
      "Failure in data loading or spot finding in /Volumes/LACIE SHARE/wfsdat/20071016/tmp453a: Header missing END card.\n",
      "Processing tmp553a.fits...\n",
      "Failure in data loading or spot finding in /Volumes/LACIE SHARE/wfsdat/20071016/tmp553a: Header missing END card.\n",
      "Processing tmp56a.fits...\n",
      "Failure in data loading or spot finding in /Volumes/LACIE SHARE/wfsdat/20071016/tmp56a: Header missing END card.\n",
      "Processing tmp912a.fits...\n",
      "Failure in data loading or spot finding in /Volumes/LACIE SHARE/wfsdat/20071016/tmp912a: Header missing END card.\n",
      "Processing tmp9605a.fits...\n",
      "Failure in data loading or spot finding in /Volumes/LACIE SHARE/wfsdat/20071016/tmp9605a: Header missing END card.\n",
      "Processing tmp975a.fits...\n",
      "Failure in data loading or spot finding in /Volumes/LACIE SHARE/wfsdat/20071016/tmp975a: Header missing END card.\n",
      "Processing tmp9920a.fits...\n",
      "Failure in data loading or spot finding in /Volumes/LACIE SHARE/wfsdat/20071016/tmp9920a: Header missing END card.\n",
      "Not processing manual_wfs_0049_ave.fits because it's an average of multiple images\n",
      "Processing manual_wfs_0050.fits...\n",
      "Processing manual_wfs_0048.fits...\n",
      "Processing manual_wfs_0052.fits...\n",
      "Processing manual_wfs_0057.fits...\n",
      "Failure in data loading or spot finding in /Volumes/LACIE SHARE/wfsdat/20071016/manual_wfs_0057: buffer is too small for requested array\n",
      "Processing manual_wfs_0058.fits...\n",
      "Failure in data loading or spot finding in /Volumes/LACIE SHARE/wfsdat/20071016/manual_wfs_0058: Empty or corrupt FITS file\n",
      "Not processing manual_wfs_0055_ave.fits because it's an average of multiple images\n",
      "Processing manual_wfs_0053.fits...\n",
      "Working in 20071018...\n",
      "Processing auto_wfs_0002.fits...\n",
      "Processing auto_wfs_0000.fits...\n",
      "Processing auto_wfs_0003.fits...\n",
      "Not processing auto_wfs_0002_ave.fits because it's an average of multiple images\n",
      "Processing auto_wfs_0005.fits...\n",
      "Processing auto_wfs_0001.fits...\n",
      "Processing auto_wfs_0004.fits...\n",
      "Not processing auto_wfs_0005_ave.fits because it's an average of multiple images\n",
      "Processing auto_wfs_0006.fits...\n",
      "Processing auto_wfs_0007.fits...\n"
     ]
    },
    {
     "name": "stderr",
     "output_type": "stream",
     "text": [
      "WARNING: The fit may be unsuccessful; check fit_info['message'] for more information. [astropy.modeling.fitting]\n",
      "WARNING: The fit may be unsuccessful; check fit_info['message'] for more information. [astropy.modeling.fitting]\n",
      "WARNING: The fit may be unsuccessful; check fit_info['message'] for more information. [astropy.modeling.fitting]\n",
      "WARNING: The fit may be unsuccessful; check fit_info['message'] for more information. [astropy.modeling.fitting]\n",
      "WARNING: The fit may be unsuccessful; check fit_info['message'] for more information. [astropy.modeling.fitting]\n",
      "WARNING: The fit may be unsuccessful; check fit_info['message'] for more information. [astropy.modeling.fitting]\n",
      "WARNING: The fit may be unsuccessful; check fit_info['message'] for more information. [astropy.modeling.fitting]\n",
      "WARNING: The fit may be unsuccessful; check fit_info['message'] for more information. [astropy.modeling.fitting]\n"
     ]
    },
    {
     "name": "stdout",
     "output_type": "stream",
     "text": [
      "Processing auto_wfs_0008.fits...\n",
      "Not processing auto_wfs_0008_ave.fits because it's an average of multiple images\n",
      "Processing auto_wfs_0009.fits...\n",
      "Processing auto_wfs_0010.fits...\n",
      "Processing auto_wfs_0011.fits...\n",
      "Processing auto_wfs_0012.fits...\n",
      "Not processing auto_wfs_0012_ave.fits because it's an average of multiple images\n",
      "Processing auto_wfs_0013.fits...\n",
      "Processing auto_wfs_0014.fits...\n",
      "Processing auto_wfs_0015.fits...\n",
      "Not processing auto_wfs_0015_ave.fits because it's an average of multiple images\n",
      "Processing auto_wfs_0016.fits...\n",
      "Processing auto_wfs_0017.fits...\n",
      "Processing auto_wfs_0018.fits...\n",
      "Not processing auto_wfs_0018_ave.fits because it's an average of multiple images\n",
      "Processing manual_wfs_0000.fits...\n",
      "Processing manual_wfs_0001.fits...\n",
      "Working in 20071019...\n",
      "Not processing auto_wfs_0007_ave.fits because it's an average of multiple images\n",
      "Processing auto_wfs_0003.fits...\n",
      "Processing auto_wfs_0005.fits...\n",
      "Processing auto_wfs_0000.fits...\n",
      "Processing auto_wfs_0010.fits...\n",
      "Processing auto_wfs_0012.fits...\n",
      "Processing auto_wfs_0014.fits...\n",
      "Processing auto_wfs_0008.fits...\n",
      "Processing auto_wfs_0017.fits...\n"
     ]
    },
    {
     "name": "stderr",
     "output_type": "stream",
     "text": [
      "WARNING: The fit may be unsuccessful; check fit_info['message'] for more information. [astropy.modeling.fitting]\n",
      "WARNING: The fit may be unsuccessful; check fit_info['message'] for more information. [astropy.modeling.fitting]\n",
      "WARNING: The fit may be unsuccessful; check fit_info['message'] for more information. [astropy.modeling.fitting]\n",
      "WARNING: The fit may be unsuccessful; check fit_info['message'] for more information. [astropy.modeling.fitting]\n",
      "WARNING: The fit may be unsuccessful; check fit_info['message'] for more information. [astropy.modeling.fitting]\n",
      "WARNING: The fit may be unsuccessful; check fit_info['message'] for more information. [astropy.modeling.fitting]\n",
      "WARNING: The fit may be unsuccessful; check fit_info['message'] for more information. [astropy.modeling.fitting]\n",
      "WARNING: The fit may be unsuccessful; check fit_info['message'] for more information. [astropy.modeling.fitting]\n"
     ]
    },
    {
     "name": "stdout",
     "output_type": "stream",
     "text": [
      "Processing auto_wfs_0018.fits...\n",
      "Processing auto_wfs_0001.fits...\n",
      "Not processing auto_wfs_0003_ave.fits because it's an average of multiple images\n",
      "Processing auto_wfs_0004.fits...\n",
      "Not processing auto_wfs_0010_ave.fits because it's an average of multiple images\n",
      "Processing auto_wfs_0011.fits...\n",
      "Processing auto_wfs_0009.fits...\n",
      "Processing auto_wfs_0006.fits...\n",
      "Processing auto_wfs_0013.fits...\n",
      "Processing auto_wfs_0015.fits...\n",
      "Processing auto_wfs_0019.fits...\n",
      "Processing auto_wfs_0002.fits...\n",
      "Not processing auto_wfs_0019_ave.fits because it's an average of multiple images\n",
      "Processing auto_wfs_0020.fits...\n",
      "Processing auto_wfs_0022.fits...\n",
      "Processing auto_wfs_0007.fits...\n",
      "Not processing auto_wfs_0013_ave.fits because it's an average of multiple images\n",
      "Processing auto_wfs_0024.fits...\n",
      "Processing auto_wfs_0026.fits...\n",
      "Processing auto_wfs_0016.fits...\n",
      "Processing auto_wfs_0029.fits...\n",
      "Not processing auto_wfs_0031_ave.fits because it's an average of multiple images\n",
      "Processing auto_wfs_0032.fits...\n",
      "Processing auto_wfs_0027.fits...\n",
      "Not processing auto_wfs_0022_ave.fits because it's an average of multiple images\n",
      "Processing auto_wfs_0023.fits...\n",
      "Processing auto_wfs_0021.fits...\n",
      "Processing auto_wfs_0034.fits...\n",
      "Processing auto_wfs_0025.fits...\n",
      "Processing auto_wfs_0036.fits...\n",
      "Processing auto_wfs_0028.fits...\n",
      "Processing auto_wfs_0030.fits...\n",
      "Processing auto_wfs_0033.fits...\n",
      "Processing auto_wfs_0038.fits...\n",
      "Not processing auto_wfs_0034_ave.fits because it's an average of multiple images\n",
      "Processing auto_wfs_0035.fits...\n",
      "Not processing auto_wfs_0040_ave.fits because it's an average of multiple images\n",
      "Processing auto_wfs_0041.fits...\n",
      "Processing auto_wfs_0037.fits...\n",
      "Not processing auto_wfs_0025_ave.fits because it's an average of multiple images\n",
      "Processing auto_wfs_0043.fits...\n",
      "Processing auto_wfs_0045.fits...\n",
      "Processing auto_wfs_0047.fits...\n",
      "Processing auto_wfs_0031.fits...\n",
      "Processing auto_wfs_0042.fits...\n",
      "Processing auto_wfs_0039.fits...\n",
      "Not processing auto_wfs_0037_ave.fits because it's an average of multiple images\n",
      "Not processing auto_wfs_0049_ave.fits because it's an average of multiple images\n",
      "Processing auto_wfs_0050.fits...\n",
      "Not processing auto_wfs_0043_ave.fits because it's an average of multiple images\n",
      "Processing auto_wfs_0044.fits...\n",
      "Processing auto_wfs_0052.fits...\n",
      "Processing auto_wfs_0046.fits...\n",
      "Processing manual_wfs_0001.fits...\n",
      "Processing auto_wfs_0048.fits...\n",
      "Processing manual_wfs_0004.fits...\n",
      "Processing auto_wfs_0051.fits...\n",
      "Processing auto_wfs_0040.fits...\n",
      "Processing manual_wfs_0007.fits...\n",
      "Not processing auto_wfs_0052_ave.fits because it's an average of multiple images\n",
      "Processing manual_wfs_0000.fits...\n",
      "Not processing auto_wfs_0046_ave.fits because it's an average of multiple images\n",
      "Processing manual_wfs_0010.fits...\n",
      "Processing auto_wfs_0049.fits...\n",
      "Processing manual_wfs_0002.fits...\n",
      "Processing manual_wfs_0005.fits...\n",
      "Processing manual_wfs_0008.fits...\n",
      "Processing manual_wfs_0003.fits...\n",
      "Processing manual_wfs_0006.fits...\n",
      "Processing manual_wfs_0009.fits...\n",
      "Working in 20071020...\n",
      "Processing auto_wfs_0003.fits...\n",
      "Processing auto_wfs_0000.fits...\n",
      "Not processing auto_wfs_0015_ave.fits because it's an average of multiple images\n",
      "Processing auto_wfs_0009.fits...\n",
      "Not processing auto_wfs_0018_ave.fits because it's an average of multiple images\n",
      "Processing auto_wfs_0006.fits...\n",
      "Processing auto_wfs_0012.fits...\n",
      "Not processing auto_wfs_0021_ave.fits because it's an average of multiple images\n",
      "Processing auto_wfs_0016.fits...\n",
      "Processing auto_wfs_0019.fits...\n",
      "Processing auto_wfs_0022.fits...\n"
     ]
    },
    {
     "name": "stderr",
     "output_type": "stream",
     "text": [
      "WARNING: The fit may be unsuccessful; check fit_info['message'] for more information. [astropy.modeling.fitting]\n",
      "WARNING: The fit may be unsuccessful; check fit_info['message'] for more information. [astropy.modeling.fitting]\n",
      "WARNING: The fit may be unsuccessful; check fit_info['message'] for more information. [astropy.modeling.fitting]\n",
      "WARNING: The fit may be unsuccessful; check fit_info['message'] for more information. [astropy.modeling.fitting]\n",
      "WARNING: The fit may be unsuccessful; check fit_info['message'] for more information. [astropy.modeling.fitting]\n",
      "WARNING: The fit may be unsuccessful; check fit_info['message'] for more information. [astropy.modeling.fitting]\n",
      "WARNING: The fit may be unsuccessful; check fit_info['message'] for more information. [astropy.modeling.fitting]\n",
      "WARNING: The fit may be unsuccessful; check fit_info['message'] for more information. [astropy.modeling.fitting]\n"
     ]
    },
    {
     "name": "stdout",
     "output_type": "stream",
     "text": [
      "Processing auto_wfs_0007.fits...\n",
      "Processing auto_wfs_0001.fits...\n",
      "Processing auto_wfs_0010.fits...\n",
      "Processing auto_wfs_0013.fits...\n",
      "Processing auto_wfs_0023.fits...\n",
      "Processing auto_wfs_0004.fits...\n",
      "Processing auto_wfs_0017.fits...\n",
      "Processing auto_wfs_0020.fits...\n",
      "Processing auto_wfs_0008.fits...\n",
      "Processing auto_wfs_0002.fits...\n",
      "Processing auto_wfs_0011.fits...\n",
      "Processing auto_wfs_0021.fits...\n",
      "Processing auto_wfs_0005.fits...\n",
      "Processing auto_wfs_0014.fits...\n",
      "Processing auto_wfs_0024.fits...\n",
      "Processing auto_wfs_0018.fits...\n",
      "Not processing auto_wfs_0002_ave.fits because it's an average of multiple images\n",
      "Not processing auto_wfs_0024_ave.fits because it's an average of multiple images\n",
      "Processing auto_wfs_0025.fits...\n",
      "Not processing auto_wfs_0008_ave.fits because it's an average of multiple images\n",
      "Not processing auto_wfs_0027_ave.fits because it's an average of multiple images\n",
      "Processing auto_wfs_0028.fits...\n",
      "Not processing auto_wfs_0005_ave.fits because it's an average of multiple images\n",
      "Not processing auto_wfs_0030_ave.fits because it's an average of multiple images\n",
      "Processing auto_wfs_0031.fits...\n",
      "Not processing auto_wfs_0011_ave.fits because it's an average of multiple images\n",
      "Processing auto_wfs_0034.fits...\n",
      "Processing auto_wfs_0015.fits...\n",
      "Processing auto_wfs_0037.fits...\n",
      "Processing auto_wfs_0040.fits...\n",
      "Processing auto_wfs_0043.fits...\n",
      "Processing auto_wfs_0026.fits...\n",
      "Processing auto_wfs_0029.fits...\n",
      "Processing auto_wfs_0032.fits...\n",
      "Processing auto_wfs_0035.fits...\n",
      "Processing auto_wfs_0046.fits...\n",
      "Processing auto_wfs_0044.fits...\n",
      "Processing auto_wfs_0041.fits...\n",
      "Processing auto_wfs_0038.fits...\n",
      "Processing auto_wfs_0027.fits...\n",
      "Processing auto_wfs_0030.fits...\n",
      "Processing auto_wfs_0033.fits...\n",
      "Not processing auto_wfs_0035_ave.fits because it's an average of multiple images\n",
      "Processing auto_wfs_0036.fits...\n",
      "Processing auto_wfs_0045.fits...\n",
      "Not processing auto_wfs_0041_ave.fits because it's an average of multiple images\n",
      "Processing auto_wfs_0042.fits...\n",
      "Processing auto_wfs_0047.fits...\n",
      "Not processing auto_wfs_0038_ave.fits because it's an average of multiple images\n",
      "Processing auto_wfs_0039.fits...\n",
      "Processing auto_wfs_0049.fits...\n",
      "Processing auto_wfs_0052.fits...\n",
      "Not processing auto_wfs_0045_ave.fits because it's an average of multiple images\n",
      "Processing auto_wfs_0055.fits...\n",
      "Processing auto_wfs_0048.fits...\n",
      "Processing auto_wfs_0058.fits...\n",
      "Processing auto_wfs_0061.fits...\n",
      "Processing auto_wfs_0064.fits...\n",
      "Processing auto_wfs_0067.fits...\n",
      "Processing auto_wfs_0053.fits...\n",
      "Processing auto_wfs_0050.fits...\n",
      "Not processing auto_wfs_0048_ave.fits because it's an average of multiple images\n",
      "Processing auto_wfs_0070.fits...\n",
      "Processing auto_wfs_0056.fits...\n",
      "Processing auto_wfs_0059.fits...\n",
      "Processing auto_wfs_0062.fits...\n",
      "Processing auto_wfs_0068.fits...\n",
      "Processing auto_wfs_0065.fits...\n",
      "Processing auto_wfs_0054.fits...\n",
      "Processing auto_wfs_0051.fits...\n",
      "Processing auto_wfs_0071.fits...\n",
      "Processing auto_wfs_0057.fits...\n",
      "Processing auto_wfs_0063.fits...\n",
      "Processing auto_wfs_0060.fits...\n",
      "Processing auto_wfs_0069.fits...\n",
      "Processing auto_wfs_0066.fits...\n",
      "Not processing auto_wfs_0054_ave.fits because it's an average of multiple images\n",
      "Processing auto_wfs_0073.fits...\n",
      "Not processing auto_wfs_0051_ave.fits because it's an average of multiple images\n",
      "Processing auto_wfs_0076.fits...\n",
      "Processing auto_wfs_0072.fits...\n",
      "Not processing auto_wfs_0057_ave.fits because it's an average of multiple images\n",
      "Processing auto_wfs_0079.fits...\n",
      "Not processing auto_wfs_0063_ave.fits because it's an average of multiple images\n",
      "Processing auto_wfs_0082.fits...\n",
      "Not processing auto_wfs_0060_ave.fits because it's an average of multiple images\n",
      "Processing auto_wfs_0085.fits...\n",
      "Not processing auto_wfs_0069_ave.fits because it's an average of multiple images\n",
      "Processing manual_wfs_0000.fits...\n",
      "Not processing auto_wfs_0066_ave.fits because it's an average of multiple images\n",
      "Processing manual_wfs_0004.fits...\n",
      "Processing auto_wfs_0074.fits...\n",
      "Not processing auto_wfs_0072_ave.fits because it's an average of multiple images\n",
      "Processing auto_wfs_0077.fits...\n",
      "Processing manual_wfs_0001.fits...\n",
      "Processing auto_wfs_0080.fits...\n",
      "Processing auto_wfs_0086.fits...\n",
      "Processing auto_wfs_0083.fits...\n",
      "Processing manual_wfs_0005.fits...\n",
      "Processing auto_wfs_0075.fits...\n",
      "Processing auto_wfs_0078.fits...\n",
      "Processing manual_wfs_0002.fits...\n",
      "Processing auto_wfs_0081.fits...\n",
      "Processing auto_wfs_0084.fits...\n",
      "Processing auto_wfs_0087.fits...\n",
      "Processing manual_wfs_0006.fits...\n",
      "Not processing auto_wfs_0075_ave.fits because it's an average of multiple images\n",
      "Not processing auto_wfs_0078_ave.fits because it's an average of multiple images\n",
      "Processing manual_wfs_0003.fits...\n",
      "Not processing auto_wfs_0081_ave.fits because it's an average of multiple images\n",
      "Not processing auto_wfs_0084_ave.fits because it's an average of multiple images\n",
      "Not processing auto_wfs_0087_ave.fits because it's an average of multiple images\n",
      "Working in 20071021...\n",
      "Processing auto_wfs_0009.fits...\n",
      "Not processing auto_wfs_0015_ave.fits because it's an average of multiple images\n",
      "Processing auto_wfs_0003.fits...\n",
      "Not processing auto_wfs_0012_ave.fits because it's an average of multiple images\n",
      "Processing auto_wfs_0006.fits...\n",
      "Processing auto_wfs_0000.fits...\n",
      "Not processing auto_wfs_0018_ave.fits because it's an average of multiple images\n",
      "Processing auto_wfs_0016.fits...\n",
      "Processing auto_wfs_0013.fits...\n",
      "Not processing auto_wfs_0021_ave.fits because it's an average of multiple images\n",
      "Processing auto_wfs_0019.fits...\n",
      "Processing auto_wfs_0022.fits...\n"
     ]
    },
    {
     "name": "stderr",
     "output_type": "stream",
     "text": [
      "WARNING: The fit may be unsuccessful; check fit_info['message'] for more information. [astropy.modeling.fitting]\n",
      "WARNING: The fit may be unsuccessful; check fit_info['message'] for more information. [astropy.modeling.fitting]\n",
      "WARNING: The fit may be unsuccessful; check fit_info['message'] for more information. [astropy.modeling.fitting]\n",
      "WARNING: The fit may be unsuccessful; check fit_info['message'] for more information. [astropy.modeling.fitting]\n",
      "WARNING: The fit may be unsuccessful; check fit_info['message'] for more information. [astropy.modeling.fitting]\n",
      "WARNING: The fit may be unsuccessful; check fit_info['message'] for more information. [astropy.modeling.fitting]\n",
      "WARNING: The fit may be unsuccessful; check fit_info['message'] for more information. [astropy.modeling.fitting]\n",
      "WARNING: The fit may be unsuccessful; check fit_info['message'] for more information. [astropy.modeling.fitting]\n"
     ]
    },
    {
     "name": "stdout",
     "output_type": "stream",
     "text": [
      "Processing auto_wfs_0023.fits...\n",
      "Processing auto_wfs_0010.fits...\n",
      "Processing auto_wfs_0017.fits...\n",
      "Processing auto_wfs_0007.fits...\n",
      "Processing auto_wfs_0020.fits...\n",
      "Processing auto_wfs_0014.fits...\n",
      "Processing auto_wfs_0004.fits...\n",
      "Processing auto_wfs_0001.fits...\n",
      "Processing auto_wfs_0024.fits...\n",
      "Processing auto_wfs_0018.fits...\n",
      "Processing auto_wfs_0015.fits...\n",
      "Processing auto_wfs_0021.fits...\n",
      "Processing auto_wfs_0011.fits...\n",
      "Processing auto_wfs_0008.fits...\n",
      "Processing auto_wfs_0005.fits...\n",
      "Processing auto_wfs_0002.fits...\n",
      "Not processing auto_wfs_0024_ave.fits because it's an average of multiple images\n",
      "Processing auto_wfs_0025.fits...\n",
      "Not processing auto_wfs_0027_ave.fits because it's an average of multiple images\n",
      "Processing auto_wfs_0028.fits...\n",
      "Not processing auto_wfs_0030_ave.fits because it's an average of multiple images\n",
      "Processing auto_wfs_0031.fits...\n",
      "Processing auto_wfs_0012.fits...\n",
      "Processing auto_wfs_0034.fits...\n",
      "Not processing auto_wfs_0008_ave.fits because it's an average of multiple images\n",
      "Processing auto_wfs_0037.fits...\n",
      "Not processing auto_wfs_0005_ave.fits because it's an average of multiple images\n",
      "Processing auto_wfs_0040.fits...\n",
      "Not processing auto_wfs_0002_ave.fits because it's an average of multiple images\n",
      "Processing auto_wfs_0043.fits...\n",
      "Processing auto_wfs_0026.fits...\n",
      "Processing auto_wfs_0029.fits...\n",
      "Processing auto_wfs_0035.fits...\n",
      "Processing auto_wfs_0046.fits...\n",
      "Processing auto_wfs_0038.fits...\n",
      "Processing auto_wfs_0032.fits...\n",
      "Processing auto_wfs_0041.fits...\n",
      "Processing auto_wfs_0044.fits...\n",
      "Processing auto_wfs_0027.fits...\n",
      "Processing auto_wfs_0030.fits...\n",
      "Not processing auto_wfs_0035_ave.fits because it's an average of multiple images\n",
      "Processing auto_wfs_0036.fits...\n",
      "Processing auto_wfs_0047.fits...\n",
      "Not processing auto_wfs_0038_ave.fits because it's an average of multiple images\n",
      "Processing auto_wfs_0039.fits...\n",
      "Processing auto_wfs_0033.fits...\n",
      "Not processing auto_wfs_0041_ave.fits because it's an average of multiple images\n",
      "Processing auto_wfs_0042.fits...\n",
      "Not processing auto_wfs_0044_ave.fits because it's an average of multiple images\n",
      "Processing auto_wfs_0045.fits...\n",
      "Processing auto_wfs_0049.fits...\n",
      "Processing auto_wfs_0052.fits...\n",
      "Not processing auto_wfs_0047_ave.fits because it's an average of multiple images\n",
      "Processing auto_wfs_0048.fits...\n",
      "Processing auto_wfs_0055.fits...\n",
      "Processing auto_wfs_0058.fits...\n",
      "Processing auto_wfs_0061.fits...\n",
      "Processing auto_wfs_0056.fits...\n",
      "Processing auto_wfs_0064.fits...\n",
      "Processing auto_wfs_0067.fits...\n",
      "Not processing auto_wfs_0056_ave.fits because it's an average of multiple images\n",
      "Processing auto_wfs_0057.fits...\n",
      "Processing auto_wfs_0050.fits...\n",
      "Processing auto_wfs_0053.fits...\n",
      "Processing auto_wfs_0070.fits...\n",
      "Processing auto_wfs_0062.fits...\n",
      "Processing auto_wfs_0059.fits...\n",
      "Processing auto_wfs_0065.fits...\n",
      "Processing auto_wfs_0068.fits...\n",
      "Processing auto_wfs_0069.fits...\n",
      "Processing auto_wfs_0073.fits...\n",
      "Not processing auto_wfs_0069_ave.fits because it's an average of multiple images\n",
      "Processing manual_wfs_0000.fits...\n",
      "Not processing auto_wfs_0050_ave.fits because it's an average of multiple images\n",
      "Processing auto_wfs_0051.fits...\n",
      "Processing auto_wfs_0071.fits...\n",
      "Not processing auto_wfs_0053_ave.fits because it's an average of multiple images\n",
      "Processing auto_wfs_0054.fits...\n",
      "Processing manual_wfs_0004.fits...\n",
      "Processing auto_wfs_0060.fits...\n",
      "Processing auto_wfs_0063.fits...\n",
      "Processing auto_wfs_0066.fits...\n",
      "Processing auto_wfs_0074.fits...\n",
      "Processing manual_wfs_0001.fits...\n",
      "Processing auto_wfs_0072.fits...\n",
      "Processing manual_wfs_0005.fits...\n",
      "Not processing auto_wfs_0060_ave.fits because it's an average of multiple images\n",
      "Not processing auto_wfs_0063_ave.fits because it's an average of multiple images\n",
      "Not processing auto_wfs_0066_ave.fits because it's an average of multiple images\n",
      "Processing auto_wfs_0075.fits...\n",
      "Processing manual_wfs_0002.fits...\n",
      "Not processing auto_wfs_0072_ave.fits because it's an average of multiple images\n",
      "Processing manual_wfs_0006.fits...\n",
      "Processing manual_wfs_0003.fits...\n",
      "Not processing auto_wfs_0075_ave.fits because it's an average of multiple images\n",
      "Processing manual_wfs_0007.fits...\n",
      "Working in 20071022...\n",
      "Processing auto_wfs_0002.fits...\n",
      "Processing auto_wfs_0000.fits...\n",
      "Not processing auto_wfs_0002_ave.fits because it's an average of multiple images\n",
      "Processing auto_wfs_0001.fits...\n",
      "Processing auto_wfs_0003.fits...\n",
      "Processing auto_wfs_0004.fits...\n",
      "Processing auto_wfs_0005.fits...\n",
      "Not processing auto_wfs_0005_ave.fits because it's an average of multiple images\n",
      "Processing manual_wfs_0000.fits...\n",
      "Processing manual_wfs_0001.fits...\n"
     ]
    },
    {
     "name": "stderr",
     "output_type": "stream",
     "text": [
      "WARNING: The fit may be unsuccessful; check fit_info['message'] for more information. [astropy.modeling.fitting]\n",
      "WARNING: The fit may be unsuccessful; check fit_info['message'] for more information. [astropy.modeling.fitting]\n",
      "WARNING: The fit may be unsuccessful; check fit_info['message'] for more information. [astropy.modeling.fitting]\n",
      "WARNING: The fit may be unsuccessful; check fit_info['message'] for more information. [astropy.modeling.fitting]\n",
      "WARNING: The fit may be unsuccessful; check fit_info['message'] for more information. [astropy.modeling.fitting]\n",
      "WARNING: The fit may be unsuccessful; check fit_info['message'] for more information. [astropy.modeling.fitting]\n"
     ]
    },
    {
     "name": "stdout",
     "output_type": "stream",
     "text": [
      "Processing manual_wfs_0002.fits...\n"
     ]
    },
    {
     "name": "stderr",
     "output_type": "stream",
     "text": [
      "WARNING: The fit may be unsuccessful; check fit_info['message'] for more information. [astropy.modeling.fitting]\n",
      "WARNING: The fit may be unsuccessful; check fit_info['message'] for more information. [astropy.modeling.fitting]\n"
     ]
    },
    {
     "name": "stdout",
     "output_type": "stream",
     "text": [
      "Not processing manual_wfs_0002_ave.fits because it's an average of multiple images\n",
      "Processing manual_wfs_0003.fits...\n",
      "Processing manual_wfs_0004.fits...\n",
      "Working in 20071023...\n",
      "Processing auto_wfs_0002.fits...\n",
      "Processing auto_wfs_0000.fits...\n",
      "Processing auto_wfs_0001.fits...\n",
      "Processing test_0000.fits...\n",
      "Not processing auto_wfs_0002_ave.fits because it's an average of multiple images\n",
      "Processing back.fits...\n",
      "Processing test_0001.fits...\n",
      "Processing test_0002.fits...\n",
      "Processing test_0003.fits...\n"
     ]
    },
    {
     "name": "stderr",
     "output_type": "stream",
     "text": [
      "WARNING: The fit may be unsuccessful; check fit_info['message'] for more information. [astropy.modeling.fitting]\n",
      "WARNING: No sources were found. [photutils.detection.findstars]\n",
      "WARNING: No sources were found. [photutils.detection.findstars]\n"
     ]
    },
    {
     "name": "stdout",
     "output_type": "stream",
     "text": [
      "Processing test_0004.fits...\n"
     ]
    },
    {
     "name": "stderr",
     "output_type": "stream",
     "text": [
      "WARNING: No sources were found. [photutils.detection.findstars]\n",
      "WARNING: The fit may be unsuccessful; check fit_info['message'] for more information. [astropy.modeling.fitting]\n",
      "WARNING: The fit may be unsuccessful; check fit_info['message'] for more information. [astropy.modeling.fitting]\n",
      "WARNING: The fit may be unsuccessful; check fit_info['message'] for more information. [astropy.modeling.fitting]\n",
      "WARNING: The fit may be unsuccessful; check fit_info['message'] for more information. [astropy.modeling.fitting]\n",
      "/Users/tim/conda/envs/py36/lib/python3.6/site-packages/ipykernel_launcher.py:103: RuntimeWarning: invalid value encountered in sqrt\n"
     ]
    },
    {
     "name": "stdout",
     "output_type": "stream",
     "text": [
      "Processing test_0005.fits...\n"
     ]
    },
    {
     "name": "stderr",
     "output_type": "stream",
     "text": [
      "WARNING: The fit may be unsuccessful; check fit_info['message'] for more information. [astropy.modeling.fitting]\n"
     ]
    },
    {
     "name": "stdout",
     "output_type": "stream",
     "text": [
      "Processing test_0006.fits...\n",
      "Processing test_0007.fits...\n",
      "Processing test_0008.fits...\n"
     ]
    },
    {
     "name": "stderr",
     "output_type": "stream",
     "text": [
      "WARNING: The fit may be unsuccessful; check fit_info['message'] for more information. [astropy.modeling.fitting]\n",
      "WARNING: The fit may be unsuccessful; check fit_info['message'] for more information. [astropy.modeling.fitting]\n",
      "WARNING: No sources were found. [photutils.detection.findstars]\n",
      "/Users/tim/conda/envs/py36/lib/python3.6/site-packages/ipykernel_launcher.py:103: RuntimeWarning: invalid value encountered in sqrt\n"
     ]
    },
    {
     "name": "stdout",
     "output_type": "stream",
     "text": [
      "Processing test_0009.fits...\n",
      "Processing test_0010.fits...\n",
      "Processing test_0011.fits...\n",
      "Processing test_0012.fits...\n"
     ]
    },
    {
     "name": "stderr",
     "output_type": "stream",
     "text": [
      "WARNING: No sources were found. [photutils.detection.findstars]\n",
      "WARNING: No sources were found. [photutils.detection.findstars]\n"
     ]
    },
    {
     "name": "stdout",
     "output_type": "stream",
     "text": [
      "Failed to find spots for /Volumes/LACIE SHARE/wfsdat/20071023/test_0010: (WFSAnalysisFailed(...), 'No WFS spots detected.')\n",
      "Processing test_0013.fits...\n"
     ]
    },
    {
     "name": "stderr",
     "output_type": "stream",
     "text": [
      "WARNING: No sources were found. [photutils.detection.findstars]\n"
     ]
    },
    {
     "name": "stdout",
     "output_type": "stream",
     "text": [
      "Processing test_0014.fits...\n"
     ]
    },
    {
     "name": "stderr",
     "output_type": "stream",
     "text": [
      "WARNING: No sources were found. [photutils.detection.findstars]\n"
     ]
    },
    {
     "name": "stdout",
     "output_type": "stream",
     "text": [
      "Processing test_0015.fits...\n",
      "Processing test_0016.fits...\n",
      "Processing test_0017.fits...\n"
     ]
    },
    {
     "name": "stderr",
     "output_type": "stream",
     "text": [
      "WARNING: Sources were found, but none pass the sharpness and roundness criteria. [photutils.detection.findstars]\n"
     ]
    },
    {
     "name": "stdout",
     "output_type": "stream",
     "text": [
      "Failed to find spots for /Volumes/LACIE SHARE/wfsdat/20071023/test_0016: (WFSAnalysisFailed(...), 'No WFS spots detected.')\n",
      "Working in 20071024...\n",
      "Processing test_0000.fits...\n",
      "Processing back.fits...\n",
      "Processing test_0001.fits...\n",
      "Processing test_0003.fits...\n",
      "Processing test_0002.fits...\n"
     ]
    },
    {
     "name": "stderr",
     "output_type": "stream",
     "text": [
      "WARNING: No sources were found. [photutils.detection.findstars]\n",
      "WARNING: No sources were found. [photutils.detection.findstars]\n",
      "WARNING: The fit may be unsuccessful; check fit_info['message'] for more information. [astropy.modeling.fitting]\n"
     ]
    },
    {
     "name": "stdout",
     "output_type": "stream",
     "text": [
      "Failed to find spots for /Volumes/LACIE SHARE/wfsdat/20071024/test_0000: (WFSAnalysisFailed(...), 'No WFS spots detected.')\n",
      "Failed to find spots for /Volumes/LACIE SHARE/wfsdat/20071024/test_0003: (WFSAnalysisFailed(...), 'No WFS spots detected.')\n"
     ]
    },
    {
     "name": "stderr",
     "output_type": "stream",
     "text": [
      "WARNING: No sources were found. [photutils.detection.findstars]\n",
      "WARNING: No sources were found. [photutils.detection.findstars]\n"
     ]
    },
    {
     "name": "stdout",
     "output_type": "stream",
     "text": [
      "Failed to find spots for /Volumes/LACIE SHARE/wfsdat/20071024/test_0002: (WFSAnalysisFailed(...), 'No WFS spots detected.')\n",
      "Failed to find spots for /Volumes/LACIE SHARE/wfsdat/20071024/test_0001: (WFSAnalysisFailed(...), 'No WFS spots detected.')\n",
      "Working in 20071025...\n",
      "Processing auto_wfs_0000.fits...\n",
      "Not processing auto_wfs_0002_ave.fits because it's an average of multiple images\n",
      "Processing auto_wfs_0007.fits...\n",
      "Not processing auto_wfs_0009_ave.fits because it's an average of multiple images\n",
      "Processing auto_wfs_0012.fits...\n",
      "Processing auto_wfs_0005.fits...\n",
      "Processing auto_wfs_0014.fits...\n",
      "Not processing auto_wfs_0016_ave.fits because it's an average of multiple images\n",
      "Processing auto_wfs_0003.fits...\n",
      "Processing auto_wfs_0010.fits...\n",
      "Processing auto_wfs_0017.fits...\n"
     ]
    },
    {
     "name": "stderr",
     "output_type": "stream",
     "text": [
      "WARNING: No sources were found. [photutils.detection.findstars]\n"
     ]
    },
    {
     "name": "stdout",
     "output_type": "stream",
     "text": [
      "Failed to find spots for /Volumes/LACIE SHARE/wfsdat/20071025/auto_wfs_0000: (WFSAnalysisFailed(...), 'No WFS spots detected.')\n",
      "Processing auto_wfs_0001.fits...\n"
     ]
    },
    {
     "name": "stderr",
     "output_type": "stream",
     "text": [
      "WARNING: No sources were found. [photutils.detection.findstars]\n",
      "WARNING: The fit may be unsuccessful; check fit_info['message'] for more information. [astropy.modeling.fitting]\n",
      "WARNING: The fit may be unsuccessful; check fit_info['message'] for more information. [astropy.modeling.fitting]\n"
     ]
    },
    {
     "name": "stdout",
     "output_type": "stream",
     "text": [
      "Failed to find spots for /Volumes/LACIE SHARE/wfsdat/20071025/auto_wfs_0001: (WFSAnalysisFailed(...), 'No WFS spots detected.')\n",
      "Processing auto_wfs_0002.fits...\n"
     ]
    },
    {
     "name": "stderr",
     "output_type": "stream",
     "text": [
      "WARNING: The fit may be unsuccessful; check fit_info['message'] for more information. [astropy.modeling.fitting]\n",
      "WARNING: The fit may be unsuccessful; check fit_info['message'] for more information. [astropy.modeling.fitting]\n",
      "WARNING: The fit may be unsuccessful; check fit_info['message'] for more information. [astropy.modeling.fitting]\n"
     ]
    },
    {
     "name": "stdout",
     "output_type": "stream",
     "text": [
      "Failed to find spots for /Volumes/LACIE SHARE/wfsdat/20071025/auto_wfs_0002: (WFSAnalysisFailed(...), 'No WFS spots detected.')\n",
      "Processing auto_wfs_0019.fits...\n"
     ]
    },
    {
     "name": "stderr",
     "output_type": "stream",
     "text": [
      "WARNING: The fit may be unsuccessful; check fit_info['message'] for more information. [astropy.modeling.fitting]\n",
      "WARNING: The fit may be unsuccessful; check fit_info['message'] for more information. [astropy.modeling.fitting]\n",
      "WARNING: The fit may be unsuccessful; check fit_info['message'] for more information. [astropy.modeling.fitting]\n"
     ]
    },
    {
     "name": "stdout",
     "output_type": "stream",
     "text": [
      "Processing auto_wfs_0006.fits...\n",
      "Processing auto_wfs_0008.fits...\n",
      "Processing auto_wfs_0011.fits...\n",
      "Processing auto_wfs_0018.fits...\n",
      "Processing auto_wfs_0004.fits...\n",
      "Not processing auto_wfs_0012_ave.fits because it's an average of multiple images\n",
      "Processing auto_wfs_0013.fits...\n",
      "Processing auto_wfs_0015.fits...\n",
      "Not processing auto_wfs_0019_ave.fits because it's an average of multiple images\n",
      "Processing auto_wfs_0020.fits...\n",
      "Processing auto_wfs_0009.fits...\n",
      "Processing auto_wfs_0021.fits...\n",
      "Not processing auto_wfs_0006_ave.fits because it's an average of multiple images\n",
      "Processing auto_wfs_0023.fits...\n",
      "Not processing auto_wfs_0025_ave.fits because it's an average of multiple images\n",
      "Processing auto_wfs_0026.fits...\n",
      "Processing auto_wfs_0028.fits...\n",
      "Processing auto_wfs_0016.fits...\n",
      "Processing auto_wfs_0030.fits...\n",
      "Not processing auto_wfs_0032_ave.fits because it's an average of multiple images\n",
      "Processing auto_wfs_0033.fits...\n",
      "Processing auto_wfs_0035.fits...\n",
      "Processing auto_wfs_0027.fits...\n",
      "Processing auto_wfs_0022.fits...\n",
      "Processing auto_wfs_0024.fits...\n",
      "Not processing auto_wfs_0028_ave.fits because it's an average of multiple images\n",
      "Processing auto_wfs_0029.fits...\n",
      "Processing auto_wfs_0037.fits...\n",
      "Processing auto_wfs_0031.fits...\n",
      "Processing auto_wfs_0034.fits...\n",
      "Not processing auto_wfs_0035_ave.fits because it's an average of multiple images\n",
      "Processing auto_wfs_0036.fits...\n",
      "Not processing auto_wfs_0022_ave.fits because it's an average of multiple images\n",
      "Processing back.fits...\n",
      "Processing test_0000.fits...\n"
     ]
    },
    {
     "name": "stderr",
     "output_type": "stream",
     "text": [
      "WARNING: No sources were found. [photutils.detection.findstars]\n"
     ]
    },
    {
     "name": "stdout",
     "output_type": "stream",
     "text": [
      "Failed to find spots for /Volumes/LACIE SHARE/wfsdat/20071025/test_0000: (WFSAnalysisFailed(...), 'No WFS spots detected.')\n",
      "Processing test_0001.fits...\n",
      "Processing test_0002.fits...\n",
      "Processing auto_wfs_0032.fits...\n",
      "Processing auto_wfs_0038.fits...\n"
     ]
    },
    {
     "name": "stderr",
     "output_type": "stream",
     "text": [
      "WARNING: No sources were found. [photutils.detection.findstars]\n"
     ]
    },
    {
     "name": "stdout",
     "output_type": "stream",
     "text": [
      "Processing auto_wfs_0025.fits...\n",
      "Processing test_0003.fits...\n",
      "Processing test_0005.fits...\n",
      "Failed to find spots for /Volumes/LACIE SHARE/wfsdat/20071025/test_0005: (WFSAnalysisFailed(...), 'No WFS spots detected.')\n",
      "Processing test_0006.fits...\n",
      "Failed to find spots for /Volumes/LACIE SHARE/wfsdat/20071025/test_0006: (WFSAnalysisFailed(...), 'No WFS spots detected.')\n",
      "Processing test_0007.fits...\n",
      "Failed to find spots for /Volumes/LACIE SHARE/wfsdat/20071025/test_0003: (WFSAnalysisFailed(...), 'No WFS spots detected.')\n",
      "Processing test_0004.fits...\n",
      "Processing test_0008.fits...\n",
      "Processing test_0011.fits...\n"
     ]
    },
    {
     "name": "stderr",
     "output_type": "stream",
     "text": [
      "WARNING: No sources were found. [photutils.detection.findstars]\n"
     ]
    },
    {
     "name": "stdout",
     "output_type": "stream",
     "text": [
      "Failed to find spots for /Volumes/LACIE SHARE/wfsdat/20071025/test_0008: (WFSAnalysisFailed(...), 'No WFS spots detected.')\n",
      "Processing test_0009.fits...\n",
      "Failed to find spots for /Volumes/LACIE SHARE/wfsdat/20071025/test_0004: (WFSAnalysisFailed(...), 'No WFS spots detected.')\n",
      "Processing test_0014.fits...\n",
      "Processing test_0017.fits...\n",
      "Processing test_0018.fits...\n",
      "Processing test_0020.fits...\n",
      "Processing test_0023.fits...\n",
      "Not processing auto_wfs_0038_ave.fits because it's an average of multiple images\n",
      "Processing test_0021.fits...\n",
      "Processing test_0015.fits...\n",
      "Processing test_0012.fits...\n",
      "Processing test_0010.fits...\n",
      "Processing test_0016.fits...\n",
      "Processing test_0019.fits...\n",
      "Processing test_0013.fits...\n",
      "Processing test_0022.fits...\n",
      "Working in 20071026...\n",
      "Processing auto_wfs_0005.fits...\n",
      "Processing auto_wfs_0003.fits...\n",
      "Processing auto_wfs_0000.fits...\n",
      "Processing auto_wfs_0012.fits...\n",
      "Not processing auto_wfs_0009_ave.fits because it's an average of multiple images\n",
      "Processing auto_wfs_0007.fits...\n",
      "Processing auto_wfs_0014.fits...\n",
      "Not processing auto_wfs_0016_ave.fits because it's an average of multiple images\n",
      "Processing auto_wfs_0010.fits...\n",
      "Processing auto_wfs_0017.fits...\n"
     ]
    },
    {
     "name": "stderr",
     "output_type": "stream",
     "text": [
      "WARNING: The fit may be unsuccessful; check fit_info['message'] for more information. [astropy.modeling.fitting]\n",
      "WARNING: The fit may be unsuccessful; check fit_info['message'] for more information. [astropy.modeling.fitting]\n",
      "WARNING: The fit may be unsuccessful; check fit_info['message'] for more information. [astropy.modeling.fitting]\n",
      "WARNING: The fit may be unsuccessful; check fit_info['message'] for more information. [astropy.modeling.fitting]\n",
      "WARNING: The fit may be unsuccessful; check fit_info['message'] for more information. [astropy.modeling.fitting]\n",
      "WARNING: The fit may be unsuccessful; check fit_info['message'] for more information. [astropy.modeling.fitting]\n",
      "WARNING: The fit may be unsuccessful; check fit_info['message'] for more information. [astropy.modeling.fitting]\n",
      "WARNING: The fit may be unsuccessful; check fit_info['message'] for more information. [astropy.modeling.fitting]\n"
     ]
    },
    {
     "name": "stdout",
     "output_type": "stream",
     "text": [
      "Processing auto_wfs_0006.fits...\n",
      "Processing auto_wfs_0008.fits...\n",
      "Processing auto_wfs_0001.fits...\n",
      "Processing auto_wfs_0013.fits...\n",
      "Not processing auto_wfs_0003_ave.fits because it's an average of multiple images\n",
      "Processing auto_wfs_0018.fits...\n",
      "Processing auto_wfs_0004.fits...\n",
      "Processing auto_wfs_0015.fits...\n",
      "Processing auto_wfs_0011.fits...\n",
      "Processing auto_wfs_0009.fits...\n",
      "Not processing auto_wfs_0006_ave.fits because it's an average of multiple images\n",
      "Processing auto_wfs_0019.fits...\n",
      "Processing auto_wfs_0021.fits...\n",
      "Processing auto_wfs_0002.fits...\n",
      "Processing auto_wfs_0024.fits...\n",
      "Processing auto_wfs_0026.fits...\n",
      "Not processing auto_wfs_0013_ave.fits because it's an average of multiple images\n",
      "Processing auto_wfs_0028.fits...\n",
      "Processing auto_wfs_0016.fits...\n",
      "Not processing auto_wfs_0030_ave.fits because it's an average of multiple images\n",
      "Processing auto_wfs_0031.fits...\n",
      "Processing auto_wfs_0022.fits...\n",
      "Not processing auto_wfs_0019_ave.fits because it's an average of multiple images\n",
      "Processing auto_wfs_0020.fits...\n",
      "Processing auto_wfs_0032.fits...\n",
      "Processing auto_wfs_0033.fits...\n",
      "Processing auto_wfs_0029.fits...\n",
      "Processing auto_wfs_0027.fits...\n",
      "Not processing auto_wfs_0024_ave.fits because it's an average of multiple images\n",
      "Processing auto_wfs_0025.fits...\n",
      "Processing auto_wfs_0035.fits...\n",
      "Processing auto_wfs_0037.fits...\n",
      "Processing auto_wfs_0023.fits...\n",
      "Not processing auto_wfs_0039_ave.fits because it's an average of multiple images\n",
      "Processing auto_wfs_0040.fits...\n",
      "Not processing auto_wfs_0033_ave.fits because it's an average of multiple images\n",
      "Processing auto_wfs_0034.fits...\n",
      "Processing auto_wfs_0030.fits...\n",
      "Processing auto_wfs_0036.fits...\n",
      "Not processing auto_wfs_0027_ave.fits because it's an average of multiple images\n",
      "Processing auto_wfs_0042.fits...\n",
      "Processing auto_wfs_0044.fits...\n",
      "Processing auto_wfs_0038.fits...\n",
      "Processing auto_wfs_0046.fits...\n",
      "Not processing auto_wfs_0048_ave.fits because it's an average of multiple images\n",
      "Processing auto_wfs_0049.fits...\n",
      "Processing auto_wfs_0041.fits...\n",
      "Processing auto_wfs_0051.fits...\n",
      "Processing auto_wfs_0039.fits...\n",
      "Not processing auto_wfs_0036_ave.fits because it's an average of multiple images\n",
      "Processing test_0001.fits...\n",
      "Processing auto_wfs_0045.fits...\n",
      "Not processing auto_wfs_0042_ave.fits because it's an average of multiple images\n",
      "Processing auto_wfs_0043.fits...\n",
      "Processing auto_wfs_0047.fits...\n",
      "Processing test_0004.fits...\n",
      "Processing auto_wfs_0050.fits...\n",
      "Not processing auto_wfs_0051_ave.fits because it's an average of multiple images\n",
      "Processing test_0000.fits...\n",
      "Processing test_0002.fits...\n",
      "Not processing auto_wfs_0045_ave.fits because it's an average of multiple images\n",
      "Processing auto_wfs_0048.fits...\n",
      "Processing test_0003.fits...\n",
      "Working in 20071027...\n",
      "Not processing auto_wfs_0007_ave.fits because it's an average of multiple images\n",
      "Processing auto_wfs_0014.fits...\n",
      "Processing auto_wfs_0005.fits...\n",
      "Processing auto_wfs_0010.fits...\n",
      "Processing auto_wfs_0012.fits...\n",
      "Processing auto_wfs_0000.fits...\n",
      "Processing auto_wfs_0008.fits...\n",
      "Processing auto_wfs_0003.fits...\n",
      "Not processing auto_wfs_0016_ave.fits because it's an average of multiple images\n",
      "Processing auto_wfs_0017.fits...\n"
     ]
    },
    {
     "name": "stderr",
     "output_type": "stream",
     "text": [
      "WARNING: The fit may be unsuccessful; check fit_info['message'] for more information. [astropy.modeling.fitting]\n",
      "WARNING: The fit may be unsuccessful; check fit_info['message'] for more information. [astropy.modeling.fitting]\n",
      "WARNING: The fit may be unsuccessful; check fit_info['message'] for more information. [astropy.modeling.fitting]\n",
      "WARNING: The fit may be unsuccessful; check fit_info['message'] for more information. [astropy.modeling.fitting]\n",
      "WARNING: The fit may be unsuccessful; check fit_info['message'] for more information. [astropy.modeling.fitting]\n",
      "WARNING: The fit may be unsuccessful; check fit_info['message'] for more information. [astropy.modeling.fitting]\n",
      "WARNING: The fit may be unsuccessful; check fit_info['message'] for more information. [astropy.modeling.fitting]\n",
      "WARNING: The fit may be unsuccessful; check fit_info['message'] for more information. [astropy.modeling.fitting]\n"
     ]
    },
    {
     "name": "stdout",
     "output_type": "stream",
     "text": [
      "Processing auto_wfs_0018.fits...\n",
      "Processing auto_wfs_0015.fits...\n",
      "Processing auto_wfs_0001.fits...\n",
      "Processing auto_wfs_0004.fits...\n",
      "Not processing auto_wfs_0010_ave.fits because it's an average of multiple images\n",
      "Processing auto_wfs_0011.fits...\n",
      "Processing auto_wfs_0009.fits...\n",
      "Processing auto_wfs_0006.fits...\n",
      "Processing auto_wfs_0013.fits...\n",
      "Processing auto_wfs_0016.fits...\n",
      "Processing auto_wfs_0019.fits...\n",
      "Processing auto_wfs_0002.fits...\n",
      "Not processing auto_wfs_0004_ave.fits because it's an average of multiple images\n",
      "Processing auto_wfs_0021.fits...\n",
      "Not processing auto_wfs_0013_ave.fits because it's an average of multiple images\n",
      "Processing auto_wfs_0023.fits...\n",
      "Processing auto_wfs_0026.fits...\n",
      "Processing auto_wfs_0028.fits...\n",
      "Processing auto_wfs_0007.fits...\n",
      "Processing auto_wfs_0030.fits...\n",
      "Not processing auto_wfs_0019_ave.fits because it's an average of multiple images\n",
      "Processing auto_wfs_0020.fits...\n",
      "Processing auto_wfs_0022.fits...\n",
      "Not processing auto_wfs_0032_ave.fits because it's an average of multiple images\n",
      "Processing auto_wfs_0033.fits...\n",
      "Processing auto_wfs_0024.fits...\n",
      "Processing auto_wfs_0035.fits...\n",
      "Not processing auto_wfs_0026_ave.fits because it's an average of multiple images\n",
      "Processing auto_wfs_0027.fits...\n",
      "Processing auto_wfs_0029.fits...\n",
      "Processing auto_wfs_0037.fits...\n",
      "Processing auto_wfs_0031.fits...\n",
      "Not processing auto_wfs_0022_ave.fits because it's an average of multiple images\n",
      "Not processing auto_wfs_0039_ave.fits because it's an average of multiple images\n",
      "Processing auto_wfs_0040.fits...\n",
      "Processing auto_wfs_0025.fits...\n",
      "Processing auto_wfs_0034.fits...\n",
      "Processing auto_wfs_0036.fits...\n",
      "Processing auto_wfs_0042.fits...\n",
      "Not processing auto_wfs_0029_ave.fits because it's an average of multiple images\n",
      "Processing auto_wfs_0044.fits...\n",
      "Processing auto_wfs_0038.fits...\n",
      "Processing auto_wfs_0032.fits...\n",
      "Processing auto_wfs_0041.fits...\n",
      "Not processing auto_wfs_0046_ave.fits because it's an average of multiple images\n",
      "Processing auto_wfs_0047.fits...\n",
      "Not processing auto_wfs_0042_ave.fits because it's an average of multiple images\n",
      "Processing auto_wfs_0043.fits...\n",
      "Not processing auto_wfs_0036_ave.fits because it's an average of multiple images\n",
      "Processing auto_wfs_0049.fits...\n",
      "Processing auto_wfs_0051.fits...\n",
      "Processing auto_wfs_0039.fits...\n",
      "Processing auto_wfs_0045.fits...\n",
      "Processing manual_wfs_0000.fits...\n",
      "Processing manual_wfs_0002.fits...\n",
      "Processing test_0002.fits...\n",
      "Processing test_0005.fits...\n",
      "Processing auto_wfs_0048.fits...\n",
      "Not processing auto_wfs_0049_ave.fits because it's an average of multiple images\n",
      "Processing auto_wfs_0050.fits...\n",
      "Processing auto_wfs_0052.fits...\n",
      "Processing auto_wfs_0046.fits...\n",
      "Not processing manual_wfs_0000_ave.fits because it's an average of multiple images\n",
      "Processing manual_wfs_0001.fits...\n",
      "Processing test_0006.fits...\n",
      "Processing test_0000.fits...\n",
      "Processing test_0003.fits...\n",
      "Not processing auto_wfs_0052_ave.fits because it's an average of multiple images\n",
      "Processing test_0008.fits...\n",
      "Processing test_0007.fits...\n",
      "Processing test_0001.fits...\n",
      "Processing test_0004.fits...\n",
      "Processing test_0009.fits...\n",
      "Working in 20071028...\n",
      "Processing auto_wfs_0000.fits...\n",
      "Processing auto_wfs_0012.fits...\n",
      "Processing auto_wfs_0003.fits...\n",
      "Processing auto_wfs_0007.fits...\n",
      "Processing auto_wfs_0005.fits...\n",
      "Not processing auto_wfs_0009_ave.fits because it's an average of multiple images\n",
      "Processing auto_wfs_0014.fits...\n",
      "Not processing auto_wfs_0016_ave.fits because it's an average of multiple images\n",
      "Processing auto_wfs_0010.fits...\n",
      "Processing auto_wfs_0017.fits...\n"
     ]
    },
    {
     "name": "stderr",
     "output_type": "stream",
     "text": [
      "WARNING: The fit may be unsuccessful; check fit_info['message'] for more information. [astropy.modeling.fitting]\n",
      "WARNING: The fit may be unsuccessful; check fit_info['message'] for more information. [astropy.modeling.fitting]\n",
      "WARNING: The fit may be unsuccessful; check fit_info['message'] for more information. [astropy.modeling.fitting]\n",
      "WARNING: The fit may be unsuccessful; check fit_info['message'] for more information. [astropy.modeling.fitting]\n",
      "WARNING: The fit may be unsuccessful; check fit_info['message'] for more information. [astropy.modeling.fitting]\n",
      "WARNING: The fit may be unsuccessful; check fit_info['message'] for more information. [astropy.modeling.fitting]\n",
      "WARNING: The fit may be unsuccessful; check fit_info['message'] for more information. [astropy.modeling.fitting]\n",
      "WARNING: The fit may be unsuccessful; check fit_info['message'] for more information. [astropy.modeling.fitting]\n"
     ]
    },
    {
     "name": "stdout",
     "output_type": "stream",
     "text": [
      "Processing auto_wfs_0015.fits...\n",
      "Processing auto_wfs_0013.fits...\n",
      "Processing auto_wfs_0018.fits...\n",
      "Processing auto_wfs_0011.fits...\n",
      "Processing auto_wfs_0001.fits...\n",
      "Not processing auto_wfs_0003_ave.fits because it's an average of multiple images\n",
      "Processing auto_wfs_0004.fits...\n",
      "Processing auto_wfs_0006.fits...\n",
      "Processing auto_wfs_0008.fits...\n",
      "Processing auto_wfs_0019.fits...\n",
      "Processing auto_wfs_0016.fits...\n",
      "Not processing auto_wfs_0013_ave.fits because it's an average of multiple images\n",
      "Processing auto_wfs_0021.fits...\n",
      "Not processing auto_wfs_0023_ave.fits because it's an average of multiple images\n",
      "Processing auto_wfs_0024.fits...\n",
      "Processing auto_wfs_0002.fits...\n",
      "Processing auto_wfs_0009.fits...\n",
      "Not processing auto_wfs_0006_ave.fits because it's an average of multiple images\n",
      "Processing auto_wfs_0026.fits...\n",
      "Processing auto_wfs_0028.fits...\n",
      "Processing auto_wfs_0030.fits...\n",
      "Processing auto_wfs_0022.fits...\n",
      "Processing auto_wfs_0025.fits...\n",
      "Processing auto_wfs_0029.fits...\n",
      "Not processing auto_wfs_0026_ave.fits because it's an average of multiple images\n",
      "Processing auto_wfs_0027.fits...\n",
      "Not processing auto_wfs_0019_ave.fits because it's an average of multiple images\n",
      "Processing auto_wfs_0020.fits...\n",
      "Processing auto_wfs_0033.fits...\n",
      "Processing auto_wfs_0035.fits...\n",
      "Processing auto_wfs_0023.fits...\n",
      "Not processing auto_wfs_0029_ave.fits because it's an average of multiple images\n",
      "Processing auto_wfs_0037.fits...\n",
      "Not processing auto_wfs_0039_ave.fits because it's an average of multiple images\n",
      "Processing auto_wfs_0040.fits...\n",
      "Processing auto_wfs_0042.fits...\n",
      "Processing auto_wfs_0044.fits...\n",
      "Processing auto_wfs_0031.fits...\n",
      "Processing auto_wfs_0036.fits...\n",
      "Not processing auto_wfs_0033_ave.fits because it's an average of multiple images\n",
      "Processing auto_wfs_0034.fits...\n",
      "Not processing auto_wfs_0046_ave.fits because it's an average of multiple images\n",
      "Processing auto_wfs_0047.fits...\n",
      "Processing auto_wfs_0041.fits...\n",
      "Processing auto_wfs_0038.fits...\n",
      "Processing auto_wfs_0045.fits...\n",
      "Processing auto_wfs_0043.fits...\n",
      "Processing auto_wfs_0032.fits...\n",
      "Not processing auto_wfs_0036_ave.fits because it's an average of multiple images\n",
      "Processing auto_wfs_0049.fits...\n",
      "Processing auto_wfs_0051.fits...\n",
      "Not processing auto_wfs_0053_ave.fits because it's an average of multiple images\n",
      "Processing auto_wfs_0054.fits...\n",
      "Processing auto_wfs_0048.fits...\n",
      "Processing auto_wfs_0046.fits...\n",
      "Processing auto_wfs_0039.fits...\n",
      "Not processing auto_wfs_0043_ave.fits because it's an average of multiple images\n",
      "Processing auto_wfs_0056.fits...\n",
      "Processing auto_wfs_0058.fits...\n",
      "Not processing auto_wfs_0049_ave.fits because it's an average of multiple images\n",
      "Processing auto_wfs_0050.fits...\n",
      "Processing auto_wfs_0052.fits...\n",
      "Processing test_0000.fits...\n",
      "Processing test_0003.fits...\n",
      "Processing auto_wfs_0055.fits...\n",
      "Not processing auto_wfs_0056_ave.fits because it's an average of multiple images\n",
      "Processing auto_wfs_0057.fits...\n",
      "Processing auto_wfs_0059.fits...\n",
      "Processing auto_wfs_0053.fits...\n",
      "Processing test_0001.fits...\n",
      "Processing test_0004.fits...\n",
      "Not processing auto_wfs_0059_ave.fits because it's an average of multiple images\n",
      "Processing test_0002.fits...\n",
      "Working in 20071029...\n",
      "Processing auto_wfs_0000.fits...\n",
      "Processing auto_wfs_0002.fits...\n",
      "Processing auto_wfs_0005.fits...\n",
      "Not processing auto_wfs_0003_ave.fits because it's an average of multiple images\n",
      "Processing auto_wfs_0008.fits...\n",
      "Not processing auto_wfs_0006_ave.fits because it's an average of multiple images\n",
      "Not processing auto_wfs_0009_ave.fits because it's an average of multiple images\n",
      "Processing auto_wfs_0011.fits...\n",
      "Processing auto_wfs_0004.fits...\n",
      "Processing auto_wfs_0007.fits...\n",
      "Processing auto_wfs_0010.fits...\n"
     ]
    },
    {
     "name": "stderr",
     "output_type": "stream",
     "text": [
      "WARNING: The fit may be unsuccessful; check fit_info['message'] for more information. [astropy.modeling.fitting]\n",
      "WARNING: The fit may be unsuccessful; check fit_info['message'] for more information. [astropy.modeling.fitting]\n",
      "WARNING: The fit may be unsuccessful; check fit_info['message'] for more information. [astropy.modeling.fitting]\n",
      "WARNING: The fit may be unsuccessful; check fit_info['message'] for more information. [astropy.modeling.fitting]\n",
      "WARNING: The fit may be unsuccessful; check fit_info['message'] for more information. [astropy.modeling.fitting]\n",
      "WARNING: The fit may be unsuccessful; check fit_info['message'] for more information. [astropy.modeling.fitting]\n",
      "WARNING: The fit may be unsuccessful; check fit_info['message'] for more information. [astropy.modeling.fitting]\n",
      "WARNING: The fit may be unsuccessful; check fit_info['message'] for more information. [astropy.modeling.fitting]\n"
     ]
    },
    {
     "name": "stdout",
     "output_type": "stream",
     "text": [
      "Processing auto_wfs_0012.fits...\n",
      "Processing auto_wfs_0001.fits...\n",
      "Processing auto_wfs_0013.fits...\n",
      "Not processing auto_wfs_0014_ave.fits because it's an average of multiple images\n",
      "Processing auto_wfs_0015.fits...\n",
      "Processing auto_wfs_0003.fits...\n",
      "Processing auto_wfs_0009.fits...\n",
      "Processing auto_wfs_0016.fits...\n",
      "Processing auto_wfs_0006.fits...\n",
      "Not processing auto_wfs_0017_ave.fits because it's an average of multiple images\n",
      "Processing auto_wfs_0018.fits...\n",
      "Processing auto_wfs_0019.fits...\n",
      "Processing auto_wfs_0014.fits...\n",
      "Not processing auto_wfs_0020_ave.fits because it's an average of multiple images\n",
      "Processing auto_wfs_0021.fits...\n",
      "Processing auto_wfs_0022.fits...\n",
      "Not processing auto_wfs_0023_ave.fits because it's an average of multiple images\n",
      "Processing auto_wfs_0024.fits...\n",
      "Processing auto_wfs_0017.fits...\n",
      "Processing auto_wfs_0025.fits...\n",
      "Not processing auto_wfs_0026_ave.fits because it's an average of multiple images\n",
      "Processing test_0000.fits...\n",
      "Processing test_0001.fits...\n",
      "Processing auto_wfs_0020.fits...\n",
      "Processing tim_test.fits...\n",
      "Processing auto_wfs_0023.fits...\n",
      "Processing auto_wfs_0026.fits...\n",
      "Processing test_0002.fits...\n",
      "Working in 20071030...\n",
      "Processing Ref_0000.fits...\n",
      "Processing auto_wfs_0000.fits...\n",
      "Processing auto_wfs_0008.fits...\n",
      "Not processing auto_wfs_0005_ave.fits because it's an average of multiple images\n",
      "Processing auto_wfs_0003.fits...\n",
      "Processing auto_wfs_0010.fits...\n",
      "Processing auto_wfs_0012.fits...\n",
      "Processing auto_wfs_0015.fits...\n",
      "Processing auto_wfs_0006.fits...\n"
     ]
    },
    {
     "name": "stderr",
     "output_type": "stream",
     "text": [
      "WARNING: The fit may be unsuccessful; check fit_info['message'] for more information. [astropy.modeling.fitting]\n",
      "WARNING: The fit may be unsuccessful; check fit_info['message'] for more information. [astropy.modeling.fitting]\n",
      "WARNING: The fit may be unsuccessful; check fit_info['message'] for more information. [astropy.modeling.fitting]\n",
      "WARNING: The fit may be unsuccessful; check fit_info['message'] for more information. [astropy.modeling.fitting]\n",
      "WARNING: The fit may be unsuccessful; check fit_info['message'] for more information. [astropy.modeling.fitting]\n",
      "WARNING: The fit may be unsuccessful; check fit_info['message'] for more information. [astropy.modeling.fitting]\n",
      "WARNING: The fit may be unsuccessful; check fit_info['message'] for more information. [astropy.modeling.fitting]\n",
      "WARNING: The fit may be unsuccessful; check fit_info['message'] for more information. [astropy.modeling.fitting]\n"
     ]
    },
    {
     "name": "stdout",
     "output_type": "stream",
     "text": [
      "Processing Ref_0001.fits...\n",
      "Processing Ref_0002.fits...\n",
      "Processing auto_wfs_0017.fits...\n",
      "Processing auto_wfs_0001.fits...\n",
      "Processing auto_wfs_0013.fits...\n",
      "Processing auto_wfs_0016.fits...\n",
      "Processing auto_wfs_0011.fits...\n",
      "Processing auto_wfs_0007.fits...\n",
      "Not processing auto_wfs_0008_ave.fits because it's an average of multiple images\n",
      "Processing auto_wfs_0009.fits...\n",
      "Processing auto_wfs_0004.fits...\n",
      "Processing auto_wfs_0018.fits...\n",
      "Processing auto_wfs_0002.fits...\n",
      "Not processing auto_wfs_0016_ave.fits because it's an average of multiple images\n",
      "Not processing auto_wfs_0019_ave.fits because it's an average of multiple images\n",
      "Processing auto_wfs_0020.fits...\n",
      "Processing auto_wfs_0014.fits...\n",
      "Processing auto_wfs_0005.fits...\n",
      "Not processing auto_wfs_0011_ave.fits because it's an average of multiple images\n",
      "Processing auto_wfs_0022.fits...\n",
      "Processing auto_wfs_0024.fits...\n",
      "Processing auto_wfs_0026.fits...\n",
      "Processing auto_wfs_0019.fits...\n",
      "Not processing auto_wfs_0028_ave.fits because it's an average of multiple images\n",
      "Processing auto_wfs_0029.fits...\n",
      "Processing auto_wfs_0031.fits...\n",
      "Processing auto_wfs_0021.fits...\n",
      "Not processing auto_wfs_0022_ave.fits because it's an average of multiple images\n",
      "Processing auto_wfs_0023.fits...\n",
      "Processing auto_wfs_0025.fits...\n",
      "Processing auto_wfs_0033.fits...\n",
      "Processing auto_wfs_0027.fits...\n",
      "Processing auto_wfs_0035.fits...\n",
      "Processing auto_wfs_0030.fits...\n",
      "Not processing auto_wfs_0031_ave.fits because it's an average of multiple images\n",
      "Processing auto_wfs_0032.fits...\n",
      "Not processing auto_wfs_0037_ave.fits because it's an average of multiple images\n",
      "Processing auto_wfs_0038.fits...\n",
      "Processing auto_wfs_0040.fits...\n",
      "Not processing auto_wfs_0025_ave.fits because it's an average of multiple images\n",
      "Processing auto_wfs_0042.fits...\n",
      "Processing auto_wfs_0028.fits...\n",
      "Processing auto_wfs_0034.fits...\n",
      "Processing auto_wfs_0036.fits...\n",
      "Processing auto_wfs_0044.fits...\n",
      "Not processing auto_wfs_0046_ave.fits because it's an average of multiple images\n",
      "Processing auto_wfs_0047.fits...\n",
      "Processing auto_wfs_0039.fits...\n",
      "Processing auto_wfs_0049.fits...\n",
      "Not processing auto_wfs_0040_ave.fits because it's an average of multiple images\n",
      "Processing auto_wfs_0041.fits...\n",
      "Processing auto_wfs_0043.fits...\n",
      "Not processing auto_wfs_0034_ave.fits because it's an average of multiple images\n",
      "Processing manual_wfs_0000.fits...\n"
     ]
    },
    {
     "name": "stderr",
     "output_type": "stream",
     "text": [
      "WARNING: Sources were found, but none pass the sharpness and roundness criteria. [photutils.detection.findstars]\n",
      "WARNING: No sources were found. [photutils.detection.findstars]\n"
     ]
    },
    {
     "name": "stdout",
     "output_type": "stream",
     "text": [
      "Failed to find spots for /Volumes/LACIE SHARE/wfsdat/20071030/manual_wfs_0000: (WFSAnalysisFailed(...), 'No WFS spots detected.')\n",
      "Processing test_0000.fits...\n",
      "Processing auto_wfs_0037.fits...\n",
      "Processing auto_wfs_0045.fits...\n",
      "Processing test_0002.fits...\n",
      "Not processing auto_wfs_0049_ave.fits because it's an average of multiple images\n",
      "Processing back.fits...\n",
      "Processing auto_wfs_0048.fits...\n",
      "Processing test_0005.fits...\n",
      "Processing test_0008.fits...\n",
      "Not processing auto_wfs_0043_ave.fits because it's an average of multiple images\n",
      "Processing test_0001.fits...\n",
      "Processing test_0003.fits...\n",
      "Processing test_0006.fits...\n",
      "Processing test_0004.fits...\n",
      "Processing auto_wfs_0046.fits...\n",
      "Processing test_0009.fits...\n",
      "Processing test_0007.fits...\n",
      "Working in 20071031...\n",
      "Not processing auto_wfs_0008_ave.fits because it's an average of multiple images\n",
      "Not processing auto_wfs_0005_ave.fits because it's an average of multiple images\n",
      "Processing Ref_0000.fits...\n",
      "Not processing auto_wfs_0002_ave.fits because it's an average of multiple images\n",
      "Not processing auto_wfs_0011_ave.fits because it's an average of multiple images\n",
      "Not processing auto_wfs_0014_ave.fits because it's an average of multiple images\n",
      "Processing auto_wfs_0006.fits...\n",
      "Not processing auto_wfs_0017_ave.fits because it's an average of multiple images\n",
      "Not processing auto_wfs_0020_ave.fits because it's an average of multiple images\n",
      "Processing auto_wfs_0009.fits...\n",
      "Processing auto_wfs_0003.fits...\n",
      "Processing auto_wfs_0012.fits...\n",
      "Processing auto_wfs_0015.fits...\n",
      "Processing auto_wfs_0018.fits...\n",
      "Processing auto_wfs_0021.fits...\n"
     ]
    },
    {
     "name": "stderr",
     "output_type": "stream",
     "text": [
      "WARNING: The fit may be unsuccessful; check fit_info['message'] for more information. [astropy.modeling.fitting]\n",
      "WARNING: The fit may be unsuccessful; check fit_info['message'] for more information. [astropy.modeling.fitting]\n",
      "WARNING: The fit may be unsuccessful; check fit_info['message'] for more information. [astropy.modeling.fitting]\n",
      "WARNING: The fit may be unsuccessful; check fit_info['message'] for more information. [astropy.modeling.fitting]\n",
      "WARNING: The fit may be unsuccessful; check fit_info['message'] for more information. [astropy.modeling.fitting]\n",
      "WARNING: The fit may be unsuccessful; check fit_info['message'] for more information. [astropy.modeling.fitting]\n"
     ]
    },
    {
     "name": "stdout",
     "output_type": "stream",
     "text": [
      "Processing auto_wfs_0000.fits...\n"
     ]
    },
    {
     "name": "stderr",
     "output_type": "stream",
     "text": [
      "WARNING: The fit may be unsuccessful; check fit_info['message'] for more information. [astropy.modeling.fitting]\n",
      "WARNING: The fit may be unsuccessful; check fit_info['message'] for more information. [astropy.modeling.fitting]\n"
     ]
    },
    {
     "name": "stdout",
     "output_type": "stream",
     "text": [
      "Processing auto_wfs_0010.fits...\n",
      "Processing auto_wfs_0022.fits...\n",
      "Processing auto_wfs_0004.fits...\n",
      "Processing auto_wfs_0007.fits...\n",
      "Processing auto_wfs_0019.fits...\n",
      "Processing auto_wfs_0013.fits...\n",
      "Processing auto_wfs_0016.fits...\n",
      "Processing auto_wfs_0001.fits...\n",
      "Processing auto_wfs_0023.fits...\n",
      "Processing auto_wfs_0011.fits...\n",
      "Processing auto_wfs_0008.fits...\n",
      "Processing auto_wfs_0005.fits...\n",
      "Processing auto_wfs_0014.fits...\n",
      "Processing auto_wfs_0020.fits...\n",
      "Processing auto_wfs_0017.fits...\n",
      "Processing auto_wfs_0002.fits...\n",
      "Not processing auto_wfs_0023_ave.fits because it's an average of multiple images\n",
      "Processing auto_wfs_0024.fits...\n",
      "Not processing auto_wfs_0026_ave.fits because it's an average of multiple images\n",
      "Processing auto_wfs_0027.fits...\n",
      "Not processing auto_wfs_0029_ave.fits because it's an average of multiple images\n",
      "Processing auto_wfs_0030.fits...\n",
      "Not processing auto_wfs_0032_ave.fits because it's an average of multiple images\n",
      "Processing auto_wfs_0033.fits...\n",
      "Not processing auto_wfs_0035_ave.fits because it's an average of multiple images\n",
      "Processing auto_wfs_0036.fits...\n",
      "Not processing auto_wfs_0038_ave.fits because it's an average of multiple images\n",
      "Processing auto_wfs_0039.fits...\n",
      "Not processing auto_wfs_0041_ave.fits because it's an average of multiple images\n",
      "Processing auto_wfs_0042.fits...\n",
      "Not processing auto_wfs_0044_ave.fits because it's an average of multiple images\n",
      "Processing auto_wfs_0045.fits...\n",
      "Processing auto_wfs_0025.fits...\n",
      "Processing auto_wfs_0028.fits...\n",
      "Processing auto_wfs_0031.fits...\n",
      "Processing auto_wfs_0034.fits...\n",
      "Processing auto_wfs_0037.fits...\n",
      "Processing auto_wfs_0040.fits...\n",
      "Processing auto_wfs_0043.fits...\n",
      "Processing auto_wfs_0046.fits...\n",
      "Processing auto_wfs_0026.fits...\n",
      "Processing auto_wfs_0029.fits...\n",
      "Processing auto_wfs_0035.fits...\n",
      "Processing auto_wfs_0032.fits...\n",
      "Processing auto_wfs_0038.fits...\n",
      "Processing auto_wfs_0041.fits...\n",
      "Processing auto_wfs_0044.fits...\n",
      "Processing auto_wfs_0047.fits...\n",
      "Processing auto_wfs_0048.fits...\n",
      "Processing auto_wfs_0051.fits...\n",
      "Processing auto_wfs_0054.fits...\n",
      "Processing auto_wfs_0057.fits...\n",
      "Processing auto_wfs_0060.fits...\n",
      "Processing auto_wfs_0063.fits...\n",
      "Processing auto_wfs_0066.fits...\n",
      "Processing auto_wfs_0069.fits...\n",
      "Not processing auto_wfs_0054_ave.fits because it's an average of multiple images\n",
      "Processing auto_wfs_0055.fits...\n",
      "Not processing auto_wfs_0048_ave.fits because it's an average of multiple images\n",
      "Processing auto_wfs_0049.fits...\n",
      "Not processing auto_wfs_0051_ave.fits because it's an average of multiple images\n",
      "Processing auto_wfs_0052.fits...\n",
      "Not processing auto_wfs_0057_ave.fits because it's an average of multiple images\n",
      "Processing auto_wfs_0058.fits...\n",
      "Not processing auto_wfs_0060_ave.fits because it's an average of multiple images\n",
      "Processing auto_wfs_0061.fits...\n",
      "Not processing auto_wfs_0063_ave.fits because it's an average of multiple images\n",
      "Processing auto_wfs_0064.fits...\n",
      "Not processing auto_wfs_0066_ave.fits because it's an average of multiple images\n",
      "Processing auto_wfs_0067.fits...\n",
      "Not processing auto_wfs_0069_ave.fits because it's an average of multiple images\n",
      "Processing auto_wfs_0070.fits...\n",
      "Processing auto_wfs_0056.fits...\n",
      "Processing auto_wfs_0053.fits...\n",
      "Processing auto_wfs_0059.fits...\n",
      "Processing auto_wfs_0050.fits...\n",
      "Processing auto_wfs_0062.fits...\n",
      "Processing auto_wfs_0071.fits...\n",
      "Processing auto_wfs_0068.fits...\n",
      "Processing auto_wfs_0065.fits...\n",
      "Processing auto_wfs_0072.fits...\n",
      "Processing manual_wfs_0002.fits...\n",
      "Processing manual_wfs_0006.fits...\n",
      "Processing manual_wfs_0010.fits...\n",
      "Not processing auto_wfs_0072_ave.fits because it's an average of multiple images\n",
      "Processing manual_wfs_0000.fits...\n",
      "Processing manual_wfs_0007.fits...\n",
      "Processing manual_wfs_0003.fits...\n",
      "Processing manual_wfs_0011.fits...\n",
      "Processing manual_wfs_0001.fits...\n",
      "Processing manual_wfs_0004.fits...\n",
      "Processing manual_wfs_0008.fits...\n",
      "Processing manual_wfs_0005.fits...\n",
      "Processing manual_wfs_0009.fits...\n",
      "Working in 20071101...\n",
      "Not processing auto_wfs_0003_ave.fits because it's an average of multiple images\n",
      "Not processing auto_wfs_0006_ave.fits because it's an average of multiple images\n",
      "Processing auto_wfs_0000.fits...\n",
      "Not processing auto_wfs_0012_ave.fits because it's an average of multiple images\n",
      "Not processing auto_wfs_0018_ave.fits because it's an average of multiple images\n",
      "Not processing auto_wfs_0009_ave.fits because it's an average of multiple images\n",
      "Not processing auto_wfs_0015_ave.fits because it's an average of multiple images\n",
      "Processing auto_wfs_0022.fits...\n",
      "Processing auto_wfs_0004.fits...\n",
      "Processing auto_wfs_0013.fits...\n",
      "Processing auto_wfs_0007.fits...\n",
      "Processing auto_wfs_0019.fits...\n",
      "Processing auto_wfs_0016.fits...\n",
      "Processing auto_wfs_0010.fits...\n"
     ]
    },
    {
     "name": "stderr",
     "output_type": "stream",
     "text": [
      "WARNING: The fit may be unsuccessful; check fit_info['message'] for more information. [astropy.modeling.fitting]\n",
      "WARNING: The fit may be unsuccessful; check fit_info['message'] for more information. [astropy.modeling.fitting]\n",
      "WARNING: The fit may be unsuccessful; check fit_info['message'] for more information. [astropy.modeling.fitting]\n",
      "WARNING: The fit may be unsuccessful; check fit_info['message'] for more information. [astropy.modeling.fitting]\n",
      "WARNING: The fit may be unsuccessful; check fit_info['message'] for more information. [astropy.modeling.fitting]\n",
      "WARNING: The fit may be unsuccessful; check fit_info['message'] for more information. [astropy.modeling.fitting]\n",
      "WARNING: The fit may be unsuccessful; check fit_info['message'] for more information. [astropy.modeling.fitting]\n",
      "WARNING: The fit may be unsuccessful; check fit_info['message'] for more information. [astropy.modeling.fitting]\n"
     ]
    },
    {
     "name": "stdout",
     "output_type": "stream",
     "text": [
      "Processing auto_wfs_0008.fits...\n",
      "Processing auto_wfs_0014.fits...\n",
      "Not processing auto_wfs_0022_ave.fits because it's an average of multiple images\n",
      "Processing auto_wfs_0023.fits...\n",
      "Processing auto_wfs_0001.fits...\n",
      "Processing auto_wfs_0011.fits...\n",
      "Processing auto_wfs_0005.fits...\n",
      "Processing auto_wfs_0020.fits...\n",
      "Processing auto_wfs_0017.fits...\n",
      "Processing auto_wfs_0009.fits...\n",
      "Processing auto_wfs_0006.fits...\n",
      "Processing auto_wfs_0021.fits...\n",
      "Processing auto_wfs_0015.fits...\n",
      "Processing auto_wfs_0024.fits...\n",
      "Processing auto_wfs_0002.fits...\n",
      "Processing auto_wfs_0012.fits...\n",
      "Processing auto_wfs_0018.fits...\n",
      "Processing auto_wfs_0025.fits...\n",
      "Processing auto_wfs_0028.fits...\n",
      "Processing auto_wfs_0031.fits...\n",
      "Processing auto_wfs_0003.fits...\n",
      "Processing auto_wfs_0034.fits...\n",
      "Processing auto_wfs_0037.fits...\n",
      "Processing auto_wfs_0040.fits...\n",
      "Processing auto_wfs_0043.fits...\n",
      "Not processing auto_wfs_0025_ave.fits because it's an average of multiple images\n",
      "Processing auto_wfs_0026.fits...\n",
      "Not processing auto_wfs_0028_ave.fits because it's an average of multiple images\n",
      "Processing auto_wfs_0029.fits...\n",
      "Not processing auto_wfs_0040_ave.fits because it's an average of multiple images\n",
      "Processing auto_wfs_0041.fits...\n",
      "Processing auto_wfs_0046.fits...\n",
      "Not processing auto_wfs_0043_ave.fits because it's an average of multiple images\n",
      "Processing auto_wfs_0044.fits...\n",
      "Not processing auto_wfs_0037_ave.fits because it's an average of multiple images\n",
      "Processing auto_wfs_0038.fits...\n",
      "Not processing auto_wfs_0031_ave.fits because it's an average of multiple images\n",
      "Processing auto_wfs_0032.fits...\n",
      "Not processing auto_wfs_0034_ave.fits because it's an average of multiple images\n",
      "Processing auto_wfs_0035.fits...\n",
      "Processing auto_wfs_0027.fits...\n",
      "Processing auto_wfs_0042.fits...\n",
      "Not processing auto_wfs_0046_ave.fits because it's an average of multiple images\n",
      "Processing auto_wfs_0047.fits...\n",
      "Processing auto_wfs_0039.fits...\n",
      "Processing auto_wfs_0045.fits...\n",
      "Processing auto_wfs_0030.fits...\n",
      "Processing auto_wfs_0033.fits...\n",
      "Processing auto_wfs_0036.fits...\n",
      "Processing auto_wfs_0049.fits...\n",
      "Processing auto_wfs_0052.fits...\n",
      "Processing auto_wfs_0055.fits...\n",
      "Processing auto_wfs_0048.fits...\n",
      "Processing auto_wfs_0058.fits...\n",
      "Processing auto_wfs_0061.fits...\n",
      "Processing auto_wfs_0064.fits...\n",
      "Processing auto_wfs_0067.fits...\n",
      "Not processing auto_wfs_0049_ave.fits because it's an average of multiple images\n",
      "Processing auto_wfs_0050.fits...\n",
      "Not processing auto_wfs_0055_ave.fits because it's an average of multiple images\n",
      "Processing auto_wfs_0056.fits...\n",
      "Not processing auto_wfs_0052_ave.fits because it's an average of multiple images\n",
      "Processing auto_wfs_0053.fits...\n",
      "Not processing auto_wfs_0058_ave.fits because it's an average of multiple images\n",
      "Processing auto_wfs_0059.fits...\n",
      "Not processing auto_wfs_0061_ave.fits because it's an average of multiple images\n",
      "Processing auto_wfs_0062.fits...\n",
      "Processing manual_wfs_0001.fits...\n",
      "Not processing auto_wfs_0064_ave.fits because it's an average of multiple images\n",
      "Processing auto_wfs_0065.fits...\n",
      "Not processing auto_wfs_0067_ave.fits because it's an average of multiple images\n",
      "Processing back.fits...\n",
      "Processing manual_wfs_0000.fits...\n",
      "Processing manual_wfs_0004.fits...\n",
      "Processing auto_wfs_0057.fits...\n",
      "Processing auto_wfs_0051.fits...\n",
      "Processing auto_wfs_0060.fits...\n",
      "Processing auto_wfs_0054.fits...\n",
      "Processing auto_wfs_0063.fits...\n",
      "Processing manual_wfs_0002.fits...\n",
      "Processing auto_wfs_0066.fits...\n",
      "Processing manual_wfs_0005.fits...\n",
      "Processing manual_wfs_0008.fits...\n",
      "Processing manual_wfs_0012.fits...\n",
      "Processing manual_wfs_0016.fits...\n",
      "Processing manual_wfs_0020.fits...\n",
      "Not processing manual_wfs_0002_ave.fits because it's an average of multiple images\n",
      "Processing manual_wfs_0003.fits...\n",
      "Processing manual_wfs_0006.fits...\n",
      "Processing manual_wfs_0009.fits...\n",
      "Processing manual_wfs_0021.fits...\n",
      "Processing manual_wfs_0013.fits...\n",
      "Processing manual_wfs_0017.fits...\n",
      "Processing manual_wfs_0007.fits...\n",
      "Processing manual_wfs_0010.fits...\n",
      "Processing manual_wfs_0014.fits...\n",
      "Processing manual_wfs_0018.fits...\n",
      "Processing manual_wfs_0011.fits...\n",
      "Processing manual_wfs_0019.fits...\n",
      "Processing manual_wfs_0015.fits...\n",
      "Working in 20071102...\n",
      "Processing Ref_0000.fits...\n",
      "Processing auto_wfs_0003.fits...\n",
      "Processing auto_wfs_0006.fits...\n",
      "Processing auto_wfs_0000.fits...\n",
      "Processing auto_wfs_0009.fits...\n",
      "Processing auto_wfs_0012.fits...\n",
      "Processing auto_wfs_0015.fits...\n",
      "Processing auto_wfs_0018.fits...\n"
     ]
    },
    {
     "name": "stderr",
     "output_type": "stream",
     "text": [
      "WARNING: The fit may be unsuccessful; check fit_info['message'] for more information. [astropy.modeling.fitting]\n",
      "WARNING: The fit may be unsuccessful; check fit_info['message'] for more information. [astropy.modeling.fitting]\n",
      "WARNING: The fit may be unsuccessful; check fit_info['message'] for more information. [astropy.modeling.fitting]\n",
      "WARNING: The fit may be unsuccessful; check fit_info['message'] for more information. [astropy.modeling.fitting]\n",
      "WARNING: The fit may be unsuccessful; check fit_info['message'] for more information. [astropy.modeling.fitting]\n",
      "WARNING: The fit may be unsuccessful; check fit_info['message'] for more information. [astropy.modeling.fitting]\n",
      "WARNING: The fit may be unsuccessful; check fit_info['message'] for more information. [astropy.modeling.fitting]\n",
      "WARNING: The fit may be unsuccessful; check fit_info['message'] for more information. [astropy.modeling.fitting]\n"
     ]
    },
    {
     "name": "stdout",
     "output_type": "stream",
     "text": [
      "Not processing Ref_0000_ave.fits because it's an average of multiple images\n",
      "Processing Ref_0001.fits...\n",
      "Processing Ref_0002.fits...\n",
      "Processing auto_wfs_0021.fits...\n",
      "Processing auto_wfs_0016.fits...\n",
      "Processing auto_wfs_0019.fits...\n",
      "Processing auto_wfs_0010.fits...\n",
      "Processing auto_wfs_0001.fits...\n",
      "Processing auto_wfs_0007.fits...\n",
      "Processing auto_wfs_0013.fits...\n",
      "Processing auto_wfs_0004.fits...\n",
      "Processing auto_wfs_0022.fits...\n",
      "Processing auto_wfs_0017.fits...\n",
      "Processing auto_wfs_0020.fits...\n",
      "Processing auto_wfs_0023.fits...\n",
      "Processing auto_wfs_0011.fits...\n",
      "Processing auto_wfs_0014.fits...\n",
      "Processing auto_wfs_0002.fits...\n",
      "Processing auto_wfs_0008.fits...\n",
      "Processing auto_wfs_0005.fits...\n",
      "Not processing auto_wfs_0020_ave.fits because it's an average of multiple images\n",
      "Processing auto_wfs_0024.fits...\n",
      "Not processing auto_wfs_0017_ave.fits because it's an average of multiple images\n",
      "Processing auto_wfs_0027.fits...\n",
      "Not processing auto_wfs_0023_ave.fits because it's an average of multiple images\n",
      "Processing auto_wfs_0030.fits...\n",
      "Processing auto_wfs_0025.fits...\n",
      "Not processing auto_wfs_0011_ave.fits because it's an average of multiple images\n",
      "Processing auto_wfs_0033.fits...\n",
      "Not processing auto_wfs_0014_ave.fits because it's an average of multiple images\n",
      "Processing auto_wfs_0036.fits...\n",
      "Not processing auto_wfs_0002_ave.fits because it's an average of multiple images\n",
      "Processing auto_wfs_0039.fits...\n",
      "Not processing auto_wfs_0008_ave.fits because it's an average of multiple images\n",
      "Processing auto_wfs_0042.fits...\n",
      "Not processing auto_wfs_0005_ave.fits because it's an average of multiple images\n",
      "Processing auto_wfs_0045.fits...\n",
      "Processing auto_wfs_0031.fits...\n",
      "Processing auto_wfs_0028.fits...\n",
      "Processing auto_wfs_0026.fits...\n",
      "Processing auto_wfs_0032.fits...\n",
      "Not processing auto_wfs_0026_ave.fits because it's an average of multiple images\n",
      "Processing auto_wfs_0048.fits...\n",
      "Not processing auto_wfs_0032_ave.fits because it's an average of multiple images\n",
      "Processing auto_wfs_0051.fits...\n",
      "Processing auto_wfs_0034.fits...\n",
      "Processing auto_wfs_0029.fits...\n",
      "Processing auto_wfs_0037.fits...\n",
      "Processing auto_wfs_0040.fits...\n",
      "Processing auto_wfs_0043.fits...\n",
      "Processing auto_wfs_0046.fits...\n",
      "Processing auto_wfs_0049.fits...\n",
      "Not processing auto_wfs_0029_ave.fits because it's an average of multiple images\n",
      "Processing back.fits...\n",
      "Processing auto_wfs_0052.fits...\n",
      "Processing auto_wfs_0035.fits...\n"
     ]
    },
    {
     "name": "stderr",
     "output_type": "stream",
     "text": [
      "WARNING: No sources were found. [photutils.detection.findstars]\n"
     ]
    },
    {
     "name": "stdout",
     "output_type": "stream",
     "text": [
      "Processing manual_wfs_0000.fits...\n",
      "Processing auto_wfs_0041.fits...\n",
      "Processing auto_wfs_0038.fits...\n",
      "Processing auto_wfs_0044.fits...\n",
      "Processing auto_wfs_0047.fits...\n",
      "Processing manual_wfs_0001.fits...\n",
      "Processing auto_wfs_0050.fits...\n",
      "Not processing auto_wfs_0035_ave.fits because it's an average of multiple images\n",
      "Processing manual_wfs_0003.fits...\n",
      "Processing auto_wfs_0053.fits...\n",
      "Not processing auto_wfs_0041_ave.fits because it's an average of multiple images\n",
      "Processing manual_wfs_0006.fits...\n",
      "Not processing auto_wfs_0038_ave.fits because it's an average of multiple images\n",
      "Processing manual_wfs_0009.fits...\n",
      "Not processing auto_wfs_0044_ave.fits because it's an average of multiple images\n",
      "Processing manual_wfs_0012.fits...\n",
      "Not processing auto_wfs_0047_ave.fits because it's an average of multiple images\n",
      "Processing manual_wfs_0015.fits...\n",
      "Processing manual_wfs_0002.fits...\n",
      "Not processing manual_wfs_0015_ave.fits because it's an average of multiple images\n",
      "Processing manual_wfs_0016.fits...\n",
      "Processing manual_wfs_0013.fits...\n",
      "Not processing auto_wfs_0050_ave.fits because it's an average of multiple images\n",
      "Processing manual_wfs_0018.fits...\n",
      "Processing manual_wfs_0010.fits...\n",
      "Processing manual_wfs_0017.fits...\n",
      "Not processing manual_wfs_0006_ave.fits because it's an average of multiple images\n",
      "Processing manual_wfs_0007.fits...\n",
      "Not processing manual_wfs_0003_ave.fits because it's an average of multiple images\n",
      "Processing manual_wfs_0004.fits...\n",
      "Not processing auto_wfs_0053_ave.fits because it's an average of multiple images\n",
      "Processing manual_wfs_0021.fits...\n",
      "Processing manual_wfs_0014.fits...\n",
      "Not processing manual_wfs_0010_ave.fits because it's an average of multiple images\n",
      "Processing manual_wfs_0011.fits...\n",
      "Not processing manual_wfs_0014_ave.fits because it's an average of multiple images\n",
      "Not processing manual_wfs_0018_ave.fits because it's an average of multiple images\n",
      "Processing manual_wfs_0019.fits...\n",
      "Processing manual_wfs_0008.fits...\n",
      "Processing manual_wfs_0005.fits...\n",
      "Processing manual_wfs_0022.fits...\n",
      "Processing manual_wfs_0020.fits...\n",
      "Processing manual_wfs_0023.fits...\n",
      "Processing manual_wfs_0024.fits...\n",
      "Working in 20071103...\n",
      "Processing auto_wfs_0003.fits...\n",
      "Processing auto_wfs_0000.fits...\n",
      "Processing auto_wfs_0009.fits...\n",
      "Processing auto_wfs_0006.fits...\n",
      "Processing auto_wfs_0015.fits...\n",
      "Processing auto_wfs_0012.fits...\n",
      "Processing auto_wfs_0021.fits...\n",
      "Processing auto_wfs_0018.fits...\n"
     ]
    },
    {
     "name": "stderr",
     "output_type": "stream",
     "text": [
      "WARNING: The fit may be unsuccessful; check fit_info['message'] for more information. [astropy.modeling.fitting]\n",
      "WARNING: The fit may be unsuccessful; check fit_info['message'] for more information. [astropy.modeling.fitting]\n",
      "WARNING: The fit may be unsuccessful; check fit_info['message'] for more information. [astropy.modeling.fitting]\n",
      "WARNING: The fit may be unsuccessful; check fit_info['message'] for more information. [astropy.modeling.fitting]\n",
      "WARNING: The fit may be unsuccessful; check fit_info['message'] for more information. [astropy.modeling.fitting]\n",
      "WARNING: The fit may be unsuccessful; check fit_info['message'] for more information. [astropy.modeling.fitting]\n",
      "WARNING: The fit may be unsuccessful; check fit_info['message'] for more information. [astropy.modeling.fitting]\n",
      "WARNING: The fit may be unsuccessful; check fit_info['message'] for more information. [astropy.modeling.fitting]\n"
     ]
    },
    {
     "name": "stdout",
     "output_type": "stream",
     "text": [
      "Processing auto_wfs_0010.fits...\n",
      "Processing auto_wfs_0022.fits...\n",
      "Processing auto_wfs_0016.fits...\n",
      "Processing auto_wfs_0013.fits...\n",
      "Processing auto_wfs_0019.fits...\n",
      "Processing auto_wfs_0001.fits...\n",
      "Processing auto_wfs_0007.fits...\n",
      "Processing auto_wfs_0004.fits...\n",
      "Processing auto_wfs_0014.fits...\n",
      "Processing auto_wfs_0023.fits...\n",
      "Processing auto_wfs_0011.fits...\n",
      "Processing auto_wfs_0020.fits...\n",
      "Processing auto_wfs_0017.fits...\n",
      "Processing auto_wfs_0005.fits...\n",
      "Processing auto_wfs_0002.fits...\n",
      "Processing auto_wfs_0008.fits...\n",
      "Not processing auto_wfs_0014_ave.fits because it's an average of multiple images\n",
      "Processing auto_wfs_0024.fits...\n",
      "Not processing auto_wfs_0020_ave.fits because it's an average of multiple images\n",
      "Processing auto_wfs_0027.fits...\n",
      "Not processing auto_wfs_0023_ave.fits because it's an average of multiple images\n",
      "Processing auto_wfs_0030.fits...\n",
      "Not processing auto_wfs_0011_ave.fits because it's an average of multiple images\n",
      "Processing auto_wfs_0033.fits...\n",
      "Not processing auto_wfs_0002_ave.fits because it's an average of multiple images\n",
      "Processing auto_wfs_0036.fits...\n",
      "Not processing auto_wfs_0005_ave.fits because it's an average of multiple images\n",
      "Processing auto_wfs_0039.fits...\n",
      "Not processing auto_wfs_0017_ave.fits because it's an average of multiple images\n",
      "Processing auto_wfs_0042.fits...\n",
      "Not processing auto_wfs_0008_ave.fits because it's an average of multiple images\n",
      "Processing auto_wfs_0045.fits...\n",
      "Processing auto_wfs_0025.fits...\n",
      "Processing auto_wfs_0034.fits...\n",
      "Processing auto_wfs_0037.fits...\n",
      "Processing auto_wfs_0031.fits...\n",
      "Processing auto_wfs_0028.fits...\n",
      "Processing auto_wfs_0040.fits...\n",
      "Processing auto_wfs_0043.fits...\n",
      "Processing auto_wfs_0046.fits...\n",
      "Processing auto_wfs_0026.fits...\n",
      "Processing auto_wfs_0038.fits...\n",
      "Processing auto_wfs_0035.fits...\n",
      "Processing auto_wfs_0041.fits...\n",
      "Processing auto_wfs_0044.fits...\n",
      "Processing auto_wfs_0029.fits...\n",
      "Processing auto_wfs_0032.fits...\n",
      "Processing auto_wfs_0047.fits...\n",
      "Not processing auto_wfs_0026_ave.fits because it's an average of multiple images\n",
      "Processing manual_wfs_0000.fits...\n",
      "Not processing auto_wfs_0041_ave.fits because it's an average of multiple images\n",
      "Not processing manual_wfs_0003_ave.fits because it's an average of multiple images\n",
      "Processing manual_wfs_0004.fits...\n",
      "Not processing auto_wfs_0038_ave.fits because it's an average of multiple images\n",
      "Processing manual_wfs_0007.fits...\n",
      "Not processing auto_wfs_0035_ave.fits because it's an average of multiple images\n",
      "Processing manual_wfs_0009.fits...\n",
      "Not processing auto_wfs_0044_ave.fits because it's an average of multiple images\n",
      "Processing manual_wfs_0012.fits...\n",
      "Not processing auto_wfs_0032_ave.fits because it's an average of multiple images\n",
      "Processing manual_wfs_0016.fits...\n",
      "Not processing auto_wfs_0029_ave.fits because it's an average of multiple images\n",
      "Processing manual_wfs_0020.fits...\n",
      "Not processing auto_wfs_0047_ave.fits because it's an average of multiple images\n",
      "Processing manual_wfs_0023.fits...\n",
      "Processing manual_wfs_0013.fits...\n",
      "Processing manual_wfs_0001.fits...\n",
      "Processing manual_wfs_0005.fits...\n",
      "Not processing manual_wfs_0007_ave.fits because it's an average of multiple images\n",
      "Not processing manual_wfs_0007_ave_ave.fits because it's an average of multiple images\n",
      "Processing manual_wfs_0008.fits...\n",
      "Processing manual_wfs_0010.fits...\n",
      "Processing manual_wfs_0017.fits...\n",
      "Processing manual_wfs_0021.fits...\n",
      "Processing manual_wfs_0024.fits...\n",
      "Processing manual_wfs_0014.fits...\n",
      "Processing manual_wfs_0002.fits...\n",
      "Processing manual_wfs_0006.fits...\n",
      "Processing manual_wfs_0018.fits...\n",
      "Processing manual_wfs_0026.fits...\n",
      "Processing manual_wfs_0011.fits...\n",
      "Not processing manual_wfs_0024_ave.fits because it's an average of multiple images\n",
      "Processing manual_wfs_0025.fits...\n",
      "Not processing manual_wfs_0021_ave.fits because it's an average of multiple images\n",
      "Processing manual_wfs_0022.fits...\n",
      "Processing manual_wfs_0015.fits...\n",
      "Processing manual_wfs_0003.fits...\n",
      "Processing manual_wfs_0019.fits...\n",
      "Processing manual_wfs_0029.fits...\n",
      "Processing manual_wfs_0027.fits...\n",
      "Not processing manual_wfs_0011_ave.fits because it's an average of multiple images\n",
      "Processing manual_wfs_0033.fits...\n",
      "Processing manual_wfs_0030.fits...\n",
      "Processing manual_wfs_0028.fits...\n",
      "Processing manual_wfs_0031.fits...\n",
      "Not processing manual_wfs_0028_ave.fits because it's an average of multiple images\n",
      "Processing manual_wfs_0032.fits...\n",
      "Working in 20071104...\n",
      "Processing auto_wfs_0003.fits...\n",
      "Processing auto_wfs_0010.fits...\n",
      "Processing auto_wfs_0001.fits...\n",
      "Processing Ref_0000.fits...\n",
      "Not processing auto_wfs_0005_ave.fits because it's an average of multiple images\n",
      "Processing auto_wfs_0008.fits...\n",
      "Not processing auto_wfs_0014_ave.fits because it's an average of multiple images\n",
      "Processing auto_wfs_0012.fits...\n",
      "Processing auto_wfs_0006.fits...\n",
      "Processing auto_wfs_0015.fits...\n"
     ]
    },
    {
     "name": "stderr",
     "output_type": "stream",
     "text": [
      "WARNING: Sources were found, but none pass the sharpness and roundness criteria. [photutils.detection.findstars]\n",
      "WARNING: No sources were found. [photutils.detection.findstars]\n"
     ]
    },
    {
     "name": "stdout",
     "output_type": "stream",
     "text": [
      "Failed to find spots for /Volumes/LACIE SHARE/wfsdat/20071104/Ref_0000: (WFSAnalysisFailed(...), 'No WFS spots detected.')\n",
      "Processing Ref_0001.fits...\n"
     ]
    },
    {
     "name": "stderr",
     "output_type": "stream",
     "text": [
      "WARNING: The fit may be unsuccessful; check fit_info['message'] for more information. [astropy.modeling.fitting]\n",
      "WARNING: The fit may be unsuccessful; check fit_info['message'] for more information. [astropy.modeling.fitting]\n",
      "WARNING: The fit may be unsuccessful; check fit_info['message'] for more information. [astropy.modeling.fitting]\n",
      "WARNING: The fit may be unsuccessful; check fit_info['message'] for more information. [astropy.modeling.fitting]\n",
      "WARNING: The fit may be unsuccessful; check fit_info['message'] for more information. [astropy.modeling.fitting]\n",
      "WARNING: The fit may be unsuccessful; check fit_info['message'] for more information. [astropy.modeling.fitting]\n",
      "WARNING: The fit may be unsuccessful; check fit_info['message'] for more information. [astropy.modeling.fitting]\n",
      "WARNING: The fit may be unsuccessful; check fit_info['message'] for more information. [astropy.modeling.fitting]\n"
     ]
    },
    {
     "name": "stdout",
     "output_type": "stream",
     "text": [
      "Processing auto_wfs_0000.fits...\n",
      "Processing auto_wfs_0011.fits...\n",
      "Processing auto_wfs_0013.fits...\n",
      "Processing auto_wfs_0016.fits...\n",
      "Not processing auto_wfs_0008_ave.fits because it's an average of multiple images\n",
      "Processing auto_wfs_0009.fits...\n",
      "Processing auto_wfs_0002.fits...\n",
      "Processing auto_wfs_0007.fits...\n",
      "Processing auto_wfs_0004.fits...\n",
      "Processing auto_wfs_0017.fits...\n",
      "Processing auto_wfs_0019.fits...\n",
      "Processing auto_wfs_0014.fits...\n",
      "Processing auto_wfs_0021.fits...\n",
      "Not processing auto_wfs_0011_ave.fits because it's an average of multiple images\n",
      "Not processing auto_wfs_0023_ave.fits because it's an average of multiple images\n",
      "Processing auto_wfs_0024.fits...\n",
      "Processing auto_wfs_0026.fits...\n",
      "Not processing auto_wfs_0002_ave.fits because it's an average of multiple images\n",
      "Processing auto_wfs_0028.fits...\n",
      "Processing auto_wfs_0005.fits...\n",
      "Not processing auto_wfs_0017_ave.fits because it's an average of multiple images\n",
      "Processing auto_wfs_0018.fits...\n",
      "Processing auto_wfs_0025.fits...\n",
      "Processing auto_wfs_0020.fits...\n",
      "Processing auto_wfs_0030.fits...\n",
      "Processing auto_wfs_0022.fits...\n",
      "Not processing auto_wfs_0026_ave.fits because it's an average of multiple images\n",
      "Processing auto_wfs_0027.fits...\n",
      "Not processing auto_wfs_0032_ave.fits because it's an average of multiple images\n",
      "Processing auto_wfs_0033.fits...\n",
      "Processing auto_wfs_0029.fits...\n",
      "Processing auto_wfs_0035.fits...\n",
      "Not processing auto_wfs_0020_ave.fits because it's an average of multiple images\n",
      "Processing auto_wfs_0037.fits...\n",
      "Processing auto_wfs_0039.fits...\n",
      "Processing auto_wfs_0023.fits...\n",
      "Processing auto_wfs_0031.fits...\n",
      "Not processing auto_wfs_0041_ave.fits because it's an average of multiple images\n",
      "Processing auto_wfs_0042.fits...\n",
      "Processing auto_wfs_0034.fits...\n",
      "Not processing auto_wfs_0029_ave.fits because it's an average of multiple images\n",
      "Processing auto_wfs_0044.fits...\n",
      "Not processing auto_wfs_0035_ave.fits because it's an average of multiple images\n",
      "Processing auto_wfs_0036.fits...\n",
      "Processing auto_wfs_0038.fits...\n",
      "Processing auto_wfs_0040.fits...\n",
      "Processing manual_wfs_0001.fits...\n",
      "Processing auto_wfs_0032.fits...\n",
      "Processing auto_wfs_0043.fits...\n",
      "Processing manual_wfs_0004.fits...\n",
      "Not processing auto_wfs_0044_ave.fits because it's an average of multiple images\n",
      "Processing manual_wfs_0000.fits...\n",
      "Not processing manual_wfs_0006_ave.fits because it's an average of multiple images\n",
      "Processing manual_wfs_0007.fits...\n",
      "Not processing auto_wfs_0038_ave.fits because it's an average of multiple images\n",
      "Processing manual_wfs_0009.fits...\n",
      "Processing auto_wfs_0041.fits...\n",
      "Processing manual_wfs_0002.fits...\n",
      "Processing manual_wfs_0011.fits...\n",
      "Processing manual_wfs_0014.fits...\n",
      "Processing manual_wfs_0005.fits...\n",
      "Processing manual_wfs_0008.fits...\n",
      "Not processing manual_wfs_0009_ave.fits because it's an average of multiple images\n",
      "Processing manual_wfs_0010.fits...\n",
      "Processing manual_wfs_0003.fits...\n",
      "Processing manual_wfs_0012.fits...\n",
      "Processing manual_wfs_0015.fits...\n",
      "Processing manual_wfs_0006.fits...\n",
      "Processing manual_wfs_0013.fits...\n",
      "Working in 20071105...\n",
      "Not processing auto_wfs_0002_ave.fits because it's an average of multiple images\n",
      "Processing auto_wfs_0005.fits...\n",
      "Processing auto_wfs_0007.fits...\n",
      "Not processing auto_wfs_0011_ave.fits because it's an average of multiple images\n",
      "Processing auto_wfs_0009.fits...\n",
      "Processing auto_wfs_0000.fits...\n",
      "Processing auto_wfs_0003.fits...\n",
      "Processing auto_wfs_0016.fits...\n",
      "Processing auto_wfs_0012.fits...\n",
      "Processing auto_wfs_0014.fits...\n"
     ]
    },
    {
     "name": "stderr",
     "output_type": "stream",
     "text": [
      "WARNING: The fit may be unsuccessful; check fit_info['message'] for more information. [astropy.modeling.fitting]\n",
      "WARNING: The fit may be unsuccessful; check fit_info['message'] for more information. [astropy.modeling.fitting]\n",
      "WARNING: The fit may be unsuccessful; check fit_info['message'] for more information. [astropy.modeling.fitting]\n",
      "WARNING: The fit may be unsuccessful; check fit_info['message'] for more information. [astropy.modeling.fitting]\n",
      "WARNING: The fit may be unsuccessful; check fit_info['message'] for more information. [astropy.modeling.fitting]\n",
      "WARNING: The fit may be unsuccessful; check fit_info['message'] for more information. [astropy.modeling.fitting]\n",
      "WARNING: The fit may be unsuccessful; check fit_info['message'] for more information. [astropy.modeling.fitting]\n",
      "WARNING: The fit may be unsuccessful; check fit_info['message'] for more information. [astropy.modeling.fitting]\n"
     ]
    },
    {
     "name": "stdout",
     "output_type": "stream",
     "text": [
      "Not processing auto_wfs_0005_ave.fits because it's an average of multiple images\n",
      "Processing auto_wfs_0006.fits...\n",
      "Processing auto_wfs_0008.fits...\n",
      "Processing auto_wfs_0004.fits...\n",
      "Processing auto_wfs_0001.fits...\n",
      "Processing auto_wfs_0017.fits...\n",
      "Processing auto_wfs_0013.fits...\n",
      "Not processing auto_wfs_0014_ave.fits because it's an average of multiple images\n",
      "Processing auto_wfs_0015.fits...\n",
      "Processing auto_wfs_0010.fits...\n",
      "Processing auto_wfs_0018.fits...\n",
      "Not processing auto_wfs_0008_ave.fits because it's an average of multiple images\n",
      "Not processing auto_wfs_0020_ave.fits because it's an average of multiple images\n",
      "Processing auto_wfs_0021.fits...\n",
      "Processing auto_wfs_0002.fits...\n",
      "Processing auto_wfs_0023.fits...\n",
      "Processing auto_wfs_0025.fits...\n",
      "Not processing auto_wfs_0017_ave.fits because it's an average of multiple images\n",
      "Processing auto_wfs_0027.fits...\n",
      "Not processing auto_wfs_0029_ave.fits because it's an average of multiple images\n",
      "Processing auto_wfs_0030.fits...\n",
      "Processing auto_wfs_0011.fits...\n",
      "Processing auto_wfs_0022.fits...\n",
      "Processing auto_wfs_0032.fits...\n",
      "Not processing auto_wfs_0023_ave.fits because it's an average of multiple images\n",
      "Processing auto_wfs_0024.fits...\n",
      "Processing auto_wfs_0019.fits...\n",
      "Processing auto_wfs_0026.fits...\n",
      "Processing auto_wfs_0031.fits...\n",
      "Processing auto_wfs_0028.fits...\n",
      "Processing auto_wfs_0034.fits...\n",
      "Processing auto_wfs_0036.fits...\n",
      "Processing auto_wfs_0020.fits...\n",
      "Not processing auto_wfs_0038_ave.fits because it's an average of multiple images\n",
      "Processing auto_wfs_0039.fits...\n",
      "Not processing auto_wfs_0032_ave.fits because it's an average of multiple images\n",
      "Processing auto_wfs_0033.fits...\n",
      "Not processing auto_wfs_0026_ave.fits because it's an average of multiple images\n",
      "Processing auto_wfs_0041.fits...\n",
      "Processing auto_wfs_0029.fits...\n",
      "Processing manual_wfs_0001.fits...\n",
      "Processing auto_wfs_0035.fits...\n",
      "Processing manual_wfs_0004.fits...\n",
      "Processing auto_wfs_0037.fits...\n",
      "Processing auto_wfs_0040.fits...\n",
      "Not processing manual_wfs_0006_ave.fits because it's an average of multiple images\n",
      "Processing manual_wfs_0007.fits...\n",
      "Not processing auto_wfs_0041_ave.fits because it's an average of multiple images\n",
      "Processing manual_wfs_0000.fits...\n",
      "Processing manual_wfs_0002.fits...\n",
      "Processing manual_wfs_0009.fits...\n",
      "Not processing auto_wfs_0035_ave.fits because it's an average of multiple images\n",
      "Processing manual_wfs_0011.fits...\n",
      "Processing manual_wfs_0008.fits...\n",
      "Processing manual_wfs_0005.fits...\n",
      "Processing manual_wfs_0014.fits...\n",
      "Processing auto_wfs_0038.fits...\n",
      "Processing manual_wfs_0016.fits...\n",
      "Not processing manual_wfs_0009_ave.fits because it's an average of multiple images\n",
      "Processing manual_wfs_0010.fits...\n",
      "Processing manual_wfs_0003.fits...\n",
      "Processing manual_wfs_0012.fits...\n",
      "Processing manual_wfs_0006.fits...\n",
      "Not processing manual_wfs_0014_ave.fits because it's an average of multiple images\n",
      "Processing manual_wfs_0015.fits...\n",
      "Processing manual_wfs_0017.fits...\n",
      "Processing manual_wfs_0013.fits...\n",
      "Working in 20071106...\n",
      "Processing auto_wfs_0006.fits...\n",
      "Processing auto_wfs_0005.fits...\n",
      "Processing auto_wfs_0003.fits...\n",
      "Processing auto_wfs_0000.fits...\n",
      "Processing auto_wfs_0008.fits...\n",
      "Processing auto_wfs_0009.fits...\n",
      "Processing auto_wfs_0002.fits...\n",
      "Processing auto_wfs_0011.fits...\n"
     ]
    },
    {
     "name": "stderr",
     "output_type": "stream",
     "text": [
      "WARNING: The fit may be unsuccessful; check fit_info['message'] for more information. [astropy.modeling.fitting]\n",
      "WARNING: The fit may be unsuccessful; check fit_info['message'] for more information. [astropy.modeling.fitting]\n",
      "WARNING: The fit may be unsuccessful; check fit_info['message'] for more information. [astropy.modeling.fitting]\n",
      "WARNING: The fit may be unsuccessful; check fit_info['message'] for more information. [astropy.modeling.fitting]\n",
      "WARNING: The fit may be unsuccessful; check fit_info['message'] for more information. [astropy.modeling.fitting]\n",
      "WARNING: The fit may be unsuccessful; check fit_info['message'] for more information. [astropy.modeling.fitting]\n",
      "WARNING: The fit may be unsuccessful; check fit_info['message'] for more information. [astropy.modeling.fitting]\n",
      "WARNING: The fit may be unsuccessful; check fit_info['message'] for more information. [astropy.modeling.fitting]\n"
     ]
    },
    {
     "name": "stdout",
     "output_type": "stream",
     "text": [
      "Not processing auto_wfs_0005_ave.fits because it's an average of multiple images\n",
      "Processing auto_wfs_0012.fits...\n",
      "Not processing auto_wfs_0011_ave.fits because it's an average of multiple images\n",
      "Processing auto_wfs_0014.fits...\n",
      "Processing auto_wfs_0007.fits...\n",
      "Processing auto_wfs_0004.fits...\n",
      "Processing auto_wfs_0001.fits...\n",
      "Not processing auto_wfs_0008_ave.fits because it's an average of multiple images\n",
      "Processing auto_wfs_0015.fits...\n",
      "Not processing auto_wfs_0002_ave.fits because it's an average of multiple images\n",
      "Processing auto_wfs_0017.fits...\n",
      "Processing auto_wfs_0010.fits...\n",
      "Processing auto_wfs_0018.fits...\n",
      "Processing auto_wfs_0020.fits...\n",
      "Processing auto_wfs_0021.fits...\n",
      "Processing auto_wfs_0013.fits...\n",
      "Not processing auto_wfs_0014_ave.fits because it's an average of multiple images\n",
      "Processing auto_wfs_0023.fits...\n",
      "Processing auto_wfs_0016.fits...\n",
      "Processing auto_wfs_0024.fits...\n",
      "Not processing auto_wfs_0017_ave.fits because it's an average of multiple images\n",
      "Processing auto_wfs_0026.fits...\n",
      "Processing auto_wfs_0019.fits...\n",
      "Processing auto_wfs_0022.fits...\n",
      "Not processing auto_wfs_0020_ave.fits because it's an average of multiple images\n",
      "Processing manual_wfs_0000.fits...\n",
      "Processing manual_wfs_0002.fits...\n",
      "Not processing auto_wfs_0023_ave.fits because it's an average of multiple images\n",
      "Processing manual_wfs_0004.fits...\n",
      "Processing auto_wfs_0025.fits...\n",
      "Not processing auto_wfs_0026_ave.fits because it's an average of multiple images\n",
      "Processing manual_wfs_0001.fits...\n",
      "Processing manual_wfs_0005.fits...\n",
      "Processing manual_wfs_0003.fits...\n",
      "Working in 20071107...\n",
      "Processing back.fits...\n",
      "Processing test_0000.fits...\n",
      "Processing manual_wfs_0000.fits...\n"
     ]
    },
    {
     "name": "stderr",
     "output_type": "stream",
     "text": [
      "WARNING: No sources were found. [photutils.detection.findstars]\n",
      "WARNING: The fit may be unsuccessful; check fit_info['message'] for more information. [astropy.modeling.fitting]\n",
      "WARNING: The fit may be unsuccessful; check fit_info['message'] for more information. [astropy.modeling.fitting]\n",
      "WARNING: The fit may be unsuccessful; check fit_info['message'] for more information. [astropy.modeling.fitting]\n",
      "/Users/tim/conda/envs/py36/lib/python3.6/site-packages/ipykernel_launcher.py:103: RuntimeWarning: invalid value encountered in sqrt\n"
     ]
    },
    {
     "name": "stdout",
     "output_type": "stream",
     "text": [
      "Working in 20071108...\n",
      "Processing Ref_cold_0002.fits...\n",
      "Not processing Ref_new_0000_ave.fits because it's an average of multiple images\n",
      "Processing Ref_warm_0001.fits...\n",
      "Not processing auto_wfs_0002_ave.fits because it's an average of multiple images\n",
      "Not processing auto_wfs_0006_ave.fits because it's an average of multiple images\n",
      "Processing auto_wfs_0010.fits...\n",
      "Processing Ref_0000.fits...\n",
      "Processing auto_wfs_0014.fits...\n",
      "Processing auto_wfs_0003.fits...\n",
      "Processing auto_wfs_0007.fits...\n",
      "Processing Ref_new_0001.fits...\n"
     ]
    },
    {
     "name": "stderr",
     "output_type": "stream",
     "text": [
      "WARNING: The fit may be unsuccessful; check fit_info['message'] for more information. [astropy.modeling.fitting]\n",
      "WARNING: The fit may be unsuccessful; check fit_info['message'] for more information. [astropy.modeling.fitting]\n",
      "WARNING: The fit may be unsuccessful; check fit_info['message'] for more information. [astropy.modeling.fitting]\n",
      "WARNING: The fit may be unsuccessful; check fit_info['message'] for more information. [astropy.modeling.fitting]\n"
     ]
    },
    {
     "name": "stdout",
     "output_type": "stream",
     "text": [
      "Processing Ref_warm_0002.fits...\n",
      "Not processing Ref_0000_ave.fits because it's an average of multiple images\n",
      "Processing Ref_0001.fits...\n"
     ]
    },
    {
     "name": "stderr",
     "output_type": "stream",
     "text": [
      "WARNING: The fit may be unsuccessful; check fit_info['message'] for more information. [astropy.modeling.fitting]\n",
      "WARNING: The fit may be unsuccessful; check fit_info['message'] for more information. [astropy.modeling.fitting]\n"
     ]
    },
    {
     "name": "stdout",
     "output_type": "stream",
     "text": [
      "Processing Ref_new_0002.fits...\n",
      "Processing Ref_cold_0003.fits...\n",
      "Processing auto_wfs_0000.fits...\n"
     ]
    },
    {
     "name": "stderr",
     "output_type": "stream",
     "text": [
      "WARNING: The fit may be unsuccessful; check fit_info['message'] for more information. [astropy.modeling.fitting]\n"
     ]
    },
    {
     "name": "stdout",
     "output_type": "stream",
     "text": [
      "Processing Ref_cold_0000.fits...\n"
     ]
    },
    {
     "name": "stderr",
     "output_type": "stream",
     "text": [
      "WARNING: The fit may be unsuccessful; check fit_info['message'] for more information. [astropy.modeling.fitting]\n"
     ]
    },
    {
     "name": "stdout",
     "output_type": "stream",
     "text": [
      "Processing Ref_warm_0000.fits...\n",
      "Processing Ref_cold_0004.fits...\n",
      "Processing Ref_cold_0001.fits...\n",
      "Not processing Ref_warm_0000_ave.fits because it's an average of multiple images\n",
      "Processing auto_wfs_0018.fits...\n",
      "Processing Ref_cold_0005.fits...\n",
      "Not processing auto_wfs_0021_ave.fits because it's an average of multiple images\n",
      "Processing auto_wfs_0022.fits...\n",
      "Processing Ref_new_0000.fits...\n",
      "Processing auto_wfs_0025.fits...\n",
      "Processing auto_wfs_0004.fits...\n",
      "Processing auto_wfs_0015.fits...\n",
      "Processing auto_wfs_0008.fits...\n",
      "Processing auto_wfs_0011.fits...\n",
      "Processing auto_wfs_0001.fits...\n",
      "Not processing auto_wfs_0018_ave.fits because it's an average of multiple images\n",
      "Processing auto_wfs_0019.fits...\n",
      "Processing auto_wfs_0023.fits...\n",
      "Processing auto_wfs_0026.fits...\n",
      "Processing auto_wfs_0005.fits...\n",
      "Not processing auto_wfs_0015_ave.fits because it's an average of multiple images\n",
      "Processing auto_wfs_0016.fits...\n",
      "Processing auto_wfs_0009.fits...\n",
      "Processing auto_wfs_0012.fits...\n",
      "Processing auto_wfs_0002.fits...\n",
      "Processing auto_wfs_0020.fits...\n",
      "Processing auto_wfs_0027.fits...\n",
      "Processing auto_wfs_0024.fits...\n",
      "Processing auto_wfs_0017.fits...\n",
      "Processing auto_wfs_0006.fits...\n",
      "Not processing auto_wfs_0009_ave.fits because it's an average of multiple images\n",
      "Processing auto_wfs_0029.fits...\n",
      "Not processing auto_wfs_0012_ave.fits because it's an average of multiple images\n",
      "Processing auto_wfs_0013.fits...\n",
      "Not processing auto_wfs_0033_ave.fits because it's an average of multiple images\n",
      "Processing auto_wfs_0034.fits...\n",
      "Processing auto_wfs_0028.fits...\n",
      "Processing auto_wfs_0021.fits...\n",
      "Not processing auto_wfs_0024_ave.fits because it's an average of multiple images\n",
      "Processing auto_wfs_0037.fits...\n",
      "Processing auto_wfs_0030.fits...\n",
      "Processing auto_wfs_0041.fits...\n",
      "Processing auto_wfs_0045.fits...\n",
      "Not processing auto_wfs_0048_ave.fits because it's an average of multiple images\n",
      "Processing auto_wfs_0049.fits...\n",
      "Processing auto_wfs_0035.fits...\n",
      "Not processing auto_wfs_0028_ave.fits because it's an average of multiple images\n",
      "Processing auto_wfs_0052.fits...\n",
      "Processing auto_wfs_0056.fits...\n",
      "Processing auto_wfs_0038.fits...\n",
      "Processing auto_wfs_0031.fits...\n",
      "Processing auto_wfs_0042.fits...\n",
      "Not processing auto_wfs_0045_ave.fits because it's an average of multiple images\n",
      "Processing auto_wfs_0046.fits...\n",
      "Processing auto_wfs_0050.fits...\n",
      "Processing auto_wfs_0036.fits...\n",
      "Processing auto_wfs_0053.fits...\n",
      "Processing auto_wfs_0057.fits...\n",
      "Processing auto_wfs_0039.fits...\n",
      "Processing auto_wfs_0032.fits...\n",
      "Not processing auto_wfs_0042_ave.fits because it's an average of multiple images\n",
      "Processing auto_wfs_0043.fits...\n",
      "Processing auto_wfs_0047.fits...\n",
      "Processing auto_wfs_0051.fits...\n",
      "Not processing auto_wfs_0036_ave.fits because it's an average of multiple images\n",
      "Processing auto_wfs_0060.fits...\n",
      "Processing auto_wfs_0054.fits...\n",
      "Not processing auto_wfs_0057_ave.fits because it's an average of multiple images\n",
      "Processing auto_wfs_0058.fits...\n",
      "Not processing auto_wfs_0039_ave.fits because it's an average of multiple images\n",
      "Processing auto_wfs_0040.fits...\n",
      "Processing auto_wfs_0033.fits...\n",
      "Processing auto_wfs_0044.fits...\n",
      "Processing auto_wfs_0048.fits...\n",
      "Not processing auto_wfs_0051_ave.fits because it's an average of multiple images\n",
      "Not processing auto_wfs_0063_ave.fits because it's an average of multiple images\n",
      "Processing auto_wfs_0064.fits...\n",
      "Not processing auto_wfs_0060_ave.fits because it's an average of multiple images\n",
      "Processing auto_wfs_0061.fits...\n",
      "Not processing auto_wfs_0054_ave.fits because it's an average of multiple images\n",
      "Processing auto_wfs_0055.fits...\n",
      "Processing auto_wfs_0059.fits...\n",
      "Processing auto_wfs_0067.fits...\n",
      "Processing auto_wfs_0071.fits...\n",
      "Processing auto_wfs_0075.fits...\n",
      "Processing manual_wfs_0002.fits...\n",
      "Processing manual_wfs_0003.fits...\n",
      "Processing auto_wfs_0062.fits...\n",
      "Processing auto_wfs_0065.fits...\n",
      "Processing manual_wfs_0004.fits...\n",
      "Processing manual_wfs_0005.fits...\n",
      "Processing manual_wfs_0007.fits...\n",
      "Processing manual_wfs_0006.fits...\n",
      "Processing manual_wfs_0012.fits...\n",
      "Processing manual_wfs_0017.fits...\n",
      "Processing auto_wfs_0068.fits...\n",
      "Processing manual_wfs_0008.fits...\n",
      "Processing auto_wfs_0072.fits...\n",
      "Processing manual_wfs_0009.fits...\n",
      "Not processing auto_wfs_0075_ave.fits because it's an average of multiple images\n",
      "Processing back.fits...\n",
      "Processing manual_wfs_0013.fits...\n"
     ]
    },
    {
     "name": "stderr",
     "output_type": "stream",
     "text": [
      "WARNING: No sources were found. [photutils.detection.findstars]\n"
     ]
    },
    {
     "name": "stdout",
     "output_type": "stream",
     "text": [
      "Processing manual_wfs_0000.fits...\n",
      "Processing manual_wfs_0001.fits...\n",
      "Processing auto_wfs_0063.fits...\n",
      "Processing auto_wfs_0066.fits...\n",
      "Processing manual_wfs_0022.fits...\n",
      "Processing manual_wfs_0014.fits...\n",
      "Processing auto_wfs_0069.fits...\n"
     ]
    },
    {
     "name": "stderr",
     "output_type": "stream",
     "text": [
      "/Users/tim/conda/envs/py36/lib/python3.6/site-packages/ipykernel_launcher.py:103: RuntimeWarning: invalid value encountered in sqrt\n"
     ]
    },
    {
     "name": "stdout",
     "output_type": "stream",
     "text": [
      "Processing manual_wfs_0018.fits...\n",
      "Not processing auto_wfs_0072_ave.fits because it's an average of multiple images\n",
      "Processing auto_wfs_0073.fits...\n",
      "Processing manual_wfs_0015.fits...\n",
      "Processing manual_wfs_0023.fits...\n",
      "Processing manual_wfs_0027.fits...\n",
      "Not processing auto_wfs_0066_ave.fits because it's an average of multiple images\n",
      "Processing manual_wfs_0032.fits...\n",
      "Processing manual_wfs_0010.fits...\n",
      "Processing manual_wfs_0016.fits...\n",
      "Not processing auto_wfs_0069_ave.fits because it's an average of multiple images\n",
      "Processing auto_wfs_0070.fits...\n",
      "Processing manual_wfs_0019.fits...\n",
      "Processing auto_wfs_0074.fits...\n",
      "Processing manual_wfs_0011.fits...\n",
      "Processing manual_wfs_0020.fits...\n",
      "Processing manual_wfs_0024.fits...\n",
      "Processing manual_wfs_0028.fits...\n",
      "Processing manual_wfs_0033.fits...\n",
      "Processing manual_wfs_0037.fits...\n",
      "Processing manual_wfs_0021.fits...\n",
      "Processing manual_wfs_0025.fits...\n",
      "Processing manual_wfs_0034.fits...\n",
      "Processing manual_wfs_0029.fits...\n",
      "Processing manual_wfs_0038.fits...\n",
      "Processing manual_wfs_0026.fits...\n",
      "Processing manual_wfs_0035.fits...\n",
      "Processing manual_wfs_0030.fits...\n",
      "Processing test_0000.fits...\n",
      "Processing manual_wfs_0036.fits...\n",
      "Processing manual_wfs_0031.fits...\n",
      "Working in 20071109...\n",
      "Processing auto_wfs_0003.fits...\n",
      "Processing auto_wfs_0009.fits...\n",
      "Not processing auto_wfs_0012_ave.fits because it's an average of multiple images\n",
      "Processing auto_wfs_0006.fits...\n",
      "Not processing auto_wfs_0015_ave.fits because it's an average of multiple images\n",
      "Processing auto_wfs_0000.fits...\n",
      "Not processing auto_wfs_0018_ave.fits because it's an average of multiple images\n",
      "Not processing auto_wfs_0021_ave.fits because it's an average of multiple images\n",
      "Processing auto_wfs_0013.fits...\n",
      "Processing auto_wfs_0016.fits...\n",
      "Processing auto_wfs_0019.fits...\n",
      "Processing auto_wfs_0022.fits...\n"
     ]
    },
    {
     "name": "stderr",
     "output_type": "stream",
     "text": [
      "WARNING: The fit may be unsuccessful; check fit_info['message'] for more information. [astropy.modeling.fitting]\n",
      "WARNING: The fit may be unsuccessful; check fit_info['message'] for more information. [astropy.modeling.fitting]\n",
      "WARNING: The fit may be unsuccessful; check fit_info['message'] for more information. [astropy.modeling.fitting]\n",
      "WARNING: The fit may be unsuccessful; check fit_info['message'] for more information. [astropy.modeling.fitting]\n",
      "WARNING: The fit may be unsuccessful; check fit_info['message'] for more information. [astropy.modeling.fitting]\n",
      "WARNING: The fit may be unsuccessful; check fit_info['message'] for more information. [astropy.modeling.fitting]\n",
      "WARNING: The fit may be unsuccessful; check fit_info['message'] for more information. [astropy.modeling.fitting]\n",
      "WARNING: The fit may be unsuccessful; check fit_info['message'] for more information. [astropy.modeling.fitting]\n"
     ]
    },
    {
     "name": "stdout",
     "output_type": "stream",
     "text": [
      "Processing auto_wfs_0017.fits...\n",
      "Processing auto_wfs_0014.fits...\n",
      "Processing auto_wfs_0004.fits...\n",
      "Processing auto_wfs_0010.fits...\n",
      "Processing auto_wfs_0007.fits...\n",
      "Processing auto_wfs_0020.fits...\n",
      "Processing auto_wfs_0001.fits...\n",
      "Processing auto_wfs_0023.fits...\n",
      "Processing auto_wfs_0015.fits...\n",
      "Processing auto_wfs_0018.fits...\n",
      "Processing auto_wfs_0005.fits...\n",
      "Processing auto_wfs_0024.fits...\n",
      "Processing auto_wfs_0008.fits...\n",
      "Processing auto_wfs_0011.fits...\n",
      "Processing auto_wfs_0002.fits...\n",
      "Processing auto_wfs_0021.fits...\n",
      "Not processing auto_wfs_0024_ave.fits because it's an average of multiple images\n",
      "Processing auto_wfs_0025.fits...\n",
      "Not processing auto_wfs_0027_ave.fits because it's an average of multiple images\n",
      "Processing auto_wfs_0028.fits...\n",
      "Not processing auto_wfs_0030_ave.fits because it's an average of multiple images\n",
      "Processing auto_wfs_0031.fits...\n",
      "Not processing auto_wfs_0005_ave.fits because it's an average of multiple images\n",
      "Not processing auto_wfs_0033_ave.fits because it's an average of multiple images\n",
      "Processing auto_wfs_0034.fits...\n",
      "Processing auto_wfs_0012.fits...\n",
      "Not processing auto_wfs_0002_ave.fits because it's an average of multiple images\n",
      "Not processing auto_wfs_0036_ave.fits because it's an average of multiple images\n",
      "Processing auto_wfs_0037.fits...\n",
      "Not processing auto_wfs_0008_ave.fits because it's an average of multiple images\n",
      "Not processing auto_wfs_0039_ave.fits because it's an average of multiple images\n",
      "Processing auto_wfs_0040.fits...\n",
      "Not processing auto_wfs_0042_ave.fits because it's an average of multiple images\n",
      "Processing auto_wfs_0043.fits...\n",
      "Processing auto_wfs_0026.fits...\n",
      "Processing auto_wfs_0035.fits...\n",
      "Processing auto_wfs_0032.fits...\n",
      "Not processing auto_wfs_0045_ave.fits because it's an average of multiple images\n",
      "Processing auto_wfs_0046.fits...\n",
      "Processing auto_wfs_0029.fits...\n",
      "Processing auto_wfs_0041.fits...\n",
      "Processing auto_wfs_0038.fits...\n",
      "Processing auto_wfs_0044.fits...\n",
      "Processing auto_wfs_0036.fits...\n",
      "Processing auto_wfs_0047.fits...\n",
      "Processing auto_wfs_0027.fits...\n",
      "Processing auto_wfs_0033.fits...\n",
      "Processing auto_wfs_0030.fits...\n",
      "Processing auto_wfs_0042.fits...\n",
      "Processing auto_wfs_0039.fits...\n",
      "Processing auto_wfs_0045.fits...\n",
      "Processing auto_wfs_0049.fits...\n",
      "Processing auto_wfs_0052.fits...\n",
      "Processing auto_wfs_0048.fits...\n",
      "Processing auto_wfs_0055.fits...\n",
      "Processing auto_wfs_0058.fits...\n",
      "Processing auto_wfs_0061.fits...\n",
      "Processing auto_wfs_0064.fits...\n",
      "Processing auto_wfs_0067.fits...\n",
      "Processing auto_wfs_0050.fits...\n",
      "Processing auto_wfs_0053.fits...\n",
      "Processing auto_wfs_0056.fits...\n",
      "Processing auto_wfs_0070.fits...\n",
      "Processing auto_wfs_0059.fits...\n",
      "Processing auto_wfs_0062.fits...\n",
      "Processing auto_wfs_0065.fits...\n",
      "Processing auto_wfs_0068.fits...\n",
      "Processing auto_wfs_0051.fits...\n",
      "Processing auto_wfs_0054.fits...\n",
      "Processing auto_wfs_0057.fits...\n",
      "Processing auto_wfs_0071.fits...\n",
      "Processing auto_wfs_0060.fits...\n",
      "Processing auto_wfs_0063.fits...\n",
      "Processing auto_wfs_0066.fits...\n",
      "Processing auto_wfs_0069.fits...\n",
      "Not processing auto_wfs_0051_ave.fits because it's an average of multiple images\n",
      "Processing auto_wfs_0073.fits...\n",
      "Not processing auto_wfs_0054_ave.fits because it's an average of multiple images\n",
      "Processing auto_wfs_0076.fits...\n",
      "Not processing auto_wfs_0057_ave.fits because it's an average of multiple images\n",
      "Processing auto_wfs_0079.fits...\n",
      "Processing auto_wfs_0072.fits...\n",
      "Not processing auto_wfs_0060_ave.fits because it's an average of multiple images\n",
      "Processing auto_wfs_0082.fits...\n",
      "Not processing auto_wfs_0063_ave.fits because it's an average of multiple images\n",
      "Processing manual_wfs_0000.fits...\n",
      "Not processing auto_wfs_0066_ave.fits because it's an average of multiple images\n",
      "Processing manual_wfs_0004.fits...\n",
      "Not processing auto_wfs_0069_ave.fits because it's an average of multiple images\n",
      "Processing auto_wfs_0074.fits...\n",
      "Processing auto_wfs_0077.fits...\n",
      "Processing auto_wfs_0080.fits...\n",
      "Not processing auto_wfs_0072_ave.fits because it's an average of multiple images\n",
      "Processing auto_wfs_0083.fits...\n",
      "Processing manual_wfs_0001.fits...\n",
      "Processing manual_wfs_0005.fits...\n",
      "Processing auto_wfs_0075.fits...\n",
      "Processing auto_wfs_0078.fits...\n",
      "Processing auto_wfs_0081.fits...\n",
      "Processing auto_wfs_0084.fits...\n",
      "Processing manual_wfs_0002.fits...\n",
      "Not processing auto_wfs_0075_ave.fits because it's an average of multiple images\n",
      "Processing manual_wfs_0006.fits...\n",
      "Not processing auto_wfs_0078_ave.fits because it's an average of multiple images\n",
      "Not processing auto_wfs_0081_ave.fits because it's an average of multiple images\n",
      "Not processing auto_wfs_0084_ave.fits because it's an average of multiple images\n",
      "Processing manual_wfs_0003.fits...\n",
      "Working in 20071110...\n",
      "Processing auto_wfs_0003.fits...\n",
      "Processing auto_wfs_0005.fits...\n",
      "Processing auto_wfs_0008.fits...\n",
      "Processing auto_wfs_0006.fits...\n",
      "Processing auto_wfs_0009.fits...\n",
      "Processing auto_wfs_0011.fits...\n",
      "Processing auto_wfs_0000.fits...\n",
      "Processing auto_wfs_0002.fits...\n"
     ]
    },
    {
     "name": "stderr",
     "output_type": "stream",
     "text": [
      "WARNING: The fit may be unsuccessful; check fit_info['message'] for more information. [astropy.modeling.fitting]\n",
      "WARNING: The fit may be unsuccessful; check fit_info['message'] for more information. [astropy.modeling.fitting]\n",
      "WARNING: The fit may be unsuccessful; check fit_info['message'] for more information. [astropy.modeling.fitting]\n",
      "WARNING: The fit may be unsuccessful; check fit_info['message'] for more information. [astropy.modeling.fitting]\n",
      "WARNING: The fit may be unsuccessful; check fit_info['message'] for more information. [astropy.modeling.fitting]\n",
      "WARNING: The fit may be unsuccessful; check fit_info['message'] for more information. [astropy.modeling.fitting]\n",
      "WARNING: The fit may be unsuccessful; check fit_info['message'] for more information. [astropy.modeling.fitting]\n",
      "WARNING: The fit may be unsuccessful; check fit_info['message'] for more information. [astropy.modeling.fitting]\n"
     ]
    },
    {
     "name": "stdout",
     "output_type": "stream",
     "text": [
      "Not processing auto_wfs_0002_ave.fits because it's an average of multiple images\n",
      "Processing auto_wfs_0012.fits...\n",
      "Not processing auto_wfs_0005_ave.fits because it's an average of multiple images\n",
      "Processing auto_wfs_0014.fits...\n",
      "Processing auto_wfs_0010.fits...\n",
      "Processing auto_wfs_0007.fits...\n",
      "Not processing auto_wfs_0008_ave.fits because it's an average of multiple images\n",
      "Processing auto_wfs_0015.fits...\n",
      "Processing auto_wfs_0004.fits...\n",
      "Not processing auto_wfs_0011_ave.fits because it's an average of multiple images\n",
      "Processing auto_wfs_0017.fits...\n",
      "Processing auto_wfs_0001.fits...\n",
      "Processing auto_wfs_0018.fits...\n",
      "Processing auto_wfs_0013.fits...\n",
      "Not processing auto_wfs_0014_ave.fits because it's an average of multiple images\n",
      "Processing auto_wfs_0020.fits...\n",
      "Processing auto_wfs_0021.fits...\n",
      "Processing auto_wfs_0023.fits...\n",
      "Processing auto_wfs_0016.fits...\n",
      "Processing auto_wfs_0024.fits...\n",
      "Not processing auto_wfs_0017_ave.fits because it's an average of multiple images\n",
      "Processing auto_wfs_0026.fits...\n",
      "Processing auto_wfs_0019.fits...\n",
      "Processing auto_wfs_0027.fits...\n",
      "Not processing auto_wfs_0020_ave.fits because it's an average of multiple images\n",
      "Processing auto_wfs_0029.fits...\n",
      "Not processing auto_wfs_0023_ave.fits because it's an average of multiple images\n",
      "Processing auto_wfs_0030.fits...\n",
      "Processing auto_wfs_0032.fits...\n",
      "Processing auto_wfs_0022.fits...\n",
      "Processing auto_wfs_0025.fits...\n",
      "Not processing auto_wfs_0026_ave.fits because it's an average of multiple images\n",
      "Processing auto_wfs_0033.fits...\n",
      "Processing auto_wfs_0035.fits...\n",
      "Processing manual_wfs_0000.fits...\n",
      "Not processing auto_wfs_0029_ave.fits because it's an average of multiple images\n",
      "Processing manual_wfs_0002.fits...\n",
      "Processing auto_wfs_0031.fits...\n",
      "Processing auto_wfs_0034.fits...\n",
      "Not processing auto_wfs_0032_ave.fits because it's an average of multiple images\n",
      "Processing auto_wfs_0028.fits...\n",
      "Not processing auto_wfs_0035_ave.fits because it's an average of multiple images\n",
      "Processing manual_wfs_0001.fits...\n",
      "Processing manual_wfs_0003.fits...\n",
      "Working in 20071111...\n",
      "Processing auto_wfs_0009.fits...\n",
      "Not processing auto_wfs_0011_ave.fits because it's an average of multiple images\n",
      "Processing auto_wfs_0000.fits...\n",
      "Processing auto_wfs_0005.fits...\n",
      "Not processing auto_wfs_0002_ave.fits because it's an average of multiple images\n",
      "Processing auto_wfs_0007.fits...\n",
      "Processing auto_wfs_0014.fits...\n",
      "Processing auto_wfs_0012.fits...\n",
      "Processing auto_wfs_0016.fits...\n",
      "Processing auto_wfs_0003.fits...\n"
     ]
    },
    {
     "name": "stderr",
     "output_type": "stream",
     "text": [
      "WARNING: The fit may be unsuccessful; check fit_info['message'] for more information. [astropy.modeling.fitting]\n",
      "WARNING: The fit may be unsuccessful; check fit_info['message'] for more information. [astropy.modeling.fitting]\n",
      "WARNING: The fit may be unsuccessful; check fit_info['message'] for more information. [astropy.modeling.fitting]\n",
      "WARNING: The fit may be unsuccessful; check fit_info['message'] for more information. [astropy.modeling.fitting]\n",
      "WARNING: The fit may be unsuccessful; check fit_info['message'] for more information. [astropy.modeling.fitting]\n",
      "WARNING: The fit may be unsuccessful; check fit_info['message'] for more information. [astropy.modeling.fitting]\n",
      "WARNING: The fit may be unsuccessful; check fit_info['message'] for more information. [astropy.modeling.fitting]\n",
      "WARNING: The fit may be unsuccessful; check fit_info['message'] for more information. [astropy.modeling.fitting]\n"
     ]
    },
    {
     "name": "stdout",
     "output_type": "stream",
     "text": [
      "Processing auto_wfs_0010.fits...\n",
      "Processing auto_wfs_0017.fits...\n",
      "Processing auto_wfs_0008.fits...\n",
      "Not processing auto_wfs_0014_ave.fits because it's an average of multiple images\n",
      "Processing auto_wfs_0015.fits...\n",
      "Not processing auto_wfs_0005_ave.fits because it's an average of multiple images\n",
      "Processing auto_wfs_0006.fits...\n",
      "Processing auto_wfs_0013.fits...\n",
      "Processing auto_wfs_0001.fits...\n",
      "Processing auto_wfs_0004.fits...\n",
      "Processing auto_wfs_0011.fits...\n",
      "Not processing auto_wfs_0017_ave.fits because it's an average of multiple images\n",
      "Processing auto_wfs_0018.fits...\n",
      "Not processing auto_wfs_0020_ave.fits because it's an average of multiple images\n",
      "Processing auto_wfs_0021.fits...\n",
      "Not processing auto_wfs_0008_ave.fits because it's an average of multiple images\n",
      "Processing auto_wfs_0023.fits...\n",
      "Processing auto_wfs_0025.fits...\n",
      "Processing auto_wfs_0027.fits...\n",
      "Not processing auto_wfs_0029_ave.fits because it's an average of multiple images\n",
      "Processing auto_wfs_0030.fits...\n",
      "Processing auto_wfs_0002.fits...\n",
      "Processing auto_wfs_0019.fits...\n",
      "Processing auto_wfs_0032.fits...\n",
      "Not processing auto_wfs_0023_ave.fits because it's an average of multiple images\n",
      "Processing auto_wfs_0024.fits...\n",
      "Processing auto_wfs_0026.fits...\n",
      "Processing auto_wfs_0022.fits...\n",
      "Processing auto_wfs_0028.fits...\n",
      "Processing auto_wfs_0031.fits...\n",
      "Processing auto_wfs_0034.fits...\n",
      "Processing auto_wfs_0020.fits...\n",
      "Not processing auto_wfs_0032_ave.fits because it's an average of multiple images\n",
      "Processing auto_wfs_0033.fits...\n",
      "Processing auto_wfs_0036.fits...\n",
      "Not processing auto_wfs_0026_ave.fits because it's an average of multiple images\n",
      "Processing auto_wfs_0039.fits...\n",
      "Processing auto_wfs_0042.fits...\n",
      "Processing auto_wfs_0029.fits...\n",
      "Processing auto_wfs_0044.fits...\n",
      "Processing auto_wfs_0035.fits...\n",
      "Processing auto_wfs_0046.fits...\n",
      "Processing auto_wfs_0049.fits...\n"
     ]
    },
    {
     "name": "stderr",
     "output_type": "stream",
     "text": [
      "WARNING: No sources were found. [photutils.detection.findstars]\n"
     ]
    },
    {
     "name": "stdout",
     "output_type": "stream",
     "text": [
      "Failed to find spots for /Volumes/LACIE SHARE/wfsdat/20071111/auto_wfs_0049: (WFSAnalysisFailed(...), 'No WFS spots detected.')\n",
      "Processing back.fits...\n",
      "Processing manual_wfs_0000.fits...\n",
      "Processing auto_wfs_0040.fits...\n",
      "Processing manual_wfs_0001.fits...\n",
      "Processing auto_wfs_0037.fits...\n",
      "Processing auto_wfs_0045.fits...\n",
      "Not processing auto_wfs_0042_ave.fits because it's an average of multiple images\n",
      "Processing auto_wfs_0043.fits...\n",
      "Not processing auto_wfs_0035_ave.fits because it's an average of multiple images\n",
      "Processing manual_wfs_0004.fits...\n",
      "Processing auto_wfs_0047.fits...\n",
      "Processing auto_wfs_0048.fits...\n",
      "Processing manual_wfs_0002.fits...\n",
      "Processing auto_wfs_0038.fits...\n",
      "Not processing auto_wfs_0045_ave.fits because it's an average of multiple images\n",
      "Processing auto_wfs_0041.fits...\n",
      "Processing manual_wfs_0005.fits...\n",
      "Processing manual_wfs_0003.fits...\n",
      "Working in 20071112...\n",
      "Processing auto_wfs_0000.fits...\n",
      "Processing auto_wfs_0002.fits...\n",
      "Processing auto_wfs_0005.fits...\n",
      "Processing auto_wfs_0003.fits...\n",
      "Processing auto_wfs_0006.fits...\n",
      "Processing auto_wfs_0009.fits...\n",
      "Processing auto_wfs_0008.fits...\n",
      "Processing auto_wfs_0011.fits...\n"
     ]
    },
    {
     "name": "stderr",
     "output_type": "stream",
     "text": [
      "WARNING: Sources were found, but none pass the sharpness and roundness criteria. [photutils.detection.findstars]\n",
      "WARNING: The fit may be unsuccessful; check fit_info['message'] for more information. [astropy.modeling.fitting]\n"
     ]
    },
    {
     "name": "stdout",
     "output_type": "stream",
     "text": [
      "Processing auto_wfs_0010.fits...\n"
     ]
    },
    {
     "name": "stderr",
     "output_type": "stream",
     "text": [
      "WARNING: The fit may be unsuccessful; check fit_info['message'] for more information. [astropy.modeling.fitting]\n",
      "/Users/tim/conda/envs/py36/lib/python3.6/site-packages/ipykernel_launcher.py:103: RuntimeWarning: invalid value encountered in sqrt\n"
     ]
    },
    {
     "name": "stdout",
     "output_type": "stream",
     "text": [
      "Processing auto_wfs_0012.fits...\n"
     ]
    },
    {
     "name": "stderr",
     "output_type": "stream",
     "text": [
      "WARNING: The fit may be unsuccessful; check fit_info['message'] for more information. [astropy.modeling.fitting]\n"
     ]
    },
    {
     "name": "stdout",
     "output_type": "stream",
     "text": [
      "Processing auto_wfs_0013.fits...\n"
     ]
    },
    {
     "name": "stderr",
     "output_type": "stream",
     "text": [
      "WARNING: The fit may be unsuccessful; check fit_info['message'] for more information. [astropy.modeling.fitting]\n",
      "WARNING: The fit may be unsuccessful; check fit_info['message'] for more information. [astropy.modeling.fitting]\n",
      "WARNING: The fit may be unsuccessful; check fit_info['message'] for more information. [astropy.modeling.fitting]\n",
      "WARNING: The fit may be unsuccessful; check fit_info['message'] for more information. [astropy.modeling.fitting]\n",
      "WARNING: The fit may be unsuccessful; check fit_info['message'] for more information. [astropy.modeling.fitting]\n"
     ]
    },
    {
     "name": "stdout",
     "output_type": "stream",
     "text": [
      "Not processing auto_wfs_0002_ave.fits because it's an average of multiple images\n",
      "Processing auto_wfs_0015.fits...\n",
      "Processing auto_wfs_0001.fits...\n",
      "Processing auto_wfs_0004.fits...\n",
      "Processing auto_wfs_0007.fits...\n",
      "Not processing auto_wfs_0005_ave.fits because it's an average of multiple images\n",
      "Processing auto_wfs_0016.fits...\n",
      "Not processing auto_wfs_0008_ave.fits because it's an average of multiple images\n",
      "Processing auto_wfs_0018.fits...\n",
      "Processing auto_wfs_0019.fits...\n",
      "Processing auto_wfs_0014.fits...\n",
      "Processing auto_wfs_0021.fits...\n",
      "Not processing auto_wfs_0015_ave.fits because it's an average of multiple images\n",
      "Processing back.fits...\n"
     ]
    },
    {
     "name": "stderr",
     "output_type": "stream",
     "text": [
      "WARNING: No sources were found. [photutils.detection.findstars]\n"
     ]
    },
    {
     "name": "stdout",
     "output_type": "stream",
     "text": [
      "Processing manual_wfs_0001.fits...\n",
      "Not processing auto_wfs_0018_ave.fits because it's an average of multiple images\n",
      "Processing manual_wfs_0003.fits...\n"
     ]
    },
    {
     "name": "stderr",
     "output_type": "stream",
     "text": [
      "WARNING: No sources were found. [photutils.detection.findstars]\n"
     ]
    },
    {
     "name": "stdout",
     "output_type": "stream",
     "text": [
      "Processing auto_wfs_0020.fits...\n",
      "Processing manual_wfs_0000.fits...\n",
      "Processing auto_wfs_0017.fits...\n",
      "Processing manual_wfs_0005.fits...\n",
      "Not processing manual_wfs_0006_ave.fits because it's an average of multiple images\n",
      "Processing manual_wfs_0007.fits...\n"
     ]
    },
    {
     "name": "stderr",
     "output_type": "stream",
     "text": [
      "WARNING: No sources were found. [photutils.detection.findstars]\n",
      "WARNING: No sources were found. [photutils.detection.findstars]\n"
     ]
    },
    {
     "name": "stdout",
     "output_type": "stream",
     "text": [
      "Failed to find spots for /Volumes/LACIE SHARE/wfsdat/20071112/manual_wfs_0007: (WFSAnalysisFailed(...), 'No WFS spots detected.')\n",
      "Processing manual_wfs_0008.fits...\n",
      "Processing manual_wfs_0004.fits...\n",
      "Not processing auto_wfs_0021_ave.fits because it's an average of multiple images\n",
      "Processing manual_wfs_0002.fits...\n",
      "Processing manual_wfs_0009.fits...\n",
      "Processing manual_wfs_0006.fits...\n",
      "Working in 20071113...\n",
      "Not processing auto_wfs_0002_ave.fits because it's an average of multiple images\n",
      "Processing auto_wfs_0000.fits...\n",
      "Processing auto_wfs_0009.fits...\n",
      "Processing auto_wfs_0007.fits...\n",
      "Processing auto_wfs_0005.fits...\n",
      "Not processing auto_wfs_0011_ave.fits because it's an average of multiple images\n",
      "Processing auto_wfs_0014.fits...\n",
      "Processing auto_wfs_0003.fits...\n",
      "Processing auto_wfs_0012.fits...\n",
      "Processing auto_wfs_0016.fits...\n"
     ]
    },
    {
     "name": "stderr",
     "output_type": "stream",
     "text": [
      "WARNING: The fit may be unsuccessful; check fit_info['message'] for more information. [astropy.modeling.fitting]\n",
      "WARNING: The fit may be unsuccessful; check fit_info['message'] for more information. [astropy.modeling.fitting]\n",
      "WARNING: The fit may be unsuccessful; check fit_info['message'] for more information. [astropy.modeling.fitting]\n",
      "WARNING: The fit may be unsuccessful; check fit_info['message'] for more information. [astropy.modeling.fitting]\n",
      "WARNING: The fit may be unsuccessful; check fit_info['message'] for more information. [astropy.modeling.fitting]\n",
      "WARNING: The fit may be unsuccessful; check fit_info['message'] for more information. [astropy.modeling.fitting]\n",
      "WARNING: The fit may be unsuccessful; check fit_info['message'] for more information. [astropy.modeling.fitting]\n",
      "WARNING: The fit may be unsuccessful; check fit_info['message'] for more information. [astropy.modeling.fitting]\n"
     ]
    },
    {
     "name": "stdout",
     "output_type": "stream",
     "text": [
      "Processing auto_wfs_0017.fits...\n",
      "Processing auto_wfs_0010.fits...\n",
      "Not processing auto_wfs_0014_ave.fits because it's an average of multiple images\n",
      "Processing auto_wfs_0015.fits...\n",
      "Processing auto_wfs_0004.fits...\n",
      "Processing auto_wfs_0013.fits...\n",
      "Processing auto_wfs_0001.fits...\n",
      "Not processing auto_wfs_0005_ave.fits because it's an average of multiple images\n",
      "Processing auto_wfs_0006.fits...\n",
      "Processing auto_wfs_0008.fits...\n",
      "Not processing auto_wfs_0017_ave.fits because it's an average of multiple images\n",
      "Processing auto_wfs_0018.fits...\n",
      "Processing auto_wfs_0011.fits...\n",
      "Not processing auto_wfs_0020_ave.fits because it's an average of multiple images\n",
      "Processing auto_wfs_0021.fits...\n",
      "Processing auto_wfs_0023.fits...\n",
      "Processing auto_wfs_0002.fits...\n",
      "Processing auto_wfs_0025.fits...\n",
      "Not processing auto_wfs_0008_ave.fits because it's an average of multiple images\n",
      "Processing auto_wfs_0027.fits...\n",
      "Not processing auto_wfs_0029_ave.fits because it's an average of multiple images\n",
      "Processing auto_wfs_0030.fits...\n",
      "Processing auto_wfs_0032.fits...\n",
      "Processing auto_wfs_0019.fits...\n",
      "Processing auto_wfs_0034.fits...\n",
      "Not processing auto_wfs_0023_ave.fits because it's an average of multiple images\n",
      "Processing auto_wfs_0024.fits...\n",
      "Processing auto_wfs_0028.fits...\n",
      "Processing auto_wfs_0026.fits...\n",
      "Processing auto_wfs_0031.fits...\n",
      "Processing auto_wfs_0022.fits...\n",
      "Not processing auto_wfs_0032_ave.fits because it's an average of multiple images\n",
      "Processing auto_wfs_0033.fits...\n",
      "Processing auto_wfs_0020.fits...\n",
      "Processing auto_wfs_0036.fits...\n",
      "Processing auto_wfs_0035.fits...\n",
      "Processing auto_wfs_0029.fits...\n",
      "Not processing auto_wfs_0038_ave.fits because it's an average of multiple images\n",
      "Processing auto_wfs_0039.fits...\n",
      "Processing auto_wfs_0041.fits...\n",
      "Not processing auto_wfs_0026_ave.fits because it's an average of multiple images\n",
      "Processing auto_wfs_0043.fits...\n",
      "Processing auto_wfs_0045.fits...\n",
      "Processing auto_wfs_0037.fits...\n",
      "Not processing auto_wfs_0035_ave.fits because it's an average of multiple images\n",
      "Processing auto_wfs_0048.fits...\n",
      "Processing auto_wfs_0050.fits...\n",
      "Processing auto_wfs_0052.fits...\n",
      "Processing auto_wfs_0040.fits...\n",
      "Not processing auto_wfs_0041_ave.fits because it's an average of multiple images\n",
      "Processing auto_wfs_0042.fits...\n",
      "Processing auto_wfs_0044.fits...\n",
      "Processing auto_wfs_0046.fits...\n",
      "Processing auto_wfs_0053.fits...\n",
      "Processing auto_wfs_0051.fits...\n",
      "Not processing auto_wfs_0048_ave.fits because it's an average of multiple images\n",
      "Processing auto_wfs_0038.fits...\n",
      "Processing auto_wfs_0049.fits...\n",
      "Processing auto_wfs_0055.fits...\n",
      "Processing manual_wfs_0001.fits...\n",
      "Not processing auto_wfs_0044_ave.fits because it's an average of multiple images\n",
      "Processing auto_wfs_0047.fits...\n",
      "Not processing auto_wfs_0051_ave.fits because it's an average of multiple images\n",
      "Processing auto_wfs_0054.fits...\n",
      "Processing manual_wfs_0002.fits...\n",
      "Not processing auto_wfs_0055_ave.fits because it's an average of multiple images\n",
      "Processing manual_wfs_0000.fits...\n",
      "Processing manual_wfs_0003.fits...\n",
      "Working in 20071114...\n",
      "Processing auto_wfs_0002.fits...\n",
      "Processing auto_wfs_0007.fits...\n",
      "Processing auto_wfs_0008.fits...\n",
      "Processing auto_wfs_0010.fits...\n",
      "Processing auto_wfs_0004.fits...\n",
      "Processing auto_wfs_0005.fits...\n",
      "Processing auto_wfs_0011.fits...\n",
      "Processing auto_wfs_0000.fits...\n"
     ]
    },
    {
     "name": "stderr",
     "output_type": "stream",
     "text": [
      "WARNING: The fit may be unsuccessful; check fit_info['message'] for more information. [astropy.modeling.fitting]\n",
      "WARNING: The fit may be unsuccessful; check fit_info['message'] for more information. [astropy.modeling.fitting]\n",
      "WARNING: The fit may be unsuccessful; check fit_info['message'] for more information. [astropy.modeling.fitting]\n",
      "WARNING: The fit may be unsuccessful; check fit_info['message'] for more information. [astropy.modeling.fitting]\n",
      "WARNING: The fit may be unsuccessful; check fit_info['message'] for more information. [astropy.modeling.fitting]\n",
      "WARNING: The fit may be unsuccessful; check fit_info['message'] for more information. [astropy.modeling.fitting]\n",
      "WARNING: The fit may be unsuccessful; check fit_info['message'] for more information. [astropy.modeling.fitting]\n",
      "WARNING: The fit may be unsuccessful; check fit_info['message'] for more information. [astropy.modeling.fitting]\n"
     ]
    },
    {
     "name": "stdout",
     "output_type": "stream",
     "text": [
      "Processing auto_wfs_0001.fits...\n",
      "Not processing auto_wfs_0010_ave.fits because it's an average of multiple images\n",
      "Processing auto_wfs_0013.fits...\n",
      "Not processing auto_wfs_0007_ave.fits because it's an average of multiple images\n",
      "Not processing auto_wfs_0014_ave.fits because it's an average of multiple images\n",
      "Processing auto_wfs_0015.fits...\n",
      "Processing auto_wfs_0003.fits...\n",
      "Not processing auto_wfs_0004_ave.fits because it's an average of multiple images\n",
      "Processing auto_wfs_0016.fits...\n",
      "Processing auto_wfs_0009.fits...\n",
      "Processing auto_wfs_0006.fits...\n",
      "Processing auto_wfs_0012.fits...\n",
      "Not processing auto_wfs_0017_ave.fits because it's an average of multiple images\n",
      "Processing auto_wfs_0018.fits...\n",
      "Processing auto_wfs_0019.fits...\n",
      "Processing auto_wfs_0014.fits...\n",
      "Processing auto_wfs_0017.fits...\n",
      "Not processing auto_wfs_0020_ave.fits because it's an average of multiple images\n",
      "Processing auto_wfs_0021.fits...\n",
      "Processing auto_wfs_0022.fits...\n",
      "Processing auto_wfs_0024.fits...\n",
      "Processing auto_wfs_0025.fits...\n",
      "Processing auto_wfs_0027.fits...\n",
      "Processing auto_wfs_0028.fits...\n",
      "Processing auto_wfs_0030.fits...\n",
      "Processing auto_wfs_0031.fits...\n",
      "Processing auto_wfs_0033.fits...\n",
      "Processing auto_wfs_0020.fits...\n",
      "Not processing auto_wfs_0024_ave.fits because it's an average of multiple images\n",
      "Processing auto_wfs_0026.fits...\n",
      "Processing auto_wfs_0023.fits...\n",
      "Not processing auto_wfs_0027_ave.fits because it's an average of multiple images\n",
      "Not processing auto_wfs_0034_ave.fits because it's an average of multiple images\n",
      "Processing auto_wfs_0035.fits...\n",
      "Processing auto_wfs_0036.fits...\n",
      "Processing auto_wfs_0034.fits...\n",
      "Not processing auto_wfs_0030_ave.fits because it's an average of multiple images\n",
      "Not processing auto_wfs_0037_ave.fits because it's an average of multiple images\n",
      "Processing auto_wfs_0038.fits...\n",
      "Processing auto_wfs_0039.fits...\n",
      "Not processing auto_wfs_0040_ave.fits because it's an average of multiple images\n",
      "Processing test_0000.fits...\n",
      "Processing auto_wfs_0029.fits...\n",
      "Processing auto_wfs_0032.fits...\n",
      "Processing test_0001.fits...\n",
      "Processing test_0003.fits...\n",
      "Processing auto_wfs_0037.fits...\n",
      "Processing auto_wfs_0040.fits...\n",
      "Processing test_0002.fits...\n",
      "Processing test_0004.fits...\n",
      "Working in 20071115...\n",
      "Processing auto_wfs_0002.fits...\n",
      "Processing auto_wfs_0007.fits...\n",
      "Processing auto_wfs_0010.fits...\n",
      "Processing auto_wfs_0000.fits...\n",
      "Processing auto_wfs_0005.fits...\n",
      "Processing auto_wfs_0008.fits...\n",
      "Processing auto_wfs_0011.fits...\n",
      "Processing auto_wfs_0004.fits...\n"
     ]
    },
    {
     "name": "stderr",
     "output_type": "stream",
     "text": [
      "WARNING: The fit may be unsuccessful; check fit_info['message'] for more information. [astropy.modeling.fitting]\n",
      "WARNING: The fit may be unsuccessful; check fit_info['message'] for more information. [astropy.modeling.fitting]\n",
      "WARNING: The fit may be unsuccessful; check fit_info['message'] for more information. [astropy.modeling.fitting]\n",
      "WARNING: The fit may be unsuccessful; check fit_info['message'] for more information. [astropy.modeling.fitting]\n",
      "WARNING: The fit may be unsuccessful; check fit_info['message'] for more information. [astropy.modeling.fitting]\n",
      "WARNING: The fit may be unsuccessful; check fit_info['message'] for more information. [astropy.modeling.fitting]\n",
      "WARNING: The fit may be unsuccessful; check fit_info['message'] for more information. [astropy.modeling.fitting]\n",
      "WARNING: The fit may be unsuccessful; check fit_info['message'] for more information. [astropy.modeling.fitting]\n"
     ]
    },
    {
     "name": "stdout",
     "output_type": "stream",
     "text": [
      "Processing auto_wfs_0001.fits...\n",
      "Not processing auto_wfs_0010_ave.fits because it's an average of multiple images\n",
      "Processing auto_wfs_0013.fits...\n",
      "Processing auto_wfs_0009.fits...\n",
      "Not processing auto_wfs_0007_ave.fits because it's an average of multiple images\n",
      "Not processing auto_wfs_0014_ave.fits because it's an average of multiple images\n",
      "Processing auto_wfs_0015.fits...\n",
      "Processing auto_wfs_0012.fits...\n",
      "Processing auto_wfs_0006.fits...\n",
      "Not processing auto_wfs_0004_ave.fits because it's an average of multiple images\n",
      "Processing auto_wfs_0016.fits...\n",
      "Processing auto_wfs_0003.fits...\n",
      "Not processing auto_wfs_0017_ave.fits because it's an average of multiple images\n",
      "Processing auto_wfs_0018.fits...\n",
      "Processing auto_wfs_0014.fits...\n",
      "Processing auto_wfs_0019.fits...\n",
      "Not processing auto_wfs_0020_ave.fits because it's an average of multiple images\n",
      "Processing auto_wfs_0021.fits...\n",
      "Processing auto_wfs_0022.fits...\n",
      "Processing auto_wfs_0017.fits...\n",
      "Processing auto_wfs_0025.fits...\n",
      "Processing auto_wfs_0024.fits...\n",
      "Processing auto_wfs_0027.fits...\n",
      "Processing auto_wfs_0028.fits...\n",
      "Processing auto_wfs_0020.fits...\n",
      "Processing auto_wfs_0030.fits...\n",
      "Processing auto_wfs_0026.fits...\n",
      "Processing test_0000.fits...\n",
      "Not processing auto_wfs_0024_ave.fits because it's an average of multiple images\n",
      "Processing test_0002.fits...\n",
      "Processing auto_wfs_0023.fits...\n",
      "Not processing auto_wfs_0027_ave.fits because it's an average of multiple images\n",
      "Processing test_0001.fits...\n",
      "Not processing auto_wfs_0030_ave.fits because it's an average of multiple images\n",
      "Processing auto_wfs_0029.fits...\n",
      "Working in 20071117...\n",
      "Processing auto_wfs_0007.fits...\n",
      "Processing auto_wfs_0005.fits...\n",
      "Processing auto_wfs_0003.fits...\n",
      "Not processing auto_wfs_0016_ave.fits because it's an average of multiple images\n",
      "Not processing auto_wfs_0009_ave.fits because it's an average of multiple images\n",
      "Processing auto_wfs_0012.fits...\n",
      "Processing auto_wfs_0014.fits...\n",
      "Processing auto_wfs_0000.fits...\n",
      "Processing auto_wfs_0010.fits...\n",
      "Processing auto_wfs_0017.fits...\n"
     ]
    },
    {
     "name": "stderr",
     "output_type": "stream",
     "text": [
      "WARNING: The fit may be unsuccessful; check fit_info['message'] for more information. [astropy.modeling.fitting]\n",
      "WARNING: The fit may be unsuccessful; check fit_info['message'] for more information. [astropy.modeling.fitting]\n",
      "WARNING: The fit may be unsuccessful; check fit_info['message'] for more information. [astropy.modeling.fitting]\n",
      "WARNING: The fit may be unsuccessful; check fit_info['message'] for more information. [astropy.modeling.fitting]\n",
      "WARNING: The fit may be unsuccessful; check fit_info['message'] for more information. [astropy.modeling.fitting]\n",
      "WARNING: The fit may be unsuccessful; check fit_info['message'] for more information. [astropy.modeling.fitting]\n",
      "WARNING: The fit may be unsuccessful; check fit_info['message'] for more information. [astropy.modeling.fitting]\n",
      "WARNING: The fit may be unsuccessful; check fit_info['message'] for more information. [astropy.modeling.fitting]\n"
     ]
    },
    {
     "name": "stdout",
     "output_type": "stream",
     "text": [
      "Processing auto_wfs_0001.fits...\n",
      "Processing auto_wfs_0008.fits...\n",
      "Processing auto_wfs_0006.fits...\n",
      "Processing auto_wfs_0015.fits...\n",
      "Processing auto_wfs_0013.fits...\n",
      "Processing auto_wfs_0018.fits...\n",
      "Not processing auto_wfs_0003_ave.fits because it's an average of multiple images\n",
      "Processing auto_wfs_0004.fits...\n",
      "Processing auto_wfs_0011.fits...\n",
      "Processing auto_wfs_0002.fits...\n",
      "Processing auto_wfs_0009.fits...\n",
      "Not processing auto_wfs_0006_ave.fits because it's an average of multiple images\n",
      "Processing auto_wfs_0019.fits...\n",
      "Processing auto_wfs_0021.fits...\n",
      "Not processing auto_wfs_0023_ave.fits because it's an average of multiple images\n",
      "Processing auto_wfs_0024.fits...\n",
      "Processing auto_wfs_0016.fits...\n",
      "Not processing auto_wfs_0013_ave.fits because it's an average of multiple images\n",
      "Processing auto_wfs_0026.fits...\n",
      "Processing auto_wfs_0028.fits...\n",
      "Processing auto_wfs_0030.fits...\n",
      "Not processing auto_wfs_0019_ave.fits because it's an average of multiple images\n",
      "Processing auto_wfs_0020.fits...\n",
      "Not processing auto_wfs_0032_ave.fits because it's an average of multiple images\n",
      "Processing auto_wfs_0033.fits...\n",
      "Processing auto_wfs_0022.fits...\n",
      "Processing auto_wfs_0035.fits...\n",
      "Processing auto_wfs_0025.fits...\n",
      "Processing auto_wfs_0029.fits...\n",
      "Not processing auto_wfs_0026_ave.fits because it's an average of multiple images\n",
      "Processing auto_wfs_0027.fits...\n",
      "Processing auto_wfs_0031.fits...\n",
      "Processing auto_wfs_0037.fits...\n",
      "Processing auto_wfs_0034.fits...\n",
      "Not processing auto_wfs_0035_ave.fits because it's an average of multiple images\n",
      "Processing auto_wfs_0036.fits...\n",
      "Processing auto_wfs_0023.fits...\n",
      "Processing auto_wfs_0039.fits...\n",
      "Processing auto_wfs_0042.fits...\n",
      "Not processing auto_wfs_0029_ave.fits because it's an average of multiple images\n",
      "Processing auto_wfs_0044.fits...\n",
      "Processing auto_wfs_0032.fits...\n",
      "Processing auto_wfs_0038.fits...\n",
      "Processing auto_wfs_0046.fits...\n",
      "Not processing auto_wfs_0048_ave.fits because it's an average of multiple images\n",
      "Processing test_0000.fits...\n",
      "Processing test_0002.fits...\n",
      "Processing auto_wfs_0040.fits...\n",
      "Not processing auto_wfs_0042_ave.fits because it's an average of multiple images\n",
      "Processing auto_wfs_0043.fits...\n",
      "Processing auto_wfs_0045.fits...\n",
      "Not processing auto_wfs_0038_ave.fits because it's an average of multiple images\n",
      "Processing test_0001.fits...\n",
      "Processing auto_wfs_0047.fits...\n",
      "Processing test_0003.fits...\n",
      "Processing auto_wfs_0041.fits...\n",
      "Not processing auto_wfs_0045_ave.fits because it's an average of multiple images\n",
      "Processing auto_wfs_0048.fits...\n",
      "Processing test_0004.fits...\n",
      "Working in 20071118...\n",
      "Not processing auto_wfs_0004_ave.fits because it's an average of multiple images\n",
      "Processing auto_wfs_0016.fits...\n",
      "Processing auto_wfs_0000.fits...\n",
      "Processing auto_wfs_0008.fits...\n",
      "Processing auto_wfs_0012.fits...\n",
      "Processing auto_wfs_0020.fits...\n",
      "Processing auto_wfs_0024.fits...\n",
      "Not processing auto_wfs_0027_ave.fits because it's an average of multiple images\n",
      "Processing auto_wfs_0005.fits...\n",
      "Processing auto_wfs_0028.fits...\n"
     ]
    },
    {
     "name": "stderr",
     "output_type": "stream",
     "text": [
      "WARNING: The fit may be unsuccessful; check fit_info['message'] for more information. [astropy.modeling.fitting]\n",
      "WARNING: The fit may be unsuccessful; check fit_info['message'] for more information. [astropy.modeling.fitting]\n",
      "WARNING: The fit may be unsuccessful; check fit_info['message'] for more information. [astropy.modeling.fitting]\n",
      "WARNING: The fit may be unsuccessful; check fit_info['message'] for more information. [astropy.modeling.fitting]\n",
      "WARNING: The fit may be unsuccessful; check fit_info['message'] for more information. [astropy.modeling.fitting]\n",
      "WARNING: The fit may be unsuccessful; check fit_info['message'] for more information. [astropy.modeling.fitting]\n",
      "WARNING: The fit may be unsuccessful; check fit_info['message'] for more information. [astropy.modeling.fitting]\n",
      "WARNING: The fit may be unsuccessful; check fit_info['message'] for more information. [astropy.modeling.fitting]\n"
     ]
    },
    {
     "name": "stdout",
     "output_type": "stream",
     "text": [
      "Processing auto_wfs_0001.fits...\n",
      "Processing auto_wfs_0017.fits...\n",
      "Not processing auto_wfs_0024_ave.fits because it's an average of multiple images\n",
      "Processing auto_wfs_0025.fits...\n",
      "Not processing auto_wfs_0020_ave.fits because it's an average of multiple images\n",
      "Processing auto_wfs_0021.fits...\n",
      "Processing auto_wfs_0013.fits...\n",
      "Processing auto_wfs_0029.fits...\n",
      "Processing auto_wfs_0009.fits...\n",
      "Processing auto_wfs_0006.fits...\n",
      "Processing auto_wfs_0014.fits...\n",
      "Processing auto_wfs_0002.fits...\n",
      "Processing auto_wfs_0026.fits...\n",
      "Not processing auto_wfs_0017_ave.fits because it's an average of multiple images\n",
      "Processing auto_wfs_0018.fits...\n",
      "Processing auto_wfs_0022.fits...\n",
      "Processing auto_wfs_0030.fits...\n",
      "Processing auto_wfs_0010.fits...\n",
      "Processing auto_wfs_0007.fits...\n",
      "Not processing auto_wfs_0014_ave.fits because it's an average of multiple images\n",
      "Processing auto_wfs_0015.fits...\n",
      "Processing auto_wfs_0019.fits...\n",
      "Processing auto_wfs_0003.fits...\n",
      "Processing auto_wfs_0023.fits...\n",
      "Processing auto_wfs_0027.fits...\n",
      "Processing auto_wfs_0031.fits...\n",
      "Not processing auto_wfs_0010_ave.fits because it's an average of multiple images\n",
      "Processing auto_wfs_0011.fits...\n",
      "Not processing auto_wfs_0007_ave.fits because it's an average of multiple images\n",
      "Not processing auto_wfs_0031_ave.fits because it's an average of multiple images\n",
      "Processing auto_wfs_0032.fits...\n",
      "Processing auto_wfs_0035.fits...\n",
      "Processing auto_wfs_0039.fits...\n",
      "Processing auto_wfs_0004.fits...\n",
      "Processing auto_wfs_0043.fits...\n",
      "Processing auto_wfs_0047.fits...\n",
      "Processing auto_wfs_0051.fits...\n",
      "Processing auto_wfs_0055.fits...\n",
      "Processing auto_wfs_0033.fits...\n",
      "Processing auto_wfs_0036.fits...\n",
      "Processing auto_wfs_0040.fits...\n",
      "Not processing auto_wfs_0058_ave.fits because it's an average of multiple images\n",
      "Processing auto_wfs_0059.fits...\n",
      "Not processing auto_wfs_0051_ave.fits because it's an average of multiple images\n",
      "Processing auto_wfs_0052.fits...\n",
      "Processing auto_wfs_0048.fits...\n",
      "Processing auto_wfs_0044.fits...\n",
      "Not processing auto_wfs_0055_ave.fits because it's an average of multiple images\n",
      "Processing auto_wfs_0056.fits...\n",
      "Processing auto_wfs_0034.fits...\n",
      "Processing auto_wfs_0037.fits...\n",
      "Processing auto_wfs_0041.fits...\n",
      "Processing auto_wfs_0060.fits...\n",
      "Processing auto_wfs_0045.fits...\n",
      "Not processing auto_wfs_0048_ave.fits because it's an average of multiple images\n",
      "Processing auto_wfs_0049.fits...\n",
      "Processing auto_wfs_0053.fits...\n",
      "Not processing auto_wfs_0034_ave.fits because it's an average of multiple images\n",
      "Processing auto_wfs_0062.fits...\n",
      "Processing auto_wfs_0057.fits...\n",
      "Not processing auto_wfs_0037_ave.fits because it's an average of multiple images\n",
      "Processing auto_wfs_0038.fits...\n",
      "Not processing auto_wfs_0041_ave.fits because it's an average of multiple images\n",
      "Processing auto_wfs_0042.fits...\n",
      "Not processing auto_wfs_0045_ave.fits because it's an average of multiple images\n",
      "Processing auto_wfs_0046.fits...\n",
      "Processing auto_wfs_0050.fits...\n",
      "Processing auto_wfs_0061.fits...\n",
      "Processing auto_wfs_0063.fits...\n",
      "Processing auto_wfs_0054.fits...\n",
      "Processing auto_wfs_0058.fits...\n",
      "Processing auto_wfs_0066.fits...\n",
      "Processing auto_wfs_0070.fits...\n",
      "Processing auto_wfs_0074.fits...\n",
      "Processing auto_wfs_0064.fits...\n",
      "Not processing auto_wfs_0077_ave.fits because it's an average of multiple images\n",
      "Processing auto_wfs_0078.fits...\n",
      "Not processing auto_wfs_0061_ave.fits because it's an average of multiple images\n",
      "Processing auto_wfs_0081.fits...\n",
      "Processing auto_wfs_0085.fits...\n",
      "Processing auto_wfs_0089.fits...\n",
      "Not processing auto_wfs_0070_ave.fits because it's an average of multiple images\n",
      "Processing auto_wfs_0071.fits...\n",
      "Processing auto_wfs_0067.fits...\n",
      "Not processing auto_wfs_0064_ave.fits because it's an average of multiple images\n",
      "Processing auto_wfs_0065.fits...\n",
      "Not processing auto_wfs_0074_ave.fits because it's an average of multiple images\n",
      "Processing auto_wfs_0075.fits...\n",
      "Processing auto_wfs_0079.fits...\n",
      "Processing auto_wfs_0082.fits...\n",
      "Processing auto_wfs_0086.fits...\n",
      "Processing auto_wfs_0090.fits...\n",
      "Processing auto_wfs_0072.fits...\n",
      "Not processing auto_wfs_0067_ave.fits because it's an average of multiple images\n",
      "Processing auto_wfs_0068.fits...\n",
      "Processing manual_wfs_0001.fits...\n",
      "Processing auto_wfs_0076.fits...\n",
      "Processing auto_wfs_0080.fits...\n",
      "Processing auto_wfs_0083.fits...\n",
      "Processing auto_wfs_0087.fits...\n",
      "Not processing auto_wfs_0090_ave.fits because it's an average of multiple images\n",
      "Processing manual_wfs_0000.fits...\n",
      "Processing auto_wfs_0069.fits...\n",
      "Processing auto_wfs_0073.fits...\n",
      "Processing manual_wfs_0002.fits...\n",
      "Processing auto_wfs_0077.fits...\n",
      "Processing auto_wfs_0084.fits...\n",
      "Not processing auto_wfs_0080_ave.fits because it's an average of multiple images\n",
      "Not processing manual_wfs_0003_ave_ave_ave.fits because it's an average of multiple images\n",
      "Processing manual_wfs_0004.fits...\n",
      "Not processing manual_wfs_0000_ave.fits because it's an average of multiple images\n",
      "Processing test_0002.fits...\n",
      "Not processing auto_wfs_0087_ave.fits because it's an average of multiple images\n",
      "Processing auto_wfs_0088.fits...\n",
      "Processing test_0007.fits...\n",
      "Processing manual_wfs_0003.fits...\n",
      "Processing manual_wfs_0005.fits...\n",
      "Not processing auto_wfs_0084_ave.fits because it's an average of multiple images\n",
      "Processing test_0008.fits...\n",
      "Processing test_0003.fits...\n",
      "Not processing manual_wfs_0003_ave.fits because it's an average of multiple images\n",
      "Not processing manual_wfs_0003_ave_ave.fits because it's an average of multiple images\n",
      "Processing test_0000.fits...\n",
      "Processing test_0009.fits...\n",
      "Processing test_0004.fits...\n",
      "Processing test_0001.fits...\n",
      "Processing test_0010.fits...\n",
      "Processing test_0005.fits...\n",
      "Processing test_0006.fits...\n",
      "Working in 20071119...\n",
      "Processing auto_wfs_0003.fits...\n",
      "Processing auto_wfs_0005.fits...\n",
      "Not processing auto_wfs_0007_ave.fits because it's an average of multiple images\n",
      "Processing auto_wfs_0012.fits...\n",
      "Processing auto_wfs_0010.fits...\n",
      "Not processing auto_wfs_0014_ave.fits because it's an average of multiple images\n",
      "Processing auto_wfs_0008.fits...\n",
      "Processing auto_wfs_0017.fits...\n",
      "Processing auto_wfs_0015.fits...\n",
      "Processing auto_wfs_0000.fits...\n"
     ]
    },
    {
     "name": "stderr",
     "output_type": "stream",
     "text": [
      "WARNING: The fit may be unsuccessful; check fit_info['message'] for more information. [astropy.modeling.fitting]\n",
      "WARNING: The fit may be unsuccessful; check fit_info['message'] for more information. [astropy.modeling.fitting]\n",
      "WARNING: The fit may be unsuccessful; check fit_info['message'] for more information. [astropy.modeling.fitting]\n",
      "WARNING: The fit may be unsuccessful; check fit_info['message'] for more information. [astropy.modeling.fitting]\n",
      "WARNING: The fit may be unsuccessful; check fit_info['message'] for more information. [astropy.modeling.fitting]\n",
      "WARNING: The fit may be unsuccessful; check fit_info['message'] for more information. [astropy.modeling.fitting]\n",
      "WARNING: The fit may be unsuccessful; check fit_info['message'] for more information. [astropy.modeling.fitting]\n",
      "WARNING: The fit may be unsuccessful; check fit_info['message'] for more information. [astropy.modeling.fitting]\n"
     ]
    },
    {
     "name": "stdout",
     "output_type": "stream",
     "text": [
      "Not processing auto_wfs_0017_ave.fits because it's an average of multiple images\n",
      "Processing auto_wfs_0018.fits...\n",
      "Processing auto_wfs_0013.fits...\n",
      "Processing auto_wfs_0001.fits...\n",
      "Processing auto_wfs_0016.fits...\n",
      "Processing auto_wfs_0009.fits...\n",
      "Processing auto_wfs_0004.fits...\n",
      "Not processing auto_wfs_0010_ave.fits because it's an average of multiple images\n",
      "Processing auto_wfs_0011.fits...\n",
      "Processing auto_wfs_0006.fits...\n",
      "Processing auto_wfs_0019.fits...\n",
      "Processing auto_wfs_0021.fits...\n",
      "Processing auto_wfs_0014.fits...\n",
      "Processing auto_wfs_0024.fits...\n",
      "Processing auto_wfs_0002.fits...\n",
      "Processing auto_wfs_0026.fits...\n",
      "Processing auto_wfs_0007.fits...\n",
      "Not processing auto_wfs_0004_ave.fits because it's an average of multiple images\n",
      "Not processing auto_wfs_0028_ave.fits because it's an average of multiple images\n",
      "Processing auto_wfs_0029.fits...\n",
      "Processing auto_wfs_0020.fits...\n",
      "Processing auto_wfs_0022.fits...\n",
      "Processing auto_wfs_0031.fits...\n",
      "Processing auto_wfs_0030.fits...\n",
      "Processing auto_wfs_0027.fits...\n",
      "Processing auto_wfs_0025.fits...\n",
      "Processing auto_wfs_0033.fits...\n",
      "Processing auto_wfs_0035.fits...\n",
      "Not processing auto_wfs_0020_ave.fits because it's an average of multiple images\n",
      "Not processing auto_wfs_0037_ave.fits because it's an average of multiple images\n",
      "Processing auto_wfs_0038.fits...\n",
      "Processing auto_wfs_0023.fits...\n",
      "Not processing auto_wfs_0031_ave.fits because it's an average of multiple images\n",
      "Processing auto_wfs_0032.fits...\n",
      "Not processing auto_wfs_0025_ave.fits because it's an average of multiple images\n",
      "Processing auto_wfs_0040.fits...\n",
      "Processing auto_wfs_0042.fits...\n",
      "Processing auto_wfs_0028.fits...\n",
      "Processing auto_wfs_0034.fits...\n",
      "Processing auto_wfs_0036.fits...\n",
      "Processing auto_wfs_0039.fits...\n",
      "Not processing auto_wfs_0044_ave.fits because it's an average of multiple images\n",
      "Processing auto_wfs_0045.fits...\n",
      "Processing auto_wfs_0047.fits...\n",
      "Not processing auto_wfs_0040_ave.fits because it's an average of multiple images\n",
      "Processing auto_wfs_0041.fits...\n",
      "Processing auto_wfs_0049.fits...\n",
      "Not processing auto_wfs_0034_ave.fits because it's an average of multiple images\n",
      "Processing auto_wfs_0051.fits...\n",
      "Processing auto_wfs_0043.fits...\n",
      "Processing auto_wfs_0037.fits...\n",
      "Not processing auto_wfs_0053_ave.fits because it's an average of multiple images\n",
      "Processing auto_wfs_0054.fits...\n",
      "Processing auto_wfs_0046.fits...\n",
      "Not processing auto_wfs_0047_ave.fits because it's an average of multiple images\n",
      "Processing auto_wfs_0048.fits...\n",
      "Processing auto_wfs_0056.fits...\n",
      "Processing auto_wfs_0050.fits...\n",
      "Processing auto_wfs_0058.fits...\n",
      "Processing auto_wfs_0052.fits...\n",
      "Processing auto_wfs_0044.fits...\n",
      "Processing auto_wfs_0055.fits...\n",
      "Processing test_0000.fits...\n",
      "Processing test_0003.fits...\n",
      "Not processing auto_wfs_0056_ave.fits because it's an average of multiple images\n",
      "Processing auto_wfs_0057.fits...\n",
      "Not processing auto_wfs_0050_ave.fits because it's an average of multiple images\n",
      "Processing test_0006.fits...\n",
      "Processing auto_wfs_0053.fits...\n",
      "Processing auto_wfs_0059.fits...\n",
      "Processing test_0004.fits...\n",
      "Processing test_0001.fits...\n",
      "Not processing auto_wfs_0059_ave.fits because it's an average of multiple images\n",
      "Processing test_0005.fits...\n",
      "Processing test_0002.fits...\n",
      "Working in 20071120...\n",
      "Processing auto_wfs_0000.fits...\n",
      "Processing auto_wfs_0005.fits...\n",
      "Processing auto_wfs_0008.fits...\n",
      "Processing auto_wfs_0003.fits...\n",
      "Processing auto_wfs_0010.fits...\n",
      "Processing auto_wfs_0012.fits...\n",
      "Processing auto_wfs_0015.fits...\n",
      "Processing auto_wfs_0017.fits...\n"
     ]
    },
    {
     "name": "stderr",
     "output_type": "stream",
     "text": [
      "WARNING: The fit may be unsuccessful; check fit_info['message'] for more information. [astropy.modeling.fitting]\n",
      "WARNING: The fit may be unsuccessful; check fit_info['message'] for more information. [astropy.modeling.fitting]\n",
      "WARNING: The fit may be unsuccessful; check fit_info['message'] for more information. [astropy.modeling.fitting]\n",
      "WARNING: The fit may be unsuccessful; check fit_info['message'] for more information. [astropy.modeling.fitting]\n",
      "WARNING: The fit may be unsuccessful; check fit_info['message'] for more information. [astropy.modeling.fitting]\n",
      "WARNING: The fit may be unsuccessful; check fit_info['message'] for more information. [astropy.modeling.fitting]\n",
      "WARNING: The fit may be unsuccessful; check fit_info['message'] for more information. [astropy.modeling.fitting]\n",
      "WARNING: The fit may be unsuccessful; check fit_info['message'] for more information. [astropy.modeling.fitting]\n"
     ]
    },
    {
     "name": "stdout",
     "output_type": "stream",
     "text": [
      "Processing auto_wfs_0006.fits...\n",
      "Not processing auto_wfs_0003_ave.fits because it's an average of multiple images\n",
      "Processing auto_wfs_0004.fits...\n",
      "Processing auto_wfs_0001.fits...\n",
      "Not processing auto_wfs_0008_ave.fits because it's an average of multiple images\n",
      "Processing auto_wfs_0009.fits...\n",
      "Processing auto_wfs_0011.fits...\n",
      "Processing auto_wfs_0018.fits...\n",
      "Not processing auto_wfs_0015_ave.fits because it's an average of multiple images\n",
      "Processing auto_wfs_0016.fits...\n",
      "Processing auto_wfs_0013.fits...\n",
      "Processing auto_wfs_0019.fits...\n",
      "Processing auto_wfs_0007.fits...\n",
      "Not processing auto_wfs_0021_ave.fits because it's an average of multiple images\n",
      "Processing auto_wfs_0022.fits...\n",
      "Processing auto_wfs_0002.fits...\n",
      "Not processing auto_wfs_0011_ave.fits because it's an average of multiple images\n",
      "Processing auto_wfs_0024.fits...\n",
      "Not processing auto_wfs_0018_ave.fits because it's an average of multiple images\n",
      "Processing auto_wfs_0026.fits...\n",
      "Not processing auto_wfs_0028_ave.fits because it's an average of multiple images\n",
      "Processing auto_wfs_0029.fits...\n",
      "Processing auto_wfs_0014.fits...\n",
      "Processing auto_wfs_0020.fits...\n",
      "Processing auto_wfs_0031.fits...\n",
      "Processing auto_wfs_0033.fits...\n",
      "Processing auto_wfs_0023.fits...\n",
      "Processing auto_wfs_0025.fits...\n",
      "Processing auto_wfs_0027.fits...\n",
      "Processing auto_wfs_0030.fits...\n",
      "Not processing auto_wfs_0035_ave.fits because it's an average of multiple images\n",
      "Processing auto_wfs_0036.fits...\n",
      "Processing auto_wfs_0021.fits...\n",
      "Not processing auto_wfs_0031_ave.fits because it's an average of multiple images\n",
      "Processing auto_wfs_0032.fits...\n",
      "Processing auto_wfs_0034.fits...\n",
      "Processing auto_wfs_0038.fits...\n",
      "Not processing auto_wfs_0025_ave.fits because it's an average of multiple images\n",
      "Processing auto_wfs_0040.fits...\n",
      "Processing auto_wfs_0028.fits...\n",
      "Processing auto_wfs_0042.fits...\n",
      "Processing auto_wfs_0037.fits...\n",
      "Processing auto_wfs_0045.fits...\n",
      "Processing auto_wfs_0047.fits...\n",
      "Processing auto_wfs_0035.fits...\n",
      "Not processing auto_wfs_0038_ave.fits because it's an average of multiple images\n",
      "Processing auto_wfs_0039.fits...\n",
      "Processing auto_wfs_0041.fits...\n",
      "Processing auto_wfs_0049.fits...\n",
      "Not processing auto_wfs_0051_ave.fits because it's an average of multiple images\n",
      "Processing auto_wfs_0052.fits...\n",
      "Processing auto_wfs_0043.fits...\n",
      "Not processing auto_wfs_0045_ave.fits because it's an average of multiple images\n",
      "Processing auto_wfs_0046.fits...\n",
      "Processing auto_wfs_0048.fits...\n",
      "Processing auto_wfs_0054.fits...\n",
      "Processing auto_wfs_0056.fits...\n",
      "Not processing auto_wfs_0041_ave.fits because it's an average of multiple images\n",
      "Not processing auto_wfs_0058_ave.fits because it's an average of multiple images\n",
      "Processing auto_wfs_0059.fits...\n",
      "Processing auto_wfs_0050.fits...\n",
      "Processing auto_wfs_0053.fits...\n",
      "Processing auto_wfs_0044.fits...\n",
      "Processing auto_wfs_0061.fits...\n",
      "Not processing auto_wfs_0048_ave.fits because it's an average of multiple images\n",
      "Processing test_0001.fits...\n",
      "Processing auto_wfs_0055.fits...\n",
      "Processing auto_wfs_0057.fits...\n",
      "Processing auto_wfs_0060.fits...\n",
      "Processing auto_wfs_0051.fits...\n",
      "Processing test_0004.fits...\n",
      "Processing test_0007.fits...\n",
      "Not processing auto_wfs_0061_ave.fits because it's an average of multiple images\n",
      "Processing test_0000.fits...\n",
      "Processing test_0002.fits...\n",
      "Not processing auto_wfs_0055_ave.fits because it's an average of multiple images\n",
      "Processing auto_wfs_0058.fits...\n"
     ]
    },
    {
     "name": "stderr",
     "output_type": "stream",
     "text": [
      "/Users/tim/conda/envs/py36/lib/python3.6/site-packages/ipykernel_launcher.py:103: RuntimeWarning: invalid value encountered in sqrt\n"
     ]
    },
    {
     "name": "stdout",
     "output_type": "stream",
     "text": [
      "Processing test_0003.fits...\n",
      "Processing test_0005.fits...\n",
      "Processing test_0006.fits...\n",
      "Working in 20071121...\n",
      "Processing Ref_0001.fits...\n",
      "Processing Ref_0004.fits...\n",
      "Processing Ref_0003.fits...\n",
      "Processing Ref_0000.fits...\n",
      "Processing Ref_0002.fits...\n",
      "Processing Ref_0005.fits...\n",
      "Not processing Ref_0005_ave.fits because it's an average of multiple images\n",
      "Processing Ref_0006.fits...\n",
      "Processing Ref_0007.fits...\n"
     ]
    },
    {
     "name": "stderr",
     "output_type": "stream",
     "text": [
      "WARNING: The fit may be unsuccessful; check fit_info['message'] for more information. [astropy.modeling.fitting]\n",
      "WARNING: The fit may be unsuccessful; check fit_info['message'] for more information. [astropy.modeling.fitting]\n",
      "WARNING: The fit may be unsuccessful; check fit_info['message'] for more information. [astropy.modeling.fitting]\n",
      "WARNING: The fit may be unsuccessful; check fit_info['message'] for more information. [astropy.modeling.fitting]\n",
      "WARNING: The fit may be unsuccessful; check fit_info['message'] for more information. [astropy.modeling.fitting]\n",
      "WARNING: The fit may be unsuccessful; check fit_info['message'] for more information. [astropy.modeling.fitting]\n",
      "WARNING: The fit may be unsuccessful; check fit_info['message'] for more information. [astropy.modeling.fitting]\n",
      "WARNING: The fit may be unsuccessful; check fit_info['message'] for more information. [astropy.modeling.fitting]\n"
     ]
    },
    {
     "name": "stdout",
     "output_type": "stream",
     "text": [
      "Processing auto_wfs_0000.fits...\n",
      "Processing auto_wfs_0001.fits...\n",
      "Processing auto_wfs_0002.fits...\n",
      "Not processing auto_wfs_0002_ave.fits because it's an average of multiple images\n",
      "Processing auto_wfs_0003.fits...\n",
      "Processing auto_wfs_0004.fits...\n",
      "Processing auto_wfs_0005.fits...\n",
      "Not processing auto_wfs_0005_ave.fits because it's an average of multiple images\n",
      "Processing auto_wfs_0006.fits...\n",
      "Processing auto_wfs_0007.fits...\n",
      "Processing auto_wfs_0008.fits...\n",
      "Not processing auto_wfs_0008_ave.fits because it's an average of multiple images\n",
      "Processing back.fits...\n",
      "Processing manual_wfs_0000.fits...\n"
     ]
    },
    {
     "name": "stderr",
     "output_type": "stream",
     "text": [
      "WARNING: No sources were found. [photutils.detection.findstars]\n"
     ]
    },
    {
     "name": "stdout",
     "output_type": "stream",
     "text": [
      "Processing manual_wfs_0001.fits...\n",
      "Processing manual_wfs_0002.fits...\n",
      "Processing manual_wfs_0003.fits...\n",
      "Processing manual_wfs_0004.fits...\n",
      "Processing manual_wfs_0005.fits...\n",
      "Processing manual_wfs_0006.fits...\n",
      "Processing manual_wfs_0007.fits...\n"
     ]
    },
    {
     "name": "stderr",
     "output_type": "stream",
     "text": [
      "/Users/tim/conda/envs/py36/lib/python3.6/site-packages/ipykernel_launcher.py:103: RuntimeWarning: invalid value encountered in sqrt\n"
     ]
    },
    {
     "name": "stdout",
     "output_type": "stream",
     "text": [
      "Working in 20071123...\n",
      "Processing auto_wfs_0001.fits...\n",
      "Processing auto_wfs_0000.fits...\n",
      "Processing Ref_0000.fits...\n",
      "Processing auto_wfs_0002.fits...\n",
      "Not processing auto_wfs_0002_ave.fits because it's an average of multiple images\n",
      "Processing auto_wfs_0004.fits...\n",
      "Processing auto_wfs_0003.fits...\n",
      "Not processing auto_wfs_0005_ave.fits because it's an average of multiple images\n",
      "Processing auto_wfs_0005.fits...\n",
      "Processing auto_wfs_0006.fits...\n"
     ]
    },
    {
     "name": "stderr",
     "output_type": "stream",
     "text": [
      "WARNING: The fit may be unsuccessful; check fit_info['message'] for more information. [astropy.modeling.fitting]\n",
      "WARNING: The fit may be unsuccessful; check fit_info['message'] for more information. [astropy.modeling.fitting]\n",
      "WARNING: The fit may be unsuccessful; check fit_info['message'] for more information. [astropy.modeling.fitting]\n",
      "WARNING: The fit may be unsuccessful; check fit_info['message'] for more information. [astropy.modeling.fitting]\n",
      "WARNING: The fit may be unsuccessful; check fit_info['message'] for more information. [astropy.modeling.fitting]\n",
      "WARNING: The fit may be unsuccessful; check fit_info['message'] for more information. [astropy.modeling.fitting]\n"
     ]
    },
    {
     "name": "stdout",
     "output_type": "stream",
     "text": [
      "Processing auto_wfs_0007.fits...\n"
     ]
    },
    {
     "name": "stderr",
     "output_type": "stream",
     "text": [
      "WARNING: The fit may be unsuccessful; check fit_info['message'] for more information. [astropy.modeling.fitting]\n",
      "WARNING: The fit may be unsuccessful; check fit_info['message'] for more information. [astropy.modeling.fitting]\n"
     ]
    },
    {
     "name": "stdout",
     "output_type": "stream",
     "text": [
      "Processing auto_wfs_0008.fits...\n",
      "Not processing auto_wfs_0008_ave.fits because it's an average of multiple images\n",
      "Processing auto_wfs_0009.fits...\n",
      "Processing auto_wfs_0010.fits...\n",
      "Processing auto_wfs_0011.fits...\n",
      "Not processing auto_wfs_0011_ave.fits because it's an average of multiple images\n",
      "Processing auto_wfs_0012.fits...\n",
      "Processing auto_wfs_0013.fits...\n",
      "Processing auto_wfs_0014.fits...\n",
      "Not processing auto_wfs_0014_ave.fits because it's an average of multiple images\n",
      "Processing auto_wfs_0015.fits...\n",
      "Processing auto_wfs_0016.fits...\n",
      "Processing auto_wfs_0017.fits...\n",
      "Not processing auto_wfs_0017_ave.fits because it's an average of multiple images\n",
      "Processing manual_wfs_0000.fits...\n",
      "Processing manual_wfs_0001.fits...\n",
      "Processing manual_wfs_0002.fits...\n",
      "Not processing manual_wfs_0002_ave.fits because it's an average of multiple images\n",
      "Processing manual_wfs_0003.fits...\n",
      "Processing manual_wfs_0004.fits...\n",
      "Working in 20071125...\n",
      "Processing auto_wfs_0002.fits...\n",
      "Processing auto_wfs_0007.fits...\n",
      "Processing auto_wfs_0000.fits...\n",
      "Not processing auto_wfs_0003_ave.fits because it's an average of multiple images\n",
      "Processing auto_wfs_0009.fits...\n",
      "Processing auto_wfs_0010.fits...\n",
      "Processing auto_wfs_0005.fits...\n",
      "Processing auto_wfs_0004.fits...\n",
      "Processing auto_wfs_0012.fits...\n"
     ]
    },
    {
     "name": "stderr",
     "output_type": "stream",
     "text": [
      "WARNING: The fit may be unsuccessful; check fit_info['message'] for more information. [astropy.modeling.fitting]\n",
      "WARNING: The fit may be unsuccessful; check fit_info['message'] for more information. [astropy.modeling.fitting]\n",
      "WARNING: The fit may be unsuccessful; check fit_info['message'] for more information. [astropy.modeling.fitting]\n",
      "WARNING: The fit may be unsuccessful; check fit_info['message'] for more information. [astropy.modeling.fitting]\n",
      "WARNING: The fit may be unsuccessful; check fit_info['message'] for more information. [astropy.modeling.fitting]\n",
      "WARNING: The fit may be unsuccessful; check fit_info['message'] for more information. [astropy.modeling.fitting]\n",
      "WARNING: The fit may be unsuccessful; check fit_info['message'] for more information. [astropy.modeling.fitting]\n",
      "WARNING: The fit may be unsuccessful; check fit_info['message'] for more information. [astropy.modeling.fitting]\n"
     ]
    },
    {
     "name": "stdout",
     "output_type": "stream",
     "text": [
      "Processing back.fits...\n",
      "Processing manual_wfs_0000.fits...\n"
     ]
    },
    {
     "name": "stderr",
     "output_type": "stream",
     "text": [
      "WARNING: No sources were found. [photutils.detection.findstars]\n"
     ]
    },
    {
     "name": "stdout",
     "output_type": "stream",
     "text": [
      "Processing auto_wfs_0008.fits...\n",
      "Not processing auto_wfs_0009_ave.fits because it's an average of multiple images\n",
      "Processing manual_wfs_0001.fits...\n",
      "Processing auto_wfs_0006.fits...\n"
     ]
    },
    {
     "name": "stderr",
     "output_type": "stream",
     "text": [
      "WARNING: No sources were found. [photutils.detection.findstars]\n"
     ]
    },
    {
     "name": "stdout",
     "output_type": "stream",
     "text": [
      "Processing auto_wfs_0011.fits...\n",
      "Processing auto_wfs_0003.fits...\n",
      "Processing auto_wfs_0001.fits...\n",
      "Not processing auto_wfs_0012_ave.fits because it's an average of multiple images\n",
      "Not processing manual_wfs_0002_ave.fits because it's an average of multiple images\n",
      "Processing manual_wfs_0003.fits...\n"
     ]
    },
    {
     "name": "stderr",
     "output_type": "stream",
     "text": [
      "WARNING: No sources were found. [photutils.detection.findstars]\n"
     ]
    },
    {
     "name": "stdout",
     "output_type": "stream",
     "text": [
      "Processing manual_wfs_0004.fits...\n",
      "Processing manual_wfs_0006.fits...\n",
      "Not processing manual_wfs_0007_ave.fits because it's an average of multiple images\n",
      "Processing manual_wfs_0008.fits...\n"
     ]
    },
    {
     "name": "stderr",
     "output_type": "stream",
     "text": [
      "WARNING: No sources were found. [photutils.detection.findstars]\n"
     ]
    },
    {
     "name": "stdout",
     "output_type": "stream",
     "text": [
      "Processing manual_wfs_0009.fits...\n",
      "Processing manual_wfs_0002.fits...\n"
     ]
    },
    {
     "name": "stderr",
     "output_type": "stream",
     "text": [
      "WARNING: No sources were found. [photutils.detection.findstars]\n"
     ]
    },
    {
     "name": "stdout",
     "output_type": "stream",
     "text": [
      "Processing manual_wfs_0011.fits...\n",
      "Processing manual_wfs_0012.fits...\n",
      "Processing manual_wfs_0014.fits...\n",
      "Processing manual_wfs_0007.fits...\n"
     ]
    },
    {
     "name": "stderr",
     "output_type": "stream",
     "text": [
      "WARNING: No sources were found. [photutils.detection.findstars]\n",
      "WARNING: No sources were found. [photutils.detection.findstars]\n",
      "WARNING: No sources were found. [photutils.detection.findstars]\n"
     ]
    },
    {
     "name": "stdout",
     "output_type": "stream",
     "text": [
      "Failed to find spots for /Volumes/LACIE SHARE/wfsdat/20071125/manual_wfs_0014: (WFSAnalysisFailed(...), 'No WFS spots detected.')\n",
      "Processing manual_wfs_0015.fits...\n",
      "Failed to find spots for /Volumes/LACIE SHARE/wfsdat/20071125/manual_wfs_0015: (WFSAnalysisFailed(...), 'No WFS spots detected.')\n",
      "Processing manual_wfs_0016.fits...\n",
      "Processing manual_wfs_0005.fits...\n",
      "Processing manual_wfs_0010.fits...\n",
      "Not processing manual_wfs_0011_ave.fits because it's an average of multiple images\n",
      "Processing manual_wfs_0013.fits...\n",
      "Processing manual_wfs_0017.fits...\n",
      "Working in 20071126...\n",
      "Not processing auto_wfs_0002_ave.fits because it's an average of multiple images\n",
      "Processing auto_wfs_0000.fits...\n",
      "Processing auto_wfs_0002.fits...\n",
      "Processing auto_wfs_0004.fits...\n",
      "Processing auto_wfs_0001.fits...\n",
      "Processing auto_wfs_0003.fits...\n",
      "Processing auto_wfs_0005.fits...\n",
      "Processing auto_wfs_0006.fits...\n",
      "Not processing auto_wfs_0005_ave.fits because it's an average of multiple images\n",
      "Processing auto_wfs_0007.fits...\n"
     ]
    },
    {
     "name": "stderr",
     "output_type": "stream",
     "text": [
      "WARNING: The fit may be unsuccessful; check fit_info['message'] for more information. [astropy.modeling.fitting]\n",
      "WARNING: The fit may be unsuccessful; check fit_info['message'] for more information. [astropy.modeling.fitting]\n",
      "WARNING: The fit may be unsuccessful; check fit_info['message'] for more information. [astropy.modeling.fitting]\n",
      "WARNING: The fit may be unsuccessful; check fit_info['message'] for more information. [astropy.modeling.fitting]\n",
      "WARNING: The fit may be unsuccessful; check fit_info['message'] for more information. [astropy.modeling.fitting]\n",
      "WARNING: The fit may be unsuccessful; check fit_info['message'] for more information. [astropy.modeling.fitting]\n",
      "WARNING: The fit may be unsuccessful; check fit_info['message'] for more information. [astropy.modeling.fitting]\n",
      "WARNING: The fit may be unsuccessful; check fit_info['message'] for more information. [astropy.modeling.fitting]\n"
     ]
    },
    {
     "name": "stdout",
     "output_type": "stream",
     "text": [
      "Processing auto_wfs_0008.fits...\n",
      "Not processing auto_wfs_0008_ave.fits because it's an average of multiple images\n",
      "Processing manual_wfs_0000.fits...\n",
      "Processing manual_wfs_0001.fits...\n",
      "Not processing manual_wfs_0001_ave.fits because it's an average of multiple images\n",
      "Processing manual_wfs_0002.fits...\n",
      "Processing manual_wfs_0003.fits...\n",
      "Working in 20071127...\n",
      "Processing Ref_0000.fits...\n",
      "Processing auto_wfs_0003.fits...\n",
      "Processing auto_wfs_0006.fits...\n",
      "Processing auto_wfs_0009.fits...\n",
      "Processing auto_wfs_0012.fits...\n",
      "Processing auto_wfs_0015.fits...\n",
      "Processing auto_wfs_0018.fits...\n",
      "Processing auto_wfs_0021.fits...\n"
     ]
    },
    {
     "name": "stderr",
     "output_type": "stream",
     "text": [
      "WARNING: The fit may be unsuccessful; check fit_info['message'] for more information. [astropy.modeling.fitting]\n",
      "WARNING: The fit may be unsuccessful; check fit_info['message'] for more information. [astropy.modeling.fitting]\n",
      "WARNING: The fit may be unsuccessful; check fit_info['message'] for more information. [astropy.modeling.fitting]\n",
      "WARNING: The fit may be unsuccessful; check fit_info['message'] for more information. [astropy.modeling.fitting]\n",
      "WARNING: The fit may be unsuccessful; check fit_info['message'] for more information. [astropy.modeling.fitting]\n",
      "WARNING: The fit may be unsuccessful; check fit_info['message'] for more information. [astropy.modeling.fitting]\n"
     ]
    },
    {
     "name": "stdout",
     "output_type": "stream",
     "text": [
      "Processing auto_wfs_0000.fits...\n"
     ]
    },
    {
     "name": "stderr",
     "output_type": "stream",
     "text": [
      "WARNING: The fit may be unsuccessful; check fit_info['message'] for more information. [astropy.modeling.fitting]\n",
      "WARNING: The fit may be unsuccessful; check fit_info['message'] for more information. [astropy.modeling.fitting]\n"
     ]
    },
    {
     "name": "stdout",
     "output_type": "stream",
     "text": [
      "Processing auto_wfs_0001.fits...\n",
      "Processing auto_wfs_0004.fits...\n",
      "Processing auto_wfs_0019.fits...\n",
      "Processing auto_wfs_0022.fits...\n",
      "Processing auto_wfs_0013.fits...\n",
      "Processing auto_wfs_0016.fits...\n",
      "Processing auto_wfs_0007.fits...\n",
      "Processing auto_wfs_0010.fits...\n",
      "Processing auto_wfs_0002.fits...\n",
      "Not processing auto_wfs_0004_ave.fits because it's an average of multiple images\n",
      "Processing auto_wfs_0005.fits...\n",
      "Not processing auto_wfs_0019_ave.fits because it's an average of multiple images\n",
      "Processing auto_wfs_0020.fits...\n",
      "Not processing auto_wfs_0022_ave.fits because it's an average of multiple images\n",
      "Processing auto_wfs_0023.fits...\n",
      "Not processing auto_wfs_0007_ave.fits because it's an average of multiple images\n",
      "Processing auto_wfs_0008.fits...\n",
      "Not processing auto_wfs_0013_ave.fits because it's an average of multiple images\n",
      "Processing auto_wfs_0014.fits...\n",
      "Not processing auto_wfs_0016_ave.fits because it's an average of multiple images\n",
      "Processing auto_wfs_0017.fits...\n",
      "Not processing auto_wfs_0010_ave.fits because it's an average of multiple images\n",
      "Processing auto_wfs_0011.fits...\n",
      "Processing auto_wfs_0024.fits...\n",
      "Processing manual_wfs_0000.fits...\n",
      "Processing manual_wfs_0003.fits...\n",
      "Processing manual_wfs_0006.fits...\n",
      "Processing manual_wfs_0009.fits...\n",
      "Processing manual_wfs_0012.fits...\n",
      "Processing manual_wfs_0016.fits...\n",
      "Not processing off_axis_wfs_0000b_0000_ave.fits because it's an average of multiple images\n",
      "Not processing off_axis_wfs_0000b_0000_ave_ave.fits because it's an average of multiple images\n",
      "Processing off_axis_wfs_0000b_0001.fits...\n",
      "Processing manual_wfs_0001.fits...\n",
      "Processing manual_wfs_0004.fits...\n",
      "Processing auto_wfs_0025.fits...\n",
      "Processing manual_wfs_0013.fits...\n",
      "Processing manual_wfs_0017.fits...\n",
      "Processing manual_wfs_0007.fits...\n",
      "Processing off_axis_wfs_0000b_0002.fits...\n",
      "Processing manual_wfs_0010.fits...\n",
      "Processing manual_wfs_0005.fits...\n",
      "Not processing manual_wfs_0001_ave.fits because it's an average of multiple images\n",
      "Processing manual_wfs_0002.fits...\n",
      "Not processing auto_wfs_0025_ave.fits because it's an average of multiple images\n",
      "Processing back.fits...\n"
     ]
    },
    {
     "name": "stderr",
     "output_type": "stream",
     "text": [
      "WARNING: No sources were found. [photutils.detection.findstars]\n"
     ]
    },
    {
     "name": "stdout",
     "output_type": "stream",
     "text": [
      "Processing off_axis_wfs_0_0000.fits...\n",
      "Processing manual_wfs_0014.fits...\n",
      "Processing manual_wfs_0008.fits...\n",
      "Processing manual_wfs_0018.fits...\n",
      "Processing off_axis_wfs_m0300_0001.fits...\n",
      "Processing manual_wfs_0011.fits...\n",
      "Processing manual_wfs_0015.fits...\n",
      "Processing off_axis_wfs_m0600_0002.fits...\n",
      "Not processing manual_wfs_0005_ave.fits because it's an average of multiple images\n",
      "Processing off_axis_wfs_m1200_0000.fits...\n",
      "Processing off_axis_wfs_0_0001.fits...\n",
      "Processing off_axis_wfs_0000b_0000.fits...\n",
      "Not processing manual_wfs_0008_ave.fits because it's an average of multiple images\n",
      "Processing off_axis_wfs_m1500_0001.fits...\n",
      "Processing off_axis_wfs_m0300_0002.fits...\n",
      "Not processing manual_wfs_0011_ave.fits because it's an average of multiple images\n",
      "Processing off_axis_wfs_m1800_0002.fits...\n",
      "Processing off_axis_wfs_m1200_0001.fits...\n",
      "Processing off_axis_wfs_p0300_0000.fits...\n",
      "Processing off_axis_wfs_m0900_0000.fits...\n",
      "Processing off_axis_wfs_p0000_0000.fits...\n",
      "Processing off_axis_wfs_0_0002.fits...\n",
      "Processing off_axis_wfs_m1500_0002.fits...\n",
      "Processing off_axis_wfs_m0600_0000.fits...\n",
      "Processing off_axis_wfs_p0600_0001.fits...\n",
      "Processing off_axis_wfs_m1200_0002.fits...\n",
      "Processing off_axis_wfs_m0900_0001.fits...\n",
      "Processing off_axis_wfs_p0300_0001.fits...\n",
      "Processing off_axis_wfs_p0000_0001.fits...\n",
      "Processing off_axis_wfs_m1800_0000.fits...\n",
      "Processing off_axis_wfs_m0300_0000.fits...\n",
      "Processing off_axis_wfs_m0600_0001.fits...\n",
      "Processing off_axis_wfs_p0600_0002.fits...\n",
      "Processing off_axis_wfs_m1500_0000.fits...\n",
      "Processing off_axis_wfs_m0900_0002.fits...\n",
      "Processing off_axis_wfs_p0300_0002.fits...\n",
      "Processing off_axis_wfs_m1800_0001.fits...\n",
      "Processing off_axis_wfs_p0000_0002.fits...\n",
      "Processing off_axis_wfs_p0900_0002.fits...\n",
      "Processing off_axis_wfs_p1500_0000.fits...\n",
      "Processing off_axis_wfs_p0900_0000.fits...\n",
      "Processing off_axis_wfs_p1800_0001.fits...\n",
      "Processing off_axis_wfs_p0600_0000.fits...\n",
      "Processing off_axis_wfs_p1200_0000.fits...\n",
      "Processing off_axis_wfs_p1500_0001.fits...\n",
      "Processing off_axis_wfs_p0900_0001.fits...\n",
      "Processing off_axis_wfs_p1800_0002.fits...\n",
      "Processing off_axis_wfs_p1200_0001.fits...\n",
      "Processing off_axis_wfs_p1500_0002.fits...\n",
      "Processing off_axis_wfs_p1200_0002.fits...\n",
      "Processing off_axis_wfs_p1800_0000.fits...\n",
      "Working in 20071128...\n",
      "Processing auto_wfs_0002.fits...\n",
      "Processing auto_wfs_0000.fits...\n",
      "Processing auto_wfs_0003.fits...\n",
      "Processing auto_wfs_0008.fits...\n",
      "Processing auto_wfs_0006.fits...\n",
      "Processing auto_wfs_0005.fits...\n",
      "Processing auto_wfs_0009.fits...\n",
      "Processing auto_wfs_0011.fits...\n"
     ]
    },
    {
     "name": "stderr",
     "output_type": "stream",
     "text": [
      "WARNING: The fit may be unsuccessful; check fit_info['message'] for more information. [astropy.modeling.fitting]\n",
      "WARNING: The fit may be unsuccessful; check fit_info['message'] for more information. [astropy.modeling.fitting]\n",
      "WARNING: The fit may be unsuccessful; check fit_info['message'] for more information. [astropy.modeling.fitting]\n",
      "WARNING: The fit may be unsuccessful; check fit_info['message'] for more information. [astropy.modeling.fitting]\n",
      "WARNING: The fit may be unsuccessful; check fit_info['message'] for more information. [astropy.modeling.fitting]\n",
      "WARNING: The fit may be unsuccessful; check fit_info['message'] for more information. [astropy.modeling.fitting]\n",
      "WARNING: The fit may be unsuccessful; check fit_info['message'] for more information. [astropy.modeling.fitting]\n",
      "WARNING: The fit may be unsuccessful; check fit_info['message'] for more information. [astropy.modeling.fitting]\n"
     ]
    },
    {
     "name": "stdout",
     "output_type": "stream",
     "text": [
      "Processing auto_wfs_0004.fits...\n",
      "Processing auto_wfs_0010.fits...\n",
      "Not processing auto_wfs_0002_ave.fits because it's an average of multiple images\n",
      "Processing auto_wfs_0013.fits...\n",
      "Processing auto_wfs_0012.fits...\n",
      "Not processing auto_wfs_0005_ave.fits because it's an average of multiple images\n",
      "Processing auto_wfs_0014.fits...\n",
      "Not processing auto_wfs_0008_ave.fits because it's an average of multiple images\n",
      "Processing auto_wfs_0016.fits...\n",
      "Processing auto_wfs_0007.fits...\n",
      "Processing auto_wfs_0001.fits...\n",
      "Processing auto_wfs_0017.fits...\n",
      "Processing auto_wfs_0019.fits...\n",
      "Not processing auto_wfs_0016_ave.fits because it's an average of multiple images\n",
      "Processing auto_wfs_0020.fits...\n",
      "Not processing auto_wfs_0013_ave.fits because it's an average of multiple images\n",
      "Processing auto_wfs_0022.fits...\n",
      "Processing auto_wfs_0015.fits...\n",
      "Processing auto_wfs_0024.fits...\n",
      "Processing auto_wfs_0025.fits...\n",
      "Processing auto_wfs_0027.fits...\n",
      "Processing auto_wfs_0021.fits...\n",
      "Processing auto_wfs_0018.fits...\n",
      "Not processing auto_wfs_0019_ave.fits because it's an average of multiple images\n",
      "Processing auto_wfs_0028.fits...\n",
      "Processing auto_wfs_0030.fits...\n",
      "Processing auto_wfs_0023.fits...\n",
      "Not processing auto_wfs_0024_ave.fits because it's an average of multiple images\n",
      "Processing manual_wfs_0000.fits...\n",
      "Processing auto_wfs_0026.fits...\n",
      "Not processing auto_wfs_0027_ave.fits because it's an average of multiple images\n",
      "Processing manual_wfs_0002.fits...\n",
      "Processing manual_wfs_0004.fits...\n",
      "Processing auto_wfs_0029.fits...\n",
      "Not processing auto_wfs_0030_ave.fits because it's an average of multiple images\n",
      "Processing manual_wfs_0001.fits...\n",
      "Processing manual_wfs_0003.fits...\n",
      "Processing manual_wfs_0005.fits...\n",
      "Working in 20071129...\n",
      "Processing auto_wfs_0005.fits...\n",
      "Processing auto_wfs_0000.fits...\n",
      "Processing auto_wfs_0008.fits...\n",
      "Processing auto_wfs_0002.fits...\n",
      "Processing auto_wfs_0006.fits...\n",
      "Processing auto_wfs_0009.fits...\n",
      "Processing auto_wfs_0003.fits...\n",
      "Processing auto_wfs_0011.fits...\n"
     ]
    },
    {
     "name": "stderr",
     "output_type": "stream",
     "text": [
      "WARNING: The fit may be unsuccessful; check fit_info['message'] for more information. [astropy.modeling.fitting]\n",
      "WARNING: The fit may be unsuccessful; check fit_info['message'] for more information. [astropy.modeling.fitting]\n",
      "WARNING: The fit may be unsuccessful; check fit_info['message'] for more information. [astropy.modeling.fitting]\n",
      "WARNING: The fit may be unsuccessful; check fit_info['message'] for more information. [astropy.modeling.fitting]\n",
      "WARNING: The fit may be unsuccessful; check fit_info['message'] for more information. [astropy.modeling.fitting]\n",
      "WARNING: The fit may be unsuccessful; check fit_info['message'] for more information. [astropy.modeling.fitting]\n",
      "WARNING: The fit may be unsuccessful; check fit_info['message'] for more information. [astropy.modeling.fitting]\n",
      "WARNING: The fit may be unsuccessful; check fit_info['message'] for more information. [astropy.modeling.fitting]\n"
     ]
    },
    {
     "name": "stdout",
     "output_type": "stream",
     "text": [
      "Processing auto_wfs_0001.fits...\n",
      "Not processing auto_wfs_0002_ave.fits because it's an average of multiple images\n",
      "Not processing auto_wfs_0012_ave.fits because it's an average of multiple images\n",
      "Processing auto_wfs_0013.fits...\n",
      "Processing auto_wfs_0012.fits...\n",
      "Not processing auto_wfs_0008_ave.fits because it's an average of multiple images\n",
      "Processing auto_wfs_0014.fits...\n",
      "Processing auto_wfs_0010.fits...\n",
      "Processing auto_wfs_0007.fits...\n",
      "Processing auto_wfs_0004.fits...\n",
      "Not processing auto_wfs_0005_ave.fits because it's an average of multiple images\n",
      "Not processing auto_wfs_0015_ave.fits because it's an average of multiple images\n",
      "Processing auto_wfs_0016.fits...\n",
      "Processing auto_wfs_0017.fits...\n",
      "Not processing auto_wfs_0018_ave.fits because it's an average of multiple images\n",
      "Processing manual_wfs_0000.fits...\n",
      "Processing manual_wfs_0001.fits...\n",
      "Processing manual_wfs_0003.fits...\n",
      "Processing auto_wfs_0015.fits...\n",
      "Processing manual_wfs_0005.fits...\n",
      "Processing manual_wfs_0007.fits...\n",
      "Processing manual_wfs_0009.fits...\n",
      "Processing manual_wfs_0004.fits...\n",
      "Processing manual_wfs_0002.fits...\n",
      "Processing manual_wfs_0011.fits...\n",
      "Processing manual_wfs_0008.fits...\n",
      "Processing auto_wfs_0018.fits...\n",
      "Processing manual_wfs_0006.fits...\n",
      "Processing manual_wfs_0013.fits...\n",
      "Processing manual_wfs_0010.fits...\n",
      "Processing manual_wfs_0015.fits...\n",
      "Processing manual_wfs_0017.fits...\n",
      "Processing manual_wfs_0019.fits...\n",
      "Processing manual_wfs_0012.fits...\n",
      "Processing manual_wfs_0021.fits...\n",
      "Processing manual_wfs_0014.fits...\n",
      "Processing manual_wfs_0018.fits...\n",
      "Processing manual_wfs_0016.fits...\n",
      "Processing manual_wfs_0020.fits...\n",
      "Processing manual_wfs_0022.fits...\n",
      "Working in 20071203...\n",
      "Processing auto_wfs_0000.fits...\n",
      "Processing auto_wfs_0003.fits...\n",
      "Processing auto_wfs_0007.fits...\n",
      "Not processing auto_wfs_0009_ave.fits because it's an average of multiple images\n",
      "Processing auto_wfs_0005.fits...\n",
      "Processing auto_wfs_0012.fits...\n",
      "Not processing auto_wfs_0014_ave.fits because it's an average of multiple images\n",
      "Processing manual_wfs_0000.fits...\n",
      "Processing auto_wfs_0010.fits...\n",
      "Processing auto_wfs_0015.fits...\n"
     ]
    },
    {
     "name": "stderr",
     "output_type": "stream",
     "text": [
      "WARNING: Sources were found, but none pass the sharpness and roundness criteria. [photutils.detection.findstars]\n",
      "WARNING: The fit may be unsuccessful; check fit_info['message'] for more information. [astropy.modeling.fitting]\n",
      "WARNING: The fit may be unsuccessful; check fit_info['message'] for more information. [astropy.modeling.fitting]\n",
      "/Users/tim/conda/envs/py36/lib/python3.6/site-packages/photutils/detection/findstars.py:749: RuntimeWarning: divide by zero encountered in double_scalars\n",
      "  dx = (sgdgdx - (sddgdx - sdgdx*sumd)) / (hx * sdgdx2 / kernel_sigma**2)\n",
      "WARNING: The fit may be unsuccessful; check fit_info['message'] for more information. [astropy.modeling.fitting]\n",
      "WARNING: The fit may be unsuccessful; check fit_info['message'] for more information. [astropy.modeling.fitting]\n"
     ]
    },
    {
     "name": "stdout",
     "output_type": "stream",
     "text": [
      "Failed to find spots for /Volumes/LACIE SHARE/wfsdat/20071203/manual_wfs_0000: (WFSAnalysisFailed(...), 'No WFS spots detected.')\n",
      "Processing manual_wfs_0001.fits...\n"
     ]
    },
    {
     "name": "stderr",
     "output_type": "stream",
     "text": [
      "WARNING: The fit may be unsuccessful; check fit_info['message'] for more information. [astropy.modeling.fitting]\n",
      "WARNING: The fit may be unsuccessful; check fit_info['message'] for more information. [astropy.modeling.fitting]\n",
      "WARNING: The fit may be unsuccessful; check fit_info['message'] for more information. [astropy.modeling.fitting]\n",
      "WARNING: The fit may be unsuccessful; check fit_info['message'] for more information. [astropy.modeling.fitting]\n"
     ]
    },
    {
     "name": "stdout",
     "output_type": "stream",
     "text": [
      "Processing manual_wfs_0002.fits...\n",
      "Processing manual_wfs_0003.fits...\n",
      "Processing auto_wfs_0011.fits...\n",
      "Processing auto_wfs_0001.fits...\n",
      "Not processing auto_wfs_0003_ave.fits because it's an average of multiple images\n",
      "Processing auto_wfs_0004.fits...\n",
      "Processing auto_wfs_0013.fits...\n",
      "Processing auto_wfs_0006.fits...\n",
      "Processing auto_wfs_0008.fits...\n",
      "Processing manual_wfs_0004.fits...\n",
      "Processing back.fits...\n"
     ]
    },
    {
     "name": "stderr",
     "output_type": "stream",
     "text": [
      "WARNING: No sources were found. [photutils.detection.findstars]\n"
     ]
    },
    {
     "name": "stdout",
     "output_type": "stream",
     "text": [
      "Processing manual_wfs_0006.fits...\n",
      "Processing manual_wfs_0009.fits...\n",
      "Processing auto_wfs_0002.fits...\n",
      "Processing manual_wfs_0012.fits...\n",
      "Processing auto_wfs_0009.fits...\n",
      "Not processing auto_wfs_0006_ave.fits because it's an average of multiple images\n",
      "Processing manual_wfs_0015.fits...\n",
      "Processing auto_wfs_0014.fits...\n",
      "Processing manual_wfs_0007.fits...\n",
      "Processing manual_wfs_0005.fits...\n",
      "Processing manual_wfs_0013.fits...\n",
      "Processing manual_wfs_0018.fits...\n",
      "Processing manual_wfs_0010.fits...\n",
      "Processing manual_wfs_0021.fits...\n",
      "Processing manual_wfs_0016.fits...\n",
      "Processing manual_wfs_0008.fits...\n",
      "Processing manual_wfs_0024.fits...\n",
      "Processing manual_wfs_0027.fits...\n",
      "Processing manual_wfs_0011.fits...\n",
      "Processing manual_wfs_0014.fits...\n",
      "Processing manual_wfs_0019.fits...\n",
      "Processing manual_wfs_0017.fits...\n",
      "Processing manual_wfs_0022.fits...\n",
      "Processing manual_wfs_0030.fits...\n",
      "Processing manual_wfs_0028.fits...\n",
      "Processing manual_wfs_0025.fits...\n",
      "Processing manual_wfs_0033.fits...\n",
      "Processing manual_wfs_0036.fits...\n",
      "Processing manual_wfs_0020.fits...\n",
      "Processing manual_wfs_0023.fits...\n",
      "Processing manual_wfs_0039.fits...\n",
      "Processing manual_wfs_0026.fits...\n",
      "Processing manual_wfs_0029.fits...\n",
      "Processing manual_wfs_0031.fits...\n",
      "Processing manual_wfs_0034.fits...\n",
      "Processing manual_wfs_0037.fits...\n",
      "Processing manual_wfs_0042.fits...\n",
      "Processing manual_wfs_0045.fits...\n",
      "Processing manual_wfs_0040.fits...\n",
      "Processing manual_wfs_0048.fits...\n",
      "Processing manual_wfs_0051.fits...\n",
      "Processing manual_wfs_0032.fits...\n",
      "Processing manual_wfs_0035.fits...\n",
      "Processing manual_wfs_0038.fits...\n",
      "Processing manual_wfs_0043.fits...\n",
      "Processing manual_wfs_0046.fits...\n",
      "Processing manual_wfs_0041.fits...\n",
      "Processing manual_wfs_0049.fits...\n",
      "Processing manual_wfs_0044.fits...\n",
      "Processing manual_wfs_0047.fits...\n",
      "Processing manual_wfs_0050.fits...\n",
      "Working in 20071204...\n",
      "Processing manual_wfs_0011.fits...\n",
      "Processing back.fits...\n",
      "Processing manual_wfs_0002.fits...\n",
      "Processing manual_wfs_0005.fits...\n",
      "Processing manual_wfs_0008.fits...\n",
      "Processing manual_wfs_0014.fits...\n",
      "Processing manual_wfs_0017.fits...\n",
      "Processing manual_wfs_0020.fits...\n"
     ]
    },
    {
     "name": "stderr",
     "output_type": "stream",
     "text": [
      "WARNING: The fit may be unsuccessful; check fit_info['message'] for more information. [astropy.modeling.fitting]\n",
      "WARNING: The fit may be unsuccessful; check fit_info['message'] for more information. [astropy.modeling.fitting]\n",
      "WARNING: The fit may be unsuccessful; check fit_info['message'] for more information. [astropy.modeling.fitting]\n",
      "WARNING: The fit may be unsuccessful; check fit_info['message'] for more information. [astropy.modeling.fitting]\n",
      "WARNING: The fit may be unsuccessful; check fit_info['message'] for more information. [astropy.modeling.fitting]\n"
     ]
    },
    {
     "name": "stdout",
     "output_type": "stream",
     "text": [
      "Processing manual_wfs_0000.fits...\n"
     ]
    },
    {
     "name": "stderr",
     "output_type": "stream",
     "text": [
      "WARNING: The fit may be unsuccessful; check fit_info['message'] for more information. [astropy.modeling.fitting]\n",
      "WARNING: The fit may be unsuccessful; check fit_info['message'] for more information. [astropy.modeling.fitting]\n"
     ]
    },
    {
     "name": "stdout",
     "output_type": "stream",
     "text": [
      "Processing manual_wfs_0003.fits...\n"
     ]
    },
    {
     "name": "stderr",
     "output_type": "stream",
     "text": [
      "WARNING: The fit may be unsuccessful; check fit_info['message'] for more information. [astropy.modeling.fitting]\n",
      "WARNING: No sources were found. [photutils.detection.findstars]\n"
     ]
    },
    {
     "name": "stdout",
     "output_type": "stream",
     "text": [
      "Processing manual_wfs_0021.fits...\n",
      "Processing manual_wfs_0022.fits...\n",
      "Processing manual_wfs_0001.fits...\n"
     ]
    },
    {
     "name": "stderr",
     "output_type": "stream",
     "text": [
      "/Users/tim/conda/envs/py36/lib/python3.6/site-packages/ipykernel_launcher.py:103: RuntimeWarning: invalid value encountered in sqrt\n"
     ]
    },
    {
     "name": "stdout",
     "output_type": "stream",
     "text": [
      "Processing manual_wfs_0023.fits...\n",
      "Processing manual_wfs_0024.fits...\n",
      "Processing manual_wfs_0015.fits...\n",
      "Processing manual_wfs_0025.fits...\n",
      "Processing manual_wfs_0018.fits...\n"
     ]
    },
    {
     "name": "stderr",
     "output_type": "stream",
     "text": [
      "WARNING: No sources were found. [photutils.detection.findstars]\n"
     ]
    },
    {
     "name": "stdout",
     "output_type": "stream",
     "text": [
      "Processing manual_wfs_0026.fits...\n"
     ]
    },
    {
     "name": "stderr",
     "output_type": "stream",
     "text": [
      "WARNING: No sources were found. [photutils.detection.findstars]\n"
     ]
    },
    {
     "name": "stdout",
     "output_type": "stream",
     "text": [
      "Processing manual_wfs_0006.fits...\n",
      "Processing manual_wfs_0009.fits...\n",
      "Processing manual_wfs_0016.fits...\n",
      "Processing manual_wfs_0012.fits...\n",
      "Processing manual_wfs_0019.fits...\n",
      "Processing manual_wfs_0004.fits...\n",
      "Processing manual_wfs_0029.fits...\n",
      "Processing manual_wfs_0013.fits...\n",
      "Processing manual_wfs_0030.fits...\n",
      "Processing manual_wfs_0010.fits...\n",
      "Processing manual_wfs_0007.fits...\n",
      "Processing manual_wfs_0032.fits...\n",
      "Processing manual_wfs_0035.fits...\n",
      "Processing manual_wfs_0038.fits...\n",
      "Processing manual_wfs_0027.fits...\n",
      "Processing manual_wfs_0033.fits...\n",
      "Processing manual_wfs_0041.fits...\n",
      "Processing manual_wfs_0044.fits...\n",
      "Processing manual_wfs_0028.fits...\n"
     ]
    },
    {
     "name": "stderr",
     "output_type": "stream",
     "text": [
      "WARNING: No sources were found. [photutils.detection.findstars]\n"
     ]
    },
    {
     "name": "stdout",
     "output_type": "stream",
     "text": [
      "Processing manual_wfs_0039.fits...\n",
      "Processing manual_wfs_0047.fits...\n",
      "Processing manual_wfs_0031.fits...\n",
      "Processing manual_wfs_0050.fits...\n",
      "Processing manual_wfs_0034.fits...\n"
     ]
    },
    {
     "name": "stderr",
     "output_type": "stream",
     "text": [
      "WARNING: No sources were found. [photutils.detection.findstars]\n"
     ]
    },
    {
     "name": "stdout",
     "output_type": "stream",
     "text": [
      "Processing manual_wfs_0053.fits...\n"
     ]
    },
    {
     "name": "stderr",
     "output_type": "stream",
     "text": [
      "WARNING: No sources were found. [photutils.detection.findstars]\n"
     ]
    },
    {
     "name": "stdout",
     "output_type": "stream",
     "text": [
      "Processing manual_wfs_0051.fits...\n",
      "Processing manual_wfs_0036.fits...\n",
      "Processing manual_wfs_0054.fits...\n",
      "Processing manual_wfs_0052.fits...\n",
      "Processing manual_wfs_0056.fits...\n",
      "Processing manual_wfs_0045.fits...\n",
      "Processing manual_wfs_0042.fits...\n",
      "Processing manual_wfs_0046.fits...\n",
      "Processing manual_wfs_0040.fits...\n",
      "Processing manual_wfs_0048.fits...\n",
      "Processing manual_wfs_0059.fits...\n",
      "Processing manual_wfs_0055.fits...\n",
      "Processing manual_wfs_0037.fits...\n",
      "Processing manual_wfs_0057.fits...\n",
      "Processing manual_wfs_0062.fits...\n",
      "Processing manual_wfs_0065.fits...\n",
      "Processing manual_wfs_0043.fits...\n",
      "Processing manual_wfs_0049.fits...\n",
      "Processing manual_wfs_0068.fits...\n",
      "Processing manual_wfs_0071.fits...\n",
      "Processing manual_wfs_0074.fits...\n",
      "Processing manual_wfs_0066.fits...\n",
      "Processing manual_wfs_0060.fits...\n",
      "Processing manual_wfs_0058.fits...\n",
      "Processing manual_wfs_0069.fits...\n",
      "Processing manual_wfs_0072.fits...\n",
      "Processing manual_wfs_0063.fits...\n",
      "Processing manual_wfs_0061.fits...\n",
      "Processing manual_wfs_0067.fits...\n",
      "Processing manual_wfs_0077.fits...\n",
      "Processing manual_wfs_0064.fits...\n",
      "Processing manual_wfs_0070.fits...\n",
      "Processing manual_wfs_0073.fits...\n",
      "Processing manual_wfs_0075.fits...\n",
      "Processing manual_wfs_0076.fits...\n",
      "Working in 20071205...\n",
      "Processing auto_wfs_0013.fits...\n",
      "Processing auto_wfs_0007.fits...\n",
      "Processing auto_wfs_0010.fits...\n",
      "Processing auto_wfs_0004.fits...\n",
      "Processing auto_wfs_0000.fits...\n",
      "Processing auto_wfs_0016.fits...\n",
      "Processing auto_wfs_0019.fits...\n",
      "Processing auto_wfs_0022.fits...\n"
     ]
    },
    {
     "name": "stderr",
     "output_type": "stream",
     "text": [
      "WARNING: The fit may be unsuccessful; check fit_info['message'] for more information. [astropy.modeling.fitting]\n",
      "WARNING: The fit may be unsuccessful; check fit_info['message'] for more information. [astropy.modeling.fitting]\n",
      "WARNING: The fit may be unsuccessful; check fit_info['message'] for more information. [astropy.modeling.fitting]\n",
      "WARNING: The fit may be unsuccessful; check fit_info['message'] for more information. [astropy.modeling.fitting]\n",
      "WARNING: The fit may be unsuccessful; check fit_info['message'] for more information. [astropy.modeling.fitting]\n",
      "WARNING: The fit may be unsuccessful; check fit_info['message'] for more information. [astropy.modeling.fitting]\n",
      "WARNING: The fit may be unsuccessful; check fit_info['message'] for more information. [astropy.modeling.fitting]\n",
      "WARNING: The fit may be unsuccessful; check fit_info['message'] for more information. [astropy.modeling.fitting]\n"
     ]
    },
    {
     "name": "stdout",
     "output_type": "stream",
     "text": [
      "Processing auto_wfs_0001.fits...\n",
      "Processing auto_wfs_0017.fits...\n",
      "Processing auto_wfs_0020.fits...\n",
      "Not processing auto_wfs_0004_ave.fits because it's an average of multiple images\n",
      "Processing auto_wfs_0005.fits...\n",
      "Processing auto_wfs_0014.fits...\n",
      "Processing auto_wfs_0023.fits...\n",
      "Not processing auto_wfs_0007_ave.fits because it's an average of multiple images\n",
      "Processing auto_wfs_0008.fits...\n",
      "Not processing auto_wfs_0010_ave.fits because it's an average of multiple images\n",
      "Processing auto_wfs_0011.fits...\n",
      "Processing auto_wfs_0002.fits...\n",
      "Not processing auto_wfs_0020_ave.fits because it's an average of multiple images\n",
      "Processing auto_wfs_0021.fits...\n",
      "Processing auto_wfs_0024.fits...\n",
      "Processing auto_wfs_0006.fits...\n",
      "Not processing auto_wfs_0014_ave.fits because it's an average of multiple images\n",
      "Processing auto_wfs_0015.fits...\n",
      "Not processing auto_wfs_0017_ave.fits because it's an average of multiple images\n",
      "Processing auto_wfs_0018.fits...\n",
      "Processing auto_wfs_0009.fits...\n",
      "Processing auto_wfs_0012.fits...\n",
      "Processing auto_wfs_0003.fits...\n",
      "Processing auto_wfs_0025.fits...\n",
      "Processing auto_wfs_0028.fits...\n",
      "Processing auto_wfs_0031.fits...\n",
      "Not processing auto_wfs_0034_ave.fits because it's an average of multiple images\n",
      "Processing auto_wfs_0035.fits...\n",
      "Not processing auto_wfs_0024_ave.fits because it's an average of multiple images\n",
      "Not processing auto_wfs_0037_ave.fits because it's an average of multiple images\n",
      "Processing auto_wfs_0038.fits...\n",
      "Not processing auto_wfs_0040_ave.fits because it's an average of multiple images\n",
      "Processing auto_wfs_0041.fits...\n",
      "Processing auto_wfs_0044.fits...\n",
      "Processing auto_wfs_0047.fits...\n",
      "Processing auto_wfs_0029.fits...\n",
      "Processing auto_wfs_0026.fits...\n",
      "Processing auto_wfs_0032.fits...\n",
      "Processing auto_wfs_0036.fits...\n",
      "Processing auto_wfs_0042.fits...\n",
      "Not processing auto_wfs_0044_ave.fits because it's an average of multiple images\n",
      "Processing auto_wfs_0045.fits...\n",
      "Processing auto_wfs_0039.fits...\n",
      "Not processing auto_wfs_0047_ave.fits because it's an average of multiple images\n",
      "Processing auto_wfs_0048.fits...\n",
      "Processing auto_wfs_0046.fits...\n",
      "Processing auto_wfs_0043.fits...\n",
      "Processing auto_wfs_0030.fits...\n",
      "Processing auto_wfs_0037.fits...\n",
      "Processing auto_wfs_0027.fits...\n",
      "Processing auto_wfs_0040.fits...\n",
      "Processing auto_wfs_0033.fits...\n",
      "Processing auto_wfs_0049.fits...\n",
      "Processing auto_wfs_0050.fits...\n",
      "Processing auto_wfs_0053.fits...\n",
      "Processing auto_wfs_0056.fits...\n",
      "Not processing auto_wfs_0030_ave.fits because it's an average of multiple images\n",
      "Processing auto_wfs_0059.fits...\n",
      "Not processing auto_wfs_0027_ave.fits because it's an average of multiple images\n",
      "Processing auto_wfs_0062.fits...\n",
      "Not processing auto_wfs_0065_ave.fits because it's an average of multiple images\n",
      "Processing auto_wfs_0066.fits...\n",
      "Processing auto_wfs_0034.fits...\n",
      "Not processing auto_wfs_0068_ave.fits because it's an average of multiple images\n",
      "Processing auto_wfs_0069.fits...\n",
      "Not processing auto_wfs_0050_ave.fits because it's an average of multiple images\n",
      "Processing auto_wfs_0051.fits...\n",
      "Processing auto_wfs_0063.fits...\n",
      "Processing auto_wfs_0054.fits...\n",
      "Processing auto_wfs_0067.fits...\n",
      "Processing auto_wfs_0057.fits...\n",
      "Processing auto_wfs_0060.fits...\n",
      "Not processing auto_wfs_0071_ave.fits because it's an average of multiple images\n",
      "Processing manual_wfs_0000.fits...\n",
      "Processing manual_wfs_0001.fits...\n",
      "Processing manual_wfs_0002.fits...\n",
      "Processing test_0000.fits...\n",
      "Processing auto_wfs_0070.fits...\n",
      "Processing auto_wfs_0052.fits...\n",
      "Processing auto_wfs_0068.fits...\n",
      "Processing auto_wfs_0064.fits...\n",
      "Not processing auto_wfs_0057_ave.fits because it's an average of multiple images\n",
      "Processing auto_wfs_0058.fits...\n",
      "Not processing auto_wfs_0054_ave.fits because it's an average of multiple images\n",
      "Processing auto_wfs_0055.fits...\n",
      "Not processing auto_wfs_0060_ave.fits because it's an average of multiple images\n",
      "Processing auto_wfs_0061.fits...\n",
      "Processing test_0001.fits...\n",
      "Processing auto_wfs_0071.fits...\n",
      "Processing auto_wfs_0065.fits...\n",
      "Processing test_0002.fits...\n",
      "Working in 20071206...\n",
      "Processing auto_wfs_0004.fits...\n",
      "Processing auto_wfs_0000.fits...\n",
      "Processing auto_wfs_0010.fits...\n",
      "Processing auto_wfs_0007.fits...\n",
      "Processing auto_wfs_0013.fits...\n",
      "Processing auto_wfs_0016.fits...\n",
      "Processing auto_wfs_0019.fits...\n",
      "Processing auto_wfs_0022.fits...\n"
     ]
    },
    {
     "name": "stderr",
     "output_type": "stream",
     "text": [
      "WARNING: The fit may be unsuccessful; check fit_info['message'] for more information. [astropy.modeling.fitting]\n",
      "WARNING: The fit may be unsuccessful; check fit_info['message'] for more information. [astropy.modeling.fitting]\n",
      "WARNING: The fit may be unsuccessful; check fit_info['message'] for more information. [astropy.modeling.fitting]\n",
      "WARNING: The fit may be unsuccessful; check fit_info['message'] for more information. [astropy.modeling.fitting]\n",
      "WARNING: The fit may be unsuccessful; check fit_info['message'] for more information. [astropy.modeling.fitting]\n",
      "WARNING: The fit may be unsuccessful; check fit_info['message'] for more information. [astropy.modeling.fitting]\n",
      "WARNING: The fit may be unsuccessful; check fit_info['message'] for more information. [astropy.modeling.fitting]\n",
      "WARNING: The fit may be unsuccessful; check fit_info['message'] for more information. [astropy.modeling.fitting]\n"
     ]
    },
    {
     "name": "stdout",
     "output_type": "stream",
     "text": [
      "Processing auto_wfs_0001.fits...\n",
      "Not processing auto_wfs_0004_ave.fits because it's an average of multiple images\n",
      "Processing auto_wfs_0005.fits...\n",
      "Not processing auto_wfs_0007_ave.fits because it's an average of multiple images\n",
      "Processing auto_wfs_0008.fits...\n",
      "Not processing auto_wfs_0010_ave.fits because it's an average of multiple images\n",
      "Processing auto_wfs_0011.fits...\n",
      "Processing auto_wfs_0020.fits...\n",
      "Processing auto_wfs_0014.fits...\n",
      "Processing auto_wfs_0017.fits...\n",
      "Processing auto_wfs_0023.fits...\n",
      "Processing auto_wfs_0002.fits...\n",
      "Processing auto_wfs_0006.fits...\n",
      "Processing auto_wfs_0009.fits...\n",
      "Processing auto_wfs_0012.fits...\n",
      "Not processing auto_wfs_0014_ave.fits because it's an average of multiple images\n",
      "Processing auto_wfs_0015.fits...\n",
      "Processing auto_wfs_0024.fits...\n",
      "Not processing auto_wfs_0020_ave.fits because it's an average of multiple images\n",
      "Processing auto_wfs_0021.fits...\n",
      "Not processing auto_wfs_0017_ave.fits because it's an average of multiple images\n",
      "Processing auto_wfs_0018.fits...\n",
      "Processing auto_wfs_0025.fits...\n",
      "Processing auto_wfs_0003.fits...\n",
      "Processing auto_wfs_0028.fits...\n",
      "Not processing auto_wfs_0031_ave.fits because it's an average of multiple images\n",
      "Processing auto_wfs_0032.fits...\n",
      "Not processing auto_wfs_0024_ave.fits because it's an average of multiple images\n",
      "Processing auto_wfs_0035.fits...\n",
      "Processing auto_wfs_0038.fits...\n",
      "Not processing auto_wfs_0041_ave.fits because it's an average of multiple images\n",
      "Processing auto_wfs_0042.fits...\n",
      "Not processing auto_wfs_0044_ave.fits because it's an average of multiple images\n",
      "Processing auto_wfs_0045.fits...\n",
      "Processing auto_wfs_0026.fits...\n",
      "Processing auto_wfs_0048.fits...\n",
      "Processing auto_wfs_0029.fits...\n",
      "Processing auto_wfs_0033.fits...\n",
      "Processing auto_wfs_0039.fits...\n",
      "Processing auto_wfs_0046.fits...\n",
      "Processing auto_wfs_0043.fits...\n",
      "Processing auto_wfs_0036.fits...\n",
      "Not processing auto_wfs_0048_ave.fits because it's an average of multiple images\n",
      "Processing auto_wfs_0049.fits...\n",
      "Processing auto_wfs_0027.fits...\n",
      "Processing auto_wfs_0030.fits...\n",
      "Processing auto_wfs_0034.fits...\n",
      "Processing auto_wfs_0047.fits...\n",
      "Processing auto_wfs_0040.fits...\n",
      "Not processing auto_wfs_0036_ave.fits because it's an average of multiple images\n",
      "Processing auto_wfs_0037.fits...\n",
      "Processing auto_wfs_0044.fits...\n",
      "Processing auto_wfs_0050.fits...\n",
      "Not processing auto_wfs_0027_ave.fits because it's an average of multiple images\n",
      "Processing auto_wfs_0051.fits...\n",
      "Processing auto_wfs_0031.fits...\n",
      "Processing auto_wfs_0054.fits...\n",
      "Processing auto_wfs_0057.fits...\n",
      "Processing auto_wfs_0061.fits...\n",
      "Processing auto_wfs_0041.fits...\n",
      "Processing auto_wfs_0065.fits...\n",
      "Processing auto_wfs_0058.fits...\n"
     ]
    },
    {
     "name": "stderr",
     "output_type": "stream",
     "text": [
      "WARNING: No sources were found. [photutils.detection.findstars]\n"
     ]
    },
    {
     "name": "stdout",
     "output_type": "stream",
     "text": [
      "Processing manual_wfs_0000.fits...\n",
      "Not processing auto_wfs_0051_ave.fits because it's an average of multiple images\n",
      "Processing auto_wfs_0052.fits...\n",
      "Processing auto_wfs_0059.fits...\n",
      "Processing auto_wfs_0062.fits...\n",
      "Processing test_0000.fits...\n",
      "Not processing auto_wfs_0054_ave.fits because it's an average of multiple images\n",
      "Processing auto_wfs_0055.fits...\n",
      "Processing test_0004.fits...\n",
      "Processing auto_wfs_0066.fits...\n",
      "Not processing manual_wfs_0000_ave.fits because it's an average of multiple images\n",
      "Processing manual_wfs_0001.fits...\n",
      "Processing auto_wfs_0060.fits...\n",
      "Processing test_0001.fits...\n",
      "Processing auto_wfs_0053.fits...\n",
      "Processing auto_wfs_0063.fits...\n",
      "Processing auto_wfs_0056.fits...\n",
      "Processing test_0005.fits...\n",
      "Processing auto_wfs_0067.fits...\n",
      "Processing test_0008.fits...\n",
      "Processing test_0012.fits...\n",
      "Processing manual_wfs_0002.fits...\n",
      "Processing test_0002.fits...\n",
      "Processing test_0013.fits...\n",
      "Processing auto_wfs_0064.fits...\n",
      "Processing test_0006.fits...\n",
      "Processing auto_wfs_0068.fits...\n",
      "Processing test_0009.fits...\n",
      "Processing test_0003.fits...\n",
      "Processing test_0007.fits...\n",
      "Processing test_0010.fits...\n",
      "Processing test_0011.fits...\n",
      "Working in 20071207...\n",
      "Working in 20071214...\n",
      "Processing auto_wfs_0005.fits...\n",
      "Not processing auto_wfs_0002_ave.fits because it's an average of multiple images\n",
      "Processing auto_wfs_0000.fits...\n",
      "Processing auto_wfs_0009.fits...\n",
      "Processing auto_wfs_0014.fits...\n",
      "Processing auto_wfs_0007.fits...\n",
      "Processing auto_wfs_0003.fits...\n",
      "Not processing auto_wfs_0011_ave.fits because it's an average of multiple images\n",
      "Processing auto_wfs_0016.fits...\n",
      "Processing auto_wfs_0012.fits...\n"
     ]
    },
    {
     "name": "stderr",
     "output_type": "stream",
     "text": [
      "WARNING: The fit may be unsuccessful; check fit_info['message'] for more information. [astropy.modeling.fitting]\n",
      "WARNING: The fit may be unsuccessful; check fit_info['message'] for more information. [astropy.modeling.fitting]\n",
      "WARNING: The fit may be unsuccessful; check fit_info['message'] for more information. [astropy.modeling.fitting]\n",
      "WARNING: The fit may be unsuccessful; check fit_info['message'] for more information. [astropy.modeling.fitting]\n",
      "WARNING: The fit may be unsuccessful; check fit_info['message'] for more information. [astropy.modeling.fitting]\n",
      "WARNING: The fit may be unsuccessful; check fit_info['message'] for more information. [astropy.modeling.fitting]\n",
      "WARNING: The fit may be unsuccessful; check fit_info['message'] for more information. [astropy.modeling.fitting]\n",
      "WARNING: The fit may be unsuccessful; check fit_info['message'] for more information. [astropy.modeling.fitting]\n"
     ]
    },
    {
     "name": "stdout",
     "output_type": "stream",
     "text": [
      "Processing auto_wfs_0008.fits...\n",
      "Processing auto_wfs_0004.fits...\n",
      "Not processing auto_wfs_0014_ave.fits because it's an average of multiple images\n",
      "Processing auto_wfs_0015.fits...\n",
      "Not processing auto_wfs_0005_ave.fits because it's an average of multiple images\n",
      "Processing auto_wfs_0006.fits...\n",
      "Processing auto_wfs_0001.fits...\n",
      "Processing auto_wfs_0013.fits...\n",
      "Processing auto_wfs_0010.fits...\n",
      "Processing auto_wfs_0017.fits...\n",
      "Processing auto_wfs_0018.fits...\n",
      "Not processing auto_wfs_0008_ave.fits because it's an average of multiple images\n",
      "Processing auto_wfs_0020.fits...\n",
      "Not processing auto_wfs_0022_ave.fits because it's an average of multiple images\n",
      "Processing auto_wfs_0023.fits...\n",
      "Processing auto_wfs_0025.fits...\n"
     ]
    },
    {
     "name": "stderr",
     "output_type": "stream",
     "text": [
      "WARNING: No sources were found. [photutils.detection.findstars]\n"
     ]
    },
    {
     "name": "stdout",
     "output_type": "stream",
     "text": [
      "Processing auto_wfs_0011.fits...\n"
     ]
    },
    {
     "name": "stderr",
     "output_type": "stream",
     "text": [
      "WARNING: No sources were found. [photutils.detection.findstars]\n"
     ]
    },
    {
     "name": "stdout",
     "output_type": "stream",
     "text": [
      "Processing auto_wfs_0002.fits...\n",
      "Processing auto_wfs_0027.fits...\n",
      "Not processing auto_wfs_0017_ave.fits because it's an average of multiple images\n",
      "Processing back.fits...\n",
      "Processing manual_wfs_0000.fits...\n"
     ]
    },
    {
     "name": "stderr",
     "output_type": "stream",
     "text": [
      "WARNING: Sources were found, but none pass the sharpness and roundness criteria. [photutils.detection.findstars]\n",
      "/Users/tim/conda/envs/py36/lib/python3.6/site-packages/photutils/detection/findstars.py:749: RuntimeWarning: divide by zero encountered in double_scalars\n",
      "  dx = (sgdgdx - (sddgdx - sdgdx*sumd)) / (hx * sdgdx2 / kernel_sigma**2)\n"
     ]
    },
    {
     "name": "stdout",
     "output_type": "stream",
     "text": [
      "Failed to find spots for /Volumes/LACIE SHARE/wfsdat/20071214/manual_wfs_0000: (WFSAnalysisFailed(...), 'No WFS spots detected.')\n",
      "Processing manual_wfs_0001.fits...\n",
      "Processing manual_wfs_0002.fits...\n",
      "Processing auto_wfs_0026.fits...\n",
      "Not processing auto_wfs_0026_ave.fits because it's an average of multiple images\n",
      "Processing manual_wfs_0005.fits...\n",
      "Processing auto_wfs_0028.fits...\n",
      "Processing auto_wfs_0024.fits...\n",
      "Processing manual_wfs_0008.fits...\n",
      "Not processing auto_wfs_0018_ave.fits because it's an average of multiple images\n",
      "Processing auto_wfs_0019.fits...\n"
     ]
    },
    {
     "name": "stderr",
     "output_type": "stream",
     "text": [
      "WARNING: No sources were found. [photutils.detection.findstars]\n"
     ]
    },
    {
     "name": "stdout",
     "output_type": "stream",
     "text": [
      "Processing auto_wfs_0021.fits...\n",
      "Processing manual_wfs_0011.fits...\n",
      "Processing manual_wfs_0003.fits...\n",
      "Processing auto_wfs_0029.fits...\n",
      "Processing manual_wfs_0013.fits...\n",
      "Processing manual_wfs_0006.fits...\n",
      "Processing manual_wfs_0009.fits...\n",
      "Processing manual_wfs_0012.fits...\n",
      "Not processing manual_wfs_0015_ave.fits because it's an average of multiple images\n",
      "Processing manual_wfs_0016.fits...\n",
      "Processing manual_wfs_0004.fits...\n",
      "Processing manual_wfs_0017.fits...\n",
      "Processing auto_wfs_0022.fits...\n"
     ]
    },
    {
     "name": "stderr",
     "output_type": "stream",
     "text": [
      "WARNING: No sources were found. [photutils.detection.findstars]\n"
     ]
    },
    {
     "name": "stdout",
     "output_type": "stream",
     "text": [
      "Processing manual_wfs_0014.fits...\n",
      "Processing manual_wfs_0010.fits...\n",
      "Not processing manual_wfs_0012_ave.fits because it's an average of multiple images\n",
      "Not processing manual_wfs_0019_ave.fits because it's an average of multiple images\n",
      "Processing manual_wfs_0020.fits...\n",
      "Processing manual_wfs_0007.fits...\n",
      "Processing manual_wfs_0022.fits...\n",
      "Not processing manual_wfs_0016_ave.fits because it's an average of multiple images\n",
      "Processing manual_wfs_0024.fits...\n",
      "Processing manual_wfs_0026.fits...\n",
      "Processing manual_wfs_0018.fits...\n",
      "Processing manual_wfs_0015.fits...\n",
      "Not processing manual_wfs_0022_ave.fits because it's an average of multiple images\n",
      "Processing manual_wfs_0023.fits...\n",
      "Processing manual_wfs_0021.fits...\n",
      "Processing manual_wfs_0027.fits...\n",
      "Processing manual_wfs_0025.fits...\n",
      "Not processing manual_wfs_0025_ave.fits because it's an average of multiple images\n",
      "Processing manual_wfs_0019.fits...\n",
      "Working in 20071215...\n",
      "Working in 20071216...\n",
      "Processing auto_wfs_0006.fits...\n",
      "Processing auto_wfs_0000.fits...\n",
      "Processing auto_wfs_0009.fits...\n",
      "Processing auto_wfs_0003.fits...\n",
      "Processing auto_wfs_0012.fits...\n",
      "Processing auto_wfs_0015.fits...\n",
      "Processing auto_wfs_0018.fits...\n",
      "Processing auto_wfs_0021.fits...\n"
     ]
    },
    {
     "name": "stderr",
     "output_type": "stream",
     "text": [
      "WARNING: The fit may be unsuccessful; check fit_info['message'] for more information. [astropy.modeling.fitting]\n",
      "WARNING: The fit may be unsuccessful; check fit_info['message'] for more information. [astropy.modeling.fitting]\n",
      "WARNING: The fit may be unsuccessful; check fit_info['message'] for more information. [astropy.modeling.fitting]\n",
      "WARNING: The fit may be unsuccessful; check fit_info['message'] for more information. [astropy.modeling.fitting]\n",
      "WARNING: The fit may be unsuccessful; check fit_info['message'] for more information. [astropy.modeling.fitting]\n",
      "WARNING: The fit may be unsuccessful; check fit_info['message'] for more information. [astropy.modeling.fitting]\n",
      "WARNING: The fit may be unsuccessful; check fit_info['message'] for more information. [astropy.modeling.fitting]\n",
      "WARNING: The fit may be unsuccessful; check fit_info['message'] for more information. [astropy.modeling.fitting]\n"
     ]
    },
    {
     "name": "stdout",
     "output_type": "stream",
     "text": [
      "Processing auto_wfs_0010.fits...\n",
      "Processing auto_wfs_0013.fits...\n",
      "Processing auto_wfs_0019.fits...\n",
      "Processing auto_wfs_0016.fits...\n",
      "Processing auto_wfs_0022.fits...\n",
      "Processing auto_wfs_0001.fits...\n",
      "Processing auto_wfs_0004.fits...\n",
      "Processing auto_wfs_0007.fits...\n",
      "Processing auto_wfs_0011.fits...\n",
      "Processing auto_wfs_0014.fits...\n",
      "Processing auto_wfs_0017.fits...\n",
      "Processing auto_wfs_0020.fits...\n",
      "Processing auto_wfs_0023.fits...\n",
      "Processing auto_wfs_0002.fits...\n",
      "Processing auto_wfs_0008.fits...\n",
      "Processing auto_wfs_0005.fits...\n",
      "Not processing auto_wfs_0020_ave.fits because it's an average of multiple images\n",
      "Processing auto_wfs_0024.fits...\n",
      "Not processing auto_wfs_0011_ave.fits because it's an average of multiple images\n",
      "Processing auto_wfs_0027.fits...\n",
      "Not processing auto_wfs_0014_ave.fits because it's an average of multiple images\n",
      "Processing auto_wfs_0030.fits...\n",
      "Not processing auto_wfs_0017_ave.fits because it's an average of multiple images\n",
      "Processing auto_wfs_0033.fits...\n",
      "Not processing auto_wfs_0023_ave.fits because it's an average of multiple images\n",
      "Processing back.fits...\n"
     ]
    },
    {
     "name": "stderr",
     "output_type": "stream",
     "text": [
      "WARNING: No sources were found. [photutils.detection.findstars]\n"
     ]
    },
    {
     "name": "stdout",
     "output_type": "stream",
     "text": [
      "Not processing auto_wfs_0002_ave.fits because it's an average of multiple images\n",
      "Processing manual_wfs_0003.fits...\n",
      "Not processing auto_wfs_0005_ave.fits because it's an average of multiple images\n",
      "Processing manual_wfs_0007.fits...\n",
      "Processing manual_wfs_0000.fits...\n",
      "Not processing auto_wfs_0008_ave.fits because it's an average of multiple images\n",
      "Processing manual_wfs_0010.fits...\n",
      "Processing manual_wfs_0001.fits...\n",
      "Processing auto_wfs_0028.fits...\n",
      "Processing auto_wfs_0025.fits...\n",
      "Processing auto_wfs_0031.fits...\n",
      "Processing auto_wfs_0034.fits...\n",
      "Processing manual_wfs_0008.fits...\n",
      "Processing manual_wfs_0004.fits...\n",
      "Processing manual_wfs_0011.fits...\n",
      "Processing manual_wfs_0002.fits...\n",
      "Processing auto_wfs_0032.fits...\n",
      "Processing auto_wfs_0035.fits...\n",
      "Processing auto_wfs_0029.fits...\n",
      "Processing auto_wfs_0026.fits...\n",
      "Not processing manual_wfs_0008_ave.fits because it's an average of multiple images\n",
      "Processing manual_wfs_0009.fits...\n",
      "Processing manual_wfs_0012.fits...\n",
      "Processing manual_wfs_0005.fits...\n",
      "Processing manual_wfs_0014.fits...\n",
      "Not processing auto_wfs_0032_ave.fits because it's an average of multiple images\n",
      "Processing manual_wfs_0017.fits...\n",
      "Not processing auto_wfs_0035_ave.fits because it's an average of multiple images\n",
      "Processing manual_wfs_0020.fits...\n",
      "Not processing auto_wfs_0029_ave.fits because it's an average of multiple images\n",
      "Processing manual_wfs_0024.fits...\n",
      "Not processing auto_wfs_0026_ave.fits because it's an average of multiple images\n",
      "Processing manual_wfs_0027.fits...\n",
      "Processing manual_wfs_0013.fits...\n",
      "Processing manual_wfs_0006.fits...\n",
      "Processing manual_wfs_0031.fits...\n",
      "Not processing manual_wfs_0014_ave.fits because it's an average of multiple images\n",
      "Processing manual_wfs_0015.fits...\n",
      "Processing manual_wfs_0018.fits...\n",
      "Processing manual_wfs_0021.fits...\n",
      "Processing manual_wfs_0034.fits...\n",
      "Processing manual_wfs_0025.fits...\n",
      "Processing manual_wfs_0028.fits...\n",
      "Not processing manual_wfs_0037_ave.fits because it's an average of multiple images\n",
      "Processing manual_wfs_0038.fits...\n",
      "Processing manual_wfs_0016.fits...\n",
      "Processing manual_wfs_0032.fits...\n",
      "Processing manual_wfs_0022.fits...\n",
      "Processing manual_wfs_0019.fits...\n",
      "Processing manual_wfs_0029.fits...\n",
      "Not processing manual_wfs_0025_ave.fits because it's an average of multiple images\n",
      "Processing manual_wfs_0026.fits...\n",
      "Processing manual_wfs_0035.fits...\n",
      "Processing manual_wfs_0041.fits...\n",
      "Not processing manual_wfs_0032_ave.fits because it's an average of multiple images\n",
      "Processing manual_wfs_0033.fits...\n",
      "Processing manual_wfs_0039.fits...\n",
      "Not processing manual_wfs_0019_ave.fits because it's an average of multiple images\n",
      "Processing manual_wfs_0044.fits...\n",
      "Processing manual_wfs_0023.fits...\n",
      "Processing manual_wfs_0047.fits...\n",
      "Processing manual_wfs_0030.fits...\n",
      "Processing manual_wfs_0036.fits...\n",
      "Processing manual_wfs_0042.fits...\n",
      "Processing manual_wfs_0040.fits...\n",
      "Processing manual_wfs_0045.fits...\n",
      "Processing manual_wfs_0048.fits...\n",
      "Processing manual_wfs_0037.fits...\n",
      "Processing manual_wfs_0043.fits...\n",
      "Processing manual_wfs_0049.fits...\n",
      "Processing manual_wfs_0046.fits...\n",
      "Not processing manual_wfs_0043_ave.fits because it's an average of multiple images\n",
      "Not processing manual_wfs_0046_ave.fits because it's an average of multiple images\n",
      "Processing manual_wfs_0050.fits...\n",
      "Working in 20071217...\n",
      "Processing auto_wfs_0000.fits...\n",
      "Processing auto_wfs_0002.fits...\n",
      "Processing auto_wfs_0003.fits...\n",
      "Processing auto_wfs_0006.fits...\n",
      "Processing auto_wfs_0005.fits...\n",
      "Processing auto_wfs_0011.fits...\n",
      "Processing auto_wfs_0009.fits...\n",
      "Processing auto_wfs_0008.fits...\n"
     ]
    },
    {
     "name": "stderr",
     "output_type": "stream",
     "text": [
      "WARNING: The fit may be unsuccessful; check fit_info['message'] for more information. [astropy.modeling.fitting]\n",
      "WARNING: The fit may be unsuccessful; check fit_info['message'] for more information. [astropy.modeling.fitting]\n",
      "WARNING: The fit may be unsuccessful; check fit_info['message'] for more information. [astropy.modeling.fitting]\n",
      "WARNING: The fit may be unsuccessful; check fit_info['message'] for more information. [astropy.modeling.fitting]\n",
      "WARNING: The fit may be unsuccessful; check fit_info['message'] for more information. [astropy.modeling.fitting]\n",
      "WARNING: The fit may be unsuccessful; check fit_info['message'] for more information. [astropy.modeling.fitting]\n",
      "WARNING: The fit may be unsuccessful; check fit_info['message'] for more information. [astropy.modeling.fitting]\n",
      "WARNING: The fit may be unsuccessful; check fit_info['message'] for more information. [astropy.modeling.fitting]\n"
     ]
    },
    {
     "name": "stdout",
     "output_type": "stream",
     "text": [
      "Processing auto_wfs_0010.fits...\n",
      "Not processing auto_wfs_0005_ave.fits because it's an average of multiple images\n",
      "Processing auto_wfs_0012.fits...\n",
      "Processing auto_wfs_0001.fits...\n",
      "Not processing auto_wfs_0011_ave.fits because it's an average of multiple images\n",
      "Processing auto_wfs_0014.fits...\n",
      "Not processing auto_wfs_0002_ave.fits because it's an average of multiple images\n",
      "Not processing auto_wfs_0008_ave.fits because it's an average of multiple images\n",
      "Processing auto_wfs_0015.fits...\n",
      "Processing auto_wfs_0017.fits...\n",
      "Processing auto_wfs_0007.fits...\n",
      "Processing auto_wfs_0004.fits...\n",
      "Processing auto_wfs_0013.fits...\n",
      "Not processing auto_wfs_0014_ave.fits because it's an average of multiple images\n",
      "Processing auto_wfs_0018.fits...\n",
      "Processing auto_wfs_0020.fits...\n",
      "Processing auto_wfs_0021.fits...\n",
      "Not processing auto_wfs_0017_ave.fits because it's an average of multiple images\n",
      "Processing auto_wfs_0016.fits...\n",
      "Processing auto_wfs_0023.fits...\n",
      "Processing auto_wfs_0025.fits...\n",
      "Processing auto_wfs_0027.fits...\n",
      "Not processing auto_wfs_0028_ave.fits because it's an average of multiple images\n",
      "Processing back.fits...\n"
     ]
    },
    {
     "name": "stderr",
     "output_type": "stream",
     "text": [
      "WARNING: No sources were found. [photutils.detection.findstars]\n"
     ]
    },
    {
     "name": "stdout",
     "output_type": "stream",
     "text": [
      "Processing manual_wfs_0000.fits...\n",
      "Processing auto_wfs_0019.fits...\n",
      "Processing auto_wfs_0024.fits...\n",
      "Processing manual_wfs_0002.fits...\n",
      "Processing auto_wfs_0022.fits...\n",
      "Not processing auto_wfs_0020_ave.fits because it's an average of multiple images\n",
      "Not processing manual_wfs_0003_ave.fits because it's an average of multiple images\n",
      "Processing manual_wfs_0004.fits...\n",
      "Processing auto_wfs_0028.fits...\n",
      "Processing auto_wfs_0026.fits...\n",
      "Processing manual_wfs_0005.fits...\n",
      "Processing manual_wfs_0001.fits...\n",
      "Processing manual_wfs_0007.fits...\n",
      "Processing manual_wfs_0009.fits...\n",
      "Processing manual_wfs_0003.fits...\n",
      "Processing manual_wfs_0010.fits...\n",
      "Processing manual_wfs_0012.fits...\n",
      "Processing manual_wfs_0014.fits...\n",
      "Processing manual_wfs_0013.fits...\n",
      "Processing manual_wfs_0006.fits...\n",
      "Processing manual_wfs_0016.fits...\n",
      "Processing manual_wfs_0008.fits...\n",
      "Not processing manual_wfs_0009_ave.fits because it's an average of multiple images\n",
      "Processing manual_wfs_0017.fits...\n",
      "Processing manual_wfs_0019.fits...\n",
      "Processing manual_wfs_0011.fits...\n",
      "Processing manual_wfs_0015.fits...\n",
      "Processing manual_wfs_0021.fits...\n",
      "Not processing manual_wfs_0016_ave.fits because it's an average of multiple images\n",
      "Processing manual_wfs_0018.fits...\n",
      "Processing manual_wfs_0020.fits...\n"
     ]
    }
   ],
   "source": [
    "nproc = 8\n",
    "for d in dirs:\n",
    "    if d.is_dir():\n",
    "        print(f\"Working in {d.name}...\")\n",
    "        fitsfiles = sorted(list(d.glob(\"*.fits\")))\n",
    "        with Pool(processes=nproc) as pool:  # my mac's i7 has 4 cores + hyperthreading so 8 virtual cores. \n",
    "            pool.map(process_image, fitsfiles)  # plines comes out in same order as fitslines!"
   ]
  },
  {
   "cell_type": "code",
   "execution_count": 47,
   "metadata": {},
   "outputs": [],
   "source": [
    "test = rootdir / \"20030321\" / \"end_0000.fits\""
   ]
  },
  {
   "cell_type": "code",
   "execution_count": 54,
   "metadata": {},
   "outputs": [
    {
     "data": {
      "text/plain": [
       "'/Volumes/LACIE SHARE/wfsdat/20030321/end_0000.csv'"
      ]
     },
     "execution_count": 54,
     "metadata": {},
     "output_type": "execute_result"
    }
   ],
   "source": [
    "str(test.parent / test.stem) + \".csv\""
   ]
  },
  {
   "cell_type": "code",
   "execution_count": 116,
   "metadata": {},
   "outputs": [
    {
     "data": {
      "application/vnd.jupyter.widget-view+json": {
       "model_id": "e7dd9bff2c3047ddb9dadadad47f4775",
       "version_major": 2,
       "version_minor": 0
      },
      "text/plain": [
       "FigureCanvasNbAgg()"
      ]
     },
     "metadata": {},
     "output_type": "display_data"
    }
   ],
   "source": [
    "test, fig = wfsfind(\"20031019/start_0001.fits\", fwhm=8.)"
   ]
  },
  {
   "cell_type": "code",
   "execution_count": 120,
   "metadata": {},
   "outputs": [],
   "source": [
    "test, hdr = check_image(Path(\"20031019/start_0001.fits\"))\n",
    "mean, median, stddev = stats.sigma_clipped_stats(test, sigma=3.0, iters=None)"
   ]
  },
  {
   "cell_type": "code",
   "execution_count": 117,
   "metadata": {},
   "outputs": [
    {
     "name": "stdout",
     "output_type": "stream",
     "text": [
      "Processing start_0001.fits...\n",
      "Failed to write 20031019/start_0001.csv: unhashable type: 'list'\n"
     ]
    },
    {
     "name": "stderr",
     "output_type": "stream",
     "text": [
      "WARNING: The fit may be unsuccessful; check fit_info['message'] for more information. [astropy.modeling.fitting]\n"
     ]
    }
   ],
   "source": [
    "test_table = process_image(Path(\"20031019/start_0001.fits\"))"
   ]
  },
  {
   "cell_type": "code",
   "execution_count": 87,
   "metadata": {},
   "outputs": [],
   "source": [
    "tstfile = Path(\"20030517/wfs0029.fits\")"
   ]
  },
  {
   "cell_type": "code",
   "execution_count": 99,
   "metadata": {},
   "outputs": [
    {
     "data": {
      "text/plain": [
       "'2003-05-18T06:49:02'"
      ]
     },
     "execution_count": 99,
     "metadata": {},
     "output_type": "execute_result"
    }
   ],
   "source": [
    "dt = datetime.fromtimestamp(tstfile.stat().st_ctime)\n",
    "local_dt = tz.localize(dt)\n",
    "utc_dt = local_dt.astimezone(pytz.utc).isoformat().replace('+00:00', '')\n",
    "utc_dt"
   ]
  },
  {
   "cell_type": "code",
   "execution_count": 118,
   "metadata": {},
   "outputs": [
    {
     "data": {
      "text/html": [
       "<i>Table length=1</i>\n",
       "<table id=\"table120832044448\" class=\"table-striped table-bordered table-condensed\">\n",
       "<thead><tr><th>id_1</th><th>xcentroid_1</th><th>ycentroid_1</th><th>sharpness</th><th>roundness1</th><th>roundness2</th><th>npix</th><th>sky</th><th>peak</th><th>flux</th><th>mag</th><th>id_2</th><th>xcentroid_2</th><th>ycentroid_2</th><th>sky_centroid</th><th>sky_centroid_icrs</th><th>source_sum</th><th>source_sum_err</th><th>background_sum</th><th>background_mean</th><th>background_at_centroid</th><th>xmin</th><th>xmax</th><th>ymin</th><th>ymax</th><th>min_value</th><th>max_value</th><th>minval_xpos</th><th>minval_ypos</th><th>maxval_xpos</th><th>maxval_ypos</th><th>area</th><th>equivalent_radius</th><th>perimeter</th><th>semimajor_axis_sigma</th><th>semiminor_axis_sigma</th><th>eccentricity</th><th>orientation</th><th>ellipticity</th><th>elongation</th><th>covar_sigx2</th><th>covar_sigxy</th><th>covar_sigy2</th><th>cxx</th><th>cxy</th><th>cyy</th><th>col0 [22]</th><th>AIRMASS</th><th>BITPIX</th><th>DATE</th><th>EXTEND</th><th>IRAF-TLM</th><th>LTM1_1</th><th>LTM2_2</th><th>LTV1</th><th>LTV2</th><th>NAXIS</th><th>NAXIS1</th><th>NAXIS2</th><th>OBS-TIME</th><th>ORIGIN</th><th>SIMPLE</th><th>WFSKEY</th><th>filename</th><th>gauss_amplitude</th><th>gauss_background</th><th>gauss_fwhm</th><th>gauss_rms</th><th>gauss_sigx</th><th>gauss_sigy</th><th>gauss_theta</th><th>gauss_x</th><th>gauss_y</th><th>moffat_alpha</th><th>moffat_amplitude</th><th>moffat_background</th><th>moffat_fwhm</th><th>moffat_gamma</th><th>moffat_rms</th><th>moffat_x</th><th>moffat_y</th><th>moment_fwhm</th></tr></thead>\n",
       "<thead><tr><th></th><th></th><th></th><th></th><th></th><th></th><th></th><th></th><th></th><th></th><th></th><th></th><th>pix</th><th>pix</th><th></th><th></th><th></th><th></th><th></th><th></th><th></th><th>pix</th><th>pix</th><th>pix</th><th>pix</th><th></th><th></th><th>pix</th><th>pix</th><th>pix</th><th>pix</th><th>pix2</th><th>pix</th><th>pix</th><th>pix</th><th>pix</th><th></th><th>rad</th><th></th><th></th><th>pix2</th><th>pix2</th><th>pix2</th><th>1 / pix2</th><th>1 / pix2</th><th>1 / pix2</th><th></th><th></th><th></th><th></th><th></th><th></th><th></th><th></th><th></th><th></th><th></th><th></th><th></th><th></th><th></th><th></th><th></th><th></th><th></th><th></th><th></th><th></th><th></th><th></th><th></th><th></th><th></th><th></th><th></th><th></th><th></th><th></th><th></th><th></th><th></th><th></th></tr></thead>\n",
       "<thead><tr><th>int64</th><th>float64</th><th>float64</th><th>float64</th><th>float64</th><th>float64</th><th>float64</th><th>float64</th><th>float64</th><th>float64</th><th>float64</th><th>int64</th><th>float64</th><th>float64</th><th>object</th><th>object</th><th>float64</th><th>object</th><th>object</th><th>object</th><th>object</th><th>float64</th><th>float64</th><th>float64</th><th>float64</th><th>float64</th><th>float64</th><th>float64</th><th>float64</th><th>float64</th><th>float64</th><th>float64</th><th>float64</th><th>float64</th><th>float64</th><th>float64</th><th>float64</th><th>float64</th><th>float64</th><th>float64</th><th>float64</th><th>float64</th><th>float64</th><th>float64</th><th>float64</th><th>float64</th><th>str1</th><th>float64</th><th>int64</th><th>str19</th><th>bool</th><th>str19</th><th>float64</th><th>float64</th><th>float64</th><th>float64</th><th>int64</th><th>int64</th><th>int64</th><th>str19</th><th>str37</th><th>bool</th><th>str2</th><th>str15</th><th>float64</th><th>float64</th><th>float64</th><th>float64</th><th>float64</th><th>float64</th><th>float64</th><th>float64</th><th>float64</th><th>float64</th><th>float64</th><th>float64</th><th>float64</th><th>float64</th><th>float64</th><th>float64</th><th>float64</th><th>float64</th></tr></thead>\n",
       "<tr><td>1</td><td>3.10484092468</td><td>251.015965297</td><td>0.304448351128</td><td>0.264250925016</td><td>0.4908556983</td><td>121.0</td><td>0.0</td><td>1894.0</td><td>1.96380127688</td><td>-0.732743845184</td><td>1</td><td>19.3889715998</td><td>9.78050869542</td><td>None</td><td>None</td><td>495031.0</td><td>None</td><td>None</td><td>None</td><td>None</td><td>0.0</td><td>30.0</td><td>0.0</td><td>30.0</td><td>0.0</td><td>2093.0</td><td>0.0</td><td>0.0</td><td>12.0</td><td>18.0</td><td>961.0</td><td>17.48987709</td><td>120.0</td><td>5.75752114939</td><td>5.24886484916</td><td>0.410959516616</td><td>1.53323081407</td><td>0.0883464058632</td><td>1.09690786767</td><td>27.5584788661</td><td>0.210111506495</td><td>33.1411531244</td><td>0.036288227078</td><td>-0.000460127264177</td><td>0.0301754237477</td><td>..</td><td>nan</td><td>32</td><td>2010-06-19T18:33:56</td><td>False</td><td>2010-06-19T18:33:55</td><td>0.25</td><td>0.25</td><td>0.375</td><td>0.375</td><td>2</td><td>258</td><td>256</td><td>2010-06-19T21:33:56</td><td>NOAO-IRAF FITS Image Kernel July 2003</td><td>True</td><td>f5</td><td>start_0001.fits</td><td>2010.68672117</td><td>-140.506549996</td><td>18.8425111169</td><td>370.386620267</td><td>6.90556396933</td><td>9.09779149446</td><td>-0.0017121280301</td><td>18.82271513</td><td>8.6080931914</td><td>14.4453862422</td><td>2014.93710518</td><td>-172.730973883</td><td>18.9481469917</td><td>42.7324675539</td><td>384.204388277</td><td>19.1968963198</td><td>9.29030285389</td><td>12.9590291864</td></tr>\n",
       "</table>"
      ],
      "text/plain": [
       "<Table length=1>\n",
       " id_1  xcentroid_1   ycentroid_1  ...    moffat_x      moffat_y    moment_fwhm \n",
       "                                  ...                                          \n",
       "int64    float64       float64    ...    float64       float64       float64   \n",
       "----- ------------- ------------- ... ------------- ------------- -------------\n",
       "    1 3.10484092468 251.015965297 ... 19.1968963198 9.29030285389 12.9590291864"
      ]
     },
     "execution_count": 118,
     "metadata": {},
     "output_type": "execute_result"
    }
   ],
   "source": [
    "test_table"
   ]
  },
  {
   "cell_type": "code",
   "execution_count": 121,
   "metadata": {},
   "outputs": [
    {
     "data": {
      "text/plain": [
       "{'SIMPLE': True,\n",
       " 'BITPIX': 32,\n",
       " 'NAXIS': 2,\n",
       " 'NAXIS1': 258,\n",
       " 'NAXIS2': 256,\n",
       " 'EXTEND': False,\n",
       " 'ORIGIN': 'NOAO-IRAF FITS Image Kernel July 2003',\n",
       " 'DATE': '2010-06-19T18:33:56',\n",
       " 'IRAF-TLM': '2010-06-19T18:33:55',\n",
       " 'LTM1_1': 0.25,\n",
       " 'LTM2_2': 0.25,\n",
       " 'LTV1': 0.375,\n",
       " 'LTV2': 0.375,\n",
       " '': \n",
       " \n",
       " \n",
       " \n",
       " \n",
       " \n",
       " \n",
       " \n",
       " \n",
       " \n",
       " \n",
       " \n",
       " \n",
       " \n",
       " \n",
       " \n",
       " \n",
       " \n",
       " \n",
       " \n",
       " ,\n",
       " 'AIRMASS': nan,\n",
       " 'WFSKEY': 'f5',\n",
       " 'OBS-TIME': '2010-06-19T21:33:56'}"
      ]
     },
     "execution_count": 121,
     "metadata": {},
     "output_type": "execute_result"
    }
   ],
   "source": [
    "hdr"
   ]
  },
  {
   "cell_type": "code",
   "execution_count": null,
   "metadata": {},
   "outputs": [],
   "source": []
  }
 ],
 "metadata": {
  "kernelspec": {
   "display_name": "Python 3",
   "language": "python",
   "name": "python3"
  },
  "language_info": {
   "codemirror_mode": {
    "name": "ipython",
    "version": 3
   },
   "file_extension": ".py",
   "mimetype": "text/x-python",
   "name": "python",
   "nbconvert_exporter": "python",
   "pygments_lexer": "ipython3",
   "version": "3.6.5"
  }
 },
 "nbformat": 4,
 "nbformat_minor": 2
}
