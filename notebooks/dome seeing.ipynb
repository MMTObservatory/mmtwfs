{
 "cells": [
  {
   "cell_type": "code",
   "execution_count": 95,
   "metadata": {},
   "outputs": [],
   "source": [
    "import time\n",
    "from datetime import datetime\n",
    "import pytz\n",
    "import os\n",
    "import sys\n",
    "import numpy as np\n",
    "import matplotlib\n",
    "%matplotlib ipympl\n",
    "import matplotlib.pyplot as plt\n",
    "import pandas as pd\n",
    "from matplotlib import style\n",
    "\n",
    "style.use('ggplot')\n",
    "\n",
    "import multiprocessing\n",
    "from multiprocessing import Pool\n",
    "\n",
    "from pathlib import Path\n",
    "\n",
    "import photutils\n",
    "import astropy.units as u\n",
    "from astropy import stats\n",
    "from astropy.io import fits\n",
    "from astropy.table import Table, hstack, vstack\n",
    "\n",
    "from astropy.modeling.models import Gaussian2D, Polynomial2D, Moffat2D\n",
    "from astropy.modeling.fitting import LevMarLSQFitter\n",
    "\n",
    "from mmtwfs.wfs import *\n",
    "from mmtwfs.zernike import ZernikeVector\n",
    "from mmtwfs.telescope import MMT\n",
    "from mmtwfs.custom_exceptions import WFSAnalysisFailed\n",
    "\n",
    "tz = pytz.timezone(\"America/Phoenix\")"
   ]
  },
  {
   "cell_type": "code",
   "execution_count": 2,
   "metadata": {},
   "outputs": [],
   "source": [
    "%load_ext line_profiler\n",
    "%load_ext autoreload\n",
    "%autoreload 2"
   ]
  },
  {
   "cell_type": "code",
   "execution_count": 3,
   "metadata": {},
   "outputs": [],
   "source": [
    "hdr_keys = ['DATE-OBS', 'RA', 'DEC', 'AZ', 'EL', 'ROT', 'TEMP', 'FOCUS', 'CHAM_DPT', 'CHAM_T', 'OUT_T', 'WIND_W', 'WDIR_W', 'PRESSURE',\n",
    "            'EXPTIME', 'AIRMASS', 'OSSTEMP', 'TRANSX', 'TRANSY', 'TILTX', 'TILTY']\n",
    "f5_hdr_keys = ['DATEOBS', 'UT', 'RA', 'DEC', 'AZ', 'EL', 'ROT', 'FOCUS', 'T_OUT', 'T_CHAM', 'RH_OUT', 'RH_CHAM', 'P_BARO', 'EXPTIME', 'AIRMASS',\n",
    "               'WIND', 'WINDDIR', 'OSSTEMP', 'TRANSX', 'TRANSY', 'TILTX', 'TILTY']\n",
    "old_f9_keys = ['DATE-OBS', 'TIME-OBS', 'RA', 'DEC', 'AZ', 'EL', 'ROT', 'FOCUS', 'T_OUT', 'T_CHAM', 'RH_OUT', 'RH_CHAM', 'P_BARO', 'EXPTIME', 'AIRMASS',\n",
    "               'WIND', 'WINDDIR', 'OSSTEMP', 'TRANSX', 'TRANSY', 'TILTX', 'TILTY']"
   ]
  },
  {
   "cell_type": "code",
   "execution_count": 106,
   "metadata": {},
   "outputs": [],
   "source": [
    "def check_image(f, wfskey=None):\n",
    "    hdr = {}\n",
    "    with fits.open(f) as hdulist:\n",
    "        for h in hdulist:\n",
    "            hdr.update(h.header)\n",
    "        data = hdulist[-1].data\n",
    "    \n",
    "    # if wfskey is None, figure out which WFS from the header info...\n",
    "    if wfskey is None:\n",
    "        # check for MMIRS\n",
    "        if 'WFSNAME' in hdr:\n",
    "            if 'mmirs' in hdr['WFSNAME']:\n",
    "                wfskey = 'mmirs'\n",
    "        if 'mmirs' in f.name:\n",
    "            wfskey = 'mmirs'\n",
    "\n",
    "        # check for binospec\n",
    "        if 'bino' in f.name:\n",
    "            wfskey = 'binospec'\n",
    "        if 'ORIGIN' in hdr:\n",
    "            if 'Binospec' in hdr['ORIGIN']:\n",
    "                wfskey = 'binospec'\n",
    "\n",
    "        # check for new F/9\n",
    "        if 'f9wfs' in f.name:\n",
    "            wfskey = 'newf9'\n",
    "        if 'OBSERVER' in hdr:\n",
    "            if 'F/9 WFS' in hdr['OBSERVER']:\n",
    "                wfskey = 'newf9'\n",
    "        if wfskey is None and 'CAMERA' in hdr:\n",
    "            if 'F/9 WFS' in hdr['CAMERA']:\n",
    "                wfskey = 'newf9'\n",
    "\n",
    "        # check for old F/9\n",
    "        if 'INSTRUME' in hdr:\n",
    "            if 'Apogee' in hdr['INSTRUME']:\n",
    "                wfskey = 'oldf9'\n",
    "        if 'DETECTOR' in hdr:\n",
    "            if 'Apogee' in hdr['DETECTOR']:\n",
    "                wfskey = 'oldf9'\n",
    "\n",
    "        # check for F/5 (hecto)\n",
    "        if wfskey is None and 'SEC' in hdr:  # mmirs has SEC in header as well and is caught above\n",
    "            if 'F5' in hdr['SEC']:\n",
    "                wfskey = 'f5'\n",
    "        if Path(f.parent / \"F5\").exists():\n",
    "            wfskey = 'f5'\n",
    "            \n",
    "    if wfskey is None:\n",
    "        # if wfskey is still None at this point, whinge.\n",
    "        print(f\"Can't determine WFS for {f.name}...\")\n",
    "\n",
    "    if 'AIRMASS' not in hdr:\n",
    "        if 'SECZ' in hdr:\n",
    "            hdr['AIRMASS'] = hdr['SECZ']\n",
    "        else:\n",
    "            hdr['AIRMASS'] = np.nan\n",
    "\n",
    "    # we need to fix the headers in all cases to have a proper DATE-OBS entry with\n",
    "    # properly formatted FITS timestamp.  in the meantime, this hack gets us what we need \n",
    "    # for analysis in pandas.\n",
    "    dtime = None\n",
    "    if 'DATEOBS' in hdr:\n",
    "        dateobs = hdr['DATEOBS']\n",
    "        if 'UT' in hdr:\n",
    "            ut = hdr['UT']\n",
    "        elif 'TIME-OBS' in hdr:\n",
    "            ut = hdr['TIME-OBS']\n",
    "        else:\n",
    "            ut = \"07:00:00\"  # midnight\n",
    "        timestring = dateobs + \" \" + ut + \" UTC\"\n",
    "        if wfskey in ('newf9', 'f5'):\n",
    "            if '-' in timestring:\n",
    "                dtime = datetime.strptime(timestring, \"%Y-%m-%d %H:%M:%S %Z\")\n",
    "            else:\n",
    "                dtime = datetime.strptime(timestring, \"%a %b %d %Y %H:%M:%S %Z\")\n",
    "\n",
    "        else:\n",
    "            dtime = datetime.strptime(timestring, \"%Y-%m-%d %H:%M:%S %Z\")\n",
    "    else:\n",
    "        if wfskey == \"oldf9\":\n",
    "            d = hdr['DATE-OBS']\n",
    "            if '/' in d:\n",
    "                day, month, year = d.split('/')\n",
    "                year = str(int(year) + 1900)\n",
    "                timestring = year + \"-\" + month + \"-\" + day + \" \" + hdr['TIME-OBS'] + \" UTC\"\n",
    "            else:\n",
    "                timestring = d + \" \" + hdr['TIME-OBS'] + \" UTC\"\n",
    "            dtime = datetime.strptime(timestring, \"%Y-%m-%d %H:%M:%S %Z\")\n",
    "        else:\n",
    "            if 'DATE-OBS' in hdr:\n",
    "                timestring = hdr['DATE-OBS'] + \" UTC\"\n",
    "                try:\n",
    "                    dtime = datetime.strptime(timestring, \"%Y-%m-%dT%H:%M:%S.%f %Z\")\n",
    "                except:\n",
    "                    dtime = datetime.strptime(timestring, \"%Y-%m-%dT%H:%M:%S %Z\")\n",
    "            else:\n",
    "                dt = datetime.fromtimestamp(f.stat().st_ctime)\n",
    "                local_dt = tz.localize(dt)\n",
    "                dtime = local_dt.astimezone(pytz.utc)\n",
    "\n",
    "    if dtime is None:\n",
    "        print(f\"No valid timestamp in header for {f.name}...\")\n",
    "        obstime = None\n",
    "    else:\n",
    "        obstime = dtime.isoformat().replace('+00:00', '')\n",
    "        \n",
    "    hdr['WFSKEY'] = wfskey\n",
    "    hdr['OBS-TIME'] = obstime\n",
    "    return data, hdr"
   ]
  },
  {
   "cell_type": "code",
   "execution_count": 62,
   "metadata": {},
   "outputs": [],
   "source": [
    "findpars = {\n",
    "    \"oldf9\": {\"fwhm\": 8.0, \"thresh\": 5.0},\n",
    "    \"newf9\": {\"fwhm\": 12.0, \"thresh\": 7.0},\n",
    "    \"f5\": {\"fwhm\": 9.0, \"thresh\": 5.0},\n",
    "    \"mmirs\": {\"fwhm\": 7.0, \"thresh\": 5.0},\n",
    "    \"binospec\": {\"fwhm\": 7.0, \"thresh\": 5.0}\n",
    "}"
   ]
  },
  {
   "cell_type": "code",
   "execution_count": 6,
   "metadata": {},
   "outputs": [
    {
     "name": "stdout",
     "output_type": "stream",
     "text": [
      "/Volumes/LACIE SHARE/wfsdat\n"
     ]
    }
   ],
   "source": [
    "#%cd /Users/tim/MMT/wfsdat/20180209\n",
    "%cd /Volumes/LACIE\\ SHARE/wfsdat"
   ]
  },
  {
   "cell_type": "code",
   "execution_count": 6,
   "metadata": {},
   "outputs": [
    {
     "data": {
      "text/plain": [
       "((512, 512),\n",
       " {'SIMPLE': True,\n",
       "  'BITPIX': 16,\n",
       "  'NAXIS': 2,\n",
       "  'NAXIS1': 512,\n",
       "  'NAXIS2': 512,\n",
       "  'BZERO': 32768,\n",
       "  'BSCALE': 1,\n",
       "  'OFFSET1': 0,\n",
       "  'OFFSET2': 0,\n",
       "  'XFACTOR': 1,\n",
       "  'YFACTOR': 1,\n",
       "  'EXPTIME': 20,\n",
       "  'ORIGIN': 'Clear Sky Institute',\n",
       "  'TELESCOP': 'Engineering model',\n",
       "  'CDELT1': -0.0003444444444,\n",
       "  'CDELT2': -0.0003444444444,\n",
       "  'INSTRUME': 'Apogee CCD Camera',\n",
       "  'JD': 2452720.70917,\n",
       "  'DATE-OBS': '22/03/103',\n",
       "  'TIME-OBS': '05:01:12',\n",
       "  'FILTER': 'C',\n",
       "  'CAMTEMP': -19,\n",
       "  'AIRMASS': nan,\n",
       "  'WFSKEY': 'oldf9',\n",
       "  'OBS-TIME': '2003-03-22T05:01:12'})"
      ]
     },
     "execution_count": 6,
     "metadata": {},
     "output_type": "execute_result"
    }
   ],
   "source": [
    "file = Path(\"wfs_start_0188.fits\")\n",
    "data, hdr = check_image(file)\n",
    "data.shape, hdr"
   ]
  },
  {
   "cell_type": "code",
   "execution_count": 125,
   "metadata": {},
   "outputs": [],
   "source": [
    "def process_image(f, clobber=False):\n",
    "    tablefile = Path(str(f.parent / f.stem) + \".csv\")\n",
    "    if tablefile.exists() and not clobber:\n",
    "        print(f\"{f.name} already processed...\")\n",
    "        return\n",
    "    else:\n",
    "        print(f\"Processing {f.name}...\")\n",
    "\n",
    "    try:\n",
    "        data, hdr = check_image(f)\n",
    "        w = hdr['WFSKEY']\n",
    "        mean, median, stddev = stats.sigma_clipped_stats(data, sigma=3.0, iters=None)\n",
    "        data = data - median\n",
    "        spots, fig = wfsfind(data, fwhm=findpars[w]['fwhm'], threshold=findpars[w]['thresh'], plot=False)\n",
    "    except WFSAnalysisFailed as e:\n",
    "        try:\n",
    "            spots, fig = wfsfind(data, fwhm=2.*findpars[w]['fwhm'], threshold=findpars[w]['thresh'], plot=False)\n",
    "        except Exception as e:\n",
    "            print(f\"Failed to find spots for {str(Path(str(f.parent / f.stem)))}: {e}\")\n",
    "            return\n",
    "    except Exception as ee:\n",
    "        print(f\"Failure in data loading or spot finding in {str(Path(str(f.parent / f.stem)))}: {ee}\")\n",
    "        return      \n",
    "\n",
    "    apsize = 15.\n",
    "    apers = photutils.CircularAperture(\n",
    "            (spots['xcentroid'], spots['ycentroid']),\n",
    "            r=apsize\n",
    "    )\n",
    "    masks = apers.to_mask(method=\"subpixel\")\n",
    "    props = []\n",
    "    spot_lines = []\n",
    "    fit_lines = []\n",
    "    for m, s in zip(masks, spots):\n",
    "        tline = {}\n",
    "        subim = m.cutout(data)\n",
    "        try:\n",
    "            props_table = photutils.data_properties(subim).to_table()\n",
    "        except Exception as e:\n",
    "            print(f\"Can't measure source properties for {str(Path(str(f.parent / f.stem)))}: {e}\")\n",
    "            continue\n",
    "        moment_fwhm = 0.5 * (props_table['semimajor_axis_sigma'][0].value + props_table['semiminor_axis_sigma'][0].value) * stats.gaussian_sigma_to_fwhm\n",
    "        props.append(props_table)\n",
    "        spot_lines.append(s)\n",
    "        tline['filename'] = f.name\n",
    "        for k in hdr:\n",
    "            if 'COMMENT' not in k and k != '':\n",
    "                tline[k] = hdr[k]\n",
    "\n",
    "        y, x = np.mgrid[:subim.shape[0], :subim.shape[1]]\n",
    "        sigma = (props_table['semimajor_axis_sigma'][0].value + props_table['semiminor_axis_sigma'][0].value) / 2.\n",
    "\n",
    "        fitter = LevMarLSQFitter()\n",
    "        gauss_model = Gaussian2D(\n",
    "            amplitude=subim.max(),\n",
    "            x_mean=subim.shape[1]/2.,\n",
    "            y_mean=subim.shape[0]/2.,\n",
    "            x_stddev = sigma,\n",
    "            y_stddev = sigma\n",
    "        ) + Polynomial2D(degree=0)\n",
    "        moffat_model = Moffat2D(\n",
    "            amplitude=subim.max(),\n",
    "            x_0=subim.shape[1]/2.,\n",
    "            y_0=subim.shape[0]/2.,\n",
    "            gamma=sigma\n",
    "        ) + Polynomial2D(degree=0)\n",
    "        \n",
    "        try:\n",
    "            gauss_fit = fitter(gauss_model, x, y, subim)\n",
    "            gauss_resid = subim - gauss_fit(x, y)\n",
    "            gauss_fwhm = 0.5 * (gauss_fit.x_stddev_0.value + gauss_fit.y_stddev_0.value) * stats.gaussian_sigma_to_fwhm\n",
    "            tline['gauss_x'] = gauss_fit.x_mean_0.value\n",
    "            tline['gauss_y'] = gauss_fit.y_mean_0.value\n",
    "            tline['gauss_sigx'] = gauss_fit.x_stddev_0.value\n",
    "            tline['gauss_sigy'] = gauss_fit.y_stddev_0.value\n",
    "            tline['gauss_amplitude'] = gauss_fit.amplitude_0.value\n",
    "            tline['gauss_theta'] = gauss_fit.theta_0.value\n",
    "            tline['gauss_background'] = gauss_fit.c0_0_1.value\n",
    "            tline['gauss_rms'] = np.nanstd(gauss_resid)\n",
    "            tline['gauss_fwhm'] = gauss_fwhm\n",
    "        except Exception as e:\n",
    "            print(f\"Gaussian fit failed in {str(Path(str(f.parent / f.stem)))}: {e}\")\n",
    "            tline['gauss_x'] = np.nan\n",
    "            tline['gauss_y'] = np.nan\n",
    "            tline['gauss_sigx'] = np.nan\n",
    "            tline['gauss_sigy'] = np.nan\n",
    "            tline['gauss_amplitude'] = np.nan\n",
    "            tline['gauss_theta'] = np.nan\n",
    "            tline['gauss_background'] = np.nan\n",
    "            tline['gauss_rms'] = np.nan\n",
    "            tline['gauss_fwhm'] = np.nan\n",
    "            \n",
    "        try:\n",
    "            moffat_fit = fitter(moffat_model, x, y, subim)\n",
    "            moffat_resid = subim - moffat_fit(x, y)\n",
    "            gamma = moffat_fit.gamma_0.value\n",
    "            alpha = moffat_fit.alpha_0.value\n",
    "            moffat_fwhm = np.abs(2. * gamma * np.sqrt(2.**(1./alpha) - 1.))\n",
    "            tline['moffat_amplitude'] = moffat_fit.amplitude_0.value\n",
    "            tline['moffat_gamma'] = gamma\n",
    "            tline['moffat_alpha'] = alpha\n",
    "            tline['moffat_x'] = moffat_fit.x_0_0.value\n",
    "            tline['moffat_y'] = moffat_fit.y_0_0.value\n",
    "            tline['moffat_background'] = moffat_fit.c0_0_1.value\n",
    "            tline['moffat_rms'] = np.nanstd(moffat_resid)\n",
    "            tline['moment_fwhm'] = moment_fwhm\n",
    "            tline['moffat_fwhm'] = moffat_fwhm\n",
    "        except Exception as e:\n",
    "            print(f\"Moffat fit failed in {str(Path(str(f.parent / f.stem)))}: {e}\")\n",
    "            tline['moffat_amplitude'] = np.nan\n",
    "            tline['moffat_gamma'] = np.nan\n",
    "            tline['moffat_alpha'] = np.nan\n",
    "            tline['moffat_x'] = np.nan\n",
    "            tline['moffat_y'] = np.nan\n",
    "            tline['moffat_background'] = np.nan\n",
    "            tline['moffat_rms'] = np.nan\n",
    "            tline['moment_fwhm'] = np.nan\n",
    "            tline['moffat_fwhm'] = np.nan\n",
    "        fit_lines.append(tline)\n",
    "        \n",
    "    fit_table = Table(fit_lines)\n",
    "    spot_table = Table(vstack(spot_lines))\n",
    "    prop_table = Table(vstack(props))\n",
    "    t = hstack([spot_table, prop_table, fit_table])\n",
    "    try:\n",
    "        if tablefile.exists():\n",
    "            if clobber:\n",
    "                t.write(tablefile, format=\"csv\")\n",
    "        else:\n",
    "            t.write(tablefile, format=\"csv\")\n",
    "    except Exception as e:\n",
    "        print(f\"Failed to write {str(tablefile)}: {e}\")\n",
    "    return t"
   ]
  },
  {
   "cell_type": "code",
   "execution_count": 37,
   "metadata": {},
   "outputs": [
    {
     "name": "stdout",
     "output_type": "stream",
     "text": [
      "Processing wfs_start_0188.fits...\n"
     ]
    },
    {
     "name": "stderr",
     "output_type": "stream",
     "text": [
      "WARNING: The fit may be unsuccessful; check fit_info['message'] for more information. [astropy.modeling.fitting]\n"
     ]
    }
   ],
   "source": [
    "process_image(file, clobber=True)"
   ]
  },
  {
   "cell_type": "code",
   "execution_count": 93,
   "metadata": {},
   "outputs": [
    {
     "data": {
      "application/vnd.jupyter.widget-view+json": {
       "model_id": "c94932896be8433fa982b2be779e0649",
       "version_major": 2,
       "version_minor": 0
      },
      "text/plain": [
       "FigureCanvasNbAgg()"
      ]
     },
     "metadata": {},
     "output_type": "display_data"
    },
    {
     "data": {
      "application/vnd.jupyter.widget-view+json": {
       "model_id": "e0f1a42182cb426591a933985997eb10",
       "version_major": 2,
       "version_minor": 0
      },
      "text/plain": [
       "FigureCanvasNbAgg()"
      ]
     },
     "metadata": {},
     "output_type": "display_data"
    }
   ],
   "source": [
    "t.hist(column='gauss_fwhm', bins=50, range=(0,10), alpha=0.6)\n",
    "t.hist(column='moffat_fwhm', bins=50, range=(0,10), alpha=0.6)\n",
    "plt.show()"
   ]
  },
  {
   "cell_type": "code",
   "execution_count": 86,
   "metadata": {},
   "outputs": [
    {
     "data": {
      "text/plain": [
       "(495.81356566699588, 398.06243108166296)"
      ]
     },
     "execution_count": 86,
     "metadata": {},
     "output_type": "execute_result"
    }
   ],
   "source": [
    "t['gauss_background'].mean(), t['moffat_background'].mean()"
   ]
  },
  {
   "cell_type": "code",
   "execution_count": 87,
   "metadata": {},
   "outputs": [
    {
     "data": {
      "application/vnd.jupyter.widget-view+json": {
       "model_id": "",
       "version_major": 2,
       "version_minor": 0
      },
      "text/plain": [
       "FigureCanvasNbAgg()"
      ]
     },
     "metadata": {},
     "output_type": "display_data"
    },
    {
     "data": {
      "text/plain": [
       "array([[<matplotlib.axes._subplots.AxesSubplot object at 0x1c217115f8>]], dtype=object)"
      ]
     },
     "execution_count": 87,
     "metadata": {},
     "output_type": "execute_result"
    }
   ],
   "source": [
    "t.hist(column='ellipticity', bins=50, range=(0,1.0), alpha=0.6)"
   ]
  },
  {
   "cell_type": "code",
   "execution_count": 97,
   "metadata": {},
   "outputs": [
    {
     "data": {
      "text/plain": [
       "0.015914200328812602"
      ]
     },
     "execution_count": 97,
     "metadata": {},
     "output_type": "execute_result"
    }
   ],
   "source": [
    "(t['moffat_rms']/t['moffat_amplitude']).mean()"
   ]
  },
  {
   "cell_type": "code",
   "execution_count": 91,
   "metadata": {},
   "outputs": [
    {
     "data": {
      "application/vnd.jupyter.widget-view+json": {
       "model_id": "4c77b72503484a60abb915f7268cdd17",
       "version_major": 2,
       "version_minor": 0
      },
      "text/plain": [
       "FigureCanvasNbAgg()"
      ]
     },
     "metadata": {},
     "output_type": "display_data"
    }
   ],
   "source": [
    "%matplotlib ipympl\n",
    "plt.imshow(gauss_resids[100])\n",
    "plt.show()"
   ]
  },
  {
   "cell_type": "code",
   "execution_count": 22,
   "metadata": {},
   "outputs": [],
   "source": [
    "#%matplotlib ipympl\n",
    "plt.imshow(moffat_resids[10])\n",
    "plt.show()"
   ]
  },
  {
   "cell_type": "code",
   "execution_count": 35,
   "metadata": {},
   "outputs": [
    {
     "name": "stderr",
     "output_type": "stream",
     "text": [
      "WARNING: The fit may be unsuccessful; check fit_info['message'] for more information. [astropy.modeling.fitting]\n"
     ]
    },
    {
     "data": {
      "text/plain": [
       "Timer unit: 1e-06 s\n",
       "\n",
       "Total time: 29.8775 s\n",
       "File: <ipython-input-33-bb5c1b33ae24>\n",
       "Function: process_image at line 1\n",
       "\n",
       "Line #      Hits         Time  Per Hit   % Time  Line Contents\n",
       "==============================================================\n",
       "     1                                           def process_image(f, clobber=False):\n",
       "     2         1         91.0     91.0      0.0      tablefile = Path(f.stem + \".csv\")\n",
       "     3         1         90.0     90.0      0.0      if tablefile.exists() and not clobber:\n",
       "     4                                                   print(f\"{file.name} already processed...\")\n",
       "     5                                                   return\n",
       "     6                                           \n",
       "     7         1     150092.0 150092.0      0.5      data, hdr = check_image(file)\n",
       "     8         1     510791.0 510791.0      1.7      mean, median, stddev = stats.sigma_clipped_stats(data, sigma=3.0, iters=None)\n",
       "     9         1        272.0    272.0      0.0      data = data - median\n",
       "    10         1     322845.0 322845.0      1.1      spots, fig = wfsfind(data, plot=False)\n",
       "    11                                           \n",
       "    12         1          2.0      2.0      0.0      apsize = 12.\n",
       "    13         1          3.0      3.0      0.0      apers = photutils.CircularAperture(\n",
       "    14         1          9.0      9.0      0.0              (spots['xcentroid'], spots['ycentroid']),\n",
       "    15         1         36.0     36.0      0.0              r=apsize\n",
       "    16                                               )\n",
       "    17         1       6308.0   6308.0      0.0      masks = apers.to_mask(method=\"subpixel\")\n",
       "    18                                           \n",
       "    19         1          2.0      2.0      0.0      props = []\n",
       "    20         1          1.0      1.0      0.0      spot_lines = []\n",
       "    21         1          2.0      2.0      0.0      fit_lines = []\n",
       "    22       144       4301.0     29.9      0.0      for m, s in zip(masks, spots):\n",
       "    23       143        208.0      1.5      0.0          tline = {}\n",
       "    24       143       2024.0     14.2      0.0          subim = m.cutout(data)\n",
       "    25       143    6826979.0  47741.1     22.8          props_table = photutils.data_properties(subim).to_table()\n",
       "    26       143        469.0      3.3      0.0          props.append(props_table)\n",
       "    27       143        246.0      1.7      0.0          spot_lines.append(s)\n",
       "    28       143       1037.0      7.3      0.0          tline['filename'] = file.name\n",
       "    29      3718       5025.0      1.4      0.0          for k in hdr:\n",
       "    30      3575       5037.0      1.4      0.0              tline[k] = hdr[k]\n",
       "    31                                           \n",
       "    32       143      11583.0     81.0      0.0          y, x = np.mgrid[:subim.shape[0], :subim.shape[1]]\n",
       "    33       143      24912.0    174.2      0.1          sigma = (props_table['semimajor_axis_sigma'][0].value + props_table['semiminor_axis_sigma'][0].value) / 2.\n",
       "    34                                           \n",
       "    35       143       1781.0     12.5      0.0          fitter = LevMarLSQFitter()\n",
       "    36       143        231.0      1.6      0.0          gauss_model = Gaussian2D(\n",
       "    37       143       2499.0     17.5      0.0              amplitude=subim.max(),\n",
       "    38       143        298.0      2.1      0.0              x_mean=subim.shape[1]/2.,\n",
       "    39       143        201.0      1.4      0.0              y_mean=subim.shape[0]/2.,\n",
       "    40       143        163.0      1.1      0.0              x_stddev = sigma,\n",
       "    41       143      72432.0    506.5      0.2              y_stddev = sigma\n",
       "    42       143    1780906.0  12453.9      6.0          ) + Polynomial2D(degree=0)\n",
       "    43       143        390.0      2.7      0.0          moffat_model = Moffat2D(\n",
       "    44       143       3219.0     22.5      0.0              amplitude=subim.max(),\n",
       "    45       143        389.0      2.7      0.0              x_0=subim.shape[1]/2.,\n",
       "    46       143        207.0      1.4      0.0              y_0=subim.shape[0]/2.,\n",
       "    47       143      59945.0    419.2      0.2              gamma=sigma\n",
       "    48       143    1690133.0  11819.1      5.7          ) + Polynomial2D(degree=0)\n",
       "    49       143    7916453.0  55359.8     26.5          gauss_fit = fitter(gauss_model, x, y, subim)\n",
       "    50       143    7933402.0  55478.3     26.6          moffat_fit = fitter(moffat_model, x, y, subim)\n",
       "    51                                           \n",
       "    52       143     108862.0    761.3      0.4          gauss_resid = subim - gauss_fit(x, y)\n",
       "    53       143      94758.0    662.6      0.3          moffat_resid = subim - moffat_fit(x, y)\n",
       "    54                                           \n",
       "    55       143       2234.0     15.6      0.0          gamma = moffat_fit.gamma_0.value\n",
       "    56       143       1563.0     10.9      0.0          alpha = moffat_fit.alpha_0.value\n",
       "    57       143       1598.0     11.2      0.0          moffat_fwhm = np.abs(2. * gamma * np.sqrt(2.**(1./alpha) - 1.))\n",
       "    58       143       3076.0     21.5      0.0          gauss_fwhm = 0.5 * (gauss_fit.x_stddev_0.value + gauss_fit.y_stddev_0.value) * stats.gaussian_sigma_to_fwhm\n",
       "    59       143      30136.0    210.7      0.1          moment_fwhm = 0.5 * (props_table['semimajor_axis_sigma'][0].value + props_table['semiminor_axis_sigma'][0].value) * stats.gaussian_sigma_to_fwhm\n",
       "    60                                           \n",
       "    61       143       2004.0     14.0      0.0          tline['gauss_x'] = gauss_fit.x_mean_0.value\n",
       "    62       143       1445.0     10.1      0.0          tline['gauss_y'] = gauss_fit.y_mean_0.value\n",
       "    63       143       1341.0      9.4      0.0          tline['gauss_sigx'] = gauss_fit.x_stddev_0.value\n",
       "    64       143       1306.0      9.1      0.0          tline['gauss_sigy'] = gauss_fit.y_stddev_0.value\n",
       "    65       143       1349.0      9.4      0.0          tline['gauss_amplitude'] = gauss_fit.amplitude_0.value\n",
       "    66       143       1325.0      9.3      0.0          tline['gauss_theta'] = gauss_fit.theta_0.value\n",
       "    67       143       1332.0      9.3      0.0          tline['gauss_background'] = gauss_fit.c0_0_1.value\n",
       "    68       143      25805.0    180.5      0.1          tline['gauss_rms'] = np.nanstd(gauss_resid)\n",
       "    69       143       2035.0     14.2      0.0          tline['moffat_amplitude'] = moffat_fit.amplitude_0.value\n",
       "    70       143        215.0      1.5      0.0          tline['moffat_gamma'] = gamma\n",
       "    71       143        184.0      1.3      0.0          tline['moffat_alpha'] = alpha\n",
       "    72       143       1436.0     10.0      0.0          tline['moffat_x'] = moffat_fit.x_0_0.value\n",
       "    73       143       1324.0      9.3      0.0          tline['moffat_y'] = moffat_fit.y_0_0.value\n",
       "    74       143       1311.0      9.2      0.0          tline['moffat_background'] = moffat_fit.c0_0_1.value\n",
       "    75       143      20145.0    140.9      0.1          tline['moffat_rms'] = np.nanstd(moffat_resid)\n",
       "    76       143        240.0      1.7      0.0          tline['moment_fwhm'] = moment_fwhm\n",
       "    77       143        421.0      2.9      0.0          tline['gauss_fwhm'] = gauss_fwhm\n",
       "    78       143        190.0      1.3      0.0          tline['moffat_fwhm'] = moffat_fwhm\n",
       "    79       143        282.0      2.0      0.0          fit_lines.append(tline)\n",
       "    80         1      14581.0  14581.0      0.0      fit_table = Table(fit_lines)\n",
       "    81         1     743586.0 743586.0      2.5      spot_table = Table(vstack(spot_lines))\n",
       "    82         1     894647.0 894647.0      3.0      prop_table = Table(vstack(props))\n",
       "    83         1     163437.0 163437.0      0.5      t = hstack([spot_table, prop_table, fit_table])\n",
       "    84         1         33.0     33.0      0.0      if tablefile.exists():\n",
       "    85                                                   if clobber:\n",
       "    86                                                       t.write(tablefile, format=\"csv\")\n",
       "    87                                               else:\n",
       "    88         1     420272.0 420272.0      1.4          t.write(tablefile, format=\"csv\")"
      ]
     },
     "metadata": {},
     "output_type": "display_data"
    }
   ],
   "source": [
    "%lprun -f process_image process_image(file)"
   ]
  },
  {
   "cell_type": "code",
   "execution_count": 129,
   "metadata": {},
   "outputs": [],
   "source": [
    "rootdir = Path(\"/Volumes/LACIE SHARE/wfsdat\")\n",
    "dirs = sorted(list(rootdir.glob(\"200312*\")))"
   ]
  },
  {
   "cell_type": "code",
   "execution_count": 130,
   "metadata": {},
   "outputs": [
    {
     "name": "stdout",
     "output_type": "stream",
     "text": [
      "Working in 20031205...\n",
      "Processing test.fits...\n",
      "Can't determine WFS for test.fits...\n",
      "Failure in data loading or spot finding in /Volumes/LACIE SHARE/wfsdat/20031205/test: None\n",
      "Working in 20031206...\n",
      "Processing elcoll_el30_0004.fits...\n",
      "Processing elcoll_el20_coll2_0000.fits...\n",
      "Processing elcoll_el35_0004.fits...\n",
      "Processing back.fits...\n",
      "Processing elcoll_el25_0002.fits...\n",
      "Processing elcoll_el40_0002.fits...\n",
      "Processing elcoll_el45_0002.fits...\n",
      "Processing elcoll_el50_0002.fits...\n"
     ]
    },
    {
     "name": "stderr",
     "output_type": "stream",
     "text": [
      "WARNING: No sources were found. [photutils.detection.findstars]\n",
      "WARNING: The fit may be unsuccessful; check fit_info['message'] for more information. [astropy.modeling.fitting]\n",
      "WARNING: The fit may be unsuccessful; check fit_info['message'] for more information. [astropy.modeling.fitting]\n",
      "WARNING: The fit may be unsuccessful; check fit_info['message'] for more information. [astropy.modeling.fitting]\n",
      "WARNING: The fit may be unsuccessful; check fit_info['message'] for more information. [astropy.modeling.fitting]\n",
      "WARNING: The fit may be unsuccessful; check fit_info['message'] for more information. [astropy.modeling.fitting]\n",
      "WARNING: The fit may be unsuccessful; check fit_info['message'] for more information. [astropy.modeling.fitting]\n"
     ]
    },
    {
     "name": "stdout",
     "output_type": "stream",
     "text": [
      "Processing center_0000.fits...\n"
     ]
    },
    {
     "name": "stderr",
     "output_type": "stream",
     "text": [
      "WARNING: The fit may be unsuccessful; check fit_info['message'] for more information. [astropy.modeling.fitting]\n",
      "WARNING: The fit may be unsuccessful; check fit_info['message'] for more information. [astropy.modeling.fitting]\n"
     ]
    },
    {
     "name": "stdout",
     "output_type": "stream",
     "text": [
      "Processing elcoll_el35_0005.fits...\n",
      "Processing elcoll_el25_coll_0000.fits...\n",
      "Processing elcoll_el45_0003.fits...\n",
      "Processing elcoll_el20_coll2_0001.fits...\n",
      "Processing elcoll_el50_0003.fits...\n",
      "Processing elcoll_el40_0003.fits...\n",
      "Processing elcoll_el30_coll_0000.fits...\n",
      "Processing elcoll_el20_0000.fits...\n",
      "Processing elcoll_el35_coll_0000.fits...\n",
      "Processing elcoll_el30_0000.fits...\n",
      "Processing elcoll_el45_0004.fits...\n",
      "Processing elcoll_el20_coll2_0002.fits...\n",
      "Processing elcoll_el50_0004.fits...\n",
      "Processing elcoll_el40_0004.fits...\n",
      "Processing elcoll_el20_0001.fits...\n",
      "Processing elcoll_el35_0000.fits...\n",
      "Processing elcoll_el35_0001.fits...\n",
      "Processing elcoll_el35_0002.fits...\n",
      "Processing elcoll_el35_coll_0001.fits...\n",
      "Processing elcoll_el45_coll_0000.fits...\n",
      "Processing elcoll_el20_coll_0000.fits...\n",
      "Processing elcoll_el20_0002.fits...\n",
      "Processing elcoll_el30_0001.fits...\n",
      "Processing elcoll_el50_coll_0000.fits...\n",
      "Processing elcoll_el40_coll_0000.fits...\n",
      "Processing elcoll_el35_0003.fits...\n",
      "Processing elcoll_el40_0000.fits...\n",
      "Processing elcoll_el25_0000.fits...\n",
      "Processing elcoll_el50_0000.fits...\n",
      "Processing elcoll_el20_0003.fits...\n",
      "Processing elcoll_el55_0000.fits...\n",
      "Processing elcoll_el30_0002.fits...\n",
      "Processing elcoll_el45_0000.fits...\n",
      "Processing elcoll_el55_0002.fits...\n",
      "Processing elcoll_el40_0001.fits...\n",
      "Processing elcoll_el25_0001.fits...\n",
      "Processing elcoll_el60_0002.fits...\n",
      "Processing elcoll_el50_0001.fits...\n",
      "Processing elcoll_el55_0001.fits...\n",
      "Processing elcoll_el45_0001.fits...\n",
      "Processing elcoll_el30_0003.fits...\n",
      "Processing elcoll_el55_0003.fits...\n",
      "Processing elcoll_el65_0003.fits...\n",
      "Processing elcoll_el70_coll2_0000.fits...\n",
      "Processing elcoll_el60_0003.fits...\n",
      "Processing elcoll_el70_coll_0000.fits...\n",
      "Processing elcoll_el75_0003.fits...\n",
      "Processing elcoll_el75_2_coll_0000.fits...\n",
      "Processing elcoll_el85_two_0002.fits...\n",
      "Processing elcoll_el55_0004.fits...\n",
      "Processing elcoll_el65_0004.fits...\n",
      "Processing elcoll_el70_coll2_0001.fits...\n",
      "Processing elcoll_el60_coll_0000.fits...\n",
      "Processing elcoll_el70_coll_0001.fits...\n",
      "Processing elcoll_el75_0004.fits...\n",
      "Processing elcoll_el75_2_coll_0001.fits...\n",
      "Processing elcoll_el85_two_0003.fits...\n",
      "Processing elcoll_el55_coll_0000.fits...\n",
      "Processing elcoll_el70_coll2_0002.fits...\n",
      "Processing elcoll_el65_coll_0000.fits...\n",
      "Processing elcoll_el65_0000.fits...\n",
      "Processing elcoll_el70_coll_0002.fits...\n",
      "Processing elcoll_el75_2_0000.fits...\n",
      "Processing elcoll_el75_2_coll_0002.fits...\n",
      "Processing elcoll_el85_two_0004.fits...\n",
      "Processing elcoll_el60_0000.fits...\n",
      "Processing elcoll_el70_coll2_0003.fits...\n",
      "Processing elcoll_el70_0000.fits...\n",
      "Processing elcoll_el65_0001.fits...\n",
      "Processing elcoll_el75_0000.fits...\n",
      "Processing elcoll_el75_2coll_0000.fits...\n",
      "Processing elcoll_el75_2_0001.fits...\n",
      "Processing elcoll_el85_two_0005.fits...\n",
      "Processing elcoll_el60_0001.fits...\n",
      "Processing elcoll_el70_coll2_0004.fits...\n",
      "Processing elcoll_el65_0002.fits...\n",
      "Processing elcoll_el70_0001.fits...\n",
      "Processing elcoll_el75_0001.fits...\n",
      "Processing elcoll_el75_2_0002.fits...\n",
      "Processing elcoll_el85_two_0000.fits...\n",
      "Processing elcoll_el85_two_0006.fits...\n",
      "Processing elcoll_el85_two_coll_0000.fits...\n",
      "Processing elcoll_el70_coll2_0005.fits...\n",
      "Processing elcoll_start_corr3_0002.fits...\n",
      "Processing elcoll_el70_0002.fits...\n",
      "Processing elcoll_el75_2_0003.fits...\n",
      "Processing elcoll_el85_two_0001.fits...\n",
      "Processing elcoll_el75_0002.fits...\n",
      "Processing elcoll_el85_two_0007.fits...\n",
      "Processing elcoll_start_corr2_0000.fits...\n",
      "Processing elcoll_start_corr_0002.fits...\n",
      "Processing elcoll_start_corr4_0000.fits...\n",
      "Processing forcetest_AST0_p1000_0001.fits...\n",
      "Processing forcetest_SPH3_m400_0000.fits...\n",
      "Processing forcetest_SPH3_p200_0000.fits...\n",
      "Processing forcetest_TREX_p1000_0000.fits...\n",
      "Processing forcetest_TREX_p500_0000.fits...\n",
      "Processing elcoll_start_corr2_0001.fits...\n",
      "Processing forcetest_AST0_m1000_0000.fits...\n",
      "Processing elcoll_start_corr4_0001.fits...\n",
      "Processing forcetest_AST0_p1000_0002.fits...\n",
      "Processing forcetest_SPH3_m400_0001.fits...\n",
      "Processing forcetest_SPH3_p200_0001.fits...\n",
      "Processing forcetest_TREX_p1000_0001.fits...\n",
      "Processing forcetest_TREX_p500_0001.fits...\n",
      "Processing elcoll_start_corr2_0002.fits...\n",
      "Processing forcetest_AST0_m1000_0001.fits...\n",
      "Processing elcoll_start_corr4_0002.fits...\n",
      "Processing forcetest_AST0_p1000_reclear_0000.fits...\n",
      "Processing forcetest_SPH3_m400_0002.fits...\n",
      "Processing forcetest_SPH3_p200_0002.fits...\n",
      "Processing forcetest_TREX_p500_0002.fits...\n",
      "Processing forcetest_TREX_p1000_0002.fits...\n",
      "Processing elcoll_start_corr3_0000.fits...\n",
      "Processing forcetest_AST0_m1000_0002.fits...\n",
      "Processing elcoll_start_corr_0000.fits...\n",
      "Processing forcetest_SPH3_m200_0000.fits...\n",
      "Processing forcetest_SPH3_m400_reclear_0000.fits...\n",
      "Processing forcetest_SPH3_p200_reclear_0000.fits...\n",
      "Processing forcetest_TREX_p1000_reclear_0000.fits...\n",
      "Processing forcetest_TREY_m1000_0000.fits...\n",
      "Processing elcoll_start_corr3_0001.fits...\n",
      "Processing forcetest_AST0_m1000_reclear_0000.fits...\n",
      "Processing elcoll_start_corr_0001.fits...\n",
      "Processing forcetest_SPH3_m200_0001.fits...\n",
      "Processing forcetest_SPH3_m400_reclear_0001.fits...\n",
      "Processing forcetest_SPH3_p200_reclear_0001.fits...\n",
      "Processing forcetest_TREY_m1000_0001.fits...\n",
      "Processing forcetest_TREX_p1000_reclear_0001.fits...\n",
      "Processing forcetest_TREY_m1000_reclear_0000.fits...\n",
      "Processing forcetest_AST0_p1000_0000.fits...\n",
      "Processing forcetest_TREY_p1000_0000.fits...\n",
      "Processing forcetest_SPH3_m200_0002.fits...\n",
      "Processing forcetest_SPH3_m400_reclear_0002.fits...\n",
      "Processing forcetest_SPH3_p200_reclear_0002.fits...\n",
      "Processing forcetest_TREY_m1000_0002.fits...\n",
      "Processing forcetest_TREX_p1000_reclear_0002.fits...\n",
      "Processing forcetest_TREY_m1000_reclear_0001.fits...\n",
      "Processing forcetest_TREY_p500_0000.fits...\n",
      "Processing forcetest_TREY_p1000_0001.fits...\n",
      "Processing forcetest_start_0000.fits...\n",
      "Processing start_0001.fits...\n",
      "Processing start_0007.fits...\n",
      "Processing start_0013.fits...\n",
      "Processing forcetest_TREY_m1000_reclear_0002.fits...\n",
      "Processing forcetest_TREY_p500_0001.fits...\n",
      "Processing start_0002.fits...\n",
      "Processing forcetest_TREY_p1000_0002.fits...\n",
      "Processing start_0008.fits...\n",
      "Processing forcetest_start_0001.fits...\n",
      "Processing start_0014.fits...\n",
      "Processing forcetest_TREY_m500_0000.fits...\n",
      "Processing start_0003.fits...\n",
      "Processing forcetest_TREY_p500_0002.fits...\n",
      "Processing start_0009.fits...\n",
      "Processing forcetest_TREY_p1000_reclear_0000.fits...\n",
      "Processing forcetest_start_0002.fits...\n",
      "Processing test.fits...\n",
      "Processing forcetest_TREY_m500_0001.fits...\n",
      "Processing start_0004.fits...\n",
      "Processing forcetest_coll_0000.fits...\n",
      "Processing start_0010.fits...\n",
      "Processing forcetest_TREY_p1000_reclear_0001.fits...\n",
      "Processing move5plusaz_0000.fits...\n",
      "Processing forcetest_TREY_m500_0002.fits...\n",
      "Processing start_0005.fits...\n",
      "Processing forcetest_coll_0001.fits...\n",
      "Processing start_0011.fits...\n",
      "Processing forcetest_TREY_p1000_reclear_0002.fits...\n",
      "Processing move5plusel_0000.fits...\n",
      "Processing start_0006.fits...\n",
      "Processing forcetest_coll_0002.fits...\n",
      "Processing start_0000.fits...\n",
      "Processing start_0012.fits...\n",
      "Working in 20031207...\n",
      "Processing mid_0000.fits...\n",
      "Processing mid_0004.fits...\n",
      "Processing mid_0003.fits...\n",
      "Processing mid_0002.fits...\n",
      "Processing mid_0001.fits...\n",
      "Processing mid_0006.fits...\n",
      "Processing mid_0005.fits...\n",
      "Processing mid_0007.fits...\n"
     ]
    },
    {
     "name": "stderr",
     "output_type": "stream",
     "text": [
      "WARNING: The fit may be unsuccessful; check fit_info['message'] for more information. [astropy.modeling.fitting]\n",
      "WARNING: The fit may be unsuccessful; check fit_info['message'] for more information. [astropy.modeling.fitting]\n",
      "WARNING: The fit may be unsuccessful; check fit_info['message'] for more information. [astropy.modeling.fitting]\n",
      "WARNING: The fit may be unsuccessful; check fit_info['message'] for more information. [astropy.modeling.fitting]\n",
      "WARNING: The fit may be unsuccessful; check fit_info['message'] for more information. [astropy.modeling.fitting]\n",
      "WARNING: The fit may be unsuccessful; check fit_info['message'] for more information. [astropy.modeling.fitting]\n",
      "WARNING: The fit may be unsuccessful; check fit_info['message'] for more information. [astropy.modeling.fitting]\n",
      "WARNING: The fit may be unsuccessful; check fit_info['message'] for more information. [astropy.modeling.fitting]\n"
     ]
    },
    {
     "name": "stdout",
     "output_type": "stream",
     "text": [
      "Processing mid_0008.fits...\n",
      "Processing mid_0009.fits...\n",
      "Processing mid_0010.fits...\n",
      "Processing start_0000.fits...\n",
      "Processing start_0001.fits...\n",
      "Processing start_0002.fits...\n",
      "Processing start_0003.fits...\n",
      "Processing start_0004.fits...\n",
      "Processing test.fits...\n",
      "Working in 20031210...\n",
      "Processing back.fits...\n",
      "Processing start_0014.fits...\n",
      "Processing start_0002.fits...\n",
      "Processing start_0008.fits...\n",
      "Processing start_0011.fits...\n",
      "Processing start_0005.fits...\n",
      "Processing start_0017.fits...\n",
      "Processing start_0020.fits...\n"
     ]
    },
    {
     "name": "stderr",
     "output_type": "stream",
     "text": [
      "WARNING: No sources were found. [photutils.detection.findstars]\n",
      "WARNING: The fit may be unsuccessful; check fit_info['message'] for more information. [astropy.modeling.fitting]\n",
      "WARNING: The fit may be unsuccessful; check fit_info['message'] for more information. [astropy.modeling.fitting]\n",
      "WARNING: The fit may be unsuccessful; check fit_info['message'] for more information. [astropy.modeling.fitting]\n",
      "WARNING: The fit may be unsuccessful; check fit_info['message'] for more information. [astropy.modeling.fitting]\n"
     ]
    },
    {
     "name": "stdout",
     "output_type": "stream",
     "text": [
      "Processing start_0000.fits...\n"
     ]
    },
    {
     "name": "stderr",
     "output_type": "stream",
     "text": [
      "WARNING: The fit may be unsuccessful; check fit_info['message'] for more information. [astropy.modeling.fitting]\n",
      "WARNING: The fit may be unsuccessful; check fit_info['message'] for more information. [astropy.modeling.fitting]\n",
      "WARNING: The fit may be unsuccessful; check fit_info['message'] for more information. [astropy.modeling.fitting]\n",
      "WARNING: The fit may be unsuccessful; check fit_info['message'] for more information. [astropy.modeling.fitting]\n"
     ]
    },
    {
     "name": "stdout",
     "output_type": "stream",
     "text": [
      "Processing start_0003.fits...\n",
      "Processing start_0009.fits...\n",
      "Processing start_0021.fits...\n",
      "Processing start_0015.fits...\n",
      "Processing start_0006.fits...\n",
      "Processing start_0018.fits...\n",
      "Processing start_0001.fits...\n",
      "Processing start_0012.fits...\n",
      "Processing start_0016.fits...\n",
      "Processing start_0007.fits...\n",
      "Processing start_0010.fits...\n",
      "Processing start_0004.fits...\n",
      "Processing start_0022.fits...\n",
      "Processing start_0023.fits...\n",
      "Processing start_0019.fits...\n",
      "Processing start_0024.fits...\n",
      "Processing start_0013.fits...\n",
      "Processing start_0026.fits...\n",
      "Processing start_0029.fits...\n",
      "Processing start_0032.fits...\n",
      "Processing start_0035.fits...\n",
      "Processing start_0038.fits...\n",
      "Processing start_0041.fits...\n",
      "Processing start_0025.fits...\n",
      "Processing start_0044.fits...\n",
      "Processing start_0042.fits...\n",
      "Processing start_0027.fits...\n",
      "Processing start_0045.fits...\n",
      "Processing start_0030.fits...\n",
      "Processing start_0039.fits...\n",
      "Processing start_0033.fits...\n",
      "Processing start_0036.fits...\n",
      "Processing start_0046.fits...\n",
      "Processing start_0043.fits...\n",
      "Processing start_0047.fits...\n",
      "Processing start_0040.fits...\n",
      "Processing start_0050.fits...\n",
      "Processing start_0028.fits...\n",
      "Processing start_0037.fits...\n",
      "Processing start_0053.fits...\n",
      "Processing start_0048.fits...\n",
      "Processing start_0031.fits...\n",
      "Processing start_0034.fits...\n",
      "Processing start_0056.fits...\n",
      "Processing start_0049.fits...\n",
      "Processing start_0051.fits...\n",
      "Processing start_0059.fits...\n",
      "Processing start_0062.fits...\n",
      "Processing start_0054.fits...\n",
      "Processing start_0065.fits...\n",
      "Processing start_0068.fits...\n",
      "Processing start_0071.fits...\n",
      "Processing start_0057.fits...\n",
      "Processing start_0052.fits...\n",
      "Processing start_0063.fits...\n",
      "Processing start_0060.fits...\n",
      "Processing start_0055.fits...\n",
      "Processing start_0069.fits...\n",
      "Processing start_0066.fits...\n",
      "Processing start_0072.fits...\n",
      "Processing test.fits...\n",
      "Processing start_0058.fits...\n",
      "Processing start_0061.fits...\n",
      "Processing start_0064.fits...\n",
      "Processing start_0070.fits...\n",
      "Processing start_0067.fits...\n",
      "Processing start_0073.fits...\n",
      "Working in 20031211...\n",
      "Processing start_0001.fits...\n",
      "Processing start_0005.fits...\n",
      "Processing start_0007.fits...\n",
      "Processing start_0003.fits...\n",
      "Processing back.fits...\n",
      "Processing start_0009.fits...\n",
      "Processing start_0011.fits...\n",
      "Processing start_0013.fits...\n"
     ]
    },
    {
     "name": "stderr",
     "output_type": "stream",
     "text": [
      "WARNING: The fit may be unsuccessful; check fit_info['message'] for more information. [astropy.modeling.fitting]\n",
      "WARNING: The fit may be unsuccessful; check fit_info['message'] for more information. [astropy.modeling.fitting]\n",
      "WARNING: The fit may be unsuccessful; check fit_info['message'] for more information. [astropy.modeling.fitting]\n",
      "WARNING: The fit may be unsuccessful; check fit_info['message'] for more information. [astropy.modeling.fitting]\n"
     ]
    },
    {
     "name": "stdout",
     "output_type": "stream",
     "text": [
      "Processing start_0000.fits...\n"
     ]
    },
    {
     "name": "stderr",
     "output_type": "stream",
     "text": [
      "WARNING: The fit may be unsuccessful; check fit_info['message'] for more information. [astropy.modeling.fitting]\n",
      "WARNING: The fit may be unsuccessful; check fit_info['message'] for more information. [astropy.modeling.fitting]\n",
      "WARNING: The fit may be unsuccessful; check fit_info['message'] for more information. [astropy.modeling.fitting]\n",
      "WARNING: The fit may be unsuccessful; check fit_info['message'] for more information. [astropy.modeling.fitting]\n"
     ]
    },
    {
     "name": "stdout",
     "output_type": "stream",
     "text": [
      "Processing start_0008.fits...\n",
      "Processing start_0002.fits...\n",
      "Processing start_0014.fits...\n",
      "Processing start_0004.fits...\n",
      "Processing start_0006.fits...\n",
      "Processing start_0010.fits...\n",
      "Processing start_0015.fits...\n",
      "Processing start_0017.fits...\n",
      "Processing start_0019.fits...\n",
      "Processing start_0012.fits...\n",
      "Processing start_0021.fits...\n",
      "Processing start_0023.fits...\n",
      "Processing start_0025.fits...\n",
      "Processing start_0016.fits...\n",
      "Processing start_0027.fits...\n",
      "Processing start_0018.fits...\n",
      "Processing start_0020.fits...\n",
      "Processing start_0026.fits...\n",
      "Processing start_0029.fits...\n",
      "Processing start_0024.fits...\n",
      "Processing start_0031.fits...\n",
      "Processing start_0022.fits...\n",
      "Processing start_0028.fits...\n"
     ]
    },
    {
     "name": "stderr",
     "output_type": "stream",
     "text": [
      "/Users/tim/conda/envs/py36/lib/python3.6/site-packages/ipykernel_launcher.py:98: RuntimeWarning: invalid value encountered in sqrt\n"
     ]
    },
    {
     "name": "stdout",
     "output_type": "stream",
     "text": [
      "Processing start_0033.fits...\n",
      "Processing start_0035.fits...\n",
      "Processing start_0037.fits...\n",
      "Processing start_0039.fits...\n",
      "Processing start_0030.fits...\n",
      "Processing start_0041.fits...\n",
      "Processing start_0032.fits...\n",
      "Processing start_0034.fits...\n",
      "Processing start_0038.fits...\n",
      "Processing start_0036.fits...\n",
      "Processing start_0040.fits...\n",
      "Processing start_0042.fits...\n",
      "Working in 20031212...\n",
      "Processing start_0000.fits...\n",
      "Processing back.fits...\n",
      "Processing start_0001.fits...\n",
      "Processing start_0003.fits...\n",
      "Processing start_0002.fits...\n"
     ]
    },
    {
     "name": "stderr",
     "output_type": "stream",
     "text": [
      "WARNING: No sources were found. [photutils.detection.findstars]\n",
      "/Users/tim/conda/envs/py36/lib/python3.6/site-packages/astropy/modeling/fitting.py:1331: RuntimeWarning: invalid value encountered in fmax\n",
      "  values = np.fmax(values, _min)\n",
      "/Users/tim/conda/envs/py36/lib/python3.6/site-packages/numpy/lib/nanfunctions.py:1427: RuntimeWarning: Degrees of freedom <= 0 for slice.\n",
      "  keepdims=keepdims)\n",
      "WARNING: The fit may be unsuccessful; check fit_info['message'] for more information. [astropy.modeling.fitting]\n",
      "WARNING: The fit may be unsuccessful; check fit_info['message'] for more information. [astropy.modeling.fitting]\n",
      "WARNING: The fit may be unsuccessful; check fit_info['message'] for more information. [astropy.modeling.fitting]\n",
      "WARNING: The fit may be unsuccessful; check fit_info['message'] for more information. [astropy.modeling.fitting]\n",
      "WARNING: The fit may be unsuccessful; check fit_info['message'] for more information. [astropy.modeling.fitting]\n"
     ]
    },
    {
     "name": "stdout",
     "output_type": "stream",
     "text": [
      "Working in 20031213...\n",
      "Processing start_0002.fits...\n",
      "Processing back.fits...\n",
      "Processing start_0011.fits...\n",
      "Processing start_0005.fits...\n",
      "Processing start_0014.fits...\n",
      "Processing start_0017.fits...\n",
      "Processing start_0008.fits...\n",
      "Processing start_0020.fits...\n"
     ]
    },
    {
     "name": "stderr",
     "output_type": "stream",
     "text": [
      "WARNING: The fit may be unsuccessful; check fit_info['message'] for more information. [astropy.modeling.fitting]\n",
      "WARNING: The fit may be unsuccessful; check fit_info['message'] for more information. [astropy.modeling.fitting]\n",
      "WARNING: The fit may be unsuccessful; check fit_info['message'] for more information. [astropy.modeling.fitting]\n",
      "WARNING: The fit may be unsuccessful; check fit_info['message'] for more information. [astropy.modeling.fitting]\n"
     ]
    },
    {
     "name": "stdout",
     "output_type": "stream",
     "text": [
      "Processing start_0000.fits...\n"
     ]
    },
    {
     "name": "stderr",
     "output_type": "stream",
     "text": [
      "WARNING: The fit may be unsuccessful; check fit_info['message'] for more information. [astropy.modeling.fitting]\n",
      "WARNING: The fit may be unsuccessful; check fit_info['message'] for more information. [astropy.modeling.fitting]\n",
      "WARNING: The fit may be unsuccessful; check fit_info['message'] for more information. [astropy.modeling.fitting]\n",
      "WARNING: The fit may be unsuccessful; check fit_info['message'] for more information. [astropy.modeling.fitting]\n"
     ]
    },
    {
     "name": "stdout",
     "output_type": "stream",
     "text": [
      "Processing start_0003.fits...\n",
      "Processing start_0006.fits...\n",
      "Processing start_0009.fits...\n",
      "Processing start_0012.fits...\n",
      "Processing start_0018.fits...\n",
      "Processing start_0001.fits...\n",
      "Processing start_0021.fits...\n",
      "Processing start_0015.fits...\n",
      "Processing start_0007.fits...\n",
      "Processing start_0004.fits...\n",
      "Processing start_0010.fits...\n",
      "Processing start_0023.fits...\n",
      "Processing start_0019.fits...\n",
      "Processing start_0013.fits...\n",
      "Processing start_0022.fits...\n",
      "Processing start_0016.fits...\n",
      "Processing start_0026.fits...\n",
      "Processing start_0029.fits...\n",
      "Processing start_0032.fits...\n",
      "Processing start_0024.fits...\n",
      "Processing start_0035.fits...\n",
      "Processing start_0038.fits...\n",
      "Processing start_0041.fits...\n",
      "Processing start_0044.fits...\n",
      "Processing start_0027.fits...\n",
      "Processing start_0036.fits...\n",
      "Processing start_0030.fits...\n",
      "Processing start_0033.fits...\n",
      "Processing start_0025.fits...\n",
      "Processing start_0039.fits...\n",
      "Processing start_0042.fits...\n",
      "Processing start_0045.fits...\n",
      "Processing start_0028.fits...\n",
      "Processing start_0034.fits...\n",
      "Processing start_0037.fits...\n",
      "Processing start_0031.fits...\n",
      "Processing start_0047.fits...\n",
      "Processing start_0040.fits...\n",
      "Processing start_0043.fits...\n",
      "Processing start_0046.fits...\n",
      "Processing start_0050.fits...\n",
      "Processing start_0053.fits...\n",
      "Processing start_0056.fits...\n",
      "Processing start_0059.fits...\n",
      "Processing start_0048.fits...\n",
      "Processing start_0062.fits...\n",
      "Processing start_0065.fits...\n",
      "Processing start_0068.fits...\n",
      "Processing start_0051.fits...\n",
      "Processing start_0054.fits...\n",
      "Processing start_0057.fits...\n",
      "Processing start_0060.fits...\n",
      "Processing start_0049.fits...\n",
      "Processing start_0063.fits...\n",
      "Processing start_0066.fits...\n",
      "Processing start_0052.fits...\n",
      "Processing start_0069.fits...\n",
      "Processing start_0055.fits...\n",
      "Processing start_0061.fits...\n",
      "Processing start_0058.fits...\n",
      "Processing start_0067.fits...\n",
      "Processing start_0071.fits...\n",
      "Processing start_0064.fits...\n",
      "Processing start_0070.fits...\n",
      "Processing start_0072.fits...\n",
      "Processing test.fits...\n",
      "Working in 20031214...\n",
      "Processing elcoll1_50_0001.fits...\n",
      "Processing back.fits...\n",
      "Processing elcoll1_35_0001.fits...\n",
      "Processing elcoll2_30_0000.fits...\n",
      "Processing elcoll1_65_0001.fits...\n",
      "Processing elcoll2_45_0000.fits...\n",
      "Processing elcoll1_25_0002.fits...\n",
      "Processing elcoll2_60_0000.fits...\n"
     ]
    },
    {
     "name": "stderr",
     "output_type": "stream",
     "text": [
      "WARNING: The fit may be unsuccessful; check fit_info['message'] for more information. [astropy.modeling.fitting]\n"
     ]
    },
    {
     "name": "stdout",
     "output_type": "stream",
     "text": [
      "Processing best_seeing.fits...\n"
     ]
    },
    {
     "name": "stderr",
     "output_type": "stream",
     "text": [
      "WARNING: The fit may be unsuccessful; check fit_info['message'] for more information. [astropy.modeling.fitting]\n",
      "WARNING: The fit may be unsuccessful; check fit_info['message'] for more information. [astropy.modeling.fitting]\n",
      "WARNING: The fit may be unsuccessful; check fit_info['message'] for more information. [astropy.modeling.fitting]\n",
      "WARNING: The fit may be unsuccessful; check fit_info['message'] for more information. [astropy.modeling.fitting]\n",
      "WARNING: The fit may be unsuccessful; check fit_info['message'] for more information. [astropy.modeling.fitting]\n",
      "WARNING: The fit may be unsuccessful; check fit_info['message'] for more information. [astropy.modeling.fitting]\n",
      "WARNING: The fit may be unsuccessful; check fit_info['message'] for more information. [astropy.modeling.fitting]\n"
     ]
    },
    {
     "name": "stdout",
     "output_type": "stream",
     "text": [
      "Processing elcoll2_45_0001.fits...\n",
      "Processing elcoll1_40_0000.fits...\n",
      "Processing elcoll2_30_0001.fits...\n",
      "Processing elcoll1_55_0000.fits...\n",
      "Processing elcoll1_65_0002.fits...\n",
      "Processing elcoll2_60_0001.fits...\n",
      "Processing elcoll1_25_0003.fits...\n"
     ]
    },
    {
     "name": "stderr",
     "output_type": "stream",
     "text": [
      "/Users/tim/conda/envs/py36/lib/python3.6/site-packages/ipykernel_launcher.py:98: RuntimeWarning: invalid value encountered in sqrt\n"
     ]
    },
    {
     "name": "stdout",
     "output_type": "stream",
     "text": [
      "Processing elcoll1_20_0000.fits...\n",
      "Processing elcoll1_40_0001.fits...\n",
      "Processing elcoll2_50_0000.fits...\n",
      "Processing elcoll2_35_0000.fits...\n",
      "Processing elcoll1_70_0000.fits...\n",
      "Processing elcoll1_25_0004.fits...\n",
      "Processing elcoll2_65_0000.fits...\n",
      "Processing elcoll1_55_0001.fits...\n",
      "Processing elcoll1_20_0001.fits...\n",
      "Processing elcoll1_45_0000.fits...\n",
      "Processing elcoll2_50_0001.fits...\n",
      "Processing elcoll2_35_0001.fits...\n",
      "Processing elcoll2_65_0001.fits...\n",
      "Processing elcoll1_30_0000.fits...\n",
      "Processing elcoll2_25_0000.fits...\n",
      "Processing elcoll1_60_0000.fits...\n",
      "Processing elcoll1_45_0001.fits...\n",
      "Processing elcoll1_25_0000.fits...\n",
      "Processing elcoll2_40_0000.fits...\n",
      "Processing elcoll2_55_0000.fits...\n",
      "Processing elcoll1_30_0001.fits...\n",
      "Processing elcoll2_25_0001.fits...\n",
      "Processing elcoll2_70_0000.fits...\n",
      "Processing elcoll1_60_0001.fits...\n",
      "Processing elcoll1_50_0000.fits...\n",
      "Processing elcoll1_25_0001.fits...\n",
      "Processing elcoll2_55_0001.fits...\n",
      "Processing elcoll1_65_0000.fits...\n",
      "Processing elcoll2_40_0001.fits...\n",
      "Processing elcoll2_25_0002.fits...\n",
      "Processing elcoll1_35_0000.fits...\n",
      "Processing elcoll2_75_0000.fits...\n",
      "Processing elcoll2_70_0001.fits...\n",
      "Processing elcoll2_85_0001.fits...\n",
      "Processing elcoll3_25_0003.fits...\n",
      "Processing elcoll3_35_0000.fits...\n",
      "Processing elcoll3_50_0001.fits...\n",
      "Processing elcoll3_65_0001.fits...\n",
      "Processing elcoll4_25_0000.fits...\n",
      "Processing elcoll2_75_0001.fits...\n",
      "Processing elcoll3_20_0000.fits...\n",
      "Processing elcoll4_35_0002.fits...\n",
      "Processing elcoll3_30_0000.fits...\n",
      "Processing elcoll3_35_0001.fits...\n",
      "Processing elcoll3_55_0000.fits...\n",
      "Processing elcoll3_30_0001.fits...\n",
      "Processing elcoll4_30_0000.fits...\n",
      "Processing elcoll3_70_0000.fits...\n",
      "Processing elcoll2_80_0000.fits...\n",
      "Processing elcoll3_20_0001.fits...\n",
      "Processing elcoll4_40_0000.fits...\n",
      "Processing elcoll3_40_0000.fits...\n",
      "Processing elcoll3_30_0002.fits...\n",
      "Processing elcoll3_55_0001.fits...\n",
      "Processing elcoll4_30_0001.fits...\n",
      "Processing elcoll3_70_0001.fits...\n",
      "Processing elcoll2_80_0001.fits...\n",
      "Processing elcoll4_40_0001.fits...\n",
      "Processing elcoll3_25_0000.fits...\n",
      "Processing elcoll3_40_0001.fits...\n",
      "Processing elcoll3_30_0003.fits...\n",
      "Processing elcoll4_30_0002.fits...\n",
      "Processing elcoll3_60_0000.fits...\n",
      "Processing elcoll3_75_0000.fits...\n",
      "Processing elcoll4_45_0000.fits...\n",
      "Processing elcoll3_25_0001.fits...\n",
      "Processing elcoll2_80_0002.fits...\n",
      "Processing elcoll3_45_0000.fits...\n",
      "Processing elcoll4_35_0000.fits...\n",
      "Processing elcoll3_30_0004.fits...\n",
      "Processing elcoll3_60_0001.fits...\n",
      "Processing elcoll3_75_0001.fits...\n",
      "Processing elcoll4_45_0001.fits...\n",
      "Processing elcoll3_25_0002.fits...\n",
      "Processing elcoll2_85_0000.fits...\n",
      "Processing elcoll3_50_0000.fits...\n",
      "Processing elcoll4_35_0001.fits...\n",
      "Processing elcoll4_50_0000.fits...\n",
      "Processing elcoll3_65_0000.fits...\n",
      "Processing elcoll3_80_0000.fits...\n",
      "Processing elcoll4_45_0002.fits...\n",
      "Processing elcoll4_65_0000.fits...\n",
      "Processing elcoll4_75_0002.fits...\n",
      "Processing elcoll_start_0000.fits...\n",
      "Processing new_star_corr2_0001.fits...\n",
      "Processing elcoll4_55_0000.fits...\n",
      "Processing start_0002.fits...\n",
      "Processing start_corr2_0002.fits...\n",
      "Processing temp_watch_0002.fits...\n",
      "Processing elcoll4_65_0001.fits...\n",
      "Processing elcoll4_80_0000.fits...\n",
      "Processing elcoll_start_0001.fits...\n",
      "Processing new_star_corr2_0002.fits...\n",
      "Processing elcoll4_55_0001.fits...\n",
      "Processing start_coll_0000.fits...\n",
      "Processing start_corr_0000.fits...\n",
      "Processing temp_watch_0003.fits...\n",
      "Processing elcoll4_70_0000.fits...\n",
      "Processing elcoll4_80_0001.fits...\n",
      "Processing elcoll_start_0002.fits...\n",
      "Processing new_star_corr_0000.fits...\n",
      "Processing start_coll_0001.fits...\n",
      "Processing elcoll4_55_0002.fits...\n",
      "Processing temp_watch_0004.fits...\n",
      "Processing start_corr_0001.fits...\n",
      "Processing elcoll4_70_0001.fits...\n",
      "Processing elcoll4_80_0002.fits...\n",
      "Processing elcoll_start_coll_0000.fits...\n",
      "Processing start_coll_0002.fits...\n",
      "Processing elcoll4_60_0000.fits...\n",
      "Processing temp_watch_0005.fits...\n",
      "Processing start_corr_0002.fits...\n",
      "Processing new_star_corr_0001.fits...\n",
      "Processing elcoll4_75_0000.fits...\n",
      "Processing elcoll4_85_0000.fits...\n",
      "Processing new_star_0000.fits...\n",
      "Processing start_corr2_0000.fits...\n",
      "Processing temp_watch_0000.fits...\n",
      "Processing elcoll4_60_0001.fits...\n",
      "Processing temp_watch_0006.fits...\n",
      "Processing start_0000.fits...\n",
      "Processing elcoll4_75_0001.fits...\n",
      "Processing elcoll4_88_0000.fits...\n",
      "Processing start_corr2_0001.fits...\n",
      "Processing temp_watch_0001.fits...\n",
      "Processing new_star_corr2_0000.fits...\n",
      "Processing temp_watch_0008.fits...\n",
      "Processing temp_watch_0007.fits...\n",
      "Processing start_0001.fits...\n",
      "Processing temp_watch_0014.fits...\n",
      "Processing temp_watch_0020.fits...\n",
      "Processing temp_watch_0009.fits...\n",
      "Processing temp_watch_0015.fits...\n",
      "Processing temp_watch_0021.fits...\n",
      "Processing temp_watch_0010.fits...\n",
      "Processing temp_watch_0016.fits...\n",
      "Processing temp_watch_0022.fits...\n",
      "Processing temp_watch_0011.fits...\n",
      "Processing temp_watch_0017.fits...\n",
      "Processing temp_watch_0023.fits...\n",
      "Processing temp_watch_0012.fits...\n",
      "Processing temp_watch_0018.fits...\n",
      "Processing test.fits...\n",
      "Processing temp_watch_0013.fits...\n",
      "Processing temp_watch_0019.fits...\n",
      "Working in 20031215...\n",
      "Processing focus_test_post_0000.fits...\n",
      "Processing focus_test_0000.fits...\n",
      "Processing hiltner102_0001.fits...\n",
      "Processing focus_test_coll_0000.fits...\n",
      "Processing start_0000.fits...\n",
      "Processing hiltner102_0000.fits...\n",
      "Processing start_0001.fits...\n",
      "Processing start_0002.fits...\n"
     ]
    },
    {
     "name": "stderr",
     "output_type": "stream",
     "text": [
      "WARNING: The fit may be unsuccessful; check fit_info['message'] for more information. [astropy.modeling.fitting]\n",
      "WARNING: The fit may be unsuccessful; check fit_info['message'] for more information. [astropy.modeling.fitting]\n",
      "WARNING: The fit may be unsuccessful; check fit_info['message'] for more information. [astropy.modeling.fitting]\n",
      "WARNING: The fit may be unsuccessful; check fit_info['message'] for more information. [astropy.modeling.fitting]\n",
      "WARNING: The fit may be unsuccessful; check fit_info['message'] for more information. [astropy.modeling.fitting]\n",
      "WARNING: The fit may be unsuccessful; check fit_info['message'] for more information. [astropy.modeling.fitting]\n",
      "WARNING: The fit may be unsuccessful; check fit_info['message'] for more information. [astropy.modeling.fitting]\n",
      "WARNING: The fit may be unsuccessful; check fit_info['message'] for more information. [astropy.modeling.fitting]\n"
     ]
    },
    {
     "name": "stdout",
     "output_type": "stream",
     "text": [
      "Processing start_0003.fits...\n",
      "Processing start_0004.fits...\n",
      "Processing start_0005.fits...\n",
      "Processing start_0006.fits...\n",
      "Processing start_0007.fits...\n",
      "Processing start_0008.fits...\n",
      "Processing start_0009.fits...\n",
      "Processing start_0010.fits...\n",
      "Processing start_0011.fits...\n",
      "Processing start_corr2_0000.fits...\n",
      "Processing start_corr2_0001.fits...\n",
      "Processing start_corr2_0002.fits...\n",
      "Processing start_corr_0000.fits...\n",
      "Processing start_corr_0001.fits...\n",
      "Processing start_corr_0002.fits...\n",
      "Processing test.fits...\n",
      "Working in 20031216...\n",
      "Processing start_0001.fits...\n",
      "Processing start_0002.fits...\n",
      "Processing start_0003.fits...\n",
      "Processing back.fits...\n",
      "Processing start_0000.fits...\n",
      "Processing start_0004.fits...\n",
      "Processing start_0005.fits...\n",
      "Processing start_0006.fits...\n"
     ]
    },
    {
     "name": "stderr",
     "output_type": "stream",
     "text": [
      "WARNING: The fit may be unsuccessful; check fit_info['message'] for more information. [astropy.modeling.fitting]\n"
     ]
    },
    {
     "name": "stdout",
     "output_type": "stream",
     "text": [
      "Processing start_0007.fits...\n"
     ]
    },
    {
     "name": "stderr",
     "output_type": "stream",
     "text": [
      "WARNING: The fit may be unsuccessful; check fit_info['message'] for more information. [astropy.modeling.fitting]\n",
      "WARNING: The fit may be unsuccessful; check fit_info['message'] for more information. [astropy.modeling.fitting]\n",
      "WARNING: The fit may be unsuccessful; check fit_info['message'] for more information. [astropy.modeling.fitting]\n",
      "WARNING: The fit may be unsuccessful; check fit_info['message'] for more information. [astropy.modeling.fitting]\n",
      "WARNING: The fit may be unsuccessful; check fit_info['message'] for more information. [astropy.modeling.fitting]\n",
      "WARNING: The fit may be unsuccessful; check fit_info['message'] for more information. [astropy.modeling.fitting]\n",
      "WARNING: The fit may be unsuccessful; check fit_info['message'] for more information. [astropy.modeling.fitting]\n"
     ]
    },
    {
     "name": "stdout",
     "output_type": "stream",
     "text": [
      "Processing start_0008.fits...\n",
      "Processing start_0009.fits...\n",
      "Processing start_0010.fits...\n",
      "Processing start_0011.fits...\n",
      "Processing start_0012.fits...\n",
      "Processing start_0013.fits...\n",
      "Processing start_0014.fits...\n"
     ]
    },
    {
     "name": "stderr",
     "output_type": "stream",
     "text": [
      "WARNING: Sources were found, but none pass the sharpness and roundness criteria. [photutils.detection.findstars]\n"
     ]
    },
    {
     "name": "stdout",
     "output_type": "stream",
     "text": [
      "Processing start_0015.fits...\n"
     ]
    },
    {
     "name": "stderr",
     "output_type": "stream",
     "text": [
      "WARNING: No sources were found. [photutils.detection.findstars]\n"
     ]
    },
    {
     "name": "stdout",
     "output_type": "stream",
     "text": [
      "Processing start_0016.fits...\n"
     ]
    },
    {
     "name": "stderr",
     "output_type": "stream",
     "text": [
      "WARNING: No sources were found. [photutils.detection.findstars]\n",
      "WARNING: No sources were found. [photutils.detection.findstars]\n"
     ]
    },
    {
     "name": "stdout",
     "output_type": "stream",
     "text": [
      "Failed to find spots for /Volumes/LACIE SHARE/wfsdat/20031216/start_0016: (WFSAnalysisFailed(...), 'No WFS spots detected.')\n"
     ]
    },
    {
     "name": "stderr",
     "output_type": "stream",
     "text": [
      "/Users/tim/conda/envs/py36/lib/python3.6/site-packages/ipykernel_launcher.py:98: RuntimeWarning: invalid value encountered in sqrt\n"
     ]
    },
    {
     "name": "stdout",
     "output_type": "stream",
     "text": [
      "Working in 20031217...\n",
      "Processing back.fits...\n",
      "Processing focus1_start_0000.fits...\n",
      "Processing focus1_start_0003.fits...\n",
      "Processing focus1_corr1_0002.fits...\n",
      "Processing focus2_corr1_0003.fits...\n",
      "Processing focus2_corr1_0000.fits...\n",
      "Processing focus2_corr2_0001.fits...\n",
      "Processing focus2_start_0000.fits...\n"
     ]
    },
    {
     "name": "stderr",
     "output_type": "stream",
     "text": [
      "WARNING: No sources were found. [photutils.detection.findstars]\n",
      "WARNING: The fit may be unsuccessful; check fit_info['message'] for more information. [astropy.modeling.fitting]\n"
     ]
    },
    {
     "name": "stdout",
     "output_type": "stream",
     "text": [
      "Processing focus1_corr1_0000.fits...\n"
     ]
    },
    {
     "name": "stderr",
     "output_type": "stream",
     "text": [
      "WARNING: The fit may be unsuccessful; check fit_info['message'] for more information. [astropy.modeling.fitting]\n",
      "WARNING: The fit may be unsuccessful; check fit_info['message'] for more information. [astropy.modeling.fitting]\n",
      "WARNING: The fit may be unsuccessful; check fit_info['message'] for more information. [astropy.modeling.fitting]\n",
      "WARNING: The fit may be unsuccessful; check fit_info['message'] for more information. [astropy.modeling.fitting]\n",
      "WARNING: The fit may be unsuccessful; check fit_info['message'] for more information. [astropy.modeling.fitting]\n",
      "WARNING: The fit may be unsuccessful; check fit_info['message'] for more information. [astropy.modeling.fitting]\n",
      "WARNING: The fit may be unsuccessful; check fit_info['message'] for more information. [astropy.modeling.fitting]\n"
     ]
    },
    {
     "name": "stdout",
     "output_type": "stream",
     "text": [
      "Processing focus1_start_0001.fits...\n",
      "Processing focus1_start_0004.fits...\n",
      "Processing focus2_corr1_0001.fits...\n",
      "Processing focus1_corr1_0003.fits...\n",
      "Processing focus2_start_0001.fits...\n",
      "Processing focus1_corr1_0001.fits...\n",
      "Processing focus2_corr2_0002.fits...\n",
      "Processing focus2_corr1_0004.fits...\n",
      "Processing focus1_start_0002.fits...\n",
      "Processing focus1_start_0005.fits...\n",
      "Processing focus2_start_0003.fits...\n",
      "Processing focus2_corr1_0002.fits...\n",
      "Processing focus1_corr1_0004.fits...\n",
      "Processing focus2_start_0002.fits...\n",
      "Processing focus2_corr2_0003.fits...\n",
      "Processing focus2_corr2_0000.fits...\n",
      "Processing focus3_corr1_0001.fits...\n",
      "Processing focus3_corr1_0004.fits...\n",
      "Processing focus2_start_0004.fits...\n",
      "Processing focus3_start_0002.fits...\n",
      "Processing focus4_corr1_0001.fits...\n",
      "Processing focus4_corr1_0004.fits...\n",
      "Processing focus4_corr2_0000.fits...\n",
      "Processing focus4_corr2_0003.fits...\n",
      "Processing focus3_start_0003.fits...\n"
     ]
    },
    {
     "name": "stderr",
     "output_type": "stream",
     "text": [
      "/Users/tim/conda/envs/py36/lib/python3.6/site-packages/ipykernel_launcher.py:98: RuntimeWarning: invalid value encountered in sqrt\n"
     ]
    },
    {
     "name": "stdout",
     "output_type": "stream",
     "text": [
      "Processing focus4_corr1_0000.fits...\n",
      "Processing focus3_corr1_0002.fits...\n",
      "Processing focus3_corr1_0000.fits...\n",
      "Processing focus3_start_0000.fits...\n",
      "Processing focus4_corr2_0001.fits...\n",
      "Processing focus4_corr1_0002.fits...\n",
      "Processing focus4_corr1_0005.fits...\n",
      "Processing focus4_corr2_0004.fits...\n",
      "Processing focus3_start_0001.fits...\n",
      "Processing focus4_corr2_0006.fits...\n",
      "Processing focus4_start_0002.fits...\n",
      "Processing focus3_corr1_0003.fits...\n",
      "Processing focus5_corr1_0000.fits...\n",
      "Processing focus4_corr2_0002.fits...\n",
      "Processing focus4_corr1_0003.fits...\n",
      "Processing focus4_corr1_0006.fits...\n",
      "Processing focus4_corr2_0005.fits...\n",
      "Processing focus4_start_0000.fits...\n",
      "Processing focus4_start_0003.fits...\n",
      "Processing focus5_corr1_0003.fits...\n",
      "Processing focus5_corr1_0001.fits...\n",
      "Processing focus5_start_0001.fits...\n",
      "Processing focus5_start_0004.fits...\n",
      "Processing start_0001.fits...\n",
      "Processing start_corr1_0000.fits...\n",
      "Processing focus4_start_0001.fits...\n",
      "Processing focus4_start_0004.fits...\n",
      "Processing focus5_corr1_0004.fits...\n",
      "Processing focus5_corr1_0002.fits...\n",
      "Processing focus5_start_0002.fits...\n",
      "Processing start_corr1_0001.fits...\n",
      "Processing start_0002.fits...\n",
      "Processing focus5_start_0005.fits...\n",
      "Processing start_corr2_0000.fits...\n",
      "Processing start_corr3_0000.fits...\n",
      "Processing focus5_start_0000.fits...\n",
      "Processing start_corr4_0000.fits...\n",
      "Processing focus5_start_0003.fits...\n",
      "Processing start_corr1_0002.fits...\n",
      "Processing start_0003.fits...\n",
      "Processing start_0000.fits...\n",
      "Processing start_corr2_0001.fits...\n",
      "Processing start_corr4_0003.fits...\n",
      "Processing start_corr3_0001.fits...\n",
      "Processing start_corr4_0001.fits...\n",
      "Processing start_corr2_0002.fits...\n",
      "Processing test.fits...\n",
      "Processing start_corr3_0002.fits...\n",
      "Processing start_corr4_0002.fits...\n",
      "Working in 20031218...\n",
      "Processing focus1_corr1_0000.fits...\n",
      "Processing focus2_corr1_0000.fits...\n",
      "Processing focus2_corr2_0000.fits...\n",
      "Processing focus1_corr2_0000.fits...\n",
      "Processing focus2_corr2_0005.fits...\n",
      "Processing focus2_corr3_0000.fits...\n",
      "Processing focus1_start_0000.fits...\n",
      "Processing focus2_corr4_0000.fits...\n"
     ]
    },
    {
     "name": "stderr",
     "output_type": "stream",
     "text": [
      "WARNING: The fit may be unsuccessful; check fit_info['message'] for more information. [astropy.modeling.fitting]\n",
      "WARNING: The fit may be unsuccessful; check fit_info['message'] for more information. [astropy.modeling.fitting]\n",
      "WARNING: The fit may be unsuccessful; check fit_info['message'] for more information. [astropy.modeling.fitting]\n",
      "WARNING: The fit may be unsuccessful; check fit_info['message'] for more information. [astropy.modeling.fitting]\n",
      "WARNING: The fit may be unsuccessful; check fit_info['message'] for more information. [astropy.modeling.fitting]\n",
      "WARNING: The fit may be unsuccessful; check fit_info['message'] for more information. [astropy.modeling.fitting]\n",
      "WARNING: The fit may be unsuccessful; check fit_info['message'] for more information. [astropy.modeling.fitting]\n",
      "WARNING: The fit may be unsuccessful; check fit_info['message'] for more information. [astropy.modeling.fitting]\n"
     ]
    },
    {
     "name": "stdout",
     "output_type": "stream",
     "text": [
      "Processing focus2_corr4_0001.fits...\n",
      "Processing focus2_corr3_0001.fits...\n",
      "Processing focus1_corr2_0001.fits...\n",
      "Processing focus1_start_0001.fits...\n",
      "Processing focus1_corr1_0001.fits...\n",
      "Processing focus2_corr1_0001.fits...\n",
      "Processing focus2_corr2_0001.fits...\n",
      "Processing focus2_corr2_0006.fits...\n",
      "Processing focus2_corr4_0002.fits...\n",
      "Processing focus2_corr3_0002.fits...\n",
      "Processing focus2_corr1_0002.fits...\n",
      "Processing focus2_corr2_0007.fits...\n",
      "Processing focus1_start_0002.fits...\n",
      "Processing focus2_corr2_0002.fits...\n",
      "Processing focus1_corr1_0002.fits...\n",
      "Processing focus1_corr2_0002.fits...\n",
      "Processing focus2_corr4_0003.fits...\n",
      "Processing focus2_corr1_0003.fits...\n",
      "Processing focus2_corr2_0008.fits...\n",
      "Processing focus2_corr2_0003.fits...\n",
      "Processing focus2_corr3_0003.fits...\n",
      "Processing focus1_start_0003.fits...\n",
      "Processing focus1_corr1_0003.fits...\n",
      "Processing focus1_corr2_0003.fits...\n",
      "Processing focus2_corr4_0004.fits...\n",
      "Processing focus2_corr2_0004.fits...\n",
      "Processing focus2_corr1_0004.fits...\n",
      "Processing focus2_corr2_0009.fits...\n",
      "Processing focus1_start_0004.fits...\n",
      "Processing focus2_corr3_0004.fits...\n",
      "Processing focus1_corr2_0004.fits...\n",
      "Processing focus1_corr1_0004.fits...\n",
      "Processing focus2_start_0000.fits...\n",
      "Processing focus3_corr1_0000.fits...\n",
      "Processing focus3_corr1_0005.fits...\n",
      "Processing focus3_corr2_0000.fits...\n",
      "Processing focus3_corr3_0000.fits...\n",
      "Processing focus3_start_0000.fits...\n",
      "Processing focus4_corr1_0000.fits...\n",
      "Processing focus4_corr2_0000.fits...\n",
      "Processing focus3_corr1_0006.fits...\n",
      "Processing focus3_corr3_0001.fits...\n",
      "Processing focus3_corr2_0001.fits...\n",
      "Processing focus4_corr2_0001.fits...\n",
      "Processing focus4_corr1_0001.fits...\n",
      "Processing focus2_start_0001.fits...\n",
      "Processing focus3_start_0001.fits...\n",
      "Processing focus3_corr1_0001.fits...\n",
      "Processing focus4_corr2_0002.fits...\n",
      "Processing focus4_corr1_0002.fits...\n",
      "Processing focus3_corr1_0007.fits...\n",
      "Processing focus3_corr3_0002.fits...\n",
      "Processing focus3_start_0002.fits...\n",
      "Processing focus2_start_0002.fits...\n",
      "Processing focus3_corr2_0002.fits...\n",
      "Processing focus3_corr1_0002.fits...\n",
      "Processing focus4_corr2_0003.fits...\n",
      "Processing focus4_corr1_0003.fits...\n",
      "Processing focus3_corr3_0003.fits...\n",
      "Processing focus3_start_0003.fits...\n",
      "Processing focus3_corr1_0008.fits...\n",
      "Processing focus3_corr2_0003.fits...\n",
      "Processing focus2_start_0003.fits...\n",
      "Processing focus3_corr1_0003.fits...\n",
      "Processing focus4_corr2_0004.fits...\n",
      "Processing focus4_corr1_0004.fits...\n",
      "Processing focus3_corr3_0004.fits...\n",
      "Processing focus2_start_0004.fits...\n",
      "Processing focus3_start_0004.fits...\n",
      "Processing focus3_corr1_0009.fits...\n",
      "Processing focus3_corr2_0004.fits...\n",
      "Processing focus3_corr1_0004.fits...\n",
      "Processing focus4_start_0000.fits...\n",
      "Processing focus5_corr1_0000.fits...\n",
      "Processing focus5_corr1_0005.fits...\n",
      "Processing focus5_corr2_0004.fits...\n",
      "Processing focus5_corr2_0009.fits...\n",
      "Processing focus5_corr2_0014.fits...\n",
      "Processing focus5_corr3_0002.fits...\n",
      "Processing focus5_start_0002.fits...\n",
      "Processing focus4_start_0001.fits...\n",
      "Processing focus5_corr1_0001.fits...\n",
      "Processing focus5_corr2_0000.fits...\n",
      "Processing focus5_corr2_0015.fits...\n",
      "Processing focus5_corr2_0010.fits...\n",
      "Processing focus5_corr3_0003.fits...\n",
      "Processing focus5_corr2_0005.fits...\n",
      "Processing focus5_start_0003.fits...\n",
      "Processing focus4_start_0002.fits...\n",
      "Processing focus5_corr1_0002.fits...\n",
      "Processing focus5_corr2_0001.fits...\n",
      "Processing focus5_corr3_0004.fits...\n",
      "Processing focus5_corr2_0016.fits...\n",
      "Processing focus5_corr2_0011.fits...\n",
      "Processing focus5_corr2_0006.fits...\n",
      "Processing focus5_start_0004.fits...\n",
      "Processing focus4_start_0003.fits...\n",
      "Processing focus5_corr1_0003.fits...\n",
      "Processing focus5_corr2_0002.fits...\n",
      "Processing focus5_start_0000.fits...\n",
      "Processing focus5_corr3_0000.fits...\n",
      "Processing focus5_corr2_0012.fits...\n",
      "Processing focus5_corr2_0007.fits...\n",
      "Processing focus5_start_0005.fits...\n",
      "Processing focus4_start_0004.fits...\n",
      "Processing focus5_corr1_0004.fits...\n",
      "Processing focus5_start_0001.fits...\n",
      "Processing focus5_corr2_0003.fits...\n",
      "Processing focus5_corr3_0001.fits...\n",
      "Processing focus5_corr2_0008.fits...\n",
      "Processing focus5_corr2_0013.fits...\n",
      "Processing focus6_corr1_0000.fits...\n",
      "Processing focus6_corr1_0001.fits...\n",
      "Processing focus6_start_0001.fits...\n",
      "Processing start_0000.fits...\n",
      "Processing start_0005.fits...\n",
      "Processing start_corr1_0003.fits...\n",
      "Processing start_corr2_0003.fits...\n",
      "Processing start_corr3_0003.fits...\n",
      "Processing focus6_corr1_0002.fits...\n",
      "Processing focus6_start_0002.fits...\n",
      "Processing start_0001.fits...\n",
      "Processing start_0006.fits...\n",
      "Processing start_corr1_0004.fits...\n",
      "Processing start_corr2_0004.fits...\n",
      "Processing start_corr3_0004.fits...\n",
      "Processing focus6_start_0003.fits...\n",
      "Processing focus6_corr1_0003.fits...\n",
      "Processing start_0002.fits...\n",
      "Processing start_corr1_0000.fits...\n",
      "Processing start_corr2_0000.fits...\n",
      "Processing test.fits...\n",
      "Processing start_corr3_0000.fits...\n",
      "Processing focus6_start_0004.fits...\n",
      "Processing focus6_corr1_0004.fits...\n",
      "Processing start_0003.fits...\n",
      "Processing start_corr1_0001.fits...\n",
      "Processing start_corr2_0001.fits...\n",
      "Processing start_corr3_0001.fits...\n",
      "Processing focus6_start_0005.fits...\n",
      "Processing focus6_start_0000.fits...\n",
      "Processing start_0004.fits...\n",
      "Processing start_corr1_0002.fits...\n",
      "Processing start_corr3_0002.fits...\n",
      "Processing start_corr2_0002.fits...\n",
      "Working in 20031219...\n",
      "Processing focus1_corr2_0004.fits...\n",
      "Processing focus1_corr1_0003.fits...\n",
      "Processing focus1_corr3_0002.fits...\n",
      "Processing focus1_corr2_0001.fits...\n",
      "Processing focus1_corr4_0002.fits...\n",
      "Processing focus1_corr5_0002.fits...\n",
      "Processing focus1_corr1_0000.fits...\n",
      "Processing focus1_start_0002.fits...\n"
     ]
    },
    {
     "name": "stderr",
     "output_type": "stream",
     "text": [
      "WARNING: The fit may be unsuccessful; check fit_info['message'] for more information. [astropy.modeling.fitting]\n",
      "WARNING: The fit may be unsuccessful; check fit_info['message'] for more information. [astropy.modeling.fitting]\n",
      "WARNING: The fit may be unsuccessful; check fit_info['message'] for more information. [astropy.modeling.fitting]\n",
      "WARNING: The fit may be unsuccessful; check fit_info['message'] for more information. [astropy.modeling.fitting]\n",
      "WARNING: The fit may be unsuccessful; check fit_info['message'] for more information. [astropy.modeling.fitting]\n",
      "WARNING: The fit may be unsuccessful; check fit_info['message'] for more information. [astropy.modeling.fitting]\n",
      "WARNING: The fit may be unsuccessful; check fit_info['message'] for more information. [astropy.modeling.fitting]\n",
      "WARNING: The fit may be unsuccessful; check fit_info['message'] for more information. [astropy.modeling.fitting]\n"
     ]
    },
    {
     "name": "stdout",
     "output_type": "stream",
     "text": [
      "Processing focus1_start_0003.fits...\n",
      "Processing focus1_corr3_0000.fits...\n",
      "Processing focus1_corr2_0002.fits...\n",
      "Processing focus1_start_0000.fits...\n",
      "Processing focus1_corr1_0004.fits...\n",
      "Processing focus1_corr5_0000.fits...\n",
      "Processing focus1_corr1_0001.fits...\n",
      "Processing focus1_corr4_0000.fits...\n",
      "Processing focus1_corr3_0001.fits...\n",
      "Processing focus1_start_0004.fits...\n",
      "Processing focus1_start_0001.fits...\n",
      "Processing focus1_corr2_0000.fits...\n",
      "Processing focus1_corr1_0002.fits...\n",
      "Processing focus1_corr2_0003.fits...\n",
      "Processing focus1_corr5_0001.fits...\n",
      "Processing focus1_corr4_0001.fits...\n",
      "Processing focus2_corr1_0000.fits...\n",
      "Processing focus2_corr2_0000.fits...\n",
      "Processing focus2_corr3_0000.fits...\n",
      "Processing focus2_corr4_0000.fits...\n",
      "Processing focus2_start_0000.fits...\n",
      "Processing focus3_corr1_0000.fits...\n",
      "Processing focus3_start_0000.fits...\n",
      "Processing focus3_start_0003.fits...\n",
      "Processing focus2_corr1_0001.fits...\n",
      "Processing focus2_corr3_0001.fits...\n",
      "Processing focus2_corr2_0001.fits...\n",
      "Processing focus2_corr4_0001.fits...\n",
      "Processing focus2_start_0001.fits...\n",
      "Processing focus3_corr1_0001.fits...\n",
      "Processing focus3_start_0001.fits...\n",
      "Processing focus3_start_0004.fits...\n",
      "Processing focus2_corr1_0002.fits...\n",
      "Processing focus2_corr3_0002.fits...\n",
      "Processing focus2_corr2_0002.fits...\n",
      "Processing focus2_corr4_0002.fits...\n",
      "Processing focus3_start_0005.fits...\n",
      "Processing focus3_corr1_0002.fits...\n",
      "Processing focus3_start_0002.fits...\n",
      "Processing focus2_start_0002.fits...\n",
      "Processing focus3_start_0006.fits...\n",
      "Processing start_0000.fits...\n",
      "Processing start_0003.fits...\n",
      "Processing start_corr1_0001.fits...\n",
      "Processing start_corr1_0004.fits...\n",
      "Processing start_corr2_0002.fits...\n",
      "Processing start_corr3_0000.fits...\n",
      "Processing start_corr3_0003.fits...\n",
      "Processing focus3_start_0007.fits...\n",
      "Processing start_0004.fits...\n",
      "Processing start_0001.fits...\n",
      "Processing start_corr1_0002.fits...\n",
      "Processing start_corr3_0001.fits...\n",
      "Processing start_corr2_0000.fits...\n",
      "Processing start_corr3_0004.fits...\n",
      "Processing start_corr2_0003.fits...\n",
      "Processing focus3_start_0008.fits...\n",
      "Processing start_corr1_0000.fits...\n",
      "Processing start_0002.fits...\n",
      "Processing start_corr3_0002.fits...\n",
      "Processing start_corr2_0001.fits...\n",
      "Processing start_corr1_0003.fits...\n",
      "Processing start_corr4_0000.fits...\n",
      "Processing start_corr2_0004.fits...\n",
      "Processing start_corr4_0001.fits...\n",
      "Processing start_corr4_0004.fits...\n",
      "Processing start_corr5_0002.fits...\n",
      "Processing test.fits...\n",
      "Processing start_corr4_0002.fits...\n",
      "Processing start_corr5_0000.fits...\n",
      "Processing start_corr5_0003.fits...\n",
      "Processing start_corr4_0003.fits...\n",
      "Processing start_corr5_0001.fits...\n",
      "Processing start_corr5_0004.fits...\n",
      "Working in 20031220...\n",
      "Processing back.fits...\n",
      "Processing focus1_start_0000.fits...\n",
      "Processing focus1_corr1_0002.fits...\n",
      "Processing focus1_corr3_0000.fits...\n",
      "Processing focus1_corr2_0000.fits...\n",
      "Processing focus1_start_0003.fits...\n",
      "Processing focus2_corr1_0001.fits...\n",
      "Processing focus2_start_0001.fits...\n"
     ]
    },
    {
     "name": "stderr",
     "output_type": "stream",
     "text": [
      "WARNING: No sources were found. [photutils.detection.findstars]\n",
      "WARNING: The fit may be unsuccessful; check fit_info['message'] for more information. [astropy.modeling.fitting]\n",
      "WARNING: The fit may be unsuccessful; check fit_info['message'] for more information. [astropy.modeling.fitting]\n",
      "WARNING: The fit may be unsuccessful; check fit_info['message'] for more information. [astropy.modeling.fitting]\n",
      "WARNING: The fit may be unsuccessful; check fit_info['message'] for more information. [astropy.modeling.fitting]\n",
      "WARNING: The fit may be unsuccessful; check fit_info['message'] for more information. [astropy.modeling.fitting]\n",
      "WARNING: The fit may be unsuccessful; check fit_info['message'] for more information. [astropy.modeling.fitting]\n"
     ]
    },
    {
     "name": "stdout",
     "output_type": "stream",
     "text": [
      "Processing focus1_corr1_0000.fits...\n"
     ]
    },
    {
     "name": "stderr",
     "output_type": "stream",
     "text": [
      "WARNING: The fit may be unsuccessful; check fit_info['message'] for more information. [astropy.modeling.fitting]\n",
      "WARNING: The fit may be unsuccessful; check fit_info['message'] for more information. [astropy.modeling.fitting]\n"
     ]
    },
    {
     "name": "stdout",
     "output_type": "stream",
     "text": [
      "Processing focus1_corr1_0003.fits...\n",
      "Processing focus2_start_0002.fits...\n",
      "Processing focus1_start_0004.fits...\n",
      "Processing focus1_start_0001.fits...\n",
      "Processing focus1_corr3_0001.fits...\n",
      "Processing focus1_corr2_0001.fits...\n",
      "Processing focus2_corr1_0002.fits...\n",
      "Processing focus1_corr1_0001.fits...\n",
      "Processing focus1_corr1_0004.fits...\n",
      "Processing focus2_corr1_0000.fits...\n",
      "Processing focus1_corr3_0002.fits...\n",
      "Processing focus1_start_0002.fits...\n",
      "Processing focus3_corr1_0000.fits...\n",
      "Processing focus3_corr1_0001.fits...\n",
      "Processing focus2_start_0000.fits...\n",
      "Processing focus1_corr2_0002.fits...\n",
      "Processing focus3_corr1_0004.fits...\n",
      "Processing focus3_corr2_0001.fits...\n",
      "Processing focus3_corr1_0002.fits...\n",
      "Processing focus3_start_0001.fits...\n",
      "Processing focus3_start_0004.fits...\n",
      "Processing focus3_start_0007.fits...\n",
      "Processing start_0001.fits...\n",
      "Processing start_0002.fits...\n",
      "Processing focus3_start_0005.fits...\n",
      "Processing start_0004.fits...\n",
      "Processing focus3_corr1_0005.fits...\n",
      "Processing focus3_corr1_0003.fits...\n",
      "Processing focus3_corr2_0002.fits...\n",
      "Processing focus3_start_0002.fits...\n",
      "Processing focus3_start_0008.fits...\n",
      "Processing focus3_start_0006.fits...\n",
      "Processing start_0003.fits...\n",
      "Processing start_0005.fits...\n",
      "Processing focus3_corr2_0000.fits...\n",
      "Processing focus3_start_0000.fits...\n",
      "Processing start_0007.fits...\n",
      "Processing start_0000.fits...\n",
      "Processing start_corr1_0001.fits...\n",
      "Processing start_corr1_0004.fits...\n",
      "Processing start_0006.fits...\n",
      "Processing start_corr2_0002.fits...\n",
      "Processing focus3_start_0003.fits...\n"
     ]
    },
    {
     "name": "stderr",
     "output_type": "stream",
     "text": [
      "/Users/tim/conda/envs/py36/lib/python3.6/site-packages/ipykernel_launcher.py:98: RuntimeWarning: invalid value encountered in sqrt\n"
     ]
    },
    {
     "name": "stdout",
     "output_type": "stream",
     "text": [
      "Processing start_corr3_0000.fits...\n",
      "Processing start_corr3_0003.fits...\n",
      "Processing start_corr4_0001.fits...\n",
      "Processing start_0008.fits...\n",
      "Processing start_corr1_0002.fits...\n",
      "Processing start_corr2_0000.fits...\n",
      "Processing start_corr4_0004.fits...\n",
      "Processing start_corr2_0003.fits...\n",
      "Processing start_corr3_0001.fits...\n",
      "Processing start_corr3_0004.fits...\n",
      "Processing start_corr1_0000.fits...\n",
      "Processing start_corr4_0002.fits...\n",
      "Processing start_corr1_0003.fits...\n",
      "Processing start_corr2_0001.fits...\n",
      "Processing start_corr2_0004.fits...\n",
      "Processing start_corr3_0002.fits...\n",
      "Processing start_corr4_0000.fits...\n",
      "Processing start_corr4_0003.fits...\n",
      "Working in 20031221...\n",
      "Processing focus1_corr1_0000.fits...\n",
      "Processing back.fits...\n",
      "Processing focus1_corr1_0004.fits...\n",
      "Processing focus1_corr2_0003.fits...\n",
      "Processing focus2_corr2_0000.fits...\n",
      "Processing focus1_start_0002.fits...\n",
      "Processing focus2_corr3_0001.fits...\n",
      "Processing focus2_start_0002.fits...\n"
     ]
    },
    {
     "name": "stderr",
     "output_type": "stream",
     "text": [
      "WARNING: The fit may be unsuccessful; check fit_info['message'] for more information. [astropy.modeling.fitting]\n"
     ]
    },
    {
     "name": "stdout",
     "output_type": "stream",
     "text": [
      "Processing focus1_coll1_0000.fits...\n"
     ]
    },
    {
     "name": "stderr",
     "output_type": "stream",
     "text": [
      "WARNING: The fit may be unsuccessful; check fit_info['message'] for more information. [astropy.modeling.fitting]\n",
      "WARNING: The fit may be unsuccessful; check fit_info['message'] for more information. [astropy.modeling.fitting]\n",
      "WARNING: The fit may be unsuccessful; check fit_info['message'] for more information. [astropy.modeling.fitting]\n",
      "WARNING: The fit may be unsuccessful; check fit_info['message'] for more information. [astropy.modeling.fitting]\n",
      "WARNING: The fit may be unsuccessful; check fit_info['message'] for more information. [astropy.modeling.fitting]\n",
      "WARNING: The fit may be unsuccessful; check fit_info['message'] for more information. [astropy.modeling.fitting]\n",
      "WARNING: The fit may be unsuccessful; check fit_info['message'] for more information. [astropy.modeling.fitting]\n"
     ]
    },
    {
     "name": "stdout",
     "output_type": "stream",
     "text": [
      "Processing focus2_start_0003.fits...\n",
      "Processing focus1_corr2_0000.fits...\n",
      "Processing focus2_corr3_0002.fits...\n",
      "Processing focus2_corr1_0000.fits...\n",
      "Processing focus2_corr2_0001.fits...\n",
      "Processing focus1_corr1_0001.fits...\n",
      "Processing focus1_corr2_0004.fits...\n",
      "Processing focus1_coll1_0001.fits...\n",
      "Processing focus2_start_0004.fits...\n",
      "Processing focus2_corr1_0001.fits...\n",
      "Processing focus2_corr2_0002.fits...\n",
      "Processing focus2_start_0000.fits...\n",
      "Processing focus1_corr2_0001.fits...\n",
      "Processing focus1_coll1_0002.fits...\n",
      "Processing focus1_corr1_0002.fits...\n",
      "Processing focus1_start_0000.fits...\n",
      "Processing focus2_start_0001.fits...\n",
      "Processing focus3_corr1_0000.fits...\n",
      "Processing focus2_corr1_0002.fits...\n",
      "Processing focus2_corr3_0000.fits...\n",
      "Processing focus1_corr2_0002.fits...\n",
      "Processing focus3_corr1_0001.fits...\n",
      "Processing focus1_start_0001.fits...\n",
      "Processing focus1_corr1_0003.fits...\n",
      "Processing focus3_corr2_0000.fits...\n",
      "Processing focus3_corr2_0004.fits...\n",
      "Processing focus3_corr2_0008.fits...\n",
      "Processing focus3_start_0002.fits...\n",
      "Processing focus3_corr1_0002.fits...\n",
      "Processing focus3_start_0006.fits...\n",
      "Processing focus3_start_0010.fits...\n",
      "Processing focus4_corr1_0000.fits...\n",
      "Processing focus3_corr2_0001.fits...\n",
      "Processing focus3_start_0003.fits...\n",
      "Processing focus3_corr2_0005.fits...\n",
      "Processing focus3_corr2_0009.fits...\n",
      "Processing focus3_start_0007.fits...\n",
      "Processing focus4_corr1_0001.fits...\n",
      "Processing focus3_corr1_0003.fits...\n",
      "Processing focus3_start_0011.fits...\n",
      "Processing focus3_corr2_0002.fits...\n",
      "Processing focus3_start_0004.fits...\n",
      "Processing focus3_corr2_0006.fits...\n",
      "Processing focus3_start_0000.fits...\n",
      "Processing focus3_start_0008.fits...\n",
      "Processing focus4_corr1_0002.fits...\n",
      "Processing focus3_corr1_0004.fits...\n",
      "Processing focus3_start_0012.fits...\n",
      "Processing focus3_start_0001.fits...\n",
      "Processing focus3_corr2_0003.fits...\n",
      "Processing focus3_start_0005.fits...\n",
      "Processing focus3_corr2_0007.fits...\n",
      "Processing focus4_corr1_0003.fits...\n",
      "Processing focus3_start_0009.fits...\n",
      "Processing focus4_start_0000.fits...\n",
      "Processing focus3_start_0013.fits...\n",
      "Processing focus4_start_0004.fits...\n",
      "Processing focus4_start_0008.fits...\n",
      "Processing start_0003.fits...\n",
      "Processing start_corr1_0002.fits...\n",
      "Processing start_corr2_0001.fits...\n",
      "Processing start_corr3_0000.fits...\n",
      "Processing focus4_start_0001.fits...\n",
      "Processing start_corr3_0004.fits...\n",
      "Processing focus4_start_0005.fits...\n",
      "Processing start_0000.fits...\n",
      "Processing start_0004.fits...\n",
      "Processing start_corr1_0003.fits...\n",
      "Processing start_corr2_0002.fits...\n",
      "Processing start_corr3_0001.fits...\n",
      "Processing focus4_start_0002.fits...\n",
      "Processing start_corr4_0000.fits...\n",
      "Processing focus4_start_0006.fits...\n",
      "Processing start_0001.fits...\n",
      "Processing start_corr1_0000.fits...\n",
      "Processing start_corr1_0004.fits...\n",
      "Processing start_corr2_0003.fits...\n",
      "Processing start_corr3_0002.fits...\n",
      "Processing focus4_start_0003.fits...\n",
      "Processing start_corr4_0001.fits...\n",
      "Processing focus4_start_0007.fits...\n",
      "Processing start_0002.fits...\n",
      "Processing start_corr1_0001.fits...\n",
      "Processing start_corr2_0000.fits...\n",
      "Processing start_corr2_0004.fits...\n",
      "Processing start_corr3_0003.fits...\n",
      "Processing start_corr4_0003.fits...\n",
      "Processing start_corr5_0002.fits...\n",
      "Processing start_corr4_0002.fits...\n",
      "Processing start_corr4_0004.fits...\n",
      "Processing start_corr5_0000.fits...\n",
      "Processing start_corr5_0001.fits...\n",
      "Working in 20031222...\n",
      "Processing focus1_start_0001.fits...\n",
      "Processing focus1_start_0009.fits...\n",
      "Processing back.fits...\n",
      "Processing focus1_corr2_0002.fits...\n",
      "Processing focus1_corr1_0003.fits...\n",
      "Processing focus1_start_0005.fits...\n",
      "Processing focus2_corr2_0002.fits...\n",
      "Processing focus2_corr1_0003.fits...\n"
     ]
    },
    {
     "name": "stderr",
     "output_type": "stream",
     "text": [
      "WARNING: No sources were found. [photutils.detection.findstars]\n",
      "WARNING: The fit may be unsuccessful; check fit_info['message'] for more information. [astropy.modeling.fitting]\n",
      "WARNING: Sources were found, but none pass the sharpness and roundness criteria. [photutils.detection.findstars]\n",
      "WARNING: The fit may be unsuccessful; check fit_info['message'] for more information. [astropy.modeling.fitting]\n",
      "WARNING: The fit may be unsuccessful; check fit_info['message'] for more information. [astropy.modeling.fitting]\n",
      "WARNING: The fit may be unsuccessful; check fit_info['message'] for more information. [astropy.modeling.fitting]\n",
      "WARNING: The fit may be unsuccessful; check fit_info['message'] for more information. [astropy.modeling.fitting]\n",
      "WARNING: The fit may be unsuccessful; check fit_info['message'] for more information. [astropy.modeling.fitting]\n",
      "WARNING: The fit may be unsuccessful; check fit_info['message'] for more information. [astropy.modeling.fitting]\n"
     ]
    },
    {
     "name": "stdout",
     "output_type": "stream",
     "text": [
      "Processing focus1_corr1_0000.fits...\n"
     ]
    },
    {
     "name": "stderr",
     "output_type": "stream",
     "text": [
      "WARNING: The fit may be unsuccessful; check fit_info['message'] for more information. [astropy.modeling.fitting]\n"
     ]
    },
    {
     "name": "stdout",
     "output_type": "stream",
     "text": [
      "Processing focus2_corr2_0003.fits...\n",
      "Processing focus2_corr1_0004.fits...\n",
      "Processing focus1_corr1_0004.fits...\n",
      "Processing focus1_corr2_0003.fits...\n",
      "Processing focus1_start_0006.fits...\n",
      "Processing focus1_start_0002.fits...\n",
      "Processing focus2_corr1_0000.fits...\n",
      "Processing focus1_corr1_0001.fits...\n",
      "Processing focus2_corr2_0004.fits...\n",
      "Processing focus2_corr2_0000.fits...\n"
     ]
    },
    {
     "name": "stderr",
     "output_type": "stream",
     "text": [
      "WARNING: Sources were found, but none pass the sharpness and roundness criteria. [photutils.detection.findstars]\n"
     ]
    },
    {
     "name": "stdout",
     "output_type": "stream",
     "text": [
      "Processing focus1_corr1_0002.fits...\n",
      "Processing focus1_corr2_0000.fits...\n",
      "Processing focus1_corr2_0004.fits...\n",
      "Processing focus1_start_0007.fits...\n",
      "Processing focus1_start_0003.fits...\n",
      "Processing focus2_corr1_0001.fits...\n",
      "Processing focus2_start_0000.fits...\n",
      "Processing focus2_start_0001.fits...\n",
      "Processing focus2_corr2_0001.fits...\n",
      "Processing focus3_corr1_0000.fits...\n",
      "Processing focus3_corr1_0004.fits...\n",
      "Processing focus2_corr1_0002.fits...\n",
      "Processing focus1_corr2_0001.fits...\n",
      "Processing focus1_start_0000.fits...\n",
      "Processing focus1_start_0008.fits...\n",
      "Processing focus1_start_0004.fits...\n",
      "Processing focus2_start_0002.fits...\n",
      "Processing focus3_corr2_0000.fits...\n",
      "Processing focus3_corr1_0001.fits...\n",
      "Processing focus3_corr2_0003.fits...\n",
      "Processing focus3_corr3_0002.fits...\n",
      "Processing focus3_start_0001.fits...\n",
      "Processing satrt_0000.fits...\n",
      "Processing satrt_0004.fits...\n",
      "Processing focus2_start_0003.fits...\n",
      "Processing focus3_corr1_0002.fits...\n",
      "Processing focus3_corr2_0004.fits...\n",
      "Processing focus3_corr2_0001.fits...\n",
      "Processing focus3_corr3_0003.fits...\n"
     ]
    },
    {
     "name": "stderr",
     "output_type": "stream",
     "text": [
      "/Users/tim/conda/envs/py36/lib/python3.6/site-packages/astropy/modeling/fitting.py:1331: RuntimeWarning: invalid value encountered in fmax\n",
      "  values = np.fmax(values, _min)\n",
      "/Users/tim/conda/envs/py36/lib/python3.6/site-packages/numpy/lib/nanfunctions.py:1427: RuntimeWarning: Degrees of freedom <= 0 for slice.\n",
      "  keepdims=keepdims)\n"
     ]
    },
    {
     "name": "stdout",
     "output_type": "stream",
     "text": [
      "Processing start_corr1_0000.fits...\n",
      "Processing focus3_start_0002.fits...\n",
      "Processing satrt_0001.fits...\n",
      "Processing focus2_start_0004.fits...\n",
      "Processing focus3_corr3_0000.fits...\n",
      "Processing focus3_corr1_0003.fits...\n",
      "Processing focus3_corr2_0002.fits...\n",
      "Processing focus3_corr3_0004.fits...\n",
      "Processing start_corr1_0001.fits...\n",
      "Processing satrt_0002.fits...\n",
      "Processing focus3_start_0003.fits...\n",
      "Processing start_corr1_0003.fits...\n",
      "Processing start_corr2_0002.fits...\n",
      "Processing focus3_corr3_0001.fits...\n",
      "Processing start_corr3_0001.fits...\n",
      "Processing focus3_start_0000.fits...\n",
      "Processing start_corr1_0002.fits...\n",
      "Processing focus3_start_0004.fits...\n",
      "Processing satrt_0003.fits...\n",
      "Processing start_corr1_0004.fits...\n",
      "Processing start_corr2_0003.fits...\n",
      "Processing start_corr4_0000.fits...\n",
      "Processing start_corr3_0002.fits...\n",
      "Processing start_corr4_0004.fits...\n",
      "Processing start_corr5_0003.fits...\n"
     ]
    },
    {
     "name": "stderr",
     "output_type": "stream",
     "text": [
      "/Users/tim/conda/envs/py36/lib/python3.6/site-packages/astropy/modeling/fitting.py:1331: RuntimeWarning: invalid value encountered in fmax\n",
      "  values = np.fmax(values, _min)\n",
      "/Users/tim/conda/envs/py36/lib/python3.6/site-packages/numpy/lib/nanfunctions.py:1427: RuntimeWarning: Degrees of freedom <= 0 for slice.\n",
      "  keepdims=keepdims)\n"
     ]
    },
    {
     "name": "stdout",
     "output_type": "stream",
     "text": [
      "Processing start_corr5_0007.fits...\n",
      "Processing start_corr6_0001.fits...\n"
     ]
    },
    {
     "name": "stderr",
     "output_type": "stream",
     "text": [
      "/Users/tim/conda/envs/py36/lib/python3.6/site-packages/astropy/modeling/fitting.py:1331: RuntimeWarning: invalid value encountered in fmax\n",
      "  values = np.fmax(values, _min)\n",
      "/Users/tim/conda/envs/py36/lib/python3.6/site-packages/numpy/lib/nanfunctions.py:1427: RuntimeWarning: Degrees of freedom <= 0 for slice.\n",
      "  keepdims=keepdims)\n"
     ]
    },
    {
     "name": "stdout",
     "output_type": "stream",
     "text": [
      "Processing start_corr2_0000.fits...\n",
      "Processing start_corr5_0008.fits...\n",
      "Processing start_corr4_0001.fits...\n",
      "Processing start_corr2_0004.fits...\n",
      "Processing start_corr5_0000.fits...\n",
      "Processing start_corr3_0003.fits...\n",
      "Processing start_corr5_0004.fits...\n",
      "Processing start_corr6_0002.fits...\n",
      "Processing start_corr2_0001.fits...\n",
      "Processing start_corr4_0002.fits...\n",
      "Processing start_corr5_0009.fits...\n",
      "Processing start_corr5_0001.fits...\n",
      "Processing start_corr6_0003.fits...\n",
      "Processing start_corr3_0000.fits...\n",
      "Processing start_corr5_0005.fits...\n",
      "Processing start_corr3_0004.fits...\n",
      "Processing start_corr6_0004.fits...\n",
      "Processing start_corr6_0000.fits...\n",
      "Processing test.fits...\n",
      "Processing start_corr4_0003.fits...\n",
      "Processing start_corr5_0002.fits...\n",
      "Processing start_corr5_0006.fits...\n",
      "Working in 20031223...\n",
      "Processing focus1_corr1_0005.fits...\n",
      "Processing focus2_start_0000.fits...\n",
      "Processing back.fits...\n",
      "Processing focus1_corr1_0003.fits...\n",
      "Processing focus1_corr1_0001.fits...\n",
      "Processing focus2_start_0002.fits...\n",
      "Processing focus1_start_0001.fits...\n",
      "Processing focus2_start_0004.fits...\n"
     ]
    },
    {
     "name": "stderr",
     "output_type": "stream",
     "text": [
      "WARNING: No sources were found. [photutils.detection.findstars]\n",
      "WARNING: Sources were found, but none pass the sharpness and roundness criteria. [photutils.detection.findstars]\n",
      "WARNING: Sources were found, but none pass the sharpness and roundness criteria. [photutils.detection.findstars]\n",
      "WARNING: Sources were found, but none pass the sharpness and roundness criteria. [photutils.detection.findstars]\n",
      "WARNING: The fit may be unsuccessful; check fit_info['message'] for more information. [astropy.modeling.fitting]\n",
      "WARNING: The fit may be unsuccessful; check fit_info['message'] for more information. [astropy.modeling.fitting]\n",
      "WARNING: The fit may be unsuccessful; check fit_info['message'] for more information. [astropy.modeling.fitting]\n",
      "WARNING: The fit may be unsuccessful; check fit_info['message'] for more information. [astropy.modeling.fitting]\n",
      "WARNING: The fit may be unsuccessful; check fit_info['message'] for more information. [astropy.modeling.fitting]\n",
      "WARNING: The fit may be unsuccessful; check fit_info['message'] for more information. [astropy.modeling.fitting]\n"
     ]
    },
    {
     "name": "stdout",
     "output_type": "stream",
     "text": [
      "Processing focus2_start_0003.fits...\n"
     ]
    },
    {
     "name": "stderr",
     "output_type": "stream",
     "text": [
      "WARNING: The fit may be unsuccessful; check fit_info['message'] for more information. [astropy.modeling.fitting]\n"
     ]
    },
    {
     "name": "stdout",
     "output_type": "stream",
     "text": [
      "Processing focus1_corr1_0000.fits...\n"
     ]
    },
    {
     "name": "stderr",
     "output_type": "stream",
     "text": [
      "WARNING: The fit may be unsuccessful; check fit_info['message'] for more information. [astropy.modeling.fitting]\n",
      "WARNING: No sources were found. [photutils.detection.findstars]\n"
     ]
    },
    {
     "name": "stdout",
     "output_type": "stream",
     "text": [
      "Failed to find spots for /Volumes/LACIE SHARE/wfsdat/20031223/focus2_start_0003: (WFSAnalysisFailed(...), 'No WFS spots detected.')\n",
      "Processing focus2_start_0006.fits...\n",
      "Processing focus1_corr1_0004.fits...\n",
      "Processing focus1_start_0000.fits...\n",
      "Processing focus1_start_0002.fits...\n",
      "Processing focus2_start_0001.fits...\n",
      "Processing focus1_corr1_0002.fits...\n",
      "Processing focus2_start_0005.fits...\n"
     ]
    },
    {
     "name": "stderr",
     "output_type": "stream",
     "text": [
      "WARNING: No sources were found. [photutils.detection.findstars]\n"
     ]
    },
    {
     "name": "stdout",
     "output_type": "stream",
     "text": [
      "Failed to find spots for /Volumes/LACIE SHARE/wfsdat/20031223/focus2_start_0001: (WFSAnalysisFailed(...), 'No WFS spots detected.')\n",
      "Processing focus2_start_0008.fits...\n",
      "Processing focus2_start_0010.fits...\n",
      "Failed to find spots for /Volumes/LACIE SHARE/wfsdat/20031223/focus2_start_0008: (WFSAnalysisFailed(...), 'No WFS spots detected.')\n",
      "Processing focus2_start_0009.fits...\n"
     ]
    },
    {
     "name": "stderr",
     "output_type": "stream",
     "text": [
      "WARNING: Sources were found, but none pass the sharpness and roundness criteria. [photutils.detection.findstars]\n"
     ]
    },
    {
     "name": "stdout",
     "output_type": "stream",
     "text": [
      "Failed to find spots for /Volumes/LACIE SHARE/wfsdat/20031223/focus2_start_0009: (WFSAnalysisFailed(...), 'No WFS spots detected.')\n",
      "Processing focus2_start_0012.fits...\n",
      "Failed to find spots for /Volumes/LACIE SHARE/wfsdat/20031223/focus2_start_0010: (WFSAnalysisFailed(...), 'No WFS spots detected.')\n",
      "Processing focus2_start_0011.fits...\n",
      "Processing focus2_start_0007.fits...\n",
      "Failed to find spots for /Volumes/LACIE SHARE/wfsdat/20031223/focus2_start_0012: (WFSAnalysisFailed(...), 'No WFS spots detected.')\n",
      "Processing focus2_start_0013.fits...\n",
      "Failed to find spots for /Volumes/LACIE SHARE/wfsdat/20031223/focus2_start_0011: (WFSAnalysisFailed(...), 'No WFS spots detected.')\n",
      "Processing focus2_start_0014.fits...\n",
      "Failed to find spots for /Volumes/LACIE SHARE/wfsdat/20031223/focus2_start_0013: (WFSAnalysisFailed(...), 'No WFS spots detected.')\n",
      "Processing start_0001.fits...\n",
      "Failed to find spots for /Volumes/LACIE SHARE/wfsdat/20031223/focus2_start_0014: (WFSAnalysisFailed(...), 'No WFS spots detected.')\n",
      "Processing start_0000.fits...\n",
      "Failed to find spots for /Volumes/LACIE SHARE/wfsdat/20031223/focus2_start_0007: (WFSAnalysisFailed(...), 'No WFS spots detected.')\n",
      "Processing start_0003.fits...\n",
      "Processing start_corr1_0000.fits...\n",
      "Processing start_corr1_0002.fits...\n",
      "Processing start_corr2_0001.fits...\n",
      "Processing start_corr3_0000.fits...\n",
      "Processing start_corr3_0002.fits...\n",
      "Processing start_0002.fits...\n",
      "Processing start_0004.fits...\n",
      "Processing start_corr3_0004.fits...\n",
      "Processing start_corr1_0001.fits...\n",
      "Processing start_corr2_0000.fits...\n",
      "Processing start_corr2_0002.fits...\n",
      "Processing start_corr3_0001.fits...\n",
      "Processing start_corr3_0003.fits...\n",
      "Processing start_corr4_0000.fits...\n",
      "Processing start_corr4_0002.fits...\n",
      "Processing start_corr3_0005.fits...\n",
      "Processing start_corr5_0001.fits...\n",
      "Processing test.fits...\n"
     ]
    },
    {
     "name": "stderr",
     "output_type": "stream",
     "text": [
      "WARNING: Sources were found, but none pass the sharpness and roundness criteria. [photutils.detection.findstars]\n"
     ]
    },
    {
     "name": "stdout",
     "output_type": "stream",
     "text": [
      "Failed to find spots for /Volumes/LACIE SHARE/wfsdat/20031223/test: (WFSAnalysisFailed(...), 'No WFS spots detected.')\n",
      "Processing start_corr5_0000.fits...\n",
      "Processing start_corr4_0001.fits...\n",
      "Processing start_corr5_0002.fits...\n"
     ]
    }
   ],
   "source": [
    "nproc = 8\n",
    "for d in dirs:\n",
    "    if d.is_dir():\n",
    "        print(f\"Working in {d.name}...\")\n",
    "        fitsfiles = sorted(list(d.glob(\"*.fits\")))\n",
    "        with Pool(processes=nproc) as pool:  # my mac's i7 has 4 cores + hyperthreading so 8 virtual cores. \n",
    "            pool.map(process_image, fitsfiles)  # plines comes out in same order as fitslines!"
   ]
  },
  {
   "cell_type": "code",
   "execution_count": 47,
   "metadata": {},
   "outputs": [],
   "source": [
    "test = rootdir / \"20030321\" / \"end_0000.fits\""
   ]
  },
  {
   "cell_type": "code",
   "execution_count": 54,
   "metadata": {},
   "outputs": [
    {
     "data": {
      "text/plain": [
       "'/Volumes/LACIE SHARE/wfsdat/20030321/end_0000.csv'"
      ]
     },
     "execution_count": 54,
     "metadata": {},
     "output_type": "execute_result"
    }
   ],
   "source": [
    "str(test.parent / test.stem) + \".csv\""
   ]
  },
  {
   "cell_type": "code",
   "execution_count": 116,
   "metadata": {},
   "outputs": [
    {
     "data": {
      "application/vnd.jupyter.widget-view+json": {
       "model_id": "e7dd9bff2c3047ddb9dadadad47f4775",
       "version_major": 2,
       "version_minor": 0
      },
      "text/plain": [
       "FigureCanvasNbAgg()"
      ]
     },
     "metadata": {},
     "output_type": "display_data"
    }
   ],
   "source": [
    "test, fig = wfsfind(\"20031019/start_0001.fits\", fwhm=8.)"
   ]
  },
  {
   "cell_type": "code",
   "execution_count": 120,
   "metadata": {},
   "outputs": [],
   "source": [
    "test, hdr = check_image(Path(\"20031019/start_0001.fits\"))\n",
    "mean, median, stddev = stats.sigma_clipped_stats(test, sigma=3.0, iters=None)"
   ]
  },
  {
   "cell_type": "code",
   "execution_count": 117,
   "metadata": {},
   "outputs": [
    {
     "name": "stdout",
     "output_type": "stream",
     "text": [
      "Processing start_0001.fits...\n",
      "Failed to write 20031019/start_0001.csv: unhashable type: 'list'\n"
     ]
    },
    {
     "name": "stderr",
     "output_type": "stream",
     "text": [
      "WARNING: The fit may be unsuccessful; check fit_info['message'] for more information. [astropy.modeling.fitting]\n"
     ]
    }
   ],
   "source": [
    "test_table = process_image(Path(\"20031019/start_0001.fits\"))"
   ]
  },
  {
   "cell_type": "code",
   "execution_count": 87,
   "metadata": {},
   "outputs": [],
   "source": [
    "tstfile = Path(\"20030517/wfs0029.fits\")"
   ]
  },
  {
   "cell_type": "code",
   "execution_count": 99,
   "metadata": {},
   "outputs": [
    {
     "data": {
      "text/plain": [
       "'2003-05-18T06:49:02'"
      ]
     },
     "execution_count": 99,
     "metadata": {},
     "output_type": "execute_result"
    }
   ],
   "source": [
    "dt = datetime.fromtimestamp(tstfile.stat().st_ctime)\n",
    "local_dt = tz.localize(dt)\n",
    "utc_dt = local_dt.astimezone(pytz.utc).isoformat().replace('+00:00', '')\n",
    "utc_dt"
   ]
  },
  {
   "cell_type": "code",
   "execution_count": 118,
   "metadata": {},
   "outputs": [
    {
     "data": {
      "text/html": [
       "<i>Table length=1</i>\n",
       "<table id=\"table120832044448\" class=\"table-striped table-bordered table-condensed\">\n",
       "<thead><tr><th>id_1</th><th>xcentroid_1</th><th>ycentroid_1</th><th>sharpness</th><th>roundness1</th><th>roundness2</th><th>npix</th><th>sky</th><th>peak</th><th>flux</th><th>mag</th><th>id_2</th><th>xcentroid_2</th><th>ycentroid_2</th><th>sky_centroid</th><th>sky_centroid_icrs</th><th>source_sum</th><th>source_sum_err</th><th>background_sum</th><th>background_mean</th><th>background_at_centroid</th><th>xmin</th><th>xmax</th><th>ymin</th><th>ymax</th><th>min_value</th><th>max_value</th><th>minval_xpos</th><th>minval_ypos</th><th>maxval_xpos</th><th>maxval_ypos</th><th>area</th><th>equivalent_radius</th><th>perimeter</th><th>semimajor_axis_sigma</th><th>semiminor_axis_sigma</th><th>eccentricity</th><th>orientation</th><th>ellipticity</th><th>elongation</th><th>covar_sigx2</th><th>covar_sigxy</th><th>covar_sigy2</th><th>cxx</th><th>cxy</th><th>cyy</th><th>col0 [22]</th><th>AIRMASS</th><th>BITPIX</th><th>DATE</th><th>EXTEND</th><th>IRAF-TLM</th><th>LTM1_1</th><th>LTM2_2</th><th>LTV1</th><th>LTV2</th><th>NAXIS</th><th>NAXIS1</th><th>NAXIS2</th><th>OBS-TIME</th><th>ORIGIN</th><th>SIMPLE</th><th>WFSKEY</th><th>filename</th><th>gauss_amplitude</th><th>gauss_background</th><th>gauss_fwhm</th><th>gauss_rms</th><th>gauss_sigx</th><th>gauss_sigy</th><th>gauss_theta</th><th>gauss_x</th><th>gauss_y</th><th>moffat_alpha</th><th>moffat_amplitude</th><th>moffat_background</th><th>moffat_fwhm</th><th>moffat_gamma</th><th>moffat_rms</th><th>moffat_x</th><th>moffat_y</th><th>moment_fwhm</th></tr></thead>\n",
       "<thead><tr><th></th><th></th><th></th><th></th><th></th><th></th><th></th><th></th><th></th><th></th><th></th><th></th><th>pix</th><th>pix</th><th></th><th></th><th></th><th></th><th></th><th></th><th></th><th>pix</th><th>pix</th><th>pix</th><th>pix</th><th></th><th></th><th>pix</th><th>pix</th><th>pix</th><th>pix</th><th>pix2</th><th>pix</th><th>pix</th><th>pix</th><th>pix</th><th></th><th>rad</th><th></th><th></th><th>pix2</th><th>pix2</th><th>pix2</th><th>1 / pix2</th><th>1 / pix2</th><th>1 / pix2</th><th></th><th></th><th></th><th></th><th></th><th></th><th></th><th></th><th></th><th></th><th></th><th></th><th></th><th></th><th></th><th></th><th></th><th></th><th></th><th></th><th></th><th></th><th></th><th></th><th></th><th></th><th></th><th></th><th></th><th></th><th></th><th></th><th></th><th></th><th></th><th></th></tr></thead>\n",
       "<thead><tr><th>int64</th><th>float64</th><th>float64</th><th>float64</th><th>float64</th><th>float64</th><th>float64</th><th>float64</th><th>float64</th><th>float64</th><th>float64</th><th>int64</th><th>float64</th><th>float64</th><th>object</th><th>object</th><th>float64</th><th>object</th><th>object</th><th>object</th><th>object</th><th>float64</th><th>float64</th><th>float64</th><th>float64</th><th>float64</th><th>float64</th><th>float64</th><th>float64</th><th>float64</th><th>float64</th><th>float64</th><th>float64</th><th>float64</th><th>float64</th><th>float64</th><th>float64</th><th>float64</th><th>float64</th><th>float64</th><th>float64</th><th>float64</th><th>float64</th><th>float64</th><th>float64</th><th>float64</th><th>str1</th><th>float64</th><th>int64</th><th>str19</th><th>bool</th><th>str19</th><th>float64</th><th>float64</th><th>float64</th><th>float64</th><th>int64</th><th>int64</th><th>int64</th><th>str19</th><th>str37</th><th>bool</th><th>str2</th><th>str15</th><th>float64</th><th>float64</th><th>float64</th><th>float64</th><th>float64</th><th>float64</th><th>float64</th><th>float64</th><th>float64</th><th>float64</th><th>float64</th><th>float64</th><th>float64</th><th>float64</th><th>float64</th><th>float64</th><th>float64</th><th>float64</th></tr></thead>\n",
       "<tr><td>1</td><td>3.10484092468</td><td>251.015965297</td><td>0.304448351128</td><td>0.264250925016</td><td>0.4908556983</td><td>121.0</td><td>0.0</td><td>1894.0</td><td>1.96380127688</td><td>-0.732743845184</td><td>1</td><td>19.3889715998</td><td>9.78050869542</td><td>None</td><td>None</td><td>495031.0</td><td>None</td><td>None</td><td>None</td><td>None</td><td>0.0</td><td>30.0</td><td>0.0</td><td>30.0</td><td>0.0</td><td>2093.0</td><td>0.0</td><td>0.0</td><td>12.0</td><td>18.0</td><td>961.0</td><td>17.48987709</td><td>120.0</td><td>5.75752114939</td><td>5.24886484916</td><td>0.410959516616</td><td>1.53323081407</td><td>0.0883464058632</td><td>1.09690786767</td><td>27.5584788661</td><td>0.210111506495</td><td>33.1411531244</td><td>0.036288227078</td><td>-0.000460127264177</td><td>0.0301754237477</td><td>..</td><td>nan</td><td>32</td><td>2010-06-19T18:33:56</td><td>False</td><td>2010-06-19T18:33:55</td><td>0.25</td><td>0.25</td><td>0.375</td><td>0.375</td><td>2</td><td>258</td><td>256</td><td>2010-06-19T21:33:56</td><td>NOAO-IRAF FITS Image Kernel July 2003</td><td>True</td><td>f5</td><td>start_0001.fits</td><td>2010.68672117</td><td>-140.506549996</td><td>18.8425111169</td><td>370.386620267</td><td>6.90556396933</td><td>9.09779149446</td><td>-0.0017121280301</td><td>18.82271513</td><td>8.6080931914</td><td>14.4453862422</td><td>2014.93710518</td><td>-172.730973883</td><td>18.9481469917</td><td>42.7324675539</td><td>384.204388277</td><td>19.1968963198</td><td>9.29030285389</td><td>12.9590291864</td></tr>\n",
       "</table>"
      ],
      "text/plain": [
       "<Table length=1>\n",
       " id_1  xcentroid_1   ycentroid_1  ...    moffat_x      moffat_y    moment_fwhm \n",
       "                                  ...                                          \n",
       "int64    float64       float64    ...    float64       float64       float64   \n",
       "----- ------------- ------------- ... ------------- ------------- -------------\n",
       "    1 3.10484092468 251.015965297 ... 19.1968963198 9.29030285389 12.9590291864"
      ]
     },
     "execution_count": 118,
     "metadata": {},
     "output_type": "execute_result"
    }
   ],
   "source": [
    "test_table"
   ]
  },
  {
   "cell_type": "code",
   "execution_count": 121,
   "metadata": {},
   "outputs": [
    {
     "data": {
      "text/plain": [
       "{'SIMPLE': True,\n",
       " 'BITPIX': 32,\n",
       " 'NAXIS': 2,\n",
       " 'NAXIS1': 258,\n",
       " 'NAXIS2': 256,\n",
       " 'EXTEND': False,\n",
       " 'ORIGIN': 'NOAO-IRAF FITS Image Kernel July 2003',\n",
       " 'DATE': '2010-06-19T18:33:56',\n",
       " 'IRAF-TLM': '2010-06-19T18:33:55',\n",
       " 'LTM1_1': 0.25,\n",
       " 'LTM2_2': 0.25,\n",
       " 'LTV1': 0.375,\n",
       " 'LTV2': 0.375,\n",
       " '': \n",
       " \n",
       " \n",
       " \n",
       " \n",
       " \n",
       " \n",
       " \n",
       " \n",
       " \n",
       " \n",
       " \n",
       " \n",
       " \n",
       " \n",
       " \n",
       " \n",
       " \n",
       " \n",
       " \n",
       " ,\n",
       " 'AIRMASS': nan,\n",
       " 'WFSKEY': 'f5',\n",
       " 'OBS-TIME': '2010-06-19T21:33:56'}"
      ]
     },
     "execution_count": 121,
     "metadata": {},
     "output_type": "execute_result"
    }
   ],
   "source": [
    "hdr"
   ]
  },
  {
   "cell_type": "code",
   "execution_count": null,
   "metadata": {},
   "outputs": [],
   "source": []
  }
 ],
 "metadata": {
  "kernelspec": {
   "display_name": "Python 3",
   "language": "python",
   "name": "python3"
  },
  "language_info": {
   "codemirror_mode": {
    "name": "ipython",
    "version": 3
   },
   "file_extension": ".py",
   "mimetype": "text/x-python",
   "name": "python",
   "nbconvert_exporter": "python",
   "pygments_lexer": "ipython3",
   "version": "3.6.5"
  }
 },
 "nbformat": 4,
 "nbformat_minor": 2
}
