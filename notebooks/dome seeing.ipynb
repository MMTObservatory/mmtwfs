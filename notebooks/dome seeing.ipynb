{
 "cells": [
  {
   "cell_type": "code",
   "execution_count": 1,
   "metadata": {},
   "outputs": [],
   "source": [
    "import time\n",
    "from datetime import datetime\n",
    "import os\n",
    "import sys\n",
    "import numpy as np\n",
    "import matplotlib\n",
    "%matplotlib ipympl\n",
    "import matplotlib.pyplot as plt\n",
    "import pandas as pd\n",
    "from matplotlib import style\n",
    "\n",
    "style.use('ggplot')\n",
    "\n",
    "import multiprocessing\n",
    "from multiprocessing import Pool\n",
    "\n",
    "from pathlib import Path\n",
    "\n",
    "import photutils\n",
    "import astropy.units as u\n",
    "from astropy import stats\n",
    "from astropy.io import fits\n",
    "from astropy.table import Table, hstack, vstack\n",
    "\n",
    "from astropy.modeling.models import Gaussian2D, Polynomial2D, Moffat2D\n",
    "from astropy.modeling.fitting import LevMarLSQFitter\n",
    "\n",
    "from mmtwfs.wfs import *\n",
    "from mmtwfs.zernike import ZernikeVector\n",
    "from mmtwfs.telescope import MMT"
   ]
  },
  {
   "cell_type": "code",
   "execution_count": 2,
   "metadata": {},
   "outputs": [],
   "source": [
    "%load_ext line_profiler\n",
    "%load_ext autoreload\n",
    "%autoreload 2"
   ]
  },
  {
   "cell_type": "code",
   "execution_count": 3,
   "metadata": {},
   "outputs": [],
   "source": [
    "hdr_keys = ['DATE-OBS', 'RA', 'DEC', 'AZ', 'EL', 'ROT', 'TEMP', 'FOCUS', 'CHAM_DPT', 'CHAM_T', 'OUT_T', 'WIND_W', 'WDIR_W', 'PRESSURE',\n",
    "            'EXPTIME', 'AIRMASS', 'OSSTEMP', 'TRANSX', 'TRANSY', 'TILTX', 'TILTY']\n",
    "f5_hdr_keys = ['DATEOBS', 'UT', 'RA', 'DEC', 'AZ', 'EL', 'ROT', 'FOCUS', 'T_OUT', 'T_CHAM', 'RH_OUT', 'RH_CHAM', 'P_BARO', 'EXPTIME', 'AIRMASS',\n",
    "               'WIND', 'WINDDIR', 'OSSTEMP', 'TRANSX', 'TRANSY', 'TILTX', 'TILTY']\n",
    "old_f9_keys = ['DATE-OBS', 'TIME-OBS', 'RA', 'DEC', 'AZ', 'EL', 'ROT', 'FOCUS', 'T_OUT', 'T_CHAM', 'RH_OUT', 'RH_CHAM', 'P_BARO', 'EXPTIME', 'AIRMASS',\n",
    "               'WIND', 'WINDDIR', 'OSSTEMP', 'TRANSX', 'TRANSY', 'TILTX', 'TILTY']"
   ]
  },
  {
   "cell_type": "code",
   "execution_count": 4,
   "metadata": {},
   "outputs": [],
   "source": [
    "def check_image(f, wfskey=None):\n",
    "    hdr = {}\n",
    "    with fits.open(f) as hdulist:\n",
    "        for h in hdulist:\n",
    "            hdr.update(h.header)\n",
    "        data = hdulist[-1].data\n",
    "    \n",
    "    # if wfskey is None, figure out which WFS from the header info...\n",
    "    if wfskey is None:\n",
    "        # check for MMIRS\n",
    "        if 'WFSNAME' in hdr:\n",
    "            if 'mmirs' in hdr['WFSNAME']:\n",
    "                wfskey = 'mmirs'\n",
    "        if 'mmirs' in f.name:\n",
    "            wfskey = 'mmirs'\n",
    "\n",
    "        # check for binospec\n",
    "        if 'bino' in f.name:\n",
    "            wfskey = 'binospec'\n",
    "        if 'ORIGIN' in hdr:\n",
    "            if 'Binospec' in hdr['ORIGIN']:\n",
    "                wfskey = 'binospec'\n",
    "\n",
    "        # check for new F/9\n",
    "        if 'f9wfs' in f.name:\n",
    "            wfskey = 'newf9'\n",
    "        if 'OBSERVER' in hdr:\n",
    "            if 'F/9 WFS' in hdr['OBSERVER']:\n",
    "                wfskey = 'newf9'\n",
    "        if wfskey is None and 'CAMERA' in hdr:\n",
    "            if 'F/9 WFS' in hdr['CAMERA']:\n",
    "                wfskey = 'newf9'\n",
    "\n",
    "        # check for old F/9\n",
    "        if 'INSTRUME' in hdr:\n",
    "            if 'Apogee' in hdr['INSTRUME']:\n",
    "                wfskey = 'oldf9'\n",
    "        if 'DETECTOR' in hdr:\n",
    "            if 'Apogee' in hdr['DETECTOR']:\n",
    "                wfskey = 'oldf9'\n",
    "\n",
    "        # check for F/5 (hecto)\n",
    "        if wfskey is None and 'SEC' in hdr:  # mmirs has SEC in header as well and is caught above\n",
    "            if 'F5' in hdr['SEC']:\n",
    "                wfskey = 'f5'\n",
    "\n",
    "    if wfskey is None:\n",
    "        # if wfskey is still None at this point, whinge.\n",
    "        print(f\"Can't determine WFS for {f.name}...\")\n",
    "\n",
    "    if 'AIRMASS' not in hdr:\n",
    "        hdr['AIRMASS'] = np.nan\n",
    "\n",
    "    # we need to fix the headers in all cases to have a proper DATE-OBS entry with\n",
    "    # properly formatted FITS timestamp.  in the meantime, this hack gets us what we need \n",
    "    # for analysis in pandas.\n",
    "    dtime = None\n",
    "    if 'DATEOBS' in hdr:\n",
    "        dateobs = hdr['DATEOBS']\n",
    "        if 'UT' in hdr:\n",
    "            ut = hdr['UT']\n",
    "        elif 'TIME-OBS' in hdr:\n",
    "            ut = hdr['TIME-OBS']\n",
    "        else:\n",
    "            ut = \"07:00:00\"  # midnight\n",
    "        timestring = dateobs + \" \" + ut + \" UTC\"\n",
    "        if wfskey in ('newf9', 'f5'):\n",
    "            dtime = datetime.strptime(timestring, \"%a %b %d %Y %H:%M:%S %Z\")\n",
    "        else:\n",
    "            dtime = datetime.strptime(timestring, \"%Y-%m-%d %H:%M:%S %Z\")\n",
    "    else:\n",
    "        if wfskey == \"oldf9\":\n",
    "            d = hdr['DATE-OBS']\n",
    "            day, month, year = d.split('/')\n",
    "            year = str(int(year) + 1900)\n",
    "            timestring = year + \"-\" + month + \"-\" + day + \" \" + hdr['TIME-OBS'] + \" UTC\"\n",
    "            dtime = datetime.strptime(timestring, \"%Y-%m-%d %H:%M:%S %Z\")\n",
    "        else:\n",
    "            timestring = hdr['DATE-OBS'] + \" UTC\"\n",
    "            try:\n",
    "                dtime = datetime.strptime(timestring, \"%Y-%m-%dT%H:%M:%S.%f %Z\")\n",
    "            except:\n",
    "                dtime = datetime.strptime(timestring, \"%Y-%m-%dT%H:%M:%S %Z\")\n",
    "\n",
    "    if dtime is None:\n",
    "        print(f\"No valid timestamp in header for {f.name}...\")\n",
    "        obstime = None\n",
    "    else:\n",
    "        obstime = dtime.isoformat()\n",
    "        \n",
    "    hdr['WFSKEY'] = wfskey\n",
    "    hdr['OBS-TIME'] = obstime\n",
    "    return data, hdr"
   ]
  },
  {
   "cell_type": "code",
   "execution_count": 5,
   "metadata": {},
   "outputs": [
    {
     "name": "stdout",
     "output_type": "stream",
     "text": [
      "/Volumes/LACIE SHARE/wfsdat/20030321\n"
     ]
    }
   ],
   "source": [
    "#%cd /Users/tim/MMT/wfsdat/20180209\n",
    "%cd /Volumes/LACIE\\ SHARE/wfsdat/20030321"
   ]
  },
  {
   "cell_type": "code",
   "execution_count": 6,
   "metadata": {},
   "outputs": [
    {
     "data": {
      "text/plain": [
       "((512, 512),\n",
       " {'SIMPLE': True,\n",
       "  'BITPIX': 16,\n",
       "  'NAXIS': 2,\n",
       "  'NAXIS1': 512,\n",
       "  'NAXIS2': 512,\n",
       "  'BZERO': 32768,\n",
       "  'BSCALE': 1,\n",
       "  'OFFSET1': 0,\n",
       "  'OFFSET2': 0,\n",
       "  'XFACTOR': 1,\n",
       "  'YFACTOR': 1,\n",
       "  'EXPTIME': 20,\n",
       "  'ORIGIN': 'Clear Sky Institute',\n",
       "  'TELESCOP': 'Engineering model',\n",
       "  'CDELT1': -0.0003444444444,\n",
       "  'CDELT2': -0.0003444444444,\n",
       "  'INSTRUME': 'Apogee CCD Camera',\n",
       "  'JD': 2452720.70917,\n",
       "  'DATE-OBS': '22/03/103',\n",
       "  'TIME-OBS': '05:01:12',\n",
       "  'FILTER': 'C',\n",
       "  'CAMTEMP': -19,\n",
       "  'AIRMASS': nan,\n",
       "  'WFSKEY': 'oldf9',\n",
       "  'OBS-TIME': '2003-03-22T05:01:12'})"
      ]
     },
     "execution_count": 6,
     "metadata": {},
     "output_type": "execute_result"
    }
   ],
   "source": [
    "file = Path(\"wfs_start_0188.fits\")\n",
    "data, hdr = check_image(file)\n",
    "data.shape, hdr"
   ]
  },
  {
   "cell_type": "code",
   "execution_count": 36,
   "metadata": {},
   "outputs": [],
   "source": [
    "def process_image(f, clobber=False):\n",
    "    tablefile = Path(f.stem + \".csv\")\n",
    "    if tablefile.exists() and not clobber:\n",
    "        print(f\"{file.name} already processed...\")\n",
    "        return\n",
    "    else:\n",
    "        print(f\"Processing {file.name}...\")\n",
    "\n",
    "    data, hdr = check_image(file)\n",
    "    mean, median, stddev = stats.sigma_clipped_stats(data, sigma=3.0, iters=None)\n",
    "    data = data - median\n",
    "    spots, fig = wfsfind(data, plot=False)\n",
    "\n",
    "    apsize = 12.\n",
    "    apers = photutils.CircularAperture(\n",
    "            (spots['xcentroid'], spots['ycentroid']),\n",
    "            r=apsize\n",
    "    )\n",
    "    masks = apers.to_mask(method=\"subpixel\")\n",
    "\n",
    "    props = []\n",
    "    spot_lines = []\n",
    "    fit_lines = []\n",
    "    for m, s in zip(masks, spots):\n",
    "        tline = {}\n",
    "        subim = m.cutout(data)\n",
    "        props_table = photutils.data_properties(subim).to_table()\n",
    "        props.append(props_table)\n",
    "        spot_lines.append(s)\n",
    "        tline['filename'] = file.name\n",
    "        for k in hdr:\n",
    "            tline[k] = hdr[k]\n",
    "\n",
    "        y, x = np.mgrid[:subim.shape[0], :subim.shape[1]]\n",
    "        sigma = (props_table['semimajor_axis_sigma'][0].value + props_table['semiminor_axis_sigma'][0].value) / 2.\n",
    "\n",
    "        fitter = LevMarLSQFitter()\n",
    "        gauss_model = Gaussian2D(\n",
    "            amplitude=subim.max(),\n",
    "            x_mean=subim.shape[1]/2.,\n",
    "            y_mean=subim.shape[0]/2.,\n",
    "            x_stddev = sigma,\n",
    "            y_stddev = sigma\n",
    "        ) + Polynomial2D(degree=0)\n",
    "        moffat_model = Moffat2D(\n",
    "            amplitude=subim.max(),\n",
    "            x_0=subim.shape[1]/2.,\n",
    "            y_0=subim.shape[0]/2.,\n",
    "            gamma=sigma\n",
    "        ) + Polynomial2D(degree=0)\n",
    "        gauss_fit = fitter(gauss_model, x, y, subim)\n",
    "        moffat_fit = fitter(moffat_model, x, y, subim)\n",
    "\n",
    "        gauss_resid = subim - gauss_fit(x, y)\n",
    "        moffat_resid = subim - moffat_fit(x, y)\n",
    "\n",
    "        gamma = moffat_fit.gamma_0.value\n",
    "        alpha = moffat_fit.alpha_0.value\n",
    "        moffat_fwhm = np.abs(2. * gamma * np.sqrt(2.**(1./alpha) - 1.))\n",
    "        gauss_fwhm = 0.5 * (gauss_fit.x_stddev_0.value + gauss_fit.y_stddev_0.value) * stats.gaussian_sigma_to_fwhm\n",
    "        moment_fwhm = 0.5 * (props_table['semimajor_axis_sigma'][0].value + props_table['semiminor_axis_sigma'][0].value) * stats.gaussian_sigma_to_fwhm\n",
    "\n",
    "        tline['gauss_x'] = gauss_fit.x_mean_0.value\n",
    "        tline['gauss_y'] = gauss_fit.y_mean_0.value\n",
    "        tline['gauss_sigx'] = gauss_fit.x_stddev_0.value\n",
    "        tline['gauss_sigy'] = gauss_fit.y_stddev_0.value\n",
    "        tline['gauss_amplitude'] = gauss_fit.amplitude_0.value\n",
    "        tline['gauss_theta'] = gauss_fit.theta_0.value\n",
    "        tline['gauss_background'] = gauss_fit.c0_0_1.value\n",
    "        tline['gauss_rms'] = np.nanstd(gauss_resid)\n",
    "        tline['moffat_amplitude'] = moffat_fit.amplitude_0.value\n",
    "        tline['moffat_gamma'] = gamma\n",
    "        tline['moffat_alpha'] = alpha\n",
    "        tline['moffat_x'] = moffat_fit.x_0_0.value\n",
    "        tline['moffat_y'] = moffat_fit.y_0_0.value\n",
    "        tline['moffat_background'] = moffat_fit.c0_0_1.value\n",
    "        tline['moffat_rms'] = np.nanstd(moffat_resid)\n",
    "        tline['moment_fwhm'] = moment_fwhm\n",
    "        tline['gauss_fwhm'] = gauss_fwhm\n",
    "        tline['moffat_fwhm'] = moffat_fwhm\n",
    "        fit_lines.append(tline)\n",
    "    fit_table = Table(fit_lines)\n",
    "    spot_table = Table(vstack(spot_lines))\n",
    "    prop_table = Table(vstack(props))\n",
    "    t = hstack([spot_table, prop_table, fit_table])\n",
    "    if tablefile.exists():\n",
    "        if clobber:\n",
    "            t.write(tablefile, format=\"csv\")\n",
    "    else:\n",
    "        t.write(tablefile, format=\"csv\")"
   ]
  },
  {
   "cell_type": "code",
   "execution_count": 37,
   "metadata": {},
   "outputs": [
    {
     "name": "stdout",
     "output_type": "stream",
     "text": [
      "Processing wfs_start_0188.fits...\n"
     ]
    },
    {
     "name": "stderr",
     "output_type": "stream",
     "text": [
      "WARNING: The fit may be unsuccessful; check fit_info['message'] for more information. [astropy.modeling.fitting]\n"
     ]
    }
   ],
   "source": [
    "process_image(file, clobber=True)"
   ]
  },
  {
   "cell_type": "code",
   "execution_count": 93,
   "metadata": {},
   "outputs": [
    {
     "data": {
      "application/vnd.jupyter.widget-view+json": {
       "model_id": "c94932896be8433fa982b2be779e0649",
       "version_major": 2,
       "version_minor": 0
      },
      "text/plain": [
       "FigureCanvasNbAgg()"
      ]
     },
     "metadata": {},
     "output_type": "display_data"
    },
    {
     "data": {
      "application/vnd.jupyter.widget-view+json": {
       "model_id": "e0f1a42182cb426591a933985997eb10",
       "version_major": 2,
       "version_minor": 0
      },
      "text/plain": [
       "FigureCanvasNbAgg()"
      ]
     },
     "metadata": {},
     "output_type": "display_data"
    }
   ],
   "source": [
    "t.hist(column='gauss_fwhm', bins=50, range=(0,10), alpha=0.6)\n",
    "t.hist(column='moffat_fwhm', bins=50, range=(0,10), alpha=0.6)\n",
    "plt.show()"
   ]
  },
  {
   "cell_type": "code",
   "execution_count": 86,
   "metadata": {},
   "outputs": [
    {
     "data": {
      "text/plain": [
       "(495.81356566699588, 398.06243108166296)"
      ]
     },
     "execution_count": 86,
     "metadata": {},
     "output_type": "execute_result"
    }
   ],
   "source": [
    "t['gauss_background'].mean(), t['moffat_background'].mean()"
   ]
  },
  {
   "cell_type": "code",
   "execution_count": 87,
   "metadata": {},
   "outputs": [
    {
     "data": {
      "application/vnd.jupyter.widget-view+json": {
       "model_id": "",
       "version_major": 2,
       "version_minor": 0
      },
      "text/plain": [
       "FigureCanvasNbAgg()"
      ]
     },
     "metadata": {},
     "output_type": "display_data"
    },
    {
     "data": {
      "text/plain": [
       "array([[<matplotlib.axes._subplots.AxesSubplot object at 0x1c217115f8>]], dtype=object)"
      ]
     },
     "execution_count": 87,
     "metadata": {},
     "output_type": "execute_result"
    }
   ],
   "source": [
    "t.hist(column='ellipticity', bins=50, range=(0,1.0), alpha=0.6)"
   ]
  },
  {
   "cell_type": "code",
   "execution_count": 97,
   "metadata": {},
   "outputs": [
    {
     "data": {
      "text/plain": [
       "0.015914200328812602"
      ]
     },
     "execution_count": 97,
     "metadata": {},
     "output_type": "execute_result"
    }
   ],
   "source": [
    "(t['moffat_rms']/t['moffat_amplitude']).mean()"
   ]
  },
  {
   "cell_type": "code",
   "execution_count": 91,
   "metadata": {},
   "outputs": [
    {
     "data": {
      "application/vnd.jupyter.widget-view+json": {
       "model_id": "4c77b72503484a60abb915f7268cdd17",
       "version_major": 2,
       "version_minor": 0
      },
      "text/plain": [
       "FigureCanvasNbAgg()"
      ]
     },
     "metadata": {},
     "output_type": "display_data"
    }
   ],
   "source": [
    "%matplotlib ipympl\n",
    "plt.imshow(gauss_resids[100])\n",
    "plt.show()"
   ]
  },
  {
   "cell_type": "code",
   "execution_count": 22,
   "metadata": {},
   "outputs": [],
   "source": [
    "#%matplotlib ipympl\n",
    "plt.imshow(moffat_resids[10])\n",
    "plt.show()"
   ]
  },
  {
   "cell_type": "code",
   "execution_count": 35,
   "metadata": {},
   "outputs": [
    {
     "name": "stderr",
     "output_type": "stream",
     "text": [
      "WARNING: The fit may be unsuccessful; check fit_info['message'] for more information. [astropy.modeling.fitting]\n"
     ]
    },
    {
     "data": {
      "text/plain": [
       "Timer unit: 1e-06 s\n",
       "\n",
       "Total time: 29.8775 s\n",
       "File: <ipython-input-33-bb5c1b33ae24>\n",
       "Function: process_image at line 1\n",
       "\n",
       "Line #      Hits         Time  Per Hit   % Time  Line Contents\n",
       "==============================================================\n",
       "     1                                           def process_image(f, clobber=False):\n",
       "     2         1         91.0     91.0      0.0      tablefile = Path(f.stem + \".csv\")\n",
       "     3         1         90.0     90.0      0.0      if tablefile.exists() and not clobber:\n",
       "     4                                                   print(f\"{file.name} already processed...\")\n",
       "     5                                                   return\n",
       "     6                                           \n",
       "     7         1     150092.0 150092.0      0.5      data, hdr = check_image(file)\n",
       "     8         1     510791.0 510791.0      1.7      mean, median, stddev = stats.sigma_clipped_stats(data, sigma=3.0, iters=None)\n",
       "     9         1        272.0    272.0      0.0      data = data - median\n",
       "    10         1     322845.0 322845.0      1.1      spots, fig = wfsfind(data, plot=False)\n",
       "    11                                           \n",
       "    12         1          2.0      2.0      0.0      apsize = 12.\n",
       "    13         1          3.0      3.0      0.0      apers = photutils.CircularAperture(\n",
       "    14         1          9.0      9.0      0.0              (spots['xcentroid'], spots['ycentroid']),\n",
       "    15         1         36.0     36.0      0.0              r=apsize\n",
       "    16                                               )\n",
       "    17         1       6308.0   6308.0      0.0      masks = apers.to_mask(method=\"subpixel\")\n",
       "    18                                           \n",
       "    19         1          2.0      2.0      0.0      props = []\n",
       "    20         1          1.0      1.0      0.0      spot_lines = []\n",
       "    21         1          2.0      2.0      0.0      fit_lines = []\n",
       "    22       144       4301.0     29.9      0.0      for m, s in zip(masks, spots):\n",
       "    23       143        208.0      1.5      0.0          tline = {}\n",
       "    24       143       2024.0     14.2      0.0          subim = m.cutout(data)\n",
       "    25       143    6826979.0  47741.1     22.8          props_table = photutils.data_properties(subim).to_table()\n",
       "    26       143        469.0      3.3      0.0          props.append(props_table)\n",
       "    27       143        246.0      1.7      0.0          spot_lines.append(s)\n",
       "    28       143       1037.0      7.3      0.0          tline['filename'] = file.name\n",
       "    29      3718       5025.0      1.4      0.0          for k in hdr:\n",
       "    30      3575       5037.0      1.4      0.0              tline[k] = hdr[k]\n",
       "    31                                           \n",
       "    32       143      11583.0     81.0      0.0          y, x = np.mgrid[:subim.shape[0], :subim.shape[1]]\n",
       "    33       143      24912.0    174.2      0.1          sigma = (props_table['semimajor_axis_sigma'][0].value + props_table['semiminor_axis_sigma'][0].value) / 2.\n",
       "    34                                           \n",
       "    35       143       1781.0     12.5      0.0          fitter = LevMarLSQFitter()\n",
       "    36       143        231.0      1.6      0.0          gauss_model = Gaussian2D(\n",
       "    37       143       2499.0     17.5      0.0              amplitude=subim.max(),\n",
       "    38       143        298.0      2.1      0.0              x_mean=subim.shape[1]/2.,\n",
       "    39       143        201.0      1.4      0.0              y_mean=subim.shape[0]/2.,\n",
       "    40       143        163.0      1.1      0.0              x_stddev = sigma,\n",
       "    41       143      72432.0    506.5      0.2              y_stddev = sigma\n",
       "    42       143    1780906.0  12453.9      6.0          ) + Polynomial2D(degree=0)\n",
       "    43       143        390.0      2.7      0.0          moffat_model = Moffat2D(\n",
       "    44       143       3219.0     22.5      0.0              amplitude=subim.max(),\n",
       "    45       143        389.0      2.7      0.0              x_0=subim.shape[1]/2.,\n",
       "    46       143        207.0      1.4      0.0              y_0=subim.shape[0]/2.,\n",
       "    47       143      59945.0    419.2      0.2              gamma=sigma\n",
       "    48       143    1690133.0  11819.1      5.7          ) + Polynomial2D(degree=0)\n",
       "    49       143    7916453.0  55359.8     26.5          gauss_fit = fitter(gauss_model, x, y, subim)\n",
       "    50       143    7933402.0  55478.3     26.6          moffat_fit = fitter(moffat_model, x, y, subim)\n",
       "    51                                           \n",
       "    52       143     108862.0    761.3      0.4          gauss_resid = subim - gauss_fit(x, y)\n",
       "    53       143      94758.0    662.6      0.3          moffat_resid = subim - moffat_fit(x, y)\n",
       "    54                                           \n",
       "    55       143       2234.0     15.6      0.0          gamma = moffat_fit.gamma_0.value\n",
       "    56       143       1563.0     10.9      0.0          alpha = moffat_fit.alpha_0.value\n",
       "    57       143       1598.0     11.2      0.0          moffat_fwhm = np.abs(2. * gamma * np.sqrt(2.**(1./alpha) - 1.))\n",
       "    58       143       3076.0     21.5      0.0          gauss_fwhm = 0.5 * (gauss_fit.x_stddev_0.value + gauss_fit.y_stddev_0.value) * stats.gaussian_sigma_to_fwhm\n",
       "    59       143      30136.0    210.7      0.1          moment_fwhm = 0.5 * (props_table['semimajor_axis_sigma'][0].value + props_table['semiminor_axis_sigma'][0].value) * stats.gaussian_sigma_to_fwhm\n",
       "    60                                           \n",
       "    61       143       2004.0     14.0      0.0          tline['gauss_x'] = gauss_fit.x_mean_0.value\n",
       "    62       143       1445.0     10.1      0.0          tline['gauss_y'] = gauss_fit.y_mean_0.value\n",
       "    63       143       1341.0      9.4      0.0          tline['gauss_sigx'] = gauss_fit.x_stddev_0.value\n",
       "    64       143       1306.0      9.1      0.0          tline['gauss_sigy'] = gauss_fit.y_stddev_0.value\n",
       "    65       143       1349.0      9.4      0.0          tline['gauss_amplitude'] = gauss_fit.amplitude_0.value\n",
       "    66       143       1325.0      9.3      0.0          tline['gauss_theta'] = gauss_fit.theta_0.value\n",
       "    67       143       1332.0      9.3      0.0          tline['gauss_background'] = gauss_fit.c0_0_1.value\n",
       "    68       143      25805.0    180.5      0.1          tline['gauss_rms'] = np.nanstd(gauss_resid)\n",
       "    69       143       2035.0     14.2      0.0          tline['moffat_amplitude'] = moffat_fit.amplitude_0.value\n",
       "    70       143        215.0      1.5      0.0          tline['moffat_gamma'] = gamma\n",
       "    71       143        184.0      1.3      0.0          tline['moffat_alpha'] = alpha\n",
       "    72       143       1436.0     10.0      0.0          tline['moffat_x'] = moffat_fit.x_0_0.value\n",
       "    73       143       1324.0      9.3      0.0          tline['moffat_y'] = moffat_fit.y_0_0.value\n",
       "    74       143       1311.0      9.2      0.0          tline['moffat_background'] = moffat_fit.c0_0_1.value\n",
       "    75       143      20145.0    140.9      0.1          tline['moffat_rms'] = np.nanstd(moffat_resid)\n",
       "    76       143        240.0      1.7      0.0          tline['moment_fwhm'] = moment_fwhm\n",
       "    77       143        421.0      2.9      0.0          tline['gauss_fwhm'] = gauss_fwhm\n",
       "    78       143        190.0      1.3      0.0          tline['moffat_fwhm'] = moffat_fwhm\n",
       "    79       143        282.0      2.0      0.0          fit_lines.append(tline)\n",
       "    80         1      14581.0  14581.0      0.0      fit_table = Table(fit_lines)\n",
       "    81         1     743586.0 743586.0      2.5      spot_table = Table(vstack(spot_lines))\n",
       "    82         1     894647.0 894647.0      3.0      prop_table = Table(vstack(props))\n",
       "    83         1     163437.0 163437.0      0.5      t = hstack([spot_table, prop_table, fit_table])\n",
       "    84         1         33.0     33.0      0.0      if tablefile.exists():\n",
       "    85                                                   if clobber:\n",
       "    86                                                       t.write(tablefile, format=\"csv\")\n",
       "    87                                               else:\n",
       "    88         1     420272.0 420272.0      1.4          t.write(tablefile, format=\"csv\")"
      ]
     },
     "metadata": {},
     "output_type": "display_data"
    }
   ],
   "source": [
    "%lprun -f process_image process_image(file)"
   ]
  },
  {
   "cell_type": "code",
   "execution_count": null,
   "metadata": {},
   "outputs": [],
   "source": []
  }
 ],
 "metadata": {
  "kernelspec": {
   "display_name": "Python 3",
   "language": "python",
   "name": "python3"
  },
  "language_info": {
   "codemirror_mode": {
    "name": "ipython",
    "version": 3
   },
   "file_extension": ".py",
   "mimetype": "text/x-python",
   "name": "python",
   "nbconvert_exporter": "python",
   "pygments_lexer": "ipython3",
   "version": "3.6.5"
  }
 },
 "nbformat": 4,
 "nbformat_minor": 2
}
