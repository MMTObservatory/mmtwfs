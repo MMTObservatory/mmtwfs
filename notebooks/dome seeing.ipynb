{
 "cells": [
  {
   "cell_type": "code",
   "execution_count": 1,
   "metadata": {},
   "outputs": [],
   "source": [
    "import time\n",
    "from datetime import datetime\n",
    "import pytz\n",
    "import os\n",
    "import sys\n",
    "import numpy as np\n",
    "import matplotlib\n",
    "%matplotlib ipympl\n",
    "import matplotlib.pyplot as plt\n",
    "import pandas as pd\n",
    "from matplotlib import style\n",
    "\n",
    "style.use('ggplot')\n",
    "\n",
    "import multiprocessing\n",
    "from multiprocessing import Pool\n",
    "\n",
    "from pathlib import Path\n",
    "\n",
    "import photutils\n",
    "import astropy.units as u\n",
    "from astropy import stats\n",
    "from astropy.io import fits\n",
    "from astropy.table import Table, hstack, vstack\n",
    "\n",
    "from astropy.modeling.models import Gaussian2D, Polynomial2D, Moffat2D\n",
    "from astropy.modeling.fitting import LevMarLSQFitter\n",
    "\n",
    "from mmtwfs.wfs import *\n",
    "from mmtwfs.zernike import ZernikeVector\n",
    "from mmtwfs.telescope import MMT\n",
    "from mmtwfs.custom_exceptions import WFSAnalysisFailed\n",
    "\n",
    "tz = pytz.timezone(\"America/Phoenix\")"
   ]
  },
  {
   "cell_type": "code",
   "execution_count": 2,
   "metadata": {},
   "outputs": [],
   "source": [
    "%load_ext line_profiler\n",
    "%load_ext autoreload\n",
    "%autoreload 2"
   ]
  },
  {
   "cell_type": "code",
   "execution_count": 3,
   "metadata": {},
   "outputs": [],
   "source": [
    "hdr_keys = ['DATE-OBS', 'RA', 'DEC', 'AZ', 'EL', 'ROT', 'TEMP', 'FOCUS', 'CHAM_DPT', 'CHAM_T', 'OUT_T', 'WIND_W', 'WDIR_W', 'PRESSURE',\n",
    "            'EXPTIME', 'AIRMASS', 'OSSTEMP', 'TRANSX', 'TRANSY', 'TILTX', 'TILTY']\n",
    "f5_hdr_keys = ['DATEOBS', 'UT', 'RA', 'DEC', 'AZ', 'EL', 'ROT', 'FOCUS', 'T_OUT', 'T_CHAM', 'RH_OUT', 'RH_CHAM', 'P_BARO', 'EXPTIME', 'AIRMASS',\n",
    "               'WIND', 'WINDDIR', 'OSSTEMP', 'TRANSX', 'TRANSY', 'TILTX', 'TILTY']\n",
    "old_f9_keys = ['DATE-OBS', 'TIME-OBS', 'RA', 'DEC', 'AZ', 'EL', 'ROT', 'FOCUS', 'T_OUT', 'T_CHAM', 'RH_OUT', 'RH_CHAM', 'P_BARO', 'EXPTIME', 'AIRMASS',\n",
    "               'WIND', 'WINDDIR', 'OSSTEMP', 'TRANSX', 'TRANSY', 'TILTX', 'TILTY']"
   ]
  },
  {
   "cell_type": "code",
   "execution_count": 4,
   "metadata": {},
   "outputs": [],
   "source": [
    "def check_image(f, wfskey=None):\n",
    "    hdr = {}\n",
    "    with fits.open(f) as hdulist:\n",
    "        for h in hdulist:\n",
    "            hdr.update(h.header)\n",
    "        data = hdulist[-1].data\n",
    "    \n",
    "    # if wfskey is None, figure out which WFS from the header info...\n",
    "    if wfskey is None:\n",
    "        # check for MMIRS\n",
    "        if 'WFSNAME' in hdr:\n",
    "            if 'mmirs' in hdr['WFSNAME']:\n",
    "                wfskey = 'mmirs'\n",
    "        if 'mmirs' in f.name:\n",
    "            wfskey = 'mmirs'\n",
    "\n",
    "        # check for binospec\n",
    "        if 'bino' in f.name:\n",
    "            wfskey = 'binospec'\n",
    "        if 'ORIGIN' in hdr:\n",
    "            if 'Binospec' in hdr['ORIGIN']:\n",
    "                wfskey = 'binospec'\n",
    "\n",
    "        # check for new F/9\n",
    "        if 'f9wfs' in f.name:\n",
    "            wfskey = 'newf9'\n",
    "        if 'OBSERVER' in hdr:\n",
    "            if 'F/9 WFS' in hdr['OBSERVER']:\n",
    "                wfskey = 'newf9'\n",
    "        if wfskey is None and 'CAMERA' in hdr:\n",
    "            if 'F/9 WFS' in hdr['CAMERA']:\n",
    "                wfskey = 'newf9'\n",
    "\n",
    "        # check for old F/9\n",
    "        if 'INSTRUME' in hdr:\n",
    "            if 'Apogee' in hdr['INSTRUME']:\n",
    "                wfskey = 'oldf9'\n",
    "        if 'DETECTOR' in hdr:\n",
    "            if 'Apogee' in hdr['DETECTOR']:\n",
    "                wfskey = 'oldf9'\n",
    "\n",
    "        # check for F/5 (hecto)\n",
    "        if wfskey is None and 'SEC' in hdr:  # mmirs has SEC in header as well and is caught above\n",
    "            if 'F5' in hdr['SEC']:\n",
    "                wfskey = 'f5'\n",
    "        if Path(f.parent / \"F5\").exists():\n",
    "            wfskey = 'f5'\n",
    "            \n",
    "    if wfskey is None:\n",
    "        # if wfskey is still None at this point, whinge.\n",
    "        print(f\"Can't determine WFS for {f.name}...\")\n",
    "\n",
    "    if 'AIRMASS' not in hdr:\n",
    "        if 'SECZ' in hdr:\n",
    "            hdr['AIRMASS'] = hdr['SECZ']\n",
    "        else:\n",
    "            hdr['AIRMASS'] = np.nan\n",
    "\n",
    "    # we need to fix the headers in all cases to have a proper DATE-OBS entry with\n",
    "    # properly formatted FITS timestamp.  in the meantime, this hack gets us what we need \n",
    "    # for analysis in pandas.\n",
    "    dtime = None\n",
    "    if 'DATEOBS' in hdr:\n",
    "        dateobs = hdr['DATEOBS']\n",
    "        if 'UT' in hdr:\n",
    "            ut = hdr['UT']\n",
    "        elif 'TIME-OBS' in hdr:\n",
    "            ut = hdr['TIME-OBS']\n",
    "        else:\n",
    "            ut = \"07:00:00\"  # midnight\n",
    "        timestring = dateobs + \" \" + ut + \" UTC\"\n",
    "        if wfskey in ('newf9', 'f5'):\n",
    "            if '-' in timestring:\n",
    "                dtime = datetime.strptime(timestring, \"%Y-%m-%d %H:%M:%S %Z\")\n",
    "            else:\n",
    "                dtime = datetime.strptime(timestring, \"%a %b %d %Y %H:%M:%S %Z\")\n",
    "\n",
    "        else:\n",
    "            dtime = datetime.strptime(timestring, \"%Y-%m-%d %H:%M:%S %Z\")\n",
    "    else:\n",
    "        if wfskey == \"oldf9\":\n",
    "            d = hdr['DATE-OBS']\n",
    "            if '/' in d:\n",
    "                day, month, year = d.split('/')\n",
    "                year = str(int(year) + 1900)\n",
    "                timestring = year + \"-\" + month + \"-\" + day + \" \" + hdr['TIME-OBS'] + \" UTC\"\n",
    "            else:\n",
    "                timestring = d + \" \" + hdr['TIME-OBS'] + \" UTC\"\n",
    "            dtime = datetime.strptime(timestring, \"%Y-%m-%d %H:%M:%S %Z\")\n",
    "        else:\n",
    "            if 'DATE-OBS' in hdr:\n",
    "                timestring = hdr['DATE-OBS'] + \" UTC\"\n",
    "                try:\n",
    "                    dtime = datetime.strptime(timestring, \"%Y-%m-%dT%H:%M:%S.%f %Z\")\n",
    "                except:\n",
    "                    dtime = datetime.strptime(timestring, \"%Y-%m-%dT%H:%M:%S %Z\")\n",
    "            else:\n",
    "                dt = datetime.fromtimestamp(f.stat().st_ctime)\n",
    "                local_dt = tz.localize(dt)\n",
    "                dtime = local_dt.astimezone(pytz.utc)\n",
    "\n",
    "    if dtime is None:\n",
    "        print(f\"No valid timestamp in header for {f.name}...\")\n",
    "        obstime = None\n",
    "    else:\n",
    "        obstime = dtime.isoformat().replace('+00:00', '')\n",
    "        \n",
    "    hdr['WFSKEY'] = wfskey\n",
    "    hdr['OBS-TIME'] = obstime\n",
    "    return data, hdr"
   ]
  },
  {
   "cell_type": "code",
   "execution_count": 5,
   "metadata": {},
   "outputs": [],
   "source": [
    "findpars = {\n",
    "    \"oldf9\": {\"fwhm\": 8.0, \"thresh\": 5.0},\n",
    "    \"newf9\": {\"fwhm\": 12.0, \"thresh\": 7.0},\n",
    "    \"f5\": {\"fwhm\": 9.0, \"thresh\": 5.0},\n",
    "    \"mmirs\": {\"fwhm\": 7.0, \"thresh\": 5.0},\n",
    "    \"binospec\": {\"fwhm\": 7.0, \"thresh\": 5.0}\n",
    "}"
   ]
  },
  {
   "cell_type": "code",
   "execution_count": 6,
   "metadata": {},
   "outputs": [
    {
     "name": "stdout",
     "output_type": "stream",
     "text": [
      "/Volumes/LACIE SHARE/wfsdat\n"
     ]
    }
   ],
   "source": [
    "#%cd /Users/tim/MMT/wfsdat/20180209\n",
    "%cd /Volumes/LACIE\\ SHARE/wfsdat"
   ]
  },
  {
   "cell_type": "code",
   "execution_count": 6,
   "metadata": {},
   "outputs": [
    {
     "data": {
      "text/plain": [
       "((512, 512),\n",
       " {'SIMPLE': True,\n",
       "  'BITPIX': 16,\n",
       "  'NAXIS': 2,\n",
       "  'NAXIS1': 512,\n",
       "  'NAXIS2': 512,\n",
       "  'BZERO': 32768,\n",
       "  'BSCALE': 1,\n",
       "  'OFFSET1': 0,\n",
       "  'OFFSET2': 0,\n",
       "  'XFACTOR': 1,\n",
       "  'YFACTOR': 1,\n",
       "  'EXPTIME': 20,\n",
       "  'ORIGIN': 'Clear Sky Institute',\n",
       "  'TELESCOP': 'Engineering model',\n",
       "  'CDELT1': -0.0003444444444,\n",
       "  'CDELT2': -0.0003444444444,\n",
       "  'INSTRUME': 'Apogee CCD Camera',\n",
       "  'JD': 2452720.70917,\n",
       "  'DATE-OBS': '22/03/103',\n",
       "  'TIME-OBS': '05:01:12',\n",
       "  'FILTER': 'C',\n",
       "  'CAMTEMP': -19,\n",
       "  'AIRMASS': nan,\n",
       "  'WFSKEY': 'oldf9',\n",
       "  'OBS-TIME': '2003-03-22T05:01:12'})"
      ]
     },
     "execution_count": 6,
     "metadata": {},
     "output_type": "execute_result"
    }
   ],
   "source": [
    "file = Path(\"wfs_start_0188.fits\")\n",
    "data, hdr = check_image(file)\n",
    "data.shape, hdr"
   ]
  },
  {
   "cell_type": "code",
   "execution_count": 7,
   "metadata": {},
   "outputs": [],
   "source": [
    "def process_image(f, clobber=False):\n",
    "    tablefile = Path(str(f.parent / f.stem) + \".csv\")\n",
    "    \n",
    "    if '_ave' in str(f):\n",
    "        print(f\"Not processing {f.name} because it's an average of multiple images\")\n",
    "        return\n",
    "    \n",
    "    if tablefile.exists() and not clobber:\n",
    "        print(f\"{f.name} already processed...\")\n",
    "        return\n",
    "    else:\n",
    "        print(f\"Processing {f.name}...\")\n",
    "\n",
    "    try:\n",
    "        data, hdr = check_image(f)\n",
    "        w = hdr['WFSKEY']\n",
    "        mean, median, stddev = stats.sigma_clipped_stats(data, sigma=3.0, iters=None)\n",
    "        data = data - median\n",
    "        spots, fig = wfsfind(data, fwhm=findpars[w]['fwhm'], threshold=findpars[w]['thresh'], plot=False)\n",
    "    except WFSAnalysisFailed as e:\n",
    "        try:\n",
    "            spots, fig = wfsfind(data, fwhm=2.*findpars[w]['fwhm'], threshold=findpars[w]['thresh'], plot=False)\n",
    "        except Exception as e:\n",
    "            print(f\"Failed to find spots for {str(Path(str(f.parent / f.stem)))}: {e}\")\n",
    "            return\n",
    "    except Exception as ee:\n",
    "        print(f\"Failure in data loading or spot finding in {str(Path(str(f.parent / f.stem)))}: {ee}\")\n",
    "        return      \n",
    "\n",
    "    apsize = 15.\n",
    "    apers = photutils.CircularAperture(\n",
    "            (spots['xcentroid'], spots['ycentroid']),\n",
    "            r=apsize\n",
    "    )\n",
    "    masks = apers.to_mask(method=\"subpixel\")\n",
    "    props = []\n",
    "    spot_lines = []\n",
    "    fit_lines = []\n",
    "    for m, s in zip(masks, spots):\n",
    "        tline = {}\n",
    "        subim = m.cutout(data)\n",
    "        try:\n",
    "            props_table = photutils.data_properties(subim).to_table()\n",
    "        except Exception as e:\n",
    "            print(f\"Can't measure source properties for {str(Path(str(f.parent / f.stem)))}: {e}\")\n",
    "            continue\n",
    "        moment_fwhm = 0.5 * (props_table['semimajor_axis_sigma'][0].value + props_table['semiminor_axis_sigma'][0].value) * stats.gaussian_sigma_to_fwhm\n",
    "        props.append(props_table)\n",
    "        spot_lines.append(s)\n",
    "        tline['filename'] = f.name\n",
    "        for k in hdr:\n",
    "            if 'COMMENT' not in k and k != '':\n",
    "                tline[k] = hdr[k]\n",
    "\n",
    "        y, x = np.mgrid[:subim.shape[0], :subim.shape[1]]\n",
    "        sigma = (props_table['semimajor_axis_sigma'][0].value + props_table['semiminor_axis_sigma'][0].value) / 2.\n",
    "\n",
    "        fitter = LevMarLSQFitter()\n",
    "        gauss_model = Gaussian2D(\n",
    "            amplitude=subim.max(),\n",
    "            x_mean=subim.shape[1]/2.,\n",
    "            y_mean=subim.shape[0]/2.,\n",
    "            x_stddev = sigma,\n",
    "            y_stddev = sigma\n",
    "        ) + Polynomial2D(degree=0)\n",
    "        moffat_model = Moffat2D(\n",
    "            amplitude=subim.max(),\n",
    "            x_0=subim.shape[1]/2.,\n",
    "            y_0=subim.shape[0]/2.,\n",
    "            gamma=sigma\n",
    "        ) + Polynomial2D(degree=0)\n",
    "        \n",
    "        try:\n",
    "            gauss_fit = fitter(gauss_model, x, y, subim)\n",
    "            gauss_resid = subim - gauss_fit(x, y)\n",
    "            gauss_fwhm = 0.5 * (gauss_fit.x_stddev_0.value + gauss_fit.y_stddev_0.value) * stats.gaussian_sigma_to_fwhm\n",
    "            tline['gauss_x'] = gauss_fit.x_mean_0.value\n",
    "            tline['gauss_y'] = gauss_fit.y_mean_0.value\n",
    "            tline['gauss_sigx'] = gauss_fit.x_stddev_0.value\n",
    "            tline['gauss_sigy'] = gauss_fit.y_stddev_0.value\n",
    "            tline['gauss_amplitude'] = gauss_fit.amplitude_0.value\n",
    "            tline['gauss_theta'] = gauss_fit.theta_0.value\n",
    "            tline['gauss_background'] = gauss_fit.c0_0_1.value\n",
    "            tline['gauss_rms'] = np.nanstd(gauss_resid)\n",
    "            tline['gauss_fwhm'] = gauss_fwhm\n",
    "        except Exception as e:\n",
    "            print(f\"Gaussian fit failed in {str(Path(str(f.parent / f.stem)))}: {e}\")\n",
    "            tline['gauss_x'] = np.nan\n",
    "            tline['gauss_y'] = np.nan\n",
    "            tline['gauss_sigx'] = np.nan\n",
    "            tline['gauss_sigy'] = np.nan\n",
    "            tline['gauss_amplitude'] = np.nan\n",
    "            tline['gauss_theta'] = np.nan\n",
    "            tline['gauss_background'] = np.nan\n",
    "            tline['gauss_rms'] = np.nan\n",
    "            tline['gauss_fwhm'] = np.nan\n",
    "            \n",
    "        try:\n",
    "            moffat_fit = fitter(moffat_model, x, y, subim)\n",
    "            moffat_resid = subim - moffat_fit(x, y)\n",
    "            gamma = moffat_fit.gamma_0.value\n",
    "            alpha = moffat_fit.alpha_0.value\n",
    "            moffat_fwhm = np.abs(2. * gamma * np.sqrt(2.**(1./alpha) - 1.))\n",
    "            tline['moffat_amplitude'] = moffat_fit.amplitude_0.value\n",
    "            tline['moffat_gamma'] = gamma\n",
    "            tline['moffat_alpha'] = alpha\n",
    "            tline['moffat_x'] = moffat_fit.x_0_0.value\n",
    "            tline['moffat_y'] = moffat_fit.y_0_0.value\n",
    "            tline['moffat_background'] = moffat_fit.c0_0_1.value\n",
    "            tline['moffat_rms'] = np.nanstd(moffat_resid)\n",
    "            tline['moment_fwhm'] = moment_fwhm\n",
    "            tline['moffat_fwhm'] = moffat_fwhm\n",
    "        except Exception as e:\n",
    "            print(f\"Moffat fit failed in {str(Path(str(f.parent / f.stem)))}: {e}\")\n",
    "            tline['moffat_amplitude'] = np.nan\n",
    "            tline['moffat_gamma'] = np.nan\n",
    "            tline['moffat_alpha'] = np.nan\n",
    "            tline['moffat_x'] = np.nan\n",
    "            tline['moffat_y'] = np.nan\n",
    "            tline['moffat_background'] = np.nan\n",
    "            tline['moffat_rms'] = np.nan\n",
    "            tline['moment_fwhm'] = np.nan\n",
    "            tline['moffat_fwhm'] = np.nan\n",
    "        fit_lines.append(tline)\n",
    "        \n",
    "    fit_table = Table(fit_lines)\n",
    "    spot_table = Table(vstack(spot_lines))\n",
    "    prop_table = Table(vstack(props))\n",
    "    t = hstack([spot_table, prop_table, fit_table])\n",
    "    try:\n",
    "        if tablefile.exists():\n",
    "            if clobber:\n",
    "                t.write(tablefile, format=\"csv\")\n",
    "        else:\n",
    "            t.write(tablefile, format=\"csv\")\n",
    "    except Exception as e:\n",
    "        print(f\"Failed to write {str(tablefile)}: {e}\")\n",
    "    return t"
   ]
  },
  {
   "cell_type": "code",
   "execution_count": 37,
   "metadata": {},
   "outputs": [
    {
     "name": "stdout",
     "output_type": "stream",
     "text": [
      "Processing wfs_start_0188.fits...\n"
     ]
    },
    {
     "name": "stderr",
     "output_type": "stream",
     "text": [
      "WARNING: The fit may be unsuccessful; check fit_info['message'] for more information. [astropy.modeling.fitting]\n"
     ]
    }
   ],
   "source": [
    "process_image(file, clobber=True)"
   ]
  },
  {
   "cell_type": "code",
   "execution_count": 93,
   "metadata": {},
   "outputs": [
    {
     "data": {
      "application/vnd.jupyter.widget-view+json": {
       "model_id": "c94932896be8433fa982b2be779e0649",
       "version_major": 2,
       "version_minor": 0
      },
      "text/plain": [
       "FigureCanvasNbAgg()"
      ]
     },
     "metadata": {},
     "output_type": "display_data"
    },
    {
     "data": {
      "application/vnd.jupyter.widget-view+json": {
       "model_id": "e0f1a42182cb426591a933985997eb10",
       "version_major": 2,
       "version_minor": 0
      },
      "text/plain": [
       "FigureCanvasNbAgg()"
      ]
     },
     "metadata": {},
     "output_type": "display_data"
    }
   ],
   "source": [
    "t.hist(column='gauss_fwhm', bins=50, range=(0,10), alpha=0.6)\n",
    "t.hist(column='moffat_fwhm', bins=50, range=(0,10), alpha=0.6)\n",
    "plt.show()"
   ]
  },
  {
   "cell_type": "code",
   "execution_count": 86,
   "metadata": {},
   "outputs": [
    {
     "data": {
      "text/plain": [
       "(495.81356566699588, 398.06243108166296)"
      ]
     },
     "execution_count": 86,
     "metadata": {},
     "output_type": "execute_result"
    }
   ],
   "source": [
    "t['gauss_background'].mean(), t['moffat_background'].mean()"
   ]
  },
  {
   "cell_type": "code",
   "execution_count": 87,
   "metadata": {},
   "outputs": [
    {
     "data": {
      "application/vnd.jupyter.widget-view+json": {
       "model_id": "",
       "version_major": 2,
       "version_minor": 0
      },
      "text/plain": [
       "FigureCanvasNbAgg()"
      ]
     },
     "metadata": {},
     "output_type": "display_data"
    },
    {
     "data": {
      "text/plain": [
       "array([[<matplotlib.axes._subplots.AxesSubplot object at 0x1c217115f8>]], dtype=object)"
      ]
     },
     "execution_count": 87,
     "metadata": {},
     "output_type": "execute_result"
    }
   ],
   "source": [
    "t.hist(column='ellipticity', bins=50, range=(0,1.0), alpha=0.6)"
   ]
  },
  {
   "cell_type": "code",
   "execution_count": 97,
   "metadata": {},
   "outputs": [
    {
     "data": {
      "text/plain": [
       "0.015914200328812602"
      ]
     },
     "execution_count": 97,
     "metadata": {},
     "output_type": "execute_result"
    }
   ],
   "source": [
    "(t['moffat_rms']/t['moffat_amplitude']).mean()"
   ]
  },
  {
   "cell_type": "code",
   "execution_count": 91,
   "metadata": {},
   "outputs": [
    {
     "data": {
      "application/vnd.jupyter.widget-view+json": {
       "model_id": "4c77b72503484a60abb915f7268cdd17",
       "version_major": 2,
       "version_minor": 0
      },
      "text/plain": [
       "FigureCanvasNbAgg()"
      ]
     },
     "metadata": {},
     "output_type": "display_data"
    }
   ],
   "source": [
    "%matplotlib ipympl\n",
    "plt.imshow(gauss_resids[100])\n",
    "plt.show()"
   ]
  },
  {
   "cell_type": "code",
   "execution_count": 22,
   "metadata": {},
   "outputs": [],
   "source": [
    "#%matplotlib ipympl\n",
    "plt.imshow(moffat_resids[10])\n",
    "plt.show()"
   ]
  },
  {
   "cell_type": "code",
   "execution_count": 35,
   "metadata": {},
   "outputs": [
    {
     "name": "stderr",
     "output_type": "stream",
     "text": [
      "WARNING: The fit may be unsuccessful; check fit_info['message'] for more information. [astropy.modeling.fitting]\n"
     ]
    },
    {
     "data": {
      "text/plain": [
       "Timer unit: 1e-06 s\n",
       "\n",
       "Total time: 29.8775 s\n",
       "File: <ipython-input-33-bb5c1b33ae24>\n",
       "Function: process_image at line 1\n",
       "\n",
       "Line #      Hits         Time  Per Hit   % Time  Line Contents\n",
       "==============================================================\n",
       "     1                                           def process_image(f, clobber=False):\n",
       "     2         1         91.0     91.0      0.0      tablefile = Path(f.stem + \".csv\")\n",
       "     3         1         90.0     90.0      0.0      if tablefile.exists() and not clobber:\n",
       "     4                                                   print(f\"{file.name} already processed...\")\n",
       "     5                                                   return\n",
       "     6                                           \n",
       "     7         1     150092.0 150092.0      0.5      data, hdr = check_image(file)\n",
       "     8         1     510791.0 510791.0      1.7      mean, median, stddev = stats.sigma_clipped_stats(data, sigma=3.0, iters=None)\n",
       "     9         1        272.0    272.0      0.0      data = data - median\n",
       "    10         1     322845.0 322845.0      1.1      spots, fig = wfsfind(data, plot=False)\n",
       "    11                                           \n",
       "    12         1          2.0      2.0      0.0      apsize = 12.\n",
       "    13         1          3.0      3.0      0.0      apers = photutils.CircularAperture(\n",
       "    14         1          9.0      9.0      0.0              (spots['xcentroid'], spots['ycentroid']),\n",
       "    15         1         36.0     36.0      0.0              r=apsize\n",
       "    16                                               )\n",
       "    17         1       6308.0   6308.0      0.0      masks = apers.to_mask(method=\"subpixel\")\n",
       "    18                                           \n",
       "    19         1          2.0      2.0      0.0      props = []\n",
       "    20         1          1.0      1.0      0.0      spot_lines = []\n",
       "    21         1          2.0      2.0      0.0      fit_lines = []\n",
       "    22       144       4301.0     29.9      0.0      for m, s in zip(masks, spots):\n",
       "    23       143        208.0      1.5      0.0          tline = {}\n",
       "    24       143       2024.0     14.2      0.0          subim = m.cutout(data)\n",
       "    25       143    6826979.0  47741.1     22.8          props_table = photutils.data_properties(subim).to_table()\n",
       "    26       143        469.0      3.3      0.0          props.append(props_table)\n",
       "    27       143        246.0      1.7      0.0          spot_lines.append(s)\n",
       "    28       143       1037.0      7.3      0.0          tline['filename'] = file.name\n",
       "    29      3718       5025.0      1.4      0.0          for k in hdr:\n",
       "    30      3575       5037.0      1.4      0.0              tline[k] = hdr[k]\n",
       "    31                                           \n",
       "    32       143      11583.0     81.0      0.0          y, x = np.mgrid[:subim.shape[0], :subim.shape[1]]\n",
       "    33       143      24912.0    174.2      0.1          sigma = (props_table['semimajor_axis_sigma'][0].value + props_table['semiminor_axis_sigma'][0].value) / 2.\n",
       "    34                                           \n",
       "    35       143       1781.0     12.5      0.0          fitter = LevMarLSQFitter()\n",
       "    36       143        231.0      1.6      0.0          gauss_model = Gaussian2D(\n",
       "    37       143       2499.0     17.5      0.0              amplitude=subim.max(),\n",
       "    38       143        298.0      2.1      0.0              x_mean=subim.shape[1]/2.,\n",
       "    39       143        201.0      1.4      0.0              y_mean=subim.shape[0]/2.,\n",
       "    40       143        163.0      1.1      0.0              x_stddev = sigma,\n",
       "    41       143      72432.0    506.5      0.2              y_stddev = sigma\n",
       "    42       143    1780906.0  12453.9      6.0          ) + Polynomial2D(degree=0)\n",
       "    43       143        390.0      2.7      0.0          moffat_model = Moffat2D(\n",
       "    44       143       3219.0     22.5      0.0              amplitude=subim.max(),\n",
       "    45       143        389.0      2.7      0.0              x_0=subim.shape[1]/2.,\n",
       "    46       143        207.0      1.4      0.0              y_0=subim.shape[0]/2.,\n",
       "    47       143      59945.0    419.2      0.2              gamma=sigma\n",
       "    48       143    1690133.0  11819.1      5.7          ) + Polynomial2D(degree=0)\n",
       "    49       143    7916453.0  55359.8     26.5          gauss_fit = fitter(gauss_model, x, y, subim)\n",
       "    50       143    7933402.0  55478.3     26.6          moffat_fit = fitter(moffat_model, x, y, subim)\n",
       "    51                                           \n",
       "    52       143     108862.0    761.3      0.4          gauss_resid = subim - gauss_fit(x, y)\n",
       "    53       143      94758.0    662.6      0.3          moffat_resid = subim - moffat_fit(x, y)\n",
       "    54                                           \n",
       "    55       143       2234.0     15.6      0.0          gamma = moffat_fit.gamma_0.value\n",
       "    56       143       1563.0     10.9      0.0          alpha = moffat_fit.alpha_0.value\n",
       "    57       143       1598.0     11.2      0.0          moffat_fwhm = np.abs(2. * gamma * np.sqrt(2.**(1./alpha) - 1.))\n",
       "    58       143       3076.0     21.5      0.0          gauss_fwhm = 0.5 * (gauss_fit.x_stddev_0.value + gauss_fit.y_stddev_0.value) * stats.gaussian_sigma_to_fwhm\n",
       "    59       143      30136.0    210.7      0.1          moment_fwhm = 0.5 * (props_table['semimajor_axis_sigma'][0].value + props_table['semiminor_axis_sigma'][0].value) * stats.gaussian_sigma_to_fwhm\n",
       "    60                                           \n",
       "    61       143       2004.0     14.0      0.0          tline['gauss_x'] = gauss_fit.x_mean_0.value\n",
       "    62       143       1445.0     10.1      0.0          tline['gauss_y'] = gauss_fit.y_mean_0.value\n",
       "    63       143       1341.0      9.4      0.0          tline['gauss_sigx'] = gauss_fit.x_stddev_0.value\n",
       "    64       143       1306.0      9.1      0.0          tline['gauss_sigy'] = gauss_fit.y_stddev_0.value\n",
       "    65       143       1349.0      9.4      0.0          tline['gauss_amplitude'] = gauss_fit.amplitude_0.value\n",
       "    66       143       1325.0      9.3      0.0          tline['gauss_theta'] = gauss_fit.theta_0.value\n",
       "    67       143       1332.0      9.3      0.0          tline['gauss_background'] = gauss_fit.c0_0_1.value\n",
       "    68       143      25805.0    180.5      0.1          tline['gauss_rms'] = np.nanstd(gauss_resid)\n",
       "    69       143       2035.0     14.2      0.0          tline['moffat_amplitude'] = moffat_fit.amplitude_0.value\n",
       "    70       143        215.0      1.5      0.0          tline['moffat_gamma'] = gamma\n",
       "    71       143        184.0      1.3      0.0          tline['moffat_alpha'] = alpha\n",
       "    72       143       1436.0     10.0      0.0          tline['moffat_x'] = moffat_fit.x_0_0.value\n",
       "    73       143       1324.0      9.3      0.0          tline['moffat_y'] = moffat_fit.y_0_0.value\n",
       "    74       143       1311.0      9.2      0.0          tline['moffat_background'] = moffat_fit.c0_0_1.value\n",
       "    75       143      20145.0    140.9      0.1          tline['moffat_rms'] = np.nanstd(moffat_resid)\n",
       "    76       143        240.0      1.7      0.0          tline['moment_fwhm'] = moment_fwhm\n",
       "    77       143        421.0      2.9      0.0          tline['gauss_fwhm'] = gauss_fwhm\n",
       "    78       143        190.0      1.3      0.0          tline['moffat_fwhm'] = moffat_fwhm\n",
       "    79       143        282.0      2.0      0.0          fit_lines.append(tline)\n",
       "    80         1      14581.0  14581.0      0.0      fit_table = Table(fit_lines)\n",
       "    81         1     743586.0 743586.0      2.5      spot_table = Table(vstack(spot_lines))\n",
       "    82         1     894647.0 894647.0      3.0      prop_table = Table(vstack(props))\n",
       "    83         1     163437.0 163437.0      0.5      t = hstack([spot_table, prop_table, fit_table])\n",
       "    84         1         33.0     33.0      0.0      if tablefile.exists():\n",
       "    85                                                   if clobber:\n",
       "    86                                                       t.write(tablefile, format=\"csv\")\n",
       "    87                                               else:\n",
       "    88         1     420272.0 420272.0      1.4          t.write(tablefile, format=\"csv\")"
      ]
     },
     "metadata": {},
     "output_type": "display_data"
    }
   ],
   "source": [
    "%lprun -f process_image process_image(file)"
   ]
  },
  {
   "cell_type": "code",
   "execution_count": 77,
   "metadata": {},
   "outputs": [],
   "source": [
    "rootdir = Path(\"/Volumes/LACIE SHARE/wfsdat\")\n",
    "dirs = sorted(list(rootdir.glob(\"200610*\")))"
   ]
  },
  {
   "cell_type": "code",
   "execution_count": 78,
   "metadata": {},
   "outputs": [
    {
     "name": "stdout",
     "output_type": "stream",
     "text": [
      "Working in 20061001...\n",
      "Processing auto_wfs_0005.fits...\n",
      "Processing auto_wfs_0000.fits...\n",
      "Processing auto_wfs_0003.fits...\n",
      "Processing auto_wfs_0007_ave.fits...\n",
      "Processing auto_wfs_0012.fits...\n",
      "Processing auto_wfs_0010.fits...\n",
      "Processing auto_wfs_0015.fits...\n",
      "Processing auto_wfs_0017.fits...\n"
     ]
    },
    {
     "name": "stderr",
     "output_type": "stream",
     "text": [
      "WARNING: The fit may be unsuccessful; check fit_info['message'] for more information. [astropy.modeling.fitting]\n",
      "WARNING: The fit may be unsuccessful; check fit_info['message'] for more information. [astropy.modeling.fitting]\n",
      "WARNING: The fit may be unsuccessful; check fit_info['message'] for more information. [astropy.modeling.fitting]\n",
      "WARNING: The fit may be unsuccessful; check fit_info['message'] for more information. [astropy.modeling.fitting]\n",
      "WARNING: The fit may be unsuccessful; check fit_info['message'] for more information. [astropy.modeling.fitting]\n",
      "WARNING: The fit may be unsuccessful; check fit_info['message'] for more information. [astropy.modeling.fitting]\n",
      "WARNING: The fit may be unsuccessful; check fit_info['message'] for more information. [astropy.modeling.fitting]\n",
      "WARNING: The fit may be unsuccessful; check fit_info['message'] for more information. [astropy.modeling.fitting]\n"
     ]
    },
    {
     "name": "stdout",
     "output_type": "stream",
     "text": [
      "Processing auto_wfs_0001.fits...\n",
      "Failed to write /Volumes/LACIE SHARE/wfsdat/20061001/auto_wfs_0007_ave.csv: unhashable type: 'list'\n",
      "Processing auto_wfs_0008.fits...\n",
      "Processing auto_wfs_0011.fits...\n",
      "Processing auto_wfs_0004.fits...\n",
      "Processing auto_wfs_0006.fits...\n",
      "Processing auto_wfs_0018.fits...\n",
      "Processing auto_wfs_0015_ave.fits...\n",
      "Processing auto_wfs_0013.fits...\n",
      "Processing auto_wfs_0009.fits...\n",
      "Processing auto_wfs_0002.fits...\n",
      "Processing auto_wfs_0011_ave.fits...\n",
      "Processing auto_wfs_0007.fits...\n",
      "Processing auto_wfs_0004_ave.fits...\n",
      "Processing auto_wfs_0018_ave.fits...\n",
      "Failed to write /Volumes/LACIE SHARE/wfsdat/20061001/auto_wfs_0015_ave.csv: unhashable type: 'list'\n",
      "Processing auto_wfs_0016.fits...\n",
      "Processing auto_wfs_0014.fits...\n",
      "Failed to write /Volumes/LACIE SHARE/wfsdat/20061001/auto_wfs_0011_ave.csv: unhashable type: 'list'\n",
      "Processing auto_wfs_0019.fits...\n",
      "Processing auto_wfs_0022.fits...\n",
      "Failed to write /Volumes/LACIE SHARE/wfsdat/20061001/auto_wfs_0004_ave.csv: unhashable type: 'list'\n",
      "Processing auto_wfs_0024.fits...\n",
      "Processing auto_wfs_0026_ave.fits...\n",
      "Processing auto_wfs_0029.fits...\n",
      "Failed to write /Volumes/LACIE SHARE/wfsdat/20061001/auto_wfs_0018_ave.csv: unhashable type: 'list'\n",
      "Processing auto_wfs_0031_ave.fits...\n",
      "Processing auto_wfs_0034.fits...\n",
      "Processing auto_wfs_0036.fits...\n"
     ]
    },
    {
     "name": "stderr",
     "output_type": "stream",
     "text": [
      "Process ForkPoolWorker-4191:\n",
      "Process ForkPoolWorker-4185:\n",
      "Process ForkPoolWorker-4187:\n",
      "Process ForkPoolWorker-4188:\n",
      "Process ForkPoolWorker-4189:\n",
      "Process ForkPoolWorker-4190:\n",
      "Process ForkPoolWorker-4192:\n",
      "Process ForkPoolWorker-4186:\n",
      "Traceback (most recent call last):\n",
      "Traceback (most recent call last):\n",
      "Traceback (most recent call last):\n",
      "  File \"/Users/tim/conda/envs/py36/lib/python3.6/multiprocessing/process.py\", line 258, in _bootstrap\n",
      "    self.run()\n",
      "  File \"/Users/tim/conda/envs/py36/lib/python3.6/multiprocessing/process.py\", line 258, in _bootstrap\n",
      "    self.run()\n",
      "Traceback (most recent call last):\n",
      "  File \"/Users/tim/conda/envs/py36/lib/python3.6/multiprocessing/process.py\", line 258, in _bootstrap\n",
      "    self.run()\n",
      "Traceback (most recent call last):\n",
      "Traceback (most recent call last):\n",
      "  File \"/Users/tim/conda/envs/py36/lib/python3.6/multiprocessing/process.py\", line 93, in run\n",
      "    self._target(*self._args, **self._kwargs)\n",
      "Traceback (most recent call last):\n",
      "  File \"/Users/tim/conda/envs/py36/lib/python3.6/multiprocessing/process.py\", line 258, in _bootstrap\n",
      "    self.run()\n",
      "  File \"/Users/tim/conda/envs/py36/lib/python3.6/multiprocessing/process.py\", line 258, in _bootstrap\n",
      "    self.run()\n",
      "  File \"/Users/tim/conda/envs/py36/lib/python3.6/multiprocessing/pool.py\", line 119, in worker\n",
      "    result = (True, func(*args, **kwds))\n",
      "  File \"/Users/tim/conda/envs/py36/lib/python3.6/multiprocessing/process.py\", line 258, in _bootstrap\n",
      "    self.run()\n",
      "  File \"/Users/tim/conda/envs/py36/lib/python3.6/multiprocessing/process.py\", line 93, in run\n",
      "    self._target(*self._args, **self._kwargs)\n",
      "  File \"/Users/tim/conda/envs/py36/lib/python3.6/multiprocessing/process.py\", line 258, in _bootstrap\n",
      "    self.run()\n",
      "  File \"/Users/tim/conda/envs/py36/lib/python3.6/multiprocessing/process.py\", line 93, in run\n",
      "    self._target(*self._args, **self._kwargs)\n",
      "  File \"/Users/tim/conda/envs/py36/lib/python3.6/multiprocessing/process.py\", line 93, in run\n",
      "    self._target(*self._args, **self._kwargs)\n",
      "  File \"/Users/tim/conda/envs/py36/lib/python3.6/multiprocessing/pool.py\", line 44, in mapstar\n",
      "    return list(map(*args))\n",
      "  File \"/Users/tim/conda/envs/py36/lib/python3.6/multiprocessing/pool.py\", line 119, in worker\n",
      "    result = (True, func(*args, **kwds))\n",
      "  File \"/Users/tim/conda/envs/py36/lib/python3.6/multiprocessing/process.py\", line 93, in run\n",
      "    self._target(*self._args, **self._kwargs)\n",
      "  File \"/Users/tim/conda/envs/py36/lib/python3.6/multiprocessing/pool.py\", line 119, in worker\n",
      "    result = (True, func(*args, **kwds))\n",
      "  File \"/Users/tim/conda/envs/py36/lib/python3.6/multiprocessing/pool.py\", line 119, in worker\n",
      "    result = (True, func(*args, **kwds))\n",
      "  File \"/Users/tim/conda/envs/py36/lib/python3.6/multiprocessing/process.py\", line 93, in run\n",
      "    self._target(*self._args, **self._kwargs)\n",
      "Traceback (most recent call last):\n",
      "  File \"/Users/tim/conda/envs/py36/lib/python3.6/multiprocessing/pool.py\", line 44, in mapstar\n",
      "    return list(map(*args))\n",
      "  File \"<ipython-input-7-9a13ed557c8d>\", line 38, in process_image\n",
      "    props_table = photutils.data_properties(subim).to_table()\n",
      "  File \"/Users/tim/conda/envs/py36/lib/python3.6/multiprocessing/pool.py\", line 119, in worker\n",
      "    result = (True, func(*args, **kwds))\n",
      "  File \"/Users/tim/conda/envs/py36/lib/python3.6/multiprocessing/pool.py\", line 119, in worker\n",
      "    result = (True, func(*args, **kwds))\n",
      "  File \"/Users/tim/conda/envs/py36/lib/python3.6/multiprocessing/process.py\", line 93, in run\n",
      "    self._target(*self._args, **self._kwargs)\n",
      "  File \"/Users/tim/conda/envs/py36/lib/python3.6/site-packages/photutils/segmentation/properties.py\", line 246, in to_table\n",
      "    exclude_columns=exclude_columns)\n",
      "  File \"/Users/tim/conda/envs/py36/lib/python3.6/multiprocessing/pool.py\", line 44, in mapstar\n",
      "    return list(map(*args))\n",
      "  File \"/Users/tim/conda/envs/py36/lib/python3.6/multiprocessing/pool.py\", line 44, in mapstar\n",
      "    return list(map(*args))\n",
      "  File \"/Users/tim/conda/envs/py36/lib/python3.6/multiprocessing/pool.py\", line 119, in worker\n",
      "    result = (True, func(*args, **kwds))\n",
      "  File \"/Users/tim/conda/envs/py36/lib/python3.6/multiprocessing/pool.py\", line 44, in mapstar\n",
      "    return list(map(*args))\n",
      "  File \"/Users/tim/conda/envs/py36/lib/python3.6/site-packages/photutils/segmentation/properties.py\", line 1469, in _properties_table\n",
      "    values = getattr(obj, column)\n",
      "  File \"<ipython-input-7-9a13ed557c8d>\", line 60, in process_image\n",
      "    ) + Polynomial2D(degree=0)\n",
      "  File \"/Users/tim/conda/envs/py36/lib/python3.6/multiprocessing/pool.py\", line 44, in mapstar\n",
      "    return list(map(*args))\n",
      "  File \"/Users/tim/conda/envs/py36/lib/python3.6/multiprocessing/pool.py\", line 44, in mapstar\n",
      "    return list(map(*args))\n",
      "  File \"/Users/tim/conda/envs/py36/lib/python3.6/multiprocessing/process.py\", line 258, in _bootstrap\n",
      "    self.run()\n",
      "  File \"<ipython-input-7-9a13ed557c8d>\", line 69, in process_image\n",
      "    gauss_fit = fitter(gauss_model, x, y, subim)\n",
      "  File \"<ipython-input-7-9a13ed557c8d>\", line 69, in process_image\n",
      "    gauss_fit = fitter(gauss_model, x, y, subim)\n",
      "  File \"/Users/tim/conda/envs/py36/lib/python3.6/multiprocessing/process.py\", line 93, in run\n",
      "    self._target(*self._args, **self._kwargs)\n",
      "  File \"<ipython-input-7-9a13ed557c8d>\", line 66, in process_image\n",
      "    ) + Polynomial2D(degree=0)\n",
      "  File \"/Users/tim/conda/envs/py36/lib/python3.6/site-packages/astropy/modeling/fitting.py\", line 178, in wrapper\n",
      "    return func(self, model, x, y, z=z, **kwargs)\n",
      "  File \"/Users/tim/conda/envs/py36/lib/python3.6/site-packages/astropy/modeling/core.py\", line 75, in <lambda>\n",
      "    right, **kwargs)\n",
      "  File \"<ipython-input-7-9a13ed557c8d>\", line 69, in process_image\n",
      "    gauss_fit = fitter(gauss_model, x, y, subim)\n",
      "  File \"/Users/tim/conda/envs/py36/lib/python3.6/site-packages/astropy/modeling/fitting.py\", line 178, in wrapper\n",
      "    return func(self, model, x, y, z=z, **kwargs)\n",
      "  File \"/Users/tim/conda/envs/py36/lib/python3.6/site-packages/astropy/modeling/core.py\", line 2436, in _from_operator\n",
      "    mod = find_current_module(3)\n",
      "  File \"/Users/tim/conda/envs/py36/lib/python3.6/multiprocessing/pool.py\", line 119, in worker\n",
      "    result = (True, func(*args, **kwds))\n",
      "  File \"/Users/tim/conda/envs/py36/lib/python3.6/site-packages/astropy/modeling/core.py\", line 75, in <lambda>\n",
      "    right, **kwargs)\n",
      "  File \"/Users/tim/conda/envs/py36/lib/python3.6/site-packages/astropy/modeling/fitting.py\", line 883, in __call__\n",
      "    xtol=acc, full_output=True)\n",
      "  File \"/Users/tim/conda/envs/py36/lib/python3.6/multiprocessing/pool.py\", line 44, in mapstar\n",
      "    return list(map(*args))\n",
      "  File \"/Users/tim/conda/envs/py36/lib/python3.6/site-packages/astropy/modeling/fitting.py\", line 178, in wrapper\n",
      "    return func(self, model, x, y, z=z, **kwargs)\n",
      "  File \"/Users/tim/conda/envs/py36/lib/python3.6/site-packages/astropy/utils/decorators.py\", line 711, in __get__\n",
      "    val = self.fget(obj)\n",
      "  File \"<ipython-input-7-9a13ed557c8d>\", line 69, in process_image\n",
      "    gauss_fit = fitter(gauss_model, x, y, subim)\n",
      "  File \"/Users/tim/conda/envs/py36/lib/python3.6/site-packages/scipy/optimize/minpack.py\", line 394, in leastsq\n",
      "    gtol, maxfev, epsfcn, factor, diag)\n",
      "  File \"/Users/tim/conda/envs/py36/lib/python3.6/site-packages/astropy/modeling/core.py\", line 2436, in _from_operator\n",
      "    mod = find_current_module(3)\n",
      "  File \"/Users/tim/conda/envs/py36/lib/python3.6/site-packages/astropy/utils/introspection.py\", line 271, in find_current_module\n",
      "    return inspect.getmodule(frm)\n",
      "  File \"/Users/tim/conda/envs/py36/lib/python3.6/site-packages/photutils/segmentation/properties.py\", line 950, in cyy\n",
      "    return ((np.sin(self.orientation) / self.semimajor_axis_sigma)**2 +\n",
      "  File \"/Users/tim/conda/envs/py36/lib/python3.6/site-packages/astropy/modeling/fitting.py\", line 821, in objective_function\n",
      "    return np.ravel(model(*args[2: -1]) - meas)\n",
      "  File \"/Users/tim/conda/envs/py36/lib/python3.6/site-packages/astropy/utils/introspection.py\", line 271, in find_current_module\n",
      "    return inspect.getmodule(frm)\n",
      "  File \"/Users/tim/conda/envs/py36/lib/python3.6/site-packages/astropy/modeling/core.py\", line 382, in __call__\n",
      "    ('equivalencies', None)])\n",
      "  File \"/Users/tim/conda/envs/py36/lib/python3.6/site-packages/astropy/modeling/fitting.py\", line 178, in wrapper\n",
      "    return func(self, model, x, y, z=z, **kwargs)\n",
      "  File \"/Users/tim/conda/envs/py36/lib/python3.6/site-packages/astropy/units/quantity.py\", line 639, in __array_ufunc__\n",
      "    result = super().__array_ufunc__(function, method, *arrays, **kwargs)\n",
      "  File \"/Users/tim/conda/envs/py36/lib/python3.6/site-packages/astropy/modeling/fitting.py\", line 883, in __call__\n",
      "    xtol=acc, full_output=True)\n",
      "  File \"/Users/tim/conda/envs/py36/lib/python3.6/site-packages/astropy/modeling/fitting.py\", line 883, in __call__\n",
      "    xtol=acc, full_output=True)\n",
      "  File \"/Users/tim/conda/envs/py36/lib/python3.6/site-packages/astropy/modeling/core.py\", line 363, in __call__\n",
      "    return super(cls, self).__call__(*inputs, **kwargs)\n",
      "KeyboardInterrupt\n",
      "  File \"/Users/tim/conda/envs/py36/lib/python3.6/site-packages/scipy/optimize/minpack.py\", line 394, in leastsq\n",
      "    gtol, maxfev, epsfcn, factor, diag)\n",
      "  File \"/Users/tim/conda/envs/py36/lib/python3.6/site-packages/scipy/optimize/minpack.py\", line 394, in leastsq\n",
      "    gtol, maxfev, epsfcn, factor, diag)\n",
      "  File \"/Users/tim/conda/envs/py36/lib/python3.6/site-packages/astropy/modeling/fitting.py\", line 872, in __call__\n",
      "    model_copy = _validate_model(model, self.supported_constraints)\n",
      "  File \"/Users/tim/conda/envs/py36/lib/python3.6/site-packages/astropy/modeling/fitting.py\", line 821, in objective_function\n",
      "    return np.ravel(model(*args[2: -1]) - meas)\n",
      "  File \"/Users/tim/conda/envs/py36/lib/python3.6/site-packages/astropy/modeling/fitting.py\", line 821, in objective_function\n",
      "    return np.ravel(model(*args[2: -1]) - meas)\n",
      "  File \"/Users/tim/conda/envs/py36/lib/python3.6/site-packages/astropy/modeling/core.py\", line 812, in __call__\n",
      "    outputs = self.evaluate(*chain(inputs, parameters))\n",
      "  File \"/Users/tim/conda/envs/py36/lib/python3.6/site-packages/astropy/modeling/core.py\", line 382, in __call__\n",
      "    ('equivalencies', None)])\n",
      "  File \"/Users/tim/conda/envs/py36/lib/python3.6/site-packages/astropy/modeling/core.py\", line 2926, in evaluate\n",
      "    return self.__class__.evaluate(*args)\n",
      "  File \"/Users/tim/conda/envs/py36/lib/python3.6/site-packages/astropy/modeling/fitting.py\", line 1418, in _validate_model\n",
      "    model_copy = model.copy()\n",
      "  File \"/Users/tim/conda/envs/py36/lib/python3.6/site-packages/astropy/modeling/core.py\", line 363, in __call__\n",
      "    return super(cls, self).__call__(*inputs, **kwargs)\n",
      "  File \"/Users/tim/conda/envs/py36/lib/python3.6/site-packages/astropy/modeling/core.py\", line 2367, in evaluate\n",
      "    result = cls._evaluate(inputs, params)\n",
      "  File \"/Users/tim/conda/envs/py36/lib/python3.6/site-packages/astropy/modeling/core.py\", line 1603, in copy\n",
      "    return copy.deepcopy(self)\n",
      "  File \"/Users/tim/conda/envs/py36/lib/python3.6/site-packages/astropy/modeling/core.py\", line 812, in __call__\n",
      "    outputs = self.evaluate(*chain(inputs, parameters))\n",
      "  File \"<ipython-input-7-9a13ed557c8d>\", line 69, in process_image\n",
      "    gauss_fit = fitter(gauss_model, x, y, subim)\n",
      "  File \"/Users/tim/conda/envs/py36/lib/python3.6/inspect.py\", line 725, in getmodule\n",
      "    file = getabsfile(object, _filename)\n",
      "  File \"/Users/tim/conda/envs/py36/lib/python3.6/copy.py\", line 180, in deepcopy\n",
      "    y = _reconstruct(x, memo, *rv)\n",
      "  File \"/Users/tim/conda/envs/py36/lib/python3.6/site-packages/astropy/modeling/core.py\", line 2926, in evaluate\n",
      "    return self.__class__.evaluate(*args)\n",
      "  File \"/Users/tim/conda/envs/py36/lib/python3.6/site-packages/astropy/modeling/utils.py\", line 523, in <lambda>\n",
      "    g(inputs, params)))\n",
      "  File \"/Users/tim/conda/envs/py36/lib/python3.6/inspect.py\", line 733, in getmodule\n",
      "    if ismodule(module) and hasattr(module, '__file__'):\n",
      "  File \"/Users/tim/conda/envs/py36/lib/python3.6/site-packages/astropy/modeling/core.py\", line 2367, in evaluate\n",
      "    result = cls._evaluate(inputs, params)\n",
      "  File \"/Users/tim/conda/envs/py36/lib/python3.6/copy.py\", line 280, in _reconstruct\n",
      "    state = deepcopy(state, memo)\n",
      "  File \"/Users/tim/conda/envs/py36/lib/python3.6/inspect.py\", line 708, in getabsfile\n",
      "    _filename = getsourcefile(object) or getfile(object)\n",
      "  File \"/Users/tim/conda/envs/py36/lib/python3.6/site-packages/astropy/modeling/utils.py\", line 523, in <lambda>\n",
      "    g(inputs, params)))\n",
      "  File \"/Users/tim/conda/envs/py36/lib/python3.6/site-packages/astropy/modeling/core.py\", line 382, in __call__\n",
      "    ('equivalencies', None)])\n",
      "  File \"/Users/tim/conda/envs/py36/lib/python3.6/inspect.py\", line 696, in getsourcefile\n",
      "    if getattr(getmodule(object, filename), '__loader__', None) is not None:\n",
      "  File \"/Users/tim/conda/envs/py36/lib/python3.6/copy.py\", line 150, in deepcopy\n",
      "    y = copier(x, memo)\n",
      "  File \"/Users/tim/conda/envs/py36/lib/python3.6/site-packages/astropy/modeling/core.py\", line 363, in __call__\n",
      "    return super(cls, self).__call__(*inputs, **kwargs)\n",
      "  File \"/Users/tim/conda/envs/py36/lib/python3.6/copy.py\", line 240, in _deepcopy_dict\n",
      "    y[deepcopy(key, memo)] = deepcopy(value, memo)\n",
      "  File \"/Users/tim/conda/envs/py36/lib/python3.6/site-packages/astropy/modeling/core.py\", line 2807, in f\n",
      "    return evaluate_wrapper(model, inputs, param_values)\n",
      "KeyboardInterrupt\n",
      "  File \"/Users/tim/conda/envs/py36/lib/python3.6/site-packages/astropy/modeling/core.py\", line 751, in __call__\n",
      "    inputs, format_info = self.prepare_inputs(*inputs, **kwargs)\n",
      "  File \"/Users/tim/conda/envs/py36/lib/python3.6/copy.py\", line 180, in deepcopy\n",
      "    y = _reconstruct(x, memo, *rv)\n",
      "  File \"/Users/tim/conda/envs/py36/lib/python3.6/site-packages/astropy/modeling/fitting.py\", line 178, in wrapper\n",
      "    return func(self, model, x, y, z=z, **kwargs)\n",
      "  File \"/Users/tim/conda/envs/py36/lib/python3.6/site-packages/astropy/modeling/fitting.py\", line 883, in __call__\n",
      "    xtol=acc, full_output=True)\n",
      "  File \"/Users/tim/conda/envs/py36/lib/python3.6/copy.py\", line 306, in _reconstruct\n",
      "    value = deepcopy(value, memo)\n",
      "  File \"/Users/tim/conda/envs/py36/lib/python3.6/site-packages/astropy/modeling/core.py\", line 2807, in f\n",
      "    return evaluate_wrapper(model, inputs, param_values)\n",
      "  File \"/Users/tim/conda/envs/py36/lib/python3.6/inspect.py\", line 735, in getmodule\n",
      "    if f == _filesbymodname.get(modname, None):\n",
      "  File \"/Users/tim/conda/envs/py36/lib/python3.6/site-packages/astropy/modeling/core.py\", line 2799, in evaluate_wrapper\n",
      "    outputs = model.evaluate(*inputs, *param_values)\n",
      "  File \"/Users/tim/conda/envs/py36/lib/python3.6/site-packages/astropy/modeling/core.py\", line 2799, in evaluate_wrapper\n",
      "    outputs = model.evaluate(*inputs, *param_values)\n",
      "  File \"/Users/tim/conda/envs/py36/lib/python3.6/site-packages/scipy/optimize/minpack.py\", line 394, in leastsq\n",
      "    gtol, maxfev, epsfcn, factor, diag)\n",
      "KeyboardInterrupt\n",
      "  File \"/Users/tim/conda/envs/py36/lib/python3.6/site-packages/astropy/modeling/polynomial.py\", line 922, in evaluate\n",
      "    output_shape = check_broadcast(np.shape(coeffs[0]), x.shape)\n"
     ]
    },
    {
     "ename": "KeyboardInterrupt",
     "evalue": "",
     "output_type": "error",
     "traceback": [
      "\u001b[0;31m---------------------------------------------------------------------------\u001b[0m",
      "\u001b[0;31mKeyboardInterrupt\u001b[0m                         Traceback (most recent call last)",
      "\u001b[0;32m<ipython-input-78-56b401859765>\u001b[0m in \u001b[0;36m<module>\u001b[0;34m()\u001b[0m\n\u001b[1;32m      5\u001b[0m         \u001b[0mfitsfiles\u001b[0m \u001b[0;34m=\u001b[0m \u001b[0msorted\u001b[0m\u001b[0;34m(\u001b[0m\u001b[0mlist\u001b[0m\u001b[0;34m(\u001b[0m\u001b[0md\u001b[0m\u001b[0;34m.\u001b[0m\u001b[0mglob\u001b[0m\u001b[0;34m(\u001b[0m\u001b[0;34m\"*.fits\"\u001b[0m\u001b[0;34m)\u001b[0m\u001b[0;34m)\u001b[0m\u001b[0;34m)\u001b[0m\u001b[0;34m\u001b[0m\u001b[0m\n\u001b[1;32m      6\u001b[0m         \u001b[0;32mwith\u001b[0m \u001b[0mPool\u001b[0m\u001b[0;34m(\u001b[0m\u001b[0mprocesses\u001b[0m\u001b[0;34m=\u001b[0m\u001b[0mnproc\u001b[0m\u001b[0;34m)\u001b[0m \u001b[0;32mas\u001b[0m \u001b[0mpool\u001b[0m\u001b[0;34m:\u001b[0m  \u001b[0;31m# my mac's i7 has 4 cores + hyperthreading so 8 virtual cores.\u001b[0m\u001b[0;34m\u001b[0m\u001b[0m\n\u001b[0;32m----> 7\u001b[0;31m             \u001b[0mpool\u001b[0m\u001b[0;34m.\u001b[0m\u001b[0mmap\u001b[0m\u001b[0;34m(\u001b[0m\u001b[0mprocess_image\u001b[0m\u001b[0;34m,\u001b[0m \u001b[0mfitsfiles\u001b[0m\u001b[0;34m)\u001b[0m  \u001b[0;31m# plines comes out in same order as fitslines!\u001b[0m\u001b[0;34m\u001b[0m\u001b[0m\n\u001b[0m",
      "\u001b[0;32m~/conda/envs/py36/lib/python3.6/multiprocessing/pool.py\u001b[0m in \u001b[0;36mmap\u001b[0;34m(self, func, iterable, chunksize)\u001b[0m\n\u001b[1;32m    264\u001b[0m         \u001b[0;32min\u001b[0m \u001b[0ma\u001b[0m \u001b[0mlist\u001b[0m \u001b[0mthat\u001b[0m \u001b[0;32mis\u001b[0m \u001b[0mreturned\u001b[0m\u001b[0;34m.\u001b[0m\u001b[0;34m\u001b[0m\u001b[0m\n\u001b[1;32m    265\u001b[0m         '''\n\u001b[0;32m--> 266\u001b[0;31m         \u001b[0;32mreturn\u001b[0m \u001b[0mself\u001b[0m\u001b[0;34m.\u001b[0m\u001b[0m_map_async\u001b[0m\u001b[0;34m(\u001b[0m\u001b[0mfunc\u001b[0m\u001b[0;34m,\u001b[0m \u001b[0miterable\u001b[0m\u001b[0;34m,\u001b[0m \u001b[0mmapstar\u001b[0m\u001b[0;34m,\u001b[0m \u001b[0mchunksize\u001b[0m\u001b[0;34m)\u001b[0m\u001b[0;34m.\u001b[0m\u001b[0mget\u001b[0m\u001b[0;34m(\u001b[0m\u001b[0;34m)\u001b[0m\u001b[0;34m\u001b[0m\u001b[0m\n\u001b[0m\u001b[1;32m    267\u001b[0m \u001b[0;34m\u001b[0m\u001b[0m\n\u001b[1;32m    268\u001b[0m     \u001b[0;32mdef\u001b[0m \u001b[0mstarmap\u001b[0m\u001b[0;34m(\u001b[0m\u001b[0mself\u001b[0m\u001b[0;34m,\u001b[0m \u001b[0mfunc\u001b[0m\u001b[0;34m,\u001b[0m \u001b[0miterable\u001b[0m\u001b[0;34m,\u001b[0m \u001b[0mchunksize\u001b[0m\u001b[0;34m=\u001b[0m\u001b[0;32mNone\u001b[0m\u001b[0;34m)\u001b[0m\u001b[0;34m:\u001b[0m\u001b[0;34m\u001b[0m\u001b[0m\n",
      "\u001b[0;32m~/conda/envs/py36/lib/python3.6/multiprocessing/pool.py\u001b[0m in \u001b[0;36mget\u001b[0;34m(self, timeout)\u001b[0m\n\u001b[1;32m    636\u001b[0m \u001b[0;34m\u001b[0m\u001b[0m\n\u001b[1;32m    637\u001b[0m     \u001b[0;32mdef\u001b[0m \u001b[0mget\u001b[0m\u001b[0;34m(\u001b[0m\u001b[0mself\u001b[0m\u001b[0;34m,\u001b[0m \u001b[0mtimeout\u001b[0m\u001b[0;34m=\u001b[0m\u001b[0;32mNone\u001b[0m\u001b[0;34m)\u001b[0m\u001b[0;34m:\u001b[0m\u001b[0;34m\u001b[0m\u001b[0m\n\u001b[0;32m--> 638\u001b[0;31m         \u001b[0mself\u001b[0m\u001b[0;34m.\u001b[0m\u001b[0mwait\u001b[0m\u001b[0;34m(\u001b[0m\u001b[0mtimeout\u001b[0m\u001b[0;34m)\u001b[0m\u001b[0;34m\u001b[0m\u001b[0m\n\u001b[0m\u001b[1;32m    639\u001b[0m         \u001b[0;32mif\u001b[0m \u001b[0;32mnot\u001b[0m \u001b[0mself\u001b[0m\u001b[0;34m.\u001b[0m\u001b[0mready\u001b[0m\u001b[0;34m(\u001b[0m\u001b[0;34m)\u001b[0m\u001b[0;34m:\u001b[0m\u001b[0;34m\u001b[0m\u001b[0m\n\u001b[1;32m    640\u001b[0m             \u001b[0;32mraise\u001b[0m \u001b[0mTimeoutError\u001b[0m\u001b[0;34m\u001b[0m\u001b[0m\n",
      "\u001b[0;32m~/conda/envs/py36/lib/python3.6/multiprocessing/pool.py\u001b[0m in \u001b[0;36mwait\u001b[0;34m(self, timeout)\u001b[0m\n\u001b[1;32m    633\u001b[0m \u001b[0;34m\u001b[0m\u001b[0m\n\u001b[1;32m    634\u001b[0m     \u001b[0;32mdef\u001b[0m \u001b[0mwait\u001b[0m\u001b[0;34m(\u001b[0m\u001b[0mself\u001b[0m\u001b[0;34m,\u001b[0m \u001b[0mtimeout\u001b[0m\u001b[0;34m=\u001b[0m\u001b[0;32mNone\u001b[0m\u001b[0;34m)\u001b[0m\u001b[0;34m:\u001b[0m\u001b[0;34m\u001b[0m\u001b[0m\n\u001b[0;32m--> 635\u001b[0;31m         \u001b[0mself\u001b[0m\u001b[0;34m.\u001b[0m\u001b[0m_event\u001b[0m\u001b[0;34m.\u001b[0m\u001b[0mwait\u001b[0m\u001b[0;34m(\u001b[0m\u001b[0mtimeout\u001b[0m\u001b[0;34m)\u001b[0m\u001b[0;34m\u001b[0m\u001b[0m\n\u001b[0m\u001b[1;32m    636\u001b[0m \u001b[0;34m\u001b[0m\u001b[0m\n\u001b[1;32m    637\u001b[0m     \u001b[0;32mdef\u001b[0m \u001b[0mget\u001b[0m\u001b[0;34m(\u001b[0m\u001b[0mself\u001b[0m\u001b[0;34m,\u001b[0m \u001b[0mtimeout\u001b[0m\u001b[0;34m=\u001b[0m\u001b[0;32mNone\u001b[0m\u001b[0;34m)\u001b[0m\u001b[0;34m:\u001b[0m\u001b[0;34m\u001b[0m\u001b[0m\n",
      "\u001b[0;32m~/conda/envs/py36/lib/python3.6/threading.py\u001b[0m in \u001b[0;36mwait\u001b[0;34m(self, timeout)\u001b[0m\n\u001b[1;32m    549\u001b[0m             \u001b[0msignaled\u001b[0m \u001b[0;34m=\u001b[0m \u001b[0mself\u001b[0m\u001b[0;34m.\u001b[0m\u001b[0m_flag\u001b[0m\u001b[0;34m\u001b[0m\u001b[0m\n\u001b[1;32m    550\u001b[0m             \u001b[0;32mif\u001b[0m \u001b[0;32mnot\u001b[0m \u001b[0msignaled\u001b[0m\u001b[0;34m:\u001b[0m\u001b[0;34m\u001b[0m\u001b[0m\n\u001b[0;32m--> 551\u001b[0;31m                 \u001b[0msignaled\u001b[0m \u001b[0;34m=\u001b[0m \u001b[0mself\u001b[0m\u001b[0;34m.\u001b[0m\u001b[0m_cond\u001b[0m\u001b[0;34m.\u001b[0m\u001b[0mwait\u001b[0m\u001b[0;34m(\u001b[0m\u001b[0mtimeout\u001b[0m\u001b[0;34m)\u001b[0m\u001b[0;34m\u001b[0m\u001b[0m\n\u001b[0m\u001b[1;32m    552\u001b[0m             \u001b[0;32mreturn\u001b[0m \u001b[0msignaled\u001b[0m\u001b[0;34m\u001b[0m\u001b[0m\n\u001b[1;32m    553\u001b[0m \u001b[0;34m\u001b[0m\u001b[0m\n",
      "\u001b[0;32m~/conda/envs/py36/lib/python3.6/threading.py\u001b[0m in \u001b[0;36mwait\u001b[0;34m(self, timeout)\u001b[0m\n\u001b[1;32m    293\u001b[0m         \u001b[0;32mtry\u001b[0m\u001b[0;34m:\u001b[0m    \u001b[0;31m# restore state no matter what (e.g., KeyboardInterrupt)\u001b[0m\u001b[0;34m\u001b[0m\u001b[0m\n\u001b[1;32m    294\u001b[0m             \u001b[0;32mif\u001b[0m \u001b[0mtimeout\u001b[0m \u001b[0;32mis\u001b[0m \u001b[0;32mNone\u001b[0m\u001b[0;34m:\u001b[0m\u001b[0;34m\u001b[0m\u001b[0m\n\u001b[0;32m--> 295\u001b[0;31m                 \u001b[0mwaiter\u001b[0m\u001b[0;34m.\u001b[0m\u001b[0macquire\u001b[0m\u001b[0;34m(\u001b[0m\u001b[0;34m)\u001b[0m\u001b[0;34m\u001b[0m\u001b[0m\n\u001b[0m\u001b[1;32m    296\u001b[0m                 \u001b[0mgotit\u001b[0m \u001b[0;34m=\u001b[0m \u001b[0;32mTrue\u001b[0m\u001b[0;34m\u001b[0m\u001b[0m\n\u001b[1;32m    297\u001b[0m             \u001b[0;32melse\u001b[0m\u001b[0;34m:\u001b[0m\u001b[0;34m\u001b[0m\u001b[0m\n",
      "\u001b[0;31mKeyboardInterrupt\u001b[0m: "
     ]
    }
   ],
   "source": [
    "nproc = 8\n",
    "for d in dirs:\n",
    "    if d.is_dir():\n",
    "        print(f\"Working in {d.name}...\")\n",
    "        fitsfiles = sorted(list(d.glob(\"*.fits\")))\n",
    "        with Pool(processes=nproc) as pool:  # my mac's i7 has 4 cores + hyperthreading so 8 virtual cores. \n",
    "            pool.map(process_image, fitsfiles)  # plines comes out in same order as fitslines!"
   ]
  },
  {
   "cell_type": "code",
   "execution_count": 47,
   "metadata": {},
   "outputs": [],
   "source": [
    "test = rootdir / \"20030321\" / \"end_0000.fits\""
   ]
  },
  {
   "cell_type": "code",
   "execution_count": 54,
   "metadata": {},
   "outputs": [
    {
     "data": {
      "text/plain": [
       "'/Volumes/LACIE SHARE/wfsdat/20030321/end_0000.csv'"
      ]
     },
     "execution_count": 54,
     "metadata": {},
     "output_type": "execute_result"
    }
   ],
   "source": [
    "str(test.parent / test.stem) + \".csv\""
   ]
  },
  {
   "cell_type": "code",
   "execution_count": 116,
   "metadata": {},
   "outputs": [
    {
     "data": {
      "application/vnd.jupyter.widget-view+json": {
       "model_id": "e7dd9bff2c3047ddb9dadadad47f4775",
       "version_major": 2,
       "version_minor": 0
      },
      "text/plain": [
       "FigureCanvasNbAgg()"
      ]
     },
     "metadata": {},
     "output_type": "display_data"
    }
   ],
   "source": [
    "test, fig = wfsfind(\"20031019/start_0001.fits\", fwhm=8.)"
   ]
  },
  {
   "cell_type": "code",
   "execution_count": 120,
   "metadata": {},
   "outputs": [],
   "source": [
    "test, hdr = check_image(Path(\"20031019/start_0001.fits\"))\n",
    "mean, median, stddev = stats.sigma_clipped_stats(test, sigma=3.0, iters=None)"
   ]
  },
  {
   "cell_type": "code",
   "execution_count": 117,
   "metadata": {},
   "outputs": [
    {
     "name": "stdout",
     "output_type": "stream",
     "text": [
      "Processing start_0001.fits...\n",
      "Failed to write 20031019/start_0001.csv: unhashable type: 'list'\n"
     ]
    },
    {
     "name": "stderr",
     "output_type": "stream",
     "text": [
      "WARNING: The fit may be unsuccessful; check fit_info['message'] for more information. [astropy.modeling.fitting]\n"
     ]
    }
   ],
   "source": [
    "test_table = process_image(Path(\"20031019/start_0001.fits\"))"
   ]
  },
  {
   "cell_type": "code",
   "execution_count": 87,
   "metadata": {},
   "outputs": [],
   "source": [
    "tstfile = Path(\"20030517/wfs0029.fits\")"
   ]
  },
  {
   "cell_type": "code",
   "execution_count": 99,
   "metadata": {},
   "outputs": [
    {
     "data": {
      "text/plain": [
       "'2003-05-18T06:49:02'"
      ]
     },
     "execution_count": 99,
     "metadata": {},
     "output_type": "execute_result"
    }
   ],
   "source": [
    "dt = datetime.fromtimestamp(tstfile.stat().st_ctime)\n",
    "local_dt = tz.localize(dt)\n",
    "utc_dt = local_dt.astimezone(pytz.utc).isoformat().replace('+00:00', '')\n",
    "utc_dt"
   ]
  },
  {
   "cell_type": "code",
   "execution_count": 118,
   "metadata": {},
   "outputs": [
    {
     "data": {
      "text/html": [
       "<i>Table length=1</i>\n",
       "<table id=\"table120832044448\" class=\"table-striped table-bordered table-condensed\">\n",
       "<thead><tr><th>id_1</th><th>xcentroid_1</th><th>ycentroid_1</th><th>sharpness</th><th>roundness1</th><th>roundness2</th><th>npix</th><th>sky</th><th>peak</th><th>flux</th><th>mag</th><th>id_2</th><th>xcentroid_2</th><th>ycentroid_2</th><th>sky_centroid</th><th>sky_centroid_icrs</th><th>source_sum</th><th>source_sum_err</th><th>background_sum</th><th>background_mean</th><th>background_at_centroid</th><th>xmin</th><th>xmax</th><th>ymin</th><th>ymax</th><th>min_value</th><th>max_value</th><th>minval_xpos</th><th>minval_ypos</th><th>maxval_xpos</th><th>maxval_ypos</th><th>area</th><th>equivalent_radius</th><th>perimeter</th><th>semimajor_axis_sigma</th><th>semiminor_axis_sigma</th><th>eccentricity</th><th>orientation</th><th>ellipticity</th><th>elongation</th><th>covar_sigx2</th><th>covar_sigxy</th><th>covar_sigy2</th><th>cxx</th><th>cxy</th><th>cyy</th><th>col0 [22]</th><th>AIRMASS</th><th>BITPIX</th><th>DATE</th><th>EXTEND</th><th>IRAF-TLM</th><th>LTM1_1</th><th>LTM2_2</th><th>LTV1</th><th>LTV2</th><th>NAXIS</th><th>NAXIS1</th><th>NAXIS2</th><th>OBS-TIME</th><th>ORIGIN</th><th>SIMPLE</th><th>WFSKEY</th><th>filename</th><th>gauss_amplitude</th><th>gauss_background</th><th>gauss_fwhm</th><th>gauss_rms</th><th>gauss_sigx</th><th>gauss_sigy</th><th>gauss_theta</th><th>gauss_x</th><th>gauss_y</th><th>moffat_alpha</th><th>moffat_amplitude</th><th>moffat_background</th><th>moffat_fwhm</th><th>moffat_gamma</th><th>moffat_rms</th><th>moffat_x</th><th>moffat_y</th><th>moment_fwhm</th></tr></thead>\n",
       "<thead><tr><th></th><th></th><th></th><th></th><th></th><th></th><th></th><th></th><th></th><th></th><th></th><th></th><th>pix</th><th>pix</th><th></th><th></th><th></th><th></th><th></th><th></th><th></th><th>pix</th><th>pix</th><th>pix</th><th>pix</th><th></th><th></th><th>pix</th><th>pix</th><th>pix</th><th>pix</th><th>pix2</th><th>pix</th><th>pix</th><th>pix</th><th>pix</th><th></th><th>rad</th><th></th><th></th><th>pix2</th><th>pix2</th><th>pix2</th><th>1 / pix2</th><th>1 / pix2</th><th>1 / pix2</th><th></th><th></th><th></th><th></th><th></th><th></th><th></th><th></th><th></th><th></th><th></th><th></th><th></th><th></th><th></th><th></th><th></th><th></th><th></th><th></th><th></th><th></th><th></th><th></th><th></th><th></th><th></th><th></th><th></th><th></th><th></th><th></th><th></th><th></th><th></th><th></th></tr></thead>\n",
       "<thead><tr><th>int64</th><th>float64</th><th>float64</th><th>float64</th><th>float64</th><th>float64</th><th>float64</th><th>float64</th><th>float64</th><th>float64</th><th>float64</th><th>int64</th><th>float64</th><th>float64</th><th>object</th><th>object</th><th>float64</th><th>object</th><th>object</th><th>object</th><th>object</th><th>float64</th><th>float64</th><th>float64</th><th>float64</th><th>float64</th><th>float64</th><th>float64</th><th>float64</th><th>float64</th><th>float64</th><th>float64</th><th>float64</th><th>float64</th><th>float64</th><th>float64</th><th>float64</th><th>float64</th><th>float64</th><th>float64</th><th>float64</th><th>float64</th><th>float64</th><th>float64</th><th>float64</th><th>float64</th><th>str1</th><th>float64</th><th>int64</th><th>str19</th><th>bool</th><th>str19</th><th>float64</th><th>float64</th><th>float64</th><th>float64</th><th>int64</th><th>int64</th><th>int64</th><th>str19</th><th>str37</th><th>bool</th><th>str2</th><th>str15</th><th>float64</th><th>float64</th><th>float64</th><th>float64</th><th>float64</th><th>float64</th><th>float64</th><th>float64</th><th>float64</th><th>float64</th><th>float64</th><th>float64</th><th>float64</th><th>float64</th><th>float64</th><th>float64</th><th>float64</th><th>float64</th></tr></thead>\n",
       "<tr><td>1</td><td>3.10484092468</td><td>251.015965297</td><td>0.304448351128</td><td>0.264250925016</td><td>0.4908556983</td><td>121.0</td><td>0.0</td><td>1894.0</td><td>1.96380127688</td><td>-0.732743845184</td><td>1</td><td>19.3889715998</td><td>9.78050869542</td><td>None</td><td>None</td><td>495031.0</td><td>None</td><td>None</td><td>None</td><td>None</td><td>0.0</td><td>30.0</td><td>0.0</td><td>30.0</td><td>0.0</td><td>2093.0</td><td>0.0</td><td>0.0</td><td>12.0</td><td>18.0</td><td>961.0</td><td>17.48987709</td><td>120.0</td><td>5.75752114939</td><td>5.24886484916</td><td>0.410959516616</td><td>1.53323081407</td><td>0.0883464058632</td><td>1.09690786767</td><td>27.5584788661</td><td>0.210111506495</td><td>33.1411531244</td><td>0.036288227078</td><td>-0.000460127264177</td><td>0.0301754237477</td><td>..</td><td>nan</td><td>32</td><td>2010-06-19T18:33:56</td><td>False</td><td>2010-06-19T18:33:55</td><td>0.25</td><td>0.25</td><td>0.375</td><td>0.375</td><td>2</td><td>258</td><td>256</td><td>2010-06-19T21:33:56</td><td>NOAO-IRAF FITS Image Kernel July 2003</td><td>True</td><td>f5</td><td>start_0001.fits</td><td>2010.68672117</td><td>-140.506549996</td><td>18.8425111169</td><td>370.386620267</td><td>6.90556396933</td><td>9.09779149446</td><td>-0.0017121280301</td><td>18.82271513</td><td>8.6080931914</td><td>14.4453862422</td><td>2014.93710518</td><td>-172.730973883</td><td>18.9481469917</td><td>42.7324675539</td><td>384.204388277</td><td>19.1968963198</td><td>9.29030285389</td><td>12.9590291864</td></tr>\n",
       "</table>"
      ],
      "text/plain": [
       "<Table length=1>\n",
       " id_1  xcentroid_1   ycentroid_1  ...    moffat_x      moffat_y    moment_fwhm \n",
       "                                  ...                                          \n",
       "int64    float64       float64    ...    float64       float64       float64   \n",
       "----- ------------- ------------- ... ------------- ------------- -------------\n",
       "    1 3.10484092468 251.015965297 ... 19.1968963198 9.29030285389 12.9590291864"
      ]
     },
     "execution_count": 118,
     "metadata": {},
     "output_type": "execute_result"
    }
   ],
   "source": [
    "test_table"
   ]
  },
  {
   "cell_type": "code",
   "execution_count": 121,
   "metadata": {},
   "outputs": [
    {
     "data": {
      "text/plain": [
       "{'SIMPLE': True,\n",
       " 'BITPIX': 32,\n",
       " 'NAXIS': 2,\n",
       " 'NAXIS1': 258,\n",
       " 'NAXIS2': 256,\n",
       " 'EXTEND': False,\n",
       " 'ORIGIN': 'NOAO-IRAF FITS Image Kernel July 2003',\n",
       " 'DATE': '2010-06-19T18:33:56',\n",
       " 'IRAF-TLM': '2010-06-19T18:33:55',\n",
       " 'LTM1_1': 0.25,\n",
       " 'LTM2_2': 0.25,\n",
       " 'LTV1': 0.375,\n",
       " 'LTV2': 0.375,\n",
       " '': \n",
       " \n",
       " \n",
       " \n",
       " \n",
       " \n",
       " \n",
       " \n",
       " \n",
       " \n",
       " \n",
       " \n",
       " \n",
       " \n",
       " \n",
       " \n",
       " \n",
       " \n",
       " \n",
       " \n",
       " ,\n",
       " 'AIRMASS': nan,\n",
       " 'WFSKEY': 'f5',\n",
       " 'OBS-TIME': '2010-06-19T21:33:56'}"
      ]
     },
     "execution_count": 121,
     "metadata": {},
     "output_type": "execute_result"
    }
   ],
   "source": [
    "hdr"
   ]
  },
  {
   "cell_type": "code",
   "execution_count": null,
   "metadata": {},
   "outputs": [],
   "source": []
  }
 ],
 "metadata": {
  "kernelspec": {
   "display_name": "Python 3",
   "language": "python",
   "name": "python3"
  },
  "language_info": {
   "codemirror_mode": {
    "name": "ipython",
    "version": 3
   },
   "file_extension": ".py",
   "mimetype": "text/x-python",
   "name": "python",
   "nbconvert_exporter": "python",
   "pygments_lexer": "ipython3",
   "version": "3.6.5"
  }
 },
 "nbformat": 4,
 "nbformat_minor": 2
}
