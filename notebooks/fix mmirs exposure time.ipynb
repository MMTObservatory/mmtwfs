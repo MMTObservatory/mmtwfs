{
 "cells": [
  {
   "cell_type": "code",
   "execution_count": 27,
   "metadata": {},
   "outputs": [],
   "source": [
    "import math\n",
    "from datetime import datetime\n",
    "from pathlib import Path\n",
    "from astropy.io import fits"
   ]
  },
  {
   "cell_type": "code",
   "execution_count": 36,
   "metadata": {},
   "outputs": [],
   "source": [
    "rootdir = Path(\"/Volumes/LaCie 8TB/wfsdat/20180510\")"
   ]
  },
  {
   "cell_type": "code",
   "execution_count": 37,
   "metadata": {},
   "outputs": [],
   "source": [
    "files = sorted(list(rootdir.glob(\"mmirs*.fits\")))"
   ]
  },
  {
   "cell_type": "code",
   "execution_count": 38,
   "metadata": {},
   "outputs": [],
   "source": [
    "timedict = {}\n",
    "for f in files:\n",
    "    with fits.open(f) as hdulist:\n",
    "        hdr = hdulist[-1].header\n",
    "        data = hdulist[-1].data\n",
    "    timedict[str(f)] = hdr['DATE-OBS']\n",
    "print(timedict)"
   ]
  },
  {
   "cell_type": "code",
   "execution_count": 42,
   "metadata": {},
   "outputs": [
    {
     "name": "stdout",
     "output_type": "stream",
     "text": [
      "Setting EXPTIME to 30 in /Volumes/LaCie 8TB/wfsdat/20180510/mmirs_wfs_0553.fits..\n"
     ]
    }
   ],
   "source": [
    "sec = 0.\n",
    "for i in range(0, len(files)):\n",
    "    if i < len(files)-1:\n",
    "        t1 = datetime.strptime(timedict[str(files[i])], \"%Y-%m-%dT%H:%M:%S\")\n",
    "        t2 = datetime.strptime(timedict[str(files[i+1])], \"%Y-%m-%dT%H:%M:%S\")\n",
    "    else:  # handle last file\n",
    "        t1 = datetime.strptime(timedict[str(files[i-1])], \"%Y-%m-%dT%H:%M:%S\")\n",
    "        t2 = datetime.strptime(timedict[str(files[i])], \"%Y-%m-%dT%H:%M:%S\")\n",
    "    diff = t2-t1\n",
    "    \n",
    "    # exposure times are almost always in multiples of 5 sec unless the exposures are very short\n",
    "    diff_sec = 5 * math.floor(diff.seconds/5)\n",
    "    \n",
    "    # mmirs wfs exposures should almost never be more than 3 min during normal operations.\n",
    "    # large gaps are assumed to be the end of a track so 200 seems a good cutoff to reject\n",
    "    # those and use the previous time diff instead.\n",
    "    if diff_sec < 200:\n",
    "        sec = diff_sec\n",
    "    \n",
    "    f = files[i]\n",
    "    with fits.open(f) as hdulist:\n",
    "        changed = False\n",
    "        for h in hdulist:\n",
    "            if 'EXPTIME' in h.header:\n",
    "                if h.header['EXPTIME'] == 0.0:\n",
    "                    print(f\"Setting EXPTIME to {sec} in {str(f)}..\")\n",
    "                    h.header['EXPTIME'] = sec\n",
    "                    changed = True\n",
    "        if changed:\n",
    "            hdulist.writeto(f, overwrite=True)"
   ]
  },
  {
   "cell_type": "code",
   "execution_count": 20,
   "metadata": {},
   "outputs": [
    {
     "data": {
      "text/plain": [
       "4"
      ]
     },
     "execution_count": 20,
     "metadata": {},
     "output_type": "execute_result"
    }
   ],
   "source": [
    "diff.second"
   ]
  },
  {
   "cell_type": "code",
   "execution_count": 28,
   "metadata": {},
   "outputs": [
    {
     "data": {
      "text/plain": [
       "175"
      ]
     },
     "execution_count": 28,
     "metadata": {},
     "output_type": "execute_result"
    }
   ],
   "source": [
    "5 * math.floor(diff.seconds/5)"
   ]
  },
  {
   "cell_type": "code",
   "execution_count": null,
   "metadata": {},
   "outputs": [],
   "source": []
  }
 ],
 "metadata": {
  "kernelspec": {
   "display_name": "Python 3",
   "language": "python",
   "name": "python3"
  },
  "language_info": {
   "codemirror_mode": {
    "name": "ipython",
    "version": 3
   },
   "file_extension": ".py",
   "mimetype": "text/x-python",
   "name": "python",
   "nbconvert_exporter": "python",
   "pygments_lexer": "ipython3",
   "version": "3.7.2"
  }
 },
 "nbformat": 4,
 "nbformat_minor": 2
}
