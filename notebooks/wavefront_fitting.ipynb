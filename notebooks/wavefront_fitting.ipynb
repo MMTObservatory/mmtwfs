{
 "cells": [
  {
   "cell_type": "code",
   "execution_count": 1,
   "metadata": {},
   "outputs": [],
   "source": [
    "import time\n",
    "import os\n",
    "import sys\n",
    "import numpy as np\n",
    "\n",
    "import uncertainties\n",
    "\n",
    "#import ipympl\n",
    "import matplotlib\n",
    "matplotlib.use('nbagg')\n",
    "#from matplotlib import style\n",
    "#style.use('ggplot')\n",
    "\n",
    "import matplotlib.pyplot as plt\n",
    "\n",
    "import astropy.units as u\n",
    "from astropy import stats\n",
    "from astropy.io import fits\n",
    "from mmtwfs.wfs import *\n",
    "from mmtwfs.zernike import *\n",
    "from mmtwfs.telescope import MMT\n",
    "\n",
    "from pathlib import Path\n",
    "from astropy.modeling import models, fitting\n",
    "\n",
    "%load_ext autoreload\n",
    "%autoreload 2\n",
    "\n",
    "import lmfit"
   ]
  },
  {
   "cell_type": "code",
   "execution_count": null,
   "metadata": {},
   "outputs": [],
   "source": [
    "plt.close('all')\n",
    "home = Path(os.environ['HOME'])\n",
    "mmirs = WFSFactory(wfs=\"mmirs\")\n",
    "f9wfs = WFSFactory(wfs=\"newf9\")\n",
    "f5wfs = WFSFactory(wfs=\"f5\")"
   ]
  },
  {
   "cell_type": "code",
   "execution_count": null,
   "metadata": {},
   "outputs": [],
   "source": [
    "%%prun\n",
    "mmirs_file = home / \"MMT/mmtwfs/mmtwfs/data/test_data/mmirs_wfs_0150.fits\"\n",
    "mmirs_results = mmirs.measure_slopes(mmirs_file, plot=True)\n",
    "mmirs_results['figures']['slopes'].show()"
   ]
  },
  {
   "cell_type": "code",
   "execution_count": null,
   "metadata": {},
   "outputs": [],
   "source": [
    "%%prun\n",
    "zresults = mmirs.fit_wavefront(mmirs_results)\n",
    "zvec = zresults['zernike']\n",
    "print(zresults['residual_rms'])\n",
    "print(zvec.pretty_print())\n",
    "zresults['resid_plot'].show()"
   ]
  },
  {
   "cell_type": "code",
   "execution_count": null,
   "metadata": {},
   "outputs": [],
   "source": [
    "zvec.fringe_bar_chart().show()"
   ]
  },
  {
   "cell_type": "code",
   "execution_count": null,
   "metadata": {},
   "outputs": [],
   "source": [
    "f9_file = home / \"MMT/mmtwfs/mmtwfs/data/test_data/test_newf9.fits\"\n",
    "f9_results = f9wfs.measure_slopes(f9_file, 'blue', plot=True)\n",
    "f9_results['figures']['slopes'].show()"
   ]
  },
  {
   "cell_type": "code",
   "execution_count": null,
   "metadata": {},
   "outputs": [],
   "source": [
    "%%prun\n",
    "zresults = f9wfs.fit_wavefront(f9_results)\n",
    "zvec = zresults['zernike']\n",
    "print(zresults['residual_rms'])\n",
    "print(zvec.pretty_print())\n",
    "zresults['resid_plot'].show()"
   ]
  },
  {
   "cell_type": "code",
   "execution_count": null,
   "metadata": {},
   "outputs": [],
   "source": [
    "psf, psf_fig = f5wfs.telescope.psf(zv=zvec)\n",
    "psf_fig.show()"
   ]
  },
  {
   "cell_type": "code",
   "execution_count": null,
   "metadata": {},
   "outputs": [],
   "source": [
    "f5_file = home / \"MMT/mmtwfs/mmtwfs/data/test_data/auto_wfs_0037_ave.fits\"\n",
    "f5_results = f5wfs.measure_slopes(f5_file, 'hecto', plot=True)\n",
    "f5_results['figures']['slopes'].show()"
   ]
  },
  {
   "cell_type": "code",
   "execution_count": null,
   "metadata": {},
   "outputs": [],
   "source": [
    "zresults = f5wfs.fit_wavefront(f5_results)\n",
    "zvec = zresults['zernike']\n",
    "print(zresults['residual_rms'])\n",
    "print(zvec.pretty_print())\n",
    "zresults['resid_plot'].show()"
   ]
  },
  {
   "cell_type": "code",
   "execution_count": null,
   "metadata": {},
   "outputs": [],
   "source": [
    "zvec.fringe_bar_chart().show()"
   ]
  },
  {
   "cell_type": "code",
   "execution_count": null,
   "metadata": {},
   "outputs": [],
   "source": [
    "def make_init_pars(nmodes=21, modestart=2, init_zv=None):\n",
    "    pars = []\n",
    "    for i in range(modestart, modestart+nmodes, 1):\n",
    "        key = \"Z{:02d}\".format(i)\n",
    "        if init_zv is not None:\n",
    "            val = init_zv[key].value\n",
    "            if val < 1.e-4:\n",
    "                val = 0.0\n",
    "        else:\n",
    "            val = 0.0\n",
    "        zpar = (key, val)\n",
    "        pars.append(zpar)\n",
    "    params = lmfit.Parameters()\n",
    "    params.add_many(*pars)\n",
    "    return params"
   ]
  },
  {
   "cell_type": "code",
   "execution_count": null,
   "metadata": {},
   "outputs": [],
   "source": [
    "def zernike_slopes(parsdict, rho, phi, norm=False):\n",
    "    xslope = 0.\n",
    "    yslope = 0.\n",
    "    for k, v in parsdict.items():\n",
    "        l = int(k.replace(\"Z\", \"\"))\n",
    "        dwx, dwy = zernike_slope_noll(l, rho, phi, norm=norm)\n",
    "        xslope += v * dwx\n",
    "        yslope += v * dwy\n",
    "    return xslope, yslope"
   ]
  },
  {
   "cell_type": "code",
   "execution_count": null,
   "metadata": {},
   "outputs": [],
   "source": [
    "def slope_chisq(pars, coords, slopes, norm=False):\n",
    "    parsdict = pars.valuesdict()\n",
    "    rho, phi = cart2pol(coords)\n",
    "    xslope = slopes[0]\n",
    "    yslope = slopes[1]\n",
    "    pred_xslope, pred_yslope = zernike_slopes(parsdict, rho, phi, norm=norm)\n",
    "    dist = np.sqrt((xslope - pred_xslope)**2 + (yslope - pred_yslope)**2)\n",
    "    return dist"
   ]
  },
  {
   "cell_type": "code",
   "execution_count": null,
   "metadata": {},
   "outputs": [],
   "source": [
    "#slopes = -f9wfs.tiltfactor * f9_results['slopes']\n",
    "#pup_coords = f9wfs.modes['blue']['reference'].pup_coords(f9wfs.pup_size/2.)"
   ]
  },
  {
   "cell_type": "code",
   "execution_count": null,
   "metadata": {},
   "outputs": [],
   "source": [
    "slopes = -f5wfs.tiltfactor * f5_results['slopes']\n",
    "pup_coords = f5wfs.modes['hecto']['reference'].pup_coords(f5wfs.pup_size/2.)"
   ]
  },
  {
   "cell_type": "code",
   "execution_count": null,
   "metadata": {},
   "outputs": [],
   "source": [
    "params = make_init_pars(nmodes=21)\n",
    "out = lmfit.minimize(slope_chisq, params, args=(pup_coords, slopes))\n",
    "print(lmfit.fit_report(out))"
   ]
  },
  {
   "cell_type": "code",
   "execution_count": null,
   "metadata": {},
   "outputs": [],
   "source": [
    "zvec = ZernikeVector(coeffs=out) - f5wfs.reference_aberrations('hecto')\n",
    "#zvec.units = u.m\n",
    "zvec['Z23'] = 10.\n",
    "print(zvec.pretty_print(last=37))"
   ]
  },
  {
   "cell_type": "code",
   "execution_count": null,
   "metadata": {},
   "outputs": [],
   "source": [
    "zvec.fringe_bar_chart().show()"
   ]
  },
  {
   "cell_type": "code",
   "execution_count": null,
   "metadata": {},
   "outputs": [],
   "source": [
    "rho, phi = cart2pol(pup_coords)\n",
    "pred_slopes = np.array(zernike_slopes(ZernikeVector(coeffs=out), rho, phi))\n",
    "diff = slopes - pred_slopes\n",
    "rms = (1. / f5wfs.telescope.nmperasec) * np.sqrt((diff[0]**2 + diff[1]**2).mean())\n",
    "rms"
   ]
  },
  {
   "cell_type": "code",
   "execution_count": null,
   "metadata": {},
   "outputs": [],
   "source": [
    "for p, v in out.params.items():\n",
    "    print(v.stderr)"
   ]
  },
  {
   "cell_type": "code",
   "execution_count": null,
   "metadata": {},
   "outputs": [],
   "source": [
    "(1 * u.nm)**1.3"
   ]
  },
  {
   "cell_type": "code",
   "execution_count": null,
   "metadata": {},
   "outputs": [],
   "source": [
    "zvec.coeffs"
   ]
  },
  {
   "cell_type": "code",
   "execution_count": null,
   "metadata": {},
   "outputs": [],
   "source": [
    "zresults = f9wfs.fit_wavefront(f9_results, plot=True)\n",
    "print(zresults['residual_rms'])\n",
    "print(zresults['raw_zernike'].pretty_print())\n",
    "zresults['resid_plot'].show()"
   ]
  },
  {
   "cell_type": "code",
   "execution_count": null,
   "metadata": {},
   "outputs": [],
   "source": [
    "\"{0:>0.04g} +/- {1:0.04g}\".format(zvec['Z04'].value, zvec['Z09'])"
   ]
  },
  {
   "cell_type": "code",
   "execution_count": null,
   "metadata": {},
   "outputs": [],
   "source": [
    "testdata, hdr = check_wfsdata(\"/Users/tim/mmirs_wfs_0120.fits\", header=True)"
   ]
  },
  {
   "cell_type": "code",
   "execution_count": null,
   "metadata": {},
   "outputs": [],
   "source": [
    "mmirs.reference_aberrations('mmirs1', hdr=hdr)"
   ]
  },
  {
   "cell_type": "code",
   "execution_count": null,
   "metadata": {},
   "outputs": [],
   "source": [
    "610/40.8"
   ]
  },
  {
   "cell_type": "code",
   "execution_count": null,
   "metadata": {},
   "outputs": [],
   "source": [
    "np.sqrt((415/3)**2 + (1528/3)**2)"
   ]
  },
  {
   "cell_type": "code",
   "execution_count": null,
   "metadata": {},
   "outputs": [],
   "source": [
    "np.sqrt(67**2 + 7**2)"
   ]
  },
  {
   "cell_type": "code",
   "execution_count": null,
   "metadata": {},
   "outputs": [],
   "source": [
    "mmirs.focal_plane_position(hdr)"
   ]
  },
  {
   "cell_type": "code",
   "execution_count": null,
   "metadata": {},
   "outputs": [],
   "source": [
    "zvec = mmirs.reference_aberrations('mmirs1', hdr=hdr)\n",
    "zvec"
   ]
  },
  {
   "cell_type": "code",
   "execution_count": null,
   "metadata": {},
   "outputs": [],
   "source": [
    "zvec.rotate(angle=-90*u.deg)\n",
    "zvec"
   ]
  },
  {
   "cell_type": "code",
   "execution_count": null,
   "metadata": {},
   "outputs": [],
   "source": [
    "from uncertainties import ufloat"
   ]
  },
  {
   "cell_type": "code",
   "execution_count": null,
   "metadata": {},
   "outputs": [],
   "source": [
    "u.Quantity(ufloat(100., 10.), u.nm)"
   ]
  },
  {
   "cell_type": "code",
   "execution_count": null,
   "metadata": {},
   "outputs": [],
   "source": [
    "import unyt"
   ]
  },
  {
   "cell_type": "code",
   "execution_count": null,
   "metadata": {},
   "outputs": [],
   "source": [
    "type(ufloat(100., 10.))"
   ]
  },
  {
   "cell_type": "code",
   "execution_count": null,
   "metadata": {},
   "outputs": [],
   "source": [
    "u.Quantity(ufloat(100., 10.), u.nm)"
   ]
  },
  {
   "cell_type": "code",
   "execution_count": null,
   "metadata": {},
   "outputs": [],
   "source": [
    "def ZernikeGrad(zpars, x, y, atype):\n",
    "    if(len(zpars) > 21):\n",
    "        print('ZernikeGrad() is not implemented with >21 terms')\n",
    "        return\n",
    "\n",
    "    x2 = x * x\n",
    "    y2 = y * y\n",
    "    xy = x * y\n",
    "    r2 = x2 + y2\n",
    "\n",
    "    if (atype == 'dx'):\n",
    "        d = 0. * x  # to make d an array with the same size as x\n",
    "        d = d + zpars['Z02'] * 1.\n",
    "        d = d + zpars['Z03'] * 0.\n",
    "        d = d + zpars['Z04'] * 4. * x\n",
    "        d = d + zpars['Z05'] * 2. * y\n",
    "        d = d + zpars['Z06'] * 2. * x\n",
    "        d = d + zpars['Z07'] * 6. * xy\n",
    "        d = d + zpars['Z08'] * (9. * x2 + 3. * y2 - 2.)\n",
    "        d = d + zpars['Z09'] * 6. * xy\n",
    "        d = d + zpars['Z10'] * (3. * x2 - 3. * y2)\n",
    "        d = d + zpars['Z11'] * 12. * x * (2. * (x2 + y2) - 1.)\n",
    "        d = d + zpars['Z12'] * x * (16. * x2 - 6.)\n",
    "        d = d + zpars['Z13'] * y * (24. * x2 + 8. * y2 - 6.)\n",
    "        d = d + zpars['Z14'] * 4. * x * (x2 - 3. * y2)\n",
    "        d = d + zpars['Z15'] * 4. * y * (3. * x2 - y2)\n",
    "        d = d + zpars['Z16'] * (x2 * (50. * x2 + 60. * y2 - 36.) + y2 * (10. * y2 - 12.) + 3.)\n",
    "        d = d + zpars['Z17'] * (xy * (40. * r2 - 24.))\n",
    "        d = d + zpars['Z18'] * (x2 * (25. * x2 - 12. - 30. * y2) + y2 * (12. - 15. * y2))\n",
    "        d = d + zpars['Z19'] * (4. * xy * (-6. + 15. * x2 + 5. * y2))\n",
    "        d = d + zpars['Z20'] * 5. * (x2 * (x2 - 6. * y2) + y2 * y2)\n",
    "        d = d + zpars['Z21'] * 20. * xy * (x2 - y2)\n",
    "        d = d + zpars['Z22'] * 24. * x * (1. + x2 * (10. * y2 - 5. + 5. * x2) + y2 * (5. * y2 - 5.))\n",
    "\n",
    "    elif (atype, 'dy'):\n",
    "\n",
    "        d = 0. * y\n",
    "        d = d + zpars['Z02'] * 0.\n",
    "        d = d + zpars['Z03'] * 1.\n",
    "        d = d + zpars['Z04'] * 4. * y\n",
    "        d = d + zpars['Z05'] * 2. * x\n",
    "        d = d + zpars['Z06'] * (-2.) * y\n",
    "        d = d + zpars['Z07'] * (3. * x2 + 9. * y2 - 2.)\n",
    "        d = d + zpars['Z08'] * 6. * xy\n",
    "        d = d + zpars['Z09'] * (3. * x2 - 3. * y2)\n",
    "        d = d + zpars['Z10'] * (-6.) * xy\n",
    "        d = d + zpars['Z11'] * 12. * y * (2. * (x2 + y2) - 1.)\n",
    "        d = d + zpars['Z12'] * y * (6. - 16. * y2)\n",
    "        d = d + zpars['Z13'] * x * (8. * x2 + 24. * y2 - 6.)\n",
    "        d = d + zpars['Z14'] * 4. * y * (y2 - 3. * x2)\n",
    "        d = d + zpars['Z15'] * 4. * x * (x2 - 3. * y2)\n",
    "        d = d + zpars['Z16'] * (xy * (40. * r2 - 24.))\n",
    "        d = d + zpars['Z17'] * (x2 * (10. * x2 + 60. * y2 - 12.) + y2 * (50. * y2 - 36.) + 3.)\n",
    "        d = d + zpars['Z18'] * (4. * xy * (6. - 5. * x2 - 15. * y2))\n",
    "        d = d + zpars['Z19'] * (y2 * (-25. * y2 + 12. + 30. * x2) + x2 * (-12. + 15. * x2))\n",
    "        d = d + zpars['Z20'] * 20. * xy * (y2 - x2)\n",
    "        d = d + zpars['Z21'] * 5. * (x2 * (x2 - 6. * y2) + y2 * y2)\n",
    "        d = d + zpars['Z22'] * 24. * y * (1. + y2 * (10. * x2 - 5. + 5. * y2) + x2 * (5. * x2 - 5.))\n",
    "\n",
    "    return d"
   ]
  },
  {
   "cell_type": "code",
   "execution_count": null,
   "metadata": {},
   "outputs": [],
   "source": [
    "from math import factorial as fac"
   ]
  },
  {
   "cell_type": "code",
   "execution_count": null,
   "metadata": {},
   "outputs": [],
   "source": [
    "rho = np.arange(10)/10\n",
    "m, n = 0, 6"
   ]
  },
  {
   "cell_type": "code",
   "execution_count": null,
   "metadata": {},
   "outputs": [],
   "source": [
    "karr = np.arange(int((n-m)/2) + 1)\n",
    "karr"
   ]
  },
  {
   "cell_type": "code",
   "execution_count": null,
   "metadata": {},
   "outputs": [],
   "source": [
    "wf = 0.0\n",
    "for k in range(int((n - m)/2) + 1):\n",
    "    wf += rho**(n - 2.0*k) * (-1.0)**k * fac(n-k) / (fac(k) * fac((n + m)/2.0 - k) * fac((n - m)/2.0 - k))"
   ]
  },
  {
   "cell_type": "code",
   "execution_count": null,
   "metadata": {},
   "outputs": [],
   "source": [
    "wf"
   ]
  },
  {
   "cell_type": "code",
   "execution_count": null,
   "metadata": {},
   "outputs": [],
   "source": [
    "f = lambda k: rho**(n - 2.0*k) * (-1.0)**k * fac(n-k) / (fac(k) * fac((n + m)/2.0 - k) * fac((n - m)/2.0 - k))\n",
    "ws = np.fromiter((f(ki) for ki in karr), karr.dtype, count=len(karr))"
   ]
  },
  {
   "cell_type": "code",
   "execution_count": 28,
   "metadata": {},
   "outputs": [],
   "source": [
    "f9_fl = 45 * u.mm\n",
    "f9_pitch = 625 * u.um\n",
    "oldf9_pix = 20 * u.um\n",
    "newf9_pix = 5.4 * u.um * 3\n",
    "\n",
    "f5_pix = 20 * u.um\n",
    "f5_pitch = 0.6 * u.mm\n",
    "f5_fl = 40 * u.mm\n",
    "\n",
    "mmirs_pitch = 0.6 * u.mm\n",
    "mmirs_fl = 40 * u.mm\n",
    "mmirs_pix = 13 * u.um * 2\n",
    "\n",
    "def ref_width(d, fl, pix):\n",
    "    w = 550 * u.nm  # default wavelength\n",
    "    theta = 1.028 * w / d\n",
    "    res = np.arctan(theta).value * fl\n",
    "    res_pix = res.to(u.um).value / pix.to(u.um).value\n",
    "    return res_pix"
   ]
  },
  {
   "cell_type": "code",
   "execution_count": 29,
   "metadata": {},
   "outputs": [
    {
     "data": {
      "text/plain": [
       "2.0354394447502004"
      ]
     },
     "execution_count": 29,
     "metadata": {},
     "output_type": "execute_result"
    }
   ],
   "source": [
    "ref_width(f9_pitch, f9_fl, oldf9_pix)"
   ]
  },
  {
   "cell_type": "code",
   "execution_count": 30,
   "metadata": {},
   "outputs": [
    {
     "data": {
      "text/plain": [
       "1.4497431606235287"
      ]
     },
     "execution_count": 30,
     "metadata": {},
     "output_type": "execute_result"
    }
   ],
   "source": [
    "ref_width(mmirs_pitch, mmirs_fl, mmirs_pix)"
   ]
  },
  {
   "cell_type": "code",
   "execution_count": 31,
   "metadata": {},
   "outputs": [
    {
     "data": {
      "text/plain": [
       "1.8846661088105872"
      ]
     },
     "execution_count": 31,
     "metadata": {},
     "output_type": "execute_result"
    }
   ],
   "source": [
    "ref_width(f5_pitch, f5_fl, f5_pix)"
   ]
  },
  {
   "cell_type": "code",
   "execution_count": 32,
   "metadata": {},
   "outputs": [
    {
     "data": {
      "text/plain": [
       "2.512888203395309"
      ]
     },
     "execution_count": 32,
     "metadata": {},
     "output_type": "execute_result"
    }
   ],
   "source": [
    "ref_width(f9_pitch, f9_fl, newf9_pix)"
   ]
  },
  {
   "cell_type": "code",
   "execution_count": null,
   "metadata": {},
   "outputs": [],
   "source": []
  }
 ],
 "metadata": {
  "kernelspec": {
   "display_name": "Python 3",
   "language": "python",
   "name": "python3"
  },
  "language_info": {
   "codemirror_mode": {
    "name": "ipython",
    "version": 3
   },
   "file_extension": ".py",
   "mimetype": "text/x-python",
   "name": "python",
   "nbconvert_exporter": "python",
   "pygments_lexer": "ipython3",
   "version": "3.7.1"
  }
 },
 "nbformat": 4,
 "nbformat_minor": 2
}
