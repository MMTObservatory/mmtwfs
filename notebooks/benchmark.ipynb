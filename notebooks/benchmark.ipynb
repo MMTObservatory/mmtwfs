{
 "cells": [
  {
   "cell_type": "code",
   "execution_count": null,
   "metadata": {},
   "outputs": [],
   "source": [
    "import numpy as np\n",
    "from scipy.spatial import cKDTree\n",
    "\n",
    "from mmtwfs.wfs import WFSFactory, aperture_distance\n",
    "from mmtwfs.zernike import (\n",
    "    zernike_slopes\n",
    ")"
   ]
  },
  {
   "cell_type": "code",
   "execution_count": null,
   "metadata": {},
   "outputs": [],
   "source": [
    "zv = {\n",
    "    \"Z04\": 500.,\n",
    "    \"Z05\": 1000.,\n",
    "    \"Z06\": 1500.,\n",
    "    \"Z11\": 1000.,\n",
    "    \"Z22\": 500.,\n",
    "    \"Z33\": 100.,\n",
    "}\n",
    "r = np.linspace(0.1, 1, 100)\n",
    "theta = np.linspace(0, 2*np.pi, 145)\n",
    "rho, phi = np.meshgrid(r, theta)"
   ]
  },
  {
   "cell_type": "code",
   "execution_count": null,
   "metadata": {},
   "outputs": [],
   "source": [
    "%timeit zernike_slopes(zv, rho, phi, norm=True, use_cache=True)"
   ]
  },
  {
   "cell_type": "code",
   "execution_count": null,
   "metadata": {},
   "outputs": [],
   "source": [
    "%timeit zernike_slopes(zv, rho, phi, norm=True, use_cache=False)"
   ]
  },
  {
   "cell_type": "code",
   "execution_count": null,
   "metadata": {},
   "outputs": [],
   "source": [
    "mmirs = WFSFactory(wfs=\"mmirs\")\n",
    "mmirs_file = \"/home/tim/MMT/mmtwfs/mmtwfs/data/test_data/mmirs_wfs_0150.fits\""
   ]
  },
  {
   "cell_type": "code",
   "execution_count": null,
   "metadata": {},
   "outputs": [],
   "source": [
    "%%timeit\n",
    "results = mmirs.measure_slopes(mmirs_file, plot=False)\n",
    "zresults = mmirs.fit_wavefront(results, plot=False)\n",
    "#results['seeing']"
   ]
  },
  {
   "cell_type": "code",
   "execution_count": null,
   "metadata": {},
   "outputs": [],
   "source": [
    "%%prun\n",
    "results = mmirs.measure_slopes(mmirs_file, plot=False)\n",
    "zresults = mmirs.fit_wavefront(results, plot=False)"
   ]
  },
  {
   "cell_type": "code",
   "execution_count": null,
   "metadata": {},
   "outputs": [],
   "source": [
    "x = np.arange(250)\n",
    "y = np.arange(250)\n",
    "rx = np.arange(300) + 10\n",
    "ry = np.arange(300) + 3\n",
    "a1 = np.array([x, y])\n",
    "a2 = np.array([rx, ry])\n",
    "ad = aperture_distance(x, y, rx, ry)\n",
    "ad"
   ]
  },
  {
   "cell_type": "code",
   "execution_count": null,
   "metadata": {},
   "outputs": [],
   "source": [
    "def aperture_distance(refx, refy, spotx, spoty):\n",
    "    \"\"\"\n",
    "    Calculate the sum of the distances between each reference aperture and the closest measured spot position.\n",
    "    This total distance is the statistic to minimize when fitting the reference aperture grid to the data.\n",
    "    \"\"\"\n",
    "    tot_dist = 0.0\n",
    "    refs = np.array([refx, refy]).transpose()\n",
    "    spots = np.array([spotx, spoty]).transpose()\n",
    "    tree = cKDTree(refs)\n",
    "    mindist, _ = tree.query(spots)\n",
    "    tot_dist = mindist.sum()\n",
    "    return np.log(tot_dist)"
   ]
  },
  {
   "cell_type": "code",
   "execution_count": null,
   "metadata": {},
   "outputs": [],
   "source": [
    "%%timeit\n",
    "d = aperture_distance(rx, ry, x, y)"
   ]
  },
  {
   "cell_type": "code",
   "execution_count": null,
   "metadata": {},
   "outputs": [],
   "source": [
    "refs = np.array([rx, ry]).transpose()\n",
    "spots = np.array([x, y]).transpose()"
   ]
  },
  {
   "cell_type": "code",
   "execution_count": null,
   "metadata": {},
   "outputs": [],
   "source": [
    "tree = cKDTree(refs)"
   ]
  },
  {
   "cell_type": "code",
   "execution_count": null,
   "metadata": {},
   "outputs": [],
   "source": [
    "mindist, minid = tree.query(spots)"
   ]
  },
  {
   "cell_type": "code",
   "execution_count": null,
   "metadata": {},
   "outputs": [],
   "source": [
    "np.log(mindist.sum())"
   ]
  },
  {
   "cell_type": "code",
   "execution_count": null,
   "metadata": {},
   "outputs": [],
   "source": [
    "a = np.arange(25).reshape(5, 5)"
   ]
  },
  {
   "cell_type": "code",
   "execution_count": null,
   "metadata": {},
   "outputs": [],
   "source": [
    "a.sum(axis=0)"
   ]
  },
  {
   "cell_type": "code",
   "execution_count": null,
   "metadata": {},
   "outputs": [],
   "source": [
    "a.sum(axis=1)"
   ]
  },
  {
   "cell_type": "code",
   "execution_count": null,
   "metadata": {},
   "outputs": [],
   "source": [
    "a"
   ]
  },
  {
   "cell_type": "code",
   "execution_count": null,
   "metadata": {},
   "outputs": [],
   "source": []
  }
 ],
 "metadata": {
  "kernelspec": {
   "display_name": "mmtwfs",
   "language": "python",
   "name": "python3"
  },
  "language_info": {
   "codemirror_mode": {
    "name": "ipython",
    "version": 3
   },
   "file_extension": ".py",
   "mimetype": "text/x-python",
   "name": "python",
   "nbconvert_exporter": "python",
   "pygments_lexer": "ipython3",
   "version": "3.13.5"
  },
  "orig_nbformat": 4
 },
 "nbformat": 4,
 "nbformat_minor": 2
}
