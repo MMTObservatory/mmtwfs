{
 "cells": [
  {
   "cell_type": "code",
   "execution_count": 1,
   "metadata": {},
   "outputs": [],
   "source": [
    "import time\n",
    "import os\n",
    "import sys\n",
    "import numpy as np\n",
    "#import ipympl\n",
    "import matplotlib\n",
    "matplotlib.use('nbagg')\n",
    "#from matplotlib import style\n",
    "#style.use('ggplot')\n",
    "import matplotlib.pyplot as plt\n",
    "\n",
    "import astropy.units as u\n",
    "from astropy import stats\n",
    "from astropy.io import fits\n",
    "from mmtwfs.wfs import *\n",
    "from mmtwfs.zernike import ZernikeVector\n",
    "from mmtwfs.telescope import MMT"
   ]
  },
  {
   "cell_type": "code",
   "execution_count": 2,
   "metadata": {},
   "outputs": [],
   "source": [
    "%load_ext autoreload\n",
    "%autoreload 2"
   ]
  },
  {
   "cell_type": "code",
   "execution_count": null,
   "metadata": {},
   "outputs": [],
   "source": [
    "def wfsrun(wfs, mode, file):\n",
    "    r = wfs.measure_slopes(file, mode=mode, plot=True)\n",
    "    return r"
   ]
  },
  {
   "cell_type": "markdown",
   "metadata": {},
   "source": [
    "# Binospec Dev Section"
   ]
  },
  {
   "cell_type": "code",
   "execution_count": null,
   "metadata": {},
   "outputs": [],
   "source": [
    "bino = WFSFactory(wfs=\"binospec\")"
   ]
  },
  {
   "cell_type": "code",
   "execution_count": null,
   "metadata": {},
   "outputs": [],
   "source": [
    "#%%prun\n",
    "%matplotlib ipympl\n",
    "bino_file = \"/Users/tim/MMT/wfsdat/20180208/wfs_ff_cal_img_2018.0208.074052.fits\"\n",
    "#bino_file = \"/Users/tim/MMT/mmtwfs/mmtwfs/data/test_data/wfs_ff_cal_img_2017.1113.111402.fits\"\n",
    "bino_file = \"/Users/tim/MMT/wfsdat/20180209/wfs_ff_cal_img_2018.0209.114054.fits\"\n",
    "#bino_file = \"/Users/tim/MMT/wfsdat/20180210/wfs_ff_cal_img_2018.0210.095719.fits\"\n",
    "#bino_file = \"/Users/tim/MMT/wfsdat/20180210/wfs_ff_cal_img_2018.0210.102615.fits\"\n",
    "bino_file = \"/Users/tim/MMT/wfsdat/20180604/wfs_ff_cal_img_2018.0604.052401.fits\"\n",
    "results = bino.measure_slopes(bino_file, mode=\"binospec\", plot=True)\n",
    "results['figures']['slopes'].show()"
   ]
  },
  {
   "cell_type": "code",
   "execution_count": null,
   "metadata": {},
   "outputs": [],
   "source": [
    "refaps = bino.modes['binospec']['reference'].masked_apertures\n",
    "fig, ax = plt.subplots()\n",
    "fit = results['grid_fit']\n",
    "refx = refaps['xcentroid'] * (fit['scale'] + refaps['xcentroid'] * fit['xcoma']) + fit['xcen']\n",
    "refy = refaps['ycentroid'] * (fit['scale'] + refaps['ycentroid'] * fit['ycoma']) + fit['ycen']\n",
    "x, y = results['apertures'].positions.transpose()[0], results['apertures'].positions.transpose()[1]\n",
    "spacing = 0.5*(results['xspacing'] + results['yspacing'])\n",
    "ax.scatter(refx, refy)\n",
    "ax.set_aspect('equal')\n",
    "ax.scatter(x, y)\n",
    "ax.set_xlim(0, 512)\n",
    "ax.set_ylim(0, 512)\n",
    "fig.show()\n",
    "\n",
    "results['grid_fit']"
   ]
  },
  {
   "cell_type": "code",
   "execution_count": null,
   "metadata": {},
   "outputs": [],
   "source": [
    "#%%prun\n",
    "zresults = bino.fit_wavefront(results, plot=True)\n",
    "zvec = zresults['zernike']\n",
    "print(zresults['residual_rms'])\n",
    "#zvec.normalize()\n",
    "print(zvec.pretty_print())\n",
    "#print(zvec)\n",
    "zresults['resid_plot'].show()"
   ]
  },
  {
   "cell_type": "code",
   "execution_count": null,
   "metadata": {},
   "outputs": [],
   "source": [
    "zvec.fringe_bar_chart(last_mode=21).show()"
   ]
  },
  {
   "cell_type": "code",
   "execution_count": null,
   "metadata": {},
   "outputs": [],
   "source": [
    "zvec.bar_chart(last_mode=21).show()"
   ]
  },
  {
   "cell_type": "code",
   "execution_count": null,
   "metadata": {},
   "outputs": [],
   "source": [
    "zvec.plot_map().show()"
   ]
  },
  {
   "cell_type": "code",
   "execution_count": null,
   "metadata": {},
   "outputs": [],
   "source": [
    "zv = ZernikeVector(Z38=100)\n",
    "ft, m1c, zv_masked = bino.telescope.calculate_primary_corrections(zvec, mask=['Z22'])\n",
    "bino.telescope.to_rcell(ft, filename=\"null_forces\")"
   ]
  },
  {
   "cell_type": "code",
   "execution_count": null,
   "metadata": {},
   "outputs": [],
   "source": [
    "forces, m1focus, zv_masked = bino.calculate_primary(zvec, threshold=0.25*zresults['residual_rms'])"
   ]
  },
  {
   "cell_type": "code",
   "execution_count": null,
   "metadata": {},
   "outputs": [],
   "source": [
    "bino.modes['binospec']['reference']"
   ]
  },
  {
   "cell_type": "code",
   "execution_count": null,
   "metadata": {},
   "outputs": [],
   "source": [
    "bino.modes['binospec']['reference']['xspacing'], bino.modes['binospec']['reference']['yspacing']"
   ]
  },
  {
   "cell_type": "code",
   "execution_count": null,
   "metadata": {},
   "outputs": [],
   "source": [
    "bino.modes['binospec']['reference']['figure'].show()"
   ]
  },
  {
   "cell_type": "markdown",
   "metadata": {},
   "source": [
    "# MMIRS Dev Section"
   ]
  },
  {
   "cell_type": "code",
   "execution_count": null,
   "metadata": {},
   "outputs": [],
   "source": [
    "mmirs = WFSFactory(wfs=\"mmirs\", nzern=80)"
   ]
  },
  {
   "cell_type": "code",
   "execution_count": null,
   "metadata": {},
   "outputs": [],
   "source": [
    "plt.close('all')\n",
    "mmirs_file = \"/Users/tim/MMT/wfsdat/20171101/mmirs_wfs_%04d.fits\" % 22\n",
    "#mmirs_file = \"/Users/tim/MMT/mmtwfs/mmtwfs/data/test_data/mmirs_wfs_0150.fits\"\n",
    "results = mmirs.measure_slopes(mmirs_file, plot=True)\n",
    "results['figures']['slopes'].show()"
   ]
  },
  {
   "cell_type": "code",
   "execution_count": null,
   "metadata": {},
   "outputs": [],
   "source": [
    "refaps = mmirs.modes['mmirs1']['reference'].masked_apertures\n",
    "fig, ax = plt.subplots()\n",
    "fit = results['grid_fit']\n",
    "refx = refaps['xcentroid'] * (fit['scale'] + refaps['xcentroid'] * fit['xcoma']) + fit['xcen']\n",
    "refy = refaps['ycentroid'] * (fit['scale'] + refaps['ycentroid'] * fit['ycoma']) + fit['ycen']\n",
    "x, y = results['apertures'].positions.transpose()[0], results['apertures'].positions.transpose()[1]\n",
    "spacing = 0.5*(results['xspacing'] + results['yspacing'])\n",
    "ax.scatter(refx, refy)\n",
    "ax.set_aspect('equal')\n",
    "ax.scatter(x, y)\n",
    "ax.set_xlim(0, 512)\n",
    "ax.set_ylim(0, 512)\n",
    "fig.show()\n",
    "\n",
    "results['grid_fit']"
   ]
  },
  {
   "cell_type": "code",
   "execution_count": null,
   "metadata": {
    "scrolled": false
   },
   "outputs": [],
   "source": [
    "zresults = mmirs.fit_wavefront(results, plot=True)\n",
    "zvec = zresults['zernike']\n",
    "print(zresults['residual_rms'])\n",
    "#zvec.normalize()\n",
    "print(zvec.pretty_print())\n",
    "zresults['resid_plot'].show()"
   ]
  },
  {
   "cell_type": "code",
   "execution_count": null,
   "metadata": {},
   "outputs": [],
   "source": [
    "zresults['zernike'].fringe_bar_chart(last_mode=21).show()"
   ]
  },
  {
   "cell_type": "code",
   "execution_count": null,
   "metadata": {},
   "outputs": [],
   "source": [
    "zresults['zernike'].bar_chart(last_mode=21).show()"
   ]
  },
  {
   "cell_type": "code",
   "execution_count": null,
   "metadata": {},
   "outputs": [],
   "source": [
    "psf, pfig = mmirs.telescope.psf(zresults['zernike'].copy())\n",
    "pfig.show()"
   ]
  },
  {
   "cell_type": "code",
   "execution_count": null,
   "metadata": {},
   "outputs": [],
   "source": [
    "print(mmirs.modes['mmirs1']['reference']['fwhm'])\n",
    "\n",
    "spot = mmirs.modes['mmirs1']['reference']['spot']\n",
    "model = Gaussian2D(amplitude=spot.max(), x_mean=spot.shape[1]/2, y_mean=spot.shape[0]/2) + Polynomial2D(degree=0)\n",
    "#model = Gaussian2D(amplitude=spot.max(), x_mean=spot.shape[1]/2, y_mean=spot.shape[0]/2)\n",
    "fitter = LevMarLSQFitter()\n",
    "y, x = np.mgrid[:spot.shape[0], :spot.shape[1]]\n",
    "fit = fitter(model, x, y, spot)\n",
    "fig, ax = plt.subplots()\n",
    "ax.imshow(mmirs.modes['mmirs1']['reference']['spot'] - fit(x, y))\n",
    "fig.show()"
   ]
  },
  {
   "cell_type": "code",
   "execution_count": null,
   "metadata": {},
   "outputs": [],
   "source": [
    "mmirs.modes['mmirs1']['reference']['figure'].show()\n",
    "mmirs.modes['mmirs1']['reference']['xspacing'], mmirs.modes['mmirs1']['reference']['yspacing']"
   ]
  },
  {
   "cell_type": "code",
   "execution_count": null,
   "metadata": {},
   "outputs": [],
   "source": [
    "zplot = zvec.copy()\n",
    "zplot.ignore('Z02')\n",
    "zplot.ignore('Z03')\n",
    "mfig = zplot.plot_map()\n",
    "mfig.show()\n",
    "zplot.peak2valley"
   ]
  },
  {
   "cell_type": "code",
   "execution_count": null,
   "metadata": {},
   "outputs": [],
   "source": [
    "zvec.units = u.nm\n",
    "f = zvec.bar_chart(residual=zresults['residual_rms'])\n",
    "f.set_size_inches(9, 5)\n",
    "\n",
    "f.show()"
   ]
  },
  {
   "cell_type": "code",
   "execution_count": null,
   "metadata": {},
   "outputs": [],
   "source": [
    "plt.close(f)"
   ]
  },
  {
   "cell_type": "code",
   "execution_count": null,
   "metadata": {},
   "outputs": [],
   "source": [
    "torig = mmirs.telescope.bending_forces(zvec)\n",
    "torig.show_in_notebook()"
   ]
  },
  {
   "cell_type": "code",
   "execution_count": null,
   "metadata": {},
   "outputs": [],
   "source": [
    "force_fig = mmirs.telescope.plot_forces(torig)\n",
    "force_fig.show()"
   ]
  },
  {
   "cell_type": "code",
   "execution_count": null,
   "metadata": {},
   "outputs": [],
   "source": [
    "t, m1foc = mmirs.correct_primary(zv=zvec)\n",
    "print(m1foc)\n",
    "t.show_in_notebook()"
   ]
  },
  {
   "cell_type": "code",
   "execution_count": null,
   "metadata": {},
   "outputs": [],
   "source": [
    "new_force_fig = mmirs.telescope.plot_forces(t)\n",
    "new_force_fig.show()"
   ]
  },
  {
   "cell_type": "code",
   "execution_count": null,
   "metadata": {},
   "outputs": [],
   "source": [
    "zpsf = ZernikeVector()\n",
    "psf, psf_fig = mmirs.telescope.psf(zpsf, plot=True)\n",
    "psf_fig.set_size_inches(4.0, 4.0)\n",
    "psf_fig.show()"
   ]
  },
  {
   "cell_type": "markdown",
   "metadata": {},
   "source": [
    "# F/9 Dev Section"
   ]
  },
  {
   "cell_type": "code",
   "execution_count": 11,
   "metadata": {},
   "outputs": [],
   "source": [
    "plt.close('all')\n",
    "f9wfs = WFSFactory(wfs=\"newf9\", nzern=36, pup_offset=[0.3, 0.])"
   ]
  },
  {
   "cell_type": "code",
   "execution_count": 12,
   "metadata": {},
   "outputs": [],
   "source": [
    "baseline1_files = [\"f9wfs_20180131-191734.fits\", \"f9wfs_20180131-191925.fits\", \"f9wfs_20180131-192131.fits\"]\n",
    "baseline2_files = [\"f9wfs_20180131-192350.fits\", \"f9wfs_20180131-192541.fits\", \"f9wfs_20180131-192731.fits\"]\n",
    "baseline3_files = [\n",
    "    \"f9wfs_20180131-192927.fits\", \"f9wfs_20180131-193109.fits\", \n",
    "    \"f9wfs_20180131-193325.fits\", \"f9wfs_20180131-193509.fits\"\n",
    "]"
   ]
  },
  {
   "cell_type": "code",
   "execution_count": 13,
   "metadata": {},
   "outputs": [
    {
     "data": {
      "application/javascript": [
       "/* Put everything inside the global mpl namespace */\n",
       "window.mpl = {};\n",
       "\n",
       "\n",
       "mpl.get_websocket_type = function() {\n",
       "    if (typeof(WebSocket) !== 'undefined') {\n",
       "        return WebSocket;\n",
       "    } else if (typeof(MozWebSocket) !== 'undefined') {\n",
       "        return MozWebSocket;\n",
       "    } else {\n",
       "        alert('Your browser does not have WebSocket support.' +\n",
       "              'Please try Chrome, Safari or Firefox ≥ 6. ' +\n",
       "              'Firefox 4 and 5 are also supported but you ' +\n",
       "              'have to enable WebSockets in about:config.');\n",
       "    };\n",
       "}\n",
       "\n",
       "mpl.figure = function(figure_id, websocket, ondownload, parent_element) {\n",
       "    this.id = figure_id;\n",
       "\n",
       "    this.ws = websocket;\n",
       "\n",
       "    this.supports_binary = (this.ws.binaryType != undefined);\n",
       "\n",
       "    if (!this.supports_binary) {\n",
       "        var warnings = document.getElementById(\"mpl-warnings\");\n",
       "        if (warnings) {\n",
       "            warnings.style.display = 'block';\n",
       "            warnings.textContent = (\n",
       "                \"This browser does not support binary websocket messages. \" +\n",
       "                    \"Performance may be slow.\");\n",
       "        }\n",
       "    }\n",
       "\n",
       "    this.imageObj = new Image();\n",
       "\n",
       "    this.context = undefined;\n",
       "    this.message = undefined;\n",
       "    this.canvas = undefined;\n",
       "    this.rubberband_canvas = undefined;\n",
       "    this.rubberband_context = undefined;\n",
       "    this.format_dropdown = undefined;\n",
       "\n",
       "    this.image_mode = 'full';\n",
       "\n",
       "    this.root = $('<div/>');\n",
       "    this._root_extra_style(this.root)\n",
       "    this.root.attr('style', 'display: inline-block');\n",
       "\n",
       "    $(parent_element).append(this.root);\n",
       "\n",
       "    this._init_header(this);\n",
       "    this._init_canvas(this);\n",
       "    this._init_toolbar(this);\n",
       "\n",
       "    var fig = this;\n",
       "\n",
       "    this.waiting = false;\n",
       "\n",
       "    this.ws.onopen =  function () {\n",
       "            fig.send_message(\"supports_binary\", {value: fig.supports_binary});\n",
       "            fig.send_message(\"send_image_mode\", {});\n",
       "            if (mpl.ratio != 1) {\n",
       "                fig.send_message(\"set_dpi_ratio\", {'dpi_ratio': mpl.ratio});\n",
       "            }\n",
       "            fig.send_message(\"refresh\", {});\n",
       "        }\n",
       "\n",
       "    this.imageObj.onload = function() {\n",
       "            if (fig.image_mode == 'full') {\n",
       "                // Full images could contain transparency (where diff images\n",
       "                // almost always do), so we need to clear the canvas so that\n",
       "                // there is no ghosting.\n",
       "                fig.context.clearRect(0, 0, fig.canvas.width, fig.canvas.height);\n",
       "            }\n",
       "            fig.context.drawImage(fig.imageObj, 0, 0);\n",
       "        };\n",
       "\n",
       "    this.imageObj.onunload = function() {\n",
       "        fig.ws.close();\n",
       "    }\n",
       "\n",
       "    this.ws.onmessage = this._make_on_message_function(this);\n",
       "\n",
       "    this.ondownload = ondownload;\n",
       "}\n",
       "\n",
       "mpl.figure.prototype._init_header = function() {\n",
       "    var titlebar = $(\n",
       "        '<div class=\"ui-dialog-titlebar ui-widget-header ui-corner-all ' +\n",
       "        'ui-helper-clearfix\"/>');\n",
       "    var titletext = $(\n",
       "        '<div class=\"ui-dialog-title\" style=\"width: 100%; ' +\n",
       "        'text-align: center; padding: 3px;\"/>');\n",
       "    titlebar.append(titletext)\n",
       "    this.root.append(titlebar);\n",
       "    this.header = titletext[0];\n",
       "}\n",
       "\n",
       "\n",
       "\n",
       "mpl.figure.prototype._canvas_extra_style = function(canvas_div) {\n",
       "\n",
       "}\n",
       "\n",
       "\n",
       "mpl.figure.prototype._root_extra_style = function(canvas_div) {\n",
       "\n",
       "}\n",
       "\n",
       "mpl.figure.prototype._init_canvas = function() {\n",
       "    var fig = this;\n",
       "\n",
       "    var canvas_div = $('<div/>');\n",
       "\n",
       "    canvas_div.attr('style', 'position: relative; clear: both; outline: 0');\n",
       "\n",
       "    function canvas_keyboard_event(event) {\n",
       "        return fig.key_event(event, event['data']);\n",
       "    }\n",
       "\n",
       "    canvas_div.keydown('key_press', canvas_keyboard_event);\n",
       "    canvas_div.keyup('key_release', canvas_keyboard_event);\n",
       "    this.canvas_div = canvas_div\n",
       "    this._canvas_extra_style(canvas_div)\n",
       "    this.root.append(canvas_div);\n",
       "\n",
       "    var canvas = $('<canvas/>');\n",
       "    canvas.addClass('mpl-canvas');\n",
       "    canvas.attr('style', \"left: 0; top: 0; z-index: 0; outline: 0\")\n",
       "\n",
       "    this.canvas = canvas[0];\n",
       "    this.context = canvas[0].getContext(\"2d\");\n",
       "\n",
       "    var backingStore = this.context.backingStorePixelRatio ||\n",
       "\tthis.context.webkitBackingStorePixelRatio ||\n",
       "\tthis.context.mozBackingStorePixelRatio ||\n",
       "\tthis.context.msBackingStorePixelRatio ||\n",
       "\tthis.context.oBackingStorePixelRatio ||\n",
       "\tthis.context.backingStorePixelRatio || 1;\n",
       "\n",
       "    mpl.ratio = (window.devicePixelRatio || 1) / backingStore;\n",
       "\n",
       "    var rubberband = $('<canvas/>');\n",
       "    rubberband.attr('style', \"position: absolute; left: 0; top: 0; z-index: 1;\")\n",
       "\n",
       "    var pass_mouse_events = true;\n",
       "\n",
       "    canvas_div.resizable({\n",
       "        start: function(event, ui) {\n",
       "            pass_mouse_events = false;\n",
       "        },\n",
       "        resize: function(event, ui) {\n",
       "            fig.request_resize(ui.size.width, ui.size.height);\n",
       "        },\n",
       "        stop: function(event, ui) {\n",
       "            pass_mouse_events = true;\n",
       "            fig.request_resize(ui.size.width, ui.size.height);\n",
       "        },\n",
       "    });\n",
       "\n",
       "    function mouse_event_fn(event) {\n",
       "        if (pass_mouse_events)\n",
       "            return fig.mouse_event(event, event['data']);\n",
       "    }\n",
       "\n",
       "    rubberband.mousedown('button_press', mouse_event_fn);\n",
       "    rubberband.mouseup('button_release', mouse_event_fn);\n",
       "    // Throttle sequential mouse events to 1 every 20ms.\n",
       "    rubberband.mousemove('motion_notify', mouse_event_fn);\n",
       "\n",
       "    rubberband.mouseenter('figure_enter', mouse_event_fn);\n",
       "    rubberband.mouseleave('figure_leave', mouse_event_fn);\n",
       "\n",
       "    canvas_div.on(\"wheel\", function (event) {\n",
       "        event = event.originalEvent;\n",
       "        event['data'] = 'scroll'\n",
       "        if (event.deltaY < 0) {\n",
       "            event.step = 1;\n",
       "        } else {\n",
       "            event.step = -1;\n",
       "        }\n",
       "        mouse_event_fn(event);\n",
       "    });\n",
       "\n",
       "    canvas_div.append(canvas);\n",
       "    canvas_div.append(rubberband);\n",
       "\n",
       "    this.rubberband = rubberband;\n",
       "    this.rubberband_canvas = rubberband[0];\n",
       "    this.rubberband_context = rubberband[0].getContext(\"2d\");\n",
       "    this.rubberband_context.strokeStyle = \"#000000\";\n",
       "\n",
       "    this._resize_canvas = function(width, height) {\n",
       "        // Keep the size of the canvas, canvas container, and rubber band\n",
       "        // canvas in synch.\n",
       "        canvas_div.css('width', width)\n",
       "        canvas_div.css('height', height)\n",
       "\n",
       "        canvas.attr('width', width * mpl.ratio);\n",
       "        canvas.attr('height', height * mpl.ratio);\n",
       "        canvas.attr('style', 'width: ' + width + 'px; height: ' + height + 'px;');\n",
       "\n",
       "        rubberband.attr('width', width);\n",
       "        rubberband.attr('height', height);\n",
       "    }\n",
       "\n",
       "    // Set the figure to an initial 600x600px, this will subsequently be updated\n",
       "    // upon first draw.\n",
       "    this._resize_canvas(600, 600);\n",
       "\n",
       "    // Disable right mouse context menu.\n",
       "    $(this.rubberband_canvas).bind(\"contextmenu\",function(e){\n",
       "        return false;\n",
       "    });\n",
       "\n",
       "    function set_focus () {\n",
       "        canvas.focus();\n",
       "        canvas_div.focus();\n",
       "    }\n",
       "\n",
       "    window.setTimeout(set_focus, 100);\n",
       "}\n",
       "\n",
       "mpl.figure.prototype._init_toolbar = function() {\n",
       "    var fig = this;\n",
       "\n",
       "    var nav_element = $('<div/>')\n",
       "    nav_element.attr('style', 'width: 100%');\n",
       "    this.root.append(nav_element);\n",
       "\n",
       "    // Define a callback function for later on.\n",
       "    function toolbar_event(event) {\n",
       "        return fig.toolbar_button_onclick(event['data']);\n",
       "    }\n",
       "    function toolbar_mouse_event(event) {\n",
       "        return fig.toolbar_button_onmouseover(event['data']);\n",
       "    }\n",
       "\n",
       "    for(var toolbar_ind in mpl.toolbar_items) {\n",
       "        var name = mpl.toolbar_items[toolbar_ind][0];\n",
       "        var tooltip = mpl.toolbar_items[toolbar_ind][1];\n",
       "        var image = mpl.toolbar_items[toolbar_ind][2];\n",
       "        var method_name = mpl.toolbar_items[toolbar_ind][3];\n",
       "\n",
       "        if (!name) {\n",
       "            // put a spacer in here.\n",
       "            continue;\n",
       "        }\n",
       "        var button = $('<button/>');\n",
       "        button.addClass('ui-button ui-widget ui-state-default ui-corner-all ' +\n",
       "                        'ui-button-icon-only');\n",
       "        button.attr('role', 'button');\n",
       "        button.attr('aria-disabled', 'false');\n",
       "        button.click(method_name, toolbar_event);\n",
       "        button.mouseover(tooltip, toolbar_mouse_event);\n",
       "\n",
       "        var icon_img = $('<span/>');\n",
       "        icon_img.addClass('ui-button-icon-primary ui-icon');\n",
       "        icon_img.addClass(image);\n",
       "        icon_img.addClass('ui-corner-all');\n",
       "\n",
       "        var tooltip_span = $('<span/>');\n",
       "        tooltip_span.addClass('ui-button-text');\n",
       "        tooltip_span.html(tooltip);\n",
       "\n",
       "        button.append(icon_img);\n",
       "        button.append(tooltip_span);\n",
       "\n",
       "        nav_element.append(button);\n",
       "    }\n",
       "\n",
       "    var fmt_picker_span = $('<span/>');\n",
       "\n",
       "    var fmt_picker = $('<select/>');\n",
       "    fmt_picker.addClass('mpl-toolbar-option ui-widget ui-widget-content');\n",
       "    fmt_picker_span.append(fmt_picker);\n",
       "    nav_element.append(fmt_picker_span);\n",
       "    this.format_dropdown = fmt_picker[0];\n",
       "\n",
       "    for (var ind in mpl.extensions) {\n",
       "        var fmt = mpl.extensions[ind];\n",
       "        var option = $(\n",
       "            '<option/>', {selected: fmt === mpl.default_extension}).html(fmt);\n",
       "        fmt_picker.append(option)\n",
       "    }\n",
       "\n",
       "    // Add hover states to the ui-buttons\n",
       "    $( \".ui-button\" ).hover(\n",
       "        function() { $(this).addClass(\"ui-state-hover\");},\n",
       "        function() { $(this).removeClass(\"ui-state-hover\");}\n",
       "    );\n",
       "\n",
       "    var status_bar = $('<span class=\"mpl-message\"/>');\n",
       "    nav_element.append(status_bar);\n",
       "    this.message = status_bar[0];\n",
       "}\n",
       "\n",
       "mpl.figure.prototype.request_resize = function(x_pixels, y_pixels) {\n",
       "    // Request matplotlib to resize the figure. Matplotlib will then trigger a resize in the client,\n",
       "    // which will in turn request a refresh of the image.\n",
       "    this.send_message('resize', {'width': x_pixels, 'height': y_pixels});\n",
       "}\n",
       "\n",
       "mpl.figure.prototype.send_message = function(type, properties) {\n",
       "    properties['type'] = type;\n",
       "    properties['figure_id'] = this.id;\n",
       "    this.ws.send(JSON.stringify(properties));\n",
       "}\n",
       "\n",
       "mpl.figure.prototype.send_draw_message = function() {\n",
       "    if (!this.waiting) {\n",
       "        this.waiting = true;\n",
       "        this.ws.send(JSON.stringify({type: \"draw\", figure_id: this.id}));\n",
       "    }\n",
       "}\n",
       "\n",
       "\n",
       "mpl.figure.prototype.handle_save = function(fig, msg) {\n",
       "    var format_dropdown = fig.format_dropdown;\n",
       "    var format = format_dropdown.options[format_dropdown.selectedIndex].value;\n",
       "    fig.ondownload(fig, format);\n",
       "}\n",
       "\n",
       "\n",
       "mpl.figure.prototype.handle_resize = function(fig, msg) {\n",
       "    var size = msg['size'];\n",
       "    if (size[0] != fig.canvas.width || size[1] != fig.canvas.height) {\n",
       "        fig._resize_canvas(size[0], size[1]);\n",
       "        fig.send_message(\"refresh\", {});\n",
       "    };\n",
       "}\n",
       "\n",
       "mpl.figure.prototype.handle_rubberband = function(fig, msg) {\n",
       "    var x0 = msg['x0'] / mpl.ratio;\n",
       "    var y0 = (fig.canvas.height - msg['y0']) / mpl.ratio;\n",
       "    var x1 = msg['x1'] / mpl.ratio;\n",
       "    var y1 = (fig.canvas.height - msg['y1']) / mpl.ratio;\n",
       "    x0 = Math.floor(x0) + 0.5;\n",
       "    y0 = Math.floor(y0) + 0.5;\n",
       "    x1 = Math.floor(x1) + 0.5;\n",
       "    y1 = Math.floor(y1) + 0.5;\n",
       "    var min_x = Math.min(x0, x1);\n",
       "    var min_y = Math.min(y0, y1);\n",
       "    var width = Math.abs(x1 - x0);\n",
       "    var height = Math.abs(y1 - y0);\n",
       "\n",
       "    fig.rubberband_context.clearRect(\n",
       "        0, 0, fig.canvas.width, fig.canvas.height);\n",
       "\n",
       "    fig.rubberband_context.strokeRect(min_x, min_y, width, height);\n",
       "}\n",
       "\n",
       "mpl.figure.prototype.handle_figure_label = function(fig, msg) {\n",
       "    // Updates the figure title.\n",
       "    fig.header.textContent = msg['label'];\n",
       "}\n",
       "\n",
       "mpl.figure.prototype.handle_cursor = function(fig, msg) {\n",
       "    var cursor = msg['cursor'];\n",
       "    switch(cursor)\n",
       "    {\n",
       "    case 0:\n",
       "        cursor = 'pointer';\n",
       "        break;\n",
       "    case 1:\n",
       "        cursor = 'default';\n",
       "        break;\n",
       "    case 2:\n",
       "        cursor = 'crosshair';\n",
       "        break;\n",
       "    case 3:\n",
       "        cursor = 'move';\n",
       "        break;\n",
       "    }\n",
       "    fig.rubberband_canvas.style.cursor = cursor;\n",
       "}\n",
       "\n",
       "mpl.figure.prototype.handle_message = function(fig, msg) {\n",
       "    fig.message.textContent = msg['message'];\n",
       "}\n",
       "\n",
       "mpl.figure.prototype.handle_draw = function(fig, msg) {\n",
       "    // Request the server to send over a new figure.\n",
       "    fig.send_draw_message();\n",
       "}\n",
       "\n",
       "mpl.figure.prototype.handle_image_mode = function(fig, msg) {\n",
       "    fig.image_mode = msg['mode'];\n",
       "}\n",
       "\n",
       "mpl.figure.prototype.updated_canvas_event = function() {\n",
       "    // Called whenever the canvas gets updated.\n",
       "    this.send_message(\"ack\", {});\n",
       "}\n",
       "\n",
       "// A function to construct a web socket function for onmessage handling.\n",
       "// Called in the figure constructor.\n",
       "mpl.figure.prototype._make_on_message_function = function(fig) {\n",
       "    return function socket_on_message(evt) {\n",
       "        if (evt.data instanceof Blob) {\n",
       "            /* FIXME: We get \"Resource interpreted as Image but\n",
       "             * transferred with MIME type text/plain:\" errors on\n",
       "             * Chrome.  But how to set the MIME type?  It doesn't seem\n",
       "             * to be part of the websocket stream */\n",
       "            evt.data.type = \"image/png\";\n",
       "\n",
       "            /* Free the memory for the previous frames */\n",
       "            if (fig.imageObj.src) {\n",
       "                (window.URL || window.webkitURL).revokeObjectURL(\n",
       "                    fig.imageObj.src);\n",
       "            }\n",
       "\n",
       "            fig.imageObj.src = (window.URL || window.webkitURL).createObjectURL(\n",
       "                evt.data);\n",
       "            fig.updated_canvas_event();\n",
       "            fig.waiting = false;\n",
       "            return;\n",
       "        }\n",
       "        else if (typeof evt.data === 'string' && evt.data.slice(0, 21) == \"data:image/png;base64\") {\n",
       "            fig.imageObj.src = evt.data;\n",
       "            fig.updated_canvas_event();\n",
       "            fig.waiting = false;\n",
       "            return;\n",
       "        }\n",
       "\n",
       "        var msg = JSON.parse(evt.data);\n",
       "        var msg_type = msg['type'];\n",
       "\n",
       "        // Call the  \"handle_{type}\" callback, which takes\n",
       "        // the figure and JSON message as its only arguments.\n",
       "        try {\n",
       "            var callback = fig[\"handle_\" + msg_type];\n",
       "        } catch (e) {\n",
       "            console.log(\"No handler for the '\" + msg_type + \"' message type: \", msg);\n",
       "            return;\n",
       "        }\n",
       "\n",
       "        if (callback) {\n",
       "            try {\n",
       "                // console.log(\"Handling '\" + msg_type + \"' message: \", msg);\n",
       "                callback(fig, msg);\n",
       "            } catch (e) {\n",
       "                console.log(\"Exception inside the 'handler_\" + msg_type + \"' callback:\", e, e.stack, msg);\n",
       "            }\n",
       "        }\n",
       "    };\n",
       "}\n",
       "\n",
       "// from http://stackoverflow.com/questions/1114465/getting-mouse-location-in-canvas\n",
       "mpl.findpos = function(e) {\n",
       "    //this section is from http://www.quirksmode.org/js/events_properties.html\n",
       "    var targ;\n",
       "    if (!e)\n",
       "        e = window.event;\n",
       "    if (e.target)\n",
       "        targ = e.target;\n",
       "    else if (e.srcElement)\n",
       "        targ = e.srcElement;\n",
       "    if (targ.nodeType == 3) // defeat Safari bug\n",
       "        targ = targ.parentNode;\n",
       "\n",
       "    // jQuery normalizes the pageX and pageY\n",
       "    // pageX,Y are the mouse positions relative to the document\n",
       "    // offset() returns the position of the element relative to the document\n",
       "    var x = e.pageX - $(targ).offset().left;\n",
       "    var y = e.pageY - $(targ).offset().top;\n",
       "\n",
       "    return {\"x\": x, \"y\": y};\n",
       "};\n",
       "\n",
       "/*\n",
       " * return a copy of an object with only non-object keys\n",
       " * we need this to avoid circular references\n",
       " * http://stackoverflow.com/a/24161582/3208463\n",
       " */\n",
       "function simpleKeys (original) {\n",
       "  return Object.keys(original).reduce(function (obj, key) {\n",
       "    if (typeof original[key] !== 'object')\n",
       "        obj[key] = original[key]\n",
       "    return obj;\n",
       "  }, {});\n",
       "}\n",
       "\n",
       "mpl.figure.prototype.mouse_event = function(event, name) {\n",
       "    var canvas_pos = mpl.findpos(event)\n",
       "\n",
       "    if (name === 'button_press')\n",
       "    {\n",
       "        this.canvas.focus();\n",
       "        this.canvas_div.focus();\n",
       "    }\n",
       "\n",
       "    var x = canvas_pos.x * mpl.ratio;\n",
       "    var y = canvas_pos.y * mpl.ratio;\n",
       "\n",
       "    this.send_message(name, {x: x, y: y, button: event.button,\n",
       "                             step: event.step,\n",
       "                             guiEvent: simpleKeys(event)});\n",
       "\n",
       "    /* This prevents the web browser from automatically changing to\n",
       "     * the text insertion cursor when the button is pressed.  We want\n",
       "     * to control all of the cursor setting manually through the\n",
       "     * 'cursor' event from matplotlib */\n",
       "    event.preventDefault();\n",
       "    return false;\n",
       "}\n",
       "\n",
       "mpl.figure.prototype._key_event_extra = function(event, name) {\n",
       "    // Handle any extra behaviour associated with a key event\n",
       "}\n",
       "\n",
       "mpl.figure.prototype.key_event = function(event, name) {\n",
       "\n",
       "    // Prevent repeat events\n",
       "    if (name == 'key_press')\n",
       "    {\n",
       "        if (event.which === this._key)\n",
       "            return;\n",
       "        else\n",
       "            this._key = event.which;\n",
       "    }\n",
       "    if (name == 'key_release')\n",
       "        this._key = null;\n",
       "\n",
       "    var value = '';\n",
       "    if (event.ctrlKey && event.which != 17)\n",
       "        value += \"ctrl+\";\n",
       "    if (event.altKey && event.which != 18)\n",
       "        value += \"alt+\";\n",
       "    if (event.shiftKey && event.which != 16)\n",
       "        value += \"shift+\";\n",
       "\n",
       "    value += 'k';\n",
       "    value += event.which.toString();\n",
       "\n",
       "    this._key_event_extra(event, name);\n",
       "\n",
       "    this.send_message(name, {key: value,\n",
       "                             guiEvent: simpleKeys(event)});\n",
       "    return false;\n",
       "}\n",
       "\n",
       "mpl.figure.prototype.toolbar_button_onclick = function(name) {\n",
       "    if (name == 'download') {\n",
       "        this.handle_save(this, null);\n",
       "    } else {\n",
       "        this.send_message(\"toolbar_button\", {name: name});\n",
       "    }\n",
       "};\n",
       "\n",
       "mpl.figure.prototype.toolbar_button_onmouseover = function(tooltip) {\n",
       "    this.message.textContent = tooltip;\n",
       "};\n",
       "mpl.toolbar_items = [[\"Home\", \"Reset original view\", \"fa fa-home icon-home\", \"home\"], [\"Back\", \"Back to  previous view\", \"fa fa-arrow-left icon-arrow-left\", \"back\"], [\"Forward\", \"Forward to next view\", \"fa fa-arrow-right icon-arrow-right\", \"forward\"], [\"\", \"\", \"\", \"\"], [\"Pan\", \"Pan axes with left mouse, zoom with right\", \"fa fa-arrows icon-move\", \"pan\"], [\"Zoom\", \"Zoom to rectangle\", \"fa fa-square-o icon-check-empty\", \"zoom\"], [\"\", \"\", \"\", \"\"], [\"Download\", \"Download plot\", \"fa fa-floppy-o icon-save\", \"download\"]];\n",
       "\n",
       "mpl.extensions = [\"eps\", \"jpeg\", \"pdf\", \"png\", \"ps\", \"raw\", \"svg\", \"tif\"];\n",
       "\n",
       "mpl.default_extension = \"png\";var comm_websocket_adapter = function(comm) {\n",
       "    // Create a \"websocket\"-like object which calls the given IPython comm\n",
       "    // object with the appropriate methods. Currently this is a non binary\n",
       "    // socket, so there is still some room for performance tuning.\n",
       "    var ws = {};\n",
       "\n",
       "    ws.close = function() {\n",
       "        comm.close()\n",
       "    };\n",
       "    ws.send = function(m) {\n",
       "        //console.log('sending', m);\n",
       "        comm.send(m);\n",
       "    };\n",
       "    // Register the callback with on_msg.\n",
       "    comm.on_msg(function(msg) {\n",
       "        //console.log('receiving', msg['content']['data'], msg);\n",
       "        // Pass the mpl event to the overridden (by mpl) onmessage function.\n",
       "        ws.onmessage(msg['content']['data'])\n",
       "    });\n",
       "    return ws;\n",
       "}\n",
       "\n",
       "mpl.mpl_figure_comm = function(comm, msg) {\n",
       "    // This is the function which gets called when the mpl process\n",
       "    // starts-up an IPython Comm through the \"matplotlib\" channel.\n",
       "\n",
       "    var id = msg.content.data.id;\n",
       "    // Get hold of the div created by the display call when the Comm\n",
       "    // socket was opened in Python.\n",
       "    var element = $(\"#\" + id);\n",
       "    var ws_proxy = comm_websocket_adapter(comm)\n",
       "\n",
       "    function ondownload(figure, format) {\n",
       "        window.open(figure.imageObj.src);\n",
       "    }\n",
       "\n",
       "    var fig = new mpl.figure(id, ws_proxy,\n",
       "                           ondownload,\n",
       "                           element.get(0));\n",
       "\n",
       "    // Call onopen now - mpl needs it, as it is assuming we've passed it a real\n",
       "    // web socket which is closed, not our websocket->open comm proxy.\n",
       "    ws_proxy.onopen();\n",
       "\n",
       "    fig.parent_element = element.get(0);\n",
       "    fig.cell_info = mpl.find_output_cell(\"<div id='\" + id + \"'></div>\");\n",
       "    if (!fig.cell_info) {\n",
       "        console.error(\"Failed to find cell for figure\", id, fig);\n",
       "        return;\n",
       "    }\n",
       "\n",
       "    var output_index = fig.cell_info[2]\n",
       "    var cell = fig.cell_info[0];\n",
       "\n",
       "};\n",
       "\n",
       "mpl.figure.prototype.handle_close = function(fig, msg) {\n",
       "    var width = fig.canvas.width/mpl.ratio\n",
       "    fig.root.unbind('remove')\n",
       "\n",
       "    // Update the output cell to use the data from the current canvas.\n",
       "    fig.push_to_output();\n",
       "    var dataURL = fig.canvas.toDataURL();\n",
       "    // Re-enable the keyboard manager in IPython - without this line, in FF,\n",
       "    // the notebook keyboard shortcuts fail.\n",
       "    IPython.keyboard_manager.enable()\n",
       "    $(fig.parent_element).html('<img src=\"' + dataURL + '\" width=\"' + width + '\">');\n",
       "    fig.close_ws(fig, msg);\n",
       "}\n",
       "\n",
       "mpl.figure.prototype.close_ws = function(fig, msg){\n",
       "    fig.send_message('closing', msg);\n",
       "    // fig.ws.close()\n",
       "}\n",
       "\n",
       "mpl.figure.prototype.push_to_output = function(remove_interactive) {\n",
       "    // Turn the data on the canvas into data in the output cell.\n",
       "    var width = this.canvas.width/mpl.ratio\n",
       "    var dataURL = this.canvas.toDataURL();\n",
       "    this.cell_info[1]['text/html'] = '<img src=\"' + dataURL + '\" width=\"' + width + '\">';\n",
       "}\n",
       "\n",
       "mpl.figure.prototype.updated_canvas_event = function() {\n",
       "    // Tell IPython that the notebook contents must change.\n",
       "    IPython.notebook.set_dirty(true);\n",
       "    this.send_message(\"ack\", {});\n",
       "    var fig = this;\n",
       "    // Wait a second, then push the new image to the DOM so\n",
       "    // that it is saved nicely (might be nice to debounce this).\n",
       "    setTimeout(function () { fig.push_to_output() }, 1000);\n",
       "}\n",
       "\n",
       "mpl.figure.prototype._init_toolbar = function() {\n",
       "    var fig = this;\n",
       "\n",
       "    var nav_element = $('<div/>')\n",
       "    nav_element.attr('style', 'width: 100%');\n",
       "    this.root.append(nav_element);\n",
       "\n",
       "    // Define a callback function for later on.\n",
       "    function toolbar_event(event) {\n",
       "        return fig.toolbar_button_onclick(event['data']);\n",
       "    }\n",
       "    function toolbar_mouse_event(event) {\n",
       "        return fig.toolbar_button_onmouseover(event['data']);\n",
       "    }\n",
       "\n",
       "    for(var toolbar_ind in mpl.toolbar_items){\n",
       "        var name = mpl.toolbar_items[toolbar_ind][0];\n",
       "        var tooltip = mpl.toolbar_items[toolbar_ind][1];\n",
       "        var image = mpl.toolbar_items[toolbar_ind][2];\n",
       "        var method_name = mpl.toolbar_items[toolbar_ind][3];\n",
       "\n",
       "        if (!name) { continue; };\n",
       "\n",
       "        var button = $('<button class=\"btn btn-default\" href=\"#\" title=\"' + name + '\"><i class=\"fa ' + image + ' fa-lg\"></i></button>');\n",
       "        button.click(method_name, toolbar_event);\n",
       "        button.mouseover(tooltip, toolbar_mouse_event);\n",
       "        nav_element.append(button);\n",
       "    }\n",
       "\n",
       "    // Add the status bar.\n",
       "    var status_bar = $('<span class=\"mpl-message\" style=\"text-align:right; float: right;\"/>');\n",
       "    nav_element.append(status_bar);\n",
       "    this.message = status_bar[0];\n",
       "\n",
       "    // Add the close button to the window.\n",
       "    var buttongrp = $('<div class=\"btn-group inline pull-right\"></div>');\n",
       "    var button = $('<button class=\"btn btn-mini btn-primary\" href=\"#\" title=\"Stop Interaction\"><i class=\"fa fa-power-off icon-remove icon-large\"></i></button>');\n",
       "    button.click(function (evt) { fig.handle_close(fig, {}); } );\n",
       "    button.mouseover('Stop Interaction', toolbar_mouse_event);\n",
       "    buttongrp.append(button);\n",
       "    var titlebar = this.root.find($('.ui-dialog-titlebar'));\n",
       "    titlebar.prepend(buttongrp);\n",
       "}\n",
       "\n",
       "mpl.figure.prototype._root_extra_style = function(el){\n",
       "    var fig = this\n",
       "    el.on(\"remove\", function(){\n",
       "\tfig.close_ws(fig, {});\n",
       "    });\n",
       "}\n",
       "\n",
       "mpl.figure.prototype._canvas_extra_style = function(el){\n",
       "    // this is important to make the div 'focusable\n",
       "    el.attr('tabindex', 0)\n",
       "    // reach out to IPython and tell the keyboard manager to turn it's self\n",
       "    // off when our div gets focus\n",
       "\n",
       "    // location in version 3\n",
       "    if (IPython.notebook.keyboard_manager) {\n",
       "        IPython.notebook.keyboard_manager.register_events(el);\n",
       "    }\n",
       "    else {\n",
       "        // location in version 2\n",
       "        IPython.keyboard_manager.register_events(el);\n",
       "    }\n",
       "\n",
       "}\n",
       "\n",
       "mpl.figure.prototype._key_event_extra = function(event, name) {\n",
       "    var manager = IPython.notebook.keyboard_manager;\n",
       "    if (!manager)\n",
       "        manager = IPython.keyboard_manager;\n",
       "\n",
       "    // Check for shift+enter\n",
       "    if (event.shiftKey && event.which == 13) {\n",
       "        this.canvas_div.blur();\n",
       "        event.shiftKey = false;\n",
       "        // Send a \"J\" for go to next cell\n",
       "        event.which = 74;\n",
       "        event.keyCode = 74;\n",
       "        manager.command_mode();\n",
       "        manager.handle_keydown(event);\n",
       "    }\n",
       "}\n",
       "\n",
       "mpl.figure.prototype.handle_save = function(fig, msg) {\n",
       "    fig.ondownload(fig, null);\n",
       "}\n",
       "\n",
       "\n",
       "mpl.find_output_cell = function(html_output) {\n",
       "    // Return the cell and output element which can be found *uniquely* in the notebook.\n",
       "    // Note - this is a bit hacky, but it is done because the \"notebook_saving.Notebook\"\n",
       "    // IPython event is triggered only after the cells have been serialised, which for\n",
       "    // our purposes (turning an active figure into a static one), is too late.\n",
       "    var cells = IPython.notebook.get_cells();\n",
       "    var ncells = cells.length;\n",
       "    for (var i=0; i<ncells; i++) {\n",
       "        var cell = cells[i];\n",
       "        if (cell.cell_type === 'code'){\n",
       "            for (var j=0; j<cell.output_area.outputs.length; j++) {\n",
       "                var data = cell.output_area.outputs[j];\n",
       "                if (data.data) {\n",
       "                    // IPython >= 3 moved mimebundle to data attribute of output\n",
       "                    data = data.data;\n",
       "                }\n",
       "                if (data['text/html'] == html_output) {\n",
       "                    return [cell, data, j];\n",
       "                }\n",
       "            }\n",
       "        }\n",
       "    }\n",
       "}\n",
       "\n",
       "// Register the function which deals with the matplotlib target/channel.\n",
       "// The kernel may be null if the page has been refreshed.\n",
       "if (IPython.notebook.kernel != null) {\n",
       "    IPython.notebook.kernel.comm_manager.register_target('matplotlib', mpl.mpl_figure_comm);\n",
       "}\n"
      ],
      "text/plain": [
       "<IPython.core.display.Javascript object>"
      ]
     },
     "metadata": {},
     "output_type": "display_data"
    },
    {
     "data": {
      "text/html": [
       "<img src=\"data:image/png;base64,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\" width=\"638.888905813665\">"
      ],
      "text/plain": [
       "<IPython.core.display.HTML object>"
      ]
     },
     "metadata": {},
     "output_type": "display_data"
    }
   ],
   "source": [
    "plt.close('all')\n",
    "f9_file = \"/Users/tim/MMT/wfsdat/20180201/\" + baseline3_files[-1]\n",
    "#f9_file = \"/Users/tim/MMT/mmtwfs/mmtwfs/data/test_data/test_newf9.fits\"\n",
    "results = f9wfs.measure_slopes(f9_file, 'blue', plot=True)\n",
    "#plt.scatter(refaps['xcentroid']+results['xcen'], refaps['ycentroid']+results['ycen'])\n",
    "results['figures']['slopes'].show()\n",
    "# 265 258\n",
    "# ref 240 259.5"
   ]
  },
  {
   "cell_type": "code",
   "execution_count": null,
   "metadata": {},
   "outputs": [],
   "source": [
    "zresults = f9wfs.fit_wavefront(results, plot=True)\n",
    "print(zresults['residual_rms'])\n",
    "print(zresults['zernike'].pretty_print())\n",
    "zresults['resid_plot'].show()"
   ]
  },
  {
   "cell_type": "code",
   "execution_count": null,
   "metadata": {},
   "outputs": [],
   "source": [
    "refaps = f9wfs.modes['blue']['reference'].masked_apertures\n",
    "fig, ax = plt.subplots()\n",
    "fit = results['grid_fit']\n",
    "refx = refaps['xcentroid'] * (fit['scale'] + refaps['xcentroid'] * fit['xcoma']) + fit['xcen']\n",
    "refy = refaps['ycentroid'] * (fit['scale'] + refaps['ycentroid'] * fit['ycoma']) + fit['ycen']\n",
    "x, y = results['apertures'].positions.transpose()[0], results['apertures'].positions.transpose()[1]\n",
    "spacing = 0.5*(results['xspacing'] + results['yspacing'])\n",
    "ax.scatter(refx, refy)\n",
    "ax.set_aspect('equal')\n",
    "ax.scatter(x, y)\n",
    "ax.set_xlim(0, 845)\n",
    "ax.set_ylim(0, 845)\n",
    "fig.show()\n",
    "fit['scale']"
   ]
  },
  {
   "cell_type": "code",
   "execution_count": null,
   "metadata": {},
   "outputs": [],
   "source": [
    "data = check_wfsdata(f9_file)\n",
    "x = np.arange(data.shape[1])\n",
    "y = np.arange(data.shape[0])\n",
    "bx = np.arange(data.shape[1]+1)\n",
    "by = np.arange(data.shape[0]+1)\n",
    "apertures = results['spots']\n",
    "\n",
    "# bin the spot positions along the axes and use Lomb-Scargle to measure the grid spacing in each direction\n",
    "xsum = np.histogram(apertures['xcentroid'], bins=bx)\n",
    "ysum = np.histogram(apertures['ycentroid'], bins=by)\n",
    "\n",
    "k = np.linspace(10.0, 50., 500)  # look for spacings from 5 to 50 pixels (plenty of range)\n",
    "f = 1.0 / k  # convert spacing to frequency\n",
    "xp = stats.LombScargle(x, xsum[0]).power(f)\n",
    "yp = stats.LombScargle(y, ysum[0]).power(f)\n",
    "plt.plot(k, yp)\n",
    "plt.show()"
   ]
  },
  {
   "cell_type": "code",
   "execution_count": null,
   "metadata": {},
   "outputs": [],
   "source": [
    "zresults['zernike'].bar_chart(last_mode=21).show()"
   ]
  },
  {
   "cell_type": "code",
   "execution_count": null,
   "metadata": {},
   "outputs": [],
   "source": [
    "zresults['zernike'].fringe_bar_chart(last_mode=21).show()"
   ]
  },
  {
   "cell_type": "code",
   "execution_count": null,
   "metadata": {},
   "outputs": [],
   "source": [
    "spots = {'xcentroid': x, 'ycentroid': y}\n",
    "from scipy import optimize\n",
    "\n",
    "def match_apertures(refx, refy, spotx, spoty):\n",
    "    tot_dist = 0.0\n",
    "    refs = np.array([refx, refy])\n",
    "    spots = np.array([spotx, spoty])\n",
    "    match = np.empty(len(refx))\n",
    "    max_r = spacing / 2.\n",
    "    for i in np.arange(len(refx)):\n",
    "        dists = np.sqrt( (spots[0]-refs[0][i])**2 + (spots[1]-refs[1][i])**2 )\n",
    "        tot_dist += np.min(dists)\n",
    "    return tot_dist\n",
    "\n",
    "def fit_apertures(pars, ref, spots):\n",
    "    xc = pars[0]\n",
    "    yc = pars[1]\n",
    "    xscale = pars[2]\n",
    "    yscale = pars[3]\n",
    "    xcoma = pars[4]\n",
    "    ycoma = pars[5]\n",
    "    refx = ref['xcentroid'] * (xscale + ref['xcentroid'] * xcoma) + xc\n",
    "    refy = ref['ycentroid'] * (yscale + ref['ycentroid'] * ycoma) + yc\n",
    "    spotx = spots['xcentroid']\n",
    "    spoty = spots['ycentroid']\n",
    "    dist = match_apertures(refx, refy, spotx, spoty)\n",
    "    return dist"
   ]
  },
  {
   "cell_type": "code",
   "execution_count": null,
   "metadata": {},
   "outputs": [],
   "source": [
    "#%%timeit\n",
    "args = (refaps, spots)\n",
    "pars = (results['xcen'], results['ycen'], 1.0, 1.0, 0.0, 0.0)\n",
    "bounds = (\n",
    "    (results['xcen']-50, results['xcen']+50), \n",
    "    (results['ycen']-50, results['ycen']+50),\n",
    "    (0.8, 1.2),\n",
    "    (0.8, 1.2),\n",
    "    (-0.1, 0.1),\n",
    "    (-0.1, 0.1)\n",
    ")\n",
    "res = optimize.minimize(fit_apertures, pars, args=args, bounds=bounds)\n",
    "res"
   ]
  },
  {
   "cell_type": "code",
   "execution_count": null,
   "metadata": {},
   "outputs": [],
   "source": [
    "fig, ax = plt.subplots()\n",
    "refx, refy = refaps['xcentroid'], refaps['ycentroid']\n",
    "refx = refx * (res['x'][2] + refx*res['x'][4]) + res['x'][0]\n",
    "refy = refy * (res['x'][3] + refy*res['x'][5]) + res['x'][1]\n",
    "x, y = results['apertures'].positions.transpose()[0], results['apertures'].positions.transpose()[1]\n",
    "ax.scatter(refx, refy)\n",
    "ax.set_aspect('equal')\n",
    "ax.scatter(x, y)\n",
    "ax.set_xlim(0, 845)\n",
    "ax.set_ylim(0, 845)\n",
    "fig.show()"
   ]
  },
  {
   "cell_type": "code",
   "execution_count": null,
   "metadata": {},
   "outputs": [],
   "source": [
    "print(f9wfs.modes['blue']['reference']['xcen'], f9wfs.modes['blue']['reference']['ycen'])\n",
    "print(f9wfs.modes['blue']['reference']['xspacing'], f9wfs.modes['blue']['reference']['yspacing'])\n",
    "f9wfs.modes['blue']['reference'].keys()"
   ]
  },
  {
   "cell_type": "code",
   "execution_count": null,
   "metadata": {},
   "outputs": [],
   "source": [
    "zv = zresults['zernike']\n",
    "print(zv.rms)\n",
    "zv.ignore('Z02')\n",
    "zv.ignore('Z03')\n",
    "f = zv.plot_map()\n",
    "f.show()"
   ]
  },
  {
   "cell_type": "code",
   "execution_count": null,
   "metadata": {},
   "outputs": [],
   "source": [
    "bc = zv.bar_chart(residual=zresults['residual_rms'])\n",
    "bc.show()"
   ]
  },
  {
   "cell_type": "code",
   "execution_count": null,
   "metadata": {},
   "outputs": [],
   "source": [
    "psf, psf_fig = f9wfs.telescope.psf(zv, fov=1.0)\n",
    "psf_fig.show()"
   ]
  },
  {
   "cell_type": "code",
   "execution_count": null,
   "metadata": {},
   "outputs": [],
   "source": [
    "plt.close('all')"
   ]
  },
  {
   "cell_type": "markdown",
   "metadata": {},
   "source": [
    "# F/5 Dev Section"
   ]
  },
  {
   "cell_type": "code",
   "execution_count": null,
   "metadata": {},
   "outputs": [],
   "source": [
    "f5wfs = WFSFactory(wfs=\"f5\")"
   ]
  },
  {
   "cell_type": "code",
   "execution_count": null,
   "metadata": {},
   "outputs": [],
   "source": [
    "#%%prun\n",
    "plt.close('all')\n",
    "f5_file = \"/Users/tim/MMT/wfsdat/20180404/manual_wfs_0004.fits\"\n",
    "#f5_file = \"/Users/tim/MMT/mmtwfs/mmtwfs/data/test_data/auto_wfs_0037_ave.fits\"\n",
    "results = f5wfs.measure_slopes(f5_file, 'hecto', plot=True)\n",
    "results['figures']['slopes'].show()"
   ]
  },
  {
   "cell_type": "code",
   "execution_count": null,
   "metadata": {},
   "outputs": [],
   "source": [
    "#%%prun\n",
    "zresults = f5wfs.fit_wavefront(results, plot=True)\n",
    "zv = zresults['zernike']\n",
    "print(zv.pretty_print())\n",
    "print(zv.rms)\n",
    "zresults['resid_plot'].show()"
   ]
  },
  {
   "cell_type": "code",
   "execution_count": null,
   "metadata": {},
   "outputs": [],
   "source": [
    "zf = zv.fringe_bar_chart(last_mode=21)\n",
    "zf.show()\n",
    "zresults['residual_rms']"
   ]
  },
  {
   "cell_type": "code",
   "execution_count": null,
   "metadata": {},
   "outputs": [],
   "source": [
    "bc = zv.bar_chart(last_mode=21)\n",
    "bc.show()"
   ]
  },
  {
   "cell_type": "code",
   "execution_count": null,
   "metadata": {
    "slideshow": {
     "slide_type": "-"
    }
   },
   "outputs": [],
   "source": [
    "refaps = f5wfs.modes['hecto']['reference'].masked_apertures\n",
    "fig, ax = plt.subplots()\n",
    "fit = results['grid_fit']\n",
    "refx = refaps['xcentroid'] * (fit['scale'] + refaps['xcentroid'] * fit['xcoma']) + fit['xcen']\n",
    "refy = refaps['ycentroid'] * (fit['scale'] + refaps['ycentroid'] * fit['ycoma']) + fit['ycen']\n",
    "x, y = results['apertures'].positions.transpose()[0], results['apertures'].positions.transpose()[1]\n",
    "spacing = 0.5*(results['xspacing'] + results['yspacing'])\n",
    "ax.scatter(refx, refy)\n",
    "ax.set_aspect('equal')\n",
    "ax.scatter(x, y)\n",
    "ax.set_xlim(0, 512)\n",
    "ax.set_ylim(0, 512)\n",
    "fig.show()"
   ]
  },
  {
   "cell_type": "code",
   "execution_count": null,
   "metadata": {},
   "outputs": [],
   "source": [
    "zv.ignore('Z02')\n",
    "zv.ignore('Z03')\n",
    "zv.ignore('Z04')\n",
    "print(zv.rms)\n",
    "mf = zv.plot_map()\n",
    "mf.show()"
   ]
  },
  {
   "cell_type": "code",
   "execution_count": null,
   "metadata": {},
   "outputs": [],
   "source": [
    "t, m1foc = f5wfs.telescope.calculate_primary_corrections(zresults['zernike'])"
   ]
  },
  {
   "cell_type": "code",
   "execution_count": null,
   "metadata": {},
   "outputs": [],
   "source": [
    "fplot = f5wfs.telescope.plot_forces(t, m1focus=m1foc)\n",
    "fplot.show()"
   ]
  },
  {
   "cell_type": "code",
   "execution_count": null,
   "metadata": {},
   "outputs": [],
   "source": [
    "t.show_in_notebook()"
   ]
  },
  {
   "cell_type": "markdown",
   "metadata": {},
   "source": [
    "# Scratch space"
   ]
  },
  {
   "cell_type": "code",
   "execution_count": null,
   "metadata": {},
   "outputs": [],
   "source": [
    "cen = center_pupil(subt, pup, plot=True)\n",
    "print(cen)\n",
    "plt.show()"
   ]
  },
  {
   "cell_type": "code",
   "execution_count": null,
   "metadata": {},
   "outputs": [],
   "source": [
    "from astropy.io import ascii"
   ]
  },
  {
   "cell_type": "code",
   "execution_count": null,
   "metadata": {},
   "outputs": [],
   "source": [
    "t = f9wfs.telescope\n",
    "m = t.zern_map"
   ]
  },
  {
   "cell_type": "code",
   "execution_count": null,
   "metadata": {},
   "outputs": [],
   "source": [
    "z = np.loadtxt(\"/Users/tim/MMT/wfsdat/20170110/mmirs_wfs_0375.dao.sub.zrn.cor\")\n",
    "z1 = np.loadtxt(\"/Users/tim/MMT/wfsdat/20170110/mmirs_wfs_0375.dao.av.zrn\")"
   ]
  },
  {
   "cell_type": "code",
   "execution_count": null,
   "metadata": {},
   "outputs": [],
   "source": [
    "sigma = results['fwhm'] * stats.funcs.gaussian_fwhm_to_sigma\n",
    "\n",
    "wave = 650 * u.nm\n",
    "wave = wave.to(u.m).value  # r_0 equation expects meters so convert\n",
    "# calculate the physical size of each aperture.\n",
    "ref = mmirs.modes['mmirs2']['reference']\n",
    "apsize_pix = np.max((ref['xspacing'], ref['yspacing']))\n",
    "d = mmirs.telescope.diameter * apsize_pix / mmirs.pup_size\n",
    "d = d.to(u.m).value  # r_0 equation expects meters so convert\n",
    "\n",
    "# we need to deconvolve the instrumental spot width from the measured one\n",
    "ref_sigma = ref['sigma']\n",
    "if sigma > ref_sigma:\n",
    "    corr_sigma = np.sqrt(sigma**2 - ref_sigma**2)\n",
    "else:\n",
    "    corr_sigma = 0.0\n",
    "corr_sigma *= mmirs.pix_size.to(u.rad).value  # r_0 equation expects radians so convert\n",
    "# this equation relates the motion within a single aperture to the characteristic scale size of the\n",
    "# turbulence, r_0.\n",
    "r_0 = ( 0.179 * (wave**2) * (d**(-1./3.))/corr_sigma**2 )**0.6\n",
    "print(r_0)\n",
    "# this equation relates the turbulence scale size to an expected image FWHM at the given wavelength.\n",
    "raw_seeing = u.rad * 0.98 * wave / r_0\n",
    "raw_seeing = raw_seeing.to(u.arcsec)\n"
   ]
  },
  {
   "cell_type": "code",
   "execution_count": null,
   "metadata": {},
   "outputs": [],
   "source": [
    "t = bino.telescope"
   ]
  },
  {
   "cell_type": "code",
   "execution_count": null,
   "metadata": {},
   "outputs": [],
   "source": [
    "z = ZernikeVector(Z11=-1000*u.nm)\n",
    "z.plot_map()\n",
    "plt.show()"
   ]
  },
  {
   "cell_type": "code",
   "execution_count": null,
   "metadata": {},
   "outputs": [],
   "source": [
    "ft, m1, zv_masked = t.calculate_primary_corrections(z)"
   ]
  },
  {
   "cell_type": "code",
   "execution_count": null,
   "metadata": {},
   "outputs": [],
   "source": [
    "ft['force'].min()"
   ]
  },
  {
   "cell_type": "code",
   "execution_count": null,
   "metadata": {},
   "outputs": [],
   "source": [
    "m1"
   ]
  },
  {
   "cell_type": "code",
   "execution_count": null,
   "metadata": {},
   "outputs": [],
   "source": [
    "derot_phi = phi - u.Quantity(225*u.deg, u.rad).value\n",
    "pol2cart([dr, derot_phi])"
   ]
  },
  {
   "cell_type": "code",
   "execution_count": null,
   "metadata": {},
   "outputs": [],
   "source": [
    "u.Quantity(225*u.deg, u.rad).value"
   ]
  },
  {
   "cell_type": "code",
   "execution_count": null,
   "metadata": {},
   "outputs": [],
   "source": [
    "dx, dy"
   ]
  },
  {
   "cell_type": "code",
   "execution_count": null,
   "metadata": {},
   "outputs": [],
   "source": [
    "t = mmirs.telescope\n",
    "zv = ZernikeVector(Z05=1000, Z11=250)\n",
    "force, focus = t.correct_primary(zv)\n",
    "f1 = focus.copy()\n",
    "uforce, ufocus = t.undo_last()\n",
    "print(ufocus)\n",
    "print(f1)\n",
    "assert(ufocus == -1 * f1)"
   ]
  },
  {
   "cell_type": "code",
   "execution_count": null,
   "metadata": {},
   "outputs": [],
   "source": [
    "focus.copy()"
   ]
  },
  {
   "cell_type": "code",
   "execution_count": null,
   "metadata": {},
   "outputs": [],
   "source": [
    "np.allclose(np.zeros(2), 0.0)"
   ]
  },
  {
   "cell_type": "code",
   "execution_count": null,
   "metadata": {},
   "outputs": [],
   "source": [
    "s = \"offset_inc wfs z 200.3\"\n",
    "assert(\"200.3\" in s)"
   ]
  },
  {
   "cell_type": "code",
   "execution_count": null,
   "metadata": {},
   "outputs": [],
   "source": [
    "fig, ax = plt.subplots()"
   ]
  },
  {
   "cell_type": "code",
   "execution_count": null,
   "metadata": {},
   "outputs": [],
   "source": [
    "ax.imshow(results['data'], cmap=cm.Greys)\n",
    "fig.savefig(\"test.png\")"
   ]
  },
  {
   "cell_type": "code",
   "execution_count": null,
   "metadata": {},
   "outputs": [],
   "source": [
    "a = fig.axes[0]"
   ]
  },
  {
   "cell_type": "code",
   "execution_count": null,
   "metadata": {},
   "outputs": [],
   "source": [
    "fig.show()"
   ]
  },
  {
   "cell_type": "code",
   "execution_count": null,
   "metadata": {},
   "outputs": [],
   "source": [
    "\"{0:0.0f}\".format((550 * u.nm))"
   ]
  },
  {
   "cell_type": "code",
   "execution_count": null,
   "metadata": {},
   "outputs": [],
   "source": [
    "x, y, r, p, ph = zvec.phase_map(n=100)\n",
    "i = np.argsort(x)"
   ]
  },
  {
   "cell_type": "code",
   "execution_count": null,
   "metadata": {},
   "outputs": [],
   "source": [
    "from plotly.offline import download_plotlyjs, init_notebook_mode, plot, iplot\n",
    "import plotly.graph_objs as go\n",
    "init_notebook_mode(connected=True)"
   ]
  },
  {
   "cell_type": "code",
   "execution_count": null,
   "metadata": {},
   "outputs": [],
   "source": [
    "data = [go.Heatmap(z=np.array(ph[i]), x=x[i], y=y[i], colorscale='RdBu')]\n",
    "layout = go.Layout(title=\"test\")\n",
    "fig = go.Figure(data=data, layout=layout)\n",
    "plot(fig, filename=\"blah\")"
   ]
  },
  {
   "cell_type": "code",
   "execution_count": null,
   "metadata": {},
   "outputs": [],
   "source": [
    "np.min(ph)"
   ]
  },
  {
   "cell_type": "code",
   "execution_count": null,
   "metadata": {},
   "outputs": [],
   "source": [
    "0.119 * 5.4*3/20"
   ]
  },
  {
   "cell_type": "code",
   "execution_count": null,
   "metadata": {},
   "outputs": [],
   "source": [
    "if 'HOME' in os.environ:\n",
    "    print('y')"
   ]
  },
  {
   "cell_type": "code",
   "execution_count": null,
   "metadata": {},
   "outputs": [],
   "source": [
    "np.zeros((512, 512)).shape"
   ]
  },
  {
   "cell_type": "code",
   "execution_count": null,
   "metadata": {},
   "outputs": [],
   "source": [
    "zv = ZernikeVector()"
   ]
  },
  {
   "cell_type": "code",
   "execution_count": null,
   "metadata": {},
   "outputs": [],
   "source": [
    "zv.plot_map()"
   ]
  },
  {
   "cell_type": "code",
   "execution_count": null,
   "metadata": {},
   "outputs": [],
   "source": [
    "t = MMT()\n",
    "zv = ZernikeVector(Z05=1000, Z11=250)\n",
    "force, focus = t.calculate_primary_corrections(zv)"
   ]
  },
  {
   "cell_type": "code",
   "execution_count": null,
   "metadata": {},
   "outputs": [],
   "source": [
    "lforce, lfocus = t.correct_primary(force, focus)"
   ]
  },
  {
   "cell_type": "code",
   "execution_count": null,
   "metadata": {},
   "outputs": [],
   "source": [
    "uforce, ufocus = t.undo_last()"
   ]
  },
  {
   "cell_type": "code",
   "execution_count": null,
   "metadata": {},
   "outputs": [],
   "source": [
    "focus, lfocus, ufocus"
   ]
  },
  {
   "cell_type": "code",
   "execution_count": null,
   "metadata": {},
   "outputs": [],
   "source": [
    "newf9 = WFSFactory(wfs=\"newf9\")"
   ]
  },
  {
   "cell_type": "code",
   "execution_count": null,
   "metadata": {},
   "outputs": [],
   "source": [
    "newf9.modes['blue']['reference']"
   ]
  },
  {
   "cell_type": "code",
   "execution_count": null,
   "metadata": {},
   "outputs": [],
   "source": [
    "x = newf9.modes['blue']['reference']['apertures']['xcentroid'] + newf9.modes['blue']['reference']['xcen']"
   ]
  },
  {
   "cell_type": "code",
   "execution_count": null,
   "metadata": {},
   "outputs": [],
   "source": [
    "y = newf9.modes['blue']['reference']['apertures']['ycentroid'] + newf9.modes['blue']['reference']['ycen']"
   ]
  },
  {
   "cell_type": "code",
   "execution_count": null,
   "metadata": {},
   "outputs": [],
   "source": [
    "arr = np.array((x.data, y.data)).transpose()"
   ]
  },
  {
   "cell_type": "code",
   "execution_count": null,
   "metadata": {},
   "outputs": [],
   "source": [
    "np.savetxt(\"blah.txt\", arr, fmt=\"%.3f\")"
   ]
  },
  {
   "cell_type": "code",
   "execution_count": null,
   "metadata": {},
   "outputs": [],
   "source": [
    "np.savetxt?"
   ]
  },
  {
   "cell_type": "code",
   "execution_count": null,
   "metadata": {},
   "outputs": [],
   "source": []
  },
  {
   "cell_type": "code",
   "execution_count": null,
   "metadata": {},
   "outputs": [],
   "source": [
    "x, y = 405, 445\n",
    "xnew, ynew = 438, 469\n",
    "xref, yref = 433, 431\n",
    "pixsize = 0.09639\n",
    "\n",
    "rot = u.Quantity(-225 * u.deg, u.rad).value\n",
    "\n",
    "dx = x - xref\n",
    "dy = y - yref\n",
    "\n",
    "dr, phi = cart2pol([dx, dy])\n",
    "\n",
    "derot_phi = phi - rot\n",
    "\n",
    "az, el = pol2cart([dr, derot_phi])\n",
    "print(az, el)"
   ]
  },
  {
   "cell_type": "code",
   "execution_count": null,
   "metadata": {},
   "outputs": [],
   "source": [
    "x, y = 405, 445\n",
    "xnew, ynew = 438, 469\n",
    "xref, yref = 433, 431\n",
    "pixsize = 0.09639\n",
    "\n",
    "rot = u.Quantity(-225 * u.deg, u.rad).value\n",
    "\n",
    "dx = 1 * (x - xref)\n",
    "dy = 1 * (y - yref)\n",
    "\n",
    "dr, phi = cart2pol([dx, dy])\n",
    "\n",
    "derot_phi = phi - rot\n",
    "\n",
    "az, el = pol2cart([dr, derot_phi])\n",
    "print(az, el)"
   ]
  },
  {
   "cell_type": "code",
   "execution_count": null,
   "metadata": {},
   "outputs": [],
   "source": [
    "azcorr = 3.0 / pixsize\n",
    "elcorr = 0.9 / pixsize\n",
    "drc, phic = cart2pol([azcorr, elcorr])\n",
    "derot_phic = phic + rot\n",
    "az_pix, el_pix = pol2cart([drc, derot_phic])\n",
    "print(az_pix, el_pix)"
   ]
  },
  {
   "cell_type": "code",
   "execution_count": null,
   "metadata": {},
   "outputs": [],
   "source": [
    "a = np.arange(5)"
   ]
  },
  {
   "cell_type": "code",
   "execution_count": null,
   "metadata": {},
   "outputs": [],
   "source": [
    "np.delete(a, 2)"
   ]
  },
  {
   "cell_type": "code",
   "execution_count": null,
   "metadata": {},
   "outputs": [],
   "source": [
    "2320-2820"
   ]
  },
  {
   "cell_type": "code",
   "execution_count": null,
   "metadata": {},
   "outputs": [],
   "source": [
    "x1, y1 = 274, 288\n",
    "x2, y2 = 243, 314\n",
    "xc, yc = 255, 255\n",
    "rot_def = 234 * u.deg\n",
    "rotation = u.Quantity(rot_def, u.rad).value"
   ]
  },
  {
   "cell_type": "code",
   "execution_count": null,
   "metadata": {},
   "outputs": [],
   "source": [
    "x1, y1 = 212, 238\n",
    "x2, y2 = 243, 314\n",
    "xc, yc = 255, 255\n",
    "rot_def = 234 * u.deg\n",
    "rotation = u.Quantity(rot_def, u.rad).value"
   ]
  },
  {
   "cell_type": "code",
   "execution_count": null,
   "metadata": {},
   "outputs": [],
   "source": [
    "x1, y1 = 358, 308\n",
    "xc, yc = 419, 439\n",
    "rot_def = -225 * u.deg\n",
    "rotation = u.Quantity(rot_def, u.rad).value"
   ]
  },
  {
   "cell_type": "code",
   "execution_count": null,
   "metadata": {},
   "outputs": [],
   "source": [
    "dx = x1 - xc\n",
    "dy = y1 - yc"
   ]
  },
  {
   "cell_type": "code",
   "execution_count": null,
   "metadata": {},
   "outputs": [],
   "source": [
    "dr, phi = cart2pol([dx, dy])"
   ]
  },
  {
   "cell_type": "code",
   "execution_count": null,
   "metadata": {},
   "outputs": [],
   "source": [
    "derot_phi = rotation + phi"
   ]
  },
  {
   "cell_type": "code",
   "execution_count": null,
   "metadata": {},
   "outputs": [],
   "source": [
    "az, el = pol2cart([dr, derot_phi])\n",
    "az, el"
   ]
  },
  {
   "cell_type": "code",
   "execution_count": null,
   "metadata": {},
   "outputs": [],
   "source": [
    "az*0.0936, el*0.0936"
   ]
  },
  {
   "cell_type": "code",
   "execution_count": null,
   "metadata": {},
   "outputs": [],
   "source": [
    "1.26 * 3600 / 4156"
   ]
  },
  {
   "cell_type": "code",
   "execution_count": null,
   "metadata": {},
   "outputs": [],
   "source": [
    "z = ZernikeVector(Z04=100)"
   ]
  },
  {
   "cell_type": "code",
   "execution_count": null,
   "metadata": {},
   "outputs": [],
   "source": [
    "z"
   ]
  },
  {
   "cell_type": "code",
   "execution_count": null,
   "metadata": {},
   "outputs": [],
   "source": [
    "z.ignore(\"Z04\")"
   ]
  },
  {
   "cell_type": "code",
   "execution_count": null,
   "metadata": {},
   "outputs": [],
   "source": [
    "z"
   ]
  },
  {
   "cell_type": "code",
   "execution_count": null,
   "metadata": {},
   "outputs": [],
   "source": [
    "for i in range(23,37):\n",
    "    print(\"Z{0:02d}\".format(i))"
   ]
  },
  {
   "cell_type": "code",
   "execution_count": null,
   "metadata": {},
   "outputs": [],
   "source": [
    "for z in zv:\n",
    "    print(zv[z])"
   ]
  },
  {
   "cell_type": "code",
   "execution_count": null,
   "metadata": {},
   "outputs": [],
   "source": [
    "np.zeros(0)"
   ]
  },
  {
   "cell_type": "code",
   "execution_count": null,
   "metadata": {},
   "outputs": [],
   "source": [
    "data = check_wfsdata(\"/Users/tim/MMT/wfsdat/20180604/wfs_ff_cal_img_2018.0604.052401.fits\")\n",
    "#data = check_wfsdata(\"/Users/tim/MMT/wfsdat/20171101/mmirs_wfs_0022.fits\")\n",
    "#data = check_wfsdata(\"/Volumes/LACIE SHARE/wfsdat/20180424/f9wfs_20180423-234645.fits\")\n",
    "#data = check_wfsdata(\"/Users/tim/MMT/wfsdat/20180404/manual_wfs_0004.fits\")\n",
    "fix, ax = plt.subplots()\n",
    "norm = wfs_norm(data)\n",
    "ax.imshow(data, cmap='Greys', origin='lower', norm=norm, interpolation='None')\n",
    "ax.set_title(\"Binospec WFS\")\n",
    "plt.savefig(\"/Users/tim/MMT/spie/2018/bino.pdf\")\n",
    "plt.show()"
   ]
  },
  {
   "cell_type": "code",
   "execution_count": null,
   "metadata": {},
   "outputs": [],
   "source": []
  }
 ],
 "metadata": {
  "kernelspec": {
   "display_name": "Python 3",
   "language": "python",
   "name": "python3"
  },
  "language_info": {
   "codemirror_mode": {
    "name": "ipython",
    "version": 3
   },
   "file_extension": ".py",
   "mimetype": "text/x-python",
   "name": "python",
   "nbconvert_exporter": "python",
   "pygments_lexer": "ipython3",
   "version": "3.6.6"
  }
 },
 "nbformat": 4,
 "nbformat_minor": 2
}
