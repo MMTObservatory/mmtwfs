{
 "cells": [
  {
   "cell_type": "code",
   "execution_count": 1,
   "metadata": {},
   "outputs": [],
   "source": [
    "import time\n",
    "import os\n",
    "import sys\n",
    "import numpy as np\n",
    "import ipympl\n",
    "import matplotlib\n",
    "#matplotlib.use('nbagg')\n",
    "#from matplotlib import style\n",
    "#style.use('ggplot')\n",
    "import matplotlib.pyplot as plt\n",
    "\n",
    "import astropy.units as u\n",
    "from astropy import stats\n",
    "from astropy.io import fits\n",
    "from mmtwfs.wfs import *\n",
    "from mmtwfs.zernike import ZernikeVector\n",
    "from mmtwfs.telescope import MMT"
   ]
  },
  {
   "cell_type": "code",
   "execution_count": 2,
   "metadata": {},
   "outputs": [],
   "source": [
    "%load_ext autoreload\n",
    "%autoreload 2"
   ]
  },
  {
   "cell_type": "markdown",
   "metadata": {},
   "source": [
    "# Binospec Dev Section"
   ]
  },
  {
   "cell_type": "code",
   "execution_count": 3,
   "metadata": {},
   "outputs": [],
   "source": [
    "bino = WFSFactory(wfs=\"binospec\")"
   ]
  },
  {
   "cell_type": "code",
   "execution_count": 4,
   "metadata": {},
   "outputs": [
    {
     "data": {
      "application/vnd.jupyter.widget-view+json": {
       "model_id": "4630894c95c9409297901efe59ae74ad",
       "version_major": 2,
       "version_minor": 0
      },
      "text/html": [
       "<p>Failed to display Jupyter Widget of type <code>FigureCanvasNbAgg</code>.</p>\n",
       "<p>\n",
       "  If you're reading this message in the Jupyter Notebook or JupyterLab Notebook, it may mean\n",
       "  that the widgets JavaScript is still loading. If this message persists, it\n",
       "  likely means that the widgets JavaScript library is either not installed or\n",
       "  not enabled. See the <a href=\"https://ipywidgets.readthedocs.io/en/stable/user_install.html\">Jupyter\n",
       "  Widgets Documentation</a> for setup instructions.\n",
       "</p>\n",
       "<p>\n",
       "  If you're reading this message in another frontend (for example, a static\n",
       "  rendering on GitHub or <a href=\"https://nbviewer.jupyter.org/\">NBViewer</a>),\n",
       "  it may mean that your frontend doesn't currently support widgets.\n",
       "</p>\n"
      ],
      "text/plain": [
       "FigureCanvasNbAgg()"
      ]
     },
     "metadata": {},
     "output_type": "display_data"
    }
   ],
   "source": [
    "plt.close('all')\n",
    "bino_file = \"/Users/tim/MMT/wfsdat/20180208/wfs_ff_cal_img_2018.0208.074052.fits\"\n",
    "#bino_file = \"/Users/tim/MMT/mmtwfs/mmtwfs/data/test_data/wfs_ff_cal_img_2017.1113.111402.fits\"\n",
    "#bino_file = \"/Users/tim/MMT/wfsdat/20180209/wfs_ff_cal_img_2018.0209.114054.fits\"\n",
    "#bino_file = \"/Users/tim/MMT/wfsdat/20180210/wfs_ff_cal_img_2018.0210.095719.fits\"\n",
    "bino_file = \"/Users/tim/MMT/wfsdat/20180210/wfs_ff_cal_img_2018.0210.102615.fits\"\n",
    "results = bino.measure_slopes(bino_file, mode=\"binospec\", plot=True)\n",
    "results['figures']['slopes'].show()"
   ]
  },
  {
   "cell_type": "code",
   "execution_count": 5,
   "metadata": {},
   "outputs": [
    {
     "data": {
      "application/vnd.jupyter.widget-view+json": {
       "model_id": "5fcad32082d8487f9586668968caa99a",
       "version_major": 2,
       "version_minor": 0
      },
      "text/html": [
       "<p>Failed to display Jupyter Widget of type <code>FigureCanvasNbAgg</code>.</p>\n",
       "<p>\n",
       "  If you're reading this message in the Jupyter Notebook or JupyterLab Notebook, it may mean\n",
       "  that the widgets JavaScript is still loading. If this message persists, it\n",
       "  likely means that the widgets JavaScript library is either not installed or\n",
       "  not enabled. See the <a href=\"https://ipywidgets.readthedocs.io/en/stable/user_install.html\">Jupyter\n",
       "  Widgets Documentation</a> for setup instructions.\n",
       "</p>\n",
       "<p>\n",
       "  If you're reading this message in another frontend (for example, a static\n",
       "  rendering on GitHub or <a href=\"https://nbviewer.jupyter.org/\">NBViewer</a>),\n",
       "  it may mean that your frontend doesn't currently support widgets.\n",
       "</p>\n"
      ],
      "text/plain": [
       "FigureCanvasNbAgg()"
      ]
     },
     "metadata": {},
     "output_type": "display_data"
    },
    {
     "data": {
      "text/plain": [
       "{'scale': 0.92814492806446891,\n",
       " 'xcen': 259.40032854463931,\n",
       " 'xcoma': 9.9999999999999995e-08,\n",
       " 'ycen': 265.45888155661743,\n",
       " 'ycoma': 9.9999999999999995e-08}"
      ]
     },
     "execution_count": 5,
     "metadata": {},
     "output_type": "execute_result"
    }
   ],
   "source": [
    "refaps = bino.modes['binospec']['reference'].masked_apertures\n",
    "fig, ax = plt.subplots()\n",
    "fit = results['grid_fit']\n",
    "refx = refaps['xcentroid'] * (fit['scale'] + refaps['xcentroid'] * fit['xcoma']) + results['xcen']\n",
    "refy = refaps['ycentroid'] * (fit['scale'] + refaps['ycentroid'] * fit['ycoma']) + results['ycen']\n",
    "x, y = results['apertures'].positions.transpose()[0], results['apertures'].positions.transpose()[1]\n",
    "spacing = 0.5*(results['xspacing'] + results['yspacing'])\n",
    "ax.scatter(refx, refy)\n",
    "ax.set_aspect('equal')\n",
    "ax.scatter(x, y)\n",
    "ax.set_xlim(0, 512)\n",
    "ax.set_ylim(0, 512)\n",
    "fig.show()\n",
    "\n",
    "results['grid_fit']"
   ]
  },
  {
   "cell_type": "code",
   "execution_count": 6,
   "metadata": {},
   "outputs": [
    {
     "name": "stdout",
     "output_type": "stream",
     "text": [
      "326.53679153953124 nm\n",
      "Fringe Coefficients\n",
      " Z02:       651 nm \t X Tilt (1, 1)\n",
      " Z03:       689 nm \t Y Tilt (1, -1)\n",
      " Z04:      -484 nm \t Defocus (2, 0)\n",
      " Z05:       258 nm \t Primary Astig at 45° (2, -2)\n",
      " Z06:      -175 nm \t Primary Astig at 0° (2, 2)\n",
      " Z07:       739 nm \t Primary Y Coma (3, -1)\n",
      " Z08:      -637 nm \t Primary X Coma (3, 1)\n",
      " Z09:     -90.6 nm \t Y Trefoil (3, -3)\n",
      " Z10:       121 nm \t X Trefoil (3, 3)\n",
      " Z11:      -697 nm \t Primary Spherical (4, 0)\n",
      " Z12:       141 nm \t Secondary Astigmatism at 0° (4, 2)\n",
      " Z13:      -106 nm \t Secondary Astigmatism at 45° (4, -2)\n",
      " Z14:       199 nm \t X Tetrafoil (4, 4)\n",
      " Z15:       104 nm \t Y Tetrafoil (4, -4)\n",
      " Z16:      -581 nm \t Secondary X Coma (5, 1)\n",
      " Z17:       223 nm \t Secondary Y Coma (5, -1)\n",
      " Z18:      76.1 nm \t Secondary X Trefoil (5, 3)\n",
      " Z19:     -15.4 nm \t Secondary Y Trefoil (5, -3)\n",
      " Z20:       139 nm \t X Pentafoil (5, 5)\n",
      " Z21:       150 nm \t Y Pentafoil (5, -5)\n",
      " Z22:      -319 nm \t Secondary Spherical (6, 0)\n",
      "\n"
     ]
    },
    {
     "data": {
      "application/vnd.jupyter.widget-view+json": {
       "model_id": "2a740fab47ac420480f853df9cbf93ea",
       "version_major": 2,
       "version_minor": 0
      },
      "text/html": [
       "<p>Failed to display Jupyter Widget of type <code>FigureCanvasNbAgg</code>.</p>\n",
       "<p>\n",
       "  If you're reading this message in the Jupyter Notebook or JupyterLab Notebook, it may mean\n",
       "  that the widgets JavaScript is still loading. If this message persists, it\n",
       "  likely means that the widgets JavaScript library is either not installed or\n",
       "  not enabled. See the <a href=\"https://ipywidgets.readthedocs.io/en/stable/user_install.html\">Jupyter\n",
       "  Widgets Documentation</a> for setup instructions.\n",
       "</p>\n",
       "<p>\n",
       "  If you're reading this message in another frontend (for example, a static\n",
       "  rendering on GitHub or <a href=\"https://nbviewer.jupyter.org/\">NBViewer</a>),\n",
       "  it may mean that your frontend doesn't currently support widgets.\n",
       "</p>\n"
      ],
      "text/plain": [
       "FigureCanvasNbAgg()"
      ]
     },
     "metadata": {},
     "output_type": "display_data"
    }
   ],
   "source": [
    "zresults = bino.fit_wavefront(results, plot=True)\n",
    "zvec = zresults['zernike']\n",
    "print(zresults['residual_rms'])\n",
    "#zvec.normalize()\n",
    "print(zvec)\n",
    "zresults['resid_plot'].show()"
   ]
  },
  {
   "cell_type": "code",
   "execution_count": 7,
   "metadata": {},
   "outputs": [
    {
     "data": {
      "application/vnd.jupyter.widget-view+json": {
       "model_id": "8a21391fa5f74ae9ab59643150c6b8b6",
       "version_major": 2,
       "version_minor": 0
      },
      "text/html": [
       "<p>Failed to display Jupyter Widget of type <code>FigureCanvasNbAgg</code>.</p>\n",
       "<p>\n",
       "  If you're reading this message in the Jupyter Notebook or JupyterLab Notebook, it may mean\n",
       "  that the widgets JavaScript is still loading. If this message persists, it\n",
       "  likely means that the widgets JavaScript library is either not installed or\n",
       "  not enabled. See the <a href=\"https://ipywidgets.readthedocs.io/en/stable/user_install.html\">Jupyter\n",
       "  Widgets Documentation</a> for setup instructions.\n",
       "</p>\n",
       "<p>\n",
       "  If you're reading this message in another frontend (for example, a static\n",
       "  rendering on GitHub or <a href=\"https://nbviewer.jupyter.org/\">NBViewer</a>),\n",
       "  it may mean that your frontend doesn't currently support widgets.\n",
       "</p>\n"
      ],
      "text/plain": [
       "FigureCanvasNbAgg()"
      ]
     },
     "metadata": {},
     "output_type": "display_data"
    }
   ],
   "source": [
    "zvec.fringe_bar_chart().show()"
   ]
  },
  {
   "cell_type": "code",
   "execution_count": 56,
   "metadata": {},
   "outputs": [
    {
     "name": "stderr",
     "output_type": "stream",
     "text": [
      "WARNING: AstropyDeprecationWarning: null_forces already exists. Automatically overwriting ASCII files is deprecated. Use the argument 'overwrite=True' in the future. [astropy.io.ascii.ui]\n"
     ]
    }
   ],
   "source": [
    "zv = ZernikeVector()\n",
    "ft, m1c, zv_masked = bino.telescope.calculate_primary_corrections(zv)\n",
    "bino.telescope.to_rcell(ft, filename=\"null_forces\")"
   ]
  },
  {
   "cell_type": "code",
   "execution_count": null,
   "metadata": {},
   "outputs": [],
   "source": [
    "forces, m1focus, zv_masked = bino.calculate_primary(zvec, threshold=0.25*zresults['residual_rms'])"
   ]
  },
  {
   "cell_type": "code",
   "execution_count": null,
   "metadata": {},
   "outputs": [],
   "source": [
    "bino.modes['binospec']['reference']"
   ]
  },
  {
   "cell_type": "code",
   "execution_count": null,
   "metadata": {},
   "outputs": [],
   "source": [
    "bino.modes['binospec']['reference']['xspacing'], bino.modes['binospec']['reference']['yspacing']"
   ]
  },
  {
   "cell_type": "code",
   "execution_count": null,
   "metadata": {},
   "outputs": [],
   "source": [
    "bino.modes['binospec']['reference']['figure'].show()"
   ]
  },
  {
   "cell_type": "markdown",
   "metadata": {},
   "source": [
    "# MMIRS Dev Section"
   ]
  },
  {
   "cell_type": "code",
   "execution_count": 3,
   "metadata": {},
   "outputs": [],
   "source": [
    "mmirs = WFSFactory(wfs=\"mmirs\")"
   ]
  },
  {
   "cell_type": "code",
   "execution_count": 4,
   "metadata": {},
   "outputs": [
    {
     "data": {
      "application/vnd.jupyter.widget-view+json": {
       "model_id": "54a9ef1affd24e52b187742f4eb0a2c6",
       "version_major": 2,
       "version_minor": 0
      },
      "text/html": [
       "<p>Failed to display Jupyter Widget of type <code>FigureCanvasNbAgg</code>.</p>\n",
       "<p>\n",
       "  If you're reading this message in the Jupyter Notebook or JupyterLab Notebook, it may mean\n",
       "  that the widgets JavaScript is still loading. If this message persists, it\n",
       "  likely means that the widgets JavaScript library is either not installed or\n",
       "  not enabled. See the <a href=\"https://ipywidgets.readthedocs.io/en/stable/user_install.html\">Jupyter\n",
       "  Widgets Documentation</a> for setup instructions.\n",
       "</p>\n",
       "<p>\n",
       "  If you're reading this message in another frontend (for example, a static\n",
       "  rendering on GitHub or <a href=\"https://nbviewer.jupyter.org/\">NBViewer</a>),\n",
       "  it may mean that your frontend doesn't currently support widgets.\n",
       "</p>\n"
      ],
      "text/plain": [
       "FigureCanvasNbAgg()"
      ]
     },
     "metadata": {},
     "output_type": "display_data"
    }
   ],
   "source": [
    "plt.close('all')\n",
    "mmirs_file = \"/Users/tim/MMT/wfsdat/20171101/mmirs_wfs_%04d.fits\" % 32\n",
    "mmirs_file = \"/Users/tim/MMT/mmtwfs/mmtwfs/data/test_data/mmirs_wfs_0150.fits\"\n",
    "results = mmirs.measure_slopes(mmirs_file, plot=True)\n",
    "results['figures']['slopes'].show()"
   ]
  },
  {
   "cell_type": "code",
   "execution_count": 5,
   "metadata": {},
   "outputs": [
    {
     "data": {
      "application/vnd.jupyter.widget-view+json": {
       "model_id": "2761c88c28df46109831fbd106345b78",
       "version_major": 2,
       "version_minor": 0
      },
      "text/html": [
       "<p>Failed to display Jupyter Widget of type <code>FigureCanvasNbAgg</code>.</p>\n",
       "<p>\n",
       "  If you're reading this message in the Jupyter Notebook or JupyterLab Notebook, it may mean\n",
       "  that the widgets JavaScript is still loading. If this message persists, it\n",
       "  likely means that the widgets JavaScript library is either not installed or\n",
       "  not enabled. See the <a href=\"https://ipywidgets.readthedocs.io/en/stable/user_install.html\">Jupyter\n",
       "  Widgets Documentation</a> for setup instructions.\n",
       "</p>\n",
       "<p>\n",
       "  If you're reading this message in another frontend (for example, a static\n",
       "  rendering on GitHub or <a href=\"https://nbviewer.jupyter.org/\">NBViewer</a>),\n",
       "  it may mean that your frontend doesn't currently support widgets.\n",
       "</p>\n"
      ],
      "text/plain": [
       "FigureCanvasNbAgg()"
      ]
     },
     "metadata": {},
     "output_type": "display_data"
    },
    {
     "data": {
      "text/plain": [
       "{'scale': 0.97977380820868587,\n",
       " 'xcen': 217.20315172951678,\n",
       " 'xcoma': -9.9999999999999995e-08,\n",
       " 'ycen': 249.9085066762855,\n",
       " 'ycoma': -9.9999999999999995e-08}"
      ]
     },
     "execution_count": 5,
     "metadata": {},
     "output_type": "execute_result"
    }
   ],
   "source": [
    "refaps = mmirs.modes['mmirs2']['reference'].masked_apertures\n",
    "fig, ax = plt.subplots()\n",
    "fit = results['grid_fit']\n",
    "refx = refaps['xcentroid'] * (fit['scale'] + refaps['xcentroid'] * fit['xcoma']) + results['xcen']\n",
    "refy = refaps['ycentroid'] * (fit['scale'] + refaps['ycentroid'] * fit['ycoma']) + results['ycen']\n",
    "x, y = results['apertures'].positions.transpose()[0], results['apertures'].positions.transpose()[1]\n",
    "spacing = 0.5*(results['xspacing'] + results['yspacing'])\n",
    "ax.scatter(refx, refy)\n",
    "ax.set_aspect('equal')\n",
    "ax.scatter(x, y)\n",
    "ax.set_xlim(0, 512)\n",
    "ax.set_ylim(0, 512)\n",
    "fig.show()\n",
    "\n",
    "results['grid_fit']"
   ]
  },
  {
   "cell_type": "code",
   "execution_count": 6,
   "metadata": {
    "scrolled": false
   },
   "outputs": [
    {
     "name": "stdout",
     "output_type": "stream",
     "text": [
      "173.85587618637135 nm\n",
      "Fringe Coefficients\n",
      " Z02:       425 nm \t X Tilt (1, 1)\n",
      " Z03:      32.3 nm \t Y Tilt (1, -1)\n",
      " Z04:      -240 nm \t Defocus (2, 0)\n",
      " Z05:      -239 nm \t Primary Astig at 45° (2, -2)\n",
      " Z06:      29.2 nm \t Primary Astig at 0° (2, 2)\n",
      " Z07:      66.3 nm \t Primary Y Coma (3, -1)\n",
      " Z08:      -328 nm \t Primary X Coma (3, 1)\n",
      " Z09:       157 nm \t Y Trefoil (3, -3)\n",
      " Z10:       291 nm \t X Trefoil (3, 3)\n",
      " Z11:     -40.8 nm \t Primary Spherical (4, 0)\n",
      " Z12:       112 nm \t Secondary Astigmatism at 0° (4, 2)\n",
      " Z13:       202 nm \t Secondary Astigmatism at 45° (4, -2)\n",
      " Z14:      -100 nm \t X Tetrafoil (4, 4)\n",
      " Z15:      19.1 nm \t Y Tetrafoil (4, -4)\n",
      " Z16:      -166 nm \t Secondary X Coma (5, 1)\n",
      " Z17:      21.5 nm \t Secondary Y Coma (5, -1)\n",
      " Z18:     -6.58 nm \t Secondary X Trefoil (5, 3)\n",
      " Z19:     -24.3 nm \t Secondary Y Trefoil (5, -3)\n",
      " Z20:     -77.2 nm \t X Pentafoil (5, 5)\n",
      " Z21:        73 nm \t Y Pentafoil (5, -5)\n",
      " Z22:      76.3 nm \t Secondary Spherical (6, 0)\n",
      "\n"
     ]
    },
    {
     "data": {
      "application/vnd.jupyter.widget-view+json": {
       "model_id": "a963909d51f942dab159a2d9a1ebf004",
       "version_major": 2,
       "version_minor": 0
      },
      "text/html": [
       "<p>Failed to display Jupyter Widget of type <code>FigureCanvasNbAgg</code>.</p>\n",
       "<p>\n",
       "  If you're reading this message in the Jupyter Notebook or JupyterLab Notebook, it may mean\n",
       "  that the widgets JavaScript is still loading. If this message persists, it\n",
       "  likely means that the widgets JavaScript library is either not installed or\n",
       "  not enabled. See the <a href=\"https://ipywidgets.readthedocs.io/en/stable/user_install.html\">Jupyter\n",
       "  Widgets Documentation</a> for setup instructions.\n",
       "</p>\n",
       "<p>\n",
       "  If you're reading this message in another frontend (for example, a static\n",
       "  rendering on GitHub or <a href=\"https://nbviewer.jupyter.org/\">NBViewer</a>),\n",
       "  it may mean that your frontend doesn't currently support widgets.\n",
       "</p>\n"
      ],
      "text/plain": [
       "FigureCanvasNbAgg()"
      ]
     },
     "metadata": {},
     "output_type": "display_data"
    }
   ],
   "source": [
    "zresults = mmirs.fit_wavefront(results, plot=True)\n",
    "zvec = zresults['zernike']\n",
    "print(zresults['residual_rms'])\n",
    "#zvec.normalize()\n",
    "print(zvec)\n",
    "zresults['resid_plot'].show()"
   ]
  },
  {
   "cell_type": "code",
   "execution_count": 7,
   "metadata": {},
   "outputs": [
    {
     "data": {
      "application/vnd.jupyter.widget-view+json": {
       "model_id": "0d20e2564a5445da9b7e5b8a2828fac6",
       "version_major": 2,
       "version_minor": 0
      },
      "text/html": [
       "<p>Failed to display Jupyter Widget of type <code>FigureCanvasNbAgg</code>.</p>\n",
       "<p>\n",
       "  If you're reading this message in the Jupyter Notebook or JupyterLab Notebook, it may mean\n",
       "  that the widgets JavaScript is still loading. If this message persists, it\n",
       "  likely means that the widgets JavaScript library is either not installed or\n",
       "  not enabled. See the <a href=\"https://ipywidgets.readthedocs.io/en/stable/user_install.html\">Jupyter\n",
       "  Widgets Documentation</a> for setup instructions.\n",
       "</p>\n",
       "<p>\n",
       "  If you're reading this message in another frontend (for example, a static\n",
       "  rendering on GitHub or <a href=\"https://nbviewer.jupyter.org/\">NBViewer</a>),\n",
       "  it may mean that your frontend doesn't currently support widgets.\n",
       "</p>\n"
      ],
      "text/plain": [
       "FigureCanvasNbAgg()"
      ]
     },
     "metadata": {},
     "output_type": "display_data"
    }
   ],
   "source": [
    "zresults['zernike'].fringe_bar_chart().show()"
   ]
  },
  {
   "cell_type": "code",
   "execution_count": null,
   "metadata": {},
   "outputs": [],
   "source": [
    "psf, pfig = mmirs.telescope.psf(zresults['zernike'].copy())\n",
    "pfig.show()"
   ]
  },
  {
   "cell_type": "code",
   "execution_count": null,
   "metadata": {},
   "outputs": [],
   "source": [
    "print(mmirs.modes['mmirs1']['reference']['fwhm'])\n",
    "\n",
    "spot = mmirs.modes['mmirs1']['reference']['spot']\n",
    "model = Gaussian2D(amplitude=spot.max(), x_mean=spot.shape[1]/2, y_mean=spot.shape[0]/2) + Polynomial2D(degree=0)\n",
    "#model = Gaussian2D(amplitude=spot.max(), x_mean=spot.shape[1]/2, y_mean=spot.shape[0]/2)\n",
    "fitter = LevMarLSQFitter()\n",
    "y, x = np.mgrid[:spot.shape[0], :spot.shape[1]]\n",
    "fit = fitter(model, x, y, spot)\n",
    "fig, ax = plt.subplots()\n",
    "ax.imshow(mmirs.modes['mmirs1']['reference']['spot'] - fit(x, y))\n",
    "fig.show()"
   ]
  },
  {
   "cell_type": "code",
   "execution_count": null,
   "metadata": {},
   "outputs": [],
   "source": [
    "mmirs.modes['mmirs1']['reference']['figure'].show()\n",
    "mmirs.modes['mmirs1']['reference']['xspacing'], mmirs.modes['mmirs1']['reference']['yspacing']"
   ]
  },
  {
   "cell_type": "code",
   "execution_count": null,
   "metadata": {},
   "outputs": [],
   "source": [
    "zplot = zvec.copy()\n",
    "zplot.ignore('Z02')\n",
    "zplot.ignore('Z03')\n",
    "mfig = zplot.plot_map()\n",
    "mfig.show()\n",
    "zplot.peak2valley"
   ]
  },
  {
   "cell_type": "code",
   "execution_count": null,
   "metadata": {},
   "outputs": [],
   "source": [
    "zvec.units = u.nm\n",
    "f = zvec.bar_chart(residual=zresults['residual_rms'])\n",
    "f.set_size_inches(9, 5)\n",
    "\n",
    "f.show()"
   ]
  },
  {
   "cell_type": "code",
   "execution_count": null,
   "metadata": {},
   "outputs": [],
   "source": [
    "plt.close(f)"
   ]
  },
  {
   "cell_type": "code",
   "execution_count": null,
   "metadata": {},
   "outputs": [],
   "source": [
    "torig = mmirs.telescope.bending_forces(zvec)\n",
    "torig.show_in_notebook()"
   ]
  },
  {
   "cell_type": "code",
   "execution_count": null,
   "metadata": {},
   "outputs": [],
   "source": [
    "force_fig = mmirs.telescope.plot_forces(torig)\n",
    "force_fig.show()"
   ]
  },
  {
   "cell_type": "code",
   "execution_count": null,
   "metadata": {},
   "outputs": [],
   "source": [
    "t, m1foc = mmirs.correct_primary(zv=zvec)\n",
    "print(m1foc)\n",
    "t.show_in_notebook()"
   ]
  },
  {
   "cell_type": "code",
   "execution_count": null,
   "metadata": {},
   "outputs": [],
   "source": [
    "new_force_fig = mmirs.telescope.plot_forces(t)\n",
    "new_force_fig.show()"
   ]
  },
  {
   "cell_type": "code",
   "execution_count": null,
   "metadata": {},
   "outputs": [],
   "source": [
    "zpsf = ZernikeVector()\n",
    "psf, psf_fig = mmirs.telescope.psf(zpsf, plot=True)\n",
    "psf_fig.set_size_inches(4.0, 4.0)\n",
    "psf_fig.show()"
   ]
  },
  {
   "cell_type": "markdown",
   "metadata": {},
   "source": [
    "# F/9 Dev Section"
   ]
  },
  {
   "cell_type": "code",
   "execution_count": 3,
   "metadata": {},
   "outputs": [],
   "source": [
    "plt.close('all')\n",
    "f9wfs = WFSFactory(wfs=\"newf9\", nzern=75)"
   ]
  },
  {
   "cell_type": "code",
   "execution_count": 4,
   "metadata": {},
   "outputs": [],
   "source": [
    "baseline1_files = [\"f9wfs_20180131-191734.fits\", \"f9wfs_20180131-191925.fits\", \"f9wfs_20180131-192131.fits\"]\n",
    "baseline2_files = [\"f9wfs_20180131-192350.fits\", \"f9wfs_20180131-192541.fits\", \"f9wfs_20180131-192731.fits\"]\n",
    "baseline3_files = [\n",
    "    \"f9wfs_20180131-192927.fits\", \"f9wfs_20180131-193109.fits\", \n",
    "    \"f9wfs_20180131-193325.fits\", \"f9wfs_20180131-193509.fits\"\n",
    "]"
   ]
  },
  {
   "cell_type": "code",
   "execution_count": 9,
   "metadata": {},
   "outputs": [
    {
     "data": {
      "application/vnd.jupyter.widget-view+json": {
       "model_id": "6e3a44ce86f04e56834713cc0c80396e",
       "version_major": 2,
       "version_minor": 0
      },
      "text/html": [
       "<p>Failed to display Jupyter Widget of type <code>FigureCanvasNbAgg</code>.</p>\n",
       "<p>\n",
       "  If you're reading this message in the Jupyter Notebook or JupyterLab Notebook, it may mean\n",
       "  that the widgets JavaScript is still loading. If this message persists, it\n",
       "  likely means that the widgets JavaScript library is either not installed or\n",
       "  not enabled. See the <a href=\"https://ipywidgets.readthedocs.io/en/stable/user_install.html\">Jupyter\n",
       "  Widgets Documentation</a> for setup instructions.\n",
       "</p>\n",
       "<p>\n",
       "  If you're reading this message in another frontend (for example, a static\n",
       "  rendering on GitHub or <a href=\"https://nbviewer.jupyter.org/\">NBViewer</a>),\n",
       "  it may mean that your frontend doesn't currently support widgets.\n",
       "</p>\n"
      ],
      "text/plain": [
       "FigureCanvasNbAgg()"
      ]
     },
     "metadata": {},
     "output_type": "display_data"
    }
   ],
   "source": [
    "plt.close('all')\n",
    "f9_file = \"/Users/tim/MMT/wfsdat/20180201/\" + baseline2_files[0]\n",
    "#f9_file = \"/Users/tim/MMT/mmtwfs/mmtwfs/data/test_data/test_newf9.fits\"\n",
    "results = f9wfs.measure_slopes(f9_file, 'blue', plot=True)\n",
    "#plt.scatter(refaps['xcentroid']+results['xcen'], refaps['ycentroid']+results['ycen'])\n",
    "results['figures']['slopes'].show()\n",
    "# 265 258\n",
    "# ref 240 259.5"
   ]
  },
  {
   "cell_type": "code",
   "execution_count": 10,
   "metadata": {},
   "outputs": [
    {
     "name": "stdout",
     "output_type": "stream",
     "text": [
      "192.11057869727128 nm\n",
      "Fringe Coefficients\n",
      " Z02:      -544 nm \t X Tilt (1, 1)\n",
      " Z03:      46.3 nm \t Y Tilt (1, -1)\n",
      " Z04:  1.33e+03 nm \t Defocus (2, 0)\n",
      " Z05:       663 nm \t Primary Astig at 45° (2, -2)\n",
      " Z06:  3.16e+03 nm \t Primary Astig at 0° (2, 2)\n",
      " Z07: -1.37e+03 nm \t Primary Y Coma (3, -1)\n",
      " Z08: -2.29e+03 nm \t Primary X Coma (3, 1)\n",
      " Z09: -1.92e+03 nm \t Y Trefoil (3, -3)\n",
      " Z10:       242 nm \t X Trefoil (3, 3)\n",
      " Z11:       411 nm \t Primary Spherical (4, 0)\n",
      " Z12:      -779 nm \t Secondary Astigmatism at 0° (4, 2)\n",
      " Z13:       347 nm \t Secondary Astigmatism at 45° (4, -2)\n",
      " Z14:      -431 nm \t X Tetrafoil (4, 4)\n",
      " Z15:      -503 nm \t Y Tetrafoil (4, -4)\n",
      " Z16: -1.03e+03 nm \t Secondary X Coma (5, 1)\n",
      " Z17: -1.22e+03 nm \t Secondary Y Coma (5, -1)\n",
      " Z18:       300 nm \t Secondary X Trefoil (5, 3)\n",
      " Z19: -1.13e+03 nm \t Secondary Y Trefoil (5, -3)\n",
      " Z20:  1.13e+03 nm \t X Pentafoil (5, 5)\n",
      " Z21:     -32.4 nm \t Y Pentafoil (5, -5)\n",
      " Z22:      -604 nm \t Secondary Spherical (6, 0)\n",
      " Z23:       250 nm \t Tertiary Astigmatism at 45° (6, -2)\n",
      " Z24:      -191 nm \t Tertiary Astigmatism at 0° (6, 2)\n",
      " Z25:      -653 nm \t Secondary X Trefoil (6, -4)\n",
      " Z26:      -309 nm \t Secondary Y Trefoil (6, 4)\n",
      " Z27:      -606 nm \t Y Hexafoil (6, -6)\n",
      " Z28:       245 nm \t X Hexafoil (6, 6)\n",
      " Z29:      -761 nm \t Tertiary Y Coma (7, -1)\n",
      " Z30:      -919 nm \t Tertiary X Coma (7, 1)\n",
      " Z31: -1.07e+03 nm \t Tertiary Y Trefoil (7, -3)\n",
      " Z32:      19.9 nm \t Tertiary X Trefoil (7, 3)\n",
      " Z33:      -174 nm \t Secondary Y Pentafoil (7, -5)\n",
      " Z34:  1.28e+03 nm \t Secondary X Pentafoil (7, 5)\n",
      " Z35:       866 nm \t Y Heptafoil (7, -7)\n",
      " Z36:       322 nm \t X Heptafoil (7, 7)\n",
      " Z37:      17.3 nm \t Tertiary Spherical (8, 0)\n",
      " Z38:      -166 nm\n",
      " Z39:       125 nm\n",
      " Z40:      -371 nm\n",
      " Z41:      -348 nm\n",
      " Z42:       425 nm\n",
      " Z43:      -476 nm\n",
      " Z44:       378 nm\n",
      " Z45:       262 nm\n",
      " Z46:      -632 nm\n",
      " Z47:      -501 nm\n",
      " Z48:      55.7 nm\n",
      " Z49:      -430 nm\n",
      " Z50:       421 nm\n",
      " Z51:     -29.1 nm\n",
      " Z52:       410 nm\n",
      " Z53:       438 nm\n",
      " Z54:      -448 nm\n",
      " Z55:       134 nm\n",
      " Z56:      -166 nm\n",
      " Z57:       110 nm\n",
      " Z58:      69.5 nm\n",
      " Z59:      -104 nm\n",
      " Z60:       119 nm\n",
      " Z61:      -7.9 nm\n",
      " Z62:       154 nm\n",
      " Z63:      98.2 nm\n",
      " Z64:       301 nm\n",
      " Z65:      94.4 nm\n",
      " Z66:      61.5 nm\n",
      " Z67:      -166 nm\n",
      " Z68:       -15 nm\n",
      " Z69:      -133 nm\n",
      " Z70:     -25.7 nm\n",
      " Z71:       199 nm\n",
      " Z72:       368 nm\n",
      " Z73:       304 nm\n",
      " Z74:      72.2 nm\n",
      " Z75:     -44.5 nm\n",
      " Z76:       -41 nm\n",
      "\n"
     ]
    },
    {
     "data": {
      "application/vnd.jupyter.widget-view+json": {
       "model_id": "aa5fa16308e14265973f0af3195c22f7",
       "version_major": 2,
       "version_minor": 0
      },
      "text/html": [
       "<p>Failed to display Jupyter Widget of type <code>FigureCanvasNbAgg</code>.</p>\n",
       "<p>\n",
       "  If you're reading this message in the Jupyter Notebook or JupyterLab Notebook, it may mean\n",
       "  that the widgets JavaScript is still loading. If this message persists, it\n",
       "  likely means that the widgets JavaScript library is either not installed or\n",
       "  not enabled. See the <a href=\"https://ipywidgets.readthedocs.io/en/stable/user_install.html\">Jupyter\n",
       "  Widgets Documentation</a> for setup instructions.\n",
       "</p>\n",
       "<p>\n",
       "  If you're reading this message in another frontend (for example, a static\n",
       "  rendering on GitHub or <a href=\"https://nbviewer.jupyter.org/\">NBViewer</a>),\n",
       "  it may mean that your frontend doesn't currently support widgets.\n",
       "</p>\n"
      ],
      "text/plain": [
       "FigureCanvasNbAgg()"
      ]
     },
     "metadata": {},
     "output_type": "display_data"
    }
   ],
   "source": [
    "zresults = f9wfs.fit_wavefront(results, plot=True)\n",
    "print(zresults['residual_rms'])\n",
    "print(zresults['zernike'])\n",
    "zresults['resid_plot'].show()"
   ]
  },
  {
   "cell_type": "code",
   "execution_count": 11,
   "metadata": {},
   "outputs": [
    {
     "data": {
      "application/vnd.jupyter.widget-view+json": {
       "model_id": "9e2ec1d9b8434efda063a1c140d7ea21",
       "version_major": 2,
       "version_minor": 0
      },
      "text/html": [
       "<p>Failed to display Jupyter Widget of type <code>FigureCanvasNbAgg</code>.</p>\n",
       "<p>\n",
       "  If you're reading this message in the Jupyter Notebook or JupyterLab Notebook, it may mean\n",
       "  that the widgets JavaScript is still loading. If this message persists, it\n",
       "  likely means that the widgets JavaScript library is either not installed or\n",
       "  not enabled. See the <a href=\"https://ipywidgets.readthedocs.io/en/stable/user_install.html\">Jupyter\n",
       "  Widgets Documentation</a> for setup instructions.\n",
       "</p>\n",
       "<p>\n",
       "  If you're reading this message in another frontend (for example, a static\n",
       "  rendering on GitHub or <a href=\"https://nbviewer.jupyter.org/\">NBViewer</a>),\n",
       "  it may mean that your frontend doesn't currently support widgets.\n",
       "</p>\n"
      ],
      "text/plain": [
       "FigureCanvasNbAgg()"
      ]
     },
     "metadata": {},
     "output_type": "display_data"
    },
    {
     "data": {
      "text/plain": [
       "0.90015093851272998"
      ]
     },
     "execution_count": 11,
     "metadata": {},
     "output_type": "execute_result"
    }
   ],
   "source": [
    "refaps = f9wfs.modes['blue']['reference'].masked_apertures\n",
    "fig, ax = plt.subplots()\n",
    "fit = results['grid_fit']\n",
    "refx = refaps['xcentroid'] * (fit['scale'] + refaps['xcentroid'] * fit['xcoma']) + results['xcen']\n",
    "refy = refaps['ycentroid'] * (fit['scale'] + refaps['ycentroid'] * fit['ycoma']) + results['ycen']\n",
    "x, y = results['apertures'].positions.transpose()[0], results['apertures'].positions.transpose()[1]\n",
    "spacing = 0.5*(results['xspacing'] + results['yspacing'])\n",
    "ax.scatter(refx, refy)\n",
    "ax.set_aspect('equal')\n",
    "ax.scatter(x, y)\n",
    "ax.set_xlim(0, 845)\n",
    "ax.set_ylim(0, 845)\n",
    "fig.show()\n",
    "fit['scale']"
   ]
  },
  {
   "cell_type": "code",
   "execution_count": null,
   "metadata": {},
   "outputs": [],
   "source": [
    "data = check_wfsdata(f9_file)\n",
    "x = np.arange(data.shape[1])\n",
    "y = np.arange(data.shape[0])\n",
    "bx = np.arange(data.shape[1]+1)\n",
    "by = np.arange(data.shape[0]+1)\n",
    "apertures = results['spots']\n",
    "\n",
    "# bin the spot positions along the axes and use Lomb-Scargle to measure the grid spacing in each direction\n",
    "xsum = np.histogram(apertures['xcentroid'], bins=bx)\n",
    "ysum = np.histogram(apertures['ycentroid'], bins=by)\n",
    "\n",
    "k = np.linspace(10.0, 50., 500)  # look for spacings from 5 to 50 pixels (plenty of range)\n",
    "f = 1.0 / k  # convert spacing to frequency\n",
    "xp = stats.LombScargle(x, xsum[0]).power(f)\n",
    "yp = stats.LombScargle(y, ysum[0]).power(f)\n",
    "plt.plot(k, yp)\n",
    "plt.show()"
   ]
  },
  {
   "cell_type": "code",
   "execution_count": null,
   "metadata": {},
   "outputs": [],
   "source": [
    "zresults['zernike'].bar_chart().show()"
   ]
  },
  {
   "cell_type": "code",
   "execution_count": 8,
   "metadata": {},
   "outputs": [
    {
     "data": {
      "application/vnd.jupyter.widget-view+json": {
       "model_id": "7df9551ac4eb4d81bb3ecb8737f05ce9",
       "version_major": 2,
       "version_minor": 0
      },
      "text/html": [
       "<p>Failed to display Jupyter Widget of type <code>FigureCanvasNbAgg</code>.</p>\n",
       "<p>\n",
       "  If you're reading this message in the Jupyter Notebook or JupyterLab Notebook, it may mean\n",
       "  that the widgets JavaScript is still loading. If this message persists, it\n",
       "  likely means that the widgets JavaScript library is either not installed or\n",
       "  not enabled. See the <a href=\"https://ipywidgets.readthedocs.io/en/stable/user_install.html\">Jupyter\n",
       "  Widgets Documentation</a> for setup instructions.\n",
       "</p>\n",
       "<p>\n",
       "  If you're reading this message in another frontend (for example, a static\n",
       "  rendering on GitHub or <a href=\"https://nbviewer.jupyter.org/\">NBViewer</a>),\n",
       "  it may mean that your frontend doesn't currently support widgets.\n",
       "</p>\n"
      ],
      "text/plain": [
       "FigureCanvasNbAgg()"
      ]
     },
     "metadata": {},
     "output_type": "display_data"
    }
   ],
   "source": [
    "zresults['zernike'].fringe_bar_chart().show()"
   ]
  },
  {
   "cell_type": "code",
   "execution_count": null,
   "metadata": {},
   "outputs": [],
   "source": [
    "spots = {'xcentroid': x, 'ycentroid': y}\n",
    "from scipy import optimize\n",
    "\n",
    "def match_apertures(refx, refy, spotx, spoty):\n",
    "    tot_dist = 0.0\n",
    "    refs = np.array([refx, refy])\n",
    "    spots = np.array([spotx, spoty])\n",
    "    match = np.empty(len(refx))\n",
    "    max_r = spacing / 2.\n",
    "    for i in np.arange(len(refx)):\n",
    "        dists = np.sqrt( (spots[0]-refs[0][i])**2 + (spots[1]-refs[1][i])**2 )\n",
    "        tot_dist += np.min(dists)\n",
    "    return tot_dist\n",
    "\n",
    "def fit_apertures(pars, ref, spots):\n",
    "    xc = pars[0]\n",
    "    yc = pars[1]\n",
    "    xscale = pars[2]\n",
    "    yscale = pars[3]\n",
    "    xcoma = pars[4]\n",
    "    ycoma = pars[5]\n",
    "    refx = ref['xcentroid'] * (xscale + ref['xcentroid'] * xcoma) + xc\n",
    "    refy = ref['ycentroid'] * (yscale + ref['ycentroid'] * ycoma) + yc\n",
    "    spotx = spots['xcentroid']\n",
    "    spoty = spots['ycentroid']\n",
    "    dist = match_apertures(refx, refy, spotx, spoty)\n",
    "    return dist"
   ]
  },
  {
   "cell_type": "code",
   "execution_count": null,
   "metadata": {},
   "outputs": [],
   "source": [
    "#%%timeit\n",
    "args = (refaps, spots)\n",
    "pars = (results['xcen'], results['ycen'], 1.0, 1.0, 0.0, 0.0)\n",
    "bounds = (\n",
    "    (results['xcen']-50, results['xcen']+50), \n",
    "    (results['ycen']-50, results['ycen']+50),\n",
    "    (0.8, 1.2),\n",
    "    (0.8, 1.2),\n",
    "    (-0.1, 0.1),\n",
    "    (-0.1, 0.1)\n",
    ")\n",
    "res = optimize.minimize(fit_apertures, pars, args=args, bounds=bounds)\n",
    "res"
   ]
  },
  {
   "cell_type": "code",
   "execution_count": null,
   "metadata": {},
   "outputs": [],
   "source": [
    "fig, ax = plt.subplots()\n",
    "refx, refy = refaps['xcentroid'], refaps['ycentroid']\n",
    "refx = refx * (res['x'][2] + refx*res['x'][4]) + res['x'][0]\n",
    "refy = refy * (res['x'][3] + refy*res['x'][5]) + res['x'][1]\n",
    "x, y = results['apertures'].positions.transpose()[0], results['apertures'].positions.transpose()[1]\n",
    "ax.scatter(refx, refy)\n",
    "ax.set_aspect('equal')\n",
    "ax.scatter(x, y)\n",
    "ax.set_xlim(0, 845)\n",
    "ax.set_ylim(0, 845)\n",
    "fig.show()"
   ]
  },
  {
   "cell_type": "code",
   "execution_count": null,
   "metadata": {},
   "outputs": [],
   "source": [
    "print(f9wfs.modes['blue']['reference']['xcen'], f9wfs.modes['blue']['reference']['ycen'])\n",
    "print(f9wfs.modes['blue']['reference']['xspacing'], f9wfs.modes['blue']['reference']['yspacing'])\n",
    "f9wfs.modes['blue']['reference'].keys()"
   ]
  },
  {
   "cell_type": "code",
   "execution_count": null,
   "metadata": {},
   "outputs": [],
   "source": [
    "zv = zresults['zernike']\n",
    "print(zv.rms)\n",
    "zv.ignore('Z02')\n",
    "zv.ignore('Z03')\n",
    "f = zv.plot_map()\n",
    "f.show()"
   ]
  },
  {
   "cell_type": "code",
   "execution_count": null,
   "metadata": {},
   "outputs": [],
   "source": [
    "bc = zv.bar_chart(residual=zresults['residual_rms'])\n",
    "bc.show()"
   ]
  },
  {
   "cell_type": "code",
   "execution_count": null,
   "metadata": {},
   "outputs": [],
   "source": [
    "psf, psf_fig = f9wfs.telescope.psf(zv, fov=1.0)\n",
    "psf_fig.show()"
   ]
  },
  {
   "cell_type": "code",
   "execution_count": null,
   "metadata": {},
   "outputs": [],
   "source": [
    "plt.close('all')"
   ]
  },
  {
   "cell_type": "markdown",
   "metadata": {},
   "source": [
    "# F/5 Dev Section"
   ]
  },
  {
   "cell_type": "code",
   "execution_count": 8,
   "metadata": {},
   "outputs": [],
   "source": [
    "f5wfs = WFSFactory(wfs=\"f5\")"
   ]
  },
  {
   "cell_type": "code",
   "execution_count": 11,
   "metadata": {},
   "outputs": [
    {
     "data": {
      "application/vnd.jupyter.widget-view+json": {
       "model_id": "9394f43684ce491daa126c5c0904523a",
       "version_major": 2,
       "version_minor": 0
      },
      "text/html": [
       "<p>Failed to display Jupyter Widget of type <code>FigureCanvasNbAgg</code>.</p>\n",
       "<p>\n",
       "  If you're reading this message in the Jupyter Notebook or JupyterLab Notebook, it may mean\n",
       "  that the widgets JavaScript is still loading. If this message persists, it\n",
       "  likely means that the widgets JavaScript library is either not installed or\n",
       "  not enabled. See the <a href=\"https://ipywidgets.readthedocs.io/en/stable/user_install.html\">Jupyter\n",
       "  Widgets Documentation</a> for setup instructions.\n",
       "</p>\n",
       "<p>\n",
       "  If you're reading this message in another frontend (for example, a static\n",
       "  rendering on GitHub or <a href=\"https://nbviewer.jupyter.org/\">NBViewer</a>),\n",
       "  it may mean that your frontend doesn't currently support widgets.\n",
       "</p>\n"
      ],
      "text/plain": [
       "FigureCanvasNbAgg()"
      ]
     },
     "metadata": {},
     "output_type": "display_data"
    }
   ],
   "source": [
    "#%%prun\n",
    "plt.close('all')\n",
    "f5_file = \"/Users/tim/MMT/wfsdat/20180225/manual_wfs_0026.fits\"\n",
    "#f5_file = \"/Users/tim/MMT/mmtwfs/mmtwfs/data/test_data/auto_wfs_0037_ave.fits\"\n",
    "results = f5wfs.measure_slopes(f5_file, 'hecto', plot=True)\n",
    "results['figures']['slopes'].show()"
   ]
  },
  {
   "cell_type": "code",
   "execution_count": 12,
   "metadata": {},
   "outputs": [
    {
     "name": "stdout",
     "output_type": "stream",
     "text": [
      "Fringe Coefficients\n",
      " Z02:  1.76e+03 nm \t X Tilt (1, 1)\n",
      " Z03:       513 nm \t Y Tilt (1, -1)\n",
      " Z04:       748 nm \t Defocus (2, 0)\n",
      " Z05:       836 nm \t Primary Astig at 45° (2, -2)\n",
      " Z06:  1.14e+03 nm \t Primary Astig at 0° (2, 2)\n",
      " Z07:      -314 nm \t Primary Y Coma (3, -1)\n",
      " Z08:      -942 nm \t Primary X Coma (3, 1)\n",
      " Z09:      28.6 nm \t Y Trefoil (3, -3)\n",
      " Z10:       331 nm \t X Trefoil (3, 3)\n",
      " Z11:      -449 nm \t Primary Spherical (4, 0)\n",
      " Z12:      -213 nm \t Secondary Astigmatism at 0° (4, 2)\n",
      " Z13:       107 nm \t Secondary Astigmatism at 45° (4, -2)\n",
      " Z14:     -51.5 nm \t X Tetrafoil (4, 4)\n",
      " Z15:     -21.8 nm \t Y Tetrafoil (4, -4)\n",
      " Z16:      42.4 nm \t Secondary X Coma (5, 1)\n",
      " Z17:     -10.8 nm \t Secondary Y Coma (5, -1)\n",
      " Z18:       158 nm \t Secondary X Trefoil (5, 3)\n",
      " Z19:       319 nm \t Secondary Y Trefoil (5, -3)\n",
      " Z20:      -116 nm \t X Pentafoil (5, 5)\n",
      " Z21:       409 nm \t Y Pentafoil (5, -5)\n",
      " Z22:       374 nm \t Secondary Spherical (6, 0)\n",
      "\n",
      "864.4833294079041 nm\n"
     ]
    },
    {
     "data": {
      "application/vnd.jupyter.widget-view+json": {
       "model_id": "0ddfba71ccb34fed935e393ed40a7422",
       "version_major": 2,
       "version_minor": 0
      },
      "text/html": [
       "<p>Failed to display Jupyter Widget of type <code>FigureCanvasNbAgg</code>.</p>\n",
       "<p>\n",
       "  If you're reading this message in the Jupyter Notebook or JupyterLab Notebook, it may mean\n",
       "  that the widgets JavaScript is still loading. If this message persists, it\n",
       "  likely means that the widgets JavaScript library is either not installed or\n",
       "  not enabled. See the <a href=\"https://ipywidgets.readthedocs.io/en/stable/user_install.html\">Jupyter\n",
       "  Widgets Documentation</a> for setup instructions.\n",
       "</p>\n",
       "<p>\n",
       "  If you're reading this message in another frontend (for example, a static\n",
       "  rendering on GitHub or <a href=\"https://nbviewer.jupyter.org/\">NBViewer</a>),\n",
       "  it may mean that your frontend doesn't currently support widgets.\n",
       "</p>\n"
      ],
      "text/plain": [
       "FigureCanvasNbAgg()"
      ]
     },
     "metadata": {},
     "output_type": "display_data"
    }
   ],
   "source": [
    "#%%prun\n",
    "zresults = f5wfs.fit_wavefront(results, plot=True)\n",
    "zv = zresults['zernike']\n",
    "print(zv)\n",
    "print(zv.rms)\n",
    "zresults['resid_plot'].show()"
   ]
  },
  {
   "cell_type": "code",
   "execution_count": 215,
   "metadata": {},
   "outputs": [
    {
     "data": {
      "application/vnd.jupyter.widget-view+json": {
       "model_id": "68493e7d33314145b49a5747608dc0a2",
       "version_major": 2,
       "version_minor": 0
      },
      "text/html": [
       "<p>Failed to display Jupyter Widget of type <code>FigureCanvasNbAgg</code>.</p>\n",
       "<p>\n",
       "  If you're reading this message in the Jupyter Notebook or JupyterLab Notebook, it may mean\n",
       "  that the widgets JavaScript is still loading. If this message persists, it\n",
       "  likely means that the widgets JavaScript library is either not installed or\n",
       "  not enabled. See the <a href=\"https://ipywidgets.readthedocs.io/en/stable/user_install.html\">Jupyter\n",
       "  Widgets Documentation</a> for setup instructions.\n",
       "</p>\n",
       "<p>\n",
       "  If you're reading this message in another frontend (for example, a static\n",
       "  rendering on GitHub or <a href=\"https://nbviewer.jupyter.org/\">NBViewer</a>),\n",
       "  it may mean that your frontend doesn't currently support widgets.\n",
       "</p>\n"
      ],
      "text/plain": [
       "FigureCanvasNbAgg()"
      ]
     },
     "metadata": {},
     "output_type": "display_data"
    },
    {
     "data": {
      "text/latex": [
       "$450.51233 \\; \\mathrm{nm}$"
      ],
      "text/plain": [
       "<Quantity 450.51233300962843 nm>"
      ]
     },
     "execution_count": 215,
     "metadata": {},
     "output_type": "execute_result"
    }
   ],
   "source": [
    "zf = zv.fringe_bar_chart()\n",
    "zf.show()\n",
    "zresults['residual_rms']"
   ]
  },
  {
   "cell_type": "code",
   "execution_count": 13,
   "metadata": {
    "slideshow": {
     "slide_type": "-"
    }
   },
   "outputs": [
    {
     "data": {
      "application/vnd.jupyter.widget-view+json": {
       "model_id": "dfa9d281551f42d981d81b109122c23e",
       "version_major": 2,
       "version_minor": 0
      },
      "text/html": [
       "<p>Failed to display Jupyter Widget of type <code>FigureCanvasNbAgg</code>.</p>\n",
       "<p>\n",
       "  If you're reading this message in the Jupyter Notebook or JupyterLab Notebook, it may mean\n",
       "  that the widgets JavaScript is still loading. If this message persists, it\n",
       "  likely means that the widgets JavaScript library is either not installed or\n",
       "  not enabled. See the <a href=\"https://ipywidgets.readthedocs.io/en/stable/user_install.html\">Jupyter\n",
       "  Widgets Documentation</a> for setup instructions.\n",
       "</p>\n",
       "<p>\n",
       "  If you're reading this message in another frontend (for example, a static\n",
       "  rendering on GitHub or <a href=\"https://nbviewer.jupyter.org/\">NBViewer</a>),\n",
       "  it may mean that your frontend doesn't currently support widgets.\n",
       "</p>\n"
      ],
      "text/plain": [
       "FigureCanvasNbAgg()"
      ]
     },
     "metadata": {},
     "output_type": "display_data"
    }
   ],
   "source": [
    "refaps = f5wfs.modes['hecto']['reference'].masked_apertures\n",
    "fig, ax = plt.subplots()\n",
    "fit = results['grid_fit']\n",
    "refx = refaps['xcentroid'] * (fit['scale'] + refaps['xcentroid'] * fit['xcoma']) + results['xcen']\n",
    "refy = refaps['ycentroid'] * (fit['scale'] + refaps['ycentroid'] * fit['ycoma']) + results['ycen']\n",
    "x, y = results['apertures'].positions.transpose()[0], results['apertures'].positions.transpose()[1]\n",
    "spacing = 0.5*(results['xspacing'] + results['yspacing'])\n",
    "ax.scatter(refx, refy)\n",
    "ax.set_aspect('equal')\n",
    "ax.scatter(x, y)\n",
    "ax.set_xlim(0, 512)\n",
    "ax.set_ylim(0, 512)\n",
    "fig.show()"
   ]
  },
  {
   "cell_type": "code",
   "execution_count": 192,
   "metadata": {},
   "outputs": [
    {
     "name": "stdout",
     "output_type": "stream",
     "text": [
      "495.8806264610303 nm\n"
     ]
    },
    {
     "data": {
      "application/vnd.jupyter.widget-view+json": {
       "model_id": "de333c217e854d0eb7b090f6a169c14b",
       "version_major": 2,
       "version_minor": 0
      },
      "text/html": [
       "<p>Failed to display Jupyter Widget of type <code>FigureCanvasNbAgg</code>.</p>\n",
       "<p>\n",
       "  If you're reading this message in the Jupyter Notebook or JupyterLab Notebook, it may mean\n",
       "  that the widgets JavaScript is still loading. If this message persists, it\n",
       "  likely means that the widgets JavaScript library is either not installed or\n",
       "  not enabled. See the <a href=\"https://ipywidgets.readthedocs.io/en/stable/user_install.html\">Jupyter\n",
       "  Widgets Documentation</a> for setup instructions.\n",
       "</p>\n",
       "<p>\n",
       "  If you're reading this message in another frontend (for example, a static\n",
       "  rendering on GitHub or <a href=\"https://nbviewer.jupyter.org/\">NBViewer</a>),\n",
       "  it may mean that your frontend doesn't currently support widgets.\n",
       "</p>\n"
      ],
      "text/plain": [
       "FigureCanvasNbAgg()"
      ]
     },
     "metadata": {},
     "output_type": "display_data"
    }
   ],
   "source": [
    "zv.ignore('Z02')\n",
    "zv.ignore('Z03')\n",
    "zv.ignore('Z04')\n",
    "print(zv.rms)\n",
    "mf = zv.plot_map()\n",
    "mf.show()"
   ]
  },
  {
   "cell_type": "code",
   "execution_count": null,
   "metadata": {},
   "outputs": [],
   "source": [
    "t, m1foc = f5wfs.telescope.calculate_primary_corrections(zresults['zernike'])"
   ]
  },
  {
   "cell_type": "code",
   "execution_count": null,
   "metadata": {},
   "outputs": [],
   "source": [
    "fplot = f5wfs.telescope.plot_forces(t, m1focus=m1foc)\n",
    "fplot.show()"
   ]
  },
  {
   "cell_type": "code",
   "execution_count": null,
   "metadata": {},
   "outputs": [],
   "source": [
    "t.show_in_notebook()"
   ]
  },
  {
   "cell_type": "markdown",
   "metadata": {},
   "source": [
    "# Scratch space"
   ]
  },
  {
   "cell_type": "code",
   "execution_count": null,
   "metadata": {},
   "outputs": [],
   "source": [
    "cen = center_pupil(subt, pup, plot=True)\n",
    "print(cen)\n",
    "plt.show()"
   ]
  },
  {
   "cell_type": "code",
   "execution_count": null,
   "metadata": {},
   "outputs": [],
   "source": [
    "from astropy.io import ascii"
   ]
  },
  {
   "cell_type": "code",
   "execution_count": null,
   "metadata": {},
   "outputs": [],
   "source": [
    "t = f9wfs.telescope\n",
    "m = t.zern_map"
   ]
  },
  {
   "cell_type": "code",
   "execution_count": null,
   "metadata": {},
   "outputs": [],
   "source": [
    "z = np.loadtxt(\"/Users/tim/MMT/wfsdat/20170110/mmirs_wfs_0375.dao.sub.zrn.cor\")\n",
    "z1 = np.loadtxt(\"/Users/tim/MMT/wfsdat/20170110/mmirs_wfs_0375.dao.av.zrn\")"
   ]
  },
  {
   "cell_type": "code",
   "execution_count": null,
   "metadata": {},
   "outputs": [],
   "source": [
    "sigma = results['fwhm'] * stats.funcs.gaussian_fwhm_to_sigma\n",
    "\n",
    "wave = 650 * u.nm\n",
    "wave = wave.to(u.m).value  # r_0 equation expects meters so convert\n",
    "# calculate the physical size of each aperture.\n",
    "ref = mmirs.modes['mmirs2']['reference']\n",
    "apsize_pix = np.max((ref['xspacing'], ref['yspacing']))\n",
    "d = mmirs.telescope.diameter * apsize_pix / mmirs.pup_size\n",
    "d = d.to(u.m).value  # r_0 equation expects meters so convert\n",
    "\n",
    "# we need to deconvolve the instrumental spot width from the measured one\n",
    "ref_sigma = ref['sigma']\n",
    "if sigma > ref_sigma:\n",
    "    corr_sigma = np.sqrt(sigma**2 - ref_sigma**2)\n",
    "else:\n",
    "    corr_sigma = 0.0\n",
    "corr_sigma *= mmirs.pix_size.to(u.rad).value  # r_0 equation expects radians so convert\n",
    "# this equation relates the motion within a single aperture to the characteristic scale size of the\n",
    "# turbulence, r_0.\n",
    "r_0 = ( 0.179 * (wave**2) * (d**(-1./3.))/corr_sigma**2 )**0.6\n",
    "print(r_0)\n",
    "# this equation relates the turbulence scale size to an expected image FWHM at the given wavelength.\n",
    "raw_seeing = u.rad * 0.98 * wave / r_0\n",
    "raw_seeing = raw_seeing.to(u.arcsec)\n"
   ]
  },
  {
   "cell_type": "code",
   "execution_count": 24,
   "metadata": {},
   "outputs": [],
   "source": [
    "t = bino.telescope"
   ]
  },
  {
   "cell_type": "code",
   "execution_count": 48,
   "metadata": {},
   "outputs": [
    {
     "data": {
      "application/javascript": [
       "/* Put everything inside the global mpl namespace */\n",
       "window.mpl = {};\n",
       "\n",
       "\n",
       "mpl.get_websocket_type = function() {\n",
       "    if (typeof(WebSocket) !== 'undefined') {\n",
       "        return WebSocket;\n",
       "    } else if (typeof(MozWebSocket) !== 'undefined') {\n",
       "        return MozWebSocket;\n",
       "    } else {\n",
       "        alert('Your browser does not have WebSocket support.' +\n",
       "              'Please try Chrome, Safari or Firefox ≥ 6. ' +\n",
       "              'Firefox 4 and 5 are also supported but you ' +\n",
       "              'have to enable WebSockets in about:config.');\n",
       "    };\n",
       "}\n",
       "\n",
       "mpl.figure = function(figure_id, websocket, ondownload, parent_element) {\n",
       "    this.id = figure_id;\n",
       "\n",
       "    this.ws = websocket;\n",
       "\n",
       "    this.supports_binary = (this.ws.binaryType != undefined);\n",
       "\n",
       "    if (!this.supports_binary) {\n",
       "        var warnings = document.getElementById(\"mpl-warnings\");\n",
       "        if (warnings) {\n",
       "            warnings.style.display = 'block';\n",
       "            warnings.textContent = (\n",
       "                \"This browser does not support binary websocket messages. \" +\n",
       "                    \"Performance may be slow.\");\n",
       "        }\n",
       "    }\n",
       "\n",
       "    this.imageObj = new Image();\n",
       "\n",
       "    this.context = undefined;\n",
       "    this.message = undefined;\n",
       "    this.canvas = undefined;\n",
       "    this.rubberband_canvas = undefined;\n",
       "    this.rubberband_context = undefined;\n",
       "    this.format_dropdown = undefined;\n",
       "\n",
       "    this.image_mode = 'full';\n",
       "\n",
       "    this.root = $('<div/>');\n",
       "    this._root_extra_style(this.root)\n",
       "    this.root.attr('style', 'display: inline-block');\n",
       "\n",
       "    $(parent_element).append(this.root);\n",
       "\n",
       "    this._init_header(this);\n",
       "    this._init_canvas(this);\n",
       "    this._init_toolbar(this);\n",
       "\n",
       "    var fig = this;\n",
       "\n",
       "    this.waiting = false;\n",
       "\n",
       "    this.ws.onopen =  function () {\n",
       "            fig.send_message(\"supports_binary\", {value: fig.supports_binary});\n",
       "            fig.send_message(\"send_image_mode\", {});\n",
       "            if (mpl.ratio != 1) {\n",
       "                fig.send_message(\"set_dpi_ratio\", {'dpi_ratio': mpl.ratio});\n",
       "            }\n",
       "            fig.send_message(\"refresh\", {});\n",
       "        }\n",
       "\n",
       "    this.imageObj.onload = function() {\n",
       "            if (fig.image_mode == 'full') {\n",
       "                // Full images could contain transparency (where diff images\n",
       "                // almost always do), so we need to clear the canvas so that\n",
       "                // there is no ghosting.\n",
       "                fig.context.clearRect(0, 0, fig.canvas.width, fig.canvas.height);\n",
       "            }\n",
       "            fig.context.drawImage(fig.imageObj, 0, 0);\n",
       "        };\n",
       "\n",
       "    this.imageObj.onunload = function() {\n",
       "        fig.ws.close();\n",
       "    }\n",
       "\n",
       "    this.ws.onmessage = this._make_on_message_function(this);\n",
       "\n",
       "    this.ondownload = ondownload;\n",
       "}\n",
       "\n",
       "mpl.figure.prototype._init_header = function() {\n",
       "    var titlebar = $(\n",
       "        '<div class=\"ui-dialog-titlebar ui-widget-header ui-corner-all ' +\n",
       "        'ui-helper-clearfix\"/>');\n",
       "    var titletext = $(\n",
       "        '<div class=\"ui-dialog-title\" style=\"width: 100%; ' +\n",
       "        'text-align: center; padding: 3px;\"/>');\n",
       "    titlebar.append(titletext)\n",
       "    this.root.append(titlebar);\n",
       "    this.header = titletext[0];\n",
       "}\n",
       "\n",
       "\n",
       "\n",
       "mpl.figure.prototype._canvas_extra_style = function(canvas_div) {\n",
       "\n",
       "}\n",
       "\n",
       "\n",
       "mpl.figure.prototype._root_extra_style = function(canvas_div) {\n",
       "\n",
       "}\n",
       "\n",
       "mpl.figure.prototype._init_canvas = function() {\n",
       "    var fig = this;\n",
       "\n",
       "    var canvas_div = $('<div/>');\n",
       "\n",
       "    canvas_div.attr('style', 'position: relative; clear: both; outline: 0');\n",
       "\n",
       "    function canvas_keyboard_event(event) {\n",
       "        return fig.key_event(event, event['data']);\n",
       "    }\n",
       "\n",
       "    canvas_div.keydown('key_press', canvas_keyboard_event);\n",
       "    canvas_div.keyup('key_release', canvas_keyboard_event);\n",
       "    this.canvas_div = canvas_div\n",
       "    this._canvas_extra_style(canvas_div)\n",
       "    this.root.append(canvas_div);\n",
       "\n",
       "    var canvas = $('<canvas/>');\n",
       "    canvas.addClass('mpl-canvas');\n",
       "    canvas.attr('style', \"left: 0; top: 0; z-index: 0; outline: 0\")\n",
       "\n",
       "    this.canvas = canvas[0];\n",
       "    this.context = canvas[0].getContext(\"2d\");\n",
       "\n",
       "    var backingStore = this.context.backingStorePixelRatio ||\n",
       "\tthis.context.webkitBackingStorePixelRatio ||\n",
       "\tthis.context.mozBackingStorePixelRatio ||\n",
       "\tthis.context.msBackingStorePixelRatio ||\n",
       "\tthis.context.oBackingStorePixelRatio ||\n",
       "\tthis.context.backingStorePixelRatio || 1;\n",
       "\n",
       "    mpl.ratio = (window.devicePixelRatio || 1) / backingStore;\n",
       "\n",
       "    var rubberband = $('<canvas/>');\n",
       "    rubberband.attr('style', \"position: absolute; left: 0; top: 0; z-index: 1;\")\n",
       "\n",
       "    var pass_mouse_events = true;\n",
       "\n",
       "    canvas_div.resizable({\n",
       "        start: function(event, ui) {\n",
       "            pass_mouse_events = false;\n",
       "        },\n",
       "        resize: function(event, ui) {\n",
       "            fig.request_resize(ui.size.width, ui.size.height);\n",
       "        },\n",
       "        stop: function(event, ui) {\n",
       "            pass_mouse_events = true;\n",
       "            fig.request_resize(ui.size.width, ui.size.height);\n",
       "        },\n",
       "    });\n",
       "\n",
       "    function mouse_event_fn(event) {\n",
       "        if (pass_mouse_events)\n",
       "            return fig.mouse_event(event, event['data']);\n",
       "    }\n",
       "\n",
       "    rubberband.mousedown('button_press', mouse_event_fn);\n",
       "    rubberband.mouseup('button_release', mouse_event_fn);\n",
       "    // Throttle sequential mouse events to 1 every 20ms.\n",
       "    rubberband.mousemove('motion_notify', mouse_event_fn);\n",
       "\n",
       "    rubberband.mouseenter('figure_enter', mouse_event_fn);\n",
       "    rubberband.mouseleave('figure_leave', mouse_event_fn);\n",
       "\n",
       "    canvas_div.on(\"wheel\", function (event) {\n",
       "        event = event.originalEvent;\n",
       "        event['data'] = 'scroll'\n",
       "        if (event.deltaY < 0) {\n",
       "            event.step = 1;\n",
       "        } else {\n",
       "            event.step = -1;\n",
       "        }\n",
       "        mouse_event_fn(event);\n",
       "    });\n",
       "\n",
       "    canvas_div.append(canvas);\n",
       "    canvas_div.append(rubberband);\n",
       "\n",
       "    this.rubberband = rubberband;\n",
       "    this.rubberband_canvas = rubberband[0];\n",
       "    this.rubberband_context = rubberband[0].getContext(\"2d\");\n",
       "    this.rubberband_context.strokeStyle = \"#000000\";\n",
       "\n",
       "    this._resize_canvas = function(width, height) {\n",
       "        // Keep the size of the canvas, canvas container, and rubber band\n",
       "        // canvas in synch.\n",
       "        canvas_div.css('width', width)\n",
       "        canvas_div.css('height', height)\n",
       "\n",
       "        canvas.attr('width', width * mpl.ratio);\n",
       "        canvas.attr('height', height * mpl.ratio);\n",
       "        canvas.attr('style', 'width: ' + width + 'px; height: ' + height + 'px;');\n",
       "\n",
       "        rubberband.attr('width', width);\n",
       "        rubberband.attr('height', height);\n",
       "    }\n",
       "\n",
       "    // Set the figure to an initial 600x600px, this will subsequently be updated\n",
       "    // upon first draw.\n",
       "    this._resize_canvas(600, 600);\n",
       "\n",
       "    // Disable right mouse context menu.\n",
       "    $(this.rubberband_canvas).bind(\"contextmenu\",function(e){\n",
       "        return false;\n",
       "    });\n",
       "\n",
       "    function set_focus () {\n",
       "        canvas.focus();\n",
       "        canvas_div.focus();\n",
       "    }\n",
       "\n",
       "    window.setTimeout(set_focus, 100);\n",
       "}\n",
       "\n",
       "mpl.figure.prototype._init_toolbar = function() {\n",
       "    var fig = this;\n",
       "\n",
       "    var nav_element = $('<div/>')\n",
       "    nav_element.attr('style', 'width: 100%');\n",
       "    this.root.append(nav_element);\n",
       "\n",
       "    // Define a callback function for later on.\n",
       "    function toolbar_event(event) {\n",
       "        return fig.toolbar_button_onclick(event['data']);\n",
       "    }\n",
       "    function toolbar_mouse_event(event) {\n",
       "        return fig.toolbar_button_onmouseover(event['data']);\n",
       "    }\n",
       "\n",
       "    for(var toolbar_ind in mpl.toolbar_items) {\n",
       "        var name = mpl.toolbar_items[toolbar_ind][0];\n",
       "        var tooltip = mpl.toolbar_items[toolbar_ind][1];\n",
       "        var image = mpl.toolbar_items[toolbar_ind][2];\n",
       "        var method_name = mpl.toolbar_items[toolbar_ind][3];\n",
       "\n",
       "        if (!name) {\n",
       "            // put a spacer in here.\n",
       "            continue;\n",
       "        }\n",
       "        var button = $('<button/>');\n",
       "        button.addClass('ui-button ui-widget ui-state-default ui-corner-all ' +\n",
       "                        'ui-button-icon-only');\n",
       "        button.attr('role', 'button');\n",
       "        button.attr('aria-disabled', 'false');\n",
       "        button.click(method_name, toolbar_event);\n",
       "        button.mouseover(tooltip, toolbar_mouse_event);\n",
       "\n",
       "        var icon_img = $('<span/>');\n",
       "        icon_img.addClass('ui-button-icon-primary ui-icon');\n",
       "        icon_img.addClass(image);\n",
       "        icon_img.addClass('ui-corner-all');\n",
       "\n",
       "        var tooltip_span = $('<span/>');\n",
       "        tooltip_span.addClass('ui-button-text');\n",
       "        tooltip_span.html(tooltip);\n",
       "\n",
       "        button.append(icon_img);\n",
       "        button.append(tooltip_span);\n",
       "\n",
       "        nav_element.append(button);\n",
       "    }\n",
       "\n",
       "    var fmt_picker_span = $('<span/>');\n",
       "\n",
       "    var fmt_picker = $('<select/>');\n",
       "    fmt_picker.addClass('mpl-toolbar-option ui-widget ui-widget-content');\n",
       "    fmt_picker_span.append(fmt_picker);\n",
       "    nav_element.append(fmt_picker_span);\n",
       "    this.format_dropdown = fmt_picker[0];\n",
       "\n",
       "    for (var ind in mpl.extensions) {\n",
       "        var fmt = mpl.extensions[ind];\n",
       "        var option = $(\n",
       "            '<option/>', {selected: fmt === mpl.default_extension}).html(fmt);\n",
       "        fmt_picker.append(option)\n",
       "    }\n",
       "\n",
       "    // Add hover states to the ui-buttons\n",
       "    $( \".ui-button\" ).hover(\n",
       "        function() { $(this).addClass(\"ui-state-hover\");},\n",
       "        function() { $(this).removeClass(\"ui-state-hover\");}\n",
       "    );\n",
       "\n",
       "    var status_bar = $('<span class=\"mpl-message\"/>');\n",
       "    nav_element.append(status_bar);\n",
       "    this.message = status_bar[0];\n",
       "}\n",
       "\n",
       "mpl.figure.prototype.request_resize = function(x_pixels, y_pixels) {\n",
       "    // Request matplotlib to resize the figure. Matplotlib will then trigger a resize in the client,\n",
       "    // which will in turn request a refresh of the image.\n",
       "    this.send_message('resize', {'width': x_pixels, 'height': y_pixels});\n",
       "}\n",
       "\n",
       "mpl.figure.prototype.send_message = function(type, properties) {\n",
       "    properties['type'] = type;\n",
       "    properties['figure_id'] = this.id;\n",
       "    this.ws.send(JSON.stringify(properties));\n",
       "}\n",
       "\n",
       "mpl.figure.prototype.send_draw_message = function() {\n",
       "    if (!this.waiting) {\n",
       "        this.waiting = true;\n",
       "        this.ws.send(JSON.stringify({type: \"draw\", figure_id: this.id}));\n",
       "    }\n",
       "}\n",
       "\n",
       "\n",
       "mpl.figure.prototype.handle_save = function(fig, msg) {\n",
       "    var format_dropdown = fig.format_dropdown;\n",
       "    var format = format_dropdown.options[format_dropdown.selectedIndex].value;\n",
       "    fig.ondownload(fig, format);\n",
       "}\n",
       "\n",
       "\n",
       "mpl.figure.prototype.handle_resize = function(fig, msg) {\n",
       "    var size = msg['size'];\n",
       "    if (size[0] != fig.canvas.width || size[1] != fig.canvas.height) {\n",
       "        fig._resize_canvas(size[0], size[1]);\n",
       "        fig.send_message(\"refresh\", {});\n",
       "    };\n",
       "}\n",
       "\n",
       "mpl.figure.prototype.handle_rubberband = function(fig, msg) {\n",
       "    var x0 = msg['x0'] / mpl.ratio;\n",
       "    var y0 = (fig.canvas.height - msg['y0']) / mpl.ratio;\n",
       "    var x1 = msg['x1'] / mpl.ratio;\n",
       "    var y1 = (fig.canvas.height - msg['y1']) / mpl.ratio;\n",
       "    x0 = Math.floor(x0) + 0.5;\n",
       "    y0 = Math.floor(y0) + 0.5;\n",
       "    x1 = Math.floor(x1) + 0.5;\n",
       "    y1 = Math.floor(y1) + 0.5;\n",
       "    var min_x = Math.min(x0, x1);\n",
       "    var min_y = Math.min(y0, y1);\n",
       "    var width = Math.abs(x1 - x0);\n",
       "    var height = Math.abs(y1 - y0);\n",
       "\n",
       "    fig.rubberband_context.clearRect(\n",
       "        0, 0, fig.canvas.width, fig.canvas.height);\n",
       "\n",
       "    fig.rubberband_context.strokeRect(min_x, min_y, width, height);\n",
       "}\n",
       "\n",
       "mpl.figure.prototype.handle_figure_label = function(fig, msg) {\n",
       "    // Updates the figure title.\n",
       "    fig.header.textContent = msg['label'];\n",
       "}\n",
       "\n",
       "mpl.figure.prototype.handle_cursor = function(fig, msg) {\n",
       "    var cursor = msg['cursor'];\n",
       "    switch(cursor)\n",
       "    {\n",
       "    case 0:\n",
       "        cursor = 'pointer';\n",
       "        break;\n",
       "    case 1:\n",
       "        cursor = 'default';\n",
       "        break;\n",
       "    case 2:\n",
       "        cursor = 'crosshair';\n",
       "        break;\n",
       "    case 3:\n",
       "        cursor = 'move';\n",
       "        break;\n",
       "    }\n",
       "    fig.rubberband_canvas.style.cursor = cursor;\n",
       "}\n",
       "\n",
       "mpl.figure.prototype.handle_message = function(fig, msg) {\n",
       "    fig.message.textContent = msg['message'];\n",
       "}\n",
       "\n",
       "mpl.figure.prototype.handle_draw = function(fig, msg) {\n",
       "    // Request the server to send over a new figure.\n",
       "    fig.send_draw_message();\n",
       "}\n",
       "\n",
       "mpl.figure.prototype.handle_image_mode = function(fig, msg) {\n",
       "    fig.image_mode = msg['mode'];\n",
       "}\n",
       "\n",
       "mpl.figure.prototype.updated_canvas_event = function() {\n",
       "    // Called whenever the canvas gets updated.\n",
       "    this.send_message(\"ack\", {});\n",
       "}\n",
       "\n",
       "// A function to construct a web socket function for onmessage handling.\n",
       "// Called in the figure constructor.\n",
       "mpl.figure.prototype._make_on_message_function = function(fig) {\n",
       "    return function socket_on_message(evt) {\n",
       "        if (evt.data instanceof Blob) {\n",
       "            /* FIXME: We get \"Resource interpreted as Image but\n",
       "             * transferred with MIME type text/plain:\" errors on\n",
       "             * Chrome.  But how to set the MIME type?  It doesn't seem\n",
       "             * to be part of the websocket stream */\n",
       "            evt.data.type = \"image/png\";\n",
       "\n",
       "            /* Free the memory for the previous frames */\n",
       "            if (fig.imageObj.src) {\n",
       "                (window.URL || window.webkitURL).revokeObjectURL(\n",
       "                    fig.imageObj.src);\n",
       "            }\n",
       "\n",
       "            fig.imageObj.src = (window.URL || window.webkitURL).createObjectURL(\n",
       "                evt.data);\n",
       "            fig.updated_canvas_event();\n",
       "            fig.waiting = false;\n",
       "            return;\n",
       "        }\n",
       "        else if (typeof evt.data === 'string' && evt.data.slice(0, 21) == \"data:image/png;base64\") {\n",
       "            fig.imageObj.src = evt.data;\n",
       "            fig.updated_canvas_event();\n",
       "            fig.waiting = false;\n",
       "            return;\n",
       "        }\n",
       "\n",
       "        var msg = JSON.parse(evt.data);\n",
       "        var msg_type = msg['type'];\n",
       "\n",
       "        // Call the  \"handle_{type}\" callback, which takes\n",
       "        // the figure and JSON message as its only arguments.\n",
       "        try {\n",
       "            var callback = fig[\"handle_\" + msg_type];\n",
       "        } catch (e) {\n",
       "            console.log(\"No handler for the '\" + msg_type + \"' message type: \", msg);\n",
       "            return;\n",
       "        }\n",
       "\n",
       "        if (callback) {\n",
       "            try {\n",
       "                // console.log(\"Handling '\" + msg_type + \"' message: \", msg);\n",
       "                callback(fig, msg);\n",
       "            } catch (e) {\n",
       "                console.log(\"Exception inside the 'handler_\" + msg_type + \"' callback:\", e, e.stack, msg);\n",
       "            }\n",
       "        }\n",
       "    };\n",
       "}\n",
       "\n",
       "// from http://stackoverflow.com/questions/1114465/getting-mouse-location-in-canvas\n",
       "mpl.findpos = function(e) {\n",
       "    //this section is from http://www.quirksmode.org/js/events_properties.html\n",
       "    var targ;\n",
       "    if (!e)\n",
       "        e = window.event;\n",
       "    if (e.target)\n",
       "        targ = e.target;\n",
       "    else if (e.srcElement)\n",
       "        targ = e.srcElement;\n",
       "    if (targ.nodeType == 3) // defeat Safari bug\n",
       "        targ = targ.parentNode;\n",
       "\n",
       "    // jQuery normalizes the pageX and pageY\n",
       "    // pageX,Y are the mouse positions relative to the document\n",
       "    // offset() returns the position of the element relative to the document\n",
       "    var x = e.pageX - $(targ).offset().left;\n",
       "    var y = e.pageY - $(targ).offset().top;\n",
       "\n",
       "    return {\"x\": x, \"y\": y};\n",
       "};\n",
       "\n",
       "/*\n",
       " * return a copy of an object with only non-object keys\n",
       " * we need this to avoid circular references\n",
       " * http://stackoverflow.com/a/24161582/3208463\n",
       " */\n",
       "function simpleKeys (original) {\n",
       "  return Object.keys(original).reduce(function (obj, key) {\n",
       "    if (typeof original[key] !== 'object')\n",
       "        obj[key] = original[key]\n",
       "    return obj;\n",
       "  }, {});\n",
       "}\n",
       "\n",
       "mpl.figure.prototype.mouse_event = function(event, name) {\n",
       "    var canvas_pos = mpl.findpos(event)\n",
       "\n",
       "    if (name === 'button_press')\n",
       "    {\n",
       "        this.canvas.focus();\n",
       "        this.canvas_div.focus();\n",
       "    }\n",
       "\n",
       "    var x = canvas_pos.x * mpl.ratio;\n",
       "    var y = canvas_pos.y * mpl.ratio;\n",
       "\n",
       "    this.send_message(name, {x: x, y: y, button: event.button,\n",
       "                             step: event.step,\n",
       "                             guiEvent: simpleKeys(event)});\n",
       "\n",
       "    /* This prevents the web browser from automatically changing to\n",
       "     * the text insertion cursor when the button is pressed.  We want\n",
       "     * to control all of the cursor setting manually through the\n",
       "     * 'cursor' event from matplotlib */\n",
       "    event.preventDefault();\n",
       "    return false;\n",
       "}\n",
       "\n",
       "mpl.figure.prototype._key_event_extra = function(event, name) {\n",
       "    // Handle any extra behaviour associated with a key event\n",
       "}\n",
       "\n",
       "mpl.figure.prototype.key_event = function(event, name) {\n",
       "\n",
       "    // Prevent repeat events\n",
       "    if (name == 'key_press')\n",
       "    {\n",
       "        if (event.which === this._key)\n",
       "            return;\n",
       "        else\n",
       "            this._key = event.which;\n",
       "    }\n",
       "    if (name == 'key_release')\n",
       "        this._key = null;\n",
       "\n",
       "    var value = '';\n",
       "    if (event.ctrlKey && event.which != 17)\n",
       "        value += \"ctrl+\";\n",
       "    if (event.altKey && event.which != 18)\n",
       "        value += \"alt+\";\n",
       "    if (event.shiftKey && event.which != 16)\n",
       "        value += \"shift+\";\n",
       "\n",
       "    value += 'k';\n",
       "    value += event.which.toString();\n",
       "\n",
       "    this._key_event_extra(event, name);\n",
       "\n",
       "    this.send_message(name, {key: value,\n",
       "                             guiEvent: simpleKeys(event)});\n",
       "    return false;\n",
       "}\n",
       "\n",
       "mpl.figure.prototype.toolbar_button_onclick = function(name) {\n",
       "    if (name == 'download') {\n",
       "        this.handle_save(this, null);\n",
       "    } else {\n",
       "        this.send_message(\"toolbar_button\", {name: name});\n",
       "    }\n",
       "};\n",
       "\n",
       "mpl.figure.prototype.toolbar_button_onmouseover = function(tooltip) {\n",
       "    this.message.textContent = tooltip;\n",
       "};\n",
       "mpl.toolbar_items = [[\"Home\", \"Reset original view\", \"fa fa-home icon-home\", \"home\"], [\"Back\", \"Back to  previous view\", \"fa fa-arrow-left icon-arrow-left\", \"back\"], [\"Forward\", \"Forward to next view\", \"fa fa-arrow-right icon-arrow-right\", \"forward\"], [\"\", \"\", \"\", \"\"], [\"Pan\", \"Pan axes with left mouse, zoom with right\", \"fa fa-arrows icon-move\", \"pan\"], [\"Zoom\", \"Zoom to rectangle\", \"fa fa-square-o icon-check-empty\", \"zoom\"], [\"\", \"\", \"\", \"\"], [\"Download\", \"Download plot\", \"fa fa-floppy-o icon-save\", \"download\"]];\n",
       "\n",
       "mpl.extensions = [\"eps\", \"jpeg\", \"pdf\", \"png\", \"ps\", \"raw\", \"svg\", \"tif\"];\n",
       "\n",
       "mpl.default_extension = \"png\";var comm_websocket_adapter = function(comm) {\n",
       "    // Create a \"websocket\"-like object which calls the given IPython comm\n",
       "    // object with the appropriate methods. Currently this is a non binary\n",
       "    // socket, so there is still some room for performance tuning.\n",
       "    var ws = {};\n",
       "\n",
       "    ws.close = function() {\n",
       "        comm.close()\n",
       "    };\n",
       "    ws.send = function(m) {\n",
       "        //console.log('sending', m);\n",
       "        comm.send(m);\n",
       "    };\n",
       "    // Register the callback with on_msg.\n",
       "    comm.on_msg(function(msg) {\n",
       "        //console.log('receiving', msg['content']['data'], msg);\n",
       "        // Pass the mpl event to the overriden (by mpl) onmessage function.\n",
       "        ws.onmessage(msg['content']['data'])\n",
       "    });\n",
       "    return ws;\n",
       "}\n",
       "\n",
       "mpl.mpl_figure_comm = function(comm, msg) {\n",
       "    // This is the function which gets called when the mpl process\n",
       "    // starts-up an IPython Comm through the \"matplotlib\" channel.\n",
       "\n",
       "    var id = msg.content.data.id;\n",
       "    // Get hold of the div created by the display call when the Comm\n",
       "    // socket was opened in Python.\n",
       "    var element = $(\"#\" + id);\n",
       "    var ws_proxy = comm_websocket_adapter(comm)\n",
       "\n",
       "    function ondownload(figure, format) {\n",
       "        window.open(figure.imageObj.src);\n",
       "    }\n",
       "\n",
       "    var fig = new mpl.figure(id, ws_proxy,\n",
       "                           ondownload,\n",
       "                           element.get(0));\n",
       "\n",
       "    // Call onopen now - mpl needs it, as it is assuming we've passed it a real\n",
       "    // web socket which is closed, not our websocket->open comm proxy.\n",
       "    ws_proxy.onopen();\n",
       "\n",
       "    fig.parent_element = element.get(0);\n",
       "    fig.cell_info = mpl.find_output_cell(\"<div id='\" + id + \"'></div>\");\n",
       "    if (!fig.cell_info) {\n",
       "        console.error(\"Failed to find cell for figure\", id, fig);\n",
       "        return;\n",
       "    }\n",
       "\n",
       "    var output_index = fig.cell_info[2]\n",
       "    var cell = fig.cell_info[0];\n",
       "\n",
       "};\n",
       "\n",
       "mpl.figure.prototype.handle_close = function(fig, msg) {\n",
       "    var width = fig.canvas.width/mpl.ratio\n",
       "    fig.root.unbind('remove')\n",
       "\n",
       "    // Update the output cell to use the data from the current canvas.\n",
       "    fig.push_to_output();\n",
       "    var dataURL = fig.canvas.toDataURL();\n",
       "    // Re-enable the keyboard manager in IPython - without this line, in FF,\n",
       "    // the notebook keyboard shortcuts fail.\n",
       "    IPython.keyboard_manager.enable()\n",
       "    $(fig.parent_element).html('<img src=\"' + dataURL + '\" width=\"' + width + '\">');\n",
       "    fig.close_ws(fig, msg);\n",
       "}\n",
       "\n",
       "mpl.figure.prototype.close_ws = function(fig, msg){\n",
       "    fig.send_message('closing', msg);\n",
       "    // fig.ws.close()\n",
       "}\n",
       "\n",
       "mpl.figure.prototype.push_to_output = function(remove_interactive) {\n",
       "    // Turn the data on the canvas into data in the output cell.\n",
       "    var width = this.canvas.width/mpl.ratio\n",
       "    var dataURL = this.canvas.toDataURL();\n",
       "    this.cell_info[1]['text/html'] = '<img src=\"' + dataURL + '\" width=\"' + width + '\">';\n",
       "}\n",
       "\n",
       "mpl.figure.prototype.updated_canvas_event = function() {\n",
       "    // Tell IPython that the notebook contents must change.\n",
       "    IPython.notebook.set_dirty(true);\n",
       "    this.send_message(\"ack\", {});\n",
       "    var fig = this;\n",
       "    // Wait a second, then push the new image to the DOM so\n",
       "    // that it is saved nicely (might be nice to debounce this).\n",
       "    setTimeout(function () { fig.push_to_output() }, 1000);\n",
       "}\n",
       "\n",
       "mpl.figure.prototype._init_toolbar = function() {\n",
       "    var fig = this;\n",
       "\n",
       "    var nav_element = $('<div/>')\n",
       "    nav_element.attr('style', 'width: 100%');\n",
       "    this.root.append(nav_element);\n",
       "\n",
       "    // Define a callback function for later on.\n",
       "    function toolbar_event(event) {\n",
       "        return fig.toolbar_button_onclick(event['data']);\n",
       "    }\n",
       "    function toolbar_mouse_event(event) {\n",
       "        return fig.toolbar_button_onmouseover(event['data']);\n",
       "    }\n",
       "\n",
       "    for(var toolbar_ind in mpl.toolbar_items){\n",
       "        var name = mpl.toolbar_items[toolbar_ind][0];\n",
       "        var tooltip = mpl.toolbar_items[toolbar_ind][1];\n",
       "        var image = mpl.toolbar_items[toolbar_ind][2];\n",
       "        var method_name = mpl.toolbar_items[toolbar_ind][3];\n",
       "\n",
       "        if (!name) { continue; };\n",
       "\n",
       "        var button = $('<button class=\"btn btn-default\" href=\"#\" title=\"' + name + '\"><i class=\"fa ' + image + ' fa-lg\"></i></button>');\n",
       "        button.click(method_name, toolbar_event);\n",
       "        button.mouseover(tooltip, toolbar_mouse_event);\n",
       "        nav_element.append(button);\n",
       "    }\n",
       "\n",
       "    // Add the status bar.\n",
       "    var status_bar = $('<span class=\"mpl-message\" style=\"text-align:right; float: right;\"/>');\n",
       "    nav_element.append(status_bar);\n",
       "    this.message = status_bar[0];\n",
       "\n",
       "    // Add the close button to the window.\n",
       "    var buttongrp = $('<div class=\"btn-group inline pull-right\"></div>');\n",
       "    var button = $('<button class=\"btn btn-mini btn-primary\" href=\"#\" title=\"Stop Interaction\"><i class=\"fa fa-power-off icon-remove icon-large\"></i></button>');\n",
       "    button.click(function (evt) { fig.handle_close(fig, {}); } );\n",
       "    button.mouseover('Stop Interaction', toolbar_mouse_event);\n",
       "    buttongrp.append(button);\n",
       "    var titlebar = this.root.find($('.ui-dialog-titlebar'));\n",
       "    titlebar.prepend(buttongrp);\n",
       "}\n",
       "\n",
       "mpl.figure.prototype._root_extra_style = function(el){\n",
       "    var fig = this\n",
       "    el.on(\"remove\", function(){\n",
       "\tfig.close_ws(fig, {});\n",
       "    });\n",
       "}\n",
       "\n",
       "mpl.figure.prototype._canvas_extra_style = function(el){\n",
       "    // this is important to make the div 'focusable\n",
       "    el.attr('tabindex', 0)\n",
       "    // reach out to IPython and tell the keyboard manager to turn it's self\n",
       "    // off when our div gets focus\n",
       "\n",
       "    // location in version 3\n",
       "    if (IPython.notebook.keyboard_manager) {\n",
       "        IPython.notebook.keyboard_manager.register_events(el);\n",
       "    }\n",
       "    else {\n",
       "        // location in version 2\n",
       "        IPython.keyboard_manager.register_events(el);\n",
       "    }\n",
       "\n",
       "}\n",
       "\n",
       "mpl.figure.prototype._key_event_extra = function(event, name) {\n",
       "    var manager = IPython.notebook.keyboard_manager;\n",
       "    if (!manager)\n",
       "        manager = IPython.keyboard_manager;\n",
       "\n",
       "    // Check for shift+enter\n",
       "    if (event.shiftKey && event.which == 13) {\n",
       "        this.canvas_div.blur();\n",
       "        event.shiftKey = false;\n",
       "        // Send a \"J\" for go to next cell\n",
       "        event.which = 74;\n",
       "        event.keyCode = 74;\n",
       "        manager.command_mode();\n",
       "        manager.handle_keydown(event);\n",
       "    }\n",
       "}\n",
       "\n",
       "mpl.figure.prototype.handle_save = function(fig, msg) {\n",
       "    fig.ondownload(fig, null);\n",
       "}\n",
       "\n",
       "\n",
       "mpl.find_output_cell = function(html_output) {\n",
       "    // Return the cell and output element which can be found *uniquely* in the notebook.\n",
       "    // Note - this is a bit hacky, but it is done because the \"notebook_saving.Notebook\"\n",
       "    // IPython event is triggered only after the cells have been serialised, which for\n",
       "    // our purposes (turning an active figure into a static one), is too late.\n",
       "    var cells = IPython.notebook.get_cells();\n",
       "    var ncells = cells.length;\n",
       "    for (var i=0; i<ncells; i++) {\n",
       "        var cell = cells[i];\n",
       "        if (cell.cell_type === 'code'){\n",
       "            for (var j=0; j<cell.output_area.outputs.length; j++) {\n",
       "                var data = cell.output_area.outputs[j];\n",
       "                if (data.data) {\n",
       "                    // IPython >= 3 moved mimebundle to data attribute of output\n",
       "                    data = data.data;\n",
       "                }\n",
       "                if (data['text/html'] == html_output) {\n",
       "                    return [cell, data, j];\n",
       "                }\n",
       "            }\n",
       "        }\n",
       "    }\n",
       "}\n",
       "\n",
       "// Register the function which deals with the matplotlib target/channel.\n",
       "// The kernel may be null if the page has been refreshed.\n",
       "if (IPython.notebook.kernel != null) {\n",
       "    IPython.notebook.kernel.comm_manager.register_target('matplotlib', mpl.mpl_figure_comm);\n",
       "}\n"
      ],
      "text/plain": [
       "<IPython.core.display.Javascript object>"
      ]
     },
     "metadata": {},
     "output_type": "display_data"
    },
    {
     "data": {
      "text/html": [
       "<img src=\"data:image/png;base64,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\" width=\"640\">"
      ],
      "text/plain": [
       "<IPython.core.display.HTML object>"
      ]
     },
     "metadata": {},
     "output_type": "display_data"
    }
   ],
   "source": [
    "z = ZernikeVector(Z11=-1000*u.nm)\n",
    "z.plot_map()\n",
    "plt.show()"
   ]
  },
  {
   "cell_type": "code",
   "execution_count": 49,
   "metadata": {},
   "outputs": [],
   "source": [
    "ft, m1, zv_masked = t.calculate_primary_corrections(z)"
   ]
  },
  {
   "cell_type": "code",
   "execution_count": 51,
   "metadata": {},
   "outputs": [
    {
     "data": {
      "text/plain": [
       "-50.981850641468974"
      ]
     },
     "execution_count": 51,
     "metadata": {},
     "output_type": "execute_result"
    }
   ],
   "source": [
    "ft['force'].min()"
   ]
  },
  {
   "cell_type": "code",
   "execution_count": 52,
   "metadata": {},
   "outputs": [
    {
     "data": {
      "text/latex": [
       "$73.529412 \\; \\mathrm{\\mu m}$"
      ],
      "text/plain": [
       "<Quantity 73.52941176470588 um>"
      ]
     },
     "execution_count": 52,
     "metadata": {},
     "output_type": "execute_result"
    }
   ],
   "source": [
    "m1"
   ]
  },
  {
   "cell_type": "code",
   "execution_count": null,
   "metadata": {},
   "outputs": [],
   "source": [
    "derot_phi = phi - u.Quantity(225*u.deg, u.rad).value\n",
    "pol2cart([dr, derot_phi])"
   ]
  },
  {
   "cell_type": "code",
   "execution_count": null,
   "metadata": {},
   "outputs": [],
   "source": [
    "u.Quantity(225*u.deg, u.rad).value"
   ]
  },
  {
   "cell_type": "code",
   "execution_count": null,
   "metadata": {},
   "outputs": [],
   "source": [
    "dx, dy"
   ]
  },
  {
   "cell_type": "code",
   "execution_count": null,
   "metadata": {},
   "outputs": [],
   "source": [
    "t = mmirs.telescope\n",
    "zv = ZernikeVector(Z05=1000, Z11=250)\n",
    "force, focus = t.correct_primary(zv)\n",
    "f1 = focus.copy()\n",
    "uforce, ufocus = t.undo_last()\n",
    "print(ufocus)\n",
    "print(f1)\n",
    "assert(ufocus == -1 * f1)"
   ]
  },
  {
   "cell_type": "code",
   "execution_count": null,
   "metadata": {},
   "outputs": [],
   "source": [
    "focus.copy()"
   ]
  },
  {
   "cell_type": "code",
   "execution_count": null,
   "metadata": {},
   "outputs": [],
   "source": [
    "np.allclose(np.zeros(2), 0.0)"
   ]
  },
  {
   "cell_type": "code",
   "execution_count": null,
   "metadata": {},
   "outputs": [],
   "source": [
    "s = \"offset_inc wfs z 200.3\"\n",
    "assert(\"200.3\" in s)"
   ]
  },
  {
   "cell_type": "code",
   "execution_count": null,
   "metadata": {},
   "outputs": [],
   "source": [
    "fig, ax = plt.subplots()"
   ]
  },
  {
   "cell_type": "code",
   "execution_count": null,
   "metadata": {},
   "outputs": [],
   "source": [
    "ax.imshow(results['data'], cmap=cm.Greys)\n",
    "fig.savefig(\"test.png\")"
   ]
  },
  {
   "cell_type": "code",
   "execution_count": null,
   "metadata": {},
   "outputs": [],
   "source": [
    "a = fig.axes[0]"
   ]
  },
  {
   "cell_type": "code",
   "execution_count": null,
   "metadata": {},
   "outputs": [],
   "source": [
    "fig.show()"
   ]
  },
  {
   "cell_type": "code",
   "execution_count": null,
   "metadata": {},
   "outputs": [],
   "source": [
    "\"{0:0.0f}\".format((550 * u.nm))"
   ]
  },
  {
   "cell_type": "code",
   "execution_count": null,
   "metadata": {},
   "outputs": [],
   "source": [
    "x, y, r, p, ph = zvec.phase_map(n=100)\n",
    "i = np.argsort(x)"
   ]
  },
  {
   "cell_type": "code",
   "execution_count": null,
   "metadata": {},
   "outputs": [],
   "source": [
    "from plotly.offline import download_plotlyjs, init_notebook_mode, plot, iplot\n",
    "import plotly.graph_objs as go\n",
    "init_notebook_mode(connected=True)"
   ]
  },
  {
   "cell_type": "code",
   "execution_count": null,
   "metadata": {},
   "outputs": [],
   "source": [
    "data = [go.Heatmap(z=np.array(ph[i]), x=x[i], y=y[i], colorscale='RdBu')]\n",
    "layout = go.Layout(title=\"test\")\n",
    "fig = go.Figure(data=data, layout=layout)\n",
    "plot(fig, filename=\"blah\")"
   ]
  },
  {
   "cell_type": "code",
   "execution_count": null,
   "metadata": {},
   "outputs": [],
   "source": [
    "np.min(ph)"
   ]
  },
  {
   "cell_type": "code",
   "execution_count": null,
   "metadata": {},
   "outputs": [],
   "source": [
    "0.119 * 5.4*3/20"
   ]
  },
  {
   "cell_type": "code",
   "execution_count": null,
   "metadata": {},
   "outputs": [],
   "source": [
    "if 'HOME' in os.environ:\n",
    "    print('y')"
   ]
  },
  {
   "cell_type": "code",
   "execution_count": null,
   "metadata": {},
   "outputs": [],
   "source": [
    "np.zeros((512, 512)).shape"
   ]
  },
  {
   "cell_type": "code",
   "execution_count": null,
   "metadata": {},
   "outputs": [],
   "source": [
    "zv = ZernikeVector()"
   ]
  },
  {
   "cell_type": "code",
   "execution_count": null,
   "metadata": {},
   "outputs": [],
   "source": [
    "zv.plot_map()"
   ]
  },
  {
   "cell_type": "code",
   "execution_count": null,
   "metadata": {},
   "outputs": [],
   "source": [
    "t = MMT()\n",
    "zv = ZernikeVector(Z05=1000, Z11=250)\n",
    "force, focus = t.calculate_primary_corrections(zv)"
   ]
  },
  {
   "cell_type": "code",
   "execution_count": null,
   "metadata": {},
   "outputs": [],
   "source": [
    "lforce, lfocus = t.correct_primary(force, focus)"
   ]
  },
  {
   "cell_type": "code",
   "execution_count": null,
   "metadata": {},
   "outputs": [],
   "source": [
    "uforce, ufocus = t.undo_last()"
   ]
  },
  {
   "cell_type": "code",
   "execution_count": null,
   "metadata": {},
   "outputs": [],
   "source": [
    "focus, lfocus, ufocus"
   ]
  },
  {
   "cell_type": "code",
   "execution_count": null,
   "metadata": {},
   "outputs": [],
   "source": [
    "newf9 = WFSFactory(wfs=\"newf9\")"
   ]
  },
  {
   "cell_type": "code",
   "execution_count": null,
   "metadata": {},
   "outputs": [],
   "source": [
    "newf9.modes['blue']['reference']"
   ]
  },
  {
   "cell_type": "code",
   "execution_count": null,
   "metadata": {},
   "outputs": [],
   "source": [
    "x = newf9.modes['blue']['reference']['apertures']['xcentroid'] + newf9.modes['blue']['reference']['xcen']"
   ]
  },
  {
   "cell_type": "code",
   "execution_count": null,
   "metadata": {},
   "outputs": [],
   "source": [
    "y = newf9.modes['blue']['reference']['apertures']['ycentroid'] + newf9.modes['blue']['reference']['ycen']"
   ]
  },
  {
   "cell_type": "code",
   "execution_count": null,
   "metadata": {},
   "outputs": [],
   "source": [
    "arr = np.array((x.data, y.data)).transpose()"
   ]
  },
  {
   "cell_type": "code",
   "execution_count": null,
   "metadata": {},
   "outputs": [],
   "source": [
    "np.savetxt(\"blah.txt\", arr, fmt=\"%.3f\")"
   ]
  },
  {
   "cell_type": "code",
   "execution_count": null,
   "metadata": {},
   "outputs": [],
   "source": [
    "np.savetxt?"
   ]
  },
  {
   "cell_type": "code",
   "execution_count": null,
   "metadata": {},
   "outputs": [],
   "source": []
  },
  {
   "cell_type": "code",
   "execution_count": null,
   "metadata": {},
   "outputs": [],
   "source": [
    "x, y = 405, 445\n",
    "xnew, ynew = 438, 469\n",
    "xref, yref = 433, 431\n",
    "pixsize = 0.09639\n",
    "\n",
    "rot = u.Quantity(-225 * u.deg, u.rad).value\n",
    "\n",
    "dx = x - xref\n",
    "dy = y - yref\n",
    "\n",
    "dr, phi = cart2pol([dx, dy])\n",
    "\n",
    "derot_phi = phi - rot\n",
    "\n",
    "az, el = pol2cart([dr, derot_phi])\n",
    "print(az, el)"
   ]
  },
  {
   "cell_type": "code",
   "execution_count": null,
   "metadata": {},
   "outputs": [],
   "source": [
    "x, y = 405, 445\n",
    "xnew, ynew = 438, 469\n",
    "xref, yref = 433, 431\n",
    "pixsize = 0.09639\n",
    "\n",
    "rot = u.Quantity(-225 * u.deg, u.rad).value\n",
    "\n",
    "dx = 1 * (x - xref)\n",
    "dy = 1 * (y - yref)\n",
    "\n",
    "dr, phi = cart2pol([dx, dy])\n",
    "\n",
    "derot_phi = phi - rot\n",
    "\n",
    "az, el = pol2cart([dr, derot_phi])\n",
    "print(az, el)"
   ]
  },
  {
   "cell_type": "code",
   "execution_count": null,
   "metadata": {},
   "outputs": [],
   "source": [
    "azcorr = 3.0 / pixsize\n",
    "elcorr = 0.9 / pixsize\n",
    "drc, phic = cart2pol([azcorr, elcorr])\n",
    "derot_phic = phic + rot\n",
    "az_pix, el_pix = pol2cart([drc, derot_phic])\n",
    "print(az_pix, el_pix)"
   ]
  },
  {
   "cell_type": "code",
   "execution_count": null,
   "metadata": {},
   "outputs": [],
   "source": [
    "a = np.arange(5)"
   ]
  },
  {
   "cell_type": "code",
   "execution_count": null,
   "metadata": {},
   "outputs": [],
   "source": [
    "np.delete(a, 2)"
   ]
  },
  {
   "cell_type": "code",
   "execution_count": 6,
   "metadata": {},
   "outputs": [
    {
     "data": {
      "text/plain": [
       "-500"
      ]
     },
     "execution_count": 6,
     "metadata": {},
     "output_type": "execute_result"
    }
   ],
   "source": [
    "2320-2820"
   ]
  },
  {
   "cell_type": "code",
   "execution_count": null,
   "metadata": {},
   "outputs": [],
   "source": []
  }
 ],
 "metadata": {
  "kernelspec": {
   "display_name": "Python 3",
   "language": "python",
   "name": "python3"
  },
  "language_info": {
   "codemirror_mode": {
    "name": "ipython",
    "version": 3
   },
   "file_extension": ".py",
   "mimetype": "text/x-python",
   "name": "python",
   "nbconvert_exporter": "python",
   "pygments_lexer": "ipython3",
   "version": "3.6.4"
  }
 },
 "nbformat": 4,
 "nbformat_minor": 2
}
