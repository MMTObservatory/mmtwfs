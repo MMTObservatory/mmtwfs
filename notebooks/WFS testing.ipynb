{
 "cells": [
  {
   "cell_type": "code",
   "execution_count": 1,
   "metadata": {},
   "outputs": [],
   "source": [
    "import time\n",
    "import os\n",
    "import sys\n",
    "import numpy as np\n",
    "import matplotlib\n",
    "matplotlib.use('nbagg')\n",
    "#from matplotlib import style\n",
    "#style.use('ggplot')\n",
    "import matplotlib.pyplot as plt\n",
    "\n",
    "%load_ext autoreload\n",
    "%autoreload 2\n",
    "\n",
    "import astropy.units as u\n",
    "from astropy import stats\n",
    "from astropy.io import fits\n",
    "from mmtwfs.wfs import *\n",
    "from mmtwfs.zernike import ZernikeVector\n",
    "from mmtwfs.telescope import MMT"
   ]
  },
  {
   "cell_type": "markdown",
   "metadata": {},
   "source": [
    "# Binospec Dev Section"
   ]
  },
  {
   "cell_type": "code",
   "execution_count": null,
   "metadata": {
    "collapsed": true
   },
   "outputs": [],
   "source": [
    "bino = WFSFactory(wfs=\"binospec\")"
   ]
  },
  {
   "cell_type": "code",
   "execution_count": null,
   "metadata": {},
   "outputs": [],
   "source": [
    "bino.modes['binospec']['reference']['figure'].show()"
   ]
  },
  {
   "cell_type": "code",
   "execution_count": null,
   "metadata": {},
   "outputs": [],
   "source": [
    "bino.modes['binospec']['reference']['xspacing'], bino.modes['binospec']['reference']['yspacing']"
   ]
  },
  {
   "cell_type": "code",
   "execution_count": null,
   "metadata": {},
   "outputs": [],
   "source": [
    "bino.modes['binospec']['reference']['apertures']"
   ]
  },
  {
   "cell_type": "markdown",
   "metadata": {},
   "source": [
    "# MMIRS Dev Section"
   ]
  },
  {
   "cell_type": "code",
   "execution_count": null,
   "metadata": {
    "collapsed": true
   },
   "outputs": [],
   "source": [
    "mmirs = WFSFactory(wfs=\"mmirs\")"
   ]
  },
  {
   "cell_type": "code",
   "execution_count": null,
   "metadata": {},
   "outputs": [],
   "source": [
    "mmirs.modes['mmirs1']['reference']['figure'].show()"
   ]
  },
  {
   "cell_type": "code",
   "execution_count": null,
   "metadata": {},
   "outputs": [],
   "source": [
    "mmirs.modes['mmirs1']['reference']['xspacing'], mmirs.modes['mmirs1']['reference']['yspacing']"
   ]
  },
  {
   "cell_type": "code",
   "execution_count": null,
   "metadata": {},
   "outputs": [],
   "source": [
    "print(mmirs.modes['mmirs1']['reference']['fwhm'])\n",
    "\n",
    "spot = mmirs.modes['mmirs1']['reference']['spot']\n",
    "model = Gaussian2D(amplitude=spot.max(), x_mean=spot.shape[1]/2, y_mean=spot.shape[0]/2) + Polynomial2D(degree=0)\n",
    "#model = Gaussian2D(amplitude=spot.max(), x_mean=spot.shape[1]/2, y_mean=spot.shape[0]/2)\n",
    "fitter = LevMarLSQFitter()\n",
    "y, x = np.mgrid[:spot.shape[0], :spot.shape[1]]\n",
    "fit = fitter(model, x, y, spot)\n",
    "fig, ax = plt.subplots()\n",
    "ax.imshow(mmirs.modes['mmirs1']['reference']['spot'] - fit(x, y))\n",
    "fig.show()"
   ]
  },
  {
   "cell_type": "code",
   "execution_count": null,
   "metadata": {},
   "outputs": [],
   "source": [
    "plt.close('all')\n",
    "mmirs_file = \"/Users/tim/MMT/wfsdat/20170416/rawdata/mmirs_wfs_%04d.fits\" % 213\n",
    "results = mmirs.measure_slopes(mmirs_file, plot=True)\n",
    "results['figures']['slopes'].show()"
   ]
  },
  {
   "cell_type": "code",
   "execution_count": null,
   "metadata": {},
   "outputs": [],
   "source": [
    "results['apertures'].positions"
   ]
  },
  {
   "cell_type": "code",
   "execution_count": null,
   "metadata": {},
   "outputs": [],
   "source": [
    "results['figures']['pupil_center'].show()"
   ]
  },
  {
   "cell_type": "code",
   "execution_count": null,
   "metadata": {
    "scrolled": false
   },
   "outputs": [],
   "source": [
    "zresults = mmirs.fit_wavefront(results, plot=True)\n",
    "zvec = zresults['zernike']\n",
    "print(zresults['residual_rms'])\n",
    "#zvec.normalize()\n",
    "print(zvec)\n",
    "zresults['resid_plot'].show()"
   ]
  },
  {
   "cell_type": "code",
   "execution_count": null,
   "metadata": {
    "collapsed": true
   },
   "outputs": [],
   "source": [
    "zplot = zvec.copy()\n",
    "zplot.ignore('Z02')\n",
    "zplot.ignore('Z03')\n",
    "mfig = zplot.plot_map()\n",
    "mfig.show()\n",
    "zplot.peak2valley"
   ]
  },
  {
   "cell_type": "code",
   "execution_count": null,
   "metadata": {
    "collapsed": true
   },
   "outputs": [],
   "source": [
    "zvec.units = u.nm\n",
    "f = zvec.bar_chart(residual=zresults['residual_rms'])\n",
    "f.set_size_inches(9, 5)\n",
    "\n",
    "f.show()"
   ]
  },
  {
   "cell_type": "code",
   "execution_count": null,
   "metadata": {
    "collapsed": true
   },
   "outputs": [],
   "source": [
    "plt.close(f)"
   ]
  },
  {
   "cell_type": "code",
   "execution_count": null,
   "metadata": {
    "collapsed": true
   },
   "outputs": [],
   "source": [
    "torig = mmirs.telescope.bending_forces(zvec)\n",
    "torig.show_in_notebook()"
   ]
  },
  {
   "cell_type": "code",
   "execution_count": null,
   "metadata": {
    "collapsed": true
   },
   "outputs": [],
   "source": [
    "force_fig = mmirs.telescope.plot_forces(torig)\n",
    "force_fig.show()"
   ]
  },
  {
   "cell_type": "code",
   "execution_count": null,
   "metadata": {
    "collapsed": true
   },
   "outputs": [],
   "source": [
    "t, m1foc = mmirs.correct_primary(zv=zvec)\n",
    "print(m1foc)\n",
    "t.show_in_notebook()"
   ]
  },
  {
   "cell_type": "code",
   "execution_count": null,
   "metadata": {
    "collapsed": true
   },
   "outputs": [],
   "source": [
    "new_force_fig = mmirs.telescope.plot_forces(t)\n",
    "new_force_fig.show()"
   ]
  },
  {
   "cell_type": "code",
   "execution_count": null,
   "metadata": {
    "collapsed": true
   },
   "outputs": [],
   "source": [
    "zpsf = ZernikeVector()\n",
    "psf, psf_fig = mmirs.telescope.psf(zpsf, plot=True)\n",
    "psf_fig.set_size_inches(4.0, 4.0)\n",
    "psf_fig.show()"
   ]
  },
  {
   "cell_type": "markdown",
   "metadata": {},
   "source": [
    "# F/9 Dev Section"
   ]
  },
  {
   "cell_type": "code",
   "execution_count": 2,
   "metadata": {
    "collapsed": true
   },
   "outputs": [],
   "source": [
    "plt.close('all')\n",
    "\n",
    "f9wfs = WFSFactory(wfs=\"newf9\")"
   ]
  },
  {
   "cell_type": "code",
   "execution_count": 3,
   "metadata": {},
   "outputs": [
    {
     "data": {
      "text/plain": [
       "(33.783783783783782, 19.54954954954955)"
      ]
     },
     "execution_count": 3,
     "metadata": {},
     "output_type": "execute_result"
    }
   ],
   "source": [
    "f9wfs.modes['blue']['reference']['xspacing'], f9wfs.modes['blue']['reference']['yspacing']"
   ]
  },
  {
   "cell_type": "code",
   "execution_count": 6,
   "metadata": {},
   "outputs": [
    {
     "data": {
      "application/javascript": [
       "/* Put everything inside the global mpl namespace */\n",
       "window.mpl = {};\n",
       "\n",
       "\n",
       "mpl.get_websocket_type = function() {\n",
       "    if (typeof(WebSocket) !== 'undefined') {\n",
       "        return WebSocket;\n",
       "    } else if (typeof(MozWebSocket) !== 'undefined') {\n",
       "        return MozWebSocket;\n",
       "    } else {\n",
       "        alert('Your browser does not have WebSocket support.' +\n",
       "              'Please try Chrome, Safari or Firefox ≥ 6. ' +\n",
       "              'Firefox 4 and 5 are also supported but you ' +\n",
       "              'have to enable WebSockets in about:config.');\n",
       "    };\n",
       "}\n",
       "\n",
       "mpl.figure = function(figure_id, websocket, ondownload, parent_element) {\n",
       "    this.id = figure_id;\n",
       "\n",
       "    this.ws = websocket;\n",
       "\n",
       "    this.supports_binary = (this.ws.binaryType != undefined);\n",
       "\n",
       "    if (!this.supports_binary) {\n",
       "        var warnings = document.getElementById(\"mpl-warnings\");\n",
       "        if (warnings) {\n",
       "            warnings.style.display = 'block';\n",
       "            warnings.textContent = (\n",
       "                \"This browser does not support binary websocket messages. \" +\n",
       "                    \"Performance may be slow.\");\n",
       "        }\n",
       "    }\n",
       "\n",
       "    this.imageObj = new Image();\n",
       "\n",
       "    this.context = undefined;\n",
       "    this.message = undefined;\n",
       "    this.canvas = undefined;\n",
       "    this.rubberband_canvas = undefined;\n",
       "    this.rubberband_context = undefined;\n",
       "    this.format_dropdown = undefined;\n",
       "\n",
       "    this.image_mode = 'full';\n",
       "\n",
       "    this.root = $('<div/>');\n",
       "    this._root_extra_style(this.root)\n",
       "    this.root.attr('style', 'display: inline-block');\n",
       "\n",
       "    $(parent_element).append(this.root);\n",
       "\n",
       "    this._init_header(this);\n",
       "    this._init_canvas(this);\n",
       "    this._init_toolbar(this);\n",
       "\n",
       "    var fig = this;\n",
       "\n",
       "    this.waiting = false;\n",
       "\n",
       "    this.ws.onopen =  function () {\n",
       "            fig.send_message(\"supports_binary\", {value: fig.supports_binary});\n",
       "            fig.send_message(\"send_image_mode\", {});\n",
       "            if (mpl.ratio != 1) {\n",
       "                fig.send_message(\"set_dpi_ratio\", {'dpi_ratio': mpl.ratio});\n",
       "            }\n",
       "            fig.send_message(\"refresh\", {});\n",
       "        }\n",
       "\n",
       "    this.imageObj.onload = function() {\n",
       "            if (fig.image_mode == 'full') {\n",
       "                // Full images could contain transparency (where diff images\n",
       "                // almost always do), so we need to clear the canvas so that\n",
       "                // there is no ghosting.\n",
       "                fig.context.clearRect(0, 0, fig.canvas.width, fig.canvas.height);\n",
       "            }\n",
       "            fig.context.drawImage(fig.imageObj, 0, 0);\n",
       "        };\n",
       "\n",
       "    this.imageObj.onunload = function() {\n",
       "        this.ws.close();\n",
       "    }\n",
       "\n",
       "    this.ws.onmessage = this._make_on_message_function(this);\n",
       "\n",
       "    this.ondownload = ondownload;\n",
       "}\n",
       "\n",
       "mpl.figure.prototype._init_header = function() {\n",
       "    var titlebar = $(\n",
       "        '<div class=\"ui-dialog-titlebar ui-widget-header ui-corner-all ' +\n",
       "        'ui-helper-clearfix\"/>');\n",
       "    var titletext = $(\n",
       "        '<div class=\"ui-dialog-title\" style=\"width: 100%; ' +\n",
       "        'text-align: center; padding: 3px;\"/>');\n",
       "    titlebar.append(titletext)\n",
       "    this.root.append(titlebar);\n",
       "    this.header = titletext[0];\n",
       "}\n",
       "\n",
       "\n",
       "\n",
       "mpl.figure.prototype._canvas_extra_style = function(canvas_div) {\n",
       "\n",
       "}\n",
       "\n",
       "\n",
       "mpl.figure.prototype._root_extra_style = function(canvas_div) {\n",
       "\n",
       "}\n",
       "\n",
       "mpl.figure.prototype._init_canvas = function() {\n",
       "    var fig = this;\n",
       "\n",
       "    var canvas_div = $('<div/>');\n",
       "\n",
       "    canvas_div.attr('style', 'position: relative; clear: both; outline: 0');\n",
       "\n",
       "    function canvas_keyboard_event(event) {\n",
       "        return fig.key_event(event, event['data']);\n",
       "    }\n",
       "\n",
       "    canvas_div.keydown('key_press', canvas_keyboard_event);\n",
       "    canvas_div.keyup('key_release', canvas_keyboard_event);\n",
       "    this.canvas_div = canvas_div\n",
       "    this._canvas_extra_style(canvas_div)\n",
       "    this.root.append(canvas_div);\n",
       "\n",
       "    var canvas = $('<canvas/>');\n",
       "    canvas.addClass('mpl-canvas');\n",
       "    canvas.attr('style', \"left: 0; top: 0; z-index: 0; outline: 0\")\n",
       "\n",
       "    this.canvas = canvas[0];\n",
       "    this.context = canvas[0].getContext(\"2d\");\n",
       "\n",
       "    var backingStore = this.context.backingStorePixelRatio ||\n",
       "\tthis.context.webkitBackingStorePixelRatio ||\n",
       "\tthis.context.mozBackingStorePixelRatio ||\n",
       "\tthis.context.msBackingStorePixelRatio ||\n",
       "\tthis.context.oBackingStorePixelRatio ||\n",
       "\tthis.context.backingStorePixelRatio || 1;\n",
       "\n",
       "    mpl.ratio = (window.devicePixelRatio || 1) / backingStore;\n",
       "\n",
       "    var rubberband = $('<canvas/>');\n",
       "    rubberband.attr('style', \"position: absolute; left: 0; top: 0; z-index: 1;\")\n",
       "\n",
       "    var pass_mouse_events = true;\n",
       "\n",
       "    canvas_div.resizable({\n",
       "        start: function(event, ui) {\n",
       "            pass_mouse_events = false;\n",
       "        },\n",
       "        resize: function(event, ui) {\n",
       "            fig.request_resize(ui.size.width, ui.size.height);\n",
       "        },\n",
       "        stop: function(event, ui) {\n",
       "            pass_mouse_events = true;\n",
       "            fig.request_resize(ui.size.width, ui.size.height);\n",
       "        },\n",
       "    });\n",
       "\n",
       "    function mouse_event_fn(event) {\n",
       "        if (pass_mouse_events)\n",
       "            return fig.mouse_event(event, event['data']);\n",
       "    }\n",
       "\n",
       "    rubberband.mousedown('button_press', mouse_event_fn);\n",
       "    rubberband.mouseup('button_release', mouse_event_fn);\n",
       "    // Throttle sequential mouse events to 1 every 20ms.\n",
       "    rubberband.mousemove('motion_notify', mouse_event_fn);\n",
       "\n",
       "    rubberband.mouseenter('figure_enter', mouse_event_fn);\n",
       "    rubberband.mouseleave('figure_leave', mouse_event_fn);\n",
       "\n",
       "    canvas_div.on(\"wheel\", function (event) {\n",
       "        event = event.originalEvent;\n",
       "        event['data'] = 'scroll'\n",
       "        if (event.deltaY < 0) {\n",
       "            event.step = 1;\n",
       "        } else {\n",
       "            event.step = -1;\n",
       "        }\n",
       "        mouse_event_fn(event);\n",
       "    });\n",
       "\n",
       "    canvas_div.append(canvas);\n",
       "    canvas_div.append(rubberband);\n",
       "\n",
       "    this.rubberband = rubberband;\n",
       "    this.rubberband_canvas = rubberband[0];\n",
       "    this.rubberband_context = rubberband[0].getContext(\"2d\");\n",
       "    this.rubberband_context.strokeStyle = \"#000000\";\n",
       "\n",
       "    this._resize_canvas = function(width, height) {\n",
       "        // Keep the size of the canvas, canvas container, and rubber band\n",
       "        // canvas in synch.\n",
       "        canvas_div.css('width', width)\n",
       "        canvas_div.css('height', height)\n",
       "\n",
       "        canvas.attr('width', width * mpl.ratio);\n",
       "        canvas.attr('height', height * mpl.ratio);\n",
       "        canvas.attr('style', 'width: ' + width + 'px; height: ' + height + 'px;');\n",
       "\n",
       "        rubberband.attr('width', width);\n",
       "        rubberband.attr('height', height);\n",
       "    }\n",
       "\n",
       "    // Set the figure to an initial 600x600px, this will subsequently be updated\n",
       "    // upon first draw.\n",
       "    this._resize_canvas(600, 600);\n",
       "\n",
       "    // Disable right mouse context menu.\n",
       "    $(this.rubberband_canvas).bind(\"contextmenu\",function(e){\n",
       "        return false;\n",
       "    });\n",
       "\n",
       "    function set_focus () {\n",
       "        canvas.focus();\n",
       "        canvas_div.focus();\n",
       "    }\n",
       "\n",
       "    window.setTimeout(set_focus, 100);\n",
       "}\n",
       "\n",
       "mpl.figure.prototype._init_toolbar = function() {\n",
       "    var fig = this;\n",
       "\n",
       "    var nav_element = $('<div/>')\n",
       "    nav_element.attr('style', 'width: 100%');\n",
       "    this.root.append(nav_element);\n",
       "\n",
       "    // Define a callback function for later on.\n",
       "    function toolbar_event(event) {\n",
       "        return fig.toolbar_button_onclick(event['data']);\n",
       "    }\n",
       "    function toolbar_mouse_event(event) {\n",
       "        return fig.toolbar_button_onmouseover(event['data']);\n",
       "    }\n",
       "\n",
       "    for(var toolbar_ind in mpl.toolbar_items) {\n",
       "        var name = mpl.toolbar_items[toolbar_ind][0];\n",
       "        var tooltip = mpl.toolbar_items[toolbar_ind][1];\n",
       "        var image = mpl.toolbar_items[toolbar_ind][2];\n",
       "        var method_name = mpl.toolbar_items[toolbar_ind][3];\n",
       "\n",
       "        if (!name) {\n",
       "            // put a spacer in here.\n",
       "            continue;\n",
       "        }\n",
       "        var button = $('<button/>');\n",
       "        button.addClass('ui-button ui-widget ui-state-default ui-corner-all ' +\n",
       "                        'ui-button-icon-only');\n",
       "        button.attr('role', 'button');\n",
       "        button.attr('aria-disabled', 'false');\n",
       "        button.click(method_name, toolbar_event);\n",
       "        button.mouseover(tooltip, toolbar_mouse_event);\n",
       "\n",
       "        var icon_img = $('<span/>');\n",
       "        icon_img.addClass('ui-button-icon-primary ui-icon');\n",
       "        icon_img.addClass(image);\n",
       "        icon_img.addClass('ui-corner-all');\n",
       "\n",
       "        var tooltip_span = $('<span/>');\n",
       "        tooltip_span.addClass('ui-button-text');\n",
       "        tooltip_span.html(tooltip);\n",
       "\n",
       "        button.append(icon_img);\n",
       "        button.append(tooltip_span);\n",
       "\n",
       "        nav_element.append(button);\n",
       "    }\n",
       "\n",
       "    var fmt_picker_span = $('<span/>');\n",
       "\n",
       "    var fmt_picker = $('<select/>');\n",
       "    fmt_picker.addClass('mpl-toolbar-option ui-widget ui-widget-content');\n",
       "    fmt_picker_span.append(fmt_picker);\n",
       "    nav_element.append(fmt_picker_span);\n",
       "    this.format_dropdown = fmt_picker[0];\n",
       "\n",
       "    for (var ind in mpl.extensions) {\n",
       "        var fmt = mpl.extensions[ind];\n",
       "        var option = $(\n",
       "            '<option/>', {selected: fmt === mpl.default_extension}).html(fmt);\n",
       "        fmt_picker.append(option)\n",
       "    }\n",
       "\n",
       "    // Add hover states to the ui-buttons\n",
       "    $( \".ui-button\" ).hover(\n",
       "        function() { $(this).addClass(\"ui-state-hover\");},\n",
       "        function() { $(this).removeClass(\"ui-state-hover\");}\n",
       "    );\n",
       "\n",
       "    var status_bar = $('<span class=\"mpl-message\"/>');\n",
       "    nav_element.append(status_bar);\n",
       "    this.message = status_bar[0];\n",
       "}\n",
       "\n",
       "mpl.figure.prototype.request_resize = function(x_pixels, y_pixels) {\n",
       "    // Request matplotlib to resize the figure. Matplotlib will then trigger a resize in the client,\n",
       "    // which will in turn request a refresh of the image.\n",
       "    this.send_message('resize', {'width': x_pixels, 'height': y_pixels});\n",
       "}\n",
       "\n",
       "mpl.figure.prototype.send_message = function(type, properties) {\n",
       "    properties['type'] = type;\n",
       "    properties['figure_id'] = this.id;\n",
       "    this.ws.send(JSON.stringify(properties));\n",
       "}\n",
       "\n",
       "mpl.figure.prototype.send_draw_message = function() {\n",
       "    if (!this.waiting) {\n",
       "        this.waiting = true;\n",
       "        this.ws.send(JSON.stringify({type: \"draw\", figure_id: this.id}));\n",
       "    }\n",
       "}\n",
       "\n",
       "\n",
       "mpl.figure.prototype.handle_save = function(fig, msg) {\n",
       "    var format_dropdown = fig.format_dropdown;\n",
       "    var format = format_dropdown.options[format_dropdown.selectedIndex].value;\n",
       "    fig.ondownload(fig, format);\n",
       "}\n",
       "\n",
       "\n",
       "mpl.figure.prototype.handle_resize = function(fig, msg) {\n",
       "    var size = msg['size'];\n",
       "    if (size[0] != fig.canvas.width || size[1] != fig.canvas.height) {\n",
       "        fig._resize_canvas(size[0], size[1]);\n",
       "        fig.send_message(\"refresh\", {});\n",
       "    };\n",
       "}\n",
       "\n",
       "mpl.figure.prototype.handle_rubberband = function(fig, msg) {\n",
       "    var x0 = msg['x0'] / mpl.ratio;\n",
       "    var y0 = (fig.canvas.height - msg['y0']) / mpl.ratio;\n",
       "    var x1 = msg['x1'] / mpl.ratio;\n",
       "    var y1 = (fig.canvas.height - msg['y1']) / mpl.ratio;\n",
       "    x0 = Math.floor(x0) + 0.5;\n",
       "    y0 = Math.floor(y0) + 0.5;\n",
       "    x1 = Math.floor(x1) + 0.5;\n",
       "    y1 = Math.floor(y1) + 0.5;\n",
       "    var min_x = Math.min(x0, x1);\n",
       "    var min_y = Math.min(y0, y1);\n",
       "    var width = Math.abs(x1 - x0);\n",
       "    var height = Math.abs(y1 - y0);\n",
       "\n",
       "    fig.rubberband_context.clearRect(\n",
       "        0, 0, fig.canvas.width, fig.canvas.height);\n",
       "\n",
       "    fig.rubberband_context.strokeRect(min_x, min_y, width, height);\n",
       "}\n",
       "\n",
       "mpl.figure.prototype.handle_figure_label = function(fig, msg) {\n",
       "    // Updates the figure title.\n",
       "    fig.header.textContent = msg['label'];\n",
       "}\n",
       "\n",
       "mpl.figure.prototype.handle_cursor = function(fig, msg) {\n",
       "    var cursor = msg['cursor'];\n",
       "    switch(cursor)\n",
       "    {\n",
       "    case 0:\n",
       "        cursor = 'pointer';\n",
       "        break;\n",
       "    case 1:\n",
       "        cursor = 'default';\n",
       "        break;\n",
       "    case 2:\n",
       "        cursor = 'crosshair';\n",
       "        break;\n",
       "    case 3:\n",
       "        cursor = 'move';\n",
       "        break;\n",
       "    }\n",
       "    fig.rubberband_canvas.style.cursor = cursor;\n",
       "}\n",
       "\n",
       "mpl.figure.prototype.handle_message = function(fig, msg) {\n",
       "    fig.message.textContent = msg['message'];\n",
       "}\n",
       "\n",
       "mpl.figure.prototype.handle_draw = function(fig, msg) {\n",
       "    // Request the server to send over a new figure.\n",
       "    fig.send_draw_message();\n",
       "}\n",
       "\n",
       "mpl.figure.prototype.handle_image_mode = function(fig, msg) {\n",
       "    fig.image_mode = msg['mode'];\n",
       "}\n",
       "\n",
       "mpl.figure.prototype.updated_canvas_event = function() {\n",
       "    // Called whenever the canvas gets updated.\n",
       "    this.send_message(\"ack\", {});\n",
       "}\n",
       "\n",
       "// A function to construct a web socket function for onmessage handling.\n",
       "// Called in the figure constructor.\n",
       "mpl.figure.prototype._make_on_message_function = function(fig) {\n",
       "    return function socket_on_message(evt) {\n",
       "        if (evt.data instanceof Blob) {\n",
       "            /* FIXME: We get \"Resource interpreted as Image but\n",
       "             * transferred with MIME type text/plain:\" errors on\n",
       "             * Chrome.  But how to set the MIME type?  It doesn't seem\n",
       "             * to be part of the websocket stream */\n",
       "            evt.data.type = \"image/png\";\n",
       "\n",
       "            /* Free the memory for the previous frames */\n",
       "            if (fig.imageObj.src) {\n",
       "                (window.URL || window.webkitURL).revokeObjectURL(\n",
       "                    fig.imageObj.src);\n",
       "            }\n",
       "\n",
       "            fig.imageObj.src = (window.URL || window.webkitURL).createObjectURL(\n",
       "                evt.data);\n",
       "            fig.updated_canvas_event();\n",
       "            fig.waiting = false;\n",
       "            return;\n",
       "        }\n",
       "        else if (typeof evt.data === 'string' && evt.data.slice(0, 21) == \"data:image/png;base64\") {\n",
       "            fig.imageObj.src = evt.data;\n",
       "            fig.updated_canvas_event();\n",
       "            fig.waiting = false;\n",
       "            return;\n",
       "        }\n",
       "\n",
       "        var msg = JSON.parse(evt.data);\n",
       "        var msg_type = msg['type'];\n",
       "\n",
       "        // Call the  \"handle_{type}\" callback, which takes\n",
       "        // the figure and JSON message as its only arguments.\n",
       "        try {\n",
       "            var callback = fig[\"handle_\" + msg_type];\n",
       "        } catch (e) {\n",
       "            console.log(\"No handler for the '\" + msg_type + \"' message type: \", msg);\n",
       "            return;\n",
       "        }\n",
       "\n",
       "        if (callback) {\n",
       "            try {\n",
       "                // console.log(\"Handling '\" + msg_type + \"' message: \", msg);\n",
       "                callback(fig, msg);\n",
       "            } catch (e) {\n",
       "                console.log(\"Exception inside the 'handler_\" + msg_type + \"' callback:\", e, e.stack, msg);\n",
       "            }\n",
       "        }\n",
       "    };\n",
       "}\n",
       "\n",
       "// from http://stackoverflow.com/questions/1114465/getting-mouse-location-in-canvas\n",
       "mpl.findpos = function(e) {\n",
       "    //this section is from http://www.quirksmode.org/js/events_properties.html\n",
       "    var targ;\n",
       "    if (!e)\n",
       "        e = window.event;\n",
       "    if (e.target)\n",
       "        targ = e.target;\n",
       "    else if (e.srcElement)\n",
       "        targ = e.srcElement;\n",
       "    if (targ.nodeType == 3) // defeat Safari bug\n",
       "        targ = targ.parentNode;\n",
       "\n",
       "    // jQuery normalizes the pageX and pageY\n",
       "    // pageX,Y are the mouse positions relative to the document\n",
       "    // offset() returns the position of the element relative to the document\n",
       "    var x = e.pageX - $(targ).offset().left;\n",
       "    var y = e.pageY - $(targ).offset().top;\n",
       "\n",
       "    return {\"x\": x, \"y\": y};\n",
       "};\n",
       "\n",
       "/*\n",
       " * return a copy of an object with only non-object keys\n",
       " * we need this to avoid circular references\n",
       " * http://stackoverflow.com/a/24161582/3208463\n",
       " */\n",
       "function simpleKeys (original) {\n",
       "  return Object.keys(original).reduce(function (obj, key) {\n",
       "    if (typeof original[key] !== 'object')\n",
       "        obj[key] = original[key]\n",
       "    return obj;\n",
       "  }, {});\n",
       "}\n",
       "\n",
       "mpl.figure.prototype.mouse_event = function(event, name) {\n",
       "    var canvas_pos = mpl.findpos(event)\n",
       "\n",
       "    if (name === 'button_press')\n",
       "    {\n",
       "        this.canvas.focus();\n",
       "        this.canvas_div.focus();\n",
       "    }\n",
       "\n",
       "    var x = canvas_pos.x * mpl.ratio;\n",
       "    var y = canvas_pos.y * mpl.ratio;\n",
       "\n",
       "    this.send_message(name, {x: x, y: y, button: event.button,\n",
       "                             step: event.step,\n",
       "                             guiEvent: simpleKeys(event)});\n",
       "\n",
       "    /* This prevents the web browser from automatically changing to\n",
       "     * the text insertion cursor when the button is pressed.  We want\n",
       "     * to control all of the cursor setting manually through the\n",
       "     * 'cursor' event from matplotlib */\n",
       "    event.preventDefault();\n",
       "    return false;\n",
       "}\n",
       "\n",
       "mpl.figure.prototype._key_event_extra = function(event, name) {\n",
       "    // Handle any extra behaviour associated with a key event\n",
       "}\n",
       "\n",
       "mpl.figure.prototype.key_event = function(event, name) {\n",
       "\n",
       "    // Prevent repeat events\n",
       "    if (name == 'key_press')\n",
       "    {\n",
       "        if (event.which === this._key)\n",
       "            return;\n",
       "        else\n",
       "            this._key = event.which;\n",
       "    }\n",
       "    if (name == 'key_release')\n",
       "        this._key = null;\n",
       "\n",
       "    var value = '';\n",
       "    if (event.ctrlKey && event.which != 17)\n",
       "        value += \"ctrl+\";\n",
       "    if (event.altKey && event.which != 18)\n",
       "        value += \"alt+\";\n",
       "    if (event.shiftKey && event.which != 16)\n",
       "        value += \"shift+\";\n",
       "\n",
       "    value += 'k';\n",
       "    value += event.which.toString();\n",
       "\n",
       "    this._key_event_extra(event, name);\n",
       "\n",
       "    this.send_message(name, {key: value,\n",
       "                             guiEvent: simpleKeys(event)});\n",
       "    return false;\n",
       "}\n",
       "\n",
       "mpl.figure.prototype.toolbar_button_onclick = function(name) {\n",
       "    if (name == 'download') {\n",
       "        this.handle_save(this, null);\n",
       "    } else {\n",
       "        this.send_message(\"toolbar_button\", {name: name});\n",
       "    }\n",
       "};\n",
       "\n",
       "mpl.figure.prototype.toolbar_button_onmouseover = function(tooltip) {\n",
       "    this.message.textContent = tooltip;\n",
       "};\n",
       "mpl.toolbar_items = [[\"Home\", \"Reset original view\", \"fa fa-home icon-home\", \"home\"], [\"Back\", \"Back to  previous view\", \"fa fa-arrow-left icon-arrow-left\", \"back\"], [\"Forward\", \"Forward to next view\", \"fa fa-arrow-right icon-arrow-right\", \"forward\"], [\"\", \"\", \"\", \"\"], [\"Pan\", \"Pan axes with left mouse, zoom with right\", \"fa fa-arrows icon-move\", \"pan\"], [\"Zoom\", \"Zoom to rectangle\", \"fa fa-square-o icon-check-empty\", \"zoom\"], [\"\", \"\", \"\", \"\"], [\"Download\", \"Download plot\", \"fa fa-floppy-o icon-save\", \"download\"]];\n",
       "\n",
       "mpl.extensions = [\"eps\", \"jpeg\", \"pdf\", \"png\", \"ps\", \"raw\", \"svg\", \"tif\"];\n",
       "\n",
       "mpl.default_extension = \"png\";var comm_websocket_adapter = function(comm) {\n",
       "    // Create a \"websocket\"-like object which calls the given IPython comm\n",
       "    // object with the appropriate methods. Currently this is a non binary\n",
       "    // socket, so there is still some room for performance tuning.\n",
       "    var ws = {};\n",
       "\n",
       "    ws.close = function() {\n",
       "        comm.close()\n",
       "    };\n",
       "    ws.send = function(m) {\n",
       "        //console.log('sending', m);\n",
       "        comm.send(m);\n",
       "    };\n",
       "    // Register the callback with on_msg.\n",
       "    comm.on_msg(function(msg) {\n",
       "        //console.log('receiving', msg['content']['data'], msg);\n",
       "        // Pass the mpl event to the overriden (by mpl) onmessage function.\n",
       "        ws.onmessage(msg['content']['data'])\n",
       "    });\n",
       "    return ws;\n",
       "}\n",
       "\n",
       "mpl.mpl_figure_comm = function(comm, msg) {\n",
       "    // This is the function which gets called when the mpl process\n",
       "    // starts-up an IPython Comm through the \"matplotlib\" channel.\n",
       "\n",
       "    var id = msg.content.data.id;\n",
       "    // Get hold of the div created by the display call when the Comm\n",
       "    // socket was opened in Python.\n",
       "    var element = $(\"#\" + id);\n",
       "    var ws_proxy = comm_websocket_adapter(comm)\n",
       "\n",
       "    function ondownload(figure, format) {\n",
       "        window.open(figure.imageObj.src);\n",
       "    }\n",
       "\n",
       "    var fig = new mpl.figure(id, ws_proxy,\n",
       "                           ondownload,\n",
       "                           element.get(0));\n",
       "\n",
       "    // Call onopen now - mpl needs it, as it is assuming we've passed it a real\n",
       "    // web socket which is closed, not our websocket->open comm proxy.\n",
       "    ws_proxy.onopen();\n",
       "\n",
       "    fig.parent_element = element.get(0);\n",
       "    fig.cell_info = mpl.find_output_cell(\"<div id='\" + id + \"'></div>\");\n",
       "    if (!fig.cell_info) {\n",
       "        console.error(\"Failed to find cell for figure\", id, fig);\n",
       "        return;\n",
       "    }\n",
       "\n",
       "    var output_index = fig.cell_info[2]\n",
       "    var cell = fig.cell_info[0];\n",
       "\n",
       "};\n",
       "\n",
       "mpl.figure.prototype.handle_close = function(fig, msg) {\n",
       "    var width = fig.canvas.width/mpl.ratio\n",
       "    fig.root.unbind('remove')\n",
       "\n",
       "    // Update the output cell to use the data from the current canvas.\n",
       "    fig.push_to_output();\n",
       "    var dataURL = fig.canvas.toDataURL();\n",
       "    // Re-enable the keyboard manager in IPython - without this line, in FF,\n",
       "    // the notebook keyboard shortcuts fail.\n",
       "    IPython.keyboard_manager.enable()\n",
       "    $(fig.parent_element).html('<img src=\"' + dataURL + '\" width=\"' + width + '\">');\n",
       "    fig.close_ws(fig, msg);\n",
       "}\n",
       "\n",
       "mpl.figure.prototype.close_ws = function(fig, msg){\n",
       "    fig.send_message('closing', msg);\n",
       "    // fig.ws.close()\n",
       "}\n",
       "\n",
       "mpl.figure.prototype.push_to_output = function(remove_interactive) {\n",
       "    // Turn the data on the canvas into data in the output cell.\n",
       "    var width = this.canvas.width/mpl.ratio\n",
       "    var dataURL = this.canvas.toDataURL();\n",
       "    this.cell_info[1]['text/html'] = '<img src=\"' + dataURL + '\" width=\"' + width + '\">';\n",
       "}\n",
       "\n",
       "mpl.figure.prototype.updated_canvas_event = function() {\n",
       "    // Tell IPython that the notebook contents must change.\n",
       "    IPython.notebook.set_dirty(true);\n",
       "    this.send_message(\"ack\", {});\n",
       "    var fig = this;\n",
       "    // Wait a second, then push the new image to the DOM so\n",
       "    // that it is saved nicely (might be nice to debounce this).\n",
       "    setTimeout(function () { fig.push_to_output() }, 1000);\n",
       "}\n",
       "\n",
       "mpl.figure.prototype._init_toolbar = function() {\n",
       "    var fig = this;\n",
       "\n",
       "    var nav_element = $('<div/>')\n",
       "    nav_element.attr('style', 'width: 100%');\n",
       "    this.root.append(nav_element);\n",
       "\n",
       "    // Define a callback function for later on.\n",
       "    function toolbar_event(event) {\n",
       "        return fig.toolbar_button_onclick(event['data']);\n",
       "    }\n",
       "    function toolbar_mouse_event(event) {\n",
       "        return fig.toolbar_button_onmouseover(event['data']);\n",
       "    }\n",
       "\n",
       "    for(var toolbar_ind in mpl.toolbar_items){\n",
       "        var name = mpl.toolbar_items[toolbar_ind][0];\n",
       "        var tooltip = mpl.toolbar_items[toolbar_ind][1];\n",
       "        var image = mpl.toolbar_items[toolbar_ind][2];\n",
       "        var method_name = mpl.toolbar_items[toolbar_ind][3];\n",
       "\n",
       "        if (!name) { continue; };\n",
       "\n",
       "        var button = $('<button class=\"btn btn-default\" href=\"#\" title=\"' + name + '\"><i class=\"fa ' + image + ' fa-lg\"></i></button>');\n",
       "        button.click(method_name, toolbar_event);\n",
       "        button.mouseover(tooltip, toolbar_mouse_event);\n",
       "        nav_element.append(button);\n",
       "    }\n",
       "\n",
       "    // Add the status bar.\n",
       "    var status_bar = $('<span class=\"mpl-message\" style=\"text-align:right; float: right;\"/>');\n",
       "    nav_element.append(status_bar);\n",
       "    this.message = status_bar[0];\n",
       "\n",
       "    // Add the close button to the window.\n",
       "    var buttongrp = $('<div class=\"btn-group inline pull-right\"></div>');\n",
       "    var button = $('<button class=\"btn btn-mini btn-primary\" href=\"#\" title=\"Stop Interaction\"><i class=\"fa fa-power-off icon-remove icon-large\"></i></button>');\n",
       "    button.click(function (evt) { fig.handle_close(fig, {}); } );\n",
       "    button.mouseover('Stop Interaction', toolbar_mouse_event);\n",
       "    buttongrp.append(button);\n",
       "    var titlebar = this.root.find($('.ui-dialog-titlebar'));\n",
       "    titlebar.prepend(buttongrp);\n",
       "}\n",
       "\n",
       "mpl.figure.prototype._root_extra_style = function(el){\n",
       "    var fig = this\n",
       "    el.on(\"remove\", function(){\n",
       "\tfig.close_ws(fig, {});\n",
       "    });\n",
       "}\n",
       "\n",
       "mpl.figure.prototype._canvas_extra_style = function(el){\n",
       "    // this is important to make the div 'focusable\n",
       "    el.attr('tabindex', 0)\n",
       "    // reach out to IPython and tell the keyboard manager to turn it's self\n",
       "    // off when our div gets focus\n",
       "\n",
       "    // location in version 3\n",
       "    if (IPython.notebook.keyboard_manager) {\n",
       "        IPython.notebook.keyboard_manager.register_events(el);\n",
       "    }\n",
       "    else {\n",
       "        // location in version 2\n",
       "        IPython.keyboard_manager.register_events(el);\n",
       "    }\n",
       "\n",
       "}\n",
       "\n",
       "mpl.figure.prototype._key_event_extra = function(event, name) {\n",
       "    var manager = IPython.notebook.keyboard_manager;\n",
       "    if (!manager)\n",
       "        manager = IPython.keyboard_manager;\n",
       "\n",
       "    // Check for shift+enter\n",
       "    if (event.shiftKey && event.which == 13) {\n",
       "        this.canvas_div.blur();\n",
       "        // select the cell after this one\n",
       "        var index = IPython.notebook.find_cell_index(this.cell_info[0]);\n",
       "        IPython.notebook.select(index + 1);\n",
       "    }\n",
       "}\n",
       "\n",
       "mpl.figure.prototype.handle_save = function(fig, msg) {\n",
       "    fig.ondownload(fig, null);\n",
       "}\n",
       "\n",
       "\n",
       "mpl.find_output_cell = function(html_output) {\n",
       "    // Return the cell and output element which can be found *uniquely* in the notebook.\n",
       "    // Note - this is a bit hacky, but it is done because the \"notebook_saving.Notebook\"\n",
       "    // IPython event is triggered only after the cells have been serialised, which for\n",
       "    // our purposes (turning an active figure into a static one), is too late.\n",
       "    var cells = IPython.notebook.get_cells();\n",
       "    var ncells = cells.length;\n",
       "    for (var i=0; i<ncells; i++) {\n",
       "        var cell = cells[i];\n",
       "        if (cell.cell_type === 'code'){\n",
       "            for (var j=0; j<cell.output_area.outputs.length; j++) {\n",
       "                var data = cell.output_area.outputs[j];\n",
       "                if (data.data) {\n",
       "                    // IPython >= 3 moved mimebundle to data attribute of output\n",
       "                    data = data.data;\n",
       "                }\n",
       "                if (data['text/html'] == html_output) {\n",
       "                    return [cell, data, j];\n",
       "                }\n",
       "            }\n",
       "        }\n",
       "    }\n",
       "}\n",
       "\n",
       "// Register the function which deals with the matplotlib target/channel.\n",
       "// The kernel may be null if the page has been refreshed.\n",
       "if (IPython.notebook.kernel != null) {\n",
       "    IPython.notebook.kernel.comm_manager.register_target('matplotlib', mpl.mpl_figure_comm);\n",
       "}\n"
      ],
      "text/plain": [
       "<IPython.core.display.Javascript object>"
      ]
     },
     "metadata": {},
     "output_type": "display_data"
    },
    {
     "data": {
      "text/html": [
       "<img src=\"data:image/png;base64,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\" width=\"640\">"
      ],
      "text/plain": [
       "<IPython.core.display.HTML object>"
      ]
     },
     "metadata": {},
     "output_type": "display_data"
    }
   ],
   "source": [
    "f9_file = \"/Users/tim/MMT/wfsdat/20171007/f9wfs_20171007-031149.fits\"\n",
    "refaps = f9wfs.modes['blue']['reference']['apertures']\n",
    "results = f9wfs.measure_slopes(f9_file, 'blue', plot=True)\n",
    "#plt.scatter(refaps['xcentroid']+results['xcen'], refaps['ycentroid']+results['ycen'])\n",
    "results['figures']['slopes'].show()\n",
    "# 265 258\n",
    "# ref 240 259.5"
   ]
  },
  {
   "cell_type": "code",
   "execution_count": 7,
   "metadata": {},
   "outputs": [
    {
     "name": "stdout",
     "output_type": "stream",
     "text": [
      "254.26492980462146 nm\n",
      "Fringe Coefficients\n",
      " Z02: -1.42e+03 nm \t X Tilt (1, 1)\n",
      " Z03:  1.09e+03 nm \t Y Tilt (1, -1)\n",
      " Z04: -1.14e+03 nm \t Defocus (2, 0)\n",
      " Z05:       761 nm \t Primary Astig at 45° (2, -2)\n",
      " Z06: -2.51e+03 nm \t Primary Astig at 0° (2, 2)\n",
      " Z07:  1.34e+03 nm \t Primary Y Coma (3, -1)\n",
      " Z08:      -938 nm \t Primary X Coma (3, 1)\n",
      " Z09:      -217 nm \t Y Trefoil (3, -3)\n",
      " Z10:      82.5 nm \t X Trefoil (3, 3)\n",
      " Z11:      -113 nm \t Primary Spherical (4, 0)\n",
      " Z12:      -258 nm \t Secondary Astigmatism at 0° (4, 2)\n",
      " Z13:      -246 nm \t Secondary Astigmatism at 45° (4, -2)\n",
      " Z14:      -177 nm \t X Tetrafoil (4, 4)\n",
      " Z15:       394 nm \t Y Tetrafoil (4, -4)\n",
      " Z16:      -248 nm \t Secondary X Coma (5, 1)\n",
      " Z17:      20.8 nm \t Secondary Y Coma (5, -1)\n",
      " Z18:     -82.9 nm \t Secondary X Trefoil (5, 3)\n",
      " Z19:       376 nm \t Secondary Y Trefoil (5, -3)\n",
      " Z20:       197 nm \t X Pentafoil (5, 5)\n",
      " Z21:       274 nm \t Y Pentafoil (5, -5)\n",
      " Z22:      -246 nm \t Secondary Spherical (6, 0)\n",
      " Z23:       147 nm \t Tertiary Astigmatism at 45° (6, -2)\n",
      " Z24:       125 nm \t Tertiary Astigmatism at 0° (6, 2)\n",
      " Z25:      -100 nm \t Secondary X Trefoil (6, -4)\n",
      " Z26:     -11.5 nm \t Secondary Y Trefoil (6, 4)\n",
      " Z27:       106 nm \t Y Hexafoil (6, -6)\n",
      " Z28:     -3.82 nm \t X Hexafoil (6, 6)\n",
      " Z29:       185 nm \t Tertiary Y Coma (7, -1)\n",
      " Z30:      51.1 nm \t Tertiary X Coma (7, 1)\n",
      " Z31:     -13.2 nm \t Tertiary Y Trefoil (7, -3)\n",
      " Z32:      36.5 nm \t Tertiary X Trefoil (7, 3)\n",
      " Z33:     -8.94 nm \t Secondary Y Pentafoil (7, -5)\n",
      " Z34:      -200 nm \t Secondary X Pentafoil (7, 5)\n",
      " Z35:     -46.3 nm \t Y Heptafoil (7, -7)\n",
      " Z36:       113 nm \t X Heptafoil (7, 7)\n",
      " Z37:       112 nm \t Tertiary Spherical (8, 0)\n",
      "\n"
     ]
    },
    {
     "data": {
      "application/javascript": [
       "/* Put everything inside the global mpl namespace */\n",
       "window.mpl = {};\n",
       "\n",
       "\n",
       "mpl.get_websocket_type = function() {\n",
       "    if (typeof(WebSocket) !== 'undefined') {\n",
       "        return WebSocket;\n",
       "    } else if (typeof(MozWebSocket) !== 'undefined') {\n",
       "        return MozWebSocket;\n",
       "    } else {\n",
       "        alert('Your browser does not have WebSocket support.' +\n",
       "              'Please try Chrome, Safari or Firefox ≥ 6. ' +\n",
       "              'Firefox 4 and 5 are also supported but you ' +\n",
       "              'have to enable WebSockets in about:config.');\n",
       "    };\n",
       "}\n",
       "\n",
       "mpl.figure = function(figure_id, websocket, ondownload, parent_element) {\n",
       "    this.id = figure_id;\n",
       "\n",
       "    this.ws = websocket;\n",
       "\n",
       "    this.supports_binary = (this.ws.binaryType != undefined);\n",
       "\n",
       "    if (!this.supports_binary) {\n",
       "        var warnings = document.getElementById(\"mpl-warnings\");\n",
       "        if (warnings) {\n",
       "            warnings.style.display = 'block';\n",
       "            warnings.textContent = (\n",
       "                \"This browser does not support binary websocket messages. \" +\n",
       "                    \"Performance may be slow.\");\n",
       "        }\n",
       "    }\n",
       "\n",
       "    this.imageObj = new Image();\n",
       "\n",
       "    this.context = undefined;\n",
       "    this.message = undefined;\n",
       "    this.canvas = undefined;\n",
       "    this.rubberband_canvas = undefined;\n",
       "    this.rubberband_context = undefined;\n",
       "    this.format_dropdown = undefined;\n",
       "\n",
       "    this.image_mode = 'full';\n",
       "\n",
       "    this.root = $('<div/>');\n",
       "    this._root_extra_style(this.root)\n",
       "    this.root.attr('style', 'display: inline-block');\n",
       "\n",
       "    $(parent_element).append(this.root);\n",
       "\n",
       "    this._init_header(this);\n",
       "    this._init_canvas(this);\n",
       "    this._init_toolbar(this);\n",
       "\n",
       "    var fig = this;\n",
       "\n",
       "    this.waiting = false;\n",
       "\n",
       "    this.ws.onopen =  function () {\n",
       "            fig.send_message(\"supports_binary\", {value: fig.supports_binary});\n",
       "            fig.send_message(\"send_image_mode\", {});\n",
       "            if (mpl.ratio != 1) {\n",
       "                fig.send_message(\"set_dpi_ratio\", {'dpi_ratio': mpl.ratio});\n",
       "            }\n",
       "            fig.send_message(\"refresh\", {});\n",
       "        }\n",
       "\n",
       "    this.imageObj.onload = function() {\n",
       "            if (fig.image_mode == 'full') {\n",
       "                // Full images could contain transparency (where diff images\n",
       "                // almost always do), so we need to clear the canvas so that\n",
       "                // there is no ghosting.\n",
       "                fig.context.clearRect(0, 0, fig.canvas.width, fig.canvas.height);\n",
       "            }\n",
       "            fig.context.drawImage(fig.imageObj, 0, 0);\n",
       "        };\n",
       "\n",
       "    this.imageObj.onunload = function() {\n",
       "        this.ws.close();\n",
       "    }\n",
       "\n",
       "    this.ws.onmessage = this._make_on_message_function(this);\n",
       "\n",
       "    this.ondownload = ondownload;\n",
       "}\n",
       "\n",
       "mpl.figure.prototype._init_header = function() {\n",
       "    var titlebar = $(\n",
       "        '<div class=\"ui-dialog-titlebar ui-widget-header ui-corner-all ' +\n",
       "        'ui-helper-clearfix\"/>');\n",
       "    var titletext = $(\n",
       "        '<div class=\"ui-dialog-title\" style=\"width: 100%; ' +\n",
       "        'text-align: center; padding: 3px;\"/>');\n",
       "    titlebar.append(titletext)\n",
       "    this.root.append(titlebar);\n",
       "    this.header = titletext[0];\n",
       "}\n",
       "\n",
       "\n",
       "\n",
       "mpl.figure.prototype._canvas_extra_style = function(canvas_div) {\n",
       "\n",
       "}\n",
       "\n",
       "\n",
       "mpl.figure.prototype._root_extra_style = function(canvas_div) {\n",
       "\n",
       "}\n",
       "\n",
       "mpl.figure.prototype._init_canvas = function() {\n",
       "    var fig = this;\n",
       "\n",
       "    var canvas_div = $('<div/>');\n",
       "\n",
       "    canvas_div.attr('style', 'position: relative; clear: both; outline: 0');\n",
       "\n",
       "    function canvas_keyboard_event(event) {\n",
       "        return fig.key_event(event, event['data']);\n",
       "    }\n",
       "\n",
       "    canvas_div.keydown('key_press', canvas_keyboard_event);\n",
       "    canvas_div.keyup('key_release', canvas_keyboard_event);\n",
       "    this.canvas_div = canvas_div\n",
       "    this._canvas_extra_style(canvas_div)\n",
       "    this.root.append(canvas_div);\n",
       "\n",
       "    var canvas = $('<canvas/>');\n",
       "    canvas.addClass('mpl-canvas');\n",
       "    canvas.attr('style', \"left: 0; top: 0; z-index: 0; outline: 0\")\n",
       "\n",
       "    this.canvas = canvas[0];\n",
       "    this.context = canvas[0].getContext(\"2d\");\n",
       "\n",
       "    var backingStore = this.context.backingStorePixelRatio ||\n",
       "\tthis.context.webkitBackingStorePixelRatio ||\n",
       "\tthis.context.mozBackingStorePixelRatio ||\n",
       "\tthis.context.msBackingStorePixelRatio ||\n",
       "\tthis.context.oBackingStorePixelRatio ||\n",
       "\tthis.context.backingStorePixelRatio || 1;\n",
       "\n",
       "    mpl.ratio = (window.devicePixelRatio || 1) / backingStore;\n",
       "\n",
       "    var rubberband = $('<canvas/>');\n",
       "    rubberband.attr('style', \"position: absolute; left: 0; top: 0; z-index: 1;\")\n",
       "\n",
       "    var pass_mouse_events = true;\n",
       "\n",
       "    canvas_div.resizable({\n",
       "        start: function(event, ui) {\n",
       "            pass_mouse_events = false;\n",
       "        },\n",
       "        resize: function(event, ui) {\n",
       "            fig.request_resize(ui.size.width, ui.size.height);\n",
       "        },\n",
       "        stop: function(event, ui) {\n",
       "            pass_mouse_events = true;\n",
       "            fig.request_resize(ui.size.width, ui.size.height);\n",
       "        },\n",
       "    });\n",
       "\n",
       "    function mouse_event_fn(event) {\n",
       "        if (pass_mouse_events)\n",
       "            return fig.mouse_event(event, event['data']);\n",
       "    }\n",
       "\n",
       "    rubberband.mousedown('button_press', mouse_event_fn);\n",
       "    rubberband.mouseup('button_release', mouse_event_fn);\n",
       "    // Throttle sequential mouse events to 1 every 20ms.\n",
       "    rubberband.mousemove('motion_notify', mouse_event_fn);\n",
       "\n",
       "    rubberband.mouseenter('figure_enter', mouse_event_fn);\n",
       "    rubberband.mouseleave('figure_leave', mouse_event_fn);\n",
       "\n",
       "    canvas_div.on(\"wheel\", function (event) {\n",
       "        event = event.originalEvent;\n",
       "        event['data'] = 'scroll'\n",
       "        if (event.deltaY < 0) {\n",
       "            event.step = 1;\n",
       "        } else {\n",
       "            event.step = -1;\n",
       "        }\n",
       "        mouse_event_fn(event);\n",
       "    });\n",
       "\n",
       "    canvas_div.append(canvas);\n",
       "    canvas_div.append(rubberband);\n",
       "\n",
       "    this.rubberband = rubberband;\n",
       "    this.rubberband_canvas = rubberband[0];\n",
       "    this.rubberband_context = rubberband[0].getContext(\"2d\");\n",
       "    this.rubberband_context.strokeStyle = \"#000000\";\n",
       "\n",
       "    this._resize_canvas = function(width, height) {\n",
       "        // Keep the size of the canvas, canvas container, and rubber band\n",
       "        // canvas in synch.\n",
       "        canvas_div.css('width', width)\n",
       "        canvas_div.css('height', height)\n",
       "\n",
       "        canvas.attr('width', width * mpl.ratio);\n",
       "        canvas.attr('height', height * mpl.ratio);\n",
       "        canvas.attr('style', 'width: ' + width + 'px; height: ' + height + 'px;');\n",
       "\n",
       "        rubberband.attr('width', width);\n",
       "        rubberband.attr('height', height);\n",
       "    }\n",
       "\n",
       "    // Set the figure to an initial 600x600px, this will subsequently be updated\n",
       "    // upon first draw.\n",
       "    this._resize_canvas(600, 600);\n",
       "\n",
       "    // Disable right mouse context menu.\n",
       "    $(this.rubberband_canvas).bind(\"contextmenu\",function(e){\n",
       "        return false;\n",
       "    });\n",
       "\n",
       "    function set_focus () {\n",
       "        canvas.focus();\n",
       "        canvas_div.focus();\n",
       "    }\n",
       "\n",
       "    window.setTimeout(set_focus, 100);\n",
       "}\n",
       "\n",
       "mpl.figure.prototype._init_toolbar = function() {\n",
       "    var fig = this;\n",
       "\n",
       "    var nav_element = $('<div/>')\n",
       "    nav_element.attr('style', 'width: 100%');\n",
       "    this.root.append(nav_element);\n",
       "\n",
       "    // Define a callback function for later on.\n",
       "    function toolbar_event(event) {\n",
       "        return fig.toolbar_button_onclick(event['data']);\n",
       "    }\n",
       "    function toolbar_mouse_event(event) {\n",
       "        return fig.toolbar_button_onmouseover(event['data']);\n",
       "    }\n",
       "\n",
       "    for(var toolbar_ind in mpl.toolbar_items) {\n",
       "        var name = mpl.toolbar_items[toolbar_ind][0];\n",
       "        var tooltip = mpl.toolbar_items[toolbar_ind][1];\n",
       "        var image = mpl.toolbar_items[toolbar_ind][2];\n",
       "        var method_name = mpl.toolbar_items[toolbar_ind][3];\n",
       "\n",
       "        if (!name) {\n",
       "            // put a spacer in here.\n",
       "            continue;\n",
       "        }\n",
       "        var button = $('<button/>');\n",
       "        button.addClass('ui-button ui-widget ui-state-default ui-corner-all ' +\n",
       "                        'ui-button-icon-only');\n",
       "        button.attr('role', 'button');\n",
       "        button.attr('aria-disabled', 'false');\n",
       "        button.click(method_name, toolbar_event);\n",
       "        button.mouseover(tooltip, toolbar_mouse_event);\n",
       "\n",
       "        var icon_img = $('<span/>');\n",
       "        icon_img.addClass('ui-button-icon-primary ui-icon');\n",
       "        icon_img.addClass(image);\n",
       "        icon_img.addClass('ui-corner-all');\n",
       "\n",
       "        var tooltip_span = $('<span/>');\n",
       "        tooltip_span.addClass('ui-button-text');\n",
       "        tooltip_span.html(tooltip);\n",
       "\n",
       "        button.append(icon_img);\n",
       "        button.append(tooltip_span);\n",
       "\n",
       "        nav_element.append(button);\n",
       "    }\n",
       "\n",
       "    var fmt_picker_span = $('<span/>');\n",
       "\n",
       "    var fmt_picker = $('<select/>');\n",
       "    fmt_picker.addClass('mpl-toolbar-option ui-widget ui-widget-content');\n",
       "    fmt_picker_span.append(fmt_picker);\n",
       "    nav_element.append(fmt_picker_span);\n",
       "    this.format_dropdown = fmt_picker[0];\n",
       "\n",
       "    for (var ind in mpl.extensions) {\n",
       "        var fmt = mpl.extensions[ind];\n",
       "        var option = $(\n",
       "            '<option/>', {selected: fmt === mpl.default_extension}).html(fmt);\n",
       "        fmt_picker.append(option)\n",
       "    }\n",
       "\n",
       "    // Add hover states to the ui-buttons\n",
       "    $( \".ui-button\" ).hover(\n",
       "        function() { $(this).addClass(\"ui-state-hover\");},\n",
       "        function() { $(this).removeClass(\"ui-state-hover\");}\n",
       "    );\n",
       "\n",
       "    var status_bar = $('<span class=\"mpl-message\"/>');\n",
       "    nav_element.append(status_bar);\n",
       "    this.message = status_bar[0];\n",
       "}\n",
       "\n",
       "mpl.figure.prototype.request_resize = function(x_pixels, y_pixels) {\n",
       "    // Request matplotlib to resize the figure. Matplotlib will then trigger a resize in the client,\n",
       "    // which will in turn request a refresh of the image.\n",
       "    this.send_message('resize', {'width': x_pixels, 'height': y_pixels});\n",
       "}\n",
       "\n",
       "mpl.figure.prototype.send_message = function(type, properties) {\n",
       "    properties['type'] = type;\n",
       "    properties['figure_id'] = this.id;\n",
       "    this.ws.send(JSON.stringify(properties));\n",
       "}\n",
       "\n",
       "mpl.figure.prototype.send_draw_message = function() {\n",
       "    if (!this.waiting) {\n",
       "        this.waiting = true;\n",
       "        this.ws.send(JSON.stringify({type: \"draw\", figure_id: this.id}));\n",
       "    }\n",
       "}\n",
       "\n",
       "\n",
       "mpl.figure.prototype.handle_save = function(fig, msg) {\n",
       "    var format_dropdown = fig.format_dropdown;\n",
       "    var format = format_dropdown.options[format_dropdown.selectedIndex].value;\n",
       "    fig.ondownload(fig, format);\n",
       "}\n",
       "\n",
       "\n",
       "mpl.figure.prototype.handle_resize = function(fig, msg) {\n",
       "    var size = msg['size'];\n",
       "    if (size[0] != fig.canvas.width || size[1] != fig.canvas.height) {\n",
       "        fig._resize_canvas(size[0], size[1]);\n",
       "        fig.send_message(\"refresh\", {});\n",
       "    };\n",
       "}\n",
       "\n",
       "mpl.figure.prototype.handle_rubberband = function(fig, msg) {\n",
       "    var x0 = msg['x0'] / mpl.ratio;\n",
       "    var y0 = (fig.canvas.height - msg['y0']) / mpl.ratio;\n",
       "    var x1 = msg['x1'] / mpl.ratio;\n",
       "    var y1 = (fig.canvas.height - msg['y1']) / mpl.ratio;\n",
       "    x0 = Math.floor(x0) + 0.5;\n",
       "    y0 = Math.floor(y0) + 0.5;\n",
       "    x1 = Math.floor(x1) + 0.5;\n",
       "    y1 = Math.floor(y1) + 0.5;\n",
       "    var min_x = Math.min(x0, x1);\n",
       "    var min_y = Math.min(y0, y1);\n",
       "    var width = Math.abs(x1 - x0);\n",
       "    var height = Math.abs(y1 - y0);\n",
       "\n",
       "    fig.rubberband_context.clearRect(\n",
       "        0, 0, fig.canvas.width, fig.canvas.height);\n",
       "\n",
       "    fig.rubberband_context.strokeRect(min_x, min_y, width, height);\n",
       "}\n",
       "\n",
       "mpl.figure.prototype.handle_figure_label = function(fig, msg) {\n",
       "    // Updates the figure title.\n",
       "    fig.header.textContent = msg['label'];\n",
       "}\n",
       "\n",
       "mpl.figure.prototype.handle_cursor = function(fig, msg) {\n",
       "    var cursor = msg['cursor'];\n",
       "    switch(cursor)\n",
       "    {\n",
       "    case 0:\n",
       "        cursor = 'pointer';\n",
       "        break;\n",
       "    case 1:\n",
       "        cursor = 'default';\n",
       "        break;\n",
       "    case 2:\n",
       "        cursor = 'crosshair';\n",
       "        break;\n",
       "    case 3:\n",
       "        cursor = 'move';\n",
       "        break;\n",
       "    }\n",
       "    fig.rubberband_canvas.style.cursor = cursor;\n",
       "}\n",
       "\n",
       "mpl.figure.prototype.handle_message = function(fig, msg) {\n",
       "    fig.message.textContent = msg['message'];\n",
       "}\n",
       "\n",
       "mpl.figure.prototype.handle_draw = function(fig, msg) {\n",
       "    // Request the server to send over a new figure.\n",
       "    fig.send_draw_message();\n",
       "}\n",
       "\n",
       "mpl.figure.prototype.handle_image_mode = function(fig, msg) {\n",
       "    fig.image_mode = msg['mode'];\n",
       "}\n",
       "\n",
       "mpl.figure.prototype.updated_canvas_event = function() {\n",
       "    // Called whenever the canvas gets updated.\n",
       "    this.send_message(\"ack\", {});\n",
       "}\n",
       "\n",
       "// A function to construct a web socket function for onmessage handling.\n",
       "// Called in the figure constructor.\n",
       "mpl.figure.prototype._make_on_message_function = function(fig) {\n",
       "    return function socket_on_message(evt) {\n",
       "        if (evt.data instanceof Blob) {\n",
       "            /* FIXME: We get \"Resource interpreted as Image but\n",
       "             * transferred with MIME type text/plain:\" errors on\n",
       "             * Chrome.  But how to set the MIME type?  It doesn't seem\n",
       "             * to be part of the websocket stream */\n",
       "            evt.data.type = \"image/png\";\n",
       "\n",
       "            /* Free the memory for the previous frames */\n",
       "            if (fig.imageObj.src) {\n",
       "                (window.URL || window.webkitURL).revokeObjectURL(\n",
       "                    fig.imageObj.src);\n",
       "            }\n",
       "\n",
       "            fig.imageObj.src = (window.URL || window.webkitURL).createObjectURL(\n",
       "                evt.data);\n",
       "            fig.updated_canvas_event();\n",
       "            fig.waiting = false;\n",
       "            return;\n",
       "        }\n",
       "        else if (typeof evt.data === 'string' && evt.data.slice(0, 21) == \"data:image/png;base64\") {\n",
       "            fig.imageObj.src = evt.data;\n",
       "            fig.updated_canvas_event();\n",
       "            fig.waiting = false;\n",
       "            return;\n",
       "        }\n",
       "\n",
       "        var msg = JSON.parse(evt.data);\n",
       "        var msg_type = msg['type'];\n",
       "\n",
       "        // Call the  \"handle_{type}\" callback, which takes\n",
       "        // the figure and JSON message as its only arguments.\n",
       "        try {\n",
       "            var callback = fig[\"handle_\" + msg_type];\n",
       "        } catch (e) {\n",
       "            console.log(\"No handler for the '\" + msg_type + \"' message type: \", msg);\n",
       "            return;\n",
       "        }\n",
       "\n",
       "        if (callback) {\n",
       "            try {\n",
       "                // console.log(\"Handling '\" + msg_type + \"' message: \", msg);\n",
       "                callback(fig, msg);\n",
       "            } catch (e) {\n",
       "                console.log(\"Exception inside the 'handler_\" + msg_type + \"' callback:\", e, e.stack, msg);\n",
       "            }\n",
       "        }\n",
       "    };\n",
       "}\n",
       "\n",
       "// from http://stackoverflow.com/questions/1114465/getting-mouse-location-in-canvas\n",
       "mpl.findpos = function(e) {\n",
       "    //this section is from http://www.quirksmode.org/js/events_properties.html\n",
       "    var targ;\n",
       "    if (!e)\n",
       "        e = window.event;\n",
       "    if (e.target)\n",
       "        targ = e.target;\n",
       "    else if (e.srcElement)\n",
       "        targ = e.srcElement;\n",
       "    if (targ.nodeType == 3) // defeat Safari bug\n",
       "        targ = targ.parentNode;\n",
       "\n",
       "    // jQuery normalizes the pageX and pageY\n",
       "    // pageX,Y are the mouse positions relative to the document\n",
       "    // offset() returns the position of the element relative to the document\n",
       "    var x = e.pageX - $(targ).offset().left;\n",
       "    var y = e.pageY - $(targ).offset().top;\n",
       "\n",
       "    return {\"x\": x, \"y\": y};\n",
       "};\n",
       "\n",
       "/*\n",
       " * return a copy of an object with only non-object keys\n",
       " * we need this to avoid circular references\n",
       " * http://stackoverflow.com/a/24161582/3208463\n",
       " */\n",
       "function simpleKeys (original) {\n",
       "  return Object.keys(original).reduce(function (obj, key) {\n",
       "    if (typeof original[key] !== 'object')\n",
       "        obj[key] = original[key]\n",
       "    return obj;\n",
       "  }, {});\n",
       "}\n",
       "\n",
       "mpl.figure.prototype.mouse_event = function(event, name) {\n",
       "    var canvas_pos = mpl.findpos(event)\n",
       "\n",
       "    if (name === 'button_press')\n",
       "    {\n",
       "        this.canvas.focus();\n",
       "        this.canvas_div.focus();\n",
       "    }\n",
       "\n",
       "    var x = canvas_pos.x * mpl.ratio;\n",
       "    var y = canvas_pos.y * mpl.ratio;\n",
       "\n",
       "    this.send_message(name, {x: x, y: y, button: event.button,\n",
       "                             step: event.step,\n",
       "                             guiEvent: simpleKeys(event)});\n",
       "\n",
       "    /* This prevents the web browser from automatically changing to\n",
       "     * the text insertion cursor when the button is pressed.  We want\n",
       "     * to control all of the cursor setting manually through the\n",
       "     * 'cursor' event from matplotlib */\n",
       "    event.preventDefault();\n",
       "    return false;\n",
       "}\n",
       "\n",
       "mpl.figure.prototype._key_event_extra = function(event, name) {\n",
       "    // Handle any extra behaviour associated with a key event\n",
       "}\n",
       "\n",
       "mpl.figure.prototype.key_event = function(event, name) {\n",
       "\n",
       "    // Prevent repeat events\n",
       "    if (name == 'key_press')\n",
       "    {\n",
       "        if (event.which === this._key)\n",
       "            return;\n",
       "        else\n",
       "            this._key = event.which;\n",
       "    }\n",
       "    if (name == 'key_release')\n",
       "        this._key = null;\n",
       "\n",
       "    var value = '';\n",
       "    if (event.ctrlKey && event.which != 17)\n",
       "        value += \"ctrl+\";\n",
       "    if (event.altKey && event.which != 18)\n",
       "        value += \"alt+\";\n",
       "    if (event.shiftKey && event.which != 16)\n",
       "        value += \"shift+\";\n",
       "\n",
       "    value += 'k';\n",
       "    value += event.which.toString();\n",
       "\n",
       "    this._key_event_extra(event, name);\n",
       "\n",
       "    this.send_message(name, {key: value,\n",
       "                             guiEvent: simpleKeys(event)});\n",
       "    return false;\n",
       "}\n",
       "\n",
       "mpl.figure.prototype.toolbar_button_onclick = function(name) {\n",
       "    if (name == 'download') {\n",
       "        this.handle_save(this, null);\n",
       "    } else {\n",
       "        this.send_message(\"toolbar_button\", {name: name});\n",
       "    }\n",
       "};\n",
       "\n",
       "mpl.figure.prototype.toolbar_button_onmouseover = function(tooltip) {\n",
       "    this.message.textContent = tooltip;\n",
       "};\n",
       "mpl.toolbar_items = [[\"Home\", \"Reset original view\", \"fa fa-home icon-home\", \"home\"], [\"Back\", \"Back to  previous view\", \"fa fa-arrow-left icon-arrow-left\", \"back\"], [\"Forward\", \"Forward to next view\", \"fa fa-arrow-right icon-arrow-right\", \"forward\"], [\"\", \"\", \"\", \"\"], [\"Pan\", \"Pan axes with left mouse, zoom with right\", \"fa fa-arrows icon-move\", \"pan\"], [\"Zoom\", \"Zoom to rectangle\", \"fa fa-square-o icon-check-empty\", \"zoom\"], [\"\", \"\", \"\", \"\"], [\"Download\", \"Download plot\", \"fa fa-floppy-o icon-save\", \"download\"]];\n",
       "\n",
       "mpl.extensions = [\"eps\", \"jpeg\", \"pdf\", \"png\", \"ps\", \"raw\", \"svg\", \"tif\"];\n",
       "\n",
       "mpl.default_extension = \"png\";var comm_websocket_adapter = function(comm) {\n",
       "    // Create a \"websocket\"-like object which calls the given IPython comm\n",
       "    // object with the appropriate methods. Currently this is a non binary\n",
       "    // socket, so there is still some room for performance tuning.\n",
       "    var ws = {};\n",
       "\n",
       "    ws.close = function() {\n",
       "        comm.close()\n",
       "    };\n",
       "    ws.send = function(m) {\n",
       "        //console.log('sending', m);\n",
       "        comm.send(m);\n",
       "    };\n",
       "    // Register the callback with on_msg.\n",
       "    comm.on_msg(function(msg) {\n",
       "        //console.log('receiving', msg['content']['data'], msg);\n",
       "        // Pass the mpl event to the overriden (by mpl) onmessage function.\n",
       "        ws.onmessage(msg['content']['data'])\n",
       "    });\n",
       "    return ws;\n",
       "}\n",
       "\n",
       "mpl.mpl_figure_comm = function(comm, msg) {\n",
       "    // This is the function which gets called when the mpl process\n",
       "    // starts-up an IPython Comm through the \"matplotlib\" channel.\n",
       "\n",
       "    var id = msg.content.data.id;\n",
       "    // Get hold of the div created by the display call when the Comm\n",
       "    // socket was opened in Python.\n",
       "    var element = $(\"#\" + id);\n",
       "    var ws_proxy = comm_websocket_adapter(comm)\n",
       "\n",
       "    function ondownload(figure, format) {\n",
       "        window.open(figure.imageObj.src);\n",
       "    }\n",
       "\n",
       "    var fig = new mpl.figure(id, ws_proxy,\n",
       "                           ondownload,\n",
       "                           element.get(0));\n",
       "\n",
       "    // Call onopen now - mpl needs it, as it is assuming we've passed it a real\n",
       "    // web socket which is closed, not our websocket->open comm proxy.\n",
       "    ws_proxy.onopen();\n",
       "\n",
       "    fig.parent_element = element.get(0);\n",
       "    fig.cell_info = mpl.find_output_cell(\"<div id='\" + id + \"'></div>\");\n",
       "    if (!fig.cell_info) {\n",
       "        console.error(\"Failed to find cell for figure\", id, fig);\n",
       "        return;\n",
       "    }\n",
       "\n",
       "    var output_index = fig.cell_info[2]\n",
       "    var cell = fig.cell_info[0];\n",
       "\n",
       "};\n",
       "\n",
       "mpl.figure.prototype.handle_close = function(fig, msg) {\n",
       "    var width = fig.canvas.width/mpl.ratio\n",
       "    fig.root.unbind('remove')\n",
       "\n",
       "    // Update the output cell to use the data from the current canvas.\n",
       "    fig.push_to_output();\n",
       "    var dataURL = fig.canvas.toDataURL();\n",
       "    // Re-enable the keyboard manager in IPython - without this line, in FF,\n",
       "    // the notebook keyboard shortcuts fail.\n",
       "    IPython.keyboard_manager.enable()\n",
       "    $(fig.parent_element).html('<img src=\"' + dataURL + '\" width=\"' + width + '\">');\n",
       "    fig.close_ws(fig, msg);\n",
       "}\n",
       "\n",
       "mpl.figure.prototype.close_ws = function(fig, msg){\n",
       "    fig.send_message('closing', msg);\n",
       "    // fig.ws.close()\n",
       "}\n",
       "\n",
       "mpl.figure.prototype.push_to_output = function(remove_interactive) {\n",
       "    // Turn the data on the canvas into data in the output cell.\n",
       "    var width = this.canvas.width/mpl.ratio\n",
       "    var dataURL = this.canvas.toDataURL();\n",
       "    this.cell_info[1]['text/html'] = '<img src=\"' + dataURL + '\" width=\"' + width + '\">';\n",
       "}\n",
       "\n",
       "mpl.figure.prototype.updated_canvas_event = function() {\n",
       "    // Tell IPython that the notebook contents must change.\n",
       "    IPython.notebook.set_dirty(true);\n",
       "    this.send_message(\"ack\", {});\n",
       "    var fig = this;\n",
       "    // Wait a second, then push the new image to the DOM so\n",
       "    // that it is saved nicely (might be nice to debounce this).\n",
       "    setTimeout(function () { fig.push_to_output() }, 1000);\n",
       "}\n",
       "\n",
       "mpl.figure.prototype._init_toolbar = function() {\n",
       "    var fig = this;\n",
       "\n",
       "    var nav_element = $('<div/>')\n",
       "    nav_element.attr('style', 'width: 100%');\n",
       "    this.root.append(nav_element);\n",
       "\n",
       "    // Define a callback function for later on.\n",
       "    function toolbar_event(event) {\n",
       "        return fig.toolbar_button_onclick(event['data']);\n",
       "    }\n",
       "    function toolbar_mouse_event(event) {\n",
       "        return fig.toolbar_button_onmouseover(event['data']);\n",
       "    }\n",
       "\n",
       "    for(var toolbar_ind in mpl.toolbar_items){\n",
       "        var name = mpl.toolbar_items[toolbar_ind][0];\n",
       "        var tooltip = mpl.toolbar_items[toolbar_ind][1];\n",
       "        var image = mpl.toolbar_items[toolbar_ind][2];\n",
       "        var method_name = mpl.toolbar_items[toolbar_ind][3];\n",
       "\n",
       "        if (!name) { continue; };\n",
       "\n",
       "        var button = $('<button class=\"btn btn-default\" href=\"#\" title=\"' + name + '\"><i class=\"fa ' + image + ' fa-lg\"></i></button>');\n",
       "        button.click(method_name, toolbar_event);\n",
       "        button.mouseover(tooltip, toolbar_mouse_event);\n",
       "        nav_element.append(button);\n",
       "    }\n",
       "\n",
       "    // Add the status bar.\n",
       "    var status_bar = $('<span class=\"mpl-message\" style=\"text-align:right; float: right;\"/>');\n",
       "    nav_element.append(status_bar);\n",
       "    this.message = status_bar[0];\n",
       "\n",
       "    // Add the close button to the window.\n",
       "    var buttongrp = $('<div class=\"btn-group inline pull-right\"></div>');\n",
       "    var button = $('<button class=\"btn btn-mini btn-primary\" href=\"#\" title=\"Stop Interaction\"><i class=\"fa fa-power-off icon-remove icon-large\"></i></button>');\n",
       "    button.click(function (evt) { fig.handle_close(fig, {}); } );\n",
       "    button.mouseover('Stop Interaction', toolbar_mouse_event);\n",
       "    buttongrp.append(button);\n",
       "    var titlebar = this.root.find($('.ui-dialog-titlebar'));\n",
       "    titlebar.prepend(buttongrp);\n",
       "}\n",
       "\n",
       "mpl.figure.prototype._root_extra_style = function(el){\n",
       "    var fig = this\n",
       "    el.on(\"remove\", function(){\n",
       "\tfig.close_ws(fig, {});\n",
       "    });\n",
       "}\n",
       "\n",
       "mpl.figure.prototype._canvas_extra_style = function(el){\n",
       "    // this is important to make the div 'focusable\n",
       "    el.attr('tabindex', 0)\n",
       "    // reach out to IPython and tell the keyboard manager to turn it's self\n",
       "    // off when our div gets focus\n",
       "\n",
       "    // location in version 3\n",
       "    if (IPython.notebook.keyboard_manager) {\n",
       "        IPython.notebook.keyboard_manager.register_events(el);\n",
       "    }\n",
       "    else {\n",
       "        // location in version 2\n",
       "        IPython.keyboard_manager.register_events(el);\n",
       "    }\n",
       "\n",
       "}\n",
       "\n",
       "mpl.figure.prototype._key_event_extra = function(event, name) {\n",
       "    var manager = IPython.notebook.keyboard_manager;\n",
       "    if (!manager)\n",
       "        manager = IPython.keyboard_manager;\n",
       "\n",
       "    // Check for shift+enter\n",
       "    if (event.shiftKey && event.which == 13) {\n",
       "        this.canvas_div.blur();\n",
       "        // select the cell after this one\n",
       "        var index = IPython.notebook.find_cell_index(this.cell_info[0]);\n",
       "        IPython.notebook.select(index + 1);\n",
       "    }\n",
       "}\n",
       "\n",
       "mpl.figure.prototype.handle_save = function(fig, msg) {\n",
       "    fig.ondownload(fig, null);\n",
       "}\n",
       "\n",
       "\n",
       "mpl.find_output_cell = function(html_output) {\n",
       "    // Return the cell and output element which can be found *uniquely* in the notebook.\n",
       "    // Note - this is a bit hacky, but it is done because the \"notebook_saving.Notebook\"\n",
       "    // IPython event is triggered only after the cells have been serialised, which for\n",
       "    // our purposes (turning an active figure into a static one), is too late.\n",
       "    var cells = IPython.notebook.get_cells();\n",
       "    var ncells = cells.length;\n",
       "    for (var i=0; i<ncells; i++) {\n",
       "        var cell = cells[i];\n",
       "        if (cell.cell_type === 'code'){\n",
       "            for (var j=0; j<cell.output_area.outputs.length; j++) {\n",
       "                var data = cell.output_area.outputs[j];\n",
       "                if (data.data) {\n",
       "                    // IPython >= 3 moved mimebundle to data attribute of output\n",
       "                    data = data.data;\n",
       "                }\n",
       "                if (data['text/html'] == html_output) {\n",
       "                    return [cell, data, j];\n",
       "                }\n",
       "            }\n",
       "        }\n",
       "    }\n",
       "}\n",
       "\n",
       "// Register the function which deals with the matplotlib target/channel.\n",
       "// The kernel may be null if the page has been refreshed.\n",
       "if (IPython.notebook.kernel != null) {\n",
       "    IPython.notebook.kernel.comm_manager.register_target('matplotlib', mpl.mpl_figure_comm);\n",
       "}\n"
      ],
      "text/plain": [
       "<IPython.core.display.Javascript object>"
      ]
     },
     "metadata": {},
     "output_type": "display_data"
    },
    {
     "data": {
      "text/html": [
       "<img src=\"data:image/png;base64,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\" width=\"640\">"
      ],
      "text/plain": [
       "<IPython.core.display.HTML object>"
      ]
     },
     "metadata": {},
     "output_type": "display_data"
    }
   ],
   "source": [
    "zresults = f9wfs.fit_wavefront(results, plot=True)\n",
    "print(zresults['residual_rms'])\n",
    "print(zresults['zernike'])\n",
    "zresults['resid_plot'].show()"
   ]
  },
  {
   "cell_type": "code",
   "execution_count": null,
   "metadata": {},
   "outputs": [],
   "source": [
    "fig, ax = plt.subplots()\n",
    "fit = results['grid_fit']\n",
    "refx = refaps['xcentroid'] * (fit['scale'] + refaps['xcentroid'] * fit['xcoma']) + results['xcen']\n",
    "refy = refaps['ycentroid'] * (fit['scale'] + refaps['ycentroid'] * fit['ycoma']) + results['ycen']\n",
    "x, y = results['apertures'].positions.transpose()[0], results['apertures'].positions.transpose()[1]\n",
    "spacing = 0.5*(results['xspacing'] + results['yspacing'])\n",
    "ax.scatter(refx, refy)\n",
    "ax.set_aspect('equal')\n",
    "ax.scatter(x, y)\n",
    "ax.set_xlim(0, 845)\n",
    "ax.set_ylim(0, 845)\n",
    "fig.show()"
   ]
  },
  {
   "cell_type": "code",
   "execution_count": null,
   "metadata": {},
   "outputs": [],
   "source": [
    "fit"
   ]
  },
  {
   "cell_type": "code",
   "execution_count": null,
   "metadata": {
    "collapsed": true
   },
   "outputs": [],
   "source": [
    "spots = {'xcentroid': x, 'ycentroid': y}\n",
    "from scipy import optimize\n",
    "\n",
    "def match_apertures(refx, refy, spotx, spoty):\n",
    "    tot_dist = 0.0\n",
    "    refs = np.array([refx, refy])\n",
    "    spots = np.array([spotx, spoty])\n",
    "    match = np.empty(len(refx))\n",
    "    max_r = spacing / 2.\n",
    "    for i in np.arange(len(refx)):\n",
    "        dists = np.sqrt( (spots[0]-refs[0][i])**2 + (spots[1]-refs[1][i])**2 )\n",
    "        tot_dist += np.min(dists)\n",
    "    return tot_dist\n",
    "\n",
    "def fit_apertures(pars, ref, spots):\n",
    "    xc = pars[0]\n",
    "    yc = pars[1]\n",
    "    xscale = pars[2]\n",
    "    yscale = pars[3]\n",
    "    xcoma = pars[4]\n",
    "    ycoma = pars[5]\n",
    "    refx = ref['xcentroid'] * (xscale + ref['xcentroid'] * xcoma) + xc\n",
    "    refy = ref['ycentroid'] * (yscale + ref['ycentroid'] * ycoma) + yc\n",
    "    spotx = spots['xcentroid']\n",
    "    spoty = spots['ycentroid']\n",
    "    dist = match_apertures(refx, refy, spotx, spoty)\n",
    "    return dist"
   ]
  },
  {
   "cell_type": "code",
   "execution_count": null,
   "metadata": {
    "collapsed": true
   },
   "outputs": [],
   "source": [
    "#%%timeit\n",
    "args = (refaps, spots)\n",
    "pars = (results['xcen'], results['ycen'], 1.0, 1.0, 0.0, 0.0)\n",
    "bounds = (\n",
    "    (results['xcen']-50, results['xcen']+50), \n",
    "    (results['ycen']-50, results['ycen']+50),\n",
    "    (0.8, 1.2),\n",
    "    (0.8, 1.2),\n",
    "    (-0.1, 0.1),\n",
    "    (-0.1, 0.1)\n",
    ")\n",
    "res = optimize.minimize(fit_apertures, pars, args=args, bounds=bounds)\n",
    "res"
   ]
  },
  {
   "cell_type": "code",
   "execution_count": null,
   "metadata": {
    "collapsed": true
   },
   "outputs": [],
   "source": [
    "fig, ax = plt.subplots()\n",
    "refx, refy = refaps['xcentroid'], refaps['ycentroid']\n",
    "refx = refx * (res['x'][2] + refx*res['x'][4]) + res['x'][0]\n",
    "refy = refy * (res['x'][3] + refy*res['x'][5]) + res['x'][1]\n",
    "x, y = results['apertures'].positions.transpose()[0], results['apertures'].positions.transpose()[1]\n",
    "ax.scatter(refx, refy)\n",
    "ax.set_aspect('equal')\n",
    "ax.scatter(x, y)\n",
    "ax.set_xlim(0, 845)\n",
    "ax.set_ylim(0, 845)\n",
    "fig.show()"
   ]
  },
  {
   "cell_type": "code",
   "execution_count": null,
   "metadata": {
    "collapsed": true
   },
   "outputs": [],
   "source": [
    "print(f9wfs.modes['blue']['reference']['xcen'], f9wfs.modes['blue']['reference']['ycen'])\n",
    "print(f9wfs.modes['blue']['reference']['xspacing'], f9wfs.modes['blue']['reference']['yspacing'])\n",
    "f9wfs.modes['blue']['reference'].keys()"
   ]
  },
  {
   "cell_type": "code",
   "execution_count": null,
   "metadata": {
    "collapsed": true
   },
   "outputs": [],
   "source": [
    "zv = zresults['zernike']\n",
    "print(zv.rms)\n",
    "zv.ignore('Z02')\n",
    "zv.ignore('Z03')\n",
    "f = zv.plot_map()\n",
    "f.show()"
   ]
  },
  {
   "cell_type": "code",
   "execution_count": null,
   "metadata": {
    "collapsed": true
   },
   "outputs": [],
   "source": [
    "bc = zv.bar_chart(residual=zresults['residual_rms'])\n",
    "bc.show()"
   ]
  },
  {
   "cell_type": "code",
   "execution_count": null,
   "metadata": {
    "collapsed": true
   },
   "outputs": [],
   "source": [
    "psf, psf_fig = f9wfs.telescope.psf(zv, fov=1.0)\n",
    "psf_fig.show()"
   ]
  },
  {
   "cell_type": "code",
   "execution_count": null,
   "metadata": {
    "collapsed": true
   },
   "outputs": [],
   "source": [
    "plt.close('all')"
   ]
  },
  {
   "cell_type": "markdown",
   "metadata": {},
   "source": [
    "# F/5 Dev Section"
   ]
  },
  {
   "cell_type": "code",
   "execution_count": null,
   "metadata": {
    "collapsed": true
   },
   "outputs": [],
   "source": [
    "plt.close('all')\n",
    "f5wfs = WFSFactory(wfs=\"f5\")"
   ]
  },
  {
   "cell_type": "code",
   "execution_count": null,
   "metadata": {},
   "outputs": [],
   "source": [
    "#%%prun\n",
    "f5_file = \"/Users/tim/MMT/wfsdat/20170605/manual_wfs_0005.fits\"\n",
    "results = f5wfs.measure_slopes(f5_file, 'hecto', plot=True)\n",
    "results['figures']['slopes'].show()"
   ]
  },
  {
   "cell_type": "code",
   "execution_count": null,
   "metadata": {},
   "outputs": [],
   "source": [
    "#%%prun\n",
    "zresults = f5wfs.fit_wavefront(results, plot=True)\n",
    "zv = zresults['zernike']\n",
    "print(zv)\n",
    "print(zv.rms)\n",
    "zresults['resid_plot'].show()"
   ]
  },
  {
   "cell_type": "code",
   "execution_count": null,
   "metadata": {
    "collapsed": true
   },
   "outputs": [],
   "source": [
    "zf = zv.bar_chart(residual=zresults['residual_rms'], total=True, max_c=500*u.nm)\n",
    "zf.show()\n",
    "zresults['residual_rms']"
   ]
  },
  {
   "cell_type": "code",
   "execution_count": null,
   "metadata": {
    "collapsed": true
   },
   "outputs": [],
   "source": [
    "zv.ignore('Z02')\n",
    "zv.ignore('Z03')\n",
    "zv.ignore('Z04')\n",
    "print(zv.rms)\n",
    "mf = zv.plot_map()\n",
    "mf.axes[0].set_title(\"boo\")\n",
    "mf.show()"
   ]
  },
  {
   "cell_type": "code",
   "execution_count": null,
   "metadata": {
    "collapsed": true
   },
   "outputs": [],
   "source": [
    "t, m1foc = f5wfs.telescope.calculate_primary_corrections(zresults['zernike'])"
   ]
  },
  {
   "cell_type": "code",
   "execution_count": null,
   "metadata": {
    "collapsed": true
   },
   "outputs": [],
   "source": [
    "fplot = f5wfs.telescope.plot_forces(t, m1focus=m1foc)\n",
    "fplot.show()"
   ]
  },
  {
   "cell_type": "code",
   "execution_count": null,
   "metadata": {
    "collapsed": true
   },
   "outputs": [],
   "source": [
    "t.show_in_notebook()"
   ]
  },
  {
   "cell_type": "markdown",
   "metadata": {},
   "source": [
    "# Scratch space"
   ]
  },
  {
   "cell_type": "code",
   "execution_count": null,
   "metadata": {
    "collapsed": true
   },
   "outputs": [],
   "source": [
    "cen = center_pupil(subt, pup, plot=True)\n",
    "print(cen)\n",
    "plt.show()"
   ]
  },
  {
   "cell_type": "code",
   "execution_count": null,
   "metadata": {
    "collapsed": true
   },
   "outputs": [],
   "source": [
    "from astropy.io import ascii"
   ]
  },
  {
   "cell_type": "code",
   "execution_count": null,
   "metadata": {
    "collapsed": true
   },
   "outputs": [],
   "source": [
    "t = f9wfs.telescope\n",
    "m = t.zern_map"
   ]
  },
  {
   "cell_type": "code",
   "execution_count": null,
   "metadata": {
    "collapsed": true
   },
   "outputs": [],
   "source": [
    "z = np.loadtxt(\"/Users/tim/MMT/wfsdat/20170110/mmirs_wfs_0375.dao.sub.zrn.cor\")\n",
    "z1 = np.loadtxt(\"/Users/tim/MMT/wfsdat/20170110/mmirs_wfs_0375.dao.av.zrn\")"
   ]
  },
  {
   "cell_type": "code",
   "execution_count": null,
   "metadata": {
    "collapsed": true
   },
   "outputs": [],
   "source": [
    "z1 - z"
   ]
  },
  {
   "cell_type": "code",
   "execution_count": null,
   "metadata": {
    "collapsed": true
   },
   "outputs": [],
   "source": [
    "Z = ZernikeVector(coeffs=z, zmap=m)"
   ]
  },
  {
   "cell_type": "code",
   "execution_count": null,
   "metadata": {
    "collapsed": true
   },
   "outputs": [],
   "source": [
    "Z"
   ]
  },
  {
   "cell_type": "code",
   "execution_count": null,
   "metadata": {
    "collapsed": true
   },
   "outputs": [],
   "source": [
    "from astropy.table import Table\n",
    "from astropy.io import ascii"
   ]
  },
  {
   "cell_type": "code",
   "execution_count": null,
   "metadata": {
    "collapsed": true
   },
   "outputs": [],
   "source": [
    "t = ascii.read(\"/Users/tim/MMT/mmtwfs/mmtwfs/data/mmirszernfield.tab\")"
   ]
  },
  {
   "cell_type": "code",
   "execution_count": null,
   "metadata": {
    "collapsed": true
   },
   "outputs": [],
   "source": [
    "t"
   ]
  },
  {
   "cell_type": "code",
   "execution_count": null,
   "metadata": {
    "collapsed": true
   },
   "outputs": [],
   "source": [
    "np.interp(0.12, t['field_r'], t['Z01'])"
   ]
  },
  {
   "cell_type": "code",
   "execution_count": null,
   "metadata": {
    "collapsed": true
   },
   "outputs": [],
   "source": [
    "range(4, 11)"
   ]
  },
  {
   "cell_type": "code",
   "execution_count": null,
   "metadata": {
    "collapsed": true
   },
   "outputs": [],
   "source": [
    "for i in range(4, 12):\n",
    "    print(\"Z%02d\" % i)"
   ]
  },
  {
   "cell_type": "code",
   "execution_count": null,
   "metadata": {
    "collapsed": true
   },
   "outputs": [],
   "source": [
    "np.max(1, 2)"
   ]
  },
  {
   "cell_type": "code",
   "execution_count": null,
   "metadata": {
    "collapsed": true
   },
   "outputs": [],
   "source": [
    "6.75 + 20.30 + 242.15 + 430.51"
   ]
  },
  {
   "cell_type": "code",
   "execution_count": null,
   "metadata": {
    "collapsed": true
   },
   "outputs": [],
   "source": [
    "13296 - (973.15/.575) - 1025.8"
   ]
  },
  {
   "cell_type": "code",
   "execution_count": null,
   "metadata": {
    "collapsed": true
   },
   "outputs": [],
   "source": [
    "23*6 + 12*6"
   ]
  },
  {
   "cell_type": "code",
   "execution_count": null,
   "metadata": {
    "collapsed": true
   },
   "outputs": [],
   "source": [
    "58.69*12"
   ]
  },
  {
   "cell_type": "code",
   "execution_count": null,
   "metadata": {
    "collapsed": true
   },
   "outputs": [],
   "source": [
    "210+16+69.5+704.28"
   ]
  },
  {
   "cell_type": "code",
   "execution_count": null,
   "metadata": {
    "collapsed": true
   },
   "outputs": [],
   "source": [
    "2225.37 - (977.15 + 999.78 + 699.71)"
   ]
  },
  {
   "cell_type": "code",
   "execution_count": null,
   "metadata": {
    "collapsed": true
   },
   "outputs": [],
   "source": [
    "103212.81+341.47-451.27+9632.5"
   ]
  },
  {
   "cell_type": "code",
   "execution_count": null,
   "metadata": {
    "collapsed": true
   },
   "outputs": [],
   "source": [
    "7324.5+3951.34"
   ]
  },
  {
   "cell_type": "code",
   "execution_count": null,
   "metadata": {
    "collapsed": true
   },
   "outputs": [],
   "source": [
    "112735.51 - (11275.84 + 7245.8 + 56) - 12150"
   ]
  },
  {
   "cell_type": "code",
   "execution_count": null,
   "metadata": {
    "collapsed": true
   },
   "outputs": [],
   "source": [
    "4050*3"
   ]
  },
  {
   "cell_type": "code",
   "execution_count": null,
   "metadata": {
    "collapsed": true
   },
   "outputs": [],
   "source": [
    "3000*.05"
   ]
  },
  {
   "cell_type": "code",
   "execution_count": null,
   "metadata": {
    "collapsed": true
   },
   "outputs": [],
   "source": [
    "28910/98610"
   ]
  },
  {
   "cell_type": "code",
   "execution_count": null,
   "metadata": {
    "collapsed": true
   },
   "outputs": [],
   "source": [
    "ai = [247.68, 252.69, 257.79, 261.79, 266.88, 696.98, 280.11, 261.96, 261.96, 261.92, 261.96]\n",
    "pep = [146.43, 147.28, 145.18, 142.83, 140.7, 138.47, 136.4, 134.18, 132.18, 129.89, 128.12, 126.22]"
   ]
  },
  {
   "cell_type": "code",
   "execution_count": null,
   "metadata": {
    "collapsed": true
   },
   "outputs": [],
   "source": [
    "0.2* (28910/98610 * (np.sum(ai) + np.sum(pep)))"
   ]
  },
  {
   "cell_type": "code",
   "execution_count": null,
   "metadata": {
    "collapsed": true
   },
   "outputs": [],
   "source": [
    "len(pep)"
   ]
  },
  {
   "cell_type": "code",
   "execution_count": null,
   "metadata": {
    "collapsed": true
   },
   "outputs": [],
   "source": [
    "12049 - (290.81 + 850)"
   ]
  },
  {
   "cell_type": "code",
   "execution_count": null,
   "metadata": {
    "collapsed": true
   },
   "outputs": [],
   "source": [
    "18577.64-7324.5"
   ]
  },
  {
   "cell_type": "code",
   "execution_count": null,
   "metadata": {
    "collapsed": true
   },
   "outputs": [],
   "source": [
    "110940.01-11253.14 - 9600"
   ]
  },
  {
   "cell_type": "code",
   "execution_count": null,
   "metadata": {
    "collapsed": true
   },
   "outputs": [],
   "source": [
    "0.032 * 90086.87 + 4226.63"
   ]
  },
  {
   "cell_type": "code",
   "execution_count": null,
   "metadata": {
    "collapsed": true
   },
   "outputs": [],
   "source": [
    "x = 1920 * 5.86e-3 * u.mm\n",
    "\n",
    "y = 1200 * 5.86e-3 * u.mm"
   ]
  },
  {
   "cell_type": "code",
   "execution_count": null,
   "metadata": {
    "collapsed": true
   },
   "outputs": [],
   "source": [
    "np.sqrt(x**2 + y**2)"
   ]
  },
  {
   "cell_type": "code",
   "execution_count": null,
   "metadata": {
    "collapsed": true
   },
   "outputs": [],
   "source": [
    "np.max((1, 2))"
   ]
  },
  {
   "cell_type": "code",
   "execution_count": null,
   "metadata": {
    "collapsed": true
   },
   "outputs": [],
   "source": [
    "mmirs.pup_size"
   ]
  },
  {
   "cell_type": "code",
   "execution_count": null,
   "metadata": {
    "collapsed": true
   },
   "outputs": [],
   "source": [
    "mmirs.modes['mmirs2']['reference']['sigma']"
   ]
  },
  {
   "cell_type": "code",
   "execution_count": null,
   "metadata": {
    "collapsed": true
   },
   "outputs": [],
   "source": [
    "sigma = results['fwhm'] * stats.funcs.gaussian_fwhm_to_sigma\n",
    "\n",
    "wave = 650 * u.nm\n",
    "wave = wave.to(u.m).value  # r_0 equation expects meters so convert\n",
    "# calculate the physical size of each aperture.\n",
    "ref = mmirs.modes['mmirs2']['reference']\n",
    "apsize_pix = np.max((ref['xspacing'], ref['yspacing']))\n",
    "d = mmirs.telescope.diameter * apsize_pix / mmirs.pup_size\n",
    "d = d.to(u.m).value  # r_0 equation expects meters so convert\n",
    "\n",
    "# we need to deconvolve the instrumental spot width from the measured one\n",
    "ref_sigma = ref['sigma']\n",
    "if sigma > ref_sigma:\n",
    "    corr_sigma = np.sqrt(sigma**2 - ref_sigma**2)\n",
    "else:\n",
    "    corr_sigma = 0.0\n",
    "corr_sigma *= mmirs.pix_size.to(u.rad).value  # r_0 equation expects radians so convert\n",
    "# this equation relates the motion within a single aperture to the characteristic scale size of the\n",
    "# turbulence, r_0.\n",
    "r_0 = ( 0.179 * (wave**2) * (d**(-1./3.))/corr_sigma**2 )**0.6\n",
    "print(r_0)\n",
    "# this equation relates the turbulence scale size to an expected image FWHM at the given wavelength.\n",
    "raw_seeing = u.rad * 0.98 * wave / r_0\n",
    "raw_seeing = raw_seeing.to(u.arcsec)\n"
   ]
  },
  {
   "cell_type": "code",
   "execution_count": null,
   "metadata": {
    "collapsed": true
   },
   "outputs": [],
   "source": [
    "\"{0.value:0.2f}{0.unit:unicode}\".format(raw_seeing)"
   ]
  },
  {
   "cell_type": "code",
   "execution_count": null,
   "metadata": {
    "collapsed": true
   },
   "outputs": [],
   "source": [
    "np.sqrt(sigma**2 - ref_sigma**2)"
   ]
  },
  {
   "cell_type": "code",
   "execution_count": null,
   "metadata": {
    "collapsed": true
   },
   "outputs": [],
   "source": [
    "def_mask = ['Z02', 'Z03', 'Z04']\n",
    "mask = ['Z04', 'Z10']\n",
    "def_mask.extend(mask)\n",
    "mask = list(set(def_mask))\n",
    "mask"
   ]
  },
  {
   "cell_type": "code",
   "execution_count": null,
   "metadata": {
    "collapsed": true
   },
   "outputs": [],
   "source": [
    "f = ZernikeVector()"
   ]
  },
  {
   "cell_type": "code",
   "execution_count": null,
   "metadata": {
    "collapsed": true
   },
   "outputs": [],
   "source": [
    "mmirs.telescope.bending_forces(zv=f)"
   ]
  },
  {
   "cell_type": "code",
   "execution_count": null,
   "metadata": {
    "collapsed": true
   },
   "outputs": [],
   "source": [
    "z = ZernikeVector(Z07=500*u.nm)\n",
    "z.plot_map()\n",
    "plt.show()"
   ]
  },
  {
   "cell_type": "code",
   "execution_count": null,
   "metadata": {
    "collapsed": true
   },
   "outputs": [],
   "source": [
    "-z['Z08']"
   ]
  },
  {
   "cell_type": "code",
   "execution_count": null,
   "metadata": {
    "collapsed": true
   },
   "outputs": [],
   "source": [
    "xc, yc = 245, 270\n",
    "xcen, ycen = 255, 255\n",
    "dx = xc - xcen\n",
    "dy = yc - ycen\n",
    "dr, phi = cart2pol([dx, dy])"
   ]
  },
  {
   "cell_type": "code",
   "execution_count": null,
   "metadata": {
    "collapsed": true
   },
   "outputs": [],
   "source": [
    "derot_phi = phi - u.Quantity(225*u.deg, u.rad).value\n",
    "pol2cart([dr, derot_phi])"
   ]
  },
  {
   "cell_type": "code",
   "execution_count": null,
   "metadata": {
    "collapsed": true
   },
   "outputs": [],
   "source": [
    "u.Quantity(225*u.deg, u.rad).value"
   ]
  },
  {
   "cell_type": "code",
   "execution_count": null,
   "metadata": {
    "collapsed": true
   },
   "outputs": [],
   "source": [
    "dx, dy"
   ]
  },
  {
   "cell_type": "code",
   "execution_count": null,
   "metadata": {
    "collapsed": true
   },
   "outputs": [],
   "source": [
    "t = mmirs.telescope\n",
    "zv = ZernikeVector(Z05=1000, Z11=250)\n",
    "force, focus = t.correct_primary(zv)\n",
    "f1 = focus.copy()\n",
    "uforce, ufocus = t.undo_last()\n",
    "print(ufocus)\n",
    "print(f1)\n",
    "assert(ufocus == -1 * f1)"
   ]
  },
  {
   "cell_type": "code",
   "execution_count": null,
   "metadata": {
    "collapsed": true
   },
   "outputs": [],
   "source": [
    "focus.copy()"
   ]
  },
  {
   "cell_type": "code",
   "execution_count": null,
   "metadata": {
    "collapsed": true
   },
   "outputs": [],
   "source": [
    "np.allclose(np.zeros(2), 0.0)"
   ]
  },
  {
   "cell_type": "code",
   "execution_count": null,
   "metadata": {
    "collapsed": true
   },
   "outputs": [],
   "source": [
    "s = \"offset_inc wfs z 200.3\"\n",
    "assert(\"200.3\" in s)"
   ]
  },
  {
   "cell_type": "code",
   "execution_count": null,
   "metadata": {
    "collapsed": true
   },
   "outputs": [],
   "source": [
    "fig, ax = plt.subplots()"
   ]
  },
  {
   "cell_type": "code",
   "execution_count": null,
   "metadata": {
    "collapsed": true
   },
   "outputs": [],
   "source": [
    "ax.imshow(results['data'], cmap=cm.Greys)\n",
    "fig.savefig(\"test.png\")"
   ]
  },
  {
   "cell_type": "code",
   "execution_count": null,
   "metadata": {
    "collapsed": true
   },
   "outputs": [],
   "source": [
    "a = fig.axes[0]"
   ]
  },
  {
   "cell_type": "code",
   "execution_count": null,
   "metadata": {
    "collapsed": true
   },
   "outputs": [],
   "source": [
    "fig.show()"
   ]
  },
  {
   "cell_type": "code",
   "execution_count": null,
   "metadata": {
    "collapsed": true
   },
   "outputs": [],
   "source": [
    "\"{0:0.0f}\".format((550 * u.nm))"
   ]
  },
  {
   "cell_type": "code",
   "execution_count": null,
   "metadata": {
    "collapsed": true
   },
   "outputs": [],
   "source": [
    "x, y, r, p, ph = zvec.phase_map(n=100)\n",
    "i = np.argsort(x)"
   ]
  },
  {
   "cell_type": "code",
   "execution_count": null,
   "metadata": {
    "collapsed": true
   },
   "outputs": [],
   "source": [
    "from plotly.offline import download_plotlyjs, init_notebook_mode, plot, iplot\n",
    "import plotly.graph_objs as go\n",
    "init_notebook_mode(connected=True)"
   ]
  },
  {
   "cell_type": "code",
   "execution_count": null,
   "metadata": {
    "collapsed": true
   },
   "outputs": [],
   "source": [
    "data = [go.Heatmap(z=np.array(ph[i]), x=x[i], y=y[i], colorscale='RdBu')]\n",
    "layout = go.Layout(title=\"test\")\n",
    "fig = go.Figure(data=data, layout=layout)\n",
    "plot(fig, filename=\"blah\")"
   ]
  },
  {
   "cell_type": "code",
   "execution_count": null,
   "metadata": {
    "collapsed": true
   },
   "outputs": [],
   "source": [
    "np.min(ph)"
   ]
  },
  {
   "cell_type": "code",
   "execution_count": null,
   "metadata": {
    "collapsed": true
   },
   "outputs": [],
   "source": [
    "0.119 * 5.4*3/20"
   ]
  },
  {
   "cell_type": "code",
   "execution_count": null,
   "metadata": {
    "collapsed": true
   },
   "outputs": [],
   "source": [
    "if 'HOME' in os.environ:\n",
    "    print('y')"
   ]
  },
  {
   "cell_type": "code",
   "execution_count": null,
   "metadata": {
    "collapsed": true
   },
   "outputs": [],
   "source": [
    "np.zeros((512, 512)).shape"
   ]
  },
  {
   "cell_type": "code",
   "execution_count": null,
   "metadata": {
    "collapsed": true
   },
   "outputs": [],
   "source": [
    "zv = ZernikeVector()"
   ]
  },
  {
   "cell_type": "code",
   "execution_count": null,
   "metadata": {
    "collapsed": true
   },
   "outputs": [],
   "source": [
    "zv.plot_map()"
   ]
  },
  {
   "cell_type": "code",
   "execution_count": null,
   "metadata": {
    "collapsed": true
   },
   "outputs": [],
   "source": [
    "t = MMT()\n",
    "zv = ZernikeVector(Z05=1000, Z11=250)\n",
    "force, focus = t.calculate_primary_corrections(zv)"
   ]
  },
  {
   "cell_type": "code",
   "execution_count": null,
   "metadata": {
    "collapsed": true
   },
   "outputs": [],
   "source": [
    "lforce, lfocus = t.correct_primary(force, focus)"
   ]
  },
  {
   "cell_type": "code",
   "execution_count": null,
   "metadata": {
    "collapsed": true
   },
   "outputs": [],
   "source": [
    "uforce, ufocus = t.undo_last()"
   ]
  },
  {
   "cell_type": "code",
   "execution_count": null,
   "metadata": {
    "collapsed": true
   },
   "outputs": [],
   "source": [
    "focus, lfocus, ufocus"
   ]
  },
  {
   "cell_type": "code",
   "execution_count": null,
   "metadata": {
    "collapsed": true
   },
   "outputs": [],
   "source": [
    "newf9 = WFSFactory(wfs=\"newf9\")"
   ]
  },
  {
   "cell_type": "code",
   "execution_count": null,
   "metadata": {
    "collapsed": true
   },
   "outputs": [],
   "source": [
    "newf9.modes['blue']['reference']"
   ]
  },
  {
   "cell_type": "code",
   "execution_count": null,
   "metadata": {
    "collapsed": true
   },
   "outputs": [],
   "source": [
    "x = newf9.modes['blue']['reference']['apertures']['xcentroid'] + newf9.modes['blue']['reference']['xcen']"
   ]
  },
  {
   "cell_type": "code",
   "execution_count": null,
   "metadata": {
    "collapsed": true
   },
   "outputs": [],
   "source": [
    "y = newf9.modes['blue']['reference']['apertures']['ycentroid'] + newf9.modes['blue']['reference']['ycen']"
   ]
  },
  {
   "cell_type": "code",
   "execution_count": null,
   "metadata": {
    "collapsed": true
   },
   "outputs": [],
   "source": [
    "arr = np.array((x.data, y.data)).transpose()"
   ]
  },
  {
   "cell_type": "code",
   "execution_count": null,
   "metadata": {
    "collapsed": true
   },
   "outputs": [],
   "source": [
    "np.savetxt(\"blah.txt\", arr, fmt=\"%.3f\")"
   ]
  },
  {
   "cell_type": "code",
   "execution_count": null,
   "metadata": {
    "collapsed": true
   },
   "outputs": [],
   "source": [
    "np.savetxt?"
   ]
  },
  {
   "cell_type": "code",
   "execution_count": null,
   "metadata": {
    "collapsed": true
   },
   "outputs": [],
   "source": []
  },
  {
   "cell_type": "code",
   "execution_count": null,
   "metadata": {
    "collapsed": true
   },
   "outputs": [],
   "source": [
    "x, y = 405, 445\n",
    "xnew, ynew = 438, 469\n",
    "xref, yref = 433, 431\n",
    "pixsize = 0.09639\n",
    "\n",
    "rot = u.Quantity(-225 * u.deg, u.rad).value\n",
    "\n",
    "dx = x - xref\n",
    "dy = y - yref\n",
    "\n",
    "dr, phi = cart2pol([dx, dy])\n",
    "\n",
    "derot_phi = phi - rot\n",
    "\n",
    "az, el = pol2cart([dr, derot_phi])\n",
    "print(az, el)"
   ]
  },
  {
   "cell_type": "code",
   "execution_count": null,
   "metadata": {
    "collapsed": true
   },
   "outputs": [],
   "source": [
    "x, y = 405, 445\n",
    "xnew, ynew = 438, 469\n",
    "xref, yref = 433, 431\n",
    "pixsize = 0.09639\n",
    "\n",
    "rot = u.Quantity(-225 * u.deg, u.rad).value\n",
    "\n",
    "dx = 1 * (x - xref)\n",
    "dy = 1 * (y - yref)\n",
    "\n",
    "dr, phi = cart2pol([dx, dy])\n",
    "\n",
    "derot_phi = phi - rot\n",
    "\n",
    "az, el = pol2cart([dr, derot_phi])\n",
    "print(az, el)"
   ]
  },
  {
   "cell_type": "code",
   "execution_count": null,
   "metadata": {
    "collapsed": true
   },
   "outputs": [],
   "source": [
    "azcorr = 3.0 / pixsize\n",
    "elcorr = 0.9 / pixsize\n",
    "drc, phic = cart2pol([azcorr, elcorr])\n",
    "derot_phic = phic + rot\n",
    "az_pix, el_pix = pol2cart([drc, derot_phic])\n",
    "print(az_pix, el_pix)"
   ]
  },
  {
   "cell_type": "code",
   "execution_count": null,
   "metadata": {
    "collapsed": true
   },
   "outputs": [],
   "source": [
    "a = np.arange(5)"
   ]
  },
  {
   "cell_type": "code",
   "execution_count": null,
   "metadata": {
    "collapsed": true
   },
   "outputs": [],
   "source": [
    "np.delete(a, 2)"
   ]
  },
  {
   "cell_type": "code",
   "execution_count": null,
   "metadata": {
    "collapsed": true
   },
   "outputs": [],
   "source": []
  }
 ],
 "metadata": {
  "kernelspec": {
   "display_name": "Python 3",
   "language": "python",
   "name": "python3"
  },
  "language_info": {
   "codemirror_mode": {
    "name": "ipython",
    "version": 3
   },
   "file_extension": ".py",
   "mimetype": "text/x-python",
   "name": "python",
   "nbconvert_exporter": "python",
   "pygments_lexer": "ipython3",
   "version": "3.6.2"
  }
 },
 "nbformat": 4,
 "nbformat_minor": 2
}
