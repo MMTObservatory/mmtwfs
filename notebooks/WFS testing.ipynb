{
 "cells": [
  {
   "cell_type": "code",
   "execution_count": 1,
   "metadata": {
    "collapsed": true
   },
   "outputs": [],
   "source": [
    "import time\n",
    "import os\n",
    "import sys\n",
    "import numpy as np\n",
    "import matplotlib\n",
    "matplotlib.use('nbagg')\n",
    "#from matplotlib import style\n",
    "#style.use('ggplot')\n",
    "import matplotlib.pyplot as plt\n",
    "\n",
    "%load_ext autoreload\n",
    "%autoreload 2\n",
    "\n",
    "from astropy import stats\n",
    "from astropy.io import fits\n",
    "from mmtwfs.wfs import *\n",
    "from mmtwfs.zernike import ZernikeVector"
   ]
  },
  {
   "cell_type": "code",
   "execution_count": 2,
   "metadata": {
    "collapsed": true
   },
   "outputs": [],
   "source": [
    "mmirs = WFSFactory(wfs=\"mmirs\", nzern=36)"
   ]
  },
  {
   "cell_type": "code",
   "execution_count": 3,
   "metadata": {},
   "outputs": [
    {
     "name": "stdout",
     "output_type": "stream",
     "text": [
      "2.0806539917\n"
     ]
    },
    {
     "data": {
      "application/javascript": [
       "/* Put everything inside the global mpl namespace */\n",
       "window.mpl = {};\n",
       "\n",
       "\n",
       "mpl.get_websocket_type = function() {\n",
       "    if (typeof(WebSocket) !== 'undefined') {\n",
       "        return WebSocket;\n",
       "    } else if (typeof(MozWebSocket) !== 'undefined') {\n",
       "        return MozWebSocket;\n",
       "    } else {\n",
       "        alert('Your browser does not have WebSocket support.' +\n",
       "              'Please try Chrome, Safari or Firefox ≥ 6. ' +\n",
       "              'Firefox 4 and 5 are also supported but you ' +\n",
       "              'have to enable WebSockets in about:config.');\n",
       "    };\n",
       "}\n",
       "\n",
       "mpl.figure = function(figure_id, websocket, ondownload, parent_element) {\n",
       "    this.id = figure_id;\n",
       "\n",
       "    this.ws = websocket;\n",
       "\n",
       "    this.supports_binary = (this.ws.binaryType != undefined);\n",
       "\n",
       "    if (!this.supports_binary) {\n",
       "        var warnings = document.getElementById(\"mpl-warnings\");\n",
       "        if (warnings) {\n",
       "            warnings.style.display = 'block';\n",
       "            warnings.textContent = (\n",
       "                \"This browser does not support binary websocket messages. \" +\n",
       "                    \"Performance may be slow.\");\n",
       "        }\n",
       "    }\n",
       "\n",
       "    this.imageObj = new Image();\n",
       "\n",
       "    this.context = undefined;\n",
       "    this.message = undefined;\n",
       "    this.canvas = undefined;\n",
       "    this.rubberband_canvas = undefined;\n",
       "    this.rubberband_context = undefined;\n",
       "    this.format_dropdown = undefined;\n",
       "\n",
       "    this.image_mode = 'full';\n",
       "\n",
       "    this.root = $('<div/>');\n",
       "    this._root_extra_style(this.root)\n",
       "    this.root.attr('style', 'display: inline-block');\n",
       "\n",
       "    $(parent_element).append(this.root);\n",
       "\n",
       "    this._init_header(this);\n",
       "    this._init_canvas(this);\n",
       "    this._init_toolbar(this);\n",
       "\n",
       "    var fig = this;\n",
       "\n",
       "    this.waiting = false;\n",
       "\n",
       "    this.ws.onopen =  function () {\n",
       "            fig.send_message(\"supports_binary\", {value: fig.supports_binary});\n",
       "            fig.send_message(\"send_image_mode\", {});\n",
       "            if (mpl.ratio != 1) {\n",
       "                fig.send_message(\"set_dpi_ratio\", {'dpi_ratio': mpl.ratio});\n",
       "            }\n",
       "            fig.send_message(\"refresh\", {});\n",
       "        }\n",
       "\n",
       "    this.imageObj.onload = function() {\n",
       "            if (fig.image_mode == 'full') {\n",
       "                // Full images could contain transparency (where diff images\n",
       "                // almost always do), so we need to clear the canvas so that\n",
       "                // there is no ghosting.\n",
       "                fig.context.clearRect(0, 0, fig.canvas.width, fig.canvas.height);\n",
       "            }\n",
       "            fig.context.drawImage(fig.imageObj, 0, 0);\n",
       "        };\n",
       "\n",
       "    this.imageObj.onunload = function() {\n",
       "        this.ws.close();\n",
       "    }\n",
       "\n",
       "    this.ws.onmessage = this._make_on_message_function(this);\n",
       "\n",
       "    this.ondownload = ondownload;\n",
       "}\n",
       "\n",
       "mpl.figure.prototype._init_header = function() {\n",
       "    var titlebar = $(\n",
       "        '<div class=\"ui-dialog-titlebar ui-widget-header ui-corner-all ' +\n",
       "        'ui-helper-clearfix\"/>');\n",
       "    var titletext = $(\n",
       "        '<div class=\"ui-dialog-title\" style=\"width: 100%; ' +\n",
       "        'text-align: center; padding: 3px;\"/>');\n",
       "    titlebar.append(titletext)\n",
       "    this.root.append(titlebar);\n",
       "    this.header = titletext[0];\n",
       "}\n",
       "\n",
       "\n",
       "\n",
       "mpl.figure.prototype._canvas_extra_style = function(canvas_div) {\n",
       "\n",
       "}\n",
       "\n",
       "\n",
       "mpl.figure.prototype._root_extra_style = function(canvas_div) {\n",
       "\n",
       "}\n",
       "\n",
       "mpl.figure.prototype._init_canvas = function() {\n",
       "    var fig = this;\n",
       "\n",
       "    var canvas_div = $('<div/>');\n",
       "\n",
       "    canvas_div.attr('style', 'position: relative; clear: both; outline: 0');\n",
       "\n",
       "    function canvas_keyboard_event(event) {\n",
       "        return fig.key_event(event, event['data']);\n",
       "    }\n",
       "\n",
       "    canvas_div.keydown('key_press', canvas_keyboard_event);\n",
       "    canvas_div.keyup('key_release', canvas_keyboard_event);\n",
       "    this.canvas_div = canvas_div\n",
       "    this._canvas_extra_style(canvas_div)\n",
       "    this.root.append(canvas_div);\n",
       "\n",
       "    var canvas = $('<canvas/>');\n",
       "    canvas.addClass('mpl-canvas');\n",
       "    canvas.attr('style', \"left: 0; top: 0; z-index: 0; outline: 0\")\n",
       "\n",
       "    this.canvas = canvas[0];\n",
       "    this.context = canvas[0].getContext(\"2d\");\n",
       "\n",
       "    var backingStore = this.context.backingStorePixelRatio ||\n",
       "\tthis.context.webkitBackingStorePixelRatio ||\n",
       "\tthis.context.mozBackingStorePixelRatio ||\n",
       "\tthis.context.msBackingStorePixelRatio ||\n",
       "\tthis.context.oBackingStorePixelRatio ||\n",
       "\tthis.context.backingStorePixelRatio || 1;\n",
       "\n",
       "    mpl.ratio = (window.devicePixelRatio || 1) / backingStore;\n",
       "\n",
       "    var rubberband = $('<canvas/>');\n",
       "    rubberband.attr('style', \"position: absolute; left: 0; top: 0; z-index: 1;\")\n",
       "\n",
       "    var pass_mouse_events = true;\n",
       "\n",
       "    canvas_div.resizable({\n",
       "        start: function(event, ui) {\n",
       "            pass_mouse_events = false;\n",
       "        },\n",
       "        resize: function(event, ui) {\n",
       "            fig.request_resize(ui.size.width, ui.size.height);\n",
       "        },\n",
       "        stop: function(event, ui) {\n",
       "            pass_mouse_events = true;\n",
       "            fig.request_resize(ui.size.width, ui.size.height);\n",
       "        },\n",
       "    });\n",
       "\n",
       "    function mouse_event_fn(event) {\n",
       "        if (pass_mouse_events)\n",
       "            return fig.mouse_event(event, event['data']);\n",
       "    }\n",
       "\n",
       "    rubberband.mousedown('button_press', mouse_event_fn);\n",
       "    rubberband.mouseup('button_release', mouse_event_fn);\n",
       "    // Throttle sequential mouse events to 1 every 20ms.\n",
       "    rubberband.mousemove('motion_notify', mouse_event_fn);\n",
       "\n",
       "    rubberband.mouseenter('figure_enter', mouse_event_fn);\n",
       "    rubberband.mouseleave('figure_leave', mouse_event_fn);\n",
       "\n",
       "    canvas_div.on(\"wheel\", function (event) {\n",
       "        event = event.originalEvent;\n",
       "        event['data'] = 'scroll'\n",
       "        if (event.deltaY < 0) {\n",
       "            event.step = 1;\n",
       "        } else {\n",
       "            event.step = -1;\n",
       "        }\n",
       "        mouse_event_fn(event);\n",
       "    });\n",
       "\n",
       "    canvas_div.append(canvas);\n",
       "    canvas_div.append(rubberband);\n",
       "\n",
       "    this.rubberband = rubberband;\n",
       "    this.rubberband_canvas = rubberband[0];\n",
       "    this.rubberband_context = rubberband[0].getContext(\"2d\");\n",
       "    this.rubberband_context.strokeStyle = \"#000000\";\n",
       "\n",
       "    this._resize_canvas = function(width, height) {\n",
       "        // Keep the size of the canvas, canvas container, and rubber band\n",
       "        // canvas in synch.\n",
       "        canvas_div.css('width', width)\n",
       "        canvas_div.css('height', height)\n",
       "\n",
       "        canvas.attr('width', width * mpl.ratio);\n",
       "        canvas.attr('height', height * mpl.ratio);\n",
       "        canvas.attr('style', 'width: ' + width + 'px; height: ' + height + 'px;');\n",
       "\n",
       "        rubberband.attr('width', width);\n",
       "        rubberband.attr('height', height);\n",
       "    }\n",
       "\n",
       "    // Set the figure to an initial 600x600px, this will subsequently be updated\n",
       "    // upon first draw.\n",
       "    this._resize_canvas(600, 600);\n",
       "\n",
       "    // Disable right mouse context menu.\n",
       "    $(this.rubberband_canvas).bind(\"contextmenu\",function(e){\n",
       "        return false;\n",
       "    });\n",
       "\n",
       "    function set_focus () {\n",
       "        canvas.focus();\n",
       "        canvas_div.focus();\n",
       "    }\n",
       "\n",
       "    window.setTimeout(set_focus, 100);\n",
       "}\n",
       "\n",
       "mpl.figure.prototype._init_toolbar = function() {\n",
       "    var fig = this;\n",
       "\n",
       "    var nav_element = $('<div/>')\n",
       "    nav_element.attr('style', 'width: 100%');\n",
       "    this.root.append(nav_element);\n",
       "\n",
       "    // Define a callback function for later on.\n",
       "    function toolbar_event(event) {\n",
       "        return fig.toolbar_button_onclick(event['data']);\n",
       "    }\n",
       "    function toolbar_mouse_event(event) {\n",
       "        return fig.toolbar_button_onmouseover(event['data']);\n",
       "    }\n",
       "\n",
       "    for(var toolbar_ind in mpl.toolbar_items) {\n",
       "        var name = mpl.toolbar_items[toolbar_ind][0];\n",
       "        var tooltip = mpl.toolbar_items[toolbar_ind][1];\n",
       "        var image = mpl.toolbar_items[toolbar_ind][2];\n",
       "        var method_name = mpl.toolbar_items[toolbar_ind][3];\n",
       "\n",
       "        if (!name) {\n",
       "            // put a spacer in here.\n",
       "            continue;\n",
       "        }\n",
       "        var button = $('<button/>');\n",
       "        button.addClass('ui-button ui-widget ui-state-default ui-corner-all ' +\n",
       "                        'ui-button-icon-only');\n",
       "        button.attr('role', 'button');\n",
       "        button.attr('aria-disabled', 'false');\n",
       "        button.click(method_name, toolbar_event);\n",
       "        button.mouseover(tooltip, toolbar_mouse_event);\n",
       "\n",
       "        var icon_img = $('<span/>');\n",
       "        icon_img.addClass('ui-button-icon-primary ui-icon');\n",
       "        icon_img.addClass(image);\n",
       "        icon_img.addClass('ui-corner-all');\n",
       "\n",
       "        var tooltip_span = $('<span/>');\n",
       "        tooltip_span.addClass('ui-button-text');\n",
       "        tooltip_span.html(tooltip);\n",
       "\n",
       "        button.append(icon_img);\n",
       "        button.append(tooltip_span);\n",
       "\n",
       "        nav_element.append(button);\n",
       "    }\n",
       "\n",
       "    var fmt_picker_span = $('<span/>');\n",
       "\n",
       "    var fmt_picker = $('<select/>');\n",
       "    fmt_picker.addClass('mpl-toolbar-option ui-widget ui-widget-content');\n",
       "    fmt_picker_span.append(fmt_picker);\n",
       "    nav_element.append(fmt_picker_span);\n",
       "    this.format_dropdown = fmt_picker[0];\n",
       "\n",
       "    for (var ind in mpl.extensions) {\n",
       "        var fmt = mpl.extensions[ind];\n",
       "        var option = $(\n",
       "            '<option/>', {selected: fmt === mpl.default_extension}).html(fmt);\n",
       "        fmt_picker.append(option)\n",
       "    }\n",
       "\n",
       "    // Add hover states to the ui-buttons\n",
       "    $( \".ui-button\" ).hover(\n",
       "        function() { $(this).addClass(\"ui-state-hover\");},\n",
       "        function() { $(this).removeClass(\"ui-state-hover\");}\n",
       "    );\n",
       "\n",
       "    var status_bar = $('<span class=\"mpl-message\"/>');\n",
       "    nav_element.append(status_bar);\n",
       "    this.message = status_bar[0];\n",
       "}\n",
       "\n",
       "mpl.figure.prototype.request_resize = function(x_pixels, y_pixels) {\n",
       "    // Request matplotlib to resize the figure. Matplotlib will then trigger a resize in the client,\n",
       "    // which will in turn request a refresh of the image.\n",
       "    this.send_message('resize', {'width': x_pixels, 'height': y_pixels});\n",
       "}\n",
       "\n",
       "mpl.figure.prototype.send_message = function(type, properties) {\n",
       "    properties['type'] = type;\n",
       "    properties['figure_id'] = this.id;\n",
       "    this.ws.send(JSON.stringify(properties));\n",
       "}\n",
       "\n",
       "mpl.figure.prototype.send_draw_message = function() {\n",
       "    if (!this.waiting) {\n",
       "        this.waiting = true;\n",
       "        this.ws.send(JSON.stringify({type: \"draw\", figure_id: this.id}));\n",
       "    }\n",
       "}\n",
       "\n",
       "\n",
       "mpl.figure.prototype.handle_save = function(fig, msg) {\n",
       "    var format_dropdown = fig.format_dropdown;\n",
       "    var format = format_dropdown.options[format_dropdown.selectedIndex].value;\n",
       "    fig.ondownload(fig, format);\n",
       "}\n",
       "\n",
       "\n",
       "mpl.figure.prototype.handle_resize = function(fig, msg) {\n",
       "    var size = msg['size'];\n",
       "    if (size[0] != fig.canvas.width || size[1] != fig.canvas.height) {\n",
       "        fig._resize_canvas(size[0], size[1]);\n",
       "        fig.send_message(\"refresh\", {});\n",
       "    };\n",
       "}\n",
       "\n",
       "mpl.figure.prototype.handle_rubberband = function(fig, msg) {\n",
       "    var x0 = msg['x0'] / mpl.ratio;\n",
       "    var y0 = (fig.canvas.height - msg['y0']) / mpl.ratio;\n",
       "    var x1 = msg['x1'] / mpl.ratio;\n",
       "    var y1 = (fig.canvas.height - msg['y1']) / mpl.ratio;\n",
       "    x0 = Math.floor(x0) + 0.5;\n",
       "    y0 = Math.floor(y0) + 0.5;\n",
       "    x1 = Math.floor(x1) + 0.5;\n",
       "    y1 = Math.floor(y1) + 0.5;\n",
       "    var min_x = Math.min(x0, x1);\n",
       "    var min_y = Math.min(y0, y1);\n",
       "    var width = Math.abs(x1 - x0);\n",
       "    var height = Math.abs(y1 - y0);\n",
       "\n",
       "    fig.rubberband_context.clearRect(\n",
       "        0, 0, fig.canvas.width, fig.canvas.height);\n",
       "\n",
       "    fig.rubberband_context.strokeRect(min_x, min_y, width, height);\n",
       "}\n",
       "\n",
       "mpl.figure.prototype.handle_figure_label = function(fig, msg) {\n",
       "    // Updates the figure title.\n",
       "    fig.header.textContent = msg['label'];\n",
       "}\n",
       "\n",
       "mpl.figure.prototype.handle_cursor = function(fig, msg) {\n",
       "    var cursor = msg['cursor'];\n",
       "    switch(cursor)\n",
       "    {\n",
       "    case 0:\n",
       "        cursor = 'pointer';\n",
       "        break;\n",
       "    case 1:\n",
       "        cursor = 'default';\n",
       "        break;\n",
       "    case 2:\n",
       "        cursor = 'crosshair';\n",
       "        break;\n",
       "    case 3:\n",
       "        cursor = 'move';\n",
       "        break;\n",
       "    }\n",
       "    fig.rubberband_canvas.style.cursor = cursor;\n",
       "}\n",
       "\n",
       "mpl.figure.prototype.handle_message = function(fig, msg) {\n",
       "    fig.message.textContent = msg['message'];\n",
       "}\n",
       "\n",
       "mpl.figure.prototype.handle_draw = function(fig, msg) {\n",
       "    // Request the server to send over a new figure.\n",
       "    fig.send_draw_message();\n",
       "}\n",
       "\n",
       "mpl.figure.prototype.handle_image_mode = function(fig, msg) {\n",
       "    fig.image_mode = msg['mode'];\n",
       "}\n",
       "\n",
       "mpl.figure.prototype.updated_canvas_event = function() {\n",
       "    // Called whenever the canvas gets updated.\n",
       "    this.send_message(\"ack\", {});\n",
       "}\n",
       "\n",
       "// A function to construct a web socket function for onmessage handling.\n",
       "// Called in the figure constructor.\n",
       "mpl.figure.prototype._make_on_message_function = function(fig) {\n",
       "    return function socket_on_message(evt) {\n",
       "        if (evt.data instanceof Blob) {\n",
       "            /* FIXME: We get \"Resource interpreted as Image but\n",
       "             * transferred with MIME type text/plain:\" errors on\n",
       "             * Chrome.  But how to set the MIME type?  It doesn't seem\n",
       "             * to be part of the websocket stream */\n",
       "            evt.data.type = \"image/png\";\n",
       "\n",
       "            /* Free the memory for the previous frames */\n",
       "            if (fig.imageObj.src) {\n",
       "                (window.URL || window.webkitURL).revokeObjectURL(\n",
       "                    fig.imageObj.src);\n",
       "            }\n",
       "\n",
       "            fig.imageObj.src = (window.URL || window.webkitURL).createObjectURL(\n",
       "                evt.data);\n",
       "            fig.updated_canvas_event();\n",
       "            fig.waiting = false;\n",
       "            return;\n",
       "        }\n",
       "        else if (typeof evt.data === 'string' && evt.data.slice(0, 21) == \"data:image/png;base64\") {\n",
       "            fig.imageObj.src = evt.data;\n",
       "            fig.updated_canvas_event();\n",
       "            fig.waiting = false;\n",
       "            return;\n",
       "        }\n",
       "\n",
       "        var msg = JSON.parse(evt.data);\n",
       "        var msg_type = msg['type'];\n",
       "\n",
       "        // Call the  \"handle_{type}\" callback, which takes\n",
       "        // the figure and JSON message as its only arguments.\n",
       "        try {\n",
       "            var callback = fig[\"handle_\" + msg_type];\n",
       "        } catch (e) {\n",
       "            console.log(\"No handler for the '\" + msg_type + \"' message type: \", msg);\n",
       "            return;\n",
       "        }\n",
       "\n",
       "        if (callback) {\n",
       "            try {\n",
       "                // console.log(\"Handling '\" + msg_type + \"' message: \", msg);\n",
       "                callback(fig, msg);\n",
       "            } catch (e) {\n",
       "                console.log(\"Exception inside the 'handler_\" + msg_type + \"' callback:\", e, e.stack, msg);\n",
       "            }\n",
       "        }\n",
       "    };\n",
       "}\n",
       "\n",
       "// from http://stackoverflow.com/questions/1114465/getting-mouse-location-in-canvas\n",
       "mpl.findpos = function(e) {\n",
       "    //this section is from http://www.quirksmode.org/js/events_properties.html\n",
       "    var targ;\n",
       "    if (!e)\n",
       "        e = window.event;\n",
       "    if (e.target)\n",
       "        targ = e.target;\n",
       "    else if (e.srcElement)\n",
       "        targ = e.srcElement;\n",
       "    if (targ.nodeType == 3) // defeat Safari bug\n",
       "        targ = targ.parentNode;\n",
       "\n",
       "    // jQuery normalizes the pageX and pageY\n",
       "    // pageX,Y are the mouse positions relative to the document\n",
       "    // offset() returns the position of the element relative to the document\n",
       "    var x = e.pageX - $(targ).offset().left;\n",
       "    var y = e.pageY - $(targ).offset().top;\n",
       "\n",
       "    return {\"x\": x, \"y\": y};\n",
       "};\n",
       "\n",
       "/*\n",
       " * return a copy of an object with only non-object keys\n",
       " * we need this to avoid circular references\n",
       " * http://stackoverflow.com/a/24161582/3208463\n",
       " */\n",
       "function simpleKeys (original) {\n",
       "  return Object.keys(original).reduce(function (obj, key) {\n",
       "    if (typeof original[key] !== 'object')\n",
       "        obj[key] = original[key]\n",
       "    return obj;\n",
       "  }, {});\n",
       "}\n",
       "\n",
       "mpl.figure.prototype.mouse_event = function(event, name) {\n",
       "    var canvas_pos = mpl.findpos(event)\n",
       "\n",
       "    if (name === 'button_press')\n",
       "    {\n",
       "        this.canvas.focus();\n",
       "        this.canvas_div.focus();\n",
       "    }\n",
       "\n",
       "    var x = canvas_pos.x * mpl.ratio;\n",
       "    var y = canvas_pos.y * mpl.ratio;\n",
       "\n",
       "    this.send_message(name, {x: x, y: y, button: event.button,\n",
       "                             step: event.step,\n",
       "                             guiEvent: simpleKeys(event)});\n",
       "\n",
       "    /* This prevents the web browser from automatically changing to\n",
       "     * the text insertion cursor when the button is pressed.  We want\n",
       "     * to control all of the cursor setting manually through the\n",
       "     * 'cursor' event from matplotlib */\n",
       "    event.preventDefault();\n",
       "    return false;\n",
       "}\n",
       "\n",
       "mpl.figure.prototype._key_event_extra = function(event, name) {\n",
       "    // Handle any extra behaviour associated with a key event\n",
       "}\n",
       "\n",
       "mpl.figure.prototype.key_event = function(event, name) {\n",
       "\n",
       "    // Prevent repeat events\n",
       "    if (name == 'key_press')\n",
       "    {\n",
       "        if (event.which === this._key)\n",
       "            return;\n",
       "        else\n",
       "            this._key = event.which;\n",
       "    }\n",
       "    if (name == 'key_release')\n",
       "        this._key = null;\n",
       "\n",
       "    var value = '';\n",
       "    if (event.ctrlKey && event.which != 17)\n",
       "        value += \"ctrl+\";\n",
       "    if (event.altKey && event.which != 18)\n",
       "        value += \"alt+\";\n",
       "    if (event.shiftKey && event.which != 16)\n",
       "        value += \"shift+\";\n",
       "\n",
       "    value += 'k';\n",
       "    value += event.which.toString();\n",
       "\n",
       "    this._key_event_extra(event, name);\n",
       "\n",
       "    this.send_message(name, {key: value,\n",
       "                             guiEvent: simpleKeys(event)});\n",
       "    return false;\n",
       "}\n",
       "\n",
       "mpl.figure.prototype.toolbar_button_onclick = function(name) {\n",
       "    if (name == 'download') {\n",
       "        this.handle_save(this, null);\n",
       "    } else {\n",
       "        this.send_message(\"toolbar_button\", {name: name});\n",
       "    }\n",
       "};\n",
       "\n",
       "mpl.figure.prototype.toolbar_button_onmouseover = function(tooltip) {\n",
       "    this.message.textContent = tooltip;\n",
       "};\n",
       "mpl.toolbar_items = [[\"Home\", \"Reset original view\", \"fa fa-home icon-home\", \"home\"], [\"Back\", \"Back to  previous view\", \"fa fa-arrow-left icon-arrow-left\", \"back\"], [\"Forward\", \"Forward to next view\", \"fa fa-arrow-right icon-arrow-right\", \"forward\"], [\"\", \"\", \"\", \"\"], [\"Pan\", \"Pan axes with left mouse, zoom with right\", \"fa fa-arrows icon-move\", \"pan\"], [\"Zoom\", \"Zoom to rectangle\", \"fa fa-square-o icon-check-empty\", \"zoom\"], [\"\", \"\", \"\", \"\"], [\"Download\", \"Download plot\", \"fa fa-floppy-o icon-save\", \"download\"]];\n",
       "\n",
       "mpl.extensions = [\"eps\", \"jpeg\", \"pdf\", \"png\", \"ps\", \"raw\", \"svg\", \"tif\"];\n",
       "\n",
       "mpl.default_extension = \"png\";var comm_websocket_adapter = function(comm) {\n",
       "    // Create a \"websocket\"-like object which calls the given IPython comm\n",
       "    // object with the appropriate methods. Currently this is a non binary\n",
       "    // socket, so there is still some room for performance tuning.\n",
       "    var ws = {};\n",
       "\n",
       "    ws.close = function() {\n",
       "        comm.close()\n",
       "    };\n",
       "    ws.send = function(m) {\n",
       "        //console.log('sending', m);\n",
       "        comm.send(m);\n",
       "    };\n",
       "    // Register the callback with on_msg.\n",
       "    comm.on_msg(function(msg) {\n",
       "        //console.log('receiving', msg['content']['data'], msg);\n",
       "        // Pass the mpl event to the overriden (by mpl) onmessage function.\n",
       "        ws.onmessage(msg['content']['data'])\n",
       "    });\n",
       "    return ws;\n",
       "}\n",
       "\n",
       "mpl.mpl_figure_comm = function(comm, msg) {\n",
       "    // This is the function which gets called when the mpl process\n",
       "    // starts-up an IPython Comm through the \"matplotlib\" channel.\n",
       "\n",
       "    var id = msg.content.data.id;\n",
       "    // Get hold of the div created by the display call when the Comm\n",
       "    // socket was opened in Python.\n",
       "    var element = $(\"#\" + id);\n",
       "    var ws_proxy = comm_websocket_adapter(comm)\n",
       "\n",
       "    function ondownload(figure, format) {\n",
       "        window.open(figure.imageObj.src);\n",
       "    }\n",
       "\n",
       "    var fig = new mpl.figure(id, ws_proxy,\n",
       "                           ondownload,\n",
       "                           element.get(0));\n",
       "\n",
       "    // Call onopen now - mpl needs it, as it is assuming we've passed it a real\n",
       "    // web socket which is closed, not our websocket->open comm proxy.\n",
       "    ws_proxy.onopen();\n",
       "\n",
       "    fig.parent_element = element.get(0);\n",
       "    fig.cell_info = mpl.find_output_cell(\"<div id='\" + id + \"'></div>\");\n",
       "    if (!fig.cell_info) {\n",
       "        console.error(\"Failed to find cell for figure\", id, fig);\n",
       "        return;\n",
       "    }\n",
       "\n",
       "    var output_index = fig.cell_info[2]\n",
       "    var cell = fig.cell_info[0];\n",
       "\n",
       "};\n",
       "\n",
       "mpl.figure.prototype.handle_close = function(fig, msg) {\n",
       "    var width = fig.canvas.width/mpl.ratio\n",
       "    fig.root.unbind('remove')\n",
       "\n",
       "    // Update the output cell to use the data from the current canvas.\n",
       "    fig.push_to_output();\n",
       "    var dataURL = fig.canvas.toDataURL();\n",
       "    // Re-enable the keyboard manager in IPython - without this line, in FF,\n",
       "    // the notebook keyboard shortcuts fail.\n",
       "    IPython.keyboard_manager.enable()\n",
       "    $(fig.parent_element).html('<img src=\"' + dataURL + '\" width=\"' + width + '\">');\n",
       "    fig.close_ws(fig, msg);\n",
       "}\n",
       "\n",
       "mpl.figure.prototype.close_ws = function(fig, msg){\n",
       "    fig.send_message('closing', msg);\n",
       "    // fig.ws.close()\n",
       "}\n",
       "\n",
       "mpl.figure.prototype.push_to_output = function(remove_interactive) {\n",
       "    // Turn the data on the canvas into data in the output cell.\n",
       "    var width = this.canvas.width/mpl.ratio\n",
       "    var dataURL = this.canvas.toDataURL();\n",
       "    this.cell_info[1]['text/html'] = '<img src=\"' + dataURL + '\" width=\"' + width + '\">';\n",
       "}\n",
       "\n",
       "mpl.figure.prototype.updated_canvas_event = function() {\n",
       "    // Tell IPython that the notebook contents must change.\n",
       "    IPython.notebook.set_dirty(true);\n",
       "    this.send_message(\"ack\", {});\n",
       "    var fig = this;\n",
       "    // Wait a second, then push the new image to the DOM so\n",
       "    // that it is saved nicely (might be nice to debounce this).\n",
       "    setTimeout(function () { fig.push_to_output() }, 1000);\n",
       "}\n",
       "\n",
       "mpl.figure.prototype._init_toolbar = function() {\n",
       "    var fig = this;\n",
       "\n",
       "    var nav_element = $('<div/>')\n",
       "    nav_element.attr('style', 'width: 100%');\n",
       "    this.root.append(nav_element);\n",
       "\n",
       "    // Define a callback function for later on.\n",
       "    function toolbar_event(event) {\n",
       "        return fig.toolbar_button_onclick(event['data']);\n",
       "    }\n",
       "    function toolbar_mouse_event(event) {\n",
       "        return fig.toolbar_button_onmouseover(event['data']);\n",
       "    }\n",
       "\n",
       "    for(var toolbar_ind in mpl.toolbar_items){\n",
       "        var name = mpl.toolbar_items[toolbar_ind][0];\n",
       "        var tooltip = mpl.toolbar_items[toolbar_ind][1];\n",
       "        var image = mpl.toolbar_items[toolbar_ind][2];\n",
       "        var method_name = mpl.toolbar_items[toolbar_ind][3];\n",
       "\n",
       "        if (!name) { continue; };\n",
       "\n",
       "        var button = $('<button class=\"btn btn-default\" href=\"#\" title=\"' + name + '\"><i class=\"fa ' + image + ' fa-lg\"></i></button>');\n",
       "        button.click(method_name, toolbar_event);\n",
       "        button.mouseover(tooltip, toolbar_mouse_event);\n",
       "        nav_element.append(button);\n",
       "    }\n",
       "\n",
       "    // Add the status bar.\n",
       "    var status_bar = $('<span class=\"mpl-message\" style=\"text-align:right; float: right;\"/>');\n",
       "    nav_element.append(status_bar);\n",
       "    this.message = status_bar[0];\n",
       "\n",
       "    // Add the close button to the window.\n",
       "    var buttongrp = $('<div class=\"btn-group inline pull-right\"></div>');\n",
       "    var button = $('<button class=\"btn btn-mini btn-primary\" href=\"#\" title=\"Stop Interaction\"><i class=\"fa fa-power-off icon-remove icon-large\"></i></button>');\n",
       "    button.click(function (evt) { fig.handle_close(fig, {}); } );\n",
       "    button.mouseover('Stop Interaction', toolbar_mouse_event);\n",
       "    buttongrp.append(button);\n",
       "    var titlebar = this.root.find($('.ui-dialog-titlebar'));\n",
       "    titlebar.prepend(buttongrp);\n",
       "}\n",
       "\n",
       "mpl.figure.prototype._root_extra_style = function(el){\n",
       "    var fig = this\n",
       "    el.on(\"remove\", function(){\n",
       "\tfig.close_ws(fig, {});\n",
       "    });\n",
       "}\n",
       "\n",
       "mpl.figure.prototype._canvas_extra_style = function(el){\n",
       "    // this is important to make the div 'focusable\n",
       "    el.attr('tabindex', 0)\n",
       "    // reach out to IPython and tell the keyboard manager to turn it's self\n",
       "    // off when our div gets focus\n",
       "\n",
       "    // location in version 3\n",
       "    if (IPython.notebook.keyboard_manager) {\n",
       "        IPython.notebook.keyboard_manager.register_events(el);\n",
       "    }\n",
       "    else {\n",
       "        // location in version 2\n",
       "        IPython.keyboard_manager.register_events(el);\n",
       "    }\n",
       "\n",
       "}\n",
       "\n",
       "mpl.figure.prototype._key_event_extra = function(event, name) {\n",
       "    var manager = IPython.notebook.keyboard_manager;\n",
       "    if (!manager)\n",
       "        manager = IPython.keyboard_manager;\n",
       "\n",
       "    // Check for shift+enter\n",
       "    if (event.shiftKey && event.which == 13) {\n",
       "        this.canvas_div.blur();\n",
       "        // select the cell after this one\n",
       "        var index = IPython.notebook.find_cell_index(this.cell_info[0]);\n",
       "        IPython.notebook.select(index + 1);\n",
       "    }\n",
       "}\n",
       "\n",
       "mpl.figure.prototype.handle_save = function(fig, msg) {\n",
       "    fig.ondownload(fig, null);\n",
       "}\n",
       "\n",
       "\n",
       "mpl.find_output_cell = function(html_output) {\n",
       "    // Return the cell and output element which can be found *uniquely* in the notebook.\n",
       "    // Note - this is a bit hacky, but it is done because the \"notebook_saving.Notebook\"\n",
       "    // IPython event is triggered only after the cells have been serialised, which for\n",
       "    // our purposes (turning an active figure into a static one), is too late.\n",
       "    var cells = IPython.notebook.get_cells();\n",
       "    var ncells = cells.length;\n",
       "    for (var i=0; i<ncells; i++) {\n",
       "        var cell = cells[i];\n",
       "        if (cell.cell_type === 'code'){\n",
       "            for (var j=0; j<cell.output_area.outputs.length; j++) {\n",
       "                var data = cell.output_area.outputs[j];\n",
       "                if (data.data) {\n",
       "                    // IPython >= 3 moved mimebundle to data attribute of output\n",
       "                    data = data.data;\n",
       "                }\n",
       "                if (data['text/html'] == html_output) {\n",
       "                    return [cell, data, j];\n",
       "                }\n",
       "            }\n",
       "        }\n",
       "    }\n",
       "}\n",
       "\n",
       "// Register the function which deals with the matplotlib target/channel.\n",
       "// The kernel may be null if the page has been refreshed.\n",
       "if (IPython.notebook.kernel != null) {\n",
       "    IPython.notebook.kernel.comm_manager.register_target('matplotlib', mpl.mpl_figure_comm);\n",
       "}\n"
      ],
      "text/plain": [
       "<IPython.core.display.Javascript object>"
      ]
     },
     "metadata": {},
     "output_type": "display_data"
    },
    {
     "data": {
      "text/html": [
       "<img src=\"data:image/png;base64,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\" width=\"640\">"
      ],
      "text/plain": [
       "<IPython.core.display.HTML object>"
      ]
     },
     "metadata": {},
     "output_type": "display_data"
    }
   ],
   "source": [
    "print(mmirs.modes['mmirs1']['reference']['fwhm'])\n",
    "\n",
    "spot = mmirs.modes['mmirs1']['reference']['spot']\n",
    "model = Gaussian2D(amplitude=spot.max(), x_mean=spot.shape[1]/2, y_mean=spot.shape[0]/2) + Polynomial2D(degree=0)\n",
    "#model = Gaussian2D(amplitude=spot.max(), x_mean=spot.shape[1]/2, y_mean=spot.shape[0]/2)\n",
    "fitter = LevMarLSQFitter()\n",
    "y, x = np.mgrid[:spot.shape[0], :spot.shape[1]]\n",
    "fit = fitter(model, x, y, spot)\n",
    "\n",
    "plt.imshow(mmirs.modes['mmirs1']['reference']['spot'] - fit(x, y))\n",
    "plt.show()"
   ]
  },
  {
   "cell_type": "code",
   "execution_count": 4,
   "metadata": {},
   "outputs": [
    {
     "data": {
      "application/javascript": [
       "/* Put everything inside the global mpl namespace */\n",
       "window.mpl = {};\n",
       "\n",
       "\n",
       "mpl.get_websocket_type = function() {\n",
       "    if (typeof(WebSocket) !== 'undefined') {\n",
       "        return WebSocket;\n",
       "    } else if (typeof(MozWebSocket) !== 'undefined') {\n",
       "        return MozWebSocket;\n",
       "    } else {\n",
       "        alert('Your browser does not have WebSocket support.' +\n",
       "              'Please try Chrome, Safari or Firefox ≥ 6. ' +\n",
       "              'Firefox 4 and 5 are also supported but you ' +\n",
       "              'have to enable WebSockets in about:config.');\n",
       "    };\n",
       "}\n",
       "\n",
       "mpl.figure = function(figure_id, websocket, ondownload, parent_element) {\n",
       "    this.id = figure_id;\n",
       "\n",
       "    this.ws = websocket;\n",
       "\n",
       "    this.supports_binary = (this.ws.binaryType != undefined);\n",
       "\n",
       "    if (!this.supports_binary) {\n",
       "        var warnings = document.getElementById(\"mpl-warnings\");\n",
       "        if (warnings) {\n",
       "            warnings.style.display = 'block';\n",
       "            warnings.textContent = (\n",
       "                \"This browser does not support binary websocket messages. \" +\n",
       "                    \"Performance may be slow.\");\n",
       "        }\n",
       "    }\n",
       "\n",
       "    this.imageObj = new Image();\n",
       "\n",
       "    this.context = undefined;\n",
       "    this.message = undefined;\n",
       "    this.canvas = undefined;\n",
       "    this.rubberband_canvas = undefined;\n",
       "    this.rubberband_context = undefined;\n",
       "    this.format_dropdown = undefined;\n",
       "\n",
       "    this.image_mode = 'full';\n",
       "\n",
       "    this.root = $('<div/>');\n",
       "    this._root_extra_style(this.root)\n",
       "    this.root.attr('style', 'display: inline-block');\n",
       "\n",
       "    $(parent_element).append(this.root);\n",
       "\n",
       "    this._init_header(this);\n",
       "    this._init_canvas(this);\n",
       "    this._init_toolbar(this);\n",
       "\n",
       "    var fig = this;\n",
       "\n",
       "    this.waiting = false;\n",
       "\n",
       "    this.ws.onopen =  function () {\n",
       "            fig.send_message(\"supports_binary\", {value: fig.supports_binary});\n",
       "            fig.send_message(\"send_image_mode\", {});\n",
       "            if (mpl.ratio != 1) {\n",
       "                fig.send_message(\"set_dpi_ratio\", {'dpi_ratio': mpl.ratio});\n",
       "            }\n",
       "            fig.send_message(\"refresh\", {});\n",
       "        }\n",
       "\n",
       "    this.imageObj.onload = function() {\n",
       "            if (fig.image_mode == 'full') {\n",
       "                // Full images could contain transparency (where diff images\n",
       "                // almost always do), so we need to clear the canvas so that\n",
       "                // there is no ghosting.\n",
       "                fig.context.clearRect(0, 0, fig.canvas.width, fig.canvas.height);\n",
       "            }\n",
       "            fig.context.drawImage(fig.imageObj, 0, 0);\n",
       "        };\n",
       "\n",
       "    this.imageObj.onunload = function() {\n",
       "        this.ws.close();\n",
       "    }\n",
       "\n",
       "    this.ws.onmessage = this._make_on_message_function(this);\n",
       "\n",
       "    this.ondownload = ondownload;\n",
       "}\n",
       "\n",
       "mpl.figure.prototype._init_header = function() {\n",
       "    var titlebar = $(\n",
       "        '<div class=\"ui-dialog-titlebar ui-widget-header ui-corner-all ' +\n",
       "        'ui-helper-clearfix\"/>');\n",
       "    var titletext = $(\n",
       "        '<div class=\"ui-dialog-title\" style=\"width: 100%; ' +\n",
       "        'text-align: center; padding: 3px;\"/>');\n",
       "    titlebar.append(titletext)\n",
       "    this.root.append(titlebar);\n",
       "    this.header = titletext[0];\n",
       "}\n",
       "\n",
       "\n",
       "\n",
       "mpl.figure.prototype._canvas_extra_style = function(canvas_div) {\n",
       "\n",
       "}\n",
       "\n",
       "\n",
       "mpl.figure.prototype._root_extra_style = function(canvas_div) {\n",
       "\n",
       "}\n",
       "\n",
       "mpl.figure.prototype._init_canvas = function() {\n",
       "    var fig = this;\n",
       "\n",
       "    var canvas_div = $('<div/>');\n",
       "\n",
       "    canvas_div.attr('style', 'position: relative; clear: both; outline: 0');\n",
       "\n",
       "    function canvas_keyboard_event(event) {\n",
       "        return fig.key_event(event, event['data']);\n",
       "    }\n",
       "\n",
       "    canvas_div.keydown('key_press', canvas_keyboard_event);\n",
       "    canvas_div.keyup('key_release', canvas_keyboard_event);\n",
       "    this.canvas_div = canvas_div\n",
       "    this._canvas_extra_style(canvas_div)\n",
       "    this.root.append(canvas_div);\n",
       "\n",
       "    var canvas = $('<canvas/>');\n",
       "    canvas.addClass('mpl-canvas');\n",
       "    canvas.attr('style', \"left: 0; top: 0; z-index: 0; outline: 0\")\n",
       "\n",
       "    this.canvas = canvas[0];\n",
       "    this.context = canvas[0].getContext(\"2d\");\n",
       "\n",
       "    var backingStore = this.context.backingStorePixelRatio ||\n",
       "\tthis.context.webkitBackingStorePixelRatio ||\n",
       "\tthis.context.mozBackingStorePixelRatio ||\n",
       "\tthis.context.msBackingStorePixelRatio ||\n",
       "\tthis.context.oBackingStorePixelRatio ||\n",
       "\tthis.context.backingStorePixelRatio || 1;\n",
       "\n",
       "    mpl.ratio = (window.devicePixelRatio || 1) / backingStore;\n",
       "\n",
       "    var rubberband = $('<canvas/>');\n",
       "    rubberband.attr('style', \"position: absolute; left: 0; top: 0; z-index: 1;\")\n",
       "\n",
       "    var pass_mouse_events = true;\n",
       "\n",
       "    canvas_div.resizable({\n",
       "        start: function(event, ui) {\n",
       "            pass_mouse_events = false;\n",
       "        },\n",
       "        resize: function(event, ui) {\n",
       "            fig.request_resize(ui.size.width, ui.size.height);\n",
       "        },\n",
       "        stop: function(event, ui) {\n",
       "            pass_mouse_events = true;\n",
       "            fig.request_resize(ui.size.width, ui.size.height);\n",
       "        },\n",
       "    });\n",
       "\n",
       "    function mouse_event_fn(event) {\n",
       "        if (pass_mouse_events)\n",
       "            return fig.mouse_event(event, event['data']);\n",
       "    }\n",
       "\n",
       "    rubberband.mousedown('button_press', mouse_event_fn);\n",
       "    rubberband.mouseup('button_release', mouse_event_fn);\n",
       "    // Throttle sequential mouse events to 1 every 20ms.\n",
       "    rubberband.mousemove('motion_notify', mouse_event_fn);\n",
       "\n",
       "    rubberband.mouseenter('figure_enter', mouse_event_fn);\n",
       "    rubberband.mouseleave('figure_leave', mouse_event_fn);\n",
       "\n",
       "    canvas_div.on(\"wheel\", function (event) {\n",
       "        event = event.originalEvent;\n",
       "        event['data'] = 'scroll'\n",
       "        if (event.deltaY < 0) {\n",
       "            event.step = 1;\n",
       "        } else {\n",
       "            event.step = -1;\n",
       "        }\n",
       "        mouse_event_fn(event);\n",
       "    });\n",
       "\n",
       "    canvas_div.append(canvas);\n",
       "    canvas_div.append(rubberband);\n",
       "\n",
       "    this.rubberband = rubberband;\n",
       "    this.rubberband_canvas = rubberband[0];\n",
       "    this.rubberband_context = rubberband[0].getContext(\"2d\");\n",
       "    this.rubberband_context.strokeStyle = \"#000000\";\n",
       "\n",
       "    this._resize_canvas = function(width, height) {\n",
       "        // Keep the size of the canvas, canvas container, and rubber band\n",
       "        // canvas in synch.\n",
       "        canvas_div.css('width', width)\n",
       "        canvas_div.css('height', height)\n",
       "\n",
       "        canvas.attr('width', width * mpl.ratio);\n",
       "        canvas.attr('height', height * mpl.ratio);\n",
       "        canvas.attr('style', 'width: ' + width + 'px; height: ' + height + 'px;');\n",
       "\n",
       "        rubberband.attr('width', width);\n",
       "        rubberband.attr('height', height);\n",
       "    }\n",
       "\n",
       "    // Set the figure to an initial 600x600px, this will subsequently be updated\n",
       "    // upon first draw.\n",
       "    this._resize_canvas(600, 600);\n",
       "\n",
       "    // Disable right mouse context menu.\n",
       "    $(this.rubberband_canvas).bind(\"contextmenu\",function(e){\n",
       "        return false;\n",
       "    });\n",
       "\n",
       "    function set_focus () {\n",
       "        canvas.focus();\n",
       "        canvas_div.focus();\n",
       "    }\n",
       "\n",
       "    window.setTimeout(set_focus, 100);\n",
       "}\n",
       "\n",
       "mpl.figure.prototype._init_toolbar = function() {\n",
       "    var fig = this;\n",
       "\n",
       "    var nav_element = $('<div/>')\n",
       "    nav_element.attr('style', 'width: 100%');\n",
       "    this.root.append(nav_element);\n",
       "\n",
       "    // Define a callback function for later on.\n",
       "    function toolbar_event(event) {\n",
       "        return fig.toolbar_button_onclick(event['data']);\n",
       "    }\n",
       "    function toolbar_mouse_event(event) {\n",
       "        return fig.toolbar_button_onmouseover(event['data']);\n",
       "    }\n",
       "\n",
       "    for(var toolbar_ind in mpl.toolbar_items) {\n",
       "        var name = mpl.toolbar_items[toolbar_ind][0];\n",
       "        var tooltip = mpl.toolbar_items[toolbar_ind][1];\n",
       "        var image = mpl.toolbar_items[toolbar_ind][2];\n",
       "        var method_name = mpl.toolbar_items[toolbar_ind][3];\n",
       "\n",
       "        if (!name) {\n",
       "            // put a spacer in here.\n",
       "            continue;\n",
       "        }\n",
       "        var button = $('<button/>');\n",
       "        button.addClass('ui-button ui-widget ui-state-default ui-corner-all ' +\n",
       "                        'ui-button-icon-only');\n",
       "        button.attr('role', 'button');\n",
       "        button.attr('aria-disabled', 'false');\n",
       "        button.click(method_name, toolbar_event);\n",
       "        button.mouseover(tooltip, toolbar_mouse_event);\n",
       "\n",
       "        var icon_img = $('<span/>');\n",
       "        icon_img.addClass('ui-button-icon-primary ui-icon');\n",
       "        icon_img.addClass(image);\n",
       "        icon_img.addClass('ui-corner-all');\n",
       "\n",
       "        var tooltip_span = $('<span/>');\n",
       "        tooltip_span.addClass('ui-button-text');\n",
       "        tooltip_span.html(tooltip);\n",
       "\n",
       "        button.append(icon_img);\n",
       "        button.append(tooltip_span);\n",
       "\n",
       "        nav_element.append(button);\n",
       "    }\n",
       "\n",
       "    var fmt_picker_span = $('<span/>');\n",
       "\n",
       "    var fmt_picker = $('<select/>');\n",
       "    fmt_picker.addClass('mpl-toolbar-option ui-widget ui-widget-content');\n",
       "    fmt_picker_span.append(fmt_picker);\n",
       "    nav_element.append(fmt_picker_span);\n",
       "    this.format_dropdown = fmt_picker[0];\n",
       "\n",
       "    for (var ind in mpl.extensions) {\n",
       "        var fmt = mpl.extensions[ind];\n",
       "        var option = $(\n",
       "            '<option/>', {selected: fmt === mpl.default_extension}).html(fmt);\n",
       "        fmt_picker.append(option)\n",
       "    }\n",
       "\n",
       "    // Add hover states to the ui-buttons\n",
       "    $( \".ui-button\" ).hover(\n",
       "        function() { $(this).addClass(\"ui-state-hover\");},\n",
       "        function() { $(this).removeClass(\"ui-state-hover\");}\n",
       "    );\n",
       "\n",
       "    var status_bar = $('<span class=\"mpl-message\"/>');\n",
       "    nav_element.append(status_bar);\n",
       "    this.message = status_bar[0];\n",
       "}\n",
       "\n",
       "mpl.figure.prototype.request_resize = function(x_pixels, y_pixels) {\n",
       "    // Request matplotlib to resize the figure. Matplotlib will then trigger a resize in the client,\n",
       "    // which will in turn request a refresh of the image.\n",
       "    this.send_message('resize', {'width': x_pixels, 'height': y_pixels});\n",
       "}\n",
       "\n",
       "mpl.figure.prototype.send_message = function(type, properties) {\n",
       "    properties['type'] = type;\n",
       "    properties['figure_id'] = this.id;\n",
       "    this.ws.send(JSON.stringify(properties));\n",
       "}\n",
       "\n",
       "mpl.figure.prototype.send_draw_message = function() {\n",
       "    if (!this.waiting) {\n",
       "        this.waiting = true;\n",
       "        this.ws.send(JSON.stringify({type: \"draw\", figure_id: this.id}));\n",
       "    }\n",
       "}\n",
       "\n",
       "\n",
       "mpl.figure.prototype.handle_save = function(fig, msg) {\n",
       "    var format_dropdown = fig.format_dropdown;\n",
       "    var format = format_dropdown.options[format_dropdown.selectedIndex].value;\n",
       "    fig.ondownload(fig, format);\n",
       "}\n",
       "\n",
       "\n",
       "mpl.figure.prototype.handle_resize = function(fig, msg) {\n",
       "    var size = msg['size'];\n",
       "    if (size[0] != fig.canvas.width || size[1] != fig.canvas.height) {\n",
       "        fig._resize_canvas(size[0], size[1]);\n",
       "        fig.send_message(\"refresh\", {});\n",
       "    };\n",
       "}\n",
       "\n",
       "mpl.figure.prototype.handle_rubberband = function(fig, msg) {\n",
       "    var x0 = msg['x0'] / mpl.ratio;\n",
       "    var y0 = (fig.canvas.height - msg['y0']) / mpl.ratio;\n",
       "    var x1 = msg['x1'] / mpl.ratio;\n",
       "    var y1 = (fig.canvas.height - msg['y1']) / mpl.ratio;\n",
       "    x0 = Math.floor(x0) + 0.5;\n",
       "    y0 = Math.floor(y0) + 0.5;\n",
       "    x1 = Math.floor(x1) + 0.5;\n",
       "    y1 = Math.floor(y1) + 0.5;\n",
       "    var min_x = Math.min(x0, x1);\n",
       "    var min_y = Math.min(y0, y1);\n",
       "    var width = Math.abs(x1 - x0);\n",
       "    var height = Math.abs(y1 - y0);\n",
       "\n",
       "    fig.rubberband_context.clearRect(\n",
       "        0, 0, fig.canvas.width, fig.canvas.height);\n",
       "\n",
       "    fig.rubberband_context.strokeRect(min_x, min_y, width, height);\n",
       "}\n",
       "\n",
       "mpl.figure.prototype.handle_figure_label = function(fig, msg) {\n",
       "    // Updates the figure title.\n",
       "    fig.header.textContent = msg['label'];\n",
       "}\n",
       "\n",
       "mpl.figure.prototype.handle_cursor = function(fig, msg) {\n",
       "    var cursor = msg['cursor'];\n",
       "    switch(cursor)\n",
       "    {\n",
       "    case 0:\n",
       "        cursor = 'pointer';\n",
       "        break;\n",
       "    case 1:\n",
       "        cursor = 'default';\n",
       "        break;\n",
       "    case 2:\n",
       "        cursor = 'crosshair';\n",
       "        break;\n",
       "    case 3:\n",
       "        cursor = 'move';\n",
       "        break;\n",
       "    }\n",
       "    fig.rubberband_canvas.style.cursor = cursor;\n",
       "}\n",
       "\n",
       "mpl.figure.prototype.handle_message = function(fig, msg) {\n",
       "    fig.message.textContent = msg['message'];\n",
       "}\n",
       "\n",
       "mpl.figure.prototype.handle_draw = function(fig, msg) {\n",
       "    // Request the server to send over a new figure.\n",
       "    fig.send_draw_message();\n",
       "}\n",
       "\n",
       "mpl.figure.prototype.handle_image_mode = function(fig, msg) {\n",
       "    fig.image_mode = msg['mode'];\n",
       "}\n",
       "\n",
       "mpl.figure.prototype.updated_canvas_event = function() {\n",
       "    // Called whenever the canvas gets updated.\n",
       "    this.send_message(\"ack\", {});\n",
       "}\n",
       "\n",
       "// A function to construct a web socket function for onmessage handling.\n",
       "// Called in the figure constructor.\n",
       "mpl.figure.prototype._make_on_message_function = function(fig) {\n",
       "    return function socket_on_message(evt) {\n",
       "        if (evt.data instanceof Blob) {\n",
       "            /* FIXME: We get \"Resource interpreted as Image but\n",
       "             * transferred with MIME type text/plain:\" errors on\n",
       "             * Chrome.  But how to set the MIME type?  It doesn't seem\n",
       "             * to be part of the websocket stream */\n",
       "            evt.data.type = \"image/png\";\n",
       "\n",
       "            /* Free the memory for the previous frames */\n",
       "            if (fig.imageObj.src) {\n",
       "                (window.URL || window.webkitURL).revokeObjectURL(\n",
       "                    fig.imageObj.src);\n",
       "            }\n",
       "\n",
       "            fig.imageObj.src = (window.URL || window.webkitURL).createObjectURL(\n",
       "                evt.data);\n",
       "            fig.updated_canvas_event();\n",
       "            fig.waiting = false;\n",
       "            return;\n",
       "        }\n",
       "        else if (typeof evt.data === 'string' && evt.data.slice(0, 21) == \"data:image/png;base64\") {\n",
       "            fig.imageObj.src = evt.data;\n",
       "            fig.updated_canvas_event();\n",
       "            fig.waiting = false;\n",
       "            return;\n",
       "        }\n",
       "\n",
       "        var msg = JSON.parse(evt.data);\n",
       "        var msg_type = msg['type'];\n",
       "\n",
       "        // Call the  \"handle_{type}\" callback, which takes\n",
       "        // the figure and JSON message as its only arguments.\n",
       "        try {\n",
       "            var callback = fig[\"handle_\" + msg_type];\n",
       "        } catch (e) {\n",
       "            console.log(\"No handler for the '\" + msg_type + \"' message type: \", msg);\n",
       "            return;\n",
       "        }\n",
       "\n",
       "        if (callback) {\n",
       "            try {\n",
       "                // console.log(\"Handling '\" + msg_type + \"' message: \", msg);\n",
       "                callback(fig, msg);\n",
       "            } catch (e) {\n",
       "                console.log(\"Exception inside the 'handler_\" + msg_type + \"' callback:\", e, e.stack, msg);\n",
       "            }\n",
       "        }\n",
       "    };\n",
       "}\n",
       "\n",
       "// from http://stackoverflow.com/questions/1114465/getting-mouse-location-in-canvas\n",
       "mpl.findpos = function(e) {\n",
       "    //this section is from http://www.quirksmode.org/js/events_properties.html\n",
       "    var targ;\n",
       "    if (!e)\n",
       "        e = window.event;\n",
       "    if (e.target)\n",
       "        targ = e.target;\n",
       "    else if (e.srcElement)\n",
       "        targ = e.srcElement;\n",
       "    if (targ.nodeType == 3) // defeat Safari bug\n",
       "        targ = targ.parentNode;\n",
       "\n",
       "    // jQuery normalizes the pageX and pageY\n",
       "    // pageX,Y are the mouse positions relative to the document\n",
       "    // offset() returns the position of the element relative to the document\n",
       "    var x = e.pageX - $(targ).offset().left;\n",
       "    var y = e.pageY - $(targ).offset().top;\n",
       "\n",
       "    return {\"x\": x, \"y\": y};\n",
       "};\n",
       "\n",
       "/*\n",
       " * return a copy of an object with only non-object keys\n",
       " * we need this to avoid circular references\n",
       " * http://stackoverflow.com/a/24161582/3208463\n",
       " */\n",
       "function simpleKeys (original) {\n",
       "  return Object.keys(original).reduce(function (obj, key) {\n",
       "    if (typeof original[key] !== 'object')\n",
       "        obj[key] = original[key]\n",
       "    return obj;\n",
       "  }, {});\n",
       "}\n",
       "\n",
       "mpl.figure.prototype.mouse_event = function(event, name) {\n",
       "    var canvas_pos = mpl.findpos(event)\n",
       "\n",
       "    if (name === 'button_press')\n",
       "    {\n",
       "        this.canvas.focus();\n",
       "        this.canvas_div.focus();\n",
       "    }\n",
       "\n",
       "    var x = canvas_pos.x * mpl.ratio;\n",
       "    var y = canvas_pos.y * mpl.ratio;\n",
       "\n",
       "    this.send_message(name, {x: x, y: y, button: event.button,\n",
       "                             step: event.step,\n",
       "                             guiEvent: simpleKeys(event)});\n",
       "\n",
       "    /* This prevents the web browser from automatically changing to\n",
       "     * the text insertion cursor when the button is pressed.  We want\n",
       "     * to control all of the cursor setting manually through the\n",
       "     * 'cursor' event from matplotlib */\n",
       "    event.preventDefault();\n",
       "    return false;\n",
       "}\n",
       "\n",
       "mpl.figure.prototype._key_event_extra = function(event, name) {\n",
       "    // Handle any extra behaviour associated with a key event\n",
       "}\n",
       "\n",
       "mpl.figure.prototype.key_event = function(event, name) {\n",
       "\n",
       "    // Prevent repeat events\n",
       "    if (name == 'key_press')\n",
       "    {\n",
       "        if (event.which === this._key)\n",
       "            return;\n",
       "        else\n",
       "            this._key = event.which;\n",
       "    }\n",
       "    if (name == 'key_release')\n",
       "        this._key = null;\n",
       "\n",
       "    var value = '';\n",
       "    if (event.ctrlKey && event.which != 17)\n",
       "        value += \"ctrl+\";\n",
       "    if (event.altKey && event.which != 18)\n",
       "        value += \"alt+\";\n",
       "    if (event.shiftKey && event.which != 16)\n",
       "        value += \"shift+\";\n",
       "\n",
       "    value += 'k';\n",
       "    value += event.which.toString();\n",
       "\n",
       "    this._key_event_extra(event, name);\n",
       "\n",
       "    this.send_message(name, {key: value,\n",
       "                             guiEvent: simpleKeys(event)});\n",
       "    return false;\n",
       "}\n",
       "\n",
       "mpl.figure.prototype.toolbar_button_onclick = function(name) {\n",
       "    if (name == 'download') {\n",
       "        this.handle_save(this, null);\n",
       "    } else {\n",
       "        this.send_message(\"toolbar_button\", {name: name});\n",
       "    }\n",
       "};\n",
       "\n",
       "mpl.figure.prototype.toolbar_button_onmouseover = function(tooltip) {\n",
       "    this.message.textContent = tooltip;\n",
       "};\n",
       "mpl.toolbar_items = [[\"Home\", \"Reset original view\", \"fa fa-home icon-home\", \"home\"], [\"Back\", \"Back to  previous view\", \"fa fa-arrow-left icon-arrow-left\", \"back\"], [\"Forward\", \"Forward to next view\", \"fa fa-arrow-right icon-arrow-right\", \"forward\"], [\"\", \"\", \"\", \"\"], [\"Pan\", \"Pan axes with left mouse, zoom with right\", \"fa fa-arrows icon-move\", \"pan\"], [\"Zoom\", \"Zoom to rectangle\", \"fa fa-square-o icon-check-empty\", \"zoom\"], [\"\", \"\", \"\", \"\"], [\"Download\", \"Download plot\", \"fa fa-floppy-o icon-save\", \"download\"]];\n",
       "\n",
       "mpl.extensions = [\"eps\", \"jpeg\", \"pdf\", \"png\", \"ps\", \"raw\", \"svg\", \"tif\"];\n",
       "\n",
       "mpl.default_extension = \"png\";var comm_websocket_adapter = function(comm) {\n",
       "    // Create a \"websocket\"-like object which calls the given IPython comm\n",
       "    // object with the appropriate methods. Currently this is a non binary\n",
       "    // socket, so there is still some room for performance tuning.\n",
       "    var ws = {};\n",
       "\n",
       "    ws.close = function() {\n",
       "        comm.close()\n",
       "    };\n",
       "    ws.send = function(m) {\n",
       "        //console.log('sending', m);\n",
       "        comm.send(m);\n",
       "    };\n",
       "    // Register the callback with on_msg.\n",
       "    comm.on_msg(function(msg) {\n",
       "        //console.log('receiving', msg['content']['data'], msg);\n",
       "        // Pass the mpl event to the overriden (by mpl) onmessage function.\n",
       "        ws.onmessage(msg['content']['data'])\n",
       "    });\n",
       "    return ws;\n",
       "}\n",
       "\n",
       "mpl.mpl_figure_comm = function(comm, msg) {\n",
       "    // This is the function which gets called when the mpl process\n",
       "    // starts-up an IPython Comm through the \"matplotlib\" channel.\n",
       "\n",
       "    var id = msg.content.data.id;\n",
       "    // Get hold of the div created by the display call when the Comm\n",
       "    // socket was opened in Python.\n",
       "    var element = $(\"#\" + id);\n",
       "    var ws_proxy = comm_websocket_adapter(comm)\n",
       "\n",
       "    function ondownload(figure, format) {\n",
       "        window.open(figure.imageObj.src);\n",
       "    }\n",
       "\n",
       "    var fig = new mpl.figure(id, ws_proxy,\n",
       "                           ondownload,\n",
       "                           element.get(0));\n",
       "\n",
       "    // Call onopen now - mpl needs it, as it is assuming we've passed it a real\n",
       "    // web socket which is closed, not our websocket->open comm proxy.\n",
       "    ws_proxy.onopen();\n",
       "\n",
       "    fig.parent_element = element.get(0);\n",
       "    fig.cell_info = mpl.find_output_cell(\"<div id='\" + id + \"'></div>\");\n",
       "    if (!fig.cell_info) {\n",
       "        console.error(\"Failed to find cell for figure\", id, fig);\n",
       "        return;\n",
       "    }\n",
       "\n",
       "    var output_index = fig.cell_info[2]\n",
       "    var cell = fig.cell_info[0];\n",
       "\n",
       "};\n",
       "\n",
       "mpl.figure.prototype.handle_close = function(fig, msg) {\n",
       "    var width = fig.canvas.width/mpl.ratio\n",
       "    fig.root.unbind('remove')\n",
       "\n",
       "    // Update the output cell to use the data from the current canvas.\n",
       "    fig.push_to_output();\n",
       "    var dataURL = fig.canvas.toDataURL();\n",
       "    // Re-enable the keyboard manager in IPython - without this line, in FF,\n",
       "    // the notebook keyboard shortcuts fail.\n",
       "    IPython.keyboard_manager.enable()\n",
       "    $(fig.parent_element).html('<img src=\"' + dataURL + '\" width=\"' + width + '\">');\n",
       "    fig.close_ws(fig, msg);\n",
       "}\n",
       "\n",
       "mpl.figure.prototype.close_ws = function(fig, msg){\n",
       "    fig.send_message('closing', msg);\n",
       "    // fig.ws.close()\n",
       "}\n",
       "\n",
       "mpl.figure.prototype.push_to_output = function(remove_interactive) {\n",
       "    // Turn the data on the canvas into data in the output cell.\n",
       "    var width = this.canvas.width/mpl.ratio\n",
       "    var dataURL = this.canvas.toDataURL();\n",
       "    this.cell_info[1]['text/html'] = '<img src=\"' + dataURL + '\" width=\"' + width + '\">';\n",
       "}\n",
       "\n",
       "mpl.figure.prototype.updated_canvas_event = function() {\n",
       "    // Tell IPython that the notebook contents must change.\n",
       "    IPython.notebook.set_dirty(true);\n",
       "    this.send_message(\"ack\", {});\n",
       "    var fig = this;\n",
       "    // Wait a second, then push the new image to the DOM so\n",
       "    // that it is saved nicely (might be nice to debounce this).\n",
       "    setTimeout(function () { fig.push_to_output() }, 1000);\n",
       "}\n",
       "\n",
       "mpl.figure.prototype._init_toolbar = function() {\n",
       "    var fig = this;\n",
       "\n",
       "    var nav_element = $('<div/>')\n",
       "    nav_element.attr('style', 'width: 100%');\n",
       "    this.root.append(nav_element);\n",
       "\n",
       "    // Define a callback function for later on.\n",
       "    function toolbar_event(event) {\n",
       "        return fig.toolbar_button_onclick(event['data']);\n",
       "    }\n",
       "    function toolbar_mouse_event(event) {\n",
       "        return fig.toolbar_button_onmouseover(event['data']);\n",
       "    }\n",
       "\n",
       "    for(var toolbar_ind in mpl.toolbar_items){\n",
       "        var name = mpl.toolbar_items[toolbar_ind][0];\n",
       "        var tooltip = mpl.toolbar_items[toolbar_ind][1];\n",
       "        var image = mpl.toolbar_items[toolbar_ind][2];\n",
       "        var method_name = mpl.toolbar_items[toolbar_ind][3];\n",
       "\n",
       "        if (!name) { continue; };\n",
       "\n",
       "        var button = $('<button class=\"btn btn-default\" href=\"#\" title=\"' + name + '\"><i class=\"fa ' + image + ' fa-lg\"></i></button>');\n",
       "        button.click(method_name, toolbar_event);\n",
       "        button.mouseover(tooltip, toolbar_mouse_event);\n",
       "        nav_element.append(button);\n",
       "    }\n",
       "\n",
       "    // Add the status bar.\n",
       "    var status_bar = $('<span class=\"mpl-message\" style=\"text-align:right; float: right;\"/>');\n",
       "    nav_element.append(status_bar);\n",
       "    this.message = status_bar[0];\n",
       "\n",
       "    // Add the close button to the window.\n",
       "    var buttongrp = $('<div class=\"btn-group inline pull-right\"></div>');\n",
       "    var button = $('<button class=\"btn btn-mini btn-primary\" href=\"#\" title=\"Stop Interaction\"><i class=\"fa fa-power-off icon-remove icon-large\"></i></button>');\n",
       "    button.click(function (evt) { fig.handle_close(fig, {}); } );\n",
       "    button.mouseover('Stop Interaction', toolbar_mouse_event);\n",
       "    buttongrp.append(button);\n",
       "    var titlebar = this.root.find($('.ui-dialog-titlebar'));\n",
       "    titlebar.prepend(buttongrp);\n",
       "}\n",
       "\n",
       "mpl.figure.prototype._root_extra_style = function(el){\n",
       "    var fig = this\n",
       "    el.on(\"remove\", function(){\n",
       "\tfig.close_ws(fig, {});\n",
       "    });\n",
       "}\n",
       "\n",
       "mpl.figure.prototype._canvas_extra_style = function(el){\n",
       "    // this is important to make the div 'focusable\n",
       "    el.attr('tabindex', 0)\n",
       "    // reach out to IPython and tell the keyboard manager to turn it's self\n",
       "    // off when our div gets focus\n",
       "\n",
       "    // location in version 3\n",
       "    if (IPython.notebook.keyboard_manager) {\n",
       "        IPython.notebook.keyboard_manager.register_events(el);\n",
       "    }\n",
       "    else {\n",
       "        // location in version 2\n",
       "        IPython.keyboard_manager.register_events(el);\n",
       "    }\n",
       "\n",
       "}\n",
       "\n",
       "mpl.figure.prototype._key_event_extra = function(event, name) {\n",
       "    var manager = IPython.notebook.keyboard_manager;\n",
       "    if (!manager)\n",
       "        manager = IPython.keyboard_manager;\n",
       "\n",
       "    // Check for shift+enter\n",
       "    if (event.shiftKey && event.which == 13) {\n",
       "        this.canvas_div.blur();\n",
       "        // select the cell after this one\n",
       "        var index = IPython.notebook.find_cell_index(this.cell_info[0]);\n",
       "        IPython.notebook.select(index + 1);\n",
       "    }\n",
       "}\n",
       "\n",
       "mpl.figure.prototype.handle_save = function(fig, msg) {\n",
       "    fig.ondownload(fig, null);\n",
       "}\n",
       "\n",
       "\n",
       "mpl.find_output_cell = function(html_output) {\n",
       "    // Return the cell and output element which can be found *uniquely* in the notebook.\n",
       "    // Note - this is a bit hacky, but it is done because the \"notebook_saving.Notebook\"\n",
       "    // IPython event is triggered only after the cells have been serialised, which for\n",
       "    // our purposes (turning an active figure into a static one), is too late.\n",
       "    var cells = IPython.notebook.get_cells();\n",
       "    var ncells = cells.length;\n",
       "    for (var i=0; i<ncells; i++) {\n",
       "        var cell = cells[i];\n",
       "        if (cell.cell_type === 'code'){\n",
       "            for (var j=0; j<cell.output_area.outputs.length; j++) {\n",
       "                var data = cell.output_area.outputs[j];\n",
       "                if (data.data) {\n",
       "                    // IPython >= 3 moved mimebundle to data attribute of output\n",
       "                    data = data.data;\n",
       "                }\n",
       "                if (data['text/html'] == html_output) {\n",
       "                    return [cell, data, j];\n",
       "                }\n",
       "            }\n",
       "        }\n",
       "    }\n",
       "}\n",
       "\n",
       "// Register the function which deals with the matplotlib target/channel.\n",
       "// The kernel may be null if the page has been refreshed.\n",
       "if (IPython.notebook.kernel != null) {\n",
       "    IPython.notebook.kernel.comm_manager.register_target('matplotlib', mpl.mpl_figure_comm);\n",
       "}\n"
      ],
      "text/plain": [
       "<IPython.core.display.Javascript object>"
      ]
     },
     "metadata": {},
     "output_type": "display_data"
    },
    {
     "data": {
      "text/html": [
       "<img src=\"data:image/png;base64,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\" width=\"640\">"
      ],
      "text/plain": [
       "<IPython.core.display.HTML object>"
      ]
     },
     "metadata": {},
     "output_type": "display_data"
    },
    {
     "data": {
      "text/latex": [
       "$0.4161528 \\; \\mathrm{{}^{\\prime\\prime}}$"
      ],
      "text/plain": [
       "<Quantity 0.416152801134156 arcsec>"
      ]
     },
     "execution_count": 4,
     "metadata": {},
     "output_type": "execute_result"
    }
   ],
   "source": [
    "mmirs_file = \"/Users/tim/MMT/wfsdat/20170416/rawdata/mmirs_wfs_%04d.fits\" % 300\n",
    "results = mmirs.measure_slopes(mmirs_file, plot=True)\n",
    "plt.show()\n",
    "time.sleep(1)\n",
    "results['seeing']"
   ]
  },
  {
   "cell_type": "code",
   "execution_count": null,
   "metadata": {},
   "outputs": [],
   "source": [
    "results['raw_seeing']"
   ]
  },
  {
   "cell_type": "code",
   "execution_count": null,
   "metadata": {},
   "outputs": [],
   "source": [
    "results['header']['AIRMASS']"
   ]
  },
  {
   "cell_type": "code",
   "execution_count": null,
   "metadata": {
    "scrolled": false
   },
   "outputs": [],
   "source": [
    "zresults = mmirs.fit_wavefront(results, plot=True)\n",
    "zvec = zresults['zernike']\n",
    "print(zresults['residual_rms'])\n",
    "zvec.normalize()\n",
    "print(zvec)\n",
    "plt.show()"
   ]
  },
  {
   "cell_type": "code",
   "execution_count": null,
   "metadata": {},
   "outputs": [],
   "source": [
    "zvec.plot_map()\n",
    "plt.show()\n",
    "zvec.rms"
   ]
  },
  {
   "cell_type": "code",
   "execution_count": null,
   "metadata": {},
   "outputs": [],
   "source": [
    "del zvec['Z02']\n",
    "del zvec['Z03']\n",
    "zvec.normalize()\n",
    "modes = list(sorted(zvec.keys()))\n",
    "coeffs = [np.abs(zvec[m].value) for m in modes]\n",
    "labels = [zvec.shortlabel(m) for m in modes]\n",
    "labels.append(\"Residual\")\n",
    "coeffs.append(zresults['residual_rms'].value)\n",
    "ind = np.arange(len(labels))\n",
    "width = 0.1\n",
    "fig, ax = plt.subplots(figsize=(10, 5))\n",
    "rects = ax.bar(ind, coeffs)\n",
    "ax.set_xticks(ind)\n",
    "ax.set_xticklabels(labels, rotation=45, ha='right', size='x-small')\n",
    "ax.set_ylabel(\"RMS-normalized Amplitude (%s)\" % zvec.units)\n",
    "plt.show()"
   ]
  },
  {
   "cell_type": "code",
   "execution_count": null,
   "metadata": {},
   "outputs": [],
   "source": [
    "t = mmirs.telescope.bending_forces(zvec)\n",
    "t.show_in_notebook()"
   ]
  },
  {
   "cell_type": "code",
   "execution_count": null,
   "metadata": {},
   "outputs": [],
   "source": [
    "t, m1foc = mmirs.correct_primary(zv=zvec)\n",
    "print(m1foc)\n",
    "t.show_in_notebook()"
   ]
  },
  {
   "cell_type": "code",
   "execution_count": null,
   "metadata": {},
   "outputs": [],
   "source": [
    "mmirs.clear_corrections()"
   ]
  },
  {
   "cell_type": "code",
   "execution_count": null,
   "metadata": {},
   "outputs": [],
   "source": [
    "zpsf = zvec.copy()\n",
    "psf = mmirs.telescope.psf(zpsf)\n",
    "plt.imshow(psf[0].data, extent=[-0.5, 0.5, -0.5, 0.5])\n",
    "plt.show()"
   ]
  },
  {
   "cell_type": "code",
   "execution_count": null,
   "metadata": {},
   "outputs": [],
   "source": [
    "t.copy?"
   ]
  },
  {
   "cell_type": "markdown",
   "metadata": {},
   "source": [
    "# F/9 Dev Section"
   ]
  },
  {
   "cell_type": "code",
   "execution_count": null,
   "metadata": {},
   "outputs": [],
   "source": [
    "f9wfs = WFSFactory(wfs=\"f9\", nzern=20)\n",
    "f9_file = \"/Users/tim/MMT/wfsdat/20170318/AST45_p1000_0000.fits\"\n",
    "results = f9wfs.measure_slopes(f9_file, 'blue', plot=True)\n",
    "plt.show()\n",
    "# 265 258\n",
    "# ref 240 259.5"
   ]
  },
  {
   "cell_type": "code",
   "execution_count": null,
   "metadata": {},
   "outputs": [],
   "source": [
    "zresults = f9wfs.fit_wavefront(results, plot=True)\n",
    "print(zresults['residual_rms'])\n",
    "print(zresults['zernike'])\n",
    "plt.show()"
   ]
  },
  {
   "cell_type": "code",
   "execution_count": null,
   "metadata": {},
   "outputs": [],
   "source": [
    "plt.imshow(f9wfs.modes['blue']['reference']['spot'])\n",
    "plt.show()"
   ]
  },
  {
   "cell_type": "code",
   "execution_count": null,
   "metadata": {},
   "outputs": [],
   "source": [
    "zv = zresults['zernike']\n",
    "print(zv.rms)\n",
    "zv.ignore('Z02')\n",
    "zv.ignore('Z03')\n",
    "zv.plot_map()\n",
    "plt.show()"
   ]
  },
  {
   "cell_type": "code",
   "execution_count": null,
   "metadata": {},
   "outputs": [],
   "source": [
    "psf = f9wfs.telescope.psf(zv, fov=1.0)\n",
    "plt.imshow(psf[0].data, extent=[-0.5, 0.5, -0.5, 0.5])\n",
    "plt.show()"
   ]
  },
  {
   "cell_type": "code",
   "execution_count": null,
   "metadata": {},
   "outputs": [],
   "source": [
    "ztest = ZernikeVector(Z11=500*u.nm)\n",
    "psf = f9wfs.telescope.psf(ztest, fov=1.0)\n",
    "plt.imshow(psf[0].data, extent=[-0.5, 0.5, -0.5, 0.5])\n",
    "plt.show()"
   ]
  },
  {
   "cell_type": "code",
   "execution_count": null,
   "metadata": {},
   "outputs": [],
   "source": [
    "t = f9wfs.telescope.bending_forces(zv=ztest, gain=1)\n",
    "t.show_in_notebook()"
   ]
  },
  {
   "cell_type": "markdown",
   "metadata": {},
   "source": [
    "# F/5 Dev Section"
   ]
  },
  {
   "cell_type": "code",
   "execution_count": null,
   "metadata": {
    "collapsed": true
   },
   "outputs": [],
   "source": [
    "f5wfs = WFSFactory(wfs=\"f5\", nzern=20)\n",
    "f5_file = \"/Users/tim/MMT/wfsdat/20170301/auto_wfs_0037_ave.fits\"\n",
    "results = f5wfs.measure_slopes(f5_file, 'hecto', plot=True)\n",
    "plt.show()"
   ]
  },
  {
   "cell_type": "code",
   "execution_count": null,
   "metadata": {
    "collapsed": true
   },
   "outputs": [],
   "source": [
    "zresults = f5wfs.fit_wavefront(results, plot=True)\n",
    "zv = zresults['zernike']\n",
    "print(zv)\n",
    "print(zv.rms)\n",
    "plt.show()"
   ]
  },
  {
   "cell_type": "code",
   "execution_count": null,
   "metadata": {
    "collapsed": true
   },
   "outputs": [],
   "source": [
    "f5wfs.modes['hecto']['reference']['fwhm']"
   ]
  },
  {
   "cell_type": "code",
   "execution_count": null,
   "metadata": {
    "collapsed": true
   },
   "outputs": [],
   "source": [
    "zv.plot_map()\n",
    "plt.show()\n",
    "zresults['residual_rms']"
   ]
  },
  {
   "cell_type": "code",
   "execution_count": null,
   "metadata": {
    "collapsed": true
   },
   "outputs": [],
   "source": [
    "zv.ignore('Z02')\n",
    "zv.ignore('Z03')\n",
    "zv.ignore('Z04')\n",
    "print(zv.rms)\n",
    "zv.plot_map()\n",
    "plt.show()"
   ]
  },
  {
   "cell_type": "code",
   "execution_count": null,
   "metadata": {
    "collapsed": true
   },
   "outputs": [],
   "source": [
    "zresults['rot_zernike'] - zresults['zernike']"
   ]
  },
  {
   "cell_type": "code",
   "execution_count": null,
   "metadata": {
    "collapsed": true
   },
   "outputs": [],
   "source": [
    "zv.ignore('Z02')\n",
    "zv.ignore('Z03')\n",
    "print(zv.rms)\n",
    "zv.plot_map()\n",
    "plt.show()"
   ]
  },
  {
   "cell_type": "code",
   "execution_count": null,
   "metadata": {
    "collapsed": true
   },
   "outputs": [],
   "source": [
    "pup = f5wfs.pupil_mask(rotator=0)\n",
    "plt.imshow(pup)\n",
    "plt.show()"
   ]
  },
  {
   "cell_type": "code",
   "execution_count": null,
   "metadata": {
    "collapsed": true
   },
   "outputs": [],
   "source": [
    "im = check_wfsdata(f5_file)\n",
    "back = background(im, h=0.9)\n",
    "plt.imshow(im-back, origin='lower')\n",
    "plt.show()"
   ]
  },
  {
   "cell_type": "code",
   "execution_count": null,
   "metadata": {
    "collapsed": true
   },
   "outputs": [],
   "source": [
    "subt = im - back\n",
    "fits.writeto(\"blah.fits\", subt, overwrite=True)"
   ]
  },
  {
   "cell_type": "markdown",
   "metadata": {},
   "source": [
    "# Scratch space"
   ]
  },
  {
   "cell_type": "code",
   "execution_count": null,
   "metadata": {
    "collapsed": true
   },
   "outputs": [],
   "source": [
    "cen = center_pupil(subt, pup, plot=True)\n",
    "print(cen)\n",
    "plt.show()"
   ]
  },
  {
   "cell_type": "code",
   "execution_count": null,
   "metadata": {
    "collapsed": true
   },
   "outputs": [],
   "source": [
    "from astropy.io import ascii"
   ]
  },
  {
   "cell_type": "code",
   "execution_count": null,
   "metadata": {
    "collapsed": true
   },
   "outputs": [],
   "source": [
    "t = f9wfs.telescope\n",
    "m = t.zern_map"
   ]
  },
  {
   "cell_type": "code",
   "execution_count": null,
   "metadata": {
    "collapsed": true
   },
   "outputs": [],
   "source": [
    "z = np.loadtxt(\"/Users/tim/MMT/wfsdat/20170110/mmirs_wfs_0375.dao.sub.zrn.cor\")\n",
    "z1 = np.loadtxt(\"/Users/tim/MMT/wfsdat/20170110/mmirs_wfs_0375.dao.av.zrn\")"
   ]
  },
  {
   "cell_type": "code",
   "execution_count": null,
   "metadata": {
    "collapsed": true
   },
   "outputs": [],
   "source": [
    "z1 - z"
   ]
  },
  {
   "cell_type": "code",
   "execution_count": null,
   "metadata": {
    "collapsed": true
   },
   "outputs": [],
   "source": [
    "Z = ZernikeVector(coeffs=z, zmap=m)"
   ]
  },
  {
   "cell_type": "code",
   "execution_count": null,
   "metadata": {
    "collapsed": true
   },
   "outputs": [],
   "source": [
    "Z"
   ]
  },
  {
   "cell_type": "code",
   "execution_count": null,
   "metadata": {
    "collapsed": true
   },
   "outputs": [],
   "source": [
    "from astropy.table import Table\n",
    "from astropy.io import ascii"
   ]
  },
  {
   "cell_type": "code",
   "execution_count": null,
   "metadata": {
    "collapsed": true
   },
   "outputs": [],
   "source": [
    "t = ascii.read(\"/Users/tim/MMT/mmtwfs/mmtwfs/data/mmirszernfield.tab\")"
   ]
  },
  {
   "cell_type": "code",
   "execution_count": null,
   "metadata": {
    "collapsed": true
   },
   "outputs": [],
   "source": [
    "t"
   ]
  },
  {
   "cell_type": "code",
   "execution_count": null,
   "metadata": {
    "collapsed": true
   },
   "outputs": [],
   "source": [
    "np.interp(0.12, t['field_r'], t['Z01'])"
   ]
  },
  {
   "cell_type": "code",
   "execution_count": null,
   "metadata": {
    "collapsed": true
   },
   "outputs": [],
   "source": [
    "range(4, 11)"
   ]
  },
  {
   "cell_type": "code",
   "execution_count": null,
   "metadata": {
    "collapsed": true
   },
   "outputs": [],
   "source": [
    "for i in range(4, 12):\n",
    "    print(\"Z%02d\" % i)"
   ]
  },
  {
   "cell_type": "code",
   "execution_count": null,
   "metadata": {
    "collapsed": true
   },
   "outputs": [],
   "source": [
    "np.max(1, 2)"
   ]
  },
  {
   "cell_type": "code",
   "execution_count": null,
   "metadata": {
    "collapsed": true
   },
   "outputs": [],
   "source": [
    "6.75 + 20.30 + 242.15 + 430.51"
   ]
  },
  {
   "cell_type": "code",
   "execution_count": null,
   "metadata": {
    "collapsed": true
   },
   "outputs": [],
   "source": [
    "13296 - (973.15/.575) - 1025.8"
   ]
  },
  {
   "cell_type": "code",
   "execution_count": null,
   "metadata": {
    "collapsed": true
   },
   "outputs": [],
   "source": [
    "23*6 + 12*6"
   ]
  },
  {
   "cell_type": "code",
   "execution_count": null,
   "metadata": {
    "collapsed": true
   },
   "outputs": [],
   "source": [
    "58.69*12"
   ]
  },
  {
   "cell_type": "code",
   "execution_count": null,
   "metadata": {
    "collapsed": true
   },
   "outputs": [],
   "source": [
    "210+16+69.5+704.28"
   ]
  },
  {
   "cell_type": "code",
   "execution_count": null,
   "metadata": {
    "collapsed": true
   },
   "outputs": [],
   "source": [
    "2225.37 - (977.15 + 999.78 + 699.71)"
   ]
  },
  {
   "cell_type": "code",
   "execution_count": null,
   "metadata": {
    "collapsed": true
   },
   "outputs": [],
   "source": [
    "103212.81+341.47-451.27+9632.5"
   ]
  },
  {
   "cell_type": "code",
   "execution_count": null,
   "metadata": {
    "collapsed": true
   },
   "outputs": [],
   "source": [
    "7324.5+3951.34"
   ]
  },
  {
   "cell_type": "code",
   "execution_count": null,
   "metadata": {
    "collapsed": true
   },
   "outputs": [],
   "source": [
    "112735.51 - (11275.84 + 7245.8 + 56) - 12150"
   ]
  },
  {
   "cell_type": "code",
   "execution_count": null,
   "metadata": {
    "collapsed": true
   },
   "outputs": [],
   "source": [
    "4050*3"
   ]
  },
  {
   "cell_type": "code",
   "execution_count": null,
   "metadata": {
    "collapsed": true
   },
   "outputs": [],
   "source": [
    "3000*.05"
   ]
  },
  {
   "cell_type": "code",
   "execution_count": null,
   "metadata": {
    "collapsed": true
   },
   "outputs": [],
   "source": [
    "28910/98610"
   ]
  },
  {
   "cell_type": "code",
   "execution_count": null,
   "metadata": {
    "collapsed": true
   },
   "outputs": [],
   "source": [
    "ai = [247.68, 252.69, 257.79, 261.79, 266.88, 696.98, 280.11, 261.96, 261.96, 261.92, 261.96]\n",
    "pep = [146.43, 147.28, 145.18, 142.83, 140.7, 138.47, 136.4, 134.18, 132.18, 129.89, 128.12, 126.22]"
   ]
  },
  {
   "cell_type": "code",
   "execution_count": null,
   "metadata": {
    "collapsed": true
   },
   "outputs": [],
   "source": [
    "0.2* (28910/98610 * (np.sum(ai) + np.sum(pep)))"
   ]
  },
  {
   "cell_type": "code",
   "execution_count": null,
   "metadata": {
    "collapsed": true
   },
   "outputs": [],
   "source": [
    "len(pep)"
   ]
  },
  {
   "cell_type": "code",
   "execution_count": null,
   "metadata": {
    "collapsed": true
   },
   "outputs": [],
   "source": [
    "12049 - (290.81 + 850)"
   ]
  },
  {
   "cell_type": "code",
   "execution_count": null,
   "metadata": {
    "collapsed": true
   },
   "outputs": [],
   "source": [
    "18577.64-7324.5"
   ]
  },
  {
   "cell_type": "code",
   "execution_count": null,
   "metadata": {
    "collapsed": true
   },
   "outputs": [],
   "source": [
    "110940.01-11253.14 - 9600"
   ]
  },
  {
   "cell_type": "code",
   "execution_count": null,
   "metadata": {
    "collapsed": true
   },
   "outputs": [],
   "source": [
    "0.032 * 90086.87 + 4226.63"
   ]
  },
  {
   "cell_type": "code",
   "execution_count": null,
   "metadata": {
    "collapsed": true
   },
   "outputs": [],
   "source": [
    "x = 1920 * 5.86e-3 * u.mm\n",
    "\n",
    "y = 1200 * 5.86e-3 * u.mm"
   ]
  },
  {
   "cell_type": "code",
   "execution_count": null,
   "metadata": {
    "collapsed": true
   },
   "outputs": [],
   "source": [
    "np.sqrt(x**2 + y**2)"
   ]
  },
  {
   "cell_type": "code",
   "execution_count": null,
   "metadata": {
    "collapsed": true
   },
   "outputs": [],
   "source": [
    "np.max((1, 2))"
   ]
  },
  {
   "cell_type": "code",
   "execution_count": null,
   "metadata": {
    "collapsed": true
   },
   "outputs": [],
   "source": [
    "mmirs.pup_size"
   ]
  },
  {
   "cell_type": "code",
   "execution_count": null,
   "metadata": {
    "collapsed": true
   },
   "outputs": [],
   "source": [
    "mmirs.modes['mmirs2']['reference']['sigma']"
   ]
  },
  {
   "cell_type": "code",
   "execution_count": null,
   "metadata": {
    "collapsed": true
   },
   "outputs": [],
   "source": [
    "sigma = results['fwhm'] * stats.funcs.gaussian_fwhm_to_sigma\n",
    "\n",
    "wave = 650 * u.nm\n",
    "wave = wave.to(u.m).value  # r_0 equation expects meters so convert\n",
    "# calculate the physical size of each aperture.\n",
    "ref = mmirs.modes['mmirs2']['reference']\n",
    "apsize_pix = np.max((ref['xspacing'], ref['yspacing']))\n",
    "d = mmirs.telescope.diameter * apsize_pix / mmirs.pup_size\n",
    "d = d.to(u.m).value  # r_0 equation expects meters so convert\n",
    "\n",
    "# we need to deconvolve the instrumental spot width from the measured one\n",
    "ref_sigma = ref['sigma']\n",
    "if sigma > ref_sigma:\n",
    "    corr_sigma = np.sqrt(sigma**2 - ref_sigma**2)\n",
    "else:\n",
    "    corr_sigma = 0.0\n",
    "corr_sigma *= mmirs.pix_size.to(u.rad).value  # r_0 equation expects radians so convert\n",
    "# this equation relates the motion within a single aperture to the characteristic scale size of the\n",
    "# turbulence, r_0.\n",
    "r_0 = ( 0.179 * (wave**2) * (d**(-1./3.))/corr_sigma**2 )**0.6\n",
    "print(r_0)\n",
    "# this equation relates the turbulence scale size to an expected image FWHM at the given wavelength.\n",
    "raw_seeing = u.rad * 0.98 * wave / r_0\n",
    "raw_seeing = raw_seeing.to(u.arcsec)\n"
   ]
  },
  {
   "cell_type": "code",
   "execution_count": null,
   "metadata": {
    "collapsed": true
   },
   "outputs": [],
   "source": [
    "\"{0.value:0.2f}{0.unit:unicode}\".format(raw_seeing)"
   ]
  },
  {
   "cell_type": "code",
   "execution_count": null,
   "metadata": {
    "collapsed": true
   },
   "outputs": [],
   "source": [
    "np.sqrt(sigma**2 - ref_sigma**2)"
   ]
  },
  {
   "cell_type": "code",
   "execution_count": null,
   "metadata": {},
   "outputs": [],
   "source": [
    "def_mask = ['Z02', 'Z03', 'Z04']\n",
    "mask = ['Z04', 'Z10']\n",
    "def_mask.extend(mask)\n",
    "mask = list(set(def_mask))\n",
    "mask"
   ]
  },
  {
   "cell_type": "code",
   "execution_count": null,
   "metadata": {
    "collapsed": true
   },
   "outputs": [],
   "source": [
    "f = ZernikeVector()"
   ]
  },
  {
   "cell_type": "code",
   "execution_count": null,
   "metadata": {},
   "outputs": [],
   "source": [
    "mmirs.telescope.bending_forces(zv=f)"
   ]
  },
  {
   "cell_type": "code",
   "execution_count": null,
   "metadata": {},
   "outputs": [],
   "source": [
    "z = ZernikeVector(Z07=500*u.nm)\n",
    "z.plot_map()\n",
    "plt.show()"
   ]
  },
  {
   "cell_type": "code",
   "execution_count": null,
   "metadata": {},
   "outputs": [],
   "source": [
    "-z['Z08']"
   ]
  },
  {
   "cell_type": "code",
   "execution_count": null,
   "metadata": {},
   "outputs": [],
   "source": [
    "xc, yc = 245, 270\n",
    "xcen, ycen = 255, 255\n",
    "dx = xc - xcen\n",
    "dy = yc - ycen\n",
    "dr, phi = cart2pol([dx, dy])"
   ]
  },
  {
   "cell_type": "code",
   "execution_count": null,
   "metadata": {},
   "outputs": [],
   "source": [
    "derot_phi = phi - u.Quantity(225*u.deg, u.rad).value\n",
    "pol2cart([dr, derot_phi])"
   ]
  },
  {
   "cell_type": "code",
   "execution_count": null,
   "metadata": {},
   "outputs": [],
   "source": [
    "u.Quantity(225*u.deg, u.rad).value"
   ]
  },
  {
   "cell_type": "code",
   "execution_count": null,
   "metadata": {},
   "outputs": [],
   "source": [
    "dx, dy"
   ]
  },
  {
   "cell_type": "code",
   "execution_count": 10,
   "metadata": {},
   "outputs": [
    {
     "name": "stdout",
     "output_type": "stream",
     "text": [
      "Undoing last set of primary mirror corrections...\n",
      "9.191176470588236 um\n",
      "-9.191176470588236 um\n"
     ]
    }
   ],
   "source": [
    "t = mmirs.telescope\n",
    "zv = ZernikeVector(Z05=1000, Z11=250)\n",
    "force, focus = t.correct_primary(zv)\n",
    "f1 = focus.copy()\n",
    "uforce, ufocus = t.undo_last()\n",
    "print(ufocus)\n",
    "print(f1)\n",
    "assert(ufocus == -1 * f1)"
   ]
  },
  {
   "cell_type": "code",
   "execution_count": 8,
   "metadata": {},
   "outputs": [
    {
     "data": {
      "text/latex": [
       "$9.1911765 \\; \\mathrm{\\mu m}$"
      ],
      "text/plain": [
       "<Quantity 9.191176470588236 um>"
      ]
     },
     "execution_count": 8,
     "metadata": {},
     "output_type": "execute_result"
    }
   ],
   "source": [
    "focus.copy()"
   ]
  },
  {
   "cell_type": "code",
   "execution_count": 12,
   "metadata": {},
   "outputs": [
    {
     "data": {
      "text/plain": [
       "True"
      ]
     },
     "execution_count": 12,
     "metadata": {},
     "output_type": "execute_result"
    }
   ],
   "source": [
    "np.allclose(np.zeros(2), 0.0)"
   ]
  },
  {
   "cell_type": "code",
   "execution_count": 13,
   "metadata": {
    "collapsed": true
   },
   "outputs": [],
   "source": [
    "s = \"offset_inc wfs z 200.3\"\n",
    "assert(\"200.3\" in s)"
   ]
  },
  {
   "cell_type": "code",
   "execution_count": null,
   "metadata": {
    "collapsed": true
   },
   "outputs": [],
   "source": []
  }
 ],
 "metadata": {
  "kernelspec": {
   "display_name": "Python [conda env:astroconda]",
   "language": "python",
   "name": "conda-env-astroconda-py"
  },
  "language_info": {
   "codemirror_mode": {
    "name": "ipython",
    "version": 3
   },
   "file_extension": ".py",
   "mimetype": "text/x-python",
   "name": "python",
   "nbconvert_exporter": "python",
   "pygments_lexer": "ipython3",
   "version": "3.5.3"
  }
 },
 "nbformat": 4,
 "nbformat_minor": 2
}
