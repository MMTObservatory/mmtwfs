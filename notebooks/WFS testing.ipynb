{
 "cells": [
  {
   "cell_type": "code",
   "execution_count": 1,
   "metadata": {},
   "outputs": [],
   "source": [
    "import time\n",
    "import os\n",
    "import sys\n",
    "import numpy as np\n",
    "import matplotlib\n",
    "matplotlib.use('nbagg')\n",
    "#from matplotlib import style\n",
    "#style.use('ggplot')\n",
    "import matplotlib.pyplot as plt\n",
    "\n",
    "%load_ext autoreload\n",
    "%autoreload 2\n",
    "\n",
    "import astropy.units as u\n",
    "from astropy import stats\n",
    "from astropy.io import fits\n",
    "from mmtwfs.wfs import *\n",
    "from mmtwfs.zernike import ZernikeVector\n",
    "from mmtwfs.telescope import MMT"
   ]
  },
  {
   "cell_type": "markdown",
   "metadata": {},
   "source": [
    "# Binospec Dev Section"
   ]
  },
  {
   "cell_type": "code",
   "execution_count": null,
   "metadata": {
    "collapsed": true
   },
   "outputs": [],
   "source": [
    "bino = WFSFactory(wfs=\"binospec\")"
   ]
  },
  {
   "cell_type": "code",
   "execution_count": null,
   "metadata": {},
   "outputs": [],
   "source": [
    "bino.modes['binospec']['reference']['figure'].show()"
   ]
  },
  {
   "cell_type": "code",
   "execution_count": null,
   "metadata": {},
   "outputs": [],
   "source": [
    "bino.modes['binospec']['reference']['xspacing'], bino.modes['binospec']['reference']['yspacing']"
   ]
  },
  {
   "cell_type": "code",
   "execution_count": null,
   "metadata": {},
   "outputs": [],
   "source": [
    "bino.modes['binospec']['reference']['apertures']"
   ]
  },
  {
   "cell_type": "markdown",
   "metadata": {},
   "source": [
    "# MMIRS Dev Section"
   ]
  },
  {
   "cell_type": "code",
   "execution_count": null,
   "metadata": {
    "collapsed": true
   },
   "outputs": [],
   "source": [
    "mmirs = WFSFactory(wfs=\"mmirs\")"
   ]
  },
  {
   "cell_type": "code",
   "execution_count": null,
   "metadata": {},
   "outputs": [],
   "source": [
    "mmirs.modes['mmirs1']['reference']['figure'].show()"
   ]
  },
  {
   "cell_type": "code",
   "execution_count": null,
   "metadata": {},
   "outputs": [],
   "source": [
    "mmirs.modes['mmirs1']['reference']['xspacing'], mmirs.modes['mmirs1']['reference']['yspacing']"
   ]
  },
  {
   "cell_type": "code",
   "execution_count": null,
   "metadata": {},
   "outputs": [],
   "source": [
    "print(mmirs.modes['mmirs1']['reference']['fwhm'])\n",
    "\n",
    "spot = mmirs.modes['mmirs1']['reference']['spot']\n",
    "model = Gaussian2D(amplitude=spot.max(), x_mean=spot.shape[1]/2, y_mean=spot.shape[0]/2) + Polynomial2D(degree=0)\n",
    "#model = Gaussian2D(amplitude=spot.max(), x_mean=spot.shape[1]/2, y_mean=spot.shape[0]/2)\n",
    "fitter = LevMarLSQFitter()\n",
    "y, x = np.mgrid[:spot.shape[0], :spot.shape[1]]\n",
    "fit = fitter(model, x, y, spot)\n",
    "fig, ax = plt.subplots()\n",
    "ax.imshow(mmirs.modes['mmirs1']['reference']['spot'] - fit(x, y))\n",
    "fig.show()"
   ]
  },
  {
   "cell_type": "code",
   "execution_count": null,
   "metadata": {},
   "outputs": [],
   "source": [
    "plt.close('all')\n",
    "mmirs_file = \"/Users/tim/MMT/wfsdat/20170416/rawdata/mmirs_wfs_%04d.fits\" % 213\n",
    "results = mmirs.measure_slopes(mmirs_file, plot=True)\n",
    "results['figures']['slopes'].show()"
   ]
  },
  {
   "cell_type": "code",
   "execution_count": null,
   "metadata": {},
   "outputs": [],
   "source": [
    "results['apertures'].positions"
   ]
  },
  {
   "cell_type": "code",
   "execution_count": null,
   "metadata": {},
   "outputs": [],
   "source": [
    "results['figures']['pupil_center'].show()"
   ]
  },
  {
   "cell_type": "code",
   "execution_count": null,
   "metadata": {
    "scrolled": false
   },
   "outputs": [],
   "source": [
    "zresults = mmirs.fit_wavefront(results, plot=True)\n",
    "zvec = zresults['zernike']\n",
    "print(zresults['residual_rms'])\n",
    "#zvec.normalize()\n",
    "print(zvec)\n",
    "zresults['resid_plot'].show()"
   ]
  },
  {
   "cell_type": "code",
   "execution_count": null,
   "metadata": {
    "collapsed": true
   },
   "outputs": [],
   "source": [
    "zplot = zvec.copy()\n",
    "zplot.ignore('Z02')\n",
    "zplot.ignore('Z03')\n",
    "mfig = zplot.plot_map()\n",
    "mfig.show()\n",
    "zplot.peak2valley"
   ]
  },
  {
   "cell_type": "code",
   "execution_count": null,
   "metadata": {
    "collapsed": true
   },
   "outputs": [],
   "source": [
    "zvec.units = u.nm\n",
    "f = zvec.bar_chart(residual=zresults['residual_rms'])\n",
    "f.set_size_inches(9, 5)\n",
    "\n",
    "f.show()"
   ]
  },
  {
   "cell_type": "code",
   "execution_count": null,
   "metadata": {
    "collapsed": true
   },
   "outputs": [],
   "source": [
    "plt.close(f)"
   ]
  },
  {
   "cell_type": "code",
   "execution_count": null,
   "metadata": {
    "collapsed": true
   },
   "outputs": [],
   "source": [
    "torig = mmirs.telescope.bending_forces(zvec)\n",
    "torig.show_in_notebook()"
   ]
  },
  {
   "cell_type": "code",
   "execution_count": null,
   "metadata": {
    "collapsed": true
   },
   "outputs": [],
   "source": [
    "force_fig = mmirs.telescope.plot_forces(torig)\n",
    "force_fig.show()"
   ]
  },
  {
   "cell_type": "code",
   "execution_count": null,
   "metadata": {
    "collapsed": true
   },
   "outputs": [],
   "source": [
    "t, m1foc = mmirs.correct_primary(zv=zvec)\n",
    "print(m1foc)\n",
    "t.show_in_notebook()"
   ]
  },
  {
   "cell_type": "code",
   "execution_count": null,
   "metadata": {
    "collapsed": true
   },
   "outputs": [],
   "source": [
    "new_force_fig = mmirs.telescope.plot_forces(t)\n",
    "new_force_fig.show()"
   ]
  },
  {
   "cell_type": "code",
   "execution_count": null,
   "metadata": {
    "collapsed": true
   },
   "outputs": [],
   "source": [
    "zpsf = ZernikeVector()\n",
    "psf, psf_fig = mmirs.telescope.psf(zpsf, plot=True)\n",
    "psf_fig.set_size_inches(4.0, 4.0)\n",
    "psf_fig.show()"
   ]
  },
  {
   "cell_type": "markdown",
   "metadata": {},
   "source": [
    "# F/9 Dev Section"
   ]
  },
  {
   "cell_type": "code",
   "execution_count": 2,
   "metadata": {
    "collapsed": true
   },
   "outputs": [],
   "source": [
    "plt.close('all')\n",
    "\n",
    "f9wfs = WFSFactory(wfs=\"newf9\")"
   ]
  },
  {
   "cell_type": "code",
   "execution_count": 3,
   "metadata": {},
   "outputs": [
    {
     "data": {
      "text/plain": [
       "(33.783783783783782, 19.54954954954955)"
      ]
     },
     "execution_count": 3,
     "metadata": {},
     "output_type": "execute_result"
    }
   ],
   "source": [
    "f9wfs.modes['blue']['reference']['xspacing'], f9wfs.modes['blue']['reference']['yspacing']"
   ]
  },
  {
   "cell_type": "code",
   "execution_count": 4,
   "metadata": {},
   "outputs": [
    {
     "data": {
      "application/javascript": [
       "/* Put everything inside the global mpl namespace */\n",
       "window.mpl = {};\n",
       "\n",
       "\n",
       "mpl.get_websocket_type = function() {\n",
       "    if (typeof(WebSocket) !== 'undefined') {\n",
       "        return WebSocket;\n",
       "    } else if (typeof(MozWebSocket) !== 'undefined') {\n",
       "        return MozWebSocket;\n",
       "    } else {\n",
       "        alert('Your browser does not have WebSocket support.' +\n",
       "              'Please try Chrome, Safari or Firefox ≥ 6. ' +\n",
       "              'Firefox 4 and 5 are also supported but you ' +\n",
       "              'have to enable WebSockets in about:config.');\n",
       "    };\n",
       "}\n",
       "\n",
       "mpl.figure = function(figure_id, websocket, ondownload, parent_element) {\n",
       "    this.id = figure_id;\n",
       "\n",
       "    this.ws = websocket;\n",
       "\n",
       "    this.supports_binary = (this.ws.binaryType != undefined);\n",
       "\n",
       "    if (!this.supports_binary) {\n",
       "        var warnings = document.getElementById(\"mpl-warnings\");\n",
       "        if (warnings) {\n",
       "            warnings.style.display = 'block';\n",
       "            warnings.textContent = (\n",
       "                \"This browser does not support binary websocket messages. \" +\n",
       "                    \"Performance may be slow.\");\n",
       "        }\n",
       "    }\n",
       "\n",
       "    this.imageObj = new Image();\n",
       "\n",
       "    this.context = undefined;\n",
       "    this.message = undefined;\n",
       "    this.canvas = undefined;\n",
       "    this.rubberband_canvas = undefined;\n",
       "    this.rubberband_context = undefined;\n",
       "    this.format_dropdown = undefined;\n",
       "\n",
       "    this.image_mode = 'full';\n",
       "\n",
       "    this.root = $('<div/>');\n",
       "    this._root_extra_style(this.root)\n",
       "    this.root.attr('style', 'display: inline-block');\n",
       "\n",
       "    $(parent_element).append(this.root);\n",
       "\n",
       "    this._init_header(this);\n",
       "    this._init_canvas(this);\n",
       "    this._init_toolbar(this);\n",
       "\n",
       "    var fig = this;\n",
       "\n",
       "    this.waiting = false;\n",
       "\n",
       "    this.ws.onopen =  function () {\n",
       "            fig.send_message(\"supports_binary\", {value: fig.supports_binary});\n",
       "            fig.send_message(\"send_image_mode\", {});\n",
       "            if (mpl.ratio != 1) {\n",
       "                fig.send_message(\"set_dpi_ratio\", {'dpi_ratio': mpl.ratio});\n",
       "            }\n",
       "            fig.send_message(\"refresh\", {});\n",
       "        }\n",
       "\n",
       "    this.imageObj.onload = function() {\n",
       "            if (fig.image_mode == 'full') {\n",
       "                // Full images could contain transparency (where diff images\n",
       "                // almost always do), so we need to clear the canvas so that\n",
       "                // there is no ghosting.\n",
       "                fig.context.clearRect(0, 0, fig.canvas.width, fig.canvas.height);\n",
       "            }\n",
       "            fig.context.drawImage(fig.imageObj, 0, 0);\n",
       "        };\n",
       "\n",
       "    this.imageObj.onunload = function() {\n",
       "        this.ws.close();\n",
       "    }\n",
       "\n",
       "    this.ws.onmessage = this._make_on_message_function(this);\n",
       "\n",
       "    this.ondownload = ondownload;\n",
       "}\n",
       "\n",
       "mpl.figure.prototype._init_header = function() {\n",
       "    var titlebar = $(\n",
       "        '<div class=\"ui-dialog-titlebar ui-widget-header ui-corner-all ' +\n",
       "        'ui-helper-clearfix\"/>');\n",
       "    var titletext = $(\n",
       "        '<div class=\"ui-dialog-title\" style=\"width: 100%; ' +\n",
       "        'text-align: center; padding: 3px;\"/>');\n",
       "    titlebar.append(titletext)\n",
       "    this.root.append(titlebar);\n",
       "    this.header = titletext[0];\n",
       "}\n",
       "\n",
       "\n",
       "\n",
       "mpl.figure.prototype._canvas_extra_style = function(canvas_div) {\n",
       "\n",
       "}\n",
       "\n",
       "\n",
       "mpl.figure.prototype._root_extra_style = function(canvas_div) {\n",
       "\n",
       "}\n",
       "\n",
       "mpl.figure.prototype._init_canvas = function() {\n",
       "    var fig = this;\n",
       "\n",
       "    var canvas_div = $('<div/>');\n",
       "\n",
       "    canvas_div.attr('style', 'position: relative; clear: both; outline: 0');\n",
       "\n",
       "    function canvas_keyboard_event(event) {\n",
       "        return fig.key_event(event, event['data']);\n",
       "    }\n",
       "\n",
       "    canvas_div.keydown('key_press', canvas_keyboard_event);\n",
       "    canvas_div.keyup('key_release', canvas_keyboard_event);\n",
       "    this.canvas_div = canvas_div\n",
       "    this._canvas_extra_style(canvas_div)\n",
       "    this.root.append(canvas_div);\n",
       "\n",
       "    var canvas = $('<canvas/>');\n",
       "    canvas.addClass('mpl-canvas');\n",
       "    canvas.attr('style', \"left: 0; top: 0; z-index: 0; outline: 0\")\n",
       "\n",
       "    this.canvas = canvas[0];\n",
       "    this.context = canvas[0].getContext(\"2d\");\n",
       "\n",
       "    var backingStore = this.context.backingStorePixelRatio ||\n",
       "\tthis.context.webkitBackingStorePixelRatio ||\n",
       "\tthis.context.mozBackingStorePixelRatio ||\n",
       "\tthis.context.msBackingStorePixelRatio ||\n",
       "\tthis.context.oBackingStorePixelRatio ||\n",
       "\tthis.context.backingStorePixelRatio || 1;\n",
       "\n",
       "    mpl.ratio = (window.devicePixelRatio || 1) / backingStore;\n",
       "\n",
       "    var rubberband = $('<canvas/>');\n",
       "    rubberband.attr('style', \"position: absolute; left: 0; top: 0; z-index: 1;\")\n",
       "\n",
       "    var pass_mouse_events = true;\n",
       "\n",
       "    canvas_div.resizable({\n",
       "        start: function(event, ui) {\n",
       "            pass_mouse_events = false;\n",
       "        },\n",
       "        resize: function(event, ui) {\n",
       "            fig.request_resize(ui.size.width, ui.size.height);\n",
       "        },\n",
       "        stop: function(event, ui) {\n",
       "            pass_mouse_events = true;\n",
       "            fig.request_resize(ui.size.width, ui.size.height);\n",
       "        },\n",
       "    });\n",
       "\n",
       "    function mouse_event_fn(event) {\n",
       "        if (pass_mouse_events)\n",
       "            return fig.mouse_event(event, event['data']);\n",
       "    }\n",
       "\n",
       "    rubberband.mousedown('button_press', mouse_event_fn);\n",
       "    rubberband.mouseup('button_release', mouse_event_fn);\n",
       "    // Throttle sequential mouse events to 1 every 20ms.\n",
       "    rubberband.mousemove('motion_notify', mouse_event_fn);\n",
       "\n",
       "    rubberband.mouseenter('figure_enter', mouse_event_fn);\n",
       "    rubberband.mouseleave('figure_leave', mouse_event_fn);\n",
       "\n",
       "    canvas_div.on(\"wheel\", function (event) {\n",
       "        event = event.originalEvent;\n",
       "        event['data'] = 'scroll'\n",
       "        if (event.deltaY < 0) {\n",
       "            event.step = 1;\n",
       "        } else {\n",
       "            event.step = -1;\n",
       "        }\n",
       "        mouse_event_fn(event);\n",
       "    });\n",
       "\n",
       "    canvas_div.append(canvas);\n",
       "    canvas_div.append(rubberband);\n",
       "\n",
       "    this.rubberband = rubberband;\n",
       "    this.rubberband_canvas = rubberband[0];\n",
       "    this.rubberband_context = rubberband[0].getContext(\"2d\");\n",
       "    this.rubberband_context.strokeStyle = \"#000000\";\n",
       "\n",
       "    this._resize_canvas = function(width, height) {\n",
       "        // Keep the size of the canvas, canvas container, and rubber band\n",
       "        // canvas in synch.\n",
       "        canvas_div.css('width', width)\n",
       "        canvas_div.css('height', height)\n",
       "\n",
       "        canvas.attr('width', width * mpl.ratio);\n",
       "        canvas.attr('height', height * mpl.ratio);\n",
       "        canvas.attr('style', 'width: ' + width + 'px; height: ' + height + 'px;');\n",
       "\n",
       "        rubberband.attr('width', width);\n",
       "        rubberband.attr('height', height);\n",
       "    }\n",
       "\n",
       "    // Set the figure to an initial 600x600px, this will subsequently be updated\n",
       "    // upon first draw.\n",
       "    this._resize_canvas(600, 600);\n",
       "\n",
       "    // Disable right mouse context menu.\n",
       "    $(this.rubberband_canvas).bind(\"contextmenu\",function(e){\n",
       "        return false;\n",
       "    });\n",
       "\n",
       "    function set_focus () {\n",
       "        canvas.focus();\n",
       "        canvas_div.focus();\n",
       "    }\n",
       "\n",
       "    window.setTimeout(set_focus, 100);\n",
       "}\n",
       "\n",
       "mpl.figure.prototype._init_toolbar = function() {\n",
       "    var fig = this;\n",
       "\n",
       "    var nav_element = $('<div/>')\n",
       "    nav_element.attr('style', 'width: 100%');\n",
       "    this.root.append(nav_element);\n",
       "\n",
       "    // Define a callback function for later on.\n",
       "    function toolbar_event(event) {\n",
       "        return fig.toolbar_button_onclick(event['data']);\n",
       "    }\n",
       "    function toolbar_mouse_event(event) {\n",
       "        return fig.toolbar_button_onmouseover(event['data']);\n",
       "    }\n",
       "\n",
       "    for(var toolbar_ind in mpl.toolbar_items) {\n",
       "        var name = mpl.toolbar_items[toolbar_ind][0];\n",
       "        var tooltip = mpl.toolbar_items[toolbar_ind][1];\n",
       "        var image = mpl.toolbar_items[toolbar_ind][2];\n",
       "        var method_name = mpl.toolbar_items[toolbar_ind][3];\n",
       "\n",
       "        if (!name) {\n",
       "            // put a spacer in here.\n",
       "            continue;\n",
       "        }\n",
       "        var button = $('<button/>');\n",
       "        button.addClass('ui-button ui-widget ui-state-default ui-corner-all ' +\n",
       "                        'ui-button-icon-only');\n",
       "        button.attr('role', 'button');\n",
       "        button.attr('aria-disabled', 'false');\n",
       "        button.click(method_name, toolbar_event);\n",
       "        button.mouseover(tooltip, toolbar_mouse_event);\n",
       "\n",
       "        var icon_img = $('<span/>');\n",
       "        icon_img.addClass('ui-button-icon-primary ui-icon');\n",
       "        icon_img.addClass(image);\n",
       "        icon_img.addClass('ui-corner-all');\n",
       "\n",
       "        var tooltip_span = $('<span/>');\n",
       "        tooltip_span.addClass('ui-button-text');\n",
       "        tooltip_span.html(tooltip);\n",
       "\n",
       "        button.append(icon_img);\n",
       "        button.append(tooltip_span);\n",
       "\n",
       "        nav_element.append(button);\n",
       "    }\n",
       "\n",
       "    var fmt_picker_span = $('<span/>');\n",
       "\n",
       "    var fmt_picker = $('<select/>');\n",
       "    fmt_picker.addClass('mpl-toolbar-option ui-widget ui-widget-content');\n",
       "    fmt_picker_span.append(fmt_picker);\n",
       "    nav_element.append(fmt_picker_span);\n",
       "    this.format_dropdown = fmt_picker[0];\n",
       "\n",
       "    for (var ind in mpl.extensions) {\n",
       "        var fmt = mpl.extensions[ind];\n",
       "        var option = $(\n",
       "            '<option/>', {selected: fmt === mpl.default_extension}).html(fmt);\n",
       "        fmt_picker.append(option)\n",
       "    }\n",
       "\n",
       "    // Add hover states to the ui-buttons\n",
       "    $( \".ui-button\" ).hover(\n",
       "        function() { $(this).addClass(\"ui-state-hover\");},\n",
       "        function() { $(this).removeClass(\"ui-state-hover\");}\n",
       "    );\n",
       "\n",
       "    var status_bar = $('<span class=\"mpl-message\"/>');\n",
       "    nav_element.append(status_bar);\n",
       "    this.message = status_bar[0];\n",
       "}\n",
       "\n",
       "mpl.figure.prototype.request_resize = function(x_pixels, y_pixels) {\n",
       "    // Request matplotlib to resize the figure. Matplotlib will then trigger a resize in the client,\n",
       "    // which will in turn request a refresh of the image.\n",
       "    this.send_message('resize', {'width': x_pixels, 'height': y_pixels});\n",
       "}\n",
       "\n",
       "mpl.figure.prototype.send_message = function(type, properties) {\n",
       "    properties['type'] = type;\n",
       "    properties['figure_id'] = this.id;\n",
       "    this.ws.send(JSON.stringify(properties));\n",
       "}\n",
       "\n",
       "mpl.figure.prototype.send_draw_message = function() {\n",
       "    if (!this.waiting) {\n",
       "        this.waiting = true;\n",
       "        this.ws.send(JSON.stringify({type: \"draw\", figure_id: this.id}));\n",
       "    }\n",
       "}\n",
       "\n",
       "\n",
       "mpl.figure.prototype.handle_save = function(fig, msg) {\n",
       "    var format_dropdown = fig.format_dropdown;\n",
       "    var format = format_dropdown.options[format_dropdown.selectedIndex].value;\n",
       "    fig.ondownload(fig, format);\n",
       "}\n",
       "\n",
       "\n",
       "mpl.figure.prototype.handle_resize = function(fig, msg) {\n",
       "    var size = msg['size'];\n",
       "    if (size[0] != fig.canvas.width || size[1] != fig.canvas.height) {\n",
       "        fig._resize_canvas(size[0], size[1]);\n",
       "        fig.send_message(\"refresh\", {});\n",
       "    };\n",
       "}\n",
       "\n",
       "mpl.figure.prototype.handle_rubberband = function(fig, msg) {\n",
       "    var x0 = msg['x0'] / mpl.ratio;\n",
       "    var y0 = (fig.canvas.height - msg['y0']) / mpl.ratio;\n",
       "    var x1 = msg['x1'] / mpl.ratio;\n",
       "    var y1 = (fig.canvas.height - msg['y1']) / mpl.ratio;\n",
       "    x0 = Math.floor(x0) + 0.5;\n",
       "    y0 = Math.floor(y0) + 0.5;\n",
       "    x1 = Math.floor(x1) + 0.5;\n",
       "    y1 = Math.floor(y1) + 0.5;\n",
       "    var min_x = Math.min(x0, x1);\n",
       "    var min_y = Math.min(y0, y1);\n",
       "    var width = Math.abs(x1 - x0);\n",
       "    var height = Math.abs(y1 - y0);\n",
       "\n",
       "    fig.rubberband_context.clearRect(\n",
       "        0, 0, fig.canvas.width, fig.canvas.height);\n",
       "\n",
       "    fig.rubberband_context.strokeRect(min_x, min_y, width, height);\n",
       "}\n",
       "\n",
       "mpl.figure.prototype.handle_figure_label = function(fig, msg) {\n",
       "    // Updates the figure title.\n",
       "    fig.header.textContent = msg['label'];\n",
       "}\n",
       "\n",
       "mpl.figure.prototype.handle_cursor = function(fig, msg) {\n",
       "    var cursor = msg['cursor'];\n",
       "    switch(cursor)\n",
       "    {\n",
       "    case 0:\n",
       "        cursor = 'pointer';\n",
       "        break;\n",
       "    case 1:\n",
       "        cursor = 'default';\n",
       "        break;\n",
       "    case 2:\n",
       "        cursor = 'crosshair';\n",
       "        break;\n",
       "    case 3:\n",
       "        cursor = 'move';\n",
       "        break;\n",
       "    }\n",
       "    fig.rubberband_canvas.style.cursor = cursor;\n",
       "}\n",
       "\n",
       "mpl.figure.prototype.handle_message = function(fig, msg) {\n",
       "    fig.message.textContent = msg['message'];\n",
       "}\n",
       "\n",
       "mpl.figure.prototype.handle_draw = function(fig, msg) {\n",
       "    // Request the server to send over a new figure.\n",
       "    fig.send_draw_message();\n",
       "}\n",
       "\n",
       "mpl.figure.prototype.handle_image_mode = function(fig, msg) {\n",
       "    fig.image_mode = msg['mode'];\n",
       "}\n",
       "\n",
       "mpl.figure.prototype.updated_canvas_event = function() {\n",
       "    // Called whenever the canvas gets updated.\n",
       "    this.send_message(\"ack\", {});\n",
       "}\n",
       "\n",
       "// A function to construct a web socket function for onmessage handling.\n",
       "// Called in the figure constructor.\n",
       "mpl.figure.prototype._make_on_message_function = function(fig) {\n",
       "    return function socket_on_message(evt) {\n",
       "        if (evt.data instanceof Blob) {\n",
       "            /* FIXME: We get \"Resource interpreted as Image but\n",
       "             * transferred with MIME type text/plain:\" errors on\n",
       "             * Chrome.  But how to set the MIME type?  It doesn't seem\n",
       "             * to be part of the websocket stream */\n",
       "            evt.data.type = \"image/png\";\n",
       "\n",
       "            /* Free the memory for the previous frames */\n",
       "            if (fig.imageObj.src) {\n",
       "                (window.URL || window.webkitURL).revokeObjectURL(\n",
       "                    fig.imageObj.src);\n",
       "            }\n",
       "\n",
       "            fig.imageObj.src = (window.URL || window.webkitURL).createObjectURL(\n",
       "                evt.data);\n",
       "            fig.updated_canvas_event();\n",
       "            fig.waiting = false;\n",
       "            return;\n",
       "        }\n",
       "        else if (typeof evt.data === 'string' && evt.data.slice(0, 21) == \"data:image/png;base64\") {\n",
       "            fig.imageObj.src = evt.data;\n",
       "            fig.updated_canvas_event();\n",
       "            fig.waiting = false;\n",
       "            return;\n",
       "        }\n",
       "\n",
       "        var msg = JSON.parse(evt.data);\n",
       "        var msg_type = msg['type'];\n",
       "\n",
       "        // Call the  \"handle_{type}\" callback, which takes\n",
       "        // the figure and JSON message as its only arguments.\n",
       "        try {\n",
       "            var callback = fig[\"handle_\" + msg_type];\n",
       "        } catch (e) {\n",
       "            console.log(\"No handler for the '\" + msg_type + \"' message type: \", msg);\n",
       "            return;\n",
       "        }\n",
       "\n",
       "        if (callback) {\n",
       "            try {\n",
       "                // console.log(\"Handling '\" + msg_type + \"' message: \", msg);\n",
       "                callback(fig, msg);\n",
       "            } catch (e) {\n",
       "                console.log(\"Exception inside the 'handler_\" + msg_type + \"' callback:\", e, e.stack, msg);\n",
       "            }\n",
       "        }\n",
       "    };\n",
       "}\n",
       "\n",
       "// from http://stackoverflow.com/questions/1114465/getting-mouse-location-in-canvas\n",
       "mpl.findpos = function(e) {\n",
       "    //this section is from http://www.quirksmode.org/js/events_properties.html\n",
       "    var targ;\n",
       "    if (!e)\n",
       "        e = window.event;\n",
       "    if (e.target)\n",
       "        targ = e.target;\n",
       "    else if (e.srcElement)\n",
       "        targ = e.srcElement;\n",
       "    if (targ.nodeType == 3) // defeat Safari bug\n",
       "        targ = targ.parentNode;\n",
       "\n",
       "    // jQuery normalizes the pageX and pageY\n",
       "    // pageX,Y are the mouse positions relative to the document\n",
       "    // offset() returns the position of the element relative to the document\n",
       "    var x = e.pageX - $(targ).offset().left;\n",
       "    var y = e.pageY - $(targ).offset().top;\n",
       "\n",
       "    return {\"x\": x, \"y\": y};\n",
       "};\n",
       "\n",
       "/*\n",
       " * return a copy of an object with only non-object keys\n",
       " * we need this to avoid circular references\n",
       " * http://stackoverflow.com/a/24161582/3208463\n",
       " */\n",
       "function simpleKeys (original) {\n",
       "  return Object.keys(original).reduce(function (obj, key) {\n",
       "    if (typeof original[key] !== 'object')\n",
       "        obj[key] = original[key]\n",
       "    return obj;\n",
       "  }, {});\n",
       "}\n",
       "\n",
       "mpl.figure.prototype.mouse_event = function(event, name) {\n",
       "    var canvas_pos = mpl.findpos(event)\n",
       "\n",
       "    if (name === 'button_press')\n",
       "    {\n",
       "        this.canvas.focus();\n",
       "        this.canvas_div.focus();\n",
       "    }\n",
       "\n",
       "    var x = canvas_pos.x * mpl.ratio;\n",
       "    var y = canvas_pos.y * mpl.ratio;\n",
       "\n",
       "    this.send_message(name, {x: x, y: y, button: event.button,\n",
       "                             step: event.step,\n",
       "                             guiEvent: simpleKeys(event)});\n",
       "\n",
       "    /* This prevents the web browser from automatically changing to\n",
       "     * the text insertion cursor when the button is pressed.  We want\n",
       "     * to control all of the cursor setting manually through the\n",
       "     * 'cursor' event from matplotlib */\n",
       "    event.preventDefault();\n",
       "    return false;\n",
       "}\n",
       "\n",
       "mpl.figure.prototype._key_event_extra = function(event, name) {\n",
       "    // Handle any extra behaviour associated with a key event\n",
       "}\n",
       "\n",
       "mpl.figure.prototype.key_event = function(event, name) {\n",
       "\n",
       "    // Prevent repeat events\n",
       "    if (name == 'key_press')\n",
       "    {\n",
       "        if (event.which === this._key)\n",
       "            return;\n",
       "        else\n",
       "            this._key = event.which;\n",
       "    }\n",
       "    if (name == 'key_release')\n",
       "        this._key = null;\n",
       "\n",
       "    var value = '';\n",
       "    if (event.ctrlKey && event.which != 17)\n",
       "        value += \"ctrl+\";\n",
       "    if (event.altKey && event.which != 18)\n",
       "        value += \"alt+\";\n",
       "    if (event.shiftKey && event.which != 16)\n",
       "        value += \"shift+\";\n",
       "\n",
       "    value += 'k';\n",
       "    value += event.which.toString();\n",
       "\n",
       "    this._key_event_extra(event, name);\n",
       "\n",
       "    this.send_message(name, {key: value,\n",
       "                             guiEvent: simpleKeys(event)});\n",
       "    return false;\n",
       "}\n",
       "\n",
       "mpl.figure.prototype.toolbar_button_onclick = function(name) {\n",
       "    if (name == 'download') {\n",
       "        this.handle_save(this, null);\n",
       "    } else {\n",
       "        this.send_message(\"toolbar_button\", {name: name});\n",
       "    }\n",
       "};\n",
       "\n",
       "mpl.figure.prototype.toolbar_button_onmouseover = function(tooltip) {\n",
       "    this.message.textContent = tooltip;\n",
       "};\n",
       "mpl.toolbar_items = [[\"Home\", \"Reset original view\", \"fa fa-home icon-home\", \"home\"], [\"Back\", \"Back to  previous view\", \"fa fa-arrow-left icon-arrow-left\", \"back\"], [\"Forward\", \"Forward to next view\", \"fa fa-arrow-right icon-arrow-right\", \"forward\"], [\"\", \"\", \"\", \"\"], [\"Pan\", \"Pan axes with left mouse, zoom with right\", \"fa fa-arrows icon-move\", \"pan\"], [\"Zoom\", \"Zoom to rectangle\", \"fa fa-square-o icon-check-empty\", \"zoom\"], [\"\", \"\", \"\", \"\"], [\"Download\", \"Download plot\", \"fa fa-floppy-o icon-save\", \"download\"]];\n",
       "\n",
       "mpl.extensions = [\"eps\", \"jpeg\", \"pdf\", \"png\", \"ps\", \"raw\", \"svg\", \"tif\"];\n",
       "\n",
       "mpl.default_extension = \"png\";var comm_websocket_adapter = function(comm) {\n",
       "    // Create a \"websocket\"-like object which calls the given IPython comm\n",
       "    // object with the appropriate methods. Currently this is a non binary\n",
       "    // socket, so there is still some room for performance tuning.\n",
       "    var ws = {};\n",
       "\n",
       "    ws.close = function() {\n",
       "        comm.close()\n",
       "    };\n",
       "    ws.send = function(m) {\n",
       "        //console.log('sending', m);\n",
       "        comm.send(m);\n",
       "    };\n",
       "    // Register the callback with on_msg.\n",
       "    comm.on_msg(function(msg) {\n",
       "        //console.log('receiving', msg['content']['data'], msg);\n",
       "        // Pass the mpl event to the overriden (by mpl) onmessage function.\n",
       "        ws.onmessage(msg['content']['data'])\n",
       "    });\n",
       "    return ws;\n",
       "}\n",
       "\n",
       "mpl.mpl_figure_comm = function(comm, msg) {\n",
       "    // This is the function which gets called when the mpl process\n",
       "    // starts-up an IPython Comm through the \"matplotlib\" channel.\n",
       "\n",
       "    var id = msg.content.data.id;\n",
       "    // Get hold of the div created by the display call when the Comm\n",
       "    // socket was opened in Python.\n",
       "    var element = $(\"#\" + id);\n",
       "    var ws_proxy = comm_websocket_adapter(comm)\n",
       "\n",
       "    function ondownload(figure, format) {\n",
       "        window.open(figure.imageObj.src);\n",
       "    }\n",
       "\n",
       "    var fig = new mpl.figure(id, ws_proxy,\n",
       "                           ondownload,\n",
       "                           element.get(0));\n",
       "\n",
       "    // Call onopen now - mpl needs it, as it is assuming we've passed it a real\n",
       "    // web socket which is closed, not our websocket->open comm proxy.\n",
       "    ws_proxy.onopen();\n",
       "\n",
       "    fig.parent_element = element.get(0);\n",
       "    fig.cell_info = mpl.find_output_cell(\"<div id='\" + id + \"'></div>\");\n",
       "    if (!fig.cell_info) {\n",
       "        console.error(\"Failed to find cell for figure\", id, fig);\n",
       "        return;\n",
       "    }\n",
       "\n",
       "    var output_index = fig.cell_info[2]\n",
       "    var cell = fig.cell_info[0];\n",
       "\n",
       "};\n",
       "\n",
       "mpl.figure.prototype.handle_close = function(fig, msg) {\n",
       "    var width = fig.canvas.width/mpl.ratio\n",
       "    fig.root.unbind('remove')\n",
       "\n",
       "    // Update the output cell to use the data from the current canvas.\n",
       "    fig.push_to_output();\n",
       "    var dataURL = fig.canvas.toDataURL();\n",
       "    // Re-enable the keyboard manager in IPython - without this line, in FF,\n",
       "    // the notebook keyboard shortcuts fail.\n",
       "    IPython.keyboard_manager.enable()\n",
       "    $(fig.parent_element).html('<img src=\"' + dataURL + '\" width=\"' + width + '\">');\n",
       "    fig.close_ws(fig, msg);\n",
       "}\n",
       "\n",
       "mpl.figure.prototype.close_ws = function(fig, msg){\n",
       "    fig.send_message('closing', msg);\n",
       "    // fig.ws.close()\n",
       "}\n",
       "\n",
       "mpl.figure.prototype.push_to_output = function(remove_interactive) {\n",
       "    // Turn the data on the canvas into data in the output cell.\n",
       "    var width = this.canvas.width/mpl.ratio\n",
       "    var dataURL = this.canvas.toDataURL();\n",
       "    this.cell_info[1]['text/html'] = '<img src=\"' + dataURL + '\" width=\"' + width + '\">';\n",
       "}\n",
       "\n",
       "mpl.figure.prototype.updated_canvas_event = function() {\n",
       "    // Tell IPython that the notebook contents must change.\n",
       "    IPython.notebook.set_dirty(true);\n",
       "    this.send_message(\"ack\", {});\n",
       "    var fig = this;\n",
       "    // Wait a second, then push the new image to the DOM so\n",
       "    // that it is saved nicely (might be nice to debounce this).\n",
       "    setTimeout(function () { fig.push_to_output() }, 1000);\n",
       "}\n",
       "\n",
       "mpl.figure.prototype._init_toolbar = function() {\n",
       "    var fig = this;\n",
       "\n",
       "    var nav_element = $('<div/>')\n",
       "    nav_element.attr('style', 'width: 100%');\n",
       "    this.root.append(nav_element);\n",
       "\n",
       "    // Define a callback function for later on.\n",
       "    function toolbar_event(event) {\n",
       "        return fig.toolbar_button_onclick(event['data']);\n",
       "    }\n",
       "    function toolbar_mouse_event(event) {\n",
       "        return fig.toolbar_button_onmouseover(event['data']);\n",
       "    }\n",
       "\n",
       "    for(var toolbar_ind in mpl.toolbar_items){\n",
       "        var name = mpl.toolbar_items[toolbar_ind][0];\n",
       "        var tooltip = mpl.toolbar_items[toolbar_ind][1];\n",
       "        var image = mpl.toolbar_items[toolbar_ind][2];\n",
       "        var method_name = mpl.toolbar_items[toolbar_ind][3];\n",
       "\n",
       "        if (!name) { continue; };\n",
       "\n",
       "        var button = $('<button class=\"btn btn-default\" href=\"#\" title=\"' + name + '\"><i class=\"fa ' + image + ' fa-lg\"></i></button>');\n",
       "        button.click(method_name, toolbar_event);\n",
       "        button.mouseover(tooltip, toolbar_mouse_event);\n",
       "        nav_element.append(button);\n",
       "    }\n",
       "\n",
       "    // Add the status bar.\n",
       "    var status_bar = $('<span class=\"mpl-message\" style=\"text-align:right; float: right;\"/>');\n",
       "    nav_element.append(status_bar);\n",
       "    this.message = status_bar[0];\n",
       "\n",
       "    // Add the close button to the window.\n",
       "    var buttongrp = $('<div class=\"btn-group inline pull-right\"></div>');\n",
       "    var button = $('<button class=\"btn btn-mini btn-primary\" href=\"#\" title=\"Stop Interaction\"><i class=\"fa fa-power-off icon-remove icon-large\"></i></button>');\n",
       "    button.click(function (evt) { fig.handle_close(fig, {}); } );\n",
       "    button.mouseover('Stop Interaction', toolbar_mouse_event);\n",
       "    buttongrp.append(button);\n",
       "    var titlebar = this.root.find($('.ui-dialog-titlebar'));\n",
       "    titlebar.prepend(buttongrp);\n",
       "}\n",
       "\n",
       "mpl.figure.prototype._root_extra_style = function(el){\n",
       "    var fig = this\n",
       "    el.on(\"remove\", function(){\n",
       "\tfig.close_ws(fig, {});\n",
       "    });\n",
       "}\n",
       "\n",
       "mpl.figure.prototype._canvas_extra_style = function(el){\n",
       "    // this is important to make the div 'focusable\n",
       "    el.attr('tabindex', 0)\n",
       "    // reach out to IPython and tell the keyboard manager to turn it's self\n",
       "    // off when our div gets focus\n",
       "\n",
       "    // location in version 3\n",
       "    if (IPython.notebook.keyboard_manager) {\n",
       "        IPython.notebook.keyboard_manager.register_events(el);\n",
       "    }\n",
       "    else {\n",
       "        // location in version 2\n",
       "        IPython.keyboard_manager.register_events(el);\n",
       "    }\n",
       "\n",
       "}\n",
       "\n",
       "mpl.figure.prototype._key_event_extra = function(event, name) {\n",
       "    var manager = IPython.notebook.keyboard_manager;\n",
       "    if (!manager)\n",
       "        manager = IPython.keyboard_manager;\n",
       "\n",
       "    // Check for shift+enter\n",
       "    if (event.shiftKey && event.which == 13) {\n",
       "        this.canvas_div.blur();\n",
       "        // select the cell after this one\n",
       "        var index = IPython.notebook.find_cell_index(this.cell_info[0]);\n",
       "        IPython.notebook.select(index + 1);\n",
       "    }\n",
       "}\n",
       "\n",
       "mpl.figure.prototype.handle_save = function(fig, msg) {\n",
       "    fig.ondownload(fig, null);\n",
       "}\n",
       "\n",
       "\n",
       "mpl.find_output_cell = function(html_output) {\n",
       "    // Return the cell and output element which can be found *uniquely* in the notebook.\n",
       "    // Note - this is a bit hacky, but it is done because the \"notebook_saving.Notebook\"\n",
       "    // IPython event is triggered only after the cells have been serialised, which for\n",
       "    // our purposes (turning an active figure into a static one), is too late.\n",
       "    var cells = IPython.notebook.get_cells();\n",
       "    var ncells = cells.length;\n",
       "    for (var i=0; i<ncells; i++) {\n",
       "        var cell = cells[i];\n",
       "        if (cell.cell_type === 'code'){\n",
       "            for (var j=0; j<cell.output_area.outputs.length; j++) {\n",
       "                var data = cell.output_area.outputs[j];\n",
       "                if (data.data) {\n",
       "                    // IPython >= 3 moved mimebundle to data attribute of output\n",
       "                    data = data.data;\n",
       "                }\n",
       "                if (data['text/html'] == html_output) {\n",
       "                    return [cell, data, j];\n",
       "                }\n",
       "            }\n",
       "        }\n",
       "    }\n",
       "}\n",
       "\n",
       "// Register the function which deals with the matplotlib target/channel.\n",
       "// The kernel may be null if the page has been refreshed.\n",
       "if (IPython.notebook.kernel != null) {\n",
       "    IPython.notebook.kernel.comm_manager.register_target('matplotlib', mpl.mpl_figure_comm);\n",
       "}\n"
      ],
      "text/plain": [
       "<IPython.core.display.Javascript object>"
      ]
     },
     "metadata": {},
     "output_type": "display_data"
    },
    {
     "data": {
      "text/html": [
       "<img src=\"data:image/png;base64,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\" width=\"640\">"
      ],
      "text/plain": [
       "<IPython.core.display.HTML object>"
      ]
     },
     "metadata": {},
     "output_type": "display_data"
    }
   ],
   "source": [
    "f9_file = \"/Users/tim/MMT/wfsdat/datadir/f9wfs_20171007-000151.fits\"\n",
    "refaps = f9wfs.modes['blue']['reference']['apertures']\n",
    "results = f9wfs.measure_slopes(f9_file, 'blue', plot=True)\n",
    "#plt.scatter(refaps['xcentroid']+results['xcen'], refaps['ycentroid']+results['ycen'])\n",
    "results['figures']['slopes'].show()\n",
    "# 265 258\n",
    "# ref 240 259.5"
   ]
  },
  {
   "cell_type": "code",
   "execution_count": 5,
   "metadata": {},
   "outputs": [
    {
     "name": "stdout",
     "output_type": "stream",
     "text": [
      "174.49623756896887 nm\n",
      "Fringe Coefficients\n",
      " Z02:      -114 nm \t X Tilt (1, 1)\n",
      " Z03: -1.09e+03 nm \t Y Tilt (1, -1)\n",
      " Z04:       305 nm \t Defocus (2, 0)\n",
      " Z05:      98.8 nm \t Primary Astig at 45° (2, -2)\n",
      " Z06:      -767 nm \t Primary Astig at 0° (2, 2)\n",
      " Z07:      95.6 nm \t Primary Y Coma (3, -1)\n",
      " Z08:      -195 nm \t Primary X Coma (3, 1)\n",
      " Z09:       -23 nm \t Y Trefoil (3, -3)\n",
      " Z10:      -217 nm \t X Trefoil (3, 3)\n",
      " Z11:      -250 nm \t Primary Spherical (4, 0)\n",
      " Z12:     -63.4 nm \t Secondary Astigmatism at 0° (4, 2)\n",
      " Z13:     -92.7 nm \t Secondary Astigmatism at 45° (4, -2)\n",
      " Z14:      -206 nm \t X Tetrafoil (4, 4)\n",
      " Z15:      55.8 nm \t Y Tetrafoil (4, -4)\n",
      " Z16:      -168 nm \t Secondary X Coma (5, 1)\n",
      " Z17:       -36 nm \t Secondary Y Coma (5, -1)\n",
      " Z18:      -153 nm \t Secondary X Trefoil (5, 3)\n",
      " Z19:       165 nm \t Secondary Y Trefoil (5, -3)\n",
      " Z20:       112 nm \t X Pentafoil (5, 5)\n",
      " Z21:       201 nm \t Y Pentafoil (5, -5)\n",
      " Z22:      -205 nm \t Secondary Spherical (6, 0)\n",
      " Z23:      74.5 nm \t Tertiary Astigmatism at 45° (6, -2)\n",
      " Z24:      -157 nm \t Tertiary Astigmatism at 0° (6, 2)\n",
      " Z25:       233 nm \t Secondary X Trefoil (6, -4)\n",
      " Z26:       179 nm \t Secondary Y Trefoil (6, 4)\n",
      " Z27:       211 nm \t Y Hexafoil (6, -6)\n",
      " Z28:      56.3 nm \t X Hexafoil (6, 6)\n",
      " Z29:      26.6 nm \t Tertiary Y Coma (7, -1)\n",
      " Z30:      -170 nm \t Tertiary X Coma (7, 1)\n",
      " Z31:      14.3 nm \t Tertiary Y Trefoil (7, -3)\n",
      " Z32:     -25.4 nm \t Tertiary X Trefoil (7, 3)\n",
      " Z33:      88.6 nm \t Secondary Y Pentafoil (7, -5)\n",
      " Z34:      51.3 nm \t Secondary X Pentafoil (7, 5)\n",
      " Z35:       112 nm \t Y Heptafoil (7, -7)\n",
      " Z36:       211 nm \t X Heptafoil (7, 7)\n",
      " Z37:      51.8 nm \t Tertiary Spherical (8, 0)\n",
      "\n"
     ]
    },
    {
     "data": {
      "application/javascript": [
       "/* Put everything inside the global mpl namespace */\n",
       "window.mpl = {};\n",
       "\n",
       "\n",
       "mpl.get_websocket_type = function() {\n",
       "    if (typeof(WebSocket) !== 'undefined') {\n",
       "        return WebSocket;\n",
       "    } else if (typeof(MozWebSocket) !== 'undefined') {\n",
       "        return MozWebSocket;\n",
       "    } else {\n",
       "        alert('Your browser does not have WebSocket support.' +\n",
       "              'Please try Chrome, Safari or Firefox ≥ 6. ' +\n",
       "              'Firefox 4 and 5 are also supported but you ' +\n",
       "              'have to enable WebSockets in about:config.');\n",
       "    };\n",
       "}\n",
       "\n",
       "mpl.figure = function(figure_id, websocket, ondownload, parent_element) {\n",
       "    this.id = figure_id;\n",
       "\n",
       "    this.ws = websocket;\n",
       "\n",
       "    this.supports_binary = (this.ws.binaryType != undefined);\n",
       "\n",
       "    if (!this.supports_binary) {\n",
       "        var warnings = document.getElementById(\"mpl-warnings\");\n",
       "        if (warnings) {\n",
       "            warnings.style.display = 'block';\n",
       "            warnings.textContent = (\n",
       "                \"This browser does not support binary websocket messages. \" +\n",
       "                    \"Performance may be slow.\");\n",
       "        }\n",
       "    }\n",
       "\n",
       "    this.imageObj = new Image();\n",
       "\n",
       "    this.context = undefined;\n",
       "    this.message = undefined;\n",
       "    this.canvas = undefined;\n",
       "    this.rubberband_canvas = undefined;\n",
       "    this.rubberband_context = undefined;\n",
       "    this.format_dropdown = undefined;\n",
       "\n",
       "    this.image_mode = 'full';\n",
       "\n",
       "    this.root = $('<div/>');\n",
       "    this._root_extra_style(this.root)\n",
       "    this.root.attr('style', 'display: inline-block');\n",
       "\n",
       "    $(parent_element).append(this.root);\n",
       "\n",
       "    this._init_header(this);\n",
       "    this._init_canvas(this);\n",
       "    this._init_toolbar(this);\n",
       "\n",
       "    var fig = this;\n",
       "\n",
       "    this.waiting = false;\n",
       "\n",
       "    this.ws.onopen =  function () {\n",
       "            fig.send_message(\"supports_binary\", {value: fig.supports_binary});\n",
       "            fig.send_message(\"send_image_mode\", {});\n",
       "            if (mpl.ratio != 1) {\n",
       "                fig.send_message(\"set_dpi_ratio\", {'dpi_ratio': mpl.ratio});\n",
       "            }\n",
       "            fig.send_message(\"refresh\", {});\n",
       "        }\n",
       "\n",
       "    this.imageObj.onload = function() {\n",
       "            if (fig.image_mode == 'full') {\n",
       "                // Full images could contain transparency (where diff images\n",
       "                // almost always do), so we need to clear the canvas so that\n",
       "                // there is no ghosting.\n",
       "                fig.context.clearRect(0, 0, fig.canvas.width, fig.canvas.height);\n",
       "            }\n",
       "            fig.context.drawImage(fig.imageObj, 0, 0);\n",
       "        };\n",
       "\n",
       "    this.imageObj.onunload = function() {\n",
       "        this.ws.close();\n",
       "    }\n",
       "\n",
       "    this.ws.onmessage = this._make_on_message_function(this);\n",
       "\n",
       "    this.ondownload = ondownload;\n",
       "}\n",
       "\n",
       "mpl.figure.prototype._init_header = function() {\n",
       "    var titlebar = $(\n",
       "        '<div class=\"ui-dialog-titlebar ui-widget-header ui-corner-all ' +\n",
       "        'ui-helper-clearfix\"/>');\n",
       "    var titletext = $(\n",
       "        '<div class=\"ui-dialog-title\" style=\"width: 100%; ' +\n",
       "        'text-align: center; padding: 3px;\"/>');\n",
       "    titlebar.append(titletext)\n",
       "    this.root.append(titlebar);\n",
       "    this.header = titletext[0];\n",
       "}\n",
       "\n",
       "\n",
       "\n",
       "mpl.figure.prototype._canvas_extra_style = function(canvas_div) {\n",
       "\n",
       "}\n",
       "\n",
       "\n",
       "mpl.figure.prototype._root_extra_style = function(canvas_div) {\n",
       "\n",
       "}\n",
       "\n",
       "mpl.figure.prototype._init_canvas = function() {\n",
       "    var fig = this;\n",
       "\n",
       "    var canvas_div = $('<div/>');\n",
       "\n",
       "    canvas_div.attr('style', 'position: relative; clear: both; outline: 0');\n",
       "\n",
       "    function canvas_keyboard_event(event) {\n",
       "        return fig.key_event(event, event['data']);\n",
       "    }\n",
       "\n",
       "    canvas_div.keydown('key_press', canvas_keyboard_event);\n",
       "    canvas_div.keyup('key_release', canvas_keyboard_event);\n",
       "    this.canvas_div = canvas_div\n",
       "    this._canvas_extra_style(canvas_div)\n",
       "    this.root.append(canvas_div);\n",
       "\n",
       "    var canvas = $('<canvas/>');\n",
       "    canvas.addClass('mpl-canvas');\n",
       "    canvas.attr('style', \"left: 0; top: 0; z-index: 0; outline: 0\")\n",
       "\n",
       "    this.canvas = canvas[0];\n",
       "    this.context = canvas[0].getContext(\"2d\");\n",
       "\n",
       "    var backingStore = this.context.backingStorePixelRatio ||\n",
       "\tthis.context.webkitBackingStorePixelRatio ||\n",
       "\tthis.context.mozBackingStorePixelRatio ||\n",
       "\tthis.context.msBackingStorePixelRatio ||\n",
       "\tthis.context.oBackingStorePixelRatio ||\n",
       "\tthis.context.backingStorePixelRatio || 1;\n",
       "\n",
       "    mpl.ratio = (window.devicePixelRatio || 1) / backingStore;\n",
       "\n",
       "    var rubberband = $('<canvas/>');\n",
       "    rubberband.attr('style', \"position: absolute; left: 0; top: 0; z-index: 1;\")\n",
       "\n",
       "    var pass_mouse_events = true;\n",
       "\n",
       "    canvas_div.resizable({\n",
       "        start: function(event, ui) {\n",
       "            pass_mouse_events = false;\n",
       "        },\n",
       "        resize: function(event, ui) {\n",
       "            fig.request_resize(ui.size.width, ui.size.height);\n",
       "        },\n",
       "        stop: function(event, ui) {\n",
       "            pass_mouse_events = true;\n",
       "            fig.request_resize(ui.size.width, ui.size.height);\n",
       "        },\n",
       "    });\n",
       "\n",
       "    function mouse_event_fn(event) {\n",
       "        if (pass_mouse_events)\n",
       "            return fig.mouse_event(event, event['data']);\n",
       "    }\n",
       "\n",
       "    rubberband.mousedown('button_press', mouse_event_fn);\n",
       "    rubberband.mouseup('button_release', mouse_event_fn);\n",
       "    // Throttle sequential mouse events to 1 every 20ms.\n",
       "    rubberband.mousemove('motion_notify', mouse_event_fn);\n",
       "\n",
       "    rubberband.mouseenter('figure_enter', mouse_event_fn);\n",
       "    rubberband.mouseleave('figure_leave', mouse_event_fn);\n",
       "\n",
       "    canvas_div.on(\"wheel\", function (event) {\n",
       "        event = event.originalEvent;\n",
       "        event['data'] = 'scroll'\n",
       "        if (event.deltaY < 0) {\n",
       "            event.step = 1;\n",
       "        } else {\n",
       "            event.step = -1;\n",
       "        }\n",
       "        mouse_event_fn(event);\n",
       "    });\n",
       "\n",
       "    canvas_div.append(canvas);\n",
       "    canvas_div.append(rubberband);\n",
       "\n",
       "    this.rubberband = rubberband;\n",
       "    this.rubberband_canvas = rubberband[0];\n",
       "    this.rubberband_context = rubberband[0].getContext(\"2d\");\n",
       "    this.rubberband_context.strokeStyle = \"#000000\";\n",
       "\n",
       "    this._resize_canvas = function(width, height) {\n",
       "        // Keep the size of the canvas, canvas container, and rubber band\n",
       "        // canvas in synch.\n",
       "        canvas_div.css('width', width)\n",
       "        canvas_div.css('height', height)\n",
       "\n",
       "        canvas.attr('width', width * mpl.ratio);\n",
       "        canvas.attr('height', height * mpl.ratio);\n",
       "        canvas.attr('style', 'width: ' + width + 'px; height: ' + height + 'px;');\n",
       "\n",
       "        rubberband.attr('width', width);\n",
       "        rubberband.attr('height', height);\n",
       "    }\n",
       "\n",
       "    // Set the figure to an initial 600x600px, this will subsequently be updated\n",
       "    // upon first draw.\n",
       "    this._resize_canvas(600, 600);\n",
       "\n",
       "    // Disable right mouse context menu.\n",
       "    $(this.rubberband_canvas).bind(\"contextmenu\",function(e){\n",
       "        return false;\n",
       "    });\n",
       "\n",
       "    function set_focus () {\n",
       "        canvas.focus();\n",
       "        canvas_div.focus();\n",
       "    }\n",
       "\n",
       "    window.setTimeout(set_focus, 100);\n",
       "}\n",
       "\n",
       "mpl.figure.prototype._init_toolbar = function() {\n",
       "    var fig = this;\n",
       "\n",
       "    var nav_element = $('<div/>')\n",
       "    nav_element.attr('style', 'width: 100%');\n",
       "    this.root.append(nav_element);\n",
       "\n",
       "    // Define a callback function for later on.\n",
       "    function toolbar_event(event) {\n",
       "        return fig.toolbar_button_onclick(event['data']);\n",
       "    }\n",
       "    function toolbar_mouse_event(event) {\n",
       "        return fig.toolbar_button_onmouseover(event['data']);\n",
       "    }\n",
       "\n",
       "    for(var toolbar_ind in mpl.toolbar_items) {\n",
       "        var name = mpl.toolbar_items[toolbar_ind][0];\n",
       "        var tooltip = mpl.toolbar_items[toolbar_ind][1];\n",
       "        var image = mpl.toolbar_items[toolbar_ind][2];\n",
       "        var method_name = mpl.toolbar_items[toolbar_ind][3];\n",
       "\n",
       "        if (!name) {\n",
       "            // put a spacer in here.\n",
       "            continue;\n",
       "        }\n",
       "        var button = $('<button/>');\n",
       "        button.addClass('ui-button ui-widget ui-state-default ui-corner-all ' +\n",
       "                        'ui-button-icon-only');\n",
       "        button.attr('role', 'button');\n",
       "        button.attr('aria-disabled', 'false');\n",
       "        button.click(method_name, toolbar_event);\n",
       "        button.mouseover(tooltip, toolbar_mouse_event);\n",
       "\n",
       "        var icon_img = $('<span/>');\n",
       "        icon_img.addClass('ui-button-icon-primary ui-icon');\n",
       "        icon_img.addClass(image);\n",
       "        icon_img.addClass('ui-corner-all');\n",
       "\n",
       "        var tooltip_span = $('<span/>');\n",
       "        tooltip_span.addClass('ui-button-text');\n",
       "        tooltip_span.html(tooltip);\n",
       "\n",
       "        button.append(icon_img);\n",
       "        button.append(tooltip_span);\n",
       "\n",
       "        nav_element.append(button);\n",
       "    }\n",
       "\n",
       "    var fmt_picker_span = $('<span/>');\n",
       "\n",
       "    var fmt_picker = $('<select/>');\n",
       "    fmt_picker.addClass('mpl-toolbar-option ui-widget ui-widget-content');\n",
       "    fmt_picker_span.append(fmt_picker);\n",
       "    nav_element.append(fmt_picker_span);\n",
       "    this.format_dropdown = fmt_picker[0];\n",
       "\n",
       "    for (var ind in mpl.extensions) {\n",
       "        var fmt = mpl.extensions[ind];\n",
       "        var option = $(\n",
       "            '<option/>', {selected: fmt === mpl.default_extension}).html(fmt);\n",
       "        fmt_picker.append(option)\n",
       "    }\n",
       "\n",
       "    // Add hover states to the ui-buttons\n",
       "    $( \".ui-button\" ).hover(\n",
       "        function() { $(this).addClass(\"ui-state-hover\");},\n",
       "        function() { $(this).removeClass(\"ui-state-hover\");}\n",
       "    );\n",
       "\n",
       "    var status_bar = $('<span class=\"mpl-message\"/>');\n",
       "    nav_element.append(status_bar);\n",
       "    this.message = status_bar[0];\n",
       "}\n",
       "\n",
       "mpl.figure.prototype.request_resize = function(x_pixels, y_pixels) {\n",
       "    // Request matplotlib to resize the figure. Matplotlib will then trigger a resize in the client,\n",
       "    // which will in turn request a refresh of the image.\n",
       "    this.send_message('resize', {'width': x_pixels, 'height': y_pixels});\n",
       "}\n",
       "\n",
       "mpl.figure.prototype.send_message = function(type, properties) {\n",
       "    properties['type'] = type;\n",
       "    properties['figure_id'] = this.id;\n",
       "    this.ws.send(JSON.stringify(properties));\n",
       "}\n",
       "\n",
       "mpl.figure.prototype.send_draw_message = function() {\n",
       "    if (!this.waiting) {\n",
       "        this.waiting = true;\n",
       "        this.ws.send(JSON.stringify({type: \"draw\", figure_id: this.id}));\n",
       "    }\n",
       "}\n",
       "\n",
       "\n",
       "mpl.figure.prototype.handle_save = function(fig, msg) {\n",
       "    var format_dropdown = fig.format_dropdown;\n",
       "    var format = format_dropdown.options[format_dropdown.selectedIndex].value;\n",
       "    fig.ondownload(fig, format);\n",
       "}\n",
       "\n",
       "\n",
       "mpl.figure.prototype.handle_resize = function(fig, msg) {\n",
       "    var size = msg['size'];\n",
       "    if (size[0] != fig.canvas.width || size[1] != fig.canvas.height) {\n",
       "        fig._resize_canvas(size[0], size[1]);\n",
       "        fig.send_message(\"refresh\", {});\n",
       "    };\n",
       "}\n",
       "\n",
       "mpl.figure.prototype.handle_rubberband = function(fig, msg) {\n",
       "    var x0 = msg['x0'] / mpl.ratio;\n",
       "    var y0 = (fig.canvas.height - msg['y0']) / mpl.ratio;\n",
       "    var x1 = msg['x1'] / mpl.ratio;\n",
       "    var y1 = (fig.canvas.height - msg['y1']) / mpl.ratio;\n",
       "    x0 = Math.floor(x0) + 0.5;\n",
       "    y0 = Math.floor(y0) + 0.5;\n",
       "    x1 = Math.floor(x1) + 0.5;\n",
       "    y1 = Math.floor(y1) + 0.5;\n",
       "    var min_x = Math.min(x0, x1);\n",
       "    var min_y = Math.min(y0, y1);\n",
       "    var width = Math.abs(x1 - x0);\n",
       "    var height = Math.abs(y1 - y0);\n",
       "\n",
       "    fig.rubberband_context.clearRect(\n",
       "        0, 0, fig.canvas.width, fig.canvas.height);\n",
       "\n",
       "    fig.rubberband_context.strokeRect(min_x, min_y, width, height);\n",
       "}\n",
       "\n",
       "mpl.figure.prototype.handle_figure_label = function(fig, msg) {\n",
       "    // Updates the figure title.\n",
       "    fig.header.textContent = msg['label'];\n",
       "}\n",
       "\n",
       "mpl.figure.prototype.handle_cursor = function(fig, msg) {\n",
       "    var cursor = msg['cursor'];\n",
       "    switch(cursor)\n",
       "    {\n",
       "    case 0:\n",
       "        cursor = 'pointer';\n",
       "        break;\n",
       "    case 1:\n",
       "        cursor = 'default';\n",
       "        break;\n",
       "    case 2:\n",
       "        cursor = 'crosshair';\n",
       "        break;\n",
       "    case 3:\n",
       "        cursor = 'move';\n",
       "        break;\n",
       "    }\n",
       "    fig.rubberband_canvas.style.cursor = cursor;\n",
       "}\n",
       "\n",
       "mpl.figure.prototype.handle_message = function(fig, msg) {\n",
       "    fig.message.textContent = msg['message'];\n",
       "}\n",
       "\n",
       "mpl.figure.prototype.handle_draw = function(fig, msg) {\n",
       "    // Request the server to send over a new figure.\n",
       "    fig.send_draw_message();\n",
       "}\n",
       "\n",
       "mpl.figure.prototype.handle_image_mode = function(fig, msg) {\n",
       "    fig.image_mode = msg['mode'];\n",
       "}\n",
       "\n",
       "mpl.figure.prototype.updated_canvas_event = function() {\n",
       "    // Called whenever the canvas gets updated.\n",
       "    this.send_message(\"ack\", {});\n",
       "}\n",
       "\n",
       "// A function to construct a web socket function for onmessage handling.\n",
       "// Called in the figure constructor.\n",
       "mpl.figure.prototype._make_on_message_function = function(fig) {\n",
       "    return function socket_on_message(evt) {\n",
       "        if (evt.data instanceof Blob) {\n",
       "            /* FIXME: We get \"Resource interpreted as Image but\n",
       "             * transferred with MIME type text/plain:\" errors on\n",
       "             * Chrome.  But how to set the MIME type?  It doesn't seem\n",
       "             * to be part of the websocket stream */\n",
       "            evt.data.type = \"image/png\";\n",
       "\n",
       "            /* Free the memory for the previous frames */\n",
       "            if (fig.imageObj.src) {\n",
       "                (window.URL || window.webkitURL).revokeObjectURL(\n",
       "                    fig.imageObj.src);\n",
       "            }\n",
       "\n",
       "            fig.imageObj.src = (window.URL || window.webkitURL).createObjectURL(\n",
       "                evt.data);\n",
       "            fig.updated_canvas_event();\n",
       "            fig.waiting = false;\n",
       "            return;\n",
       "        }\n",
       "        else if (typeof evt.data === 'string' && evt.data.slice(0, 21) == \"data:image/png;base64\") {\n",
       "            fig.imageObj.src = evt.data;\n",
       "            fig.updated_canvas_event();\n",
       "            fig.waiting = false;\n",
       "            return;\n",
       "        }\n",
       "\n",
       "        var msg = JSON.parse(evt.data);\n",
       "        var msg_type = msg['type'];\n",
       "\n",
       "        // Call the  \"handle_{type}\" callback, which takes\n",
       "        // the figure and JSON message as its only arguments.\n",
       "        try {\n",
       "            var callback = fig[\"handle_\" + msg_type];\n",
       "        } catch (e) {\n",
       "            console.log(\"No handler for the '\" + msg_type + \"' message type: \", msg);\n",
       "            return;\n",
       "        }\n",
       "\n",
       "        if (callback) {\n",
       "            try {\n",
       "                // console.log(\"Handling '\" + msg_type + \"' message: \", msg);\n",
       "                callback(fig, msg);\n",
       "            } catch (e) {\n",
       "                console.log(\"Exception inside the 'handler_\" + msg_type + \"' callback:\", e, e.stack, msg);\n",
       "            }\n",
       "        }\n",
       "    };\n",
       "}\n",
       "\n",
       "// from http://stackoverflow.com/questions/1114465/getting-mouse-location-in-canvas\n",
       "mpl.findpos = function(e) {\n",
       "    //this section is from http://www.quirksmode.org/js/events_properties.html\n",
       "    var targ;\n",
       "    if (!e)\n",
       "        e = window.event;\n",
       "    if (e.target)\n",
       "        targ = e.target;\n",
       "    else if (e.srcElement)\n",
       "        targ = e.srcElement;\n",
       "    if (targ.nodeType == 3) // defeat Safari bug\n",
       "        targ = targ.parentNode;\n",
       "\n",
       "    // jQuery normalizes the pageX and pageY\n",
       "    // pageX,Y are the mouse positions relative to the document\n",
       "    // offset() returns the position of the element relative to the document\n",
       "    var x = e.pageX - $(targ).offset().left;\n",
       "    var y = e.pageY - $(targ).offset().top;\n",
       "\n",
       "    return {\"x\": x, \"y\": y};\n",
       "};\n",
       "\n",
       "/*\n",
       " * return a copy of an object with only non-object keys\n",
       " * we need this to avoid circular references\n",
       " * http://stackoverflow.com/a/24161582/3208463\n",
       " */\n",
       "function simpleKeys (original) {\n",
       "  return Object.keys(original).reduce(function (obj, key) {\n",
       "    if (typeof original[key] !== 'object')\n",
       "        obj[key] = original[key]\n",
       "    return obj;\n",
       "  }, {});\n",
       "}\n",
       "\n",
       "mpl.figure.prototype.mouse_event = function(event, name) {\n",
       "    var canvas_pos = mpl.findpos(event)\n",
       "\n",
       "    if (name === 'button_press')\n",
       "    {\n",
       "        this.canvas.focus();\n",
       "        this.canvas_div.focus();\n",
       "    }\n",
       "\n",
       "    var x = canvas_pos.x * mpl.ratio;\n",
       "    var y = canvas_pos.y * mpl.ratio;\n",
       "\n",
       "    this.send_message(name, {x: x, y: y, button: event.button,\n",
       "                             step: event.step,\n",
       "                             guiEvent: simpleKeys(event)});\n",
       "\n",
       "    /* This prevents the web browser from automatically changing to\n",
       "     * the text insertion cursor when the button is pressed.  We want\n",
       "     * to control all of the cursor setting manually through the\n",
       "     * 'cursor' event from matplotlib */\n",
       "    event.preventDefault();\n",
       "    return false;\n",
       "}\n",
       "\n",
       "mpl.figure.prototype._key_event_extra = function(event, name) {\n",
       "    // Handle any extra behaviour associated with a key event\n",
       "}\n",
       "\n",
       "mpl.figure.prototype.key_event = function(event, name) {\n",
       "\n",
       "    // Prevent repeat events\n",
       "    if (name == 'key_press')\n",
       "    {\n",
       "        if (event.which === this._key)\n",
       "            return;\n",
       "        else\n",
       "            this._key = event.which;\n",
       "    }\n",
       "    if (name == 'key_release')\n",
       "        this._key = null;\n",
       "\n",
       "    var value = '';\n",
       "    if (event.ctrlKey && event.which != 17)\n",
       "        value += \"ctrl+\";\n",
       "    if (event.altKey && event.which != 18)\n",
       "        value += \"alt+\";\n",
       "    if (event.shiftKey && event.which != 16)\n",
       "        value += \"shift+\";\n",
       "\n",
       "    value += 'k';\n",
       "    value += event.which.toString();\n",
       "\n",
       "    this._key_event_extra(event, name);\n",
       "\n",
       "    this.send_message(name, {key: value,\n",
       "                             guiEvent: simpleKeys(event)});\n",
       "    return false;\n",
       "}\n",
       "\n",
       "mpl.figure.prototype.toolbar_button_onclick = function(name) {\n",
       "    if (name == 'download') {\n",
       "        this.handle_save(this, null);\n",
       "    } else {\n",
       "        this.send_message(\"toolbar_button\", {name: name});\n",
       "    }\n",
       "};\n",
       "\n",
       "mpl.figure.prototype.toolbar_button_onmouseover = function(tooltip) {\n",
       "    this.message.textContent = tooltip;\n",
       "};\n",
       "mpl.toolbar_items = [[\"Home\", \"Reset original view\", \"fa fa-home icon-home\", \"home\"], [\"Back\", \"Back to  previous view\", \"fa fa-arrow-left icon-arrow-left\", \"back\"], [\"Forward\", \"Forward to next view\", \"fa fa-arrow-right icon-arrow-right\", \"forward\"], [\"\", \"\", \"\", \"\"], [\"Pan\", \"Pan axes with left mouse, zoom with right\", \"fa fa-arrows icon-move\", \"pan\"], [\"Zoom\", \"Zoom to rectangle\", \"fa fa-square-o icon-check-empty\", \"zoom\"], [\"\", \"\", \"\", \"\"], [\"Download\", \"Download plot\", \"fa fa-floppy-o icon-save\", \"download\"]];\n",
       "\n",
       "mpl.extensions = [\"eps\", \"jpeg\", \"pdf\", \"png\", \"ps\", \"raw\", \"svg\", \"tif\"];\n",
       "\n",
       "mpl.default_extension = \"png\";var comm_websocket_adapter = function(comm) {\n",
       "    // Create a \"websocket\"-like object which calls the given IPython comm\n",
       "    // object with the appropriate methods. Currently this is a non binary\n",
       "    // socket, so there is still some room for performance tuning.\n",
       "    var ws = {};\n",
       "\n",
       "    ws.close = function() {\n",
       "        comm.close()\n",
       "    };\n",
       "    ws.send = function(m) {\n",
       "        //console.log('sending', m);\n",
       "        comm.send(m);\n",
       "    };\n",
       "    // Register the callback with on_msg.\n",
       "    comm.on_msg(function(msg) {\n",
       "        //console.log('receiving', msg['content']['data'], msg);\n",
       "        // Pass the mpl event to the overriden (by mpl) onmessage function.\n",
       "        ws.onmessage(msg['content']['data'])\n",
       "    });\n",
       "    return ws;\n",
       "}\n",
       "\n",
       "mpl.mpl_figure_comm = function(comm, msg) {\n",
       "    // This is the function which gets called when the mpl process\n",
       "    // starts-up an IPython Comm through the \"matplotlib\" channel.\n",
       "\n",
       "    var id = msg.content.data.id;\n",
       "    // Get hold of the div created by the display call when the Comm\n",
       "    // socket was opened in Python.\n",
       "    var element = $(\"#\" + id);\n",
       "    var ws_proxy = comm_websocket_adapter(comm)\n",
       "\n",
       "    function ondownload(figure, format) {\n",
       "        window.open(figure.imageObj.src);\n",
       "    }\n",
       "\n",
       "    var fig = new mpl.figure(id, ws_proxy,\n",
       "                           ondownload,\n",
       "                           element.get(0));\n",
       "\n",
       "    // Call onopen now - mpl needs it, as it is assuming we've passed it a real\n",
       "    // web socket which is closed, not our websocket->open comm proxy.\n",
       "    ws_proxy.onopen();\n",
       "\n",
       "    fig.parent_element = element.get(0);\n",
       "    fig.cell_info = mpl.find_output_cell(\"<div id='\" + id + \"'></div>\");\n",
       "    if (!fig.cell_info) {\n",
       "        console.error(\"Failed to find cell for figure\", id, fig);\n",
       "        return;\n",
       "    }\n",
       "\n",
       "    var output_index = fig.cell_info[2]\n",
       "    var cell = fig.cell_info[0];\n",
       "\n",
       "};\n",
       "\n",
       "mpl.figure.prototype.handle_close = function(fig, msg) {\n",
       "    var width = fig.canvas.width/mpl.ratio\n",
       "    fig.root.unbind('remove')\n",
       "\n",
       "    // Update the output cell to use the data from the current canvas.\n",
       "    fig.push_to_output();\n",
       "    var dataURL = fig.canvas.toDataURL();\n",
       "    // Re-enable the keyboard manager in IPython - without this line, in FF,\n",
       "    // the notebook keyboard shortcuts fail.\n",
       "    IPython.keyboard_manager.enable()\n",
       "    $(fig.parent_element).html('<img src=\"' + dataURL + '\" width=\"' + width + '\">');\n",
       "    fig.close_ws(fig, msg);\n",
       "}\n",
       "\n",
       "mpl.figure.prototype.close_ws = function(fig, msg){\n",
       "    fig.send_message('closing', msg);\n",
       "    // fig.ws.close()\n",
       "}\n",
       "\n",
       "mpl.figure.prototype.push_to_output = function(remove_interactive) {\n",
       "    // Turn the data on the canvas into data in the output cell.\n",
       "    var width = this.canvas.width/mpl.ratio\n",
       "    var dataURL = this.canvas.toDataURL();\n",
       "    this.cell_info[1]['text/html'] = '<img src=\"' + dataURL + '\" width=\"' + width + '\">';\n",
       "}\n",
       "\n",
       "mpl.figure.prototype.updated_canvas_event = function() {\n",
       "    // Tell IPython that the notebook contents must change.\n",
       "    IPython.notebook.set_dirty(true);\n",
       "    this.send_message(\"ack\", {});\n",
       "    var fig = this;\n",
       "    // Wait a second, then push the new image to the DOM so\n",
       "    // that it is saved nicely (might be nice to debounce this).\n",
       "    setTimeout(function () { fig.push_to_output() }, 1000);\n",
       "}\n",
       "\n",
       "mpl.figure.prototype._init_toolbar = function() {\n",
       "    var fig = this;\n",
       "\n",
       "    var nav_element = $('<div/>')\n",
       "    nav_element.attr('style', 'width: 100%');\n",
       "    this.root.append(nav_element);\n",
       "\n",
       "    // Define a callback function for later on.\n",
       "    function toolbar_event(event) {\n",
       "        return fig.toolbar_button_onclick(event['data']);\n",
       "    }\n",
       "    function toolbar_mouse_event(event) {\n",
       "        return fig.toolbar_button_onmouseover(event['data']);\n",
       "    }\n",
       "\n",
       "    for(var toolbar_ind in mpl.toolbar_items){\n",
       "        var name = mpl.toolbar_items[toolbar_ind][0];\n",
       "        var tooltip = mpl.toolbar_items[toolbar_ind][1];\n",
       "        var image = mpl.toolbar_items[toolbar_ind][2];\n",
       "        var method_name = mpl.toolbar_items[toolbar_ind][3];\n",
       "\n",
       "        if (!name) { continue; };\n",
       "\n",
       "        var button = $('<button class=\"btn btn-default\" href=\"#\" title=\"' + name + '\"><i class=\"fa ' + image + ' fa-lg\"></i></button>');\n",
       "        button.click(method_name, toolbar_event);\n",
       "        button.mouseover(tooltip, toolbar_mouse_event);\n",
       "        nav_element.append(button);\n",
       "    }\n",
       "\n",
       "    // Add the status bar.\n",
       "    var status_bar = $('<span class=\"mpl-message\" style=\"text-align:right; float: right;\"/>');\n",
       "    nav_element.append(status_bar);\n",
       "    this.message = status_bar[0];\n",
       "\n",
       "    // Add the close button to the window.\n",
       "    var buttongrp = $('<div class=\"btn-group inline pull-right\"></div>');\n",
       "    var button = $('<button class=\"btn btn-mini btn-primary\" href=\"#\" title=\"Stop Interaction\"><i class=\"fa fa-power-off icon-remove icon-large\"></i></button>');\n",
       "    button.click(function (evt) { fig.handle_close(fig, {}); } );\n",
       "    button.mouseover('Stop Interaction', toolbar_mouse_event);\n",
       "    buttongrp.append(button);\n",
       "    var titlebar = this.root.find($('.ui-dialog-titlebar'));\n",
       "    titlebar.prepend(buttongrp);\n",
       "}\n",
       "\n",
       "mpl.figure.prototype._root_extra_style = function(el){\n",
       "    var fig = this\n",
       "    el.on(\"remove\", function(){\n",
       "\tfig.close_ws(fig, {});\n",
       "    });\n",
       "}\n",
       "\n",
       "mpl.figure.prototype._canvas_extra_style = function(el){\n",
       "    // this is important to make the div 'focusable\n",
       "    el.attr('tabindex', 0)\n",
       "    // reach out to IPython and tell the keyboard manager to turn it's self\n",
       "    // off when our div gets focus\n",
       "\n",
       "    // location in version 3\n",
       "    if (IPython.notebook.keyboard_manager) {\n",
       "        IPython.notebook.keyboard_manager.register_events(el);\n",
       "    }\n",
       "    else {\n",
       "        // location in version 2\n",
       "        IPython.keyboard_manager.register_events(el);\n",
       "    }\n",
       "\n",
       "}\n",
       "\n",
       "mpl.figure.prototype._key_event_extra = function(event, name) {\n",
       "    var manager = IPython.notebook.keyboard_manager;\n",
       "    if (!manager)\n",
       "        manager = IPython.keyboard_manager;\n",
       "\n",
       "    // Check for shift+enter\n",
       "    if (event.shiftKey && event.which == 13) {\n",
       "        this.canvas_div.blur();\n",
       "        // select the cell after this one\n",
       "        var index = IPython.notebook.find_cell_index(this.cell_info[0]);\n",
       "        IPython.notebook.select(index + 1);\n",
       "    }\n",
       "}\n",
       "\n",
       "mpl.figure.prototype.handle_save = function(fig, msg) {\n",
       "    fig.ondownload(fig, null);\n",
       "}\n",
       "\n",
       "\n",
       "mpl.find_output_cell = function(html_output) {\n",
       "    // Return the cell and output element which can be found *uniquely* in the notebook.\n",
       "    // Note - this is a bit hacky, but it is done because the \"notebook_saving.Notebook\"\n",
       "    // IPython event is triggered only after the cells have been serialised, which for\n",
       "    // our purposes (turning an active figure into a static one), is too late.\n",
       "    var cells = IPython.notebook.get_cells();\n",
       "    var ncells = cells.length;\n",
       "    for (var i=0; i<ncells; i++) {\n",
       "        var cell = cells[i];\n",
       "        if (cell.cell_type === 'code'){\n",
       "            for (var j=0; j<cell.output_area.outputs.length; j++) {\n",
       "                var data = cell.output_area.outputs[j];\n",
       "                if (data.data) {\n",
       "                    // IPython >= 3 moved mimebundle to data attribute of output\n",
       "                    data = data.data;\n",
       "                }\n",
       "                if (data['text/html'] == html_output) {\n",
       "                    return [cell, data, j];\n",
       "                }\n",
       "            }\n",
       "        }\n",
       "    }\n",
       "}\n",
       "\n",
       "// Register the function which deals with the matplotlib target/channel.\n",
       "// The kernel may be null if the page has been refreshed.\n",
       "if (IPython.notebook.kernel != null) {\n",
       "    IPython.notebook.kernel.comm_manager.register_target('matplotlib', mpl.mpl_figure_comm);\n",
       "}\n"
      ],
      "text/plain": [
       "<IPython.core.display.Javascript object>"
      ]
     },
     "metadata": {},
     "output_type": "display_data"
    },
    {
     "data": {
      "text/html": [
       "<img src=\"data:image/png;base64,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\" width=\"640\">"
      ],
      "text/plain": [
       "<IPython.core.display.HTML object>"
      ]
     },
     "metadata": {},
     "output_type": "display_data"
    }
   ],
   "source": [
    "zresults = f9wfs.fit_wavefront(results, plot=True)\n",
    "print(zresults['residual_rms'])\n",
    "print(zresults['zernike'])\n",
    "zresults['resid_plot'].show()"
   ]
  },
  {
   "cell_type": "code",
   "execution_count": null,
   "metadata": {},
   "outputs": [],
   "source": [
    "fig, ax = plt.subplots()\n",
    "fit = results['grid_fit']\n",
    "refx = refaps['xcentroid'] * (fit['scale'] + refaps['xcentroid'] * fit['xcoma']) + results['xcen']\n",
    "refy = refaps['ycentroid'] * (fit['scale'] + refaps['ycentroid'] * fit['ycoma']) + results['ycen']\n",
    "x, y = results['apertures'].positions.transpose()[0], results['apertures'].positions.transpose()[1]\n",
    "spacing = 0.5*(results['xspacing'] + results['yspacing'])\n",
    "ax.scatter(refx, refy)\n",
    "ax.set_aspect('equal')\n",
    "ax.scatter(x, y)\n",
    "ax.set_xlim(0, 845)\n",
    "ax.set_ylim(0, 845)\n",
    "fig.show()"
   ]
  },
  {
   "cell_type": "code",
   "execution_count": null,
   "metadata": {
    "collapsed": true
   },
   "outputs": [],
   "source": []
  },
  {
   "cell_type": "code",
   "execution_count": null,
   "metadata": {
    "collapsed": true
   },
   "outputs": [],
   "source": [
    "fit"
   ]
  },
  {
   "cell_type": "code",
   "execution_count": null,
   "metadata": {
    "collapsed": true
   },
   "outputs": [],
   "source": [
    "spots = {'xcentroid': x, 'ycentroid': y}\n",
    "from scipy import optimize\n",
    "\n",
    "def match_apertures(refx, refy, spotx, spoty):\n",
    "    tot_dist = 0.0\n",
    "    refs = np.array([refx, refy])\n",
    "    spots = np.array([spotx, spoty])\n",
    "    match = np.empty(len(refx))\n",
    "    max_r = spacing / 2.\n",
    "    for i in np.arange(len(refx)):\n",
    "        dists = np.sqrt( (spots[0]-refs[0][i])**2 + (spots[1]-refs[1][i])**2 )\n",
    "        tot_dist += np.min(dists)\n",
    "    return tot_dist\n",
    "\n",
    "def fit_apertures(pars, ref, spots):\n",
    "    xc = pars[0]\n",
    "    yc = pars[1]\n",
    "    xscale = pars[2]\n",
    "    yscale = pars[3]\n",
    "    xcoma = pars[4]\n",
    "    ycoma = pars[5]\n",
    "    refx = ref['xcentroid'] * (xscale + ref['xcentroid'] * xcoma) + xc\n",
    "    refy = ref['ycentroid'] * (yscale + ref['ycentroid'] * ycoma) + yc\n",
    "    spotx = spots['xcentroid']\n",
    "    spoty = spots['ycentroid']\n",
    "    dist = match_apertures(refx, refy, spotx, spoty)\n",
    "    return dist"
   ]
  },
  {
   "cell_type": "code",
   "execution_count": null,
   "metadata": {
    "collapsed": true
   },
   "outputs": [],
   "source": [
    "#%%timeit\n",
    "args = (refaps, spots)\n",
    "pars = (results['xcen'], results['ycen'], 1.0, 1.0, 0.0, 0.0)\n",
    "bounds = (\n",
    "    (results['xcen']-50, results['xcen']+50), \n",
    "    (results['ycen']-50, results['ycen']+50),\n",
    "    (0.8, 1.2),\n",
    "    (0.8, 1.2),\n",
    "    (-0.1, 0.1),\n",
    "    (-0.1, 0.1)\n",
    ")\n",
    "res = optimize.minimize(fit_apertures, pars, args=args, bounds=bounds)\n",
    "res"
   ]
  },
  {
   "cell_type": "code",
   "execution_count": null,
   "metadata": {
    "collapsed": true
   },
   "outputs": [],
   "source": [
    "fig, ax = plt.subplots()\n",
    "refx, refy = refaps['xcentroid'], refaps['ycentroid']\n",
    "refx = refx * (res['x'][2] + refx*res['x'][4]) + res['x'][0]\n",
    "refy = refy * (res['x'][3] + refy*res['x'][5]) + res['x'][1]\n",
    "x, y = results['apertures'].positions.transpose()[0], results['apertures'].positions.transpose()[1]\n",
    "ax.scatter(refx, refy)\n",
    "ax.set_aspect('equal')\n",
    "ax.scatter(x, y)\n",
    "ax.set_xlim(0, 845)\n",
    "ax.set_ylim(0, 845)\n",
    "fig.show()"
   ]
  },
  {
   "cell_type": "code",
   "execution_count": null,
   "metadata": {
    "collapsed": true
   },
   "outputs": [],
   "source": [
    "print(f9wfs.modes['blue']['reference']['xcen'], f9wfs.modes['blue']['reference']['ycen'])\n",
    "print(f9wfs.modes['blue']['reference']['xspacing'], f9wfs.modes['blue']['reference']['yspacing'])\n",
    "f9wfs.modes['blue']['reference'].keys()"
   ]
  },
  {
   "cell_type": "code",
   "execution_count": null,
   "metadata": {
    "collapsed": true
   },
   "outputs": [],
   "source": [
    "zv = zresults['zernike']\n",
    "print(zv.rms)\n",
    "zv.ignore('Z02')\n",
    "zv.ignore('Z03')\n",
    "f = zv.plot_map()\n",
    "f.show()"
   ]
  },
  {
   "cell_type": "code",
   "execution_count": null,
   "metadata": {
    "collapsed": true
   },
   "outputs": [],
   "source": [
    "bc = zv.bar_chart(residual=zresults['residual_rms'])\n",
    "bc.show()"
   ]
  },
  {
   "cell_type": "code",
   "execution_count": null,
   "metadata": {
    "collapsed": true
   },
   "outputs": [],
   "source": [
    "psf, psf_fig = f9wfs.telescope.psf(zv, fov=1.0)\n",
    "psf_fig.show()"
   ]
  },
  {
   "cell_type": "code",
   "execution_count": null,
   "metadata": {
    "collapsed": true
   },
   "outputs": [],
   "source": [
    "plt.close('all')"
   ]
  },
  {
   "cell_type": "markdown",
   "metadata": {},
   "source": [
    "# F/5 Dev Section"
   ]
  },
  {
   "cell_type": "code",
   "execution_count": null,
   "metadata": {
    "collapsed": true
   },
   "outputs": [],
   "source": [
    "plt.close('all')\n",
    "f5wfs = WFSFactory(wfs=\"f5\")"
   ]
  },
  {
   "cell_type": "code",
   "execution_count": null,
   "metadata": {},
   "outputs": [],
   "source": [
    "#%%prun\n",
    "f5_file = \"/Users/tim/MMT/wfsdat/20170605/manual_wfs_0005.fits\"\n",
    "results = f5wfs.measure_slopes(f5_file, 'hecto', plot=True)\n",
    "results['figures']['slopes'].show()"
   ]
  },
  {
   "cell_type": "code",
   "execution_count": null,
   "metadata": {},
   "outputs": [],
   "source": [
    "#%%prun\n",
    "zresults = f5wfs.fit_wavefront(results, plot=True)\n",
    "zv = zresults['zernike']\n",
    "print(zv)\n",
    "print(zv.rms)\n",
    "zresults['resid_plot'].show()"
   ]
  },
  {
   "cell_type": "code",
   "execution_count": null,
   "metadata": {
    "collapsed": true
   },
   "outputs": [],
   "source": [
    "zf = zv.bar_chart(residual=zresults['residual_rms'], total=True, max_c=500*u.nm)\n",
    "zf.show()\n",
    "zresults['residual_rms']"
   ]
  },
  {
   "cell_type": "code",
   "execution_count": null,
   "metadata": {
    "collapsed": true
   },
   "outputs": [],
   "source": [
    "zv.ignore('Z02')\n",
    "zv.ignore('Z03')\n",
    "zv.ignore('Z04')\n",
    "print(zv.rms)\n",
    "mf = zv.plot_map()\n",
    "mf.axes[0].set_title(\"boo\")\n",
    "mf.show()"
   ]
  },
  {
   "cell_type": "code",
   "execution_count": null,
   "metadata": {
    "collapsed": true
   },
   "outputs": [],
   "source": [
    "t, m1foc = f5wfs.telescope.calculate_primary_corrections(zresults['zernike'])"
   ]
  },
  {
   "cell_type": "code",
   "execution_count": null,
   "metadata": {
    "collapsed": true
   },
   "outputs": [],
   "source": [
    "fplot = f5wfs.telescope.plot_forces(t, m1focus=m1foc)\n",
    "fplot.show()"
   ]
  },
  {
   "cell_type": "code",
   "execution_count": null,
   "metadata": {
    "collapsed": true
   },
   "outputs": [],
   "source": [
    "t.show_in_notebook()"
   ]
  },
  {
   "cell_type": "markdown",
   "metadata": {},
   "source": [
    "# Scratch space"
   ]
  },
  {
   "cell_type": "code",
   "execution_count": null,
   "metadata": {
    "collapsed": true
   },
   "outputs": [],
   "source": [
    "cen = center_pupil(subt, pup, plot=True)\n",
    "print(cen)\n",
    "plt.show()"
   ]
  },
  {
   "cell_type": "code",
   "execution_count": null,
   "metadata": {
    "collapsed": true
   },
   "outputs": [],
   "source": [
    "from astropy.io import ascii"
   ]
  },
  {
   "cell_type": "code",
   "execution_count": null,
   "metadata": {
    "collapsed": true
   },
   "outputs": [],
   "source": [
    "t = f9wfs.telescope\n",
    "m = t.zern_map"
   ]
  },
  {
   "cell_type": "code",
   "execution_count": null,
   "metadata": {
    "collapsed": true
   },
   "outputs": [],
   "source": [
    "z = np.loadtxt(\"/Users/tim/MMT/wfsdat/20170110/mmirs_wfs_0375.dao.sub.zrn.cor\")\n",
    "z1 = np.loadtxt(\"/Users/tim/MMT/wfsdat/20170110/mmirs_wfs_0375.dao.av.zrn\")"
   ]
  },
  {
   "cell_type": "code",
   "execution_count": null,
   "metadata": {
    "collapsed": true
   },
   "outputs": [],
   "source": [
    "z1 - z"
   ]
  },
  {
   "cell_type": "code",
   "execution_count": null,
   "metadata": {
    "collapsed": true
   },
   "outputs": [],
   "source": [
    "Z = ZernikeVector(coeffs=z, zmap=m)"
   ]
  },
  {
   "cell_type": "code",
   "execution_count": null,
   "metadata": {
    "collapsed": true
   },
   "outputs": [],
   "source": [
    "Z"
   ]
  },
  {
   "cell_type": "code",
   "execution_count": null,
   "metadata": {
    "collapsed": true
   },
   "outputs": [],
   "source": [
    "from astropy.table import Table\n",
    "from astropy.io import ascii"
   ]
  },
  {
   "cell_type": "code",
   "execution_count": null,
   "metadata": {
    "collapsed": true
   },
   "outputs": [],
   "source": [
    "t = ascii.read(\"/Users/tim/MMT/mmtwfs/mmtwfs/data/mmirszernfield.tab\")"
   ]
  },
  {
   "cell_type": "code",
   "execution_count": null,
   "metadata": {
    "collapsed": true
   },
   "outputs": [],
   "source": [
    "t"
   ]
  },
  {
   "cell_type": "code",
   "execution_count": null,
   "metadata": {
    "collapsed": true
   },
   "outputs": [],
   "source": [
    "np.interp(0.12, t['field_r'], t['Z01'])"
   ]
  },
  {
   "cell_type": "code",
   "execution_count": null,
   "metadata": {
    "collapsed": true
   },
   "outputs": [],
   "source": [
    "range(4, 11)"
   ]
  },
  {
   "cell_type": "code",
   "execution_count": null,
   "metadata": {
    "collapsed": true
   },
   "outputs": [],
   "source": [
    "for i in range(4, 12):\n",
    "    print(\"Z%02d\" % i)"
   ]
  },
  {
   "cell_type": "code",
   "execution_count": null,
   "metadata": {
    "collapsed": true
   },
   "outputs": [],
   "source": [
    "np.max(1, 2)"
   ]
  },
  {
   "cell_type": "code",
   "execution_count": null,
   "metadata": {
    "collapsed": true
   },
   "outputs": [],
   "source": [
    "6.75 + 20.30 + 242.15 + 430.51"
   ]
  },
  {
   "cell_type": "code",
   "execution_count": null,
   "metadata": {
    "collapsed": true
   },
   "outputs": [],
   "source": [
    "13296 - (973.15/.575) - 1025.8"
   ]
  },
  {
   "cell_type": "code",
   "execution_count": null,
   "metadata": {
    "collapsed": true
   },
   "outputs": [],
   "source": [
    "23*6 + 12*6"
   ]
  },
  {
   "cell_type": "code",
   "execution_count": null,
   "metadata": {
    "collapsed": true
   },
   "outputs": [],
   "source": [
    "58.69*12"
   ]
  },
  {
   "cell_type": "code",
   "execution_count": null,
   "metadata": {
    "collapsed": true
   },
   "outputs": [],
   "source": [
    "210+16+69.5+704.28"
   ]
  },
  {
   "cell_type": "code",
   "execution_count": null,
   "metadata": {
    "collapsed": true
   },
   "outputs": [],
   "source": [
    "2225.37 - (977.15 + 999.78 + 699.71)"
   ]
  },
  {
   "cell_type": "code",
   "execution_count": null,
   "metadata": {
    "collapsed": true
   },
   "outputs": [],
   "source": [
    "103212.81+341.47-451.27+9632.5"
   ]
  },
  {
   "cell_type": "code",
   "execution_count": null,
   "metadata": {
    "collapsed": true
   },
   "outputs": [],
   "source": [
    "7324.5+3951.34"
   ]
  },
  {
   "cell_type": "code",
   "execution_count": null,
   "metadata": {
    "collapsed": true
   },
   "outputs": [],
   "source": [
    "112735.51 - (11275.84 + 7245.8 + 56) - 12150"
   ]
  },
  {
   "cell_type": "code",
   "execution_count": null,
   "metadata": {
    "collapsed": true
   },
   "outputs": [],
   "source": [
    "4050*3"
   ]
  },
  {
   "cell_type": "code",
   "execution_count": null,
   "metadata": {
    "collapsed": true
   },
   "outputs": [],
   "source": [
    "3000*.05"
   ]
  },
  {
   "cell_type": "code",
   "execution_count": null,
   "metadata": {
    "collapsed": true
   },
   "outputs": [],
   "source": [
    "28910/98610"
   ]
  },
  {
   "cell_type": "code",
   "execution_count": null,
   "metadata": {
    "collapsed": true
   },
   "outputs": [],
   "source": [
    "ai = [247.68, 252.69, 257.79, 261.79, 266.88, 696.98, 280.11, 261.96, 261.96, 261.92, 261.96]\n",
    "pep = [146.43, 147.28, 145.18, 142.83, 140.7, 138.47, 136.4, 134.18, 132.18, 129.89, 128.12, 126.22]"
   ]
  },
  {
   "cell_type": "code",
   "execution_count": null,
   "metadata": {
    "collapsed": true
   },
   "outputs": [],
   "source": [
    "0.2* (28910/98610 * (np.sum(ai) + np.sum(pep)))"
   ]
  },
  {
   "cell_type": "code",
   "execution_count": null,
   "metadata": {
    "collapsed": true
   },
   "outputs": [],
   "source": [
    "len(pep)"
   ]
  },
  {
   "cell_type": "code",
   "execution_count": null,
   "metadata": {
    "collapsed": true
   },
   "outputs": [],
   "source": [
    "12049 - (290.81 + 850)"
   ]
  },
  {
   "cell_type": "code",
   "execution_count": null,
   "metadata": {
    "collapsed": true
   },
   "outputs": [],
   "source": [
    "18577.64-7324.5"
   ]
  },
  {
   "cell_type": "code",
   "execution_count": null,
   "metadata": {
    "collapsed": true
   },
   "outputs": [],
   "source": [
    "110940.01-11253.14 - 9600"
   ]
  },
  {
   "cell_type": "code",
   "execution_count": null,
   "metadata": {
    "collapsed": true
   },
   "outputs": [],
   "source": [
    "0.032 * 90086.87 + 4226.63"
   ]
  },
  {
   "cell_type": "code",
   "execution_count": null,
   "metadata": {
    "collapsed": true
   },
   "outputs": [],
   "source": [
    "x = 1920 * 5.86e-3 * u.mm\n",
    "\n",
    "y = 1200 * 5.86e-3 * u.mm"
   ]
  },
  {
   "cell_type": "code",
   "execution_count": null,
   "metadata": {
    "collapsed": true
   },
   "outputs": [],
   "source": [
    "np.sqrt(x**2 + y**2)"
   ]
  },
  {
   "cell_type": "code",
   "execution_count": null,
   "metadata": {
    "collapsed": true
   },
   "outputs": [],
   "source": [
    "np.max((1, 2))"
   ]
  },
  {
   "cell_type": "code",
   "execution_count": null,
   "metadata": {
    "collapsed": true
   },
   "outputs": [],
   "source": [
    "mmirs.pup_size"
   ]
  },
  {
   "cell_type": "code",
   "execution_count": null,
   "metadata": {
    "collapsed": true
   },
   "outputs": [],
   "source": [
    "mmirs.modes['mmirs2']['reference']['sigma']"
   ]
  },
  {
   "cell_type": "code",
   "execution_count": null,
   "metadata": {
    "collapsed": true
   },
   "outputs": [],
   "source": [
    "sigma = results['fwhm'] * stats.funcs.gaussian_fwhm_to_sigma\n",
    "\n",
    "wave = 650 * u.nm\n",
    "wave = wave.to(u.m).value  # r_0 equation expects meters so convert\n",
    "# calculate the physical size of each aperture.\n",
    "ref = mmirs.modes['mmirs2']['reference']\n",
    "apsize_pix = np.max((ref['xspacing'], ref['yspacing']))\n",
    "d = mmirs.telescope.diameter * apsize_pix / mmirs.pup_size\n",
    "d = d.to(u.m).value  # r_0 equation expects meters so convert\n",
    "\n",
    "# we need to deconvolve the instrumental spot width from the measured one\n",
    "ref_sigma = ref['sigma']\n",
    "if sigma > ref_sigma:\n",
    "    corr_sigma = np.sqrt(sigma**2 - ref_sigma**2)\n",
    "else:\n",
    "    corr_sigma = 0.0\n",
    "corr_sigma *= mmirs.pix_size.to(u.rad).value  # r_0 equation expects radians so convert\n",
    "# this equation relates the motion within a single aperture to the characteristic scale size of the\n",
    "# turbulence, r_0.\n",
    "r_0 = ( 0.179 * (wave**2) * (d**(-1./3.))/corr_sigma**2 )**0.6\n",
    "print(r_0)\n",
    "# this equation relates the turbulence scale size to an expected image FWHM at the given wavelength.\n",
    "raw_seeing = u.rad * 0.98 * wave / r_0\n",
    "raw_seeing = raw_seeing.to(u.arcsec)\n"
   ]
  },
  {
   "cell_type": "code",
   "execution_count": null,
   "metadata": {
    "collapsed": true
   },
   "outputs": [],
   "source": [
    "\"{0.value:0.2f}{0.unit:unicode}\".format(raw_seeing)"
   ]
  },
  {
   "cell_type": "code",
   "execution_count": null,
   "metadata": {
    "collapsed": true
   },
   "outputs": [],
   "source": [
    "np.sqrt(sigma**2 - ref_sigma**2)"
   ]
  },
  {
   "cell_type": "code",
   "execution_count": null,
   "metadata": {
    "collapsed": true
   },
   "outputs": [],
   "source": [
    "def_mask = ['Z02', 'Z03', 'Z04']\n",
    "mask = ['Z04', 'Z10']\n",
    "def_mask.extend(mask)\n",
    "mask = list(set(def_mask))\n",
    "mask"
   ]
  },
  {
   "cell_type": "code",
   "execution_count": null,
   "metadata": {
    "collapsed": true
   },
   "outputs": [],
   "source": [
    "f = ZernikeVector()"
   ]
  },
  {
   "cell_type": "code",
   "execution_count": null,
   "metadata": {
    "collapsed": true
   },
   "outputs": [],
   "source": [
    "mmirs.telescope.bending_forces(zv=f)"
   ]
  },
  {
   "cell_type": "code",
   "execution_count": null,
   "metadata": {
    "collapsed": true
   },
   "outputs": [],
   "source": [
    "z = ZernikeVector(Z07=500*u.nm)\n",
    "z.plot_map()\n",
    "plt.show()"
   ]
  },
  {
   "cell_type": "code",
   "execution_count": null,
   "metadata": {
    "collapsed": true
   },
   "outputs": [],
   "source": [
    "-z['Z08']"
   ]
  },
  {
   "cell_type": "code",
   "execution_count": null,
   "metadata": {
    "collapsed": true
   },
   "outputs": [],
   "source": [
    "xc, yc = 245, 270\n",
    "xcen, ycen = 255, 255\n",
    "dx = xc - xcen\n",
    "dy = yc - ycen\n",
    "dr, phi = cart2pol([dx, dy])"
   ]
  },
  {
   "cell_type": "code",
   "execution_count": null,
   "metadata": {
    "collapsed": true
   },
   "outputs": [],
   "source": [
    "derot_phi = phi - u.Quantity(225*u.deg, u.rad).value\n",
    "pol2cart([dr, derot_phi])"
   ]
  },
  {
   "cell_type": "code",
   "execution_count": null,
   "metadata": {
    "collapsed": true
   },
   "outputs": [],
   "source": [
    "u.Quantity(225*u.deg, u.rad).value"
   ]
  },
  {
   "cell_type": "code",
   "execution_count": null,
   "metadata": {
    "collapsed": true
   },
   "outputs": [],
   "source": [
    "dx, dy"
   ]
  },
  {
   "cell_type": "code",
   "execution_count": null,
   "metadata": {
    "collapsed": true
   },
   "outputs": [],
   "source": [
    "t = mmirs.telescope\n",
    "zv = ZernikeVector(Z05=1000, Z11=250)\n",
    "force, focus = t.correct_primary(zv)\n",
    "f1 = focus.copy()\n",
    "uforce, ufocus = t.undo_last()\n",
    "print(ufocus)\n",
    "print(f1)\n",
    "assert(ufocus == -1 * f1)"
   ]
  },
  {
   "cell_type": "code",
   "execution_count": null,
   "metadata": {
    "collapsed": true
   },
   "outputs": [],
   "source": [
    "focus.copy()"
   ]
  },
  {
   "cell_type": "code",
   "execution_count": null,
   "metadata": {
    "collapsed": true
   },
   "outputs": [],
   "source": [
    "np.allclose(np.zeros(2), 0.0)"
   ]
  },
  {
   "cell_type": "code",
   "execution_count": null,
   "metadata": {
    "collapsed": true
   },
   "outputs": [],
   "source": [
    "s = \"offset_inc wfs z 200.3\"\n",
    "assert(\"200.3\" in s)"
   ]
  },
  {
   "cell_type": "code",
   "execution_count": null,
   "metadata": {
    "collapsed": true
   },
   "outputs": [],
   "source": [
    "fig, ax = plt.subplots()"
   ]
  },
  {
   "cell_type": "code",
   "execution_count": null,
   "metadata": {
    "collapsed": true
   },
   "outputs": [],
   "source": [
    "ax.imshow(results['data'], cmap=cm.Greys)\n",
    "fig.savefig(\"test.png\")"
   ]
  },
  {
   "cell_type": "code",
   "execution_count": null,
   "metadata": {
    "collapsed": true
   },
   "outputs": [],
   "source": [
    "a = fig.axes[0]"
   ]
  },
  {
   "cell_type": "code",
   "execution_count": null,
   "metadata": {
    "collapsed": true
   },
   "outputs": [],
   "source": [
    "fig.show()"
   ]
  },
  {
   "cell_type": "code",
   "execution_count": null,
   "metadata": {
    "collapsed": true
   },
   "outputs": [],
   "source": [
    "\"{0:0.0f}\".format((550 * u.nm))"
   ]
  },
  {
   "cell_type": "code",
   "execution_count": null,
   "metadata": {
    "collapsed": true
   },
   "outputs": [],
   "source": [
    "x, y, r, p, ph = zvec.phase_map(n=100)\n",
    "i = np.argsort(x)"
   ]
  },
  {
   "cell_type": "code",
   "execution_count": null,
   "metadata": {
    "collapsed": true
   },
   "outputs": [],
   "source": [
    "from plotly.offline import download_plotlyjs, init_notebook_mode, plot, iplot\n",
    "import plotly.graph_objs as go\n",
    "init_notebook_mode(connected=True)"
   ]
  },
  {
   "cell_type": "code",
   "execution_count": null,
   "metadata": {
    "collapsed": true
   },
   "outputs": [],
   "source": [
    "data = [go.Heatmap(z=np.array(ph[i]), x=x[i], y=y[i], colorscale='RdBu')]\n",
    "layout = go.Layout(title=\"test\")\n",
    "fig = go.Figure(data=data, layout=layout)\n",
    "plot(fig, filename=\"blah\")"
   ]
  },
  {
   "cell_type": "code",
   "execution_count": null,
   "metadata": {
    "collapsed": true
   },
   "outputs": [],
   "source": [
    "np.min(ph)"
   ]
  },
  {
   "cell_type": "code",
   "execution_count": null,
   "metadata": {
    "collapsed": true
   },
   "outputs": [],
   "source": [
    "0.119 * 5.4*3/20"
   ]
  },
  {
   "cell_type": "code",
   "execution_count": null,
   "metadata": {
    "collapsed": true
   },
   "outputs": [],
   "source": [
    "if 'HOME' in os.environ:\n",
    "    print('y')"
   ]
  },
  {
   "cell_type": "code",
   "execution_count": null,
   "metadata": {
    "collapsed": true
   },
   "outputs": [],
   "source": [
    "np.zeros((512, 512)).shape"
   ]
  },
  {
   "cell_type": "code",
   "execution_count": null,
   "metadata": {
    "collapsed": true
   },
   "outputs": [],
   "source": [
    "zv = ZernikeVector()"
   ]
  },
  {
   "cell_type": "code",
   "execution_count": null,
   "metadata": {
    "collapsed": true
   },
   "outputs": [],
   "source": [
    "zv.plot_map()"
   ]
  },
  {
   "cell_type": "code",
   "execution_count": null,
   "metadata": {
    "collapsed": true
   },
   "outputs": [],
   "source": [
    "t = MMT()\n",
    "zv = ZernikeVector(Z05=1000, Z11=250)\n",
    "force, focus = t.calculate_primary_corrections(zv)"
   ]
  },
  {
   "cell_type": "code",
   "execution_count": null,
   "metadata": {
    "collapsed": true
   },
   "outputs": [],
   "source": [
    "lforce, lfocus = t.correct_primary(force, focus)"
   ]
  },
  {
   "cell_type": "code",
   "execution_count": null,
   "metadata": {
    "collapsed": true
   },
   "outputs": [],
   "source": [
    "uforce, ufocus = t.undo_last()"
   ]
  },
  {
   "cell_type": "code",
   "execution_count": null,
   "metadata": {
    "collapsed": true
   },
   "outputs": [],
   "source": [
    "focus, lfocus, ufocus"
   ]
  },
  {
   "cell_type": "code",
   "execution_count": null,
   "metadata": {
    "collapsed": true
   },
   "outputs": [],
   "source": [
    "newf9 = WFSFactory(wfs=\"newf9\")"
   ]
  },
  {
   "cell_type": "code",
   "execution_count": null,
   "metadata": {
    "collapsed": true
   },
   "outputs": [],
   "source": [
    "newf9.modes['blue']['reference']"
   ]
  },
  {
   "cell_type": "code",
   "execution_count": null,
   "metadata": {
    "collapsed": true
   },
   "outputs": [],
   "source": [
    "x = newf9.modes['blue']['reference']['apertures']['xcentroid'] + newf9.modes['blue']['reference']['xcen']"
   ]
  },
  {
   "cell_type": "code",
   "execution_count": null,
   "metadata": {
    "collapsed": true
   },
   "outputs": [],
   "source": [
    "y = newf9.modes['blue']['reference']['apertures']['ycentroid'] + newf9.modes['blue']['reference']['ycen']"
   ]
  },
  {
   "cell_type": "code",
   "execution_count": null,
   "metadata": {
    "collapsed": true
   },
   "outputs": [],
   "source": [
    "arr = np.array((x.data, y.data)).transpose()"
   ]
  },
  {
   "cell_type": "code",
   "execution_count": null,
   "metadata": {
    "collapsed": true
   },
   "outputs": [],
   "source": [
    "np.savetxt(\"blah.txt\", arr, fmt=\"%.3f\")"
   ]
  },
  {
   "cell_type": "code",
   "execution_count": null,
   "metadata": {
    "collapsed": true
   },
   "outputs": [],
   "source": [
    "np.savetxt?"
   ]
  },
  {
   "cell_type": "code",
   "execution_count": null,
   "metadata": {
    "collapsed": true
   },
   "outputs": [],
   "source": []
  },
  {
   "cell_type": "code",
   "execution_count": null,
   "metadata": {
    "collapsed": true
   },
   "outputs": [],
   "source": [
    "x, y = 405, 445\n",
    "xnew, ynew = 438, 469\n",
    "xref, yref = 433, 431\n",
    "pixsize = 0.09639\n",
    "\n",
    "rot = u.Quantity(-225 * u.deg, u.rad).value\n",
    "\n",
    "dx = x - xref\n",
    "dy = y - yref\n",
    "\n",
    "dr, phi = cart2pol([dx, dy])\n",
    "\n",
    "derot_phi = phi - rot\n",
    "\n",
    "az, el = pol2cart([dr, derot_phi])\n",
    "print(az, el)"
   ]
  },
  {
   "cell_type": "code",
   "execution_count": null,
   "metadata": {
    "collapsed": true
   },
   "outputs": [],
   "source": [
    "x, y = 405, 445\n",
    "xnew, ynew = 438, 469\n",
    "xref, yref = 433, 431\n",
    "pixsize = 0.09639\n",
    "\n",
    "rot = u.Quantity(-225 * u.deg, u.rad).value\n",
    "\n",
    "dx = 1 * (x - xref)\n",
    "dy = 1 * (y - yref)\n",
    "\n",
    "dr, phi = cart2pol([dx, dy])\n",
    "\n",
    "derot_phi = phi - rot\n",
    "\n",
    "az, el = pol2cart([dr, derot_phi])\n",
    "print(az, el)"
   ]
  },
  {
   "cell_type": "code",
   "execution_count": null,
   "metadata": {
    "collapsed": true
   },
   "outputs": [],
   "source": [
    "azcorr = 3.0 / pixsize\n",
    "elcorr = 0.9 / pixsize\n",
    "drc, phic = cart2pol([azcorr, elcorr])\n",
    "derot_phic = phic + rot\n",
    "az_pix, el_pix = pol2cart([drc, derot_phic])\n",
    "print(az_pix, el_pix)"
   ]
  },
  {
   "cell_type": "code",
   "execution_count": null,
   "metadata": {
    "collapsed": true
   },
   "outputs": [],
   "source": [
    "a = np.arange(5)"
   ]
  },
  {
   "cell_type": "code",
   "execution_count": null,
   "metadata": {
    "collapsed": true
   },
   "outputs": [],
   "source": [
    "np.delete(a, 2)"
   ]
  },
  {
   "cell_type": "code",
   "execution_count": null,
   "metadata": {
    "collapsed": true
   },
   "outputs": [],
   "source": []
  }
 ],
 "metadata": {
  "kernelspec": {
   "display_name": "Python 3",
   "language": "python",
   "name": "python3"
  },
  "language_info": {
   "codemirror_mode": {
    "name": "ipython",
    "version": 3
   },
   "file_extension": ".py",
   "mimetype": "text/x-python",
   "name": "python",
   "nbconvert_exporter": "python",
   "pygments_lexer": "ipython3",
   "version": "3.6.2"
  }
 },
 "nbformat": 4,
 "nbformat_minor": 2
}
