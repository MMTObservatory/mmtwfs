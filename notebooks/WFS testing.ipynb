{
 "cells": [
  {
   "cell_type": "code",
   "execution_count": 1,
   "metadata": {},
   "outputs": [
    {
     "name": "stderr",
     "output_type": "stream",
     "text": [
      "WARNING: AstropyDeprecationWarning: Composition of model classes will be removed in 4.0 (but composition of model instances is not affected) [astropy.modeling.core]\n",
      "WARNING: AstropyDeprecationWarning: astropy.extern.six will be removed in 4.0, use the six module directly if it is still needed [astropy.extern.six]\n"
     ]
    }
   ],
   "source": [
    "import time\n",
    "import os\n",
    "import sys\n",
    "import numpy as np\n",
    "#import ipympl\n",
    "import matplotlib\n",
    "matplotlib.use('nbagg')\n",
    "#from matplotlib import style\n",
    "#style.use('ggplot')\n",
    "import matplotlib.pyplot as plt\n",
    "\n",
    "import astropy.units as u\n",
    "from astropy import stats\n",
    "from astropy.io import fits\n",
    "from mmtwfs.wfs import *\n",
    "from mmtwfs.zernike import ZernikeVector\n",
    "from mmtwfs.telescope import MMT"
   ]
  },
  {
   "cell_type": "code",
   "execution_count": 2,
   "metadata": {},
   "outputs": [],
   "source": [
    "%load_ext autoreload\n",
    "%autoreload 2"
   ]
  },
  {
   "cell_type": "code",
   "execution_count": 3,
   "metadata": {},
   "outputs": [],
   "source": [
    "def wfsrun(wfs, mode, file):\n",
    "    r = wfs.measure_slopes(file, mode=mode, plot=True)\n",
    "    return r"
   ]
  },
  {
   "cell_type": "markdown",
   "metadata": {},
   "source": [
    "# Binospec Dev Section"
   ]
  },
  {
   "cell_type": "code",
   "execution_count": null,
   "metadata": {},
   "outputs": [],
   "source": [
    "bino = WFSFactory(wfs=\"binospec\")"
   ]
  },
  {
   "cell_type": "code",
   "execution_count": null,
   "metadata": {},
   "outputs": [],
   "source": [
    "#%%prun\n",
    "bino_file = \"/Volumes/LaCie 8TB/wfsdat/20180208/wfs_ff_cal_img_2018.0208.074052.fits\"\n",
    "#bino_file = \"/Users/tim/MMT/mmtwfs/mmtwfs/data/test_data/wfs_ff_cal_img_2017.1113.111402.fits\"\n",
    "#bino_file = \"/Volumes/LaCie 8TB/wfsdat/20180209/wfs_ff_cal_img_2018.0209.114054.fits\"\n",
    "#bino_file = \"/Volumes/LaCie 8TB/wfsdat/20180210/wfs_ff_cal_img_2018.0210.095719.fits\"\n",
    "#bino_file = \"/Volumes/LaCie 8TB/wfsdat/20180210/wfs_ff_cal_img_2018.0210.102615.fits\"\n",
    "#bino_file = \"/Volumes/LaCie 8TB/wfsdat/20180604/wfs_ff_cal_img_2018.0604.052401.fits\"\n",
    "results = bino.measure_slopes(bino_file, mode=\"binospec\", plot=True)\n",
    "results['figures']['slopes'].show()"
   ]
  },
  {
   "cell_type": "code",
   "execution_count": null,
   "metadata": {},
   "outputs": [],
   "source": [
    "mask = mk_wfs_mask(results['data'][106:406,100:400], outfile=\"/Users/tim/MMT/mmtwfs/mmtwfs/data/ref_images/bino_mask.fits\")"
   ]
  },
  {
   "cell_type": "code",
   "execution_count": null,
   "metadata": {},
   "outputs": [],
   "source": [
    "refaps = bino.modes['binospec']['reference'].masked_apertures\n",
    "fig, ax = plt.subplots()\n",
    "fit = results['grid_fit']\n",
    "refx = refaps['xcentroid'] * (fit['scale'] + refaps['xcentroid'] * fit['xcoma']) + fit['xcen']\n",
    "refy = refaps['ycentroid'] * (fit['scale'] + refaps['ycentroid'] * fit['ycoma']) + fit['ycen']\n",
    "x, y = results['apertures'].positions.transpose()[0], results['apertures'].positions.transpose()[1]\n",
    "spacing = 0.5*(results['xspacing'] + results['yspacing'])\n",
    "ax.scatter(refx, refy)\n",
    "ax.set_aspect('equal')\n",
    "ax.scatter(x, y)\n",
    "ax.set_xlim(0, 512)\n",
    "ax.set_ylim(0, 512)\n",
    "fig.show()\n",
    "\n",
    "results['grid_fit']"
   ]
  },
  {
   "cell_type": "code",
   "execution_count": null,
   "metadata": {},
   "outputs": [],
   "source": [
    "#%%prun\n",
    "zresults = bino.fit_wavefront(results, plot=True)\n",
    "zvec = zresults['zernike']\n",
    "print(zresults['residual_rms'])\n",
    "#zvec.normalize()\n",
    "print(zvec.pretty_print())\n",
    "#print(zvec)\n",
    "zresults['resid_plot'].show()"
   ]
  },
  {
   "cell_type": "code",
   "execution_count": null,
   "metadata": {},
   "outputs": [],
   "source": [
    "zvec.fringe_bar_chart().show()"
   ]
  },
  {
   "cell_type": "code",
   "execution_count": null,
   "metadata": {},
   "outputs": [],
   "source": [
    "zvec.bar_chart(last_mode=22).show()"
   ]
  },
  {
   "cell_type": "code",
   "execution_count": null,
   "metadata": {},
   "outputs": [],
   "source": [
    "zvec.plot_map().show()"
   ]
  },
  {
   "cell_type": "code",
   "execution_count": null,
   "metadata": {},
   "outputs": [],
   "source": [
    "zv = ZernikeVector(Z38=100)\n",
    "ft, m1c, zv_masked = bino.telescope.calculate_primary_corrections(zvec, mask=['Z22'])\n",
    "bino.telescope.to_rcell(ft, filename=\"null_forces\")"
   ]
  },
  {
   "cell_type": "code",
   "execution_count": null,
   "metadata": {},
   "outputs": [],
   "source": [
    "forces, m1focus, zv_masked = bino.calculate_primary(zvec, threshold=0.25*zresults['residual_rms'])"
   ]
  },
  {
   "cell_type": "code",
   "execution_count": null,
   "metadata": {},
   "outputs": [],
   "source": [
    "bino.modes['binospec']['reference']"
   ]
  },
  {
   "cell_type": "code",
   "execution_count": null,
   "metadata": {},
   "outputs": [],
   "source": [
    "bino.modes['binospec']['reference']['xspacing'], bino.modes['binospec']['reference']['yspacing']"
   ]
  },
  {
   "cell_type": "code",
   "execution_count": null,
   "metadata": {},
   "outputs": [],
   "source": [
    "bino.modes['binospec']['reference']['figure'].show()"
   ]
  },
  {
   "cell_type": "markdown",
   "metadata": {},
   "source": [
    "# MMIRS Dev Section"
   ]
  },
  {
   "cell_type": "code",
   "execution_count": 4,
   "metadata": {},
   "outputs": [],
   "source": [
    "mmirs = WFSFactory(wfs=\"mmirs\")"
   ]
  },
  {
   "cell_type": "code",
   "execution_count": 11,
   "metadata": {},
   "outputs": [
    {
     "data": {
      "application/javascript": [
       "/* Put everything inside the global mpl namespace */\n",
       "window.mpl = {};\n",
       "\n",
       "\n",
       "mpl.get_websocket_type = function() {\n",
       "    if (typeof(WebSocket) !== 'undefined') {\n",
       "        return WebSocket;\n",
       "    } else if (typeof(MozWebSocket) !== 'undefined') {\n",
       "        return MozWebSocket;\n",
       "    } else {\n",
       "        alert('Your browser does not have WebSocket support. ' +\n",
       "              'Please try Chrome, Safari or Firefox ≥ 6. ' +\n",
       "              'Firefox 4 and 5 are also supported but you ' +\n",
       "              'have to enable WebSockets in about:config.');\n",
       "    };\n",
       "}\n",
       "\n",
       "mpl.figure = function(figure_id, websocket, ondownload, parent_element) {\n",
       "    this.id = figure_id;\n",
       "\n",
       "    this.ws = websocket;\n",
       "\n",
       "    this.supports_binary = (this.ws.binaryType != undefined);\n",
       "\n",
       "    if (!this.supports_binary) {\n",
       "        var warnings = document.getElementById(\"mpl-warnings\");\n",
       "        if (warnings) {\n",
       "            warnings.style.display = 'block';\n",
       "            warnings.textContent = (\n",
       "                \"This browser does not support binary websocket messages. \" +\n",
       "                    \"Performance may be slow.\");\n",
       "        }\n",
       "    }\n",
       "\n",
       "    this.imageObj = new Image();\n",
       "\n",
       "    this.context = undefined;\n",
       "    this.message = undefined;\n",
       "    this.canvas = undefined;\n",
       "    this.rubberband_canvas = undefined;\n",
       "    this.rubberband_context = undefined;\n",
       "    this.format_dropdown = undefined;\n",
       "\n",
       "    this.image_mode = 'full';\n",
       "\n",
       "    this.root = $('<div/>');\n",
       "    this._root_extra_style(this.root)\n",
       "    this.root.attr('style', 'display: inline-block');\n",
       "\n",
       "    $(parent_element).append(this.root);\n",
       "\n",
       "    this._init_header(this);\n",
       "    this._init_canvas(this);\n",
       "    this._init_toolbar(this);\n",
       "\n",
       "    var fig = this;\n",
       "\n",
       "    this.waiting = false;\n",
       "\n",
       "    this.ws.onopen =  function () {\n",
       "            fig.send_message(\"supports_binary\", {value: fig.supports_binary});\n",
       "            fig.send_message(\"send_image_mode\", {});\n",
       "            if (mpl.ratio != 1) {\n",
       "                fig.send_message(\"set_dpi_ratio\", {'dpi_ratio': mpl.ratio});\n",
       "            }\n",
       "            fig.send_message(\"refresh\", {});\n",
       "        }\n",
       "\n",
       "    this.imageObj.onload = function() {\n",
       "            if (fig.image_mode == 'full') {\n",
       "                // Full images could contain transparency (where diff images\n",
       "                // almost always do), so we need to clear the canvas so that\n",
       "                // there is no ghosting.\n",
       "                fig.context.clearRect(0, 0, fig.canvas.width, fig.canvas.height);\n",
       "            }\n",
       "            fig.context.drawImage(fig.imageObj, 0, 0);\n",
       "        };\n",
       "\n",
       "    this.imageObj.onunload = function() {\n",
       "        fig.ws.close();\n",
       "    }\n",
       "\n",
       "    this.ws.onmessage = this._make_on_message_function(this);\n",
       "\n",
       "    this.ondownload = ondownload;\n",
       "}\n",
       "\n",
       "mpl.figure.prototype._init_header = function() {\n",
       "    var titlebar = $(\n",
       "        '<div class=\"ui-dialog-titlebar ui-widget-header ui-corner-all ' +\n",
       "        'ui-helper-clearfix\"/>');\n",
       "    var titletext = $(\n",
       "        '<div class=\"ui-dialog-title\" style=\"width: 100%; ' +\n",
       "        'text-align: center; padding: 3px;\"/>');\n",
       "    titlebar.append(titletext)\n",
       "    this.root.append(titlebar);\n",
       "    this.header = titletext[0];\n",
       "}\n",
       "\n",
       "\n",
       "\n",
       "mpl.figure.prototype._canvas_extra_style = function(canvas_div) {\n",
       "\n",
       "}\n",
       "\n",
       "\n",
       "mpl.figure.prototype._root_extra_style = function(canvas_div) {\n",
       "\n",
       "}\n",
       "\n",
       "mpl.figure.prototype._init_canvas = function() {\n",
       "    var fig = this;\n",
       "\n",
       "    var canvas_div = $('<div/>');\n",
       "\n",
       "    canvas_div.attr('style', 'position: relative; clear: both; outline: 0');\n",
       "\n",
       "    function canvas_keyboard_event(event) {\n",
       "        return fig.key_event(event, event['data']);\n",
       "    }\n",
       "\n",
       "    canvas_div.keydown('key_press', canvas_keyboard_event);\n",
       "    canvas_div.keyup('key_release', canvas_keyboard_event);\n",
       "    this.canvas_div = canvas_div\n",
       "    this._canvas_extra_style(canvas_div)\n",
       "    this.root.append(canvas_div);\n",
       "\n",
       "    var canvas = $('<canvas/>');\n",
       "    canvas.addClass('mpl-canvas');\n",
       "    canvas.attr('style', \"left: 0; top: 0; z-index: 0; outline: 0\")\n",
       "\n",
       "    this.canvas = canvas[0];\n",
       "    this.context = canvas[0].getContext(\"2d\");\n",
       "\n",
       "    var backingStore = this.context.backingStorePixelRatio ||\n",
       "\tthis.context.webkitBackingStorePixelRatio ||\n",
       "\tthis.context.mozBackingStorePixelRatio ||\n",
       "\tthis.context.msBackingStorePixelRatio ||\n",
       "\tthis.context.oBackingStorePixelRatio ||\n",
       "\tthis.context.backingStorePixelRatio || 1;\n",
       "\n",
       "    mpl.ratio = (window.devicePixelRatio || 1) / backingStore;\n",
       "\n",
       "    var rubberband = $('<canvas/>');\n",
       "    rubberband.attr('style', \"position: absolute; left: 0; top: 0; z-index: 1;\")\n",
       "\n",
       "    var pass_mouse_events = true;\n",
       "\n",
       "    canvas_div.resizable({\n",
       "        start: function(event, ui) {\n",
       "            pass_mouse_events = false;\n",
       "        },\n",
       "        resize: function(event, ui) {\n",
       "            fig.request_resize(ui.size.width, ui.size.height);\n",
       "        },\n",
       "        stop: function(event, ui) {\n",
       "            pass_mouse_events = true;\n",
       "            fig.request_resize(ui.size.width, ui.size.height);\n",
       "        },\n",
       "    });\n",
       "\n",
       "    function mouse_event_fn(event) {\n",
       "        if (pass_mouse_events)\n",
       "            return fig.mouse_event(event, event['data']);\n",
       "    }\n",
       "\n",
       "    rubberband.mousedown('button_press', mouse_event_fn);\n",
       "    rubberband.mouseup('button_release', mouse_event_fn);\n",
       "    // Throttle sequential mouse events to 1 every 20ms.\n",
       "    rubberband.mousemove('motion_notify', mouse_event_fn);\n",
       "\n",
       "    rubberband.mouseenter('figure_enter', mouse_event_fn);\n",
       "    rubberband.mouseleave('figure_leave', mouse_event_fn);\n",
       "\n",
       "    canvas_div.on(\"wheel\", function (event) {\n",
       "        event = event.originalEvent;\n",
       "        event['data'] = 'scroll'\n",
       "        if (event.deltaY < 0) {\n",
       "            event.step = 1;\n",
       "        } else {\n",
       "            event.step = -1;\n",
       "        }\n",
       "        mouse_event_fn(event);\n",
       "    });\n",
       "\n",
       "    canvas_div.append(canvas);\n",
       "    canvas_div.append(rubberband);\n",
       "\n",
       "    this.rubberband = rubberband;\n",
       "    this.rubberband_canvas = rubberband[0];\n",
       "    this.rubberband_context = rubberband[0].getContext(\"2d\");\n",
       "    this.rubberband_context.strokeStyle = \"#000000\";\n",
       "\n",
       "    this._resize_canvas = function(width, height) {\n",
       "        // Keep the size of the canvas, canvas container, and rubber band\n",
       "        // canvas in synch.\n",
       "        canvas_div.css('width', width)\n",
       "        canvas_div.css('height', height)\n",
       "\n",
       "        canvas.attr('width', width * mpl.ratio);\n",
       "        canvas.attr('height', height * mpl.ratio);\n",
       "        canvas.attr('style', 'width: ' + width + 'px; height: ' + height + 'px;');\n",
       "\n",
       "        rubberband.attr('width', width);\n",
       "        rubberband.attr('height', height);\n",
       "    }\n",
       "\n",
       "    // Set the figure to an initial 600x600px, this will subsequently be updated\n",
       "    // upon first draw.\n",
       "    this._resize_canvas(600, 600);\n",
       "\n",
       "    // Disable right mouse context menu.\n",
       "    $(this.rubberband_canvas).bind(\"contextmenu\",function(e){\n",
       "        return false;\n",
       "    });\n",
       "\n",
       "    function set_focus () {\n",
       "        canvas.focus();\n",
       "        canvas_div.focus();\n",
       "    }\n",
       "\n",
       "    window.setTimeout(set_focus, 100);\n",
       "}\n",
       "\n",
       "mpl.figure.prototype._init_toolbar = function() {\n",
       "    var fig = this;\n",
       "\n",
       "    var nav_element = $('<div/>');\n",
       "    nav_element.attr('style', 'width: 100%');\n",
       "    this.root.append(nav_element);\n",
       "\n",
       "    // Define a callback function for later on.\n",
       "    function toolbar_event(event) {\n",
       "        return fig.toolbar_button_onclick(event['data']);\n",
       "    }\n",
       "    function toolbar_mouse_event(event) {\n",
       "        return fig.toolbar_button_onmouseover(event['data']);\n",
       "    }\n",
       "\n",
       "    for(var toolbar_ind in mpl.toolbar_items) {\n",
       "        var name = mpl.toolbar_items[toolbar_ind][0];\n",
       "        var tooltip = mpl.toolbar_items[toolbar_ind][1];\n",
       "        var image = mpl.toolbar_items[toolbar_ind][2];\n",
       "        var method_name = mpl.toolbar_items[toolbar_ind][3];\n",
       "\n",
       "        if (!name) {\n",
       "            // put a spacer in here.\n",
       "            continue;\n",
       "        }\n",
       "        var button = $('<button/>');\n",
       "        button.addClass('ui-button ui-widget ui-state-default ui-corner-all ' +\n",
       "                        'ui-button-icon-only');\n",
       "        button.attr('role', 'button');\n",
       "        button.attr('aria-disabled', 'false');\n",
       "        button.click(method_name, toolbar_event);\n",
       "        button.mouseover(tooltip, toolbar_mouse_event);\n",
       "\n",
       "        var icon_img = $('<span/>');\n",
       "        icon_img.addClass('ui-button-icon-primary ui-icon');\n",
       "        icon_img.addClass(image);\n",
       "        icon_img.addClass('ui-corner-all');\n",
       "\n",
       "        var tooltip_span = $('<span/>');\n",
       "        tooltip_span.addClass('ui-button-text');\n",
       "        tooltip_span.html(tooltip);\n",
       "\n",
       "        button.append(icon_img);\n",
       "        button.append(tooltip_span);\n",
       "\n",
       "        nav_element.append(button);\n",
       "    }\n",
       "\n",
       "    var fmt_picker_span = $('<span/>');\n",
       "\n",
       "    var fmt_picker = $('<select/>');\n",
       "    fmt_picker.addClass('mpl-toolbar-option ui-widget ui-widget-content');\n",
       "    fmt_picker_span.append(fmt_picker);\n",
       "    nav_element.append(fmt_picker_span);\n",
       "    this.format_dropdown = fmt_picker[0];\n",
       "\n",
       "    for (var ind in mpl.extensions) {\n",
       "        var fmt = mpl.extensions[ind];\n",
       "        var option = $(\n",
       "            '<option/>', {selected: fmt === mpl.default_extension}).html(fmt);\n",
       "        fmt_picker.append(option);\n",
       "    }\n",
       "\n",
       "    // Add hover states to the ui-buttons\n",
       "    $( \".ui-button\" ).hover(\n",
       "        function() { $(this).addClass(\"ui-state-hover\");},\n",
       "        function() { $(this).removeClass(\"ui-state-hover\");}\n",
       "    );\n",
       "\n",
       "    var status_bar = $('<span class=\"mpl-message\"/>');\n",
       "    nav_element.append(status_bar);\n",
       "    this.message = status_bar[0];\n",
       "}\n",
       "\n",
       "mpl.figure.prototype.request_resize = function(x_pixels, y_pixels) {\n",
       "    // Request matplotlib to resize the figure. Matplotlib will then trigger a resize in the client,\n",
       "    // which will in turn request a refresh of the image.\n",
       "    this.send_message('resize', {'width': x_pixels, 'height': y_pixels});\n",
       "}\n",
       "\n",
       "mpl.figure.prototype.send_message = function(type, properties) {\n",
       "    properties['type'] = type;\n",
       "    properties['figure_id'] = this.id;\n",
       "    this.ws.send(JSON.stringify(properties));\n",
       "}\n",
       "\n",
       "mpl.figure.prototype.send_draw_message = function() {\n",
       "    if (!this.waiting) {\n",
       "        this.waiting = true;\n",
       "        this.ws.send(JSON.stringify({type: \"draw\", figure_id: this.id}));\n",
       "    }\n",
       "}\n",
       "\n",
       "\n",
       "mpl.figure.prototype.handle_save = function(fig, msg) {\n",
       "    var format_dropdown = fig.format_dropdown;\n",
       "    var format = format_dropdown.options[format_dropdown.selectedIndex].value;\n",
       "    fig.ondownload(fig, format);\n",
       "}\n",
       "\n",
       "\n",
       "mpl.figure.prototype.handle_resize = function(fig, msg) {\n",
       "    var size = msg['size'];\n",
       "    if (size[0] != fig.canvas.width || size[1] != fig.canvas.height) {\n",
       "        fig._resize_canvas(size[0], size[1]);\n",
       "        fig.send_message(\"refresh\", {});\n",
       "    };\n",
       "}\n",
       "\n",
       "mpl.figure.prototype.handle_rubberband = function(fig, msg) {\n",
       "    var x0 = msg['x0'] / mpl.ratio;\n",
       "    var y0 = (fig.canvas.height - msg['y0']) / mpl.ratio;\n",
       "    var x1 = msg['x1'] / mpl.ratio;\n",
       "    var y1 = (fig.canvas.height - msg['y1']) / mpl.ratio;\n",
       "    x0 = Math.floor(x0) + 0.5;\n",
       "    y0 = Math.floor(y0) + 0.5;\n",
       "    x1 = Math.floor(x1) + 0.5;\n",
       "    y1 = Math.floor(y1) + 0.5;\n",
       "    var min_x = Math.min(x0, x1);\n",
       "    var min_y = Math.min(y0, y1);\n",
       "    var width = Math.abs(x1 - x0);\n",
       "    var height = Math.abs(y1 - y0);\n",
       "\n",
       "    fig.rubberband_context.clearRect(\n",
       "        0, 0, fig.canvas.width, fig.canvas.height);\n",
       "\n",
       "    fig.rubberband_context.strokeRect(min_x, min_y, width, height);\n",
       "}\n",
       "\n",
       "mpl.figure.prototype.handle_figure_label = function(fig, msg) {\n",
       "    // Updates the figure title.\n",
       "    fig.header.textContent = msg['label'];\n",
       "}\n",
       "\n",
       "mpl.figure.prototype.handle_cursor = function(fig, msg) {\n",
       "    var cursor = msg['cursor'];\n",
       "    switch(cursor)\n",
       "    {\n",
       "    case 0:\n",
       "        cursor = 'pointer';\n",
       "        break;\n",
       "    case 1:\n",
       "        cursor = 'default';\n",
       "        break;\n",
       "    case 2:\n",
       "        cursor = 'crosshair';\n",
       "        break;\n",
       "    case 3:\n",
       "        cursor = 'move';\n",
       "        break;\n",
       "    }\n",
       "    fig.rubberband_canvas.style.cursor = cursor;\n",
       "}\n",
       "\n",
       "mpl.figure.prototype.handle_message = function(fig, msg) {\n",
       "    fig.message.textContent = msg['message'];\n",
       "}\n",
       "\n",
       "mpl.figure.prototype.handle_draw = function(fig, msg) {\n",
       "    // Request the server to send over a new figure.\n",
       "    fig.send_draw_message();\n",
       "}\n",
       "\n",
       "mpl.figure.prototype.handle_image_mode = function(fig, msg) {\n",
       "    fig.image_mode = msg['mode'];\n",
       "}\n",
       "\n",
       "mpl.figure.prototype.updated_canvas_event = function() {\n",
       "    // Called whenever the canvas gets updated.\n",
       "    this.send_message(\"ack\", {});\n",
       "}\n",
       "\n",
       "// A function to construct a web socket function for onmessage handling.\n",
       "// Called in the figure constructor.\n",
       "mpl.figure.prototype._make_on_message_function = function(fig) {\n",
       "    return function socket_on_message(evt) {\n",
       "        if (evt.data instanceof Blob) {\n",
       "            /* FIXME: We get \"Resource interpreted as Image but\n",
       "             * transferred with MIME type text/plain:\" errors on\n",
       "             * Chrome.  But how to set the MIME type?  It doesn't seem\n",
       "             * to be part of the websocket stream */\n",
       "            evt.data.type = \"image/png\";\n",
       "\n",
       "            /* Free the memory for the previous frames */\n",
       "            if (fig.imageObj.src) {\n",
       "                (window.URL || window.webkitURL).revokeObjectURL(\n",
       "                    fig.imageObj.src);\n",
       "            }\n",
       "\n",
       "            fig.imageObj.src = (window.URL || window.webkitURL).createObjectURL(\n",
       "                evt.data);\n",
       "            fig.updated_canvas_event();\n",
       "            fig.waiting = false;\n",
       "            return;\n",
       "        }\n",
       "        else if (typeof evt.data === 'string' && evt.data.slice(0, 21) == \"data:image/png;base64\") {\n",
       "            fig.imageObj.src = evt.data;\n",
       "            fig.updated_canvas_event();\n",
       "            fig.waiting = false;\n",
       "            return;\n",
       "        }\n",
       "\n",
       "        var msg = JSON.parse(evt.data);\n",
       "        var msg_type = msg['type'];\n",
       "\n",
       "        // Call the  \"handle_{type}\" callback, which takes\n",
       "        // the figure and JSON message as its only arguments.\n",
       "        try {\n",
       "            var callback = fig[\"handle_\" + msg_type];\n",
       "        } catch (e) {\n",
       "            console.log(\"No handler for the '\" + msg_type + \"' message type: \", msg);\n",
       "            return;\n",
       "        }\n",
       "\n",
       "        if (callback) {\n",
       "            try {\n",
       "                // console.log(\"Handling '\" + msg_type + \"' message: \", msg);\n",
       "                callback(fig, msg);\n",
       "            } catch (e) {\n",
       "                console.log(\"Exception inside the 'handler_\" + msg_type + \"' callback:\", e, e.stack, msg);\n",
       "            }\n",
       "        }\n",
       "    };\n",
       "}\n",
       "\n",
       "// from http://stackoverflow.com/questions/1114465/getting-mouse-location-in-canvas\n",
       "mpl.findpos = function(e) {\n",
       "    //this section is from http://www.quirksmode.org/js/events_properties.html\n",
       "    var targ;\n",
       "    if (!e)\n",
       "        e = window.event;\n",
       "    if (e.target)\n",
       "        targ = e.target;\n",
       "    else if (e.srcElement)\n",
       "        targ = e.srcElement;\n",
       "    if (targ.nodeType == 3) // defeat Safari bug\n",
       "        targ = targ.parentNode;\n",
       "\n",
       "    // jQuery normalizes the pageX and pageY\n",
       "    // pageX,Y are the mouse positions relative to the document\n",
       "    // offset() returns the position of the element relative to the document\n",
       "    var x = e.pageX - $(targ).offset().left;\n",
       "    var y = e.pageY - $(targ).offset().top;\n",
       "\n",
       "    return {\"x\": x, \"y\": y};\n",
       "};\n",
       "\n",
       "/*\n",
       " * return a copy of an object with only non-object keys\n",
       " * we need this to avoid circular references\n",
       " * http://stackoverflow.com/a/24161582/3208463\n",
       " */\n",
       "function simpleKeys (original) {\n",
       "  return Object.keys(original).reduce(function (obj, key) {\n",
       "    if (typeof original[key] !== 'object')\n",
       "        obj[key] = original[key]\n",
       "    return obj;\n",
       "  }, {});\n",
       "}\n",
       "\n",
       "mpl.figure.prototype.mouse_event = function(event, name) {\n",
       "    var canvas_pos = mpl.findpos(event)\n",
       "\n",
       "    if (name === 'button_press')\n",
       "    {\n",
       "        this.canvas.focus();\n",
       "        this.canvas_div.focus();\n",
       "    }\n",
       "\n",
       "    var x = canvas_pos.x * mpl.ratio;\n",
       "    var y = canvas_pos.y * mpl.ratio;\n",
       "\n",
       "    this.send_message(name, {x: x, y: y, button: event.button,\n",
       "                             step: event.step,\n",
       "                             guiEvent: simpleKeys(event)});\n",
       "\n",
       "    /* This prevents the web browser from automatically changing to\n",
       "     * the text insertion cursor when the button is pressed.  We want\n",
       "     * to control all of the cursor setting manually through the\n",
       "     * 'cursor' event from matplotlib */\n",
       "    event.preventDefault();\n",
       "    return false;\n",
       "}\n",
       "\n",
       "mpl.figure.prototype._key_event_extra = function(event, name) {\n",
       "    // Handle any extra behaviour associated with a key event\n",
       "}\n",
       "\n",
       "mpl.figure.prototype.key_event = function(event, name) {\n",
       "\n",
       "    // Prevent repeat events\n",
       "    if (name == 'key_press')\n",
       "    {\n",
       "        if (event.which === this._key)\n",
       "            return;\n",
       "        else\n",
       "            this._key = event.which;\n",
       "    }\n",
       "    if (name == 'key_release')\n",
       "        this._key = null;\n",
       "\n",
       "    var value = '';\n",
       "    if (event.ctrlKey && event.which != 17)\n",
       "        value += \"ctrl+\";\n",
       "    if (event.altKey && event.which != 18)\n",
       "        value += \"alt+\";\n",
       "    if (event.shiftKey && event.which != 16)\n",
       "        value += \"shift+\";\n",
       "\n",
       "    value += 'k';\n",
       "    value += event.which.toString();\n",
       "\n",
       "    this._key_event_extra(event, name);\n",
       "\n",
       "    this.send_message(name, {key: value,\n",
       "                             guiEvent: simpleKeys(event)});\n",
       "    return false;\n",
       "}\n",
       "\n",
       "mpl.figure.prototype.toolbar_button_onclick = function(name) {\n",
       "    if (name == 'download') {\n",
       "        this.handle_save(this, null);\n",
       "    } else {\n",
       "        this.send_message(\"toolbar_button\", {name: name});\n",
       "    }\n",
       "};\n",
       "\n",
       "mpl.figure.prototype.toolbar_button_onmouseover = function(tooltip) {\n",
       "    this.message.textContent = tooltip;\n",
       "};\n",
       "mpl.toolbar_items = [[\"Home\", \"Reset original view\", \"fa fa-home icon-home\", \"home\"], [\"Back\", \"Back to previous view\", \"fa fa-arrow-left icon-arrow-left\", \"back\"], [\"Forward\", \"Forward to next view\", \"fa fa-arrow-right icon-arrow-right\", \"forward\"], [\"\", \"\", \"\", \"\"], [\"Pan\", \"Pan axes with left mouse, zoom with right\", \"fa fa-arrows icon-move\", \"pan\"], [\"Zoom\", \"Zoom to rectangle\", \"fa fa-square-o icon-check-empty\", \"zoom\"], [\"\", \"\", \"\", \"\"], [\"Download\", \"Download plot\", \"fa fa-floppy-o icon-save\", \"download\"]];\n",
       "\n",
       "mpl.extensions = [\"eps\", \"jpeg\", \"pdf\", \"png\", \"ps\", \"raw\", \"svg\", \"tif\"];\n",
       "\n",
       "mpl.default_extension = \"png\";var comm_websocket_adapter = function(comm) {\n",
       "    // Create a \"websocket\"-like object which calls the given IPython comm\n",
       "    // object with the appropriate methods. Currently this is a non binary\n",
       "    // socket, so there is still some room for performance tuning.\n",
       "    var ws = {};\n",
       "\n",
       "    ws.close = function() {\n",
       "        comm.close()\n",
       "    };\n",
       "    ws.send = function(m) {\n",
       "        //console.log('sending', m);\n",
       "        comm.send(m);\n",
       "    };\n",
       "    // Register the callback with on_msg.\n",
       "    comm.on_msg(function(msg) {\n",
       "        //console.log('receiving', msg['content']['data'], msg);\n",
       "        // Pass the mpl event to the overridden (by mpl) onmessage function.\n",
       "        ws.onmessage(msg['content']['data'])\n",
       "    });\n",
       "    return ws;\n",
       "}\n",
       "\n",
       "mpl.mpl_figure_comm = function(comm, msg) {\n",
       "    // This is the function which gets called when the mpl process\n",
       "    // starts-up an IPython Comm through the \"matplotlib\" channel.\n",
       "\n",
       "    var id = msg.content.data.id;\n",
       "    // Get hold of the div created by the display call when the Comm\n",
       "    // socket was opened in Python.\n",
       "    var element = $(\"#\" + id);\n",
       "    var ws_proxy = comm_websocket_adapter(comm)\n",
       "\n",
       "    function ondownload(figure, format) {\n",
       "        window.open(figure.imageObj.src);\n",
       "    }\n",
       "\n",
       "    var fig = new mpl.figure(id, ws_proxy,\n",
       "                           ondownload,\n",
       "                           element.get(0));\n",
       "\n",
       "    // Call onopen now - mpl needs it, as it is assuming we've passed it a real\n",
       "    // web socket which is closed, not our websocket->open comm proxy.\n",
       "    ws_proxy.onopen();\n",
       "\n",
       "    fig.parent_element = element.get(0);\n",
       "    fig.cell_info = mpl.find_output_cell(\"<div id='\" + id + \"'></div>\");\n",
       "    if (!fig.cell_info) {\n",
       "        console.error(\"Failed to find cell for figure\", id, fig);\n",
       "        return;\n",
       "    }\n",
       "\n",
       "    var output_index = fig.cell_info[2]\n",
       "    var cell = fig.cell_info[0];\n",
       "\n",
       "};\n",
       "\n",
       "mpl.figure.prototype.handle_close = function(fig, msg) {\n",
       "    var width = fig.canvas.width/mpl.ratio\n",
       "    fig.root.unbind('remove')\n",
       "\n",
       "    // Update the output cell to use the data from the current canvas.\n",
       "    fig.push_to_output();\n",
       "    var dataURL = fig.canvas.toDataURL();\n",
       "    // Re-enable the keyboard manager in IPython - without this line, in FF,\n",
       "    // the notebook keyboard shortcuts fail.\n",
       "    IPython.keyboard_manager.enable()\n",
       "    $(fig.parent_element).html('<img src=\"' + dataURL + '\" width=\"' + width + '\">');\n",
       "    fig.close_ws(fig, msg);\n",
       "}\n",
       "\n",
       "mpl.figure.prototype.close_ws = function(fig, msg){\n",
       "    fig.send_message('closing', msg);\n",
       "    // fig.ws.close()\n",
       "}\n",
       "\n",
       "mpl.figure.prototype.push_to_output = function(remove_interactive) {\n",
       "    // Turn the data on the canvas into data in the output cell.\n",
       "    var width = this.canvas.width/mpl.ratio\n",
       "    var dataURL = this.canvas.toDataURL();\n",
       "    this.cell_info[1]['text/html'] = '<img src=\"' + dataURL + '\" width=\"' + width + '\">';\n",
       "}\n",
       "\n",
       "mpl.figure.prototype.updated_canvas_event = function() {\n",
       "    // Tell IPython that the notebook contents must change.\n",
       "    IPython.notebook.set_dirty(true);\n",
       "    this.send_message(\"ack\", {});\n",
       "    var fig = this;\n",
       "    // Wait a second, then push the new image to the DOM so\n",
       "    // that it is saved nicely (might be nice to debounce this).\n",
       "    setTimeout(function () { fig.push_to_output() }, 1000);\n",
       "}\n",
       "\n",
       "mpl.figure.prototype._init_toolbar = function() {\n",
       "    var fig = this;\n",
       "\n",
       "    var nav_element = $('<div/>');\n",
       "    nav_element.attr('style', 'width: 100%');\n",
       "    this.root.append(nav_element);\n",
       "\n",
       "    // Define a callback function for later on.\n",
       "    function toolbar_event(event) {\n",
       "        return fig.toolbar_button_onclick(event['data']);\n",
       "    }\n",
       "    function toolbar_mouse_event(event) {\n",
       "        return fig.toolbar_button_onmouseover(event['data']);\n",
       "    }\n",
       "\n",
       "    for(var toolbar_ind in mpl.toolbar_items){\n",
       "        var name = mpl.toolbar_items[toolbar_ind][0];\n",
       "        var tooltip = mpl.toolbar_items[toolbar_ind][1];\n",
       "        var image = mpl.toolbar_items[toolbar_ind][2];\n",
       "        var method_name = mpl.toolbar_items[toolbar_ind][3];\n",
       "\n",
       "        if (!name) { continue; };\n",
       "\n",
       "        var button = $('<button class=\"btn btn-default\" href=\"#\" title=\"' + name + '\"><i class=\"fa ' + image + ' fa-lg\"></i></button>');\n",
       "        button.click(method_name, toolbar_event);\n",
       "        button.mouseover(tooltip, toolbar_mouse_event);\n",
       "        nav_element.append(button);\n",
       "    }\n",
       "\n",
       "    // Add the status bar.\n",
       "    var status_bar = $('<span class=\"mpl-message\" style=\"text-align:right; float: right;\"/>');\n",
       "    nav_element.append(status_bar);\n",
       "    this.message = status_bar[0];\n",
       "\n",
       "    // Add the close button to the window.\n",
       "    var buttongrp = $('<div class=\"btn-group inline pull-right\"></div>');\n",
       "    var button = $('<button class=\"btn btn-mini btn-primary\" href=\"#\" title=\"Stop Interaction\"><i class=\"fa fa-power-off icon-remove icon-large\"></i></button>');\n",
       "    button.click(function (evt) { fig.handle_close(fig, {}); } );\n",
       "    button.mouseover('Stop Interaction', toolbar_mouse_event);\n",
       "    buttongrp.append(button);\n",
       "    var titlebar = this.root.find($('.ui-dialog-titlebar'));\n",
       "    titlebar.prepend(buttongrp);\n",
       "}\n",
       "\n",
       "mpl.figure.prototype._root_extra_style = function(el){\n",
       "    var fig = this\n",
       "    el.on(\"remove\", function(){\n",
       "\tfig.close_ws(fig, {});\n",
       "    });\n",
       "}\n",
       "\n",
       "mpl.figure.prototype._canvas_extra_style = function(el){\n",
       "    // this is important to make the div 'focusable\n",
       "    el.attr('tabindex', 0)\n",
       "    // reach out to IPython and tell the keyboard manager to turn it's self\n",
       "    // off when our div gets focus\n",
       "\n",
       "    // location in version 3\n",
       "    if (IPython.notebook.keyboard_manager) {\n",
       "        IPython.notebook.keyboard_manager.register_events(el);\n",
       "    }\n",
       "    else {\n",
       "        // location in version 2\n",
       "        IPython.keyboard_manager.register_events(el);\n",
       "    }\n",
       "\n",
       "}\n",
       "\n",
       "mpl.figure.prototype._key_event_extra = function(event, name) {\n",
       "    var manager = IPython.notebook.keyboard_manager;\n",
       "    if (!manager)\n",
       "        manager = IPython.keyboard_manager;\n",
       "\n",
       "    // Check for shift+enter\n",
       "    if (event.shiftKey && event.which == 13) {\n",
       "        this.canvas_div.blur();\n",
       "        event.shiftKey = false;\n",
       "        // Send a \"J\" for go to next cell\n",
       "        event.which = 74;\n",
       "        event.keyCode = 74;\n",
       "        manager.command_mode();\n",
       "        manager.handle_keydown(event);\n",
       "    }\n",
       "}\n",
       "\n",
       "mpl.figure.prototype.handle_save = function(fig, msg) {\n",
       "    fig.ondownload(fig, null);\n",
       "}\n",
       "\n",
       "\n",
       "mpl.find_output_cell = function(html_output) {\n",
       "    // Return the cell and output element which can be found *uniquely* in the notebook.\n",
       "    // Note - this is a bit hacky, but it is done because the \"notebook_saving.Notebook\"\n",
       "    // IPython event is triggered only after the cells have been serialised, which for\n",
       "    // our purposes (turning an active figure into a static one), is too late.\n",
       "    var cells = IPython.notebook.get_cells();\n",
       "    var ncells = cells.length;\n",
       "    for (var i=0; i<ncells; i++) {\n",
       "        var cell = cells[i];\n",
       "        if (cell.cell_type === 'code'){\n",
       "            for (var j=0; j<cell.output_area.outputs.length; j++) {\n",
       "                var data = cell.output_area.outputs[j];\n",
       "                if (data.data) {\n",
       "                    // IPython >= 3 moved mimebundle to data attribute of output\n",
       "                    data = data.data;\n",
       "                }\n",
       "                if (data['text/html'] == html_output) {\n",
       "                    return [cell, data, j];\n",
       "                }\n",
       "            }\n",
       "        }\n",
       "    }\n",
       "}\n",
       "\n",
       "// Register the function which deals with the matplotlib target/channel.\n",
       "// The kernel may be null if the page has been refreshed.\n",
       "if (IPython.notebook.kernel != null) {\n",
       "    IPython.notebook.kernel.comm_manager.register_target('matplotlib', mpl.mpl_figure_comm);\n",
       "}\n"
      ],
      "text/plain": [
       "<IPython.core.display.Javascript object>"
      ]
     },
     "metadata": {},
     "output_type": "display_data"
    },
    {
     "data": {
      "text/html": [
       "<img src=\"data:image/png;base64,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\" width=\"639.9999861283738\">"
      ],
      "text/plain": [
       "<IPython.core.display.HTML object>"
      ]
     },
     "metadata": {},
     "output_type": "display_data"
    }
   ],
   "source": [
    "plt.close('all')\n",
    "mmirs_file = \"/Users/tim/MMT/wfsdat/20181120/mmirs_wfs_%04d.fits\" % 157\n",
    "mmirs_file = \"/Volumes/LaCie 8TB/wfsdat/20181221/mmirs_wfs_%04d.fits\" % 61\n",
    "#mmirs_file = \"/Volumes/LaCie 8TB/wfsdat/20171013/mmirs_wfs_rename_%04d.fits\" % 566  # pacman = 565,566\n",
    "mmirs_file = \"/Users/tim/MMT/mmtwfs/mmtwfs/data/test_data/mmirs_wfs_0150.fits\"\n",
    "#mmirs_file = \"/Volumes/LaCie 8TB/wfsdat/20180511/mmirs_wfs_0275.fits\"\n",
    "#mmirs_file = \"/Users/tim/MMT/wfsdat/test/mmirs_wfs_0192.fits\"\n",
    "#mmirs_file = \"/Volumes/LaCie 8TB/wfsdat/20181121/mmirs_wfs_0111.fits\"\n",
    "#mmirs_file = \"/Users/tim/MMT/wfsdat/20181120/mmirs_wfs_0193.fits\"\n",
    "results = mmirs.measure_slopes(mmirs_file, plot=True)\n",
    "results['figures']['slopes'].show()"
   ]
  },
  {
   "cell_type": "code",
   "execution_count": null,
   "metadata": {},
   "outputs": [],
   "source": [
    "mask = mk_wfs_mask(results['data'][75:395,85:425], outfile=\"/Users/tim/MMT/mmtwfs/mmtwfs/data/ref_images/mmirs_mask.fits\")\n"
   ]
  },
  {
   "cell_type": "code",
   "execution_count": null,
   "metadata": {},
   "outputs": [],
   "source": [
    "hdu = fits.PrimaryHDU(results['data'])\n",
    "hdu.writeto('data.fits', overwrite=True)\n",
    "mmirs.telescope.obscuration"
   ]
  },
  {
   "cell_type": "code",
   "execution_count": null,
   "metadata": {
    "scrolled": false
   },
   "outputs": [],
   "source": [
    "zresults = mmirs.fit_wavefront(results, plot=True)\n",
    "zvec = zresults['zernike']\n",
    "print(zresults['residual_rms'])\n",
    "#zvec.normalize()\n",
    "print(zvec.pretty_print())\n",
    "zresults['resid_plot'].show()"
   ]
  },
  {
   "cell_type": "code",
   "execution_count": null,
   "metadata": {},
   "outputs": [],
   "source": [
    "zresults['zernike'].fringe_bar_chart().show()"
   ]
  },
  {
   "cell_type": "code",
   "execution_count": null,
   "metadata": {},
   "outputs": [],
   "source": [
    "fig, ax = plt.subplots()\n",
    "norm = wfs_norm(results['data'])\n",
    "ax.imshow(results['data'], cmap='Greys', origin='lower', norm=norm, interpolation='None')\n",
    "mmirs.modes['mmirs1']['reference'].photapers.plot(color='red', lw=1.5, alpha=0.1, ax=ax)\n",
    "plt.show()"
   ]
  },
  {
   "cell_type": "code",
   "execution_count": null,
   "metadata": {},
   "outputs": [],
   "source": [
    "plt.close('all')"
   ]
  },
  {
   "cell_type": "code",
   "execution_count": null,
   "metadata": {},
   "outputs": [],
   "source": [
    "refaps = mmirs.modes['mmirs1']['reference'].masked_apertures\n",
    "fig, ax = plt.subplots()\n",
    "fit = results['grid_fit']\n",
    "refx = refaps['xcentroid'] * (fit['scale'] + refaps['xcentroid'] * fit['xcoma']) + fit['xcen']\n",
    "refy = refaps['ycentroid'] * (fit['scale'] + refaps['ycentroid'] * fit['ycoma']) + fit['ycen']\n",
    "x, y = results['apertures'].positions.transpose()[0], results['apertures'].positions.transpose()[1]\n",
    "spacing = 0.5*(results['xspacing'] + results['yspacing'])\n",
    "ax.scatter(refx, refy)\n",
    "ax.set_aspect('equal')\n",
    "ax.scatter(x, y)\n",
    "ax.set_xlim(0, 512)\n",
    "ax.set_ylim(0, 512)\n",
    "fig.show()\n",
    "\n",
    "results['grid_fit']"
   ]
  },
  {
   "cell_type": "code",
   "execution_count": null,
   "metadata": {},
   "outputs": [],
   "source": [
    "zresults['zernike'].bar_chart(last_mode=21).show()"
   ]
  },
  {
   "cell_type": "code",
   "execution_count": null,
   "metadata": {},
   "outputs": [],
   "source": [
    "psf, pfig = mmirs.telescope.psf(zresults['zernike'].copy())\n",
    "pfig.show()"
   ]
  },
  {
   "cell_type": "code",
   "execution_count": null,
   "metadata": {},
   "outputs": [],
   "source": [
    "print(mmirs.modes['mmirs1']['reference']['fwhm'])\n",
    "\n",
    "spot = mmirs.modes['mmirs1']['reference']['spot']\n",
    "model = Gaussian2D(amplitude=spot.max(), x_mean=spot.shape[1]/2, y_mean=spot.shape[0]/2) + Polynomial2D(degree=0)\n",
    "#model = Gaussian2D(amplitude=spot.max(), x_mean=spot.shape[1]/2, y_mean=spot.shape[0]/2)\n",
    "fitter = LevMarLSQFitter()\n",
    "y, x = np.mgrid[:spot.shape[0], :spot.shape[1]]\n",
    "fit = fitter(model, x, y, spot)\n",
    "fig, ax = plt.subplots()\n",
    "ax.imshow(mmirs.modes['mmirs1']['reference']['spot'] - fit(x, y))\n",
    "fig.show()"
   ]
  },
  {
   "cell_type": "code",
   "execution_count": null,
   "metadata": {},
   "outputs": [],
   "source": [
    "mmirs.modes['mmirs1']['reference']['figure'].show()\n",
    "mmirs.modes['mmirs1']['reference']['xspacing'], mmirs.modes['mmirs1']['reference']['yspacing']"
   ]
  },
  {
   "cell_type": "code",
   "execution_count": null,
   "metadata": {},
   "outputs": [],
   "source": [
    "zplot = zvec.copy()\n",
    "zplot.ignore('Z02')\n",
    "zplot.ignore('Z03')\n",
    "mfig = zplot.plot_map()\n",
    "mfig.show()\n",
    "zplot.peak2valley"
   ]
  },
  {
   "cell_type": "code",
   "execution_count": null,
   "metadata": {},
   "outputs": [],
   "source": [
    "zvec.units = u.nm\n",
    "f = zvec.bar_chart(residual=zresults['residual_rms'])\n",
    "f.set_size_inches(9, 5)\n",
    "\n",
    "f.show()"
   ]
  },
  {
   "cell_type": "code",
   "execution_count": null,
   "metadata": {},
   "outputs": [],
   "source": [
    "plt.close(f)"
   ]
  },
  {
   "cell_type": "code",
   "execution_count": null,
   "metadata": {},
   "outputs": [],
   "source": [
    "torig = mmirs.telescope.bending_forces(zvec)\n",
    "torig.show_in_notebook()"
   ]
  },
  {
   "cell_type": "code",
   "execution_count": null,
   "metadata": {},
   "outputs": [],
   "source": [
    "force_fig = mmirs.telescope.plot_forces(torig)\n",
    "force_fig.show()"
   ]
  },
  {
   "cell_type": "code",
   "execution_count": null,
   "metadata": {},
   "outputs": [],
   "source": [
    "t, m1foc = mmirs.correct_primary(zv=zvec)\n",
    "print(m1foc)\n",
    "t.show_in_notebook()"
   ]
  },
  {
   "cell_type": "code",
   "execution_count": null,
   "metadata": {},
   "outputs": [],
   "source": [
    "new_force_fig = mmirs.telescope.plot_forces(t)\n",
    "new_force_fig.show()"
   ]
  },
  {
   "cell_type": "code",
   "execution_count": null,
   "metadata": {},
   "outputs": [],
   "source": [
    "zpsf = ZernikeVector()\n",
    "psf, psf_fig = mmirs.telescope.psf(zpsf, plot=True)\n",
    "psf_fig.set_size_inches(4.0, 4.0)\n",
    "psf_fig.show()"
   ]
  },
  {
   "cell_type": "markdown",
   "metadata": {},
   "source": [
    "# F/9 Dev Section"
   ]
  },
  {
   "cell_type": "code",
   "execution_count": null,
   "metadata": {},
   "outputs": [],
   "source": [
    "plt.close('all')\n",
    "f9wfs = WFSFactory(wfs=\"newf9\")\n",
    "#f9wfs = WFSFactory(wfs=\"newf9\", pup_offset=[0.0, 0.0])"
   ]
  },
  {
   "cell_type": "code",
   "execution_count": null,
   "metadata": {},
   "outputs": [],
   "source": [
    "f9wfs.modes['blue']['reference'].figure.show()"
   ]
  },
  {
   "cell_type": "code",
   "execution_count": null,
   "metadata": {},
   "outputs": [],
   "source": [
    "baseline1_files = [\"f9wfs_20180131-191734.fits\", \"f9wfs_20180131-191925.fits\", \"f9wfs_20180131-192131.fits\"]\n",
    "baseline2_files = [\"f9wfs_20180131-192350.fits\", \"f9wfs_20180131-192541.fits\", \"f9wfs_20180131-192731.fits\"]\n",
    "baseline3_files = [\n",
    "    \"f9wfs_20180131-192927.fits\", \"f9wfs_20180131-193109.fits\", \n",
    "    \"f9wfs_20180131-193325.fits\", \"f9wfs_20180131-193509.fits\"\n",
    "]"
   ]
  },
  {
   "cell_type": "code",
   "execution_count": null,
   "metadata": {},
   "outputs": [],
   "source": [
    "plt.close('all')\n",
    "#f9_file = \"/Volumes/LaCie 8TB/wfsdat/20180201/\" + baseline2_files[0]\n",
    "f9_file = \"/Users/tim/MMT/mmtwfs/mmtwfs/data/test_data/test_newf9.fits\"\n",
    "#f9_file = \"/Users/tim/MMT/wfsdat/test/f9wfs_20180908-220524.fits\"\n",
    "#f9_file = \"/Users/tim/MMT/wfsdat/20190104/f9wfs_20190104-020657.fits\"\n",
    "results = f9wfs.measure_slopes(f9_file, 'spol', plot=True)\n",
    "#plt.scatter(refaps['xcentroid']+results['xcen'], refaps['ycentroid']+results['ycen'])\n",
    "results['figures']['slopes'].show()\n",
    "# 265 258\n",
    "# ref 240 259.5"
   ]
  },
  {
   "cell_type": "code",
   "execution_count": null,
   "metadata": {},
   "outputs": [],
   "source": [
    "zresults = f9wfs.fit_wavefront(results, plot=True)\n",
    "print(zresults['residual_rms'])\n",
    "print(zresults['zernike'].pretty_print())\n",
    "zresults['resid_plot'].show()"
   ]
  },
  {
   "cell_type": "code",
   "execution_count": null,
   "metadata": {},
   "outputs": [],
   "source": [
    "results['ref_mask']"
   ]
  },
  {
   "cell_type": "code",
   "execution_count": null,
   "metadata": {},
   "outputs": [],
   "source": [
    "f9wfs.modes['blue']['reference'].xcen"
   ]
  },
  {
   "cell_type": "code",
   "execution_count": null,
   "metadata": {},
   "outputs": [],
   "source": [
    "refaps = f9wfs.modes['blue']['reference'].masked_apertures\n",
    "fig, ax = plt.subplots()\n",
    "fit = results['grid_fit']\n",
    "refx = refaps['xcentroid'] * (fit['scale'] + refaps['xcentroid'] * fit['xcoma']) + fit['xcen']\n",
    "refy = refaps['ycentroid'] * (fit['scale'] + refaps['ycentroid'] * fit['ycoma']) + fit['ycen']\n",
    "x, y = results['apertures'].positions.transpose()[0], results['apertures'].positions.transpose()[1]\n",
    "spacing = 0.5*(results['xspacing'] + results['yspacing'])\n",
    "ax.scatter(refx, refy)\n",
    "ax.set_aspect('equal')\n",
    "ax.scatter(x, y)\n",
    "ax.set_xlim(0, 845)\n",
    "ax.set_ylim(0, 845)\n",
    "fig.show()\n",
    "fit['scale']"
   ]
  },
  {
   "cell_type": "code",
   "execution_count": null,
   "metadata": {},
   "outputs": [],
   "source": [
    "data = check_wfsdata(f9_file)\n",
    "x = np.arange(data.shape[1])\n",
    "y = np.arange(data.shape[0])\n",
    "bx = np.arange(data.shape[1]+1)\n",
    "by = np.arange(data.shape[0]+1)\n",
    "apertures = results['spots']\n",
    "\n",
    "# bin the spot positions along the axes and use Lomb-Scargle to measure the grid spacing in each direction\n",
    "xsum = np.histogram(apertures['xcentroid'], bins=bx)\n",
    "ysum = np.histogram(apertures['ycentroid'], bins=by)\n",
    "\n",
    "k = np.linspace(10.0, 50., 500)  # look for spacings from 5 to 50 pixels (plenty of range)\n",
    "f = 1.0 / k  # convert spacing to frequency\n",
    "xp = stats.LombScargle(x, xsum[0]).power(f)\n",
    "yp = stats.LombScargle(y, ysum[0]).power(f)\n",
    "plt.plot(k, yp)\n",
    "plt.show()"
   ]
  },
  {
   "cell_type": "code",
   "execution_count": null,
   "metadata": {},
   "outputs": [],
   "source": [
    "zresults['zernike'].bar_chart(last_mode=21).show()"
   ]
  },
  {
   "cell_type": "code",
   "execution_count": null,
   "metadata": {},
   "outputs": [],
   "source": [
    "zresults['zernike'].fringe_bar_chart().show()"
   ]
  },
  {
   "cell_type": "code",
   "execution_count": null,
   "metadata": {},
   "outputs": [],
   "source": [
    "spots = {'xcentroid': x, 'ycentroid': y}\n",
    "from scipy import optimize\n",
    "\n",
    "def match_apertures(refx, refy, spotx, spoty):\n",
    "    tot_dist = 0.0\n",
    "    refs = np.array([refx, refy])\n",
    "    spots = np.array([spotx, spoty])\n",
    "    match = np.empty(len(refx))\n",
    "    max_r = spacing / 2.\n",
    "    for i in np.arange(len(refx)):\n",
    "        dists = np.sqrt( (spots[0]-refs[0][i])**2 + (spots[1]-refs[1][i])**2 )\n",
    "        tot_dist += np.min(dists)\n",
    "    return tot_dist\n",
    "\n",
    "def fit_apertures(pars, ref, spots):\n",
    "    xc = pars[0]\n",
    "    yc = pars[1]\n",
    "    xscale = pars[2]\n",
    "    yscale = pars[3]\n",
    "    xcoma = pars[4]\n",
    "    ycoma = pars[5]\n",
    "    refx = ref['xcentroid'] * (xscale + ref['xcentroid'] * xcoma) + xc\n",
    "    refy = ref['ycentroid'] * (yscale + ref['ycentroid'] * ycoma) + yc\n",
    "    spotx = spots['xcentroid']\n",
    "    spoty = spots['ycentroid']\n",
    "    dist = match_apertures(refx, refy, spotx, spoty)\n",
    "    return dist"
   ]
  },
  {
   "cell_type": "code",
   "execution_count": null,
   "metadata": {},
   "outputs": [],
   "source": [
    "#%%timeit\n",
    "args = (refaps, spots)\n",
    "pars = (results['xcen'], results['ycen'], 1.0, 1.0, 0.0, 0.0)\n",
    "bounds = (\n",
    "    (results['xcen']-50, results['xcen']+50), \n",
    "    (results['ycen']-50, results['ycen']+50),\n",
    "    (0.8, 1.2),\n",
    "    (0.8, 1.2),\n",
    "    (-0.1, 0.1),\n",
    "    (-0.1, 0.1)\n",
    ")\n",
    "res = optimize.minimize(fit_apertures, pars, args=args, bounds=bounds)\n",
    "res"
   ]
  },
  {
   "cell_type": "code",
   "execution_count": null,
   "metadata": {},
   "outputs": [],
   "source": [
    "fig, ax = plt.subplots()\n",
    "refx, refy = refaps['xcentroid'], refaps['ycentroid']\n",
    "refx = refx * (res['x'][2] + refx*res['x'][4]) + res['x'][0]\n",
    "refy = refy * (res['x'][3] + refy*res['x'][5]) + res['x'][1]\n",
    "x, y = results['apertures'].positions.transpose()[0], results['apertures'].positions.transpose()[1]\n",
    "ax.scatter(refx, refy)\n",
    "ax.set_aspect('equal')\n",
    "ax.scatter(x, y)\n",
    "ax.set_xlim(0, 845)\n",
    "ax.set_ylim(0, 845)\n",
    "fig.show()"
   ]
  },
  {
   "cell_type": "code",
   "execution_count": null,
   "metadata": {},
   "outputs": [],
   "source": [
    "print(f9wfs.modes['blue']['reference']['xcen'], f9wfs.modes['blue']['reference']['ycen'])\n",
    "print(f9wfs.modes['blue']['reference']['xspacing'], f9wfs.modes['blue']['reference']['yspacing'])\n",
    "f9wfs.modes['blue']['reference'].keys()"
   ]
  },
  {
   "cell_type": "code",
   "execution_count": null,
   "metadata": {},
   "outputs": [],
   "source": [
    "zv = zresults['zernike']\n",
    "print(zv.rms)\n",
    "zv.ignore('Z02')\n",
    "zv.ignore('Z03')\n",
    "f = zv.plot_map()\n",
    "f.show()"
   ]
  },
  {
   "cell_type": "code",
   "execution_count": null,
   "metadata": {},
   "outputs": [],
   "source": [
    "bc = zv.bar_chart(residual=zresults['residual_rms'])\n",
    "bc.show()"
   ]
  },
  {
   "cell_type": "code",
   "execution_count": null,
   "metadata": {},
   "outputs": [],
   "source": [
    "psf, psf_fig = f9wfs.telescope.psf(zv, fov=1.0)\n",
    "psf_fig.show()"
   ]
  },
  {
   "cell_type": "code",
   "execution_count": null,
   "metadata": {},
   "outputs": [],
   "source": [
    "plt.close('all')"
   ]
  },
  {
   "cell_type": "markdown",
   "metadata": {},
   "source": [
    "# F/5 Dev Section"
   ]
  },
  {
   "cell_type": "code",
   "execution_count": null,
   "metadata": {},
   "outputs": [],
   "source": [
    "f5wfs = WFSFactory(wfs=\"f5\")"
   ]
  },
  {
   "cell_type": "code",
   "execution_count": null,
   "metadata": {},
   "outputs": [],
   "source": [
    "#%%prun\n",
    "plt.close('all')\n",
    "f5_file = \"/Volumes/LaCie 8TB/wfsdat/20181022/manual_wfs_0003.fits\"\n",
    "f5_file = \"/Users/tim/MMT/mmtwfs/mmtwfs/data/test_data/auto_wfs_0037_ave.fits\"\n",
    "#f5_file = \"/Users/tim/MMT/wfsdat/20180923/manual_wfs_0009.fits\"\n",
    "results = f5wfs.measure_slopes(f5_file, 'hecto', plot=True)\n",
    "results['figures']['slopes'].show()"
   ]
  },
  {
   "cell_type": "code",
   "execution_count": null,
   "metadata": {},
   "outputs": [],
   "source": [
    "f5wfs.calculate_recenter(results), results['xcen'], results['ycen']"
   ]
  },
  {
   "cell_type": "code",
   "execution_count": null,
   "metadata": {},
   "outputs": [],
   "source": [
    "#%%prun\n",
    "zresults = f5wfs.fit_wavefront(results, plot=True)\n",
    "zv = zresults['zernike']\n",
    "print(zv.pretty_print())\n",
    "print(zv.rms)\n",
    "zresults['resid_plot'].show()"
   ]
  },
  {
   "cell_type": "code",
   "execution_count": null,
   "metadata": {},
   "outputs": [],
   "source": [
    "zf = zv.fringe_bar_chart()\n",
    "zf.show()\n",
    "zresults['residual_rms']"
   ]
  },
  {
   "cell_type": "code",
   "execution_count": null,
   "metadata": {},
   "outputs": [],
   "source": [
    "bc = zv.bar_chart(last_mode=21)\n",
    "bc.show()"
   ]
  },
  {
   "cell_type": "code",
   "execution_count": null,
   "metadata": {},
   "outputs": [],
   "source": [
    "zv.denormalize()\n",
    "zv"
   ]
  },
  {
   "cell_type": "code",
   "execution_count": null,
   "metadata": {
    "slideshow": {
     "slide_type": "-"
    }
   },
   "outputs": [],
   "source": [
    "refaps = f5wfs.modes['hecto']['reference'].masked_apertures\n",
    "fig, ax = plt.subplots()\n",
    "fit = results['grid_fit']\n",
    "refx = refaps['xcentroid'] * (fit['scale'] + refaps['xcentroid'] * fit['xcoma']) + fit['xcen']\n",
    "refy = refaps['ycentroid'] * (fit['scale'] + refaps['ycentroid'] * fit['ycoma']) + fit['ycen']\n",
    "x, y = results['apertures'].positions.transpose()[0], results['apertures'].positions.transpose()[1]\n",
    "spacing = 0.5*(results['xspacing'] + results['yspacing'])\n",
    "ax.scatter(refx, refy)\n",
    "ax.set_aspect('equal')\n",
    "ax.scatter(x, y)\n",
    "ax.set_xlim(0, 512)\n",
    "ax.set_ylim(0, 512)\n",
    "fig.show()"
   ]
  },
  {
   "cell_type": "code",
   "execution_count": null,
   "metadata": {},
   "outputs": [],
   "source": [
    "zv.ignore('Z02')\n",
    "zv.ignore('Z03')\n",
    "zv.ignore('Z04')\n",
    "print(zv.rms)\n",
    "mf = zv.plot_map()\n",
    "mf.show()"
   ]
  },
  {
   "cell_type": "code",
   "execution_count": null,
   "metadata": {},
   "outputs": [],
   "source": [
    "t, m1foc = f5wfs.telescope.calculate_primary_corrections(zresults['zernike'])"
   ]
  },
  {
   "cell_type": "code",
   "execution_count": null,
   "metadata": {},
   "outputs": [],
   "source": [
    "fplot = f5wfs.telescope.plot_forces(t, m1focus=m1foc)\n",
    "fplot.show()"
   ]
  },
  {
   "cell_type": "code",
   "execution_count": null,
   "metadata": {},
   "outputs": [],
   "source": [
    "t.show_in_notebook()"
   ]
  },
  {
   "cell_type": "markdown",
   "metadata": {},
   "source": [
    "# Scratch space"
   ]
  },
  {
   "cell_type": "code",
   "execution_count": null,
   "metadata": {},
   "outputs": [],
   "source": [
    "cen = center_pupil(subt, pup, plot=True)\n",
    "print(cen)\n",
    "plt.show()"
   ]
  },
  {
   "cell_type": "code",
   "execution_count": null,
   "metadata": {},
   "outputs": [],
   "source": [
    "from astropy.io import ascii"
   ]
  },
  {
   "cell_type": "code",
   "execution_count": null,
   "metadata": {},
   "outputs": [],
   "source": [
    "t = f9wfs.telescope\n",
    "m = t.zern_map"
   ]
  },
  {
   "cell_type": "code",
   "execution_count": null,
   "metadata": {},
   "outputs": [],
   "source": [
    "z = np.loadtxt(\"/Users/tim/MMT/wfsdat/20170110/mmirs_wfs_0375.dao.sub.zrn.cor\")\n",
    "z1 = np.loadtxt(\"/Users/tim/MMT/wfsdat/20170110/mmirs_wfs_0375.dao.av.zrn\")"
   ]
  },
  {
   "cell_type": "code",
   "execution_count": null,
   "metadata": {},
   "outputs": [],
   "source": [
    "sigma = results['fwhm'] * stats.funcs.gaussian_fwhm_to_sigma\n",
    "\n",
    "wave = 650 * u.nm\n",
    "wave = wave.to(u.m).value  # r_0 equation expects meters so convert\n",
    "# calculate the physical size of each aperture.\n",
    "ref = mmirs.modes['mmirs2']['reference']\n",
    "apsize_pix = np.max((ref['xspacing'], ref['yspacing']))\n",
    "d = mmirs.telescope.diameter * apsize_pix / mmirs.pup_size\n",
    "d = d.to(u.m).value  # r_0 equation expects meters so convert\n",
    "\n",
    "# we need to deconvolve the instrumental spot width from the measured one\n",
    "ref_sigma = ref['sigma']\n",
    "if sigma > ref_sigma:\n",
    "    corr_sigma = np.sqrt(sigma**2 - ref_sigma**2)\n",
    "else:\n",
    "    corr_sigma = 0.0\n",
    "corr_sigma *= mmirs.pix_size.to(u.rad).value  # r_0 equation expects radians so convert\n",
    "# this equation relates the motion within a single aperture to the characteristic scale size of the\n",
    "# turbulence, r_0.\n",
    "r_0 = ( 0.179 * (wave**2) * (d**(-1./3.))/corr_sigma**2 )**0.6\n",
    "print(r_0)\n",
    "# this equation relates the turbulence scale size to an expected image FWHM at the given wavelength.\n",
    "raw_seeing = u.rad * 0.98 * wave / r_0\n",
    "raw_seeing = raw_seeing.to(u.arcsec)\n"
   ]
  },
  {
   "cell_type": "code",
   "execution_count": null,
   "metadata": {},
   "outputs": [],
   "source": [
    "t = bino.telescope"
   ]
  },
  {
   "cell_type": "code",
   "execution_count": null,
   "metadata": {},
   "outputs": [],
   "source": [
    "z = ZernikeVector(Z11=-1000*u.nm)\n",
    "z.plot_map()\n",
    "plt.show()"
   ]
  },
  {
   "cell_type": "code",
   "execution_count": null,
   "metadata": {},
   "outputs": [],
   "source": [
    "ft, m1, zv_masked = t.calculate_primary_corrections(z)"
   ]
  },
  {
   "cell_type": "code",
   "execution_count": null,
   "metadata": {},
   "outputs": [],
   "source": [
    "ft['force'].min()"
   ]
  },
  {
   "cell_type": "code",
   "execution_count": null,
   "metadata": {},
   "outputs": [],
   "source": [
    "m1"
   ]
  },
  {
   "cell_type": "code",
   "execution_count": null,
   "metadata": {},
   "outputs": [],
   "source": [
    "derot_phi = phi - u.Quantity(225*u.deg, u.rad).value\n",
    "pol2cart([dr, derot_phi])"
   ]
  },
  {
   "cell_type": "code",
   "execution_count": null,
   "metadata": {},
   "outputs": [],
   "source": [
    "u.Quantity(225*u.deg, u.rad).value"
   ]
  },
  {
   "cell_type": "code",
   "execution_count": null,
   "metadata": {},
   "outputs": [],
   "source": [
    "dx, dy"
   ]
  },
  {
   "cell_type": "code",
   "execution_count": null,
   "metadata": {},
   "outputs": [],
   "source": [
    "t = mmirs.telescope\n",
    "zv = ZernikeVector(Z05=1000, Z11=250)\n",
    "force, focus = t.correct_primary(zv)\n",
    "f1 = focus.copy()\n",
    "uforce, ufocus = t.undo_last()\n",
    "print(ufocus)\n",
    "print(f1)\n",
    "assert(ufocus == -1 * f1)"
   ]
  },
  {
   "cell_type": "code",
   "execution_count": null,
   "metadata": {},
   "outputs": [],
   "source": [
    "focus.copy()"
   ]
  },
  {
   "cell_type": "code",
   "execution_count": null,
   "metadata": {},
   "outputs": [],
   "source": [
    "np.allclose(np.zeros(2), 0.0)"
   ]
  },
  {
   "cell_type": "code",
   "execution_count": null,
   "metadata": {},
   "outputs": [],
   "source": [
    "s = \"offset_inc wfs z 200.3\"\n",
    "assert(\"200.3\" in s)"
   ]
  },
  {
   "cell_type": "code",
   "execution_count": null,
   "metadata": {},
   "outputs": [],
   "source": [
    "fig, ax = plt.subplots()"
   ]
  },
  {
   "cell_type": "code",
   "execution_count": null,
   "metadata": {},
   "outputs": [],
   "source": [
    "ax.imshow(results['data'], cmap=cm.Greys)\n",
    "fig.savefig(\"test.png\")"
   ]
  },
  {
   "cell_type": "code",
   "execution_count": null,
   "metadata": {},
   "outputs": [],
   "source": [
    "a = fig.axes[0]"
   ]
  },
  {
   "cell_type": "code",
   "execution_count": null,
   "metadata": {},
   "outputs": [],
   "source": [
    "fig.show()"
   ]
  },
  {
   "cell_type": "code",
   "execution_count": null,
   "metadata": {},
   "outputs": [],
   "source": [
    "\"{0:0.0f}\".format((550 * u.nm))"
   ]
  },
  {
   "cell_type": "code",
   "execution_count": null,
   "metadata": {},
   "outputs": [],
   "source": [
    "x, y, r, p, ph = zvec.phase_map(n=100)\n",
    "i = np.argsort(x)"
   ]
  },
  {
   "cell_type": "code",
   "execution_count": null,
   "metadata": {},
   "outputs": [],
   "source": [
    "from plotly.offline import download_plotlyjs, init_notebook_mode, plot, iplot\n",
    "import plotly.graph_objs as go\n",
    "init_notebook_mode(connected=True)"
   ]
  },
  {
   "cell_type": "code",
   "execution_count": null,
   "metadata": {},
   "outputs": [],
   "source": [
    "data = [go.Heatmap(z=np.array(ph[i]), x=x[i], y=y[i], colorscale='RdBu')]\n",
    "layout = go.Layout(title=\"test\")\n",
    "fig = go.Figure(data=data, layout=layout)\n",
    "plot(fig, filename=\"blah\")"
   ]
  },
  {
   "cell_type": "code",
   "execution_count": null,
   "metadata": {},
   "outputs": [],
   "source": [
    "np.min(ph)"
   ]
  },
  {
   "cell_type": "code",
   "execution_count": null,
   "metadata": {},
   "outputs": [],
   "source": [
    "0.119 * 5.4*3/20"
   ]
  },
  {
   "cell_type": "code",
   "execution_count": null,
   "metadata": {},
   "outputs": [],
   "source": [
    "if 'HOME' in os.environ:\n",
    "    print('y')"
   ]
  },
  {
   "cell_type": "code",
   "execution_count": null,
   "metadata": {},
   "outputs": [],
   "source": [
    "np.zeros((512, 512)).shape"
   ]
  },
  {
   "cell_type": "code",
   "execution_count": null,
   "metadata": {},
   "outputs": [],
   "source": [
    "zv = ZernikeVector()"
   ]
  },
  {
   "cell_type": "code",
   "execution_count": null,
   "metadata": {},
   "outputs": [],
   "source": [
    "zv.plot_map()"
   ]
  },
  {
   "cell_type": "code",
   "execution_count": null,
   "metadata": {},
   "outputs": [],
   "source": [
    "t = MMT()\n",
    "zv = ZernikeVector(Z05=1000, Z11=250)\n",
    "force, focus = t.calculate_primary_corrections(zv)"
   ]
  },
  {
   "cell_type": "code",
   "execution_count": null,
   "metadata": {},
   "outputs": [],
   "source": [
    "lforce, lfocus = t.correct_primary(force, focus)"
   ]
  },
  {
   "cell_type": "code",
   "execution_count": null,
   "metadata": {},
   "outputs": [],
   "source": [
    "uforce, ufocus = t.undo_last()"
   ]
  },
  {
   "cell_type": "code",
   "execution_count": null,
   "metadata": {},
   "outputs": [],
   "source": [
    "focus, lfocus, ufocus"
   ]
  },
  {
   "cell_type": "code",
   "execution_count": null,
   "metadata": {},
   "outputs": [],
   "source": [
    "newf9 = WFSFactory(wfs=\"newf9\")"
   ]
  },
  {
   "cell_type": "code",
   "execution_count": null,
   "metadata": {},
   "outputs": [],
   "source": [
    "newf9.modes['blue']['reference']"
   ]
  },
  {
   "cell_type": "code",
   "execution_count": null,
   "metadata": {},
   "outputs": [],
   "source": [
    "x = newf9.modes['blue']['reference']['apertures']['xcentroid'] + newf9.modes['blue']['reference']['xcen']"
   ]
  },
  {
   "cell_type": "code",
   "execution_count": null,
   "metadata": {},
   "outputs": [],
   "source": [
    "y = newf9.modes['blue']['reference']['apertures']['ycentroid'] + newf9.modes['blue']['reference']['ycen']"
   ]
  },
  {
   "cell_type": "code",
   "execution_count": null,
   "metadata": {},
   "outputs": [],
   "source": [
    "arr = np.array((x.data, y.data)).transpose()"
   ]
  },
  {
   "cell_type": "code",
   "execution_count": null,
   "metadata": {},
   "outputs": [],
   "source": [
    "np.savetxt(\"blah.txt\", arr, fmt=\"%.3f\")"
   ]
  },
  {
   "cell_type": "code",
   "execution_count": null,
   "metadata": {},
   "outputs": [],
   "source": [
    "np.savetxt?"
   ]
  },
  {
   "cell_type": "code",
   "execution_count": null,
   "metadata": {},
   "outputs": [],
   "source": []
  },
  {
   "cell_type": "code",
   "execution_count": null,
   "metadata": {},
   "outputs": [],
   "source": [
    "x, y = 405, 445\n",
    "xnew, ynew = 438, 469\n",
    "xref, yref = 433, 431\n",
    "pixsize = 0.09639\n",
    "\n",
    "rot = u.Quantity(-225 * u.deg, u.rad).value\n",
    "\n",
    "dx = x - xref\n",
    "dy = y - yref\n",
    "\n",
    "dr, phi = cart2pol([dx, dy])\n",
    "\n",
    "derot_phi = phi - rot\n",
    "\n",
    "az, el = pol2cart([dr, derot_phi])\n",
    "print(az, el)"
   ]
  },
  {
   "cell_type": "code",
   "execution_count": null,
   "metadata": {},
   "outputs": [],
   "source": [
    "x, y = 405, 445\n",
    "xnew, ynew = 438, 469\n",
    "xref, yref = 433, 431\n",
    "pixsize = 0.09639\n",
    "\n",
    "rot = u.Quantity(-225 * u.deg, u.rad).value\n",
    "\n",
    "dx = 1 * (x - xref)\n",
    "dy = 1 * (y - yref)\n",
    "\n",
    "dr, phi = cart2pol([dx, dy])\n",
    "\n",
    "derot_phi = phi - rot\n",
    "\n",
    "az, el = pol2cart([dr, derot_phi])\n",
    "print(az, el)"
   ]
  },
  {
   "cell_type": "code",
   "execution_count": null,
   "metadata": {},
   "outputs": [],
   "source": [
    "azcorr = 3.0 / pixsize\n",
    "elcorr = 0.9 / pixsize\n",
    "drc, phic = cart2pol([azcorr, elcorr])\n",
    "derot_phic = phic + rot\n",
    "az_pix, el_pix = pol2cart([drc, derot_phic])\n",
    "print(az_pix, el_pix)"
   ]
  },
  {
   "cell_type": "code",
   "execution_count": null,
   "metadata": {},
   "outputs": [],
   "source": [
    "a = np.arange(5)"
   ]
  },
  {
   "cell_type": "code",
   "execution_count": null,
   "metadata": {},
   "outputs": [],
   "source": [
    "np.delete(a, 2)"
   ]
  },
  {
   "cell_type": "code",
   "execution_count": null,
   "metadata": {},
   "outputs": [],
   "source": [
    "2320-2820"
   ]
  },
  {
   "cell_type": "code",
   "execution_count": null,
   "metadata": {},
   "outputs": [],
   "source": [
    "x1, y1 = 274, 288\n",
    "x2, y2 = 243, 314\n",
    "xc, yc = 255, 255\n",
    "rot_def = 234 * u.deg\n",
    "rotation = u.Quantity(rot_def, u.rad).value"
   ]
  },
  {
   "cell_type": "code",
   "execution_count": null,
   "metadata": {},
   "outputs": [],
   "source": [
    "x1, y1 = 212, 238\n",
    "x2, y2 = 243, 314\n",
    "xc, yc = 255, 255\n",
    "rot_def = 234 * u.deg\n",
    "rotation = u.Quantity(rot_def, u.rad).value"
   ]
  },
  {
   "cell_type": "code",
   "execution_count": null,
   "metadata": {},
   "outputs": [],
   "source": [
    "x1, y1 = 358, 308\n",
    "xc, yc = 419, 439\n",
    "rot_def = -225 * u.deg\n",
    "rotation = u.Quantity(rot_def, u.rad).value"
   ]
  },
  {
   "cell_type": "code",
   "execution_count": null,
   "metadata": {},
   "outputs": [],
   "source": [
    "dx = x1 - xc\n",
    "dy = y1 - yc"
   ]
  },
  {
   "cell_type": "code",
   "execution_count": null,
   "metadata": {},
   "outputs": [],
   "source": [
    "dr, phi = cart2pol([dx, dy])"
   ]
  },
  {
   "cell_type": "code",
   "execution_count": null,
   "metadata": {},
   "outputs": [],
   "source": [
    "derot_phi = rotation + phi"
   ]
  },
  {
   "cell_type": "code",
   "execution_count": null,
   "metadata": {},
   "outputs": [],
   "source": [
    "az, el = pol2cart([dr, derot_phi])\n",
    "az, el"
   ]
  },
  {
   "cell_type": "code",
   "execution_count": null,
   "metadata": {},
   "outputs": [],
   "source": [
    "az*0.0936, el*0.0936"
   ]
  },
  {
   "cell_type": "code",
   "execution_count": null,
   "metadata": {},
   "outputs": [],
   "source": [
    "1.26 * 3600 / 4156"
   ]
  },
  {
   "cell_type": "code",
   "execution_count": null,
   "metadata": {},
   "outputs": [],
   "source": [
    "z = ZernikeVector(Z04=100)"
   ]
  },
  {
   "cell_type": "code",
   "execution_count": null,
   "metadata": {},
   "outputs": [],
   "source": [
    "z"
   ]
  },
  {
   "cell_type": "code",
   "execution_count": null,
   "metadata": {},
   "outputs": [],
   "source": [
    "z.ignore(\"Z04\")"
   ]
  },
  {
   "cell_type": "code",
   "execution_count": null,
   "metadata": {},
   "outputs": [],
   "source": [
    "z"
   ]
  },
  {
   "cell_type": "code",
   "execution_count": null,
   "metadata": {},
   "outputs": [],
   "source": [
    "for i in range(23,37):\n",
    "    print(\"Z{0:02d}\".format(i))"
   ]
  },
  {
   "cell_type": "code",
   "execution_count": null,
   "metadata": {},
   "outputs": [],
   "source": [
    "for z in zv:\n",
    "    print(zv[z])"
   ]
  },
  {
   "cell_type": "code",
   "execution_count": null,
   "metadata": {},
   "outputs": [],
   "source": [
    "np.zeros(0)"
   ]
  },
  {
   "cell_type": "code",
   "execution_count": null,
   "metadata": {},
   "outputs": [],
   "source": [
    "data = check_wfsdata(\"/Users/tim/MMT/wfsdat/20180604/wfs_ff_cal_img_2018.0604.052401.fits\")\n",
    "#data = check_wfsdata(\"/Users/tim/MMT/wfsdat/20171101/mmirs_wfs_0022.fits\")\n",
    "#data = check_wfsdata(\"/Volumes/LACIE SHARE/wfsdat/20180424/f9wfs_20180423-234645.fits\")\n",
    "#data = check_wfsdata(\"/Users/tim/MMT/wfsdat/20180404/manual_wfs_0004.fits\")\n",
    "fix, ax = plt.subplots()\n",
    "norm = wfs_norm(data)\n",
    "ax.imshow(data, cmap='Greys', origin='lower', norm=norm, interpolation='None')\n",
    "ax.set_title(\"Binospec WFS\")\n",
    "plt.savefig(\"/Users/tim/MMT/spie/2018/bino.pdf\")\n",
    "plt.show()"
   ]
  },
  {
   "cell_type": "code",
   "execution_count": null,
   "metadata": {},
   "outputs": [],
   "source": [
    "refdata = check_wfsdata(\"/Users/tim/MMT/mmtwfs/mmtwfs/data/ref_images/f9_new_ref.fits\")\n",
    "refdata = refdata - np.median(refdata)\n",
    "apertures, figure = wfsfind(refdata, fwhm=4.0, threshold=30, plot=True)\n",
    "figure.show()"
   ]
  },
  {
   "cell_type": "code",
   "execution_count": null,
   "metadata": {},
   "outputs": [],
   "source": [
    "u.imperial.inch.to(u.mm)"
   ]
  },
  {
   "cell_type": "code",
   "execution_count": null,
   "metadata": {},
   "outputs": [],
   "source": [
    "np.hypot?"
   ]
  },
  {
   "cell_type": "code",
   "execution_count": null,
   "metadata": {},
   "outputs": [],
   "source": [
    "20/26 * 435"
   ]
  },
  {
   "cell_type": "code",
   "execution_count": null,
   "metadata": {},
   "outputs": [],
   "source": []
  }
 ],
 "metadata": {
  "kernelspec": {
   "display_name": "Python 3",
   "language": "python",
   "name": "python3"
  },
  "language_info": {
   "codemirror_mode": {
    "name": "ipython",
    "version": 3
   },
   "file_extension": ".py",
   "mimetype": "text/x-python",
   "name": "python",
   "nbconvert_exporter": "python",
   "pygments_lexer": "ipython3",
   "version": "3.7.3"
  }
 },
 "nbformat": 4,
 "nbformat_minor": 2
}
