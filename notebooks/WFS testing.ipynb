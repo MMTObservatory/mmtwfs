{
 "cells": [
  {
   "cell_type": "code",
   "execution_count": 1,
   "metadata": {},
   "outputs": [],
   "source": [
    "import time\n",
    "import os\n",
    "import sys\n",
    "import numpy as np\n",
    "import matplotlib\n",
    "matplotlib.use('nbagg')\n",
    "#from matplotlib import style\n",
    "#style.use('ggplot')\n",
    "import matplotlib.pyplot as plt\n",
    "\n",
    "%load_ext autoreload\n",
    "%autoreload 2\n",
    "\n",
    "import astropy.units as u\n",
    "from astropy import stats\n",
    "from astropy.io import fits\n",
    "from mmtwfs.wfs import *\n",
    "from mmtwfs.zernike import ZernikeVector\n",
    "from mmtwfs.telescope import MMT"
   ]
  },
  {
   "cell_type": "markdown",
   "metadata": {},
   "source": [
    "# Binospec Dev Section"
   ]
  },
  {
   "cell_type": "code",
   "execution_count": null,
   "metadata": {
    "collapsed": true
   },
   "outputs": [],
   "source": [
    "bino = WFSFactory(wfs=\"binospec\")"
   ]
  },
  {
   "cell_type": "code",
   "execution_count": null,
   "metadata": {},
   "outputs": [],
   "source": [
    "bino.modes['binospec']['reference']['figure'].show()"
   ]
  },
  {
   "cell_type": "code",
   "execution_count": null,
   "metadata": {},
   "outputs": [],
   "source": [
    "bino.modes['binospec']['reference']['xspacing'], bino.modes['binospec']['reference']['yspacing']"
   ]
  },
  {
   "cell_type": "code",
   "execution_count": null,
   "metadata": {},
   "outputs": [],
   "source": [
    "bino.modes['binospec']['reference']['apertures']"
   ]
  },
  {
   "cell_type": "markdown",
   "metadata": {},
   "source": [
    "# MMIRS Dev Section"
   ]
  },
  {
   "cell_type": "code",
   "execution_count": null,
   "metadata": {
    "collapsed": true
   },
   "outputs": [],
   "source": [
    "mmirs = WFSFactory(wfs=\"mmirs\")"
   ]
  },
  {
   "cell_type": "code",
   "execution_count": null,
   "metadata": {},
   "outputs": [],
   "source": [
    "mmirs.modes['mmirs1']['reference']['figure'].show()"
   ]
  },
  {
   "cell_type": "code",
   "execution_count": null,
   "metadata": {},
   "outputs": [],
   "source": [
    "mmirs.modes['mmirs1']['reference']['xspacing'], mmirs.modes['mmirs1']['reference']['yspacing']"
   ]
  },
  {
   "cell_type": "code",
   "execution_count": null,
   "metadata": {},
   "outputs": [],
   "source": [
    "print(mmirs.modes['mmirs1']['reference']['fwhm'])\n",
    "\n",
    "spot = mmirs.modes['mmirs1']['reference']['spot']\n",
    "model = Gaussian2D(amplitude=spot.max(), x_mean=spot.shape[1]/2, y_mean=spot.shape[0]/2) + Polynomial2D(degree=0)\n",
    "#model = Gaussian2D(amplitude=spot.max(), x_mean=spot.shape[1]/2, y_mean=spot.shape[0]/2)\n",
    "fitter = LevMarLSQFitter()\n",
    "y, x = np.mgrid[:spot.shape[0], :spot.shape[1]]\n",
    "fit = fitter(model, x, y, spot)\n",
    "fig, ax = plt.subplots()\n",
    "ax.imshow(mmirs.modes['mmirs1']['reference']['spot'] - fit(x, y))\n",
    "fig.show()"
   ]
  },
  {
   "cell_type": "code",
   "execution_count": null,
   "metadata": {},
   "outputs": [],
   "source": [
    "plt.close('all')\n",
    "mmirs_file = \"/Users/tim/MMT/wfsdat/20170416/rawdata/mmirs_wfs_%04d.fits\" % 213\n",
    "results = mmirs.measure_slopes(mmirs_file, plot=True)\n",
    "results['figures']['slopes'].show()"
   ]
  },
  {
   "cell_type": "code",
   "execution_count": null,
   "metadata": {},
   "outputs": [],
   "source": [
    "results['apertures'].positions"
   ]
  },
  {
   "cell_type": "code",
   "execution_count": null,
   "metadata": {},
   "outputs": [],
   "source": [
    "results['figures']['pupil_center'].show()"
   ]
  },
  {
   "cell_type": "code",
   "execution_count": null,
   "metadata": {
    "scrolled": false
   },
   "outputs": [],
   "source": [
    "zresults = mmirs.fit_wavefront(results, plot=True)\n",
    "zvec = zresults['zernike']\n",
    "print(zresults['residual_rms'])\n",
    "#zvec.normalize()\n",
    "print(zvec)\n",
    "zresults['resid_plot'].show()"
   ]
  },
  {
   "cell_type": "code",
   "execution_count": null,
   "metadata": {
    "collapsed": true
   },
   "outputs": [],
   "source": [
    "zplot = zvec.copy()\n",
    "zplot.ignore('Z02')\n",
    "zplot.ignore('Z03')\n",
    "mfig = zplot.plot_map()\n",
    "mfig.show()\n",
    "zplot.peak2valley"
   ]
  },
  {
   "cell_type": "code",
   "execution_count": null,
   "metadata": {
    "collapsed": true
   },
   "outputs": [],
   "source": [
    "zvec.units = u.nm\n",
    "f = zvec.bar_chart(residual=zresults['residual_rms'])\n",
    "f.set_size_inches(9, 5)\n",
    "\n",
    "f.show()"
   ]
  },
  {
   "cell_type": "code",
   "execution_count": null,
   "metadata": {
    "collapsed": true
   },
   "outputs": [],
   "source": [
    "plt.close(f)"
   ]
  },
  {
   "cell_type": "code",
   "execution_count": null,
   "metadata": {
    "collapsed": true
   },
   "outputs": [],
   "source": [
    "torig = mmirs.telescope.bending_forces(zvec)\n",
    "torig.show_in_notebook()"
   ]
  },
  {
   "cell_type": "code",
   "execution_count": null,
   "metadata": {
    "collapsed": true
   },
   "outputs": [],
   "source": [
    "force_fig = mmirs.telescope.plot_forces(torig)\n",
    "force_fig.show()"
   ]
  },
  {
   "cell_type": "code",
   "execution_count": null,
   "metadata": {
    "collapsed": true
   },
   "outputs": [],
   "source": [
    "t, m1foc = mmirs.correct_primary(zv=zvec)\n",
    "print(m1foc)\n",
    "t.show_in_notebook()"
   ]
  },
  {
   "cell_type": "code",
   "execution_count": null,
   "metadata": {
    "collapsed": true
   },
   "outputs": [],
   "source": [
    "new_force_fig = mmirs.telescope.plot_forces(t)\n",
    "new_force_fig.show()"
   ]
  },
  {
   "cell_type": "code",
   "execution_count": null,
   "metadata": {
    "collapsed": true
   },
   "outputs": [],
   "source": [
    "zpsf = ZernikeVector()\n",
    "psf, psf_fig = mmirs.telescope.psf(zpsf, plot=True)\n",
    "psf_fig.set_size_inches(4.0, 4.0)\n",
    "psf_fig.show()"
   ]
  },
  {
   "cell_type": "markdown",
   "metadata": {},
   "source": [
    "# F/9 Dev Section"
   ]
  },
  {
   "cell_type": "code",
   "execution_count": 2,
   "metadata": {
    "collapsed": true
   },
   "outputs": [],
   "source": [
    "plt.close('all')\n",
    "\n",
    "f9wfs = WFSFactory(wfs=\"newf9\")"
   ]
  },
  {
   "cell_type": "code",
   "execution_count": 3,
   "metadata": {},
   "outputs": [
    {
     "data": {
      "text/plain": [
       "(33.783783783783782, 19.54954954954955)"
      ]
     },
     "execution_count": 3,
     "metadata": {},
     "output_type": "execute_result"
    }
   ],
   "source": [
    "f9wfs.modes['blue']['reference']['xspacing'], f9wfs.modes['blue']['reference']['yspacing']"
   ]
  },
  {
   "cell_type": "code",
   "execution_count": 6,
   "metadata": {},
   "outputs": [
    {
     "data": {
      "application/javascript": [
       "/* Put everything inside the global mpl namespace */\n",
       "window.mpl = {};\n",
       "\n",
       "\n",
       "mpl.get_websocket_type = function() {\n",
       "    if (typeof(WebSocket) !== 'undefined') {\n",
       "        return WebSocket;\n",
       "    } else if (typeof(MozWebSocket) !== 'undefined') {\n",
       "        return MozWebSocket;\n",
       "    } else {\n",
       "        alert('Your browser does not have WebSocket support.' +\n",
       "              'Please try Chrome, Safari or Firefox ≥ 6. ' +\n",
       "              'Firefox 4 and 5 are also supported but you ' +\n",
       "              'have to enable WebSockets in about:config.');\n",
       "    };\n",
       "}\n",
       "\n",
       "mpl.figure = function(figure_id, websocket, ondownload, parent_element) {\n",
       "    this.id = figure_id;\n",
       "\n",
       "    this.ws = websocket;\n",
       "\n",
       "    this.supports_binary = (this.ws.binaryType != undefined);\n",
       "\n",
       "    if (!this.supports_binary) {\n",
       "        var warnings = document.getElementById(\"mpl-warnings\");\n",
       "        if (warnings) {\n",
       "            warnings.style.display = 'block';\n",
       "            warnings.textContent = (\n",
       "                \"This browser does not support binary websocket messages. \" +\n",
       "                    \"Performance may be slow.\");\n",
       "        }\n",
       "    }\n",
       "\n",
       "    this.imageObj = new Image();\n",
       "\n",
       "    this.context = undefined;\n",
       "    this.message = undefined;\n",
       "    this.canvas = undefined;\n",
       "    this.rubberband_canvas = undefined;\n",
       "    this.rubberband_context = undefined;\n",
       "    this.format_dropdown = undefined;\n",
       "\n",
       "    this.image_mode = 'full';\n",
       "\n",
       "    this.root = $('<div/>');\n",
       "    this._root_extra_style(this.root)\n",
       "    this.root.attr('style', 'display: inline-block');\n",
       "\n",
       "    $(parent_element).append(this.root);\n",
       "\n",
       "    this._init_header(this);\n",
       "    this._init_canvas(this);\n",
       "    this._init_toolbar(this);\n",
       "\n",
       "    var fig = this;\n",
       "\n",
       "    this.waiting = false;\n",
       "\n",
       "    this.ws.onopen =  function () {\n",
       "            fig.send_message(\"supports_binary\", {value: fig.supports_binary});\n",
       "            fig.send_message(\"send_image_mode\", {});\n",
       "            if (mpl.ratio != 1) {\n",
       "                fig.send_message(\"set_dpi_ratio\", {'dpi_ratio': mpl.ratio});\n",
       "            }\n",
       "            fig.send_message(\"refresh\", {});\n",
       "        }\n",
       "\n",
       "    this.imageObj.onload = function() {\n",
       "            if (fig.image_mode == 'full') {\n",
       "                // Full images could contain transparency (where diff images\n",
       "                // almost always do), so we need to clear the canvas so that\n",
       "                // there is no ghosting.\n",
       "                fig.context.clearRect(0, 0, fig.canvas.width, fig.canvas.height);\n",
       "            }\n",
       "            fig.context.drawImage(fig.imageObj, 0, 0);\n",
       "        };\n",
       "\n",
       "    this.imageObj.onunload = function() {\n",
       "        this.ws.close();\n",
       "    }\n",
       "\n",
       "    this.ws.onmessage = this._make_on_message_function(this);\n",
       "\n",
       "    this.ondownload = ondownload;\n",
       "}\n",
       "\n",
       "mpl.figure.prototype._init_header = function() {\n",
       "    var titlebar = $(\n",
       "        '<div class=\"ui-dialog-titlebar ui-widget-header ui-corner-all ' +\n",
       "        'ui-helper-clearfix\"/>');\n",
       "    var titletext = $(\n",
       "        '<div class=\"ui-dialog-title\" style=\"width: 100%; ' +\n",
       "        'text-align: center; padding: 3px;\"/>');\n",
       "    titlebar.append(titletext)\n",
       "    this.root.append(titlebar);\n",
       "    this.header = titletext[0];\n",
       "}\n",
       "\n",
       "\n",
       "\n",
       "mpl.figure.prototype._canvas_extra_style = function(canvas_div) {\n",
       "\n",
       "}\n",
       "\n",
       "\n",
       "mpl.figure.prototype._root_extra_style = function(canvas_div) {\n",
       "\n",
       "}\n",
       "\n",
       "mpl.figure.prototype._init_canvas = function() {\n",
       "    var fig = this;\n",
       "\n",
       "    var canvas_div = $('<div/>');\n",
       "\n",
       "    canvas_div.attr('style', 'position: relative; clear: both; outline: 0');\n",
       "\n",
       "    function canvas_keyboard_event(event) {\n",
       "        return fig.key_event(event, event['data']);\n",
       "    }\n",
       "\n",
       "    canvas_div.keydown('key_press', canvas_keyboard_event);\n",
       "    canvas_div.keyup('key_release', canvas_keyboard_event);\n",
       "    this.canvas_div = canvas_div\n",
       "    this._canvas_extra_style(canvas_div)\n",
       "    this.root.append(canvas_div);\n",
       "\n",
       "    var canvas = $('<canvas/>');\n",
       "    canvas.addClass('mpl-canvas');\n",
       "    canvas.attr('style', \"left: 0; top: 0; z-index: 0; outline: 0\")\n",
       "\n",
       "    this.canvas = canvas[0];\n",
       "    this.context = canvas[0].getContext(\"2d\");\n",
       "\n",
       "    var backingStore = this.context.backingStorePixelRatio ||\n",
       "\tthis.context.webkitBackingStorePixelRatio ||\n",
       "\tthis.context.mozBackingStorePixelRatio ||\n",
       "\tthis.context.msBackingStorePixelRatio ||\n",
       "\tthis.context.oBackingStorePixelRatio ||\n",
       "\tthis.context.backingStorePixelRatio || 1;\n",
       "\n",
       "    mpl.ratio = (window.devicePixelRatio || 1) / backingStore;\n",
       "\n",
       "    var rubberband = $('<canvas/>');\n",
       "    rubberband.attr('style', \"position: absolute; left: 0; top: 0; z-index: 1;\")\n",
       "\n",
       "    var pass_mouse_events = true;\n",
       "\n",
       "    canvas_div.resizable({\n",
       "        start: function(event, ui) {\n",
       "            pass_mouse_events = false;\n",
       "        },\n",
       "        resize: function(event, ui) {\n",
       "            fig.request_resize(ui.size.width, ui.size.height);\n",
       "        },\n",
       "        stop: function(event, ui) {\n",
       "            pass_mouse_events = true;\n",
       "            fig.request_resize(ui.size.width, ui.size.height);\n",
       "        },\n",
       "    });\n",
       "\n",
       "    function mouse_event_fn(event) {\n",
       "        if (pass_mouse_events)\n",
       "            return fig.mouse_event(event, event['data']);\n",
       "    }\n",
       "\n",
       "    rubberband.mousedown('button_press', mouse_event_fn);\n",
       "    rubberband.mouseup('button_release', mouse_event_fn);\n",
       "    // Throttle sequential mouse events to 1 every 20ms.\n",
       "    rubberband.mousemove('motion_notify', mouse_event_fn);\n",
       "\n",
       "    rubberband.mouseenter('figure_enter', mouse_event_fn);\n",
       "    rubberband.mouseleave('figure_leave', mouse_event_fn);\n",
       "\n",
       "    canvas_div.on(\"wheel\", function (event) {\n",
       "        event = event.originalEvent;\n",
       "        event['data'] = 'scroll'\n",
       "        if (event.deltaY < 0) {\n",
       "            event.step = 1;\n",
       "        } else {\n",
       "            event.step = -1;\n",
       "        }\n",
       "        mouse_event_fn(event);\n",
       "    });\n",
       "\n",
       "    canvas_div.append(canvas);\n",
       "    canvas_div.append(rubberband);\n",
       "\n",
       "    this.rubberband = rubberband;\n",
       "    this.rubberband_canvas = rubberband[0];\n",
       "    this.rubberband_context = rubberband[0].getContext(\"2d\");\n",
       "    this.rubberband_context.strokeStyle = \"#000000\";\n",
       "\n",
       "    this._resize_canvas = function(width, height) {\n",
       "        // Keep the size of the canvas, canvas container, and rubber band\n",
       "        // canvas in synch.\n",
       "        canvas_div.css('width', width)\n",
       "        canvas_div.css('height', height)\n",
       "\n",
       "        canvas.attr('width', width * mpl.ratio);\n",
       "        canvas.attr('height', height * mpl.ratio);\n",
       "        canvas.attr('style', 'width: ' + width + 'px; height: ' + height + 'px;');\n",
       "\n",
       "        rubberband.attr('width', width);\n",
       "        rubberband.attr('height', height);\n",
       "    }\n",
       "\n",
       "    // Set the figure to an initial 600x600px, this will subsequently be updated\n",
       "    // upon first draw.\n",
       "    this._resize_canvas(600, 600);\n",
       "\n",
       "    // Disable right mouse context menu.\n",
       "    $(this.rubberband_canvas).bind(\"contextmenu\",function(e){\n",
       "        return false;\n",
       "    });\n",
       "\n",
       "    function set_focus () {\n",
       "        canvas.focus();\n",
       "        canvas_div.focus();\n",
       "    }\n",
       "\n",
       "    window.setTimeout(set_focus, 100);\n",
       "}\n",
       "\n",
       "mpl.figure.prototype._init_toolbar = function() {\n",
       "    var fig = this;\n",
       "\n",
       "    var nav_element = $('<div/>')\n",
       "    nav_element.attr('style', 'width: 100%');\n",
       "    this.root.append(nav_element);\n",
       "\n",
       "    // Define a callback function for later on.\n",
       "    function toolbar_event(event) {\n",
       "        return fig.toolbar_button_onclick(event['data']);\n",
       "    }\n",
       "    function toolbar_mouse_event(event) {\n",
       "        return fig.toolbar_button_onmouseover(event['data']);\n",
       "    }\n",
       "\n",
       "    for(var toolbar_ind in mpl.toolbar_items) {\n",
       "        var name = mpl.toolbar_items[toolbar_ind][0];\n",
       "        var tooltip = mpl.toolbar_items[toolbar_ind][1];\n",
       "        var image = mpl.toolbar_items[toolbar_ind][2];\n",
       "        var method_name = mpl.toolbar_items[toolbar_ind][3];\n",
       "\n",
       "        if (!name) {\n",
       "            // put a spacer in here.\n",
       "            continue;\n",
       "        }\n",
       "        var button = $('<button/>');\n",
       "        button.addClass('ui-button ui-widget ui-state-default ui-corner-all ' +\n",
       "                        'ui-button-icon-only');\n",
       "        button.attr('role', 'button');\n",
       "        button.attr('aria-disabled', 'false');\n",
       "        button.click(method_name, toolbar_event);\n",
       "        button.mouseover(tooltip, toolbar_mouse_event);\n",
       "\n",
       "        var icon_img = $('<span/>');\n",
       "        icon_img.addClass('ui-button-icon-primary ui-icon');\n",
       "        icon_img.addClass(image);\n",
       "        icon_img.addClass('ui-corner-all');\n",
       "\n",
       "        var tooltip_span = $('<span/>');\n",
       "        tooltip_span.addClass('ui-button-text');\n",
       "        tooltip_span.html(tooltip);\n",
       "\n",
       "        button.append(icon_img);\n",
       "        button.append(tooltip_span);\n",
       "\n",
       "        nav_element.append(button);\n",
       "    }\n",
       "\n",
       "    var fmt_picker_span = $('<span/>');\n",
       "\n",
       "    var fmt_picker = $('<select/>');\n",
       "    fmt_picker.addClass('mpl-toolbar-option ui-widget ui-widget-content');\n",
       "    fmt_picker_span.append(fmt_picker);\n",
       "    nav_element.append(fmt_picker_span);\n",
       "    this.format_dropdown = fmt_picker[0];\n",
       "\n",
       "    for (var ind in mpl.extensions) {\n",
       "        var fmt = mpl.extensions[ind];\n",
       "        var option = $(\n",
       "            '<option/>', {selected: fmt === mpl.default_extension}).html(fmt);\n",
       "        fmt_picker.append(option)\n",
       "    }\n",
       "\n",
       "    // Add hover states to the ui-buttons\n",
       "    $( \".ui-button\" ).hover(\n",
       "        function() { $(this).addClass(\"ui-state-hover\");},\n",
       "        function() { $(this).removeClass(\"ui-state-hover\");}\n",
       "    );\n",
       "\n",
       "    var status_bar = $('<span class=\"mpl-message\"/>');\n",
       "    nav_element.append(status_bar);\n",
       "    this.message = status_bar[0];\n",
       "}\n",
       "\n",
       "mpl.figure.prototype.request_resize = function(x_pixels, y_pixels) {\n",
       "    // Request matplotlib to resize the figure. Matplotlib will then trigger a resize in the client,\n",
       "    // which will in turn request a refresh of the image.\n",
       "    this.send_message('resize', {'width': x_pixels, 'height': y_pixels});\n",
       "}\n",
       "\n",
       "mpl.figure.prototype.send_message = function(type, properties) {\n",
       "    properties['type'] = type;\n",
       "    properties['figure_id'] = this.id;\n",
       "    this.ws.send(JSON.stringify(properties));\n",
       "}\n",
       "\n",
       "mpl.figure.prototype.send_draw_message = function() {\n",
       "    if (!this.waiting) {\n",
       "        this.waiting = true;\n",
       "        this.ws.send(JSON.stringify({type: \"draw\", figure_id: this.id}));\n",
       "    }\n",
       "}\n",
       "\n",
       "\n",
       "mpl.figure.prototype.handle_save = function(fig, msg) {\n",
       "    var format_dropdown = fig.format_dropdown;\n",
       "    var format = format_dropdown.options[format_dropdown.selectedIndex].value;\n",
       "    fig.ondownload(fig, format);\n",
       "}\n",
       "\n",
       "\n",
       "mpl.figure.prototype.handle_resize = function(fig, msg) {\n",
       "    var size = msg['size'];\n",
       "    if (size[0] != fig.canvas.width || size[1] != fig.canvas.height) {\n",
       "        fig._resize_canvas(size[0], size[1]);\n",
       "        fig.send_message(\"refresh\", {});\n",
       "    };\n",
       "}\n",
       "\n",
       "mpl.figure.prototype.handle_rubberband = function(fig, msg) {\n",
       "    var x0 = msg['x0'] / mpl.ratio;\n",
       "    var y0 = (fig.canvas.height - msg['y0']) / mpl.ratio;\n",
       "    var x1 = msg['x1'] / mpl.ratio;\n",
       "    var y1 = (fig.canvas.height - msg['y1']) / mpl.ratio;\n",
       "    x0 = Math.floor(x0) + 0.5;\n",
       "    y0 = Math.floor(y0) + 0.5;\n",
       "    x1 = Math.floor(x1) + 0.5;\n",
       "    y1 = Math.floor(y1) + 0.5;\n",
       "    var min_x = Math.min(x0, x1);\n",
       "    var min_y = Math.min(y0, y1);\n",
       "    var width = Math.abs(x1 - x0);\n",
       "    var height = Math.abs(y1 - y0);\n",
       "\n",
       "    fig.rubberband_context.clearRect(\n",
       "        0, 0, fig.canvas.width, fig.canvas.height);\n",
       "\n",
       "    fig.rubberband_context.strokeRect(min_x, min_y, width, height);\n",
       "}\n",
       "\n",
       "mpl.figure.prototype.handle_figure_label = function(fig, msg) {\n",
       "    // Updates the figure title.\n",
       "    fig.header.textContent = msg['label'];\n",
       "}\n",
       "\n",
       "mpl.figure.prototype.handle_cursor = function(fig, msg) {\n",
       "    var cursor = msg['cursor'];\n",
       "    switch(cursor)\n",
       "    {\n",
       "    case 0:\n",
       "        cursor = 'pointer';\n",
       "        break;\n",
       "    case 1:\n",
       "        cursor = 'default';\n",
       "        break;\n",
       "    case 2:\n",
       "        cursor = 'crosshair';\n",
       "        break;\n",
       "    case 3:\n",
       "        cursor = 'move';\n",
       "        break;\n",
       "    }\n",
       "    fig.rubberband_canvas.style.cursor = cursor;\n",
       "}\n",
       "\n",
       "mpl.figure.prototype.handle_message = function(fig, msg) {\n",
       "    fig.message.textContent = msg['message'];\n",
       "}\n",
       "\n",
       "mpl.figure.prototype.handle_draw = function(fig, msg) {\n",
       "    // Request the server to send over a new figure.\n",
       "    fig.send_draw_message();\n",
       "}\n",
       "\n",
       "mpl.figure.prototype.handle_image_mode = function(fig, msg) {\n",
       "    fig.image_mode = msg['mode'];\n",
       "}\n",
       "\n",
       "mpl.figure.prototype.updated_canvas_event = function() {\n",
       "    // Called whenever the canvas gets updated.\n",
       "    this.send_message(\"ack\", {});\n",
       "}\n",
       "\n",
       "// A function to construct a web socket function for onmessage handling.\n",
       "// Called in the figure constructor.\n",
       "mpl.figure.prototype._make_on_message_function = function(fig) {\n",
       "    return function socket_on_message(evt) {\n",
       "        if (evt.data instanceof Blob) {\n",
       "            /* FIXME: We get \"Resource interpreted as Image but\n",
       "             * transferred with MIME type text/plain:\" errors on\n",
       "             * Chrome.  But how to set the MIME type?  It doesn't seem\n",
       "             * to be part of the websocket stream */\n",
       "            evt.data.type = \"image/png\";\n",
       "\n",
       "            /* Free the memory for the previous frames */\n",
       "            if (fig.imageObj.src) {\n",
       "                (window.URL || window.webkitURL).revokeObjectURL(\n",
       "                    fig.imageObj.src);\n",
       "            }\n",
       "\n",
       "            fig.imageObj.src = (window.URL || window.webkitURL).createObjectURL(\n",
       "                evt.data);\n",
       "            fig.updated_canvas_event();\n",
       "            fig.waiting = false;\n",
       "            return;\n",
       "        }\n",
       "        else if (typeof evt.data === 'string' && evt.data.slice(0, 21) == \"data:image/png;base64\") {\n",
       "            fig.imageObj.src = evt.data;\n",
       "            fig.updated_canvas_event();\n",
       "            fig.waiting = false;\n",
       "            return;\n",
       "        }\n",
       "\n",
       "        var msg = JSON.parse(evt.data);\n",
       "        var msg_type = msg['type'];\n",
       "\n",
       "        // Call the  \"handle_{type}\" callback, which takes\n",
       "        // the figure and JSON message as its only arguments.\n",
       "        try {\n",
       "            var callback = fig[\"handle_\" + msg_type];\n",
       "        } catch (e) {\n",
       "            console.log(\"No handler for the '\" + msg_type + \"' message type: \", msg);\n",
       "            return;\n",
       "        }\n",
       "\n",
       "        if (callback) {\n",
       "            try {\n",
       "                // console.log(\"Handling '\" + msg_type + \"' message: \", msg);\n",
       "                callback(fig, msg);\n",
       "            } catch (e) {\n",
       "                console.log(\"Exception inside the 'handler_\" + msg_type + \"' callback:\", e, e.stack, msg);\n",
       "            }\n",
       "        }\n",
       "    };\n",
       "}\n",
       "\n",
       "// from http://stackoverflow.com/questions/1114465/getting-mouse-location-in-canvas\n",
       "mpl.findpos = function(e) {\n",
       "    //this section is from http://www.quirksmode.org/js/events_properties.html\n",
       "    var targ;\n",
       "    if (!e)\n",
       "        e = window.event;\n",
       "    if (e.target)\n",
       "        targ = e.target;\n",
       "    else if (e.srcElement)\n",
       "        targ = e.srcElement;\n",
       "    if (targ.nodeType == 3) // defeat Safari bug\n",
       "        targ = targ.parentNode;\n",
       "\n",
       "    // jQuery normalizes the pageX and pageY\n",
       "    // pageX,Y are the mouse positions relative to the document\n",
       "    // offset() returns the position of the element relative to the document\n",
       "    var x = e.pageX - $(targ).offset().left;\n",
       "    var y = e.pageY - $(targ).offset().top;\n",
       "\n",
       "    return {\"x\": x, \"y\": y};\n",
       "};\n",
       "\n",
       "/*\n",
       " * return a copy of an object with only non-object keys\n",
       " * we need this to avoid circular references\n",
       " * http://stackoverflow.com/a/24161582/3208463\n",
       " */\n",
       "function simpleKeys (original) {\n",
       "  return Object.keys(original).reduce(function (obj, key) {\n",
       "    if (typeof original[key] !== 'object')\n",
       "        obj[key] = original[key]\n",
       "    return obj;\n",
       "  }, {});\n",
       "}\n",
       "\n",
       "mpl.figure.prototype.mouse_event = function(event, name) {\n",
       "    var canvas_pos = mpl.findpos(event)\n",
       "\n",
       "    if (name === 'button_press')\n",
       "    {\n",
       "        this.canvas.focus();\n",
       "        this.canvas_div.focus();\n",
       "    }\n",
       "\n",
       "    var x = canvas_pos.x * mpl.ratio;\n",
       "    var y = canvas_pos.y * mpl.ratio;\n",
       "\n",
       "    this.send_message(name, {x: x, y: y, button: event.button,\n",
       "                             step: event.step,\n",
       "                             guiEvent: simpleKeys(event)});\n",
       "\n",
       "    /* This prevents the web browser from automatically changing to\n",
       "     * the text insertion cursor when the button is pressed.  We want\n",
       "     * to control all of the cursor setting manually through the\n",
       "     * 'cursor' event from matplotlib */\n",
       "    event.preventDefault();\n",
       "    return false;\n",
       "}\n",
       "\n",
       "mpl.figure.prototype._key_event_extra = function(event, name) {\n",
       "    // Handle any extra behaviour associated with a key event\n",
       "}\n",
       "\n",
       "mpl.figure.prototype.key_event = function(event, name) {\n",
       "\n",
       "    // Prevent repeat events\n",
       "    if (name == 'key_press')\n",
       "    {\n",
       "        if (event.which === this._key)\n",
       "            return;\n",
       "        else\n",
       "            this._key = event.which;\n",
       "    }\n",
       "    if (name == 'key_release')\n",
       "        this._key = null;\n",
       "\n",
       "    var value = '';\n",
       "    if (event.ctrlKey && event.which != 17)\n",
       "        value += \"ctrl+\";\n",
       "    if (event.altKey && event.which != 18)\n",
       "        value += \"alt+\";\n",
       "    if (event.shiftKey && event.which != 16)\n",
       "        value += \"shift+\";\n",
       "\n",
       "    value += 'k';\n",
       "    value += event.which.toString();\n",
       "\n",
       "    this._key_event_extra(event, name);\n",
       "\n",
       "    this.send_message(name, {key: value,\n",
       "                             guiEvent: simpleKeys(event)});\n",
       "    return false;\n",
       "}\n",
       "\n",
       "mpl.figure.prototype.toolbar_button_onclick = function(name) {\n",
       "    if (name == 'download') {\n",
       "        this.handle_save(this, null);\n",
       "    } else {\n",
       "        this.send_message(\"toolbar_button\", {name: name});\n",
       "    }\n",
       "};\n",
       "\n",
       "mpl.figure.prototype.toolbar_button_onmouseover = function(tooltip) {\n",
       "    this.message.textContent = tooltip;\n",
       "};\n",
       "mpl.toolbar_items = [[\"Home\", \"Reset original view\", \"fa fa-home icon-home\", \"home\"], [\"Back\", \"Back to  previous view\", \"fa fa-arrow-left icon-arrow-left\", \"back\"], [\"Forward\", \"Forward to next view\", \"fa fa-arrow-right icon-arrow-right\", \"forward\"], [\"\", \"\", \"\", \"\"], [\"Pan\", \"Pan axes with left mouse, zoom with right\", \"fa fa-arrows icon-move\", \"pan\"], [\"Zoom\", \"Zoom to rectangle\", \"fa fa-square-o icon-check-empty\", \"zoom\"], [\"\", \"\", \"\", \"\"], [\"Download\", \"Download plot\", \"fa fa-floppy-o icon-save\", \"download\"]];\n",
       "\n",
       "mpl.extensions = [\"eps\", \"jpeg\", \"pdf\", \"png\", \"ps\", \"raw\", \"svg\", \"tif\"];\n",
       "\n",
       "mpl.default_extension = \"png\";var comm_websocket_adapter = function(comm) {\n",
       "    // Create a \"websocket\"-like object which calls the given IPython comm\n",
       "    // object with the appropriate methods. Currently this is a non binary\n",
       "    // socket, so there is still some room for performance tuning.\n",
       "    var ws = {};\n",
       "\n",
       "    ws.close = function() {\n",
       "        comm.close()\n",
       "    };\n",
       "    ws.send = function(m) {\n",
       "        //console.log('sending', m);\n",
       "        comm.send(m);\n",
       "    };\n",
       "    // Register the callback with on_msg.\n",
       "    comm.on_msg(function(msg) {\n",
       "        //console.log('receiving', msg['content']['data'], msg);\n",
       "        // Pass the mpl event to the overriden (by mpl) onmessage function.\n",
       "        ws.onmessage(msg['content']['data'])\n",
       "    });\n",
       "    return ws;\n",
       "}\n",
       "\n",
       "mpl.mpl_figure_comm = function(comm, msg) {\n",
       "    // This is the function which gets called when the mpl process\n",
       "    // starts-up an IPython Comm through the \"matplotlib\" channel.\n",
       "\n",
       "    var id = msg.content.data.id;\n",
       "    // Get hold of the div created by the display call when the Comm\n",
       "    // socket was opened in Python.\n",
       "    var element = $(\"#\" + id);\n",
       "    var ws_proxy = comm_websocket_adapter(comm)\n",
       "\n",
       "    function ondownload(figure, format) {\n",
       "        window.open(figure.imageObj.src);\n",
       "    }\n",
       "\n",
       "    var fig = new mpl.figure(id, ws_proxy,\n",
       "                           ondownload,\n",
       "                           element.get(0));\n",
       "\n",
       "    // Call onopen now - mpl needs it, as it is assuming we've passed it a real\n",
       "    // web socket which is closed, not our websocket->open comm proxy.\n",
       "    ws_proxy.onopen();\n",
       "\n",
       "    fig.parent_element = element.get(0);\n",
       "    fig.cell_info = mpl.find_output_cell(\"<div id='\" + id + \"'></div>\");\n",
       "    if (!fig.cell_info) {\n",
       "        console.error(\"Failed to find cell for figure\", id, fig);\n",
       "        return;\n",
       "    }\n",
       "\n",
       "    var output_index = fig.cell_info[2]\n",
       "    var cell = fig.cell_info[0];\n",
       "\n",
       "};\n",
       "\n",
       "mpl.figure.prototype.handle_close = function(fig, msg) {\n",
       "    var width = fig.canvas.width/mpl.ratio\n",
       "    fig.root.unbind('remove')\n",
       "\n",
       "    // Update the output cell to use the data from the current canvas.\n",
       "    fig.push_to_output();\n",
       "    var dataURL = fig.canvas.toDataURL();\n",
       "    // Re-enable the keyboard manager in IPython - without this line, in FF,\n",
       "    // the notebook keyboard shortcuts fail.\n",
       "    IPython.keyboard_manager.enable()\n",
       "    $(fig.parent_element).html('<img src=\"' + dataURL + '\" width=\"' + width + '\">');\n",
       "    fig.close_ws(fig, msg);\n",
       "}\n",
       "\n",
       "mpl.figure.prototype.close_ws = function(fig, msg){\n",
       "    fig.send_message('closing', msg);\n",
       "    // fig.ws.close()\n",
       "}\n",
       "\n",
       "mpl.figure.prototype.push_to_output = function(remove_interactive) {\n",
       "    // Turn the data on the canvas into data in the output cell.\n",
       "    var width = this.canvas.width/mpl.ratio\n",
       "    var dataURL = this.canvas.toDataURL();\n",
       "    this.cell_info[1]['text/html'] = '<img src=\"' + dataURL + '\" width=\"' + width + '\">';\n",
       "}\n",
       "\n",
       "mpl.figure.prototype.updated_canvas_event = function() {\n",
       "    // Tell IPython that the notebook contents must change.\n",
       "    IPython.notebook.set_dirty(true);\n",
       "    this.send_message(\"ack\", {});\n",
       "    var fig = this;\n",
       "    // Wait a second, then push the new image to the DOM so\n",
       "    // that it is saved nicely (might be nice to debounce this).\n",
       "    setTimeout(function () { fig.push_to_output() }, 1000);\n",
       "}\n",
       "\n",
       "mpl.figure.prototype._init_toolbar = function() {\n",
       "    var fig = this;\n",
       "\n",
       "    var nav_element = $('<div/>')\n",
       "    nav_element.attr('style', 'width: 100%');\n",
       "    this.root.append(nav_element);\n",
       "\n",
       "    // Define a callback function for later on.\n",
       "    function toolbar_event(event) {\n",
       "        return fig.toolbar_button_onclick(event['data']);\n",
       "    }\n",
       "    function toolbar_mouse_event(event) {\n",
       "        return fig.toolbar_button_onmouseover(event['data']);\n",
       "    }\n",
       "\n",
       "    for(var toolbar_ind in mpl.toolbar_items){\n",
       "        var name = mpl.toolbar_items[toolbar_ind][0];\n",
       "        var tooltip = mpl.toolbar_items[toolbar_ind][1];\n",
       "        var image = mpl.toolbar_items[toolbar_ind][2];\n",
       "        var method_name = mpl.toolbar_items[toolbar_ind][3];\n",
       "\n",
       "        if (!name) { continue; };\n",
       "\n",
       "        var button = $('<button class=\"btn btn-default\" href=\"#\" title=\"' + name + '\"><i class=\"fa ' + image + ' fa-lg\"></i></button>');\n",
       "        button.click(method_name, toolbar_event);\n",
       "        button.mouseover(tooltip, toolbar_mouse_event);\n",
       "        nav_element.append(button);\n",
       "    }\n",
       "\n",
       "    // Add the status bar.\n",
       "    var status_bar = $('<span class=\"mpl-message\" style=\"text-align:right; float: right;\"/>');\n",
       "    nav_element.append(status_bar);\n",
       "    this.message = status_bar[0];\n",
       "\n",
       "    // Add the close button to the window.\n",
       "    var buttongrp = $('<div class=\"btn-group inline pull-right\"></div>');\n",
       "    var button = $('<button class=\"btn btn-mini btn-primary\" href=\"#\" title=\"Stop Interaction\"><i class=\"fa fa-power-off icon-remove icon-large\"></i></button>');\n",
       "    button.click(function (evt) { fig.handle_close(fig, {}); } );\n",
       "    button.mouseover('Stop Interaction', toolbar_mouse_event);\n",
       "    buttongrp.append(button);\n",
       "    var titlebar = this.root.find($('.ui-dialog-titlebar'));\n",
       "    titlebar.prepend(buttongrp);\n",
       "}\n",
       "\n",
       "mpl.figure.prototype._root_extra_style = function(el){\n",
       "    var fig = this\n",
       "    el.on(\"remove\", function(){\n",
       "\tfig.close_ws(fig, {});\n",
       "    });\n",
       "}\n",
       "\n",
       "mpl.figure.prototype._canvas_extra_style = function(el){\n",
       "    // this is important to make the div 'focusable\n",
       "    el.attr('tabindex', 0)\n",
       "    // reach out to IPython and tell the keyboard manager to turn it's self\n",
       "    // off when our div gets focus\n",
       "\n",
       "    // location in version 3\n",
       "    if (IPython.notebook.keyboard_manager) {\n",
       "        IPython.notebook.keyboard_manager.register_events(el);\n",
       "    }\n",
       "    else {\n",
       "        // location in version 2\n",
       "        IPython.keyboard_manager.register_events(el);\n",
       "    }\n",
       "\n",
       "}\n",
       "\n",
       "mpl.figure.prototype._key_event_extra = function(event, name) {\n",
       "    var manager = IPython.notebook.keyboard_manager;\n",
       "    if (!manager)\n",
       "        manager = IPython.keyboard_manager;\n",
       "\n",
       "    // Check for shift+enter\n",
       "    if (event.shiftKey && event.which == 13) {\n",
       "        this.canvas_div.blur();\n",
       "        // select the cell after this one\n",
       "        var index = IPython.notebook.find_cell_index(this.cell_info[0]);\n",
       "        IPython.notebook.select(index + 1);\n",
       "    }\n",
       "}\n",
       "\n",
       "mpl.figure.prototype.handle_save = function(fig, msg) {\n",
       "    fig.ondownload(fig, null);\n",
       "}\n",
       "\n",
       "\n",
       "mpl.find_output_cell = function(html_output) {\n",
       "    // Return the cell and output element which can be found *uniquely* in the notebook.\n",
       "    // Note - this is a bit hacky, but it is done because the \"notebook_saving.Notebook\"\n",
       "    // IPython event is triggered only after the cells have been serialised, which for\n",
       "    // our purposes (turning an active figure into a static one), is too late.\n",
       "    var cells = IPython.notebook.get_cells();\n",
       "    var ncells = cells.length;\n",
       "    for (var i=0; i<ncells; i++) {\n",
       "        var cell = cells[i];\n",
       "        if (cell.cell_type === 'code'){\n",
       "            for (var j=0; j<cell.output_area.outputs.length; j++) {\n",
       "                var data = cell.output_area.outputs[j];\n",
       "                if (data.data) {\n",
       "                    // IPython >= 3 moved mimebundle to data attribute of output\n",
       "                    data = data.data;\n",
       "                }\n",
       "                if (data['text/html'] == html_output) {\n",
       "                    return [cell, data, j];\n",
       "                }\n",
       "            }\n",
       "        }\n",
       "    }\n",
       "}\n",
       "\n",
       "// Register the function which deals with the matplotlib target/channel.\n",
       "// The kernel may be null if the page has been refreshed.\n",
       "if (IPython.notebook.kernel != null) {\n",
       "    IPython.notebook.kernel.comm_manager.register_target('matplotlib', mpl.mpl_figure_comm);\n",
       "}\n"
      ],
      "text/plain": [
       "<IPython.core.display.Javascript object>"
      ]
     },
     "metadata": {},
     "output_type": "display_data"
    },
    {
     "data": {
      "text/html": [
       "<img src=\"data:image/png;base64,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\" width=\"640\">"
      ],
      "text/plain": [
       "<IPython.core.display.HTML object>"
      ]
     },
     "metadata": {},
     "output_type": "display_data"
    }
   ],
   "source": [
    "f9_file = \"/Users/tim/MMT/wfsdat/datadir/f9wfs_20171007-000010.fits\"\n",
    "refaps = f9wfs.modes['blue']['reference']['apertures']\n",
    "results = f9wfs.measure_slopes(f9_file, 'blue', plot=True)\n",
    "#plt.scatter(refaps['xcentroid']+results['xcen'], refaps['ycentroid']+results['ycen'])\n",
    "results['figures']['slopes'].show()\n",
    "# 265 258\n",
    "# ref 240 259.5"
   ]
  },
  {
   "cell_type": "code",
   "execution_count": 7,
   "metadata": {},
   "outputs": [
    {
     "name": "stdout",
     "output_type": "stream",
     "text": [
      "177.90438147024335 nm\n",
      "Fringe Coefficients\n",
      " Z02: -1.21e+03 nm \t X Tilt (1, 1)\n",
      " Z03:       107 nm \t Y Tilt (1, -1)\n",
      " Z04:      -103 nm \t Defocus (2, 0)\n",
      " Z05:       467 nm \t Primary Astig at 45° (2, -2)\n",
      " Z06:      -830 nm \t Primary Astig at 0° (2, 2)\n",
      " Z07:       306 nm \t Primary Y Coma (3, -1)\n",
      " Z08:      -178 nm \t Primary X Coma (3, 1)\n",
      " Z09:      -392 nm \t Y Trefoil (3, -3)\n",
      " Z10:       255 nm \t X Trefoil (3, 3)\n",
      " Z11:      -117 nm \t Primary Spherical (4, 0)\n",
      " Z12:       -72 nm \t Secondary Astigmatism at 0° (4, 2)\n",
      " Z13:      -292 nm \t Secondary Astigmatism at 45° (4, -2)\n",
      " Z14:      -194 nm \t X Tetrafoil (4, 4)\n",
      " Z15:      58.6 nm \t Y Tetrafoil (4, -4)\n",
      " Z16:      -242 nm \t Secondary X Coma (5, 1)\n",
      " Z17:     -73.6 nm \t Secondary Y Coma (5, -1)\n",
      " Z18:     -46.8 nm \t Secondary X Trefoil (5, 3)\n",
      " Z19:       205 nm \t Secondary Y Trefoil (5, -3)\n",
      " Z20:       126 nm \t X Pentafoil (5, 5)\n",
      " Z21:      85.2 nm \t Y Pentafoil (5, -5)\n",
      " Z22:      -157 nm \t Secondary Spherical (6, 0)\n",
      " Z23:       137 nm \t Tertiary Astigmatism at 45° (6, -2)\n",
      " Z24:     -11.5 nm \t Tertiary Astigmatism at 0° (6, 2)\n",
      " Z25:       102 nm \t Secondary X Trefoil (6, -4)\n",
      " Z26:       179 nm \t Secondary Y Trefoil (6, 4)\n",
      " Z27:       108 nm \t Y Hexafoil (6, -6)\n",
      " Z28:      83.8 nm \t X Hexafoil (6, 6)\n",
      " Z29:     -28.9 nm \t Tertiary Y Coma (7, -1)\n",
      " Z30:      -164 nm \t Tertiary X Coma (7, 1)\n",
      " Z31:     -48.7 nm \t Tertiary Y Trefoil (7, -3)\n",
      " Z32:      64.1 nm \t Tertiary X Trefoil (7, 3)\n",
      " Z33:      65.4 nm \t Secondary Y Pentafoil (7, -5)\n",
      " Z34:       131 nm \t Secondary X Pentafoil (7, 5)\n",
      " Z35:      51.4 nm \t Y Heptafoil (7, -7)\n",
      " Z36:       108 nm \t X Heptafoil (7, 7)\n",
      " Z37:      66.3 nm \t Tertiary Spherical (8, 0)\n",
      "\n"
     ]
    },
    {
     "data": {
      "application/javascript": [
       "/* Put everything inside the global mpl namespace */\n",
       "window.mpl = {};\n",
       "\n",
       "\n",
       "mpl.get_websocket_type = function() {\n",
       "    if (typeof(WebSocket) !== 'undefined') {\n",
       "        return WebSocket;\n",
       "    } else if (typeof(MozWebSocket) !== 'undefined') {\n",
       "        return MozWebSocket;\n",
       "    } else {\n",
       "        alert('Your browser does not have WebSocket support.' +\n",
       "              'Please try Chrome, Safari or Firefox ≥ 6. ' +\n",
       "              'Firefox 4 and 5 are also supported but you ' +\n",
       "              'have to enable WebSockets in about:config.');\n",
       "    };\n",
       "}\n",
       "\n",
       "mpl.figure = function(figure_id, websocket, ondownload, parent_element) {\n",
       "    this.id = figure_id;\n",
       "\n",
       "    this.ws = websocket;\n",
       "\n",
       "    this.supports_binary = (this.ws.binaryType != undefined);\n",
       "\n",
       "    if (!this.supports_binary) {\n",
       "        var warnings = document.getElementById(\"mpl-warnings\");\n",
       "        if (warnings) {\n",
       "            warnings.style.display = 'block';\n",
       "            warnings.textContent = (\n",
       "                \"This browser does not support binary websocket messages. \" +\n",
       "                    \"Performance may be slow.\");\n",
       "        }\n",
       "    }\n",
       "\n",
       "    this.imageObj = new Image();\n",
       "\n",
       "    this.context = undefined;\n",
       "    this.message = undefined;\n",
       "    this.canvas = undefined;\n",
       "    this.rubberband_canvas = undefined;\n",
       "    this.rubberband_context = undefined;\n",
       "    this.format_dropdown = undefined;\n",
       "\n",
       "    this.image_mode = 'full';\n",
       "\n",
       "    this.root = $('<div/>');\n",
       "    this._root_extra_style(this.root)\n",
       "    this.root.attr('style', 'display: inline-block');\n",
       "\n",
       "    $(parent_element).append(this.root);\n",
       "\n",
       "    this._init_header(this);\n",
       "    this._init_canvas(this);\n",
       "    this._init_toolbar(this);\n",
       "\n",
       "    var fig = this;\n",
       "\n",
       "    this.waiting = false;\n",
       "\n",
       "    this.ws.onopen =  function () {\n",
       "            fig.send_message(\"supports_binary\", {value: fig.supports_binary});\n",
       "            fig.send_message(\"send_image_mode\", {});\n",
       "            if (mpl.ratio != 1) {\n",
       "                fig.send_message(\"set_dpi_ratio\", {'dpi_ratio': mpl.ratio});\n",
       "            }\n",
       "            fig.send_message(\"refresh\", {});\n",
       "        }\n",
       "\n",
       "    this.imageObj.onload = function() {\n",
       "            if (fig.image_mode == 'full') {\n",
       "                // Full images could contain transparency (where diff images\n",
       "                // almost always do), so we need to clear the canvas so that\n",
       "                // there is no ghosting.\n",
       "                fig.context.clearRect(0, 0, fig.canvas.width, fig.canvas.height);\n",
       "            }\n",
       "            fig.context.drawImage(fig.imageObj, 0, 0);\n",
       "        };\n",
       "\n",
       "    this.imageObj.onunload = function() {\n",
       "        this.ws.close();\n",
       "    }\n",
       "\n",
       "    this.ws.onmessage = this._make_on_message_function(this);\n",
       "\n",
       "    this.ondownload = ondownload;\n",
       "}\n",
       "\n",
       "mpl.figure.prototype._init_header = function() {\n",
       "    var titlebar = $(\n",
       "        '<div class=\"ui-dialog-titlebar ui-widget-header ui-corner-all ' +\n",
       "        'ui-helper-clearfix\"/>');\n",
       "    var titletext = $(\n",
       "        '<div class=\"ui-dialog-title\" style=\"width: 100%; ' +\n",
       "        'text-align: center; padding: 3px;\"/>');\n",
       "    titlebar.append(titletext)\n",
       "    this.root.append(titlebar);\n",
       "    this.header = titletext[0];\n",
       "}\n",
       "\n",
       "\n",
       "\n",
       "mpl.figure.prototype._canvas_extra_style = function(canvas_div) {\n",
       "\n",
       "}\n",
       "\n",
       "\n",
       "mpl.figure.prototype._root_extra_style = function(canvas_div) {\n",
       "\n",
       "}\n",
       "\n",
       "mpl.figure.prototype._init_canvas = function() {\n",
       "    var fig = this;\n",
       "\n",
       "    var canvas_div = $('<div/>');\n",
       "\n",
       "    canvas_div.attr('style', 'position: relative; clear: both; outline: 0');\n",
       "\n",
       "    function canvas_keyboard_event(event) {\n",
       "        return fig.key_event(event, event['data']);\n",
       "    }\n",
       "\n",
       "    canvas_div.keydown('key_press', canvas_keyboard_event);\n",
       "    canvas_div.keyup('key_release', canvas_keyboard_event);\n",
       "    this.canvas_div = canvas_div\n",
       "    this._canvas_extra_style(canvas_div)\n",
       "    this.root.append(canvas_div);\n",
       "\n",
       "    var canvas = $('<canvas/>');\n",
       "    canvas.addClass('mpl-canvas');\n",
       "    canvas.attr('style', \"left: 0; top: 0; z-index: 0; outline: 0\")\n",
       "\n",
       "    this.canvas = canvas[0];\n",
       "    this.context = canvas[0].getContext(\"2d\");\n",
       "\n",
       "    var backingStore = this.context.backingStorePixelRatio ||\n",
       "\tthis.context.webkitBackingStorePixelRatio ||\n",
       "\tthis.context.mozBackingStorePixelRatio ||\n",
       "\tthis.context.msBackingStorePixelRatio ||\n",
       "\tthis.context.oBackingStorePixelRatio ||\n",
       "\tthis.context.backingStorePixelRatio || 1;\n",
       "\n",
       "    mpl.ratio = (window.devicePixelRatio || 1) / backingStore;\n",
       "\n",
       "    var rubberband = $('<canvas/>');\n",
       "    rubberband.attr('style', \"position: absolute; left: 0; top: 0; z-index: 1;\")\n",
       "\n",
       "    var pass_mouse_events = true;\n",
       "\n",
       "    canvas_div.resizable({\n",
       "        start: function(event, ui) {\n",
       "            pass_mouse_events = false;\n",
       "        },\n",
       "        resize: function(event, ui) {\n",
       "            fig.request_resize(ui.size.width, ui.size.height);\n",
       "        },\n",
       "        stop: function(event, ui) {\n",
       "            pass_mouse_events = true;\n",
       "            fig.request_resize(ui.size.width, ui.size.height);\n",
       "        },\n",
       "    });\n",
       "\n",
       "    function mouse_event_fn(event) {\n",
       "        if (pass_mouse_events)\n",
       "            return fig.mouse_event(event, event['data']);\n",
       "    }\n",
       "\n",
       "    rubberband.mousedown('button_press', mouse_event_fn);\n",
       "    rubberband.mouseup('button_release', mouse_event_fn);\n",
       "    // Throttle sequential mouse events to 1 every 20ms.\n",
       "    rubberband.mousemove('motion_notify', mouse_event_fn);\n",
       "\n",
       "    rubberband.mouseenter('figure_enter', mouse_event_fn);\n",
       "    rubberband.mouseleave('figure_leave', mouse_event_fn);\n",
       "\n",
       "    canvas_div.on(\"wheel\", function (event) {\n",
       "        event = event.originalEvent;\n",
       "        event['data'] = 'scroll'\n",
       "        if (event.deltaY < 0) {\n",
       "            event.step = 1;\n",
       "        } else {\n",
       "            event.step = -1;\n",
       "        }\n",
       "        mouse_event_fn(event);\n",
       "    });\n",
       "\n",
       "    canvas_div.append(canvas);\n",
       "    canvas_div.append(rubberband);\n",
       "\n",
       "    this.rubberband = rubberband;\n",
       "    this.rubberband_canvas = rubberband[0];\n",
       "    this.rubberband_context = rubberband[0].getContext(\"2d\");\n",
       "    this.rubberband_context.strokeStyle = \"#000000\";\n",
       "\n",
       "    this._resize_canvas = function(width, height) {\n",
       "        // Keep the size of the canvas, canvas container, and rubber band\n",
       "        // canvas in synch.\n",
       "        canvas_div.css('width', width)\n",
       "        canvas_div.css('height', height)\n",
       "\n",
       "        canvas.attr('width', width * mpl.ratio);\n",
       "        canvas.attr('height', height * mpl.ratio);\n",
       "        canvas.attr('style', 'width: ' + width + 'px; height: ' + height + 'px;');\n",
       "\n",
       "        rubberband.attr('width', width);\n",
       "        rubberband.attr('height', height);\n",
       "    }\n",
       "\n",
       "    // Set the figure to an initial 600x600px, this will subsequently be updated\n",
       "    // upon first draw.\n",
       "    this._resize_canvas(600, 600);\n",
       "\n",
       "    // Disable right mouse context menu.\n",
       "    $(this.rubberband_canvas).bind(\"contextmenu\",function(e){\n",
       "        return false;\n",
       "    });\n",
       "\n",
       "    function set_focus () {\n",
       "        canvas.focus();\n",
       "        canvas_div.focus();\n",
       "    }\n",
       "\n",
       "    window.setTimeout(set_focus, 100);\n",
       "}\n",
       "\n",
       "mpl.figure.prototype._init_toolbar = function() {\n",
       "    var fig = this;\n",
       "\n",
       "    var nav_element = $('<div/>')\n",
       "    nav_element.attr('style', 'width: 100%');\n",
       "    this.root.append(nav_element);\n",
       "\n",
       "    // Define a callback function for later on.\n",
       "    function toolbar_event(event) {\n",
       "        return fig.toolbar_button_onclick(event['data']);\n",
       "    }\n",
       "    function toolbar_mouse_event(event) {\n",
       "        return fig.toolbar_button_onmouseover(event['data']);\n",
       "    }\n",
       "\n",
       "    for(var toolbar_ind in mpl.toolbar_items) {\n",
       "        var name = mpl.toolbar_items[toolbar_ind][0];\n",
       "        var tooltip = mpl.toolbar_items[toolbar_ind][1];\n",
       "        var image = mpl.toolbar_items[toolbar_ind][2];\n",
       "        var method_name = mpl.toolbar_items[toolbar_ind][3];\n",
       "\n",
       "        if (!name) {\n",
       "            // put a spacer in here.\n",
       "            continue;\n",
       "        }\n",
       "        var button = $('<button/>');\n",
       "        button.addClass('ui-button ui-widget ui-state-default ui-corner-all ' +\n",
       "                        'ui-button-icon-only');\n",
       "        button.attr('role', 'button');\n",
       "        button.attr('aria-disabled', 'false');\n",
       "        button.click(method_name, toolbar_event);\n",
       "        button.mouseover(tooltip, toolbar_mouse_event);\n",
       "\n",
       "        var icon_img = $('<span/>');\n",
       "        icon_img.addClass('ui-button-icon-primary ui-icon');\n",
       "        icon_img.addClass(image);\n",
       "        icon_img.addClass('ui-corner-all');\n",
       "\n",
       "        var tooltip_span = $('<span/>');\n",
       "        tooltip_span.addClass('ui-button-text');\n",
       "        tooltip_span.html(tooltip);\n",
       "\n",
       "        button.append(icon_img);\n",
       "        button.append(tooltip_span);\n",
       "\n",
       "        nav_element.append(button);\n",
       "    }\n",
       "\n",
       "    var fmt_picker_span = $('<span/>');\n",
       "\n",
       "    var fmt_picker = $('<select/>');\n",
       "    fmt_picker.addClass('mpl-toolbar-option ui-widget ui-widget-content');\n",
       "    fmt_picker_span.append(fmt_picker);\n",
       "    nav_element.append(fmt_picker_span);\n",
       "    this.format_dropdown = fmt_picker[0];\n",
       "\n",
       "    for (var ind in mpl.extensions) {\n",
       "        var fmt = mpl.extensions[ind];\n",
       "        var option = $(\n",
       "            '<option/>', {selected: fmt === mpl.default_extension}).html(fmt);\n",
       "        fmt_picker.append(option)\n",
       "    }\n",
       "\n",
       "    // Add hover states to the ui-buttons\n",
       "    $( \".ui-button\" ).hover(\n",
       "        function() { $(this).addClass(\"ui-state-hover\");},\n",
       "        function() { $(this).removeClass(\"ui-state-hover\");}\n",
       "    );\n",
       "\n",
       "    var status_bar = $('<span class=\"mpl-message\"/>');\n",
       "    nav_element.append(status_bar);\n",
       "    this.message = status_bar[0];\n",
       "}\n",
       "\n",
       "mpl.figure.prototype.request_resize = function(x_pixels, y_pixels) {\n",
       "    // Request matplotlib to resize the figure. Matplotlib will then trigger a resize in the client,\n",
       "    // which will in turn request a refresh of the image.\n",
       "    this.send_message('resize', {'width': x_pixels, 'height': y_pixels});\n",
       "}\n",
       "\n",
       "mpl.figure.prototype.send_message = function(type, properties) {\n",
       "    properties['type'] = type;\n",
       "    properties['figure_id'] = this.id;\n",
       "    this.ws.send(JSON.stringify(properties));\n",
       "}\n",
       "\n",
       "mpl.figure.prototype.send_draw_message = function() {\n",
       "    if (!this.waiting) {\n",
       "        this.waiting = true;\n",
       "        this.ws.send(JSON.stringify({type: \"draw\", figure_id: this.id}));\n",
       "    }\n",
       "}\n",
       "\n",
       "\n",
       "mpl.figure.prototype.handle_save = function(fig, msg) {\n",
       "    var format_dropdown = fig.format_dropdown;\n",
       "    var format = format_dropdown.options[format_dropdown.selectedIndex].value;\n",
       "    fig.ondownload(fig, format);\n",
       "}\n",
       "\n",
       "\n",
       "mpl.figure.prototype.handle_resize = function(fig, msg) {\n",
       "    var size = msg['size'];\n",
       "    if (size[0] != fig.canvas.width || size[1] != fig.canvas.height) {\n",
       "        fig._resize_canvas(size[0], size[1]);\n",
       "        fig.send_message(\"refresh\", {});\n",
       "    };\n",
       "}\n",
       "\n",
       "mpl.figure.prototype.handle_rubberband = function(fig, msg) {\n",
       "    var x0 = msg['x0'] / mpl.ratio;\n",
       "    var y0 = (fig.canvas.height - msg['y0']) / mpl.ratio;\n",
       "    var x1 = msg['x1'] / mpl.ratio;\n",
       "    var y1 = (fig.canvas.height - msg['y1']) / mpl.ratio;\n",
       "    x0 = Math.floor(x0) + 0.5;\n",
       "    y0 = Math.floor(y0) + 0.5;\n",
       "    x1 = Math.floor(x1) + 0.5;\n",
       "    y1 = Math.floor(y1) + 0.5;\n",
       "    var min_x = Math.min(x0, x1);\n",
       "    var min_y = Math.min(y0, y1);\n",
       "    var width = Math.abs(x1 - x0);\n",
       "    var height = Math.abs(y1 - y0);\n",
       "\n",
       "    fig.rubberband_context.clearRect(\n",
       "        0, 0, fig.canvas.width, fig.canvas.height);\n",
       "\n",
       "    fig.rubberband_context.strokeRect(min_x, min_y, width, height);\n",
       "}\n",
       "\n",
       "mpl.figure.prototype.handle_figure_label = function(fig, msg) {\n",
       "    // Updates the figure title.\n",
       "    fig.header.textContent = msg['label'];\n",
       "}\n",
       "\n",
       "mpl.figure.prototype.handle_cursor = function(fig, msg) {\n",
       "    var cursor = msg['cursor'];\n",
       "    switch(cursor)\n",
       "    {\n",
       "    case 0:\n",
       "        cursor = 'pointer';\n",
       "        break;\n",
       "    case 1:\n",
       "        cursor = 'default';\n",
       "        break;\n",
       "    case 2:\n",
       "        cursor = 'crosshair';\n",
       "        break;\n",
       "    case 3:\n",
       "        cursor = 'move';\n",
       "        break;\n",
       "    }\n",
       "    fig.rubberband_canvas.style.cursor = cursor;\n",
       "}\n",
       "\n",
       "mpl.figure.prototype.handle_message = function(fig, msg) {\n",
       "    fig.message.textContent = msg['message'];\n",
       "}\n",
       "\n",
       "mpl.figure.prototype.handle_draw = function(fig, msg) {\n",
       "    // Request the server to send over a new figure.\n",
       "    fig.send_draw_message();\n",
       "}\n",
       "\n",
       "mpl.figure.prototype.handle_image_mode = function(fig, msg) {\n",
       "    fig.image_mode = msg['mode'];\n",
       "}\n",
       "\n",
       "mpl.figure.prototype.updated_canvas_event = function() {\n",
       "    // Called whenever the canvas gets updated.\n",
       "    this.send_message(\"ack\", {});\n",
       "}\n",
       "\n",
       "// A function to construct a web socket function for onmessage handling.\n",
       "// Called in the figure constructor.\n",
       "mpl.figure.prototype._make_on_message_function = function(fig) {\n",
       "    return function socket_on_message(evt) {\n",
       "        if (evt.data instanceof Blob) {\n",
       "            /* FIXME: We get \"Resource interpreted as Image but\n",
       "             * transferred with MIME type text/plain:\" errors on\n",
       "             * Chrome.  But how to set the MIME type?  It doesn't seem\n",
       "             * to be part of the websocket stream */\n",
       "            evt.data.type = \"image/png\";\n",
       "\n",
       "            /* Free the memory for the previous frames */\n",
       "            if (fig.imageObj.src) {\n",
       "                (window.URL || window.webkitURL).revokeObjectURL(\n",
       "                    fig.imageObj.src);\n",
       "            }\n",
       "\n",
       "            fig.imageObj.src = (window.URL || window.webkitURL).createObjectURL(\n",
       "                evt.data);\n",
       "            fig.updated_canvas_event();\n",
       "            fig.waiting = false;\n",
       "            return;\n",
       "        }\n",
       "        else if (typeof evt.data === 'string' && evt.data.slice(0, 21) == \"data:image/png;base64\") {\n",
       "            fig.imageObj.src = evt.data;\n",
       "            fig.updated_canvas_event();\n",
       "            fig.waiting = false;\n",
       "            return;\n",
       "        }\n",
       "\n",
       "        var msg = JSON.parse(evt.data);\n",
       "        var msg_type = msg['type'];\n",
       "\n",
       "        // Call the  \"handle_{type}\" callback, which takes\n",
       "        // the figure and JSON message as its only arguments.\n",
       "        try {\n",
       "            var callback = fig[\"handle_\" + msg_type];\n",
       "        } catch (e) {\n",
       "            console.log(\"No handler for the '\" + msg_type + \"' message type: \", msg);\n",
       "            return;\n",
       "        }\n",
       "\n",
       "        if (callback) {\n",
       "            try {\n",
       "                // console.log(\"Handling '\" + msg_type + \"' message: \", msg);\n",
       "                callback(fig, msg);\n",
       "            } catch (e) {\n",
       "                console.log(\"Exception inside the 'handler_\" + msg_type + \"' callback:\", e, e.stack, msg);\n",
       "            }\n",
       "        }\n",
       "    };\n",
       "}\n",
       "\n",
       "// from http://stackoverflow.com/questions/1114465/getting-mouse-location-in-canvas\n",
       "mpl.findpos = function(e) {\n",
       "    //this section is from http://www.quirksmode.org/js/events_properties.html\n",
       "    var targ;\n",
       "    if (!e)\n",
       "        e = window.event;\n",
       "    if (e.target)\n",
       "        targ = e.target;\n",
       "    else if (e.srcElement)\n",
       "        targ = e.srcElement;\n",
       "    if (targ.nodeType == 3) // defeat Safari bug\n",
       "        targ = targ.parentNode;\n",
       "\n",
       "    // jQuery normalizes the pageX and pageY\n",
       "    // pageX,Y are the mouse positions relative to the document\n",
       "    // offset() returns the position of the element relative to the document\n",
       "    var x = e.pageX - $(targ).offset().left;\n",
       "    var y = e.pageY - $(targ).offset().top;\n",
       "\n",
       "    return {\"x\": x, \"y\": y};\n",
       "};\n",
       "\n",
       "/*\n",
       " * return a copy of an object with only non-object keys\n",
       " * we need this to avoid circular references\n",
       " * http://stackoverflow.com/a/24161582/3208463\n",
       " */\n",
       "function simpleKeys (original) {\n",
       "  return Object.keys(original).reduce(function (obj, key) {\n",
       "    if (typeof original[key] !== 'object')\n",
       "        obj[key] = original[key]\n",
       "    return obj;\n",
       "  }, {});\n",
       "}\n",
       "\n",
       "mpl.figure.prototype.mouse_event = function(event, name) {\n",
       "    var canvas_pos = mpl.findpos(event)\n",
       "\n",
       "    if (name === 'button_press')\n",
       "    {\n",
       "        this.canvas.focus();\n",
       "        this.canvas_div.focus();\n",
       "    }\n",
       "\n",
       "    var x = canvas_pos.x * mpl.ratio;\n",
       "    var y = canvas_pos.y * mpl.ratio;\n",
       "\n",
       "    this.send_message(name, {x: x, y: y, button: event.button,\n",
       "                             step: event.step,\n",
       "                             guiEvent: simpleKeys(event)});\n",
       "\n",
       "    /* This prevents the web browser from automatically changing to\n",
       "     * the text insertion cursor when the button is pressed.  We want\n",
       "     * to control all of the cursor setting manually through the\n",
       "     * 'cursor' event from matplotlib */\n",
       "    event.preventDefault();\n",
       "    return false;\n",
       "}\n",
       "\n",
       "mpl.figure.prototype._key_event_extra = function(event, name) {\n",
       "    // Handle any extra behaviour associated with a key event\n",
       "}\n",
       "\n",
       "mpl.figure.prototype.key_event = function(event, name) {\n",
       "\n",
       "    // Prevent repeat events\n",
       "    if (name == 'key_press')\n",
       "    {\n",
       "        if (event.which === this._key)\n",
       "            return;\n",
       "        else\n",
       "            this._key = event.which;\n",
       "    }\n",
       "    if (name == 'key_release')\n",
       "        this._key = null;\n",
       "\n",
       "    var value = '';\n",
       "    if (event.ctrlKey && event.which != 17)\n",
       "        value += \"ctrl+\";\n",
       "    if (event.altKey && event.which != 18)\n",
       "        value += \"alt+\";\n",
       "    if (event.shiftKey && event.which != 16)\n",
       "        value += \"shift+\";\n",
       "\n",
       "    value += 'k';\n",
       "    value += event.which.toString();\n",
       "\n",
       "    this._key_event_extra(event, name);\n",
       "\n",
       "    this.send_message(name, {key: value,\n",
       "                             guiEvent: simpleKeys(event)});\n",
       "    return false;\n",
       "}\n",
       "\n",
       "mpl.figure.prototype.toolbar_button_onclick = function(name) {\n",
       "    if (name == 'download') {\n",
       "        this.handle_save(this, null);\n",
       "    } else {\n",
       "        this.send_message(\"toolbar_button\", {name: name});\n",
       "    }\n",
       "};\n",
       "\n",
       "mpl.figure.prototype.toolbar_button_onmouseover = function(tooltip) {\n",
       "    this.message.textContent = tooltip;\n",
       "};\n",
       "mpl.toolbar_items = [[\"Home\", \"Reset original view\", \"fa fa-home icon-home\", \"home\"], [\"Back\", \"Back to  previous view\", \"fa fa-arrow-left icon-arrow-left\", \"back\"], [\"Forward\", \"Forward to next view\", \"fa fa-arrow-right icon-arrow-right\", \"forward\"], [\"\", \"\", \"\", \"\"], [\"Pan\", \"Pan axes with left mouse, zoom with right\", \"fa fa-arrows icon-move\", \"pan\"], [\"Zoom\", \"Zoom to rectangle\", \"fa fa-square-o icon-check-empty\", \"zoom\"], [\"\", \"\", \"\", \"\"], [\"Download\", \"Download plot\", \"fa fa-floppy-o icon-save\", \"download\"]];\n",
       "\n",
       "mpl.extensions = [\"eps\", \"jpeg\", \"pdf\", \"png\", \"ps\", \"raw\", \"svg\", \"tif\"];\n",
       "\n",
       "mpl.default_extension = \"png\";var comm_websocket_adapter = function(comm) {\n",
       "    // Create a \"websocket\"-like object which calls the given IPython comm\n",
       "    // object with the appropriate methods. Currently this is a non binary\n",
       "    // socket, so there is still some room for performance tuning.\n",
       "    var ws = {};\n",
       "\n",
       "    ws.close = function() {\n",
       "        comm.close()\n",
       "    };\n",
       "    ws.send = function(m) {\n",
       "        //console.log('sending', m);\n",
       "        comm.send(m);\n",
       "    };\n",
       "    // Register the callback with on_msg.\n",
       "    comm.on_msg(function(msg) {\n",
       "        //console.log('receiving', msg['content']['data'], msg);\n",
       "        // Pass the mpl event to the overriden (by mpl) onmessage function.\n",
       "        ws.onmessage(msg['content']['data'])\n",
       "    });\n",
       "    return ws;\n",
       "}\n",
       "\n",
       "mpl.mpl_figure_comm = function(comm, msg) {\n",
       "    // This is the function which gets called when the mpl process\n",
       "    // starts-up an IPython Comm through the \"matplotlib\" channel.\n",
       "\n",
       "    var id = msg.content.data.id;\n",
       "    // Get hold of the div created by the display call when the Comm\n",
       "    // socket was opened in Python.\n",
       "    var element = $(\"#\" + id);\n",
       "    var ws_proxy = comm_websocket_adapter(comm)\n",
       "\n",
       "    function ondownload(figure, format) {\n",
       "        window.open(figure.imageObj.src);\n",
       "    }\n",
       "\n",
       "    var fig = new mpl.figure(id, ws_proxy,\n",
       "                           ondownload,\n",
       "                           element.get(0));\n",
       "\n",
       "    // Call onopen now - mpl needs it, as it is assuming we've passed it a real\n",
       "    // web socket which is closed, not our websocket->open comm proxy.\n",
       "    ws_proxy.onopen();\n",
       "\n",
       "    fig.parent_element = element.get(0);\n",
       "    fig.cell_info = mpl.find_output_cell(\"<div id='\" + id + \"'></div>\");\n",
       "    if (!fig.cell_info) {\n",
       "        console.error(\"Failed to find cell for figure\", id, fig);\n",
       "        return;\n",
       "    }\n",
       "\n",
       "    var output_index = fig.cell_info[2]\n",
       "    var cell = fig.cell_info[0];\n",
       "\n",
       "};\n",
       "\n",
       "mpl.figure.prototype.handle_close = function(fig, msg) {\n",
       "    var width = fig.canvas.width/mpl.ratio\n",
       "    fig.root.unbind('remove')\n",
       "\n",
       "    // Update the output cell to use the data from the current canvas.\n",
       "    fig.push_to_output();\n",
       "    var dataURL = fig.canvas.toDataURL();\n",
       "    // Re-enable the keyboard manager in IPython - without this line, in FF,\n",
       "    // the notebook keyboard shortcuts fail.\n",
       "    IPython.keyboard_manager.enable()\n",
       "    $(fig.parent_element).html('<img src=\"' + dataURL + '\" width=\"' + width + '\">');\n",
       "    fig.close_ws(fig, msg);\n",
       "}\n",
       "\n",
       "mpl.figure.prototype.close_ws = function(fig, msg){\n",
       "    fig.send_message('closing', msg);\n",
       "    // fig.ws.close()\n",
       "}\n",
       "\n",
       "mpl.figure.prototype.push_to_output = function(remove_interactive) {\n",
       "    // Turn the data on the canvas into data in the output cell.\n",
       "    var width = this.canvas.width/mpl.ratio\n",
       "    var dataURL = this.canvas.toDataURL();\n",
       "    this.cell_info[1]['text/html'] = '<img src=\"' + dataURL + '\" width=\"' + width + '\">';\n",
       "}\n",
       "\n",
       "mpl.figure.prototype.updated_canvas_event = function() {\n",
       "    // Tell IPython that the notebook contents must change.\n",
       "    IPython.notebook.set_dirty(true);\n",
       "    this.send_message(\"ack\", {});\n",
       "    var fig = this;\n",
       "    // Wait a second, then push the new image to the DOM so\n",
       "    // that it is saved nicely (might be nice to debounce this).\n",
       "    setTimeout(function () { fig.push_to_output() }, 1000);\n",
       "}\n",
       "\n",
       "mpl.figure.prototype._init_toolbar = function() {\n",
       "    var fig = this;\n",
       "\n",
       "    var nav_element = $('<div/>')\n",
       "    nav_element.attr('style', 'width: 100%');\n",
       "    this.root.append(nav_element);\n",
       "\n",
       "    // Define a callback function for later on.\n",
       "    function toolbar_event(event) {\n",
       "        return fig.toolbar_button_onclick(event['data']);\n",
       "    }\n",
       "    function toolbar_mouse_event(event) {\n",
       "        return fig.toolbar_button_onmouseover(event['data']);\n",
       "    }\n",
       "\n",
       "    for(var toolbar_ind in mpl.toolbar_items){\n",
       "        var name = mpl.toolbar_items[toolbar_ind][0];\n",
       "        var tooltip = mpl.toolbar_items[toolbar_ind][1];\n",
       "        var image = mpl.toolbar_items[toolbar_ind][2];\n",
       "        var method_name = mpl.toolbar_items[toolbar_ind][3];\n",
       "\n",
       "        if (!name) { continue; };\n",
       "\n",
       "        var button = $('<button class=\"btn btn-default\" href=\"#\" title=\"' + name + '\"><i class=\"fa ' + image + ' fa-lg\"></i></button>');\n",
       "        button.click(method_name, toolbar_event);\n",
       "        button.mouseover(tooltip, toolbar_mouse_event);\n",
       "        nav_element.append(button);\n",
       "    }\n",
       "\n",
       "    // Add the status bar.\n",
       "    var status_bar = $('<span class=\"mpl-message\" style=\"text-align:right; float: right;\"/>');\n",
       "    nav_element.append(status_bar);\n",
       "    this.message = status_bar[0];\n",
       "\n",
       "    // Add the close button to the window.\n",
       "    var buttongrp = $('<div class=\"btn-group inline pull-right\"></div>');\n",
       "    var button = $('<button class=\"btn btn-mini btn-primary\" href=\"#\" title=\"Stop Interaction\"><i class=\"fa fa-power-off icon-remove icon-large\"></i></button>');\n",
       "    button.click(function (evt) { fig.handle_close(fig, {}); } );\n",
       "    button.mouseover('Stop Interaction', toolbar_mouse_event);\n",
       "    buttongrp.append(button);\n",
       "    var titlebar = this.root.find($('.ui-dialog-titlebar'));\n",
       "    titlebar.prepend(buttongrp);\n",
       "}\n",
       "\n",
       "mpl.figure.prototype._root_extra_style = function(el){\n",
       "    var fig = this\n",
       "    el.on(\"remove\", function(){\n",
       "\tfig.close_ws(fig, {});\n",
       "    });\n",
       "}\n",
       "\n",
       "mpl.figure.prototype._canvas_extra_style = function(el){\n",
       "    // this is important to make the div 'focusable\n",
       "    el.attr('tabindex', 0)\n",
       "    // reach out to IPython and tell the keyboard manager to turn it's self\n",
       "    // off when our div gets focus\n",
       "\n",
       "    // location in version 3\n",
       "    if (IPython.notebook.keyboard_manager) {\n",
       "        IPython.notebook.keyboard_manager.register_events(el);\n",
       "    }\n",
       "    else {\n",
       "        // location in version 2\n",
       "        IPython.keyboard_manager.register_events(el);\n",
       "    }\n",
       "\n",
       "}\n",
       "\n",
       "mpl.figure.prototype._key_event_extra = function(event, name) {\n",
       "    var manager = IPython.notebook.keyboard_manager;\n",
       "    if (!manager)\n",
       "        manager = IPython.keyboard_manager;\n",
       "\n",
       "    // Check for shift+enter\n",
       "    if (event.shiftKey && event.which == 13) {\n",
       "        this.canvas_div.blur();\n",
       "        // select the cell after this one\n",
       "        var index = IPython.notebook.find_cell_index(this.cell_info[0]);\n",
       "        IPython.notebook.select(index + 1);\n",
       "    }\n",
       "}\n",
       "\n",
       "mpl.figure.prototype.handle_save = function(fig, msg) {\n",
       "    fig.ondownload(fig, null);\n",
       "}\n",
       "\n",
       "\n",
       "mpl.find_output_cell = function(html_output) {\n",
       "    // Return the cell and output element which can be found *uniquely* in the notebook.\n",
       "    // Note - this is a bit hacky, but it is done because the \"notebook_saving.Notebook\"\n",
       "    // IPython event is triggered only after the cells have been serialised, which for\n",
       "    // our purposes (turning an active figure into a static one), is too late.\n",
       "    var cells = IPython.notebook.get_cells();\n",
       "    var ncells = cells.length;\n",
       "    for (var i=0; i<ncells; i++) {\n",
       "        var cell = cells[i];\n",
       "        if (cell.cell_type === 'code'){\n",
       "            for (var j=0; j<cell.output_area.outputs.length; j++) {\n",
       "                var data = cell.output_area.outputs[j];\n",
       "                if (data.data) {\n",
       "                    // IPython >= 3 moved mimebundle to data attribute of output\n",
       "                    data = data.data;\n",
       "                }\n",
       "                if (data['text/html'] == html_output) {\n",
       "                    return [cell, data, j];\n",
       "                }\n",
       "            }\n",
       "        }\n",
       "    }\n",
       "}\n",
       "\n",
       "// Register the function which deals with the matplotlib target/channel.\n",
       "// The kernel may be null if the page has been refreshed.\n",
       "if (IPython.notebook.kernel != null) {\n",
       "    IPython.notebook.kernel.comm_manager.register_target('matplotlib', mpl.mpl_figure_comm);\n",
       "}\n"
      ],
      "text/plain": [
       "<IPython.core.display.Javascript object>"
      ]
     },
     "metadata": {},
     "output_type": "display_data"
    },
    {
     "data": {
      "text/html": [
       "<img src=\"data:image/png;base64,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\" width=\"640\">"
      ],
      "text/plain": [
       "<IPython.core.display.HTML object>"
      ]
     },
     "metadata": {},
     "output_type": "display_data"
    }
   ],
   "source": [
    "zresults = f9wfs.fit_wavefront(results, plot=True)\n",
    "print(zresults['residual_rms'])\n",
    "print(zresults['zernike'])\n",
    "zresults['resid_plot'].show()"
   ]
  },
  {
   "cell_type": "code",
   "execution_count": null,
   "metadata": {},
   "outputs": [],
   "source": [
    "fig, ax = plt.subplots()\n",
    "fit = results['grid_fit']\n",
    "refx = refaps['xcentroid'] * (fit['scale'] + refaps['xcentroid'] * fit['xcoma']) + results['xcen']\n",
    "refy = refaps['ycentroid'] * (fit['scale'] + refaps['ycentroid'] * fit['ycoma']) + results['ycen']\n",
    "x, y = results['apertures'].positions.transpose()[0], results['apertures'].positions.transpose()[1]\n",
    "spacing = 0.5*(results['xspacing'] + results['yspacing'])\n",
    "ax.scatter(refx, refy)\n",
    "ax.set_aspect('equal')\n",
    "ax.scatter(x, y)\n",
    "ax.set_xlim(0, 845)\n",
    "ax.set_ylim(0, 845)\n",
    "fig.show()"
   ]
  },
  {
   "cell_type": "code",
   "execution_count": null,
   "metadata": {
    "collapsed": true
   },
   "outputs": [],
   "source": []
  },
  {
   "cell_type": "code",
   "execution_count": null,
   "metadata": {
    "collapsed": true
   },
   "outputs": [],
   "source": [
    "fit"
   ]
  },
  {
   "cell_type": "code",
   "execution_count": null,
   "metadata": {
    "collapsed": true
   },
   "outputs": [],
   "source": [
    "spots = {'xcentroid': x, 'ycentroid': y}\n",
    "from scipy import optimize\n",
    "\n",
    "def match_apertures(refx, refy, spotx, spoty):\n",
    "    tot_dist = 0.0\n",
    "    refs = np.array([refx, refy])\n",
    "    spots = np.array([spotx, spoty])\n",
    "    match = np.empty(len(refx))\n",
    "    max_r = spacing / 2.\n",
    "    for i in np.arange(len(refx)):\n",
    "        dists = np.sqrt( (spots[0]-refs[0][i])**2 + (spots[1]-refs[1][i])**2 )\n",
    "        tot_dist += np.min(dists)\n",
    "    return tot_dist\n",
    "\n",
    "def fit_apertures(pars, ref, spots):\n",
    "    xc = pars[0]\n",
    "    yc = pars[1]\n",
    "    xscale = pars[2]\n",
    "    yscale = pars[3]\n",
    "    xcoma = pars[4]\n",
    "    ycoma = pars[5]\n",
    "    refx = ref['xcentroid'] * (xscale + ref['xcentroid'] * xcoma) + xc\n",
    "    refy = ref['ycentroid'] * (yscale + ref['ycentroid'] * ycoma) + yc\n",
    "    spotx = spots['xcentroid']\n",
    "    spoty = spots['ycentroid']\n",
    "    dist = match_apertures(refx, refy, spotx, spoty)\n",
    "    return dist"
   ]
  },
  {
   "cell_type": "code",
   "execution_count": null,
   "metadata": {
    "collapsed": true
   },
   "outputs": [],
   "source": [
    "#%%timeit\n",
    "args = (refaps, spots)\n",
    "pars = (results['xcen'], results['ycen'], 1.0, 1.0, 0.0, 0.0)\n",
    "bounds = (\n",
    "    (results['xcen']-50, results['xcen']+50), \n",
    "    (results['ycen']-50, results['ycen']+50),\n",
    "    (0.8, 1.2),\n",
    "    (0.8, 1.2),\n",
    "    (-0.1, 0.1),\n",
    "    (-0.1, 0.1)\n",
    ")\n",
    "res = optimize.minimize(fit_apertures, pars, args=args, bounds=bounds)\n",
    "res"
   ]
  },
  {
   "cell_type": "code",
   "execution_count": null,
   "metadata": {
    "collapsed": true
   },
   "outputs": [],
   "source": [
    "fig, ax = plt.subplots()\n",
    "refx, refy = refaps['xcentroid'], refaps['ycentroid']\n",
    "refx = refx * (res['x'][2] + refx*res['x'][4]) + res['x'][0]\n",
    "refy = refy * (res['x'][3] + refy*res['x'][5]) + res['x'][1]\n",
    "x, y = results['apertures'].positions.transpose()[0], results['apertures'].positions.transpose()[1]\n",
    "ax.scatter(refx, refy)\n",
    "ax.set_aspect('equal')\n",
    "ax.scatter(x, y)\n",
    "ax.set_xlim(0, 845)\n",
    "ax.set_ylim(0, 845)\n",
    "fig.show()"
   ]
  },
  {
   "cell_type": "code",
   "execution_count": null,
   "metadata": {
    "collapsed": true
   },
   "outputs": [],
   "source": [
    "print(f9wfs.modes['blue']['reference']['xcen'], f9wfs.modes['blue']['reference']['ycen'])\n",
    "print(f9wfs.modes['blue']['reference']['xspacing'], f9wfs.modes['blue']['reference']['yspacing'])\n",
    "f9wfs.modes['blue']['reference'].keys()"
   ]
  },
  {
   "cell_type": "code",
   "execution_count": null,
   "metadata": {
    "collapsed": true
   },
   "outputs": [],
   "source": [
    "zv = zresults['zernike']\n",
    "print(zv.rms)\n",
    "zv.ignore('Z02')\n",
    "zv.ignore('Z03')\n",
    "f = zv.plot_map()\n",
    "f.show()"
   ]
  },
  {
   "cell_type": "code",
   "execution_count": null,
   "metadata": {
    "collapsed": true
   },
   "outputs": [],
   "source": [
    "bc = zv.bar_chart(residual=zresults['residual_rms'])\n",
    "bc.show()"
   ]
  },
  {
   "cell_type": "code",
   "execution_count": null,
   "metadata": {
    "collapsed": true
   },
   "outputs": [],
   "source": [
    "psf, psf_fig = f9wfs.telescope.psf(zv, fov=1.0)\n",
    "psf_fig.show()"
   ]
  },
  {
   "cell_type": "code",
   "execution_count": null,
   "metadata": {
    "collapsed": true
   },
   "outputs": [],
   "source": [
    "plt.close('all')"
   ]
  },
  {
   "cell_type": "markdown",
   "metadata": {},
   "source": [
    "# F/5 Dev Section"
   ]
  },
  {
   "cell_type": "code",
   "execution_count": null,
   "metadata": {
    "collapsed": true
   },
   "outputs": [],
   "source": [
    "plt.close('all')\n",
    "f5wfs = WFSFactory(wfs=\"f5\")"
   ]
  },
  {
   "cell_type": "code",
   "execution_count": null,
   "metadata": {},
   "outputs": [],
   "source": [
    "#%%prun\n",
    "f5_file = \"/Users/tim/MMT/wfsdat/20170605/manual_wfs_0005.fits\"\n",
    "results = f5wfs.measure_slopes(f5_file, 'hecto', plot=True)\n",
    "results['figures']['slopes'].show()"
   ]
  },
  {
   "cell_type": "code",
   "execution_count": null,
   "metadata": {},
   "outputs": [],
   "source": [
    "#%%prun\n",
    "zresults = f5wfs.fit_wavefront(results, plot=True)\n",
    "zv = zresults['zernike']\n",
    "print(zv)\n",
    "print(zv.rms)\n",
    "zresults['resid_plot'].show()"
   ]
  },
  {
   "cell_type": "code",
   "execution_count": null,
   "metadata": {
    "collapsed": true
   },
   "outputs": [],
   "source": [
    "zf = zv.bar_chart(residual=zresults['residual_rms'], total=True, max_c=500*u.nm)\n",
    "zf.show()\n",
    "zresults['residual_rms']"
   ]
  },
  {
   "cell_type": "code",
   "execution_count": null,
   "metadata": {
    "collapsed": true
   },
   "outputs": [],
   "source": [
    "zv.ignore('Z02')\n",
    "zv.ignore('Z03')\n",
    "zv.ignore('Z04')\n",
    "print(zv.rms)\n",
    "mf = zv.plot_map()\n",
    "mf.axes[0].set_title(\"boo\")\n",
    "mf.show()"
   ]
  },
  {
   "cell_type": "code",
   "execution_count": null,
   "metadata": {
    "collapsed": true
   },
   "outputs": [],
   "source": [
    "t, m1foc = f5wfs.telescope.calculate_primary_corrections(zresults['zernike'])"
   ]
  },
  {
   "cell_type": "code",
   "execution_count": null,
   "metadata": {
    "collapsed": true
   },
   "outputs": [],
   "source": [
    "fplot = f5wfs.telescope.plot_forces(t, m1focus=m1foc)\n",
    "fplot.show()"
   ]
  },
  {
   "cell_type": "code",
   "execution_count": null,
   "metadata": {
    "collapsed": true
   },
   "outputs": [],
   "source": [
    "t.show_in_notebook()"
   ]
  },
  {
   "cell_type": "markdown",
   "metadata": {},
   "source": [
    "# Scratch space"
   ]
  },
  {
   "cell_type": "code",
   "execution_count": null,
   "metadata": {
    "collapsed": true
   },
   "outputs": [],
   "source": [
    "cen = center_pupil(subt, pup, plot=True)\n",
    "print(cen)\n",
    "plt.show()"
   ]
  },
  {
   "cell_type": "code",
   "execution_count": null,
   "metadata": {
    "collapsed": true
   },
   "outputs": [],
   "source": [
    "from astropy.io import ascii"
   ]
  },
  {
   "cell_type": "code",
   "execution_count": null,
   "metadata": {
    "collapsed": true
   },
   "outputs": [],
   "source": [
    "t = f9wfs.telescope\n",
    "m = t.zern_map"
   ]
  },
  {
   "cell_type": "code",
   "execution_count": null,
   "metadata": {
    "collapsed": true
   },
   "outputs": [],
   "source": [
    "z = np.loadtxt(\"/Users/tim/MMT/wfsdat/20170110/mmirs_wfs_0375.dao.sub.zrn.cor\")\n",
    "z1 = np.loadtxt(\"/Users/tim/MMT/wfsdat/20170110/mmirs_wfs_0375.dao.av.zrn\")"
   ]
  },
  {
   "cell_type": "code",
   "execution_count": null,
   "metadata": {
    "collapsed": true
   },
   "outputs": [],
   "source": [
    "z1 - z"
   ]
  },
  {
   "cell_type": "code",
   "execution_count": null,
   "metadata": {
    "collapsed": true
   },
   "outputs": [],
   "source": [
    "Z = ZernikeVector(coeffs=z, zmap=m)"
   ]
  },
  {
   "cell_type": "code",
   "execution_count": null,
   "metadata": {
    "collapsed": true
   },
   "outputs": [],
   "source": [
    "Z"
   ]
  },
  {
   "cell_type": "code",
   "execution_count": null,
   "metadata": {
    "collapsed": true
   },
   "outputs": [],
   "source": [
    "from astropy.table import Table\n",
    "from astropy.io import ascii"
   ]
  },
  {
   "cell_type": "code",
   "execution_count": null,
   "metadata": {
    "collapsed": true
   },
   "outputs": [],
   "source": [
    "t = ascii.read(\"/Users/tim/MMT/mmtwfs/mmtwfs/data/mmirszernfield.tab\")"
   ]
  },
  {
   "cell_type": "code",
   "execution_count": null,
   "metadata": {
    "collapsed": true
   },
   "outputs": [],
   "source": [
    "t"
   ]
  },
  {
   "cell_type": "code",
   "execution_count": null,
   "metadata": {
    "collapsed": true
   },
   "outputs": [],
   "source": [
    "np.interp(0.12, t['field_r'], t['Z01'])"
   ]
  },
  {
   "cell_type": "code",
   "execution_count": null,
   "metadata": {
    "collapsed": true
   },
   "outputs": [],
   "source": [
    "range(4, 11)"
   ]
  },
  {
   "cell_type": "code",
   "execution_count": null,
   "metadata": {
    "collapsed": true
   },
   "outputs": [],
   "source": [
    "for i in range(4, 12):\n",
    "    print(\"Z%02d\" % i)"
   ]
  },
  {
   "cell_type": "code",
   "execution_count": null,
   "metadata": {
    "collapsed": true
   },
   "outputs": [],
   "source": [
    "np.max(1, 2)"
   ]
  },
  {
   "cell_type": "code",
   "execution_count": null,
   "metadata": {
    "collapsed": true
   },
   "outputs": [],
   "source": [
    "6.75 + 20.30 + 242.15 + 430.51"
   ]
  },
  {
   "cell_type": "code",
   "execution_count": null,
   "metadata": {
    "collapsed": true
   },
   "outputs": [],
   "source": [
    "13296 - (973.15/.575) - 1025.8"
   ]
  },
  {
   "cell_type": "code",
   "execution_count": null,
   "metadata": {
    "collapsed": true
   },
   "outputs": [],
   "source": [
    "23*6 + 12*6"
   ]
  },
  {
   "cell_type": "code",
   "execution_count": null,
   "metadata": {
    "collapsed": true
   },
   "outputs": [],
   "source": [
    "58.69*12"
   ]
  },
  {
   "cell_type": "code",
   "execution_count": null,
   "metadata": {
    "collapsed": true
   },
   "outputs": [],
   "source": [
    "210+16+69.5+704.28"
   ]
  },
  {
   "cell_type": "code",
   "execution_count": null,
   "metadata": {
    "collapsed": true
   },
   "outputs": [],
   "source": [
    "2225.37 - (977.15 + 999.78 + 699.71)"
   ]
  },
  {
   "cell_type": "code",
   "execution_count": null,
   "metadata": {
    "collapsed": true
   },
   "outputs": [],
   "source": [
    "103212.81+341.47-451.27+9632.5"
   ]
  },
  {
   "cell_type": "code",
   "execution_count": null,
   "metadata": {
    "collapsed": true
   },
   "outputs": [],
   "source": [
    "7324.5+3951.34"
   ]
  },
  {
   "cell_type": "code",
   "execution_count": null,
   "metadata": {
    "collapsed": true
   },
   "outputs": [],
   "source": [
    "112735.51 - (11275.84 + 7245.8 + 56) - 12150"
   ]
  },
  {
   "cell_type": "code",
   "execution_count": null,
   "metadata": {
    "collapsed": true
   },
   "outputs": [],
   "source": [
    "4050*3"
   ]
  },
  {
   "cell_type": "code",
   "execution_count": null,
   "metadata": {
    "collapsed": true
   },
   "outputs": [],
   "source": [
    "3000*.05"
   ]
  },
  {
   "cell_type": "code",
   "execution_count": null,
   "metadata": {
    "collapsed": true
   },
   "outputs": [],
   "source": [
    "28910/98610"
   ]
  },
  {
   "cell_type": "code",
   "execution_count": null,
   "metadata": {
    "collapsed": true
   },
   "outputs": [],
   "source": [
    "ai = [247.68, 252.69, 257.79, 261.79, 266.88, 696.98, 280.11, 261.96, 261.96, 261.92, 261.96]\n",
    "pep = [146.43, 147.28, 145.18, 142.83, 140.7, 138.47, 136.4, 134.18, 132.18, 129.89, 128.12, 126.22]"
   ]
  },
  {
   "cell_type": "code",
   "execution_count": null,
   "metadata": {
    "collapsed": true
   },
   "outputs": [],
   "source": [
    "0.2* (28910/98610 * (np.sum(ai) + np.sum(pep)))"
   ]
  },
  {
   "cell_type": "code",
   "execution_count": null,
   "metadata": {
    "collapsed": true
   },
   "outputs": [],
   "source": [
    "len(pep)"
   ]
  },
  {
   "cell_type": "code",
   "execution_count": null,
   "metadata": {
    "collapsed": true
   },
   "outputs": [],
   "source": [
    "12049 - (290.81 + 850)"
   ]
  },
  {
   "cell_type": "code",
   "execution_count": null,
   "metadata": {
    "collapsed": true
   },
   "outputs": [],
   "source": [
    "18577.64-7324.5"
   ]
  },
  {
   "cell_type": "code",
   "execution_count": null,
   "metadata": {
    "collapsed": true
   },
   "outputs": [],
   "source": [
    "110940.01-11253.14 - 9600"
   ]
  },
  {
   "cell_type": "code",
   "execution_count": null,
   "metadata": {
    "collapsed": true
   },
   "outputs": [],
   "source": [
    "0.032 * 90086.87 + 4226.63"
   ]
  },
  {
   "cell_type": "code",
   "execution_count": null,
   "metadata": {
    "collapsed": true
   },
   "outputs": [],
   "source": [
    "x = 1920 * 5.86e-3 * u.mm\n",
    "\n",
    "y = 1200 * 5.86e-3 * u.mm"
   ]
  },
  {
   "cell_type": "code",
   "execution_count": null,
   "metadata": {
    "collapsed": true
   },
   "outputs": [],
   "source": [
    "np.sqrt(x**2 + y**2)"
   ]
  },
  {
   "cell_type": "code",
   "execution_count": null,
   "metadata": {
    "collapsed": true
   },
   "outputs": [],
   "source": [
    "np.max((1, 2))"
   ]
  },
  {
   "cell_type": "code",
   "execution_count": null,
   "metadata": {
    "collapsed": true
   },
   "outputs": [],
   "source": [
    "mmirs.pup_size"
   ]
  },
  {
   "cell_type": "code",
   "execution_count": null,
   "metadata": {
    "collapsed": true
   },
   "outputs": [],
   "source": [
    "mmirs.modes['mmirs2']['reference']['sigma']"
   ]
  },
  {
   "cell_type": "code",
   "execution_count": null,
   "metadata": {
    "collapsed": true
   },
   "outputs": [],
   "source": [
    "sigma = results['fwhm'] * stats.funcs.gaussian_fwhm_to_sigma\n",
    "\n",
    "wave = 650 * u.nm\n",
    "wave = wave.to(u.m).value  # r_0 equation expects meters so convert\n",
    "# calculate the physical size of each aperture.\n",
    "ref = mmirs.modes['mmirs2']['reference']\n",
    "apsize_pix = np.max((ref['xspacing'], ref['yspacing']))\n",
    "d = mmirs.telescope.diameter * apsize_pix / mmirs.pup_size\n",
    "d = d.to(u.m).value  # r_0 equation expects meters so convert\n",
    "\n",
    "# we need to deconvolve the instrumental spot width from the measured one\n",
    "ref_sigma = ref['sigma']\n",
    "if sigma > ref_sigma:\n",
    "    corr_sigma = np.sqrt(sigma**2 - ref_sigma**2)\n",
    "else:\n",
    "    corr_sigma = 0.0\n",
    "corr_sigma *= mmirs.pix_size.to(u.rad).value  # r_0 equation expects radians so convert\n",
    "# this equation relates the motion within a single aperture to the characteristic scale size of the\n",
    "# turbulence, r_0.\n",
    "r_0 = ( 0.179 * (wave**2) * (d**(-1./3.))/corr_sigma**2 )**0.6\n",
    "print(r_0)\n",
    "# this equation relates the turbulence scale size to an expected image FWHM at the given wavelength.\n",
    "raw_seeing = u.rad * 0.98 * wave / r_0\n",
    "raw_seeing = raw_seeing.to(u.arcsec)\n"
   ]
  },
  {
   "cell_type": "code",
   "execution_count": null,
   "metadata": {
    "collapsed": true
   },
   "outputs": [],
   "source": [
    "\"{0.value:0.2f}{0.unit:unicode}\".format(raw_seeing)"
   ]
  },
  {
   "cell_type": "code",
   "execution_count": null,
   "metadata": {
    "collapsed": true
   },
   "outputs": [],
   "source": [
    "np.sqrt(sigma**2 - ref_sigma**2)"
   ]
  },
  {
   "cell_type": "code",
   "execution_count": null,
   "metadata": {
    "collapsed": true
   },
   "outputs": [],
   "source": [
    "def_mask = ['Z02', 'Z03', 'Z04']\n",
    "mask = ['Z04', 'Z10']\n",
    "def_mask.extend(mask)\n",
    "mask = list(set(def_mask))\n",
    "mask"
   ]
  },
  {
   "cell_type": "code",
   "execution_count": null,
   "metadata": {
    "collapsed": true
   },
   "outputs": [],
   "source": [
    "f = ZernikeVector()"
   ]
  },
  {
   "cell_type": "code",
   "execution_count": null,
   "metadata": {
    "collapsed": true
   },
   "outputs": [],
   "source": [
    "mmirs.telescope.bending_forces(zv=f)"
   ]
  },
  {
   "cell_type": "code",
   "execution_count": null,
   "metadata": {
    "collapsed": true
   },
   "outputs": [],
   "source": [
    "z = ZernikeVector(Z07=500*u.nm)\n",
    "z.plot_map()\n",
    "plt.show()"
   ]
  },
  {
   "cell_type": "code",
   "execution_count": null,
   "metadata": {
    "collapsed": true
   },
   "outputs": [],
   "source": [
    "-z['Z08']"
   ]
  },
  {
   "cell_type": "code",
   "execution_count": null,
   "metadata": {
    "collapsed": true
   },
   "outputs": [],
   "source": [
    "xc, yc = 245, 270\n",
    "xcen, ycen = 255, 255\n",
    "dx = xc - xcen\n",
    "dy = yc - ycen\n",
    "dr, phi = cart2pol([dx, dy])"
   ]
  },
  {
   "cell_type": "code",
   "execution_count": null,
   "metadata": {
    "collapsed": true
   },
   "outputs": [],
   "source": [
    "derot_phi = phi - u.Quantity(225*u.deg, u.rad).value\n",
    "pol2cart([dr, derot_phi])"
   ]
  },
  {
   "cell_type": "code",
   "execution_count": null,
   "metadata": {
    "collapsed": true
   },
   "outputs": [],
   "source": [
    "u.Quantity(225*u.deg, u.rad).value"
   ]
  },
  {
   "cell_type": "code",
   "execution_count": null,
   "metadata": {
    "collapsed": true
   },
   "outputs": [],
   "source": [
    "dx, dy"
   ]
  },
  {
   "cell_type": "code",
   "execution_count": null,
   "metadata": {
    "collapsed": true
   },
   "outputs": [],
   "source": [
    "t = mmirs.telescope\n",
    "zv = ZernikeVector(Z05=1000, Z11=250)\n",
    "force, focus = t.correct_primary(zv)\n",
    "f1 = focus.copy()\n",
    "uforce, ufocus = t.undo_last()\n",
    "print(ufocus)\n",
    "print(f1)\n",
    "assert(ufocus == -1 * f1)"
   ]
  },
  {
   "cell_type": "code",
   "execution_count": null,
   "metadata": {
    "collapsed": true
   },
   "outputs": [],
   "source": [
    "focus.copy()"
   ]
  },
  {
   "cell_type": "code",
   "execution_count": null,
   "metadata": {
    "collapsed": true
   },
   "outputs": [],
   "source": [
    "np.allclose(np.zeros(2), 0.0)"
   ]
  },
  {
   "cell_type": "code",
   "execution_count": null,
   "metadata": {
    "collapsed": true
   },
   "outputs": [],
   "source": [
    "s = \"offset_inc wfs z 200.3\"\n",
    "assert(\"200.3\" in s)"
   ]
  },
  {
   "cell_type": "code",
   "execution_count": null,
   "metadata": {
    "collapsed": true
   },
   "outputs": [],
   "source": [
    "fig, ax = plt.subplots()"
   ]
  },
  {
   "cell_type": "code",
   "execution_count": null,
   "metadata": {
    "collapsed": true
   },
   "outputs": [],
   "source": [
    "ax.imshow(results['data'], cmap=cm.Greys)\n",
    "fig.savefig(\"test.png\")"
   ]
  },
  {
   "cell_type": "code",
   "execution_count": null,
   "metadata": {
    "collapsed": true
   },
   "outputs": [],
   "source": [
    "a = fig.axes[0]"
   ]
  },
  {
   "cell_type": "code",
   "execution_count": null,
   "metadata": {
    "collapsed": true
   },
   "outputs": [],
   "source": [
    "fig.show()"
   ]
  },
  {
   "cell_type": "code",
   "execution_count": null,
   "metadata": {
    "collapsed": true
   },
   "outputs": [],
   "source": [
    "\"{0:0.0f}\".format((550 * u.nm))"
   ]
  },
  {
   "cell_type": "code",
   "execution_count": null,
   "metadata": {
    "collapsed": true
   },
   "outputs": [],
   "source": [
    "x, y, r, p, ph = zvec.phase_map(n=100)\n",
    "i = np.argsort(x)"
   ]
  },
  {
   "cell_type": "code",
   "execution_count": null,
   "metadata": {
    "collapsed": true
   },
   "outputs": [],
   "source": [
    "from plotly.offline import download_plotlyjs, init_notebook_mode, plot, iplot\n",
    "import plotly.graph_objs as go\n",
    "init_notebook_mode(connected=True)"
   ]
  },
  {
   "cell_type": "code",
   "execution_count": null,
   "metadata": {
    "collapsed": true
   },
   "outputs": [],
   "source": [
    "data = [go.Heatmap(z=np.array(ph[i]), x=x[i], y=y[i], colorscale='RdBu')]\n",
    "layout = go.Layout(title=\"test\")\n",
    "fig = go.Figure(data=data, layout=layout)\n",
    "plot(fig, filename=\"blah\")"
   ]
  },
  {
   "cell_type": "code",
   "execution_count": null,
   "metadata": {
    "collapsed": true
   },
   "outputs": [],
   "source": [
    "np.min(ph)"
   ]
  },
  {
   "cell_type": "code",
   "execution_count": null,
   "metadata": {
    "collapsed": true
   },
   "outputs": [],
   "source": [
    "0.119 * 5.4*3/20"
   ]
  },
  {
   "cell_type": "code",
   "execution_count": null,
   "metadata": {
    "collapsed": true
   },
   "outputs": [],
   "source": [
    "if 'HOME' in os.environ:\n",
    "    print('y')"
   ]
  },
  {
   "cell_type": "code",
   "execution_count": null,
   "metadata": {
    "collapsed": true
   },
   "outputs": [],
   "source": [
    "np.zeros((512, 512)).shape"
   ]
  },
  {
   "cell_type": "code",
   "execution_count": null,
   "metadata": {
    "collapsed": true
   },
   "outputs": [],
   "source": [
    "zv = ZernikeVector()"
   ]
  },
  {
   "cell_type": "code",
   "execution_count": null,
   "metadata": {
    "collapsed": true
   },
   "outputs": [],
   "source": [
    "zv.plot_map()"
   ]
  },
  {
   "cell_type": "code",
   "execution_count": null,
   "metadata": {
    "collapsed": true
   },
   "outputs": [],
   "source": [
    "t = MMT()\n",
    "zv = ZernikeVector(Z05=1000, Z11=250)\n",
    "force, focus = t.calculate_primary_corrections(zv)"
   ]
  },
  {
   "cell_type": "code",
   "execution_count": null,
   "metadata": {
    "collapsed": true
   },
   "outputs": [],
   "source": [
    "lforce, lfocus = t.correct_primary(force, focus)"
   ]
  },
  {
   "cell_type": "code",
   "execution_count": null,
   "metadata": {
    "collapsed": true
   },
   "outputs": [],
   "source": [
    "uforce, ufocus = t.undo_last()"
   ]
  },
  {
   "cell_type": "code",
   "execution_count": null,
   "metadata": {
    "collapsed": true
   },
   "outputs": [],
   "source": [
    "focus, lfocus, ufocus"
   ]
  },
  {
   "cell_type": "code",
   "execution_count": null,
   "metadata": {
    "collapsed": true
   },
   "outputs": [],
   "source": [
    "newf9 = WFSFactory(wfs=\"newf9\")"
   ]
  },
  {
   "cell_type": "code",
   "execution_count": null,
   "metadata": {
    "collapsed": true
   },
   "outputs": [],
   "source": [
    "newf9.modes['blue']['reference']"
   ]
  },
  {
   "cell_type": "code",
   "execution_count": null,
   "metadata": {
    "collapsed": true
   },
   "outputs": [],
   "source": [
    "x = newf9.modes['blue']['reference']['apertures']['xcentroid'] + newf9.modes['blue']['reference']['xcen']"
   ]
  },
  {
   "cell_type": "code",
   "execution_count": null,
   "metadata": {
    "collapsed": true
   },
   "outputs": [],
   "source": [
    "y = newf9.modes['blue']['reference']['apertures']['ycentroid'] + newf9.modes['blue']['reference']['ycen']"
   ]
  },
  {
   "cell_type": "code",
   "execution_count": null,
   "metadata": {
    "collapsed": true
   },
   "outputs": [],
   "source": [
    "arr = np.array((x.data, y.data)).transpose()"
   ]
  },
  {
   "cell_type": "code",
   "execution_count": null,
   "metadata": {
    "collapsed": true
   },
   "outputs": [],
   "source": [
    "np.savetxt(\"blah.txt\", arr, fmt=\"%.3f\")"
   ]
  },
  {
   "cell_type": "code",
   "execution_count": null,
   "metadata": {
    "collapsed": true
   },
   "outputs": [],
   "source": [
    "np.savetxt?"
   ]
  },
  {
   "cell_type": "code",
   "execution_count": null,
   "metadata": {
    "collapsed": true
   },
   "outputs": [],
   "source": []
  },
  {
   "cell_type": "code",
   "execution_count": null,
   "metadata": {
    "collapsed": true
   },
   "outputs": [],
   "source": [
    "x, y = 405, 445\n",
    "xnew, ynew = 438, 469\n",
    "xref, yref = 433, 431\n",
    "pixsize = 0.09639\n",
    "\n",
    "rot = u.Quantity(-225 * u.deg, u.rad).value\n",
    "\n",
    "dx = x - xref\n",
    "dy = y - yref\n",
    "\n",
    "dr, phi = cart2pol([dx, dy])\n",
    "\n",
    "derot_phi = phi - rot\n",
    "\n",
    "az, el = pol2cart([dr, derot_phi])\n",
    "print(az, el)"
   ]
  },
  {
   "cell_type": "code",
   "execution_count": null,
   "metadata": {
    "collapsed": true
   },
   "outputs": [],
   "source": [
    "x, y = 405, 445\n",
    "xnew, ynew = 438, 469\n",
    "xref, yref = 433, 431\n",
    "pixsize = 0.09639\n",
    "\n",
    "rot = u.Quantity(-225 * u.deg, u.rad).value\n",
    "\n",
    "dx = 1 * (x - xref)\n",
    "dy = 1 * (y - yref)\n",
    "\n",
    "dr, phi = cart2pol([dx, dy])\n",
    "\n",
    "derot_phi = phi - rot\n",
    "\n",
    "az, el = pol2cart([dr, derot_phi])\n",
    "print(az, el)"
   ]
  },
  {
   "cell_type": "code",
   "execution_count": null,
   "metadata": {
    "collapsed": true
   },
   "outputs": [],
   "source": [
    "azcorr = 3.0 / pixsize\n",
    "elcorr = 0.9 / pixsize\n",
    "drc, phic = cart2pol([azcorr, elcorr])\n",
    "derot_phic = phic + rot\n",
    "az_pix, el_pix = pol2cart([drc, derot_phic])\n",
    "print(az_pix, el_pix)"
   ]
  },
  {
   "cell_type": "code",
   "execution_count": null,
   "metadata": {
    "collapsed": true
   },
   "outputs": [],
   "source": [
    "a = np.arange(5)"
   ]
  },
  {
   "cell_type": "code",
   "execution_count": null,
   "metadata": {
    "collapsed": true
   },
   "outputs": [],
   "source": [
    "np.delete(a, 2)"
   ]
  },
  {
   "cell_type": "code",
   "execution_count": null,
   "metadata": {
    "collapsed": true
   },
   "outputs": [],
   "source": []
  }
 ],
 "metadata": {
  "kernelspec": {
   "display_name": "Python 3",
   "language": "python",
   "name": "python3"
  },
  "language_info": {
   "codemirror_mode": {
    "name": "ipython",
    "version": 3
   },
   "file_extension": ".py",
   "mimetype": "text/x-python",
   "name": "python",
   "nbconvert_exporter": "python",
   "pygments_lexer": "ipython3",
   "version": "3.6.2"
  }
 },
 "nbformat": 4,
 "nbformat_minor": 2
}
