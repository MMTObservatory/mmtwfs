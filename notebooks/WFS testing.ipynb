{
 "cells": [
  {
   "cell_type": "code",
   "execution_count": 1,
   "metadata": {},
   "outputs": [
    {
     "name": "stderr",
     "output_type": "stream",
     "text": [
      "WARNING: AstropyDeprecationWarning: Composition of model classes will be removed in 4.0 (but composition of model instances is not affected) [astropy.modeling.core]\n",
      "WARNING: AstropyDeprecationWarning: astropy.extern.six will be removed in 4.0, use the six module directly if it is still needed [astropy.extern.six]\n"
     ]
    }
   ],
   "source": [
    "import time\n",
    "import os\n",
    "import sys\n",
    "import numpy as np\n",
    "#import ipympl\n",
    "import matplotlib\n",
    "matplotlib.use('nbagg')\n",
    "#from matplotlib import style\n",
    "#style.use('ggplot')\n",
    "import matplotlib.pyplot as plt\n",
    "\n",
    "import astropy.units as u\n",
    "from astropy import stats\n",
    "from astropy.io import fits\n",
    "from mmtwfs.wfs import *\n",
    "from mmtwfs.zernike import ZernikeVector\n",
    "from mmtwfs.telescope import MMT"
   ]
  },
  {
   "cell_type": "code",
   "execution_count": 2,
   "metadata": {},
   "outputs": [],
   "source": [
    "%load_ext autoreload\n",
    "%autoreload 2"
   ]
  },
  {
   "cell_type": "code",
   "execution_count": 3,
   "metadata": {},
   "outputs": [],
   "source": [
    "def wfsrun(wfs, mode, file):\n",
    "    r = wfs.measure_slopes(file, mode=mode, plot=True)\n",
    "    return r"
   ]
  },
  {
   "cell_type": "markdown",
   "metadata": {},
   "source": [
    "# Binospec Dev Section"
   ]
  },
  {
   "cell_type": "code",
   "execution_count": null,
   "metadata": {},
   "outputs": [],
   "source": [
    "bino = WFSFactory(wfs=\"binospec\")"
   ]
  },
  {
   "cell_type": "code",
   "execution_count": null,
   "metadata": {},
   "outputs": [],
   "source": [
    "#%%prun\n",
    "bino_file = \"/Volumes/LaCie 8TB/wfsdat/20180208/wfs_ff_cal_img_2018.0208.074052.fits\"\n",
    "#bino_file = \"/Users/tim/MMT/mmtwfs/mmtwfs/data/test_data/wfs_ff_cal_img_2017.1113.111402.fits\"\n",
    "#bino_file = \"/Volumes/LaCie 8TB/wfsdat/20180209/wfs_ff_cal_img_2018.0209.114054.fits\"\n",
    "#bino_file = \"/Volumes/LaCie 8TB/wfsdat/20180210/wfs_ff_cal_img_2018.0210.095719.fits\"\n",
    "#bino_file = \"/Volumes/LaCie 8TB/wfsdat/20180210/wfs_ff_cal_img_2018.0210.102615.fits\"\n",
    "#bino_file = \"/Volumes/LaCie 8TB/wfsdat/20180604/wfs_ff_cal_img_2018.0604.052401.fits\"\n",
    "results = bino.measure_slopes(bino_file, mode=\"binospec\", plot=True)\n",
    "results['figures']['slopes'].show()"
   ]
  },
  {
   "cell_type": "code",
   "execution_count": null,
   "metadata": {},
   "outputs": [],
   "source": [
    "mask = mk_wfs_mask(results['data'][106:406,100:400], outfile=\"/Users/tim/MMT/mmtwfs/mmtwfs/data/ref_images/bino_mask.fits\")"
   ]
  },
  {
   "cell_type": "code",
   "execution_count": null,
   "metadata": {},
   "outputs": [],
   "source": [
    "refaps = bino.modes['binospec']['reference'].masked_apertures\n",
    "fig, ax = plt.subplots()\n",
    "fit = results['grid_fit']\n",
    "refx = refaps['xcentroid'] * (fit['scale'] + refaps['xcentroid'] * fit['xcoma']) + fit['xcen']\n",
    "refy = refaps['ycentroid'] * (fit['scale'] + refaps['ycentroid'] * fit['ycoma']) + fit['ycen']\n",
    "x, y = results['apertures'].positions.transpose()[0], results['apertures'].positions.transpose()[1]\n",
    "spacing = 0.5*(results['xspacing'] + results['yspacing'])\n",
    "ax.scatter(refx, refy)\n",
    "ax.set_aspect('equal')\n",
    "ax.scatter(x, y)\n",
    "ax.set_xlim(0, 512)\n",
    "ax.set_ylim(0, 512)\n",
    "fig.show()\n",
    "\n",
    "results['grid_fit']"
   ]
  },
  {
   "cell_type": "code",
   "execution_count": null,
   "metadata": {},
   "outputs": [],
   "source": [
    "#%%prun\n",
    "zresults = bino.fit_wavefront(results, plot=True)\n",
    "zvec = zresults['zernike']\n",
    "print(zresults['residual_rms'])\n",
    "#zvec.normalize()\n",
    "print(zvec.pretty_print())\n",
    "#print(zvec)\n",
    "zresults['resid_plot'].show()"
   ]
  },
  {
   "cell_type": "code",
   "execution_count": null,
   "metadata": {},
   "outputs": [],
   "source": [
    "zvec.fringe_bar_chart().show()"
   ]
  },
  {
   "cell_type": "code",
   "execution_count": null,
   "metadata": {},
   "outputs": [],
   "source": [
    "zvec.bar_chart(last_mode=22).show()"
   ]
  },
  {
   "cell_type": "code",
   "execution_count": null,
   "metadata": {},
   "outputs": [],
   "source": [
    "zvec.plot_map().show()"
   ]
  },
  {
   "cell_type": "code",
   "execution_count": null,
   "metadata": {},
   "outputs": [],
   "source": [
    "zv = ZernikeVector(Z38=100)\n",
    "ft, m1c, zv_masked = bino.telescope.calculate_primary_corrections(zvec, mask=['Z22'])\n",
    "bino.telescope.to_rcell(ft, filename=\"null_forces\")"
   ]
  },
  {
   "cell_type": "code",
   "execution_count": null,
   "metadata": {},
   "outputs": [],
   "source": [
    "forces, m1focus, zv_masked = bino.calculate_primary(zvec, threshold=0.25*zresults['residual_rms'])"
   ]
  },
  {
   "cell_type": "code",
   "execution_count": null,
   "metadata": {},
   "outputs": [],
   "source": [
    "bino.modes['binospec']['reference']"
   ]
  },
  {
   "cell_type": "code",
   "execution_count": null,
   "metadata": {},
   "outputs": [],
   "source": [
    "bino.modes['binospec']['reference']['xspacing'], bino.modes['binospec']['reference']['yspacing']"
   ]
  },
  {
   "cell_type": "code",
   "execution_count": null,
   "metadata": {},
   "outputs": [],
   "source": [
    "bino.modes['binospec']['reference']['figure'].show()"
   ]
  },
  {
   "cell_type": "markdown",
   "metadata": {},
   "source": [
    "# MMIRS Dev Section"
   ]
  },
  {
   "cell_type": "code",
   "execution_count": null,
   "metadata": {},
   "outputs": [],
   "source": [
    "mmirs = WFSFactory(wfs=\"mmirs\")"
   ]
  },
  {
   "cell_type": "code",
   "execution_count": null,
   "metadata": {},
   "outputs": [],
   "source": [
    "plt.close('all')\n",
    "mmirs_file = \"/Users/tim/MMT/wfsdat/20181120/mmirs_wfs_%04d.fits\" % 157\n",
    "mmirs_file = \"/Volumes/LaCie 8TB/wfsdat/20181221/mmirs_wfs_%04d.fits\" % 61\n",
    "#mmirs_file = \"/Volumes/LaCie 8TB/wfsdat/20171013/mmirs_wfs_rename_%04d.fits\" % 566  # pacman = 565,566\n",
    "mmirs_file = \"/Users/tim/MMT/mmtwfs/mmtwfs/data/test_data/mmirs_wfs_0150.fits\"\n",
    "#mmirs_file = \"/Volumes/LaCie 8TB/wfsdat/20180511/mmirs_wfs_0275.fits\"\n",
    "#mmirs_file = \"/Users/tim/MMT/wfsdat/test/mmirs_wfs_0192.fits\"\n",
    "#mmirs_file = \"/Volumes/LaCie 8TB/wfsdat/20181121/mmirs_wfs_0111.fits\"\n",
    "#mmirs_file = \"/Users/tim/MMT/wfsdat/20181120/mmirs_wfs_0193.fits\"\n",
    "results = mmirs.measure_slopes(mmirs_file, plot=True)\n",
    "results['figures']['slopes'].show()"
   ]
  },
  {
   "cell_type": "code",
   "execution_count": null,
   "metadata": {},
   "outputs": [],
   "source": [
    "mask = mk_wfs_mask(results['data'][75:395,85:425], outfile=\"/Users/tim/MMT/mmtwfs/mmtwfs/data/ref_images/mmirs_mask.fits\")\n"
   ]
  },
  {
   "cell_type": "code",
   "execution_count": null,
   "metadata": {},
   "outputs": [],
   "source": [
    "hdu = fits.PrimaryHDU(results['data'])\n",
    "hdu.writeto('data.fits', overwrite=True)\n",
    "mmirs.telescope.obscuration"
   ]
  },
  {
   "cell_type": "code",
   "execution_count": null,
   "metadata": {
    "scrolled": false
   },
   "outputs": [],
   "source": [
    "zresults = mmirs.fit_wavefront(results, plot=True)\n",
    "zvec = zresults['zernike']\n",
    "print(zresults['residual_rms'])\n",
    "#zvec.normalize()\n",
    "print(zvec.pretty_print())\n",
    "zresults['resid_plot'].show()"
   ]
  },
  {
   "cell_type": "code",
   "execution_count": null,
   "metadata": {},
   "outputs": [],
   "source": [
    "zresults['zernike'].fringe_bar_chart().show()"
   ]
  },
  {
   "cell_type": "code",
   "execution_count": null,
   "metadata": {},
   "outputs": [],
   "source": [
    "fig, ax = plt.subplots()\n",
    "norm = wfs_norm(results['data'])\n",
    "ax.imshow(results['data'], cmap='Greys', origin='lower', norm=norm, interpolation='None')\n",
    "mmirs.modes['mmirs1']['reference'].photapers.plot(color='red', lw=1.5, alpha=0.1, ax=ax)\n",
    "plt.show()"
   ]
  },
  {
   "cell_type": "code",
   "execution_count": null,
   "metadata": {},
   "outputs": [],
   "source": [
    "plt.close('all')"
   ]
  },
  {
   "cell_type": "code",
   "execution_count": null,
   "metadata": {},
   "outputs": [],
   "source": [
    "refaps = mmirs.modes['mmirs1']['reference'].masked_apertures\n",
    "fig, ax = plt.subplots()\n",
    "fit = results['grid_fit']\n",
    "refx = refaps['xcentroid'] * (fit['scale'] + refaps['xcentroid'] * fit['xcoma']) + fit['xcen']\n",
    "refy = refaps['ycentroid'] * (fit['scale'] + refaps['ycentroid'] * fit['ycoma']) + fit['ycen']\n",
    "x, y = results['apertures'].positions.transpose()[0], results['apertures'].positions.transpose()[1]\n",
    "spacing = 0.5*(results['xspacing'] + results['yspacing'])\n",
    "ax.scatter(refx, refy)\n",
    "ax.set_aspect('equal')\n",
    "ax.scatter(x, y)\n",
    "ax.set_xlim(0, 512)\n",
    "ax.set_ylim(0, 512)\n",
    "fig.show()\n",
    "\n",
    "results['grid_fit']"
   ]
  },
  {
   "cell_type": "code",
   "execution_count": null,
   "metadata": {},
   "outputs": [],
   "source": [
    "zresults['zernike'].bar_chart(last_mode=21).show()"
   ]
  },
  {
   "cell_type": "code",
   "execution_count": null,
   "metadata": {},
   "outputs": [],
   "source": [
    "psf, pfig = mmirs.telescope.psf(zresults['zernike'].copy())\n",
    "pfig.show()"
   ]
  },
  {
   "cell_type": "code",
   "execution_count": null,
   "metadata": {},
   "outputs": [],
   "source": [
    "print(mmirs.modes['mmirs1']['reference']['fwhm'])\n",
    "\n",
    "spot = mmirs.modes['mmirs1']['reference']['spot']\n",
    "model = Gaussian2D(amplitude=spot.max(), x_mean=spot.shape[1]/2, y_mean=spot.shape[0]/2) + Polynomial2D(degree=0)\n",
    "#model = Gaussian2D(amplitude=spot.max(), x_mean=spot.shape[1]/2, y_mean=spot.shape[0]/2)\n",
    "fitter = LevMarLSQFitter()\n",
    "y, x = np.mgrid[:spot.shape[0], :spot.shape[1]]\n",
    "fit = fitter(model, x, y, spot)\n",
    "fig, ax = plt.subplots()\n",
    "ax.imshow(mmirs.modes['mmirs1']['reference']['spot'] - fit(x, y))\n",
    "fig.show()"
   ]
  },
  {
   "cell_type": "code",
   "execution_count": null,
   "metadata": {},
   "outputs": [],
   "source": [
    "mmirs.modes['mmirs1']['reference']['figure'].show()\n",
    "mmirs.modes['mmirs1']['reference']['xspacing'], mmirs.modes['mmirs1']['reference']['yspacing']"
   ]
  },
  {
   "cell_type": "code",
   "execution_count": null,
   "metadata": {},
   "outputs": [],
   "source": [
    "zplot = zvec.copy()\n",
    "zplot.ignore('Z02')\n",
    "zplot.ignore('Z03')\n",
    "mfig = zplot.plot_map()\n",
    "mfig.show()\n",
    "zplot.peak2valley"
   ]
  },
  {
   "cell_type": "code",
   "execution_count": null,
   "metadata": {},
   "outputs": [],
   "source": [
    "zvec.units = u.nm\n",
    "f = zvec.bar_chart(residual=zresults['residual_rms'])\n",
    "f.set_size_inches(9, 5)\n",
    "\n",
    "f.show()"
   ]
  },
  {
   "cell_type": "code",
   "execution_count": null,
   "metadata": {},
   "outputs": [],
   "source": [
    "plt.close(f)"
   ]
  },
  {
   "cell_type": "code",
   "execution_count": null,
   "metadata": {},
   "outputs": [],
   "source": [
    "torig = mmirs.telescope.bending_forces(zvec)\n",
    "torig.show_in_notebook()"
   ]
  },
  {
   "cell_type": "code",
   "execution_count": null,
   "metadata": {},
   "outputs": [],
   "source": [
    "force_fig = mmirs.telescope.plot_forces(torig)\n",
    "force_fig.show()"
   ]
  },
  {
   "cell_type": "code",
   "execution_count": null,
   "metadata": {},
   "outputs": [],
   "source": [
    "t, m1foc = mmirs.correct_primary(zv=zvec)\n",
    "print(m1foc)\n",
    "t.show_in_notebook()"
   ]
  },
  {
   "cell_type": "code",
   "execution_count": null,
   "metadata": {},
   "outputs": [],
   "source": [
    "new_force_fig = mmirs.telescope.plot_forces(t)\n",
    "new_force_fig.show()"
   ]
  },
  {
   "cell_type": "code",
   "execution_count": null,
   "metadata": {},
   "outputs": [],
   "source": [
    "zpsf = ZernikeVector()\n",
    "psf, psf_fig = mmirs.telescope.psf(zpsf, plot=True)\n",
    "psf_fig.set_size_inches(4.0, 4.0)\n",
    "psf_fig.show()"
   ]
  },
  {
   "cell_type": "markdown",
   "metadata": {},
   "source": [
    "# F/9 Dev Section"
   ]
  },
  {
   "cell_type": "code",
   "execution_count": null,
   "metadata": {},
   "outputs": [],
   "source": [
    "plt.close('all')\n",
    "f9wfs = WFSFactory(wfs=\"newf9\")\n",
    "#f9wfs = WFSFactory(wfs=\"newf9\", pup_offset=[0.0, 0.0])"
   ]
  },
  {
   "cell_type": "code",
   "execution_count": null,
   "metadata": {},
   "outputs": [],
   "source": [
    "f9wfs.modes['blue']['reference'].figure.show()"
   ]
  },
  {
   "cell_type": "code",
   "execution_count": null,
   "metadata": {},
   "outputs": [],
   "source": [
    "baseline1_files = [\"f9wfs_20180131-191734.fits\", \"f9wfs_20180131-191925.fits\", \"f9wfs_20180131-192131.fits\"]\n",
    "baseline2_files = [\"f9wfs_20180131-192350.fits\", \"f9wfs_20180131-192541.fits\", \"f9wfs_20180131-192731.fits\"]\n",
    "baseline3_files = [\n",
    "    \"f9wfs_20180131-192927.fits\", \"f9wfs_20180131-193109.fits\", \n",
    "    \"f9wfs_20180131-193325.fits\", \"f9wfs_20180131-193509.fits\"\n",
    "]"
   ]
  },
  {
   "cell_type": "code",
   "execution_count": null,
   "metadata": {},
   "outputs": [],
   "source": [
    "plt.close('all')\n",
    "#f9_file = \"/Volumes/LaCie 8TB/wfsdat/20180201/\" + baseline3_files[0]\n",
    "#f9_file = \"/Users/tim/MMT/mmtwfs/mmtwfs/data/test_data/test_newf9.fits\"\n",
    "#f9_file = \"/Volumes/LaCie 8TB/wfsdat/20180909/f9wfs_20180908-220524.fits\"\n",
    "f9_file = \"/Volumes/LaCie 8TB/wfsdat/20190104/f9wfs_20190104-020657.fits\"\n",
    "results = f9wfs.measure_slopes(f9_file, 'spol', plot=True)\n",
    "#plt.scatter(refaps['xcentroid']+results['xcen'], refaps['ycentroid']+results['ycen'])\n",
    "results['figures']['slopes'].show()\n",
    "# 265 258\n",
    "# ref 240 259.5"
   ]
  },
  {
   "cell_type": "code",
   "execution_count": null,
   "metadata": {},
   "outputs": [],
   "source": [
    "mask = mk_wfs_mask(results['data'][130:710,60:620], outfile=\"/Users/tim/MMT/mmtwfs/mmtwfs/data/ref_images/newf9_mask.fits\")"
   ]
  },
  {
   "cell_type": "code",
   "execution_count": null,
   "metadata": {},
   "outputs": [],
   "source": [
    "zresults = f9wfs.fit_wavefront(results, plot=True)\n",
    "print(zresults['residual_rms'])\n",
    "print(zresults['zernike'].pretty_print())\n",
    "zresults['resid_plot'].show()"
   ]
  },
  {
   "cell_type": "code",
   "execution_count": null,
   "metadata": {},
   "outputs": [],
   "source": [
    "results['ref_mask']"
   ]
  },
  {
   "cell_type": "code",
   "execution_count": null,
   "metadata": {},
   "outputs": [],
   "source": [
    "f9wfs.modes['blue']['reference'].xcen"
   ]
  },
  {
   "cell_type": "code",
   "execution_count": null,
   "metadata": {},
   "outputs": [],
   "source": [
    "refaps = f9wfs.modes['blue']['reference'].masked_apertures\n",
    "fig, ax = plt.subplots()\n",
    "fit = results['grid_fit']\n",
    "refx = refaps['xcentroid'] * (fit['scale'] + refaps['xcentroid'] * fit['xcoma']) + fit['xcen']\n",
    "refy = refaps['ycentroid'] * (fit['scale'] + refaps['ycentroid'] * fit['ycoma']) + fit['ycen']\n",
    "x, y = results['apertures'].positions.transpose()[0], results['apertures'].positions.transpose()[1]\n",
    "spacing = 0.5*(results['xspacing'] + results['yspacing'])\n",
    "ax.scatter(refx, refy)\n",
    "ax.set_aspect('equal')\n",
    "ax.scatter(x, y)\n",
    "ax.set_xlim(0, 845)\n",
    "ax.set_ylim(0, 845)\n",
    "fig.show()\n",
    "fit['scale']"
   ]
  },
  {
   "cell_type": "code",
   "execution_count": null,
   "metadata": {},
   "outputs": [],
   "source": [
    "data = check_wfsdata(f9_file)\n",
    "x = np.arange(data.shape[1])\n",
    "y = np.arange(data.shape[0])\n",
    "bx = np.arange(data.shape[1]+1)\n",
    "by = np.arange(data.shape[0]+1)\n",
    "apertures = results['spots']\n",
    "\n",
    "# bin the spot positions along the axes and use Lomb-Scargle to measure the grid spacing in each direction\n",
    "xsum = np.histogram(apertures['xcentroid'], bins=bx)\n",
    "ysum = np.histogram(apertures['ycentroid'], bins=by)\n",
    "\n",
    "k = np.linspace(10.0, 50., 500)  # look for spacings from 5 to 50 pixels (plenty of range)\n",
    "f = 1.0 / k  # convert spacing to frequency\n",
    "xp = stats.LombScargle(x, xsum[0]).power(f)\n",
    "yp = stats.LombScargle(y, ysum[0]).power(f)\n",
    "plt.plot(k, yp)\n",
    "plt.show()"
   ]
  },
  {
   "cell_type": "code",
   "execution_count": null,
   "metadata": {},
   "outputs": [],
   "source": [
    "zresults['zernike'].bar_chart(last_mode=21).show()"
   ]
  },
  {
   "cell_type": "code",
   "execution_count": null,
   "metadata": {},
   "outputs": [],
   "source": [
    "zresults['zernike'].fringe_bar_chart().show()"
   ]
  },
  {
   "cell_type": "code",
   "execution_count": null,
   "metadata": {},
   "outputs": [],
   "source": [
    "spots = {'xcentroid': x, 'ycentroid': y}\n",
    "from scipy import optimize\n",
    "\n",
    "def match_apertures(refx, refy, spotx, spoty):\n",
    "    tot_dist = 0.0\n",
    "    refs = np.array([refx, refy])\n",
    "    spots = np.array([spotx, spoty])\n",
    "    match = np.empty(len(refx))\n",
    "    max_r = spacing / 2.\n",
    "    for i in np.arange(len(refx)):\n",
    "        dists = np.sqrt( (spots[0]-refs[0][i])**2 + (spots[1]-refs[1][i])**2 )\n",
    "        tot_dist += np.min(dists)\n",
    "    return tot_dist\n",
    "\n",
    "def fit_apertures(pars, ref, spots):\n",
    "    xc = pars[0]\n",
    "    yc = pars[1]\n",
    "    xscale = pars[2]\n",
    "    yscale = pars[3]\n",
    "    xcoma = pars[4]\n",
    "    ycoma = pars[5]\n",
    "    refx = ref['xcentroid'] * (xscale + ref['xcentroid'] * xcoma) + xc\n",
    "    refy = ref['ycentroid'] * (yscale + ref['ycentroid'] * ycoma) + yc\n",
    "    spotx = spots['xcentroid']\n",
    "    spoty = spots['ycentroid']\n",
    "    dist = match_apertures(refx, refy, spotx, spoty)\n",
    "    return dist"
   ]
  },
  {
   "cell_type": "code",
   "execution_count": null,
   "metadata": {},
   "outputs": [],
   "source": [
    "#%%timeit\n",
    "args = (refaps, spots)\n",
    "pars = (results['xcen'], results['ycen'], 1.0, 1.0, 0.0, 0.0)\n",
    "bounds = (\n",
    "    (results['xcen']-50, results['xcen']+50), \n",
    "    (results['ycen']-50, results['ycen']+50),\n",
    "    (0.8, 1.2),\n",
    "    (0.8, 1.2),\n",
    "    (-0.1, 0.1),\n",
    "    (-0.1, 0.1)\n",
    ")\n",
    "res = optimize.minimize(fit_apertures, pars, args=args, bounds=bounds)\n",
    "res"
   ]
  },
  {
   "cell_type": "code",
   "execution_count": null,
   "metadata": {},
   "outputs": [],
   "source": [
    "fig, ax = plt.subplots()\n",
    "refx, refy = refaps['xcentroid'], refaps['ycentroid']\n",
    "refx = refx * (res['x'][2] + refx*res['x'][4]) + res['x'][0]\n",
    "refy = refy * (res['x'][3] + refy*res['x'][5]) + res['x'][1]\n",
    "x, y = results['apertures'].positions.transpose()[0], results['apertures'].positions.transpose()[1]\n",
    "ax.scatter(refx, refy)\n",
    "ax.set_aspect('equal')\n",
    "ax.scatter(x, y)\n",
    "ax.set_xlim(0, 845)\n",
    "ax.set_ylim(0, 845)\n",
    "fig.show()"
   ]
  },
  {
   "cell_type": "code",
   "execution_count": null,
   "metadata": {},
   "outputs": [],
   "source": [
    "print(f9wfs.modes['blue']['reference']['xcen'], f9wfs.modes['blue']['reference']['ycen'])\n",
    "print(f9wfs.modes['blue']['reference']['xspacing'], f9wfs.modes['blue']['reference']['yspacing'])\n",
    "f9wfs.modes['blue']['reference'].keys()"
   ]
  },
  {
   "cell_type": "code",
   "execution_count": null,
   "metadata": {},
   "outputs": [],
   "source": [
    "zv = zresults['zernike']\n",
    "print(zv.rms)\n",
    "zv.ignore('Z02')\n",
    "zv.ignore('Z03')\n",
    "f = zv.plot_map()\n",
    "f.show()"
   ]
  },
  {
   "cell_type": "code",
   "execution_count": null,
   "metadata": {},
   "outputs": [],
   "source": [
    "bc = zv.bar_chart(residual=zresults['residual_rms'])\n",
    "bc.show()"
   ]
  },
  {
   "cell_type": "code",
   "execution_count": null,
   "metadata": {},
   "outputs": [],
   "source": [
    "psf, psf_fig = f9wfs.telescope.psf(zv, fov=1.0)\n",
    "psf_fig.show()"
   ]
  },
  {
   "cell_type": "code",
   "execution_count": null,
   "metadata": {},
   "outputs": [],
   "source": [
    "plt.close('all')"
   ]
  },
  {
   "cell_type": "markdown",
   "metadata": {},
   "source": [
    "# F/5 Dev Section"
   ]
  },
  {
   "cell_type": "code",
   "execution_count": null,
   "metadata": {},
   "outputs": [],
   "source": [
    "f5wfs = WFSFactory(wfs=\"f5\")"
   ]
  },
  {
   "cell_type": "code",
   "execution_count": null,
   "metadata": {},
   "outputs": [],
   "source": [
    "#%%prun\n",
    "plt.close('all')\n",
    "#f5_file = \"/Volumes/LaCie 8TB/wfsdat/20181022/manual_wfs_0003.fits\"\n",
    "#f5_file = \"/Users/tim/MMT/mmtwfs/mmtwfs/data/test_data/auto_wfs_0037_ave.fits\"\n",
    "f5_file = \"/Users/tim/MMT/wfsdat/20180923/manual_wfs_0019.fits\"\n",
    "results = f5wfs.measure_slopes(f5_file, 'hecto', plot=True)\n",
    "results['figures']['slopes'].show()"
   ]
  },
  {
   "cell_type": "code",
   "execution_count": null,
   "metadata": {},
   "outputs": [],
   "source": [
    "mask = mk_wfs_mask(results['data'][25:475,25:475], outfile=\"/Users/tim/MMT/mmtwfs/mmtwfs/data/ref_images/f5_mask.fits\")"
   ]
  },
  {
   "cell_type": "code",
   "execution_count": null,
   "metadata": {},
   "outputs": [],
   "source": [
    "f5wfs.calculate_recenter(results), results['xcen'], results['ycen']"
   ]
  },
  {
   "cell_type": "code",
   "execution_count": null,
   "metadata": {},
   "outputs": [],
   "source": [
    "#%%prun\n",
    "zresults = f5wfs.fit_wavefront(results, plot=True)\n",
    "zv = zresults['zernike']\n",
    "print(zv.pretty_print())\n",
    "print(zv.rms)\n",
    "zresults['resid_plot'].show()"
   ]
  },
  {
   "cell_type": "code",
   "execution_count": null,
   "metadata": {},
   "outputs": [],
   "source": [
    "zf = zv.fringe_bar_chart()\n",
    "zf.show()\n",
    "zresults['residual_rms']"
   ]
  },
  {
   "cell_type": "code",
   "execution_count": null,
   "metadata": {},
   "outputs": [],
   "source": [
    "bc = zv.bar_chart(last_mode=21)\n",
    "bc.show()"
   ]
  },
  {
   "cell_type": "code",
   "execution_count": null,
   "metadata": {},
   "outputs": [],
   "source": [
    "zv.denormalize()\n",
    "zv"
   ]
  },
  {
   "cell_type": "code",
   "execution_count": null,
   "metadata": {
    "slideshow": {
     "slide_type": "-"
    }
   },
   "outputs": [],
   "source": [
    "refaps = f5wfs.modes['hecto']['reference'].masked_apertures\n",
    "fig, ax = plt.subplots()\n",
    "fit = results['grid_fit']\n",
    "refx = refaps['xcentroid'] * (fit['scale'] + refaps['xcentroid'] * fit['xcoma']) + fit['xcen']\n",
    "refy = refaps['ycentroid'] * (fit['scale'] + refaps['ycentroid'] * fit['ycoma']) + fit['ycen']\n",
    "x, y = results['apertures'].positions.transpose()[0], results['apertures'].positions.transpose()[1]\n",
    "spacing = 0.5*(results['xspacing'] + results['yspacing'])\n",
    "ax.scatter(refx, refy)\n",
    "ax.set_aspect('equal')\n",
    "ax.scatter(x, y)\n",
    "ax.set_xlim(0, 512)\n",
    "ax.set_ylim(0, 512)\n",
    "fig.show()"
   ]
  },
  {
   "cell_type": "code",
   "execution_count": null,
   "metadata": {},
   "outputs": [],
   "source": [
    "zv.ignore('Z02')\n",
    "zv.ignore('Z03')\n",
    "zv.ignore('Z04')\n",
    "print(zv.rms)\n",
    "mf = zv.plot_map()\n",
    "mf.show()"
   ]
  },
  {
   "cell_type": "code",
   "execution_count": null,
   "metadata": {},
   "outputs": [],
   "source": [
    "t, m1foc = f5wfs.telescope.calculate_primary_corrections(zresults['zernike'])"
   ]
  },
  {
   "cell_type": "code",
   "execution_count": null,
   "metadata": {},
   "outputs": [],
   "source": [
    "fplot = f5wfs.telescope.plot_forces(t, m1focus=m1foc)\n",
    "fplot.show()"
   ]
  },
  {
   "cell_type": "code",
   "execution_count": null,
   "metadata": {},
   "outputs": [],
   "source": [
    "t.show_in_notebook()"
   ]
  },
  {
   "cell_type": "markdown",
   "metadata": {},
   "source": [
    "# Old F/9"
   ]
  },
  {
   "cell_type": "code",
   "execution_count": 4,
   "metadata": {},
   "outputs": [],
   "source": [
    "oldf9 = WFSFactory(wfs=\"f9\")"
   ]
  },
  {
   "cell_type": "code",
   "execution_count": 9,
   "metadata": {},
   "outputs": [
    {
     "data": {
      "application/javascript": [
       "/* Put everything inside the global mpl namespace */\n",
       "window.mpl = {};\n",
       "\n",
       "\n",
       "mpl.get_websocket_type = function() {\n",
       "    if (typeof(WebSocket) !== 'undefined') {\n",
       "        return WebSocket;\n",
       "    } else if (typeof(MozWebSocket) !== 'undefined') {\n",
       "        return MozWebSocket;\n",
       "    } else {\n",
       "        alert('Your browser does not have WebSocket support. ' +\n",
       "              'Please try Chrome, Safari or Firefox ≥ 6. ' +\n",
       "              'Firefox 4 and 5 are also supported but you ' +\n",
       "              'have to enable WebSockets in about:config.');\n",
       "    };\n",
       "}\n",
       "\n",
       "mpl.figure = function(figure_id, websocket, ondownload, parent_element) {\n",
       "    this.id = figure_id;\n",
       "\n",
       "    this.ws = websocket;\n",
       "\n",
       "    this.supports_binary = (this.ws.binaryType != undefined);\n",
       "\n",
       "    if (!this.supports_binary) {\n",
       "        var warnings = document.getElementById(\"mpl-warnings\");\n",
       "        if (warnings) {\n",
       "            warnings.style.display = 'block';\n",
       "            warnings.textContent = (\n",
       "                \"This browser does not support binary websocket messages. \" +\n",
       "                    \"Performance may be slow.\");\n",
       "        }\n",
       "    }\n",
       "\n",
       "    this.imageObj = new Image();\n",
       "\n",
       "    this.context = undefined;\n",
       "    this.message = undefined;\n",
       "    this.canvas = undefined;\n",
       "    this.rubberband_canvas = undefined;\n",
       "    this.rubberband_context = undefined;\n",
       "    this.format_dropdown = undefined;\n",
       "\n",
       "    this.image_mode = 'full';\n",
       "\n",
       "    this.root = $('<div/>');\n",
       "    this._root_extra_style(this.root)\n",
       "    this.root.attr('style', 'display: inline-block');\n",
       "\n",
       "    $(parent_element).append(this.root);\n",
       "\n",
       "    this._init_header(this);\n",
       "    this._init_canvas(this);\n",
       "    this._init_toolbar(this);\n",
       "\n",
       "    var fig = this;\n",
       "\n",
       "    this.waiting = false;\n",
       "\n",
       "    this.ws.onopen =  function () {\n",
       "            fig.send_message(\"supports_binary\", {value: fig.supports_binary});\n",
       "            fig.send_message(\"send_image_mode\", {});\n",
       "            if (mpl.ratio != 1) {\n",
       "                fig.send_message(\"set_dpi_ratio\", {'dpi_ratio': mpl.ratio});\n",
       "            }\n",
       "            fig.send_message(\"refresh\", {});\n",
       "        }\n",
       "\n",
       "    this.imageObj.onload = function() {\n",
       "            if (fig.image_mode == 'full') {\n",
       "                // Full images could contain transparency (where diff images\n",
       "                // almost always do), so we need to clear the canvas so that\n",
       "                // there is no ghosting.\n",
       "                fig.context.clearRect(0, 0, fig.canvas.width, fig.canvas.height);\n",
       "            }\n",
       "            fig.context.drawImage(fig.imageObj, 0, 0);\n",
       "        };\n",
       "\n",
       "    this.imageObj.onunload = function() {\n",
       "        fig.ws.close();\n",
       "    }\n",
       "\n",
       "    this.ws.onmessage = this._make_on_message_function(this);\n",
       "\n",
       "    this.ondownload = ondownload;\n",
       "}\n",
       "\n",
       "mpl.figure.prototype._init_header = function() {\n",
       "    var titlebar = $(\n",
       "        '<div class=\"ui-dialog-titlebar ui-widget-header ui-corner-all ' +\n",
       "        'ui-helper-clearfix\"/>');\n",
       "    var titletext = $(\n",
       "        '<div class=\"ui-dialog-title\" style=\"width: 100%; ' +\n",
       "        'text-align: center; padding: 3px;\"/>');\n",
       "    titlebar.append(titletext)\n",
       "    this.root.append(titlebar);\n",
       "    this.header = titletext[0];\n",
       "}\n",
       "\n",
       "\n",
       "\n",
       "mpl.figure.prototype._canvas_extra_style = function(canvas_div) {\n",
       "\n",
       "}\n",
       "\n",
       "\n",
       "mpl.figure.prototype._root_extra_style = function(canvas_div) {\n",
       "\n",
       "}\n",
       "\n",
       "mpl.figure.prototype._init_canvas = function() {\n",
       "    var fig = this;\n",
       "\n",
       "    var canvas_div = $('<div/>');\n",
       "\n",
       "    canvas_div.attr('style', 'position: relative; clear: both; outline: 0');\n",
       "\n",
       "    function canvas_keyboard_event(event) {\n",
       "        return fig.key_event(event, event['data']);\n",
       "    }\n",
       "\n",
       "    canvas_div.keydown('key_press', canvas_keyboard_event);\n",
       "    canvas_div.keyup('key_release', canvas_keyboard_event);\n",
       "    this.canvas_div = canvas_div\n",
       "    this._canvas_extra_style(canvas_div)\n",
       "    this.root.append(canvas_div);\n",
       "\n",
       "    var canvas = $('<canvas/>');\n",
       "    canvas.addClass('mpl-canvas');\n",
       "    canvas.attr('style', \"left: 0; top: 0; z-index: 0; outline: 0\")\n",
       "\n",
       "    this.canvas = canvas[0];\n",
       "    this.context = canvas[0].getContext(\"2d\");\n",
       "\n",
       "    var backingStore = this.context.backingStorePixelRatio ||\n",
       "\tthis.context.webkitBackingStorePixelRatio ||\n",
       "\tthis.context.mozBackingStorePixelRatio ||\n",
       "\tthis.context.msBackingStorePixelRatio ||\n",
       "\tthis.context.oBackingStorePixelRatio ||\n",
       "\tthis.context.backingStorePixelRatio || 1;\n",
       "\n",
       "    mpl.ratio = (window.devicePixelRatio || 1) / backingStore;\n",
       "\n",
       "    var rubberband = $('<canvas/>');\n",
       "    rubberband.attr('style', \"position: absolute; left: 0; top: 0; z-index: 1;\")\n",
       "\n",
       "    var pass_mouse_events = true;\n",
       "\n",
       "    canvas_div.resizable({\n",
       "        start: function(event, ui) {\n",
       "            pass_mouse_events = false;\n",
       "        },\n",
       "        resize: function(event, ui) {\n",
       "            fig.request_resize(ui.size.width, ui.size.height);\n",
       "        },\n",
       "        stop: function(event, ui) {\n",
       "            pass_mouse_events = true;\n",
       "            fig.request_resize(ui.size.width, ui.size.height);\n",
       "        },\n",
       "    });\n",
       "\n",
       "    function mouse_event_fn(event) {\n",
       "        if (pass_mouse_events)\n",
       "            return fig.mouse_event(event, event['data']);\n",
       "    }\n",
       "\n",
       "    rubberband.mousedown('button_press', mouse_event_fn);\n",
       "    rubberband.mouseup('button_release', mouse_event_fn);\n",
       "    // Throttle sequential mouse events to 1 every 20ms.\n",
       "    rubberband.mousemove('motion_notify', mouse_event_fn);\n",
       "\n",
       "    rubberband.mouseenter('figure_enter', mouse_event_fn);\n",
       "    rubberband.mouseleave('figure_leave', mouse_event_fn);\n",
       "\n",
       "    canvas_div.on(\"wheel\", function (event) {\n",
       "        event = event.originalEvent;\n",
       "        event['data'] = 'scroll'\n",
       "        if (event.deltaY < 0) {\n",
       "            event.step = 1;\n",
       "        } else {\n",
       "            event.step = -1;\n",
       "        }\n",
       "        mouse_event_fn(event);\n",
       "    });\n",
       "\n",
       "    canvas_div.append(canvas);\n",
       "    canvas_div.append(rubberband);\n",
       "\n",
       "    this.rubberband = rubberband;\n",
       "    this.rubberband_canvas = rubberband[0];\n",
       "    this.rubberband_context = rubberband[0].getContext(\"2d\");\n",
       "    this.rubberband_context.strokeStyle = \"#000000\";\n",
       "\n",
       "    this._resize_canvas = function(width, height) {\n",
       "        // Keep the size of the canvas, canvas container, and rubber band\n",
       "        // canvas in synch.\n",
       "        canvas_div.css('width', width)\n",
       "        canvas_div.css('height', height)\n",
       "\n",
       "        canvas.attr('width', width * mpl.ratio);\n",
       "        canvas.attr('height', height * mpl.ratio);\n",
       "        canvas.attr('style', 'width: ' + width + 'px; height: ' + height + 'px;');\n",
       "\n",
       "        rubberband.attr('width', width);\n",
       "        rubberband.attr('height', height);\n",
       "    }\n",
       "\n",
       "    // Set the figure to an initial 600x600px, this will subsequently be updated\n",
       "    // upon first draw.\n",
       "    this._resize_canvas(600, 600);\n",
       "\n",
       "    // Disable right mouse context menu.\n",
       "    $(this.rubberband_canvas).bind(\"contextmenu\",function(e){\n",
       "        return false;\n",
       "    });\n",
       "\n",
       "    function set_focus () {\n",
       "        canvas.focus();\n",
       "        canvas_div.focus();\n",
       "    }\n",
       "\n",
       "    window.setTimeout(set_focus, 100);\n",
       "}\n",
       "\n",
       "mpl.figure.prototype._init_toolbar = function() {\n",
       "    var fig = this;\n",
       "\n",
       "    var nav_element = $('<div/>');\n",
       "    nav_element.attr('style', 'width: 100%');\n",
       "    this.root.append(nav_element);\n",
       "\n",
       "    // Define a callback function for later on.\n",
       "    function toolbar_event(event) {\n",
       "        return fig.toolbar_button_onclick(event['data']);\n",
       "    }\n",
       "    function toolbar_mouse_event(event) {\n",
       "        return fig.toolbar_button_onmouseover(event['data']);\n",
       "    }\n",
       "\n",
       "    for(var toolbar_ind in mpl.toolbar_items) {\n",
       "        var name = mpl.toolbar_items[toolbar_ind][0];\n",
       "        var tooltip = mpl.toolbar_items[toolbar_ind][1];\n",
       "        var image = mpl.toolbar_items[toolbar_ind][2];\n",
       "        var method_name = mpl.toolbar_items[toolbar_ind][3];\n",
       "\n",
       "        if (!name) {\n",
       "            // put a spacer in here.\n",
       "            continue;\n",
       "        }\n",
       "        var button = $('<button/>');\n",
       "        button.addClass('ui-button ui-widget ui-state-default ui-corner-all ' +\n",
       "                        'ui-button-icon-only');\n",
       "        button.attr('role', 'button');\n",
       "        button.attr('aria-disabled', 'false');\n",
       "        button.click(method_name, toolbar_event);\n",
       "        button.mouseover(tooltip, toolbar_mouse_event);\n",
       "\n",
       "        var icon_img = $('<span/>');\n",
       "        icon_img.addClass('ui-button-icon-primary ui-icon');\n",
       "        icon_img.addClass(image);\n",
       "        icon_img.addClass('ui-corner-all');\n",
       "\n",
       "        var tooltip_span = $('<span/>');\n",
       "        tooltip_span.addClass('ui-button-text');\n",
       "        tooltip_span.html(tooltip);\n",
       "\n",
       "        button.append(icon_img);\n",
       "        button.append(tooltip_span);\n",
       "\n",
       "        nav_element.append(button);\n",
       "    }\n",
       "\n",
       "    var fmt_picker_span = $('<span/>');\n",
       "\n",
       "    var fmt_picker = $('<select/>');\n",
       "    fmt_picker.addClass('mpl-toolbar-option ui-widget ui-widget-content');\n",
       "    fmt_picker_span.append(fmt_picker);\n",
       "    nav_element.append(fmt_picker_span);\n",
       "    this.format_dropdown = fmt_picker[0];\n",
       "\n",
       "    for (var ind in mpl.extensions) {\n",
       "        var fmt = mpl.extensions[ind];\n",
       "        var option = $(\n",
       "            '<option/>', {selected: fmt === mpl.default_extension}).html(fmt);\n",
       "        fmt_picker.append(option);\n",
       "    }\n",
       "\n",
       "    // Add hover states to the ui-buttons\n",
       "    $( \".ui-button\" ).hover(\n",
       "        function() { $(this).addClass(\"ui-state-hover\");},\n",
       "        function() { $(this).removeClass(\"ui-state-hover\");}\n",
       "    );\n",
       "\n",
       "    var status_bar = $('<span class=\"mpl-message\"/>');\n",
       "    nav_element.append(status_bar);\n",
       "    this.message = status_bar[0];\n",
       "}\n",
       "\n",
       "mpl.figure.prototype.request_resize = function(x_pixels, y_pixels) {\n",
       "    // Request matplotlib to resize the figure. Matplotlib will then trigger a resize in the client,\n",
       "    // which will in turn request a refresh of the image.\n",
       "    this.send_message('resize', {'width': x_pixels, 'height': y_pixels});\n",
       "}\n",
       "\n",
       "mpl.figure.prototype.send_message = function(type, properties) {\n",
       "    properties['type'] = type;\n",
       "    properties['figure_id'] = this.id;\n",
       "    this.ws.send(JSON.stringify(properties));\n",
       "}\n",
       "\n",
       "mpl.figure.prototype.send_draw_message = function() {\n",
       "    if (!this.waiting) {\n",
       "        this.waiting = true;\n",
       "        this.ws.send(JSON.stringify({type: \"draw\", figure_id: this.id}));\n",
       "    }\n",
       "}\n",
       "\n",
       "\n",
       "mpl.figure.prototype.handle_save = function(fig, msg) {\n",
       "    var format_dropdown = fig.format_dropdown;\n",
       "    var format = format_dropdown.options[format_dropdown.selectedIndex].value;\n",
       "    fig.ondownload(fig, format);\n",
       "}\n",
       "\n",
       "\n",
       "mpl.figure.prototype.handle_resize = function(fig, msg) {\n",
       "    var size = msg['size'];\n",
       "    if (size[0] != fig.canvas.width || size[1] != fig.canvas.height) {\n",
       "        fig._resize_canvas(size[0], size[1]);\n",
       "        fig.send_message(\"refresh\", {});\n",
       "    };\n",
       "}\n",
       "\n",
       "mpl.figure.prototype.handle_rubberband = function(fig, msg) {\n",
       "    var x0 = msg['x0'] / mpl.ratio;\n",
       "    var y0 = (fig.canvas.height - msg['y0']) / mpl.ratio;\n",
       "    var x1 = msg['x1'] / mpl.ratio;\n",
       "    var y1 = (fig.canvas.height - msg['y1']) / mpl.ratio;\n",
       "    x0 = Math.floor(x0) + 0.5;\n",
       "    y0 = Math.floor(y0) + 0.5;\n",
       "    x1 = Math.floor(x1) + 0.5;\n",
       "    y1 = Math.floor(y1) + 0.5;\n",
       "    var min_x = Math.min(x0, x1);\n",
       "    var min_y = Math.min(y0, y1);\n",
       "    var width = Math.abs(x1 - x0);\n",
       "    var height = Math.abs(y1 - y0);\n",
       "\n",
       "    fig.rubberband_context.clearRect(\n",
       "        0, 0, fig.canvas.width, fig.canvas.height);\n",
       "\n",
       "    fig.rubberband_context.strokeRect(min_x, min_y, width, height);\n",
       "}\n",
       "\n",
       "mpl.figure.prototype.handle_figure_label = function(fig, msg) {\n",
       "    // Updates the figure title.\n",
       "    fig.header.textContent = msg['label'];\n",
       "}\n",
       "\n",
       "mpl.figure.prototype.handle_cursor = function(fig, msg) {\n",
       "    var cursor = msg['cursor'];\n",
       "    switch(cursor)\n",
       "    {\n",
       "    case 0:\n",
       "        cursor = 'pointer';\n",
       "        break;\n",
       "    case 1:\n",
       "        cursor = 'default';\n",
       "        break;\n",
       "    case 2:\n",
       "        cursor = 'crosshair';\n",
       "        break;\n",
       "    case 3:\n",
       "        cursor = 'move';\n",
       "        break;\n",
       "    }\n",
       "    fig.rubberband_canvas.style.cursor = cursor;\n",
       "}\n",
       "\n",
       "mpl.figure.prototype.handle_message = function(fig, msg) {\n",
       "    fig.message.textContent = msg['message'];\n",
       "}\n",
       "\n",
       "mpl.figure.prototype.handle_draw = function(fig, msg) {\n",
       "    // Request the server to send over a new figure.\n",
       "    fig.send_draw_message();\n",
       "}\n",
       "\n",
       "mpl.figure.prototype.handle_image_mode = function(fig, msg) {\n",
       "    fig.image_mode = msg['mode'];\n",
       "}\n",
       "\n",
       "mpl.figure.prototype.updated_canvas_event = function() {\n",
       "    // Called whenever the canvas gets updated.\n",
       "    this.send_message(\"ack\", {});\n",
       "}\n",
       "\n",
       "// A function to construct a web socket function for onmessage handling.\n",
       "// Called in the figure constructor.\n",
       "mpl.figure.prototype._make_on_message_function = function(fig) {\n",
       "    return function socket_on_message(evt) {\n",
       "        if (evt.data instanceof Blob) {\n",
       "            /* FIXME: We get \"Resource interpreted as Image but\n",
       "             * transferred with MIME type text/plain:\" errors on\n",
       "             * Chrome.  But how to set the MIME type?  It doesn't seem\n",
       "             * to be part of the websocket stream */\n",
       "            evt.data.type = \"image/png\";\n",
       "\n",
       "            /* Free the memory for the previous frames */\n",
       "            if (fig.imageObj.src) {\n",
       "                (window.URL || window.webkitURL).revokeObjectURL(\n",
       "                    fig.imageObj.src);\n",
       "            }\n",
       "\n",
       "            fig.imageObj.src = (window.URL || window.webkitURL).createObjectURL(\n",
       "                evt.data);\n",
       "            fig.updated_canvas_event();\n",
       "            fig.waiting = false;\n",
       "            return;\n",
       "        }\n",
       "        else if (typeof evt.data === 'string' && evt.data.slice(0, 21) == \"data:image/png;base64\") {\n",
       "            fig.imageObj.src = evt.data;\n",
       "            fig.updated_canvas_event();\n",
       "            fig.waiting = false;\n",
       "            return;\n",
       "        }\n",
       "\n",
       "        var msg = JSON.parse(evt.data);\n",
       "        var msg_type = msg['type'];\n",
       "\n",
       "        // Call the  \"handle_{type}\" callback, which takes\n",
       "        // the figure and JSON message as its only arguments.\n",
       "        try {\n",
       "            var callback = fig[\"handle_\" + msg_type];\n",
       "        } catch (e) {\n",
       "            console.log(\"No handler for the '\" + msg_type + \"' message type: \", msg);\n",
       "            return;\n",
       "        }\n",
       "\n",
       "        if (callback) {\n",
       "            try {\n",
       "                // console.log(\"Handling '\" + msg_type + \"' message: \", msg);\n",
       "                callback(fig, msg);\n",
       "            } catch (e) {\n",
       "                console.log(\"Exception inside the 'handler_\" + msg_type + \"' callback:\", e, e.stack, msg);\n",
       "            }\n",
       "        }\n",
       "    };\n",
       "}\n",
       "\n",
       "// from http://stackoverflow.com/questions/1114465/getting-mouse-location-in-canvas\n",
       "mpl.findpos = function(e) {\n",
       "    //this section is from http://www.quirksmode.org/js/events_properties.html\n",
       "    var targ;\n",
       "    if (!e)\n",
       "        e = window.event;\n",
       "    if (e.target)\n",
       "        targ = e.target;\n",
       "    else if (e.srcElement)\n",
       "        targ = e.srcElement;\n",
       "    if (targ.nodeType == 3) // defeat Safari bug\n",
       "        targ = targ.parentNode;\n",
       "\n",
       "    // jQuery normalizes the pageX and pageY\n",
       "    // pageX,Y are the mouse positions relative to the document\n",
       "    // offset() returns the position of the element relative to the document\n",
       "    var x = e.pageX - $(targ).offset().left;\n",
       "    var y = e.pageY - $(targ).offset().top;\n",
       "\n",
       "    return {\"x\": x, \"y\": y};\n",
       "};\n",
       "\n",
       "/*\n",
       " * return a copy of an object with only non-object keys\n",
       " * we need this to avoid circular references\n",
       " * http://stackoverflow.com/a/24161582/3208463\n",
       " */\n",
       "function simpleKeys (original) {\n",
       "  return Object.keys(original).reduce(function (obj, key) {\n",
       "    if (typeof original[key] !== 'object')\n",
       "        obj[key] = original[key]\n",
       "    return obj;\n",
       "  }, {});\n",
       "}\n",
       "\n",
       "mpl.figure.prototype.mouse_event = function(event, name) {\n",
       "    var canvas_pos = mpl.findpos(event)\n",
       "\n",
       "    if (name === 'button_press')\n",
       "    {\n",
       "        this.canvas.focus();\n",
       "        this.canvas_div.focus();\n",
       "    }\n",
       "\n",
       "    var x = canvas_pos.x * mpl.ratio;\n",
       "    var y = canvas_pos.y * mpl.ratio;\n",
       "\n",
       "    this.send_message(name, {x: x, y: y, button: event.button,\n",
       "                             step: event.step,\n",
       "                             guiEvent: simpleKeys(event)});\n",
       "\n",
       "    /* This prevents the web browser from automatically changing to\n",
       "     * the text insertion cursor when the button is pressed.  We want\n",
       "     * to control all of the cursor setting manually through the\n",
       "     * 'cursor' event from matplotlib */\n",
       "    event.preventDefault();\n",
       "    return false;\n",
       "}\n",
       "\n",
       "mpl.figure.prototype._key_event_extra = function(event, name) {\n",
       "    // Handle any extra behaviour associated with a key event\n",
       "}\n",
       "\n",
       "mpl.figure.prototype.key_event = function(event, name) {\n",
       "\n",
       "    // Prevent repeat events\n",
       "    if (name == 'key_press')\n",
       "    {\n",
       "        if (event.which === this._key)\n",
       "            return;\n",
       "        else\n",
       "            this._key = event.which;\n",
       "    }\n",
       "    if (name == 'key_release')\n",
       "        this._key = null;\n",
       "\n",
       "    var value = '';\n",
       "    if (event.ctrlKey && event.which != 17)\n",
       "        value += \"ctrl+\";\n",
       "    if (event.altKey && event.which != 18)\n",
       "        value += \"alt+\";\n",
       "    if (event.shiftKey && event.which != 16)\n",
       "        value += \"shift+\";\n",
       "\n",
       "    value += 'k';\n",
       "    value += event.which.toString();\n",
       "\n",
       "    this._key_event_extra(event, name);\n",
       "\n",
       "    this.send_message(name, {key: value,\n",
       "                             guiEvent: simpleKeys(event)});\n",
       "    return false;\n",
       "}\n",
       "\n",
       "mpl.figure.prototype.toolbar_button_onclick = function(name) {\n",
       "    if (name == 'download') {\n",
       "        this.handle_save(this, null);\n",
       "    } else {\n",
       "        this.send_message(\"toolbar_button\", {name: name});\n",
       "    }\n",
       "};\n",
       "\n",
       "mpl.figure.prototype.toolbar_button_onmouseover = function(tooltip) {\n",
       "    this.message.textContent = tooltip;\n",
       "};\n",
       "mpl.toolbar_items = [[\"Home\", \"Reset original view\", \"fa fa-home icon-home\", \"home\"], [\"Back\", \"Back to previous view\", \"fa fa-arrow-left icon-arrow-left\", \"back\"], [\"Forward\", \"Forward to next view\", \"fa fa-arrow-right icon-arrow-right\", \"forward\"], [\"\", \"\", \"\", \"\"], [\"Pan\", \"Pan axes with left mouse, zoom with right\", \"fa fa-arrows icon-move\", \"pan\"], [\"Zoom\", \"Zoom to rectangle\", \"fa fa-square-o icon-check-empty\", \"zoom\"], [\"\", \"\", \"\", \"\"], [\"Download\", \"Download plot\", \"fa fa-floppy-o icon-save\", \"download\"]];\n",
       "\n",
       "mpl.extensions = [\"eps\", \"jpeg\", \"pdf\", \"png\", \"ps\", \"raw\", \"svg\", \"tif\"];\n",
       "\n",
       "mpl.default_extension = \"png\";var comm_websocket_adapter = function(comm) {\n",
       "    // Create a \"websocket\"-like object which calls the given IPython comm\n",
       "    // object with the appropriate methods. Currently this is a non binary\n",
       "    // socket, so there is still some room for performance tuning.\n",
       "    var ws = {};\n",
       "\n",
       "    ws.close = function() {\n",
       "        comm.close()\n",
       "    };\n",
       "    ws.send = function(m) {\n",
       "        //console.log('sending', m);\n",
       "        comm.send(m);\n",
       "    };\n",
       "    // Register the callback with on_msg.\n",
       "    comm.on_msg(function(msg) {\n",
       "        //console.log('receiving', msg['content']['data'], msg);\n",
       "        // Pass the mpl event to the overridden (by mpl) onmessage function.\n",
       "        ws.onmessage(msg['content']['data'])\n",
       "    });\n",
       "    return ws;\n",
       "}\n",
       "\n",
       "mpl.mpl_figure_comm = function(comm, msg) {\n",
       "    // This is the function which gets called when the mpl process\n",
       "    // starts-up an IPython Comm through the \"matplotlib\" channel.\n",
       "\n",
       "    var id = msg.content.data.id;\n",
       "    // Get hold of the div created by the display call when the Comm\n",
       "    // socket was opened in Python.\n",
       "    var element = $(\"#\" + id);\n",
       "    var ws_proxy = comm_websocket_adapter(comm)\n",
       "\n",
       "    function ondownload(figure, format) {\n",
       "        window.open(figure.imageObj.src);\n",
       "    }\n",
       "\n",
       "    var fig = new mpl.figure(id, ws_proxy,\n",
       "                           ondownload,\n",
       "                           element.get(0));\n",
       "\n",
       "    // Call onopen now - mpl needs it, as it is assuming we've passed it a real\n",
       "    // web socket which is closed, not our websocket->open comm proxy.\n",
       "    ws_proxy.onopen();\n",
       "\n",
       "    fig.parent_element = element.get(0);\n",
       "    fig.cell_info = mpl.find_output_cell(\"<div id='\" + id + \"'></div>\");\n",
       "    if (!fig.cell_info) {\n",
       "        console.error(\"Failed to find cell for figure\", id, fig);\n",
       "        return;\n",
       "    }\n",
       "\n",
       "    var output_index = fig.cell_info[2]\n",
       "    var cell = fig.cell_info[0];\n",
       "\n",
       "};\n",
       "\n",
       "mpl.figure.prototype.handle_close = function(fig, msg) {\n",
       "    var width = fig.canvas.width/mpl.ratio\n",
       "    fig.root.unbind('remove')\n",
       "\n",
       "    // Update the output cell to use the data from the current canvas.\n",
       "    fig.push_to_output();\n",
       "    var dataURL = fig.canvas.toDataURL();\n",
       "    // Re-enable the keyboard manager in IPython - without this line, in FF,\n",
       "    // the notebook keyboard shortcuts fail.\n",
       "    IPython.keyboard_manager.enable()\n",
       "    $(fig.parent_element).html('<img src=\"' + dataURL + '\" width=\"' + width + '\">');\n",
       "    fig.close_ws(fig, msg);\n",
       "}\n",
       "\n",
       "mpl.figure.prototype.close_ws = function(fig, msg){\n",
       "    fig.send_message('closing', msg);\n",
       "    // fig.ws.close()\n",
       "}\n",
       "\n",
       "mpl.figure.prototype.push_to_output = function(remove_interactive) {\n",
       "    // Turn the data on the canvas into data in the output cell.\n",
       "    var width = this.canvas.width/mpl.ratio\n",
       "    var dataURL = this.canvas.toDataURL();\n",
       "    this.cell_info[1]['text/html'] = '<img src=\"' + dataURL + '\" width=\"' + width + '\">';\n",
       "}\n",
       "\n",
       "mpl.figure.prototype.updated_canvas_event = function() {\n",
       "    // Tell IPython that the notebook contents must change.\n",
       "    IPython.notebook.set_dirty(true);\n",
       "    this.send_message(\"ack\", {});\n",
       "    var fig = this;\n",
       "    // Wait a second, then push the new image to the DOM so\n",
       "    // that it is saved nicely (might be nice to debounce this).\n",
       "    setTimeout(function () { fig.push_to_output() }, 1000);\n",
       "}\n",
       "\n",
       "mpl.figure.prototype._init_toolbar = function() {\n",
       "    var fig = this;\n",
       "\n",
       "    var nav_element = $('<div/>');\n",
       "    nav_element.attr('style', 'width: 100%');\n",
       "    this.root.append(nav_element);\n",
       "\n",
       "    // Define a callback function for later on.\n",
       "    function toolbar_event(event) {\n",
       "        return fig.toolbar_button_onclick(event['data']);\n",
       "    }\n",
       "    function toolbar_mouse_event(event) {\n",
       "        return fig.toolbar_button_onmouseover(event['data']);\n",
       "    }\n",
       "\n",
       "    for(var toolbar_ind in mpl.toolbar_items){\n",
       "        var name = mpl.toolbar_items[toolbar_ind][0];\n",
       "        var tooltip = mpl.toolbar_items[toolbar_ind][1];\n",
       "        var image = mpl.toolbar_items[toolbar_ind][2];\n",
       "        var method_name = mpl.toolbar_items[toolbar_ind][3];\n",
       "\n",
       "        if (!name) { continue; };\n",
       "\n",
       "        var button = $('<button class=\"btn btn-default\" href=\"#\" title=\"' + name + '\"><i class=\"fa ' + image + ' fa-lg\"></i></button>');\n",
       "        button.click(method_name, toolbar_event);\n",
       "        button.mouseover(tooltip, toolbar_mouse_event);\n",
       "        nav_element.append(button);\n",
       "    }\n",
       "\n",
       "    // Add the status bar.\n",
       "    var status_bar = $('<span class=\"mpl-message\" style=\"text-align:right; float: right;\"/>');\n",
       "    nav_element.append(status_bar);\n",
       "    this.message = status_bar[0];\n",
       "\n",
       "    // Add the close button to the window.\n",
       "    var buttongrp = $('<div class=\"btn-group inline pull-right\"></div>');\n",
       "    var button = $('<button class=\"btn btn-mini btn-primary\" href=\"#\" title=\"Stop Interaction\"><i class=\"fa fa-power-off icon-remove icon-large\"></i></button>');\n",
       "    button.click(function (evt) { fig.handle_close(fig, {}); } );\n",
       "    button.mouseover('Stop Interaction', toolbar_mouse_event);\n",
       "    buttongrp.append(button);\n",
       "    var titlebar = this.root.find($('.ui-dialog-titlebar'));\n",
       "    titlebar.prepend(buttongrp);\n",
       "}\n",
       "\n",
       "mpl.figure.prototype._root_extra_style = function(el){\n",
       "    var fig = this\n",
       "    el.on(\"remove\", function(){\n",
       "\tfig.close_ws(fig, {});\n",
       "    });\n",
       "}\n",
       "\n",
       "mpl.figure.prototype._canvas_extra_style = function(el){\n",
       "    // this is important to make the div 'focusable\n",
       "    el.attr('tabindex', 0)\n",
       "    // reach out to IPython and tell the keyboard manager to turn it's self\n",
       "    // off when our div gets focus\n",
       "\n",
       "    // location in version 3\n",
       "    if (IPython.notebook.keyboard_manager) {\n",
       "        IPython.notebook.keyboard_manager.register_events(el);\n",
       "    }\n",
       "    else {\n",
       "        // location in version 2\n",
       "        IPython.keyboard_manager.register_events(el);\n",
       "    }\n",
       "\n",
       "}\n",
       "\n",
       "mpl.figure.prototype._key_event_extra = function(event, name) {\n",
       "    var manager = IPython.notebook.keyboard_manager;\n",
       "    if (!manager)\n",
       "        manager = IPython.keyboard_manager;\n",
       "\n",
       "    // Check for shift+enter\n",
       "    if (event.shiftKey && event.which == 13) {\n",
       "        this.canvas_div.blur();\n",
       "        event.shiftKey = false;\n",
       "        // Send a \"J\" for go to next cell\n",
       "        event.which = 74;\n",
       "        event.keyCode = 74;\n",
       "        manager.command_mode();\n",
       "        manager.handle_keydown(event);\n",
       "    }\n",
       "}\n",
       "\n",
       "mpl.figure.prototype.handle_save = function(fig, msg) {\n",
       "    fig.ondownload(fig, null);\n",
       "}\n",
       "\n",
       "\n",
       "mpl.find_output_cell = function(html_output) {\n",
       "    // Return the cell and output element which can be found *uniquely* in the notebook.\n",
       "    // Note - this is a bit hacky, but it is done because the \"notebook_saving.Notebook\"\n",
       "    // IPython event is triggered only after the cells have been serialised, which for\n",
       "    // our purposes (turning an active figure into a static one), is too late.\n",
       "    var cells = IPython.notebook.get_cells();\n",
       "    var ncells = cells.length;\n",
       "    for (var i=0; i<ncells; i++) {\n",
       "        var cell = cells[i];\n",
       "        if (cell.cell_type === 'code'){\n",
       "            for (var j=0; j<cell.output_area.outputs.length; j++) {\n",
       "                var data = cell.output_area.outputs[j];\n",
       "                if (data.data) {\n",
       "                    // IPython >= 3 moved mimebundle to data attribute of output\n",
       "                    data = data.data;\n",
       "                }\n",
       "                if (data['text/html'] == html_output) {\n",
       "                    return [cell, data, j];\n",
       "                }\n",
       "            }\n",
       "        }\n",
       "    }\n",
       "}\n",
       "\n",
       "// Register the function which deals with the matplotlib target/channel.\n",
       "// The kernel may be null if the page has been refreshed.\n",
       "if (IPython.notebook.kernel != null) {\n",
       "    IPython.notebook.kernel.comm_manager.register_target('matplotlib', mpl.mpl_figure_comm);\n",
       "}\n"
      ],
      "text/plain": [
       "<IPython.core.display.Javascript object>"
      ]
     },
     "metadata": {},
     "output_type": "display_data"
    },
    {
     "data": {
      "text/html": [
       "<img src=\"data:image/png;base64,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\" width=\"639.9999861283738\">"
      ],
      "text/plain": [
       "<IPython.core.display.HTML object>"
      ]
     },
     "metadata": {},
     "output_type": "display_data"
    }
   ],
   "source": [
    "#%%prun\n",
    "plt.close('all')\n",
    "oldf9_file = \"/Users/tim/MMT/mmtwfs/mmtwfs/data/test_data/TREX_p500_0000.fits\"\n",
    "oldf9_file = \"/Volumes/LaCie 8TB/wfsdat/20031223/start_0001.fits\"\n",
    "results = oldf9.measure_slopes(oldf9_file, 'blue', plot=True)\n",
    "results['figures']['slopes'].show()"
   ]
  },
  {
   "cell_type": "code",
   "execution_count": null,
   "metadata": {},
   "outputs": [],
   "source": [
    "mask = mk_wfs_mask(results['data'][40:460,45:465], outfile=\"/Users/tim/MMT/mmtwfs/mmtwfs/data/ref_images/oldf9_mask.fits\")"
   ]
  },
  {
   "cell_type": "markdown",
   "metadata": {},
   "source": [
    "# Scratch space"
   ]
  },
  {
   "cell_type": "code",
   "execution_count": null,
   "metadata": {},
   "outputs": [],
   "source": [
    "cen = center_pupil(subt, pup, plot=True)\n",
    "print(cen)\n",
    "plt.show()"
   ]
  },
  {
   "cell_type": "code",
   "execution_count": null,
   "metadata": {},
   "outputs": [],
   "source": [
    "from astropy.io import ascii"
   ]
  },
  {
   "cell_type": "code",
   "execution_count": null,
   "metadata": {},
   "outputs": [],
   "source": [
    "t = f9wfs.telescope\n",
    "m = t.zern_map"
   ]
  },
  {
   "cell_type": "code",
   "execution_count": null,
   "metadata": {},
   "outputs": [],
   "source": [
    "z = np.loadtxt(\"/Users/tim/MMT/wfsdat/20170110/mmirs_wfs_0375.dao.sub.zrn.cor\")\n",
    "z1 = np.loadtxt(\"/Users/tim/MMT/wfsdat/20170110/mmirs_wfs_0375.dao.av.zrn\")"
   ]
  },
  {
   "cell_type": "code",
   "execution_count": null,
   "metadata": {},
   "outputs": [],
   "source": [
    "sigma = results['fwhm'] * stats.funcs.gaussian_fwhm_to_sigma\n",
    "\n",
    "wave = 650 * u.nm\n",
    "wave = wave.to(u.m).value  # r_0 equation expects meters so convert\n",
    "# calculate the physical size of each aperture.\n",
    "ref = mmirs.modes['mmirs2']['reference']\n",
    "apsize_pix = np.max((ref['xspacing'], ref['yspacing']))\n",
    "d = mmirs.telescope.diameter * apsize_pix / mmirs.pup_size\n",
    "d = d.to(u.m).value  # r_0 equation expects meters so convert\n",
    "\n",
    "# we need to deconvolve the instrumental spot width from the measured one\n",
    "ref_sigma = ref['sigma']\n",
    "if sigma > ref_sigma:\n",
    "    corr_sigma = np.sqrt(sigma**2 - ref_sigma**2)\n",
    "else:\n",
    "    corr_sigma = 0.0\n",
    "corr_sigma *= mmirs.pix_size.to(u.rad).value  # r_0 equation expects radians so convert\n",
    "# this equation relates the motion within a single aperture to the characteristic scale size of the\n",
    "# turbulence, r_0.\n",
    "r_0 = ( 0.179 * (wave**2) * (d**(-1./3.))/corr_sigma**2 )**0.6\n",
    "print(r_0)\n",
    "# this equation relates the turbulence scale size to an expected image FWHM at the given wavelength.\n",
    "raw_seeing = u.rad * 0.98 * wave / r_0\n",
    "raw_seeing = raw_seeing.to(u.arcsec)\n"
   ]
  },
  {
   "cell_type": "code",
   "execution_count": null,
   "metadata": {},
   "outputs": [],
   "source": [
    "t = bino.telescope"
   ]
  },
  {
   "cell_type": "code",
   "execution_count": null,
   "metadata": {},
   "outputs": [],
   "source": [
    "z = ZernikeVector(Z11=-1000*u.nm)\n",
    "z.plot_map()\n",
    "plt.show()"
   ]
  },
  {
   "cell_type": "code",
   "execution_count": null,
   "metadata": {},
   "outputs": [],
   "source": [
    "ft, m1, zv_masked = t.calculate_primary_corrections(z)"
   ]
  },
  {
   "cell_type": "code",
   "execution_count": null,
   "metadata": {},
   "outputs": [],
   "source": [
    "ft['force'].min()"
   ]
  },
  {
   "cell_type": "code",
   "execution_count": null,
   "metadata": {},
   "outputs": [],
   "source": [
    "m1"
   ]
  },
  {
   "cell_type": "code",
   "execution_count": null,
   "metadata": {},
   "outputs": [],
   "source": [
    "derot_phi = phi - u.Quantity(225*u.deg, u.rad).value\n",
    "pol2cart([dr, derot_phi])"
   ]
  },
  {
   "cell_type": "code",
   "execution_count": null,
   "metadata": {},
   "outputs": [],
   "source": [
    "u.Quantity(225*u.deg, u.rad).value"
   ]
  },
  {
   "cell_type": "code",
   "execution_count": null,
   "metadata": {},
   "outputs": [],
   "source": [
    "dx, dy"
   ]
  },
  {
   "cell_type": "code",
   "execution_count": null,
   "metadata": {},
   "outputs": [],
   "source": [
    "t = mmirs.telescope\n",
    "zv = ZernikeVector(Z05=1000, Z11=250)\n",
    "force, focus = t.correct_primary(zv)\n",
    "f1 = focus.copy()\n",
    "uforce, ufocus = t.undo_last()\n",
    "print(ufocus)\n",
    "print(f1)\n",
    "assert(ufocus == -1 * f1)"
   ]
  },
  {
   "cell_type": "code",
   "execution_count": null,
   "metadata": {},
   "outputs": [],
   "source": [
    "focus.copy()"
   ]
  },
  {
   "cell_type": "code",
   "execution_count": null,
   "metadata": {},
   "outputs": [],
   "source": [
    "np.allclose(np.zeros(2), 0.0)"
   ]
  },
  {
   "cell_type": "code",
   "execution_count": null,
   "metadata": {},
   "outputs": [],
   "source": [
    "s = \"offset_inc wfs z 200.3\"\n",
    "assert(\"200.3\" in s)"
   ]
  },
  {
   "cell_type": "code",
   "execution_count": null,
   "metadata": {},
   "outputs": [],
   "source": [
    "fig, ax = plt.subplots()"
   ]
  },
  {
   "cell_type": "code",
   "execution_count": null,
   "metadata": {},
   "outputs": [],
   "source": [
    "ax.imshow(results['data'], cmap=cm.Greys)\n",
    "fig.savefig(\"test.png\")"
   ]
  },
  {
   "cell_type": "code",
   "execution_count": null,
   "metadata": {},
   "outputs": [],
   "source": [
    "a = fig.axes[0]"
   ]
  },
  {
   "cell_type": "code",
   "execution_count": null,
   "metadata": {},
   "outputs": [],
   "source": [
    "fig.show()"
   ]
  },
  {
   "cell_type": "code",
   "execution_count": null,
   "metadata": {},
   "outputs": [],
   "source": [
    "\"{0:0.0f}\".format((550 * u.nm))"
   ]
  },
  {
   "cell_type": "code",
   "execution_count": null,
   "metadata": {},
   "outputs": [],
   "source": [
    "x, y, r, p, ph = zvec.phase_map(n=100)\n",
    "i = np.argsort(x)"
   ]
  },
  {
   "cell_type": "code",
   "execution_count": null,
   "metadata": {},
   "outputs": [],
   "source": [
    "from plotly.offline import download_plotlyjs, init_notebook_mode, plot, iplot\n",
    "import plotly.graph_objs as go\n",
    "init_notebook_mode(connected=True)"
   ]
  },
  {
   "cell_type": "code",
   "execution_count": null,
   "metadata": {},
   "outputs": [],
   "source": [
    "data = [go.Heatmap(z=np.array(ph[i]), x=x[i], y=y[i], colorscale='RdBu')]\n",
    "layout = go.Layout(title=\"test\")\n",
    "fig = go.Figure(data=data, layout=layout)\n",
    "plot(fig, filename=\"blah\")"
   ]
  },
  {
   "cell_type": "code",
   "execution_count": null,
   "metadata": {},
   "outputs": [],
   "source": [
    "np.min(ph)"
   ]
  },
  {
   "cell_type": "code",
   "execution_count": null,
   "metadata": {},
   "outputs": [],
   "source": [
    "0.119 * 5.4*3/20"
   ]
  },
  {
   "cell_type": "code",
   "execution_count": null,
   "metadata": {},
   "outputs": [],
   "source": [
    "if 'HOME' in os.environ:\n",
    "    print('y')"
   ]
  },
  {
   "cell_type": "code",
   "execution_count": null,
   "metadata": {},
   "outputs": [],
   "source": [
    "np.zeros((512, 512)).shape"
   ]
  },
  {
   "cell_type": "code",
   "execution_count": null,
   "metadata": {},
   "outputs": [],
   "source": [
    "zv = ZernikeVector()"
   ]
  },
  {
   "cell_type": "code",
   "execution_count": null,
   "metadata": {},
   "outputs": [],
   "source": [
    "zv.plot_map()"
   ]
  },
  {
   "cell_type": "code",
   "execution_count": null,
   "metadata": {},
   "outputs": [],
   "source": [
    "t = MMT()\n",
    "zv = ZernikeVector(Z05=1000, Z11=250)\n",
    "force, focus = t.calculate_primary_corrections(zv)"
   ]
  },
  {
   "cell_type": "code",
   "execution_count": null,
   "metadata": {},
   "outputs": [],
   "source": [
    "lforce, lfocus = t.correct_primary(force, focus)"
   ]
  },
  {
   "cell_type": "code",
   "execution_count": null,
   "metadata": {},
   "outputs": [],
   "source": [
    "uforce, ufocus = t.undo_last()"
   ]
  },
  {
   "cell_type": "code",
   "execution_count": null,
   "metadata": {},
   "outputs": [],
   "source": [
    "focus, lfocus, ufocus"
   ]
  },
  {
   "cell_type": "code",
   "execution_count": null,
   "metadata": {},
   "outputs": [],
   "source": [
    "newf9 = WFSFactory(wfs=\"newf9\")"
   ]
  },
  {
   "cell_type": "code",
   "execution_count": null,
   "metadata": {},
   "outputs": [],
   "source": [
    "newf9.modes['blue']['reference']"
   ]
  },
  {
   "cell_type": "code",
   "execution_count": null,
   "metadata": {},
   "outputs": [],
   "source": [
    "x = newf9.modes['blue']['reference']['apertures']['xcentroid'] + newf9.modes['blue']['reference']['xcen']"
   ]
  },
  {
   "cell_type": "code",
   "execution_count": null,
   "metadata": {},
   "outputs": [],
   "source": [
    "y = newf9.modes['blue']['reference']['apertures']['ycentroid'] + newf9.modes['blue']['reference']['ycen']"
   ]
  },
  {
   "cell_type": "code",
   "execution_count": null,
   "metadata": {},
   "outputs": [],
   "source": [
    "arr = np.array((x.data, y.data)).transpose()"
   ]
  },
  {
   "cell_type": "code",
   "execution_count": null,
   "metadata": {},
   "outputs": [],
   "source": [
    "np.savetxt(\"blah.txt\", arr, fmt=\"%.3f\")"
   ]
  },
  {
   "cell_type": "code",
   "execution_count": null,
   "metadata": {},
   "outputs": [],
   "source": [
    "np.savetxt?"
   ]
  },
  {
   "cell_type": "code",
   "execution_count": null,
   "metadata": {},
   "outputs": [],
   "source": []
  },
  {
   "cell_type": "code",
   "execution_count": null,
   "metadata": {},
   "outputs": [],
   "source": [
    "x, y = 405, 445\n",
    "xnew, ynew = 438, 469\n",
    "xref, yref = 433, 431\n",
    "pixsize = 0.09639\n",
    "\n",
    "rot = u.Quantity(-225 * u.deg, u.rad).value\n",
    "\n",
    "dx = x - xref\n",
    "dy = y - yref\n",
    "\n",
    "dr, phi = cart2pol([dx, dy])\n",
    "\n",
    "derot_phi = phi - rot\n",
    "\n",
    "az, el = pol2cart([dr, derot_phi])\n",
    "print(az, el)"
   ]
  },
  {
   "cell_type": "code",
   "execution_count": null,
   "metadata": {},
   "outputs": [],
   "source": [
    "x, y = 405, 445\n",
    "xnew, ynew = 438, 469\n",
    "xref, yref = 433, 431\n",
    "pixsize = 0.09639\n",
    "\n",
    "rot = u.Quantity(-225 * u.deg, u.rad).value\n",
    "\n",
    "dx = 1 * (x - xref)\n",
    "dy = 1 * (y - yref)\n",
    "\n",
    "dr, phi = cart2pol([dx, dy])\n",
    "\n",
    "derot_phi = phi - rot\n",
    "\n",
    "az, el = pol2cart([dr, derot_phi])\n",
    "print(az, el)"
   ]
  },
  {
   "cell_type": "code",
   "execution_count": null,
   "metadata": {},
   "outputs": [],
   "source": [
    "azcorr = 3.0 / pixsize\n",
    "elcorr = 0.9 / pixsize\n",
    "drc, phic = cart2pol([azcorr, elcorr])\n",
    "derot_phic = phic + rot\n",
    "az_pix, el_pix = pol2cart([drc, derot_phic])\n",
    "print(az_pix, el_pix)"
   ]
  },
  {
   "cell_type": "code",
   "execution_count": null,
   "metadata": {},
   "outputs": [],
   "source": [
    "a = np.arange(5)"
   ]
  },
  {
   "cell_type": "code",
   "execution_count": null,
   "metadata": {},
   "outputs": [],
   "source": [
    "np.delete(a, 2)"
   ]
  },
  {
   "cell_type": "code",
   "execution_count": null,
   "metadata": {},
   "outputs": [],
   "source": [
    "2320-2820"
   ]
  },
  {
   "cell_type": "code",
   "execution_count": null,
   "metadata": {},
   "outputs": [],
   "source": [
    "x1, y1 = 274, 288\n",
    "x2, y2 = 243, 314\n",
    "xc, yc = 255, 255\n",
    "rot_def = 234 * u.deg\n",
    "rotation = u.Quantity(rot_def, u.rad).value"
   ]
  },
  {
   "cell_type": "code",
   "execution_count": null,
   "metadata": {},
   "outputs": [],
   "source": [
    "x1, y1 = 212, 238\n",
    "x2, y2 = 243, 314\n",
    "xc, yc = 255, 255\n",
    "rot_def = 234 * u.deg\n",
    "rotation = u.Quantity(rot_def, u.rad).value"
   ]
  },
  {
   "cell_type": "code",
   "execution_count": null,
   "metadata": {},
   "outputs": [],
   "source": [
    "x1, y1 = 358, 308\n",
    "xc, yc = 419, 439\n",
    "rot_def = -225 * u.deg\n",
    "rotation = u.Quantity(rot_def, u.rad).value"
   ]
  },
  {
   "cell_type": "code",
   "execution_count": null,
   "metadata": {},
   "outputs": [],
   "source": [
    "dx = x1 - xc\n",
    "dy = y1 - yc"
   ]
  },
  {
   "cell_type": "code",
   "execution_count": null,
   "metadata": {},
   "outputs": [],
   "source": [
    "dr, phi = cart2pol([dx, dy])"
   ]
  },
  {
   "cell_type": "code",
   "execution_count": null,
   "metadata": {},
   "outputs": [],
   "source": [
    "derot_phi = rotation + phi"
   ]
  },
  {
   "cell_type": "code",
   "execution_count": null,
   "metadata": {},
   "outputs": [],
   "source": [
    "az, el = pol2cart([dr, derot_phi])\n",
    "az, el"
   ]
  },
  {
   "cell_type": "code",
   "execution_count": null,
   "metadata": {},
   "outputs": [],
   "source": [
    "az*0.0936, el*0.0936"
   ]
  },
  {
   "cell_type": "code",
   "execution_count": null,
   "metadata": {},
   "outputs": [],
   "source": [
    "1.26 * 3600 / 4156"
   ]
  },
  {
   "cell_type": "code",
   "execution_count": null,
   "metadata": {},
   "outputs": [],
   "source": [
    "z = ZernikeVector(Z04=100)"
   ]
  },
  {
   "cell_type": "code",
   "execution_count": null,
   "metadata": {},
   "outputs": [],
   "source": [
    "z"
   ]
  },
  {
   "cell_type": "code",
   "execution_count": null,
   "metadata": {},
   "outputs": [],
   "source": [
    "z.ignore(\"Z04\")"
   ]
  },
  {
   "cell_type": "code",
   "execution_count": null,
   "metadata": {},
   "outputs": [],
   "source": [
    "z"
   ]
  },
  {
   "cell_type": "code",
   "execution_count": null,
   "metadata": {},
   "outputs": [],
   "source": [
    "for i in range(23,37):\n",
    "    print(\"Z{0:02d}\".format(i))"
   ]
  },
  {
   "cell_type": "code",
   "execution_count": null,
   "metadata": {},
   "outputs": [],
   "source": [
    "for z in zv:\n",
    "    print(zv[z])"
   ]
  },
  {
   "cell_type": "code",
   "execution_count": null,
   "metadata": {},
   "outputs": [],
   "source": [
    "np.zeros(0)"
   ]
  },
  {
   "cell_type": "code",
   "execution_count": null,
   "metadata": {},
   "outputs": [],
   "source": [
    "data = check_wfsdata(\"/Users/tim/MMT/wfsdat/20180604/wfs_ff_cal_img_2018.0604.052401.fits\")\n",
    "#data = check_wfsdata(\"/Users/tim/MMT/wfsdat/20171101/mmirs_wfs_0022.fits\")\n",
    "#data = check_wfsdata(\"/Volumes/LACIE SHARE/wfsdat/20180424/f9wfs_20180423-234645.fits\")\n",
    "#data = check_wfsdata(\"/Users/tim/MMT/wfsdat/20180404/manual_wfs_0004.fits\")\n",
    "fix, ax = plt.subplots()\n",
    "norm = wfs_norm(data)\n",
    "ax.imshow(data, cmap='Greys', origin='lower', norm=norm, interpolation='None')\n",
    "ax.set_title(\"Binospec WFS\")\n",
    "plt.savefig(\"/Users/tim/MMT/spie/2018/bino.pdf\")\n",
    "plt.show()"
   ]
  },
  {
   "cell_type": "code",
   "execution_count": null,
   "metadata": {},
   "outputs": [],
   "source": [
    "refdata = check_wfsdata(\"/Users/tim/MMT/mmtwfs/mmtwfs/data/ref_images/f9_new_ref.fits\")\n",
    "refdata = refdata - np.median(refdata)\n",
    "apertures, figure = wfsfind(refdata, fwhm=4.0, threshold=30, plot=True)\n",
    "figure.show()"
   ]
  },
  {
   "cell_type": "code",
   "execution_count": null,
   "metadata": {},
   "outputs": [],
   "source": [
    "u.imperial.inch.to(u.mm)"
   ]
  },
  {
   "cell_type": "code",
   "execution_count": null,
   "metadata": {},
   "outputs": [],
   "source": [
    "np.hypot?"
   ]
  },
  {
   "cell_type": "code",
   "execution_count": null,
   "metadata": {},
   "outputs": [],
   "source": [
    "20/26 * 435"
   ]
  },
  {
   "cell_type": "code",
   "execution_count": null,
   "metadata": {},
   "outputs": [],
   "source": []
  }
 ],
 "metadata": {
  "kernelspec": {
   "display_name": "Python 3",
   "language": "python",
   "name": "python3"
  },
  "language_info": {
   "codemirror_mode": {
    "name": "ipython",
    "version": 3
   },
   "file_extension": ".py",
   "mimetype": "text/x-python",
   "name": "python",
   "nbconvert_exporter": "python",
   "pygments_lexer": "ipython3",
   "version": "3.7.3"
  }
 },
 "nbformat": 4,
 "nbformat_minor": 2
}
