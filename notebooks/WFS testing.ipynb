{
 "cells": [
  {
   "cell_type": "code",
   "execution_count": 1,
   "metadata": {},
   "outputs": [],
   "source": [
    "import time\n",
    "import os\n",
    "import sys\n",
    "import numpy as np\n",
    "import matplotlib\n",
    "matplotlib.use('nbagg')\n",
    "#from matplotlib import style\n",
    "#style.use('ggplot')\n",
    "import matplotlib.pyplot as plt\n",
    "\n",
    "%load_ext autoreload\n",
    "%autoreload 2\n",
    "\n",
    "import astropy.units as u\n",
    "from astropy import stats\n",
    "from astropy.io import fits\n",
    "from mmtwfs.wfs import *\n",
    "from mmtwfs.zernike import ZernikeVector\n",
    "from mmtwfs.telescope import MMT"
   ]
  },
  {
   "cell_type": "markdown",
   "metadata": {},
   "source": [
    "# Binospec Dev Section"
   ]
  },
  {
   "cell_type": "code",
   "execution_count": null,
   "metadata": {
    "collapsed": true
   },
   "outputs": [],
   "source": [
    "bino = WFSFactory(wfs=\"binospec\")"
   ]
  },
  {
   "cell_type": "code",
   "execution_count": null,
   "metadata": {},
   "outputs": [],
   "source": [
    "bino.modes['binospec']['reference']['figure'].show()"
   ]
  },
  {
   "cell_type": "code",
   "execution_count": null,
   "metadata": {},
   "outputs": [],
   "source": [
    "bino.modes['binospec']['reference']['xspacing'], bino.modes['binospec']['reference']['yspacing']"
   ]
  },
  {
   "cell_type": "code",
   "execution_count": null,
   "metadata": {},
   "outputs": [],
   "source": [
    "bino.modes['binospec']['reference']['apertures']"
   ]
  },
  {
   "cell_type": "markdown",
   "metadata": {},
   "source": [
    "# MMIRS Dev Section"
   ]
  },
  {
   "cell_type": "code",
   "execution_count": null,
   "metadata": {
    "collapsed": true
   },
   "outputs": [],
   "source": [
    "mmirs = WFSFactory(wfs=\"mmirs\")"
   ]
  },
  {
   "cell_type": "code",
   "execution_count": null,
   "metadata": {},
   "outputs": [],
   "source": [
    "mmirs.modes['mmirs1']['reference']['figure'].show()"
   ]
  },
  {
   "cell_type": "code",
   "execution_count": null,
   "metadata": {},
   "outputs": [],
   "source": [
    "mmirs.modes['mmirs1']['reference']['xspacing'], mmirs.modes['mmirs1']['reference']['yspacing']"
   ]
  },
  {
   "cell_type": "code",
   "execution_count": null,
   "metadata": {},
   "outputs": [],
   "source": [
    "print(mmirs.modes['mmirs1']['reference']['fwhm'])\n",
    "\n",
    "spot = mmirs.modes['mmirs1']['reference']['spot']\n",
    "model = Gaussian2D(amplitude=spot.max(), x_mean=spot.shape[1]/2, y_mean=spot.shape[0]/2) + Polynomial2D(degree=0)\n",
    "#model = Gaussian2D(amplitude=spot.max(), x_mean=spot.shape[1]/2, y_mean=spot.shape[0]/2)\n",
    "fitter = LevMarLSQFitter()\n",
    "y, x = np.mgrid[:spot.shape[0], :spot.shape[1]]\n",
    "fit = fitter(model, x, y, spot)\n",
    "fig, ax = plt.subplots()\n",
    "ax.imshow(mmirs.modes['mmirs1']['reference']['spot'] - fit(x, y))\n",
    "fig.show()"
   ]
  },
  {
   "cell_type": "code",
   "execution_count": null,
   "metadata": {},
   "outputs": [],
   "source": [
    "plt.close('all')\n",
    "mmirs_file = \"/Users/tim/MMT/wfsdat/20170416/rawdata/mmirs_wfs_%04d.fits\" % 213\n",
    "results = mmirs.measure_slopes(mmirs_file, plot=True)\n",
    "results['figures']['slopes'].show()"
   ]
  },
  {
   "cell_type": "code",
   "execution_count": null,
   "metadata": {},
   "outputs": [],
   "source": [
    "results['apertures'].positions"
   ]
  },
  {
   "cell_type": "code",
   "execution_count": null,
   "metadata": {},
   "outputs": [],
   "source": [
    "results['figures']['pupil_center'].show()"
   ]
  },
  {
   "cell_type": "code",
   "execution_count": null,
   "metadata": {
    "scrolled": false
   },
   "outputs": [],
   "source": [
    "zresults = mmirs.fit_wavefront(results, plot=True)\n",
    "zvec = zresults['zernike']\n",
    "print(zresults['residual_rms'])\n",
    "#zvec.normalize()\n",
    "print(zvec)\n",
    "zresults['resid_plot'].show()"
   ]
  },
  {
   "cell_type": "code",
   "execution_count": null,
   "metadata": {
    "collapsed": true
   },
   "outputs": [],
   "source": [
    "zplot = zvec.copy()\n",
    "zplot.ignore('Z02')\n",
    "zplot.ignore('Z03')\n",
    "mfig = zplot.plot_map()\n",
    "mfig.show()\n",
    "zplot.peak2valley"
   ]
  },
  {
   "cell_type": "code",
   "execution_count": null,
   "metadata": {
    "collapsed": true
   },
   "outputs": [],
   "source": [
    "zvec.units = u.nm\n",
    "f = zvec.bar_chart(residual=zresults['residual_rms'])\n",
    "f.set_size_inches(9, 5)\n",
    "\n",
    "f.show()"
   ]
  },
  {
   "cell_type": "code",
   "execution_count": null,
   "metadata": {
    "collapsed": true
   },
   "outputs": [],
   "source": [
    "plt.close(f)"
   ]
  },
  {
   "cell_type": "code",
   "execution_count": null,
   "metadata": {
    "collapsed": true
   },
   "outputs": [],
   "source": [
    "torig = mmirs.telescope.bending_forces(zvec)\n",
    "torig.show_in_notebook()"
   ]
  },
  {
   "cell_type": "code",
   "execution_count": null,
   "metadata": {
    "collapsed": true
   },
   "outputs": [],
   "source": [
    "force_fig = mmirs.telescope.plot_forces(torig)\n",
    "force_fig.show()"
   ]
  },
  {
   "cell_type": "code",
   "execution_count": null,
   "metadata": {
    "collapsed": true
   },
   "outputs": [],
   "source": [
    "t, m1foc = mmirs.correct_primary(zv=zvec)\n",
    "print(m1foc)\n",
    "t.show_in_notebook()"
   ]
  },
  {
   "cell_type": "code",
   "execution_count": null,
   "metadata": {
    "collapsed": true
   },
   "outputs": [],
   "source": [
    "new_force_fig = mmirs.telescope.plot_forces(t)\n",
    "new_force_fig.show()"
   ]
  },
  {
   "cell_type": "code",
   "execution_count": null,
   "metadata": {
    "collapsed": true
   },
   "outputs": [],
   "source": [
    "zpsf = ZernikeVector()\n",
    "psf, psf_fig = mmirs.telescope.psf(zpsf, plot=True)\n",
    "psf_fig.set_size_inches(4.0, 4.0)\n",
    "psf_fig.show()"
   ]
  },
  {
   "cell_type": "markdown",
   "metadata": {},
   "source": [
    "# F/9 Dev Section"
   ]
  },
  {
   "cell_type": "code",
   "execution_count": 2,
   "metadata": {
    "collapsed": true
   },
   "outputs": [],
   "source": [
    "plt.close('all')\n",
    "\n",
    "f9wfs = WFSFactory(wfs=\"newf9\")"
   ]
  },
  {
   "cell_type": "code",
   "execution_count": 3,
   "metadata": {},
   "outputs": [
    {
     "data": {
      "text/plain": [
       "(33.783783783783782, 19.54954954954955)"
      ]
     },
     "execution_count": 3,
     "metadata": {},
     "output_type": "execute_result"
    }
   ],
   "source": [
    "f9wfs.modes['blue']['reference']['xspacing'], f9wfs.modes['blue']['reference']['yspacing']"
   ]
  },
  {
   "cell_type": "code",
   "execution_count": 4,
   "metadata": {},
   "outputs": [
    {
     "data": {
      "application/javascript": [
       "/* Put everything inside the global mpl namespace */\n",
       "window.mpl = {};\n",
       "\n",
       "\n",
       "mpl.get_websocket_type = function() {\n",
       "    if (typeof(WebSocket) !== 'undefined') {\n",
       "        return WebSocket;\n",
       "    } else if (typeof(MozWebSocket) !== 'undefined') {\n",
       "        return MozWebSocket;\n",
       "    } else {\n",
       "        alert('Your browser does not have WebSocket support.' +\n",
       "              'Please try Chrome, Safari or Firefox ≥ 6. ' +\n",
       "              'Firefox 4 and 5 are also supported but you ' +\n",
       "              'have to enable WebSockets in about:config.');\n",
       "    };\n",
       "}\n",
       "\n",
       "mpl.figure = function(figure_id, websocket, ondownload, parent_element) {\n",
       "    this.id = figure_id;\n",
       "\n",
       "    this.ws = websocket;\n",
       "\n",
       "    this.supports_binary = (this.ws.binaryType != undefined);\n",
       "\n",
       "    if (!this.supports_binary) {\n",
       "        var warnings = document.getElementById(\"mpl-warnings\");\n",
       "        if (warnings) {\n",
       "            warnings.style.display = 'block';\n",
       "            warnings.textContent = (\n",
       "                \"This browser does not support binary websocket messages. \" +\n",
       "                    \"Performance may be slow.\");\n",
       "        }\n",
       "    }\n",
       "\n",
       "    this.imageObj = new Image();\n",
       "\n",
       "    this.context = undefined;\n",
       "    this.message = undefined;\n",
       "    this.canvas = undefined;\n",
       "    this.rubberband_canvas = undefined;\n",
       "    this.rubberband_context = undefined;\n",
       "    this.format_dropdown = undefined;\n",
       "\n",
       "    this.image_mode = 'full';\n",
       "\n",
       "    this.root = $('<div/>');\n",
       "    this._root_extra_style(this.root)\n",
       "    this.root.attr('style', 'display: inline-block');\n",
       "\n",
       "    $(parent_element).append(this.root);\n",
       "\n",
       "    this._init_header(this);\n",
       "    this._init_canvas(this);\n",
       "    this._init_toolbar(this);\n",
       "\n",
       "    var fig = this;\n",
       "\n",
       "    this.waiting = false;\n",
       "\n",
       "    this.ws.onopen =  function () {\n",
       "            fig.send_message(\"supports_binary\", {value: fig.supports_binary});\n",
       "            fig.send_message(\"send_image_mode\", {});\n",
       "            if (mpl.ratio != 1) {\n",
       "                fig.send_message(\"set_dpi_ratio\", {'dpi_ratio': mpl.ratio});\n",
       "            }\n",
       "            fig.send_message(\"refresh\", {});\n",
       "        }\n",
       "\n",
       "    this.imageObj.onload = function() {\n",
       "            if (fig.image_mode == 'full') {\n",
       "                // Full images could contain transparency (where diff images\n",
       "                // almost always do), so we need to clear the canvas so that\n",
       "                // there is no ghosting.\n",
       "                fig.context.clearRect(0, 0, fig.canvas.width, fig.canvas.height);\n",
       "            }\n",
       "            fig.context.drawImage(fig.imageObj, 0, 0);\n",
       "        };\n",
       "\n",
       "    this.imageObj.onunload = function() {\n",
       "        this.ws.close();\n",
       "    }\n",
       "\n",
       "    this.ws.onmessage = this._make_on_message_function(this);\n",
       "\n",
       "    this.ondownload = ondownload;\n",
       "}\n",
       "\n",
       "mpl.figure.prototype._init_header = function() {\n",
       "    var titlebar = $(\n",
       "        '<div class=\"ui-dialog-titlebar ui-widget-header ui-corner-all ' +\n",
       "        'ui-helper-clearfix\"/>');\n",
       "    var titletext = $(\n",
       "        '<div class=\"ui-dialog-title\" style=\"width: 100%; ' +\n",
       "        'text-align: center; padding: 3px;\"/>');\n",
       "    titlebar.append(titletext)\n",
       "    this.root.append(titlebar);\n",
       "    this.header = titletext[0];\n",
       "}\n",
       "\n",
       "\n",
       "\n",
       "mpl.figure.prototype._canvas_extra_style = function(canvas_div) {\n",
       "\n",
       "}\n",
       "\n",
       "\n",
       "mpl.figure.prototype._root_extra_style = function(canvas_div) {\n",
       "\n",
       "}\n",
       "\n",
       "mpl.figure.prototype._init_canvas = function() {\n",
       "    var fig = this;\n",
       "\n",
       "    var canvas_div = $('<div/>');\n",
       "\n",
       "    canvas_div.attr('style', 'position: relative; clear: both; outline: 0');\n",
       "\n",
       "    function canvas_keyboard_event(event) {\n",
       "        return fig.key_event(event, event['data']);\n",
       "    }\n",
       "\n",
       "    canvas_div.keydown('key_press', canvas_keyboard_event);\n",
       "    canvas_div.keyup('key_release', canvas_keyboard_event);\n",
       "    this.canvas_div = canvas_div\n",
       "    this._canvas_extra_style(canvas_div)\n",
       "    this.root.append(canvas_div);\n",
       "\n",
       "    var canvas = $('<canvas/>');\n",
       "    canvas.addClass('mpl-canvas');\n",
       "    canvas.attr('style', \"left: 0; top: 0; z-index: 0; outline: 0\")\n",
       "\n",
       "    this.canvas = canvas[0];\n",
       "    this.context = canvas[0].getContext(\"2d\");\n",
       "\n",
       "    var backingStore = this.context.backingStorePixelRatio ||\n",
       "\tthis.context.webkitBackingStorePixelRatio ||\n",
       "\tthis.context.mozBackingStorePixelRatio ||\n",
       "\tthis.context.msBackingStorePixelRatio ||\n",
       "\tthis.context.oBackingStorePixelRatio ||\n",
       "\tthis.context.backingStorePixelRatio || 1;\n",
       "\n",
       "    mpl.ratio = (window.devicePixelRatio || 1) / backingStore;\n",
       "\n",
       "    var rubberband = $('<canvas/>');\n",
       "    rubberband.attr('style', \"position: absolute; left: 0; top: 0; z-index: 1;\")\n",
       "\n",
       "    var pass_mouse_events = true;\n",
       "\n",
       "    canvas_div.resizable({\n",
       "        start: function(event, ui) {\n",
       "            pass_mouse_events = false;\n",
       "        },\n",
       "        resize: function(event, ui) {\n",
       "            fig.request_resize(ui.size.width, ui.size.height);\n",
       "        },\n",
       "        stop: function(event, ui) {\n",
       "            pass_mouse_events = true;\n",
       "            fig.request_resize(ui.size.width, ui.size.height);\n",
       "        },\n",
       "    });\n",
       "\n",
       "    function mouse_event_fn(event) {\n",
       "        if (pass_mouse_events)\n",
       "            return fig.mouse_event(event, event['data']);\n",
       "    }\n",
       "\n",
       "    rubberband.mousedown('button_press', mouse_event_fn);\n",
       "    rubberband.mouseup('button_release', mouse_event_fn);\n",
       "    // Throttle sequential mouse events to 1 every 20ms.\n",
       "    rubberband.mousemove('motion_notify', mouse_event_fn);\n",
       "\n",
       "    rubberband.mouseenter('figure_enter', mouse_event_fn);\n",
       "    rubberband.mouseleave('figure_leave', mouse_event_fn);\n",
       "\n",
       "    canvas_div.on(\"wheel\", function (event) {\n",
       "        event = event.originalEvent;\n",
       "        event['data'] = 'scroll'\n",
       "        if (event.deltaY < 0) {\n",
       "            event.step = 1;\n",
       "        } else {\n",
       "            event.step = -1;\n",
       "        }\n",
       "        mouse_event_fn(event);\n",
       "    });\n",
       "\n",
       "    canvas_div.append(canvas);\n",
       "    canvas_div.append(rubberband);\n",
       "\n",
       "    this.rubberband = rubberband;\n",
       "    this.rubberband_canvas = rubberband[0];\n",
       "    this.rubberband_context = rubberband[0].getContext(\"2d\");\n",
       "    this.rubberband_context.strokeStyle = \"#000000\";\n",
       "\n",
       "    this._resize_canvas = function(width, height) {\n",
       "        // Keep the size of the canvas, canvas container, and rubber band\n",
       "        // canvas in synch.\n",
       "        canvas_div.css('width', width)\n",
       "        canvas_div.css('height', height)\n",
       "\n",
       "        canvas.attr('width', width * mpl.ratio);\n",
       "        canvas.attr('height', height * mpl.ratio);\n",
       "        canvas.attr('style', 'width: ' + width + 'px; height: ' + height + 'px;');\n",
       "\n",
       "        rubberband.attr('width', width);\n",
       "        rubberband.attr('height', height);\n",
       "    }\n",
       "\n",
       "    // Set the figure to an initial 600x600px, this will subsequently be updated\n",
       "    // upon first draw.\n",
       "    this._resize_canvas(600, 600);\n",
       "\n",
       "    // Disable right mouse context menu.\n",
       "    $(this.rubberband_canvas).bind(\"contextmenu\",function(e){\n",
       "        return false;\n",
       "    });\n",
       "\n",
       "    function set_focus () {\n",
       "        canvas.focus();\n",
       "        canvas_div.focus();\n",
       "    }\n",
       "\n",
       "    window.setTimeout(set_focus, 100);\n",
       "}\n",
       "\n",
       "mpl.figure.prototype._init_toolbar = function() {\n",
       "    var fig = this;\n",
       "\n",
       "    var nav_element = $('<div/>')\n",
       "    nav_element.attr('style', 'width: 100%');\n",
       "    this.root.append(nav_element);\n",
       "\n",
       "    // Define a callback function for later on.\n",
       "    function toolbar_event(event) {\n",
       "        return fig.toolbar_button_onclick(event['data']);\n",
       "    }\n",
       "    function toolbar_mouse_event(event) {\n",
       "        return fig.toolbar_button_onmouseover(event['data']);\n",
       "    }\n",
       "\n",
       "    for(var toolbar_ind in mpl.toolbar_items) {\n",
       "        var name = mpl.toolbar_items[toolbar_ind][0];\n",
       "        var tooltip = mpl.toolbar_items[toolbar_ind][1];\n",
       "        var image = mpl.toolbar_items[toolbar_ind][2];\n",
       "        var method_name = mpl.toolbar_items[toolbar_ind][3];\n",
       "\n",
       "        if (!name) {\n",
       "            // put a spacer in here.\n",
       "            continue;\n",
       "        }\n",
       "        var button = $('<button/>');\n",
       "        button.addClass('ui-button ui-widget ui-state-default ui-corner-all ' +\n",
       "                        'ui-button-icon-only');\n",
       "        button.attr('role', 'button');\n",
       "        button.attr('aria-disabled', 'false');\n",
       "        button.click(method_name, toolbar_event);\n",
       "        button.mouseover(tooltip, toolbar_mouse_event);\n",
       "\n",
       "        var icon_img = $('<span/>');\n",
       "        icon_img.addClass('ui-button-icon-primary ui-icon');\n",
       "        icon_img.addClass(image);\n",
       "        icon_img.addClass('ui-corner-all');\n",
       "\n",
       "        var tooltip_span = $('<span/>');\n",
       "        tooltip_span.addClass('ui-button-text');\n",
       "        tooltip_span.html(tooltip);\n",
       "\n",
       "        button.append(icon_img);\n",
       "        button.append(tooltip_span);\n",
       "\n",
       "        nav_element.append(button);\n",
       "    }\n",
       "\n",
       "    var fmt_picker_span = $('<span/>');\n",
       "\n",
       "    var fmt_picker = $('<select/>');\n",
       "    fmt_picker.addClass('mpl-toolbar-option ui-widget ui-widget-content');\n",
       "    fmt_picker_span.append(fmt_picker);\n",
       "    nav_element.append(fmt_picker_span);\n",
       "    this.format_dropdown = fmt_picker[0];\n",
       "\n",
       "    for (var ind in mpl.extensions) {\n",
       "        var fmt = mpl.extensions[ind];\n",
       "        var option = $(\n",
       "            '<option/>', {selected: fmt === mpl.default_extension}).html(fmt);\n",
       "        fmt_picker.append(option)\n",
       "    }\n",
       "\n",
       "    // Add hover states to the ui-buttons\n",
       "    $( \".ui-button\" ).hover(\n",
       "        function() { $(this).addClass(\"ui-state-hover\");},\n",
       "        function() { $(this).removeClass(\"ui-state-hover\");}\n",
       "    );\n",
       "\n",
       "    var status_bar = $('<span class=\"mpl-message\"/>');\n",
       "    nav_element.append(status_bar);\n",
       "    this.message = status_bar[0];\n",
       "}\n",
       "\n",
       "mpl.figure.prototype.request_resize = function(x_pixels, y_pixels) {\n",
       "    // Request matplotlib to resize the figure. Matplotlib will then trigger a resize in the client,\n",
       "    // which will in turn request a refresh of the image.\n",
       "    this.send_message('resize', {'width': x_pixels, 'height': y_pixels});\n",
       "}\n",
       "\n",
       "mpl.figure.prototype.send_message = function(type, properties) {\n",
       "    properties['type'] = type;\n",
       "    properties['figure_id'] = this.id;\n",
       "    this.ws.send(JSON.stringify(properties));\n",
       "}\n",
       "\n",
       "mpl.figure.prototype.send_draw_message = function() {\n",
       "    if (!this.waiting) {\n",
       "        this.waiting = true;\n",
       "        this.ws.send(JSON.stringify({type: \"draw\", figure_id: this.id}));\n",
       "    }\n",
       "}\n",
       "\n",
       "\n",
       "mpl.figure.prototype.handle_save = function(fig, msg) {\n",
       "    var format_dropdown = fig.format_dropdown;\n",
       "    var format = format_dropdown.options[format_dropdown.selectedIndex].value;\n",
       "    fig.ondownload(fig, format);\n",
       "}\n",
       "\n",
       "\n",
       "mpl.figure.prototype.handle_resize = function(fig, msg) {\n",
       "    var size = msg['size'];\n",
       "    if (size[0] != fig.canvas.width || size[1] != fig.canvas.height) {\n",
       "        fig._resize_canvas(size[0], size[1]);\n",
       "        fig.send_message(\"refresh\", {});\n",
       "    };\n",
       "}\n",
       "\n",
       "mpl.figure.prototype.handle_rubberband = function(fig, msg) {\n",
       "    var x0 = msg['x0'] / mpl.ratio;\n",
       "    var y0 = (fig.canvas.height - msg['y0']) / mpl.ratio;\n",
       "    var x1 = msg['x1'] / mpl.ratio;\n",
       "    var y1 = (fig.canvas.height - msg['y1']) / mpl.ratio;\n",
       "    x0 = Math.floor(x0) + 0.5;\n",
       "    y0 = Math.floor(y0) + 0.5;\n",
       "    x1 = Math.floor(x1) + 0.5;\n",
       "    y1 = Math.floor(y1) + 0.5;\n",
       "    var min_x = Math.min(x0, x1);\n",
       "    var min_y = Math.min(y0, y1);\n",
       "    var width = Math.abs(x1 - x0);\n",
       "    var height = Math.abs(y1 - y0);\n",
       "\n",
       "    fig.rubberband_context.clearRect(\n",
       "        0, 0, fig.canvas.width, fig.canvas.height);\n",
       "\n",
       "    fig.rubberband_context.strokeRect(min_x, min_y, width, height);\n",
       "}\n",
       "\n",
       "mpl.figure.prototype.handle_figure_label = function(fig, msg) {\n",
       "    // Updates the figure title.\n",
       "    fig.header.textContent = msg['label'];\n",
       "}\n",
       "\n",
       "mpl.figure.prototype.handle_cursor = function(fig, msg) {\n",
       "    var cursor = msg['cursor'];\n",
       "    switch(cursor)\n",
       "    {\n",
       "    case 0:\n",
       "        cursor = 'pointer';\n",
       "        break;\n",
       "    case 1:\n",
       "        cursor = 'default';\n",
       "        break;\n",
       "    case 2:\n",
       "        cursor = 'crosshair';\n",
       "        break;\n",
       "    case 3:\n",
       "        cursor = 'move';\n",
       "        break;\n",
       "    }\n",
       "    fig.rubberband_canvas.style.cursor = cursor;\n",
       "}\n",
       "\n",
       "mpl.figure.prototype.handle_message = function(fig, msg) {\n",
       "    fig.message.textContent = msg['message'];\n",
       "}\n",
       "\n",
       "mpl.figure.prototype.handle_draw = function(fig, msg) {\n",
       "    // Request the server to send over a new figure.\n",
       "    fig.send_draw_message();\n",
       "}\n",
       "\n",
       "mpl.figure.prototype.handle_image_mode = function(fig, msg) {\n",
       "    fig.image_mode = msg['mode'];\n",
       "}\n",
       "\n",
       "mpl.figure.prototype.updated_canvas_event = function() {\n",
       "    // Called whenever the canvas gets updated.\n",
       "    this.send_message(\"ack\", {});\n",
       "}\n",
       "\n",
       "// A function to construct a web socket function for onmessage handling.\n",
       "// Called in the figure constructor.\n",
       "mpl.figure.prototype._make_on_message_function = function(fig) {\n",
       "    return function socket_on_message(evt) {\n",
       "        if (evt.data instanceof Blob) {\n",
       "            /* FIXME: We get \"Resource interpreted as Image but\n",
       "             * transferred with MIME type text/plain:\" errors on\n",
       "             * Chrome.  But how to set the MIME type?  It doesn't seem\n",
       "             * to be part of the websocket stream */\n",
       "            evt.data.type = \"image/png\";\n",
       "\n",
       "            /* Free the memory for the previous frames */\n",
       "            if (fig.imageObj.src) {\n",
       "                (window.URL || window.webkitURL).revokeObjectURL(\n",
       "                    fig.imageObj.src);\n",
       "            }\n",
       "\n",
       "            fig.imageObj.src = (window.URL || window.webkitURL).createObjectURL(\n",
       "                evt.data);\n",
       "            fig.updated_canvas_event();\n",
       "            fig.waiting = false;\n",
       "            return;\n",
       "        }\n",
       "        else if (typeof evt.data === 'string' && evt.data.slice(0, 21) == \"data:image/png;base64\") {\n",
       "            fig.imageObj.src = evt.data;\n",
       "            fig.updated_canvas_event();\n",
       "            fig.waiting = false;\n",
       "            return;\n",
       "        }\n",
       "\n",
       "        var msg = JSON.parse(evt.data);\n",
       "        var msg_type = msg['type'];\n",
       "\n",
       "        // Call the  \"handle_{type}\" callback, which takes\n",
       "        // the figure and JSON message as its only arguments.\n",
       "        try {\n",
       "            var callback = fig[\"handle_\" + msg_type];\n",
       "        } catch (e) {\n",
       "            console.log(\"No handler for the '\" + msg_type + \"' message type: \", msg);\n",
       "            return;\n",
       "        }\n",
       "\n",
       "        if (callback) {\n",
       "            try {\n",
       "                // console.log(\"Handling '\" + msg_type + \"' message: \", msg);\n",
       "                callback(fig, msg);\n",
       "            } catch (e) {\n",
       "                console.log(\"Exception inside the 'handler_\" + msg_type + \"' callback:\", e, e.stack, msg);\n",
       "            }\n",
       "        }\n",
       "    };\n",
       "}\n",
       "\n",
       "// from http://stackoverflow.com/questions/1114465/getting-mouse-location-in-canvas\n",
       "mpl.findpos = function(e) {\n",
       "    //this section is from http://www.quirksmode.org/js/events_properties.html\n",
       "    var targ;\n",
       "    if (!e)\n",
       "        e = window.event;\n",
       "    if (e.target)\n",
       "        targ = e.target;\n",
       "    else if (e.srcElement)\n",
       "        targ = e.srcElement;\n",
       "    if (targ.nodeType == 3) // defeat Safari bug\n",
       "        targ = targ.parentNode;\n",
       "\n",
       "    // jQuery normalizes the pageX and pageY\n",
       "    // pageX,Y are the mouse positions relative to the document\n",
       "    // offset() returns the position of the element relative to the document\n",
       "    var x = e.pageX - $(targ).offset().left;\n",
       "    var y = e.pageY - $(targ).offset().top;\n",
       "\n",
       "    return {\"x\": x, \"y\": y};\n",
       "};\n",
       "\n",
       "/*\n",
       " * return a copy of an object with only non-object keys\n",
       " * we need this to avoid circular references\n",
       " * http://stackoverflow.com/a/24161582/3208463\n",
       " */\n",
       "function simpleKeys (original) {\n",
       "  return Object.keys(original).reduce(function (obj, key) {\n",
       "    if (typeof original[key] !== 'object')\n",
       "        obj[key] = original[key]\n",
       "    return obj;\n",
       "  }, {});\n",
       "}\n",
       "\n",
       "mpl.figure.prototype.mouse_event = function(event, name) {\n",
       "    var canvas_pos = mpl.findpos(event)\n",
       "\n",
       "    if (name === 'button_press')\n",
       "    {\n",
       "        this.canvas.focus();\n",
       "        this.canvas_div.focus();\n",
       "    }\n",
       "\n",
       "    var x = canvas_pos.x * mpl.ratio;\n",
       "    var y = canvas_pos.y * mpl.ratio;\n",
       "\n",
       "    this.send_message(name, {x: x, y: y, button: event.button,\n",
       "                             step: event.step,\n",
       "                             guiEvent: simpleKeys(event)});\n",
       "\n",
       "    /* This prevents the web browser from automatically changing to\n",
       "     * the text insertion cursor when the button is pressed.  We want\n",
       "     * to control all of the cursor setting manually through the\n",
       "     * 'cursor' event from matplotlib */\n",
       "    event.preventDefault();\n",
       "    return false;\n",
       "}\n",
       "\n",
       "mpl.figure.prototype._key_event_extra = function(event, name) {\n",
       "    // Handle any extra behaviour associated with a key event\n",
       "}\n",
       "\n",
       "mpl.figure.prototype.key_event = function(event, name) {\n",
       "\n",
       "    // Prevent repeat events\n",
       "    if (name == 'key_press')\n",
       "    {\n",
       "        if (event.which === this._key)\n",
       "            return;\n",
       "        else\n",
       "            this._key = event.which;\n",
       "    }\n",
       "    if (name == 'key_release')\n",
       "        this._key = null;\n",
       "\n",
       "    var value = '';\n",
       "    if (event.ctrlKey && event.which != 17)\n",
       "        value += \"ctrl+\";\n",
       "    if (event.altKey && event.which != 18)\n",
       "        value += \"alt+\";\n",
       "    if (event.shiftKey && event.which != 16)\n",
       "        value += \"shift+\";\n",
       "\n",
       "    value += 'k';\n",
       "    value += event.which.toString();\n",
       "\n",
       "    this._key_event_extra(event, name);\n",
       "\n",
       "    this.send_message(name, {key: value,\n",
       "                             guiEvent: simpleKeys(event)});\n",
       "    return false;\n",
       "}\n",
       "\n",
       "mpl.figure.prototype.toolbar_button_onclick = function(name) {\n",
       "    if (name == 'download') {\n",
       "        this.handle_save(this, null);\n",
       "    } else {\n",
       "        this.send_message(\"toolbar_button\", {name: name});\n",
       "    }\n",
       "};\n",
       "\n",
       "mpl.figure.prototype.toolbar_button_onmouseover = function(tooltip) {\n",
       "    this.message.textContent = tooltip;\n",
       "};\n",
       "mpl.toolbar_items = [[\"Home\", \"Reset original view\", \"fa fa-home icon-home\", \"home\"], [\"Back\", \"Back to  previous view\", \"fa fa-arrow-left icon-arrow-left\", \"back\"], [\"Forward\", \"Forward to next view\", \"fa fa-arrow-right icon-arrow-right\", \"forward\"], [\"\", \"\", \"\", \"\"], [\"Pan\", \"Pan axes with left mouse, zoom with right\", \"fa fa-arrows icon-move\", \"pan\"], [\"Zoom\", \"Zoom to rectangle\", \"fa fa-square-o icon-check-empty\", \"zoom\"], [\"\", \"\", \"\", \"\"], [\"Download\", \"Download plot\", \"fa fa-floppy-o icon-save\", \"download\"]];\n",
       "\n",
       "mpl.extensions = [\"eps\", \"jpeg\", \"pdf\", \"png\", \"ps\", \"raw\", \"svg\", \"tif\"];\n",
       "\n",
       "mpl.default_extension = \"png\";var comm_websocket_adapter = function(comm) {\n",
       "    // Create a \"websocket\"-like object which calls the given IPython comm\n",
       "    // object with the appropriate methods. Currently this is a non binary\n",
       "    // socket, so there is still some room for performance tuning.\n",
       "    var ws = {};\n",
       "\n",
       "    ws.close = function() {\n",
       "        comm.close()\n",
       "    };\n",
       "    ws.send = function(m) {\n",
       "        //console.log('sending', m);\n",
       "        comm.send(m);\n",
       "    };\n",
       "    // Register the callback with on_msg.\n",
       "    comm.on_msg(function(msg) {\n",
       "        //console.log('receiving', msg['content']['data'], msg);\n",
       "        // Pass the mpl event to the overriden (by mpl) onmessage function.\n",
       "        ws.onmessage(msg['content']['data'])\n",
       "    });\n",
       "    return ws;\n",
       "}\n",
       "\n",
       "mpl.mpl_figure_comm = function(comm, msg) {\n",
       "    // This is the function which gets called when the mpl process\n",
       "    // starts-up an IPython Comm through the \"matplotlib\" channel.\n",
       "\n",
       "    var id = msg.content.data.id;\n",
       "    // Get hold of the div created by the display call when the Comm\n",
       "    // socket was opened in Python.\n",
       "    var element = $(\"#\" + id);\n",
       "    var ws_proxy = comm_websocket_adapter(comm)\n",
       "\n",
       "    function ondownload(figure, format) {\n",
       "        window.open(figure.imageObj.src);\n",
       "    }\n",
       "\n",
       "    var fig = new mpl.figure(id, ws_proxy,\n",
       "                           ondownload,\n",
       "                           element.get(0));\n",
       "\n",
       "    // Call onopen now - mpl needs it, as it is assuming we've passed it a real\n",
       "    // web socket which is closed, not our websocket->open comm proxy.\n",
       "    ws_proxy.onopen();\n",
       "\n",
       "    fig.parent_element = element.get(0);\n",
       "    fig.cell_info = mpl.find_output_cell(\"<div id='\" + id + \"'></div>\");\n",
       "    if (!fig.cell_info) {\n",
       "        console.error(\"Failed to find cell for figure\", id, fig);\n",
       "        return;\n",
       "    }\n",
       "\n",
       "    var output_index = fig.cell_info[2]\n",
       "    var cell = fig.cell_info[0];\n",
       "\n",
       "};\n",
       "\n",
       "mpl.figure.prototype.handle_close = function(fig, msg) {\n",
       "    var width = fig.canvas.width/mpl.ratio\n",
       "    fig.root.unbind('remove')\n",
       "\n",
       "    // Update the output cell to use the data from the current canvas.\n",
       "    fig.push_to_output();\n",
       "    var dataURL = fig.canvas.toDataURL();\n",
       "    // Re-enable the keyboard manager in IPython - without this line, in FF,\n",
       "    // the notebook keyboard shortcuts fail.\n",
       "    IPython.keyboard_manager.enable()\n",
       "    $(fig.parent_element).html('<img src=\"' + dataURL + '\" width=\"' + width + '\">');\n",
       "    fig.close_ws(fig, msg);\n",
       "}\n",
       "\n",
       "mpl.figure.prototype.close_ws = function(fig, msg){\n",
       "    fig.send_message('closing', msg);\n",
       "    // fig.ws.close()\n",
       "}\n",
       "\n",
       "mpl.figure.prototype.push_to_output = function(remove_interactive) {\n",
       "    // Turn the data on the canvas into data in the output cell.\n",
       "    var width = this.canvas.width/mpl.ratio\n",
       "    var dataURL = this.canvas.toDataURL();\n",
       "    this.cell_info[1]['text/html'] = '<img src=\"' + dataURL + '\" width=\"' + width + '\">';\n",
       "}\n",
       "\n",
       "mpl.figure.prototype.updated_canvas_event = function() {\n",
       "    // Tell IPython that the notebook contents must change.\n",
       "    IPython.notebook.set_dirty(true);\n",
       "    this.send_message(\"ack\", {});\n",
       "    var fig = this;\n",
       "    // Wait a second, then push the new image to the DOM so\n",
       "    // that it is saved nicely (might be nice to debounce this).\n",
       "    setTimeout(function () { fig.push_to_output() }, 1000);\n",
       "}\n",
       "\n",
       "mpl.figure.prototype._init_toolbar = function() {\n",
       "    var fig = this;\n",
       "\n",
       "    var nav_element = $('<div/>')\n",
       "    nav_element.attr('style', 'width: 100%');\n",
       "    this.root.append(nav_element);\n",
       "\n",
       "    // Define a callback function for later on.\n",
       "    function toolbar_event(event) {\n",
       "        return fig.toolbar_button_onclick(event['data']);\n",
       "    }\n",
       "    function toolbar_mouse_event(event) {\n",
       "        return fig.toolbar_button_onmouseover(event['data']);\n",
       "    }\n",
       "\n",
       "    for(var toolbar_ind in mpl.toolbar_items){\n",
       "        var name = mpl.toolbar_items[toolbar_ind][0];\n",
       "        var tooltip = mpl.toolbar_items[toolbar_ind][1];\n",
       "        var image = mpl.toolbar_items[toolbar_ind][2];\n",
       "        var method_name = mpl.toolbar_items[toolbar_ind][3];\n",
       "\n",
       "        if (!name) { continue; };\n",
       "\n",
       "        var button = $('<button class=\"btn btn-default\" href=\"#\" title=\"' + name + '\"><i class=\"fa ' + image + ' fa-lg\"></i></button>');\n",
       "        button.click(method_name, toolbar_event);\n",
       "        button.mouseover(tooltip, toolbar_mouse_event);\n",
       "        nav_element.append(button);\n",
       "    }\n",
       "\n",
       "    // Add the status bar.\n",
       "    var status_bar = $('<span class=\"mpl-message\" style=\"text-align:right; float: right;\"/>');\n",
       "    nav_element.append(status_bar);\n",
       "    this.message = status_bar[0];\n",
       "\n",
       "    // Add the close button to the window.\n",
       "    var buttongrp = $('<div class=\"btn-group inline pull-right\"></div>');\n",
       "    var button = $('<button class=\"btn btn-mini btn-primary\" href=\"#\" title=\"Stop Interaction\"><i class=\"fa fa-power-off icon-remove icon-large\"></i></button>');\n",
       "    button.click(function (evt) { fig.handle_close(fig, {}); } );\n",
       "    button.mouseover('Stop Interaction', toolbar_mouse_event);\n",
       "    buttongrp.append(button);\n",
       "    var titlebar = this.root.find($('.ui-dialog-titlebar'));\n",
       "    titlebar.prepend(buttongrp);\n",
       "}\n",
       "\n",
       "mpl.figure.prototype._root_extra_style = function(el){\n",
       "    var fig = this\n",
       "    el.on(\"remove\", function(){\n",
       "\tfig.close_ws(fig, {});\n",
       "    });\n",
       "}\n",
       "\n",
       "mpl.figure.prototype._canvas_extra_style = function(el){\n",
       "    // this is important to make the div 'focusable\n",
       "    el.attr('tabindex', 0)\n",
       "    // reach out to IPython and tell the keyboard manager to turn it's self\n",
       "    // off when our div gets focus\n",
       "\n",
       "    // location in version 3\n",
       "    if (IPython.notebook.keyboard_manager) {\n",
       "        IPython.notebook.keyboard_manager.register_events(el);\n",
       "    }\n",
       "    else {\n",
       "        // location in version 2\n",
       "        IPython.keyboard_manager.register_events(el);\n",
       "    }\n",
       "\n",
       "}\n",
       "\n",
       "mpl.figure.prototype._key_event_extra = function(event, name) {\n",
       "    var manager = IPython.notebook.keyboard_manager;\n",
       "    if (!manager)\n",
       "        manager = IPython.keyboard_manager;\n",
       "\n",
       "    // Check for shift+enter\n",
       "    if (event.shiftKey && event.which == 13) {\n",
       "        this.canvas_div.blur();\n",
       "        // select the cell after this one\n",
       "        var index = IPython.notebook.find_cell_index(this.cell_info[0]);\n",
       "        IPython.notebook.select(index + 1);\n",
       "    }\n",
       "}\n",
       "\n",
       "mpl.figure.prototype.handle_save = function(fig, msg) {\n",
       "    fig.ondownload(fig, null);\n",
       "}\n",
       "\n",
       "\n",
       "mpl.find_output_cell = function(html_output) {\n",
       "    // Return the cell and output element which can be found *uniquely* in the notebook.\n",
       "    // Note - this is a bit hacky, but it is done because the \"notebook_saving.Notebook\"\n",
       "    // IPython event is triggered only after the cells have been serialised, which for\n",
       "    // our purposes (turning an active figure into a static one), is too late.\n",
       "    var cells = IPython.notebook.get_cells();\n",
       "    var ncells = cells.length;\n",
       "    for (var i=0; i<ncells; i++) {\n",
       "        var cell = cells[i];\n",
       "        if (cell.cell_type === 'code'){\n",
       "            for (var j=0; j<cell.output_area.outputs.length; j++) {\n",
       "                var data = cell.output_area.outputs[j];\n",
       "                if (data.data) {\n",
       "                    // IPython >= 3 moved mimebundle to data attribute of output\n",
       "                    data = data.data;\n",
       "                }\n",
       "                if (data['text/html'] == html_output) {\n",
       "                    return [cell, data, j];\n",
       "                }\n",
       "            }\n",
       "        }\n",
       "    }\n",
       "}\n",
       "\n",
       "// Register the function which deals with the matplotlib target/channel.\n",
       "// The kernel may be null if the page has been refreshed.\n",
       "if (IPython.notebook.kernel != null) {\n",
       "    IPython.notebook.kernel.comm_manager.register_target('matplotlib', mpl.mpl_figure_comm);\n",
       "}\n"
      ],
      "text/plain": [
       "<IPython.core.display.Javascript object>"
      ]
     },
     "metadata": {},
     "output_type": "display_data"
    },
    {
     "data": {
      "text/html": [
       "<img src=\"data:image/png;base64,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\" width=\"640\">"
      ],
      "text/plain": [
       "<IPython.core.display.HTML object>"
      ]
     },
     "metadata": {},
     "output_type": "display_data"
    }
   ],
   "source": [
    "f9_file = \"/Users/tim/MMT/wfsdat/datadir/f9wfs_20171007-003236.fits\"\n",
    "refaps = f9wfs.modes['blue']['reference']['apertures']\n",
    "results = f9wfs.measure_slopes(f9_file, 'blue', plot=True)\n",
    "#plt.scatter(refaps['xcentroid']+results['xcen'], refaps['ycentroid']+results['ycen'])\n",
    "results['figures']['slopes'].show()\n",
    "# 265 258\n",
    "# ref 240 259.5"
   ]
  },
  {
   "cell_type": "code",
   "execution_count": null,
   "metadata": {},
   "outputs": [],
   "source": [
    "zresults = f9wfs.fit_wavefront(results, plot=True)\n",
    "print(zresults['residual_rms'])\n",
    "print(zresults['zernike'])\n",
    "zresults['resid_plot'].show()"
   ]
  },
  {
   "cell_type": "code",
   "execution_count": 5,
   "metadata": {},
   "outputs": [
    {
     "data": {
      "application/javascript": [
       "/* Put everything inside the global mpl namespace */\n",
       "window.mpl = {};\n",
       "\n",
       "\n",
       "mpl.get_websocket_type = function() {\n",
       "    if (typeof(WebSocket) !== 'undefined') {\n",
       "        return WebSocket;\n",
       "    } else if (typeof(MozWebSocket) !== 'undefined') {\n",
       "        return MozWebSocket;\n",
       "    } else {\n",
       "        alert('Your browser does not have WebSocket support.' +\n",
       "              'Please try Chrome, Safari or Firefox ≥ 6. ' +\n",
       "              'Firefox 4 and 5 are also supported but you ' +\n",
       "              'have to enable WebSockets in about:config.');\n",
       "    };\n",
       "}\n",
       "\n",
       "mpl.figure = function(figure_id, websocket, ondownload, parent_element) {\n",
       "    this.id = figure_id;\n",
       "\n",
       "    this.ws = websocket;\n",
       "\n",
       "    this.supports_binary = (this.ws.binaryType != undefined);\n",
       "\n",
       "    if (!this.supports_binary) {\n",
       "        var warnings = document.getElementById(\"mpl-warnings\");\n",
       "        if (warnings) {\n",
       "            warnings.style.display = 'block';\n",
       "            warnings.textContent = (\n",
       "                \"This browser does not support binary websocket messages. \" +\n",
       "                    \"Performance may be slow.\");\n",
       "        }\n",
       "    }\n",
       "\n",
       "    this.imageObj = new Image();\n",
       "\n",
       "    this.context = undefined;\n",
       "    this.message = undefined;\n",
       "    this.canvas = undefined;\n",
       "    this.rubberband_canvas = undefined;\n",
       "    this.rubberband_context = undefined;\n",
       "    this.format_dropdown = undefined;\n",
       "\n",
       "    this.image_mode = 'full';\n",
       "\n",
       "    this.root = $('<div/>');\n",
       "    this._root_extra_style(this.root)\n",
       "    this.root.attr('style', 'display: inline-block');\n",
       "\n",
       "    $(parent_element).append(this.root);\n",
       "\n",
       "    this._init_header(this);\n",
       "    this._init_canvas(this);\n",
       "    this._init_toolbar(this);\n",
       "\n",
       "    var fig = this;\n",
       "\n",
       "    this.waiting = false;\n",
       "\n",
       "    this.ws.onopen =  function () {\n",
       "            fig.send_message(\"supports_binary\", {value: fig.supports_binary});\n",
       "            fig.send_message(\"send_image_mode\", {});\n",
       "            if (mpl.ratio != 1) {\n",
       "                fig.send_message(\"set_dpi_ratio\", {'dpi_ratio': mpl.ratio});\n",
       "            }\n",
       "            fig.send_message(\"refresh\", {});\n",
       "        }\n",
       "\n",
       "    this.imageObj.onload = function() {\n",
       "            if (fig.image_mode == 'full') {\n",
       "                // Full images could contain transparency (where diff images\n",
       "                // almost always do), so we need to clear the canvas so that\n",
       "                // there is no ghosting.\n",
       "                fig.context.clearRect(0, 0, fig.canvas.width, fig.canvas.height);\n",
       "            }\n",
       "            fig.context.drawImage(fig.imageObj, 0, 0);\n",
       "        };\n",
       "\n",
       "    this.imageObj.onunload = function() {\n",
       "        this.ws.close();\n",
       "    }\n",
       "\n",
       "    this.ws.onmessage = this._make_on_message_function(this);\n",
       "\n",
       "    this.ondownload = ondownload;\n",
       "}\n",
       "\n",
       "mpl.figure.prototype._init_header = function() {\n",
       "    var titlebar = $(\n",
       "        '<div class=\"ui-dialog-titlebar ui-widget-header ui-corner-all ' +\n",
       "        'ui-helper-clearfix\"/>');\n",
       "    var titletext = $(\n",
       "        '<div class=\"ui-dialog-title\" style=\"width: 100%; ' +\n",
       "        'text-align: center; padding: 3px;\"/>');\n",
       "    titlebar.append(titletext)\n",
       "    this.root.append(titlebar);\n",
       "    this.header = titletext[0];\n",
       "}\n",
       "\n",
       "\n",
       "\n",
       "mpl.figure.prototype._canvas_extra_style = function(canvas_div) {\n",
       "\n",
       "}\n",
       "\n",
       "\n",
       "mpl.figure.prototype._root_extra_style = function(canvas_div) {\n",
       "\n",
       "}\n",
       "\n",
       "mpl.figure.prototype._init_canvas = function() {\n",
       "    var fig = this;\n",
       "\n",
       "    var canvas_div = $('<div/>');\n",
       "\n",
       "    canvas_div.attr('style', 'position: relative; clear: both; outline: 0');\n",
       "\n",
       "    function canvas_keyboard_event(event) {\n",
       "        return fig.key_event(event, event['data']);\n",
       "    }\n",
       "\n",
       "    canvas_div.keydown('key_press', canvas_keyboard_event);\n",
       "    canvas_div.keyup('key_release', canvas_keyboard_event);\n",
       "    this.canvas_div = canvas_div\n",
       "    this._canvas_extra_style(canvas_div)\n",
       "    this.root.append(canvas_div);\n",
       "\n",
       "    var canvas = $('<canvas/>');\n",
       "    canvas.addClass('mpl-canvas');\n",
       "    canvas.attr('style', \"left: 0; top: 0; z-index: 0; outline: 0\")\n",
       "\n",
       "    this.canvas = canvas[0];\n",
       "    this.context = canvas[0].getContext(\"2d\");\n",
       "\n",
       "    var backingStore = this.context.backingStorePixelRatio ||\n",
       "\tthis.context.webkitBackingStorePixelRatio ||\n",
       "\tthis.context.mozBackingStorePixelRatio ||\n",
       "\tthis.context.msBackingStorePixelRatio ||\n",
       "\tthis.context.oBackingStorePixelRatio ||\n",
       "\tthis.context.backingStorePixelRatio || 1;\n",
       "\n",
       "    mpl.ratio = (window.devicePixelRatio || 1) / backingStore;\n",
       "\n",
       "    var rubberband = $('<canvas/>');\n",
       "    rubberband.attr('style', \"position: absolute; left: 0; top: 0; z-index: 1;\")\n",
       "\n",
       "    var pass_mouse_events = true;\n",
       "\n",
       "    canvas_div.resizable({\n",
       "        start: function(event, ui) {\n",
       "            pass_mouse_events = false;\n",
       "        },\n",
       "        resize: function(event, ui) {\n",
       "            fig.request_resize(ui.size.width, ui.size.height);\n",
       "        },\n",
       "        stop: function(event, ui) {\n",
       "            pass_mouse_events = true;\n",
       "            fig.request_resize(ui.size.width, ui.size.height);\n",
       "        },\n",
       "    });\n",
       "\n",
       "    function mouse_event_fn(event) {\n",
       "        if (pass_mouse_events)\n",
       "            return fig.mouse_event(event, event['data']);\n",
       "    }\n",
       "\n",
       "    rubberband.mousedown('button_press', mouse_event_fn);\n",
       "    rubberband.mouseup('button_release', mouse_event_fn);\n",
       "    // Throttle sequential mouse events to 1 every 20ms.\n",
       "    rubberband.mousemove('motion_notify', mouse_event_fn);\n",
       "\n",
       "    rubberband.mouseenter('figure_enter', mouse_event_fn);\n",
       "    rubberband.mouseleave('figure_leave', mouse_event_fn);\n",
       "\n",
       "    canvas_div.on(\"wheel\", function (event) {\n",
       "        event = event.originalEvent;\n",
       "        event['data'] = 'scroll'\n",
       "        if (event.deltaY < 0) {\n",
       "            event.step = 1;\n",
       "        } else {\n",
       "            event.step = -1;\n",
       "        }\n",
       "        mouse_event_fn(event);\n",
       "    });\n",
       "\n",
       "    canvas_div.append(canvas);\n",
       "    canvas_div.append(rubberband);\n",
       "\n",
       "    this.rubberband = rubberband;\n",
       "    this.rubberband_canvas = rubberband[0];\n",
       "    this.rubberband_context = rubberband[0].getContext(\"2d\");\n",
       "    this.rubberband_context.strokeStyle = \"#000000\";\n",
       "\n",
       "    this._resize_canvas = function(width, height) {\n",
       "        // Keep the size of the canvas, canvas container, and rubber band\n",
       "        // canvas in synch.\n",
       "        canvas_div.css('width', width)\n",
       "        canvas_div.css('height', height)\n",
       "\n",
       "        canvas.attr('width', width * mpl.ratio);\n",
       "        canvas.attr('height', height * mpl.ratio);\n",
       "        canvas.attr('style', 'width: ' + width + 'px; height: ' + height + 'px;');\n",
       "\n",
       "        rubberband.attr('width', width);\n",
       "        rubberband.attr('height', height);\n",
       "    }\n",
       "\n",
       "    // Set the figure to an initial 600x600px, this will subsequently be updated\n",
       "    // upon first draw.\n",
       "    this._resize_canvas(600, 600);\n",
       "\n",
       "    // Disable right mouse context menu.\n",
       "    $(this.rubberband_canvas).bind(\"contextmenu\",function(e){\n",
       "        return false;\n",
       "    });\n",
       "\n",
       "    function set_focus () {\n",
       "        canvas.focus();\n",
       "        canvas_div.focus();\n",
       "    }\n",
       "\n",
       "    window.setTimeout(set_focus, 100);\n",
       "}\n",
       "\n",
       "mpl.figure.prototype._init_toolbar = function() {\n",
       "    var fig = this;\n",
       "\n",
       "    var nav_element = $('<div/>')\n",
       "    nav_element.attr('style', 'width: 100%');\n",
       "    this.root.append(nav_element);\n",
       "\n",
       "    // Define a callback function for later on.\n",
       "    function toolbar_event(event) {\n",
       "        return fig.toolbar_button_onclick(event['data']);\n",
       "    }\n",
       "    function toolbar_mouse_event(event) {\n",
       "        return fig.toolbar_button_onmouseover(event['data']);\n",
       "    }\n",
       "\n",
       "    for(var toolbar_ind in mpl.toolbar_items) {\n",
       "        var name = mpl.toolbar_items[toolbar_ind][0];\n",
       "        var tooltip = mpl.toolbar_items[toolbar_ind][1];\n",
       "        var image = mpl.toolbar_items[toolbar_ind][2];\n",
       "        var method_name = mpl.toolbar_items[toolbar_ind][3];\n",
       "\n",
       "        if (!name) {\n",
       "            // put a spacer in here.\n",
       "            continue;\n",
       "        }\n",
       "        var button = $('<button/>');\n",
       "        button.addClass('ui-button ui-widget ui-state-default ui-corner-all ' +\n",
       "                        'ui-button-icon-only');\n",
       "        button.attr('role', 'button');\n",
       "        button.attr('aria-disabled', 'false');\n",
       "        button.click(method_name, toolbar_event);\n",
       "        button.mouseover(tooltip, toolbar_mouse_event);\n",
       "\n",
       "        var icon_img = $('<span/>');\n",
       "        icon_img.addClass('ui-button-icon-primary ui-icon');\n",
       "        icon_img.addClass(image);\n",
       "        icon_img.addClass('ui-corner-all');\n",
       "\n",
       "        var tooltip_span = $('<span/>');\n",
       "        tooltip_span.addClass('ui-button-text');\n",
       "        tooltip_span.html(tooltip);\n",
       "\n",
       "        button.append(icon_img);\n",
       "        button.append(tooltip_span);\n",
       "\n",
       "        nav_element.append(button);\n",
       "    }\n",
       "\n",
       "    var fmt_picker_span = $('<span/>');\n",
       "\n",
       "    var fmt_picker = $('<select/>');\n",
       "    fmt_picker.addClass('mpl-toolbar-option ui-widget ui-widget-content');\n",
       "    fmt_picker_span.append(fmt_picker);\n",
       "    nav_element.append(fmt_picker_span);\n",
       "    this.format_dropdown = fmt_picker[0];\n",
       "\n",
       "    for (var ind in mpl.extensions) {\n",
       "        var fmt = mpl.extensions[ind];\n",
       "        var option = $(\n",
       "            '<option/>', {selected: fmt === mpl.default_extension}).html(fmt);\n",
       "        fmt_picker.append(option)\n",
       "    }\n",
       "\n",
       "    // Add hover states to the ui-buttons\n",
       "    $( \".ui-button\" ).hover(\n",
       "        function() { $(this).addClass(\"ui-state-hover\");},\n",
       "        function() { $(this).removeClass(\"ui-state-hover\");}\n",
       "    );\n",
       "\n",
       "    var status_bar = $('<span class=\"mpl-message\"/>');\n",
       "    nav_element.append(status_bar);\n",
       "    this.message = status_bar[0];\n",
       "}\n",
       "\n",
       "mpl.figure.prototype.request_resize = function(x_pixels, y_pixels) {\n",
       "    // Request matplotlib to resize the figure. Matplotlib will then trigger a resize in the client,\n",
       "    // which will in turn request a refresh of the image.\n",
       "    this.send_message('resize', {'width': x_pixels, 'height': y_pixels});\n",
       "}\n",
       "\n",
       "mpl.figure.prototype.send_message = function(type, properties) {\n",
       "    properties['type'] = type;\n",
       "    properties['figure_id'] = this.id;\n",
       "    this.ws.send(JSON.stringify(properties));\n",
       "}\n",
       "\n",
       "mpl.figure.prototype.send_draw_message = function() {\n",
       "    if (!this.waiting) {\n",
       "        this.waiting = true;\n",
       "        this.ws.send(JSON.stringify({type: \"draw\", figure_id: this.id}));\n",
       "    }\n",
       "}\n",
       "\n",
       "\n",
       "mpl.figure.prototype.handle_save = function(fig, msg) {\n",
       "    var format_dropdown = fig.format_dropdown;\n",
       "    var format = format_dropdown.options[format_dropdown.selectedIndex].value;\n",
       "    fig.ondownload(fig, format);\n",
       "}\n",
       "\n",
       "\n",
       "mpl.figure.prototype.handle_resize = function(fig, msg) {\n",
       "    var size = msg['size'];\n",
       "    if (size[0] != fig.canvas.width || size[1] != fig.canvas.height) {\n",
       "        fig._resize_canvas(size[0], size[1]);\n",
       "        fig.send_message(\"refresh\", {});\n",
       "    };\n",
       "}\n",
       "\n",
       "mpl.figure.prototype.handle_rubberband = function(fig, msg) {\n",
       "    var x0 = msg['x0'] / mpl.ratio;\n",
       "    var y0 = (fig.canvas.height - msg['y0']) / mpl.ratio;\n",
       "    var x1 = msg['x1'] / mpl.ratio;\n",
       "    var y1 = (fig.canvas.height - msg['y1']) / mpl.ratio;\n",
       "    x0 = Math.floor(x0) + 0.5;\n",
       "    y0 = Math.floor(y0) + 0.5;\n",
       "    x1 = Math.floor(x1) + 0.5;\n",
       "    y1 = Math.floor(y1) + 0.5;\n",
       "    var min_x = Math.min(x0, x1);\n",
       "    var min_y = Math.min(y0, y1);\n",
       "    var width = Math.abs(x1 - x0);\n",
       "    var height = Math.abs(y1 - y0);\n",
       "\n",
       "    fig.rubberband_context.clearRect(\n",
       "        0, 0, fig.canvas.width, fig.canvas.height);\n",
       "\n",
       "    fig.rubberband_context.strokeRect(min_x, min_y, width, height);\n",
       "}\n",
       "\n",
       "mpl.figure.prototype.handle_figure_label = function(fig, msg) {\n",
       "    // Updates the figure title.\n",
       "    fig.header.textContent = msg['label'];\n",
       "}\n",
       "\n",
       "mpl.figure.prototype.handle_cursor = function(fig, msg) {\n",
       "    var cursor = msg['cursor'];\n",
       "    switch(cursor)\n",
       "    {\n",
       "    case 0:\n",
       "        cursor = 'pointer';\n",
       "        break;\n",
       "    case 1:\n",
       "        cursor = 'default';\n",
       "        break;\n",
       "    case 2:\n",
       "        cursor = 'crosshair';\n",
       "        break;\n",
       "    case 3:\n",
       "        cursor = 'move';\n",
       "        break;\n",
       "    }\n",
       "    fig.rubberband_canvas.style.cursor = cursor;\n",
       "}\n",
       "\n",
       "mpl.figure.prototype.handle_message = function(fig, msg) {\n",
       "    fig.message.textContent = msg['message'];\n",
       "}\n",
       "\n",
       "mpl.figure.prototype.handle_draw = function(fig, msg) {\n",
       "    // Request the server to send over a new figure.\n",
       "    fig.send_draw_message();\n",
       "}\n",
       "\n",
       "mpl.figure.prototype.handle_image_mode = function(fig, msg) {\n",
       "    fig.image_mode = msg['mode'];\n",
       "}\n",
       "\n",
       "mpl.figure.prototype.updated_canvas_event = function() {\n",
       "    // Called whenever the canvas gets updated.\n",
       "    this.send_message(\"ack\", {});\n",
       "}\n",
       "\n",
       "// A function to construct a web socket function for onmessage handling.\n",
       "// Called in the figure constructor.\n",
       "mpl.figure.prototype._make_on_message_function = function(fig) {\n",
       "    return function socket_on_message(evt) {\n",
       "        if (evt.data instanceof Blob) {\n",
       "            /* FIXME: We get \"Resource interpreted as Image but\n",
       "             * transferred with MIME type text/plain:\" errors on\n",
       "             * Chrome.  But how to set the MIME type?  It doesn't seem\n",
       "             * to be part of the websocket stream */\n",
       "            evt.data.type = \"image/png\";\n",
       "\n",
       "            /* Free the memory for the previous frames */\n",
       "            if (fig.imageObj.src) {\n",
       "                (window.URL || window.webkitURL).revokeObjectURL(\n",
       "                    fig.imageObj.src);\n",
       "            }\n",
       "\n",
       "            fig.imageObj.src = (window.URL || window.webkitURL).createObjectURL(\n",
       "                evt.data);\n",
       "            fig.updated_canvas_event();\n",
       "            fig.waiting = false;\n",
       "            return;\n",
       "        }\n",
       "        else if (typeof evt.data === 'string' && evt.data.slice(0, 21) == \"data:image/png;base64\") {\n",
       "            fig.imageObj.src = evt.data;\n",
       "            fig.updated_canvas_event();\n",
       "            fig.waiting = false;\n",
       "            return;\n",
       "        }\n",
       "\n",
       "        var msg = JSON.parse(evt.data);\n",
       "        var msg_type = msg['type'];\n",
       "\n",
       "        // Call the  \"handle_{type}\" callback, which takes\n",
       "        // the figure and JSON message as its only arguments.\n",
       "        try {\n",
       "            var callback = fig[\"handle_\" + msg_type];\n",
       "        } catch (e) {\n",
       "            console.log(\"No handler for the '\" + msg_type + \"' message type: \", msg);\n",
       "            return;\n",
       "        }\n",
       "\n",
       "        if (callback) {\n",
       "            try {\n",
       "                // console.log(\"Handling '\" + msg_type + \"' message: \", msg);\n",
       "                callback(fig, msg);\n",
       "            } catch (e) {\n",
       "                console.log(\"Exception inside the 'handler_\" + msg_type + \"' callback:\", e, e.stack, msg);\n",
       "            }\n",
       "        }\n",
       "    };\n",
       "}\n",
       "\n",
       "// from http://stackoverflow.com/questions/1114465/getting-mouse-location-in-canvas\n",
       "mpl.findpos = function(e) {\n",
       "    //this section is from http://www.quirksmode.org/js/events_properties.html\n",
       "    var targ;\n",
       "    if (!e)\n",
       "        e = window.event;\n",
       "    if (e.target)\n",
       "        targ = e.target;\n",
       "    else if (e.srcElement)\n",
       "        targ = e.srcElement;\n",
       "    if (targ.nodeType == 3) // defeat Safari bug\n",
       "        targ = targ.parentNode;\n",
       "\n",
       "    // jQuery normalizes the pageX and pageY\n",
       "    // pageX,Y are the mouse positions relative to the document\n",
       "    // offset() returns the position of the element relative to the document\n",
       "    var x = e.pageX - $(targ).offset().left;\n",
       "    var y = e.pageY - $(targ).offset().top;\n",
       "\n",
       "    return {\"x\": x, \"y\": y};\n",
       "};\n",
       "\n",
       "/*\n",
       " * return a copy of an object with only non-object keys\n",
       " * we need this to avoid circular references\n",
       " * http://stackoverflow.com/a/24161582/3208463\n",
       " */\n",
       "function simpleKeys (original) {\n",
       "  return Object.keys(original).reduce(function (obj, key) {\n",
       "    if (typeof original[key] !== 'object')\n",
       "        obj[key] = original[key]\n",
       "    return obj;\n",
       "  }, {});\n",
       "}\n",
       "\n",
       "mpl.figure.prototype.mouse_event = function(event, name) {\n",
       "    var canvas_pos = mpl.findpos(event)\n",
       "\n",
       "    if (name === 'button_press')\n",
       "    {\n",
       "        this.canvas.focus();\n",
       "        this.canvas_div.focus();\n",
       "    }\n",
       "\n",
       "    var x = canvas_pos.x * mpl.ratio;\n",
       "    var y = canvas_pos.y * mpl.ratio;\n",
       "\n",
       "    this.send_message(name, {x: x, y: y, button: event.button,\n",
       "                             step: event.step,\n",
       "                             guiEvent: simpleKeys(event)});\n",
       "\n",
       "    /* This prevents the web browser from automatically changing to\n",
       "     * the text insertion cursor when the button is pressed.  We want\n",
       "     * to control all of the cursor setting manually through the\n",
       "     * 'cursor' event from matplotlib */\n",
       "    event.preventDefault();\n",
       "    return false;\n",
       "}\n",
       "\n",
       "mpl.figure.prototype._key_event_extra = function(event, name) {\n",
       "    // Handle any extra behaviour associated with a key event\n",
       "}\n",
       "\n",
       "mpl.figure.prototype.key_event = function(event, name) {\n",
       "\n",
       "    // Prevent repeat events\n",
       "    if (name == 'key_press')\n",
       "    {\n",
       "        if (event.which === this._key)\n",
       "            return;\n",
       "        else\n",
       "            this._key = event.which;\n",
       "    }\n",
       "    if (name == 'key_release')\n",
       "        this._key = null;\n",
       "\n",
       "    var value = '';\n",
       "    if (event.ctrlKey && event.which != 17)\n",
       "        value += \"ctrl+\";\n",
       "    if (event.altKey && event.which != 18)\n",
       "        value += \"alt+\";\n",
       "    if (event.shiftKey && event.which != 16)\n",
       "        value += \"shift+\";\n",
       "\n",
       "    value += 'k';\n",
       "    value += event.which.toString();\n",
       "\n",
       "    this._key_event_extra(event, name);\n",
       "\n",
       "    this.send_message(name, {key: value,\n",
       "                             guiEvent: simpleKeys(event)});\n",
       "    return false;\n",
       "}\n",
       "\n",
       "mpl.figure.prototype.toolbar_button_onclick = function(name) {\n",
       "    if (name == 'download') {\n",
       "        this.handle_save(this, null);\n",
       "    } else {\n",
       "        this.send_message(\"toolbar_button\", {name: name});\n",
       "    }\n",
       "};\n",
       "\n",
       "mpl.figure.prototype.toolbar_button_onmouseover = function(tooltip) {\n",
       "    this.message.textContent = tooltip;\n",
       "};\n",
       "mpl.toolbar_items = [[\"Home\", \"Reset original view\", \"fa fa-home icon-home\", \"home\"], [\"Back\", \"Back to  previous view\", \"fa fa-arrow-left icon-arrow-left\", \"back\"], [\"Forward\", \"Forward to next view\", \"fa fa-arrow-right icon-arrow-right\", \"forward\"], [\"\", \"\", \"\", \"\"], [\"Pan\", \"Pan axes with left mouse, zoom with right\", \"fa fa-arrows icon-move\", \"pan\"], [\"Zoom\", \"Zoom to rectangle\", \"fa fa-square-o icon-check-empty\", \"zoom\"], [\"\", \"\", \"\", \"\"], [\"Download\", \"Download plot\", \"fa fa-floppy-o icon-save\", \"download\"]];\n",
       "\n",
       "mpl.extensions = [\"eps\", \"jpeg\", \"pdf\", \"png\", \"ps\", \"raw\", \"svg\", \"tif\"];\n",
       "\n",
       "mpl.default_extension = \"png\";var comm_websocket_adapter = function(comm) {\n",
       "    // Create a \"websocket\"-like object which calls the given IPython comm\n",
       "    // object with the appropriate methods. Currently this is a non binary\n",
       "    // socket, so there is still some room for performance tuning.\n",
       "    var ws = {};\n",
       "\n",
       "    ws.close = function() {\n",
       "        comm.close()\n",
       "    };\n",
       "    ws.send = function(m) {\n",
       "        //console.log('sending', m);\n",
       "        comm.send(m);\n",
       "    };\n",
       "    // Register the callback with on_msg.\n",
       "    comm.on_msg(function(msg) {\n",
       "        //console.log('receiving', msg['content']['data'], msg);\n",
       "        // Pass the mpl event to the overriden (by mpl) onmessage function.\n",
       "        ws.onmessage(msg['content']['data'])\n",
       "    });\n",
       "    return ws;\n",
       "}\n",
       "\n",
       "mpl.mpl_figure_comm = function(comm, msg) {\n",
       "    // This is the function which gets called when the mpl process\n",
       "    // starts-up an IPython Comm through the \"matplotlib\" channel.\n",
       "\n",
       "    var id = msg.content.data.id;\n",
       "    // Get hold of the div created by the display call when the Comm\n",
       "    // socket was opened in Python.\n",
       "    var element = $(\"#\" + id);\n",
       "    var ws_proxy = comm_websocket_adapter(comm)\n",
       "\n",
       "    function ondownload(figure, format) {\n",
       "        window.open(figure.imageObj.src);\n",
       "    }\n",
       "\n",
       "    var fig = new mpl.figure(id, ws_proxy,\n",
       "                           ondownload,\n",
       "                           element.get(0));\n",
       "\n",
       "    // Call onopen now - mpl needs it, as it is assuming we've passed it a real\n",
       "    // web socket which is closed, not our websocket->open comm proxy.\n",
       "    ws_proxy.onopen();\n",
       "\n",
       "    fig.parent_element = element.get(0);\n",
       "    fig.cell_info = mpl.find_output_cell(\"<div id='\" + id + \"'></div>\");\n",
       "    if (!fig.cell_info) {\n",
       "        console.error(\"Failed to find cell for figure\", id, fig);\n",
       "        return;\n",
       "    }\n",
       "\n",
       "    var output_index = fig.cell_info[2]\n",
       "    var cell = fig.cell_info[0];\n",
       "\n",
       "};\n",
       "\n",
       "mpl.figure.prototype.handle_close = function(fig, msg) {\n",
       "    var width = fig.canvas.width/mpl.ratio\n",
       "    fig.root.unbind('remove')\n",
       "\n",
       "    // Update the output cell to use the data from the current canvas.\n",
       "    fig.push_to_output();\n",
       "    var dataURL = fig.canvas.toDataURL();\n",
       "    // Re-enable the keyboard manager in IPython - without this line, in FF,\n",
       "    // the notebook keyboard shortcuts fail.\n",
       "    IPython.keyboard_manager.enable()\n",
       "    $(fig.parent_element).html('<img src=\"' + dataURL + '\" width=\"' + width + '\">');\n",
       "    fig.close_ws(fig, msg);\n",
       "}\n",
       "\n",
       "mpl.figure.prototype.close_ws = function(fig, msg){\n",
       "    fig.send_message('closing', msg);\n",
       "    // fig.ws.close()\n",
       "}\n",
       "\n",
       "mpl.figure.prototype.push_to_output = function(remove_interactive) {\n",
       "    // Turn the data on the canvas into data in the output cell.\n",
       "    var width = this.canvas.width/mpl.ratio\n",
       "    var dataURL = this.canvas.toDataURL();\n",
       "    this.cell_info[1]['text/html'] = '<img src=\"' + dataURL + '\" width=\"' + width + '\">';\n",
       "}\n",
       "\n",
       "mpl.figure.prototype.updated_canvas_event = function() {\n",
       "    // Tell IPython that the notebook contents must change.\n",
       "    IPython.notebook.set_dirty(true);\n",
       "    this.send_message(\"ack\", {});\n",
       "    var fig = this;\n",
       "    // Wait a second, then push the new image to the DOM so\n",
       "    // that it is saved nicely (might be nice to debounce this).\n",
       "    setTimeout(function () { fig.push_to_output() }, 1000);\n",
       "}\n",
       "\n",
       "mpl.figure.prototype._init_toolbar = function() {\n",
       "    var fig = this;\n",
       "\n",
       "    var nav_element = $('<div/>')\n",
       "    nav_element.attr('style', 'width: 100%');\n",
       "    this.root.append(nav_element);\n",
       "\n",
       "    // Define a callback function for later on.\n",
       "    function toolbar_event(event) {\n",
       "        return fig.toolbar_button_onclick(event['data']);\n",
       "    }\n",
       "    function toolbar_mouse_event(event) {\n",
       "        return fig.toolbar_button_onmouseover(event['data']);\n",
       "    }\n",
       "\n",
       "    for(var toolbar_ind in mpl.toolbar_items){\n",
       "        var name = mpl.toolbar_items[toolbar_ind][0];\n",
       "        var tooltip = mpl.toolbar_items[toolbar_ind][1];\n",
       "        var image = mpl.toolbar_items[toolbar_ind][2];\n",
       "        var method_name = mpl.toolbar_items[toolbar_ind][3];\n",
       "\n",
       "        if (!name) { continue; };\n",
       "\n",
       "        var button = $('<button class=\"btn btn-default\" href=\"#\" title=\"' + name + '\"><i class=\"fa ' + image + ' fa-lg\"></i></button>');\n",
       "        button.click(method_name, toolbar_event);\n",
       "        button.mouseover(tooltip, toolbar_mouse_event);\n",
       "        nav_element.append(button);\n",
       "    }\n",
       "\n",
       "    // Add the status bar.\n",
       "    var status_bar = $('<span class=\"mpl-message\" style=\"text-align:right; float: right;\"/>');\n",
       "    nav_element.append(status_bar);\n",
       "    this.message = status_bar[0];\n",
       "\n",
       "    // Add the close button to the window.\n",
       "    var buttongrp = $('<div class=\"btn-group inline pull-right\"></div>');\n",
       "    var button = $('<button class=\"btn btn-mini btn-primary\" href=\"#\" title=\"Stop Interaction\"><i class=\"fa fa-power-off icon-remove icon-large\"></i></button>');\n",
       "    button.click(function (evt) { fig.handle_close(fig, {}); } );\n",
       "    button.mouseover('Stop Interaction', toolbar_mouse_event);\n",
       "    buttongrp.append(button);\n",
       "    var titlebar = this.root.find($('.ui-dialog-titlebar'));\n",
       "    titlebar.prepend(buttongrp);\n",
       "}\n",
       "\n",
       "mpl.figure.prototype._root_extra_style = function(el){\n",
       "    var fig = this\n",
       "    el.on(\"remove\", function(){\n",
       "\tfig.close_ws(fig, {});\n",
       "    });\n",
       "}\n",
       "\n",
       "mpl.figure.prototype._canvas_extra_style = function(el){\n",
       "    // this is important to make the div 'focusable\n",
       "    el.attr('tabindex', 0)\n",
       "    // reach out to IPython and tell the keyboard manager to turn it's self\n",
       "    // off when our div gets focus\n",
       "\n",
       "    // location in version 3\n",
       "    if (IPython.notebook.keyboard_manager) {\n",
       "        IPython.notebook.keyboard_manager.register_events(el);\n",
       "    }\n",
       "    else {\n",
       "        // location in version 2\n",
       "        IPython.keyboard_manager.register_events(el);\n",
       "    }\n",
       "\n",
       "}\n",
       "\n",
       "mpl.figure.prototype._key_event_extra = function(event, name) {\n",
       "    var manager = IPython.notebook.keyboard_manager;\n",
       "    if (!manager)\n",
       "        manager = IPython.keyboard_manager;\n",
       "\n",
       "    // Check for shift+enter\n",
       "    if (event.shiftKey && event.which == 13) {\n",
       "        this.canvas_div.blur();\n",
       "        // select the cell after this one\n",
       "        var index = IPython.notebook.find_cell_index(this.cell_info[0]);\n",
       "        IPython.notebook.select(index + 1);\n",
       "    }\n",
       "}\n",
       "\n",
       "mpl.figure.prototype.handle_save = function(fig, msg) {\n",
       "    fig.ondownload(fig, null);\n",
       "}\n",
       "\n",
       "\n",
       "mpl.find_output_cell = function(html_output) {\n",
       "    // Return the cell and output element which can be found *uniquely* in the notebook.\n",
       "    // Note - this is a bit hacky, but it is done because the \"notebook_saving.Notebook\"\n",
       "    // IPython event is triggered only after the cells have been serialised, which for\n",
       "    // our purposes (turning an active figure into a static one), is too late.\n",
       "    var cells = IPython.notebook.get_cells();\n",
       "    var ncells = cells.length;\n",
       "    for (var i=0; i<ncells; i++) {\n",
       "        var cell = cells[i];\n",
       "        if (cell.cell_type === 'code'){\n",
       "            for (var j=0; j<cell.output_area.outputs.length; j++) {\n",
       "                var data = cell.output_area.outputs[j];\n",
       "                if (data.data) {\n",
       "                    // IPython >= 3 moved mimebundle to data attribute of output\n",
       "                    data = data.data;\n",
       "                }\n",
       "                if (data['text/html'] == html_output) {\n",
       "                    return [cell, data, j];\n",
       "                }\n",
       "            }\n",
       "        }\n",
       "    }\n",
       "}\n",
       "\n",
       "// Register the function which deals with the matplotlib target/channel.\n",
       "// The kernel may be null if the page has been refreshed.\n",
       "if (IPython.notebook.kernel != null) {\n",
       "    IPython.notebook.kernel.comm_manager.register_target('matplotlib', mpl.mpl_figure_comm);\n",
       "}\n"
      ],
      "text/plain": [
       "<IPython.core.display.Javascript object>"
      ]
     },
     "metadata": {},
     "output_type": "display_data"
    },
    {
     "data": {
      "text/html": [
       "<img src=\"data:image/png;base64,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\" width=\"640\">"
      ],
      "text/plain": [
       "<IPython.core.display.HTML object>"
      ]
     },
     "metadata": {},
     "output_type": "display_data"
    }
   ],
   "source": [
    "fig, ax = plt.subplots()\n",
    "fit = results['grid_fit']\n",
    "refx = refaps['xcentroid'] * (fit['scale'] + refaps['xcentroid'] * fit['xcoma']) + results['xcen']\n",
    "refy = refaps['ycentroid'] * (fit['scale'] + refaps['ycentroid'] * fit['ycoma']) + results['ycen']\n",
    "x, y = results['apertures'].positions.transpose()[0], results['apertures'].positions.transpose()[1]\n",
    "spacing = 0.5*(results['xspacing'] + results['yspacing'])\n",
    "ax.scatter(refx, refy)\n",
    "ax.set_aspect('equal')\n",
    "ax.scatter(x, y)\n",
    "ax.set_xlim(0, 845)\n",
    "ax.set_ylim(0, 845)\n",
    "fig.show()"
   ]
  },
  {
   "cell_type": "code",
   "execution_count": 6,
   "metadata": {},
   "outputs": [
    {
     "data": {
      "text/plain": [
       "{'scale': 0.91840808862934653,\n",
       " 'xcen': 406.14903942029207,\n",
       " 'xcoma': 2.7563898461588829e-05,\n",
       " 'ycen': 386.81186572284378,\n",
       " 'ycoma': 6.798449837290242e-06}"
      ]
     },
     "execution_count": 6,
     "metadata": {},
     "output_type": "execute_result"
    }
   ],
   "source": [
    "fit"
   ]
  },
  {
   "cell_type": "code",
   "execution_count": null,
   "metadata": {
    "collapsed": true
   },
   "outputs": [],
   "source": [
    "spots = {'xcentroid': x, 'ycentroid': y}\n",
    "from scipy import optimize\n",
    "\n",
    "def match_apertures(refx, refy, spotx, spoty):\n",
    "    tot_dist = 0.0\n",
    "    refs = np.array([refx, refy])\n",
    "    spots = np.array([spotx, spoty])\n",
    "    match = np.empty(len(refx))\n",
    "    max_r = spacing / 2.\n",
    "    for i in np.arange(len(refx)):\n",
    "        dists = np.sqrt( (spots[0]-refs[0][i])**2 + (spots[1]-refs[1][i])**2 )\n",
    "        tot_dist += np.min(dists)\n",
    "    return tot_dist\n",
    "\n",
    "def fit_apertures(pars, ref, spots):\n",
    "    xc = pars[0]\n",
    "    yc = pars[1]\n",
    "    xscale = pars[2]\n",
    "    yscale = pars[3]\n",
    "    xcoma = pars[4]\n",
    "    ycoma = pars[5]\n",
    "    refx = ref['xcentroid'] * (xscale + ref['xcentroid'] * xcoma) + xc\n",
    "    refy = ref['ycentroid'] * (yscale + ref['ycentroid'] * ycoma) + yc\n",
    "    spotx = spots['xcentroid']\n",
    "    spoty = spots['ycentroid']\n",
    "    dist = match_apertures(refx, refy, spotx, spoty)\n",
    "    return dist"
   ]
  },
  {
   "cell_type": "code",
   "execution_count": null,
   "metadata": {
    "collapsed": true
   },
   "outputs": [],
   "source": [
    "#%%timeit\n",
    "args = (refaps, spots)\n",
    "pars = (results['xcen'], results['ycen'], 1.0, 1.0, 0.0, 0.0)\n",
    "bounds = (\n",
    "    (results['xcen']-50, results['xcen']+50), \n",
    "    (results['ycen']-50, results['ycen']+50),\n",
    "    (0.8, 1.2),\n",
    "    (0.8, 1.2),\n",
    "    (-0.1, 0.1),\n",
    "    (-0.1, 0.1)\n",
    ")\n",
    "res = optimize.minimize(fit_apertures, pars, args=args, bounds=bounds)\n",
    "res"
   ]
  },
  {
   "cell_type": "code",
   "execution_count": null,
   "metadata": {
    "collapsed": true
   },
   "outputs": [],
   "source": [
    "fig, ax = plt.subplots()\n",
    "refx, refy = refaps['xcentroid'], refaps['ycentroid']\n",
    "refx = refx * (res['x'][2] + refx*res['x'][4]) + res['x'][0]\n",
    "refy = refy * (res['x'][3] + refy*res['x'][5]) + res['x'][1]\n",
    "x, y = results['apertures'].positions.transpose()[0], results['apertures'].positions.transpose()[1]\n",
    "ax.scatter(refx, refy)\n",
    "ax.set_aspect('equal')\n",
    "ax.scatter(x, y)\n",
    "ax.set_xlim(0, 845)\n",
    "ax.set_ylim(0, 845)\n",
    "fig.show()"
   ]
  },
  {
   "cell_type": "code",
   "execution_count": null,
   "metadata": {
    "collapsed": true
   },
   "outputs": [],
   "source": [
    "print(f9wfs.modes['blue']['reference']['xcen'], f9wfs.modes['blue']['reference']['ycen'])\n",
    "print(f9wfs.modes['blue']['reference']['xspacing'], f9wfs.modes['blue']['reference']['yspacing'])\n",
    "f9wfs.modes['blue']['reference'].keys()"
   ]
  },
  {
   "cell_type": "code",
   "execution_count": null,
   "metadata": {
    "collapsed": true
   },
   "outputs": [],
   "source": [
    "zv = zresults['zernike']\n",
    "print(zv.rms)\n",
    "zv.ignore('Z02')\n",
    "zv.ignore('Z03')\n",
    "f = zv.plot_map()\n",
    "f.show()"
   ]
  },
  {
   "cell_type": "code",
   "execution_count": null,
   "metadata": {
    "collapsed": true
   },
   "outputs": [],
   "source": [
    "bc = zv.bar_chart(residual=zresults['residual_rms'])\n",
    "bc.show()"
   ]
  },
  {
   "cell_type": "code",
   "execution_count": null,
   "metadata": {
    "collapsed": true
   },
   "outputs": [],
   "source": [
    "psf, psf_fig = f9wfs.telescope.psf(zv, fov=1.0)\n",
    "psf_fig.show()"
   ]
  },
  {
   "cell_type": "code",
   "execution_count": null,
   "metadata": {
    "collapsed": true
   },
   "outputs": [],
   "source": [
    "plt.close('all')"
   ]
  },
  {
   "cell_type": "markdown",
   "metadata": {},
   "source": [
    "# F/5 Dev Section"
   ]
  },
  {
   "cell_type": "code",
   "execution_count": null,
   "metadata": {
    "collapsed": true
   },
   "outputs": [],
   "source": [
    "plt.close('all')\n",
    "f5wfs = WFSFactory(wfs=\"f5\")"
   ]
  },
  {
   "cell_type": "code",
   "execution_count": null,
   "metadata": {},
   "outputs": [],
   "source": [
    "#%%prun\n",
    "f5_file = \"/Users/tim/MMT/wfsdat/20170605/manual_wfs_0005.fits\"\n",
    "results = f5wfs.measure_slopes(f5_file, 'hecto', plot=True)\n",
    "results['figures']['slopes'].show()"
   ]
  },
  {
   "cell_type": "code",
   "execution_count": null,
   "metadata": {},
   "outputs": [],
   "source": [
    "#%%prun\n",
    "zresults = f5wfs.fit_wavefront(results, plot=True)\n",
    "zv = zresults['zernike']\n",
    "print(zv)\n",
    "print(zv.rms)\n",
    "zresults['resid_plot'].show()"
   ]
  },
  {
   "cell_type": "code",
   "execution_count": null,
   "metadata": {
    "collapsed": true
   },
   "outputs": [],
   "source": [
    "zf = zv.bar_chart(residual=zresults['residual_rms'], total=True, max_c=500*u.nm)\n",
    "zf.show()\n",
    "zresults['residual_rms']"
   ]
  },
  {
   "cell_type": "code",
   "execution_count": null,
   "metadata": {
    "collapsed": true
   },
   "outputs": [],
   "source": [
    "zv.ignore('Z02')\n",
    "zv.ignore('Z03')\n",
    "zv.ignore('Z04')\n",
    "print(zv.rms)\n",
    "mf = zv.plot_map()\n",
    "mf.axes[0].set_title(\"boo\")\n",
    "mf.show()"
   ]
  },
  {
   "cell_type": "code",
   "execution_count": null,
   "metadata": {
    "collapsed": true
   },
   "outputs": [],
   "source": [
    "t, m1foc = f5wfs.telescope.calculate_primary_corrections(zresults['zernike'])"
   ]
  },
  {
   "cell_type": "code",
   "execution_count": null,
   "metadata": {
    "collapsed": true
   },
   "outputs": [],
   "source": [
    "fplot = f5wfs.telescope.plot_forces(t, m1focus=m1foc)\n",
    "fplot.show()"
   ]
  },
  {
   "cell_type": "code",
   "execution_count": null,
   "metadata": {
    "collapsed": true
   },
   "outputs": [],
   "source": [
    "t.show_in_notebook()"
   ]
  },
  {
   "cell_type": "markdown",
   "metadata": {},
   "source": [
    "# Scratch space"
   ]
  },
  {
   "cell_type": "code",
   "execution_count": null,
   "metadata": {
    "collapsed": true
   },
   "outputs": [],
   "source": [
    "cen = center_pupil(subt, pup, plot=True)\n",
    "print(cen)\n",
    "plt.show()"
   ]
  },
  {
   "cell_type": "code",
   "execution_count": null,
   "metadata": {
    "collapsed": true
   },
   "outputs": [],
   "source": [
    "from astropy.io import ascii"
   ]
  },
  {
   "cell_type": "code",
   "execution_count": null,
   "metadata": {
    "collapsed": true
   },
   "outputs": [],
   "source": [
    "t = f9wfs.telescope\n",
    "m = t.zern_map"
   ]
  },
  {
   "cell_type": "code",
   "execution_count": null,
   "metadata": {
    "collapsed": true
   },
   "outputs": [],
   "source": [
    "z = np.loadtxt(\"/Users/tim/MMT/wfsdat/20170110/mmirs_wfs_0375.dao.sub.zrn.cor\")\n",
    "z1 = np.loadtxt(\"/Users/tim/MMT/wfsdat/20170110/mmirs_wfs_0375.dao.av.zrn\")"
   ]
  },
  {
   "cell_type": "code",
   "execution_count": null,
   "metadata": {
    "collapsed": true
   },
   "outputs": [],
   "source": [
    "z1 - z"
   ]
  },
  {
   "cell_type": "code",
   "execution_count": null,
   "metadata": {
    "collapsed": true
   },
   "outputs": [],
   "source": [
    "Z = ZernikeVector(coeffs=z, zmap=m)"
   ]
  },
  {
   "cell_type": "code",
   "execution_count": null,
   "metadata": {
    "collapsed": true
   },
   "outputs": [],
   "source": [
    "Z"
   ]
  },
  {
   "cell_type": "code",
   "execution_count": null,
   "metadata": {
    "collapsed": true
   },
   "outputs": [],
   "source": [
    "from astropy.table import Table\n",
    "from astropy.io import ascii"
   ]
  },
  {
   "cell_type": "code",
   "execution_count": null,
   "metadata": {
    "collapsed": true
   },
   "outputs": [],
   "source": [
    "t = ascii.read(\"/Users/tim/MMT/mmtwfs/mmtwfs/data/mmirszernfield.tab\")"
   ]
  },
  {
   "cell_type": "code",
   "execution_count": null,
   "metadata": {
    "collapsed": true
   },
   "outputs": [],
   "source": [
    "t"
   ]
  },
  {
   "cell_type": "code",
   "execution_count": null,
   "metadata": {
    "collapsed": true
   },
   "outputs": [],
   "source": [
    "np.interp(0.12, t['field_r'], t['Z01'])"
   ]
  },
  {
   "cell_type": "code",
   "execution_count": null,
   "metadata": {
    "collapsed": true
   },
   "outputs": [],
   "source": [
    "range(4, 11)"
   ]
  },
  {
   "cell_type": "code",
   "execution_count": null,
   "metadata": {
    "collapsed": true
   },
   "outputs": [],
   "source": [
    "for i in range(4, 12):\n",
    "    print(\"Z%02d\" % i)"
   ]
  },
  {
   "cell_type": "code",
   "execution_count": null,
   "metadata": {
    "collapsed": true
   },
   "outputs": [],
   "source": [
    "np.max(1, 2)"
   ]
  },
  {
   "cell_type": "code",
   "execution_count": null,
   "metadata": {
    "collapsed": true
   },
   "outputs": [],
   "source": [
    "6.75 + 20.30 + 242.15 + 430.51"
   ]
  },
  {
   "cell_type": "code",
   "execution_count": null,
   "metadata": {
    "collapsed": true
   },
   "outputs": [],
   "source": [
    "13296 - (973.15/.575) - 1025.8"
   ]
  },
  {
   "cell_type": "code",
   "execution_count": null,
   "metadata": {
    "collapsed": true
   },
   "outputs": [],
   "source": [
    "23*6 + 12*6"
   ]
  },
  {
   "cell_type": "code",
   "execution_count": null,
   "metadata": {
    "collapsed": true
   },
   "outputs": [],
   "source": [
    "58.69*12"
   ]
  },
  {
   "cell_type": "code",
   "execution_count": null,
   "metadata": {
    "collapsed": true
   },
   "outputs": [],
   "source": [
    "210+16+69.5+704.28"
   ]
  },
  {
   "cell_type": "code",
   "execution_count": null,
   "metadata": {
    "collapsed": true
   },
   "outputs": [],
   "source": [
    "2225.37 - (977.15 + 999.78 + 699.71)"
   ]
  },
  {
   "cell_type": "code",
   "execution_count": null,
   "metadata": {
    "collapsed": true
   },
   "outputs": [],
   "source": [
    "103212.81+341.47-451.27+9632.5"
   ]
  },
  {
   "cell_type": "code",
   "execution_count": null,
   "metadata": {
    "collapsed": true
   },
   "outputs": [],
   "source": [
    "7324.5+3951.34"
   ]
  },
  {
   "cell_type": "code",
   "execution_count": null,
   "metadata": {
    "collapsed": true
   },
   "outputs": [],
   "source": [
    "112735.51 - (11275.84 + 7245.8 + 56) - 12150"
   ]
  },
  {
   "cell_type": "code",
   "execution_count": null,
   "metadata": {
    "collapsed": true
   },
   "outputs": [],
   "source": [
    "4050*3"
   ]
  },
  {
   "cell_type": "code",
   "execution_count": null,
   "metadata": {
    "collapsed": true
   },
   "outputs": [],
   "source": [
    "3000*.05"
   ]
  },
  {
   "cell_type": "code",
   "execution_count": null,
   "metadata": {
    "collapsed": true
   },
   "outputs": [],
   "source": [
    "28910/98610"
   ]
  },
  {
   "cell_type": "code",
   "execution_count": null,
   "metadata": {
    "collapsed": true
   },
   "outputs": [],
   "source": [
    "ai = [247.68, 252.69, 257.79, 261.79, 266.88, 696.98, 280.11, 261.96, 261.96, 261.92, 261.96]\n",
    "pep = [146.43, 147.28, 145.18, 142.83, 140.7, 138.47, 136.4, 134.18, 132.18, 129.89, 128.12, 126.22]"
   ]
  },
  {
   "cell_type": "code",
   "execution_count": null,
   "metadata": {
    "collapsed": true
   },
   "outputs": [],
   "source": [
    "0.2* (28910/98610 * (np.sum(ai) + np.sum(pep)))"
   ]
  },
  {
   "cell_type": "code",
   "execution_count": null,
   "metadata": {
    "collapsed": true
   },
   "outputs": [],
   "source": [
    "len(pep)"
   ]
  },
  {
   "cell_type": "code",
   "execution_count": null,
   "metadata": {
    "collapsed": true
   },
   "outputs": [],
   "source": [
    "12049 - (290.81 + 850)"
   ]
  },
  {
   "cell_type": "code",
   "execution_count": null,
   "metadata": {
    "collapsed": true
   },
   "outputs": [],
   "source": [
    "18577.64-7324.5"
   ]
  },
  {
   "cell_type": "code",
   "execution_count": null,
   "metadata": {
    "collapsed": true
   },
   "outputs": [],
   "source": [
    "110940.01-11253.14 - 9600"
   ]
  },
  {
   "cell_type": "code",
   "execution_count": null,
   "metadata": {
    "collapsed": true
   },
   "outputs": [],
   "source": [
    "0.032 * 90086.87 + 4226.63"
   ]
  },
  {
   "cell_type": "code",
   "execution_count": null,
   "metadata": {
    "collapsed": true
   },
   "outputs": [],
   "source": [
    "x = 1920 * 5.86e-3 * u.mm\n",
    "\n",
    "y = 1200 * 5.86e-3 * u.mm"
   ]
  },
  {
   "cell_type": "code",
   "execution_count": null,
   "metadata": {
    "collapsed": true
   },
   "outputs": [],
   "source": [
    "np.sqrt(x**2 + y**2)"
   ]
  },
  {
   "cell_type": "code",
   "execution_count": null,
   "metadata": {
    "collapsed": true
   },
   "outputs": [],
   "source": [
    "np.max((1, 2))"
   ]
  },
  {
   "cell_type": "code",
   "execution_count": null,
   "metadata": {
    "collapsed": true
   },
   "outputs": [],
   "source": [
    "mmirs.pup_size"
   ]
  },
  {
   "cell_type": "code",
   "execution_count": null,
   "metadata": {
    "collapsed": true
   },
   "outputs": [],
   "source": [
    "mmirs.modes['mmirs2']['reference']['sigma']"
   ]
  },
  {
   "cell_type": "code",
   "execution_count": null,
   "metadata": {
    "collapsed": true
   },
   "outputs": [],
   "source": [
    "sigma = results['fwhm'] * stats.funcs.gaussian_fwhm_to_sigma\n",
    "\n",
    "wave = 650 * u.nm\n",
    "wave = wave.to(u.m).value  # r_0 equation expects meters so convert\n",
    "# calculate the physical size of each aperture.\n",
    "ref = mmirs.modes['mmirs2']['reference']\n",
    "apsize_pix = np.max((ref['xspacing'], ref['yspacing']))\n",
    "d = mmirs.telescope.diameter * apsize_pix / mmirs.pup_size\n",
    "d = d.to(u.m).value  # r_0 equation expects meters so convert\n",
    "\n",
    "# we need to deconvolve the instrumental spot width from the measured one\n",
    "ref_sigma = ref['sigma']\n",
    "if sigma > ref_sigma:\n",
    "    corr_sigma = np.sqrt(sigma**2 - ref_sigma**2)\n",
    "else:\n",
    "    corr_sigma = 0.0\n",
    "corr_sigma *= mmirs.pix_size.to(u.rad).value  # r_0 equation expects radians so convert\n",
    "# this equation relates the motion within a single aperture to the characteristic scale size of the\n",
    "# turbulence, r_0.\n",
    "r_0 = ( 0.179 * (wave**2) * (d**(-1./3.))/corr_sigma**2 )**0.6\n",
    "print(r_0)\n",
    "# this equation relates the turbulence scale size to an expected image FWHM at the given wavelength.\n",
    "raw_seeing = u.rad * 0.98 * wave / r_0\n",
    "raw_seeing = raw_seeing.to(u.arcsec)\n"
   ]
  },
  {
   "cell_type": "code",
   "execution_count": null,
   "metadata": {
    "collapsed": true
   },
   "outputs": [],
   "source": [
    "\"{0.value:0.2f}{0.unit:unicode}\".format(raw_seeing)"
   ]
  },
  {
   "cell_type": "code",
   "execution_count": null,
   "metadata": {
    "collapsed": true
   },
   "outputs": [],
   "source": [
    "np.sqrt(sigma**2 - ref_sigma**2)"
   ]
  },
  {
   "cell_type": "code",
   "execution_count": null,
   "metadata": {
    "collapsed": true
   },
   "outputs": [],
   "source": [
    "def_mask = ['Z02', 'Z03', 'Z04']\n",
    "mask = ['Z04', 'Z10']\n",
    "def_mask.extend(mask)\n",
    "mask = list(set(def_mask))\n",
    "mask"
   ]
  },
  {
   "cell_type": "code",
   "execution_count": null,
   "metadata": {
    "collapsed": true
   },
   "outputs": [],
   "source": [
    "f = ZernikeVector()"
   ]
  },
  {
   "cell_type": "code",
   "execution_count": null,
   "metadata": {
    "collapsed": true
   },
   "outputs": [],
   "source": [
    "mmirs.telescope.bending_forces(zv=f)"
   ]
  },
  {
   "cell_type": "code",
   "execution_count": null,
   "metadata": {
    "collapsed": true
   },
   "outputs": [],
   "source": [
    "z = ZernikeVector(Z07=500*u.nm)\n",
    "z.plot_map()\n",
    "plt.show()"
   ]
  },
  {
   "cell_type": "code",
   "execution_count": null,
   "metadata": {
    "collapsed": true
   },
   "outputs": [],
   "source": [
    "-z['Z08']"
   ]
  },
  {
   "cell_type": "code",
   "execution_count": null,
   "metadata": {
    "collapsed": true
   },
   "outputs": [],
   "source": [
    "xc, yc = 245, 270\n",
    "xcen, ycen = 255, 255\n",
    "dx = xc - xcen\n",
    "dy = yc - ycen\n",
    "dr, phi = cart2pol([dx, dy])"
   ]
  },
  {
   "cell_type": "code",
   "execution_count": null,
   "metadata": {
    "collapsed": true
   },
   "outputs": [],
   "source": [
    "derot_phi = phi - u.Quantity(225*u.deg, u.rad).value\n",
    "pol2cart([dr, derot_phi])"
   ]
  },
  {
   "cell_type": "code",
   "execution_count": null,
   "metadata": {
    "collapsed": true
   },
   "outputs": [],
   "source": [
    "u.Quantity(225*u.deg, u.rad).value"
   ]
  },
  {
   "cell_type": "code",
   "execution_count": null,
   "metadata": {
    "collapsed": true
   },
   "outputs": [],
   "source": [
    "dx, dy"
   ]
  },
  {
   "cell_type": "code",
   "execution_count": null,
   "metadata": {
    "collapsed": true
   },
   "outputs": [],
   "source": [
    "t = mmirs.telescope\n",
    "zv = ZernikeVector(Z05=1000, Z11=250)\n",
    "force, focus = t.correct_primary(zv)\n",
    "f1 = focus.copy()\n",
    "uforce, ufocus = t.undo_last()\n",
    "print(ufocus)\n",
    "print(f1)\n",
    "assert(ufocus == -1 * f1)"
   ]
  },
  {
   "cell_type": "code",
   "execution_count": null,
   "metadata": {
    "collapsed": true
   },
   "outputs": [],
   "source": [
    "focus.copy()"
   ]
  },
  {
   "cell_type": "code",
   "execution_count": null,
   "metadata": {
    "collapsed": true
   },
   "outputs": [],
   "source": [
    "np.allclose(np.zeros(2), 0.0)"
   ]
  },
  {
   "cell_type": "code",
   "execution_count": null,
   "metadata": {
    "collapsed": true
   },
   "outputs": [],
   "source": [
    "s = \"offset_inc wfs z 200.3\"\n",
    "assert(\"200.3\" in s)"
   ]
  },
  {
   "cell_type": "code",
   "execution_count": null,
   "metadata": {
    "collapsed": true
   },
   "outputs": [],
   "source": [
    "fig, ax = plt.subplots()"
   ]
  },
  {
   "cell_type": "code",
   "execution_count": null,
   "metadata": {
    "collapsed": true
   },
   "outputs": [],
   "source": [
    "ax.imshow(results['data'], cmap=cm.Greys)\n",
    "fig.savefig(\"test.png\")"
   ]
  },
  {
   "cell_type": "code",
   "execution_count": null,
   "metadata": {
    "collapsed": true
   },
   "outputs": [],
   "source": [
    "a = fig.axes[0]"
   ]
  },
  {
   "cell_type": "code",
   "execution_count": null,
   "metadata": {
    "collapsed": true
   },
   "outputs": [],
   "source": [
    "fig.show()"
   ]
  },
  {
   "cell_type": "code",
   "execution_count": null,
   "metadata": {
    "collapsed": true
   },
   "outputs": [],
   "source": [
    "\"{0:0.0f}\".format((550 * u.nm))"
   ]
  },
  {
   "cell_type": "code",
   "execution_count": null,
   "metadata": {
    "collapsed": true
   },
   "outputs": [],
   "source": [
    "x, y, r, p, ph = zvec.phase_map(n=100)\n",
    "i = np.argsort(x)"
   ]
  },
  {
   "cell_type": "code",
   "execution_count": null,
   "metadata": {
    "collapsed": true
   },
   "outputs": [],
   "source": [
    "from plotly.offline import download_plotlyjs, init_notebook_mode, plot, iplot\n",
    "import plotly.graph_objs as go\n",
    "init_notebook_mode(connected=True)"
   ]
  },
  {
   "cell_type": "code",
   "execution_count": null,
   "metadata": {
    "collapsed": true
   },
   "outputs": [],
   "source": [
    "data = [go.Heatmap(z=np.array(ph[i]), x=x[i], y=y[i], colorscale='RdBu')]\n",
    "layout = go.Layout(title=\"test\")\n",
    "fig = go.Figure(data=data, layout=layout)\n",
    "plot(fig, filename=\"blah\")"
   ]
  },
  {
   "cell_type": "code",
   "execution_count": null,
   "metadata": {
    "collapsed": true
   },
   "outputs": [],
   "source": [
    "np.min(ph)"
   ]
  },
  {
   "cell_type": "code",
   "execution_count": null,
   "metadata": {
    "collapsed": true
   },
   "outputs": [],
   "source": [
    "0.119 * 5.4*3/20"
   ]
  },
  {
   "cell_type": "code",
   "execution_count": null,
   "metadata": {
    "collapsed": true
   },
   "outputs": [],
   "source": [
    "if 'HOME' in os.environ:\n",
    "    print('y')"
   ]
  },
  {
   "cell_type": "code",
   "execution_count": null,
   "metadata": {
    "collapsed": true
   },
   "outputs": [],
   "source": [
    "np.zeros((512, 512)).shape"
   ]
  },
  {
   "cell_type": "code",
   "execution_count": null,
   "metadata": {
    "collapsed": true
   },
   "outputs": [],
   "source": [
    "zv = ZernikeVector()"
   ]
  },
  {
   "cell_type": "code",
   "execution_count": null,
   "metadata": {
    "collapsed": true
   },
   "outputs": [],
   "source": [
    "zv.plot_map()"
   ]
  },
  {
   "cell_type": "code",
   "execution_count": null,
   "metadata": {
    "collapsed": true
   },
   "outputs": [],
   "source": [
    "t = MMT()\n",
    "zv = ZernikeVector(Z05=1000, Z11=250)\n",
    "force, focus = t.calculate_primary_corrections(zv)"
   ]
  },
  {
   "cell_type": "code",
   "execution_count": null,
   "metadata": {
    "collapsed": true
   },
   "outputs": [],
   "source": [
    "lforce, lfocus = t.correct_primary(force, focus)"
   ]
  },
  {
   "cell_type": "code",
   "execution_count": null,
   "metadata": {
    "collapsed": true
   },
   "outputs": [],
   "source": [
    "uforce, ufocus = t.undo_last()"
   ]
  },
  {
   "cell_type": "code",
   "execution_count": null,
   "metadata": {
    "collapsed": true
   },
   "outputs": [],
   "source": [
    "focus, lfocus, ufocus"
   ]
  },
  {
   "cell_type": "code",
   "execution_count": null,
   "metadata": {
    "collapsed": true
   },
   "outputs": [],
   "source": [
    "newf9 = WFSFactory(wfs=\"newf9\")"
   ]
  },
  {
   "cell_type": "code",
   "execution_count": null,
   "metadata": {
    "collapsed": true
   },
   "outputs": [],
   "source": [
    "newf9.modes['blue']['reference']"
   ]
  },
  {
   "cell_type": "code",
   "execution_count": null,
   "metadata": {
    "collapsed": true
   },
   "outputs": [],
   "source": [
    "x = newf9.modes['blue']['reference']['apertures']['xcentroid'] + newf9.modes['blue']['reference']['xcen']"
   ]
  },
  {
   "cell_type": "code",
   "execution_count": null,
   "metadata": {
    "collapsed": true
   },
   "outputs": [],
   "source": [
    "y = newf9.modes['blue']['reference']['apertures']['ycentroid'] + newf9.modes['blue']['reference']['ycen']"
   ]
  },
  {
   "cell_type": "code",
   "execution_count": null,
   "metadata": {
    "collapsed": true
   },
   "outputs": [],
   "source": [
    "arr = np.array((x.data, y.data)).transpose()"
   ]
  },
  {
   "cell_type": "code",
   "execution_count": null,
   "metadata": {
    "collapsed": true
   },
   "outputs": [],
   "source": [
    "np.savetxt(\"blah.txt\", arr, fmt=\"%.3f\")"
   ]
  },
  {
   "cell_type": "code",
   "execution_count": null,
   "metadata": {
    "collapsed": true
   },
   "outputs": [],
   "source": [
    "np.savetxt?"
   ]
  },
  {
   "cell_type": "code",
   "execution_count": null,
   "metadata": {
    "collapsed": true
   },
   "outputs": [],
   "source": []
  },
  {
   "cell_type": "code",
   "execution_count": null,
   "metadata": {
    "collapsed": true
   },
   "outputs": [],
   "source": [
    "x, y = 405, 445\n",
    "xnew, ynew = 438, 469\n",
    "xref, yref = 433, 431\n",
    "pixsize = 0.09639\n",
    "\n",
    "rot = u.Quantity(-225 * u.deg, u.rad).value\n",
    "\n",
    "dx = x - xref\n",
    "dy = y - yref\n",
    "\n",
    "dr, phi = cart2pol([dx, dy])\n",
    "\n",
    "derot_phi = phi - rot\n",
    "\n",
    "az, el = pol2cart([dr, derot_phi])\n",
    "print(az, el)"
   ]
  },
  {
   "cell_type": "code",
   "execution_count": null,
   "metadata": {
    "collapsed": true
   },
   "outputs": [],
   "source": [
    "x, y = 405, 445\n",
    "xnew, ynew = 438, 469\n",
    "xref, yref = 433, 431\n",
    "pixsize = 0.09639\n",
    "\n",
    "rot = u.Quantity(-225 * u.deg, u.rad).value\n",
    "\n",
    "dx = 1 * (x - xref)\n",
    "dy = 1 * (y - yref)\n",
    "\n",
    "dr, phi = cart2pol([dx, dy])\n",
    "\n",
    "derot_phi = phi - rot\n",
    "\n",
    "az, el = pol2cart([dr, derot_phi])\n",
    "print(az, el)"
   ]
  },
  {
   "cell_type": "code",
   "execution_count": null,
   "metadata": {
    "collapsed": true
   },
   "outputs": [],
   "source": [
    "azcorr = 3.0 / pixsize\n",
    "elcorr = 0.9 / pixsize\n",
    "drc, phic = cart2pol([azcorr, elcorr])\n",
    "derot_phic = phic + rot\n",
    "az_pix, el_pix = pol2cart([drc, derot_phic])\n",
    "print(az_pix, el_pix)"
   ]
  },
  {
   "cell_type": "code",
   "execution_count": null,
   "metadata": {
    "collapsed": true
   },
   "outputs": [],
   "source": [
    "a = np.arange(5)"
   ]
  },
  {
   "cell_type": "code",
   "execution_count": null,
   "metadata": {
    "collapsed": true
   },
   "outputs": [],
   "source": [
    "np.delete(a, 2)"
   ]
  },
  {
   "cell_type": "code",
   "execution_count": null,
   "metadata": {
    "collapsed": true
   },
   "outputs": [],
   "source": []
  }
 ],
 "metadata": {
  "kernelspec": {
   "display_name": "Python 3",
   "language": "python",
   "name": "python3"
  },
  "language_info": {
   "codemirror_mode": {
    "name": "ipython",
    "version": 3
   },
   "file_extension": ".py",
   "mimetype": "text/x-python",
   "name": "python",
   "nbconvert_exporter": "python",
   "pygments_lexer": "ipython3",
   "version": "3.6.2"
  }
 },
 "nbformat": 4,
 "nbformat_minor": 2
}
