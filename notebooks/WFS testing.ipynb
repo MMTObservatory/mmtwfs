{
 "cells": [
  {
   "cell_type": "code",
   "execution_count": 1,
   "metadata": {},
   "outputs": [],
   "source": [
    "import time\n",
    "import os\n",
    "import sys\n",
    "import numpy as np\n",
    "import matplotlib\n",
    "matplotlib.use('nbagg')\n",
    "#from matplotlib import style\n",
    "#style.use('ggplot')\n",
    "import matplotlib.pyplot as plt\n",
    "\n",
    "%load_ext autoreload\n",
    "%autoreload 2\n",
    "\n",
    "import astropy.units as u\n",
    "from astropy import stats\n",
    "from astropy.io import fits\n",
    "from mmtwfs.wfs import *\n",
    "from mmtwfs.zernike import ZernikeVector\n",
    "from mmtwfs.telescope import MMT"
   ]
  },
  {
   "cell_type": "markdown",
   "metadata": {},
   "source": [
    "# Binospec Dev Section"
   ]
  },
  {
   "cell_type": "code",
   "execution_count": null,
   "metadata": {
    "collapsed": true
   },
   "outputs": [],
   "source": [
    "bino = WFSFactory(wfs=\"binospec\")"
   ]
  },
  {
   "cell_type": "code",
   "execution_count": null,
   "metadata": {},
   "outputs": [],
   "source": [
    "bino.modes['binospec']['reference']['figure'].show()"
   ]
  },
  {
   "cell_type": "code",
   "execution_count": null,
   "metadata": {},
   "outputs": [],
   "source": [
    "bino.modes['binospec']['reference']['xspacing'], bino.modes['binospec']['reference']['yspacing']"
   ]
  },
  {
   "cell_type": "code",
   "execution_count": null,
   "metadata": {},
   "outputs": [],
   "source": [
    "bino.modes['binospec']['reference']['apertures']"
   ]
  },
  {
   "cell_type": "markdown",
   "metadata": {},
   "source": [
    "# MMIRS Dev Section"
   ]
  },
  {
   "cell_type": "code",
   "execution_count": null,
   "metadata": {
    "collapsed": true
   },
   "outputs": [],
   "source": [
    "mmirs = WFSFactory(wfs=\"mmirs\")"
   ]
  },
  {
   "cell_type": "code",
   "execution_count": null,
   "metadata": {},
   "outputs": [],
   "source": [
    "mmirs.modes['mmirs1']['reference']['figure'].show()"
   ]
  },
  {
   "cell_type": "code",
   "execution_count": null,
   "metadata": {},
   "outputs": [],
   "source": [
    "mmirs.modes['mmirs1']['reference']['xspacing'], mmirs.modes['mmirs1']['reference']['yspacing']"
   ]
  },
  {
   "cell_type": "code",
   "execution_count": null,
   "metadata": {},
   "outputs": [],
   "source": [
    "print(mmirs.modes['mmirs1']['reference']['fwhm'])\n",
    "\n",
    "spot = mmirs.modes['mmirs1']['reference']['spot']\n",
    "model = Gaussian2D(amplitude=spot.max(), x_mean=spot.shape[1]/2, y_mean=spot.shape[0]/2) + Polynomial2D(degree=0)\n",
    "#model = Gaussian2D(amplitude=spot.max(), x_mean=spot.shape[1]/2, y_mean=spot.shape[0]/2)\n",
    "fitter = LevMarLSQFitter()\n",
    "y, x = np.mgrid[:spot.shape[0], :spot.shape[1]]\n",
    "fit = fitter(model, x, y, spot)\n",
    "fig, ax = plt.subplots()\n",
    "ax.imshow(mmirs.modes['mmirs1']['reference']['spot'] - fit(x, y))\n",
    "fig.show()"
   ]
  },
  {
   "cell_type": "code",
   "execution_count": null,
   "metadata": {},
   "outputs": [],
   "source": [
    "plt.close('all')\n",
    "mmirs_file = \"/Users/tim/MMT/wfsdat/20170416/rawdata/mmirs_wfs_%04d.fits\" % 213\n",
    "results = mmirs.measure_slopes(mmirs_file, plot=True)\n",
    "results['figures']['slopes'].show()"
   ]
  },
  {
   "cell_type": "code",
   "execution_count": null,
   "metadata": {},
   "outputs": [],
   "source": [
    "results['apertures'].positions"
   ]
  },
  {
   "cell_type": "code",
   "execution_count": null,
   "metadata": {},
   "outputs": [],
   "source": [
    "results['figures']['pupil_center'].show()"
   ]
  },
  {
   "cell_type": "code",
   "execution_count": null,
   "metadata": {
    "scrolled": false
   },
   "outputs": [],
   "source": [
    "zresults = mmirs.fit_wavefront(results, plot=True)\n",
    "zvec = zresults['zernike']\n",
    "print(zresults['residual_rms'])\n",
    "#zvec.normalize()\n",
    "print(zvec)\n",
    "zresults['resid_plot'].show()"
   ]
  },
  {
   "cell_type": "code",
   "execution_count": null,
   "metadata": {
    "collapsed": true
   },
   "outputs": [],
   "source": [
    "zplot = zvec.copy()\n",
    "zplot.ignore('Z02')\n",
    "zplot.ignore('Z03')\n",
    "mfig = zplot.plot_map()\n",
    "mfig.show()\n",
    "zplot.peak2valley"
   ]
  },
  {
   "cell_type": "code",
   "execution_count": null,
   "metadata": {
    "collapsed": true
   },
   "outputs": [],
   "source": [
    "zvec.units = u.nm\n",
    "f = zvec.bar_chart(residual=zresults['residual_rms'])\n",
    "f.set_size_inches(9, 5)\n",
    "\n",
    "f.show()"
   ]
  },
  {
   "cell_type": "code",
   "execution_count": null,
   "metadata": {
    "collapsed": true
   },
   "outputs": [],
   "source": [
    "plt.close(f)"
   ]
  },
  {
   "cell_type": "code",
   "execution_count": null,
   "metadata": {
    "collapsed": true
   },
   "outputs": [],
   "source": [
    "torig = mmirs.telescope.bending_forces(zvec)\n",
    "torig.show_in_notebook()"
   ]
  },
  {
   "cell_type": "code",
   "execution_count": null,
   "metadata": {
    "collapsed": true
   },
   "outputs": [],
   "source": [
    "force_fig = mmirs.telescope.plot_forces(torig)\n",
    "force_fig.show()"
   ]
  },
  {
   "cell_type": "code",
   "execution_count": null,
   "metadata": {
    "collapsed": true
   },
   "outputs": [],
   "source": [
    "t, m1foc = mmirs.correct_primary(zv=zvec)\n",
    "print(m1foc)\n",
    "t.show_in_notebook()"
   ]
  },
  {
   "cell_type": "code",
   "execution_count": null,
   "metadata": {
    "collapsed": true
   },
   "outputs": [],
   "source": [
    "new_force_fig = mmirs.telescope.plot_forces(t)\n",
    "new_force_fig.show()"
   ]
  },
  {
   "cell_type": "code",
   "execution_count": null,
   "metadata": {
    "collapsed": true
   },
   "outputs": [],
   "source": [
    "zpsf = ZernikeVector()\n",
    "psf, psf_fig = mmirs.telescope.psf(zpsf, plot=True)\n",
    "psf_fig.set_size_inches(4.0, 4.0)\n",
    "psf_fig.show()"
   ]
  },
  {
   "cell_type": "markdown",
   "metadata": {},
   "source": [
    "# F/9 Dev Section"
   ]
  },
  {
   "cell_type": "code",
   "execution_count": 2,
   "metadata": {
    "collapsed": true
   },
   "outputs": [],
   "source": [
    "plt.close('all')\n",
    "\n",
    "f9wfs = WFSFactory(wfs=\"newf9\")"
   ]
  },
  {
   "cell_type": "code",
   "execution_count": 3,
   "metadata": {},
   "outputs": [
    {
     "data": {
      "text/plain": [
       "(33.783783783783782, 19.54954954954955)"
      ]
     },
     "execution_count": 3,
     "metadata": {},
     "output_type": "execute_result"
    }
   ],
   "source": [
    "f9wfs.modes['blue']['reference']['xspacing'], f9wfs.modes['blue']['reference']['yspacing']"
   ]
  },
  {
   "cell_type": "code",
   "execution_count": 4,
   "metadata": {},
   "outputs": [
    {
     "data": {
      "application/javascript": [
       "/* Put everything inside the global mpl namespace */\n",
       "window.mpl = {};\n",
       "\n",
       "\n",
       "mpl.get_websocket_type = function() {\n",
       "    if (typeof(WebSocket) !== 'undefined') {\n",
       "        return WebSocket;\n",
       "    } else if (typeof(MozWebSocket) !== 'undefined') {\n",
       "        return MozWebSocket;\n",
       "    } else {\n",
       "        alert('Your browser does not have WebSocket support.' +\n",
       "              'Please try Chrome, Safari or Firefox ≥ 6. ' +\n",
       "              'Firefox 4 and 5 are also supported but you ' +\n",
       "              'have to enable WebSockets in about:config.');\n",
       "    };\n",
       "}\n",
       "\n",
       "mpl.figure = function(figure_id, websocket, ondownload, parent_element) {\n",
       "    this.id = figure_id;\n",
       "\n",
       "    this.ws = websocket;\n",
       "\n",
       "    this.supports_binary = (this.ws.binaryType != undefined);\n",
       "\n",
       "    if (!this.supports_binary) {\n",
       "        var warnings = document.getElementById(\"mpl-warnings\");\n",
       "        if (warnings) {\n",
       "            warnings.style.display = 'block';\n",
       "            warnings.textContent = (\n",
       "                \"This browser does not support binary websocket messages. \" +\n",
       "                    \"Performance may be slow.\");\n",
       "        }\n",
       "    }\n",
       "\n",
       "    this.imageObj = new Image();\n",
       "\n",
       "    this.context = undefined;\n",
       "    this.message = undefined;\n",
       "    this.canvas = undefined;\n",
       "    this.rubberband_canvas = undefined;\n",
       "    this.rubberband_context = undefined;\n",
       "    this.format_dropdown = undefined;\n",
       "\n",
       "    this.image_mode = 'full';\n",
       "\n",
       "    this.root = $('<div/>');\n",
       "    this._root_extra_style(this.root)\n",
       "    this.root.attr('style', 'display: inline-block');\n",
       "\n",
       "    $(parent_element).append(this.root);\n",
       "\n",
       "    this._init_header(this);\n",
       "    this._init_canvas(this);\n",
       "    this._init_toolbar(this);\n",
       "\n",
       "    var fig = this;\n",
       "\n",
       "    this.waiting = false;\n",
       "\n",
       "    this.ws.onopen =  function () {\n",
       "            fig.send_message(\"supports_binary\", {value: fig.supports_binary});\n",
       "            fig.send_message(\"send_image_mode\", {});\n",
       "            if (mpl.ratio != 1) {\n",
       "                fig.send_message(\"set_dpi_ratio\", {'dpi_ratio': mpl.ratio});\n",
       "            }\n",
       "            fig.send_message(\"refresh\", {});\n",
       "        }\n",
       "\n",
       "    this.imageObj.onload = function() {\n",
       "            if (fig.image_mode == 'full') {\n",
       "                // Full images could contain transparency (where diff images\n",
       "                // almost always do), so we need to clear the canvas so that\n",
       "                // there is no ghosting.\n",
       "                fig.context.clearRect(0, 0, fig.canvas.width, fig.canvas.height);\n",
       "            }\n",
       "            fig.context.drawImage(fig.imageObj, 0, 0);\n",
       "        };\n",
       "\n",
       "    this.imageObj.onunload = function() {\n",
       "        this.ws.close();\n",
       "    }\n",
       "\n",
       "    this.ws.onmessage = this._make_on_message_function(this);\n",
       "\n",
       "    this.ondownload = ondownload;\n",
       "}\n",
       "\n",
       "mpl.figure.prototype._init_header = function() {\n",
       "    var titlebar = $(\n",
       "        '<div class=\"ui-dialog-titlebar ui-widget-header ui-corner-all ' +\n",
       "        'ui-helper-clearfix\"/>');\n",
       "    var titletext = $(\n",
       "        '<div class=\"ui-dialog-title\" style=\"width: 100%; ' +\n",
       "        'text-align: center; padding: 3px;\"/>');\n",
       "    titlebar.append(titletext)\n",
       "    this.root.append(titlebar);\n",
       "    this.header = titletext[0];\n",
       "}\n",
       "\n",
       "\n",
       "\n",
       "mpl.figure.prototype._canvas_extra_style = function(canvas_div) {\n",
       "\n",
       "}\n",
       "\n",
       "\n",
       "mpl.figure.prototype._root_extra_style = function(canvas_div) {\n",
       "\n",
       "}\n",
       "\n",
       "mpl.figure.prototype._init_canvas = function() {\n",
       "    var fig = this;\n",
       "\n",
       "    var canvas_div = $('<div/>');\n",
       "\n",
       "    canvas_div.attr('style', 'position: relative; clear: both; outline: 0');\n",
       "\n",
       "    function canvas_keyboard_event(event) {\n",
       "        return fig.key_event(event, event['data']);\n",
       "    }\n",
       "\n",
       "    canvas_div.keydown('key_press', canvas_keyboard_event);\n",
       "    canvas_div.keyup('key_release', canvas_keyboard_event);\n",
       "    this.canvas_div = canvas_div\n",
       "    this._canvas_extra_style(canvas_div)\n",
       "    this.root.append(canvas_div);\n",
       "\n",
       "    var canvas = $('<canvas/>');\n",
       "    canvas.addClass('mpl-canvas');\n",
       "    canvas.attr('style', \"left: 0; top: 0; z-index: 0; outline: 0\")\n",
       "\n",
       "    this.canvas = canvas[0];\n",
       "    this.context = canvas[0].getContext(\"2d\");\n",
       "\n",
       "    var backingStore = this.context.backingStorePixelRatio ||\n",
       "\tthis.context.webkitBackingStorePixelRatio ||\n",
       "\tthis.context.mozBackingStorePixelRatio ||\n",
       "\tthis.context.msBackingStorePixelRatio ||\n",
       "\tthis.context.oBackingStorePixelRatio ||\n",
       "\tthis.context.backingStorePixelRatio || 1;\n",
       "\n",
       "    mpl.ratio = (window.devicePixelRatio || 1) / backingStore;\n",
       "\n",
       "    var rubberband = $('<canvas/>');\n",
       "    rubberband.attr('style', \"position: absolute; left: 0; top: 0; z-index: 1;\")\n",
       "\n",
       "    var pass_mouse_events = true;\n",
       "\n",
       "    canvas_div.resizable({\n",
       "        start: function(event, ui) {\n",
       "            pass_mouse_events = false;\n",
       "        },\n",
       "        resize: function(event, ui) {\n",
       "            fig.request_resize(ui.size.width, ui.size.height);\n",
       "        },\n",
       "        stop: function(event, ui) {\n",
       "            pass_mouse_events = true;\n",
       "            fig.request_resize(ui.size.width, ui.size.height);\n",
       "        },\n",
       "    });\n",
       "\n",
       "    function mouse_event_fn(event) {\n",
       "        if (pass_mouse_events)\n",
       "            return fig.mouse_event(event, event['data']);\n",
       "    }\n",
       "\n",
       "    rubberband.mousedown('button_press', mouse_event_fn);\n",
       "    rubberband.mouseup('button_release', mouse_event_fn);\n",
       "    // Throttle sequential mouse events to 1 every 20ms.\n",
       "    rubberband.mousemove('motion_notify', mouse_event_fn);\n",
       "\n",
       "    rubberband.mouseenter('figure_enter', mouse_event_fn);\n",
       "    rubberband.mouseleave('figure_leave', mouse_event_fn);\n",
       "\n",
       "    canvas_div.on(\"wheel\", function (event) {\n",
       "        event = event.originalEvent;\n",
       "        event['data'] = 'scroll'\n",
       "        if (event.deltaY < 0) {\n",
       "            event.step = 1;\n",
       "        } else {\n",
       "            event.step = -1;\n",
       "        }\n",
       "        mouse_event_fn(event);\n",
       "    });\n",
       "\n",
       "    canvas_div.append(canvas);\n",
       "    canvas_div.append(rubberband);\n",
       "\n",
       "    this.rubberband = rubberband;\n",
       "    this.rubberband_canvas = rubberband[0];\n",
       "    this.rubberband_context = rubberband[0].getContext(\"2d\");\n",
       "    this.rubberband_context.strokeStyle = \"#000000\";\n",
       "\n",
       "    this._resize_canvas = function(width, height) {\n",
       "        // Keep the size of the canvas, canvas container, and rubber band\n",
       "        // canvas in synch.\n",
       "        canvas_div.css('width', width)\n",
       "        canvas_div.css('height', height)\n",
       "\n",
       "        canvas.attr('width', width * mpl.ratio);\n",
       "        canvas.attr('height', height * mpl.ratio);\n",
       "        canvas.attr('style', 'width: ' + width + 'px; height: ' + height + 'px;');\n",
       "\n",
       "        rubberband.attr('width', width);\n",
       "        rubberband.attr('height', height);\n",
       "    }\n",
       "\n",
       "    // Set the figure to an initial 600x600px, this will subsequently be updated\n",
       "    // upon first draw.\n",
       "    this._resize_canvas(600, 600);\n",
       "\n",
       "    // Disable right mouse context menu.\n",
       "    $(this.rubberband_canvas).bind(\"contextmenu\",function(e){\n",
       "        return false;\n",
       "    });\n",
       "\n",
       "    function set_focus () {\n",
       "        canvas.focus();\n",
       "        canvas_div.focus();\n",
       "    }\n",
       "\n",
       "    window.setTimeout(set_focus, 100);\n",
       "}\n",
       "\n",
       "mpl.figure.prototype._init_toolbar = function() {\n",
       "    var fig = this;\n",
       "\n",
       "    var nav_element = $('<div/>')\n",
       "    nav_element.attr('style', 'width: 100%');\n",
       "    this.root.append(nav_element);\n",
       "\n",
       "    // Define a callback function for later on.\n",
       "    function toolbar_event(event) {\n",
       "        return fig.toolbar_button_onclick(event['data']);\n",
       "    }\n",
       "    function toolbar_mouse_event(event) {\n",
       "        return fig.toolbar_button_onmouseover(event['data']);\n",
       "    }\n",
       "\n",
       "    for(var toolbar_ind in mpl.toolbar_items) {\n",
       "        var name = mpl.toolbar_items[toolbar_ind][0];\n",
       "        var tooltip = mpl.toolbar_items[toolbar_ind][1];\n",
       "        var image = mpl.toolbar_items[toolbar_ind][2];\n",
       "        var method_name = mpl.toolbar_items[toolbar_ind][3];\n",
       "\n",
       "        if (!name) {\n",
       "            // put a spacer in here.\n",
       "            continue;\n",
       "        }\n",
       "        var button = $('<button/>');\n",
       "        button.addClass('ui-button ui-widget ui-state-default ui-corner-all ' +\n",
       "                        'ui-button-icon-only');\n",
       "        button.attr('role', 'button');\n",
       "        button.attr('aria-disabled', 'false');\n",
       "        button.click(method_name, toolbar_event);\n",
       "        button.mouseover(tooltip, toolbar_mouse_event);\n",
       "\n",
       "        var icon_img = $('<span/>');\n",
       "        icon_img.addClass('ui-button-icon-primary ui-icon');\n",
       "        icon_img.addClass(image);\n",
       "        icon_img.addClass('ui-corner-all');\n",
       "\n",
       "        var tooltip_span = $('<span/>');\n",
       "        tooltip_span.addClass('ui-button-text');\n",
       "        tooltip_span.html(tooltip);\n",
       "\n",
       "        button.append(icon_img);\n",
       "        button.append(tooltip_span);\n",
       "\n",
       "        nav_element.append(button);\n",
       "    }\n",
       "\n",
       "    var fmt_picker_span = $('<span/>');\n",
       "\n",
       "    var fmt_picker = $('<select/>');\n",
       "    fmt_picker.addClass('mpl-toolbar-option ui-widget ui-widget-content');\n",
       "    fmt_picker_span.append(fmt_picker);\n",
       "    nav_element.append(fmt_picker_span);\n",
       "    this.format_dropdown = fmt_picker[0];\n",
       "\n",
       "    for (var ind in mpl.extensions) {\n",
       "        var fmt = mpl.extensions[ind];\n",
       "        var option = $(\n",
       "            '<option/>', {selected: fmt === mpl.default_extension}).html(fmt);\n",
       "        fmt_picker.append(option)\n",
       "    }\n",
       "\n",
       "    // Add hover states to the ui-buttons\n",
       "    $( \".ui-button\" ).hover(\n",
       "        function() { $(this).addClass(\"ui-state-hover\");},\n",
       "        function() { $(this).removeClass(\"ui-state-hover\");}\n",
       "    );\n",
       "\n",
       "    var status_bar = $('<span class=\"mpl-message\"/>');\n",
       "    nav_element.append(status_bar);\n",
       "    this.message = status_bar[0];\n",
       "}\n",
       "\n",
       "mpl.figure.prototype.request_resize = function(x_pixels, y_pixels) {\n",
       "    // Request matplotlib to resize the figure. Matplotlib will then trigger a resize in the client,\n",
       "    // which will in turn request a refresh of the image.\n",
       "    this.send_message('resize', {'width': x_pixels, 'height': y_pixels});\n",
       "}\n",
       "\n",
       "mpl.figure.prototype.send_message = function(type, properties) {\n",
       "    properties['type'] = type;\n",
       "    properties['figure_id'] = this.id;\n",
       "    this.ws.send(JSON.stringify(properties));\n",
       "}\n",
       "\n",
       "mpl.figure.prototype.send_draw_message = function() {\n",
       "    if (!this.waiting) {\n",
       "        this.waiting = true;\n",
       "        this.ws.send(JSON.stringify({type: \"draw\", figure_id: this.id}));\n",
       "    }\n",
       "}\n",
       "\n",
       "\n",
       "mpl.figure.prototype.handle_save = function(fig, msg) {\n",
       "    var format_dropdown = fig.format_dropdown;\n",
       "    var format = format_dropdown.options[format_dropdown.selectedIndex].value;\n",
       "    fig.ondownload(fig, format);\n",
       "}\n",
       "\n",
       "\n",
       "mpl.figure.prototype.handle_resize = function(fig, msg) {\n",
       "    var size = msg['size'];\n",
       "    if (size[0] != fig.canvas.width || size[1] != fig.canvas.height) {\n",
       "        fig._resize_canvas(size[0], size[1]);\n",
       "        fig.send_message(\"refresh\", {});\n",
       "    };\n",
       "}\n",
       "\n",
       "mpl.figure.prototype.handle_rubberband = function(fig, msg) {\n",
       "    var x0 = msg['x0'] / mpl.ratio;\n",
       "    var y0 = (fig.canvas.height - msg['y0']) / mpl.ratio;\n",
       "    var x1 = msg['x1'] / mpl.ratio;\n",
       "    var y1 = (fig.canvas.height - msg['y1']) / mpl.ratio;\n",
       "    x0 = Math.floor(x0) + 0.5;\n",
       "    y0 = Math.floor(y0) + 0.5;\n",
       "    x1 = Math.floor(x1) + 0.5;\n",
       "    y1 = Math.floor(y1) + 0.5;\n",
       "    var min_x = Math.min(x0, x1);\n",
       "    var min_y = Math.min(y0, y1);\n",
       "    var width = Math.abs(x1 - x0);\n",
       "    var height = Math.abs(y1 - y0);\n",
       "\n",
       "    fig.rubberband_context.clearRect(\n",
       "        0, 0, fig.canvas.width, fig.canvas.height);\n",
       "\n",
       "    fig.rubberband_context.strokeRect(min_x, min_y, width, height);\n",
       "}\n",
       "\n",
       "mpl.figure.prototype.handle_figure_label = function(fig, msg) {\n",
       "    // Updates the figure title.\n",
       "    fig.header.textContent = msg['label'];\n",
       "}\n",
       "\n",
       "mpl.figure.prototype.handle_cursor = function(fig, msg) {\n",
       "    var cursor = msg['cursor'];\n",
       "    switch(cursor)\n",
       "    {\n",
       "    case 0:\n",
       "        cursor = 'pointer';\n",
       "        break;\n",
       "    case 1:\n",
       "        cursor = 'default';\n",
       "        break;\n",
       "    case 2:\n",
       "        cursor = 'crosshair';\n",
       "        break;\n",
       "    case 3:\n",
       "        cursor = 'move';\n",
       "        break;\n",
       "    }\n",
       "    fig.rubberband_canvas.style.cursor = cursor;\n",
       "}\n",
       "\n",
       "mpl.figure.prototype.handle_message = function(fig, msg) {\n",
       "    fig.message.textContent = msg['message'];\n",
       "}\n",
       "\n",
       "mpl.figure.prototype.handle_draw = function(fig, msg) {\n",
       "    // Request the server to send over a new figure.\n",
       "    fig.send_draw_message();\n",
       "}\n",
       "\n",
       "mpl.figure.prototype.handle_image_mode = function(fig, msg) {\n",
       "    fig.image_mode = msg['mode'];\n",
       "}\n",
       "\n",
       "mpl.figure.prototype.updated_canvas_event = function() {\n",
       "    // Called whenever the canvas gets updated.\n",
       "    this.send_message(\"ack\", {});\n",
       "}\n",
       "\n",
       "// A function to construct a web socket function for onmessage handling.\n",
       "// Called in the figure constructor.\n",
       "mpl.figure.prototype._make_on_message_function = function(fig) {\n",
       "    return function socket_on_message(evt) {\n",
       "        if (evt.data instanceof Blob) {\n",
       "            /* FIXME: We get \"Resource interpreted as Image but\n",
       "             * transferred with MIME type text/plain:\" errors on\n",
       "             * Chrome.  But how to set the MIME type?  It doesn't seem\n",
       "             * to be part of the websocket stream */\n",
       "            evt.data.type = \"image/png\";\n",
       "\n",
       "            /* Free the memory for the previous frames */\n",
       "            if (fig.imageObj.src) {\n",
       "                (window.URL || window.webkitURL).revokeObjectURL(\n",
       "                    fig.imageObj.src);\n",
       "            }\n",
       "\n",
       "            fig.imageObj.src = (window.URL || window.webkitURL).createObjectURL(\n",
       "                evt.data);\n",
       "            fig.updated_canvas_event();\n",
       "            fig.waiting = false;\n",
       "            return;\n",
       "        }\n",
       "        else if (typeof evt.data === 'string' && evt.data.slice(0, 21) == \"data:image/png;base64\") {\n",
       "            fig.imageObj.src = evt.data;\n",
       "            fig.updated_canvas_event();\n",
       "            fig.waiting = false;\n",
       "            return;\n",
       "        }\n",
       "\n",
       "        var msg = JSON.parse(evt.data);\n",
       "        var msg_type = msg['type'];\n",
       "\n",
       "        // Call the  \"handle_{type}\" callback, which takes\n",
       "        // the figure and JSON message as its only arguments.\n",
       "        try {\n",
       "            var callback = fig[\"handle_\" + msg_type];\n",
       "        } catch (e) {\n",
       "            console.log(\"No handler for the '\" + msg_type + \"' message type: \", msg);\n",
       "            return;\n",
       "        }\n",
       "\n",
       "        if (callback) {\n",
       "            try {\n",
       "                // console.log(\"Handling '\" + msg_type + \"' message: \", msg);\n",
       "                callback(fig, msg);\n",
       "            } catch (e) {\n",
       "                console.log(\"Exception inside the 'handler_\" + msg_type + \"' callback:\", e, e.stack, msg);\n",
       "            }\n",
       "        }\n",
       "    };\n",
       "}\n",
       "\n",
       "// from http://stackoverflow.com/questions/1114465/getting-mouse-location-in-canvas\n",
       "mpl.findpos = function(e) {\n",
       "    //this section is from http://www.quirksmode.org/js/events_properties.html\n",
       "    var targ;\n",
       "    if (!e)\n",
       "        e = window.event;\n",
       "    if (e.target)\n",
       "        targ = e.target;\n",
       "    else if (e.srcElement)\n",
       "        targ = e.srcElement;\n",
       "    if (targ.nodeType == 3) // defeat Safari bug\n",
       "        targ = targ.parentNode;\n",
       "\n",
       "    // jQuery normalizes the pageX and pageY\n",
       "    // pageX,Y are the mouse positions relative to the document\n",
       "    // offset() returns the position of the element relative to the document\n",
       "    var x = e.pageX - $(targ).offset().left;\n",
       "    var y = e.pageY - $(targ).offset().top;\n",
       "\n",
       "    return {\"x\": x, \"y\": y};\n",
       "};\n",
       "\n",
       "/*\n",
       " * return a copy of an object with only non-object keys\n",
       " * we need this to avoid circular references\n",
       " * http://stackoverflow.com/a/24161582/3208463\n",
       " */\n",
       "function simpleKeys (original) {\n",
       "  return Object.keys(original).reduce(function (obj, key) {\n",
       "    if (typeof original[key] !== 'object')\n",
       "        obj[key] = original[key]\n",
       "    return obj;\n",
       "  }, {});\n",
       "}\n",
       "\n",
       "mpl.figure.prototype.mouse_event = function(event, name) {\n",
       "    var canvas_pos = mpl.findpos(event)\n",
       "\n",
       "    if (name === 'button_press')\n",
       "    {\n",
       "        this.canvas.focus();\n",
       "        this.canvas_div.focus();\n",
       "    }\n",
       "\n",
       "    var x = canvas_pos.x * mpl.ratio;\n",
       "    var y = canvas_pos.y * mpl.ratio;\n",
       "\n",
       "    this.send_message(name, {x: x, y: y, button: event.button,\n",
       "                             step: event.step,\n",
       "                             guiEvent: simpleKeys(event)});\n",
       "\n",
       "    /* This prevents the web browser from automatically changing to\n",
       "     * the text insertion cursor when the button is pressed.  We want\n",
       "     * to control all of the cursor setting manually through the\n",
       "     * 'cursor' event from matplotlib */\n",
       "    event.preventDefault();\n",
       "    return false;\n",
       "}\n",
       "\n",
       "mpl.figure.prototype._key_event_extra = function(event, name) {\n",
       "    // Handle any extra behaviour associated with a key event\n",
       "}\n",
       "\n",
       "mpl.figure.prototype.key_event = function(event, name) {\n",
       "\n",
       "    // Prevent repeat events\n",
       "    if (name == 'key_press')\n",
       "    {\n",
       "        if (event.which === this._key)\n",
       "            return;\n",
       "        else\n",
       "            this._key = event.which;\n",
       "    }\n",
       "    if (name == 'key_release')\n",
       "        this._key = null;\n",
       "\n",
       "    var value = '';\n",
       "    if (event.ctrlKey && event.which != 17)\n",
       "        value += \"ctrl+\";\n",
       "    if (event.altKey && event.which != 18)\n",
       "        value += \"alt+\";\n",
       "    if (event.shiftKey && event.which != 16)\n",
       "        value += \"shift+\";\n",
       "\n",
       "    value += 'k';\n",
       "    value += event.which.toString();\n",
       "\n",
       "    this._key_event_extra(event, name);\n",
       "\n",
       "    this.send_message(name, {key: value,\n",
       "                             guiEvent: simpleKeys(event)});\n",
       "    return false;\n",
       "}\n",
       "\n",
       "mpl.figure.prototype.toolbar_button_onclick = function(name) {\n",
       "    if (name == 'download') {\n",
       "        this.handle_save(this, null);\n",
       "    } else {\n",
       "        this.send_message(\"toolbar_button\", {name: name});\n",
       "    }\n",
       "};\n",
       "\n",
       "mpl.figure.prototype.toolbar_button_onmouseover = function(tooltip) {\n",
       "    this.message.textContent = tooltip;\n",
       "};\n",
       "mpl.toolbar_items = [[\"Home\", \"Reset original view\", \"fa fa-home icon-home\", \"home\"], [\"Back\", \"Back to  previous view\", \"fa fa-arrow-left icon-arrow-left\", \"back\"], [\"Forward\", \"Forward to next view\", \"fa fa-arrow-right icon-arrow-right\", \"forward\"], [\"\", \"\", \"\", \"\"], [\"Pan\", \"Pan axes with left mouse, zoom with right\", \"fa fa-arrows icon-move\", \"pan\"], [\"Zoom\", \"Zoom to rectangle\", \"fa fa-square-o icon-check-empty\", \"zoom\"], [\"\", \"\", \"\", \"\"], [\"Download\", \"Download plot\", \"fa fa-floppy-o icon-save\", \"download\"]];\n",
       "\n",
       "mpl.extensions = [\"eps\", \"jpeg\", \"pdf\", \"png\", \"ps\", \"raw\", \"svg\", \"tif\"];\n",
       "\n",
       "mpl.default_extension = \"png\";var comm_websocket_adapter = function(comm) {\n",
       "    // Create a \"websocket\"-like object which calls the given IPython comm\n",
       "    // object with the appropriate methods. Currently this is a non binary\n",
       "    // socket, so there is still some room for performance tuning.\n",
       "    var ws = {};\n",
       "\n",
       "    ws.close = function() {\n",
       "        comm.close()\n",
       "    };\n",
       "    ws.send = function(m) {\n",
       "        //console.log('sending', m);\n",
       "        comm.send(m);\n",
       "    };\n",
       "    // Register the callback with on_msg.\n",
       "    comm.on_msg(function(msg) {\n",
       "        //console.log('receiving', msg['content']['data'], msg);\n",
       "        // Pass the mpl event to the overriden (by mpl) onmessage function.\n",
       "        ws.onmessage(msg['content']['data'])\n",
       "    });\n",
       "    return ws;\n",
       "}\n",
       "\n",
       "mpl.mpl_figure_comm = function(comm, msg) {\n",
       "    // This is the function which gets called when the mpl process\n",
       "    // starts-up an IPython Comm through the \"matplotlib\" channel.\n",
       "\n",
       "    var id = msg.content.data.id;\n",
       "    // Get hold of the div created by the display call when the Comm\n",
       "    // socket was opened in Python.\n",
       "    var element = $(\"#\" + id);\n",
       "    var ws_proxy = comm_websocket_adapter(comm)\n",
       "\n",
       "    function ondownload(figure, format) {\n",
       "        window.open(figure.imageObj.src);\n",
       "    }\n",
       "\n",
       "    var fig = new mpl.figure(id, ws_proxy,\n",
       "                           ondownload,\n",
       "                           element.get(0));\n",
       "\n",
       "    // Call onopen now - mpl needs it, as it is assuming we've passed it a real\n",
       "    // web socket which is closed, not our websocket->open comm proxy.\n",
       "    ws_proxy.onopen();\n",
       "\n",
       "    fig.parent_element = element.get(0);\n",
       "    fig.cell_info = mpl.find_output_cell(\"<div id='\" + id + \"'></div>\");\n",
       "    if (!fig.cell_info) {\n",
       "        console.error(\"Failed to find cell for figure\", id, fig);\n",
       "        return;\n",
       "    }\n",
       "\n",
       "    var output_index = fig.cell_info[2]\n",
       "    var cell = fig.cell_info[0];\n",
       "\n",
       "};\n",
       "\n",
       "mpl.figure.prototype.handle_close = function(fig, msg) {\n",
       "    var width = fig.canvas.width/mpl.ratio\n",
       "    fig.root.unbind('remove')\n",
       "\n",
       "    // Update the output cell to use the data from the current canvas.\n",
       "    fig.push_to_output();\n",
       "    var dataURL = fig.canvas.toDataURL();\n",
       "    // Re-enable the keyboard manager in IPython - without this line, in FF,\n",
       "    // the notebook keyboard shortcuts fail.\n",
       "    IPython.keyboard_manager.enable()\n",
       "    $(fig.parent_element).html('<img src=\"' + dataURL + '\" width=\"' + width + '\">');\n",
       "    fig.close_ws(fig, msg);\n",
       "}\n",
       "\n",
       "mpl.figure.prototype.close_ws = function(fig, msg){\n",
       "    fig.send_message('closing', msg);\n",
       "    // fig.ws.close()\n",
       "}\n",
       "\n",
       "mpl.figure.prototype.push_to_output = function(remove_interactive) {\n",
       "    // Turn the data on the canvas into data in the output cell.\n",
       "    var width = this.canvas.width/mpl.ratio\n",
       "    var dataURL = this.canvas.toDataURL();\n",
       "    this.cell_info[1]['text/html'] = '<img src=\"' + dataURL + '\" width=\"' + width + '\">';\n",
       "}\n",
       "\n",
       "mpl.figure.prototype.updated_canvas_event = function() {\n",
       "    // Tell IPython that the notebook contents must change.\n",
       "    IPython.notebook.set_dirty(true);\n",
       "    this.send_message(\"ack\", {});\n",
       "    var fig = this;\n",
       "    // Wait a second, then push the new image to the DOM so\n",
       "    // that it is saved nicely (might be nice to debounce this).\n",
       "    setTimeout(function () { fig.push_to_output() }, 1000);\n",
       "}\n",
       "\n",
       "mpl.figure.prototype._init_toolbar = function() {\n",
       "    var fig = this;\n",
       "\n",
       "    var nav_element = $('<div/>')\n",
       "    nav_element.attr('style', 'width: 100%');\n",
       "    this.root.append(nav_element);\n",
       "\n",
       "    // Define a callback function for later on.\n",
       "    function toolbar_event(event) {\n",
       "        return fig.toolbar_button_onclick(event['data']);\n",
       "    }\n",
       "    function toolbar_mouse_event(event) {\n",
       "        return fig.toolbar_button_onmouseover(event['data']);\n",
       "    }\n",
       "\n",
       "    for(var toolbar_ind in mpl.toolbar_items){\n",
       "        var name = mpl.toolbar_items[toolbar_ind][0];\n",
       "        var tooltip = mpl.toolbar_items[toolbar_ind][1];\n",
       "        var image = mpl.toolbar_items[toolbar_ind][2];\n",
       "        var method_name = mpl.toolbar_items[toolbar_ind][3];\n",
       "\n",
       "        if (!name) { continue; };\n",
       "\n",
       "        var button = $('<button class=\"btn btn-default\" href=\"#\" title=\"' + name + '\"><i class=\"fa ' + image + ' fa-lg\"></i></button>');\n",
       "        button.click(method_name, toolbar_event);\n",
       "        button.mouseover(tooltip, toolbar_mouse_event);\n",
       "        nav_element.append(button);\n",
       "    }\n",
       "\n",
       "    // Add the status bar.\n",
       "    var status_bar = $('<span class=\"mpl-message\" style=\"text-align:right; float: right;\"/>');\n",
       "    nav_element.append(status_bar);\n",
       "    this.message = status_bar[0];\n",
       "\n",
       "    // Add the close button to the window.\n",
       "    var buttongrp = $('<div class=\"btn-group inline pull-right\"></div>');\n",
       "    var button = $('<button class=\"btn btn-mini btn-primary\" href=\"#\" title=\"Stop Interaction\"><i class=\"fa fa-power-off icon-remove icon-large\"></i></button>');\n",
       "    button.click(function (evt) { fig.handle_close(fig, {}); } );\n",
       "    button.mouseover('Stop Interaction', toolbar_mouse_event);\n",
       "    buttongrp.append(button);\n",
       "    var titlebar = this.root.find($('.ui-dialog-titlebar'));\n",
       "    titlebar.prepend(buttongrp);\n",
       "}\n",
       "\n",
       "mpl.figure.prototype._root_extra_style = function(el){\n",
       "    var fig = this\n",
       "    el.on(\"remove\", function(){\n",
       "\tfig.close_ws(fig, {});\n",
       "    });\n",
       "}\n",
       "\n",
       "mpl.figure.prototype._canvas_extra_style = function(el){\n",
       "    // this is important to make the div 'focusable\n",
       "    el.attr('tabindex', 0)\n",
       "    // reach out to IPython and tell the keyboard manager to turn it's self\n",
       "    // off when our div gets focus\n",
       "\n",
       "    // location in version 3\n",
       "    if (IPython.notebook.keyboard_manager) {\n",
       "        IPython.notebook.keyboard_manager.register_events(el);\n",
       "    }\n",
       "    else {\n",
       "        // location in version 2\n",
       "        IPython.keyboard_manager.register_events(el);\n",
       "    }\n",
       "\n",
       "}\n",
       "\n",
       "mpl.figure.prototype._key_event_extra = function(event, name) {\n",
       "    var manager = IPython.notebook.keyboard_manager;\n",
       "    if (!manager)\n",
       "        manager = IPython.keyboard_manager;\n",
       "\n",
       "    // Check for shift+enter\n",
       "    if (event.shiftKey && event.which == 13) {\n",
       "        this.canvas_div.blur();\n",
       "        // select the cell after this one\n",
       "        var index = IPython.notebook.find_cell_index(this.cell_info[0]);\n",
       "        IPython.notebook.select(index + 1);\n",
       "    }\n",
       "}\n",
       "\n",
       "mpl.figure.prototype.handle_save = function(fig, msg) {\n",
       "    fig.ondownload(fig, null);\n",
       "}\n",
       "\n",
       "\n",
       "mpl.find_output_cell = function(html_output) {\n",
       "    // Return the cell and output element which can be found *uniquely* in the notebook.\n",
       "    // Note - this is a bit hacky, but it is done because the \"notebook_saving.Notebook\"\n",
       "    // IPython event is triggered only after the cells have been serialised, which for\n",
       "    // our purposes (turning an active figure into a static one), is too late.\n",
       "    var cells = IPython.notebook.get_cells();\n",
       "    var ncells = cells.length;\n",
       "    for (var i=0; i<ncells; i++) {\n",
       "        var cell = cells[i];\n",
       "        if (cell.cell_type === 'code'){\n",
       "            for (var j=0; j<cell.output_area.outputs.length; j++) {\n",
       "                var data = cell.output_area.outputs[j];\n",
       "                if (data.data) {\n",
       "                    // IPython >= 3 moved mimebundle to data attribute of output\n",
       "                    data = data.data;\n",
       "                }\n",
       "                if (data['text/html'] == html_output) {\n",
       "                    return [cell, data, j];\n",
       "                }\n",
       "            }\n",
       "        }\n",
       "    }\n",
       "}\n",
       "\n",
       "// Register the function which deals with the matplotlib target/channel.\n",
       "// The kernel may be null if the page has been refreshed.\n",
       "if (IPython.notebook.kernel != null) {\n",
       "    IPython.notebook.kernel.comm_manager.register_target('matplotlib', mpl.mpl_figure_comm);\n",
       "}\n"
      ],
      "text/plain": [
       "<IPython.core.display.Javascript object>"
      ]
     },
     "metadata": {},
     "output_type": "display_data"
    },
    {
     "data": {
      "text/html": [
       "<img src=\"data:image/png;base64,iVBORw0KGgoAAAANSUhEUgAAAoAAAAHgCAYAAAA10dzkAAAgAElEQVR4XuzdC7i22Vkf9DtHAoSZzAyTw5BJnUBKiIQAopgTWAqZkIOQqoVAMdQaIlRFqy3QqkCptKWhYMBSEUorUEIIarUe0oo0ykk8gIcKcmwy52SSzEwgAZJMev133t/mP4/7m29/h/m+vfe73uva17vf513PWve6173u+7/+91rP+6hZr6WBpYGlgaWBpYGlgaWBpYG90sCj9qq3q7NLA0sDSwNLA0sDSwNLA0sDswDgMoKlgaWBpYGlgaWBpYGlgT3TwAKAezbgq7tLA0sDSwNLA0sDSwNLAwsALhtYGlgaWBpYGlgaWBpYGtgzDSwAuGcDvrq7NLA0sDSwNLA0sDSwNLAA4LKBpYGlgaWBpYGlgaWBpYE908ACgHs24Ku7SwNLA0sDSwNLA0sDSwMLAC4bWBpYGlgaWBpYGlgaWBrYMw0sALhnA766uzSwNLA0sDSwNLA0sDSwAOCygaWBpYGlgaWBpYGlgaWBPdPAAoB7NuCru0sDSwNLA0sDSwNLA0sDCwAuG1gaWBpYGlgaWBpYGlga2DMNLAC4ZwO+urs0sDSwNLA0sDSwNLA0sADgsoGlgaWBpYGlgaWBpYGlgT3TwAKAezbgq7tLA0sDSwNLA0sDSwNLAwsALhtYGlgaWBpYGlgaWBpYGtgzDSwAuGcDvrq7NLA0sDSwNLA0sDSwNLAA4LKBpYGlgaWBpYGlgaWBpYE908ACgHs24Ku7SwNLA0sDSwNLA0sDSwMLAC4bWBpYGlgaWBpYGlgaWBrYMw0sALhnA766uzSwNLA0sDSwNLA0sDSwAOCygaWBpYGlgaWBpYGlgaWBPdPAAoB7NuCru0sDSwNLA0sDSwNLA0sDCwAuG1gaWBpYGlgaWBpYGlga2DMNLAC4ZwO+urs0sDSwNLA0sDSwNLA0sADgsoGlgaWBpYGlgaWBpYGlgT3TwAKAezbgq7tLA0sDSwNLA0sDSwNLAwsALhtYGlgaWBpYGlgaWBpYGtgzDSwAuGcDvrq7NLA0sDSwNLA0sDSwNLAA4LKBpYGlgaWBpYGlgaWBpYE908ACgHs24Ku7SwNLA0sDSwNLA0sDSwMLAC4bWBpYGlgaWBpYGlgaWBrYMw0sALhnA766uzSwNLA0sDSwNLA0sDSwAOCygaWBpYGlgaWBpYGlgaWBPdPAAoB7NuCru6dSA185Mz8wM7fMzD86lT04+UL/tzNzx8y89uSLutcS/oNd7/+5Y2ghZT9+Zj71PGWfMzP/18x8+sz8P8eodxVZGjgTGlgA8EwM4+rEFdLAc2fmG2fmn56Zp8zMu2bm/52Z/2pmvusRlOGkAsBPmZnvmJkXzczvzcx/MzN/ambeeYG6eNLM/MrM3Dgz/9LMvLnu/6adzs9VZdr+6d2Xf3Nm/omZCTjIfdFbPp/v9cKZeevMPHtmfq0KP3pm/t2Z+eqZedpOxr84Mz9yvgqP+P7PzcxfmJl/eB5A8riZ+T9nJrr90zPz+qorffnNmflDMxNw8+GZ+eMzk35fzOtjZ+Z3ZuZDF3PzVbpnCwBvmpmvmpn/cmZ+cSPTcQFgbvs7Oz38kavUr9Xs0sAV18ACgFdc5avBU6qBF8zMT87M22fmb83M3TNz88z8szPziTPzSY9gvx4zMwEGv7sL+o9gU8eu+ukz8wszc//MvGFmnrgDS9HPP7MDhMetLPf/KzMTQLIFgJ82M/nbvr511+ZTq62LBYABDx89M7duGgnY+/qZ+U9n5n+dmS+amZfPzKtn5o3H7dzMRFf/327swuA+HCMVAP3nd7p4JADgF8zMvzYznzczAd4BfwGVAd3/0c6uL6BrV7zo43ctZsGR12ftxuYoIHwhAPALZyYscObxr1/xXq0GlwauggYWALwKSl9NnkoNhN0K8/cHZ+a+TQ+ePDPvOJW9unih/9qOYQtrFtCX1+fPzN+fmdfNzPces+qAoQDJgJ78bQHgUdUEeL9tZr5vx/4oczEAMGOX1G9A0fdXY5+wA0bpx7++ux5/GaYwqfiwccdlzgIWw24GyD9cSjKyhAn99p0uLicADLjOwiUM13+/AzsBfh+zA6QBtZHxX52ZHz/m2J2EYpcLAGaBdc/MfPfM/AcnoWNLhqWBR1oDCwA+0hpe9Z8VDfzyzNy1S78dp09/bGb+7ZnJ/qL3z8zf26X0btvc/Nkz880z8/wdyxem6c9WWjPFj0oBh0nKfqW/NDN/dceS3blLff5nmzbCoCVFHWYuaeu/vgM9f2Ozr/DaXaoz/Qyz93CvBMuAoT+6KRSmK30MGDzO6yd2MgVQhmE9DgD8MzPzl3ep3shwKQAwzFH0EEAXUOn1NTPzH8/MP7lL87seoPS3Z+bFM/NTx+jg58zM/zgzn7Ebg4cDgJEj7X3pzPzGZUwBP3YHzJ85M//ijjHbip4yYR+/ZQcSs+B5uFfSz+d69V7VLBCS+g7jGLAZmw3Qz7YJL/addP6/MDNfsSubOZP0bm8p6BRwUv2xme0LG4gBjI1mLDPX3rNjOr/tiPv+8x2b/7xjjOsqsjRw6jWwAOCpH8LVgSukgbfsQFpSwefbKJ79Xgmkb9qBpDAr/8bM/NYOCGAQExT/u5n533cpuAd3e7oSNAMwfn7Xt3MBwOzfShovzFXAX9KoARrZq5i9ZnmFycoG9wTspFp/e8fyJJ2cQNfBWjvn21eWOm+fma+bmW0g/cGZednM3HCMcQnYC1jNfrcAsOMCwOyRu25m/sAmJX4xDGDSu6/aMXMtcq4H7H3cpo2k+7NP8N88xr7PMH7/x8z87I5hfLiUZMB5ygUEBYCHnbtcDOC/v9vH+E/t6k4/s78xae/YQ/6/fmbu3ZXL/smkQt/7MGOYBc72FaAXFvMZu7oCZrM/Mwxr2Me0FTAW2w7Q+y829h0mOAAt12MP/9aOjfySaqgBYPbhBiAGUIap/Z935X5mB6BT9lk7pjbgLouTAODMu9ho5l6/Mm9TV2zrgWPY7yqyNHCqNbAA4KkeviX8FdRA9k4JGAFmCTZhrwJaPlByBJRkD1HSSNmn5iXVmUMkuZ65l4AUpif7jzAqCcoBbwEZLzkPAExbYZgEvgDNsG9JY+XwQl4BfUlhfmZtkk+w/9Vd0L8YACjt9i/PTABfvwIIA1yesNuzeK4hSj/Dqv7wjvHE5pyPAQyoCABPOwGgl/qK7iJL+tSvv7sDpgF8/QqLFSAT5vUbztP4n5yZ/3AHQsJinQsAxhZ+bmc3X7YDP0cBwIvp6zU7m8hY5aBDXjnpHAY1QOf/3tlqQJd4kAVJWOKA4OO+MuYZk7aJ/2EHCLN1IguOvNJGmNPYarZT5GXhkfKxeXMhzHaAdhYTGOntIZDzpYA/dyNT9hCG6Q0wDRjsF3Y3TKHF13H7v8otDZw6DSwAeOqGbAl8FTWQQJagn8MCAQJ5JbBn35SUVtK+2cN11F7B/2nHhgRMhqkLO/Sa3X6s7lYOH0iDhRU8FwMYIBJA1K+wYwGgTjNmT1lkzEnXfgUYhpW8mEfLhMFJX8LMhOXsVxiUME4BF9u9kl0uae8AkegpzOhxAWDAc8Yg7GWYzUt95RR3GKqMSb8C7nPyNyn8foUty96/HJgIQ3WuV0BLdB95Yw95nQsAhnFNivKTd2DNad8tA3gxfQ3I+Sszk/RvgFUWAv/bjjVOmjdscfqRRYF4kMVLZPnyYzaYU8nZ+5k0fgBbXhjF1BUw2a+k1zP+ORwT3bPvsIM/VgXDzIa567G+UAAY1jMguFPWAcLZRxpd9Oulu0VeDvrkQMh6LQ2caQ0sAHimh3d17hHSQFiEBKUEqAC+pPryDLGAiQTBPDbkXK+AltybYPej55EvQTQpsXMBwF/asYddjceDJCjnFeYlhxACNPuVQB0QczEA8FIZwACc6CoMWZ5vmNdxAGD8VZixpCYDXC7HK3Ikfb7ds3ipDOD37OoMQHdi9SgAGHASoPif1ONuLicAzGIiQDY2lFfsM1sMkgb18qgd8SCHeJKixUA/nJ4D4rKQiS3+4Zn54K5wUtr/y3kGKAAsaV/2nRP1fQ+byLu9nhcKAJMmzhaDfmWrQJjB2H6/nAQ+Kj18OWxt1bE0cKI0sADgiRqOJcwp1IDglSAaViNsR/YlJZgcdUo0bFfSfdnon+fJheXZPr+MGhL0kl5+uEMgr9jobBsgHwkAeKl7ALPvL4deOt2X4B99hB1Kqj0ni8N+9iv745KyDQOYFOzleKW+sLlhivqV9GfSsXm8TbNHx9kDmH1nSW+HWfuvq9IA8TCjYZCzx+zduz1nSdGnb+/blQ2oilxhDyNHACoQeaF9zt647O3LwaK8wmwl7dvp8wCesIHiQfbypZ9JiT7cKwuhMMGxhywKcjDIK+OZPY15jmH2zx71CtgLmGffYdjDTnoBgJ57mOsXCgCPOnQTAJi6t8+IzHhnS0LAaw5jrdfSwJnWwAKAZ3p4V+eugAayty8BNQxOHiViL1RSaGF2zvVKsMs+o+M8MuVSAOAjkQJOn/LYmwTjo04B54BI2KBzvXJfGJiHex2VQg6rFn0lcHv0zKUOcQBW2K6wrf0KO5m9lNtTwEBC773cynCu06ldTgo5YGTLzm7ry3aBcy0Sztf/ALDscUx/8spJ47COvf8tADSnxBMPsncze1OTyu/H4hzVThY7sc3oYrtnLodBAgjDQAKf55L1UgBggHtA44U8B/BcANAhkNjC+U7Bn0/v6/ulgROvgQUAT/wQLQFPiAb61xdaJI8kySM08qsYYU4SQJPezUnJZo8y3xJc8iiW7CULOAvLlVRYmMF+ZZO8x19cCgBMYE/wP84hkAt5DEzAWICLfWuRPaAvG/mTAu99X0k5ht0C2sJ2hZnpV4B0Tk7nIEGYozBSfbgmz2nL6dikbAM4LtcrJ6cDdDJuOZDjFRYun496DmD20+UADoY3fclf+pd+5v/0cfsKs5ZTxV+726eZhUPGJadm+xXwlAVFgEr2q+Wg0cUCkj+xGw+HXF65+9WMbAFImjsAN89TTJo4es2hlQDEHIRwcOMoXXt8Tva/ngsoRu48gihjm7E7n31fDAMY20r6OVsxvnPTxrn2XJ4LAGa/YU4/H/Xg8ctlb6uepYETo4EFAE/MUCxBTrgGcvI0qcKclkx6L+mvPBImByFy8jYsjUMP+fWIMB95HEV+ZSJpruw3yp7BAAo/7xWmKOnOsGnZC5cN8UmnBWwmRZhgndelAMBsds++w+zNChj0GJg8Qib7Fvv5d8d9DExkSr3Zv5U+h81KqjTsZ9i/PvWZsgHBSWc/3O+3nm8PYFLdSaeGZQ04ulyv7BGLzAHJ24dXO9Gc60kJfvHul0ByOCLPAvSyh65TlUfJd9xfpricewBjT3lmZNKaGa+8ep9qAGtOpuegSBYj+UWQ6CJp43O9AnBj8wHIsfPtK3MkdpYDNDnxm3rDtKZ89J30fwC25+1dCgOYhUHmT9jG9CHtJrWcvaIXAgBTT37dJ7rJIab1Who48xpYAPDMD/Hq4GXSQE4I5hElAX0JXgGAYXwC4MLsbH8JJKdww0oEGOaVgJmTpTl926nhgLAEnKREA6IShBLAAnLyAOG8LgUA5v60kXYDAhLYw84FYAa45afU7N26EACYesMe5VEd/VvA/85mL1jKXQ4AmP2BSdVG3uydu5yvsGz5pYztQZCwtNkrl7RzGLI8OieAJ/vE+nWSAWDkDOMVpiwMn72EYTHzO7pZ2FgMhEk7DtMIoJ5rDPpgUdoJwMx+z5yMzjwJEI1MfnHkUgBgZPjnd+OSE+V5oPX2QdDbn947igF0Ajj7N/v3oC+nna26lgZOlAYWADxRw7GEWRq4YhpIuizAJqDzuD9pdsWEu8IN5bE2YYsCkgLyztorjF2e7Rewl4MdRz3kOCfZw1CHAdzHV5j6LFSig/VaGtgLDSwAuBfDvDq55xrIIYD8HJ2XZ9Tl8R3b59/tq6rC5CYVnGcTnsVX2LHsq8z+vhxuyXP7cro4n8Pg5iBI2NXsSbxcB2xOix7zmJjsxwxTfr5f+TktfVpyLg2cVwMLAJ5XRavA0sCp10BOkIbhSoove7ByMCDpvxzayGM81ms/NJADKNmnmYMbSWl7ZY9q0to5+bs9rLEfmlm9XBrYQw0sALiHg766vHcayPPk8tiP7F1MmivMX55ZmBO767V/Gojfz2nXMH5JB2dhcLHPGdw/7a0eLw2cEQ0sAHhGBnJ1Y2lgaWBpYGlgaWBpYGnguBpYAPC4mlrllgaWBpYGlgaWBpYGlgbOiAYWADwjA7m6sTSwNLA0sDSwNLA0sDRwXA0sAHhcTa1ySwNLA0sDSwNLA0sDSwNnRAMLAJ6RgbwK3Yjt5CRpThCu19LA0sDSwNLA6dRATofnkUD9s5WnsydL6gvSwAKAF6SuVbg0kJ+YynPT1mtpYGlgaWBp4HRrIE8IyE9RrtceaWABwD0a7Mvc1TxA9v5f+7Vfmyc+8Ynz4Q9/eB7zmMfMBz7wgXnUox41j3vc4+bBBx+cD37wg/PYxz724H9lHv/4x8973/veecITnnBQNmXynjKpI/9/6EMfmpTLe67nPfXkPa+Uy19/l3oe/ej8etcctJW/fE6ZvLr+3/md35mP+ZiPOSiT69qM3Lknf7/3e7//ZIy0lWu5L//nFXm0o43crz/0ra68p53ck37oa667J3W+//3vP5Dtd3/3dw/0mLL6kXd6pFPf6yP5cz3t5bP/0+b73ve+A91+1Ed91EEb+pb/Uzaf00b6n/bpu/Wb6/me/oxH6tBm6o++yK4ufU/Z3P/RH/3Rh+0ZU/o17j1G0RE9RKbcE1nYR9pRt7FKf9kmm4t8+kSXxjTtR/bIxgbpIfXEdt2TtlO/F1tO38wD+tQ/uiC/fraO2UXkbHvufuR/NqccXUR+c0xdkdH/xjAypX315Puea+axfptXPb/Mu9TFpqIHPoFNpX90Qk9kymfzMG1tdRoZ08ff+q3fOnhPP/OeV9uJ+ujBuOhnPmu7ZTA2PX+ih7YR/TSnopsur+3Ir8/sv3XR4+0eculPZOM7+UP+o/0W30H38R3pe8aBnZqT6k59se0HHnhgnvnM/FrfXHuOX4i5zGFjVXeSNLAA4EkajdMlywEAfOc73znXXHPNIZDj4AVZTq8DMMcYJxYHx1kCboJ7q0M9DX464Ob7BLwEhA4GwFeCjgCT+7YgLfIBfGmjZQGsBCR9jNwpq17BOH2K840sAVtAJfCae4APQCdtk1sgAkbSnhfwlGupg2NPneTJ/5EVWBWo6VVf9VMASzADZAXGfI78kem3f/u3D8Fi2hJ8BVb6zz0ABIAjYLqe+r2UIWe+S91pI/pLoBJoBbB8Tj8ABm36nHeAtoGNcc177rcoSFvGWUAWbDuAZ5wi78d+bH46+CN2lFf6LmCTMXphd8YWeGu76XHwP8BLlh73XkhYMEQeNqRu9gMo0QMwmc+RpxcXxl8d+sJe09/ozVj1PLEgcI3dW6QBbeZ83vPnvugPyLSQAPaNfy/4IgNwRq4GuvqZcQDk2uewbTYQOSyAjKu5wZYaEKaf5n6DwAZnbUPmB92lDcDOuCu/9YXmmHmez3xd6tAvMrE3i7h8piNtpN/333//3HRTdvIsAHi6wu/lkXYBwMujx32s5QAA3nHHHXPdddcdslIclODKGSYYBEBkdQo8cHoCqRVsB1LX4njb4fq/A3ozbQBBs3+pN2BCEG5nyYHGSQM8WDMApRkzzGbuyz0CMMYOKyUwcLoceTOZqQOLJxjnGvAgsAMUaZtemw0DqnwPxIUFEAz1iV4ETGAB6ypIbQEhRi06FJRTZ9oQZPRRnSnbgVzQpCNAxMLAZGqdpS31dD+BoQaTAAbgyBaAhWaXAJ3UE/sEbsjYQbqBnfaAK20A/thBoJp+sImAOyawwYr5oL+AKX1gb4CU7p/xSb1ss9mfXnw1mxW5zYcG6QAiILoFt+m/BYtFmvGhg9yTsWDbdBamO/dYrPQc6IVD6gF26IKMfEjqyV8DQkxw2sPkmrf6nu/MD/JGnpSj17TR4DD901a+y/3Rk7GlY+X0CyjzjuEHalMX+wPqgOYGmOTUDt+Y69Fp65q+Wk+5hh2+99575+abb14AcB8jeBYwe9rv1e1L18ABALznnnvm2muvPWTCODuOVnAXKDhujGDEiPPkoPOZc1WXgJJ3q1hOc5sitULnHDlydVjhb4Gj4IV56SDWjKT0lXJkpE7tYhfyffcD4AJs8zkBBPuI6cm1sF/dH/2X6uvUlGADcAjKCTLRbb5PcIje9ZXMDQa73wCcvkp1AnjNVgAIW+ZGGq4DkPYaBDcrRAepS3BTVkorfc//AJqADuACv8oJqABM6m12xv3s0f36yibJ06C920o5oBQTDFQbywa4AjS7SdkAUcAiclswYap6AQNMANNZYCW4Gzt6N4badh+wCfTQiXkF5OtvvsfOmovsYtsGH6DN7aLCWEV2gFs77gEagVOAHWAGjPI59cTGMYtYXbo1loChPqZtYEw79ALcpS+9LSPtYvfZDJbbwq19WQNv8zjf03vkb32lrsiUhWXbLrmazbdlJPKwv/ZD7T/bv6XepNOf8pT8OuRiAC89JJ6+GhYAPH1jdlIkPgSAcVIcMWDV4IRjFBgFMo6wwVkDLMFWXQIoANGfAUvfYSC3gT3lrKC1y4E3G4NNTLADqsibcuoxGIAGoNtAOHWlvL13QHGzPoI8xx7nj/nQvmCI5Ukb0nocPh33PqwGdYKtQLplBAGD1IP9aSDYugIyAZJODxpjQD+fMVrGWNvAI5AnCAMjwDT9A1YAYIOUZlBTTzOPymE/2Go+Sycb99wHMNAJAINBFJjpgZ0bn+0cENTTFhto/TeIB4iwUKkr15QH7BrE+J5N5DN76HFrPfcCKm3ks1Ql+XtrRDP7wIv9tMCFd2PBN+gDwMwegLdeaLXNN9hXZy8GLarUz75sycCmZ06Ylw2QLDgy5nSXaxjW1hFQF/ma+U99Fgnb1LrFHn8mLZs+tN/Sf/5J2j3lGmTnHowk/9bzmR9j170Vgg3zPQGPN9xwwwKAJyWqXmE5FgC8wgo/Q80dAMC77rprnvSkJx3upWoGqtmYBgcN/FIeq2MVzjk1CyK4ujffNZjj0OkXe9Rgq9NIkU1aTgDhqIGkvt7jpl8JgHGgKZd7OPN83wGsN/EDIQKRQA6kNVsIzAIBgBL9YDcF5dzbQSPfO2AhQAjOyiZI5DtsA8ZOf4DWZqKku1I3wKt+qTvgvMeJXqQnlWlgZxyBD0Ao7wApENCpZXUIiIK64E9XxhS4blYKYNIHgMg4sKktAO3FgNR4xgEgENABQzbAzgAyNgDIbNkonwHyfNbPrjPXHABwD11ZNLDnlo3uMIiAGgAHFPkc3WkXMGK/0rw9LsYy/evFRT6bI4Bq3oExzJhFkjqxnpFBuh8YbyaxF6cAceoy9rmHfoA+iwdzjb7Yk0UPv8T+e/HSixH19gKswWTP9ZSRFm+/Z3x6zIB+qeN8ZxsCW+ef2ApAn/bDAD71qflJ6MUAnqHYfOyuLAB4bFWtghsNHADA22677WAFafUqwOS9/+9UJuYFSHIoodk/Tj2OFch461vfOm94wxvmF37hFybA88d+7Mfmla985YFYKXfrrbfOl3/5l8+LX/ziec5znnPAuHG4qU8gEeDdJ5Dlc++5iZOXUklfIqdUpcAANHDgnCxdcdrABD1ZlfssmDWTp40+oJJ6t/pSjv4axGlXe4KwvpO/D6EAmpGtA2Pq3zIPnY5s1hWAE7SxZUBFB0pMWzOb+T/g2ilWgS0nzht0AuOCXado6aWZlQaIqTttYHkBAoxLy0Pn7EmZbq/ZKbbfAAKjmXL0iAWyH874N3BO38myBWkZE3oyFltQ28xgg01jAXg2YGC/5grZLajymc1ipHINK2u+A6utU6BRv8w/7+0rjB0ZIxfbYjd0CBC3f2l7PwpwAfNOzppfkS1jRHdkAiCNawM6NmvLhRS0Osid7/N/+6O0lUwKndApoIrJJl+AG3+VMbFdpMe0/Zyx7bkdoJ/2rr/++gUA9zS8LwC4pwN/Gbr9EAawnTLHIxDl/YANee9759Hf933z4K23zoc+8RMPnCuAhfUACvNdO+Vcf8tb3jI/+7M/O5/5mZ85r371q+dHf/RH51WvetUB0Mzfy1/+8oPrn/u5nzuf8imfcuAUOWzONrJgadJ2/nqfog3hHGmDgg6szQ5hMQV1/Qca8r19R8CGoACANSOYdvICNtOH/O9UL8aCjPqA3evTuMYZsLD6l77L980w+gzsbYGssRQ4OzD7Lu8YD/1Tj/LN1Aim3u0x67rJHz1hWhsMOVwEFGCVmiFzTb1Swakn/wOTvWigG7oF8g7sefcIGjYLgGOD8j2WGRBhCxmHBqi9GJFylPbrRQVWzMIogDjtdD/pwKLFQQcsKHDaqUg257uUBUJb54CgNtilMTGX2HnLQmcYU+CuwUnaojMsrXkVm7U1Iu1kr6ST6HwJP0JmoHC7x9F863LGoIFidGBRyJa1YZzpxCKwQac+pqwx0iafqb32ySlvDrqvFxiyJX1Nyjvl2Wt0idHNtV7QpV85BbwYwMsQDU9pFQsAntKBOwFiHwDAu++++2DliomQghQIgBMO8LGvfe087od/eB581rPmQ1/4hfPgy142j3rxiycP0xBwMAFxpBwWpyqoxaG/8Y1vPACAmLqXvOQl85rXvGZe9KIXzbOf/ewDhytI5P925Jy3tgSnyJ0AFVbFXhqsCdBiFQ14CliAjxSndwFjmy4CEJq5Sd1S4u3Q83+uO0mtzrxHF81+ACYdcAV/hwQACeBVSk490kYCCdCJvWmwJHAC2b7DmghgrT9Ao5kkwbLr2zIs2m9mFVsCcPd3ud/32mdT9v2lPdcEVqCqU5PN5EjxsoEGcC3Htk9OpHaKnG4BSHbSwNIiAKud9j1jcUMPgnIAACAASURBVAskc5+9l+ZLZHfSF5tkLyMwCsikLTrkZ3rxk2vKbsc+9/Wje/I98NXzxUKsgSPm2vzSDmDFnlvXaS/zIs8VtcUj5aRBzfO+F/jra+kPn2Vs1JF3CwyAF4vXi7vIArwDbxYukdkTBtKWwyX65vCK670AxaxvAaKnEjSA7MUU9r1PGzdYjbzR23oMzAmIpldJhAUAr5Liz0CzBwDwzjvvPNgDaDXbAdrqFPNyEER+4zfmsc997jxq90DnA2eePYQvecl84KUvnQ/feut84IlPPDzF2EGRs8x7QOcP/dAPzRd90RcdArUv+IIvmK/4iq+Yz/7sz57nPe95B/tbyCMQYBsEQQ6Rw408glIDUIEcUAKglMUUNJMEGGLdUp92gaXI18B3y7b05waeAk0zlA3SOmA3C5H2m4XDFqQMcGKPHxYCOwSQqM8+JYca7BcEGgG/BoaASYOyZvfMC7oHELUJXBpXgFWQZC8AvABtnCwWsDmdTm7Gtfcbpu0OpmyGDTTjw46apcVoApoNrlIur8iJLWu2sBk3fcH+AbfAvfHKPdi9Zpka6NIT+8ISxn4Br9Y9OwHcAeb0RRo9QMNeNPaZcpmree/MABvEJJOntzts2VZjCFRG5p5H5pc51XqmO2lZ8wMYtEAFlCNHAy++J+XYq7oslgBq9sLGtvPHwhKIJwMbb7a+/Yx6LVo7mwC0mj/mIFuILzI+xiHfvec975mnPe1puW09CPoMBOUL7cICgBeqsVWeBg5TwAePKnjf++aaz/qsjwSP+lFJBpak5qGx3XXXQwDgQ1a2+XWPF7zggBn80MteNh9+1rMe8gBnLExW5G9605vmFa94xcHKv/dQCahxrAKbNqyQO2gLBkCQwJP3lBNkOlhzwqlX2th+HUG7WcdmH4HMvEu1NVDtX5/QjuCnr50GFWiaFeTwgUvA6wBw7zbvH7WvSf1Yin7UBR1iLDuNbFxSJ6CRd+AHkydoYl8APUFUv7B1QGRk7pS6740nwNHsaYMwgdvp6Gae1KF/QE4+p/+xNfvslAWcMm5bPQK3Fh0NUv3fYCZ1AQn01AyQMQNQ+zFAQCDAamykWRtoScs30AVs0ga7BwBbppQDKht8m2vmCsYxZQExgCdljYk5QJ/mQa5vn9VJLkx8M5jN8LLB9ifsSj/ZZ+yATQHQ+Q4Q7PuMiTGnY7aJqTev2m+Yh0BdLxC6Leyj7SmyB+03zGFAEMuojLnuAJBy5kovoPm/ZBRWCnh/g/oCgPs79pfa84fsAQwA/NiPPE7gsr7CCn7w9a+fxzzrWYf7WoCupIDDAObVj/bgPKW2pPp6lc9ZA3VW4Zy8QMVxc6JYhXb+WLU+xSzACcxxvoAkUJl3IAqIwHClHYEaeHE/poAsQE2DC/f0Kd7U1wEYg0cHBk7bkZlepJqbgUt58jdDR66+X+BrVqbZFzoU5FOuGSNAYRuYMX0CGvmAr05t07GxNLYtbwdv5VrvWB7giB2l3QAXz0FseYxF77lrcNRbBCxC6EPQZm89uZopBER7n6h7t4uBBqb96xSp2zgDEVKTbf/6bkxzHwBuzABBn2MnnkNpbyNZbYXwPX2xj15QYUmBm+gJEGKDALOxMhdTXz8dACBmx9vnJwLp2NlOK2sD6MQw0klk2u69yzUybud0g7c+iAZg96KEvQDU2Fn7/QBWDKbykbF1ks/rFPBlDVenrrIFAE/dkJ0YgQ8A4O23334Q+J6QfS2f+qm/z/LVT31NDjXsfgP3gJG4++6HZwCf//yP7A98+cvnMc95zkGHOxDGMcdJ5hRwTv5ymMCIYCTAAyIcI4cogGKj4oTjoD2YWfrM9+prZmSbfsMOCJjNiEmpSVVhScgr0AkmwFD6H7kwRQ3QABCgmJMXoNwr1Qng0GfkVJ+Apd/AQOs+sgKc+R9AwEI2qKNP7/luC7AxVGnDnqbUS+eRv9O2/cw5aa4GJEcFWOxK6uznIzZ7hzFroEU214APJzbJ1QEWADDWPW7dd0H7KPDUixI20dsJ+kADvQNTUqlky3sYTHYBeGCtAG39T9tOv2LIsJ8AYuu4gWr0YA8wuzRGABG23Gdjh9Xr8cYc9pxim52SNV/yrr1mxY0f4JsywJHxsWhUR7N6W6CdeshGFz2/1B9Zm5E1JwFKchs7cxMYtGjMdffog0UJoG58LZC24FkftgeL7rvvvsUAnpiQeuUFWQDwyuv8rLR4+CDonEQUZK2a46CszBscPP7tb5+P+vRPf+gewPySyEtfOh+49db54Od//jz4pCcdPpiXQ+6UWa6lzTe/+c3zxV/8xYdOtgEBxy4QN2MDXEipSD8JvL0C3wY1ILJBEQYJ2wFQYXwEkwy8a/bbtfPHUFrZ5x3D0EGXAWHFMJw2+esH4CV4YE3cB1jTEbAIFGBGMCUNQMngXoGOXpoRtAcs96euLBg8RBfoNF7uFxwBqgY0QAa9A1aCYO4BNOgbMwhQAXeCsvbzWQo39XkMTeQE3LuPzcIYq04JC+a9Xyzlmk1Kfx544IHDX30Q+HsPWs8hYKXBky0Q2k559tgLIbZofrKx1JXvLH62bCnggYkiT+4BsHItny16gM3WaadveztDrjvUgplmQ+QnK7ttIJX/yZj7+J7e+pD/2UovrvI/+wLC+AiLBGPbQAwwizx0oF7gGQjEVBoTvspCsUFfz7OWk0z6lzryP/BprrDJ9KkfOQMEssXoKHsA1yGQsxKSL7wfCwBeuM6u9h3ZNf5NM/PHZiZP8LxzZv7mzPyFzda7b56Z187Mk2bmp2fmq2fmV0v4J8zMt8/Ml2ar1sy8ZWa+ZmbuOWYHDw+B5DmA0jfthDAjWIKDlfPrXjeP/cEfnAc/6ZMO9vh98KUvnUe96EXzmN3PoQGSAjO2L07r3e9+97ztbW87cHif8zmfM9/2bd82L3zhC+fjP/7j55ZbbjkQu4MYWbBcfRhDO4IpWTtoccrN8nnOGZDUqRkAL2U6KDTrJEgBkgAgUAG4YMsAFmAHePNZSrf70X0QPJtFEaSBIuwPdg9Q7NPNgg/wRV5ASr8anNKHPWvSgAKYvgiy26CMcWt2KvcA5fm/T7AaZ6Aki4TovgNqZJCmBdSNj4DeIFGQBba6fw3OOzgDKABHL0y6biCs7RTYFqzZl0UK5gngwbSRJd8bEyCoy/SeMu2mjV70qCt92gJBgMNiQfrW2G37Fx1gXjv9CHCmfqDTnE95wIgteqcX+gbKnSCmF0CtQaPFil/IyCNQLF613b+lG3nbNrUN/Pa+0JQzZyObwzCpNzrKd2Fi9dvirOcP3UrZ5zMwDNTRg3kd/UlrN/hUL5vmy/gG9pwUcPznOgRyzKh3xootAHj6BvTPzsyfmpnXzMw/nJmcvPiBmflzM/OGXXe+bma+YVfmN2fmW2bmuTOTfOpHjvnNfM/MvHxmvjKp3Jn57mRaZ+aFx1TJ4R7Aa6655jDFFCfH6XZa4mDlnQcrf//3H7B9j33Ocw4cozRiWKJsSLYCl7oCIlLXz/zMzxykfLevPPz5e7/3ew8uC+qpWwqTcxfYfNZWPtvs7zv3YlK2DIyg3qCF0xVYgbI46PQvAYMDFqjI0IxprjXA2wZXwKjBiECFyTgqwGC0BCRypi11Si3RpcAjwAJt+ophAwC1K1VHb8CaFKNgGJny1+nf1ImRAx6ltAQu9UgXA3n5vlN+DRwa4AFSnVJUN734pRNj3Tr2yJE+tQqstQ7MBaAbcMl1ABEwaqDWsjRABF7YJZasU5jGDFAGkpXtRQi9WgwAXxhPZXshYuxbz+QB8gNiUpeFoQWIegA8sjaDnHr9Bm4D8NyLOaUzttLAM//TNyDY9mHLhXf2Z042S5f/MdjGB8Mujc1W7dnNu4wF/Vkwsoee0+ojc88l8zGyNfjX37YZzKt+0LE5ZoGUz8ZlHQI5ZrQ7o8UWADx9A/t3dyzdnyjRf3xm3r9jBTOmYQXD7r1+VyZH/MPsBey9cbfae+fMfNnMvHlX5tkz80sz8/yZ+bljqOUhzwFslq9XtRx8/xIFpy4d0wAt/wNfAq/HF3CiVspps1fCHDEw16mR1Jt6/DSaNjFxAiAmkByd2pZSAUqxLVgpjIlVPvCBXYm8+S73NQjj5HtvV7NzUjZSk51i7ADh+7RHVwAOYOQns7AGW4bH2ACAGEaBq0Ej9kEwivxp17MXO5ABvgAMuVJv2sR0YE4ATfYTfWzZmHyHHcz/ncbTD6CH/MadbbHV3IslAVoBCWnEZjCBBEA99WLSUjfw1YyeoAsEAt0AP6a5mdcGEv2/9gT1LcDRP3u+0pfIn7HpgzvdD2NiUQJcGefeNwdYAWXNyNmHSCa2BHA1YDLXmwl3mMYcoB/j03MH8GxmEwAnIxtvW8Oo5v4G5eZ92sRMsjs2zG/xFcA6edk92/XZ933dwTHgsRdMfHA/4YBMzaY2SJbipyt2nXql3+MfLWDWIZBjRLozXGQBwNM3uGEAv2pmXjIzvzIzz5uZv7djBX94Zp45M78+M58xM79Y3Xvr7vPXzsznzcxPzMx1M3NflXnbzHznzHzHEWpJmjh/Xh83M7ffc889B6mNDoRWq4KLVTvHKVALvkBcs20CtXs4dStnKRXMAeecz82eSdOQSfpPMBBUBRmBM/X1HqVmnIAp4CJyk8uquxkJ4KX3buV7waf1ASA1SBbkOfc+ydjBga4E7AbMwKcN/vrbdQJfgpAgCQRmnAEa+mu9ROYeL4HV884AnpTpx7XQhffoN31Mek6wUjfjAzIwIM2asp22SfICgmwO0Ez9W5sAKgD2fG/vJpaFnQi06m+gTEZjwF7YP4CUvmKbGnSpy+LBmLP5BjANWt0HXABkQHPutyAC5IDDBj0ALfntOU19bCTXGpTSTwOSfO8zPTUrqT9tR71QaJYy7QW8WIQ1I5ZyvffP/EmZPgTRcxbotZgjP3145l6DuJ6j7cv4EAwpe+QbokeAl/35zlwzdukfhr59HV0DuUAlOyZPz+GjFkPZe/qUpzwlt6/nAJ4+LHDJEi8AeMkqvOIVPHpmvnVm/kxIhzxaa5f+/Ys7SV6w2/N308zcVdK9abdH8Et2zF/Sxg3oUvTnZ+YnZyYp5O0r+w6/cXvxHe94x1x33XX/v4MYUppWxx2MOCupKaBNEAEq8o416EcqxBnnBQhxuIJ6PvvLNavdOOQ4QYxiM1gcJhBKRk5T4OBgBbAOevlfvwV1cjRQkIpsVizl7R3M/4KLQCzVqq+AmD4LYJ1q6hRd61RfmynZBodOR3UgE8wwvoISlgULmTbsQQPWAAAMEDZSelmgMz762GwooAJU0pm+NEBtm8PWYJywWwI7kNbsVdrNZ33yWVtsBdMslddAFvsTPdk/yg4BTDpN/+1BA/Yw52xC3eoAGLDhvb/RXMUSYyjpBVACdmzHsADQJlt3n3rZKGDPFtNXIJ/OoqP87xmXKQsERQ/22znVao5omz7YQr5XZzOm5iMAaBHQ7B2QbK+d/pgXUql0b5zoiwzmhTFpxpSN590CzyIUWKVPILfnQfdbXYCxeUInfJIFt7muX9jAyJsFRvrlt4MzBgsAXvEYfmIaXADwxAzFsQXJoY2/MjN/ercH8NN3rF32Bf6tmXmkAOCRDOBdd9118EsgAl0DjfQoTk2Q5Qzj+Dp1p+dxUIKUlTEAmXoFWAG3U34CRgNP9wJj7ZQbbLSj5JQBLwyhIN0Bpk/5Ch7kwDooow1BkpxhMcKsYWewQwBWgw1BX+ARoLAg6gA289lz3gA8AKkBpZOu+VmotCsARuZmhIylwNP7ulIW+Gg2qFkuOmxghk3Vtw6SrrGtZnlav/m/wUkffjDmZAZqACbMHZBE/8aRHVik5DpGkDzNsAnc7k8ZY65tAEKqM/ryu9VAInAFXACwmCL1A94ADjDBbtpmgNvcC0A1oG9gR4fdX+yY+autvAN25hx9agtYJhdfYJ53f8xX7JZ28lnqE+hsEG4LAhm0Dbg5BEa37XH1rRedgGIfrAG2evGovsgWX9f7Qtt2LT5yrZ+/2L4Om5v6bT+JnK57Z+/AurrZa1L9FliAYYNqOs3Bumc84xlpYjGAxw7BZ6fgAoCnbyxvm5m/vDu0Qfp/b7f/L/v4HqkU8FZTh4dArr/++sMVpQBl1ZnAllQecLdlRwBBDp0jwyB0uqvBhP/VBwxKU/ndTYyZYND7dloWwbnZjNQV+XOPwy36lfLSK1K7ghGgCiw2cyRYcPqU2qf9gCDOvIMO8NCgFRhqwEQ+fQRstEtGAaoZJeCgwYu+ARxbgIO5kuLDKinnXXuYGeUAGG0DdcY5wRvbh1XtgJb/Mx7sB8OU+zHArRP9wDCTG7hTD73pf9rxv0McgrHvgCqf9QFA7m0HDWpzX9pP8E6Z1p02yUtfABWd9LxgI+ZY943+1duTu9toQGtOtc1s7cHCBYub+y3YzM3cb142KLWAAXJa13ShD+QHkto+6R+QtPhJ/eZkAy2LBOXcl3fMrWwDlo8/ST86zco/GFfg3yNutO9wU8pj29lsvnP/Vl7XLdT4x14oWERjU/Mdub3bz5kU8PopuNMHAi6XxAsAXi5NXrl63rVL+f71ajInfv/4zPzB3S+u5RBIDoDkIEheAWvvOOIQyKtnJgdI8vrkmfnlCz0Ekj2AH/dx2Q74+z8Q36vTDobAV763qs41AAco4VDjZKVyUqYfjyBgCwScNabQ6j3XBalO4Qi2WDTAKvenfB6QGmYz14EPbFUH/k7fCL4cOIZMYEmfbfo2dgAPtgNA3AImQCnypd68sC75HzuSNgBC7XffMICYA30COAQcgFBA1z5ABCAZXyC35QYU+uHNmBby64tAqR5yAoL9CxcYng6c0WtAOqaO/Jiotr1mZTKWeRZa9AbIsxMpN7Yi2Auebdvk7tS54I6JYQdYR0ArfWQX2BoyWlAZYyAK68jmsE5ADn02cGxGLdfNC3WzPaAsn3sfLNDmMAxg3aCerbEX8lrMSHOmTXPXmLEpc0IZizI+BnvOFnO/E9vNtpKrGT/2qS+pM34l7DcGsRdcFpY9x1IHUA1c8Wnszvwyn5rla530fG+dsPFc27LTQKY5YlwBZvf24iJyWXhERzIAAYDrp+B44/17XwDw9I15nvn3+TPzul0KOIc98gyUv1F797KH7+s3j4H5tCMeA/OyHSh8YGa+a6eKpJCP8zr8JZAbb7zxwEnFEXVwTCVSHQJVO+VmygRTjlkakvPDcMSR5f/sZelrqb/TYxx3B0TBiaPk6PO508kcLOailZFradueQAFbXYBY6gTWBCWswTbA0Vmzk1gJQQ4wFYiAFPutmjFKGQyHQNyMBXmaTcm1sAmCkGCRdgRc4wUYSRP2qVI24LAJeTswq1sQbWCS/zvFmv/t/zTGQKtA3PvkBOAe0wZqAFGPvS0KDd6Ajk4nN+AB/DFwAnzvZ6M3/WsQ16lZ4CHMn4VRs4rqjp71lXzsLDpqoIoRMv8ArwYoxhNA771qWyBjrjWwM6fTrrHE4gGXzVixCYs0gG67UNF38xljmL4C6c0OsvXo2+8IAzn62KxlrtmmYBzZdPudZtXMH4CM3tlT+zdt5r0XLr2IamAPRJp7Fr7ZHsKetpmSfO7n/wHYdKd8Z0bYfPus9RiY44S6s1tmAcDTN7ah2/Jcv1fNzJN3j3z5kZn588m27LqTcc2DoHNaOA+C/qndQ55zatjLg6DDAvaDoO8+pkoOAOAdd9wxSQF3wBD4gDWBqYFJM0UCAabNfVbRgg8AIKB38I3D6z15gjoAZZ9VM1Vxjk62cqD6kc8cbOri1PsRCpwt+bd6A2abcerVu+AogOmPzwJCp8xc2z4+Im11qh1wFrAEEmOhLQBPAKPrLt9gKPXmO5vI6UvfsRvAFCDW7AMWsBcLwG/ayj2dVhPE8h2dd4qx28KyscFmQ7DGkTVyN+BLeXsx2QwQjqnqdKegDZwBDvqpDw182QPmD4hIX8iU+oCcBjaRLeUayGB7jZlT3FjrfO69fOy0F2v+7/mijd4n2v2ykDIW+Zz7m7mnO/oHoKJzcw0jDmjRc+prvTVYSn3mIuaQnMany1uEOcjR3/UYpS76klblh4wtmQC5XpwCte5p/0ZeCwB9AOIatLUv2S4yLC6zAMUu8yftMwC81JW+2JdIr3xg7GmlgI8Z7c5osQUAz+jAXoFuHQDAd73rXQ85xCB9xDlydlb5PmM9gCwgh9zSQXHKSc84+dvgD+hrB+v+tIexEWA44GYAreClmqXSOPBm7bCJKeN5agCLIK6NZh7I1MGw++F7cm5X84KKOgEJoK33bAF2WEaBCWAhL/0keDYrC6RHtylr3xpmp0ERZgtA3DKpUlRAq2Cc+5zcbEauGb30CSBIecEas0HPaaP3Bmor9YZ9Sd+k7PtXXIxl993PZjUYa0AJ3ALuxoHNGDe2Y4zV1yAYGwPUCuCRC9gDcIAWgKnBUeSX+tanZua0Qza2pi79A4Yb6DVL2gskOtM/KdhmCY1PM4Np0z3Aa+xPOxZ89LvtT7N0/Ig5ZVGR+qWDATfzCqOfsrENh5960WebSS/e+pFFPZcz7qm7n0bQCx7+CVsPKEcO/i2y6Cd7pwcgL202wGbTGFWHs8xN9kL39hezCwAx71nIrRTwFYiWJ7SJBQBP6MCcArEOU8D5JRCpqwSDOCRsiqDZzEWDQM6Ps8K+9ErdtaPqwiK14wUWsFVdpyAg4MaxAjnRebNE/geqrNRTf+7pzdq94m+Q4nrKa1PwSxDK/klBEDDtoNZsTJ8WVpe0YNoUiOPUAQvXBV4BX6AXgIDIjAfwB5QLSFtg5FEs7lG+AXbX6379BzpyPW06/ABYNqsLKPaetLQThqMZJOUsMOhHwGVvAApg0wE5cnlcRtutOtlJM4JsRMoamJR6zfcCeoPfZgXpz/gbY+00sMPmpL1t6l6d3i0GyNhMVv5v1taCh36MGXAhPW8hwX7YObsC4jCxFiBtW72YoJ+WrbcWSH1vdcFP5N0BB4ASMLcosCBpIE+P7MYCthcfvVhr+XoLBX2lHmyi/41bLzbyf+7H0AKS/Bnbx+r2wi2y5XPGXTkMLj2kfv3sBWPbWNrOKeCnP/3pEX+dAj4FQfdyi7gA4OXW6P7UdwAAHQJpNgrY4YSk9zql0SCJY2xmoVkTzIKV9Da1CtRgonrvVQO8o5gZAUuwwTYBIcAN2aW/8r39RtjNrZMWyOkGEO0Aj92zr1BQlLLSN4EietFOPzR6q5te5Ws/MgsoAoFrAuBWZuasv6mXfgM0AbzIn+vYlGavXMfqYYeV7aCJacRy5LNyQFqDvC1ob1BGtwJ1ymIDgSKBHkjIu/RyA/7UFeBmz2X+98seQFD/pm3GxuEPACLv2JpOH5LLQoQNAu/AgncyAGtADCDdY9ugT7o35QAdZc2TfKef+R+Qsz2DXRn7HlMgyNxulpMPaCCZthu4NRiSpjS+5kODOcycMe+UvjExV4A/LHQD1VxjxylnW0j6bP5vAay9lekj+8p7ZNBW6xgY46Paz7R9mN8Wr+aRRWfuB9qx93xlA9LUbw6lHNtgK94zjuu3gPcnaG97ugDg/o79pfb8AADeeeedBw+C5sytSqVfBEkOD8DQuJVrvpfS8IgEjk1g2QYtTpzT7HKCf8o08LJ6FgzzneAinQjk2PunLLaomUHsWIK31FOn1fq5bpwwANOAoQMD3ZBbQAa8BFH9zb29J1Dfc31bF7YMoM1nTJOAL6jls/FrtgbDCkjkXQocwyMAuc84dECztw+g3wKvHrsGgdjNZgpTlwVEp7zI0201eMGgAIJpB0usfe2QHTC0bUB6rlOWGC02A+hYaBi7ZmSNCbCkn80csbcGJECesc797mlbARh7LmofEMwcIzsmS3mLn3M5DmCx2bNmAumzF3zawhorzxbpCWBme+QkUy+y2FPP01xrts9i0P2AVT6nraO2A2DnjCn/xHfZiqCdXuj1ePcixyLZHKSPHsvUC9Dys+aDurDKeWff6b852jaRa+rJ9ponPzlbyRcDeKkB8TTevwDgaRy1kyHzIQMYZ9mHBjiXvGMMBCmOHmBKV/rREM1A2dydMoKR07f23VgNW3nb9+cejpGDtUr3vgVIgpRAtO1Lrm9Tf5x4M2AYI3Lov3ulkgATALDTRXQXWXuvJMasWQVgEXNAp11f2khwiE46SAMeghTQms9AiFOmAKTvgKN8Vo8xxt5J0zVjJV0N9DfTIqgpj1FpQGh8ACvfkYGee3ybfQJQO+VvjHpLAAaJTACz/gJkWC9bAxq0AST0IJg3IGLfAEDa64MLmMMGFWTXZ5+3oEid2E9bDrBekQubZj7SL/tpfQI4AHDuz4lVe+rome0AIoCkudfgNzI2SI8czdhb7LG3BpFkNUbmEvDTjHHasJ8Y6FVXz+u2/bTZoJB++9FDxsd8t4jVZ4yhe9uvNNPcjKiFHda+F5t9gIretuBYJoafyPcN6iNDHnd100350agFAE9GWL2yUiwAeGX1fZZaOwCAt91229xwww0HLBsHxLlJszXoksYT+PvQRYOVKKodt2AgEAgenCfHiRlQF+ctzSPwCxb2ehkYKVEBXiqK49Yudk0wB6iAqC3zg2niuLF50l5W9JEbmO5N64AHlklw61PJuQaI2IuWawIc9onsmD776HwWGI1B2pZeUhcg3uyhvgs4wApd5HMD02YzAGLjLHA2Uxn5AzQERIAnZQXsDqANTtnS9ufY6IJeO11GfgysvrMVsnZQBZAxVs06AenSwwJy5LSfMulHjw5h24BpA5uWxTyLXroMG6avBtLGWL+NGT2Su0GVMdmmWs17gJUOAF422KCN3i2aACbzxKIKeDV++mdvp/EERltn7Dn6JFPqbzBrnOwf7PS3jEB0kLp6TvMjvRDgc9oXAKf0zX+Yvw3e1KUdCxGLkHwva+A+42Phay74nj9U2Xb6IwAAIABJREFUt7qMWRjA9VNwZyksX1hfFgC8MH2t0r+vgYf8EojgwkE3C9Asl5WwoCDQKM/h21sUhya9l7oFFWky5QRrj8oAgPLO6XPaKYtd2w6oAOJ7rAmn3KkkzA6gJO1NNs6/nT4gKQgBQQ10BGOsWMoEpLVOUmfK0W3K2BPYddJvAx2AQv2AjCDVgVvgBKQjQ4McAQVDiYEUWAFUn6Or6DTXA74F52ZhMIdS/vrZ+9CaPWI7+ipVm/swcsALQN8nNxvw9sGDBh3abgbHuLvmM/BiTgBowF2+d4KUnaUOQBIIY0dsVL1k1570Ht0aV/c1KOj5wta9YwTpw31h+B3QaZDTwJP85sC2baDIQtH3PWZp3y/KOKWbzw4/qYNPSFtbtpEfMMfTXrNl+uT7o/bpWZR5b+a2+9V9ZR+94OyFln72oijXIptxzLutHOlXg0f/K5P7evFsAckWLJT1vYE0HxbQeO+9965DIHsc1RcA3OPBv8SuHz4GRvqIU8VEtJNvIIGNA2o4RYGrWbp2YMClINYrcytawRO7kvcEkzwjTzsNeFKHNHGzIinTKbK03UBU/Zg8IKD3eAG5DQya4Up9zTjkXgEt9yirn4CQ/mPTsDgOpQB4AIxA4x37KqhgpgQN71sAC5A08HQvYNg6FADpCosIcABE6SvZjD3ADWTknmYdsVB03OlGIKODYYMxdpByGCe6bnvrsQJQ2Rcd5DMbADLZYu7B2JCJDWEnMZ9Y8tafvV/0pd689/9spe8FbFrnAHGD9ga87LQXY20bAKitGUBFA1EA0baFBqVk1me6ZL9YNqyVxUR/717Ms/fc6/E5+glk80v0RI7teLGlTs3n3k5Zd5qdzeeauWI/KPvsudsLLqeagUv3W6AAqkCvRYOFXtsV8Bd58up9u/bV0q3+mAN5jNc6BXyJkfAU374A4CkevKss+uFjYPxkGrasV5+cd96xHcAg8MVJbffDxUkBVhgkQAwb2OyLgN2OHFsiMAnWzehYbfvOniX6BagExq0sDYg6uAmMHcAEIcFPCkzQafaG05bu6hSu4AsUt24bDJEH4GgWRb0AWN4TWPzyRoMMwTJlur/ApAfO0iVdGROp6bTpuY5AnnEHdGxk98gXgTZt5x7MB8DTaU+MStolE0YQcOrHhWCYjgInbAag0Afjn3vIoL/ab6bJWKcs0K6OBuFAG0DRgEGQx5gK9mwzOjAWxoD87gXm6HfLQretGBvMdIMl9RgvTHjapau+BvxqL98BVeypWU022gC85yKGnE33tgIyWTAYM3XRcfugZuzpjF79lrkFBABlUWPh0gy38fb7v9pMGSlr9fXizHiz14yH09nRjwWBRYt5a9zorW0r9p3Fb6713OEj7r///vUcwKscSK9m8wsAXk3tn+62H3IKmJO3bw37gm3olbD9KlbBnDGGJ2Xz53EMWJZm1/I9xquDqMDTDl4QsNr2ectk5PujApG+CPh5xzx02gzgA4A7ncMpS0kCqYAC/fkMKDaQ4OiBP6xUB4AGzQJ/s0z2uDG9yBU9klWgl07G5KhD8AVcgbFmSzFrQP82ldtsaeSJzIC9vVyCezNnQL8UlkAr6DdIaGAEsKgbWAZujKvgnvIOvUgzCqBYTcE3ZWPPfhml2ScpXXOCbtkovQD6bMJ1nzFvDdQBPuNhDqTNPFvSqexc79QygMPOgQljkO/ppd0TOwTegBn2zL7pKToFXrBNAI7xABjdAxQqZ+EEJJJHH4yb670dwmKOrbFPQL9BaTOEtid0Gjj/27fZTzVoAB09BGiZR8bDQYx85jMsfC006ceiVH8AW3YTACgV33sAm7Hn29iKBUnbgHpTJr+DvQ6BnO5AfCnSLwB4Kdrb73sPfwoue7k8zgUjIo3jXdAWxIGvdvKucexWx/mMtVFeIBZMObx8n++kpZt944SV4Vg50x5OK3xAArjroJVrvdk6/3fqx4odEwA4NlsjEHVwF4wBOGAI4El9WLEGbB5bo8+CoDFxuCTfd8AXyPSfbjFKdOBz2s49ZCZDg36Ajs5TNuUcdqALdgHI6PM22BtnwbKZnWY39K0BNfnIQh9dF0amgTFWtvcU9lgA4GkzugGKAOAG7/7v+ZDyWHMLFjIZa5+BRMHemPRYNggH9IFj7bBrqWHgio56nNJvYLAZZ2UAsWZgu1wvkoxR91PfzHc2g52KTM2+NlgF7Ng0+2n9NQsN9JO9WVI6ZFO9b5T+yJT7tiCvAW3P2R5/qeFmoS2eIpN+aKdT6GyyFxDGuv2q/tLbFiTSfTOEYQDXIZD9DeQLAO7v2F9qzw8fA5MUcKcABYE4ogZQVtG+x+g1UOGglfEzV+3Yra4FcsEeeyEYAG0CkVSPVXGDBQFK0M+9zfTlcwddzjbXpeM6dcMJawOLQ8Zcb1ZC/4AKQCGfAbpmETAZDSAadKkHcMIEKRO9Sov1A407MG6ZGeAXU9ugqYOgeqWY6UoQFFRbR9JXdJzvjBMQ0uOlDkDGfS2H++ggTGd++9QYN4DpNHHGVN9aLvYEiLifrL2Y2eq/dWLvawNvix2goYN+6oo8WWh5xhtbyHuntMnisFWzSBhQOqNP1wGEXN8uOgDHyNyLHoDH4gDL3uC6QaE5yIbIRz+YN4uQBsBs05YRstBjj6fxa7swlzrVTs/Nxm73HadM76VLPe1TpHWBO8weYNx2T4YGuQAw+enLAkE95jBW2gKMT7HwcL++5x1Dnb6xzZRfKeBLDYOn+/4FAE/3+F1N6Q8A4Nvf/vaDJ8lbnXKOzczZ+J4AbOUOHKY8ANUOLffYu9IgSpk4xWZDgECgzQOpOTvAEugQiKQ2Ab4tayNYqhfobAaSAwfKMAkdzDnplhuQiCz9+6VYRMAp5fL4EynxyCC9BpTZN9agFyAhn2DaINDv5UY+zId2I1PaxfZ1kE576Z9DLBiqlLFBvUGyIAb4NoCLDNgz7ESzHQ2OAQyMTspFF2nLCVIp17SBfcWo6UODaXrqjfUNJE0yMjewZcdbUNnpyO47YNWAEKOr3pS3NxGQAbQwv9GJeWXOARDspwGFRVPaBWYAPvrdbk/Q7y2YBV6cuDf32F7aB+QCWgEiiyi+AevVixTjrw62CpQB9Vu7Ny+jp4yFdLI5aQ402OWLfBc5zHdzeAvYGvyaM+xCmpVPc53P0iey9liSm6+zOGw5tkAP+Kejro8/03baBJjbL+UQyC233JJi66fgrmY0vUptLwB4lRR/Bpo9AIB333335LeABRjBVNDYMlS+b4Zhy1J4Dhqn2KwDhyx90owDoCIQaQPz2MFF8MOYSF92akVwT1tkAiQEvU75NkvC4TYIE4w6qHDwnLs+9/36z+FL9QJ9DfAAhQ74wCIQ3PrZsg9dppkE42hct6Ad2JPeBspSHggDSOgJM0K/dNq6BdADNgIm9C/1YkjosxmPTkuaa2TUft7pIjrGrhljYMBe1VzvtJ1FQC9Kco/FRy8qtouDHktyY8XYHcYn7Vg4AF1pB5jrRYy6GlQZ0wZ8zY6yj+g3B3Rsn8Bytb0oa271QqjnVOrI4sH87HeAcwtqMc7tG+kgek9/2QbWs0EWvVmU0DFbJXPeMb6AYs9DgJq/aHbTfImMqcOjjFwH3gHW1jlQjN03H6IHuu7MQK71nuTI1fUCcu4xzhYH2/1/vSi3AI7Nr18COQPR+CK7sADgRSpu3TYPSQE3A9ROGWAQrPNdAqRHrzRocp/9L3GAnD4nGafrobFADjCQspggzEPvdWpGpAOyAI6VkVLqoAWgaSvfdd2dTkt92L1OaaWOlEtA8VNTgqBAKph3cEh9ghp2q8FFl8VEZTxSNroSrMiS8pgQ6SvtG4MOLgAB9hTotRcKK2Ist8CoWTcgDFAB2gX0ZjwEYkxN25W2BFN6FLQbDLLBnrMN/IGKc6UNMUOpx9gBBVhoY9775oyblKqtDthNiwNpuZTv1HPbHFBKFxYIgv0WiAHixheIswcTQKZv+uv5aI7QMQDhei8WgOm8W9C13rVnn6/5EfniD+jPPG+5zEN6k66NfhxWYq9spkE5ezVn6Ng9PWd6rPt7bGsvLMyhZtfYM+BHrw6DAHHY6nxu5jX35XPeO/vQC01Alh4sgNK2RZtxZDe5R5YhZfI5ekhbT33qU1NsMYB7GNQXANzDQb9MXT5kAJOaFEQ5w7RhI3oHciDNilngwGa1A7UqBiAEB4GAs8z30knboNNBrE+ctqMUtDxHTB1dl2DAsQOfQFX3R5sAn3uwi5gegMb7di9Wb0bn3IEtfUm/GwgDWNE/tirterRLgw9j0UEXWKEfOuigS16BB4vCBgQdQUvAaWYLAFN/y5X/sYOCHTtJebIIyvoPCAM73tkW3bEV88AiA2g01q5jAMmgf81CbRcX3a+UNwfopNP+FjUWSfbvsUv6wwICiuyLbTTwdk/bMMCZ+7CKDTqlMHNNWjr35+WQV49hzyHpazaBfeIH0hfsFX0AlBjufL/97enoxPMiI19ADH9AFtsH8jl9xFKmvpyazedmbiMjMN62CnAD5PoOnGpv2350aU6Yf0Br26IUMPa17c3Cr+28Fzwpm35YePRCSj30aszZgxPhPSb6Esb3aU972gKAlykonrZqFgA8bSN2cuQ93AN44403PuQnviIisAMQdpqXA2y2q8EdRyx1I4XLaXHaqTtOLU7M/sIO5qlfwLUPKXU4nduPodk6UcE19QlQzfakP1KSnHwHan1MPRx/A6e+B3DKe4MKTr7ZBHICnMCPspExQS968R2TEfilu13PPRijBoUNHhJ8/GQceXscpa5b/u04C/hAXKc8jW2PWcvtXjoyFh5hA2BhSNN/7UuR6beADfy0njEn6S8wATxLm7HVnopAf49Ls2opa+9dB+gO6PTRTE4DcAAt49sMUdtu2iEDwGeeqasXDJEp88GL/oDsBq9Aet6BZOPV4I5tYyvdt11wmBvs0hhux4lNuT/1AfMWTcZNmdRlzkefQBu2z+KhAatxxeYDUA0E2b4yzVhrg+9wv/EgM5axAWUvIOhXmt+hIWV6LkTX0tkWS+zWtoZ8BmqNF3uNbrOHezGAJyewXklJFgC8kto+W2095KfgBKc4qzgXK2DAQZAVbBrMATgcJDDSe/oEL0BD8Bao4sicGFYfRqWZAkyG9AqAKkg1E9kpQeU49w6mHK+Uq8C7ZV8ASQBEqrsDsv/1XTAQaAQZTEGnlpqJAFZyzYN/gXLjkzozXpgcbUtPN9DuPWOCSN7J06lJjAnQL0jpU+oiK/DSwA+TA5i2rbROBWZAC1ixCGCDHcCb+WEfwAAdN6gm13bq6gOwkzb1V3Dtsew0Zv4HvNK3TgECFuTE+kTGPm0qldqLg8jCjo1d3js9jh0DhNhqAzqAKTKY18aErUgn9qJCm9uFB1bZYsqCLnWn3tRljy05touHTh2nDNaPnXe2Afj3bkGZfrFBvoZeyQJAm+cAXwMn9kVWvi33tg1EV5FPuxac7BmIz2fAewv4zSWLS33qugFK/TQmgHI/eslJcvXdd99984xnPGMBwLMVm4/dmwUAj62qVXCjgUMAmAfPAlRxeJy6lXuvhAVOIK9XtZ1mFMwAC0xeA6HU1akpdQFHgpsVuCDNgUspcb4CV2TLvXHYAZXSSA066QKAwTIJCsCefpBbIGkASt4+2OK3UFNf7rXXKTIK8gAqFkRw82sRgkeuSxkDbA0GsSeRTVtYBIGiWS8gAJDEcDaYaMbFmLuvgQoQTB6AF4OZTeq9B1G9DqVgfNIGW1FXp+EayAE/2NK2D4G/x6uBvfEmZ+ply+ycrQJfuaef82ZcAD/vmK8G5J1ebyADEAFVffAEKCQjkLoFq+RIHWy92WH2aF5g1Owr3YJLYAk7S28WSA2q9IU+sX/sLu8NioD4nv/0REfbBYDFkf6lTcAVK0pXgFePXfsqQDNtAOWpQxnAnS31GLRc/u/yzfgCh2wzgE3fexGddi0SLFq3p7vbBzVoZTtpK75iMYD7G9sXANzfsb/Unh8CwDgQwK9BVzvrZmkE42bR4jC3P/wOVAEhHQDzv5QZVtChBM7OdQ6vU0vNTgFOmAqBjLMGTIEgzzzsACigpEwzXFsWQoCQlqE37A7GpdktAZhc9CbQug4cYge0lc/2aEltNnMnPQRY0k0HHnU1WGZAaTe6l4ZvkNTBOeXzGWACHDFmWMEGm/QJQPXWgrSrDmNhTyZwI6BbHGB+9KeBfPQp0DfraD9i6g4gBTqB866z2S//6w/9qtv9AKByFiDGqNlF/TA3yNtlAWx7PzO+dJ6xYTd0BhCbP8aJHfU4A13qaZDZTOt2gWHupjyGKnrLAsshkMhoD6B5Ayj1gQcLHgDfWPq8BWORv0F++yLyA1PdDjDah52AeXPEmPEtvRhr1jQyRD77HNOOPgKq5GTTZGsGkU81j/lGPsF75AHqlbFAYZfpQ7bP3HzzzWl6HQK51Ih4Cu9fAPAUDtoJEfnwFPC118Z3fGSPEwYprKA0TgMz6Y44/jggaThpjA6mvbq22u7N3Bwa5w0ANauI3Yp8ASicMjakGTXgVb2AjJU3kBNGMPJztoIBObSB2RPQmzVqcGBPooCtfalCAVuQ933qE3DStv1wzUQJFGQCdgViLJ7PDayBC+xM6u1U3TaNbrwxPsbP9S0rQvfAs+CacYgdAMMAA4AOXHRqq9toxs4hmWZM0g4Q4B1Qxao2IGiw0/UYD/2NTTWDBIgBWMbfwmRbvhlLtpUyaTM2gkEDIM0J8rUOLF6csjXuABz7Nz+asWX3QEv6FJktWnpx0o9BSTkp5qMYbvNyO/eMf28BAVq2h0kaAANMQL95AuwCycakgXsvHsxv80k62YIk7TiY03Pewku9aaeZth5DdaXu+JE8PB8DF7mbtbaNphc17Td7nHsx4bmd0Vn7SX4IoLXlIfW/4x3vWM8BPCEB9WqIsQDg1dD62Wjz8KfgAvYAjV5td+oRiOjvGwQJUAIXFQFPzax0EFMvZ9vgqQOXINwBjyzbVA8nrh2BJM47TjYsUDN+CbJYrC0IJZeVu7qAYm0AM4JrAkIDCMElDh9oPkongl+DDoEcw5L7nHiWfmp5Oo3VabhmFJudBdCwPJijZtQwK/oZPQp0ABSGLHUDolL8xqTZVeWbfcH2dlq6ARy7AiSwL1iy1CmltrUVgJSNblNsuS6lDVClbQBFH9hCg252wH6AKWDJ+DfYS73djwa7ZEx5BzQAnQYEPZfYNLkAwQaEwHPa7d/iBk6VpX9pYwDHIoCtsE2yAT3ALfvsxQJ9tiz00P5CnfwQFjz3d9/omIxsvn1Rg3N20fqmM3Wnjp6fDQ4BRrbMh+kjm3H4wwLTIrlTvewh97LlyOo3g9mchYS5am7ml3HWT8GdjYB8Mb1YAPBitLbuiQYOU8DXXXfdQzaLc6jADKDVK/Jc44Sa6eoAIcDHAQZkZRWea/0MQXV2WqeDCecqLdROHZDqgI7pEAxSBrgV5CIvx4qtikz6IViQ24q99UEnWAuyADMCGvk5f+0JjAIe4EuvNpx3m4IUYJk2+nEr9ADo9TgCLR20GvgBThgb4wEAYyoEosgLrAKH9EbPAFaDAAEWO5l6vYx7A5meqp36bMYrZfowTWT23EX6a3bKQsC42utqTOmN/TZ4ow96b3tv0EZPPT7NlAFx/Ussqdv+NHsoMw6Rb/vA4gbS2sVoYSr1h8xti4Aapg/LZnx6ocImPWi7AXvqpCdj5ZpFDKDXYw8ksWWyNoij25a/0+yRo31Q27YFHRnIzBa7zlwz3/R1C+h7MUQuOuRj2LLP9GWsydd7M1NvHrhtDm0XoOmvDAMdYbnzOQDwpptuyr8rBdzOYk/+XwBwTwb6EejmAQC8/fbbDzYRt1OxwhU8BXQOSKAXxDnVfO70mLTJdl+cPXicfbMYTrwKlkBGnKbHeeQaZkKw5mRbT66lrF82EHAFBo69wZU6gLgGjlsg1IE57enzNqBIr5NXwMUAOFWKeSAz3XkX9AAezF8HJeOGmWswBzht2aut3poRpSOyYvgAjw5MzeBkfFNP+rQFeqkrfZL2xrYACfqTtu0rw6S0PWKCXGO7PqvPfiqsMhsGBIBLcrZdAOeATt63DGp0gD2UjqaXBkjaY9fk8DN2wKw9ZoAkvTbIJHO+wzhbZPUcbjbONolmt5oZZp+R0wKoAfB2T6zFFMawx5mNsSWgdjt3e7HGxthu5Gn2LXJjVzG9vdiia3PAnLQwBLAaGPY2C2Ob+xoMW/CwfQtSY03HkdeYSqcb8wboxtF95jv99ZjwY9oKsMy8SX05BbyeA/gIRMdTUuUCgKdkoE6gmIcMYPazeFlh+9zAyN4sgI1jwtxgEzg3oKYZgXzXbB9gA5g06FRvsz32HVoxe9cmJwsAAKTthJutS7lOIQNqHahTN+AHmAK/2uWwydqbxdXVQUM/sT4AHX2TCRBpkKVPgnEDbSxP3rEenUYS4BvUARfYpw66zSY6bKLvwNdWN0AbXQBQxiTvGEm6FQidDgYAGkQ4NGShkbLaIDNAop/NZDUDxialFRvsA62dvjZ25kfsTgqcLr17LIoDEuYJO8hni5nIiZHsQxz61UymudJpfbYAdHjvOWbR0OntZpowdNGVg0DbxUPqkLLu7wA2NtHjkXJAauSRyu4FX/43h9uegMa2v2ax2RAg3TaO7TVnjB0wiCG1oACelTOO7dcAQ0Df+DXQNr4Aatsr+2qgyPYtdsz5LTg0v/UVyMz7/fffv34J5AQG1ysl0gKAV0rTZ6+dAwCYTcSevwcAxCFabcYpJShw2pwch2/13sBuy5hxmoKVYAJQJpACVhiKOOEGddI0fd1qn/Nv1o38QBKQ0qxJB8lmDLZgMXX1viJ1bQM70MFBC+gCl/aafWtQJACqR2CUohQg7JNrkNSByKlUgYVOtY/dwIY1qyKgKytINjBvtmcb2JoR0g9BHLshRdanJwU5fQXMsTAArb1+GB3gsnUffQMBKWccWl9svW21WZcGOeoGTumLLfqe/WEHI3vYmrQFVAJoxoZegRVAI987IGT+NEBIOeAV6DIW5qZHpmzZJN/bzwnUpj8Y6LTpcTHKb5nfns8pHz+S/tqfGnksLloG17bzDOhLvyKL3zVu3+M5pP3zc9hM99Ot62zJHNnao/s6DWuM2y+kv3TS42QvpXmZe5rht+DkN9iH8WRrAKqF27Zf5O66wwA+/elPj/pXCvjsxejz9mgBwPOqaBU4hwYOTwE/8YlPPPypKyCkgw2HBIQJaNsVtnsAI45OWspPznGQUleee9erfYEybQhMRzFJgghZpIsABzIDH9u9NoJfgzIr85T1qxxYAakg6Sf7ebYsQzN8QIa+qL9Zp2ZCADZjgblyX74XCDFZgjPg04ddMEDGx7ioX/rJz4cJmJghQEcbQJ7Alj1MHRiBOTqP3Fgu4wMkt2zkEcBzv4cOA3XGk06xdHSpTaDB4qDBN5uxeEkZoLkZLQuQBmfqZ7sBPFKbxjAyAxVSjcCQhQRbbxBgn6zxzbv2em50SpQ+8r2Fhv5hjIwHoKiPvZDphR2Axt7ynT5GXjrttLmFQssJuLJfhx8s+LCQDQhtAUk79uXmf/aCVYyOXQOUzeHOCmyZenOQbtxjjPMO2Kae2Ha2eURW48oWgcQG6vwE/8OG6MXcy3v0EN+rHguJLZAH1PWXz0rfApI/4RM+YQHAPQ3zCwDu6cBfhm4fMoBJAQvuVrFdP0AnWEurSQkBHcBIO3bO0b6VDsgNgNJep8CAkLy7R2qlgQWH3eDQyplTBwYE1GZuBL4tmwPg6atUHMcOMAgWVuWACZnpjAwCKGefctt7BcRtQN+CRLK7LuWUQJWgFRkBUUCB/NgQ4y4tRm5jSYYGBZFdP/okpfb71GPr10Oh6SjvHWRtGdg+CFtb3V8LhMgNyKkX4JBuY79sBPDpgCqoR/a8AEvpwdTZWyCUM0/YeYMZctnfxy6BG8BGHeS05xELGL1EJ1lAAXF5l4YELrfzZwseG7w1MPH/ueRrUMeecg8m2EKAjZt3Ddzan7T+gUjznO1Y9NlW0v6gF3NYOcylxYPFBPtmE5EJgO49iW0bAJex188GxM0Q9qJym6HYpqjpCKgmVy9ELSbzXWSxZ5IOLDqzyHvXu961TgFfhmB4WqtYAPC0jtzVl/twD2DAAmcntSE4boEMJwj4cErK9Qo6Zfp5VgJMM0RxyE45cny974lDF6AFKwBKehawEVzSRhwntgMYADoFCAANoOBspWOwcalXgCaD4INdAuQAJGxh2kpw9uiUyOoktIDUAYh+Glw2wBWE/doIMJe6pJMii2cdCoKCDHDXaX6AR0DKO2AvSAtegJaUaGTLdwBGy2Asc08He2Cx02INcNmVPWnsrnXLBowhcCQgN+uHics45JXPbIAMPjfobZClHIDQwCht9j5OY8L+gDo6YlfmTc+fXsDkfvPImPTChk6bFcp4YKK4GUwjgGoe9PxsNqwXcT1XjCMZ9YNMFjQN8jGbQJ7+HDU/e4HV843c+mkMgd7Wp0WsOcx2UhYDp//mNVtuMAzk8YXsqYG0OWEOkNM7f+p0vfL0xFaNf+6LnOYQv9cMrHFKXTkFvA6BXP1gerUkWADwamn+9Ld7yADmOYAcKhDRAayBCMcv4MVBcV590hJw41CxN4I0oCilI1D2yT6gh3MHmqz2Ozg2yOkg1e0rL6CRkUMV2AUqMqtbXz1MOXX3PQ6QRG4OvgMC3QmOnHuDP4FXH1o/2ISuR+DxKyzN0goidK7/LRM2CjBqoEs/xt8YYVLJ1gGpwQuZGlj0/sHItV0gmFbGGCAA6JVv0Au89+KjA3mzm7meOiMbHdMh/WRMPcNNfwBWtpg6IkMzug2sE5hjr+aJBVazkUAZYAdgaL/Lshl6AFKNbdtU6u0FXT73b//mHkCIDFLT2DWLF3X1nkq58ElCAAAgAElEQVSAij0YX0xgZMGW9k8itr4AuV48+Q1rexsBR6A/9dKnA0naYg/Gtw/Z6K/2LRyMf3SZrR7pz3bRxI7YjEVT12FxSQYLwbZ7wM8CCwBlc4C8PcupH1NJbr6hF1VJUa/nAJ7+YHyxPVgA8GI1t+57yCngZkviyIEkJy3b6TdowKSkPKfYTI9VdK5xlNI8gpCgk7LAEzYFy8YhYjYEPoAFWNmmnTh/9wF3HXy1D+g0oEi7mJ70UVBSL5CVercpNvcCIJy7IKLd1EWPAAawhznQz2Yo6Tv35Po111xz+OssQCUZmiECqhoQ2p+lD8AuWzA2zRAbG2CXzQh2QEqDcwsNjEvkbnYE4KBP96ZdIEa/t4A07TXgEGSBOCCmbSB1ARMCNxmAUIwVwG7sWw6Ap4FnA29gA0BPnT3npA7ZWr5L/1LeswTbDvO958P1/CE7vRkb48kOck/LYuz0SVtsN/dj2xvkA68AsfuBcboGhmzj0P/cB9gAt+afdthp6rAIdE90E/DG3umx/UL6wp/oZx/Y4DssToxLy9HbGrYLIt85wBSZ+MOUzWIitttZDHM+cumnPrSd8rudAbD9APi94YYbUmwdAtnDmL4A4B4O+mXq8gEAvO222+b6668/TG8KGFg9ATrBQhADUvJd0sftkDh67EU+Y9JyP6ABEKYOQalBZDtjDhdIasDGMTYTIgirF6PAoWPAALo+hdyMAiCb9+3+qi3gBcywIHkHHBroAg8d3AAVfRCYjbNgBzg24+BeQcgYCRxpu5kZwBLDg/lRpkEpMJ1r9rNhMOijgQNQkbqBP/oE8hrIYxA9F7KZGroAZLTP9gALrFsDC0wM3aSdBGUP3O10KKZP/yOftJxyQHD6JJVrfrCDDtQCOF2mjLHzP7m7ngas7ANQMebuB3DIqM0GXl0fFhCodF/rkb1i4YE5c7gfE2RudL8sEjDh+u9+4CwyWAz1HMn9rTvzlS/BhKWeBmTAauQFlo2LxUizvOZV6ggwo7Oe0+zagsf9+sgfGid2Htka6PFPvbBLe8Cu/+kk9Tg01/6ux8kcjPx5DMw6BXyZIuIprGYBwFM4aCdE5MMUcE6ixSF5jAUWroMKmbEuAhjn2c5dcEpwkC5tEMRpAgmcNMDWbXG0UlodcIEDzlFQy/3qxlpsA0H6JuXUrA2WwSlDsgoywAV2iAPXZwDCyh+DKrgJYnTcjA3HHtlzYEIgwdg1U9BBVTAR8JtpFRAFLjrrIBIZyY9tIR+mJp/V3+PUwDvXMaJYFIGUfWC2Um6bzjVGDV57jxSwei7Qn/sagKfNsEPsQT+BKnXrs7EBojuVpw6yGffWZ+5jgxZSQAz7Z9sN4rd1APy9ADEPLF7YNX2zYe/03uCoFxiph21g+TptTM6063e/m2nkB4yzOuiQzQKRzZrlWrOtvZfUfLCYSNnUaf8s/be/yTUn2J2Ox6wBURYz5m+DvmZfgX3jnc8WJsacnQGmGS/9M/5Aas8j48pOUo9DHuzDHEs96jLXsaV8Sfr67ne/ez0H8IQE1KshxgKAV0Prl9bmP5qZP3BEFX9tZv7kzGRMv3lmXjszeULzT8/MV8/Mr9Y9T5iZb5+ZL40PmZm3zMzXzMw9FyDa4WNgeg+gIN6r7Tj7OB2OznecZH+H1QHKMEWcmYAhXQJYCP4dQJwGjTPlGAU2AKZBaq5hGDGX5GmmIbI49CD4crJxqoIPxy8wKisIC4j9vYAlcJC7A2H/36md/A8wA3V5t++pQaiAIxhhhoBubTRg1h8sIFZOXdhC6T57kATdZq2a4W0WC7DLvf6nT8EYEGlQzj6audkCfIANm5IxtLE/dTbbAgiyN3ZFT5Gvf54Qk80eMbiYswZp2F7ytP2zVWC1Adj2O31t1sjpcnvYAAMpZgAFI4oxivxsjl0CnxZ3nW7F6gL+23cgX13siV57ywDAnHawuT0u6Z+9sm0fDXYs2IxjM5sp19snUgfbtIggQ/REr/po7PVRWXYEHHb5XhCxewsF46gv/T2dA3vsTVuAJ0bR5waTwD7A2WNjHOjunnvumVtuuSWXVwr4AoLfWSm6AODpG8kbkwEosT91Zv7+zPyhmfkHM/N1M/MNM/OamfnNmfmWmXnuzDwnC93dfd8zMy+fma9MGndmvjs/VjEzL7wAdRwAwHvvvffwOVdxNFimXuXGISVYCjA+bwHCFigJsgJmBxXtNGvVwMr1DkCcnz42MAVStsyAdlJW8FInQMRJA6VAJjCnHEbOZyCXgxa8c1+zWeQEBshI34KpdoFRn+mty2ljCzCxA32QoQMfHQM6WF+B11jRsbSnx71gL8gkcAFaUqrAUdujwAww9UKCbvR9uy/PQgJQUAcmCquHOW2A3ODeGNO9RU3b/VbvdAzA9j0dnC2ezANgIH0DCLfgv3VCzrwDs8a5Dwco1zreAjh6p+Pc34ym8oCJ/vd2CfcCK/oP6PV87wXc1t4biBof9ocRtojQprkFeKftgOLeX9cHczCOrmWu5x5gKtf5MPO9/R074tPcRy6LDbowT8wbsgHbQH3kV+fWt9If30Ue4B5LzBcbb2OZtt/znves3wK+gKB31oouAHj6R/Q7Z+YVM/OsXVfu3LF7r999zsouzF7A3ht3K713zsyXzcybd2WePTO/NDPPn5mfO6ZKDhnApHjiVLBHVrTNhgFDGAkgyko3zshGa44X69aOT0BrNkpAwwz1/iDX8t4MEOcoTSbIYG48NsEqulfkZMi7gNFgMP+rF3DMZ+kcTIA28/koVjD9yl+zG/YuuYe8vXdJ+4JM9zHXBFiBo9kg1wQJgRRz5Dod0GOup51+BAWQ0GPfbB9ADbwBhw2gsCp5l95rFg6QSxv2ffZDfrvtpAGxPw3+gQN67nEBBPrkJNttOcnRwBL4ANrynXH2P5kBuZQFBNtGAYy82yPXdkh3nhm4nR/5PuMMmOSzh1CnTvtxMWfsHgBpxglYMz/ZYi98jtqLZ7x7nNlXs2yxZTrohVDK6h89Nlg0X9TZY9yHNvi3ZnktVFJ/7u9nKZr7adP86To82N54Scsap/Zx7kv/+MJcM0fZuEUC/9FlWs/0oS59x6DzebIWGfP2hUkB33zzzal+MYDHDHxnqdgCgKd7NB8/MwF8f3VmvnVmnjkzvz4znzEzv1hde+vu89fOzOfNzE/MzHUzc1+VedvMBEx+xzFVcngKOAAwzteT99u5CVjKcIrN2Gz/b+fVq3+rcGxOB88OrJ3+Sd0CioCAWRRk7OfLO8fbwReb0oCs2wPoAFcBv9PUvQG+9csxA17YkaTkcuggdQrmWIoGhdieLdMpSDR70MxZpwbpX/2dJgQYvEtf6TOARf7IYa9c7mEXDdKNG9APnDQj3EFuG9gbbAnIgGWzqG1X7AgwUZ4NRH5yA27ApwDOrtRrfDGy+tVsGrCT9tlHg2A22WAl9wMs2vJO38oDxr24UKbBHtm3zFg+bwERHZkP7B8Ytqhic/mcPzYAtLU+6UQ/6KxZ89wfG2QHQLEFIJDExvqXNbYHR+g7dUrrYttyzSLBHlt2YBEAXFsc0QkZ8tlCs5lCYHgLGtk4sA2MY/x6HyP2Ofr2s3i94GM/Mir8AZvAprtuYQ3w2g6Q7/NLIOsxMMeMeGew2AKAp3tQ/+jM/O2ZecYOCL5gt+fvppm5q7r2pmQVZ+ZLdszfD+z2/nXvf35mfnKXQj5KK9krmD+vPPzv9rvuuuvgFLCAxfkICBxwAxngIWU6rZJ7rYA51wZkgkju37IwRzEeHHMH5GbHpGW0KQAJllbfggJAg83TV8ECi9GgSIqsWRLgRvClj06JabNZAoAp3wlMgFVkcygl5TpANcjQRylFfcln/cg17GHubQANnNvYT07pQeAAQKYLesj3fXiD/AIm0AUESPUBcABDg5zcYywboKZMA76UA4D8bwzYmffe36ittsU+edyMWMoCCeaA8c17vqOztuG2CcCHzuggddMD4CelKRVqfIGIBoq5Z1vOOKsH6GvgifmiM7o2lwCR6Me4sUcAnT5tGeBE9FXfsIrGDaiMvvun3Sx8LKD4BH7AIkE7+mAsWy/GxTj2PE49dB7ZAG2LBPX2WPM35jMdt21s5fdLR+al7y2mycEWemFH/372kE0DtQAjvwBA5/ucAl4/BXe6QcClSL8A4KVo7+rfm8Mbidyv3InySALAb5qZb9x2OQAwPwWHHeDQe7UZxyMVgVnDTgAyAk6DIU4QMGlGINc4ZADO98AH5kj7eccGCLgCDqamAweH2StuIACbAPBgKcgqaAhgAkcCYAIZxoKeuq9W7Oru1DX5BCBgtdtrMCHodwDBoAp0wJeA5Z5mXIAW4FD/pXyxPcazQbp21N+sWOvL+Bk3wO5cjBBdCLgph2kFQHqcgSKg0yKjQYNUoAMPdKOMOtjBltUzP4xLA03jvk3jb9mdBj9sPPIEJOSdLQGB+og9y/XUkdP5AF3kBHDMHYDEwga4AKqMg/nUDHfrTJ9zzV42rHqDWTZhrvAF3tv+GmhFDgtIfTZvgJyU13/1YRnJbfHQi0WybBceqWvLTprLxsvYNIuK0QPE+7BL69F85+/Mg9TVjHLbOJuTTck92HrlLMR87oyLcc07GwgDeNNN4QtWCvjqh/MrL8ECgFde55erxZwE/o2Z+SMz83d2lT6SKeAjGcA77rhjnvzkJx8yRoLGdoMykCZIx/EBjQI8cGFFDmRYBWPApHc4byxZB1Ir/AaKvZE+33sQbsoAZh18ATABVmCVrgnYEJR7UK3IBVx7gqITpxsFcgHSoQsMVtrqdGav7jFHwEXLRyaAr4Mu9iP6w9jaw9iBUKBrFin3CFZSgsbJwQ0BSQBTT/oKHGCC9LtBNt036GpmUX2+73Qd9qnBkbqBU0FWUBbABWP6TJvNNjXobdBMtwA6YM0+MXjbxZA6evFgTNhwZPGMOayZ7/qEMFtoBopesFPpv5QnMNSHQpplNuY9FoAHG7fY0I/ImcflYJPphUzu77S2BQwWnX31GDdQ7LHBIOdep/EtVnK/8cY+soOU5Q/69G/asQC1MO26GzDruz4ZE7ppYAeE8UX8gc9ONjegBNLYQ97NfeOUdzbajK35xx492ibXUw8dd8ZjPQbmcoXj01nPAoCnc9widRi5181MdvB+ZEn3kUfAZE9gDoDkMS95Za/eO444BPLqmfnxXZlPnplfvphDIPkx8Tgc+8c4LuAtzk06ktPn5K3Ebc7P91a0QAOnaXXPQRo2dXKqDfKcBAVKgaJOg3XgABCs6K3mO5UD/GEFWz4r/P6ptwYz/seAqVfwAUj0pdNMzdK0Ixe80o8AhWbXUo+9RsAf4OUwRwen3pfkgEAHT8AJgyZwqVMwzz35CygwjvkMfACSDRCxjq3XBp3SjhgSsrChZkKkrNMegK6c4Ji2Yysd/AEOAb8PjWDHGrACmxgVQZlOyZj6Ios0Oztp0Gp8GvACGdGNrRLNNvnVkrQPsDX4o2fArBmt1AOQHTiOXaqzAZDrxs1caSYt+tgCDnqkK+wj2QBj5SxgWl7jnL633ECnRQhbY3tsyhgaX3prsM8mmhnW137sTK5ZmAFc5krbPt0pj5kG0s3NzD0/c9jp4e4bX5F2bDdQf/uU9NPY93zEggKNZME+s7f85ODaA3h6QcClSr4A4KVq8Orcnx3XecTLj8zM129EyGNgcq0fA/NpRzwG5mU7UPjAzHzXro6kkI/7OjgEcuedd05+SghLx8lL21gxA11xcnFCSWM02wZ8deMp67ESHK16uz6ApJkpgBRz0KvhThlz5NgYqSTPUeu9jZgYrAMnKwgCn10OG8h5A5DAnWCAJaSb6IEM6QM9cNyCbgdZOsw1aWRgpAGgYECn3Y+Uk75spgrbJ9AK2lgW4y7ICaSAkzbpucdM3YA6mZVtIJtr/TgPIGnLoAGPHagbeAMh2CoMSadnpTEBhJadnbqfjIJwdBg5k4YFpABFYwHAsTGAiP5TDotnjNg4UKE9LGWAIka2mXX2ZzG2nXvGD+DYsqbGrxd4wBaACRyRyXj6vscX+88GgWQ6Mm/bHwCgFkzshA0YH3pr5pUeU4b+e3GjXfbqM7BFHqxeL07UzQaUNcctarrPbJ5N9iKV/hpIs1dzUora6XTXG/CyCXO6FzsWL/fdd98CgMeNeGew3AKAp3NQX7J7eHOYu1/ZdMGDoL9q9yDon9o95LnLeRB0WMB+EPTdF6COAwD4zne+8+A5gNlMfO211x7+3JvgINA0u8VR5xpgE2fFOXdqjvMUmDnbdmbNIABLHeg6zaQejlwg1e92/J0m66CxZbwiU5gmG+kFKgEA+wAU+ZzvAVpOX9DGyJBPwAGcBIejgBTAIiBj+7qvgigWpAOcQAZQNtjo4JTv9VH6U996fNLvBtT9838CoeAIMBs/YIheIm/bgL4CYmxKvxokSKlLe9O993zv94JbH+lnj4u+NVADujFF+S51bU+nCvjpQ4J39mD59Ql2nLYxgW27Fi6uKdPgIf9jGM0j7Hkz4mwYeMp9fYiodcP2WsfGGYiSMo9uAS99jf60HZnJ2Mxks/IWb71IstAwD42HjEBkU35ryz4DtQ0Ue96zFYuxZuCVS5+aOSUPgIbp9Vgm+jWX6CLlsdYWH53OpaPI1Au1tpHUYetIL34BYOPffshcNkZ5DuA6BHIBUe+MFV0A8IwN6BXszgEAvPvuu+fGG288YB2sOAWSOKs4S+krTi0OXuADRACalPfQYE41zir/SyeqBwBpViT1STlxgB2oBYME5gCRlrtZta3T1DepyAQTrMw2IGAz4tClerbpL8wUGZsBiYzNBDbLlzalmAUjLEDuy//YAEyk4AuUYzUa4AFiAg6wCoA3QypwAVv5TK+Cd+rudBMmOOUAfWAScwpYAcbAXu4BDCOXE5NAAFYVCOigTO7ULTinvpYToMRKAzoAV+qgUzIDYcYRgBVgU77ZtN53CJCzpcgLUPlfgAbuzBP6a2a92S2yGkfzphcMudY/Y9hAshkvqUzgLHVvD1IYMzptUAP8NOg19p2yjj1HXn4iejP3zXXlfUeHkdEz+7Z2uF242H9Kxl6k9MIDiDfGthT43PW2vwXOLEr6Ozo2Lj0PjJl6e1FDh+YhvbDH3lObultPgGMzj+aW+Ro/vADgFYyaJ6ypBQBP2ICcInEOfws4QErgwBZgITq9yGn5rhkxjFzeOXS6AHri7IAhAS3fCeyCPQCIubHyb3ak2T0r/9TVD4AFHDvIATUCct+b+gUy+72aaeF0sSsAVMBB39esSso0SKRnQRW7Qw9kwIA1eHRNv5opon9BrPc6CpiCljY7INLtlvnLswwTQKUOAaaUB0wBCyCtASB5vLMJoNA45p5OhwmY/5i9NwG3elz//9977bm9dyWpREWFpOSQBpUkQ4ZEx5A5MiSUuY5TqOhIDhEyjyFRMsZBqVMZD5EkSZoHadzzXnut33U/a7/WuVs/3//3/Dm/04m9rmtfa6/P8MzPfb/v930/z4NSBVihiGFbqBNgE2YGRtozMJ698QAL9osYTIwHgGRgeB55RGWnnKLM3XbbbtNvDAMPjBi/AHx7H+OEfAGA3vhJBace8FuZALiABG980T9+HDBOAXcelGE8AC4AoVZO2GDPRHkDh7oyH/wcoX/83Kc9GdsANFhlxgZlQAYxBpizVi47ttIMCNrPGx02TlnM4scDcxzjlLHEdfK3smOUWhlT/wfk+3bkObtHv3hjAGBqacFMemOEPrR3CU3xchAAaenQt95DYfVt0KCBJV+9EfROpHz/XUWtBoD/rpb8/aUTAKAtAmF1HWAPAenBgClqmCuUsn0j1BB6KLFU6xWhh/IAvJjgYzEFLFaqwvBgyJ71sXUoYMrEb6/Q+N9b35SdRQYoS890ofS8W8zKiKAGoHo2wLNqXoFb+1AOK6OPcbTnPAPlwQlAjnqhtCgvrAFAinZFWcCqwLxQftqCPvfsBYwGfZUKgr1yRUl6g8EzIAA1AJAHKKlbbNBeuN+s7IFVWrVKaSUliiZOPEieMQyw9eUBXMAykodX9ihVyoRyBYwx/lDeWZMmKatfP1W2bauKWbNUEY0G8GsfxjXj2PKBofOAguftHRhTD+BhqXyafizTX74vEFkYBBgLVi8MLN6DcWOeYogwDgGrXKdNPYMJi45BZ2XxrDt5ALRx1dO+nkWj3QDqGASWtrWFMVvUP7Xs9CXj0wM6gK0HZMxJDDHy8m1OuwPI7LffzsnyZEwBfP2cQgbQ7j7kwRsxlNnPZwAdcoA+CoaHC0/xc5a+t1XA1Qzg7095U+NqAPj77ftfW/PkIpC6desmWSp257fETfh4heFdSZ6ZQnBhuQKi7LopcFxElhbsE8/CPCHUAZ32LqvnPDD1SsYrAhO4/hgtz5J5F7IXrsQlWfmMBUVBebCKYofV8u4l0vIxergdqadnwKwepI2ipRNpB89oASZgNlG2vOOZJpSFdweaAoZZA6gBfmBZAKbUj3b0QAPFCUBHgXqQ6dPxzBQgivxgED2bAhDCeKAN7LfVIW/QIKVPnKiSp59WxsknhzrZ6keUtrlDU5kvxiBKGobFyoPiRxmj6D1IBwxGlixRZocOSissVNkrr6jsiCOS4J16whQyDsgTxgt3reVrjCpxirBHLHCy3yyQYcx6YwjQAODBCAC8eVYslSHzsXuMQwAq5bA8aVPPDlMWz6raNca6j2PDWMM7QL8zD0gfgOX7DfDEWGZM+jQYI/SZB+3e+MFQYJ7ZPesfwj1g+AG1jEsvu/ifPHyoA4aV1RcjjTxTwaDVA1AOiAOoUh9vCCNbaSurAyAabwir/I0BrF4F/GtV4c77fjUA3Hn7bkeXPBkDaG4Vr+RRaCgGgIj9BoyhRD3zBtgwJYbiAjDZcwA6FBiWL/nZdYSp5YNLxTNsgA/vegOspLKPABbvLkSYUwZ7xrvBAEqkSflN+FvenKBh/9vCGTtFBfAG84X1D2CjLQDKMFx2H6XilXkq0wCb4ZUlLKEHOgBayky/AWxQfjAYnsmwd62cKHUUFWMA1yBpATpMWQF4ABBswQGLRFlRaB44ofSJd4R9jNs5yvG4Il98odwuXaSaNVU4b55iu+wSymnjxJSfvQ8A9EASAybz3HMVa9ZMacOGKS0nJxnraG1h7zIGydcvMooWFSm3e3dF5s1T9LrrFB05crs4RPLAmPEAlvmU6tazZxjXjDHv0vUgyNrTGxe0NeDB3oOZpw88AGMsp7Y3fWn3AXX0PWDLz0363LPUACjaDSaRuQzQpj2ZA5TFym5zCaOSelM3KwcMor3D/PP5AN68IAXIkQ7lwBCxd3Bxw26SJvXDiPLAi3nAvLB7GI7EVTL/mcvUjfKlzl8WNZGPPZfqGUBO0a/IQvrJVgHvvvvu9li1C3hHa9QdkH81ANwBjf4byTIAwHXr1oXVvwAhQBxCCUvevlGauGGNcfMuIvvfx+Z5t5UJMAQ2whQBnyrIATx23fLyGxVj0cNK2G8UMPesDMTloZQRpJ5NQGCz0jNVyNuzBsZsKxArq2fFYLBQylYerxwAZv6ab0PvOvduWlMqphhxb8Iq+DhI/66VyTNOKH0rH4yHd+d5dyHPApBpdw9sAP2eEYJ5RakDEACUnimhjQFnMMKAYZS73TdAbfetfpkjRyrtlluU0aOH0v/+d5XcdpvKBgxIAjbGoKVj+VkfATQBAVmrVyu7RQvFmjRR0ZdfBkCJ4UD/eIUKIKIvc4YMUcb99yvWrp3K331XGVWrgpn/ntViHDKmaQu7DmC1a1Y2Yy8Ju/DGAfcByrA+POPBAUwtwA2gSJ9j6ACsYCN9bChgDYOE3xgmMKTUzadFPB1AF8PM8uU5Dxypk28LxhTzlrFOGvQrc5kx5EEi+QPs7Dfzgeftt30wzDDYfD9iyMK+kUZq3TF8WOhG/zKO7Jv+QtawWAhgSPmRndTX3rON+Rs3bpyMM7V7ftEYc9aPpeoYwN+IRv4F1agGgL+g0apfCS2QdAHvsssuSXBjAhAhh3DDterZJoQclrW952O3aGOApAksu5+qNBGCHlT8XLySVyqACg+oYCy86xeBTz0ABt5Fwz0UJooSYEV7WJ4odYAgYMbytms/t8IS5eaVKe/TRtTDM5gAabuG0vZsCewQoA12gW/PuKBwULC0FcqEOpqiMRdlzZo1Q32svehz3070FeOE+lMv3NzUh77zIJZn+bb6WNyXPVMjK0t5e+6peNeuirz5pmLNm6vs009VkZYWyoUitfLaO7aPJQAD8BKYrfvuU87gwaoYMEDld9yx3TnCnuGiPqEd1qxR3BiVV15RTp8+iteqpZK5c5XerNl2bBUGhYETtoFJspdVW3/gYuW6GRMWagDY+DkgTX960GJtQhsyvlPBohlJ3uiAefTzgbYGBFseuIbpQ0sXphjwY2MJthFjDUYKQ4i55vuBeWrfGI8Yaxh3MM/eiPOsLAYowNqPa/5PHeselFmbkDb/0yYwr/Y8saJ4OJi3GEf0BwwmbDcgz+sUjGm75wE5MsAzjaSHTKK+gFTfp8xtLzNtDlS7gH+/Gr0aAP5++/7X1jzpAjYGECYGFsy7szxD5C15r/i9G5DrJpiNzfKbOJvwMmELy4UywnJHkaA8UoUeYAUhz7c9j9LDxYXi9UyKuQuxqO0dHzfoLXfAkWc9PBijfbzyAZSxSAU3OQxGACVVW5JY+gBGgIDd9yd4eGYEhUunAwbtN6tncTmjPGhT6v8/gTjKa21vz5pbycaElcfeMSVGGT1wA8h4Zoa8A2B44gnFa9eWTj1Vsao9B2FOcCECNO15GMD8xYuV26lTcnyXnXOOYieeqLSuXVWclRXqa+5fxor1KXVnPFk9apx0kjJmzlT5W29py8EHB/AFGGa8U79wfdMmZZ10kiomTFB2x45K27RJFc8/r2ivXslV8r4pMJQAACAASURBVN4g8Myq1QMgzxxBuQNaLS/ADcwVhocPU6AufoJjSPG8B8LkB4jw+XHNgw8MLMCFn/u4PwHZ/LY0ce1bWexdABSGBcYT4xyQSkiDB2YYNanzCDacd2lDgBkGJKEKVoZUF65vN8AeMol29nKMugBKrW9gKv0CMHuOUAXysPIQ4+nnmZ8vyDIvUzyQ9Ia1Z/4pow9XsGsG9vG+VG8D82vV4M79fjUA3Ln7b0eWPskA1jYlXQVIUNC4dGBUsIDtuglRjtmCJfAnVwBWABAIbYSnvW/KmHcAM/YeYAZmAYuYNFA2KDmUJbE+KDzLA3Bh71g6xm6ZsPXWPIAA8AZr4/MBtFnauJcBPTB1lBeFAzAzcGXPsF+h1RUQmrqgxdqeWCcUFukCNFEi1M2zLLQRfcYznmEEVKK0UC7U14DVmjVrQv8YCDTXKuwnitYDa982MB/2vGIx1TImLSdHW5ctU05ubtJFS53s3ZKSMo0dm6EHH8zSjz9GFI9LOekVOr5iqv6qa9VYK8PYNBZv0003KbdGjdCH9rEV7NaGlo6VlTEbgMaGDSpo1kwqKFDZihUqq6zcjs0MaVbF0AGUI48/rpwrr1Rs990VWbNGFRdfrIqxY/+vFbWMOcuX/TAxPhiX3q1n9wwEwYza+96d60GQZ3w8y4sxRTgEYAtgZ/XxRhEuWg+YAJ+eyQbEhj4zEFzFXgLQAPmMO8YWYQg2X4llAywCsjwoZjwj8DCsPONl95hXLCyx51g0Q/mQOfQhbc37eCWYG4AqgCsufu+GB2whBwGxAHVkFwYthgby5ufAtw9foc2pNwCTbasAuJY/8gJZaPd4zhsH1r5mNFXHAO5INbpj864GgDu2/Xfm3JMxgLYIBAGIVQ+T4wEYbBxWNyALhsgLT1wjHqDBHnnliOBDOXk2CZetdzMB3lAGABe+CYr3Kz1hFVID8u0d3DGWBwIb4e7ZRhgHwC2ALJWZARABBKyN/HYTdt9AoSk1zyigaFGwtLVnejyj5FlN2hjFaMrfFBX72tEXfoGDBzFWF4CqsX/Lli0LgMpAoC1ygSn17kfGgGcV6YNQtlWrVNCypaKtWqloth1moyRTgitu/vxKde1qK2ONZYyrVatyRSLlWvVVudaU1gnv3Kzh+tO1hYqNGBFi+ABLGCLUGcaFdsmZPFk5F12kyjPP1Jb77gttbf1qfwZyP/ssXSNH1tDy5QYm49p775jGbLpEh8x7MgGEbLuhe+9V9JBDpBYtkuAKwA+Ys2/aEgDMZt5WRoBM5KefFJk+XeV//GPSJUnf2lgAgDG+AAoAdoAe44J5AlvF2PDPMc8Y4x4IeYYdMJkKzuy3d8d6gJkKWpkfsNowiPSLdyt70OTr6cEqZQek+7HHOKOuLMagDXnHnvPGkD0Ps0hb+Gd9/WGXvYuXd/Eg+PahTAB7+g1Aj2zkPuDYymF/bKJtZcQdjWxhrLHYyctoO8nJYgarF4HszKr4l5e9GgD+8rb7vb8ZAKAFHdtJICY8UZ4wLFipbF0BO0DsEErdFGqqwEZIIehQMsTEpLpm7LqxJAhV2A8scHufs1cBjSg973aE9ULJeAUKM4BCtGdwHSNk7TfAz8pi7wPirN64Syk/SpzBhAL3ygbgC2iE8US54HYH1Hrl6l1J1BvGCgCLkrGykhZ1szKjuFE03LP3Ka/lwxhYsmRJqLMxC8YO49736dOuMDtsH5RkKGbPVo1jj1X5CScoOmnSdiut7dkNG7LVqpUxntKNNxbqiitKVV5eqq+//lpH9uunL1bVV0+9rrVqoJtuKtPgwYm+oq5WXlhVADvGQQDzZ52lzFdeUeETTyj9jDOS+S9dWq4ePfK1YkXiTNmCAgOVCiDUPs20RHPVUfW0ITCB5U8/rYr27ZNxe8wJ2G0fToBy90rfGMLaOTnKPPZYRT76SMUPPyydfXbIC0DB//43/eGZJtrfu14BTRhJjC1vOKQCOYASY9/qAFhlTMAgAoQYz36cYwB6Npz5w7gC+DEu+E1fkp/lD0vGPPEgkvSY65QHtzTpAdC9sePLzAIlu8b8Iz8MWeSDtQvlwxDG4MB4s/uEkfh5ZuWyZ3z7eeDmGVBYXQ8O7VnYVUvHLy6iDSxvG1/VMYC/X1VeDQB/v33/a2uejAG0oH8UCKAHIQjIMAHIHmUITxOcCDi7RpC/Z0c8YwaYAaSwHQPKChYOwIQCwC2KgPYMIuwUjIal6dlL+x9lwGpfhHiqOwWABchD+QLMeM+uo/zsHsDDygDQpa4oAUC1dwOiiKkvSoE0UVYAChSId+WhoPxg8CwZDBGsG8AYhWbfMA6miKzfzSgwxWLu3yZNmiRXrHqACvviQdl2DPHEicq55BKVXnaZSkeNCkDTs2dHHZWlDz5I1/PPl+r44yuCe97ynf7MMxo8blyozvqhI9Xi/j/LtvzbvNlOaUhs3YIRwbggti/JeBUVKXvPPS3IUqUrVqg8OzsA42XLytW2bW2VlEgnnVSmm2/erIyM9Ql37IPT9Od799ZUnawCbdN3Xfuq4Jl7FKlXL9mngBTP3NKOqcwb4MJgZtrZZytzyhRVtmmj4mnTVJmbm1y5DJA2Zc98Yh4xhvy44HmMGYAQbn5CKzzzBpCwZwBr3mgAgDKuPQOO0Qe4oZ4YWoxhxh/Ggp/bgD5kC2w3coBxQzm8wQSjTtv7cUsdAI7IC0Aw8sSu4/bFtW1tYuMdAE3oh3fN+7aibSxNrlNn2oD2pe6wi8gEDEvmMQa3b39kD+Wk72kTLyssP2PsqwHgr1WFO+/71QBw5+27HV3yJAPIKmAYNZQXLBfuPg8G/QkLMEte8GJVI9xgGFBMqZW3NPwqYQAW7wHqyMMDUlydsFGALB9jZ/khxHET22/iszyo9UrAA2MYGlZ+ekYRRUxMmrGZno2zNkVx8B7KHMDmlblnGFGQdt+UFooUwAooSnXxAVh5n7azdHCvo+wB8lbH9evXh/g6AxO2SbgpSyuj1c0rPQAXjCIgM5T9ttuUPWqUSkePVuXll4fXLA1r759+KtMee+SpRYuYZs3aHACo5f/KK6/o74MGaVJamrbefrtKzjtPb7xRRxddlKVrry3RqFGJIHxipFCOjA2OdIu+9ppyevdW5bHHqmzKlJC31fnAAzO0eHG6Hn+8SN26bQjbsXzxxRehn3oNG6YaS5bosbR+uij+iNq0iWn69C3bbdoMK+dBt9WZsUh/0y/2XNbw4cocM0aVDRuq8N13Fa1XT0uXLg3g2tzrbDFk7QKwp3+Jz2TcWB1oY4A3J9nQjxhCMEa0kb0LILFv2owxCLtofccH44U54M+s9qCUvJjrzCV+I08AfjCPlNUDuFSm0bNdxAx7ty4MN3MSY5J0AK6Ugbb1gIpyIS88mPfGKPPUvnF52/+ekcXQs3zsOkwxY8bysrISgwtoRYZi9AEqaWdYf8AkY84Mpz3N2KneB3BH69Mdkn81ANwhzf6byDQAQIshIdAfJYLQNbBhsWSe1fLuUYStj6OB6SGmzCsUWArAXqoljAKERcDq9/F8CGRvkZuQtLQMsGBVe3AA60U5YeqoJwqbwHaUK98eGFMfDwxh0VAcnpnw4Jj9wLySS7Xs7belB8jhHRQO+aaCLgAdZfYgBMaK+vr6oEjsGv1jANCCy63vjV0AEMPmAkJgdlBogfnIyFDUVmT376/MZ59V0fPPSz17JuPeLI17741oyJBsPfZYqXr3Lg2g1vajPPTQQ/WXaFRtzj1XLQxAZmeHvwYNaqpBg7jmzy8O/evHGGPWxzSmX355WIFcNm6cYv36BeD5/fdxtW5dQ926RTV5cqHWrl2rBQsW6JNPPtHG99/XIx9/rGiDBip+9FEdPeJYffxxur77bpvq1o0H1tHSt3y9ggZYw5bbb1ynIQ5z4kRl9u+veH6+1k+Zonjr1oGxmTt3bthqp1OnTuFsW/t4owPWC6WPMeANLPrCu4C9kQSggwH2AMQbYxg1ACOfh80XjAjqCAhizsEEMlcBc4BhxrePa8MYYEwDwHiX9uYd5E8qE0p7M+8AcMglxiltRb6kw1yiX2Gofw7AAj49OOR/ymdtl2pEoynsGT+HMaphFO05dgvwIRcsPqEOyDjSrT4K7jehi39xJaoB4C9uut/9i0kG0JQQcX24M611UsEb7J0JOtxUKB3u4SYGoJgi8IDHuzS8G8qDFEvbnvMCE2Bnz7GtDMIWIImQRGlZGbiHoEXZAJAoGy4Xr+h4h9hDz4TCOqIsLB1fLvsNO+PLg2VPzCN1RVGijAAElMe7y2hj3Fa0qdXJgAdKmTR9/BBKjxXHgBiUI4DB8rDyGztMu1oZcMF5dz99HUCkxbg1aKC0++5TxuzZKvzgA8VycxXZe29FqvZLHDo0U2PHZmnevCI1bRoL7t8vv/xSPXr00L6SbpowQZ07dw4A1JiSZs1qhDi9ZcvKwpiwvIk7tXLDKIUxW16umi1bKm3tWpV+/73SGjYM/XLJJfmaNCmiv/99i1q3Tgvs35NPPqmbbrpJoyX1bNJE6c8+q11btNDcueYirqMLLqjQXXcVJ+NbYZ4YdzBBjHH7zV/6jBmqceqpYTV0yaRJKjr88JDnihUrNHnyZJ122mlq0aJFYtPrzMzkBtUenNDuGDAADFg7+hljy4M8P+d8bJk3bmDovMHFewBrD2Cot2f2KCPyg/GFjKDMBvKtL5k3HvhQH8YkwNcbRzBrjHEYNowB+/YxdrC1dp0xDlvHDgZ4KbxXwbOe9CXt78uQurUV7l/KBTAHGOOdsPvEjQJQcdEDXDEIYGo98GWswZ7amDKWvpoB/H3q82oA+Pvs939HrZMMoCl5BBoCC2XCN4LduzxwAbLyDwEJw4bCAMxhYcPe8TxA01u+uEYAlp4dQCB70OQVHoAEwe8VNgwbzBd1oEFRRl4ReAEM6AIAAbjYDBiXINs2oIioh9XRt3WqMkWZw7SgFKgrwNW7tPw92gb3oWc5aF/ioSgrbUu/2TsGyiwNc1PSf/Y8bmCexT2JYk578UXlG+tmitdYDwNjTZqowmLgqhiS229P14gRWXr99XJ16VIaQMHChQsDALR2e+utt9S2bdsA9ozxaNgwTzVrxvXNN8VJcItyBBhnFRYqakDziy+Uffjhih16qEpmzEguGunWLVv/+EdEGzZsCflZvOGYMWM0ceJE2ZKMeoMGacAVVwRlau2566611bVrpd54ozwMDcYFbJwHBfwPI5WxaJFyjzpKaVu3JlzZffuGcmzYsEEvvfRScKl369YtrN5kxbDvTwwfxiBta+MYltrf413KxqpYA/CWPsyu1YO5B2DDwGD+YJRZG7AyFZBNiAFGIgYRQNRvYeTTZ654oYVRhMFjv2HouYdcoGwYT8w1xjggzwNk5g1pebAO8LP3AI4YEZYm7lli+TzbjgHp2ULYZy+PYAX92LH7xDFbvrB7gHLGD4AdIxw5iZFG31tf2jytjgH8d6jDnTONagC4c/bbf0OptzsJBKEIYMCSxS3rWSYTXgh4+x/rHpaOb7tnH0CCKS8WFyDwvXAlTUAngtWehZlC+LGHl49FBMj4eCCAFIASyxnlQflQngA13JtY8tTB6sSzfgHMzykfDy4R+H7jadrH3kXpo0xZsOKBLQoGRU67e4bPysQfcWUoQ/rNfuPS8vVD4WIE+Fgl9mLzCxRgI+w9wIGBnxrt2m03vkveeEMVnTuHa/b+mjUZato0XV26RPXGG6WhvMboGZthrtl99903rD62fp8zJ009etRQnz4VeuSR8uTKTVzB1D0yd66yxo5VvHlzZY4bp4oRI6QhQ5KsULduGfroI9u3ryQAWwNjjz76qO6//37ttddeOvXUU3XuuecGwBuJZKhWrTx17x7VK6/Y1jQJ1699Mw5YiGLtFwDX3LmK7Luv0gsKlNG5syLLl6ty0CCVjRoV3rU6/vDDDwHoNm/eXE2bNg1twckgzDvmhbU3p3t4xc88ZHNlDAjGOeMFoOJBDqyb3cOlbe9b+ZgHGDj85j6xrYAw5pqfXxg7LGhhfNN+Nh6t37zLl2eYd1ZGxr43CL3hQ3ywdzMDkixtKyvgirkKEKT8HlQjGzAYYQQ9Gwq7yHyh3Sk/gI92QZbxm3HjDVq/ejjV0AY40qb0B4YI6dq8sV0cqhnA/waV+p8vQzUA/M+3+W8lx+QqYHMBI+z+J5YIoUg8HgoLtxjBzsSxeKvVGsxiyoxpRHChWLwQ9OwD5YGxQ3AiEH28IsqYsvlnEbyAJhgPgKddBxSiAFAWBHGzxYkHswA1QBmuSRQMoMvyMWXOx9L07leALS4ie95vIeEVPPeI94NxYX9DKzdltfa2ult8J0rQA3e7Z79hHzwrSR04BxngkAR5GRnJNjMGgnN4n3suTaNvz9C674pCdetpva7e43md/811Ss9IuOJwf7VtW0OLF6fp88+LtNdeicB4y9dAj4G/4BqX1Lb+j1pY1ETfzF+vhk1qJN15lB2XdNqsWco74YRkO1f276+IbVJ8002KZWfrT3/K1L33ZuqZZ4rVs2dFcG/PmjUrbDvTsmXL8Gdnqlq+EyZk64orcjR8eEzXXVeaOBrxk0+k/fdXZl5eAHPeCLD+zenVS/F991Xk00+V/umnip54ooqeekrlVafhWH9YHc0FbACQPra+ZC5hbAHADRwCPBkHVNDaydKA3eZdGC0WVAEYAcwYGhg49DVAxjPGsGbcA4hSZjPmrIweFAJkKAdGEADJrjN3YRAZg3x70AbAx0ClDB54MR+Y037+IFOY58xxysnxfMgt5IRneD2Iph6e9aMPKBPsNM/4NrG62X1OQkKuwuKSF+yjvUs7IWMwuKoZwN+KKv7l9agGgL+87X7vbyY3gmYbGISRCUkTUKZkTOAhRLE+iZfzVipWN24M4mxQZpYGCxo86DKBh9WPILdnYagAZ3bNBB6Wvb2DG9fnjYsFhekVD+DWx+PYcz7Am3g/AAbMHfFv5O8VC/WxZy1/0kBpmSIFEOKCQ2nwfCqTgqsPZUta3l2EMkNhsp+YKQxbbGAsl71vrFYAKVVbjcCc0Dco5KD8p0xR1m23KXrRRSo8//zQZ4ALJoxnIq0dvv46oiOPzNLWrbZFRlyN0lYqEi3XcjVSVMZyxYMrtWPHRFyn5TtrVlwnnpgvw8bvvluopk2LQ7vZuEuwTVnq1a1MM/5RW70L/qYnV3UMbUhZaS8ATnz6+8rr+U8AGBTnuHEqv+CCML62bKnQnnvWVNOmlfrssxLZ4idjTyyI3ja9tjlgZwpbfVq2zNWaNRGtX1+orKyIBR+qRseOiu2zj7a+9rYeeLxACxbEQ10PP7xCZx34tfI6dPgn+Dz4YBW/8YYidgpJWVlyJaiBZfszgIubEUPJj32UPmBpzZq43n3XgECm9tuvUp06Jc6d9vGjfrxiJJE2Z1YzDmk7wBQgDXBo/WP/Y6gASjDeYM+Zz75fAEHEuHrwY3U0wAU45T2YZ+QJYBU5AxgjrMIDUgArzJyfZ9TXz2HGPLKAeWx1MjALu+iZPt+2zDXKSht6Bpf299cAyRiX9u3Btzdsk2M6Hk8aaQBqP/4tb2vPahfw71eVVwPA32/f/9qaBwBox36ZAjShAzsGePKCD2GGwEOQcialCWtTbrzjFwl49wcgztJBQSGEATcIV9gyu47A5hnvgrLnsY5h/+w5wCsKA9CFYqDOsHmARQK6vaUdVnXWqBEUry8nYMjHPMHIAW7tm7S45plIXHKelSQ9gCDMhGdyUCa4xamflc/YmcceeyyUtUuXLjrETrSo2g7FnqftaQN7N7AQU6Yo+8wzVX722Sp/8MH/6+QElDas4OLFcR18cLbsJLFBg0p11VVbtOulFyjvrbdUttvuurXfYv1lTI2Q9/vvl6hNm0RfWl0nTJD697cj4qTmzePq2bNMeXkRffRRumbMSFc0mqYj9Z7+NvIDlVx1VbI/LS0DizNn5uiWW7K1YEG6rbUIn121QZfqIQ3rNlvx16coXsXwWt1OOy1Tb76ZqbPOqtD48SXBwNm0aZMaNmyYZFnOOy9Xr7ySqdNOq9Djj5cpKz1dad26Kf7RP9S7ySd6e1WbUC7/ycso1YDoPbpDQ8LlaOfOKjU28qKLlJGfnzxH2ZS1ldvazthwD+YZD6wyNoD4+usluvHGHH31leX3zzwtHvLssys0ZoytOk2UhPg50mGc0E+4MGGamCd237tUcfsDpJiD1Ne7Rz34AqTZN/Fx1s+WnpWFk2kYxwAsyunLwxjD2LI0MdooP+EXXi7RnjaWPXPInINtt9+UDUPS8mB+eLkAOPZGj6WNQQhYhlFHDiFLAHncZ5W47x/Ll/N9fT7ecMR9TltyZrgxy9UA8Neqwp33/WoAuPP23Y4ueZIBNACIQEb4pVqssADEC9l9FgR4UIggB3TBIth7BhZROAhlWEVcyYBFgCTKwPKjDOSHsPRMFiAIAYzygJ3DberLSRkAUigCmAkfiwh7AksJQAO8AaT8imEPsjwDwDuWPqcOeHbOs4UoOtrVu81gUOkPK7el9+yzz4Y95zp27BhW1Vr7myKGYaAdKVNQZosXq+ZBB4VNi4tmzUru/0d/oODojzZtsvXdd2l67bUydelSHlz9keHDtcdjj2nT9der7JprtGBBDR1zTIHq14/r228Tp72g3BYtSg9bwsycma7KSsRZXE2axHTjliG6ZPOdKvv6a0UbN04enSdFdMop2Zoxw1aLxwOo3Cd/tYpmf6mZOkJFyld+XqVmzipRs2aJM26tv0pLbdFJLX3zTboaNIjpkkuKdfrpm1VQUFsPPZShRx7J1o8/pumgg6IBrBq4yr7jDsVuvUPNMpZrdbRecFdfccVW9eixUeXlcT0+LkfPPZGrjdpVx+gtva3jVNm0qSruu0+Vhx+eXGRg9fX76MFoW9mYa8xB+z1+fLZuuCFDRsq2b1+p88+vUK1aBqIjmjgxU1u3RtSsWUyffVau7Oy00J70ifWj5YV7njlgjKd9rL8x3Axk2ceHdngGCzDnGW9YMJ7D4KEuzAHmoF2HpWd+M55Z9GTPskrYnmfOwUoC+IhFBIQxR73hh3HDPMYQBCh70Gj/e8bNC2WuA24B0d7djgxCLlgbU8ZUgEyYjF0HoDIPPPDjPnPOyxhiNxkzxvTvscceVuxakrbuaKVSnf9/tgWqAeB/tr1/S7klYwDNRegPmcf1ZELGBDRnUCJ0EPR+2wbcNQg5BLO3oLHe7R4CG8GHhYxF7Vk4D05hIGAEAZJWJgAVqxdRfKbkcDvxPvnjFoUBAAx6gWxl4dgxKyeuKN7xIJP3EN7evUbauHOsDrQJyjIBVEqTrIldJxbRK1aeZ5Nme8YrLLtv8W3vvPNOWG3avXv3ZKweizdgQkxp0T4R2/OuXj2jJFS0dq3itrdfFVsFkGISfPttmdq0qanu3WN64YXEhs62n9+cK6/UhXPnat6rr2r3Aw4Ie931719LkydnaPr0bWrfPiP0FWDWlGFRUYWWL89RcXGamjaNq+H3Hyv7qKNUeeihKp85MzwL+OzZM663385S27YleuaZTcrPjyn7/fe127nnhqLdder7um7y4cG9PG/eJtWvn9iKyNo2Go3pssuy9dJLFmawvfjMyUkwa2PHVi2K+Ogj5Rx7rNrHPtAn8ba69tpyDR68NfSHMYcWz9f+zTdVa9w4HakZAXxedcgM3fb2gUqr2j+TGEXi9XxYBcw2Cy+s/2wevfVWRL16pat27XgAePXrJ47Bs/a1vqpRWamhJ6/Ww/M76ZBDzJ1eFuYTwNobSoAgYv4wlpg31iaWps1xQAzPsBDFjzsYRs/KAwgBXrBbzIvtDIxodLuzbu0e4Q0ASc+O+XECq2/zxhsR1B15hCz4OWOJ+Wb3SBt3N+nDCvpYT4AqLljS9iydB57eACRUBRkHwMUrgDFNPTy7iZzCyENmkL9t2G4MdjUA/C2p5n+9LtUA8F9vq+ont2+BJAC0IH6sdB8cjiDmNS8oUWwmRHH3+uc8iESxYBGjRCwN4okQxghDvzLRgzL73zNygDAEuo8TtHy99Y/gZSGCvcOKYa8gYQL5TmU4qI+lhwKz//0iFICf5e+3k7DnYBBw88KK2ncCpESTgNzalrYmXtCes7yoB0whAM1W0xqra8rB/izezRYesOkwAIFy4F6Lbdigivx85ffsqfTZs1V8//3KnjhRsffe266fUIKXXmoLJtI1d25h2FvPwM3777+vEaefrv6Saj79dNjcuV69elq3LkMtWxbo+OMr9dJLFdvFRPphWV5SoqzcXGVefbXSH3xQ5XfcoYoBA5J9vmhRXAcdlKPWraOaMmVZKJe1V805c7TXgAEq795d0Vde0cQXIurXL0cnnxzVY49tCwDH+oI+Ki+P6vHH0/Tll5mKxyvVoUOazj7bzqONJlyzhYXK69xZK5dVqomWq2PHSk2bVhRYNXOvf/fdd3ruscf0xIwZyt6yRRVt/qD6Sz9SWTQjnHQCCPEAHwMFYJUaS8t4O/jgPC1dmqbFi0tVs2ZxMqxi1syZavnVV2o+frwy1q1Tt8gMvR/rqq++iqtZs8Qxed4Faf9bnrDrGEYYAIAUxh/58w5AhLFt38xXjlIjLeoGA88c8S5QGEqYQ99GyAYrq2fFSNfeNfYaMAUwQpakzm3kEsbTz5UD4GnPAvpgFr3RibHl2wl55T0CLMAiXdhFQHgqQKdu1B1QTbsQF0oegFBvOFXHAP6+1Xo1APx99/+vqX0AgHbqgwlWBDfMG9avCR8WImChAqpQOKyk86AQoOaViLfaYQUQ5MQ+eYUJsLH8ASuWhndP41Ly7AVMGKwR5UwVyN6a94tLAGKemQFcARRxByHcseZJkzQAiVYW3vXlsfvEb8Ea2re1qbFMVncDbgBK2of2Q6nCwpAebmVAPGwfeXllnFS+M2cq46KLDNUqFqFXLAAAIABJREFUsnp1GFuVbduG/fSsfVlgQ/ufdFKOZsywspYlyztkyBC9+tJLaizp4tGjA/O49957h3fr1MnTgQfGNXNmYnGRB7f0f2TQIEWGDlWmbSXz448qXrRI6Y0ahbJYm/TpU1PvvJOuDz/cory8lWHrGBvDH910k25atEjfv/qq6h9ySGivAw6oqZ9+iujHH4uUmWku5sqg6D1TZdf89WBcVFYqp18/pU+apFPrz9TkdV00Z06pWrWqCAtrLLZy1KhR6idpfFaWtl53naIDBuiue+vqjjuy9fDDJTr77AQj59k4a3v7wxUMW+7H1pIllWrTpkDdulVq6tTi5Oro7157TWWXXKLuVTO+olcvfXv5WLU6pomOPTamKVPKtmOTMSQM8NK/zEXADcDGs/HMGcYb4JF28+3FnMRAI37Qs3qMdVhEe9/qzybpyATYQrwDlB+mkraizMggQJPlw+bgyAT7RiZhIHqm1O5bOh4002ewoBibzBfSATTyPLIFFhF5Sj3IKxgX6YmxCIi2PqIdaDsrk/1vc8T6jfmCZwU5Yy7gagbw16jBnfvdagC4c/ffjix9MgbQAAagyRcIIWsCyEAi7lPADNuveNcHAAThi4AliNnuI7wQ5vwGLMEAoGA8c8K2GN7yt/d8bJpXTAhWABG77idZrypXpJUXNhCQBMOG8iOAmzIAHGgX7+Kx/32wOGf4snIS4Y4iAahZ3RHytiee/bYy2wpFK7P9edDoFb0H27S7V5Se8YP9YfuXAPwt6K17d2XOnp0cBpW9ein6wgtJkMQNK3/v3hmaNs1ciBUqLy8Oe/jZRsfDhg0Lj02fPj3sd2dlT0/PVN26NdWxY1zvvPPPuDNrc89EZXXpIi1frsj69Yp26qSKRx9VPBpVZZMmIc099shXfn5cX3+9VcuWLQtA4umnn9bKBx/UrpJOmDRJ7dq1C202enSO7r67lqZOLdIxxyROisB9aGPXlKeVLbmy+29/U9rxxyvy7LPKvvhixRs0UIsay7RiTaY2bCgJednZwX/+85/10Ucf6a8WdjBggI66+GI1atRIpaUZ2nPPWjrvvKjGjy9PLlyyctPPfpEHK4QB7/aMbVUzZEiGXn65VF27lii6ebPSRo1S7ccfV0Yspg277KL4Pfcos2fPAA4aN84Nq5FXrEhsLwLgY874eQF4AYwAmtg2JQD+ysowxgBeGDY+VMIzU/aO/w1QsTxsbGFAMvaIwSWPVBcqv1ONDYAWc45xCKCDnfOuXeY438xHD3wBX4AsgC+Aju126EP60YNm5BdlAeABfpGFGJTIBgxrKzMGJV4LACT1xcviAaXVxxjp3Xff3YpXHQO4I7XpDsq7GgDuoIb/DWS73TYwJuhNIBHfZvXD+kToAEZgBxH8CFi777eG8CvXsKTtWTZvRiD7FXuAQOL2UEQmCGFPsMYpl2cZYDsAtLitcQV5lxBuasrBCQoIasAjwthb+ShKygvggkH1bCh1pg0AwbAttDNls7RMsNtv+zY3rgV628pR2tozigBg+szetw8AI1VZpYJ9qzfgcs0rszW8zwpN1h9VrLzABtaqnRZAzdChZggkWC3L47HHMjRwYJZuvrlc11xTmtzI+dNPPw3bqrC3noGHp5/O1KBBebrxxnL96U+JTZVpX0CvpVmrSxelf/11cnrFc3NVPGuWstq0CXnWqpWl5s0rNWdOkWwFu/WDbeY8efx4bc7M1KuvvRbytfRfey1fl11WS+PHF8nCA71SJe+k8i4vV/5++6nszjuVfcUVSissVMkrr6j1NSdo7dqI1q4tCuyfjZU+ffpo3uefhxXGQ4cO1VFHHaX9999fsViGdt+9js46K6qHHirdjv2zssOmMbbpJ0IBzMi66aZKjRqVpQ/mlqvN9y8q64YblL56tUok3Sap8T336MRTTw1byVjZ9947Q6WlaVq9OrE6HWPF0mZ8MYfod0AMbBOsFAAZsOEXKjDGvLFn7zN3YLSMhWOxF0Ya8538MJRgE2FJbRwwx5nTnrEDHDGPYMwBmbQnc5JxavXBALN06QcPhIkpxoiye/Y/bca8w61ubnzy9zIFQMx2Nxh2yCqALL9J166TH1twMQlgTwHo9K2VzcIRqjeC/g1o419YhWoA+Asbrvo1BQBopxPY8VeAIdgsEy4oDhOOJtBwAxpg8IweihUlh4VtbWyCzt6zdFNXFHo3CnlYWgAiwCRpwJSg5AAuCGuEK4AH9gtWAdCB0AXEedc2SsO7Vr37E+Vi3yhID2RQYqxohDmhbLh2vCWf6jKzMsA+Gsj5/PPPwx51dkKGxWuirCwN+2MBD8CS+tBeVk72nUNpwXTQN6Z8nnwyU9dckzh3dzf9qFb6StEmTTVvYxNt22aKM64pU0p15JHxqtXclapfP0+5uXGtXGlnEFeGcWKf2B13KMPOub3qKsUzs9WyZZ7Wr0/TunXblJ2dcIEl4vHievjhuB54IFsbNqQpfctGNYt9qzt0gw7XbJWPG6e0Sy9NnqbRqJHt2RfT/PlbkhtHL1q0SA899JA6dOigs846K7B6Bpzvu6VCtz+6l1694jV1va1rGM8ofw8SQozme+8p/7TTkmIhetVVqhg1Sj16ZGrWrHQtXrxVeXnFoRxWxzdsn79IRMcdd1wYrxZzOWVKgS69NFsjRkR11VUG2RIxovQ1QA+WzI+lyg8/VLxtW73wQoYuuihHo/d5UDcsviyksfnww/Vi587avWNHHXDAAaEvLb+KikrVq5cXFoksXpw4TYY560MivFuS8c19mGh7F/CD8YKr2OpndWbeYGQxvwB4PO/zY455tt8bT4BP4tvoAP8ehiZyJoyvqv1JmaeAP357Ng45RP2Yb8xbZB39gTHsY56RIfYMcgfgSh14z7OEyD3vLQBEY6Axb+09a2MMUB/zyzgC1FPP6qPgft+avBoA/r77/9fUPgDAlStXBgsSt6dfFOFdFQhLBDnuJoQWVr0JQRNO9o17DYEHY4ASQtjBrHkm0fJDQNp1D7YQ1L4sJiwR7LBZnqlEQaCkeJdFAd4N51k2ngcoUVaUhqXDIg/cyDwD6KP8LCbxLmNLl8B6FBx5WjqmeBcsWBDi3Pbbb78ABM1lj4JEWadXVEgPPKCsJUtUOm5cAB1Wf0uLfqDdUI7eRfX882nq1y9bBQXSkzd+oN5/6hTG1qZ77lHs7LP18ss5GjDAwgBs4+YitW1rGyGn6+abM3TnnVlq3Tqm2bPN5VcRyla7eXOlbdumLet+1Ak9CzR3brr69i3XffdVJMfs9OlpOuMMO/LMNvWOa7fd4oqv/VHr4rsprjQ1yV2vd+ZlqcHuth1KQtSdfHKu3nsvos8+26YmTRLb3dhnyZIlwZCp2hMtlK31HhVaW1RTGwaPUGTokKo0Irr3Xun++7O1Zo1tn2IhCVKnXRbonvVn6kB9FdKrtI2fjzxSM7sM1tE98nXaaWV69NHyADxspbO5j829beDE+t/65MADc/TDDwZyCwNYTij/HD3ySLruuScjAGD71K0b0+WXV2rgQHO5VijjhReU+fDDKpw6VTl3jVXBmOGqr7Va2qSrCkeNUmWPHiE/Y4Ysf07ueeqpTF1+uTGwlbrhhrKkYWD9y+r9VFAWXLFbt0p5eUlGNHXuApSRCdb2bBcDEMHwgPGGlQIo+TFG3zE/YfAY+/YbkMccgpnluo9xBXhZW8Ka+QUSlJsyALwZ7zBqyAT7DYtHe5EubYOLFpc6c4vfzC3AIHVjzsMkAtABcrRb6tz3ZbI0TUYQO4pBbO9Wu4B/jQrc+d+tBoA7fx/uqBpsdxawdwt5IWeCC5Bngsi7MbGsEWJY2LiSPNvi3cgIMO/69el6ZQIzSVwcgta7Z+xdE7j2jAlJe4dVxCgdD6pS2QXLz7OFMBiwVCgSgCtlACwDjmEHYAxpN+6jmGADYOPYgsWeAwzCzFgeBv5syxFzq+65554B3HhFElYEb9yovAMPVNq6dSqdM0cx28uvyiVo6XKWL/W0a979VKdOhqJRaf78rYpG16jeZZepzvvva+VTTyn7uOMCWzdvntStW4GaNIlr4cKK5NY4F16YqxdfNOZWOuGECp1+cpHyzz9Hk3L76sX4qcFF2b17RThXl3EwZ06mjjvOVjhLN95Yof79t2rbtk1qdtBB2lico4E5j+j50lNUs6b05ZdbVbduRnh33jw7UaRAbdvGNH16cfIMYsYSCve1Z4t09mX11SvyqiYsaaOMBg20ZElUnTvX0ObNxgTGdcghleGUku+XSEt/SMRWnq8n9aQuVKxDB5U8+aTSGjVS06Y5Aby9+mqpjjiiMriCGZesTB09Oku33pqpo4+O6tVXE0faLViQox49clRUlGBPbW9DRSu0bGWWKqKRwJy+Pmy2ut10ZABksvOPly3TKWkva2q8l0aNKNLAaxKrq22MW/1xm5aUZGv//e20Humnn0pCO9ozAAvPWrP5dMy2dLrlFum991Q2c6bMnw8wgZ33LD7jk7hJtrAhbo77lhdGjn1jHKUykswjjCnGpY1x5AzsvzeirM72gREjf8+0eQPOzztkQepOBcgP5hmAjvlh1zGuqCcgDZBn94kRhJFjrtOOGMqwet4A9cakN8aoF6AUV7W9S9vSJnaSjcmE6hjAHaVGd2y+1QBwx7b/zpx7AICmzIwhSnUNeVclbBluI++KQbClWrCpsS2APgCZZwU9M0gcIkwD4M4rD4Qq7IuVj2v2HMIXgGr37BqLVqysfhsLXyYULCwDMT9WHz7ECtozbP3glZ7VDUYCpY2At3Q4msvSg4Xw6VsdfFyRPWPlMGvf0gPk+A1n7f3M++9X+nXXqfKEE1QycaLSy8pkMXRWTvKirvbb2s/emzChUn37Zunaays0bFixvv32W81+6CENeuwxPTV4sA4566zQdsY+nnVWbb37bkY4w7d5cyWPl3v44XTdfntEq1f7UyviqlcvrkGDoho4MLFdC+OgUaMCmbd4zpxCNWyYcOcWbtumlgceGMq68aWXNGHF8brqqmwdfnhML7+8JbkavVevXE2fnl61/2CZsrISrk/qOHFirvpfGlFWvEzf9rlRBeNv1rZtmeGINwNj119fquuus5CGyhC3mPH660q7+m4dpze1UAfoghazdd8HrcJZwtaPS5dmqn37GgEg9+kT1YgRxcEdbG7YBQsiuuaaDM2enR42up4/32LgDEjH1bVrQWAY//SnsnBKStnbb6jBwIGKl1Xo1gu+0G3jmyheGdMH6qhD9Wkof8Uxx2jjLaO1/wkHatOmNPXpU6G77qpUfn6CWbfPtGn56t8/XUbkjR1bossuS+yrSJ8aa2ztTOxbYLxWrlTmOeeEc4rjtWqp/PXXFf3DH5LH69m7GAyAQsAc4BoWzM83QB7yw8sGSxOPAIvIMLYsbYBVKvgLLGXV6mzPxnsjFSORcmMQcd2Hedg1jFcWcAF4AcoYfcxxWHrkgM0VgDRjGPmC8Wm/qT9uc8qMkefjcsmbdqD9CfFA5gEqfTwzngtOsqkGgDuzKv7lZa8GgL+87X7vbyYBoAkr3CQmdLCwUTipwhWBag1o79rH75+FwkCQo5ywrlEWWMAwjuSHy8iDPpQbgBNha3lw3BSAyCsHrGZLGwaOjgcQkj/Azb6xuikzbm32UoNpSY1Pgl00ZiAoXjtKrCoOjHcAhfymfVOte0Ay7Y0ChtWwuqPIQl7l5crcf3+lrVmj8jlzFLn7bpWMGaP0evWSAN+zGrjrjj46Vx98IK1fX6T8/IzgTrV4uvGFhWE/v9dnzAiuVdvPb9GiNHXqVCe4c8ePT+yfBui2Y9M++rRcn720Wulj79HBnbK0/xvDQxlhTawuL7+cpnPPraEBA0p1660lYfsOi0W9e9QoTZ42TUvPPluR224LhkmnTrX13XfpWrnS9jZMHCFnJ4EYszZnTkSRSFwdOsTDGblbtqTp3XcNGKWphor1gdprrw8flfbfX+edlxOOeBs3rkh9+yqAaWNV7dNk8GDVmzFD0dw87VewWt+vL9D335do112j4b6V/5tvYjruuFytXZsYPUbYGbirCnlUmzYx/e1vJcrPT7gTDzqoQMuWpemtt4p0QMvNyn38ce0yYoTSKiu16Y9/VFG/flrbZ7Q6bH1X9bVOq7Sn4rYH5NChKrniCm0qylaXLnlascLOyo6rcWOblwoAu7DQ4nPjuvvuCl1yScI4wGUKCAYAhS2aZs5UVr9+imzerGibNip75hmlNWuWXKEL8PDzJtUg9ADT6gdAYs4ZOGJ7F7vGGPfuSow52DcYdPIFCHnwBrOGrIBBwzBj7li9kTfID9IlDcqEQetX1toYxBUNoCMvS5s0AWMwnsxv2tDH7SFT/Tz3DKNn9uw9aw/ytudw+dJubCPlvRnVAPD3rcarAeDvu/9/Te23OwsYxs+7JXDXGSCERbP7uHa9wEUoERtk34ANLGWENcHSWOO4jkkDdzDsGml5t40HaAh62C3v7oF5w5IH4FreKAYUKGCRb9KFXQTs4OL2ljuAlHbkXYLnYQAAjIA9gDMdyXss3ICZsHQs9gtm0LvEcQkHkPXAA8q+/nrFGjYMe/mVTpumeNeuSeXomUUrv/XRQQela+nSSFigYQrF0h48eLA+mjxZKyUNHz5cJ510UogVNTd0zZr5OvHEmCZPToBqGJzskhKlXXhhOAs3Z8gQRS++WOUXX5xg/Vq2TLI6Rx6Zp88+i2jVKnM3bw0AcOTIkXr7uef0mqQn+vbVJZdfrn322UevH3qnzlk8UsP/XKyrBydCEBhjr7+eo5Ej0/XNN8b+mSiMB5fx+Yd+pVHvdVDOMZ1VMXVqWGhSp06udtstpnnzNga3nR1ZZ206++23NWD4cMUaN1b5889r9o/NdNJJddW7d7mefjrBLAJwTSHPmFGhESMytWqVMagRtWwZ16hRFWrc+J/nVS9caO7lXB13XEwvPLVRuvxyFbz4oiojEV0ei6nhxRdr8GuvKXvtWp2uiXpRp+tjtdMhh8RV3rmzKo2pa9Uq9M2bb0Z1881ZWrLETsxQiNG0eMQRI2weViTBNeOcuRkYq8JCZd96q3LvuScMr6LzzlPhiBGq07BhEsAxbpkLMHS4QD3AtzTJB0MHI4I57DdDZ1x4EIdRh1EEg+gFGXkiNzAemAsYRt4lyryjPngrLC1OOgG0IuMAgp4h/Dmj1I8Bys1CEG+YAsKRC9YWnCDk29HKYTKKtgNUegPZgz3KhzxG7tp39T6Av0YF7vzvVgPAnb8Pd1QNkhtBs8ecd+divSKUUIKevQKkmMDjMPNUgOHZPuLbvPsXAYlbEwXhXTap7lHcKjScZz8AWJ4JgVn0C0kAobB/li+rGT0wtPLTFjATqXE9gDmv3Ox/yw+3JwCUbyuf3WcTbtx2KAXcxLQ/ihk2zdKxD2C0oqRE2TfcoMiCBcowOq/qU3L7HdpwVn/tsou5exMXUST2v9X1iCNyNW9eRBs2bFNJSVFI01YfGwtonzvvvDNsdWLgLz29vpo0ydWZZ0b16KP/XNCBUsu0LVi+/z68F7cTZsrKVPLNN0rbffcAHqzObdrka+PGNK1cWRjcal999ZWOPPLIsI9fgaQzBg9W3759VbB+vXbpeqzyVKLzzq3Qgw8lTrYA/NMGltf69aWqN/pmxW64Rjk9eyoyf75KXntN0a5d9dZb6Tr99Br6859LddVVhSGm8sYbb9Qrr7yiMyT1NPbo0Ud1SNeuAWS3bLlbYPeWLy9OLiwiT4wL7/oEbNBHF1yQpRdfzNBn05ao1Z/PUOZnn6mkoEDHbNum+ZI+zc1V85ISVbRsqVXtTtHeT47UCceUatLLiRgvy4uFRTBrsG4wTp41xmhge5nw/tKlyurbV1kffKBoTo7mnn++Sk45Ra1btw6ufL9oArABsGZBlQeDvq29wGL8MScxsDAYcXNSfkIvLA+bT96tjGzB9WxtDGtPGyOHPKCy8vDbs+bMcerq3/GMpj1n6ZocBGR6YIp8sXeIMwZMAkJhBC0P5qj9jzxMLQNlpoy+Xl7mwCwiz6x+yGmTSwYAq/cB3FEqdMfnWw0Ad3wf7KwlSAJA21oEAebddbA7CF/POtnz7BnoQSFbtwAuAE2wAamC2vLwljzWrn8Pi9ry8XkRPG55oaBwiaJEvNWPAAdQ4tZBadAG3mUEyCI9yoeihh1AYaBY7LqBOo79QtDTLtZOKHGAINvrIPRpd6sn6dr7MLKUiX6yOK+s7t0VWbVKL+h03aJb9I1aJNmxWrUU9vMzIFRQkNiex9K9884MjRiRq7EX/kP9rkxX5d57B0Voe4yxytaUje09N3Bgvp59NlPTppXpiCMSbjcbB2x7k33OOcqYOjU5J8pOPlnRCROSC4ksvXbtagVX5urVW0MM3scff6y77rpLc+fODe9NmzZNzZo1U/3nn1fhzeO1h9bokkuiuuOOxB5z1l/WZlZ+zzJnt2+viLnev/9esVatVPrhh4rF43riiaywX+GECYU64ogtWrx4sbp16xbystb5Rgpg0LZYMXDUrl2eVq7M0MaNZcn0MR7sGwBtgIH2sXbMtRXBlZU6/vhszZmdoYrdGoQNrUtbt1bndev0j/XrA+A8sVcv7XfJJdq1RYvAqtapk68//CGmGTMS+zFiSNDnABAY8tgTTyj9oINU0bp1qANjEUOn4q23VHDppYps2KCtjRrpj/G4Gh9zjAYMGBD2k8TosHe9QeGZbw9ELX8MKx+G4MvpY+qY64BVmDZ7Hnbfyso4Zh5iWPG8lS+1PZhvXMcVTBoMPG/YeXBK35EOzzPXaEOfr6WNgYMR+3NCH9nmDUTyQT4hP3woCYanN84wnL13grLjErYy2fypBoA7qwr+9eWuBoC/vg13RAp7SBot6ThJNSR9J+kCIweqCmP9OtxO05JUW9IcSbYp2GJX2BwpHEbQxzCBpLclDZC07l+sUBIAckYs7BMsCwINhssEjgmr1FNBAIawWzAS3sWCZYxgxupmhSGK1AQvbIsHX4AzSxPhafcBMShJhLV92zUveC1dYn0oo9XJADArLb3igN1AyaAwscDJy7ubUIq4V01hwH6gpCw9Y9NgP60MAEVWcqK0cG2hnKmXvw4ICGB30WId275Mc6PtFVFUHfO+ULM/ttSWLemaMSMzER9XI6733y/WvvsmjpuKx9O1W50c1Y79pB+uH6v4zX9OLgiAEUkAQltIUUsFBXH98EPJdpsOL1smDR6cqXenxVRWEVFEMe2lH3Td1cU6b1SL5JY01icXXJCpSZMy9NprP6lLl8zANlo7hQUZGRnhaKuw6OS003Tl7LP1kPpr8uRCHXdc4pxk2sAzIdGKCuXtsUfYesY+sd13Dyd5VIwdqxeWHqq+fXM1enSxLrigKADbv/zlL2EvPwN9l156qTp27Bj6wD6tWtUOi0XWrSsL+SVjuT75RHGLQezQIRk+AFCoXL5c2QZ0hw5Vr4PX6O2vm6hCGYr1OV0bbr1Vt4werUceeSSkbyekGBAzsBmPp6levV3UqZOdNZwAgDYubI4xHxl/IRTigQeUM3iw4vXrq2T+/BCMiFFUvG2b8u+9V9l/+YvS4nFt7d1bY/baS58vWqTDDz9cxxxzjBo3bpxcKR/aqWqDauYR4597jFnAJ65fjC+MJ8YgQNnGv58ngDn7BmRZmvQn+2V6jwFpkAfGoj2LAcDzGIeWnj9tx/KDtfMr7GHoiWEmHZ8/ZaV9Aa+pdbM2xKikzmy9xPjhHcau9bGl641f5J6Xux4oWxqwtch4C2Vo0KCB/aw+CeRfVHy/pceqAeDO15u7SPpc0gw7SlTSj5L2sa3Mqv6sRoMl/SnsSiEtlTRSkpn7LW0f0qoq27snSOprq3kl3WfyXFJiA7f//ZPcBsaYHQQ/26d4653VtgBBBJeP7UHQmpAi3g2BBdhDSHs2C2Vgghh3CcIShgCghxLyIAAgxz1Lw296bIqKfL1CxTUFULP3eJc28HXCPWZlgjUBpHnhj9vMx0nCPJrQt3xNgdkHIOvb2jOkuJBoR+phaQNYAamA0KOPjmjWrAz1yHhHL0dPVFZuutYuWqR8o/8kTZiQrSuvzAoLCr7+uiTsvWdp3Hplof46YQ/tl71U07+vq4KCf4oWa++1a9PVpUu+fvopTQ89VKJzzkm4n61MN9yQqfHjE4uBGtYp1d4b/6Ei5Wm+WqtSGWGj4jlzitWwYWIbk1WromrRopbatInq/feLwnsoZBRk+rZtytl7P9WJ/6TsXXL1ww+FQcnafRimCRPSdccdmYFNjFXGVbN8g87V0xqpYaqh0rCRc+yaa1RYGFW9ejXUvHlMH364NbSd7X9pwNNOVzGwZaDTDAHzXv/hDwU68kg7izexkCcYEcuXa/1hZ+iWzVfr+z/0UmbtGuraNR5WN6dHpNxTTlHaxo2KHXywHnssov56WMOOmqkbX22ndevXa+HChfrwww8DAOvatWtyb8YJE+po6NACjRhRpuuvT+wdCODBmIARTh8zRjnDhyuelaVS26KmVy9FJk5U+emnK33jRmXbQo9331U8J0dlf/2rVhx9tL755ptwRJ/FU9o+krZymTnjwY71MeMQoOMNINhqjB5Lgzg2z3ozfj07a9eIdfWMLeDHriXrWLXVDeALYGpp2HxhzmFUeabfM49e/FndCClhnlh9YO1hJlmhiwEMYKQupAmrh7xAxvAcc5N0PeClzt6T4d3JVh9fDgA484K06ENbzGSLs6oB4P+u8H6LT1QDwJ2vV2+vAmld/oeiW5+urmL37qx6xrS3MXsG9iZWTXYDjmdJeqnqGfNmLZTUUdKH/0KzJFcBc6wRQte+sWoRwCgFrHYv/L1r1gtJFAPgzO6hwO2aCTMYBd4zAYilT7yLCX7PTpIOFjP5oHy4b98Ia1gVlATvoHABuZ79tGdhXwB9pEke1ANWAlA4XHTGAAAgAElEQVTnmRJ/JB4KgHRQQgTYAyBJH3cSCpJ+8UoK19B33+Xr4IOljh1jenvk+6px0klKLy7W11Onqn7nzmHlq4H9l1/O1AUX5OqUUyr19NNV9kQ8roENXtcTxX3s9De1axdTly7mnk/Xm2+maeHC9NBFt94a1bXXJhZ/WF/dcENE992XpUaN4powYata1l2tugccEJ7dOOJ2/WnlID38cLYMf3799TZZWKCV/eST8zVzZrrOO69C48YlzozdbouOCS+p/YDDtFj76rbbbKuTsuQ5t3bqRdeuedq82eLl4tpnn5gyK0r0w5JKbVMtpSuqBzo9obPfOlNRY0XjcfXqVaBZsyL6299K1bZtaehXc9HDPNkcsHY89tga+vDDdH38cbH23z8xRpct2Ko+3cq1sLxpqFckTYrZOXBK7O93ftv5euSDNskpF61dRwXF65RTIxJOEKmsLNPq1auTLJExf4lxElOrVruEfQk3bSoNq339+DMgUFycoXvGRrTmzQXK/+pDnZ75stpNulIVRx6prPvvV9Yzz6jsnnuU3bdvWPQTa9ZMZc8+q8oDDggLeuwYQZsDtmm1tS/GmY1tgCZMvWekMPY4K5o5zLyBiYJhB9DQCABEgB/3PYDx7KGfT/Y/zJlnyDyQ8nLDu479IisANDIAWQbQZRUygI12wJsA8wsIA3zymxhoS9fmFnOY/Dwz6EE3ci8wulXg13tGMPDwTvAucjFplNgc27gxsMnVAPBf0Hi/wUeqAeDO16l20Km5a233zq6SVkl6QFLCPySZljE28A+S5rnqzaz6PUjSkZLek2Rs4mb3zDJJYyXd/S80SwCAS5cuDVt8AHawWj3Q8KAJJYGwtHxw23r3BgDHhBUWLu/AupnQxNWFUMNdw9mdpOPBHWnaNVzI5AGgMgVr7l5cdCgkD7C8mxaGA1bL8rU02YrB3gPkeavcK7rUd2AbiBuz+wSDw2BYe8IIotR8Gb2iI0bQ0rH3fDtYXj16ZAT2b9GictWuvUWLH31UbYcN05mxmNrccos6deqkJk2ahBMzWrWqFY5e+/FH2/rF9riLKv2qqzRt/DLd2PBJzV9dtyp20EB0XO3bx/SXv1To0ENjAVBZ/qtWlWqffWpp993j+vzzzSopsUUkJdqrc2cZg7fm00+VU7++nngiT0OG1NApp1To6acTMXTl5TG1a5erb7+NaJddYjr//AqdcEKZysrS9NhjOXrjFak8lqELui7W/dMaheFs7fjjjxlq3bqGrS3RwIGlGjbMXMIVynz1VRVccIFeUm9dkP6MCitz9eijJTrrrET81vffR8LKXAO3L75YqsMO+6fCThglmTrrrAy9/nqmOnWK6u23E5sTf/dthdofkqPSWJa61fyHBk+or6YtzFWbpYkT62jc3dla82OWjtR7ek9HhXKWXnWVbkobqTF356lly5jmzi1XScmWZOhEAvxJRxyRpc8+S9eAAeW69dbENiSA+Q0bIurTJ1uffGJuQi/m46pbN67hFy7RZXcfYEjJOihsL1PZu7dK7Oi8KrYXowGmCnBJW9rcYFEGbLu9wyIQ5iChFPZ+tLRUmbaNTN++ilbtNcg7ACRCQjwo9IAO5hEwyXZMGIfMecrPOPdgE3ll3yyYASghr2Arec8zcsxhDEtCTHx8HSwhstTHL8JkUg5cyQBZZB1t45k/PAy0V1ixXWoGQEKeUV76yfqIOEEAtT1r/WrvVZ8F/C9ou9/oI9UAcOfrWFy4d0l6UdKhkmyfBtty7SlJh1XF/DWUtMZVb1LY50IhjtyYvyeqYv98C3xc5Vo2F3Lqx+IE7Y+PLbhcacyEXxUIoMMqRggj2LBUEV4IXxIlBgeh7d8DZFmagC/cJwg0BKm3tu1Z9tXzzAWAi2sIY8pi76FQAbQoGax3u+6Bl73LogpiibzF7Rk8lAguaRSQ/faB+7CaKA1ANBa9HeeQuWqVIgcckNgHbNs2ZdlmveXlIR1Wd3pFi5IARFu569bN1q67xoNr1+LcbPXuV3/9qw6W9BcpLLQ44ogj1KhRI915Zy2NHp2pN98sUZcuif7ImjFDGSeeqMpjj9X6J17QkiW26XSamjVLC/sDwsBQ7/79M/XUUxG9+mqRDjkksaDDXI6RU06RbZfX5sMPVadOnTC+DjigdtjYePNm27rETh2xFb0G4iJ67jmLzdwe5OyRtkY3pY3QuauHbwdoDDR9+mmGnnqqRMccszUwZiHEYMwYNbnvPkVbttRXD07WYcfuF1byrlq1JeRn9Zs+vVK9e+fLTs1r0CCunj2jYYPlhQuzw/FyFRVpOvjgmP7+dwOpCfa3Wb1KrS/O14t1+6vje1doRUlJULrmOrZ9D/c693yd8PloTVd3DdNwjdAtijVqpNJrr9VFHw3Q88/bAgrpqKPKZUcNG8s3dWq6pk2z4w2lnj0r9Nxz5ckTHqz/ly41cJwX9hhsvctyjdx0pY7O/0BL7p+k298+TJMn2/Fzabped+gODQnDPXrddSq3Uz6qTu4BBOGWBMwwfglbYGxiYHGfWDbvKk2fN0+5V16pyJdfKjpsmKI33pgEK8gBny9p4i1gnqQCPPvt56nfKJ254t3igCu/Ot8bpB5YkicMP2w88snPKf63OWWMsAeSjDMrB+Ed1INvLxvwLAC6YRspD21jz2HEIvMsPe95MabaM7f2rsX+WRmtrBa+UM0A7nxA4N9R4moA+O9oxf9sGuVViz0M6PG5twoImvv2/xUAvEXSzalVtXNNbUECrky7j9DyrBiuTdxIgAAAonfz4h5EoPlv3MWUw94LR5mVlgbmgfgXAA7MAUANMAZTZ795J8EsJZQpQhR3D0oBsAhjSD5Y955NQFhTLja99UAT9xPMY2rcFPW0d2ACLU/YvACYBw5U5gsvKHrXXao8/3xlXH21oldeqfJGjQJD47cEYbscWFdLhzrWqmXHg8U0c2ZhAGsvvfRSWOBgEULrLeB0/Piw2MHcgc8/n6VLL83WU0+V6bTTEkHsxZs2qWazZoaAVbpihdInTVKsX79kXJo9A1NhdWjc2JisuFasKA5bqxgAjHXrpv03bw7BqSNnzw7shCmo22/P1m23ZWrKlHL17PnPPkMRT51aqfnzLc4rTd0LPtFhV3dV7OijVTxlSjIOb+PGqPbcM0+tWlksX1mIbbO6z5w5U3uNGaMOa9boh4kTldmsmR5+eDfdfnu+7rmnRBddFE8ekWYMoi1WefVVKwPiMx5c2NddF1X//gnm18r1t2ve0kkP9NKFGU9p9Ht7q7BxY02ZMiXsWXj22WfrisJCtXjqqRB4W1ublZ4R0arn3pJ69FAkMzP09zPPZGr06GytWLH9CSkNG8Z1/fXluuyyRBlghYy1bt26Xoi1fKrDOJ37wSBV7rKLNtqK6H33DfO09vW36KApt2qFGukl/VF/1MuK23nZI0aEcZOekTgZxMYibBvsEoYQ15lHzDOYMOasPVe0fr3yRo9WzkMPKc0MpkMOUdHYsco4+OAwd5lzfs4Sh+tZPBjBVAMJw4m54uUF6cPGM2951n4zJ+x/yxfDCibS6o4nALlgZQWwwQL6exiBgFMvN3neyxbL28oNwLT8cO8iezyzz6ppWErahrAWjFfGon3zP31ov20bmOqj4P6zCvy/KbdqAPjf1Bv/WlnMTfuOpIvc47bCd6gkC+b4f+UC/lkG0ACgBb9j6WONBlal6uxJBChuS4QcVnmqpQzLhqC3enrA5kERcToIwlRXDM8CFFAWlp5fweddOVjPAFiCwK28sHowIwBX3rHv7fZTM1+j244C96eVg3gjwB/g1LMhAD+ENowGAt1WlWbfcYeyb789rNysOO00pX/xheJ5eSqfPl2ff52tG26wo9dsAYXtMSZ17hzV6NEV2mefxEpLAG+DBnmqU0f65JP14dpyW7iwfn1YfWrAbejQoWrevHlwRY4cma0xY7L0zjtlOuywSqVt2KDKnBzlXHyxMl59VZWdOilt6VIV2R5+VfFisCwYA7vumq2GDWP69NPCAP6mTp2q9gMHqp2kxpKG3H+/zjjjjADS3nknK+zFd/fd5erfP8HaWbq+Xy1eMZaXp8xrr1XOI4+o/K67VFoFQO3Zu+/O14gRGZo4sVxHH10YXPy2hcypp56qFyzw9fDD1ebCC7XXXnupXr2Gat26eQDEc+YUbXfkmY2b4uJSLV9ux+tlqHFjaZddEvFYzIP0v/9dnY6ppU/VVsufeFXx7oeE/GxDbNtGxg6s+8xWcdapo+j552vQqiF6+Pld9fLLxTrhhAT4AxBVbtmild0u0ZyO1yjavoPatq3U/vsnTlCxD/PH/p8yJaLzz6+hAU1f1/3f91R0t9303pAh+i47O2z30W7RIu15443aqnzV0SY1TftBX/cbrfIzz1Rahw5h25tUdslYIvb6ZKzSlwAj4s5418pv4CJz+nQ1GD5cmStXhjEZveUWxQYMUKyq75i3fh7ZNQwhqxOMGWkzXr0RyLzAoGOe2TMw9Cz4oG1T64CLF3cpIBjWDpAGyEKWACqtnDD3nqlLjon09OR2TADPBJP9zxNxPOBOdf8CBDGyPWCmHVnoYs+w0pprGOne+LYxWc0A/muK97f4VDUA3Pl69TlJFtTkF4FYzF77KvaPRSC2AMS2ebGPxesZiZO6CORMSZOrntmvakuz/1+LQGw1pLmzTDgR74bCBwQCrrzQA/wAAhGSvAuIwpWEy8mDQgCaF2z+eQQ0IAHBB0OJMsNKx+I3kOcD/LGm7ZqVG4WCIEYJk47d9zFL3Ld0KB/XUEr2bW5qykiZYRp8DBDMDG0Y3EMffKDMvn2VVnXWWFQRdW2wSHPXNgvdu+eelapZM65Nm9K1Zk1i2vfuXalnnvkn43niiZnhjNwvvijS3nvHQ4C4pW0AwNosuC2zsgLj26JFTW3aJK1bZ6trI8r44QdltbchKKUVJVbm2lYq2xYuTK72BOAyLho2zA1Hoi1cuC2095w5c7T/xRfrgM2bdWBuru598021bNkyKNVnn83TwIHZeuKJMp1zTmIzW9xyLDRIHzRIkT/+UdmXX67I8uUqXbRIsT33TLrDBg3K0RNP2CkchYpECkN7235+y5Ytky07+T43V3/9618DADSWs337fVQzp1xff7hW8bDlSmIFNmcq+74K/bNpkzJsReV33ym7a1c13PiVKvNrasnqWABDX3zxhXr27KnMKpd649NP1z7XXac69etr9erd1LFjroYMKddNNyXGj7VXMKgGDFDWY4+pskcPbXvuucDQ2T3PEGGYtD80V998k6ZtylPOHrvq/WHDdMmYMeF4vuaSFtixjdGoyrp21Ynrn9F7Cxrqm2/K1LRpYpGOP5ua8c14B5DYnLVxQfmY3xgr9lyFLVq5/nrVfuONRLrdu6v87ruVtc8+ySPkMD4Y46kxf1wHAMKYAXZSXcPMC07QYH5gbHnDzssfABigDWAN0EO+wJr7hReUjW/CNDCEMVwpA6ATgMbJJ7Q1MXxehtj/bJ3lAWOqF8PaK3Wjd+QqLmV2SwA8WqhH9SrgnQ8E/LtKXA0A/10t+Z9Lx2L+bMdbc8daXJ8RJrYA5BJJz1YVw2L4LLjHbwNjpEPqNjDHV4HCrZLGVb3rXcv/X7UKi0BMsZgFSbwZShlLGLcDYI3fACTPNpjARbF7Zoe0AIf2jSD06VraWOEoF5g+jl7yR00RN4Tw9YASsOKZCBSDB2UIdOqBoEdp/lzcEgrE8rX7sBcASNgU2BVAMqwf11F4Vq4athpw9GhlWhyXpEP0qT7TITq85Vrd9bTF95UF95YBmG++SdeFF+ZqwYJIiGObNCmxzcXChWk69NDccKTY7NnlIQ7QymLfuKfs90sv5ap//1ydfnosADIUd8Z99ylr8GAVqoZu01AtzD5I8WO7q0OHSl15pblRE8MJdsYWndhK3vnzC9WoUSywjQ3PPVd5H32kvz/4oOp36xbApvXZ4YfXDOVdtmyratdOKDr6AeCeedFFypg0KSxosD38ygcPVmWtWoqffnp4dvDgDI0bl6nZs39S69aZIQ7K4hzvvfde9e7dW+3atQsxjrbVipWxefMG2qNimb7NPECln36qSLNmoR1gfGDegvFjcZjnn6/CRx5RwdFHK7J4sRrkblYsv0Dffrs1AFwDml26dEnGQl555ZUaOHBgWFm9aFG2Oncu0A03lOnWWxMLnwKwnztX2ccfr3jt2ir66CPFd999OzchxkzYVL2iQvXq52i3yrX6du+jVTh1qp6YPl1XX311AJ2PmSV42GHa/7bbVPfAA/Xaa/nq2zdLjz4aVZ8+iVXShBnY2MLY8qt/WeSAYICts/4wYBwxZu/ZZ5U3bJjS7ezgXXfV1pEjlXbGGcqs6jPmMyuBmTuMa+4ztzAGfSyr5U9Z8Bh4QxB3KXOcRSqevfNxgQBCgBLssqUJGPcGrBeMyBjv8UBGeSPB+siYVPvYeLA2Y+54j4D3DCCvvIFsz1rbcbSjpWdlg1kP4RjFxcltj+w+rCcgnnAMe656I+j/nPL+b8upGgD+t/XIv1aeE6tIBNv/z/b5swUhrAK2FNgI2kChbQQ9u2qT529d8mwEbSyg3wi66rj6/7UgyY2g2QbGu0UBVSYAcWn6OBVYA0APbJ0XoriF/Jm+gIcQ+1alsCwNLFpcpVj1AA6EpGcbEOwekFEOlJJnDXgeoY7LD1BA/VBsdh8ACWjAQrffKE+rh71LPQGNMA4wZsQqWV0MlLECOrThlCnKGD06HGH2kC4O+8j11kuaVLOf1r7xhrbVrRuUgC2q4OSWLl0SR7i9+26JDjsssdr11FNr6O23I2El6wsvlKhOnQQzae1gdXn88VoaOjRHNWpIn3++UbVrx5LsRHlJmk7bZ5FmbfuDYjJGKeGitOGYlRVXnz6VeughA1AVAUh99VW6DjssV/+Hve+Ajqpq136mTzqQ0DtIL5EuCKgIIqCgnyK9i4D0IoogICBNpDdBRDqIKCACKiICAiK9E1pooQVIQtr0f7375Bm3ufcv9/rf5adm1sqazMw5e++zzz7vft7nbU895cUXXyQbLGOHDrDt2IHLGzbA+cQTqu2TJ21o2DAUder4sHOnO2hGIyDnvQ3t1Qv2z0UnygKaYWFIP3AAgRIl1Po4fNiEhg2dKpp46dIMdb0SxJSYmKjAseS4k01Vjt2/34lXXsmNHvgEH9dejNRvv4WJOf2yNlyuT7l3VkmlMnIk/FWrqiAHX6NGqHn/Wxw/YUF8fLKqMSyM6uXLlzFv3jz88ssvmDx5skqwLKBg7NgIzJ/vxNq1aWjVysh36H34EBFPPqnYzIyFC+Ft3/53PnmK8dm7F76nnoJX8vi98gpy7f8OhWz3cOiEC6bChbF582Z06tQJZkmbBKi+X3jhBdXn1q12dO4cgblz3ejSxaiMwrQ2XK98TuUadf8yAk8+C2rtX7gA85tvwvqjpCgF7r7wAlwTJigQLuwxwYye51N3fyBI4TMnbRMU6uZaAlOy6fSHI3Di+WrlZeV95HXw+afcoeLK6yEQo8KYnW1ne5QPejtUUNmGtM3If46RAJNBcpQ9XMtUjAlg6VtMOUbQSpBHVlTOk75oZdCtHVRsqWxS9sj3OYmg/6/73N/6gBwA+Le+vf+jF6cAoPgAymaSXYPm5khhQ01cT3dAEwZZJmmHDIQOnkQYBlmerILy8p285HgGWejO3DTF6OYfglKaruh8rvvEEExS0Muxeh1OAjpd65f/WYmDGyVBibzrDIIAGrKT3Kh08wyvU/qVtrhBERzSf5LgkSCRG5b70CHEtqiIm48ikQGn1JJAasWKGP/cc7jz8KHa/GvWrJlVLzYXypQJR926AezYYVSRMJkseO45qfQh/wdUXsCSJT0qZ97PPwsYNKlKHvv2ZaJ4cYO9FIDvdttRqVKICj6oZDqNDwLv4oX8B5F6/gIWLLBg9mwnbt2SVCo+7N5tlKaTv6efduLoURs6dPBi7twMhHdsD+s33yB1xw54a9TA4cNmtGgRoSJvJXCjVKm0IOCU8a5fDxUcImla/F4/7IFMPI1dmIHBKDm9D9w9ewbLcEl/ZcqEqPQ1cXGPEB1tCuarJKCWeZW5bNgwD86fMyER0QhZswC+F15Qx8bFGUEgEkksYxJg+8wzXsw6WB/FEn5Va1L8+jL278e2k8Xw6qtOdO+QjBlzA8hwuRTIEtaFa4b5A0uWlIxMUPWN5XlQvw8dCuvixfA3b47U1auRnlUyT9a7UlQePoSzalW4v/0WtjffhPnQIRS13UKiOR8Sbj1SjOu9e/ewd+9e5WMpwL9s2bIqilsUgX79HFi+3I7duzNRo4Y/yKjK2uP94Trncynzo8ydiYmw3rsHU/nyCEhOx9mzYf3gA5ikRnGJErg1dizsTZuq9UFFhemKZI3rDDnN2dIX2T9aEqjwUbni80dFjc+rrmDRfUNn18jo0UpABk6/PvZFZVIHogR6BFhk7QnAdNcO3UIg90rAnq6s0tJBZTe7iZs+ewTElIXSLqOBeX/INNJ0TMWXjCFBMJlM+cz1I8fKus9hAP9H98l/68ZzAOC/9e35tx5ckAEU5kQ3gRpO8kbqARG4ZMR0wEdgQ5MwQZBultVNbNSEyULIb8z/RaCUXcjLZ/ZDYSubj56UmRsJGQBq4tygsjOVQXYpKxE1GQqexzGQtaMA5jvb5bWJoCaIlfmRcegVCxjt++iRD59/Lhq7DXnyePHSS26EhRmBALweOTczE8ibNwzPNvJiQ78tKjrY8tVXmOd2YyiAl156CWPGjFF+PzKnDRrkwaVLZiQlpQdN0TKm7dtNGD3aqiJrs2INVP6411/3YPhwYV8NdkbGLNckVT5OnDBh1KhUDMNURE2YAG++fLi6b58CxwI+OnYMxddfW9G1qxvz5hlBHJKGrlYtO86fl3yGAbSK3o3aNzfidps++OLgY7hyRQI9gNWrM9C8ucGaynWmp9tRu7Yd169LpY0Aypb1INedi0h4GIZrKoQE6NjBh7nz0oI5KmWsW7dGont3p6pgsndvMgoVsgVTwTC58muvOfDttza8hK/wRbkRyPz1V7g8Prz8cjh27zZ85fLn/82nUgClvDpjOZYpN1sgEBWF5GXL8FiPF/HgPvBNkZ6o/8UbQMWKwYhd+om99lqI6m/AgAxMnGgAMcuuXbBnmX6/+vAkJi/Kj7t3RSkIIDbWj6lTfSj+0RDYFi5UwRXid+mvWROjG36HD6bnxrx5LrRtm6aeQwF/AkLEnC73gSlKCheOhBSViY83fDbJRsn7558HMGOGDYmJ8j1Qs2ZA9Znv6FY4Z81CwGKBt3VrlTDaOWAAzMeOqUhi14ABcA8fjuQsEyWBCQMrCKS45ql80bzL50u+l3Wlf9ZBHxVMsu8ENbqPMMGQzv5lZ8Yod/hcEliJTGHwi4xBlxOURZRtVMIIxuQzFVDdgsA+CCJ5DOedDKKsU1pTmOaK5m75Xr4TUE2ZQuBMmatbWnQgL8eLTJYX51t8U3MA4L/1Pvs/OrgcAPg/Or1/68aDDCCLw4twks2F/icUvBS6BF8ioCT6jEEj2U2pFHY0+xBUEWTSJ0mZybJqrXJD0M2n+vnUugkwdXOWbsqjUJexUaCzX511owmamjaZToKi7EBWN0XJqtBNO2Q1ZBzc9HjNp09nYsCAMOzfLxGEvz2uAnrq1/djyRI/ChQwIo2lzbg4P6pWDcGAAS6MG2dUrJg/bRpOT56MXVnlYLZu3YrHH39cAYLXnryPrceLIjX5EawOR9Dvi4yKce+EEfKqPmjK0vOhXbzoQcWKIahXz4316+8jNTkZhSRp3bVr2LJokWKcSpYsqcCHMI7JySbcvZum8uvJSypaTJ5sxuLFdty9+1u6EwE7zzwjCaSl7nAgaKJMSXGjcuUwdWyHDnKdSfB4klFg6FBEffMNzjmrolWBXxAX70T79i4sWOBSrJ4wzHK/pkyx4P33bcGKJWKaljK+O3aYsGWLpKoxoW7UKexNrgL3/Pnwde6Mp55y4PBhK2rVcmPBgnRERycp85kkQb/abBS6HBuG8yiPtliDFU8vQvrMmbA89hgu7LiGOi+Vggc2PPesG5M+9CBv3mQ1lvXrQzBxoh1Xr5qVn+S332YlHk9JQUidOjh8LR+eD9uDB2myFgMIC5P1AcXCyqse9uFHPA07vIp1dO3ZA1fh4sibNxQWC3DkSBqiolKCZmNZ07JG5J62b2/H11/bMWKEG+++6w7Wu/3+ez86dAjBo0cCvAMID5c+TciK68Ez+BHfoYliln3ly8McF6dSu/hr1EDqzJlwlSunFAkmg6bZkSBHZ/sIhOhvS+aRz5vOxBHY6cyhrEE5VsCMvPTjyaISJNFHTt5FLlB51M/RFUgqdPJOgMVnnefyGAJ5tit9kuXXWTw5X/rXlUBdflG50XcNyin2RTBKpZef6ROrm3mzg1AGgIi8ZpJ7YQBzagH/rffp/+PF5QDAf+69/6NXHgSA4t9DgUfTrDSumzpoKqFGSj8gata6z5FhijRqtjLakJsEwSSBkm5u0TVoCnYZB7VpHcCR8ZP25X8d0FAos23d7MJNgrkDaWImE8F+daaB10OAp/+mM4HSL1kL+f7IESsaN3YoU2O5cn707JmKUqXcuH49HPPm2VUVDEnrIubbWrWM1BnJyRYULRqKTp08+Phjr5o/8TebNWuWMvtJFQ8xAzZu3Bi5HQ68WuYm9niegKdDZ/g/+QQetxuWkyfhrlo1aNbnXHGTJbjltUoFjK++smDPnkcoVSoVZ86cwYAmTbBVilRbrSqNTP369ZWP3ccfR+K99xyYNcuNN94wAioILOX/hA7v4sqXx+GYMgqVetaG02nU0pUNi5v6O++EK7A4YkQm3n3Xq4JHJMCiwJAhqHDsGB6OH4+UTl3QuHEhXLxoxokTaShd2ojApkgt4MUAACAASURBVOP9998D775rVayl4TKrVgry5wf6/+sqRi4oCX+hQkg9fhyfrQ7BwIFhaNbMg3nzbqi1Iq4P8heTkICaPXqoXH7VzCdwwl8Zu35MR42aAcUCWfv1w9UlO/FcroO4nBStehFwJqyqAHoBua++6sXChQKI7Ya5euBAHFt6Ck9iP6RQcOfOLowZkwGLJU39fv58BMa8dhsHkiugJK4gDmUUIJPxpq1Zgy03a6FDB6daG337ejBoUDLy5AlVa2vPHiveesuBM2fMqF7dh337DHOsAJW9e0PRsqWkMgHeeCMD77wjbgFueE6eRHyvTzHkymAcQi2UxzmcRkVITI9KNzR6NLy9e8NktaprILgg4KC5lM8i1xFlhv7MyLqXeaN7BplDgkL6wFFpc+/ZA5PUlH76aSUvaOKl8kn5kj3YSpcbbJPPOS0VlGUck7RN8zLBnl6Bg881x0rrBhVRglH9ncdInwxUoTuNDkjJ6lFoU6ZlHyNTv7APgla+E6wSQEqpP6nuk5MI+o9uh3/N83MA4F/zvv07jDoIAJkImoJP94+jUJQBUzgzaW12pk+EFAERTbYUznpeNBGU9Hlju7ppWP7nJkITMAElNebsLANBGoEcBSiFNzcp3YxDFlDGQoaCmjqvhSZabmjc/AiqCHx1c5V8l5ZmQ4kSTsX4bNiQpgIl5Lp05/EdO8xo3TpUVYq4di0zWCc3X75QhIYGcOlSqgI9UtNVAhAkwEE2Z9mYhal1OEJQ5rFCKmr0hr8wvO3awd++PWzjxiHjxx9VCAdZGS44Mpw6SI+NlUAHM+LibiiwLXnuBGBKCLqUpmnatCk+/vhjZbZyOCIQFeVEu3YSUGKAP5rJ5PrMffvC/umncEsS6RdfDPp3csOS8eTPHwKr1UggLQyGzP327dsR8cYbKCARll9/jYqVKyMuzo6mTQviherXsX5lmjgzBs3tMn6Zy9RUJ/bulY0dqFTJi8qVrbB26gTrF1/AM2kSXP36qdJxN26YcOZMPMLCHCqligRTnDx5UkVe1TtzRqU5ufD2bFR9rgKefNKPrVvTJEcOIqpUUaXW3HFxOHYzElOmOHHzpjBkUMe98474jxpmZQUGdu6E88UXVWLoVEsktm17gDx54hWQl+uUZy3/iRMoKLkDMQOzMQgd7WuxZPQluHr0gDM6Wl2j1F+Wes1SIUWYPGEPpVKJsJvCJjZr5seXX0pZPqMus5SLy58/TFVX2bMnCYULp8PtcsG2bBkKTpkCi8sFV7Fi6HvtPSzB63gTczEP/VWqH8+HH8L30kswa3nu5D7RfMm0LLrrBVO4kBXTGTeCM5kTPle/Ywclcv6bb2AWlnX/fvgffxzeAwdU3WZZJ1RQaHGQZ10PHCHAovxhoIcOuCgf5LnUFULKAfr8EZjRd5FAi4wn17YeoKIHc5FhVGs/y/eSz5o+D4biYKwT3ZxO+cHfKEdEJtH3UsYin+Ul/1O2ybniHpBjAv532E7/nDHkAMA/Z97/Dr0GAaCksaDfCpk6mmcJ1ugPyAz/1Mh1IU/gqAs1EWg0wTDXGdlEskcEfzR5cFORTYZAkYKZlTF0HyIK3uymHhHaFOw6MNQ3Lfr7cBNhP2QNeJ26eUfaFSZB99XRmTABJkOHhmLJEhtmz76NJk2SlD+SjFnKosk1cBP58stQ9O4dhj59XJg4MUNtIv36hWLFCgvWrPGoUmFGkMZvZeFoMluwIC+mTYvApCEJGL66Bsy3b6t0I6akJHhWrULCky9j7FhJvSKbKlC7tk9VuxBWjoyFzEu1ag5cuyZ1gdNVX7du3cJTTz0FYRfkJWbSbdu2qYoDdnsocuUKRdu2kkLG8HmUa7ecPw9TWBisc+bAtmABXMuWIWCzwV+vHvzR0ep6Zc5On7bjySdD0LOnG5Mnp6r2f/31Vzz//PMqzckHACZ//jmqVq2qGM/YKrnx6E4GUkILIDM+HrbcudWGTpM9N0PTzZtwi9+qzQZ75cqQsN2Mc+fgskciTx4nGjXyYuPGTLWeevfurSp6CJ8nxbZT3n0X4W+8gdx58qBGjVBcuWL4VNrHjYNt6lR4e/WCT/zmspwp5Z33g8+L8v9MSkJ4vXr44nodtMF69O/vwttvJ6o52rVrl4pWLhATg5fGjUPIxYvwR0WhsO8aHnoicOtWCpxOezCynArI559bMXu2BQ8eiIsAUK9eAJMmeZE792/pTWQdLlxowuDBDsU0DhrkwqP4ePhffx3FDx9GwGTC7aZNkX/nTpjdbkQjEW7YkBJRBL5nnoG3cWP427SBPzQ0mMeSrB9BDNk5+ayzWfJZ1juDo8iCUVGTa6ey4UlKgl3yIM6dC8vly4byUKoUvP36wScJyLOq3khfBHcEfwRgbJdAjmPh80lGn6Zi/bnV85zSh46uHMx0IPeWYIzuKPKZckiuRZQwkYNq3WugWc7VA0KobJHtI+jUrQSUTwyEYxtUNGWdkQ3VlWn6TIpiKGmPchjAv8OW/F+/hhwA+F+fs5wzjBlQAFDSaIhvF4WuDt5obqAgpFClQKIQEiElAlE3D4tAJXvG88iakZWTc0SwcpPgjeHmo7NqBHnckAg2+ZmCn2ORvlVutSyzHMdCBk4Xqrq5SdfUGf1LNpObj85GEnTKb9I2fQ/z5XPCYpGSZReUli6RnLt371amVGHXChcurECEMEJFioSrS79+/ZEa74MHZpQqZVMBFuvXZ+LZZw0QyChMmZ8FC7wYNiwCuXIJk5YJ8w/fI+Tll1U1kQfIhcb2PTjqlvTIqjyssdkGDJPlv/4l4E0qEhqRvK+8EoLvv7fg7NlMxMSkqQ1OwIpU9jh06BA6d+6MSpUqqcCTr77KjTffdGD8eA8GDsxU91iV34qLQ0hsrESwqGTWKvGyBJnEx8Pldgd91zZuBNq1c2L2bJcKJpH716NHD6xbtw4ls3IiHciqISxz06KGDyduxiCt0+vwfvxxMGpZZ6MUGNi6Ffb331dsknX5criHDYNn7FgVXSw+lYMGeTBhglvNY/PmzZVZPTar2PaIGTPQqFEjlUC6bdsQVac39fZdhJYvD6SkIPPECZhKlw5GuOsssVWCKbLM4FLSz7JkCR6PuIiTaaVw7VoS7HYvJNl6vXr11FqXvE7TLRYkd+8O0+DBWLi2BMaNC8HChZno2NFgVAlu5J3MuQ6E5Hu17iStzfz5CHTogMoN8+PqVZNK7G3atQPON96AMzER1yR1TLFiGPvgAUJSU+GpVAnDnbMw8/Cz+Hx1Ml54ya76pKmVbhiMnJcgA7kP/F5nqJi2RA8So2LBZ1mZ/a9dg3XhQlgWL1bJtlV/devC078/Ai1bBquK8HmjgkawyT45FwRCBKXK7J4VWU3mT/dXpplW+pX/aSKWz2T6+Jvu28tr0K0aujlczqXskP+pmPEYKim6wquzmbzPdEeR/ihPdOCc3YpBJVXGKs9pTiWQf+6WngMA/7n3/o9e+e8AoB4ZR21UhBXTvsiGwDqbdBCnVqxrwroGzc2MplZG1lKgSp9MscA25DsKUrZFMwwFLvNz0ayYfQOj8KRwpq8SBTH7p4lLBCrNLAxoYfQuNwmOnRo/TckEhzIm6VfmKC1N8u9Fqkod8+YlKqEu6Txq1KgR3OAlkEM+y1wa0bViHjaSMks7Bw8GlP+g2w0ULx5A164+FCrkxoULdixfblEBFBERklolFSUPboBTfLhcLiQiD0rjMlIQiTrFEjBmYSRq1sxUbW/ZEo2pUx0qaCE21oeffkpXJsRz5xyoW9eJVq38WLEiXY2Rm7psMAIIJehBWJ4nn8yngEZiooBdo54q70Now4YwHz0aXJe+jh2RPn9+8JoEMHz/vQfNm4co/7/hww1GLi4uDl27dsWVK1dUubohQ4YYIMjvR+38D3HdUwDJ+47DExsbNLORAQ5uwPPmwfG25E83Xq6lS+GPicHtik+jVGlJmOxR+fKEib1+/bqqGLJW6gbbbPjhhx8U+JPraNMmH37+2QLPh9NhGTYM3ldeQcbSpUHWS2f/hO0yf/klUK0aAhcvwtmqFQK5c6OQ7S48PgHUier69u3bh7Zt20KMd30BJDRqhLenTlWA+uHDSMTGRim2UJg9WVd6FDn9SnVAoNbIw4ewde8O67Zt8LVsibx7NiI0xI/L7d+B7aOPlCKwyWZDT49H9Vm1ZUs81rcvIsuVQ1xcDJ57LgyjR2dixIjfAh50MEQzrP6scq45x7pSJt/JWOXFQBXTqVMIfPQRbOvXKz+/gJhIX3oJvoED4atVS619xZz6/cEIdsoB/f5KmwR9lBf0nZPj6P+rywmCPt1SoVsc+L/MNf0AdfCaHRDTBUTak2dcB+YyRwRu7JeMNxk9Gb8cQ+ZR2mdqGTmfvtJyHNlO3nMq4FRyeZ1ynLD0OQDwj26Ff93zcwDgX/fe/dkjVwBQzH1MA6MDKZov6AOYXXgSMNJsS1MvTcS6Lw1BEoUq+9FNIxSU7JcsB03PnCyCRgIzglUKXprO9M2ApheCO14LNWtpSw9qYZQygabur8j5EKEsfwKKmGONY8vMNKtIznbtMjBt8CnYL16E7eJF/LRiBd64cAHJTic++eQT1KlTR5lXpSrH6tUWw+xoNwfr5N66ZcWAARbs2GGF1/vbo67SrbTyY/p0F6KijMhjf3w8QqZMQeXVY3ARZbAYr6Nb9Cbc27cPqVmMUVbJKLzxRhS+/NKKHj18mDNHmEDJbuJAfLwJa9Z48fzzaUGHdpk7+lCNHu3AvHmhKp3LmjVGLjz6glmtdixuvRNLtxZEMnLBiQw0aeLD2LVlVNJpgkSXSwI1wlCkSACHDycpZklAmWxkApIl2lhMv/J9+tYDKNqxKaqHnsWPt4sZZdU0huzkSZ8ysz98GEC+U7sw5NTrKK44L+PlHjcO3iHDEB3jVGX0Ll0yqivImmd1FFkvLIVoszlQqlR+5M4VwE1bcZhv3IBn/354Y2PVtXJtSduyvmTew7p1g0kqaJw9C9ONG3B/+ilKjuqifBKvXk1V/Ui0sZid9+zZo8a1dOlSVcJOfDovXnSgTp0wDB0qFUR+XxtY5oBri0BGAeNTp+Ds0AFmMSNLFZ8NG1CkWU3Y0h7ilicf/CEhuPfeezgSG4vmLVqoPgcNGoTu3bsrF4Sff5YqMLkxcaIbgwYZUbXSLlk/gi+ucTLPnHsCEpp2+VmZbSWiePt22ObMgXnHDtW3BJr4unSBr18/xaTKS+ZT5k/khe7jRsBJZU2/brqpcBwcJ++Hbu4lu0agSLaQibJpOZBz6V9IC4bO8lGukFnk809TL/v53RxkcxGguwBBtW7ZIOimmVnak7alXwJpgmKyh3I+xyXKmciQHBPwn72d/jn95wDAP2fe/w69Bn0ABQDqZgiCN5p9RPCyTJEOBHVTMDVi3WeIwpEmFwphgka+C4hgYld9c6UQpBDXHaB1LZgCnMmWCTgprGUcvCaa73iMtMmcZtIPN1zpW8CdzjQQxNAEzLaUX+KDBwjs2gXzuXMwnz8Px4rPUNN8BAf9UvkP8OfJg8Pjx+OYzaYYKAEAwqpJipVmzfLh5EnxOzN84nT/K2OhWfHdd16VALlQIT+eekrSURi5xuhLKP8fP+5DvXrhaJHvILbcfUKdmdinDy516aLaFF9PAVcy36VLhyIlRZi8TNhsFty+bUX58iZkZADPP+/D5MkulChh1LMV3DJqVAiOHrUo4Hbs2CMVaUpWZtkyO4YOFebWBAu8CEMaXHDABalsEECXLsKEGuOVeyWBL999Z8GWLWlo0MAwQ8tmJ8EuMidcd13KHsdXt+tj66AtqPNevWAE8I8/WvDmm1bFRP4WAaxWDsoiDivREdUG1Yd15kx4GzZEx4LfYd06uwKtzZr9PokxA5rkXk+f7sT779sx4V+/YOSXT8D79NPwbtv2O/DncnnUfYiIsCN3qBv2woUVAFRAokEDeLduRbMXndi1y4Jz5zJQqJBPASsJPNm0aZO6X126dFHAR661f38HZP62bnWhUSMDWPI5kaTeS5f6sX+/zG0AFSoEMKjIOuQa3EflDZRche5Ro4CoKDzVOxYH/TVxq3Ij2BZPxoOYGDXX4nsoDGTPnj1RXtK+mM3o3j0Kmzdb8PPPaahZ00hKzTUtDJvZbMXt2+nIm9eh/BJ53/Tn1SuAOCuJuKwnq5jBV69WPqDm06cN4FeoELx9+iDQsycsWePhc0vwRhZQZxP5nOmMJE26PI/gmOBR7p8OkMgq6uZ0AilaBKh0EvjpYJHnEeiTHWQKGRkjZSbHRKWV8oYmYG4WlJdyLq9Xn3uavOlfTBBM9pFzRXknv4uJPicNzN9hO/7vXUMOAPzvzVvOWZoPoLAC9P2jlq2XexJBI78T/ImgIktGAUkfHJlY3WdG/idzwo2eKUF0QCdCTfrWmUUKZN1ExO8ooGmK1bVqbgS8Bo5H9+njhkLASZOnrtEr6GUV9s2I4CW45WduIGqDFJ+sGTNULV+pZVsNR3AcsUhCFCKK5ELqhg1IK1ZMCWwxeUq7Rkm3AqhfvwyqVfNhzx53cCPmXOl9M+UNQSJNbhxbq1Z2fP+9GUePpqDw1V3wDx+O8Lg4PAbgvs2mIm0rVqyIkGXLMHdpAYw63wULFrjRvbvByCQkmPD88w7lNycvyTkrcQ9ihpZX3bp+bN4s+R+N36X/JUtCMWyYDVIiddCgRxj1ZX04z56Ep3JlrHlrH0aNClPJnl94wYsVK1LVHF67ZkG1akYi3C++SEPTpgYIJ6si923oG+mYvyI3KpjP49c7MXBlmenXrrUqxlSIsCZNvHj/fQGqbsRX6YiRdwdjJxopp8f1ndbhX8vbwzNgAG4O/gDlyhkRsps3u/Dkk8Y8k22WuV63zok+fRyKKbxXsAps584g7csv4W3USI15714zhAE9fNiifCnlZbP40dS3BTMxCKVVRUfAX6QIfpm2A/XalkWzZm6sXJkWZNd4n+TdABA+FC8ehZCQAK5ezfhdAMbw4ZJX0ajcYryEHTQA9rPYgY01JiDk8M8IxMTAlJiIXWiIZ7ALbV51YenyQJBVFdDPxMMCkgSkFygQgnz5AjhxIim4voX9/PhjK2bNsqmIaQNYB1TC7ddfd2H4cPGzM8NmscA0ciQy334bZsnL+PAhLJ98onz8xPdTjbRqVTXvfsklqdV8pkLH55DPHoEZny+CLP5OYU0WVu4b2bTsTJxuVZD26JunK1UEUGyXsoP96coi+6Gs4hgJ5nTGUq6Dvqm6CZlKBoEtGT7jGTOS7bPOMIGmKA10B9HnQ1dY5RyRpaJE5jCA/8wtPQcA/jPv+/+Pq1YMoDioi5M3fU+kYRE+OhAjyMrur0dwQmCoHL6z8mFRyOvgS36XfsTkJ6wZ2Q4dUJGJyG560YU0/6eAl/P1TUSugdq3zljqAl8YGAaq6KYsCls9ypOgU86XPgmWCWwVq5GaCuunn8Lx4YcwPXiAbWiK5tiG2o4T+OGIDRkSHJHl6yNmQWNj8qBNm1IqMnbTplQ89ZThC0Xgyjnguz6nOmNCJrJyZTtu3zbh5k2jcsTkSZMQN3s2JEvYQkCxTj9t347qnTsj4+o9RCANXdqnYeESw++QG86pU36MG+dEfLz495lQubJ8zlRVN+RFf8cHDyx47LFw5Molvoj34PUmIt/ChYiZMwfJvXrhSu/eKFy4KJo2jcTRo1YsWpSOdu0Mn0EBVC1aiA8YFKv48ssZKFzYppjQjRsl0bgJJXAFR96YjdDZk9WavH7ditjYUFX94sCBNEREJBrmw+RklK5SRfm9/dqwP+ofmAW/x4d7gWjYvvwM1ubNsXevpE4xcjKWLu1Hjx4eFC/ux/nzVnzyiVWB3/Bw4Ndp36F87+fhq1IFqbt3KzA5fHgoFi0y0m9UrepDzZri72nBri9SEJ8aAxMCWIpu6FT9FFzr1sGdNy9q145AXJwJkyZ50KePUUqMAU8Gs2PDk086cOqUGePHZwZNsXJcs2YW/PijFXnyBNCzpwsD211FVJ+e+Gp/EYwzjUVcoAzy4S4uoRTCka7Y5cylS1G+3wu4ft2EKVMe4c03Df9M3TUjIyOAOnVCcfmyCQsXutGxo8HwpqR48cQTYSoVkM0mCcrdKFrUj3v3rGocknomJsaPn39IRKn3+6jKNK7jx2GbPx/mZctU+TgFfps1g3fAAJgaNYIvi1UkO6ZH2cqxOjBTYFrMx1lmdQJl3a+OyhajYrMrgHwm9WhhPp9k0ujrR/BPH2Ay2eoasszhlBt68BVdRnSlUM6l0qyzjTJOAdxk82T8VKQJRnXfQZqQaW2he4U+Ht2yQSAqAWY5DOD/j+3wr9lGDgD8a963f4dRB30AxRdJBA1TrOimBwo1MlL8TQQkNWkCEIIwCkqaYCn8aNKR4+QYAp3sZiGCLPZNXxjDPGVsbNT8KfDZl272pSmNGj0FMD9T+9bBJgUvNxQCUublkhtHBlP1JXn5Fi2CbfZsxcQoFkESYXu9aBn5I75OeRply/rx8cdu1Khh+D3JvO3d68fQoXlw+bIVLVu6sHKlke6BZiCCRSMVjhljxpiwYYMVqamSIiOgSntNmJCOSpUMYCLnVqnilNR1uHs3U4Hbo0ePYvny5Vi2TLL5SRq9kvjss89QPiICIW27IzLuKLpFb8TcozVgK1AAPmFw8uYNsnHZ7ys3SN5HYeJWrjRh48YHqFPHo0zb1rg4VOvYEUemTsXtSpVUioqCBYsjf/5wlCghZmqD6ZK5v3zZgyFDrPj2W9lEfxNl0Xn86Jk5Gx+kD4bn9Gn4S5ZU6+W112zYulX+7qFuXQG7BuPkOX4cVdq2RUbNmni4bh127o5Cp27R6GVehOl3X4HPblebr/g49utnxe7dVlUdgy+pB9yihdwjIPcrz8AqFTmWLoXn1VcxZoxFmYZLlJDcgPcRFeU1EiVbLCjeoAFOJMSgAfYgDRH4YnUSmr9spAe5f9+Hxx8Px8OHJpQpE8CwYZl45ZUAkpJ8mD7NgeUr7RDLcevWXixenB709xoxwoxZsxyKpdywIRmWQwcR1aMHbHfuIKN0aTwaPRqLX7+MUZ4xeBzHcBTVjTl46SXcfGsqYps9JoHLKvH40KGZaNkSePDAhMmTbZCUMpJOrmdPD2bONFhtASqPPy6g0IyOHdMxbVo64uMvK7BaqlQphISEYdq0UEyZ4kCMNQk3vfmMyiWS6D0QQEAYrHbt4OrbF5bKlX+XyJkAh2taN9/K/SQA433QWVkqoLqSRZDE9a67YuiMPkGTfMcchtmD3Mjg6bKGMknkjPxOf2bKM3mXtS/vutLK9FbSlg4CKUOym3npcqL7Gku7ZC/ZPq0qNFlTmTaYXJcCnjLWnDyA/w7b6Z8zhhwA+OfM+9+h1yAAFAaQLB83d2q5IuiYP4tAjuY6EUistynHizCiENeFNDVeshEUxgSTZAe4UVD7VqZVr8FSUNjraRJ0gauzZRS4HDfZBaaFYSJW6Z/RvjQvsS+2p5uW2Tc3DzkmRCpclC2rfLLcL7yAlP79kVuiUaOikLZqFXoMyocvvjBAmuRui4wEkpOBpCTj0W3XzoeFC426y5wfXpf0M2OGHWPGyKZjUsmA8+TxK7Mg69c+8UQA27cLw2RB8+YGc3TyZAry5s1UPnVMtCx+YNWqVVMRg1JNZNEME0ZOjMZ89EavCruRuWkTnB9/jPS6dWFp3lyNjZscTfME1/KbjDEmRhJSBxAfb/R17do1zJ8/HwNXrkR9AJ+uWoUKFSqoaNcOHfLhp5+siI9PRb581iCQl7YyM704fhxIuetB8XJmlDu6EY6uXeFt0gRp69cHneKjo8NRoEAAp0+nqcAK+Tt8+DDuLF6MrufP4/rq1XAULIgCcXEo+6+G8FicuJZoVGiQF9dQWpqUbZPcemIOlWhrtyprZzl8GPYGDRAoVgxpx4/Db7YjOjoEkZF+HD9+Dz6fC+fOnVOVF6Lj45G3WTPV7oX+U1FxwTDV1vnzRlojuXcZGRZVsk38AXXAKedEhXkw+K2AisKlP5t8L0nAHY4Azp5JROiqFQgbMQJmjweXatTApYED8fT48bBfuKDMwGLuvhhTB4Vb14Tv1VdhqlMHj1LNCijv3fv70oPSdnR0ACNHetC586NgHrs1a2zo1cuJtm1dmD07RQXiHDt2TIFruXfiMhCRkIDZzQ7g/eTBGIVxGI8xCvh5mzWDb+ZMPAoNVf6MAlhkzTAVEwEmmSuagAloGNQjY+MzSQsClQ8ycPrzLb+xL8oHPjNUSgkWaQmg4si1S+aOsoljJDMp73IOxypyToAXMyDQr5lyg+Nj+3q/HKOuRNMsTJDMudHN03oAnA44CVrld8kDmBXcFSUpLf8OG1PONfy/z0AOAPx/n6ucI38/AwoAShkuiYKktkrBq/vxyWkUlNSqCRjlOAFWNKMaG3qmAo00U9LEQmBHYUwNWNqkX4wIVD3ZtLSjm2PJMuqJWWmCkbHzeI5Zzx3GMUv/srEQEBDY6ECH8yDtcNzyP53OKbDFxBO6aRM85cohqWhRtUnkmjsXvsGDIbZKEdLx8S6MGGFTAEh8sIRxatTIgylTJCLWcPpXG8f9+/DLxpplHp84UZibMGUK/PDDVLz2mlmBHrlfZ8960a+fEwcO2FChguQbzMCpUxY8+aSkc/Fi2bL0YIJeOYdO8gy4efzxGEie55Taz8CxdzcCxYsrLzNx/HMdPIh0rx2zZplw5YoJoaEmtGzpRdOmxgYvL5mf8HCnSkz8/fdudY/GjRun0qvUA7APwIcffohXX31VjXfaNAcmTHBix450CGglu8F1J23aRo2Cu0kT2AXkHDiATKkm0qKFAlQS6VusWIRK5zJp0n21HseMGYMFCxagLYCfAXQbPVpdZ9eLF/H6Jy9iC15ESkqqumdkZjh+rkFpm871jo4dYd24Eb4ZM1TwwgcfBDB+QAGavgAAIABJREFUvBNTpiTj5ZfvqmooK1asUKXrVpQujXYJCbjz4YfAyy+jV6+8qg7xwYNS51gKyxkAWtoWwDl3rhWXTmbCuXUjWqSvR/PBZeCdODHoqiDzuW6d5EQMwfDBaRhzuydC16yBT0zQgQCmS8LsMmVQ88IF+HLlwvGn+6HGxnFo0dyDtevcQfMiXRg8Hhtmzgzg2jUrnE6/YgIbNTLqMfP+yT2rXj1cpQW6du0+UlMfKHZTfEXfffdddOjQAd0eewxPzZgBa0oKwpCKUKTjHvIZbUjw1pUrStkhg0V2XWe96FpARp6+l/KZsoHH8PkmENQVMI6bgJnsv/RJZo4sHfuSc3SmUH4nQNVNtwRVXCtyHIE8n3uCPjKZ7JPBIJQvutJKxp/R8px/Alb5ne4BnAsygFRcaZXQfSc5dwIAc9LA/HO39hwA+M+993/0yn9XCYSsHgUUQZkIKgIw/sZ0J3SMpjatm4t1wUthrGvbPJYCnxdDISrvIliFnaQWTlOxAgtZ1TjknYKYjCHBqPRHJkBnCMjgESTqLALbYI6u7MBB91WScdGcLf9zXGQoCGSVkN+wAaZffkGgZElV/cAsrGGpUvBLTbGsly8hAc5ateDp1g132vRFidrFER3tx5EjD+D3p6trkXGx2oKwLr17O7B2rRNvvZWB996TUmihuHbNjKVLXWjZ0jAt8r5xnuScVatsaNPGjU8XpKnSafZvvlGjSEIkWpU8gb1XiynWUX8JgzRiRCb69jW+Dw93oHp1L3budCkGUBJHDxgwIHjKqVOnFPiTQITx462YPNmOffvSIfmiOVdkQtS1deoEx65dMD16pIIpMo4cgcXrhSlPHty86UHp0uHo3j0D06cbgPPzzz/H22+/jfS0NFSuUkUBQlkvDYYNQ/sTY/AVXkZy8qNgnjjpk6wO81uaBHTnzg3T5ctwVK0qNC3cFy4gEBqK2rVtOHvWjMTEVJw7d0a1/+2336qxfwWg4KJFiKxfX6XhuHUrFJUrO9Gzpxdz5hgBUwQeCkwkJ8Px3HOwnToF78svw7tyJXxZYIxjGjw4FJ9+asW9Kg0Rc3IPfNHRGFm6NKYcPIgOAN4sUwYFBg2C7fnnERkdjUKFIlGoUACHDj0K+vAScLBvMto68KViJsfmyhWB2rX9+OabJMX+CaCQKjByfFe7HZ+Ib6jXq9waXvOuxhdojQw4YI90ItC0KVzjxgHFiqlrpQlT5ofPrC4HCObIDBruDYayyOeI/n+UGXzmKTsI+uiSQaDGZ53yQAd3fL51UEmwRQZPjuH4eS06K0+QxvtKwCvXQJOxLod0lo7t6dkGCGZ1E7Ru+aDc4XxQZsk725Hjc2oB/9Ft8K99fg4A/Gvfvz9z9MFE0JIGRt8UGMkmgyPooGlChJnui6P79VFoUTvVzTcEWwST3CREYDP/GPsjG0Dwws8Umnr/ZOL0jUIHnGQHRNBTo9fbY1QdQRsBKNPB6CYaJsLmOGTc1M6FFRLwIWOW6F4CQoJRW48esK5Z87v7LX5UgcKF4S1eXAFCf4kSsC1ZAtO1a+hm/gyf+Ttj+6I4lGtimIdlc2b6ELkG+RPGq3DhKFU7+OrVTBXMEBvrVHnoGjYUltGL2FiTOn/TJhPef9+JuDgzypf34cDPjxA6f66qXmGOj8dt5EM5xKkk0mVLuTDsHTeaNHEjJcWGDz90YsMG2eyAPn18mDo1M5hKJiEhRaWlEYd0MQMLkJA1JNVDZG3J//XqReDcORPk2IgIWzD1iH7fnI0bw3LgQHCOZH6EBbS0bAm3W+rohqggjO3bjfJqMh+yAcrci6+hAOK8ZjPyVa6M0qYruGEphpQUowYvWVZ5J+BSiZyXLEHgwQOYrlyBdckS+EeNgmfUKHWOzOPt22bEx9/HnTt3VPk4SVa9fOlS5AbQafBgDB06VN1vr9ePmJhcaN1aqqwYEZxczxJ5EvLaa7Ds2AFvnTpwffONMqHKWpF46gyXSykxfVrdx/IdRRXAslSrhOszZ2LHuXPo1auXOm7oW2+pdC5ynXINZcrkV9G8J08a65A+bAQVuqmUzzeBBBW+yMhwVW7w44/vq7kkAIwB8K7Vio6lSyMmLk75+w3BNMzAUJyduRElX28Cgws2ZATdOqR9+sTpShRBGGWL7mrCsfO5lDboHkLTLJUtPSeh/EYFMruVQGf0aD6lVYPMLH0F5VhaMagokuXTLQjsT8ZCRl13SSEzSTkocyIuGExtpJulZd5oTqZiIuyryBTeX8paAktd1tKtQe5Xjg/gn7mN/rl95wDAP3f+/8q9BxlA2cAo8MjMiHCkeY5mHQpQsgoEerpwZ6SdnM+2dO2amxRBH3/TTSIUzNScCcJonqH5lgKRmy03ObIOZAe46RMAMoCEZkgyEqwKQAHO9nn93DikfZkbbg7yrm9AcjwDVwgA/adOwXrmDEyXLgGXLinGyXzliqrf+5+9cuMBrPDirik/Mho3xg/Vq6PllCnBQ6VaRqdOnVQFi759w7B6tRVHjmSiQgUpB2ZSqVXOnzfStQgWEbJJGD3Jy/f8836sXZsJh8OGjIsXESbVOpYsQbHMONxAEZVEus0ryUiaMSOYcFbmJj3dj2eeyaeCKRZ/dB83Vu3F+0dewkcfZaJ7dyNynFGaBAZy/TduWBAbG4knnwxgx47fapt+/bUV48ZZ1DgljZwFfpTDOYzDe3gFX8E3YQLcQ4YEg1IaNLCrXIQXLiQjIkL89sS8KmlpnEHfU+fmzbjSaRzK47xKE/P114Y/ns7ckCWT8dpGjoR55kyx7auJSj9zBtYCBeAPBFCvngMnTwpolZrIflV2S67v5MmTqjzerFmz0KpVK8VynjtnUQmde/f24sMPM38rnSapQfr2hXXZMvjLlIFr504E8uQxfCAPHwZOnoS3fXs4Zs3CnNFJGIaPMK/eZ3hlTSOkuFyKBT9y5IiqxdynTx+ULVs2q1ygBWXKRKJBAx+2bXMFq0fIWk5P92L2bDMuXbLCag3gqac8ePXV31YZwZX/yhWEVyyL6jX8+PbbFDWm1EuXcHviRBTdvh35RYuQtZ47N9LbtEH785Ow5cco3LsntXAN8y0zBpCBI1iRZ46+vdIG/dkoQ/iM0g1Ed0Gh767epi6fdJcMsooEobqVQGf0aBqW42j21xm3oBuG2UjErjOn6l5l5WfkOMhYynlkJXVmk+tflz26EkIlkrJFxqSbwyn7OEYqpjKnVETlXHHvyDEB/5W34T829hwA+Mfm7598tgKAN2/eVMmBRfiIkBGhwrxhDOqgYKLQk2MYiUZBTsFLICeCXQQpy1rRZEJzpO6jwzYo9PiZ2j0FOUEpbxqBlm4i1v2NdNMnAQA3f12rpvCVdzqj02FbN+VJvwSVNKlJO2L+JDgVMK0DVG4ANC1TkAc3BkkJI7VS4+OBY8dg+eADdXkOZKIKTuIQjETS8toGoB+AyxCrWzFlAhVA8NlnNgwZEo7PP5cya78BrNu3HRg1yqQAm9VqQs2afowZ40NEhOSyM3zB6G/0wxdJeKlbEXS1LMdSXxf124mPP8b9MmUUmBEzp7B5fr8TpUrlRoGQZFxOiUakOQ1ukwNff52Bhg0NHzOCQAFoiYmS88+pkk7v3p2JmjVNSE6WKiFRKuWLANIqVXyIifEg6YfTOIpq8MOCChHX8dPFKISGGUyn3OOffgJefDFcpXHZu1eSRhvMKH26ZD243xiEiqvG4hYK4tChNJQubWzmZEyN6/Xj9u0Abt1yo8qkPsjz7Xp1vcI4QlIZjR4N7+DBmDMHeOedUIwdm4Y330xX/QjglPkgG5vFvqBdu1z44QcJwHGhZEkjH5wce6DfBixYFYMH1nwIeaISOvdyqKhvb0oKcj37LPyxsSpiXFKreGwhCPU9QsHCAZw5YwTWCBskcyq+ptIv2fqePSWxtURQp6FePcMn0+u1ok0bK3bu/H2Us1xbeHgAfft6MXq0R7QX2N56C9alS1HRfRRxpvK4vnoL8n6xHNbNm1XZNnmlVqsGT/fucL3wAgKOEJQqlQ8REVJRJS0YsERfX73EGZ91ri/9+dafXTVml0sBbyaa57OugzwBWDTpEljxflJmsQ8CSt1kKr9RVsg8Snt8zqnUsR2duSWDSjb/PwOBck90/0eWsSRDRyWR80MQqLOmcr7uk6z7HurylUqlzjoKw5hTCeSfu43nAMB/7r3/o1ceNAFLGhhq2xRcZPAIFAgQCdKoFfN3as00BdFkLINUPnAOR7CiAJlD+t8wAIRCm+CQPoY8n2kjKCB1jZrgUDfhEGQRrHFDommZ/VDb5ybAzxwfWQayFzpglGNoLiZoZL+8LpocufGQDSEwYb+Ovn2lTpiKQg27fh4lo+7j0Ki1eJg/P366fRvTVq5Ewq1barPs378/mjdvrtinxYujMHp0CDZtysBzzxnmXpk7YWd4f+TauWnSh4ibl/z2xBNmHDliwvWj12Cb9T5yr16NS3Y7Kj56hCJFi2LVqlVZaUFC0KlTBLZuteJk/meRcecRnrT8Aq/fhFq1/Bg1KgPVq2fg5k0nJkxwYNs2GyRuZOpUF/r1MwBizZoO5Vsn5ewWLsyA15sE7507KFGzJtLhRLdcX+HzpKYqfc6+fSkqQpdzNGRIKJYssSBfPmDMGBdeey0dISGytkyYP8+ESSPcSApEYlivexg1xaE2ft5PydIjwThfffX7BMuFcQNDMB2DMBOenj3hnT4dHsUUAYUKiQlb0tdIChgDjBJQMJ/jpUshqF/fSHMj5ljpb8MGLwb2suB+WohKqCxA1/CplCoiAUyoshID9nUOPsOBIkWQtmIFXptaF9u22TF4sBsjRhhBnTR7Mkjpp5/saNnSDqkAdvGiAQwlpYz4IN67Z0Lp0gG89ZZH+YCmpvowe3YYli83QPgL9e9jU/zjqsydqACry76HjnHj0Brr8DnaIhARgczWrZHeqRPSSpVS5erkuZs0KQqzZ4dg5EgXhg0zov1lHcnYKBs4LzoA5H2T+053D8VAil/kihUInTpV5TD01qihmC2dNaTyxTUs77ocIoiiGwhlDpk4MnO0Ogggl9/I4tHSoDN4fNZpTaAclGuT6yIQpQzLbq2g9UCUZ2Xiz8obymdSFAP9GnUrBedK3v8z0zblGGW0jEkArSTyz0kE/Ue3w7/m+TkA8K953/4dRh00AYvvGl+6uZWsHoGNDgYJgiiUdEYpaGLKMiNzY+D39MmhcJQ+dZBGgJadLaTQ1b/PbgKSvvi7ziDK/9ysKHTlODqGE6jqTCavkd9x8+CmQJCl++ZkB5U0M8v3V6+6MWNGCKTGr9PpU9G6r7yS5TwvbNzJkwg89hikeG5srB2XLpmVz5zV6lX+WTJWRiLKtQgbJPPWpEk+nD0r5dwy4HQakacch7xzfvXNj9cux8r3+fPLmKQ6hBEJevqnn3CkSxccA7ABwPTp09GyZUvkzZtXlXFr3ToM0zocxNBVdXC2xHNoE7FVMXrZS7NJkuePPvKhWTMDGEnewN69Q/HSSy4sX26wlWLGkvJhhSWtSN68ePTDD+gzsSzWrnVg+vQ0vP66YR6jgjB6tA2zZ9tVahXJiSiJocU3Ueol2+HC+Pxz0OdCr+BGL9cv1tbnnpP8aVBJjVu08CJPLh8uztmJb/1N4IYDFcKvYue5UOSKjgiaASUS+t13ncgXlYlvPr6A8i1KBV0jBGD//HMkOnQIUQmmt217hKeecuCzz3yqWokdbnTCCoxaGIXcbZ/Do0c+TJkSik8XW5HusmAsxmAMxivm0b1iBbytWiE9Q/IHRiIhAahTx4/JkzNRqZKRJigx0YZ33rHhiy8symJ95IgExhhg4YknQnD6tBnvvJOOIUMMUCh+i5K+pEyZMrC6vXg2Ng2H7pbEGIzFWLwffOYr4yROoxJeq3EB8zdEwBIllVYMU6jdLgFGFixcKIDTj1OnHsFmM5QMeU75vEl/+nOru08w1ZJSMqXiy9dfwzR2rCqbKC/X4MEwTZ4cNNWTJafipyt89KMjuMrOznFcNPWSmSdrRvBF312uKSpI2eWJLt/ozkFll6y+rlByUglGdUuHLud05jC7zMiuZFOBJFsp8ygAU15yfwsXLpwDAP8ddtQ/YQw5APBPmPS/SZdBBlBMCLLp66YyPQiCwkwHQvJd9khZgigCO7J+ZBfJoFHTpaCjRk6tmRGaFPY0C1FYE8CJQNbHxs9kBsk48LMepUeQKBuBmNlkTGxfZzS4wekAhBsSNwLZVHS/Pwp0MoAJCQ78619WnDnzW4ktYw2ZVOmxt95yYdAgI1BB+pF7sWVLGLp2deKNN9z46CMDKKl7cuKEqlLhcDrVtV++bEGNGuGoU0dy2xnmSbKzRlsu7N8fggcPzMif34cGDYSJMVgssjjyXrhwqGKmDh9OVOdLHri1a9di8gcfwAdgyZIlaNCggao6sH+/HU2bOjBxogfDNzWA5Zdf4J4+HTeK1cDCTyKQEF1ZtdW5sxdVqhhpVgiapVqJmKRv3xYgEVBsyFtvvYXcBw9ielwcbrVvD1OvXjCVLodixWJQuLAf584ZAQ5UHGRe09I8mD7dga++MksuboSF+dG55B4M29IIgUGD4J44MZiG5cYNHypVClFM5IIFD9C8eaYKWAncuIGKzz0H8VbtlGcLVj9ojthYH376KS3o8yV9TXrPhQnTc6k5K1bIg6rVJTLeh19/lfrFYl4OYNWqdDz/vBd37wZQvlwUQgJpOIdyyPPhYNxv00aV/5NrKB0Zidwt2qHC/X24g/w4iNqohUMqAMg1cyYCTZogNdWrTN0HDxriXQCulL7LcslDoULAN99koFw5k1q3cXFAjRphePppKbd3R82puHbs3r0b3333HZa2a4fiEybAnJCA3EhSlUuSVBgL4HvxRaQNeAt1B9ZX61OupXZtHwoX9uHePTP27RPWy4SCBf345ZcMREUZzwnvhc6E8X8dpHGd+cTMvWOHKpVoPiZqBeCvXRu+cePgrl8/WJKOaZzI4pExY/AI17ewr+JuQeDGZ1EfF11D9Nx9ZOLIxsv5lBP0PdSfeemPAFbaJpNJWcO5kOOEwZRnlEoXrRI62CO4lT7YHq+B7/SPlrapxGa3glBGiWJYpEiRHAD4N9mU/6uXkQMA/6szlnM8ZyBYCo61gAnUKIioDctn5kqjAKOgpX8WBRq1ZHbCNvU8WAL0KOjJQOk+PzT1qE0iqzQT/9fBo/4bQaJutqUflgA8+uYQHMm5BCbcFMiusV0CU4/LhUBSEqx586oNQNriRsANgufasxzI3Vn1Si9dkqoOsjGImdWLUaMeol49m3Kknzs3H5YutSnzXbdubsyda1QJodmyVCmp7GHCjBludO2aAfvlywitUQP+smXh6doVZ5/ogPovFlXAYM+CI6hWPhXu2Fi1md65Y0X//lZ8/72kwvlNTAjL9+KLEiTgQVSUwQ7KnEoVkRs3zLhzJwWBgMEqySYrka+SaLZ06dLK3Cxsw7vvOjB/vhObN2eiUfh+hDVqpAIbAvnyIVCrFh7Nnh2M4tTvv8xRREQY6tcP4IcfvIrFOH78uEo70g1QqU6eBfBw0SJ4WrVC69a5VdWOpCQxA9uDQTdkXKRtbrLynfXll2HeuhXpX36pklmTHerQIRSbN5uwalUK6tdPRkJCgmJO8p4+jdhBg+AqUQKp27ejdZ9i+PFHJ77/3oXatY2NXJnY3n4bV5btxeBC6/B9YvVgbWTBH23a+DBxoh+hoW51315v78aaTVH4CQ1Rs9/juD98uALTc+fOVdVDJp0/j3z79uEGCqEobqB+9Fl8/9llmBs3VkBUZ25v3TJj+HATTp+WewhIydfRo9144gnJJWmYEuU+tWkTgq1bzThw4BGKF09X369ZswbTR4xQ+QM7ajJvMKZjJgZjI1qiFb5WgSmezZvhLVoUq1ebMXWqA5cuCSttnCQM7qBBUi/aBadTSvd5giZMRqySXaOpXZ4N8RFmdK91/35Y3nsP5n2SHRLwV6kC79ixqnScKSvAggoZWXWaOamU0RzMPgjcdP9f/s91IXPJiGTddMw+KAsoW3Q3FbbBVDUEnnIsn0/6EXJs8pvu66eDzOxAlXJTro+KsHyn/Fiz6mLLOVSaqeiSkeQ5osjkMID/3E09BwD+c+/9H73y3wWB0DSiC1qageiLp7NtFIjcgEV4yYt5vbKDMwo8soNk4+gzww2AoEuOp+ZN0ElTCMfFc6l1kyWQc3Unb/ok0RwkY5PNgiYVgkqymnId3HhUO/HxCHn8cfjz50egYkX4y5eHT0CYpG6R/3PlCkaZOkwmhNWpA0+XLnD16IGiFQoqgLduXRqeftpw7Jf+WH8ZkBQpkaoU1+LFmWjf/rdEvXfvmlUAhVQOkY34zRaXUf+H8bhzMRUzMAT78YRiERcPOYV2z91CSMuWcE2fjgOVOqNp03AFVIoV86NjRxeKFPHjwgUbVq+2q3JxERHA/v2PULKkUaVk3jwLhg93qNq1vXunKRApYxU2UvL4yZzJ/ZCAoRIlIpV/3P0fDsN/6BBs06bBfFlCUwD/Y48h49ixoB8izV4GC2tGeHgI2reX8mduBcIOHTqEFi1aQMrZjwcg4Se3P/sMthdeUIEty5c7cOdOujJty/3mvSSAd2VmwirsrckEpzAhAlASEhAICVFjcLl8KFAgQiXcPn48SV2PRNXu2bMH/kWLMM7vx+WVK5G7Rg1kZkagbNko1KkTwM6dmeo+2X/9FY5nn0UgVy6kHzkCd65cQV9KfeNW4EPqshbNjbBACm680g93Z8xAemamCtSRV3dhUiVHXqlS8PXogeqfDcP5SzY8eJCqIrIJRKgs0d+MrghUwsi8MziiQnkrEu9bkJCQqkD7rYQEzK1VC9Ok+ofyQAR8efJIEWTczFUBJb5fhjdrHcBHXQ4jIBHPZcrAV6KEApV8DqVOtdVq+E/qbDmfcwb6yLswcbwffCbVMyv1gt9/H+bvvguuDe/o0fC/8gq8WVkCaHXgM04/XwItAiBdoZT/dUVQZ+8JtPRxcMw0nVKe6RHIlGdUwMj4y5oXZo8MNq0J8pnny/8so6kzfAR3lJt6mzLXZEop6/QUN3o/BL2MuKYlRo5JSkrKYQD/6E74Fz4/BwD+hW/enzx0BQAlZ5swZPIiiyUCiYKXjJcIJ5o0KYDlGPlOmBxuShSuPEY+M8eWtMsNnEwHHclp6hChqDbeLAHJ9jgempl4vA5cKej1Ywnk9HeylNxEdFaTGwjHp655715Yu3WD+epVlQ8t+8sfEwNvFigUQGhbvRr2Y8fwWWgfdEufj6H9UvDehAB+/fVX5csn7IyYU+VPonlNphAUKRKpQN7RoylBp38ZV1qaBT16/Md6ubKtVzWfxDz/m6iPnxX7Zrp7Fw+QC4Usd+CFDfPn30Tt2olqLoW9k/mR+7hihRP9+tlUabrr110qxYnPF0C+fBJxChw+7EapUj4F+OhTRYaVSaR793ZjytsJCHv1VVVCTdirxeiJKXgH8aaSqh3BfKVKBfDOOx6VdFr6DwsLwbPP+rBmzUPVvuTwEzB28OBBxY4VP3IEd776CoEnnkC3btHYvt2KR4+k0oxZHS+bsYxF1qpKhyFsyfPPw9O3L0LatoX3mWfg+vrrYD61n382o3FjO0aM8GDgwAdqbTVu3Bhnz57FSADbpWTd8eMql5qwVsKESu6/mzeT4DCb4axXD+YzZ+CaMwf+Hj2CCYu56ePaNZUI2Sy5Bl98EfZdO/F87gNYc7YUkjMzVT3ml19+GQUBjJI60i++iDZz5iBPdLSqg7x4sRPnzz9C4cIG2NLZJJ1dl/4IROhf58/MhHnsWJSbMwQPQwvjfNxdWC5dQviwYQjJyqe4HMClvn3Rtm9fVQLQ7Q5FkSJh6NFDElYbpnU+bwQsZBapUEm/DCgiGBVmlOMTZUa3CODMGdgmTIBt0yb1qASKFoVv5Ej4OnaEySZBQYYpVf500y6fK4ItAn5G0hLUyTufewI2gnGaSuV7WhkoK9in7p9HdxKub7oa6HNNFw9eOxVIBo8wgllXeuVadBlKIM3vdLaUFg+y5bqyLO1QxjLAjvMg1yFKWlGhhoGcUnB/8ob6Z3SfAwD/jFn/e/QZDAJhpJ9sLARHNP/KZ10AUjMlK6ALMgoumlvIxJF5IxukO01TaLJdsnxkAGhekt8JyigwOQbeDhGITJXAvHzc1Mgash89cIMO5cxhqJuj5H+aXQKpqTDFxcEqiXHPnlV/4shu/d8Aw7I4h8sojdSIAsjs1gGnGzfGvDVrFACU1+zZs9G6dWsFwF991YnvvpM0IsIYGWyqbFw0T0vqknXrgGvXJPmzF61bA3lDUmBZvx6OZctgligHAK9jMZagB9aUfBsN17VGXFqaap8BIwThn3xSGJMnOzF5shsDBhhVK7Zu9eHVV0NVgEHv3i6MHi1+ngbg3b/fhHfeCVF5+CpU8OHwYQHqHphTU+Fq1QnVDi7CVZSEFR7ULncf+SpE4dYtCw4dsqlgjTJl/Dh82Keu7eFDE27dSkFGRlqQyZHrjH7tNYQeOIDEXbvgr1AJxYtHKx/Jy5cNh3euK27oXDuhEgUplTdEeWjWTLGy/g4dEKhUCRs2BNCxYwhmzkxHr15mBThnzJiBmTNnQrz6kiDBFEdUcIsAmWeeCVPBLA8epMEpZtsRI5SvmsrfZzKCH7gBy9oMf/lluD/6CNZp0xTwN8GPpo0ysXaDS7Fxki7m8ccfD0qM9957D71791bgZOTIcBVccemSCzExhh+p3CsG+xDo6JGjBB3mixfhEKXk6FHUNR/AL4HauP3WJOSdNQ4mlwuphQtjWb16uF+5MurVq6fyRQqT+9lnoXjrrVCVyPvNN420T1T+qNDJetdN63zuCJbUM7Z3L9Jz5VJJzMmehd65A+eUKbCuXauifEUp8Q5taSywAAAgAElEQVQfDne3brCEhgbngM8U5YD8oMsb+V6eX8oAnfHiuAioaEng86z75skxtCLosoJt81nQZQHlDM23stZ04EWgy4uR4xlIpgNXzqGMQWcHdflERVva+t8lsiYrS3DIe0U2WNZYTh7Av8eG/N+5ihwA+N+ZtZxzZAb+QxQwhRBZOppWyHZQE9fBmgg4YQMIHnVHaW6WIoSpzeuCUxeY8j21eYIe+sOw9Bk3Go6TbCD9+wgSuGHQx4/AkO3LcQSGuv8Shbv0SxMPBS0FMDdD5hNT0YRigjx/HiFXrsBy8qQCDsIURiAFBXELcSinLtsbGoo5fj8mZmYiEcDKlStRt25dtTFv3hyKbt2cWLzYhU6djFmiiVres49dN0k5V6yAtX9/telKvdYwpOEu8sMbHY09/ftj+JYtaiMcOHCgYoHEZ+ixx8qiQIFIxMQA586JCdKhANa33/rQtq1UMDCSRoufm/ifMQDh6ad92LxZEg8b/koZGS5UrhSCGzct6IWPMRd9kfZ6dzx49121cVqtoRg0KBzr1tlQtmwAXbp4MXKkHUOGuDF6dIZih5n+I6pJEzhOnEDKqVOYtLK0Aqji8zZ0qLF+5J4x8lRnb8MKFVLl4/jyPvss3Js2weeXMnoWPP10KPr182L8+NQg67ho0SLMmzdPgbP169crJkrM2+XLhyApyYzbB88irHZt8WlA5t69CFStmmWyk+s2fL3C4+Jgr1tX1VE2Xb2qzKnhyTcQHmHGqVOJwYAeCcaQgJrY2Fi0b99egXH5q107RCXBFhOwMKPSpg5G7t8PID5eAH8AZcpIkIEFfjGtrlgBm0TOZmbCV706tjaaipbTnkUvLMQC2wCk9e+PK23bIi0r8l2vUBMbK8DchIcPpS/Dn43PrM5OUenRTcDquPR0hE+aBNv8+fDUro27n38O3L6NmIUL4Vi5UuUQDEh0+tCh8PTqBX+oKBTWIMDhM8s+dfcOWYPMdyj3Un7TmTg+cwSQMjYCWAFZTMsj/4upn4odA9p4LH3sdP876Y/gj88Wf9eBLxlaMo48h9YTygeCad1fmMBWnjM9FRNNuzqo5TNPcCzvcl0MlCMbKQxgDgD8527oOQDwn3vv/+iVKwAoDuqyGZGdo1DlZ4I4AiXpVAS6LvA4EDIzcq4cQ2FOMw/9+3SfGDlWhCTNKLqGTYdqau88nywInbnle9k82BbHQQaBwpqbK/Pw8Zp0kw4DVMgcyDXoNUG5OZClEfZU78c2ejRCZ89GwGJBhD8ZhRz3cfKVd5EcHY3bTid6T52KOGE8VP6+xahVq5a69u++i0SnTk7MmZOON96wBs1H0rZsZjIGsrEE2wqg37wJ27x5EMe+pIRM5PvpS3QNWYNPfV1hkmTcJhOGBAKYk3WTJJ9ftWrVlNno+eed2LfPggcPkoN5Gsl4rF3rV6lWEhPFkd5IIj1xojBVRo5BMjHz5jlUUEi3zo+wILEtHFu3IrNaNZxatEht3rKeZH0NHhyDzz+3Y8ECF8aMseHuXRNGjHDhvfckP57hkxlRs6YyYY59JxnvT46A1B6+fFkqjPyWyoauAV9/bca4cTbEx5vhT3chFKlojS8wyT4G1l++hblMmSA4iIlxIiREEhg/Uhuo3Ft5l/UlKWjEDC9jTUgIV9G0TZv6scX2EqxbtsDbvz9W1ZiKSZNsqoSe5BsU87v4FPbPuxZvn+oEqzKAA2mLFqHnj11VguZvvklVwS4yn/InVURkLgRkyvvNm0DVqrlVdZRt24zobQKwNWucmDLFCsOt0hDxEp3bsF4mZtnfRpUf5ii/vkDNmvBVraoSOucL3MED5MG3i86hdpuiyjdMrlH884xSdV5MmBCKmTOdaNXKhxUrMtQ4qFzJPU1M9GLMGKkoI6AwoPxGx4xx47HHPEYanv37Ed61Kyy3b8MfHo7kYcNgv3sXoZ9+qsBoICwM7j594Bk4EP6ssoiUI/JOJlPuNyNmKRt0YKWbk2mapaJA878+X2yXjJruRsJnXs6j0kCgRblC9lGXT2RieU+ym2Xpv6eDNirGNI8TBPK51ZVcWk4oX9ker5fKjlw3FVLdhYYm8JxE0H90G/xrn58DAP/a9+/PHP3vooDJiomQEaHEzYMsIAWUCDM6nzPKkhF/FPa67xKFF9k4RtXR74hsHzVdftbNPhSGDPbQWQld4yZDyBxfZBEo/GXT4eYi39HhXBfGBKN6Ogeez3f5TQIYCEZkExUWzydpWvbtg69IEZiKFUPFqlI2Szb7h0hPT1XmQCnhduzYMWzcuFExcXKuAKQePexYv96OX37JROXKv1Xp4PXRFKT7VHIeCNquXDGjQgUbBg70YNTIJLju3cPBLVvw0dtv44xE12alc5GgC7ln7dqF4ptvDBaPbCOBr7Qt7cpcknXjRkl2SL4vXdoAifHxd+HNSIOjd2/k+eEHRPj9GDt5MmrUqKGuMyamEAoWjETx4n7s3OlWyaATE8XkKaXpvChePICEeVuwxdUYqYhEdLSYjCVq2AC/jPCUZM4NG0YgIcGoIlKypB+hV8/hhrcgHiKPSnEy9n0XhgzxBqMp+/SxYdUqMXe70LevRzGJZKXJMsl3Tz4ZilOnLDjy0VZUG/oC3AWK4Il8l3D0hF31VauWD8WKCZgD9v1sg8ttRjQScQJVUAi3lYn4yoAJKDNnBEJCgEOHJEebYd6kr6v0k55uRmxsCCTIZ+fONFSv7gsmmG7VyqkqeQjga9DAhccfT4fHY8f2r4BLCWHKxLzM1A2dAiuCsiMQGYnDfRag7kftVHBO+/ZujBuXifBwoxrP5cuRGD5cwL5ZpZA5fToDFoth9jeeOzNeesmOXbsk16IobxKZquJp1KtkCR++e2Y8Sn82XjHbvkqV4KpfHyGrVsGUmoqA3Y7Mrl3xqF8/mAsWDKaTos8wwRpdQugvLGta/gSEyztlUHY/YT4DOvvLY+Q7AVwsj0YZQEWN7zQN00eQ61o+y4tmXAaPybu0STnFgBxOOhk4Picco3zWI9YJ6Gi1oOLM86kg0PWG7dDdQeZK7iFlLUElx59TC/jP3EL//L5zAOCffw/+qiMIMoACBkTg6JqmCC5qyCJ0yJYx0IKCjABR3tkOwRMBEzcAnSGUvvQ2uMnTPKIzkRSGBIV6kArBpq4564CO18FxU8unAKUpit8T5OgmRp2dECaHm4OAZGEAGZggxwlzIG3KbwsXRmL8+HBMnPgIHTsmqe8lP5v0Vbx48aC/l9MZioIFIxAVJWWC04PMFedNjt+924tt26S6hwnlygHdu8vGZSR95jxnZEggRzgaN/Zh3boUBTqEIbh29SoKdumC+Lx5UXjmTBStWlX1UbduBC5eNCMlxQj24ByQ4ZVjyDTo4P63+yFVLULw3HM+fPmlCzdu3MCtGzcQ17gxBJ7sheSr+wb/i73vgJKqWLfenaYnw4CgRAlDEgkSBEFyUBABARFBFMUAV8BAFEWiAQRBQUDFgAExIGJAwAAIqESJkjMKDHny9HT4164ze6jL8q31e+999xmm15rV093n1KlTVeer/e0vVa9e3Zie27SJxo8/Mm9fNoJBN8aPd+O117w4e/aiGCuCs7jz4TiMGsXE3Y6JUuvwwoUQqlWLw/nzQJ8+ZKvIXOaiWMOGppzel6X74o6MV3D2nAsTJrDyiFMj9+zZAGj6PHsWJt/imDHMq5ib72N55kwUevaMN/6NnW7KwoItleE5dgz1K5zEhgPF0L59yOQPZEJupt0wPpWjx2LqGyVNQmXWbT58dXtg2tMI1a2L99+PchJBRwG9eoXwxBPpYBBuamoQkybF4Y03WFcZePzxIEaOvJjj8J574rBwoQ+NGuWaqi65uRk49euvKPPGGyg8axZ2hKuhIdYiEzH4Fi3QHN8hXLo00hllW6oUtm8nkIs1SofLFQFjuwgIZb6vWzeMZcvItjug1AFkuahXL96kfqlePYQxYzLRqFG6+X3vXmDiY34sW3uZKU24E1VRDkcQ8XqNvyVZ7uzbb0fKAw/AfeWV+fPE50ElILWuxAbzGZE7g2SAQJPAmq0cau65JsWg2Qwiz5XM0Pl61qWoSqnVcyygqXN5DSk1euZkNdAzoTUvIKfxk0LJ54SmdjF2aoeKhnygDZ+bl6dT46I+CaBSLtlBJQLpYkpl/ZAs5PWYpqkgCOTPug3/e/0uAID/3vj9nc82APD48eMGxNibv534VOZcacgS3vKjkWAUgySmhgyZUp0oSlgsn/x+bPOHMTFFIvnmZQlLGwT9FvslIa+NQu1IQIpRFPsgcGgDC/WL59hsBe9F0Y8SwGQr6HdDsxrvg+ydovRsYe2YvGJx+eWxiISBdUuP48prYvPzCLJtsoZ879w5HqtWRWHs2EwMG/bPhefnzPFgwgSvMZnaVTbI0hB4vftuGHFxTjUR9qdq1SjDjh0+fAqxsVEGAEYfOICirVubSFWa5tL698eJ7oNQtW4JNGwYxsqvs5GTmYnYIkVMf+z0GALzMptrI+a1zpxxoWzZGNx3XxAvvJBrzI7bt29H27ZtwdS0xxhlu2SJAYAMsujd24MPP/SYqF760YkhOn06jJTjEZS7tjSSSsUhi5mN8wID+K656tHDi88/j8LTT2ejX79s00+urVKtWsF34ADOLlqEtFrX4ZpriuLCBZepopKQ4DNjw/Fr0CDGlEpjAmqybiyAc/iwG3v2OGL05ptD+KjyCERNmYKldQbjxk2T0aJFjgHTXM9cQ5z73JQU1OncGe7MTEzxDcOQ3Il44P4cTJ7igDle76uvYtGvn9eMEU3GzJLkkE1OKbhx45hux0mtw3ZPngyiUqXCJlhm/fp0B5zu24foe+9F/LZtCPv9CFWpgiNb01AZe1EZe7ATVzmgqEkTBN57D+6iRc31v/vOg3Hj2CZZUpaIC+H555nM2WFFBYjYz3vvjcWHH3pxV5cUzJgbC8oDskqB9HRU/fBDXDZnDj4JdUBXfIzSOIYjuNJhzNq1Q/qYMUgvUcKAJ64zrnk+83xWVHWHx/KzTKlizPguWcJ+6Pm69HsBHrZjg0DJHRsw6ZnXmmFbWkf632bkJGMkM6QA2zJHz5XYfimG/N5WRHmO+sT/jY9ofHy+G4yub1+D15dSLD9J/W6bpeXLKLZScpPvfOYK8gD+fbfxAgD49537f/fO84NAyGgIXElYS4uW6Vd+e7b2LHZNx/Ac/tn+LBRoEuJi22RakflDx0i4/pZpVsJWLIAtSCVcbdZO0Xa2KUjClv0WAyh/Nm0aErx2mgmlQ5EpTw7cHCteRwKa7BA3QNUcZZ9XrvSja9dYeCJB9Cm0AE93WIWY62vQjokP15bH2LF+A0JatAjhkzFrEHXkCHI6dDAJcgcPjsKcOX74/QQnWbj33nOGJVyzpgimT+d5LhPEsWMHzVUO+HjrrRgMGhSFTp1yMW+eA+ZMROPu3YibPBlR779vgkXqeX/CxmAtfLU41UTtxj7wALLnzUOE9BC8mDTJg1dfvcjOFS7Myh65eOyxIOLjHR9Amg7j46PQrl0Q8+dnGZB09OhRAwKHDx+OyZMnGx9HJhongOzUKQGrVjG/o5M0maY7jqFnxAhktWuHQozgrVLFBHBg+3a4OnTI9w90uTy47LJYFCsWwfbtqYZt3LVrl0nn0nf6dJwqVw4J8+eb4xcvTsBDD12Ohx7KNkmaNe9utxezZ4cxdWoUjh1jRC9BKIx/48SJQdSP2wF/gwZEGqiffAabdsRg27bjSEwMGbM9S+Hxtax5c7RZsQLZrVsjc9IkVGhR26S9+fXXzH/Kf8hjly93Yfp0jwksiY8P4667IujSxan6InMf12P//lF4+20C3Axcd10AOa+/jsIjRyImNxc/MQCgUSNUy0uk3Apf41u0xP77JqD4zbWBxo3hjY3N9ze8tG09C3qGFAVLc2/RorG43HMKhwvVxI5330WoaFGkr1mD5AkTcMWJE4btI3LtGXkX89Ejv3IJ8waenzkTuPZaA2LpS8x1z3Q6lCcEgLaZVmBLc6E+iO2SBUHPsIIgxEYLIAoEipGWa4meWxuEcVylIPJ4XlMAUMdxHcpf2QaqAvIK3FCQiZ53XU8+hhcZVSeQx5ZTthlZEcFsR/LzUlApq4qsILaglwIrIG8SmhcrxkMK0sD8uzvin/D8AgD4J5y0P0iX830AaZ6zTSACQ9JQbe1Zm4scm20hJeEuhs/W8KUx20DSDsKQb4sNKsX8SLO3hb8EsN1HCWGZb9QPtaNzbLORmE+BU92fmAiZv8n8cGMj48Q/Mn/sj12YnQCQ4FZO4GQAeP4PM3eg58jKOBMuYtigaGQjCK/J1edxhdCj/h68+nIOcgsXRmL58gg1bYqXG7+BB58pb3zmvv/+AjIzz+bniWO7vA6BzLhxMXkpVjLzo2Svuy4KW7a40axZGHPmBA3zI4Z2x2f7cc+9cdiWVh6dsRALyjyE4AMPIOqJJxBs3hxfPfQxbulRGDk5LlMbuEoVx0dq714PMjMd9uzdd7PQvr3jQ1mtWmGkprK0W7qpIMJ75ybHsRA7w80uOjoexYrFoWTJCHbsyMxPrWE26UGD4GUgAd0OaDcNBg0AinTvnu+zOX9+BH37xmH06Cz07XvaME7PPPOMiaT+DMA/4uLw3tKlhlXl+Fx1VRkUKhTBzz+nmXFRII9AEOeFgIXVOXw//ghX06bwtW0Lz+rVyB0zBnFPPYkKFcJYseKUqRzy+uuvm6hhP4A1rME6cCBKDxqEYsWLY+BAv0lYvW1bBipWdMzmWqsCHAIUhiW+cAHR6ekIlCmTz4xVrRpt0uMc3nYY/sGDEffxx2bcpwA4CGAC11qHDshp0QKrCnVGxz5lTZqexx8nEL9YJs9m0hUVK1OrFBUpe68MPYQhL9fANAzCgCs/xc/jxyPz/fdR54svwLTUv/j9KMXiyQB+xRUohV/RovAmLL7zLWRfdRVC11wDb5Uq5nkgE6WgLQJ+rjdFlvO6YuJlbmU/ZfYUGBMLJjZNSp6ef7GIUiilONqWBD3HAr0CX3amAIFJKasCcWILbauHFGGBNPVBckEKpNrk9dkfG7DyXPVZfZWc4TMiUKf+2CylshDoGB4vf0e2xTXM8owFAPAPsqv+l7tRAAD/ywP+F7pcfi1gbpoSfiqHJNOnhDd/t9k9Ch+bZROQss0UEoQS6BLkMgNpA5AwFFvHzzbDZwcmiEkQMyDgKrZBPjk248C25IQvEKh+SvirT5eapXg8tWwdr01O7J9ALL/n/7awJxBRv3j8krm/YOrUaJw+EUJ01nm0yvkCYzEa0XBynkWoyZ89C1cohFI4htPu4ji87RfElEoygIqbrBzeWb+Z17rvvsuweLEPK1emo359r/kuEAijffs4rF3rmMDKlImAU8zgBaYA4atL89N433UbvMuX5y/pDaiDhlgHt9eN5yZn4847GUTgsCYEdfPnezBoUKypMEIftWbNgpgyxY9x4/wYNCgdTz/tmL7EqhA0c41wwxo6NM4wii+8EMDddzvHaOP3ffABou5hnQznFUlIQOaBA8jNCzjicZMmuTB6tB9LlmSgUaMwtm3bZuoTE5gxyc5uACtWrDDmMM5DmzaVkJbmwfHjWfkRy3Y0t9aY6+efEdulC3IeeQTRQ4aYMnuBdesQVyQRjRvTl/KUMfuyYsldd92FywEwK6EnKQkrV64015syhWbpeCxblmWiem1FQ6wx79ewP0zU3L07ImlpxnfPXbKkGZ9SpTyIBHJxvFBleA4fRqBIEcxp0gSDFi1CDQLO8uWx5KuvDLA4cyYR11xTCAMH5mLCBAZ0OMy7WC49p2Ys80yVNtjh+nJNmIB/TEzG67gXZzv1Qvj+XogdNgwxO3aAkG8eYPIk1u7TB/6GDU20cbU2DXD55cwJ6SQXlxKoiGquT7JR7IfcSnhdKWB85/qgrzCfRztwQ32VLDBAOa//HEP7uRLoEigSqJSM0vWkkPJ720oggCW5YLOBWoO6Ht8F9ngc59DOF2qbi3mu7ZOr60hGaS6Med8w6I4fpi3r2IZkje5DQW3qk+6F5xPkF/gA/oV25d95KwUA8HcO2B/g8DEARl/SD+5fVfO+45yOBXBfngwm4dCfJIx1Du10JAd6AIaUWEoSBMDJ33F/+ZVAFLxBQWODNn6WsL7UtCKhajtF52/geZuOzfZRUHID5mYhISfQKDAg/0F9bwNBMQg8RuyCzeQJ+OkcW5DLf0f+PAJ9ercFNe9TWrnYFIIugkABCI6JhLdMRLwetXExmTxG7AOvw01DLJzGLOr8ebjWrEF45Ur4fvgBri1bDAu2CbVRF5twG97HvKR/4Hj//vipfn28/d57+OCDDzBnzhyTP5AAMzW1EGrUSESTJiEsWeL4d2mj3bzZY3LubdzIgBsYU3KTJkGT/Jm+gmZjmjULMYMHm+Eqh4M4ijL4sUZfVPxsLHIs3y3eJ9s+etSPevViDaBkFRGWWqtcORYpKcCwYax1TJOzE0lOX7K4uAQMH+7Dq6/GGCC6eTPr+jLK1Ul2vWpVAGMe82HrphBC8MKPHLQuuwsTllZHmTJOnje29corXjz6qB9z52Ya8zYrqqxZswYPP/ywuc7gwYNx9913GxM8X3XqlDQRrQcOpOeDDq4Drj+BJbOOmL9u+PD8xyb9008Rad4cRYvGo2LFMFavPm/mngmkDxw4gB49+MixrnNDPPfcc6hQoQIee6wI3norGtu2ZeHKK53AHLkY2Ln9opg3sFMnuH75BeHrr0du+/YIDRqEYCCAayqG8eu5WGQhFjmtW+P0pElIi4lBtWrVzPVofiYDyfFYtiwJd98dY8r2MdCF60vmZDHXnC9FOou1MsD8+HH47roLnh9+wL2e1/Ba6B4cGzwOJac/ZdIGbYuKQo9AwESNN27cGOPHj0dycrIBPuXLF0Xx4mSkT+dHyHKN8zp8V6Qq54B9UtSuGHk9T3p2bPZdjKANnqVcicnn8Xzpfvi/LWNsGcHfbHClY2Uythk9PbMCajajKFMtz5dywzb4v0CqQKAYTK1tKan6XTLKDn5TH9m+5JB+l7yywasiqKWwFiSC/h073l/w0AIA+OebVALAbgBaW10PAiY3MF/cjR7LK4tK6w9LpJIEoMd3dt4xswDcBKAPAzkAzDD1vIDGv2M48n0ACVb4kr+MWEAJItu0Ko1YUbsy88lvRYLVZvN0vgQnBZuAmv2/2rYFsM1c2Jq6WAE7fYQ2D96LtGf5I2rTUL9sp3Mez+8lcNkPshM2WOUmR+DGseIGZ/sTaTPgMfyjCYyMHXO+aVPSGCgxrOp+igUNMfqvRw94Fi/GBIzEKDyF1WiExvjBzM2BhATck5aGlYBJ/MrgCrKAvI/kZG64BDtZZqMmENVGJzCrzVabk2EjfvgBvq5d4WLwBqqjBrahExbhE9xicvltefZZjO3bF/1r10bpsWMRFx9v2IYBA2Lx7rs+LFuWiyZNwibQoW5d1hh2zMatW4dRokQIR4+6sXw5I01dJqfcunVZKFzYAXTnz2eiXbskbNvmAMFynqNICJ3DSVxukljz1adPLmbPdqLRf/kljOTkGDRsGMSyZU4eP94Lx5NgkMfQlYH3feSID3XrJqJlyyAWL3bYIwcAMLehB+++y+AYBumEcUNwMSYe7YVEpJtjwqVKIdynD65dPBabN7tx8CD9Oh0WmGuI80pGkNcmy0XzW3JyEoJBmsEzTRsCOt9/H8FTT/lMaTl/IB0NjnyEZ3MfRXzXNgjeeSf8t9yC7G++Meb3sWvaYDxGY1bXz9Dr9WYIsKZxTg5YqpHMGuecY88+XHddHHbudOPUKbJoDkMlkCXw77hSkEm3gNAnnyD2wQfhOncO4erVMafZ63hg5rUYi1EY5ZuIzMGD8fPNN4PZX7jGqfjQ1YHrec+eMBo3LoYWLbIwb55TrlDPklhO9pfPBc/h9fmsCARxTPhs8DfOh0y1MpXbrJ2+kxwQOBIQkqKoNc62bKAmxk4g2PY5tmWZgLNkBK9j95f3oudX8tEOaDPuCz5fPvDVeNhWhEvBuawgsqxI4RTYlZzi9+qrmEz5HguM8r4YlFbAAP6OXe8vdmgBAPzzTSgBYGdaV36j65zPX/PYPdZy54vOvWT2CPbm530+BaAngI/yjiF7uBPAdQB+/P8ckn+qBSwGQYCM72JMBKhsJk0RnAJlNviyzVEyiUiAynlZQlf1OmXGUbt6t03KMnXJfMQNxdbobXAj7VyA1O6vNhAeIyChzUXjoM2HYEpgUw7gFOoyQ2nzEwPC77U5mgAHjycv3Qgwd64fkyfTLMlIX2b2B9q1C+O554Io/tNiU0qMUR5PbrsNz65rgw2D56LSlalIc7nw6YoVeH3BAhMQ0KR5c4wePRoVK1Y0G3WVKgkmwvTYMSfHne5B4FmmMo6bzLPaRBgZHLVvH/oMKoL565Kxu+YtqLR3GVxZWTheqhTO/vILqgNYV6ECEt97D8UqVkR6ejTKlYtFmzZhfPGFkwQ5MzOAF16IwksveayI5QhKlIjgvvvSMXw4I0Ed82haWgaaNi2KvXvdaNMmiMmTz6HC2P6I//hjhEqWxLdvbEW//kk4cMCN3r0DmD3biV5t1CjBVM7YvDkNV155EeSLFebY8/46dYrDd995sW5dJq66yjmO8QojR0YjEHDy3MXHMxegy/wxt15vvI256INAnz7ImjwZK1ZHo3PnOLRpk4O33z5v2pACI0aX62Hu3DhTWq1v3xy88AL1OGDLlgi6dYvD8ePOkxjtCyGcG0IAfpOnsG3TdHyxoyI8Z07lp1TJqlIDCXu3INH4LaYiNtZJk8RrGV9FrzevYkwIt94ajYYNQ/j6a4eFkl9YVlYupkxx4+WX/Xlz4NRjrlolhHHlXke3JQ+Y/piEzSNGwDv+KSQEziDek4W93+4w1U4ENnRNAZUePeLwzTfRWKCQlwAAACAASURBVLnyFMqXd1hHjYn8YvkdQSOBnx0gxTalVIrF07Oq6wnAaozFjOn5Zb9lAmUbCtJygH3Q9EWsmOSPLct0PTGyvJ4YeTGXuifbj0++g7ZskaIooK/fxFYLuAkQ6jmULJA81XMqAK8xkFJo37OCZmxgyH5zvAt8AP8/d7y/4GEFAPDPN6kEgEPzmDsyeqR4yPgdAVCBtdsBXANgs3VrJH74+SEALQF8AyApr5SpDjsMYBqAqf/DkNBUzD+9WMLiGNM+JCWxqX82rdisgs2OSQDJ1CTBq/dLBbLyYOk8ASsJSYIlsitixCR8eX0JWIFDMQMSpBKYuiExQgI86qM2Am0MAoDsg/yQ2Db7IY1dGxU3HW5wfGcfbXORNmeZe5kjkO1xPMkSkSHiOQcOMMmw30SCEnxUq5aLuDiyS0zV4fR+xIigcerndRYsiEKfPlEYNSqAEbU+w6mrrsKR06exZcsW89ehQweTR5CC3+2OQqlSSSZgYdOm7Hwzku0baTb9vLyOGhubVeA4MH/cypVeHD+eAnJyOdu3Y96QIcjavBl9AZRi6o8rr0Tg7bfhqV8fiYl+k17k++8d0CPzl8NAhUzOPUYok5gW6NTcPv98LMaM8RhwN21auokgTXj/fZQZNw7pDz6I9CeeAHMj0tS8f78H69dnoFy5bGzcmIB27aJMeboffqC59SJrK5PrI4/E4M03o0yal++/d8yS06Z5MGpUNFi05bHHMtG/fwhpaRcQv2UL1tw8Cw/jBexHMm6suAvvbywBT16lkyZNYrBliwe33JKLOXPoC+kALq4jApqJE5k3j4wwI7EvIDHRjZ9+CqN160ImwrhbtyCeLvU8Kk4dYZJEf9L7XYxcdyt27fLiamzDFtQEvTSDrVsj5733MGVmAkaPjjJVRhYuDKBOHSdylfPj8/kxY4YHjz1G0yqwfv0FlCnjlAfjPZ4+7Ufdul6cO0dfwwgaNsxBUlIER/cEsWlHLMLwoKHrR6yJXGeuadaEx4N+NVbilc2NceONuXj/fadKip5lASRGog8dGo3k5CC+/vpXcwzXtp43gjZFyrO//GM0MF8EkHqm+K51aMsBKVNsTwqiwJwYNjGIKg0n1k+KpA0AOUdiy37LnUTMHfusPgpsS9njuyKUpUzKhKu+s9+UDVJC2S77J8VUPsFKoSTXFf0uK4LAsS23Lx0H3p/Gh9cVc0iZVQAA/3wg4D/V4wIA+J8ayf9eO+0AxOf5rVNK0h+Q++vVeaZe+vyVBJDHH5iOfWDCR4Hb8pi/Ny4BczxmHbNO5JmQf+tufsv30KTToFlG2quYMglg+TMJBPJ325FbTCF/l2CUz440c5lbBdgkZG0WTQElvK60XZljxM4ZOBF2SpHpGvxO5mcbZNobh45R/wSCBBrszYJ9tsGR/CK1cRHs2WMkMCmwynOVO49Rw7/+motrrikMuj4OHhxA//4nTZUHbqDsz88/x6F7d78xnz7+eAAjR7J0WATFisWicHwQJ85EIZyQgKxOnZDevTtya9dGdF6JNd7Hc88xACEW06fnGJOp5lGblvyKxHjwdwWS2Jtmt24+LF7sMRU9EhOjjOlx2bJlGDhwIIjj1lapggq7d5so3azxTyF+xGATjLF0qQMYbHZGrKjYX0VKaw2VLRuF1FQGpWTjwoVz2LdvH8pkZaH8jTfiwyefRJWuXY059+BBH66//jK0bh3EokW5Bny9+moEDz8cY9Z3zZph9O6di8TECNau9eH99z1IT3cZ3721a8mahXHunA8VKhCUR7Bp0wWTioVmM45LsVmzkDhlCkIuD64vdxQ/HiyBV14JoHt3p/xWdnYQLVokYMcOpzLHddeFDNA+c8YxbTMqmpHGq1enmkhrAoZSpWKMefnzT8+jyUePIv7NNxGOisKxiRMR06sXCo0bh3tn1MfbuBP98RJmYoC5l9y+fZE7ZQomTKRvH2NwgSuuiKBChQBCIS/oz0lTOiunfPttJqpVcwII+EpNDaNq1TgGF2PkyBwMHRpAdnYmvPPno8jjjyM7M4xuMYvxZVYLXI9VWIWm5rzsqVMRvv9+tGwZbQKGGKE9aFAW+vWjWTmCJUtY/i/egGCmH1q16hcUKuREHBPoSEmU6wbXvUoncu75Jx9irQE9JzpXgkrgKpieDt+KFaRtEWjTxoypnj2tZT5z/F/g1zafym1FMkMAUPJCskLf891O66SSc2LLJavkamL7PGvd61oCabY1QBYMWVNkReH3/F/PK8dBzDLHRgoV/XzZJ9uUzN+VjJ5MLV1NCqKA/3sb+B/pSgUA8I80G/9aXxhsR/bu0Twz7v8WAPwfGUCaEcWSOQxOTn5pJoEtaa/yYZHA4ve2I7a0a9vhWeWM5CunYwRS7LYk5CWABeRs30KZjcXoiVngMRLYYvDUfx1rO3qrfrAAp1g+AgSb0ZKZWBGtdlvccJQkWOwEBbs2uI4dfVi+PArTpp1Fly6Zxp9L/ko8zqki4ketWmQNXTh+PAN0yXzggWjMm+fBIxUXYcqR7nDl1eUKVa2KYO/eiPTqhZ1ni6Bhw3iTZPjYoTPwpV0wkcTaVDIy/Bgxwo1FixywQnNgqVJhDB8eNBUqyM7JPPXBB17ce28MHnkkB48/nm5YJd43x4uO5kWTklD8nXcQPXYspoYGYjCmYtLYVAwa7od7wwZkV6uG2EKFzHnaoAXW2QbBMOfk6FH68vkNqzZ3bo5hS5jKhSXyvgRA7eirr74ywRUEyXXrFjGVLU6fzsw3bW/a5MOQIT4T3OLU5nVeBHl33+1U+uC98Xr9+8eacfzqqyxUqHDCrA+C2x07duCmiRNR/OhRnJ01C7k33IyyZYuaknQbNzJQxSlNxvGZOxeYONGHAweUjJv+hsD994fw2GNk55xKEszccuedceh3bzqeP3YrYpYsQSA+HlOaNUOxzp3R4swZVBwxwrRbDCkm4ONsz/sRue025DRuDHdevec9e7IwenQ8li71gllYOG8MEP/HP3IxaBDr8kbyAKqTRPrRR2Px+us+TJqUjT590uDKyIB74EAU+fxzc63znTsjcckStM7+AsvRAqvR2PiWRgguZs+Gp1s33HefG/Pns8a3k7jaeXHNsAReGIsWMXo3iJMnT+YHN2m98zmSvx0BiZ4jPS9iTTVPfLYEYAxbd+YMvMuWwfvpp3AtWWLKy7GiSmDVqvwUPjLz69my3TLkU8ix0LMl4MVnQX6wthIrecc+CQwquldtCHjKHG1bDnQ++y8GVAqPrmeDOrF8tjKrNgSgZc7n9aQcSw5JjvF8yTauuYI0MP/apvtXOasAAP41ZnI9gK8BvPq/aAK+dKTyS8ExDQyFCgWXGD8xOmLVJFDtKDSBNVsYE0wpMlYAi8dJ4xWjZrNxYv3k+2I7dEvgiZWTwJYZ2PaXsX1obGZODudiTHiczMMaFLF2YhB0vzyXQIgARpq5UkHoXgkAyXSIZWOfHG2ewRCJKF06hPXrzxmgSHB55MgR3HPPPRgxYgR69eplzvvss2jcf39hDBqUg0mTYFK5VK/ux9GjLjS+NhMvNXkfV385BZ6ff0YAXox1jcVkDEUuvFjwQRra3uhGTK1ayHnlFeTWr48ZM/x44gmWiXOhSJGwqWFL/7fdu+mT6Hz3ww+5KFYsM59duOKKOBM0sH8/TfLsg1PzWLWeDYj7fh0q3VQHqZF4ZJSpgqw3XkPMggUI0bw3aVLeOorgww/DSEnxmBJoXbs6zBXHdO1aP1q39mHs2Bw88kjAgLFHHnkEn376KZIB7KMT648/GhMrTVtduhTF2rVeUz3EHl9n8/NhxQqa6L2oWpXVPZyKKGJm2P/SpRMRExPBnj2pJlhk9erVGDZsGHJOn8bP4TB+HDYMdfr3N/Pbo0dhU4f3yJFsA/B0PZne2B6Zy6JFCXicTZprQ+PTqFEMtm934XztpkjYtBpZxYujRU4O1l64gMoAtkVHG/N64IYbMDoyHs99WgNvv52Fjh0dXz/2XcCI61LmTT4PMnnapkoBFFabIV49cOACsn/4AUn9+8N/+DBOezyY37Ah7t+3D1EnT+IEiqMETuC64vvw7cytQMuWJvG31jyDZKZP95qawUzyXakSMHRoFkqUcAKieD0yfOwjPwv8KCqe/eTvAvycb44rv5fJUs9e5MwZ+JYuhfvjj+H59lu48vINkmEOt2qFYKdOcN99tzHHywyuZ1auIGLyNU56zvl86liZcmWiFpiTC4rMwGrTZs4lxyRrBN6k2PBdLiFSbjVPHCutG92zzLqSQ7YyzfnW/dh9kGWF/ZNyLr9MXpPKGd1BChjAvwYQ+L13UQAAf++I/fGOpzn4aJ4peHpeEAgDQJjmhS8CtZTfCAK5HcCCvGOYCm3XvxIEwiS3MgHbQ2MDLglLe3O1AZTYLr4L2NnsntK/XKqBK6eeBKIdICIhJ8BnC2gez2hMfkcWQiykfG1s7V7XVH/FZIotZBtiGSVgeU2ep9QvMhtxo5NfFH837Mr588Y5X599a9ci6pNPgIoV8cahlug/qx6eGXcGve9xIleZu+7ZZ58155YrVw4LFy40piz6TJUsmYgiRSLYu9fJC8javqyfu3Fj3kJIBHyuIM6nuhGKeBCHdCxAF7S9YhsCPXog6u23TZLh52/8EkM+b2UYsTffzEDz5g6w4EbPHH7TphXFiy+SfQS2bUszYIdjxiCO0aOjDQu2bh1Nuw7rxntzzN40yUZj1y43hlX4EBMP3IYIKxoULgz3qVM49Oon6PdRe3zzjddExerldtN8GsHMmQHDaF17bTQefjiAESMcULx+/XrcfjuXs/P6gSAmKcmsyxtuuAw//+zBhQtO+iAxIWKEtSZtPy2Z4jhXiYmx5tqffHLWAEDWJmbKGIbUM9q1cZ8+5jOvN2tWEp56KhbLl9P/zknbI3AnsCV2VRs8a+K6T5+Gp2xZlC3lBs5dwMlwMeRcfTU2jRuHRl26gHUh6OcRW78+Orz8MpJKl8bBgzFo0CAeQ4YEMG6cE8lrK1ICF/pOyoe9nvndnj1u1K7tN+X4ppZ/DrFjxph0LssA3AvgPQC1rrgC4Y4dzV+9h27AsWMsaefUqNWzwrUh8CnfNY23rsnnjoBdwU0cT0YIC2QJwJKV4otrhmubzyifTXdKCjyffYbwRx/Bu2qVyXdpnu+4OIRuuAHhzp0RaNUKrkKFzPFikgXAtD7ki0uwyWvwJRZNIEoWBAE++SILUMkKwXM5jlJQ9bueZx5nm20JaAVItQYkS6QMaI1Ieb4U8PF3ubfYwFjrzQa07J/aUV/kYsF7L8gDaO9af7//CwDgn2/OCe5YvIBmX/r6MecfI4K5JzG6l2lgaCe6K68IANPA1PyNNDDt80BhKgACR74a/Y7hyE8ETR8SmR+krWpDFfjR9xJGRnDnFVG3GTsKS6UhsU0V9vn8XxUjpAXLFClhL/ZFEbUS2GIqBUptPxyZlrR5UFDTvC02UP59aksATyYcHk8Bz83iIisSzE/wzL7YvkD8TADI64oZTYiLQ9wtt8CzYoVJrzEG47AO9VCn1AlklSyJL3btwjdpaXidkT716mHGjBkmjQP/qlaNQUYGa9jmGKHPfnBsd+4MYNSoOGzdCuTmulG0aAiD+mfizpiP4HvnHXisZM5kB+OQiThvAGt/PAp/UVaYOGfuwU4i/fXXl+O++6LRvHkIixc7uRV5b48+6sXMmU4N2euuC6NdO5oZXfjqqyisXEn2EOjZM4jZs7LgnzULvpEjTWm5vaiI2tiCTMSa4Iz77w+gSpVcHDnixmuvxWDHDm56wIcfZqJ791hccUUYW7emmfs7dOhQfsoLjSVBA1PFXHXVlaa9DRtSzRqV+V+mQLkaKCrUNplxDGNivKhTJ4zly7ON0sCcgUwe/QlTosTGYtCgQbjppptMu08/7ceUKXH48cdsE+CiNS5zHNeHgIIAR8z06XAx0vv661G+WSWEIm782roXzsyahXPBINauXYs+fRjAD5O2h0wnGZvdu6PRrFkhjBgRML6fujfej0CfgI0UFMddgNHL2QZUhQMBrFjtQ7t2fkys8jKG7e5nAjsO9u2L5FdeMawjGccZ33yDisnJxqTevn081q/34vz5jHxTou0vZ7NUHGMx42I7uYZk5ueaFxsuczD7x/XGl6mWc+wYYpcuhe+zz+Bbv97kuTTjWrgwgu3bw9W1K0ItWyJgmW85Fvb6F6ASqNNnG2gJhMlnkNeQsidQp7Ui0Cfrgs0Y838pklJQNT6ShXZC8d+SP7JKyPdZ15eirO8F7iSftN4kC2Vh0XH8TMBHGaW1wfkoSAPzO3a9v9ihBQDwzzehTOVCL+yieYBvNYDH80y/RjblgcL78xJB83cmed5j3aoSQZM2sRNBn/gdw5GfB5COxjJ3SKuVH4ttzhUrIdPnRWYoZAS2fOUkACnwxJzwd4FK2/wrbZdtymQswWyfq/5IW7d9YfSdzCQS1HYAiwI+bLZRANXW8HUdMh2mckNe5QKbXeR12M75X39FzNGj8B04AP+BA4javx/e/fvh3rcPruxsTMNDeATT8DE64xYsQqh4cfx8441oNm+eAQcTJ07ELbfcYhhE9qF8+QQT4Xnw4MVoXgFkRRry3ghcBWwN23XkCHwdOsC9f38+6JyDe3Bnxe+wfcwYLE9JMSwbWa4bbrjBJDFme9dem4iDB5lPjul0HJ85/i1dGoUnn/SaXHPOcjRbE5KTIybI4I47vAivWQPPY4/B++OPCMKNojiLNCTg7UpjcMuGIWBssMyGnJ/Nm2Nx883xJv1N06a5+PZbH5YuDaBBA+deBezFLvE+hw+PxiuvRGP27CwDOvmd1hbHX76qXDsEIPxOCoTAQnJyLC5ccJmAk9xcJ2cgo7X3799vqlbwj6ZmgpU6daIMo3byZAZiYpz7Zt9p1n38ca/Ja0h/vEqVgiYJc5nQASQ0bIhIiRJwnTiBJplLsQaNsWPLSRS93HHk54ZNRpMgt3z58qhbt66Zh6FDE/Dmm34sXpyDpk0dP1pbkZJyJebPVsxyd+0yJl3vgAHY2nkkrnmuDwZgOqaWnoTU2bOxIzER3bt3N+uK72RXyTDzGo0aFcahQ/SpTM+vYe0AiywcP84o4gAqVqQvXY45n+cIAPF/Ph8cQ7H6BJXstz4bM+zOnYj58kvELlmC6B078kVSpHhx5N50E0KdOgEtWsCVFwTBc/i61N1DjLx86yQ/BPwkXwTCdCEpqezrpRG2dnSt1p2AmdhQtcPvFfQhhvbSY8TmcW1KabTlnICp7kEyRyy1nm8BOq1hrQeZtW2GWwE4VAS4lmlJKDAB/46d7y90aAEA/AtN5n/5VgwA/OWXX4ygt7VM9UO+LvKHswWwNjcxYjLZSgiyDVvzlVYrIMPfKdwEpnQNCWV+LxaQwtJu19aU5aso30K1L7OVNhbbdCcGUCCCx1DQCyTST4/XJtCK8vngO3sWhY4fh3vPHnj27TPvBHueY8d+c8roV0UAKJ+rRlEbsHjctwj07GkiQpl6R2WzCEA4Dvv3J6Bp03h07BjCe+85+fr4IsgR6yWAq6hFw8pkZCB68GB458wxx1fEXvyC0shEjEn3EfL5cGdurintxdfMmTPRunVrY7p7770YDBjAmsJB9OsXzA8Ike/SmTMebNnCeaJ/ndukJ9EayE1LQ9SyZfC89x4mLa6FxyNP4RkMxwhMwpl+/XB+yJB8JpUggVG9337rQZcucSblyNdf+wyY+vzzLBNdq82e7ZPhmDqVqXF85pp79zpsleZQc8uN0M7TJkDAd0WVP/MMMHq0D5MnswSdA3oOHjxowCQVH4HvI0e8qFkzFtdfH8bnnztJoVNSfGjTxo/Dh525YHoVAuK87CGolbAfq9NqIR5OAujlvV5Cy3f7o1u3XLz5phMM4/gqZuS/O8mqaWZPgt8fweHDGfnAz16z9J/cvx8m0XPVqmH4/Y4y5d+9G1Ft2sDFkF/CcpcL8ZE0xEQFsWvHKUQKFTJMJ/1M+SxwLDn+/EtLY9LwQqhblzWOHR++Awfo5+fHN994LLM9wT6DhbLQu7dTUUQm90BqKvyFChlfVq5DAmfmvHGtX494VrT57DN4drOwkfMKliqFQIcOCNx0E1yNG8NLU7AVyCD/Wh4rf1M931Iw+VnMqxRF+UJKCVD/BFgFKmUi5r0KEIoJ1HMkcGfLG7mcsA92vlFZHiTPFPwiltg290qWOe4TITN/MknbvsaSg1JEpXTKDC1TOMdNckHglONXkAbmN8Xw3+LLAgD4t5jm/5WbNACQaWCUB1CatC38tPHKV0UMi0CUvWlJyFHg/RZo0+9iEiUsbaEoxkPgTGyhfX0xfjJbauMXiFR72kj4zv7IBCqBq+NtZtP413zxBRJosiLI27sXnrS035yAIBmN5GREKldGpGpV5FasiACjVw8dQgxNW5Uro3bGGuz4tajJZVeiRGp+tKSCSrQ5tGwZj02b3Ni9m4ELDiASO6r73b4dYAQsAxDq1w/g6qsZ5BFBLgNv6N93/DgqNK4EtyuE/ZPnMZoCca++CtLCzAH0MoABAwagX79+xgy5Zw9Qt248Hn00F+PHXyxKr/HQxsNraHPS2pC5ncdWJst2DrhQ8zpEbdpgQMn68ePRZdYsUy6tatWqBgDynqtXL2yinRcsyEHnzn6Q/CGzeOedOShRImxSrrzzTpSpW8wAkg0bmOjWiXzkfMnvS+ZJ5WrTuhTry+95PHMSliwZa0Dbxx9nonVrB+zL1EpgxMTcder4wWlevTrbBJOQha1bt5BJ39OhQwjjxjHfWpZhlLZujWD0PwL4bucVuAyncRhlEYtsU0e43OkNOHo2Hi+9xFrKTsULBUbQ5MygnBtvTDTzOHp0Dh5+2AFiAiGvvBJn8hY6NZsd8c6o3xYtgph60zJUH3aLiQinqZc+dFQ27q61AXPXVsdzz6Xi/vsd1wyCQAJcrXmusy5dYvD11x7DvF53XQAff+zDPff4Tc7CcuUiaNs2G9HRIWzeHI01a5hqyWUSdX/0USY8jCx+9FFkd+tmIpbDjOzesgXRM2YgikEcdC7Ne+VWqIDcm29GsGNHXEhONoEcnBeBcueePKafAjkyq+p5129SOMTqCYDpXfJCPn4aRz3jak/XFKMmIJUPVPNYSPZTAR1iXbX+9TzwHCmoNljVcyOZKHOywKht0ZAs1PXFDIphlI8gx0WuIALCkgfsK+e5wAT8v7I//ikaLQCAf4pp+kN20gBAslHcnFXn0gZR7LWEmdgnO1GstF4dI1Co5Kj8Xcfbpg1t0hLqEqIS9peOljRnCT71S8exz0rorDa1wcv0wmPUB7ZnJ6hWH8UmuGfNQsJjzM0NE+QQKl8eoUqVkFO+vNnkg5UqIZycjEAeyJDfGu+bplkf2bhixRDu1AnrNjLq1W8CLr75JgNVqzpM20WTuwt33BGDzz/3mtJln3/O0ARn3DUuM2Z4MW2aU2rNNsmWLRvBY48F0Lu3Y37iZpGczFJwERw5ko6clSsRO3gw4vY6ZaQXss7xhAmofOONporIihUedOwYiyefzMFjjzm+Wb/F2vI7Mb32hqcggthYPxo3DmPhwnPI2rIFvvnzcXDOHHQBDPicOnUq2rZti1KlSmHw4Bi89loUDh2iOTaAIUNi8N13TmSyXozavfXWMCZNykRiomNulymO88pNT5sq/c0IcghoOaZcB9rcOc/s46ZNITRrFmPqIdMfcOjQDDRqxMopPkyYwJJ2jm/jCy/k4t57HXNkzZp+7N/vxptv5qBBg0P59YMNu5iVhVJt2mDKid4YjolohpX49so+CAwciOPt+qBmgyJITwdq144YYE3wlpaWg8mT/Xj99RiTrLl9+wDmzbuY3y03N4SmTWOxdasHUVEM/gmY9CvnzkWw6GMPDh2NggchE/TTybgQA6EqVZAzdy4ulL3a1GNm7MUzzwRw//1OZLfmEojC3XdHYdEixx9y1aocfP890LZtjIn2/uKLC6hb123GVc9FMOjFHXdcbvIrdmtyDPMPNYLn6FGkz5plzP5RCxfCzZDovFeEQOXhhxG65RZkliuHYMhRYrguCUQ5Xwqo0fyI0bVdN9ic/Gk5n6rcofnm+EsZFDCzwSD7LwVQ8kTPtQCdZINAnNaW1rNtkrZlkYC6zpdvpv1siIGUaVhmc/bRTjovMCglTyZh9UWKtxQf261GCi/bpCWhdOnS7CYrRl2ckD/kllPQqf/0CBQAwP/0iP592vsnH0ABJDFPAlIKjJDJQcyL2LtL2TcKKrYlJ3k5PPM4Oa9ziLWpS5hL+MpUI7ZA5hoJQAl9bQw0r/E7BWjIH4zvEp68p0t9HI35NC+VhUAvjzO5wA4fhmfHDrhZR6xCBYTz2DgKWzry0/yl+xdrqk1AzIZyH/J+FixglKbDtFSqFEHXrqwEEjbO+EuWMM0Fa+mGTKAC89fZQLhbNz+WLqWPVQQdOgTRoUMO+Ux8/LEfS5ZwgwV69MjFG284Pny9enmxcKEXq1fn4Oqrc3D+zBkUWrgQsU8/jaizZxFmqo5770X24MHo1rcMVq704eefc1ChvHF4M23Yfk/8X5uyzHDatAQwEhLicMMNQcybl2bGlH5vt916K45s347zZB5ffhkdO3Y0QGDUKB+mTfNj48Z0VKniiC8mOGZi5dOnQyCobdyYjCNjZx1AKnOZgDvnmorL4cOHTU1kAssGDRoYPzfOD8+xWWzOBX0de/QAfvqJ92iLzYiJen7++SDat3dA965dYVxzTQzatAnh3XedABoyhatWrcLKlSsx+OhRFH+P8bVAzejd2J5TCccOnUOhon5zXTKcN9/sxsaNZLn+Oa9ebGwEDzwQwPjxjm+dlKcbbvDj++996NgxgLfeYhCQC2dOn4b/k09QbNw4bDpXEU3xHQKIwnoGFWEzQvXqIWfMGHhat8bOE0PeGgAAIABJREFUnTlo1iwBqalOyp0WLXJx+eVuEPuvWeMAbCbOXruW9xjENdf4jL/j2rXpSE52/Eo5dxzXn3/+GVWqVEFy6dJoWS8B+1OL4zSKooiZzX9+BUuWRGjoUFy47TbExMfnjz3bEvvG9SIlzQDXUMiAQbFdalEySMqP5ITYXZ1rM/y6huSL8k1q3YpJ47mSAZIlHH8+twK98sG0LQO2BUTXkozUc6L+qN/yVbXNvLa8EAvJPonBtteCfZ/8X5YOtce2pLQWVAL5+2zYv3WnBQDw7z3//87d5+cBJGsloCXwIXOGTCli32xHdV2cxyjyVgBQ2racoG1tXcKO51OoiRmQ+UaCWkyB/Ht4vBgAbQoSpoaZycuXJvCp83ms+q8NV76DEvZkkdRHRT7ynuRjpug7MW0UwDLbULOX0BbglWM8v2d7e/Z4ja/V6tU22xXJq76QiwcfzP2nDYrnDRzow2uvedGwYRCLF2eY6g72GLnd0WjcOMbk9hsxIgejR8OYMytU8OGaa+jn5aTjMPeQlgb/tGlIePVV4594uHANVLiwGRUqRLBxUwaixoyBe8wY46Oo+Zw7NwgGGLtcPlSrFsL997MEmFNNUAwG+1OoUDTKlmVewbPG341AmUEPDHC54447MGTIEFOtgJtz167xWLHCh5SUTCQkeHD+fBDjx0dj+XIqCBEUKeLCoEFhMCuMQLy9DgQCmZB49+7deO+99wyQYiRvkyZNTFCH/FGlVGid8twzZ5iOxotff42Y6hZ33cVqG060tTbWO++Mx2efebBxYwYqV4YJemD0cJ06ddA0Ph7LMzKQ1agR3MOHY1F6C9ze0zGjjxunsm2OzxevNWVKFI4cIeMbRqtWIfTu7ZQY4zjJVWLr1hzUrx+PBg3CeP/9Y07KlOPH4R00CEVWMwbMYaK35VYxkdb1sQ4/xrcxaVNyunUDWrWC29ThDZsqIq+9xjQvF5NWV6wIDBtGpjhs1sLZszGoWDEKjRszAtyJ6uVYMzCma9euSElJwbDWrTHhyBGs2lMSrbAcfTEHc3BfvrzJatwYOcOHw9WkiVEcZNKULy7vjSBQPns8kfOvwCrJC8kJjr3AmgI1JAdkMdB8SjnV8TbrL9Ao1wopdZcGg7CfAl+6js6RXJI8UZ5DKbY2Kyem1XafkclWDLQdeCIQRzmkMpi2O4PaliIpBVtyRLJMcoByKa/sXgED+O/shn/ScwsA4J904v4A3c43ARtHbivfFAGAAg+kAStAgoJHZg5ptXLIZhsCWPxNTJGOu9SMYzMAEq7yNeN1KHgFzGzGUUCQ7xK82oBk1hFAFEiTdi4zjt1X/sbz2T/VOWW7BDLctPibyjGp1ievw77Rf1ImJqUisTcoma8139ykmdcuI8ONKlVY7suJbDX3sW0bQizrkZycl6w5GsWKRbB9O01zmeZ6W7duNf0pU6aMCWCIjU1EzZolDBN45gzZQfqseU0uvs6dQ3jnHfq7Bcw1eH7s6dP4ZchLuHbxBFxAISwufR+aT++AqCFDjC9j7vz5GPY4TZVRpnqI/aIv2g03hPHGG2mIiXE2bN5zp07xxoy7efMFlCzppJsRSJRpi8dGRcWbEndlynAMGJQRhQ8+cKp50OzJCGj63IXDDov12mu5uPlmJ/KU7QiEi+EjUFmxYoUZEwKXatWq5Zco08Ys4C8FgX3j+Cm9kM36iOFs2DAKO3e6kJKSao4lMJo+fTrefvttPMJAm7590WHUKMMKcr2SAW3fPoT333fSs3DDl9Iitwj2nddkvxRFr2M6d/Zi2TIvNmzIQEL8L6YucuGnnkJMIGByRcUmJqJYaqoBgfViduCn1GQc2XMaiZc7ARU246m2yRKnpGSjaFFfPpuqsXj2WS/Gj4/Cxx+n47rr0s26p6/miy++aNLG0PlhNMuR5aVsScAFFME5HIaJNkXaQw8h87HH8iP/BbipSNIkz8+8X30vBksAUMEXtoJm++ZxjCQ/eIxtZZBiqt9tkK9n3TaXsr9aCzbDKNnD9tRPPbeSDZIt/F5+gVJwBT4FZNmG7e4ieck2eC3bksE1qGeeY6GSdlorUkBlQjcKQZ51QvJR8o1tkfUuMAH/AXbU/4MuFADA/4NB/4tcMp8BJAAUWJPWynsUeycHbYFBfS9tVOYW28lbgEvmEmngFOYEU9KuKQhlLpUvz0XfJWek1ScBT37Wpsf22R7fbaZIbWquBPx0ntqyU4nYYJHCXNU92K6CD3QtATuZftW+ksHqszYqAWwBaJ3P32VCCrJiQ40aiFx5JcYVnoKxGzrihckXcPudARPVuWfPHvTs2dPc0vDhw3HnnXcan8Np04pgypRYvPxyDm67jWyWH02a+LBpk8dErt50U65hEXNyvJg/34Pt290mvGBG2WfwjyPMQHTx1fKyn7D8dG0kJYVxzz1ZGDgwYKpMLFoUh0mTvDh40GVYy59+SofX6+QO3LwZaNIkDpUrM19fNjIy0vJ9GOWTx3nu0sVvgM7s2Tl4910XVq1i6psQnum9Bbf8/AzCxYvjwpNPY9KkGLz0Ev2/gLfeykXHjo6vHF/cWMUCc6zJznEuaV7mOlYUuNaCFAJtzmxDjIzWL79jmwIT113nNWOUknLBbOonTpzAokWLMGYMQ2mACRMmoEuXLihbtiwCgSCKFElE585hfPCBo0iwXa1xzrMArPqtdRZk5R2vF6XKxppyfnu+3IToQYMQTQe9vOSezPd0fbFiKDJwIDzdu2PBijLo1y8WL76YhbvvdhJIizUS+OT1L42WZXta86NG+TF1qhdbtzKHXJphI1u2bGlM6vUA3MoEoyVKoPhxpxz5FTiOSJQfB6Z/CAY+henbe8018MfEmOdCqXvseRHoUVlF9o3Pk461+yhQpedafRUQlHKowB5byZScsk2sAnAaG4Eltcs+iEGzWTrbMmH7FdoMow1aZQ3QetK8sr/6TUqF7k0gXAyfrqO8qLaZ2na/kMuL7ldsJQF3gQ/gX2RH/hduowAA/guDVnCKGYH8KGCmBJFGrA1Wwtz2j9P/El4SmLbjshgVmTrk0G2bbMWq8XwlW5XWKyGqawh0SpgLOIk9EfOn4+V/Yx9nC18bqNkbjDYHma4EygTcZM4i60OhTYd59p/Aw95cfTt3grlT/IxyDAZNkuRQTg589CPMyTGRm/wunJsLLx3aybIwAoEJgINBeBYuND6IjbEaP6IBAv5EBJs0xrEaNXDLyy9jWx67dtddd5mSZjT/0BRcuHA0OnYM46OPwvnJe59/3ocZMzz/FDzi1HYNYcqUCOpcE4B7/nz4+/UDK1o8ismYisFodtlWzN9SHOG8eroaC87bmDFeTJ4cZXwWV67MyTcXP/CAF2+95TVJm2fOzETLlg47yPnYu9eH/v1j8NNPjjm7cePjmDKljMl/t2RJLtLnzkWx/v0RqFcPxz/6yJiLT5zwoFYtsmnA2bM0jzubqtwFOAeqbiLwxo1dYEIAQwBQCgfXAteaFAGxP7ZS8+CDfnMvixdnoVat88bnk+1s27bN+MrVrl3bBJ2wjddei8bQoTEmL+CDDzrVNbTW2a/z58PYty+A4sU9KFMmCuFwML+EWvDZZ+G56SYUbVYbRb3ncSC7FFxZWcgsUwY3nzyJNYEAyO00vv12UyuZG/3GjXHo0CEB48dn46GHWBfYYdoFTOz7ZP/stEtcpzxu8uQIRo2KwRtvZKBFi9MGAG7bvBkf3XEHRvn9qJmX54Z5KwP9+6PIs0/i8itYHeaMWetivzj+XP9ixzm2coHgeHKs2DexXJw7EySV56qhceJnMWbqo+5Jfnf2cy3wJksF3/mndgQGbbAkQColVSykXFzELPIcMXGK+pXMkMz5LWXSPo9tXapQK7WL1hnbMIx8bKxZR/zMF68pkzf7quA8mYml6GoMuTYL0sD8fXf0AgD49537f/fODQCkGY2gRkydNFIJGDEatgBVXiwBAx4joSyGyzataaNQWwJzMgnr2tq8+bsSy2qT4G8y7ejGBQ4lcHlNaf82kynhbPdTZimZf21wKx8eXtu+JoUzz+O7fIjkO6bNIX7yZPjzSr391gTRBX8rauIkLkdpHEN17PzNeayH9diGGsgBOSCYtB8b4+LwRGoqlgIml9+kSZMMEOFYJSTEGh+zzz5zAIaADvvPfHK7dtHhPIxmzcg2OXVdfYcOwXvnnfD89BPYr3ikIxaZSEFxZPXujZQxY5CRV/mB7BrHgxtWx46F8eOPXuzYkYry5aPyx6J/fxdef91h6goXpj+fcT3EqVOOmGrePBeLFgVQtWoszp6liTXDACLmMkxq2hQZVarg6NNPG1DByHQGuvTtG4MhQ4KYMOFirkCuF26I3EC1IXI+9OL3Km8oBcFmiAU2NPfacLV2LlzwoWzZaONH+dVX5035M7ZHlwAxWDS/c5yrV09ASooLJ0+mw++nAdWkxcPMmR5Mn+7DsWMXI7fJxnbuHMTYsekov+VreG+7DYHx43HlmAeQFfThvKcosgYMwO7bbsOCL77AU089Zdp75513UL9+fZPu48UXmT4mDm+9FUDnzjn57Dj7cuRICKNH+7F7tzPeDDhiXelixZy8kgZMBQJI27QPV7Sph+rVw/h28a/wvPsuEl5+2awHA0IqVkTaAw+YlC8ff1EYAwcm4aGHMvD44xfHW+ll7GeF59L0q8h7vjNRseaAwJ59oMIpICRApmMkA9iW5swGSLaVwGYRbdmioA4975Ivklc2QOdzIKVTsksAUkyjLSvk9iCgKzOxQKH6LHnI+5Ccs/0SL12XcqOx1ybPlVzRuQKKUnipiNLvtcAE/O9uh3/O8wsA4J9z3v4IvTYAkAJaAFApFNg5CRoKIAkwVeq41ARsm1okyC4tzSVTp11EXsJRua7kLyOt3zaTaAMT6JNZRgMpXyGZi/hZTIU2EBsU8p4EHGX647liBrS5qA80P3HT42feL8dNZeMIDmTaiV61Cp5vvoHb70fY5TLO+S6fD2eyYzHkqw5Y+HM1ZAcdoMpXgj+A2xvswcRb1yI6BoiaMgXunTvRHp/jS7THkZZ3ILFTA6Q3b45jWVl4lUEcLpep6FGrVi3jg7h/fwwaNoxF795BzJrl+J8JMAvkiOngNXVv0VFRCO/cCe+6dZj7lgv3fn8/RmMMxpjqhMD+jh2R/Omn5v/nn38etzHSMyYGmza50Lp1IZOqZe5cp4yZ2j192o1hwyImQjk7m4E5ETRqFMFzz9FvkYEGHtSuHY1OnQJ47bV0s/lSCfn0tttQ/MIFJD7/vDFHyrR+xRVxYOWrw4cdsMP74Xohu2SDBzF5mmvbNHopI6SKNfIDFMhXG7zOjTfGYM0aNx5+OIhx45w6zgoa4L2yf3fc4ceiRT707JmLF19MNf0CyHJGmdJ3vPdWrYKoXDkHqak+fPGFF6dOueH3RbDC3RwNc1aZceuPmZiN/lg0eRua3Vs2P4E275HrUYmc2b+rr47HyZOs3kJfxpw8fzsX2rWLwdatTsLqPD3I+IXyVatWGMuW5SIh9wz83bsju2tXtHz3H1i7yY8vEnugfeoH5rhQgwbIHDAAwXbtTHm7jIxc1KhRBKmpbhw8eNqkjBFDpQAp+e5xjKU08jv5uel5ZPsEfjJxKok3f2dbHE/KDD3XYhM1n/bzrWdHIEsAzwZheh4F0NSerXxK3vA7/m9HA0uhsM2/Ukz5bicgt4/RWrO/Y9u2vBLgFJhVHyV32b6dfFo+jDL12+0RcBcwgH+E7fT/pg8FAPD/Ztz/Clc1AJA+VCotRIHElwSSWDGxeTIp2dqrhBbNSKpVKtDE3wRAKLzkSyjBLfbM9s8SwJJZScBCwlK+VTxOvlXaHGSKttkAmZilzVOY2kCX7TDCk5ssXwKwAoeaaLEAYtYEIni8kjrz/rXhaUPjvR46FIPmzeNA623x4kwDk4OSJUM4dCgKCxawLqsbSUkRbJi/DeV7tUJumzZYXbkPWo1tg9tuC+KVV7LyN1QKfEWQCnjedlsRrFzpxZYtqahc2f9PVQe0Qds+dPZmLcbh/vujMG+eDyd3HELs1h+Rs3w5zn/5JeYcPYpnAZPMecGCBSblCs8vXjzOpE9Zv95xaLc3Nc4z+8h7tzdEjs3ChT707h1l/ABvvz3HrDWaVp8cORIxW7YguU8fPMYSc3mMb6NGcdi714W0NId5FQMj0KZNXCZQgVutLa4JAQStbYITzpkdvENwJyXDWQcuXH213zB45ctH8Oij2ejZk6mFXHjllRi8+KIXJ064Ubt2CGvWMIrWiSRu3jwaGza4ceutIbz6ahZycpy503OyahHQ56FSJqffXiSjLI7hVL3WuHzjMlxxBQN+HCaR/ZbixXtl23PnejBgQLTx6Zw3L9uM74ULIdSsyeALFxo1CuPpp7NQuXKaOXffvkKmhjSBbFKhMPZfVg9J+zcjVL8+jm5PQ5WszQjCg+ervYw+z1WAv1ULM8Zc+zt2uHDrrfH49VcXBg9OwxNPOBUx2C7HTSyeXEf4G79XRLwCYdhvrgWNr111yL4/Pd/8TuBQjB1/0+8GqOblGBSo0hqQ+8ql8kAAit8LZGp9yc9O9yHZZzN9tjla9yM5JaVByib7JsVECqfWoECpTMy2vJHM0ppkG8o0IJZSdZdtM3tBJZC/wlb8r99DAQD818fu735mfh5AskgUsDJxCqhRKImJoRC0c9tJKGsjdtgP5yWAaAtACj/bjCFwIK1W7/JZEqDQdW2AoY1aphz5x4gdolCU+Uc+WQIPMvexDdvHR+yeNhW2JaEus6+CDeTTRPMLr0OzqLRy9pNt8Fi+5+T4ULlyoqlE8eqr2eje3YkoFptFIDJ9ehQefzwKxYqGsW93KrwxfrO5ly/vx+nTLqxcmYlatZxEzWLyCAQ55oy+7dIlERUqhLF9u5POg30RwFm4MIIJE6Kwbx9NgEyyCzRrFsLzz4dRvrwTEMHj+/b1Yf58Lw4fPo7ExFgTzbl8+XI80LcvQgDq1K1rUq7Q3MS+ly5dGKVLR7B5sxN5zPHS/NrrQOBLPlqLFrnQu3c8XnwxgLvuckAD52H27Nkm0OXaa681Eb3c7AgEatXymNq1Z844FTOkpNisnsCB7UemORCjq/lVFKWc6tk/e41zzjWXGRk56NnTybfoJKp25oDJuBm13KNHCNOns46yk1NywwYX2rYthBYtQvjkk0yzgfO6rLZDsB4HoNTtt2PFjpK4EUtxEz7H5+hoWhxy1aeY8nMHlCkTwfz5mbj6asfH0cmX58GoUTD5E+lyum1bmjGv875btYrDpk1ePP00q4o4FUCklEixemX0eTz5cmVci7VYi+vM9VitZUukBhp71iIzFG2CherVI7saMfkBjx51tpZHHglgzJicfPDHtqkskZ1k/wjo+J2eea0BPT8CjAJcnBcFc/Bdz4GeU4E0tiNG0QbwUiQVjGUzh2KibZOx1p2sCnq31yjPk/IocCVZouAMKZtiC/k7gS37Tb9G9kcgn+9anwKPkgtad1qzPF+R2/L3k2yUmV1KpxRx2+JCBZ5KWYEJ+O+5nRcAwL/nvP8n7jo/CpgA0BZwEmQCWNKKBT6kyUoYamPW8RJQdifF2PE7ATidL+1bIFAbhPzsKAhlfmYfJNRlihaDKe2Z7YoNkMCXkBcA4GcKbbZLMMWN1jYfs48UuGyH1+eGx3MIrATueE/8k8+TwIk2AB7/0EOsJhGPKVMuoEcPhxVTigy2zevz2s88k4ipU/2YPDnH1OXla906mlpZ2QJmE37kEZrmHZ8lmueeey4KU6ZEmwjS9euzcdVVThJuXuPUqRxcf30cDh/2wO2OmAjd+Pgwfv3VY1gdvu6+O4iZM0MGSDz3nA9jxvgwZ062YR3ZDpMCf/LJJ6a/1atXR6NSpVC0fHkcTWdJtyJoXvMUvvghPp/94/ifPu3HJ5/4TPADS9r17Mn0Ls712O8TJyKoVCke118fwbffhgywYPusSc1+0E+MINPZBP1ISvIboLl3r+NYb2/cYpo1t1p/NrDQ2pRZnH08cOCAAUrJyclm7qS8aD51jtZ9VlYIs2cziIUKkdcE0Qwc6EVursNg6tlp2zYa33/vxp49GShcOMusr1mzZuHZZ59FxfLlsapoUZTYsMHcQnkcwDFXGZweNxm+zh0QLFsWo0fHmjJwfDHSuly5MDIzyQp6TZ3eIkXC+O67dJQt6yhTR49monLlJNSpwyTimSZYhYCA98jk2zVq1EBHvx/lhw3DdRlfYz2uRQqK4TKcNddgNZucYSMx4VAvvPqqF2fO0HfUURJYlebZZ3NMUA/nSAofQQ/HjH6avA5/U24/jp8YdrbPdS2mnJ+VzoT/8zjNE8fb9pOTCVTsmhRRW06wLa11gUjNhQCgjtGa0XrRWpBiJ99hrVGBNX0WuywlVP2QnBRDJ/O2zVLbstE24apPYi9tC4VkJdcVx1Asvi1XBXa5jgvSwPwntsM/ZxsFAPDPOW9/hF7n5wHkpiuzCoWUBJ5MwBSk8umxc5jZJhhtwnaUpoSbLQRl1lHbEmrS/JUuRj56tolPAtg21QmksV1pzDKncJBl8tFxYiguNcvos+5Jm4UAJ68pB3cyIPxfQE9mHzEW8i3jvZUpk2gA2q5dKWaDpu/gpk2bMGPGDLRr1w69evUy6UQ8Hh9KlkzC5ZdHsG9fbn509KpVwM03s1qBwzqRIeImfeQIN00XEhIiWL48iKuucnwaHRDrwVVXxeDECRd69gzimWfomB/Ir2ixc6cHd9wRiwMHPLjrrhwDAgMBNy67zI/y5cMmATLb4uat8ePYF+vTB/6NG9Gz7Hd4f3tNrKl8F+r1KI+cIUOwerUXjz7qw65dBDAXxZLXG0Hr1iG88UYQSUmOSbhWLTd27XLh8OEsXHaZO9/cqaouUkgmT04wiY1nzGDOQIdR1aYr8G/772nDFquidcw51PrkfXH8mUeR69421wkIas1pY/8thUKgX+uFx3L8ihYNY+vWdAMw169fj27duqFSJAJ62dUEkNKmDaJ798bUXV0x9ulYLFqUhbZtnVrA7MvOnZkYOTIaX31F9pjKkgMGhw4N4Y47mA7HUUx4PYLQOXM8WLQoDVdffdpck4rKP/7xD2NW7wPgNaZHCofxHa5HM3yHB/AyZkU9ZMBf6IknEOzUKT+NjJhQAg/dl9hqMVeSAwJzHFvOG69LUMj7UMkzAzLDYaM0iUnjbzarL3OowLYNJm0mT76CUuxsK4MsE5pvWz5Ivghk8r4kC8Qs2nkJeU1ZCaSgCuRK8ZWMFPDUWAmUCcyJBZViorWrd9ulwVZCbNcWjYEtn5R2hvdBwF+yZEk2WZAI+o+wq/6X+1AAAP/LA/4Xuly+CZigTX5cyn8n4Sanb5n4ZNLQBizhy+9t8CdwJCGr6D7bPCoBqDYpQCWoxQ6I7bN9+QRWZfJjX8XK8X9uMmIebNCoVDPS1NlH9o9/8mFSQAqvL8Et0wyP1zX5ruS+AoTGV+vECcS/+ircpUsjNakMLh9wF7rdkIJnJh7H8nXrTDJhlhTTi+xQq1atTIqP7t0uw+rvPUhPyzTVFcSU5OTk4uWXCYS8xiTMnwgUGR3bpw/NuNnwjx0LV+XKiHTrhkEjE/DKK1EYOjQTDz983twf711mKm7UsbHxqFcvHgcOuLF9exqSk/24+WYvvvrKjVGjghgyxDG5cqyNuS0UQtLw4fh23hm0x2KUcJ3AscJXw3XuHF5p9z76LbnV9Ovaa3MxYEAAV1wRxpo1Ybz+egIOH3aDLpYbNmQaMPP111G45RYfSpRgabZsJCU5efPkp8j5YTRz9+4xxuR54gTL0V2sjawNXmtJ52lj1hyJ/bU3agIVbppkGcXyapPVWtG8c005gCSCF190YccOD8LhEBo0COGee5h2hJ/zTN+5uShSNA5Vq0UMS0egv37aNMTMmIFOeZOd43Zj37hxKPXgg1iwIBb33huF11/PQq9eLBnnMLu6t0ufP5vdUrqbVq1cpsxbSspZsxYZpdyhQwfDpj4K4GEyiQxACIeN8dqLIBpffR5f/hidHymu6+lZFBAT2Barzd85djLhyqQuBl1Akb6BfElZ4vkChHyXAshjBMRsxk0gylZCBcQEjNimAnKk7AmE6bni88y+SRnQ/citQ0qpZIBkj8DbxWfPCUyRQihZIxBu+/xJAVE/9ZtkmICmZKetvGrNSo7KxUPzo3lgP8Wy8jeC7wIG8C+0K//OWykAgL9zwAoOzx8BAwBpDqMGSQEkvxTH/EbT4UXzFs+SIJPAJjDSsRKMtolVx9lCk+1IAPIaEmj6XkJU3+tcbQz6XhqxbdrTpqDrsn0FjdjauTY5bd7yJ+K1+R3vS9o72QturGL3BBC5wWgTE8ugjP6Fxo9H3OzZOIyyKIfDeART8DyGIDc2FgcDASwLBvEEBz8voTPLpZUrVw69mp/BpxvLIuzzM2QSkaQkRPie90fHL/7vuuwyhPh/UhLcxYvDU7w4sHgxvH36IBIfj8I5J+H2+3DoaAZyg0EDRtatW2dqvNLs2bRpU5NmZdcup5Rcp05BzJ3LqFKWfItBSgoTO4cwaRJTtjARdBSOHcvFyJGsHhENH4LYHqmGStiPDaiDa7Eecb4A1qzPQekyTiQ1x15VVd5+249Bg1jVBKYdju3o0R6TWJrmRtZGfuqpsKl6wnq4I0e6TCAFf/vhhwAqVXLKdon1kVIhNlebugAUryu3APm18liBCiZ2pk+e6tEKbEmxECgIBMIm0nfpUscE6/gAOiKXvnK9ejGfYia8oVxE9+uHIp+/i7jCXux7bh48U6cietMmc2wKgCXJyYj074+Wt95q7uWZZwph6tQofPVVNpo1c54DBSTY61P/C0TZjHnbth6sWcMgonTDsNGHst+112JoXjJn8qUs7Rfo0QOBAQOQ1LAerr8+jKVLnWTaet7Zw3BHAAAgAElEQVQPHkzFJ5/EIDWVuQpZMzmIuDifaVPMG8dIipAYQrlFSLnjsVKc9HzwGvxfrC7HXM+9FAyl1lEUroD4pbKa34ud0zF65sXaai0I/EtuCcDpORaoFICU+4eeewFCrQkbaGqd2cqpmEzJGaXH4fcKQmFfZN5VkIctQ2x/QRsU6zoyk9uKAgFgQRTw33dXLwCAf9+5/3fv3ABAOvtTaBHoUKDLF06CkMJGglpCUxeWsJNg0u8yufE4OVXrHG222sS1KeczKXk+bGxLAIIbjsCZzQzIR0javjZHgUnbZChQIs3eZh/5m5hPCnrbJMTrqbqHAha02ZjNgTn39u9H3N69cG/Zgtjdu+HevBnulBQE4IUfAbTDYixGB+SWKoWjd9+NT5lTz+/HVVddZRy4OfZkEZvUCGLnsSTkJhUzzNrveUXcbpNgehNqoy5+wgBMx7SqM5HWrRtezc7GsMmT85tbsmSJqWvL8bnqqsKm5NvJk9lms09PD+PGG+OwZYuTUiQ21iEjM5yywobZWzr4c9QY1xuutDSTsPp7NMIeVEKJB1rjyMCBSDl1yphXCTJ5bwTNgwe7MXNmlImM7dXLAdqMah0zxo9Tp9jyRYBFP8eaNcN45x36uPnzywtqnYmhs323tEFr49Y8k0lRYAf7IRZU60gbNN/lluBs+tGoVs1jgiHoBzdoUDq6dk1HXFyCuY+XXopCSoobdWsF8ENcK/i+X42bLl+LxSfrYzuqm/yOwQoVcPTWW3GibVvEXXaZAUHsH4MGKlaMR0YG0wlRiXLAFZ+VM2eYyy8aCxd6zZhz7EuVYhQyg2YIsP4fe98BJVWVbr0rdG4amowSm5yjBJUsgyCoMCKIg2FMY0RABUwkAQEDiGMCI2bUIaioJBUJAiI5N43kJtO5K/5rn1u7OPbzf895zlPRrrV6VVfVvfece86539nf/pJTq9m1bBkemFkf02dXwVtv5uCK+M/heeqpaBURf3Iyzlx7Ldz33ANv5cqYOzeE664rhTvvLMTEiYxmDmPr1jjcfjujx51yfHqx5F/79n7MnEkm18kpyXGTiZifKSs4hmLq+T/HWiyfGHhbRnAt8DilUBGTWZCXh/hTp+DduxfhXbvMuys9HYELLkB4yJBooIgN8GWxkHwRC2wHAnGN2Uqt1oYCPmzmV/JOrJ1M3lprki0CllI87XUkpl194TlFfat1vkzZYn75/GtcBDrVP7ufApNip6mcFjOA/46k/GMdWwwA/1jz+WveTbQSiEpo2UJeAMk23UqgspPSePk/BZc2Agk0mY4lULlhKEWE2e4jDIQEtHyxlD5EKWV0vhg/nmubS6TRq08CoQKYAq/SvCW4BRAk6LXJ8XravLThifkw2fu2bYNn40Z4N22Cd/NmeDZtgjviDxgFudy1CciCQVTDXhxGJZyY+AxyBlyFvKATdGE7ihMs5eTEonr1JDRtGsSXX+YiljVET55E+PhxxJw5g/CxY/CcOQP/4cNwnzwJ96lT5t114oT5I23nOnMGH6Av+uFDzMTfcRNeNV0KeL0YHwiYdC7kLT/44AN06tTJ9KFjx2Rs3cq6x045PTF39DGkLxpr4rI2L0HIqFF+XFDjMBJeeAGuDRuQt24nSh7bhcbYhA1obto6PnAgPurQActXrMDf//5342vHDYqEaYUKiUhLC5tExUrizHFftsyD2bPJ1roMwGSFi3LlHOAhJsTeyLUhiu2x557zrTnVZqk5twMNOM88TqDCNsvxGl27evDNN25jzh43Lj/qiC+XAZ73t75hLPiqDG7Ey3gFNyMdNVAL6WiQsAdrZ36L/G7d4I6kQWGflWqI5vnhwxOMf+bMmU6lDI77c895MWJEnAFjpUqFUK0aq58wqMRtGEgm1/766zzUWvu+YRyPvTUXla7ujnqxu7GlsI4z1+efj+ODBsF9883wpqZGK4G0bZuEHTsY3ZuNEiVcmD8fJhqb/qQtWoRw6605SEtzY/16twl4SU+nLx+wfHke6tZ12EnOGe+B4yiWXIw/FSg901zPYjPly5ufk4OUrCyUyMyEJyPDAD2+u/fsgSsjw1RAKfoK9OyJwIcfGmDOdmSCVpYC251EiqXWi+0HKgWSyq2dFkgKotaPGGYpDFpzsiLYzCTvVWtIsquoa4ruxwaPAsT2vdpylW3LyiD/VinHGlMxqLwGASCrARX7AP6aW+fvp61iAPj7mYtzrSdRH0AJdW1uElISXGLEZIJRCSNFp8lUbAtUCS1uFDIN2X4stolFQlsmPVvzFXCzNXFp3fKFkYnEFoza7G1zIb+TkJcPj0xUAj9kMXhMAqsmbNpkmD3X+vUG6MXs2AEXPfOtVzgmBsH69eFv1AiBxo0RbNwYsc2bI6FBA9p7MLXtLAz9tCeuvpqJj33GUV++P2REtMn07JlozHlz5uSga9ez6V7k2yQQc+RIEJmZHpQt6wQHyD/Jdcst8L7+OhajCy7BYoyp9SqG9duFnEaNsDIQQJ/rrze9prno7bffNuXM+GrduiQOHnSqciiwQXkSbYAloK055nh99lkQV16ZiAmDNmFo9dnAunUIr1uH1w4fxh1McHzHHbj99tsNCOS1W7WKRXq6GydPngWb8ssUa8L7FHPC77SR8zuZ8dhvmdBkIhVTba9hrTsx0hpDKhl8sU/2Ji4z4OnTXlStGmcSKK9ezUjcPPMnoEYmL3fZMpS94QZUzVyDY6ycgniQM7263jrM3t4cjRoFMHt2PqpWdfwEnfuKwbhxLKUXg5IlCYSZ5sUp4/bii8y3l2BA3qxZflM1hW3y+UlIKIEJE+IwdWo8Erx+pPuroCKOIpScjB45s/EFuuPuMm9jyhQfCnr3hieStFxm8JEj401JQEb2fvRRHn74gaAvBSyvzOhhmvnlwydrwJw5sbjxxnjjg7lvXza8Z04hdsYM5HfsCF+zZlFmi/cmcEaFJ+HoUSQcPGjAXWjnTsTu3w/s3g3vvn1wW9VafvQMkWauWRPBGjXMX7hmTbjr1IE/LQ2hihXNHCnAS4qpwJ/kiD3/NotnywS2aStffP54nkCq5J5khpRfscO2+ZjXodLLF/skJpnX0Hqzn10xf2IubTabxwncaV2KKZVMFLtop+KSX2ZxGphzbev9z/W3GAD+58byz3alKAAkA6hINwoqabraiBWhJrBimIZAwAh+CS6BRTvCTiyXjueGpOtLY1fSV1szFotHAScfH7Znm1Z0vACdbQK0A0IETgVu2BdbSAsA+tasQYkVKwyzFbd1K7xkJkiPWC9uuIFGjQzICzdtimCTJsitVg2ehIRozkCC6bxVqxD/ySfw3303wimlcOGFydi+3Y1LL2VyYJ/J4SZWIjPTi0GD4rB6tRedOjFR8tlSWqo+Qff98eM9mDHDgxMnHNMsX0lJIeOv9dhd+1H2pScRaNUKBU0vQNk2jVC1ahBbtjjRxLzfQ4cOGV9ABj9wPvlXWJiEmjVT0KxZCCtWOOXtOF7apASIZPJWWg3OOQNJ/vWvEPr1izE5/W65xfGdzMzMxNh778W/FizAxGnTcM0110TNghddFIvNm93IyTnrg6aNU8DPZlnYrphCsjd2MI6AhzZSgSyBRlsB0FoTILQVFrE22uT52223eaK1gC+80BmTnTt3YubMmQZAX1u6NNJGjIA7Lw/TcRfuwXQ8gWEYhqcQLl8eV9Vah49WmMhM1KoVQvXqNJm68N139Kl1mUjhNWt8qFDBCWwpKAigYsUSptLGrl0FyM09bBQF+irSN5T3VDI5GV/8bT7+tvhmdMRX+BKdzbmFnS5B3a1z8MPRRNSsGcKIET5jYudcfvhhDCZOjDOJtKtWZXRyAdzuEK65JgGffOLBggVn0LhxrgGnnDfmfbz44osNY0uQO21aAsaOTcCENh9gxKbriZhxnCD/wAED6mJ++MEAPLJ43owMeA8eNDWlf+plnh2Cu7Q0DgpctWsboEfA56pUCaFI/kz5FwrQCeAJJEkB0e+aP4E7KZ68jtxZ7CAzrRMpCpIbup7eZZKXYmivJzPukaolAoliPxXEYVssJHOkgPBd39kmYdtlxb5P3RvfbaaTspYuPMVRwH+2rfvs/RYDwD/v3P/SO/9RHkCBNDEqFGgUbjKHOoDhrKlXbIg2bp4nU4bYOgEHacJi7uS7JSEq4al3CeWiQlKASGY7/m7789hmaQlN+9rqj4SuNH+j2Y8ZgxQWTo28gmXLItS0KULNmiG3dm3EtmkDpKXBHymzpjQwum+BXZq/eF170wkE3OjaNREbN9LZ36nRWro0c+KxSojzCF9ySQhz57LShTOOYlfz8rxo3jwOhw+7kZAQRs+efqSlBU0uv08/jcWpU24kJ4fx1Vc5qF3b6XzfvglYtMiDzz7LQ5s2Z6tn2DnZCFQJPJmzb86cbHTu7ESgcrxYVeLBB2Pw0UeOHxpfBCcEsJMm+U1ePh6bkRGLBg1cJiHyzJlOQmeya8wfSMBJIEHARNDJOa1RIxnEBwcP5kVNk/Y82eBPc6/50JxpQxYYlCKguZfzvdZQUTZZAEDX5dq01y6/v/jieGze7EJWVqFZ8wRjW7ZsMWl77k1JwTiWLuNg16yJQPU0JI0bhSs7nsS77wdRGElgvWpVACNGxGDNGiYFP+vLd889hbj1ViefoNbxhAkhA7SeeCIf113nBHTQtLdw4ULjS1mncmW0ePJJJH7xBRpiM7ajHrKRjEQUINC/P7KfegbX3lwaX3zh+S8Jq+nP1717GG++mWsqjPj9QZQrl4xKlcJYufII9u7da+btsssuM3PXpk0bTJkyBXWys1FqxssoOectlMYJHEJlU4+aNmP6mv7UK8ik0NWqwV27NnxVq8Jbrx7yzz8fWeXLI8DayW4m1A6ae5KiwXUuk67mQfJBskVrRPLDVkTt3+TuobUgFwK5o2h92cqirA9851wTNCoYxQZ5Cj7R+uG7XU1GSqdkoJhG2z+6qNKi+Rebqc+UaUolJVmgPKjyHZTCXVwK7pdug+f2+cUA8Nyev9+y9z8yAQtIyXwiTdpmBIuybDKj2jchc6wt3GTm47XsAAtp2zxf/i4S0toMKOh0Do8RoBMgkNCXkNfmIIAgc47An1hLnsf/KUDJZgVWr0Zg/nz4GjY0fzEmN59jvhNjyHtTHjMxRmxXEZp07peZ2Tb58HyO1ZIl9KNzwAVBAWu2tmoVxNixeWjZ8mz1AG0I9Hlq06a8yfl3110FmDDBqbHKe+GGwLbffDMeQ4Ykmnq5u3blG5Pinj3ABReUMGCTJuV27ZTO5GzU9siRTCsTaxJEr1x5xtwjx+H99wO4/npG3DIQOYyWLX0GlG7Y4DWmYl6TQQR33eUwPdWrJ5hghsOHc5Cbmx1NOSPTG8eE/f3ySxcuuywe111HsBiOAncep9J2Ypw1xjbLK1bSBnw2KCy6AYtFZh+1yctsLCZGa1zrWnPXvn0Stm4FTp7MM/PJ9bd27VoMvOYaXNmjB24bPNj4XSl/ZmpqSfTqFTQgi23JtMw+KL2QopB5LQEcuTcwHQ9T5WRmZiEr67SZ4yeeeAKvvPIKygL4KiUFDbKyzHi/hYH4G97ClJrP4d4u6xGuUQOBbt0QohuC34MJE5g4mooGy9QB991HFv1s8vXdu0No0iQJ//hHgUn0TGC7a9cu3MB8QgC6sY0mTVBu40bz+WIsw0q0RRBO/epQ2bKGySusXBmhtDTD5JHFO5maiqQqVcyaVC5Pse4EsxpHrjGCG4InW3nkmEhOsB0pojxWVgbNH99tSwOPF9DSOItls9sQsBIwlIzRGuF7UTcUW9m0zbY81mYlZZrmmpIskiy0mXQBN7lXSKZJPgnQas3qumI6BYL1HLCMZTED+Ftuo79t28UA8Lcd/3O59SgAlElQZgsJIwodCnFttLxZmWT4v5zoBUbsTVrAyfFhcmrk6jgKTjnq83oCPNKeZVbRBm0PMvso3zlp6vxdAtL2uxFbJEd121dHQFOav/zeZJIU8JXPjTRysQI8nm3agS38TUJfJihtVrxPmZW00fAYtaO+ulatQn7duogtWRKvvBLEXXclm2TNkyefiVY3UZoTvb/zTgkMHZqEW2/148knnWjSxYvDuPxyRozCRLHSVFyypA/btsVHmD0XqlQOYd2aHCSXijXzunQp0LMnK2MA771XgPbtC0xOOY43S37x3F694sEA5ZdeChowN3asCxMmxKJ//yCefz4ryiIKIDsgx0kvw1iV/ft9SE1llC0jT8PR+r4ad5vF0VoTmyofwKLKSVGfK7EvOs5OySEmm7/ZG742XLZ59dVesGTdli0B1KrlRAfTHLtixQo0b97cBEKoFu6CBR7075+IoUP9GDvWFy1Vp42d53LNKgBBPpti0NluzZp8PoD09BxTlzojIwNdunQxPoX/iMRH3/nUU6hw4YU4FFcLjZuXwT2d1uHJuAfh8vtRMG/ejyL1BU7kpmEzXxs3smZwojEVjxiRb8rUbdu2Df369QON1pcBGNm3LyqcPo3YjAz0yHgBi3EJQnCScOdMn47jvXpFx473Q8DKceM71zTHRiBez7pSyihZtHKP6tnXvMjPTs+sZI4tAwTu7WdHip/9XIvRFri0LQsCgVIGtF45bwKXkiu8F86XzrHbkKVEiqpkoK2cSBba8lPuFmxLv7MNsaFSaGQSl5zUeXomqMAWB4Gcy9vwL+t7MQD8ZeP3Zz47agImSyPhKIEo4ScmR+BMwk8bnM28SOBqc9XgirWT9iqNW1q+7YcjU4t9LduUXNS3ywYaYg6kRUuwigWw/Qlt7Z/ATJq/mEP2Q8fYbWrTIWslExDHSCygGDr6VdrsgyKKeb49xhLw2gjjn34anokTEezYEfXWvoO9p0ri5EkCyzyTwJgpXO655x6kpaXhX//6l/HVIjirWpWMigtHjuTDS9R3+DD25FfEkJHJWLTIiSLVKzWVKUH8eGxMAPHdOiPQqRNw882o1aWWMUuvXZuL88/Px0ZGO0eiEgl6WLHk+PEQGjVKMUzgoUMMmAnj4osZSewxCZKfeiobTvyLUxbs7beB+++PM2blMWP8Jnm1QLVM+rZpTJs7x0jmLzvCXGuJ46l50+YvQK2NVmlfpBTYANLejIuyL4xSbtEiHt27B/Huu066E16ba4R9VnAFr9e6dZyJomYaHUbXCozu2RPEmDFJ2L7dWE2N2X78+IAZV86XnfKjYUPmmnQhI+OkaYOsHBnHYcOGoX379rj7jjvQMhBAmZUr8d284+iQ8SZGYTRGYwzCJUoglymITBqRIPLyYpGQwBKHDmNnAwg+K3QpqFgxHt26BTF7dq7xIaNvKNfShAkTTHtMTs7AAo5xm9blTLqbIy++gZj0dLgyM3Ho7ruRWKZMlMlkGyoX58/PRzKToe/di/xLL4U3Ls6MCZ8XzqPyOfI+BZbYz6LMuq14st967qQc8t02I7MNW3EUCJZM0Pm2Uqn1I19jKaW2wqhnhn2QEigQJsZaiopS0rBf8qmWyVayT0o1wZ79P8+VpUHrke8CxLo/yWGl7OJ6LE4D8+fdxosB4J937n/pnRsAePToUcNO2E7HMnXaZlQKQGmd2nAF9GSOoACWgNJmK+EoYSnhJvOvhLYNigQQbS1aPnES6AIC2shl2rXZIRuAajPUxsL2BGYFHOzcZvJN0iZjgwuB1ODOnUiaOzcKEDyRnIEG/ESCKQIR4GB8p4iaIqlN+OCasVFKnEj0azg7GzEvvGC67kEAF2A1lje9HQWXXIIPCwtxw7PPmnTEfA0ePBgPPfSQmb/bb4/DrFle7NmTi/P2f4e4jh3NMQQIvrIVsSa5M04mnYe0qgHUbeBFqHx5hCtUQMzs2fC8+y6+Qwu0wlpc2eYAXvs0CaeysnDs2DFTsm758uUYN24c2rVrZ9idUaNiTd3imTPz0a8fWUw3evdOxDffOOKI/o1MIXLyJOstu0wtYrJj99/vpHYpun60FrSexMZpbvlZG6HNlmjtyKQqhUIKgNa05lpzz9+1+XJedTyvIxNdo0axjHPArFmF6N6dqVNKGBAjNpttPfWUG48+Go/27cOYP9/JN5iTQ39PgjiHMSObypeCx2lyX7iw0JjXDQN67Bhuu7sUZn9SCgsX5qFRo2wDDo/v2oXSa9YgZdkylFq1Cp5IXsie+BgL0BPbBoxC9f4tkNOqAx57ogRef50Joc2ImYTVNWqwfJwfN9wQippTpaw1ahSPAwfc2LfvOOgjyO+puDBRuErkETynp8fg4otL4y9/oauBw0DLVcNfWIgUpiPauhX+9esRu2sX4hntu3t3NNr39OrV8FWrFgXyvKaADoGLonClfOm51xxo3vWsC8QJaJlnJOKmYa8rnWcz/lpbWgv2c12UtZMPs47l86USeFqrYhXlYiIG23aTsRVAncc+K28p/5fFQO4CWrO2u4vWpz0+uneWlywGgJL0f773YgD455vz/9QdGwC4f/9+k7DXNmHYbKDMttqUJUil2dpasUCfWEMKN/nwSLApKpXtFTX3yPwn0Gj7vcj8IlAo4SowZvsecoC4Ucusy3Oktcvvim2rL2JjxFRQ+MqPS35HYvgkyM1mumgRyg0a9G/Nx2mkYCJGYg/SEIdCXIrP8De8/ZPXcCGEnvgEn6C3+Z1Q5T0ADwA4DOCKK64wAI0b1LhxCZg6NQHr1hWiQfa3iLn/ftZQM4xN0dQ1P9XYdXgdszDIVC85vzKQ1a8fXvN4MDSSQJoBEC+88EIECAVRtWoZtG0bxOefO/nbuE62bi3Agw8mYO1amn3pUxjGgAEhDB9egORkx39TbgYyfWmj03rSJqc+ar61WXI9KS+bjhFzoo1bAEJmdTG42jS12YpFEnC0meqDB4HGjZk4Grj88iAmTChAjRpOEMP27V7cf38MvvrKY4Dczp30k2QqFY8xdZPt7NDBqaRy/vknjW/l7t1eMzYstcfUKps356Hs8rlIGDYMP7z+OdK6N0bj2vlYfd1T8CxYAO+335o8kmY8PB4E27bFD62vRN1pw1DFRPTmGYDaoUOyiTBmTeiuXWl+ZS1pt6nNTEa4SRPmlcxDTIxT+YPr96234nHnnXHo0sWPDz7IifreSZFzzJBuNG2agH373Fi3IB21ctYjzJyXjJDfuRNxTI/0E7n7GO3rr1sX4QYNEBg2DL4qVcw9iNHlHHG8xW7Z5lQBeXvOea6OV+5BrRkFXtnKq4HATM4eUbR4TYI3yTG9C3QKuAlk2T52KndnWzvEUKsdvktxUB5V+TLq3qT0an1Jrmn9ya1EMspWUm2ZKuVHVgRev5gB/LfE7x/u4GIA+Ieb0l/thgwAZMQmzZXSoCV8JITltyaBKpCmtBw2k2c7SWuzkTCWmU+mNAlcad+2Kdk2rWhT1yZgb+7yy+E1lJvQ/l3XlPlE5mKZlyXEVQqODI9MlzxGgllO7bYDP31vPAcPInHpUqcaSCTHWEwkNY7ZzFxkv9xwezw4kRODfi/3wao9FRCOVr0wPUBSrB93d92EsVeuhevYMXgfZqE4IAY+1HfvwJq+Y5DdqRO+L18en65YgZo1axrTb6tWrUyULft5222lMWeOBwcO5KFMGY/Z1A1YysvDxhV+zHwxhKzjhaiUkIXBrb5CjeBeuDMz4V6yBO6DB9EL8/AJeiFsPM+c14HkZAzLycH7YATwpRg9ejRq165t7qlixZKoUyeM1at9ZsO1y3jZDIzGWr5gMoXbm7dM7TzPZke0WQvg2X5iAooCLTarKLOnjrGZaoEFzb1tWtOaFIvMyOsuXbzRSG2ymnwJ9zRuHMKiRYVISXEit7t0icO337oxcWIhbr45x0QP80VmmQEjfL33XhLuu68UGqX8gE1ZNcx3/ltuwZVvDsCn+V3MPMxl9eDUVPi6dIGve3fEXHYZfsgqiXbtEg3L9/77DBoqRJMmqcjLA6ZMYXuFhqEUICkoCOHuu1Mxd24MWrQIYsmSXHiOHEHCM88gNGIEOvavhJUrvSbX4dSp2WjZ0o1QZqbJdfnJ+3kYPPsSHM4vhXtiXsA0P7M6/vgVio9HoE4dhOrVQ0GtWkCjRvDVqYOslBSULlMm6lKiZ4vzrfmQckUgxPGnLJHlQP3nb/Kj5f98yf+X60RySb6UAvH8TUqhmEL2Qc8w1wvXgILeeB3+JiZPAM9eT3LPkKyzA9m01myGz8xpJIWVFBsptVI2FSAjRtV2Q9CzIgVZz4cApFhPfk+3ELK2xYmg/8sS/VN8UQwA/xTT/H9ykwYA0sxH85Y2WVtblQZLISUTqIQPPys1gc3AaBOV3xSFO18ChzarJ2ZOgo7tyGHeNs0JUGgD4WcBi6KMoDZ7MQ06VsyT7kmgRYBXvlvsnyIJ2Z42HzEGBJoEVqpYwuspolEMBT/rxfNPn45Bs2bJYMEQljh79NFCdO3KygohPPlkAl5+OR5nzrhMTd7ZNe6HZ/58hHv3RutPRuP73SnYsycbJUsGjb8W2+O48/747vQrjEqVSiAlJYyMDOZ6cwIs5szxYsgQDzIzjaHZqmUbRp06Qcx68hAuGNjIlHS7JnEO3s27HPvvn4xSF9VDbt26WLVjB6688kqTGuSBBx4wGw3z0oXDHlSqlIrWrUNYvLgwamLUPbNtzh/HQQDL3ijFZLDvPFabuNaWriNFgJ9tcy9Bonw0bVaF54vh1UYvxYXX0CYsoKlqM1ojmmutM/aT/d+yJQaPPhqL/fuZJieMunXDmDDBhxo1nH7xuDNnOCZek1NxyZJsE11O4MF3/lHJiouNRbnFi3HV0Bb4OngR9qMyKuOQuV2GpFyU8D1W5TdDXEwQl/UK4cKLAsaEPnu2F5s2OSblJ5/046abCnD77Ql4+20vXnrJj6uucnz5BBRoFiTgZJtXXZWExYu9WNz7SXT+4mGEatVC4cKFwJZt6HdvDXy6pbq5bmnXKSSHs3EKqchGCj7PrHMAACAASURBVFwI4j48gUkxjyBYsybya9VCVpUqcDdujMLatRFi/svY2B/V9VX7kguSAWLVBO70veZL4MlWFsXe2sCKa4jzbgMyySZdu6jiKdmic+11yHMEBnmeQKKCQH5qXdhAkecLbEruiS20AZ9kjORbUWuFxoNMMZ8F3YOeY1tBkgKu9UzlorgW8P/J/nhOXLQYAJ4T0/S77KQBgMzXRsEjpk0mB22C0lQldG0zm7Rubbpi+eQraAtvHmtHGcu/RiZksXMCATIHSYOWP4+dM4x9lECW0KaA5DGqSyrgqb4ITCq1BK9hswi6nsZBgFLC2PYl0pjwXhSoIAEtH0Jev3HjZJPK5Z//9JngCwIYggNuCAQhbrcXXbokmkTBY4cdw7CxDoBcuJCVNkqgQwc/PvmkMGr6tMEt+8NKD6xP+/DDBRg2zCnJ9fzzcRg5kgARuPLKAB55hOzmERw+fB7Gjk3CsmU0w4Xx2dhv0Kr/+VixozwuuywZAwb48MwzWWY9MCKVwIIgnr5/bIugbvJkphtJxpNPEoic9ekTgJI/pw22xcbwO4E5zZ/OEysotkhrUOtLJjOtHbkq2NdkO2JyBSKkdGiTtteNNlKxLgJ0uibHUutW7BB/0/oQyzx4sAsvvRSHjz8uQMeOAZMLUQE7bGPUzTfj7q1bUWbFCqxFC1yAtRiEWXgD15tKMgUffAB3jRrGr5DpeY4cMT0z64Cgs1WrkMnB2Lo1K4rQ9BxnzL67dmWbnIEM2Fm0aBFWrVqF1q1bY/jw4Ug+dQo5E19ClXeeQRuswipciDBTKVnJmvehMobhSXyNjvC545EQE8CVDXdg7G37EN8sDeFatRCK+NkxWIRtEVhy3drgR4DbBlUyjfI3BVhIkRLY0vOsZ0kgkMdTLsnVQ+9ifLXGirqCsH1+p+vbz6vmT+uGx2r+BPbE/Om6Ao4CdLbSynPEFkth1XoS6JUCYrvSCADa92QsBZHgESk3YkgpW+TOIsZSSjcBYHEU8O9yf/1VOlUMAH+VYf5DNvKjKGBtfGK45CNHIaSoOAEdsS4cFW3m2uy1aUsQ6rNtqtP5AgXymRHo07kUqmxTjBqFrVIlSIjLpCIAyE1DbKXAnL2pS5DbDKPAqfyUFKmoe+LmZANMO52LQLC0dvmoCSB8800IV1xRBn36+PDii1mG8aIwJ7iiibB+/fqRaichVK6cYnK27d9/ti7qJZfEYOXKGHToEMBbbwVQooRTWs/xTQSGDk3Am296UKVKGBs2MEghBt99x2TGcUhNDWP9eh/Kl2dQ8GEzLhwfArp16+LQvXs8q9Xh0CGCwyBq107BmTPA1q3ZKFvWYVkJpAWknHmLRe3aZCpcyMxk3jsnWteeOznI20DOZi44NvosMCWArQ3TnjPbfCwGR4wNN1MpHgKGAnpac7z22aoqzrOsOeQx6rsiuHWezWz/FGgQEOe1rrgiHkuXenDqVFYkDc9iw57yvCvJ3AGonJQEBgrRyB6bfQKt3OuwIr6LCQwKDh8OPPSQOZ5/W7cWmjrMpUvHo169bKSmOowv72XDBqBduwTcfnshnngiaAAvA3X69Olj7o0GwbV//SvKMT2M34962Ia9qI4CODbsUNWqCDdsiGC9esZXL9SgAfw1a8IbsQTI1cG+f65Xjj3vlWtckdCcJ6VEEvDieTaIsWUBAQvP4ZjT8sBz9bsigQWe5BOn+ZAskdyQMipGWf2VvBLYFMsnWSWwJQAnJlLKolhrPWdaqwKp6q/WrhQY9lcuLWLqxVZLPthrX+CT30khtH+317H9XEiGsd3iRNB/yL35Z99UMQD82UNVfGCREYjmAVRuLgEgChjVuZQ5T0JHJhdbKNssmYS0NnR745Qg5W+2f0tR9k9sAq9rszzqv7R1G8zJTMJjtIGIhZMg1/2pPdtEJc2fGxT7RkHMFzddfWdH7Nnsn10sXjnDtBH07JmMVatowjuO1FSfuSbB2OWXX27A7Isvvoh69eoZLf6++0rg1VdjMG9eDjp3dtouLPTj0kvjsHw5zY8wKVYqVgyaCNsNG+h75kJaGpM5FyA1NcZs0t26xWHFCjc2b85FlSpOLVumFuH9EvyVL1/esDjvvJOAu+5KwH33FWL0aNaJ9eC66+JMndrFi/NQv76TzkIg6dgxDzp0iMOBAy48+mg+HnzQY0As1w/HVE7wWg+KzBYYFqjTRs/x1NxoM2Vb2vgF4Hkd9oOfeQ3bBChWR0BQDLIN/uR3am/YaluRqAKPNugXQBDAsNlxKQ3asJlzkel2Tp92/P727NmDV199FdOnTzefb7rpJlMXmal0eP+lSiXhggsYoOHkCRRY4bFFGUutJd0bTbpsj4mcmZCbLG16ejo6deqEapEgoWtbtUIi/UkPHUJ7/xKsQlsEIsmcfa++Cn+/fqZfvEcpVQQTBGV6TuxoW4JMsn8y23MdyQWBJmeOsUChAr+UhkcsGsecf2yD7SoiWPdus3X8Tu4d7KdYYKVy0jU1X5wPZS3Q8VwDtnsB29YasK8pOaAIbzFzGh9bIVAf1T9bJv3/fPZ0jBQVjrNcY7S2pNhIGZEVRetUZnXdj2RfcSm4P/e+XgwA/9zz/0vu/kdBIPLpK8qiyPFeG60N/KShaoPiZ5sdk5CX4NdxEvxi6mSWZdvc6CkcxRLKWZvH8Do6V4JcGra0f2nnFKzcLAQmbG1agl3mHPntsH0xHAKPfFciYTEL0saVC1DmZANMfD6kzpiBEJmN1FTUGH8H/CEvtr31BbK8Xmw9cgQfLFqEN5ggD8CgQYNw5513mrx+mzYxhUgZjBjhx4MPOoBH/obLl8fhkUe8BvTRJ97tZiWyEB55JIS+fc8mlGazFSsmo169EL75xgEjdBSfNGmSKS324IMPonv37lFQV6tWRZOy5cCBQrPhPvssMHy4wxSlpYXRuTOTNrNsmMfU8eVr8OAAxo7NN9fgmCifGgEgx0YbqcCcbR7X2Mk8qA1Q86O1wO/1p3UkoBQ9JxzGzjULUXDqELwlyqHhhZchEHSSTEsh0Drie1F2UX6fYvLYB7HROl7rSMfqGAVBCZSNG+fF44/H4qWX8tG/vx8ERVQcaDblOmncuHEU5H35ZSIGDiyJ229nab28aEoaKSas6DFzpht794ZQogQwcKALdeue7T+jkFu1isOttwYweXKu6TNLujEqnMrFjTfeaHIIEpiXSklBy+ZJOHjYgzMvvQns3QtPVhZyhw+HKyEhmoxbIJ/3q+eB/ZHSxmeDYEMsF+dPIIb3yTlXbjopUAKQkikqRajrc+wIBsku8hwFCEnWCNDps55bvUvJlEwSeyrzr/pflEEUI6z2BDQFqgQUxXyrPeX2sy0iWieSO+yDXBXE6slKIB9Avut/G2RKwRCjrmvxXS4wcsnRPXGdFfsA/pJt8Nw+txgAntvz91v23gBAVgJQhKIEps2w2KY5mUa0SYidk4DjuzZcbd5icRQooXPsDVnX1QYolrGow7f6Zwts26wjwCFWRmYXbWJi9cT2Uaja/jgSvPyerBnbt/sgYCGmS/eme9K4uFevRmLPnnD5fKiEQwjBjUxUjM719oQE3B0Tg9rXXotevXoZcMDx2b07Dm3aJGHIkEKMH++wn3IgV5/tTTB6wZ074X3zTbAW68bcmmg9oT8eGJCOB/5xAK4yZXA8FELdpk3N4Wxn9uzZJpKYTGCPHsmmXm1OjlMmjm1u2ODHww8nmTQnTCXibG5htGkTxvjxPlx44dlly7ESw8ZqGTyfY8rcZPyf4I8bMl88jqBBgEAmPG10Gj8eKyBe1P9OAGTT4rdR+duxqIAT0c5kogx+aPUQGnYeEGV6tCYIMMTayGTHd/ZN4M6O7lQftabFimmtay2edex3o3z5JFN1ZdOmwihjqVKDBE8EZHx16VLGJI/evz8HKSlng1NOnHDhuutisWwZSxDaoj2M6tXDmDQpH716sRyfC2XLxpkcg+npZ6K1p3/44Qfwj5HajBInKDtzJhH16pVAu3ZBfPGFo1TwxfdduwLGf/TLL1mZh+4cQN26DFLKR8+eTuCX7p9jRDArFkvMG+dXLDDXKgEJ2WVVqdEcK7qb71yDYvRkDhY4l+zRu82q6X8BJckaXVNzpjUitk4gXc+/zrOtBlJA7PvlcXY/bSVTfZGs4vk2cBarKD9JKS0Cbrbc0phyjG13GCmhynZgKzXqJ5U7Ju0ujgL+LbfS367tYgD42439ud5yNAiEm4WtbUrQCHxIOEvAygykDV4OyvY1KOBkurPZNLF4EtpKHyItX+lL7O9tJkICVAygzILqg2060QTJ9KhzdX8yu2hT5PEqa8XriMnSJiVGQuCWx8rshf37EbNmDWLXrYNrxQq4N2wwedyaYx02ogmykYzYssnYd+utWN+sGQ4eOYJatWqZ0mJ8caOZNImBFQmYNYsJls+CaW08S5d68fnnzmZdu3bQMEAuVxBeJp6+/XbEzpoVCTD4DqPxKEZhnLl22OXCgrQ0zKpXD5f264cmTZoY1oB9v+KKEvjmG6aTOGM2MAfsuSIJf0PIzWUuPOaXY9k7mqQLowBCG6zYCeaUXLZsmTE38xq9e/c2YIRgkJ8JFsgS2UyqNkJtqJxXzWlRc5uA5vrPZ6HlmiFOPywJGIpkyP7ugqfRsMuAKBMo3y6tA461WEutbbGL2ljNuEVyybEfAolad1IWbAAwcGAs5s71YtCgAKZNy3YSf0deUkqGD2fAjgedOgUxf77j/8ZrpKcHDPhnJpfatZnCJR8tW+bgxIk4TJ2aiK++ijXM79NPB3HzzQW4664YvP56HB4fn4077zlbgURskdZ4375ljTvAF1+cQetG+fDs3o3Y9HTc8sIFeOPbBqb9ihVDKF+eVUQ8SE9nBLnLrK/lywvg8RRGSxAqyp1jReZOwIXglnOrsZPS6AQ4ObkTpRjwHClMdjS7WDnNkdg5fqbCZQMs/i/lSHNkB2HoeZZM0btkisamKADUdfW9ngetSSmoAnf8LHO3mHCZvflZCocNSG2FWkqwAKk+q30x37aZWDJWa4vscrly5YoB4Lm+G/8v+18MAP+XA/c7Om0EgIkApgG4N9IvzusYALcAKAVgOYDbAeyy+h0f8S0fQFc1AJ8DYMKuzJ95b9FKINTIJYQkUG0zrfzaJLj5bgtXCTibTbPPYX9s0Kj+iaGT0BfDJmEuASrGz76GNnXb3MPvpO0LyGijlvAXk8bj5N8mwa/74hjI3COAwuPFRtG862eVhi1b4F29Gp7Vq+E9zNTMZ1+KtvwAfdEPH+LOZkvxwJvlcSYUMvV1Ob4E3mRfOf7cUCtXZtJalnNzQJL6OmUK03/EmATD9svrCaF73Qy8V+9RJKz+Gu4DB5CFZJREFjriK3yJzvB36ICDw4bh5TVrjF/atddeaxhHtsv7TEtLMrnkDh50In/ljyUgrU3JNvMLmGleBNBZVYYsEVkojiXbIevF+9R12IZYFbKB9sYtgCdmzmZhudEZhgXA6ccboFz4xI/AX3RNhYGjrjKIH/wdEiNpaHhPYmvZV/Vf647fyQ9OjCGvJ3cGAQGZ+mXqVk1q9pOsF8sLt24dj+3bGZQTMkzujTc6lUbeey8OkybFICPDZdi8tWuzERvrpOvhWNepU8r4dT7zzGn07p1l2maJRlUfOXrUi86dy5qScQsWZKNx3A407N4AZ/yJGDmyECNHMhiHaWPykcD6w5syMGBINSzZXgUdS2/AkpJ94Nq7F65wGDfiZbyGv6NmzSBmzjyNmjWdWr6cD+YZHDYsGXPmxKByZfqWMk2UUwuX11YwjXzROL8cW/ZTbKrMlAJxvEcpDjLxy2dQrJxt5hdjLMuAZBPHUd/Z4E0sLI/juTaLpmdWz5MYa5mnxfIJUNnstACfmGmtHTvgiefJTUWRzrqW3qVsSGZKNrEtAWQ9H/xNY6I8pDpefZWc4nGZmZnFeQB/5ob3RzysGACe27N6AWDy7NJZa6kFAIezJjuA6wFkAIbKaQyAKrtDGwDPR2q330BTLoBnlU7sZw5JNAiEG402c4EoCSZeSyBKm5XNFGkzFYiiUBIrIjMOBZfYQpnfBDQFNGQqEfsjQSz20GabeH0xKhK+AoR2WhmxDbZGLXZL/dV5FLZKHyJWT3Vfg4cPI/777w3DZ8De+vVwq7ZXZLB9tWrB16IFAq1bI7dpU5RavBhJjz+O/L59UWnhe8jO9eDjj88gLS0zmhKDAIKbLu/9zjsT8dZbMbjppgCmT3d8+tjXW2+NxVtveZCYEMbf2u/FPZVmofSWVZi7viamBIaYiiIVkIndqIkkT6FhHetjC3aiLjLfmIO4K7rBHwjg448/xs6dO9GzZ080bNjQAL0VKzzo1i0WAwcGMWOGE6DC8aAP2vjxXrzxRmykvBhMypEBAwIYNy6EhASnjJ7t06TNkWyQTFmcI6aP4UvmMb7bm54NDLXOFFSjjd9eT1tXfopmS/lY/Pev7zu+ipotL4n6lUlJUducY7Zns7ocEzvYRMBWa4zvXCNyDbA37bPHBvCPfyRj3jwG5Cj3otnCTdm1nj1DmDWrwFTm0PmM4r7ttjjcfnsuxozJMywpwTTNe2RP+XxyXZ8+nYymTUqhRandWHOmLg6GK6FJ8h6cyolDnMeP9iU3oEz+QVMDei1aIQwPLsYyfIUOJvI4VKECtlfpgoZr30Ltciex7HsfcgvzzRhwfNgfmhMJaMeNK4WXXkrG3XfnYeTIMwCVnVWrcOKqqwxzLDOswB3HRABQPp8cT7HsUiBk2mcbCsAx1woG4WGgT24u/CdOwJuXBxcjhqtXh69GjahiJyVB8kNsn5RJjrRSrtgASyy+TNEy6fOeJZ90LSkLSrki8Kh1YPvqad55DclOATbJNttkrX5rHLQu7edAMklyi/fGe+Lak3+lQG5xJZD/SRL8sX8vBoDn7vzSIWhdhLVj6Yf1EQDIOWV2WGaOeCJyeyUjzB7B3rsRf49jAAYC+CByTD0A2wC0A7DqZwyLAYBko7jB/NTGLNZMwttmg+QHJ1OMNlM59wtgUeDxZW8YEoxiZgQybVAhbVkmYTF7FJz8zY6WE/iQ5ixfLlsTZ5s8TiYasYm2eYb+S272d8sWhFesQJkdOwzgi9m790fDGUpMRGGzZshq0ACe9u1xqm5deMqVi6a+MJvQ448jcMklcLdrh02bvPjLX0ox2wf69i3A/fdnokYNJ0ny6tUpePjheGze7EG9ekF8950frlAA7m3bMG18PobPbY8GMTuxwd8AXpMu2HmFWT2hRQs8Fn4Io5d3R4M6fmzOTUM4Px+ze7+KAa/3RsOGNOPlw+9nShEuDRi/P5qMTp92o0WLFGRluUzy6HLlnNq0ixYB/fqRmXMhKSmMRo3I9gLbtnlMsmqCmNde8+Gvf3UAqqoscBz5P9eBSmjx/ggAFfWrNSCmVwCB/bLnwWZKzL1GzMI8ZvPCN9BmPUnz//61usUk1Os0MGqWFOtoszfshwCB1o4YSa0d3gP/eBzXHiNh+T+BGVlUrXetaa1lny+E6dPdWL+eJfA8aNYsjNtvz0ds7Fk2XAw36w7v3UvmNxs+Xw5oSn/mmWfw/vvvmwCha665BpUOHUL5F1/ExZ+Pwzq0xEmkohSyEIAbT+A+PIPBOIxKZlBYl6ZRUgZGd1yIy3oGgfr1UZiWBl9yMgYOLIGFC2Px9dfH0aiR1/jsEWzu2LHDMFmsLsN745jXrlkeseFCHK3dFt5Nm3BqxAgcvPbaaCJyVsAJ5OTAnZODeKZsYqJyPkO5uUgmHZqVhdjCQoT4XXY2QllZ5lhvbq45hgCPSciZId38H5EV9sz6hw5F4LHHovLDZmP5v8bdZqN5Pu9FiZWLgkWtKY2/5IfYfn3WutN6tVMH8TeBW11PJnHbyiBmVKy2bd2w3Snkb8m2lMfUDlKR9UWKr1jA4ijg/0kS/LF/LwaA5+78vg7gJAA6M31pAcA0AOkA6BxGUKjXV5HPg+lHDmAxgFRaxKxjfgAwFcDTPzEsNBNHStObX0uw2pcSQdv+LvxRWrCErDZvCiUxNNKYpRlr87M3bZn8xOgJRNpmN7F78s0Sg6DryVxka+0yBekYnSuhKVOQfG7Yhlg122xTcOQIEjdtgmvlSni+/RbutWvNJmW/gtWqwX/BBSho3hzhtm2RzWoYHta7dfLq2SYeewxkRmdfNmwI469/TcbRo84jy8hb+nQxnx4DLC5pdhTzu02Fd+1quNesMRtjWRxFPhJxBilAlfOR26QJ8po2xal69RBo0AAVKlc27ffpE4eFCz34/tqJqDlxEGLKlcP118fg/fdZnSKEceOC6NjxBwPYSpQog2nTEjF1Ks3NwBNP+IxPGed57VompGalBWDatBwMGuQyJl0COP7Nm0dGMtmUQnv/fScggWMg/ye5ANisj1gYAS9t1NrQtNa0adrfywSn67P/O1Z//rMYwHUdXkGDCy8zQEZ90AavNaG2dIwUHW38Ag4CtBkZGdFAFqbt4ZhorXP92eZDmax1Lf7Odm1WU/1irr9q1YJYsybfsH40oT/++OMmkXRbAO80aIDqW7eatqbhbtyLZ/ApLkUPfI5g8+YItG+PYN26pjRbbpUq8CckGBBnR9Cr3fLlE5GaGsJ33x0390IAwZREjCLm67PZs9Fw505UXLQItywdhNdwI7ajDupiFwINGyJEpo7PB/NDEsRZSaX/t6I4zGhkBsgwIoa+hTQr06ROE/6ll8I1cGA0nYueL64XMogyy6ttMXEca605WS6kAEp2yK/TZt84b7IiyN9O88o2pChoDaldzb+OETAV4NPc24qwDUxt2cRzZHbWdWVW5/XlnsJ+MQCnOAr4f7vyzv3zigHguTmH9Nt7CABNwDTp2gCQMZb0+TuPKeOs26OpmHRa/wjz92oRQMdDV0dMyTQhF32NZkGCol/Sh6Rs2bKGCRDwsjcqbZL8TiBLZhgxNTKD2KYOnifH/qK+edoUueESPHEj5TVl7hUbZPscSvDb7J8Es/y32B7/lzlIwFIbAd/Znrnul18iYeRIuLZt+xHzEI6Nhb9JEwP4CPbQrh0KI/5yBL5sXyYmgRcBFG5IKsnFe9R4ykGe47N8uQsTJsTg8GGmUAFatgxi8tbLUW41XTidF/uwpObNuGTbP3Fj592Y9kIIp+LjDYs3Y8YMfPjhh6Y826xZs1CqVCkcOBCPFi2S0bWrH3PnOpGbvMeRIxPx/PM0v5MxZd41p44tI0wTEsJ44ol8Y3rUJlqnTpzp18qVhahXz0llwvvguHGueJ8HDpDNSjTpSQ4edEyHNsjh/ZNR5kvKg0y4MvOL+RWLIZaY/WZfOI7aODmH8jcz6ysUQtbkRv+jD2DJBzYjFKnYIbM/r2lH+goAaNOW0iOTINuTDxlTlbCfcg+QCVngQilReDx/41rh9QUibJ9OKU4CgKVKxaN+fZaQO2PW5/bt27F48WI8OX48OgO4u2dPtK1QASWOH8fL65rjHwfHgL6lf8W/DAvsW7oU/kj+RN6jgiv0XLJtmQyZf7BlyxA+/9wpUff999+b9DEs2PgggOGxsfD6HHeA6bgL92B6FGzasoM+ruGUFAPcwlwMzB+YlGRAG0qWNACuIDYWCeXLwx8fb0AdP/N7F8FdcjJiy5Qxn/MjAVdi2mwQJ1aNbct9RIBNLgOSLzLfiyWTcqL1JZcFAS/NCa+ta2oN2nKmqHVDcs1mHTXPWkuSQbJc6Lrqs9q0lUeBPa0LmX61jgQ+5drCPlI5IdgvjgI+N4HAL+11MQD8pSP4659vEvUD6AZgY6T5XwMA/iQDyFrABChi6hwfMH80uk2siUxdEmxie8TkCSDIydpmRyQoxQzxHDngC8QJLAisyQTHY2V6kZbMvhY1/dhAlefKpFLUrKONxP3dd0jq3Nn4RdFvj4CPYI81cPNDITMe2tTJCth1OgUyeW3dN4/ncWKLCKq1eUmAy0fKBgA8L/bpp+HdsAGBVq0QbtcOvoYN8ej4Epg6lcxhAapWLTCBI2RqGMihF0ECfbZYo/e88+KNn962bU6JOQFmmnInTfJi/nxuFi6kprrw97/7cP31jLZ1fP44XmQoL744Gb16BfH22w7Q3bVrlwGBZBmYNiZScgrDhiXhtdfi8MknAbRvnx8NHLGZM96j3ARkapNiIWAiAK01JZOwTHACYvIflJP9liXv/qwoYK0XsSfqH7+XEmOzdnb/2TcxRTqen8UwC6AqCEnX4eelS9148EG3Mf3TEsoXXSFvuKEAY8ZwzTiRsBqPSpWY9BjYty/H+P/xN87zkCFD0K1bN1x33XXGlM626V84e3YM1iw6hEZxGSawI79uU4x5uzbWrqUZ323yQ44f70KZMo77hQASx5Ngk7+vWpVrACABOxWJyZMnm2O3L1yIyhkZ8CxfjnHzLsCEU3diFVqjDdbAd++9KLjrLgPyPImJ8Jo61EEzzwIn8l9TgIyAFZ8ZPccCXja4k5Kg57WoG4Bkkm19kBwoCgj5vY4zClXEhYBjq2oqAoky5erZLOrHJ7AoeWODRoE9XV/KEPsjZdgee61HgUWtZ15HoFLvekaksEgR0/hqPMgYF5eC+/U38d9Li8UA8PcyEz+/H6wM9S8qtNYpLDtBac3toi6A3f8HJuCiPTQ+gDRrUYPUhiZfQJlM+VmaqTZNbSpivsQQidER8yaBp41eoMQ2n+gcW2jyO4FGdVoO0dogpEnLtCUzXlFzn67Ld9tv0ZiuDh6Eq3r1aPJgRd1RyPJYAkCCH7apepwSyNLCeQz/F5DiWBAEkplTwAD7psAB3o/fH8bp016ULMnUKk7QjBHsx4/DfeQIXCdOYNjTVfHsFw2w+54nUDF3O/L378eWr7/GpwUFxjH0mmuvxYgRI4wfGsF2rVolER9P0Ha2jJzGgu1rw5PzvTZNzckNN3jx/vusWJKDMmVyaXvRhwAAIABJREFU8M033+Dqq6+OrhmWrCP7yACS7GwPqlZNRpcuTGXii7InYlpsZphjo8hR9kH3KhZVG6QUAs6znN3t77QetHmu++x1VP9uwo/yAB5BGexv/TAadhoQZd7s9eOMvcNYytwrtlRrXOBZioICAQT6OY+2WwSvJ4aRfevXLx6ffcZSd0CTJiHUqkUznQvLl3sNAE9ODuOrr3JRp47jZsG/O+4AXn01Hm+/fQY9ezrf0yTLZ7NOnTpmfjleiYnJqFAhCSkpYeO3SdDYv38MPvuMQNNxJWC7Ap1k+j791G8sq2LVW7aMxY4dbhw8mI24OCean0CQQJ/+jXXr1jXrnsc3bVoChw+5cXD6yyi1cR1cW7bg+IsvIr6ik9NS4yBWnX3Us8triB0VaCJDp2ojWo8C95I78rm0UzBpjUjptM2ltpnWViqlBOocjbUYOV3Tnn/JPCkefJZt1pH3LBbbti7w/gXYJNvs9WSbh6XcCPDaDCGvL7Zb19N65LvkiWQhjyGopV9vMQP48zfgP9KRxQDw3JtN+t6xYpP9ojl3O4BJALZEgkC4zzMQhC+CtaMAigaBXAPgw8gxBI68xr8VBEIfQKYg4UsbmUCBNHQJdQFACUYKKzGD+k4siYCZImkFxLgBUJgVNaPYWrw2B7Yrh2j2hf0Ui8h2BGwk3LW58zeZEcVQilm0zbcCjdrE2R7vSUKf11WUKPusfGQaH/ZTJfN4XeUQ1HcCq06usABmzUrCU095sX8/H1vn0S1VKozrrw9izJgwYreuRXyfPnBlZmIm/o5b8DKexr24F9OMz+GW66/Hx8wd2KKFSTtCzZ8AsLDQgwoVEtC4cRArVvj+y2Zk+wzZvlFi3jgOvXvHYskSN7LT9yJn/358+/nneG7CBAQizqbs61dffYVGjRoZwHveeWXQqFEYy5blR/1FOR4ydYkZ0xhqfYgNFIOhDViJg+0oW84j21JFF22aWlu+wkLs+X4JfGcyEZNSHvXb9uAijubf0zpSRQZbWRBrIzaW9ydgKPaYfdWcC9QKcGhdiyXk+f37ezFvnteUePvgg3wkJTnVVXgOAdFzz8XiwQfjjP/npk3M3+aY148dK0S1aikG2G3ezKoajg+YzOlSwm64IQnz5sXi4YfzMGSID23aJGP3bq8BmSNHFuDSS5kMAFi9Og7jx5fC2rVuU9Zv2zamlAmZ+2P/rr02Htde68Pzzzv9E4DjWCh337JlbvTsmYCePYN47bVT5plV1R3eu5I9c1wUoSorgp5DPR9sl+fIxK77EYMnC4TN8PNYzYMUC82VzdRqfKVkCWBJNkh2ae7ZV54j4Cn3B9viwN95XNHUNTaDrHYko9RHjr9Ap5RCPRMCgrY7gDYByVJbfvLaUsxVAk9MpK5FAFjsA3jugYD/VI+LAeB/aiR/2+vYJmD2hD58DHW008A0+Yk0MD0joJBpZJyio4BVp+G/vSnDANLJnz5btjlCZgYBHQoimXTEJEjblhCnUJMPjoSttFebNRPQs/2tbC2d12d7FHjaZG0zCPsk1tAWnvxfQRcSpjaLKCCoPokd0ybP+9CGw77J/43nKaBEJeHkWyRGSz5XBC8CqmQOeW1nw/HiwgsTsXMn8+yF0aFDADVqBHH6dAw+/9yN7GwGZ4Sx4t0dqDtrDGLefddQwQkoMCleMspfgFMvvIDcFi3MPJFdFOjl++jRSZg2LQZvveVDnz6OaVGbz/HjwIMPxuDrr50E0mSgBgwI4qGHgLh3ZsH19NNwnT6Nvkf+iTnBy03C6mTkmaE9WKMG/nLiBLZmZWHo0KG46667IvkDXShdmtUlQli61DEBcl5lHpU5lGMnIK41JebEmL5jY6OmfG1sbFcpMmylQAqKzabwOxso2KtdG7Od9kNrVseJ6dHmbzPdmnO7jzyO/eS1Obfa9HleejrQsGEsGjcOY/lyxxVAaYXYHtumAsPAnFtuScQVV9DU7igb3mAQz78Yi2EjEsz8jBqVjxtv9CEvL8ecs359DO69Nx4bNnjQvDlBvh9/+5sXH37oxXXX+TBtmjNfbJPtyN/vvffKYtiwWDRsGMaKFTkGhLL/devGYt8+lyk5OHx4XtSEy994zPLlHvTp41QtWb8+DxUrFkbHWcEt/I3zzrXI50HPMMdLoF7tae4FlqkE8jgBP16HLhYCkFLMNOd6txU9rXHbjMzjpFhwXLWmBBxlgtazr7XIeeWflBP1U8qIzLl26hqxhWLjpFjZgFJAUyCVx6gtKcRSNmXitS0vUoDs3ySTNcbsY7EP4G+7ef+WrRcDwN9y9P9zbRcFgEoEfWskEfQ3kXQxO60mlQiaLKCdCPrIz+yWAYAs30VtXsJGZhwJKKVhkWCyN0A5l2szF1smAWubjCXEJZQF8lQYndeQ/5zYFm0cCu6QecUGcbYJRYJWUXwCgDa4FcsjUwvbktCmNi0WVE78qsWrzUWBJDbzR9ZEjIPGkRuawEfbtomm9Fe/foV49tk8hEJOoINJs+Pz4bX792LYO+2QjBwcwPlIgROFfDXexWxcjWG3nca4p+OjAFvRnbx31uft2JH5BIEffjgTAZw0SYdwww2JmDuXyYaNjz7i4sLGHMnIY683jDGjC/HA8r7wLliAf+EK9MUc3Iun8TSGIu/OO3Fi6FCcyMoyYJipY8g0cA6eeSYOo0Yl4MknfbjllsJo1CT7dfCgD9Onl8S+fU57ZJAGDnSiJ8VmaF5sk52Ai1g72xeKa0WmN23UMuHxmvLfEmAsyiYLqIlhEnvDe9HmrvVgKzYCEzL/qh/a9NkHAcX+/ePxySdurF1bgNq1HUC0evVqzJs3DwMGDEDlypUNmOP1GzcuiaNHgdMTpiJ28UKTwDtn6VK88mYSHniA9asJpsOGEeRcZTklndG1awhz5tDcSAAej/POI2OYa9YFfcEExHkszYJU7C6/PMH4JG7cmINatbwIHz+OnIxTaHJ1Y2RmugxDyNRE9eoV4NSpeLz7bpxJSUM30nnzCtC2bUE0fRLbYP8ZOMbra9y5/pXuRHOrQB+xzGKCpTCKBbSZOj17+o7Haq3brh1i6bUmJA/0bGt+JcNkNbDN+by2FAitDwEtpb/iM06ZJNClc/hZ9yFQqvsUqJTfKT8rMEjyUWBRckljI5O6rs93ssAE2ZKB9j3y/mi2L2YAf+aO9wc8rBgA/gEn9Ve6pSgA5MYkgWZrqBKcEpTqlzRpATKZxcSgiG0TGyA2SgKZQlHHSuhJaEuAaoOwwZs0aLanP7Yhxkmbtxgde4MXgBWDqQ1FGrjAIwW+zD8yeemzGC0KXbalDYP/889O7sox5eelS+PRr18SevUKYMaM42aTzs3JQan0dKTMno2kefNMWo2XcDNuwwz8vfFKvNT0OXjefBOF9wxFzQ+m4OAhF9q3D2Ly5ALUqeOY3fPzPRg7NhYvvOAxAG/x4kIwaFnMx+WXJ+Hrr72oWzeIp57KQ7t2gcgmEsBb/8zFoxNK43RBPB7DQ3jIFKJhyZlTCCAG6a98irg+3czxBMUad2ej9Uarhxw+TP9It2GN9uxh+boEbNjAlMM/ToDMfIKDB/sxapRjZtXYa12JsdIGq7XI32V2kylPG6vWksxr9hqQOVlMNOdWwJ3Hy5xWlEnW+tbatFlEgUqBDX3WORUq0EeP+RLPmA0/PT0dF1pFk1cuXYpqP/yAkitXYvLsehhz8t5odG1g0CCE+vZFiMFLYQ+mzauN1744H9l5MYiNCaNt4yxMHnIA5SuETFm/aW9XxsNPVcC0x45h4G1OJCjrO993332mOxdddBGee+45A9r3rQ+ibc/z0Tfte7yfcB3cW7ci/7PPELqwEx54wG2SjFMp0IuKwSWXhPDUU35UqJD3o2AGKmsCzKofLiVN88Tni+tB4E3XtU3/AlQy29pmVLF1NnsmeSFlTUBR60gsvWSC+qi1xuPF2guo6fnVGtS1pAyKYZN8oQzgs2CnfbL9P9U33besEWxPbbM/Uly0xtSODUgFetU3Kd08X/fK47nOCbyLg0B+pR3zd9hMMQD8HU7KOdIlAwCp1cvvR35u8rUSgLJNigQwZK8EnLTJ2pq97RvI/wUUpfnKtCthrI1em7qCMSTIBURtDVyghMJRGjb/Fytjm3ilebMdCWMKTwE4HitgyGPZL5m6eG35DemdbUiYi22U0OYxFP7sK8exTZsYbN0ag+3bM4ETGQi/+SbO//xzJNNmyKgfMp9duiB0442ofmd/w/icvOFuEw3s6tcPOTkBdOsWj3XrnEedTJ7b7TB5ZILI4Myd60PLlk4wAsdlxgw3Bg+OQ8eOfsyefdoAUd/p03DPn48Kn32G+GXLkB+OQw3sxVGUx8HKrXHegbV4pvLjGHzgAcMsrVqVjzJlzgbOcHwIOjt1ot+ZG/ffX4hRoxxT6JYtObjoolSTYob+bxMmBNC6tc9UFGH5s5deisGZM0wwHcQbb5xNjSLgZ0f/CpzZLLCUBAE5MXkCElqvHHOxc2KiBExs1k+/aRO2FReZMnlNgUt+x2dEio/WkW2uIyOXlsb8en6zdpjK5eKLL0YsAMKy0XFxiIlUj3kfV6E/ZuMV3IAbwXSg/95rAN7Be+gPX7NWyF680DC0Xbt2NUEjTAjSkWWCrr4aJdatQ8zu3UhAHmpjJzaiGcJMy3LHHQgzkrdUKZO65fsjFZF+qhTKVIpHh44euEsmmYVWGEkBJNcGzhefG5WOVPomKT+8C46lAkBspZL/q2awzZLZcsMGfXq+7fnTfOucosqf1pNAJJ9ryQzbNC7gqedYJn3JIa0zATx+L8VYfRTTLxmptrQ2JR/FGkse6TxeTwyqzYIKmNrXk/xlP/Q7r8P759wXm4D/vefnj3R0MQD8I83mr3svPyoFp6ZlDpEw12YpASZtXIEFtglOAlrCS9quhKHYG2m2dltiDbXx6hx+Lsq2iLkR8yihK6FqAz4xFGxTJiMJVB1HrZ7shsAhASrvjy/+JjMOwQnb4G/yd+Q5MufyWP4uXzhuPuXKpaBmhdNY1fhaJH/xBTzM/hwp2fIygBVpaXjk2WdNXr+hQ+Pw+utJ2LjmFGo3SoiyBezvzp0BjBwZhy1b6N9HE18Yw4eH0K+f45wvvyWOY/368Th0yIXjx3LhWvE18PrrSPr0UyeBL0FwqVLwXXUVVra4E93uaIoBZT/HG/3moWDsWDw2JRWTJ9NXiTkKQ+jRgz6FwKJFHqxc6TYRpjfcEMALLzimLc5P9epxOHbMhRkzstGnjwPIFRzkgGY32rUjUPQYZum225yazVovWkPy9bQBvc0OiV3RmtSGbUdrSuGw3QS0+bMvYoNsM7E2VV5XCgSvLYBw4oQLr7/uNrV6K1TwYNAgP8qW5Vg4AR5cF2XKeI3/3vr1x833nJMFCxbgDob4AnhryhR0OnMGqV99hae/aY+HwuMxH5ehFz6Fr317hKtWBflVlkRjhHqIufi4VviZZQE56fwcCGDAttH44GRXFA68Dr4Xn8fhw4fx3nvv4ZFHHgHLAf2NTsRVqsC7f79p2wGAu7ARTf8tCcN8lOD6Z64/5mZknd34eJO7z+TzS0lBMD7eJHAujIkxgLKQ0crly8PVqRNccU7eefkm6rmXDBFwt59NzrEYfHVWgVs8j8+aosSlQOr5F7DTupJFQPMohVKAVWtQII3yQOtCa0oBGwKAtgXBBpICpQKP/E0AsijAFOsn+SU5qXPYfwWt2TKLv8uMrXaowJ93HlPGgtWiIs4C/9Y0Fx98Do9AMQA8hyfvN+66AYCMAqYPoNgOAS4xMPKH0WcJXbEmYu0EBmzzm9hCaebaiCVwpcVSsIlJtE1tRf1/bNOhNHGByKLX0LnqtwE+kRQg7Lv6z+/EOMqMI78f2ywjtoHHCwCSAZG5SyBG4Df+6FHEvPkmSkyegA74GkvRBYG4OHzt8WBFXh5ei5R7YW6/vn37onv37njppdIYNSoWixYV4qKLHHORTGc22yTgwzkT0OH/7PepUzGoWjUWl9baifnBHvBmsJQ0wNS+HwOGb6o/ZAjuuPdec+1mzSogNyuE46cY7+uM0ZIlLowaFY+NG2lelogJo0EDBij4ceWVTm1nvj791IWrrorHjTcWYuTIfVHTPK+jGraOs38cKlRINFHP+/Y5TK02er7bAFbPhb0ZizkRWyJGz2aFtT5s8538DrVOeYwNIDWWvI7cDTjXXLvbtnlNLeYNGxy29Wy/wmjRIoSZM/2oX9/pe+/eMVi6NAarV59B7drOOPJ7MjRbtmwxJdYIXti3Fs1K4OBBD7Ivuwpxiz83JQPDs2cjO7sQTz7JYB4yOwQBQKNGIUyc6EOzZg7g5HWnT0/EI4/EYNq0XAwcmG/GnGljeG3m9aTPWJXKlVFy61bsfWUVms4ehT74Fz7CXxGqXx+hm26CiwFLbIRl2CL/e+jvFvms8mzmPTLX/468OpmRgZhIHWiOpa2UyYzK++HzYyuItnlXwM5m2TR3ReWF1oV+5ziJReTcSm4JsNugS4ykZInAlRQ/W14IXHJNq99SKPUuJVaWC/VVgJeAljJE38s9ge3ZZRM13hw7+VTqnuSzSrM0Tf3FAPDfWZ1/nGOLAeAfZy5/7TsxAJDsATcMvmwzBwWNhLaAkVgdadYCXRRG3Nx0vPxlbGZFQMUGbPpdzI4AgbRpmXL4vYStLZwlMGWak8CWSZHn80+auACFbQ4UABBQUNusj8rjVdWBfdV1+b9qw3LsomYmBit8/DGSX3kFMd9/byqMxKEAaa4MbIlvATdtpAA2DRqEN8qXR9Vq1dC+fXsDlKjF33qrG7NmxWLLllxUruwEPnCj0j2IwRBLIgAdBYfz5mHV5BXotH46JmAkRuJxnK5ZE4+kp2NBpKwMXdrvvvtu3HTTTSYwoXfvkli92oPjx89EmUzdJ4MP9uyJhd8fQoMGTCL841QpbPfiixOwcaMbP/yQZSKZDxw4YEqY0SeN83L//fcbUyg3+jvuKIkPPojBsmUFuOACp1qJXpprsUNi4rTRyf9JrImAvdhC1SGWWVLBGTa41PoSg6y2dW31gW1//XUsLr/cSdBMJpRsa/Xqedi9OwFTpniNSZ4ukXPnZqNDBze2bAmjbdtktGzJcx1zvKktHUmITZ859umjj/y45ppEdO8ewDvv5IDF5FxLl+LlA90xeBijdGkaDKNsWaZnYSk+R8Qzxc/SpayaQ7N8EBUrJuP888NYt86pBKk0K7wXrk+BEJYfXLLEg23PLUTNpTPhXbgQeWvWIFyxMqZO9eDdd5l3EcZ/kSb6e+4pgNt91mfSw6oyubnwFhQgyDrITBzv9xug6D95EnHMg8jf8/IQOHUK3vx8hFn39+WX4YskuxYY1vOovhJEKa+ink3JIR5r+97ayoLmS/JKgF/nal1J1siFQEBQ8kuZC7RWBO4EstRfrUH+LsVRTDO/U8CSzWyyD1qrtjyTX7HArZQ8W0bZVhCBSimWUmTYrnwAixnAX3vr/P20VwwAfz9zca71xABAbtgCMWL7tInK/403ZptzKbyUm02gkL/LPCKhqI1WAlQso8wrEsgSwBKg9jv/lxlG5lwJaH4v9o7HsT359QnY6d3eYHQsf5OJ0TYV8xo0rZBRU19TU1OdZM2RF+81ugls2oTzFixAwkcfwXPqlDmCWb35cLbFCnyLtshEeZSLOYMTU6Yg+/LLzYbN+yZw5js/169fyZx7+LDD6ug+2Z+MDC9GjPBi61aXASX003vooUJ06cLPIfizspAyfDjWz9qElvgeD1aYgVF130QgMxPIyMArPh/uBdCydWsDypjQmdVKevQobQI3cnJ8P2LltHnR3MY+alw5BhxzpfioXDnegJKdO520Jzt37jSgVq9BgwZh3LhxZo0tWxaL3r0TMGGCD8OGnQ1Y4bHym+S9cNxVScaeR60nMcliYYqCRzFlYpPE/mhdiS3SepWJkG3x2ocP+1GnDs35wIIF2WCRGK1dgf01a+LQo0ecMY+np2ejdGkvevWKxdKlXnTuTN9LpnjJNfchd4KPPiIITjTM3pYthahY0ZnjGTNCGDw4kdZWPP54Afr0YT6/kBkzRvmOHFkKS5Z4UblyCJs3s24zcM01MZg/PxY33VSAqVMDJkBBJkkpSbNmxeOee+JQv34Yq1fnORHuBQWmSsjjz6aaaGMGfTAvIXUTgk9+Hjq0AI8+6uQNFFjinHCcNP/KySklzn7OOEYCXVzbdK8g68dz2U/+Jkadyg/bEctnM8P6nu9izdjO/48R1PqQvBAIE4suRVIAi+OkZ1rKlYCm5lvtac3YIFOKmZ5TG6QKTEq+CMBJFupYKdECrZI3vKbWq62I6x4Ffik3WCWmmAE817bf/0x/iwHgf2Yc/4xXiZqACQQE9iiQbGZGAk+CWcJOx0hwSpjKZ0VC2xZs0nKdKNb8KMOl1DN2G7ZJ1WbsBBplPpGgFCMkga3NXaYggUMBC5l5+b2ApHyD9K4NS0wcz+UGZtJeHD2KlPnzUW7ePMRvdCr6hVnLtnNnBOvWRdycOfAcOoSvcTE64mt09nyFz+blIadt2x8Vc+e98zV1arwx/95xhw+TJzvVKnivp0750b17MjZvdh51+pm53azeQDbOZZIJL3rrEBrdcwnc27ejALFIQh7qYAe2oaGJGj00dCg+rVMH9Rs0MJsv59sBtCFUrVoWZcsCO3bkmjZtoOfzebF9O5PmulCzJl29vGZt2ObzatVKgFG+e3b7kLN6NbI++wwrpkzBi2TRALzzzjsmQIHnrF4djx49EjF6dAEeeOBsNQ5tcAITYu0EjAXMBOI195prvnOeFZBjm4Ll1ynToNhS3qfWiNaQQO+tt9IMyzx7+fjLXxzFgky5ctcJwBCAXXddIm691Wd8GwnMe/RIwPLlZJ7DaNMmaKK2c3K8WLw4BqdPuxAfH8bChflo1ixkABld/cqVSzQMHKuwlCjh5MHUOldU6qRJ5fDMMzG44QYfpk5l3kWa7+ORkeEyAO+RRwrQvbsT2LR+fRweeSTB+GyyCsj69VmoVMlJgPzQQ15MnRqD1FSe48f11+ebfIPJySmYOROYODHZ+DredVcQU6Y4Sp0SnGuepLwIaLKvshgoJ6ZYaioFWss8hjWVCfr4bPGd96rKIzaQspVAgR0bNNmAjH208zIK8NsywQb9UlqlwBU93pYpkoeSZzzWzoIgv1WtM65FW6GwLRCyghRdkwKLAs0Cx1qrfNezYQNKuRiQyS8GgH/GLVzlBP6c9158179sBKImYJqnpAlLGNpmXplC5ItiO0/zOAolCWEJaQlGbdY8x/bLsYW5BK7MnTbrp01awFJMAwWy/IekVfM8vRSIIBOKzEQ8hufxd/WHm5bAD7/TGJiULZHkzmRxyHootY3nxAmUa97cOOf7q1ZF3lVXIRQXh+R330VMxO9OfbnYuxLLA23RtSvNfn4ATk1SR5gnYNQoL554wmPqxe7aVYDERMd0nZ0dNEl7aQbs3JkbciEqVDhlGLlTp1wYOzYZs2bRnxFYPu5jtHq4r+lPZyzBl+iELXHNUW3mfQj07h3NdWjnZ5s2LR6jR8fjscfyMWSIA/74Iov18MMxxvdNIoZlxuj3Nm6cD506ASEmHf7+ezQZ0BTpJ0ojN6Ui4rKOm/NPjhuHfb16GQaL46VKM/ffH48XX2TpMh86djxbPs82zWvd2YytzYRqI7dBkhhBAXX2oaiSwWtwDgVM+FmMmdav5qRMmXgDtPftY17Dg+bvscceM/cyceJEE3XJ/hFwVq3KiHgXjh4tdJSAcBjvvUcgFYudO5USxwHu11zjw7hxZPb4vVP2a+zYeDzxRAxefDHH5OPjemN/Vq5ciUmTJuGNN94wOffYVu3apYxZ+OhRx5WAhPRVV8Vh8WKyRYwAd0rBybLetGkYn3xSaEoOsl+bNnlw0UUJOO+8EDZuzENe3uloahONh8sVh3btUrF/vwdLl+YZ9pMAkM+Fovc5tkoJw2dJz5jWj6Ll5fsnBlkMnI4XcFRwlea8KCC0rQ+6BpUwMflSQsUYyv/XdpGwWWKOHcdY5R3FwolZlDIrwGb76NkKEn+XSZbfKxei+uEAfKdUotawZIKApdoUKJS5WH3kuxQiuy3JKK7p4ijgX7YRnstnFzOA5/Ls/bZ9jzKAMm8K6FEIKXJP2rc0crEuto8W/5c5zjZbaCMQs0JBquhZ+f3ZkcG2QNfQSPhrU5d2baeAkBlY0YK8tpIwS4Bq4xDw1GZtm20orCmYKdgpkNlv+gIK8Gp8+D1Bs3v6dITS0uDdvh1JL78MD82t3NhbtoR/2DDET58OHDuG/I/m4JJb6uHbbxnhSCAVRuXKDBDwYMUKt0n9Uq5cCN9+m28YPW0sPXq4TGAB2Z0RI8Jm05XzOPviDYexcfpG9JjSA+WRicMw0YDY+P/Yew/oqsq2W3Tukp1KSEKR3otg6B0FpElRQaoIKEVQEFSQIiBKFUWlqBQLglIFC4J0UBD5aAIiiNIUEKSXhPTsdsZ8V+ZmfZxzx/i/z3uvR80eI2MnK2utt6x3Pe985tOQiOr4AdGRAezdn43Spa36ugLNPGflygAee8xKIH36dBIiIpiwBBg1KhyzZlm1bGvU8KFZMwJWJ7ZscZtKFMSII9scxKtfN4AjKwsL0At98SFexARMxHgkjx6NlKeeMvPHjZwbtUBdkSLRBqxeumSBbH74rTXGv8US2xk7Pms+G6ukXnbIfGiBICtQ5haAYcCGxWJrs7a3pbVoP9++6WZl+REXF4WHHw5g/vwsM28///wzmjRhchWgbNmy2Pzll4hLS0PYpUvo8WIiVn9fAtlPDDC1pV1UGkil5c9vGMEbN4LGtMuAWgEe9kvrukKFKCQlAb/9dt3ME/MHLliwALNmzTLtMUBo5MiRKF68OF55JR6zZkVi5ZT9aJWwz1I0OnbEtZIsEfUUAAAgAElEQVR3YfLkMOzfb7HCZGsnTvShUKHgv5U9u+8+p8kN+f33SShQgAAwHWfPnjVzzneHzDCTCjOnY716xUzuyLVrU+G/eBHuvXvhfOABpOXMv9wjBGzsCp6dVRfTr/PEnun9onIgVl7KpAAZ78lnKwVPVgqep/dAbC/X0O3XCyTxPgKJAlpydxFY0zefi5QL9lkyS2tETKPWmFhQ9VnyRmBYckyMrtai3nG5ByhzgO6jMYsVtCs5kpP85nPITQT9526kf2bruQDwz5z9v3bb/xYEIuGpDVmCSH4/0rilpWtTl0+KNmz9bQdNdi1WvwukKepN16tdmT3srJ42GfuGLfZQgFAb++0+fXbTsT3/lhg/HWP/tenwf0z6rPQQBH1iOnHpEqLnzUPMokVw5pRqyGzRAmmDBiGrTh3kiY2Fa8QIZA0bhrDChQ1AWb06iClTInHkiOXHxw8d+Z95xochQ5zIyEgLmTEzMoIoWDASpUsTGCabDY8AkFUYWLqtzJYtuOOTT+C+eBGP4SMswqPYMmApmr/TE4GKFTGv11YMeKGQAXJNmwYxbBjrzQawd68Tr7/uMZVJaH3eti0Fd91lMRTTprmNGbp48QB27EiD03nTbIZi8K5c4b3icOGCA9ObfIah33QxJevy4iYyEYFvH52FEq8+bDZ0AWltpt27R2Lt2jAMH+7Fyy9bTKOerUzK3MwI8sQ0a7O2b9JiQQQE7RuvNnzeWyBECoNMaGJc1C+tE37znKQkHwoXjjEl1mbNyjJAjX6y06dPx9oPPwQLdD9me++7YzGWoTv8cIK8nnfGDAQGDDA1iWW+tTOYYr/EDpUsGW/A/86dV8xdd+zYgS5duiAMQDtWg0lMRIsSJRB94QK2Hi+FNmmfYyaewbN4G74mTeBfv96Y+dlPglWZwfUt4MB7x8fHoEyZIL766veQL1+lSpVMu+zXkiVLUK1aNcSmpqJF+7I4fjEO2eUrwXX8ODJ79ULmzJnmOlWn0NzyfZFLhcy67AvHyKhkJioWA28HjjzX/jzElOmYnSXTe86+2sGU3EYE8OS/rDUlpYJ9vB2kCojLIiCWUIybgKMsE3bZJnZRSqNdjt3OAIp11pqXYqL+aL1qbUuxkSxWShi7bObzpTsKf3KDQP7aG/Ef6X0uAPwjs/fPvtYAQDJcyl8nAWUXsBKC0jq5oahahgSVnKzF1Ny+ycp3SOCM39LmJUilMYups/v1SMjzHJlrtdnzmI7zPB4XeNT/eE+7v5fAgUxFYhAliKXlE/yRwZCpmP2Ov34dMe+8A8/SpYYBC7JcVYcOyHr2WQQSE0PluAiaMjMy4A4LCzEKmld9iwW4Heiwf1OnujBhggfvv5+BBx5INhvpogkTUOyzz9CXvoA5a9fbtCkuPDYcJfu0QeP6Gfg6vC18y5fDnT8/1q/PNrkFT5y4Zcq1Nnv6pzGNSTpKlrTMkZY/YaRhqn7++QY8noBhPxnJyjmgmYnzEnnmGiq1rg5XIBvJsKLHd6EeGjl2Ak4Hunb14eWXs5GQYCWqXb3ahRdeYK1cF+rUCeLbby2T2O1MLsfMD0Eun4dYIc6jXAJ4jl0x0Dqyr1FtkvxWzjQ9T7kFaC1oIyZYUVAL7xkVFY5q1QiCrXyPvBev2b9/vwFZd7PU2ttvI3znTiTiMI7iTlNBRZ9gQgKCVargZImmOFugKuLvKY8KLUuFmF2Nn3NQokSMYQgPHUoy65iMHPP5rVmzBnXi4rCxZUvErVoFR3Y2lED6fTyOfpiPYHw8ApUrI1i2LPw5PxnFiiG8cmX4c5KRywWDZur4+Gh06eLD3Lk3wRKQBw8eRM+ePREP4H4AA+68E3UzMxF2+jR6Yz4+Qh9kIBwRyEZmq1bwFytmEkf7IyMRlpCAdNZzzp8fXuYCJJNXsCDSGLwQHY1sj8cAU9bEZpoSAV87iCEAFDC3m+8F5vTe8m+7a4Ducft7rON6zlIU7WyvGEM7S6n7SwkQ+ya22A7ExBAqWEP9lnzkGhCQtfdDa5f/15jta1UAWYqznptdLuo6u3JLME52ONcH8J+5mecCwH/mc/9/Y9ShRNCMIuNmKdZGmqndh0bRjHZzq4SeNGcBLrF5AoY8LrZHbAFzDxJYSAsXeFQEn0CkQJqd0WH/tLnfbrKRSeZ2U6IYHzEDApUS5Oq7wJ76pvqqniNHEDt3LqLXrzeJeYMREcjs0QPpAwfCbwngUNSefMo4Rv6uKGexrPIjFNOlebfPZ9++Yfj4Y6ZnuYmw73bBMX06ojZvBtMnM6ffEoKQKVNQ/4knDEMXHx+GIoX9+PH7DHhzzGF6DidP+rF8eTiSkgIoWtSBXr0yERdnlbLjOezf7NlZGDo0BmPGZOK556z6sseOHcPnn3+OtWvXYtKQIWixYwfuWLkSw/2vYjqGY1mX5ej2STd4H30Uux+fg85do02NW36ICeijxshSAs727QNYupQgzwqqkGlLa4fzTPDHIAE+G4IG/sjVwG7CD7GwOZut5k/PVJuwzMDakHl/rUn5nQl4GpO6223au+eecBw86MSpU6mmGgr/R6ZFSod8w66s2ou7+rdFI3yL7WiCYFwcbhYqi1HHHseSYA+kgK+Y9aEPYLduBPYsg5gRaqt582js3+/CyZM3ERfnM4wzQROBN9dqyZIlkSc1FeHvvIM2s7tge+AenEUxFMP50L3Jwi5GT+xCQ8NE1sQB9C+6HqhYHs4KFeArUwbBchUQ3rEdHmqXjbnv3jBAlr6NNG1zE2kI4MPmzVFm/344k5LQA4uwFD3ghRtuw/P+559AVJRJIM1E0o48eeCPijLgMJgnj0ki7YyNhSNvXpNImkmmlVyaCaUJKnmuqVZCP0P67Xq9Rqmwm3vZK8krPVu7/68deNmjg3mdWEWtQQFBsXqSWXbWVmwu7yvmUDMjQCcgeQt8W9HesnooCEV+qgJ2dlcIuTZozakvPNfObnK95JaC+8/X5t/lilwA+Hd5kv//jyPkAyjTJgWLAJe0cLFTdl8UaaD8HzdSAQl+K1hD4IPfdoEloatN1O7DI1OLwJSELY9Lm1c1B54j863MvxKkAgT8v37n+WJzCGYF0sTCSQNnf+W3lJyUBNe33yL+vfcQuZ0xrUAgb15k9uuH7CeeQGZsbKjqh/qsjYVtUcDLt8fatDzGv27xYpfJvcaI0HbtvBgxwoeoKMuhXL5uj/cJYtESD5KqNETew7tM236HA98Eg+gBoEabNpgyZYoJECAALFgwBqVKBfH991Y6FzG1dMAXM6o5l9+jzKi8d+vWbmzf7sLly8lITU3C1atXTS3boNeLgSxlBiCB44+KQvIzo5Dw6li0bZqOL+Ifg/fDD7kLm/5v3x7A1KnhuHzZadjEu+8OYPRoAilrzrUJ29kaPiOyyoy05YbG8dCspTxxKsMmJkdskBQUPmetB/mi2kGCwD/bJJCTEkLfVz0v3kvrbMcOD9q29ZgkzLt3ZyMQ8IUiYXmOVerMgbp1rbJ4217ZhrtXDMPvxzNQzX0EyclOxOfxokPVYyjlPYbTBevj8x2FkZTEqFymZMlAsWJWVYddu5g+Jg8eesiLefNSQul/yPhSgVBZtd9/96FatfyokO8qjjgS4bx8GekrV+K5pQ2wcFU+ZGSzjsitD/NPPozlWIDexjTNTxRSkQepOF+mIfzlyiGjaFGcr1kT/4qIMAE71atXxx3x8fB8/TVKPdocSVmRyECUufbapElm7WddvYrw7Gy46APJcoqsD0xzb2qqyQfIZNL83ZlzTLkv/6h489evD+/WraG1Ldmg987OLPKY1rjkEI9JFtiraYhRtisLciuQyZfPXDJD8koA7XZFRmyxmEH7/2UalgzUe6p7Shm2B2rJ5cbuBiF5yrb43lAG5DKAf3SF/TWvzwWAf83n9n9Drw0A5EZPgSMgJKZFwpLCSQLKbsLlAGSukJnC/q3/2TdWsW1iW3RvCWs5o0toi42zg0VNHO9BkMUNUuezfd2TbdkFLNuQQ7c2CN7fDi54jvH3Yw3UdevgnjYN4QcPmiZ9hQoh86mncL1jRySULGmOkVES0KAgpklLmwsZFuW247lz5kRi0iQGMTjgclm511galrnY+PfQoT68OCbVRNZ63n4by9fFoWf2AozBZLyMF017V3r0wPjYWJQrX94kV6bTPgHP0aN50KxZNDp39uL9963chWIbT592YeRIN3bvJrh0mKCP++/3m2je2NiAYSb4adrUqjd84cI1ww7t370b33brhqEASuRM+sXWreGfNAmRZcqgQIF43HO3Dxu+TLciHHI2WK0VJbxVRKeO374Rk+3ih/N3+PBhs6YqVKhgACB/51hkshUbog2Qz9u+BmVa5djFrupZ81r+cGw0fxL8cf60pqXwiJ3s1SsMK1a4UKJEADNnZqFRo7RQvsZNmyLx/PPROH/eaXwF33orA1mZAVQsG4WkNA+mTs1Cnz4WmNN9+f3hhzEYMcJj6jefOMG8fZapu1q1SPz6qxMTJngxfLgFRDk2VdKh72WdOtEmPQtT07RqkgH3smVo/HoH7P2tKPLlC6B//yx06nTBgNVNm4pjzmwPLlx0oWLhJOx7dCqcv57EgK29sehaW3yFZmiGbWberw8ditQhQ8x6oSsI+7x7txtt28ag80PpmN9sPiI++wyZiYm4PmKEYSc5FioW+ui9kgIooG/eDYfDgETmLWKSaCaRZsJogkcmko5k0EVSkgGNIHAkkOTvKSkGRJp8R/y7dm1kL15smhSoklKo9SCmjt/63b5G7OdJ5thNrHI9uF2xZJsCbQJkWouSg1J0+bfdtCuZZ5dRmje9o4oUtltMdJ36qfuqH1pXNAHn+gD+37Cd/jl9yAWAf868/x1a/bdawHafLAnP2wcp5kXmUgkjbbICUGLpdJ5MNPyWcLz9WrWv7P8ENgRY/JZAlxAU0BMLIJOwmECBDbumbHL35TjJC1jahaoBGYEAnEuXImzmTLhOnDDD95Ypg2v9+iGrc2f4Xa5QtDM3QI1XEY0EOwJ9SjnCTeWtt+Lw6qsRJifbsGFpGDzYh5s3kxAXl2DSuEyaFMVgYfSrsA3v/dIyVHorBinwIAtXkR8+so7TpyM9IyNkThJr2aZNrKnmcfRoCvLnt0AtI3dZnuzrry2Alz9/ENyzmT7m5k2HiUZ+5hm/ScrM+erUMQKbt7hx5rkpuOPbVfDs329M3fxcLl8eJwYNQukuXcy56el5ceededC+vReLFmWFQBgjhceOpenUZVKR0OxJUDplCqtbWD5+7DM3PJm0+E3Wj8+Gc8ZnS7MnwYiejxQAO+PHZyvTLs/jPOv+tysm2rTZLtvZvHmzuZYMJ9lGtqW1rTa5Dvv3D+DDD2kqd5hchxxPSooD6emWWXvAAB9ee81iXN94IxqTJ3P8zHHoxW+//WZALdcJ2Tyy7FQQ3n03Aa+8kgdjx3oxZoyVZy85OYhatWLNGihcGHjiiSw0bsxk5EHMnesxzCznk+bjgQPTzRrr29eJpUvDDJhfvDjFmIw5fwS2HAvnefDgCCxZEmGqjqxYkW7uX7FiHoS5gT3vfYdy6QeQVr483DVrhszyJ0+60KhRjMlPeOjQDcTGWoElN8+dQ0TBgqFk4VzrTJbOdsz/b940CYnZNsckH19+k8nk8xFw45zI9YDnyq2E/xdzJvOpZIaAumSN5IWCOwT+BcTkTiHFVi4hdkuCTPvsv6wPkn12lxGtH7YtJk6sumSQjvM6ATn1VXJQYNQuv3SO+sv+yYoiZVxyzW6dkesClQQqMrkM4N9hS/7Px5ALAP/zOcu9wpqBEABUEIjdXKuUKjLvyj9FAl4aqhgT+6TKhMJjdvCnPGJKBSGhqY2bbYg50gYgAanj+ltMH/vJPiniUv2QeVPta/PRxkHBrUTDZCOc8+bBM2cOnOct3ypfzZrIePZZpLdsCV9OxQBewzHIf5H3pkmR88excFzcgLmhiIU6edKB2rVpomVQwUVER1s+ZQQHvN79ww+I+3AxaqycjBMojy1ogWaOrYaFfB6v4DWMQsMCx7D51+LwBayycHYAPnasG2++GY46dfzYtMnKL8j/33tvOL77zoWaNX2YMycDZcpkmnHxuW3eDAwZEovz5x0Y1GA/ZuZ5AV9/G4FWGavQH+/iPQww53oLFMCV0aOR1b49fH6mR4kzjGvv3h58+qkb27YxXYgTly+zJFwEzp51GmBJ1iwsLICLF91ITbXA0owZfvTrZ4ElbaTKw8Y51IbGeVNtaq0jfnNcPI/gQecSpCxd6mD2FcOqPfywwwSf2NlnO4DQ2vnuu+9MAESJEiVQq1Yt87y43pRXUqwon2d2dgReeMGJjRvdploGsXXr1szn5zegUH0pXz6PAYenT1810dwnT57Evn37MHr0aJPP77777jM+jR5PBEqWTDDXnjljAV72MTMT6NPHgfXrWd3GLtaDKFcugNde86FVKyu1DZNAx8WFmejhAweumrXG4BH7+uQxAs7GjRNw/LgLZ8/eNH6i69aF4eGHLXNx06bM65iFO+/04uTJcJMkmmXjiPsXLszEAw9kGTAnpptt870i0FM6J86booIFXATi2B8dY3v8nc+Q60hyRTJAoInrQ24lenelLEp5FJsvJULgTnJErJ5dJklOyU9UwE3gznoGmUZ5Elv8f2Lt7Eyx/VqtVclQsYi8nxQe+f7xHI5RCbbtlhUBSL3jAqbqk8YktpXAPzcP4D93S88FgP/cZ/9HRx6KAiYLIt8zCiD5xciZ2g7o7GyKXVBrI5SQtmvUYuQoAMXU2LVhJeCVwOW1ukaMGpkbCl9tzhKASh1i9xO0bwQSnGJFBEDM5nHliqnbi9mzTWoVfvwtWyLjmWfgv+cek8qD7ch3kPMhxkOCXiW42DeCP82PNjIm6l2/3omvvrqIxET6/qUZtuTK9u0oPXUqyhK90McqoggKZJ5FbXyHvagferZtCu3Dhou1kDdvAH37WgxQdLQbS5YAb79N0OUw/mRHjmTD7bZy6s2d68CwYay64cVHHyWZjZdtas6sVBlB1KoZjd/OunEMFVABJ5EfV5CCPDiGiijcpxkyXn4Z3pwayBwfwe+5c1GoWzfa5Csk4+j1hqNCBY9hFrt39+HVV9NNTWA+ZwKqNWvcGDgwAsnJwFtv+dG/vwUAxRBxo1TfpHRwHjm/MuHfbub9/fdsDBgQZdhNRrfe+gTB5Mc02dard8tFQc+cc8MxMNBk06ZNJnqSIJAbKIGlXAJuZ3E4bzLp25UWO9CJjo5E69ZM9J1mGD/6Myp3IPvHQJrKlSsbUNazZyzWr6fyQFBusawCFmRuV6wI4pdfGI3sQ9u2PpQsGTTAXWtr+nTmhgzDjBmZ6NYtyQC0Q4cOYcCAAcZ3k4DzwQcfNEBr69YY9OiRBwMH+jBzpjWnO3bAPJNff/336HAWMCxdOog33riBZs1c5r4E42T62D8x6nq2fL4EIFLW+I7JZK93VUEbbJfzy/vpfDuDK9AmWaNnwPfNHrUtucH/61nwW2Zo+ZhKKeTf7K9KV/Jv5QCUjBLbJ3OrXQaKZVcb8jfl+mSbRlnMUWrESovN47V2f1X9X7JKY73dGiIFSUqkTMViJ+3t8hnlmoD/6Fb4170+FwD+dZ/dn93zUBAINwppoXYtWyYICVMJIH7Lx87Otij32P+T9sr78HyBTU6AtHcJWpn77AEcErYCBRKk2pDs/mVieQyYy0ktItAoQRv89Ve43nwTYYsWwcFIZKcTvg4d4HvuObhq1zYbFIGC+kKQyR8JdLGhApfKeUYznxy4tZnEx0fijjsCpswXo2qXL19ucsoVAPAbgLTISMSULo3wn34y4O8AaiLjyw0IGzYUjooVkb5wISa+Eo25c92GYbJ/wsKCaNPGh+XLedxKgcO5r1QpEhcvOnDy5AWkpNwwJtbt27cboFOmTBkTNUjAc/5wFuq1LYP7sQZr0A5r0Bbt8CUiwwP4+JMgmjVjvLEFTriJrltH0yPz9BHQZOHee4Po2tWFNWvCMGFCCgYOtPLmERRz/Jw/Khc+XxTKlw83ptNz524gJsYTSt2jlBsC/9pg7aBP7gA8duaME/XrRyM9HShVijV0A7jrLpo3I/Hmmy589x1ZSOCjj7zo2NEXSjkj5UMbMkEgn7Gqu3DelENOfqVa/6zDu3w5AVHA1GAePtxvTLUyL2ZmBpA3bwS6d/fi7bcJir0mofPdd98NGudeANCzVStEeDwIczox4MAgfHi2JVJbPQQGa7A4cPaMGXAULfpvDCnvr3dJSg3XdLduUVi3zokbN5gY3ErmPGTIEOzcudM8L66G7zZsQHFWpsnIQOwDrVCnxCVs7z4LgUuXTJ5I/8CB+O23MMye7cL160FTGo4l7UqX9ocSc3McMnXKnE2wTpOjGO/bTadsX8E7nHOCR45D75KSwwvIcY7tJlg70BJrL9mgbwFvASgBYwE5rVnJC9UR5nkCskp0b59je0oXtaX3mHMheWMH43bzsM61y0ses0cly1Khsd3u6yewJ0AsJUgmdHskM+/Fn9xE0H/2VvrntZ8LAP+8uf+rt2wAINkKmjAF7uxshD1KlAJJZhSeK78dCUAJLplyJAx5nTYRmUPsJltt9BSwvJbnqz4uf5e/njZCO8MosKV+iVVS3yQ8tXnyOy0pCXGJiXBcuYIgy7H16oWsQYNY4iE0B9rY1XeVg2PbbIOAWWyRmEmZlmVK1HzExcXigQf8WLIk3VSUYOTu6tWrkRfAdACPEkwzQCF/fgyutAVzv62GU6eyUPSdcQiMHg1XThQv7/fJJ35s28achg4kJgbRvz+jai0fPwWfkIkrXDgMrVv78d57Fwy7xpxyo0aNCq3XhfPn48GzZxH7xhsok/IDLqEQ0qMLMBIDSwZuQ+93GxlmLSEhaCJhSZYePuxEcrIVsLJ8uc/4nrGWcEICAS7rz94wIJnmwNOnT2Pbtm144IEHTOUMAqrlyyPx9NNMM0PfN4tJ1RrRBmlndbQOdY713F1mbGQT583LQpcuXnMfPgv+cB0fPerE3XeT9QF++MFrzKcyJWqNibVhe3qObIdzSGBMAMs1OH8+gS3ZTcXRMoE1RW4QlSsH8MknPpNYmfeJiYlCgwYBrFmTbP5moMm8efPw1ltvYeFrr+Ghr75Cno0bzTNogm3YjsYI5sTnZn/wATI7dw6VFVOeTYFVgQG9H+3aubFliwvJyVYiYLY3ZswYLFq0CG0ZcATAClOyPvQjrYaD+A71ECxSBFk7dyIzb95Q0m3OjwCy5ACBhlhPlX2zK26qyiK/NAE69sfO8vHeUp7k98d7C7yJlZYckXIl8C02jc9Dz1pmfY5N7CDfPzFjOs+u+ElJVAJl/k8gT+uDbSpqX8qU3YVALiy6v/ooYCkfVVUh4tgE+OysnUCn/TqxopJVHJfAsp4j7yErhNYwn01uGpi/+lb83/c/FwD+93P3T7/SAEA6q8t5W0JPwtwOtgSK7Bovj8nXRZqsBLEEmkCYTKY8LkEpgGUXpAJ6FLL2gBCBAzFF0vYFJrVxSJhrg5EZhX/LDOycNg3B69fhHzwYQSuFgtl8eU/13943bmoyIal99o+AlpuCna0ScBFLmSdPtHHC//yzbFzZuhVpS5bA9/HHKMQ8fjQAhoUhtX9/uMeOxVOj4/HRRzTrpqPQHWHG784OYjU3ehaKHhQzwT7t2xdAo0ZRGDUqA0OG3DQMzLJly/DK5MlgaEh1AEsTElD8+nWTqLdFocPYerEyvFWqI/uxx+AYNAhpaS6MHu0wrBcDMPlhAAtNvBMm3PJ9++yzcPTuHYaJEzPwzDPZOHXqFDZs2GD83vghU0Twye/4+HwoWjQvChYM4qefMkLKhH3daB4FFGRak0nuvfdYSSQCo0Zlm/FpTVCJ4catgI7vvvOhSZMYU3t5/XorwljsrUCN1qedESKAZJsEggzMmTkz3OQzfPjhLIwfTzb0Ok6eTMBLL0Vh924mJ2YllTQDkmvVijaRvGfOXENcXIRJos11w/eDG7Qpiffll3CNeBGxl39BGfyC47jTzFPQ44Gvwd14N34kXt/TFOevECDBVGpp0SIbr7ySbRJ2y3w5fHg43nvPgy+/TEG9elayas79ypUrze/33XMP7t6/HwXmzcPxlEK4E8fQCZ/iU3Q17QWYAqZabbyeOhh7kivAFxWLipWA4cPJiN4KYpCfn4IQZDoVgOOz4xhpBuYxpRwSaFeABtetnqnd/1cssd6Z202iAjw8z24m5frneyeAJ2XL/i2FVaZ1ubXId1gsnt4vO8Nnf5+0JiVvZFWwM59sS8BZ4E4uIGrPzLut7KEAKOdUqYsEhjXvdpCsd964ruSYnTkvnP9cBvCfu5XnAsB/7rP/oyMPlYJTLWAKO/mn2CPRxOBR4Khkml2wSphpwxZjoXMEpmQ6ZsfFbvAaO1to13Kl3UtTFhsoczWFq4CbjsnELEAoQU+wJHZRSa/tZmwJeLtZif3kRiOgoSAEXk+wwTbtpmK1wfsaFtPnQ7HisXD7M3GlUCJcZ85AHBLvfYo1gydPRr46dQx7kZgYjQsXnEhKSg8FBwg4nzzpxZw50Th3zofYWAd69gygSRPL5CumlBvJsWN+VK8ejaeeysKUKZnwHTyI6zNn4twXX+ACgO45qyarRg1kTZuGFs83woEDLqSvWodgixah5y8gLB9LuzIgQPDqq2GYPNmDr75KQdWqWcbEzfQ05MvoHcW4XNa1rV27NooVK4bExFiT//DSJZ9hMvQ8tAb0fPk/mWG1QfMZVK4cjUuXGPSRhJgYAuWzhuHcu3ev2UQbN24cMunWrh1rzMVXrrC8nMXg2X1a5ccmVtDOPq5dC3TtGmnMvbt3J8PtzjTl4LjR8nwCnd27o9CxY4xJq3PmTLIJinnyyRjcf78XK1ZYgRNcL/T5k2sE+/BYNzdWbwjhJdoAACAASURBVIjGYnRHDyxDoGRJ/HY1GrXSvsF15Icb2agSdgzhceE47S2Oi0kRpu8jR/pNTWh+kpLcKF48HLVq+bFmzVVzzKQvcjgMa8e1x/UZnpKCrvemYePZRBxFRVTECfhj49Dt5rv4Ah1yqpcE4UDQsJEOBFC/7EV8+u5ZRFUvB0dOYmy7GZJtyfeXa59t0e+QIF9gWkohxy8fQAVKSQmzg30pYHaBdjsjKOAjnz6BR1kpJHOkLAiUifmzAz6BPd6Dv3M8nD+70inZpXbsfoF2ywSvZ5/EjtrvrVRE7LveGVkrpJAKSIpJlVwUyyh5LIVFYFj/5/rP9QH8o1vhX/f6XAD41312f3bPQ1HA3GyluUqrliDTxi8NXIJWgkqDsAsoXctz7Fq8hLhAGr/F0AkEyjQoFlKaNf8vM4oKwUtoS7hLyxYToHtR6Mq/R/2VGdsOHGXuEbMpxkMpSnguBS5NwGyb37w3zxMzwGOuzZvh+fRThG3ejEE3XsY7GIhVeNB42ZnNukoVpE2aBH/DhqEI1EOHaLqMxP3307RolUvjz6FDAfTsGY7jx+WwfwtCMv/byy/70LOnZT7nJuL3B1EgfwwK57mJX0o0MVHGAVJVHg+c6enwxsUh46WXEOjVC0GHC4UKxZqAjl9/tZgvzvuVKx48/7wbGzZY0alMFVi0aAAjRnjRuzfBu+UC8O67URgxwoVPP81E8+ZWreKv5s9H9PjxBmiOeekl9O3bN8QOlS0bY/zzfv/dMr3qubBN3o9/y6xvX1dac3FxUaha1Y/Nm2+asTLSlsEPgwYNQps2bTBz5kwDzvgcp07Ni5kzI7FzZzqqVLGCY7Spa9MVKyU/RD5f/l6vXhSOHXPit98YqZ1iQBUBIH3sGjRoYMbDiN4FC4rglVeiMX16Fvr39xrm9eBBB5o39+Pdd9MQH28FKnA9paZ6DFtK0y0DVXZMXofIZ5/F1ZotUG79XKSlOTCs1iZMSh2GiGNHQrLhu7D6eMi5Guez8mNkvwt4cUasGUvjxszb6MSMGeno3dvyTxPTpvdu6dJM9O0bi7IlsnG0/mNwrliBKoWv4qcL+VCqYCrG1FyDPtnvw7l/PzYm18cYvIKDqI58uIpTUYmIqF4Ogdq14atVCzcrVEBGgQKIMAFE1rPT+0KQK7Arszr/VjAPz+OcScYIbNvdRQT4JFe0/gUOxbzblQWeq3dVQFPuH1pHfJ5SYO3vuo7Zsx1IHkmOCDzKVCxrg0zxt68ngTJZLvQQpVjzb8kkmYnFNtqVU56ja+RaIqVZ8lnXcW1yLeamgfmzt9M/p/1cAPjnzPvfoVUDALmx0QSsYAwKWjllS/hK6EgIa/Bi6KTVCgRJYNrNvmLqdE9dI7OzmAEJPGnMdpMKrxVrpw1C5mRtKnbzEzcDmX54HxWs530k7CXkpcnLcVyaN33aVCeW/6PAVdQ0WQ0e0zi1OYVduoTocePgWbkSSYhFAVyFEwHsjmiCO2f2QUanTgZVyUR26lQA9epZgQ3ff5+KMmWsjWLPHidatYowOeAaN7Zq7JYtyyCDPHjpJQ8+/thtABr96kYPS0XYli1wLlqETmufwJfBB7ATDdAAe8zjork3s3dvJA0bhujixc39p071GAZv6tRsPPlkhjmPyaqnTbMSO9O3r2RJVhsI4uef3cYvkKBzx440FC/uxOnT9BGMxr33+vHll5nwLVmCPCNG4GrHjjjRr5+ZN25O/D53LgLVq0ehRYsAPv00NQQGOGcZGZEYMSKIXbvouxdEXBzQr58Pjz/OesJWyhJukNHR4ahfn21ZpdIuXbpkfmY++igi7r4bH374oXk+/Hz0USFMnBiFjRvTUb++5R/GZ801oHnnGtBaFchkrjwCVVYw2bAhwwB++jSyZi7NrN27d0fHjh2Nb2Pp0uVRoEAUChcOmiAfwI1mzTymtBuBbsWKQZOq5fJlB44fZ/oeoFatAL75hul8AqSX0bHJTWz4sSRmzkzGI49km/Gc27ULRX74AcUOH0b8/v3wpWejOM7iKgrgRukaiGrTCFc6Po6KHWqYPMlt2/rx6quZKFTIYuQuX3ZhzBgrVQ+J6EOHMhAfn47Bj/ixfMsd6No1E7NmpZh1++uvvyKeisyxYyh24QLmfFQAY/Z0QnXHQXwfrPlvci5QoACyq1WDv3ZtpNx5p/k9EBdnFCC+C2ybc0pmUNYAvncCZwTnAsRi73ke14eUObs8sAN1PifeS8CN10tO8f5sUwqigKneZQ5C5nPlFRVYtiu4dlkgH0ceU8k33p9yQjLM/m0HixqLlFh9S8bY27YzoXbWUmZ2HZPCan8glHW5eQD/Dlvxfz+GXAD438/dP/3KUBAI/ZOkmcr8JiBmN7fKhCumiAKZHwo/RVBKuPG4HJk10TIr21k+gcbbtWlt+jJ5iNWzmwQF9gQmJSTtzILatpsVBdp0bwlvgQB7zVheL/aT9yCAIKjhpid/MfZN5i/j47R/P/I/+SRcOYVx16MVHsBaA/oaNfJh4sQsJCb68OuvbowfH4kNG5wm0OKdd7Lw2GPIATFuFCsWC+4369eno1YtK+EyAYnYDUbX1qgRZQDG+uc3otWS/nCcO4dTKInyOAk3fAYEVq/rwfVJk+CrWtVsZrx+2TIX+vULM6XJyHQFg6wO4sG0aREG0CxfnokqVbJNewS8DCWYMIE5Bz1gjuajR9NN7r0aNZhOxIVf2w9GyZUMPwCu79iBrDJlzLyxPfa7TZswbN/uxp49qahc2WI3OeZHHrFy0xEc0ZzKyGbmDiTYZKm8WbOy0aWLleS5cOE8ps2ff04xgMEE4GzahKsLF+JAnz7o1KmT6S+BSL9+CVi7NswE1OTPb+VPFIAQ4ydFQOuUz3PjRg86d+Y8ZOKJJ3yG+WPOwEceecT0gcBg48aNRmniT9Om+cFqK9euZYTStHz9dRDjx0eArC7Bu8sFw0JOnuxDs2ZW2hD2JzPTZ0r4MY3Pnj1XDYtGszbzB/IZscTXXeXKofAvv2DL/Gt4ZNNTGIIZmIHnkLF0KW406YTGjd345RdrG8jJnR3y2+R9N2/OQvHirL/sQP78VsDODz9YKY/oH0rmdNiwYbjrrrtMmzTVd+tWGDt3unBkxR6UOb8Hjn374Nq/H65jx0LJwfVe+UqWRGbVqnA1aIDMKlXgbtwYqWlpofRJfBb6kY+bnUlTfk+9ezK5yowsRY/fevfl9iAWTNfY2TKBNckItWlnFu1WDbl+SMkVIymgynPtirBkhxRMKdB21xa1yX7yfOUdlbVEslX90Jyqz/xba0UAVsoo+yv5k5sI+p+7lecCwH/us/+jIw+lgWF6EMt8eKtoOQWaXSgK7Ek43a6pszMUUhRm3JjJCPBb2j3/b2f5JKDtQltsjBLyqn19S7iqn3bWzx6cITOQ+iwwaWcodUybvzYVu7+TUi7w3tyo5OfDcdHsRd8nmrkkyMOZ1LdvX0SuWWNiRfUJFC+OHbP34PHnCprasYok1XeJEkHMnu0zpkOBksmTycZ5MGNGFjp3vmKEvYIdyH7R1MzggtTUKJQtS9OoD7vbvISIV18192BKl4ewCn64UK2qH4/3S0e5cm7s388I2gicOcPqFsCuXakmj9/169koWjTGVAwhuPP5rMAJjlUbFMe8ZEk4nn460rBONFV/NfcXtBueiDgk4TASUbhuMSStWxcq48b1MmRIGN5/341atYL49lsruTA/rVrRl86FSpX8eO21TAOOLZ+uKMyY4cLrrzN1DPMdZqB790z06ROL1atd2LkzA5Ure00exzwNGyK5XTtcGTnSACbLtEagE2sCTjgWAYQLF7wYOzYca9bQtM3AAqBChSBefDEDbdsShAewerUH3buHmfJuvXv7jFl79+7dBly2ImUO4MW1a3HnnXea9ho2jDLm+YsXrUAIMc12JUSsl0COFJZly8Lw+ONuTJ2agaee8psI6k8//RTPPfecmR/OO6Op6XtIpaNYsbzIG+3DqTFzEOjeHY6c0oPHjnkwerQbp05ZLGOxYgGMG5eJhg1dZq75Pr3xRhCjRzN3YBa6dbMitpmqhgmq+Zk1axaqVKli0gQdO0amNh6dOvnwwQfpoYh/F1MmEQju34+wgwfNj/vs2dA695cogfM7doTYVgXVyASs94QXCIjZ5QjnR0ytzMwKLOG17LPYOAF6Rf7zPpIHYtXkH8i25OspNxQ78yegJauAZJL6I9aRf+s+PFeuLuyLLBE6pjHyGvWLa4N9USCMzOh2ICtgZ2cPZfUQG6i2eS8qPLlRwH90K/zrXp8LAP+6z+7P7nkIADJ/nQCUXTBKq5UGK23Ubt6R+ZOD0e+6hzY8CTX5JsnZ/3YTjxhCu/DUJNmFpPolLVxgTpq1BKWAo/2+YijtjIBMRhqnHOoFNHV/9pebkAQ4fyfzaVi1lSsR+9xzVv1Ssp/FiyP5nXcQP3QoMpcsMbnX+Dl71o25c8Nw9SpLi/kxYIADd93F6g4WwyEmtHRpK3nylSsZuHjxvEkdM3LkyJCvIdmnFStWmEoWzekPdshjzM2xSDWBJrRB7p25FYMX3YP9+wkMbokKtzuIli0DeO89L6wqUowA9WD2bCc++SQLrVt7DdgkwB06dKhhihYvXmySJnMzqlo11uQZTB49GRFTJmKWbwCewVsmmKBOqUvoPTLBjG3nTg+WLiVr6UDZsgHs28eIR7JifsycybJp4SbKdfHiG/9Ww1nrxeeLQ9WqMQYE/v57Cm7ccKNyZQZnAD8dyUBU984IW78emcOHwzduXAg8d+zoxIYN4ZgyJR2DBlmg8vXX8+L115lXDya9TeHC9N10mWTInBvmFNy5M8tEYNerl4D778/GsmVW6TgC7v379+Pwjh2YtGQJ0lq0QGDKFLgKF0aRInkQFRXEqVMWA6g1eOyYC++9R2bQhwIFnHj66SDKlCHraSVj5mfGjAiMG8fKLATh1w3YnDBhAj755BMk5tRgnjxrFoomJiKmeHHceW9J3LzJyiuWDx7vo1QhbFfMJteQ1qiY727dWEeYqXzSTKUSRimTyRwxYkRIDk2fNg2d2rdHlMeDYuWKonxZL3atPY/s9HR4WMaxcGEEclKb8B3k2vedP28YwpiffoIjMhKZQ4eacXCcBG8CdLIySE6w/0r3JIAkgCjFTT64AsO6Vn7DelckBzhmlXy0p3MRS8fryeDymdqVQymjAocCXwKQkkeSa3bBLTBv3nmvN8QCS76oH/y/zpWSyftJNmnNa754PsenNDICp/agF7mkUBHJ9QH8s7fTP6f9XAD458z736FVAwB///13Y8oSaLILMjvQ0uYmIEbhrdq6dtOMnPmterSWpm83q9hBFX+X347dJ5DXsB1tAHbzsMx4egDSvHlcEbnSrPk/OxMjAS+mkd/S6HU/CX/e63Y/HI6NZjq7edxz5Qry9+uHsEOHrAxxHg+ujx4N75NPIpr5FU+eRHapUmazkzlJG44c2MVsSshz3AkJ0cZs+PXXqQaAMcDh7bffDq07mmWXLl2K+qmpeP/RHzHGNxnf4h40TEyGPzYWzvvvR2DEiJygDi9WrnQhKcmJIkUC6NTJb1KYKHqR/SlZkik9gIsX08280zesbt26ofbGjx+PgQMHGnPwm2+6DZv0UfnxePT0FDi8XmxDYwx1vIWDwao5DKd1KU22jz3GCiEMiLCCIjjO0qXDkZTkMFG6169fNaCB/WGZNrJrNGtRMWElke7dI/HMMz5MnerD2LEuTJvmRsGYDLyT2h0dsApZL74I3/PP4+DBAJ55JspENdes6cWOHRb4mzIlAq+95jHmzw8+SEWDBlalGcsVIMaA36VL3SYY5vDhFNSqlceY1S9fTjGVOlSyi8++wKxZiHvrLQRiY7Ho/iXovewBDBuWhRdesEr7bd8ejkGDwvDbb/97lQ2yjfPmZRs/QK69d95xYuhQDxYsSEOnTgHznAnqn3/+eYQDWFa4MDpcYOy29SmAy3AiiItFahjfu2Djxsh89VWsXB2OhQuZssdh/CefeopsstWGlJlevSLxxRduJCWlIj3dyh3Itmj+JQf4LoBSNqkWiXSUx3EcMomDgLQpU5D15JPmOr4zZPfsihyfqzIEUC7w/dc7zd8FbMQmc64EYO257aQIibWVvJBJVmZkHufY5CMsmSFGkX/zHAEwu5uH0qxIltn9jQXy+D8li7ZbGiQn5cZiV9rUhj2Dgn2jUB8F6sQGUoEUuygzs+ZJQFlzLTaVfeM1nOvcUnB/h+34vxtDLgD87+Yt96qcWsBkeiiAKGDkVC1BReEjIW43/doBmUCLBKNq3MpnhtcrxYE08duFnIS7jou5s5tT7L+LsdP9JOzVR4EMmYXsTIEELTcl/i7WQMygTMF2AS/gSGHPfhiwEgwiauJExC9ebPyiyLplt2yJ9PnzkZpjytLmo6hBXu9whGP27CDOnvUgPDyALl2cqF7d8u/TuNlefHw0atQIYNMmK53Imo8/xo8jRmA/gN0Ahj33HIY6nSgyYwam+5/FcEzD+gEr0HT6g8DWrfA1agRXTuCDno3YA/tmLHNskSJRphrETz9lmsohjLBlKTMShEw00r9/f7z44osGmO3c6USLFuGY/PhJjPnwTjhyKq5kd++Oc5PeNcmq09KcuOsuoEED61UTO8xndOKEE1WquNGhgxeLF7N82jKsW7fOmLJmz56NGjVqGMaRJmcCzuLFYxnEjDNnLHPuy8+l4tV38yEAF2KQgvi8AaS58uD6dUscNmvmw6pVrGKRjeRkgs0YA+7277+KQCDTbOy8N81nXPs049PcPGlSGB591Idq1XwYPjwSDRsGsG4dGV0LTJn5S0lBTGIizqbFm/x6Xnhw/vPNiG3bDAsXBvHkk0xYDNx3nw8vvHATJUtm4YcfnHjttXjs2GEF16xe7TPBMOfPZ6NMmRjUru3Hxo03zbvGgJPDhw+b9VC9enUU/eYb5BszBkfSSqEKDqM9VpkULoGiRTF70CG88Ep8ToUYAmuyTEbtQkJCALNne/HAA14Dkl5+2WkCfmbPTkW3btnmGZ8/f94oEZzrnu3aYZLfj4Tly3E8WM6M7SF8gZXoCLowpL3+OvyNGiEQEWHeAa4p1VCmsqR3T6CKveCcKeCGv8s0awFva051nsDT7fJGCh6P8yP2j7+TYSSY0z20zvgtJVDfYhdllZBPsdalHcgJhIolvF1hlFsL/681ZDf12seqVDCaF/VDMs9umuYxzhfHxPM1P5bcsBRpgmylUOI5uSbgf/ZWngsA/9nP/4+MPpQGRjntBNTsAFDCRwKTDco0QQGl6h4SbPxWclOeS8Go/GsSdjwm9ksatxItixnQuTpPfjYy94hN08Zj980RmNP/dK0EOYWsfazy8ZHPnzYagVf9bZi/QABZixcj39ixcNFGy80mf35cf/99uJs0CZVj07yI5cjIcKFnTw+2brWiaW99goaZYqLhPn2s2sP8FC4cbn4/t+MnOOfORcTixUhNTMSK3r1RqUgRVH3zTeTZvBlBtxv3FT2MLWcq4uxZmnRv+UJx/GJqxTrynjLHcc60oZYuHW2Ay8mTqQYUJ58+jV+6dsWHp0+jwNNPo0WLFqhWrZoBS59/7kGfPhGYm2cEBqS8gewXXkDY9OnIXrUKvoYNQ+lB7Ju5NlX2Y8WKAB59NALTp6ega9ebeOyxx/D1119bG3lOdVyCErZJoFavnsekZbl2Lc3kFwxr2hTp+37Ci5iMT9AZaREF4IkNR926Prz2mhdlyljsEtscNMiNDz/04IsvUlGrVhLIeLNOL6tmNGzY0PjW1axZ07CNVasWQkaGA5cupaFjx3Bs3hyGEiUCmDgxG507W+l+srJcmHr/93j3YANkw4MV6ILO+BzH2j6NSuvfNIEs//pXMmJjb5jzCY7IsJMxO3TIgdatWecY+OWXZOTNy3Qu0Th82IW9e9NQtqxVek3mQL4TfH7ukyfRuH4QezOr4VeURmmcwUSMxThMRJQ7G/26XsETY2iSJQjMhwkTIrFkCdc4MHduFnr2pOuCD0WK5DV1hQ8eTAu5EhAMs032k32MPHgQ3bvmwcb0RqHcgVqrrJyTWa8esjn/jRsjqmZN+HOSG7PPLK+netgcOwGa5IaYfrHdYsGkHGl9SjnRey/gJLkg4CSwJAVG7ej9sQNLHZMVQ7JDqVg4z/z99uAxgUcxdWxD7wuP2QPfpHQqWENKl1JWKXei+s93TAmg9Z7YlU+NX8qt5k3PQmMhAMw1Af+RbfCvfW0uAPxrP78/s/chEzA3P7FDdk3Y7jsjfz0JIrsGLWAloaRzKbTF3PF8CkOZisR2SbOVQJfGrHJYCtIQiLSbizh50pjt/eK9taGoD9oQZEK2t2sXqjIPybfKXnGA13hmzEDE+PHmEqZWyejfH0ljxyI8KsqAP7arKGmeTyF/5UoAderkNSbPMmUCGDIkE61bM99eAG++GYlVq9ymdNmzz1qpXpwOB5575CreWV0Cq9DO1OcNRkcj+V//gv/yZcT172+SSgeKFcO1OfNQuMN9KFUqiEOHrKoQ3JjYNtO0jBrlwZYtNAVa0ahs/6WXvGjf3gKaYmM6d47Apk1u7PsuFeX3LkLM+PEIhIdjx4IFiM6b1zBlBGMEM/c2Cce+fU5cRn7Ed7sPWfPmwfPBB8jq2xfXrgO//UYWzItKlcgSWdGT8kXjfG7cGIbOncPx+usMtEgzUa/Tpk1D4S1bsA/A+bx58dVXXxnTFtdm7doROHXKgevXM+GeOBFhOYEuem7eOXPg7dXrfwOefNaFCtHn0IGjRy8bv0aujapVaaa2PgSaTOlC/8ZXXsmLWbOisW5dFpo2ZW1clzEN83pGJ9NsTsKJPoOxSMYSdMcDWIdgWBjaFduPNacS8c03qbjzzgwcPXrU+NnJjaBcuXJmo96yJRrdu0ehX79sE2nM2sX33Rdt0rVs3pxuosOVm85ysYgCzberV4fh3oI/YuvlKvjOXQ91fbtwBy7hOMobv8+Mu+5CSseOcPXsCUf+/KDluH79eJN4+8SJNBMQ8/DDEVi/3m3WGau38MN1IjDGvi5a5MKgQZGokO8KjqYUhyM7G5mjRsF56BDc33wT8nE1ik/x4vA1bw5fixbIuucepLtcZo0oQTTn37wzHk+oHb13doZd/1fuQH4L+MmMKyVOzCH/zx/dT+tY76CUQLmZ2OUE+y45QPkipl6ySuCNckzX2+WImEz1UaCdf9sZOl2rY1J2JS8FTGWVkClac6YxiYmUUiNZyPtzrnITQf+Z2+if23YuAPxz5/+v3Pq/JYKmgJQwlblFgk5AQeybBJcEn91xWUJfwu92BtFu/pGJltco0k2avv62+wwRWEl4S4DrAQi4yjysDUPAUKYeafA6Lt+a26M2xRCGHLazs+GeMQPhU6bAwY2hbFkkL1iAtFKlDNMhnxwCPt1LDEPNmnH47TcnXnklHQMGeA1I02ZD9vXGDS/uvjsvzp1z4sP+29Bz/3CkHTiOeNxAJDJwHBVQYNoIMHQgYvRosyl777sP2e9/gIYPFsKhQy588AGjha0E0hz70KGMvCVfBhQqFDSJnJlsmPnoAgGHYbZ27cpEVFS22QxPnHCgZs0oNIj9ETtvWgAp/dVXcaVbt1B0ODeykyc9aNI4ATWxH3sr90LG1q20xWHJEjdYGYRAzYpupgkwiHvuCeCNN3yoXt3yR+Pn+nUnSpaMRO3aPqxbl2SOhy1YgHyvv44Fr72GxGrVDPizgGw4ihWLByOljxzOgHfrVlM7ObJ9ewTj48FImax33zVRsVorWsdcpwULRps0KDt2XDdtM80KA2foY8feDBgwwAS6EJytWePBo49GmdQzfftaiY5TUryYMsWDzZsZvekwZvKhQ4No9/VgRL73Xuj99zh9KFzMgQMHbpjxsO4zo4cZXcu/6W/HVCscU+nSeY2p9vx5Kxjh00+d6NUrzDCDZcsG0bEjfewC2L+fybjdyM52oEYNP3Z8mw3Xwg/RclAivg3eg582H0fJrz9C2NKlCDtzxgL09IVt3hxZjzyC/QUfwn1tY9Gtmw/vv5+F7OwAqlePwdmzDlStSmYzC/feayWRPnLEiZEjrVQ9TCfz/fc3EX/pR8SOGAHvc88ho2lTpF6/jvB9+xC9Ywcit26F++efQ+MnE+2tWxdpTZogeN998NSqZQJGZALm+yefXFkL5GIi2SM5I2DK8wTQ5O/H/wmg2YM29F7LdKr3XaZZyQUpruqD2hLLJ1cMu3uJmDkpuHbWUXLHLmckewjoblkAMv63RNiSYXY/ZjsoZHsal50l1Do372hOWqrcIJC/8lb83/c9FwD+93P3T78ylAdQiY3t5lYJWrFp0qx5XKZDCUYJaTksUysVg0ZhZfe/kQZ/uwC2+7dY4MFKyyFmkn2TaUzCnRuHSl/JxCi/GZlktEnY/fgo5FX+SeZsbVRsT6ZjbRb+w4cR+dRTJv0F2Z7sMWNw/fHHEcxhIdhfjVembLbPDYDJhDt1SkDHjtl4552bxn9QwlyCn+xaZqYbZcrEoWh0En6NqATnpUtYiJ7ohYWIcGRjcPkNmHS8K8JdfmS+OA4LC47AhEnhuHDBgQ4dfJg372aIabHAn8dEti5enIZy5Swzn+XDGIaXXorHsmURhhU6fjwLzuxURM6ciWZTWuFbNMbD+BiL4wbBd/I4kryWWZJjOXrUg9YtY5CV7cCuiKaouvttBCtUwEMPebBpExmZIJo08aJu3Wx4vW58+WWYAZxMikxQ1bu3FbnKZ9SwYQR+/NGFo0eTUPSTOYgeOxZZTZrg2tKlt9LqhIfj5ZcjMX16JGbPZsWLnEoKkydjz8vfYEThxTh0tSj8AQfCwllJxY9XXslCuXJWNDWfY+HClm8jEzWzbda+ZuRr9S1bMBvA67NmmVx4ZBoXLWKwSTgWL/Ya/0R+oRR51gAAIABJREFUFADAtWBnypznzyO8cmVkT5iA1EmzkT/jHPrW/QHTNpY0/nVz587Fa6+9FpIxjO7t16+fWSePPhqH9etZRtCqfmIBMD9GjAjH9u0um4tA0JSje/bZIJ56KiMniTLzMHpQsbwP33ybZADAurVrsXjQIPQG0DMsDJE5aXaYuLlI2gncDMTg6jWryovf78KDD7rx7bf0OSXAsJjgnMBkVKoUwOefX0dsrOUTnM20Ojdvwlm4sImGtptaw69eRcQ335gE5BE7dsB582ZovIwY9jLpYevWcLRsCWe+fKHoZ71ferc1xwpKstfdtrNtSvasd5n3oayh6VqmVQE9gUT9bbdsiFW0g1IxoVJm7cqwTL3qt5RCO7jk/6S82sEaZSPlK7+lVEp+crwEtlwTso6I7bNvTgKeul7+knyPaHbPZQD/uVt5LgD85z77Pzryf6sFLDZOWqeYOwk1ATABM5lyKcx4rvJz8XcJcPnaCCjawZFdSEqgc0D2GrAStDwu06rMJzK/sF8yL0tA2zcNAQ4BWgl/HheQ1L1kihEYzGKalzlz4Bw/3rBu/urV4Xv/ffgqVTIbN02KAhrsF5lAO/BlGy1aRJvKED//fA3B4FUTXfvBBx/g888/N8EOZKMGDx5s8q917RphGJ8j0XVQOY3hHsAnzq54PPgBUoIxplZrRHgQXj/zjnHDCaJ/f+bQu8UunDsXRMWKUcbX6/DhDKSkJJvNhSbVHTt2oFmzZmjUqBE++KCIiY7t88DvmPdzEzh/+QUsM18LB3AQNRDu8uL+9g7UqRNAcnIAn33mMSwhK5osQzfc/9GD8LZrhyefjMaKFWFo2NCPlStT4HBYjBI3K258P/7oRcuWeU3FilWrstCkiVWzlkDnwQejkD8qHcfSiyEBScbUiHHjQhvlqlUu9OjhMcmqT51KQUSEB2lpXrQsdg4HsyqZ+SFjFhvrx9WrbiglXfv2PixcaM1J06Ye7N3rMuXnYmMzTaTt9u3bcc/zzyNj4EBEP/aYWVs0XQqUnj2binz5mJyaUZYOjB/vwrp1NJXyGcMwrcOGZSP6nVkIDh2KC8u3oUyfNhiEtzFptgs3Wrc2bfTp0wdVANR3udDhs89QuXp1086jj8Zg7Vq6RFj1kPkjYJWZGcDBg34T2FGxogN33GEBZv7wHJp2GUH9xBNZGD/+unn3WAu5c+fOZj4Yez+3ZUt0TU9HxM6daBf8AmvwIPzVa8LXsyd8XbrAdccduHEjiBdecOLHH2niDqJ0adYazkDp0lbghgAJ2yXIFCPGPihYTAy38SFMSUHsTz/BuXkzIr/5Bu6DB0PyiYpSoG5dBO67D/6WLRFWty68OVHYMpELFNnfV733Yunt/sVSaASY7EElUgbtzCLvYbdgyAXFzigKxNmBFu9rVyZ1nRRNyUfJAQXI2IGkrBn2QDY7mygfRD1nuwuNXF6kgNvlK+9BH8DcKOA/uhX+da/PBYB/vWc3EAB/lHWBhT8nAlifMxQ+0wkMvAQQB+BfOeefsA2VFeKnAehG8gnARgBPAbj0H0yHAYDcEO0pW8TmyfwioSQBLd88mXMEusTgSUsXsyEWRZquzCIyk2hjU/kk3k/+e3bmkPeRNs/f1R/+LmdqHZeGLL8du4O5NhP7/QQueYzjMD5Bx47B3a8fnHv3mkCL7FGjEBw5kkg0lBbEBEskJxvgx/ng5i4TFO9J4V2qFEtk0fH+qkn0a68qwfYqVKiA999/3wQifD1sM9q/1wEz8QwGtz4B14YNpm2anD9OnICZnpFITveYChlMxDxqFFlG64lzY2J7vXtHYOXKMGzalIyGDa0+MIfdggULTGTvE088gbZt2xowUbFifhMocHHjTkR17AhnTuWSqe4xmJkwARcvu0LmXILNeyN24820x1FhcHNkTpmC5GSakqONX+GBA8wvl2ECLI4cOWJMoD169DBBFhcvhqF69Vjjp7hnzw3LLOh0Yub92zF2exuEwYv2+ALPv5UPRTo1wL/+FYaJEx2GIYyIAPbuTTdsJk2kdau7cfx0BNpEbcOcH+siMspi9riGT58OQ69eUea6++/3YsmSdOzZ4zIJp9u2ZbQxAXEK0i5eRPn69ZHasiWyFy0yoP2nnxymBnCdOn5s325Few8dGo4FC2iataqS8Cc9nUDQYs5eGJONUaPJqgWRJyYCNbAf+9wNcP2jj3CybFls2LABN65fx/PbtiH/lStIHzQI/t69Ub1BIVy6ZAW1yOTItZ6cHMTkyVQWmE8QJrn3qFE+xMRY7Def2enTGahYMS/69cvEG29kGT9DskD169dHSQBvMoCoVi2U7NQJ0RUrouuou7D+RAUETXgNDIPta90a3h494GjTxqxnexk1vXP85lyxf3zn9d7zb3tpNLHyvDffG7Jxxv/uwgWE0Uy8ZQuwaROc1y0TvOlD/vzwM5diq1YItmyJYL58of/ZQRgPCmjZzft29w+7HJEMkRuK3otQuzkmafv7on5LZvC5c3zKZiDm0K54SjkWoOS1UoJ5vVxoZD25nZUUmNZ97JYUu/yjXBFwlZIsECy/RZOaKLcW8H+w7f29Ts0FgH+95/kgLUsACOj4/HoBYDbWGgAIBp8HMDrn+CmWZwUMkVAZgJXzAJgL4H7AWH0YijorJ3jy7v9gOkKJoFlVwm7i0mZj16ol6GVqkYarDUMMoQS4NGG7uUXg8nY/F2nRYh/lY8Ox8JjAJMEMNxh+65i+JWztfkWaC5lzJExvB5liI3nfiLAw4M034Ro3Do7MTASqVEHmO+/Al5hoNiP2VYEhPN+urWtzFEvA9ooXjzb+XMwvRwCYkZaGEVWrmrQxGwC0b98er778MkrPmYM9cw6hCb7F5LbbMCrufbiWLjWBJr6xY+EdMQIOtztkFuezkb+hzFcEMvny0RGd0bwpZhNjH/r27Yst3IhNrd9J6NWrl6kkMmpUOObM8WB76wlotGG88alz3LgB38CBcLz9No4eTcMvv4QhOsqHOu8PRuyKhQg0bIjU1avhiY7GoEEuzJ8fhlWrMowvGRNHEwC+9NJL+OGHH0xVCwZXcG306VMYX3/txuHDWShV0mt8Gd2zZ2M5umIY3sDvKPZv+QMdjiDq1Qti4cJ0FC1qMWDTpgFjx0bgMXyEd4f/iBQC8hzgoY2a423RIg6HDrmxeXMKGjZ0o04dAjwnBg9mQugg0lasQL5evRCMjETG6dP44ZdwNG8eawJlvv46BXXquNGrF33zPKaqBn03mzSxgGtMTCwWLHBg3LgI3LgBPP98wOQAvPfeKHx/wAqMyReViYuLF+NiqVIGmMacP4+iNIV6vTiS0BCJ13egdYssfLLSivgls9ihQwR27LASdnPsVjA4/TmDaN06gBUrrPrBXq/fpAiqUIE1ha8ZEyLXIeeaiZ2bFyuG4evWIfzaNTM3hXARKc5YJLfvAce1a3AeOIDkVCdG4jV86uiKVFdeOF0Okx9yxAhGDDNHJIOSsnLK1WUapluR45yDvHnzGtOrXEYU3CDwJ2AkViw7IwNRP/+M4IYNpnSf47vvQiXluL6DtWoZZpDmYtStC1eO75yYODFwAkxi7u1ATkos1zzfi1Db2bdYVp4vXz2uJwVdKKhCwEwMtgGyORVGOG7JLckcgUL1T/KGx3VPu7lYyrKu51q1p95iW2L6lINQ/sS6pxRMyVUq8LmVQP6DXe9vdmouAPx7PFCqxwSB8xkEmcPuvZEztLw5zB7B3sc5zr5XAHQH8GnOOXcCoEc2s64xTdz/5BMyAZO5ooCR4BZLJuAkE6nAn/24zC1sUNo6jykNBAWVgKSAkUzDYj/k+6ONRO3pntLy7dF0Es4U6GpX95Wg1QYhwS3TsHza5O8XAqAnTyJ8wAA4d+0y/n0EXVnDh5PaCPn38J7G5JWRYcCVtH0CKgFnMZI8p06dBJw/78CVU5fgmz8PMfPnw5edjblPPolCZcogsVQpVJwwARGbN2OkZzpezx6K1UWfwIO/v49ggQLI+vBDBJs2NW3JHMX54pjFMtoDZvLm9ZjyZjt2MOFvOk6dOmWlOwHARfP000/jySefNKzBypUxGDAgCovRHY8U2IL0jRsR1aULMlevRlj58uZ609b8+QgfPNj0J3PnTjiLFzcAoVq1GJMwmdVKLl26ZMDf3Xff0kFGjRplwCeZjJ9/jkOLFlEYOdKH8RU+Qvjs2XAcPQpHhhWNuq9sFyxo9ZHxhSxYMAvPPutEQgLNk1Z5Qs55+fKRuH7Ri/RgBK5t2YIrhQsbcLJkyRIzRgVZBIOFUbVqgsnj9+WX1I8iTM1iBuLQnPxw8e2458g8XEc+zCs2DkfOxZkUOAsWZOLBBzOxZUs4unaNRGJiAP/6V4ZJnMy5IIDnWCygw7QzCbh40Yn9+1Nx6ZIbbdtGoHzCNfx0/Q64EuKQ/OWXCFaqZPofOXkyfG/MQln8iosohGMxtVDi6dZI6vkEqjcriUuXgMTEIMaOzUC1amcNyFq7NhZTp0bg5EkXSpXy44cfaD73o1WrcOzaFYYff0xByZJOA8b0nnENJly9isi2bbHrUjk0wrd4FIuwEL0M+zet6SqM3NzaAM0Exw0US4xGtpe5Ga1oZ+YP/OabNJQsyYjnTMMCch3z/vQ1k8LD5693XIqaFCC7LJAvnvzluFadN27A8dVXcJIZJCDk4HM+VEL8zZsbhpAMZfCOO8z8SUnjaXpvdVxKqN5vO/hShLHuz+coMCezu94rAUD2VeBQioUUW95Hvsdi9iQ75cuo4wKhKk0peWf3d5YfohQZgVTJN8ky9pvrzi5PZQLOTQPzP9nu/p7n5ALAv/ZzpY2tC4CPchhAMny/5Px+y4kG+AYA/36WeW4BfAUgHoBV1d36MAxwJitM/Q+n5N8YQDtYkglFgEzmYDtzJmEpVo2CSekrJGAlCAXM7IyiXXhK67WbZwUWpe3LTCLApeslxAVOxWTy/9LkOTZtDhKoYhbNN1NBvPsuXC++aABJ4K67TGSpo1atkNmZQlxjZRsqd6VNiMLZ3obA9JvjU/DCG4UwLWI0nsu06vT+vngxXM2bI+PECRQbOBBhR47AX7IkClz6Cd5MP1IQi0CjRgb8+U3qEA/GjXOZXHiMHqXZt1EjP6ZO9aJ8+Vv+Y5yrggWjTF7BAwduGkB/Zf16JA8ejEHXrqFs9+6mpm3t2rUNo/Nev2MYu/oerPF0QPMtzwF16iBw8CCCVarkJMkO4vyWn1Di0fsR67+BzC+/RFbDhqFUF5Uq5TGs2enTacYMeebMGZM8mkXvjgGoVKmSSTRctGhRJCdHoHz5POjfPxszZnjhPncOnmrVaHM3zJi/f39kTJ8e2ujFtgq802eNuRGZCPnz8iPxy5o1uH7jhklQzcTJDOJg0EXJkiWNP2WrViVw5owLV64oMMGNF1+MwMKFNLXeEpv0aazfMIhXXklDjRpWBHW9ehGGMaQvYHS0Hz/99JNJmsx2yLYUK1bMgM3z52Nxzz0JaN3aj88/95qcgwsWuFEwMgVTMoagV6GN8G79Cv5iJTB7hh+vjAsgORiLcZiA8cbLA2iQ90fsTq6MMWOy8MwzyQbMSbFgXwgEX3opAR98EG7M/kuXpmHPHh9atUowya2PHGEak8wQSDIsdkQEfv/2V9R9sBzSg5G4gEIoiKt4q+BEPHt5rAmKWbAgA83q3kTABCBlwudzYvr0OMyY4Ta5DA8dSkV8vKXokNllP3hfrjEFXoh1l+yg6ZR9FmCX64U9iEL/C7H9XEA//GCAoJugcNeuUGJx3jdQrZqJKg5264ZAYmKIheP1+qFMECi0+wQKiNrljuSWGDQ7cBbIlEmX8szO5suHWbJDZlg7M2ivKqI+ya1ElYr4fHVvta/5sMslyRbJNgFtfetZ5PoA/g93vL/habkA8K/5UGnS3WWoCSA1h81bB6Bhjs9fEQC3akABK+g6A+DhnHMX5Pj+2Ue/F8DWHBPy/2lW6CvIH33yADjHqEhqkBJ00jzFZlGIU3BJyPNbIMvOvkkoUaCJkTICPCfjv8wkdgEnXx676UXasrRyATlq4pa5LNsITwE5CV+BVW42MtHa29L/7ULUjPXECUQMGgTXjh2G9fMNG4bs559nWK8Zs91szfvJkZv94cbJ/vA+3PxCpdXcbnj27UP4O+8An3+BaKSZOrlHcScK921hgI7z++8R/cgjcF68CF/duhh4dRLm/XofBmI23nr+rIk0Ts/2oGFDBl+QnQ2ifHk/8uRhuTYHfv/d8uliio8FC6wNkPNy991uHDjgxJmvDuOOt8bB88UXSGndGss6dDB+hmQqzWb+9deo3a0afkE5XFn6JSI7tAml15g3z2Hq5p45cyulS3RYFjp3B8aPz0BCgmUKr1kz0qR9uXgx2TBojH79bcIEnFqzBoMzM8HycS1btjSAacOGCPToEYWxYzPxwguAu0cPuD//HN5hw8Bkda769ZHcrl2oRqtM3MrLeOSICw0aRGEMJmP0kGtIHj4cBw4cQLt27UzgA1cozdtkqRhYM2RIBWzbFoFLlyzzpZSBsBs38HOZzjiB8siLZDQK24Owc0cRzJPHPL+UlAxjYq1b149vvvEZhnHbtm0mWTU/HM+QIUMMuCWLmpgYZSKxk5Ks6g1jxjhMqTwG6YQhGxFRLqRnWbkIPW4/pvhGYhimm3tdqNoCRQ5tQq1afmzZkmqUipUrVxo2le9Rhw4dTN5FPrN69eIMoL10iSXnvJg2LQKTJ4cbsNarVyZefJHAL4DMzCiMHu3CsmUMxAHm5x2CPslvwQs3opCGKGTg1H39kDniSXjLlzf9kGsFx//FF8xRGIFGjbxYu9aKUqafq8Cf2H9epwh8BT8JqNh93nie3mHJA7sPn87l8zbvJiOOt241wSSujRvh+P13c9z/5ptI79PHyBaBSJlz7bJJcstck8Mei70TQyf/Zf0teSUQpgAx+SvzuGorS5mVSVYJ39UX+SbLRUayjetYgPF2YCeZKwXSrmhyHHZTs4Cr5CPBeKFChXgaLUW3wrD/TztA7rG/3QzkAsC/5iOl636JnJeW4Xv9ADSxBX38fwEAmb143O3Txc2GJmCZOgR6VLtWWr78UyiAKPRUQk1liyQkFZXLTUUmEAlNCUUJXrF3MuHom4JSPoR2860AHc/ThmE3G0vo63p7+/+LvbcOr+rauofH8RMP7l5ci1uB4tAUb7Egxb1IcIoXd2uB4sWtQEuR4q7BCe5OCPEc/z1znYx0l+/+8b7vvd/t7W328/Accs7ee60ta66xxpxzTE4MvA5hnkw//AC96OpJXc3CheH84Qe4JR7J5VIAkyt1xiLJdwR80geZGAmc5drIdEjKq8/338O6cqWSc9mBz9EUP8EMh8oeDSv+M4J7dVHtnq/SG/3CO+NUQil8pL+PS5uuQNegHmw2F0qU8FXagKILN21aNAICPKpNAR4Sm9e2rRW3bhmSdd684aFHtkQi5KucaIrt2IbmKonEdvEiHibHbkkfjeHhuNZgDCrZjqBGgaf4JTydumaRApFYNtEVlCSHGoEXUPzdEbzOUhy7k2ojKkqvEiH27ImGkHezZ1sxfrwV8+Y50Lp1NKzz58N//Hg8X7gQj0uXVmXjBBwIePj000BcuaLH48fxyHD7LCy1asGTMSMc16/jVSQwfrwZEY8FqEGVYhs1yg0/v9/ruT54YIcwjt3xPSYfKYK4PHlw8uRJfNOqlaLEc0+erO6LxBzmyJEDoaF5ER5uUrVv+YzkmT1YuB/rhl5XLGtWPEdvLIB1+Tw4W8raSthMD4oW9UOvXkmYMsWhdAPlXRfwzColUpP5888/V+BMMrd//VVKcsWpd0beOZvNg2mTgR0/GZBgNyrQHhrqQa+eNvg0aQTDwYPwZMuGrs/GYhk6Y/f6Z6hQV5JXrilhakkKkk3YzSFDhijW8ccf3ejRIwCDBydiwgSvPt7KlRaMHCnlyFQV6j+UgkuXzq2kdz4vFKHcwRPz/IAxJxvi+4AwdI+dCY8keTRvjoOffIKgYsUUSyv9l0oelSqlwf37woCKpmG0WtxwHErWqXJpJ4Nqsv2qYkmyVA6rXjBmj8CGY5BMm4xFrS3goo4svwRCGm7dgm7vXjibNgVy5kxRAyAQ1YI7bfu0BfI7+0HgySxn9l37fkjbWnfzh14M2iAt20/Qp13Q0hsitojxfAR6bFfbFt3C0m/pL8EybR3tHNug21nYWXnfUwHgXxMI/LO9TgWA/+wd/M84XiL0xfU79f9HF/A/ZAAli1DkOlJW4JJ+mMx8iRFjfBwNqtYQieETY0ZjxdWq1uXCGCAae4Iyun25SmeMELWx+EmXkrYNMcIyAbEOKI0yV+F0GzPmhkaVblndo0cwdOsG/eHDaiJ09u+vJEiM/v4psZC8HzTG0g+yk4yD0sYTSRu8NtWfGzeQtkMHJa8i289oiJaWHUiwGWGAE8F4D4fRFzFO4a+Ayv5XsPesL4x5cqgJ6JtvjJg924K+fW2YONGWEovFa/cGkPuievU0CgRePPgKRX+aDNPixShmu4AbKIL+mIPp3W/BNnOmmlQUG/HoEa7WGI5Po3+CS2fEuQtJyJfPC3hr1fLBuXMGNG7swLoSk+E7YSwcOXPipmTKZsqE/fvT4euv00niqHIRZsliRLp0Vvj6evCgzRCk+U4S04HYBw8QazYrQCDgYf9+A5o1sypJmUMHEuBTsyb0588jcvr3qL+xKy5ckBJ4wnRINrO30oYkP9Sr58bGjXaV/OC5fhMZKxRBgCEB999bFR3ulFJ29eohoUYNxHbvrgCn3BcBfYUL50K2bB5ERNgVaD90yIL+/U14+PB3VlP6Ksxs+Yz3sf50LhV7+Pq1Hnnz+qBrVxGAjlYs18uXL1GtWjW0tdtxp1AhzPnxR9WWuJ2bNLGq8n5xcdTp88Ytyv3muy3vBSdsx7Vr8G/bFkn796NmkRhcSCiIxI+K4vWaNXjj44Ny5cqpa+Am2dTCAAqoSpMmCA0auLF5c1JKsoCMm59+0mPVKgGCHqRNq0OPHnbUrOn5PYP23j0U+TQbnsYE4eX9VzAsmAef+fNhjItTWWXz5D4MG4bqTZtCKpZIkktYWBpMmRKnXPaUIhG2iYCEMaja5BD2WeyGNnaO45O2g++ifC/jnIsyJpJ5QbQtJQ6PY1GbiCFjX+uBkHN9CApZVYjtfrgIZLvaPsh10dbJ+VlKURuyQjtH9QDaGa3HgX0l+ON5aVvVu5e8YGA/aCs/ZEj5Pskx9H4QkMuCMJUB/M+YxP+MXqQCwD/jrv/r25RCqI8BfJWcBCIJIN7ZFJBYvdfJGb/aJJDWALYm7yNhVxH/lyQQiW0SBpCrZxpSGhhm+onhIevHCUrrOiFAo3uGLCGNmnzSpUI3MVf/XPmzLTGodL2SDeB56GaisZc+kaGQfdlPbRwj+6QYhWXLYBTWLy4O7vz54Vi6FA6pDGGxpMT4EXRyAtHGLcl3jNvhpE4ZDYJhw9GjSl9OHx0NV6VKMJw6pfTXXD5+WLfag9kYiEhzFpjscSiDC5jR6Rqyzx8Ce7LUh1xb5szeChBPn0arCVKy/STGbv/+/Ur3S+L4BBjExGTEJ59kQp3897FH/xn0t24hAVYUwQ08Qh74+brRrLmwiU68e5KITYticM+ZC0adG1u22VCzljfr8/x5oFo1K2rUcGHn1z/Dv3lzlTRwfelSnIiPV4BHagGfOpURHToEIiTEgXXrbFgw34ARI32QAW+wCyEoVywR748cSZbm8WD+fL2KvZMyaufOxeCjM5vg260b3hcqj7yvTiEqSqpcODFpkgtlysSqZ7B3rz8mT/bDnTsG5MvnVskP5vlz0WV4FqxGe/z4YxKaN9fBsGoVTD16IE58yqIhmOzOHDvWH/PnmzF3rg3dunmweDHQv78sZoDa1W3o9fV7lO5UC+ci82NMsS24es2bOX30aAIKFwbSpfNFliweXL4co+69jJHw8HCkW78eFV6+hEOSO/R6FZSfLZvEfkqFkfhkMWIdfvjBgNmzTXj82GueZU2VN6+U5XMoJlAvMZ9FiqBaFSMuXwLsHjPcWbPi2fLlGPHjj4oFFCmAG+nTY8aJE+o5e5NPfFVG8Nat3ooqHAtcPMn7yDGkjcOVdzZfPj+1//37Cepdenr5Mq6FhqJ9TIyKQ4mVuNZevWAcMABPIqX8XiD69EnE5Mne8AI5r7j45X7I+WTRSG+AjGutFFPKQit5MSn7aRMgtLaF45s2gO5OMmzyOxeaPC/PJ/vK2JP2pX8ch/QeyJgmYCUTyL/l/GTgGLdH20fGkKCNx7DfH4bJENTRPc0MavleCxzJFPJ4rSSWtE2bpw1X4b70jtCuEWzKM0mNAfzXT8h/lTOmAsC/ypP6vZ+TkzX/BPBJHJ5k84q9rwdgf/L/ZTYTeRjKwEhtrg9lYBomg0KJ+5iffHqJIfyfbilJIDK5a4EWT8BYGU42jDshQOLvYnjF0NEQs+QXmQ8CR/nkpEVQJZ+cHFKAmmZy428EXdIXbaA3z0d3snZ/ZvsqI/roESxSzUPcb+IW6tsXjtGjAR8vA0e3lVyjsD6M62MxdxpzLVMp+0ryAycaNSGuW4eAIUOUdl9S9+5wTZsGa6VKQHAwDCdPwpM2Ldzp08Nw+zY8QUGwL10K12efqUmW8hUREQ7l/g0NdWLRokQF/FauXKnq5XL7+uuv0bp1axW/Wa1aTrx9q0dsmy4wLpdEcsAJPUZUPYIfrldRIIubEQ7USncJU/cVQOFi3tg4uU+ffmrAqVMGXP8tAgVbfgJDZCTeTZ+O1UYjRowYgYEDB6ZkD+fPb8arVzq8efIWft27YsaOghiByfBAh0w+Mchfxh9CYl26JKypTjGEhw/bUOKjRJiKF4f+2TMUz/0e1x4GYsoUO7p29d5v3nfpq/w9fnxmrFhhRaNGDmzc4ETVEnU8AAAgAElEQVTU4WvI06QMnC4dNi15jaZhhZVsjX3UKHjkn8eD2bN1GDHCjIwZgfv3kxAe7kG1aj7KDXvmjMRLuZRLLmOlSjA+foxX9+7h8LlMqj6vxNM9fhyD0FCpB2zAkSMJKFXKpc4rE63Prl3I2Lcv4vv2hW3sWGzf7oMuXXzQs2cCJk2yw2aT8nYm5baX2sEVKriQKZMbz57pcO6cN8u2YEEXjh1LgK+vHt26WbBunQEnagxG5cMz4QoOxvWpUzHr5EkYr13DkosXkVSpEvSjR2P7u2po08YHAwbYMWmSW40jeefv3UvAhAlWr0i3XofixV0YP16YwN+lSOS9zJ/fgrg4HR49ilHXI67Dc+fOYWibNtgoYtXJIjzugAD8Vm8y6m3pjdGj7Rg40Du2GfMqIIULQAHAHPPaRRvZP2mHYRT/yCjJ7/KPdoI2iJ9yffIbGUgyZlr9PI57rV1hCAfLx2lZPS3Ykz6RaZSxnBLDm6zh+aF3g14LxujxGTA+WdolqGMCjBwj94nC2rKPgHnGthJU8ty8d7S1XOjKNch9YByhHC9tqHdZXvbUGMD/6bz3X7VfKgD86z3OZQBqiV5rsobflWTXr4A/hbWShaC7JccEHk8Web6tuVQKQQsLqBWCfvm/uB0KAEqMk8T9cCOrlQIYjF6XlmxilKhrRfCnZcdoxPhJw01WQrkgk7XsuBqmwdPGCXGlz9/EyLFCCA09QQJZPxpIgkOCPzHwKnsvIgLmsmVV7JVzyRI4K1T4g1aY1v1E48yqHmQq+ckYIsYOSfC+r9WKwEmTYJk3TyWTJE2bhrh27WB+8gT+LVrA8OAB3IUK4V7u6jiyx4GE7AVQZFIrVGiSVrmz5V5xO3LEgIYNpQxaIvr2daosVKlZe+3SJfglvzQLFy5UCQli/OvX88O5szo4PUYlsuvJmRO6589hu3YNLqsVEdfdeNxjGjKEH0KZUg7of9sNj59fSoKOPJcMGXxUVmlEj2lKo+9hrVrIc0CSzb1b/fr1MW/ePBVnN326r7c+bskBqH1ZEs9FuygzwjADOy1fItFhVKxX+vQe9O0rpcwkU1UPTJwI84QJuPNJKAocW60ymXfujFNxjc+ePVNgQJKSJItX2pH7UqlSRpXw8vq1vANGnDvnRu3aVpV9nAOP0QGrkLV+MVzJ/Rk2bTLj3TuJY3MrsJczp+j7GXHihB7h4bHImdOphJOFRW0+diyyvnuHOydPIiBPHsyf74NJk4IwaZINzZrpUKSISbGCJ07EoWBBL1vkOXgQgU2aqOvdP/JXNJxaT7mt792LQlCQDwoXtiiwJ27TCRPiYLd7JUe8rI0FPXpYsWWLCHC7cfZsPB49cqJECYm5c+FwsV4wL10Kt48PopYsQbRI94wbh4DVq1V7xXzv4mZiXjx7FoegYCPi402oXVuHy5e9LkthIWUTkCkJQ1WqOPHzz04Yjd5KFh07WrB1q1GB2jJloEIKZGzI/RAXd6X165F+/Xp1jnr4FftQD7fyN0DOL8rAVaUKXGXKwJ7MmlF+iO5IGXvarFa6MDk+aFNoO8jme/stJem85egI3LSuXC1zRxtEQEfGjscRqGpdvgSXciztidaeaReg7Jc2Hlr2pU2hjSEQ1XocyL5q2T/2iy5xgkwmkrH/vHatF4YMpexDIEuPC++v9FPc8qml4FLM1N/uP6kA8G/3yP9lF6wAoBh/WZHSGDNWTyZf7YpWa6Dl/1q3CN0cXPXKcfJ/uou0bgvG93DSICtIIElhVBpbGkK2wdhAAkIac04O2gmDwJNG3i0xf2XKKAFgspjeWDrrH+KumLHHiYZMBQO6OZmoWql2O2zv3iG4Tx9Yfv0VwqAkrlwJW40aMJ05A7/QUFUFYWuxkRiWMAZ37xv/IHgcGOhGx44iNixCv95J8NIlA6pWtWLgQAfGjElURv723LlwT5uGEKGIx47FF198oWLQLEYjquVPwO33mZCUIQcSf/5ZsUc60WkLDVVBdY7ew/Hix0MIyhmIoINrIfQYnwkZmIAAk6oDe/RoPGwbN2L5s2cYNm4cCgCQlcfUqVOVaLW4/n76KQ169/bBmvERaH15FAxbGYkAJD56BFfatMnJEDbFfihG+Plz+JYqJSmn+OLTV9i6Pw2OH09AwYKJuHfvngJlksUr91PArpTHk+vbvj1YtfXNN0kYNcpblix6+2kM6JSAnxECB5JLoQDw8/OgdWuRdJGMS6l9bFTAtkABFy5csCugI+eXDF5JmS8H4Nru3TDmyYNMmbIgc+ZApE8P3LmTiM2b9fjqK8k2F9e4C6NHO5E76TLuNhyJ0RiPM6gIg0GHPXvtCsBNm6bDuHE+Kckjklwl/+T9kmQR+SfvU58+aVVZvWXLkvDll05UreqLy5d1mDnTgb5RE2CaOFEl7kTPmQNP/foIKl8eY9/1wwSMRi0cwN6yw/GmzygU+vpzJWdTsaIwfvEoVswLNo8etWLcOEnk0akYyLNn3yFdugA8fOhAoUJ+KFnShRMnvHWB5V6IO1iNIY8HWWbPRuzSX5Abj5AX93FbCfoASTVrIl5kkZKfqwAPuS4Zg1zQyX50AxNAySftiPxOQEiApvUCaH9njC3fUW0oBuPlON61oRuM/dUCSS5UtW5ojme6kKWP8h2BFY/n+Gd/6aal7dCyclrPABlKOQ9dt7SXBH3yN8ElvRtawMzFMu8Lk+p4nPwtdlueXyoA/JfNiX+5E6UCwL/cI/uP6bACgOIKEiMq/xhPQ/cD3ToEczRmjNf5cMUsv8vEQCMlv2sz7WhQaQylPQEIdKFQ6JlglAkYdMVoY28+3IfGlm4jMoBa+QVtO2piS0pKYR+YwEE2gtdAhoJgUo6TCYnsoOfpU1i+/BLGy5fhypED8Rs3wlOkCIwbNsC3Xz9VQ3hUqe349lJjxdII69WxoxNmsx1Hjlixfr0E7+sVK3TxonwvcU02FYcmen63d16GccgQmH77Dde7dMGZSpWU6LEwf0YJfO85CMEbl6KQ4TbOnoyFqVQpeGJjoff1x7RZwKKpNjyPlUgDr6kQd2yLFi5MmuRA+vTeSUieZ4YMVgQHe3D7dpKXGbp2DYktW2LwixcoOWgQevXqpSZz+TdqlBkLF/pi348PULtbMbkhcISEwHj7NuwXL/4BTAtoViCzWzeY1qyBo0cPlD25ABER3lJoAm43bdoEcWlzkzauXLmiwKZU3vD3t0Lq+27Y4IIrOho+5ctD//ixql18ElXwMqQTMg9tjY8/dqc8F7mu8+d1Kq5RNPbCwhKUG1cYb9EqFGHNapI1vWQJMn3yibqfdepIprIB7997K6gcPQqEhQUq9yrvn7ePHpTCJazJNQr5z6+C+Jdz5ZKMY4nZjILdnqSYNZGPkWuX6yhfvryKozQY/JAtWyDy5HHjyhU73r8XvUQroqOBSpXcmFphI6rODYXO48HeruswfE8thD/JgCx4jvvICyvsKGW8isvOopg6NRHdutkVKCbzJO+pjKmxY62YM8eM2rVd2LXLm5DSpIkFv/1mRKNGTqxZI0kU3nJvHN9PHuvwaUUroh2+2I0GaKAqTHo3Z506eDd4MMyiFel2qzYlNpGAhsy8ltGjvdAuzji+tLFxtCcEcLI/QZGWJeN+BE60V9yHwE6OpzuXdkKbEMKxzd+0oS1k9+V4ulm15yUw08YoyjEMg+F10Q7SBlITUPrK+02bRVcyYxelbRkXArC5QNZeo9b1LM8vNQnkP2ZO/bd3JBUA/ttv+X9Ng39gAMUYycSrDUCWKxWjxO8Z+0PWiHdC68Lh6pjuETkfDS4NHo/jqpyGWD7FkFJOhe0QnMrfBF50o2hX1mxb9pPfyWCSpeD3ZA3YL05edD3T4LPvnJgIKslC6MLDYW7RAvoXL+AqXx5RK1bAlDUrfKdOhWnKFBVruPrLbei4sbECc1LTNjBQ3HLe2q6ySR969jRjzRojKld24cABrwTEl03c2LXXB3v1DVDXvRfuzJnx8vhxuJKzJtMEBMC3Vy903VgXK9EJa6fdReNeElUgwNaNihV9VQUJC5JQT78fBVoWxxtzVvzyixFv30ptW+DIETtKlJBati40bmzGgQNGXLqUgOzXdyC4f3+VBHJu40akz5RJTUaM+cqd2ypKN4hu2BKmrZvh7NMH78LGYkLb+/jxelnEJKuRCbHctKkDk1qFI+tn3jhI182bKF0nA27d0uHFiygF/qWEmejsSdCrKKKL/MmAAQNUm/IvY8b0CrRI8of1229hOHQInivXsDOpDq6iOEyVyqDWnDooVMibBMTnefiwG/Xr+2DiRAc6d45U911KpvXs2VOJcErc2/J+/VAnLEwd16hRGpw/Lxm93kQfuhSfPDFi6VIPYt7rkW3FZPTGQiWsrMZH48ZIWr0OgUE+aNDAhY0bE1X1lbNnz6rr4CYgV6RkBAw2apQOZ8/qERMTr35OTLSgTh2DYgJlM+o9gNsFJ0wqS7mS3yUciK+owN9jZEcuPEalSpIsY1NxkxynMnbkb2FOReuxXLkAJeci7nM/P4mlk1hPH1y8KDWWPSqRp0oVD+Li3KrsnbiTpQdzSy5F38vd4ZF7Kext8ibvs6tlS7z9+mukK1NGgUe5Hu2CiIs4bcID33MuGDkuCfJkX9a9pfeAmcJaoMjQEi3Dx/8zPEXrJiUrR2aPizxeD0Ei2yRo47jXAlMubillpbVZPL/sTxtH28L+0IbJcbRr2nAWfs/v5PopxaXeCaMxJUlEnrP8JiBc/p/KAP7XzMn/6wtJBYD/61uWekDyHVAAkELQNFiy6qUbli5dAiiu7mnI6RLRxuzIubVAigLF2gBm2YdxRNyfweLMhNOumDnBMctOO5HwePnUsoDaSUK7wmc8DSd3Gm0mgTDAW4CHTKY04Fq3j2Jbdu2CtXNnpeXnaNECSYsWKTBn7dkThs2bVYydbflyfDSwhSqX9uiRBG3Hq3g3ERcWMEXxaGFSPv3UosDH9Svv8dFvK/Fq/DJ89P4C3NArNqb6jAZw9+6tAJMzKQl+PXti/JbimIhvkDubHVcjvMyr3JuKFS24ds2Ar7ACS9EVMatXIqpKFQVopC2JBevaVYSrgVu3bCph4sYNN8qU8UGp9E8R/lYkKoH4gQNhGzlSTfAMXF+3LhADBljQpuYzrD2YQ5WH2zn3Nlq0D1Lix1JqrUgRyRrV48YNA96900OqbfyATmg9uZACix06WLFtmwGHD79H6dLe7FL7pEnwu3wZJ8PCUKpUKQUsZNu82Re9e/uphIRhw1zQeXTo2cWFTeuBBBURmQJPkD27R+3Xpo03cSMyUkqoWVGvnhObNiWq65Dn+9306RiyaBEC7Ha82bkTlurV1X0tVCgYiYkCTONTsjfl7MKazZol16KD781wNHTtxHBMhrHcx/BUrownNdsiT+Nyio0bN+6damP16tUYNWoUJDxfUvh37dqlsqjlferePQ127hTRaW870ra8fw8f2pQb+fZtEUR+j5J3d2CKaxACG1aGcfduuPPlQ+i9cViPNjgxeAPyD66tQIBkDUtbso0cOVJpFEpFlD17gvDVVz4IC5PzeksyylgWd/WiRSaVyENmU+IGy5RxY/p0B0oUeo+g9u3hsliQ1LUrfIcOhTFCRAa8mywMbJ06wSnfZ8mizqu1DWT9uUjTLioJtmgP/lG8ndZVrLUTZM5oDwiauDCkx4JhIHTtsqQh2TRtRQ8CLjkHQzoI/GhbtAtX2jrpv9a9TTsifaBEDcNVeD56J+S8dBPTtatdVDNWkosQrX2V72STsS7fiy5jahbw33dOTwWAf99n/89euQKAEqckky3drTRSWncLDTKNFFfn2mBvMUzMYmXHKB+hjfkhe0Z3MI05xZvp3tAGOhPY8DstGCPwIyjU7iOGn0HgnBRoPOWTTCBX2nQRa28sXS9yXiV6LYZ39myYR41SbjrnqFFwiKzM27cwfvEFjGfPKkmP6DVrcNVYFtWrByAkxIZVqxJUzNXBgwdVVq1k9k6fPh0VK1ZEnjx5cO9eIKpX90eT7Gex/alwU8AJVEJNHIIdZuTI7saXLZ3InMGBiO9PYfPD8ohBELJkcODCZbuqm+s9P9CkSQAaGXZhh6sRoqdNQ2zr1hgzZgw6duyo3EUC5g4dSoPQUCtatHBj5cokeG7eRGitaOyIqYUKOKXi63yuHIYtWzYFWhwOF2bN8sekSQaVUfsoSwUE3zqHA4O2o+7sxkrmZfHieNStG6PukzxPAbknp11Ay8nlEIcArF4ei2ZfGpQWX7FiPqheXRIVbMDy5fD/+mu879UL0UOGqHg5eZ4CwCtXzqBq+L5+7c0ULlvWDw8f6pEBr9Gl8FHUmlcHCVcfYOmhItizR/oJ9OolGn5eeZBChcx4/lyOF0FohwKBiRs3Iu+AAeoev9+2DfpatXDypB4NGvihTRsnfvjBqfY7fNisAJS4dsXtK0khTpsLLhgh2dTdAtZj8uNG0Bl8EBhoxuefu7B6dZwCROJqlkoepR88QLOSJVF6wwZ1XfI+hoQE4vRpAZTRf6hqI+/fmzce3LghTJIbFSwRyNguBLo3b+DJkQOOCRNQcXRDXH8cCBusiB4xAo9btUKJEiIS8Pt24sQJFClSRAFRYU+lhNzmzd4kI8bUyhi6dcuFu3fNMJmcKF3a8Yfay4akJLjXr4ejXTs4hHFatQp+kycraSPhrtUdCQiAo39/OHr3hilNGvV8tOwZGXMCQWa6c0Gmja3T2ggtsOP4ZiIGgSbBEQERGTIBZQKKmC1LJo3gjwyefDJBTDvuCay0TCRZSAJB2kP2k4wmPQx0D2td4LwXWoaQbmleA6+V9k1rs7R2jdcq7YgKQSoD+M9OhX/d41MB4F/32f3ZPVcA8MWLF4qJonuEho9GTow3WTCuRD/MrPvQaBLkyTnEWGmz6Lx1R52qTQZ7y/6ykaGQ47jC1lYaIcijK4huVE48nESkf2QY6AaiUaYxZx+1QezMWmZWLpkNTpqOhARYBw6EadUq5R5zLF6s9P0MEREwNWsGvSRAlCoF+5YtQNas+OYbPWbOtGDv3kiUKOFAVFQUJHtX/skmLI2AQJnAZRWfM2egeElx/7PeMEoZOSUOmR19ix3Gr7fywuH4fbgH66IR2taB8fN8YLGIkLJXTqNyGTcu3bDiLdLBPOArPPjqK9WugBHJ5JXybAL4BQQWKOCnJGKipi+CdehgVQc5BDvxC0LUBF+kqEfFqkl82pkzck+9Gbbnei5Bvkk94SxXDrmfn8LLl3qcPBmPXLnilVuQm8HpRI4GDfD6YRLymp7C4iOVQGLU+1C+vLfe7pyO59FvdUXopMbskiWIDQlRupRyPUOGWPHdd5IR7VCC0DVrilC1Hr0K7sfCW/UQOXs29B06qPfIyxQZUbasD5480WP+fBs6dXJjyRIPBgzwQ7VqTuzc6dXqM/TqBb+1a1U3YzdsQEzV+ihZMhDv3gG3b8cgc2YDfv5Zp6RhBNh27CiJFiJIHQef4yex+kU9TBoQi+eOjGhU6QXW/xaEXLmsiI/X4fnzWJXMIzFcd+/eheHFC1Rp1QoxgwfDPWKEqrmbJUsAcuSQOr5e96qMnx079Krec0SENt7Qg6IfJWFSdC80erMSzooVUSHxqNIttJn8oEtKwvuuXTErUyZMmDgRo5MTdgYcP47sefIoAB4UJAsQEY/2ikuTkRfwYbdL1rQLWbJI/V5vtjDvpbz7BCaykJL7Zo2Ph5+ENyxbphY/KUAwY0a4R41CXOvWsAYEqPOQleMijKwbx5gW2JHZl/a0C1Hpo7zTBG0c/9osWvZRG05Ce6T1FGgXeVxsamMOGUrC56E9r/ymZRcJpD8EuLRnvB5KSNHmfOgpIdNH+6cNReEYoqwMw2+0i27plyySUhnAP3sq/fPaTwWAf969/6u3rACgyG+QcWEAtNblS5coASFXn9rYOxpEGjiujOlWFuPPhAsaczKMBIlchfN7rRuGhpKTBpNCCPK0bhkaXxpKPiQCQTJ68klGghOPgFJWFyHTINegGM/ISPi0awfDkSPK7WnfuBGOcuVgPHgQlnbtVA1TZ0gInJIBbDSqSX3oUDO++86CK1few2p9o7oya+ZMPF68WAk+duvdG126dFHxWiJ7kju3L0z2eLyIDYRHROmCg9Uka79+HU63HpcaT0DM8WvImcmGnHtnw1q48B/c3vbnz5EmV0bk8dzH5dBJiAgLw569exXjyAlt2bJlaNiwoQKBY8daMGOGESf7/4jyZ79TOoWyHUVVhOXZgouPM0I8TpIJK8LIffo4MTD0DczFi0IC/c6vuIDyHUshJMSpmC9JKLp+/boqaSbCycMtFpRdv15p2Q0oeRjff2/Gpk12fPaZMF0OlCzqg+h4EyrjJGZgEAodnAxX8eI4cMBXlZgTJix3bg/On4/FkyfAxx8HomJFJ048zg398+d4cu4cosxm5VYvWLCgAh1JSZJQk14ltNy9m6AWFU2a+KpqHQUKuDFntgP1uuVTWoSy7Jjb/gzG/lROxS1OnGhXkjWAGWnSmFTSzunTsciTx6Pc9nx3BEz4b9iEOmGVcQ7lsXChXUnVTJpkwogRdnzzjVcuydufJKQrWVLFiSYNHozuLydg9RoLFi5MQqdO3oSiAQN8sGKF1LiVRBAn6ta1w+32YO9eK86eNUjVQvRLuwZz33VA2/I3se5sQRydexZVRtWBPjYWMS1a4NbAgXh8+jSaiCtYmLmuXbEqqA96DM6EkSMdGDbMm/kbG2tS5eM2bTIgIYHTh9SZFi1tG1q1cqfEAUvfuCgTICeLBjmHWSSVhgyB8dixP9hAT968cMyfD3fNmikxlDKOGHbBMS33hnHFDNWgzWAsH++1tMeqPzye3gOyeArUG+Q+eUErF7PsO1k37UJThWtYrQqoM9v4w758GF8sfdSCUgJdOY52TLuw5M2hHdTGHNNlzP4ydvLDWEPaW8YN09axbYkBTNUB/KtPxf/3/qcCwP/7vfu7H5niAhbGRQyJVmuPBpmGmECQwEi+F2OllScQwy4GTc5DtkHrutBm2NEAksWj4dTG4hHw0ZUinzSEdDVpj2eCCLP3pA3typkTgXaSIMCTY4W9EtZEjiE7oNjPW7dgatoU+tu34S5cGI5t22D46CM4FyyAJSwMOqlW0L8/XN9+C5vDkRIP9f33JsVizZ2bgBYt3sPy7BnMgwbh7IsXCPP3x3fffafAt6zgY2ISkCdXBuR3R+C6uTRsW7ZAHx4OnSROCMvVsgM27w3Gy6CCCA7rgJa90irhYk5qBptNlUWznjuBMkF3sOtGMKITErBkyRLMnD5dyblIFJckI1SpUkU9o+XL/TBokAlblr9C0zHloH/yREmQiDh2wr17MAYGpgBHsh2GHj0UA+r86iu0S1yCDRsMuHIlFjlyiCt5pUrekC1dck3DQJ0OUb/9hqRCZZE9e4CSVNm3zy2UIuLrtUSdxJ24gDLqGIOUglNMsFfLrlYtb9ULyYxu0cKgElhOrLqIyh3KIq5AAcxp1w6HDh1S72G7du1Udq/8v3//9Ni2zYp9++JQpYpXZ65dOzN++kmSb3TwQxysSFT1gO2wKNHmKVOc6NbNyziNG2fE1KkmLF6chBYtElRGr5zj4cOHCjQIcxug0yG4WCn4JbxBlux6XLpiQ8GCvnjzBhgyxIHhw5OUTIxsplatYN69G30xH4vQG7lyuREeHgez2YhvvzVg8mSLqnhy+rTEKEansHQCuKKjRdPPX1UVmdToOJpMKY4iRYKUyPTO8QeRXmSG3rxBQr16iFq4EGl++gm+YWGq3fy4gwe6PHh7+BzMZUvg1Cngs8+kjrdoNAJ16zrh5+fAjRtGnD5tUhqCkoj0668i/uxNaJDxTWZd2CgCFLPJBMsvv8AwZIj3vZGMdI8Htp07oa9fP0XihLFuHK9aEETgRMaOAE7GnDZ+jgs9LQjid9TslOslENTG/3LhynbJ/tGm0BZwHMl5mMAi7cnvWnaRdoGxi2Tt5LgPY/foiWBMJPvIpBneG9parWuXTOyHiSn0ftBeSvxs9uzZ5RRBAJLTr/7uU9vf5/pTAeDf51n/q680pRKICEGnAAmDQRlSGicaQ232G42v/CYTotZwi7EUo8waoWTexLjRCNNdSaBFA6ndl4aXMYEMACdbx3a1bmEyA9pYHbq1CEQ/jM+hQeX3wnQIGExhFA4dgrlVK+jevYOrVi14Nm6E29cXemFAFixQgMkxZw7cnTungCVOLqLtnD69D3LndOFa6zGwzJqldPCubNoES9GiivmT+yTXOL/LHXyzpSwW6Prgq7VV4GnUCEYp//bWD91qP8WxqGJwI1ntV7kNPahc2YPvvrMhZ7Yk+LZvD+PPP8NXl4iM2U24eClasRURe/fC0qULwlwulOzRQ2nsSbsC+ocPD8SSJUZcqdQFxU8tg0tEjsuVg+vOHSTNnZtcHlCkaUS7ELAfP47gevXgCQ6G/epVNO6SFfv26RAdHafelzlz5mD8+PFqJvoWQG8AV8uXR9pt2xR7lClTkNIaPLn0Inzq11f3VLaXyIgRAfNwq3gLBfw+/tilmLS0ab11YuV9K1bMX8nlPOk/FoHjx+NWs2YotG1bypioWbOmSoTIkiULIiOzoGrVIAwYYMOoUfEpcXaRkR6MaXILRy4GIQlWBCIGoZVuo++eOgpkEizkzi2LASnvFqUSVCRR6urVq+jXr596Xrt370aBAgWQfsQIfLGqKXaiEW7ckMxMyb72w5s3kmUtANaFzJndeHr0EQ7dyanAZi48QHjP7+AzcxwcThHg9oWPj7CVIswcr7QDCTLkGUnSjsNhQP78gYoJfPgwEvXqpcHFi3qMH+/AwEY34dO4sQo/sFepgsS1a1Wt4X4nWmER+qAJtmM7muF+uRYoFL4Bbo8eq1fbUL9+gkogkXsrWcPSRvG81DIAACAASURBVOvWPioTvHZtJzZvjvtDeTfaB8YIM87THRcHk7wr06erjGFPpkxwf/st7DJmkkWeCcw4LlhDm7qBSicyOdNVxp0sRvkbARbDMLhwZBiKln3TunGlv/I8yRJyscrKJZRc4QJQCy5pP9SiJLksJb0iDIdh0hrtD20i75PW1mntKcEuASPboE3kgpaLWPZPPnlOLcMpDGaqC/hfPTX+dc6XCgD/Os/qP62nKQygsF5aQ0ejRLehNoBZfktxiyZLvMix1M2ia0ImSgUa7HYFDphwoS3FpA3M1sbH0KhyRcyVM8GgnJOGkv3WViLgZELwKn9rV85yXXQ10RXF8/FTxUKuXw9Tr17QORxwdu0Kz9y5cMbFwdyhAwy//qpKuTnWr4etalV1/7QreU4IIZXe47fwjFiEnuiJxbA3bYp3ixaluNbk3r9ddwCFutZSpdQil6yDu3VLBb7OHU9E7bp+sHtMKGS6i27DfJC3jA8ePLBg8WIfpaVnMgEHG0xB1Z0j4M6dG7WyXsfhkz64ejUOuU6uh9/gwYgNCMD5lSvh5++PnDm9Gb4CLnLk8IMrwYYYuw/cH32EhCNHVJm1GeMcWLIzh2KzvPdetOrcmGQLQ+N7c+CYPRuObt3Qtq1JsWpPnsQiKEinKpZMGzYMnQ8fRl2RoxHGceJEVG7eHGnSpEPWrOlRvrwbB2echufVK1h79YL+1Su8RVosKzwNL+qGIk0aBzp0cCuNQrLN8kzy5xdNNA9eFK0B87FjuDxvHkr164dSAC6JbM6XX6JGjRqoUKECTKbcKFEiLXr0sGPGDEeKe04Bgtq1YUx2datJ+Msv4Vi58g/C5mnTini0GydPJqo4PnFtS9UVbqNHj1ZC3DlfvcL62hvRA0uwcYMdjRq74XB4MHOmUcUuSvZ3croEsuEpwjAT/TAXUrvD2asX5uebiYGDrErsu39/m0pekH+SQCLi2OXKlVMMsbC1M2akw+zZFiUg3aiRPA8L3r4FSpZ0Y3z/V/hseh0YbtzAhlyDMcY9Fref+OIj3MEtFFDt1cpwCQfflMC2bbGqgogAB3Gdyz0WfUICrho1fHHhgg7h4fHIndubDCPvKMc9mScCKS7UIKUWR42CPlkU3FOunKqGo5cyiMnsHGPkOE4Iajg+aWfoZuWijYoAjCeW3+We/CPFAO2CT+yF7KutuavVB6TN4cKR3gJt+InsT1BHJpB2iXaE+2ivh9dILwQBK+0j7yfBIT0sBKL8ne8cQ1Zo58hAygJFFj2pDOB/2vT67+lPKgD899zn/8ZWFACkJAmNHlkQ7ScNH4Ef5WHoTuG+NGZM+pBPxhHJsWTxuJqni0XrKqHBVLFGZrMCj9L+h65f/v17AoBd7Uc2URsTxNU7gShZBgJKsgU0ui6pcjB5MnSTJ8MjMYBTp6oJW7EfNWtCf+IE3HnyIGnLFlXblmCS/VUTy9OnMA0disRt+5ATTxCNIHTECkzZWwzWCt4KC+KO3DjuEQbOyYsE+GLtV3vRZEE1NSlHPY9Bno8C4XAbsCtzZ1Q5MBTP9XoVu8eJ8exZP3zRIgBGtwMvggvDdGArrjsKoWJFH5RJcx/noz5S7SSMH4/4Hj3U/ZTnIOefMUOSDqzohYVY4DMYCQcP4mFAMVSt6qeyXoXBqlxZ2CHgwQMDwi8a4PboUMX3AvY+LwCXzoP9+01o0cIHXbvaMGeOC4nPnsFfXOWvX8P05g0iBwxATN++iv1buNAH48cHYOrUBPTrp4du927caj4GHS0bcMlWRIHf3yc7D0qVcuP775NQtKjXtVe+vEUB3nidP0xWPR6eP49oKYPVvDl2DBuG7DlzolChQur5b9wYhMGDAzFtWgK6dPGKdkuwvL+49rMXwCW/SnDE2VEgzWtkcb+A/elT6JInenlH0qf3Q/78Hpw6laCyLIWNadWqFXKGhytp5J4DBqB///7w9/PD2hLfod/zUdgy/hI+H1okBSx4mUs3IiNdyBzggG/WzCpUQIGdjz9Wwsp1Do7EsQsBiIyMg07nUuXwBMBS20/2PX36tCrVGBCQAVmzBqNhQzc2bEhQsY6NG1tx+rQwl16XuVTz8EBkd1yonzcCO+6XgBFuJMEMfyQgT04HzoQnqPML+BNNRBn/oaGhyJYtm3o/7t83o0qVNGjQwK2kc7QMP8eJlomiZ4AgCocPwzBoEAzXrqlrdbVrB/vYsdBlzar+5hhhsgdDTGgzyNRpARAZUW24B20C7Rbd1PQicEFGBlH6Kcwi4/3IDhJc8t2ji5vgkNnEvHZ+ktUkEOOiVctYakEdY0K1C00mxhAYM6xG9iHoJIAluOT94XVL2EoqAPxvnJ7/Z9eUCgD/Z/cpda//7x1IAYCymmZ8HoEXV7k0SnI4AZ52Fcs6l1zF/+7+FC04qYHqfUW1IJEuDO1qnatpukhoSAkyCRJ5Pv5O1wnBnzaLkH2i20j+1rqSeE00uGoSS0iAsUsXGLdvh0fKmK1cKYFT6hoUYNy7F5g+XTF/hkyZUjIeeY3qOhMT1SRo3LEDuqgovEZ6lMUFPEFONVGLXp1o8D1/6kGizQAj7FjR6ld8uaqB9x7HxGBYqUOY97QFVmcahIb7O+KNSWK0XJCsbbnGfPnyIe3PP+PQwOP4AlvR+bMnmLcpnSo/16yhEz8n1VFyLtsNXyDwzjHoMmVKrvphwvDhOixYYEZ6XSQeeXLAsGQeIj9rjcKF/ZTrc+TIBAwc6ER8fKxiWQyxsQiqEYIvopZiP+qhenWpLuFNsMidO1DFlN09+xiZ2nwOw9WrqhayO0sWJFy4AIO/PxISnChQQD51iIxMAjwunC4zGPVuz1du7VLFbQhrdA2ZPs2IFy/SYvZsH4SHi8tL9PMS8cknbqxda1S1dMdgLIY1OIv3y5erGLQ0Xbrgydmz0GfNqhYbApYkWUSSMt69k0ovDvUeivhxWC87zl7zV4DJu3mQK1MihvSJRqewNCn1mIsW9Vfs3du3IiMkn29VZZJMM2fCIUCmd28lpyNtNSkbi6P3c+Bx097ItGFOSvIHxwrfi4BPPpHgMugjIuDJmBFx4eGo1SSTus537+JUb8T9K7JAUt6rmJSpA1QyDYWd06YNRNWqLuzd600wkfdVAObEiUbcvKmD3uNCuUfbMPbhV7BkywB3UJACnZv0LdH65jjM9huBTps/wdNcufDLL79gyJAhql0B6MePH1fJBAJKihQJRlKSVDXxZk1zHDP7liCG4E0LvtQYkzGwbBmMAvzevVPjyDl8ONx9+0JvtabYAoI1um7lPASCWiBH8KPVFWTlE8YLCrjjApMLT9owLjQJ5sj0yXhidrAWKNIWEbDK/kxkYV/+YDP+gauYAFXLXtIGEkTKPlq5Guqv0kZp4xPlGCaKyDEEqALkU5NA/r7TeyoA/Ps++3/2ylNiAOkCFkNJ7T4aRAY2a+NrtCtxGivpDIObGe8n3zGImZ3lpCHGjTpYcg4CPC0TwN852ck+BHg8H78j40cAygmETCE/6dbm9dGQquOfP4dJKnucP6901yQRw1O8eMqEldKmXo8kmy1FHod91jIVjqQk+HbsCOPOnSnPaee3F/DNxhJ4+NAAt9ON4MQX6OJZgiFD3cCYkV4pl6QkmJo3R9rD28XXjgdXnyLGT+RapMSYXTFEIpS8etUq5B06FL779iGdT4KqiRvVbyQMU6fC43ajUbKcizReqJAb2bO7EBOjw8WLRiXYnNn4FpedhZG2c2OVudm9u1FVI5k9Ownt2iUo0MM2P5o/H1m3bIG9RQvUeLYep04ZcORIAkqVcmHDBl90725ARsM7hLuKISteImHVKrjSp4euWjW8f+9GtWr+ePBAh5EjnRg1yoXXG/fho471lXt03282lPjYrtqTZ8dqI+fPm/HZZ37K/Xz/fjzSpNEhY7D0Hbg0eh3yDG0JY9myMN68ieh9+4Dy5RV4mDfPiBEjzKhfX6RPEtU99SbjWNRzKFbMjSbB+xF4/DccLNwLv93Jo+5HrVpO7NrllUqZM0eHESOsGD8+EQMGuNQ7LO9iQKdOMIeH4+3p0/ANDkZMjADgYBTwROCGtQxs9+/DlCEDzp2zY/hwM86flwxyYb2ATzNcxZTvfZBv0VCYtm+HY+hQNLr8Lfbs0ePu3Rj4+XmFqgWYzZgxA7MePsSLhg0R8t13CqC9eWNFoUI+aNbMhTVrvIsreR8SEw2YNs2EGzdEh9OATyrZ0etUB5i3bVEhCs569bCw/AoMCPPFDnyOz8378Orbb7FOr8egQYMgCoIPAUxeuBAhISEqPrR8+QA8fapTFUQ47pl5/2FCBGWiuEAiSFMLt1evYBw/HoalS5XMj4QZOKdNg6dhw5QFFccpQ0iYBEami5WBKNJMQK0FjWTzZPzRxfuhq5WAjYtBMpeyv/zG62CVDbbD66FN07Kg2rhpbSwiY6LlHASCNALsN5NcCE7lk5JXtGFkWsmu0oMhf1OtIFUG5p+dBv/ax6cCwL/28/sze58SAyjGlSt9rnrpsiADx45yAhDDyFqVXMkyHk/r4mWWnnyn1eKikaMLV85P8EkjyfgixoJp42Nkf56DLl6yLlpwJ+fQXpvWxaN1x+iuXoWlRQvonjyBu0wZ2DZtEu2TlNg+ae9Dg08mk5NEimSOrNbDwmBcvBgeibnLmFG5kl3HjsFmt8Nw5w6sdesq8Whn375wT58Ou8MBi9MJgwT0Hz0KHdxoWDseazbaFTMkzF+tWrVS3heRc6lZrRqyPXyIlouqYvt2C+IXr4BlxVIYTp9W+4mQdFjBXbhwX4L8FZ5U+nNDc61H96OhoqsC+8GDcBqNyJTJT2UVCxhhzVwpZ3Z13Tr8cPEi3GYz3hw7hvd+BVC0qDBRbpUtanr/HlNLb8OYN31VmyVxGfUGFIDObMKhQ3ql2ydV73r0cGPWLDv0Oh165tyLFW8aY1Ov3ag9sRIuXryI58+fK7ZLqljIe5UjRw4cOhSM0FBffPVVEhYtAg7m7oGQV8sVoBrT7BKGbiij4tuSfvwRTys0wpAhPti+3YC0aT24eTMB6dL5YMsWkTbxQVCQB8eOxSFt2lj4zp2LNNOnI3LMGMR91RVt2mTCyZNGtGzpxNKlidDpDMiUyZstu2uXZBJ7XXL+1avDeOUKYmfNQlJoFyVKLdm5GyvPxJcnByN+2gzU2f61AsiyZc3qQkCAG1FREg8oPQW+aBCFjb9lltpe2L/0DuqFZkXbtg7MmxenwIK8kyrubtEiBE+fjvhZs1QWePv2Pti504Tjx5NQsqQsnkxo3NioBKy9jKa3tKCAaovFgw55D2PxzZpKTmhD3wNoM7UiJtQ9iJH7a6ts3bc9e2JNvny4e/QoJh06hJh69VSGun/x4kqOyOXy4OlTbzIXwzj4vjNJguBF6xng2JOeEGQZrl+HbsCAFNkYV9268MyaBXf+/ClMFscigZf8zVAHegU45uVvSSShXqfYL8YNfpiEQQ+G9Jkxg7QvBINahpPXQmDI4xn7SNcyk0hSrjE54YUsJgElQ1gY+0zgLn2gPaNXQ87FrGsCano4GPdIrwlZSgGsqUkgf+Y0+ue2nQoA/9z7/1duXQHAp0+fKg06roLlUxgHMTDaOB2CMRpGbc1PMWDaMkpcvWszdWkYCfJo2OR7rYHnSp2rZ2lHQCTbowGW/jCGRvbVsnA0ntIvJoJoXcycSAhUDXv2wNC2raj3wtWsGexLlkAnhWyTN+kf78WHjKP8rV29KxZw6lRYxo+HJ106xEsW7vXraiJ2NmwIw5MnMNesCd3z50pKxblwIXRSwi02FqYmTWA4cQLOQkVgiriGFi3sWLbMpuK05s2bh83z5qnSYn6VK2PgwIFKQFqSBAYMCMDq1Sa8PnUN6etVUZqEIlQtwDNBYrGS+6ju+ebNMLVvrzJ5HadPw50rF8LDgcqVrejRIwljxrzHsWPHVFKFbIcA1BB3ZGgofMeNU+7I0qUD8eKFDlG3n8LUoAFkgldgEzNwBhVVHJp386BkSQ9GjUrA55+bvIkvx44hTb3K8NHbce8NEBUbi/v372PNmjVYIbWUTSacP39evYOSqFKwYDolgP3y+BX4lSqFnVm7oeW775WL0gQ7MuIVnP5p8CrO+7zy5vUodlIEteW5FSpkVX29fj0G2bOb1L3ElCnI9f33eDJoECB1bdOlQ/HiVsVSvnwpZe9cuHTJgBo1LEoHsUYNFyZPtqNcncxIiHVhRMACLHd3hJThFW3EGY2PwFKnDsr6XMOFxKKoUsWFuXOjkCZNTHKGrQO3b1vRubMvbt0yoFneC9h6vyyc7dohy68rVczl2bNxyJPH65JUC4nwcATUkDsPXOg2DxWW9VH1pCMiRGxbh+LF/ZRwdZEiTowb50bNmvFwu/VYuNCCRYssCnBWy3EfR57kg8NohZ8nDlmy6XBj6ib4dukCXXw84j/7DI/HjUP63buRYfRotUg590l/VDgyQ9VwXr/eCyrJYjHMQsawbFyYEVxp4+6YGCFjUPY3SfzsTz/BOGwYdI8fq3Jy7j594B45UjKSUuRWZH9m2pL5IjjkYo4LPwIm7X7axSAZecbpERyS9WfYC+WjyEayPbJ+9ILwe20GMOP31DWaRMvR++7TXkpbvE/yG+OnaaO0dpH3j/aT+of0bmj7JcdL26kyMH/lKfif73sqAPzn7+Hf9Qx/yAImS0bXghZQcaUqBoegTlwPlDDRZglrjR1XyQRcYsAoKMvzM6NXDCPZA7J0NKZiJLnK58qa8TQ0sJwcCNQIKmmI5fyUhKDLWVylugULYBg8WLmonKJp9u23SLLb1SQsbUi7PBfdP/I9gakWyMr/zWvXwtS9Ozw+PnDt2weXyKokJsIlE1tkJMy1a0P/4AHszZvDvWoV9CYTPDExMDVqBP2pU3AXL46kXbsQkDcnihRxKdZK7tmLpUuRc/JkhGTPjo6DBqFSpUoq9keeQZ06gUoWxFm0BPTXrsH99dcQOs8psVjjx+PtWzvu3wcC3zxCoTYVYUqMRdLmzbDXrasmpz17dGjRwhezZtnQunWUigeTLNdWANYDuAUg7sQJBGXMqALOpW5xeLgBiVNnKz0/w5Yt6v7JFtOmEyK+nqfcqtmzJyFjRt+UKiUKjNcPgfX4QbQoew8rD4tkS6TKtNWym0eOHFHl8eR59eiRDjt2GJE0ax4sA/urWsLOMuXww1dnMA9fIxJpYbBa8NHHvpgyxYGyZb39kE0qjZQrZ0HDhk6sXPleubRfvnyJA/XrY1xiInbXro3gceNUWydPBql70LWrHXPmONV9uXPHhGbNgDt3fs/m9Z5ZhyAfO4aP8aBvX5dKX1mdZxJ6vJ6IkKpvsGqHV8pEJmfZBMzK+fz8AvDppwG4ckWPU/51UCH+IH6ZcxWN+hdRrKYkvTRqlKj2T4iLQ3D+/FgT9Rm64gc4YcLePfEoV1GkZgJUxZBJk0S42qXeDwG2jIGUd7Z16zQ4dMiMvlXPYd7x8miEn7ALjbBiRRK+LHhJsd2G589hL1UKsatWIah7d+hPn0ZR3EAECuFRyRBkG9IWzsaNYbBYUsI7OM4YSsExRRcxPQfMVmV8oNwHtdiz2aCbORPGGTNUrKzIxjgnTICrbVs4kpO9yKrRs0D2jaBTCzzlO7p7tYtJAjKyfNrQEG0MnTaukWCMQIs2kaycfE9bwOQM7YKVtkj6RHZUyxxq3dA8F69R6/1gn7XudW38I1lJOYfEAKaWgvu7TuGs5P33vf7UK/+/3wEFAEXkVjJLuSrmKlkLbLgi18bL0RVB1wbjVbSxeDRgPKcYRbpAtIHOdPWwHa0qvtalQ9BHg082ksCMkwEnG7qsaPzJCKopXCYbSdRYskSxEfYFC+Bu1y4li5irfAaba2MdyYjQUHPiESbR9MUX6ok4xIUcEpIiomuIioJeMohv3oT7s8+QtHYtJOLMInVzxe175gxcJUrAtmuXSi6pUsWEixd1uHXlJXIuGAfL4sWIq18f4SNGKFZJ2DF5bnFxeuTMGYASQY9w6X0euKtUQdIvv0AXHY1Nm434dnFmDYABDHCiRq57mLQpG0qXtip2RhIRqla1om9fqWIRrUDZzaNH0bBnT1jcbnTPmRMtV6xQQEnYstKl/fHsmU4lWRi2b4e5bVt4smbFq+dOTK25B8/SlYCPjxtffmlD7dpSn9dbTtAtru26IfCBDe1DHZi/MFGBlwMHDqBdaCjKAzgD4PDhwyrJQq5xwIC02LjRjMS6IbDu243ErVthHj4chtu3U958d7NmKu6QQfQEHcOG6TFvngWnTychf35vRq+407dXrYoZACYEBaHmL7+gaNGiamLPnDkAWbNKLV6v/AkXCg8eAFMGvUHk7ovwQwJaYx0+L3QHSefOQW80qmdcJJsNz9774V1od8RNm6Rc2gIABczJJsBZ3uu3b00oXjwtKud6ghOPcsFZqxa2dNmJdu18FGj29/egYEHJFtYh4pId8S4fxXTuQghqfm7FrdFrUbycP2rXlvjLaAU0pa/irpfxIKLAwuj7+weicOG0iimNWrASUZ2HI6/nHhLhBcpdP7+PwPahMFy4AHe2bLg3ZBa+/Do/LuFjtMUa/Ij2qt/SP9e6dTBIOngy68T4NboutYsxAhuGdtCtTaacSRESamEYNgyGZNkYd7lysE+fDlSokCLoLO3xeC04I6uvdTcTcLF92gDt9+w/7QIBpfRVzkXWkn/LuT48nteqTdCQd4c2ht/TVmrvmfZe8B2Vd0Kkf+Q90TKW0o6WLdQuPglg5dnL+EnNAv6/T4J/9SNTGcC/+hP88/qfkgQigd8EfFo3A1f5XO1qgRUBkdZ9S0BEgCb7cGUr5yIrwMQQSkLQuMn+cj5m3BE4kHWQ/UW/TM5DN4lWeoUTNrP8tKtvspSqb+/fw9K+PfT798OTNq0Sz9VVr/6HWsTa2EHGDn0o1yDnT3FLnT8PU7160CUkwLZwITydOikDrkDp+/fQ16mjKns4q1eHfds2FVNnSkiAKSQE+nPnVA3hxB074BbfpcTvnTChYUMrSlkjcCGpiHKqSt1aR5066vqlbbn2qlWNKtngFzREg8yXlFvXljYtWrb0wa+/GmEweFTmaKVXP8EZ8QA/WVvhblJ2lVyxZIkdrVs7lcCwMHWBgR7cvh0L54sXCK5RA4ZXrxBdowYezpmjtOLk+UZGmlCiRHpUrOjGoX0JMJcujQd3XWia8yKuPhYJaMajeT+l4oTU0e3QwQWziFsfOACDzo2ixVw4fNhbuEAqbLweMQLXLl9GTNeu6NChQ4rczSefBCIiwgCnT4CgATgWLoRemNOXL/HgtgNPDbmRvmAa5D3/o+ofFyLyXPr1s6gSa48excBsTlCVXsS9fb1zZ8wEMDVtWpRcu1YBQAHV2bP7QCTv7tzx6kzy/VFuyW3bYOnQ4Q+jNXHNGniaNYPNJnGHZtTT7cOv/l/g7eXL2Pzrr+jdW6SwvduCBQsUyynCzjVqZMC9e3rYsuXxCjjv3Imo8jUwebIZa9aYVLKObMGWRHSLn4UxGAcznOq7z4KPYff7Krh4Udzcr5X7XK5Laj3Ltm/fPgXUBUBPmGDGtGlmLF9uQ/t0e3Hni5Eobz+hKqCI+HSlCg4E3b6AO8/9cU3lHQMtsBmb0VL9312pEpz79qnMXca3EvRpQyHITtFFLMd+mP36oRuVYRWG48dhCguD/upVb5uhobCPHw9XxowpMXJaMJniIk9+1loGjmErsjAi86/1TnDMCGiSOFNWMSILx+tgIoi0Jf+XvmrjH6WfWvApfzOuUP7PcBMZ/wSQtBM8lsdr3dLal4uubC0byfNqwaF4bFKzgP8wLP9Wf6QCwL/V4/6XXmyKDIzIWRDcEJzRoGlZNxpQAkPpDY0zhY/5t1bJXnsc2TKu4mno5DiuirVAj3ExBFuUeuBkr+2DNmZRe6fYX7Wif/IEpmbNvEycZCXu2AFn7txeuZNkQWv2kZMLwa60yYlMPsX9qu7X3bswffqpN6lj9Gi4RoxQ51LuMAGsye5dV4UKiNu6FfrAQLjfvYNf06YwhofD9fHHiBfZmeBgr9agXg/dypVo1ycDNrtbID9u44c0Yfj43iqYxLXscuH8eQO6dzfj1i09Ptftwg5DM9j37IG9fHn06uWHH38U96cTP/+cAJ8V3yFg2DC4M2dGzOHDuBubAzVq+IjiDXbuTMKnn7rRpYsZGzYYsXDsI3RfXh0GidMyGBB34QIcOXIo7TiZWJs08cORI0b89lsiPrm6BBEDlqGc7gIcMKFCORdGj45HuQouvH7twpQpwdi0SbQggSFtH2Lq2ryKbaqQ+SEuXDTg9u33KmEj8fRpZGnSBHd69UJsaCjy5s2r7u3z5w589FEAKhSKwumIdHDVro33a7fim7G+WLs4ETHugJTH7OvrQdOmTsyeLaVwvckUEydKfV4LtmxJQo0a8YppEcb7ZMWKkIJ158UNP2QI8ufPr5IesmRJowSgL1zwZgNzk3fZOns2zJLNGhsLXVwckqZOhfH1azgnTsSDB0YUKWLEoI+2Y8bdZoidMwcNNm/GiRMnYE0WxB46dChat26tAvY7dUqnwLlt5WqYO3aEu1gxuM6dUy57eWc4NqwSL1rMC8wUqOrRA4X3zMOrN0a8euXN1BZ5ms2bN6sYStmaN2+OcePGKaY2KckXefIEolMnBxYudAHHjwNNW2JqXG8stAzCW3ugStARQF7BcxpTMQSVM91T4twSsyqLGXetWnAkM4DahRXj77TASJsU8mG8njY0hKBMbIyAMakzo1+2DKbx41NkY9wjRsDZuzf0ye8764n/IzcvAZjWK8G+qrAMszmlnBuP56c2ho86mQSPPC/Hv5xLC0C1wE/2oc2T7zletO5p+b/0S66FQJD2loyhvPcCOqV/sp/cHybiaWVgaJukHWF8U4Wg/6Vz41/mPrWNmwAAIABJREFUZKkA8C/zqP7jOqoAoGSXysTOeDuu8LVJD1wBi9HRGketa5jsH109WpeFXDlXsjSanCAI5LTgjS4VnoOxNYzroYtGu+qWfRmjSDcQV9cEY+JmFRet7s0buGrUUBObLm1aBbpoiKUNOS8DwKW/PA+ZQAJK1f7z5zDXqKGYHEfnzrDPmQNTsoC1WWLwJIbqwAG4S5aE7ddfEa3TwfXmDdK0agXfGzdgK1kSiT/9BHPGjGoCsYoMTJ8+SipEto5YjlXoqP4fHOxBUBAUQxQV5X2fWll/wvqkZnBOnw5bz56IinIpl3CePB6cPBkJ58njyNqypVwEXq5fD2NyYsGLFxaULh2A3Lk9uHAhFtHRBhQp5IOERB3moS/6YBGczZsjccWKZKFrPTp0sOCXX0woX96FIz9HwVSkGILf3kGCPgDbtiWgXj2DYm8FmMg7Jc8jKUmEhdPi5Usd9qAeas0Nwd58nRAS4qeqi5w5HAXf6p/AEBGByBkz4G7fPlkbTY8KFSRpQo9DX8xFjc0D8GTUXHz8XR9ERuoRhPdoYdiOnKNa4tkLA7ZuNSEyUgfxuJ46lYS8ed3qmrJnt+Djj904dCheTabyzKwhIQg8dw7vBg1C4oABCmwuWuSDb77xwbRpNvTu7VIAXp7HjRuim2jGpXNuODxG+DqiEeLcjrF7SyFTtSLqemNjLciRw4qOdR5jxf5ccJQti29q1cLUqVPRH8C7atXQecIENVHLYqtFi/Q4edKA6KgY+Naqpdywp4ZuwLBTLZQ7XqRjRIi7Tm0XZh8rj4yNysOwbBlgsSBfuii8iTLhzp1X6p2Ve71161ZM/fZbfCWi323aYFBYmKr4IpnC2bIFon17OxYutCuJnaQzZxQTK2LdMVu2wNiggTfJY8MGWPv0gU6q7Ej96zNnYGzTBrqICLiLFIFL2OkcOVIWNgRFMk5Y0UfGCTP9OW7oIdCOSdoKLXBT7L1UJpHkqUWLVEypJ1k2xti4scqS18bEyf4cs2QeaRekHx/K1tCdK8eQ2ZV92C/GHRMQcuGrZeJo/+Q72j7tYlHeI4p4c+FK2yfnpYeDIJB90cZbs13OFlobpw2zkXdTWEyJaxW2NxUA/sfNr/+WDqUCwH/Lbf6vbCQlCURirWiU5ZNsnly1GCdZkbL0EgGi1rBrV7FyjNbY0Q0s39Noalk9Od+HsURi0BlTQ0PPlTGZBMYE0ShyRU3X0ocuGuPmzTB07arqlTqFdVmwQFV/EFAgK22yF2yXEwKZDm3cH0EiYmJglSzYy5fhDAmBc8MGldShrkkMfuvW0O3YAU/BgkjauxfRFgviHj1Clnbt4HfnDmKKFsWb1avhlzWrmpzVpPX+PRwnT8JXymgly7mIkPSAhjfx23lvTJck+Nb81ImZj1og25mdcLZoAYe4RQ0G9O1rwNKlRmzbloiyeW4hqGZNBEZFYW7OnHjfqRNatmyprldckY0aWXHsmAXXrych1609eBY6FmUTjikXYQBiUKu+AWmymJW78sQJPVwuHUqXduPIETusUybiu2+j0Q/zlXD0kCFOVS9X4vfoom7WrJl6b+JPRqDgF9VRzHgLZ99kVe7vrl3NWLfOiBz+kfg+LhQNsQeJK1ci8fPPsW+fGWFhPnj2zIB27ZxYcaEkdDduIEtaG16/M2Fkt4eYuCQvHB9/jLe//KJiBWXiXL1ajz59fBQIvHdPkik8qFbNqhJktm+X+reALSkJAfnyQf/uHeIGDoR7zBhVY1hEsCW5VcSfPR6RDjKhVi2zkrGRTWr6ins48nEioux+ytHdp68D06ZJxQ8nMmf2g7+fB8+zfgx3+fJ4M3Ik4mUxMWcOsp84gdjdu2FQ5RH1yJIlCOnSeXDvng3uw8dRs2EAzqKCaidbNrfqt4BcAbSydelsx+LA4dDPno0a6S7jSGRxPHhgg49PtHrXbt68qap6dD95EhmtVrh++AH6tGmxdm0aDBpkxowZAmq9Gb1yn2w3bsB84gQ8nTurccaFjcgHGUUKKTISrurV4fjuO1h694bu0CGVrJG4YQNMVaqkLOa0CzSODzJX2gobBFXSPu0BF1k8jqynWgTduQPDwIHQHzmi+izJWf+PvbeAsrJq38av09P00CWNMCAh0qCEdKikIkijEkqLkkNICSigIKG0IEhKdzdIK0NJw3Sc/q97n3OddzPL//r8/d73+3zRmbVYw5zzPM+OZ+97X/d1l1vMwv6UTjo4Yv/5mQ6muJflu/QWCrbH+yhz+JuyTzdd65YPebYwcyI/5B3opl75P+UPARx/099Zl0/yXM4LE+vrAFI/fXRXFnmG+JlmpIH5W57Pf2pQGQDwT01TxkV/MAMBAEgfQJ3ZohCj4BQtn9oyQRuFIwUYhZxuMpV2KaR1szJNR/Jb9zGklp1e0EmbBJo6m6C3SYFPnx7VrhzC0dEwjx0Lr7Bv48fD+9FHcGuMIQ8h6Sv9iAgodUCsTLr+yGBPWhqEmTDJ4Vi1KtI2boQxNNR3OAoD0bUrTCtWwFuwIJK2bIEzZ051WKQuX46iQ4bgSfHiuDlnDvKWKqVAEgW+irg+cAC2hg19ifvEBFasGBz79qm+0SwUNnYsTFOnwl2yJDyHDsEpqFAlOg7CgwcG3L0TB4MwXYcOYbXkn/MvADFDjh8/Xj3n9OlgNG6cCUOanMGErZUVaJWyYZ9hDOYbeyLW8y+fviJFPBgxwoPWrVNhfvwYwVFRKJz8C+6aC+D3u7FISUlSfm7z5s1TkYny8+mnnyqzZ+EBA1Bv6wgcRHXcuSPl5TyKhRnQ+j7mbyus0saEIhFhmc1IcgYhOdlX2qxHDxdmTEhSDOvMWy3QP24MevdOwsTKPyDivfcQ9+abeBgdrZIXk+FZvDgIAweGoU8fByZOtOP3360oV05KCgLjxrnQv84pBFd7RfXP2bYtfu44H506hahULDNmONCli0SAu1GtWrhiH2vVciE6+r5KpC19zrZ4MU6O2YdOEevwe0KEv96wS5njpVrJ8uVpqFcvOcAgexcuRKb+/ZX5Nik6GtOmhSI62oZx4+zo0ycN1auH4dIlI17DTsz94BTCPukUKH949WpWdO8eips3jejUPgEL95bC4bsFUQMH0aaNE/Pn2xVLKXtUysjlPncO+bt3h7tAASQuWICoLnUV8/roURLMZp8fG/eGjCWgyPiBmXzv+fVXWAUEXrwIb/HicK9erdaZYfFiX2T7okWwN2milBWdvZf/i6IoYJy+dbpvL/166UbBSF8yaFQoA76G0qeffoJ5+HA4VqxQ0fHc37qvJ+UEFVjKDwI4Ai2aTAVgyQ/7RvlGmUKWkf1Qc+KvUEL5qI+LoFZ+yxjZLuUtx0vAy37QyiFzRllI5pLMYPr0NOmZQvlb9loGAPznnu8ZAPCf++7/3ZErABgTE6OiyOh/p/vuEJRQiFEYUkvWfeJ4P3/raRBE2FHoksGjWZe+fzSzsjQS26JpmIKegFEHmQSBZBgJOk2S/VjKuq1cqXyanAsXwvTGG8/UFyb4Yzs0C1HY07yksw8mye3VuTOMAvBKlYJ33z7YQ6VqhUHVYzX37Qvz/Pnw5soFx86dcBYooACBpOq4evUqMu/fD7OkIMmfX5kEZeyM7PM+fIigatVgvHsX7i++gPvxYxgiI+Hq1i1wEEnQSuauXeEND4d9/36VUJe+l0WKSMoO4PeeIxA0YQKeZsuGQk+eIB+AS/4VI/VlxUT46JEJ5cpFoscb9zGr0SZYu3ULrCnX0KFIHDxcgbGQEJcCEEwBZPrwQ1jmz0eQ0YGipYzYty9eHX4bN25Ejx49As+QIIiP69VD4VatMCtsCPomTcRPPznRsKEHztu3EVq1KhIfp2EYJmAjmiElIieCM1nRqJELY8d6JD2cAv3yU7pUCB48NOLmzYcImzwJ4dOnY1ODBjhRrRrq1Kmj+lawYEFlzi1QQJY2cPeuj52R+ILXXhPznAFWkwtR7lOwwomrptJ47M6sAmImTXKgb18oQCWl6EaPtqJdOzuio3+H5MoU8C4HbYELF5DtnXeQ1PJNvHhqpUoEfe5cIrJmtaFIER/QXLfOgXr1vAoQmTZuREQnX0TtnPcO4P2F1ZQZ//r1BMyYYcXo0cFo1/gplm2NVCbeC+KTmj27AlLyExQUgho1sqt6zGcmb0C5QS2Q13gX97y5VKWTZs187gsSCCKNR770EoyPH6OfYSZmej9Q+fyWLfMEqu4QgHB/0qdW9hCBmzExEda334Zxxw4VJOUQV4kjR2AdNUopUa7oaHgGDFCuDrIvyKbpYE4+o/8bQSf3NN1BaD4m+JP29QAnZdKVCCV/Hkt5ps40EvSzDzIWtkElVR+vzCf3Oc3AesYBsv262Zdgk8+jawDHQPaPVYuoDDNNFPc2/QMJHmXMeloqPo/yk8o1x6ObrSmb5B4JisswAf+7R+Hze38GAHx+391f3XMFAMWHiPn8dJAjgo0mDgpGOkmTiRMhRoFIkwgPbApRgjMCPGrITHGgp1nR/YqkLxSGTDsh36c3J0k/qXnTx0buU4Lz8mVYa9SA2O4869bBFRUVOJTSg1oRpnouM11jJwsY8G8aOBC2L7+EN3duOMRMVUBq/BoU22j77DOYp09XSaBTf/4ZnpIlA4JeUoOwMooAPwEtkv6BB6VF5rNpU5h374b7jTdgl9QmdjvSJF9a5sw+/6uLFxFap44KRkhdsgQuiaw1mwPRr+XLB+FmjBcpLgsMQTbcWLoUZ0eNwqnz5zEOwMCBA9G1a1d1aPz8sw3t24vvmwOfXewA85o1yunfsHMn7q/Zjd1pryAx0YvSpYGKFb0+lu36dVhfekkxk0H2BJQqLYmXE9V3UlpswYIFaARgC6BKmvXevRshmzZhVtMN6LuxKVautKNZExesrVrBtH37M3sgbtMm2OrWDfhccs3IszNnDke1ak6sWROLiC5dELxli0pQLUZCGcuYMWNUNG/evHkxYEAk1q6VIJJ4ZMnii5gWHDFzpgmzR8bioSsrPIp1TEbLTqEYP96NTJl8vmEyl4ULByk/y99/j0diYrzKUyiRygLKyoaHo2SjRnCWKYMjsw+gVq0INGvmxqJFCTh3LhgNG0pqHaBQIQ+6dvUgT/xZ3JiyCfPRDfeQB+GhHhw8nIyiRS144YUg5csZE/MQYUMHI/y773D2lVewuXlz1KhRQ7Un0cl372ZSuf8aNnRhg6cJbm3/FS+arsDhMau2o6NTkTevj50++e4CDNtYBydREYURgwtvDIfnqxkwZ86sAKlcQ9ZJ1h4VMN0NQr0UlwvWwYNhmjvX5xMo6z0oCJYePZQbhbtbNzimToXH5Kt6QhZLtxwQNIlMYPAE9zTBGwGaDg7l/3yezshRJqhAKT8zJ20rxUurDMR1w/b5nXyum3F1iwazFVDB1MdENxOdqeN45BmUSzqw1dlVMpfcpyKvaHbXx0/Zlr5MnG6hkH6xTXmOtJMRBPJXH6V/XfsZAPCvm/vnveVAHkDxP5MfncWjuYGBFxS0TMgsQkhYEbmXgk9+UzBSE9YPcYIsgi9daOtCVg4oaYdMoy7sqcGzv0wJw2g5Cm6yjt69e+HInx9BRYoEDjv2g7ne9KSu9F9kmggKaB5Y5pkzYRw0SNVZtW/fDkNUVCB/l2nCBJiEJYmIgHPrVjjLlvUlv5VgEb/JWeaTpfdojiKIDZo8GZaxYxWjZz9wANZs2QImaXX4JSQgXNLJXLoEe9++8EycGGhbDhR59tTP7JgwOw/moSvaTSkN6+7dsG7ahHs//4zY/PlVcIb8k/dbs2Ywzp414u6SLcjVsQm8kZHYMecchvVx4NTDfP4SY75lLgEoEkww7XZHmNaugXPECOSZOwZpacCjR3YFwsUHMGnECDy9cQOHmjZFj+rVUVZyBGbNipYv38GGLTZcvGhH4chkX5SxBCT07g17ZD5sfFgZtwdMQvYK+dCkiQB4XyQv332mTOFo1syJhQsTEV6hAqy3biEbAFm5twBMnToVRYsWVXWSx47Nivnzw3DuXBwKFTL5chAKArxyBSEVKjyzbx2XLsFVoIBqS66LifGgZEkb3nrLg2++SVSsrYDaiRMnqvtE4DokDZHBgKR791DqxQhlPn70KFV9f+OGF/3727Brl5hb/yWebUhDK6zFlyVmIPTwFtx5YkaxYmFo1cqNb76JQ+yVK3hBzP7JySgrybeNRmzduhUlSpRQLgLly2fB48cGxJ28BGvFiohx5kOdHL/g9n2ralcsm+J9IODTAC9qYy+2ox7M8MBTogScy5fDXqSIulbyITIyVhQRAhsdMImioljpL7+EdcgQX6L0jz+Gu1EjWNu1UxHvnvr14Vm+HO6wMLVOyd5JGwE20Z8jTw/yItChyZNyQN/bBGfym/V9qTTKZ9JXKmRyH+9lZL48k/JDrteZOSqpZM1pjtUjh3UFkfKNQI6yhTKRftJsg5YT3fJBOUAlWy+xSTM154Pmci5U3bxN2SEyUuZDGEBJ0ZQRBPK8H8f/u/5nAMD/3bxl3AUoACiVEeQQoKatC2dd89SBDDVe5rmSyZT7dW2dgooMg1yjm4Wp5dMkQoGta9b6S2IOQQpzPo/90g8P3sfoXl6rg0a98DpNSDRFEQgTTBLEGleuVGk7vFLofsMGuGrUCAAU85dfwjJ4sDI129evh6FGDTUfuilZZygJsAOfbdum0sUgKEj5+wmwlHsJtG1WK4K6dFH56KTdlJ9+UilhyFyoA9Plgrl+I4Se2Icwix23X6iFsCun4SlUCHEnTiDVHzkozz1yRACVFRUruHE0rgRM16/jq3f248Ml1dX0RUU50aFDGrJkMaiI1TVrglUJMklJcz57XbgvnMaQsRH48ssgLFniRP36sbBs3YrM776rSqzde/NNlJ04ESHr1iH105HINHEkIiM9uHIlLTBnT1r2Rq/tb2GbsTFcHpaPEzbJi1df9eDLL9OQM6ev+kxIiBVly7qxZ+N9ZTp35MiBrz/8EEVnzsSRPn3QsGFDVRFBWLN27cKxfbsZCQlSssyX00/5nEVHIyw6+pm9nzZ9OjzCavmDkbZtc6NFi1BMnOhA586xyseqe/fu2LdvHySroxikb0dGIp9E0Z45gwY9S+PECTOSknxsDN9rUpIDW7YYERuTihdHd1Q+fhyhq1Mn7Oo4Bw0bhmD0aDt69Ij1mVEnT0buWbOwCUBTQEX3Vq5cWQH2pk3DVI3h+Phk2D7/XCkK7lq1cGzCFowZa8Xt2xKIAFUneMquKshx54wapzDR3m+/RWrJknBERgZYfVGYWDlE9hb3I0GQHoxg27UL3rZtFevsbtYMJjEBv/kmjFevqghh57p1cOTKpZ7NPS6/WUGD7g00kyrTrr9EGv1qyeLpJlfubf05BFWUN5QzZDYFLOvAiUybPItjYwnJ9CwiQSstEQShfKdUFOVZjHymzNDBHhPU83l64AdlCa0UdDHh52w7veWECihlAvsu/RCWOAMA/jOP9AwA+M987/+JUQfSwEhEKOvtUqsVASQpDWj2JXhSh4qWIZ+CnL8ZVUtgRzBFcEiNXtpTAQ+SmFljevg3tV76BFLr53P0CdBNOTQTiYDUWQQd2FJDZ/tkH/VnU3gHcojt2QNj06bKNOZauhSuli0DDIRn3jwVLSnAMG31arjr1lWsH5kJHqasl8yKA9T8TffvwyIVEB49guPrr5HWrl2gCoD0VZXPmz8fIcOHw50rF1L274c7e/ZniskrRmTQIJjnzMHnWcdjyNOhyIkH2IxGKPtBDaRGR/uBkA3z55vx0UeSdBs4320aSswZiJ3l+6H+2ekq0vXgwWRky5YQYFCE5RVBM6jETnzzoBUqFniIvRfDkJzsRZ48oYp9OrbsOEq/U0+BhNh582AuXx5hVarAE54JNUvcw+FjNkycmICePX2pQs4fSUbtV0ORhiAULODGe13tKFLYgZibVixcGIzr133Rzrt3p6JMGTdq1gxRJdSu/7Adhd5sCHvdukiIikL4pk24v327mgufK4MJuXJlQq5cXly65MunJj/i/zf2jctYer48EhJ9pd1CTHa0LHsVEzeUkrLJCrBcvBiKKlUMGDzYjtGjvapyiETYiul8KADhAS9VrIiSJ08idfVqvDKmpQriePw4UTF1t28DH30EbN5sgsPhN03CjSo4gskYhJebZYe7TBmcrdQZr7xRHP362TFyZIpqO+7uXcVQ5gcgKadbrV2LChUqqHE1aJAZv/xixtOnSTC5XLBVrgzTb78hbcECuNu0CQRkqLUSHQ2rJETMmxeGO3fgmjgRae+/HwCnss5lb5NFkrmTQBqCMDJRdPVQe+fiRQRLOzdvwlO+PLyLF8MkJQf37FG+rm7JY1mxoppruZ6MIEEX3UUIxgn8uEfI+JMhIxDkPpf5kXmg/CEzzz1M9k1n/SgzaNalfy99D2mS1VM/qShkf54++jZSPunuJ7plg4qyCjqTOs7+JNVkGPX5lP9z/xPgsh26mlA+8X1QEZXrCPyoWMo7zAgC+U8ch8/nMzIA4PP53v4beh2IAhaGgYKbwIksHzV6+Z7aLgUrBZjOtPE7Mipk7Gj6pOCU51F4sy35jj5EdIKmoCeQpK8hDxmab+R5og3riVopiOUafsf0FLr2T22bglZ+8yBSwv/8eZjFNy4xEc6pU+H94APVT+mTmMAsUiFCkjevXo1UqQbi90ukr5LyDxSGx58eggEtCqxKnyWVzOHDEGbIMWfOMwe1MkkfPozQZs0giTx+lRQf1aurQ0QAB99JyPr1sAk7KYek3Y6xnuEYiTHqvebOmobiZc1wuUw4edKgUslIJYgdC66h6rticATK5I/D5ZggnDgRC4PhlmK85HApW7asqjRQ8Nw55OjaFa8FH8Cu1Go4fjwVJUt6sHq1GV262GAzONDX+wXG4DM4tvyEkCVL8ONSOwZn+gY347OgYUM31qxJU/2Ni3OgSKEQ2B1GrKo6BZWWt1PzI+YsASLyb/t2Gzp0CFE1ciVy+OBBA1q0sKJu8VvYdbUgUnv1gm3VKlVPNvb2bXj8psIePaxYuTIIU6fa0auXW71HCTzp0kWSnRtUtZNKCbtghAdng6vgUaqUQYSKAO7dWyLSxd/QjPz5vTh3zgfMBCzFXL+Oak2b4tqSJci5dy+yTp+O+JHRyDZuGAoWlGtTsXw50LNniPI3zJPHg2rVUhAcZMaZ5ddx3l1azXOfXGswNaYp7HY3cuQIQe7cXly44GtHwEfcjBko/fnncJtMOL9uHXJVqgSTKRh58kQgXz4vzp/3px2RdDtNm6r0LGmnT8OQJUvAxy8sJgYGeUbfvsqnUq3nffuQ7I84JytPVkzmSNYTTaziG6iDkcB6vXcPljZtVHoi8X91rVwJ07x5MEpFFIkQXrwYjiZNAmlR+Hx5tuw33XdY9lXAzGyQNekDXpQBBIhUSPX9Q3aR+5Z7mfud7D4/p0wjaCIQpKwiUJPvCeYo23R5RhlEYEYmkwwfk1UT7EqfCXgpW3TmkL7VVBZ1RZZyjwqotEklnfJSPpM8gBm1gP8bjtO/pg8ZAPCvmfe/Q6sBBpB+QARVusDUTRvyuV6JQ3fuJmiiwKYAY31WXUgzBQRNKgRb1I6pRXOSeS+ZOrKL1OwJhKghy326OZrAS/pELZ5Cm4CUTKMu1NV3MTEw164Nw/378A4ZAkyYEACHLqmD2769r0TZt9/CLb5R/mohuq+PPIfAlMCRh6phyBCYpk1TaS7if/4ZQVmyBJgYBWpv3kRwjRqwPn6MzY0a4XrjxsrnR4IEZNzKBHb5MoJq1YIhORmenDkVkyg+W7eQDx9bv8QmU3PlqydAR/LP9ezpxsCPnQh7s7lKUn3rg2gU/HIYqlVzY/36eFy5cgVffPGFqjBRs2ZN9O7eHW+OHQvLtWs4//kaRA1uhVdfdWPDBgesJhN+qjIBnc9+hCREwAg3goO8cKa54YCU7POiY0c3vvrKl+5C3uHgwQbMmmVTfopvLa6NuNq1lV8aAYgwPQI6V68ORc+eNrz/vuTbc6JBAxsOHjShFvZiabMlyLdhvloiaTExeGzOjj59grBhg0lV8zh6NFkxnIcPG9C4cZgyj86bl4xGr8YhR37h2ICUnj2xs8kkvP12hKR0xMKFDrRp40bLllZs327Cjh3JqF7dlwfTce0ackoll86d4axeHVm6d0ffUj9j1qWGmDfPjly5XGjePERiY7BmTRwKFLinInPlHeV++BBP87yE18smIMZdEEO6P8TIGRF46y0LNm0yYetWO8qVi1fjT4yLQ+569WCNiYErd26kHD2KTz6PxJdf2vDVV2l45x1fsIqsr9Bu3WBbuxb27t2RNnmyAhsyd0rZiY+HN0cOmGfMgHnoUJVUWZhjk7/UIPeWgAruYwZBUakgoJL3Jtf5JjsNll69YPJH1rsWLgQuXoRl9GgVIewcPx4YMEAtNu5XHfzIs/hcmjMpY3TXEoIxfkclkyCMplLdZCrjlx/+pp+dXEPQSFcR7kOOVe8LAZk+D/K9zKu8T+7t9IeA9I3mZY6doJNzQLkof/NapUj6A9c4Bxw3x8L+c/7ktygNwvhmBIH8HY7j/90YMgDg/27eMu7SfADFBCw/PFh0wU/ARF8aCiRq89RamYKF31N4UqBRAPI+vgC5niwjBbbcy+fqPkI078gz9QOA7CJreOpmZzKEbJeHHM0+8j19t2iqYXCIJAuWyhnGa9fgfvtteBcsgFPyfEjU4969sLRsqSIinbNmwdi7tzpIdf8mgmEC0wBryEoF69fD/MYbKp1L6v79MBQvruaCz4CYkxo0gO3IERwpUgRTy5eHy+1Gs2bNFDCTcl/GlBRE1KsH45UrcA4cCG+nTrC8/DIM/gPb3bkzUmbODKx3shNYuRJBwhi+8AK+6HkeHw0JwZIlqWjUKBUSrdyhQwcV1CE/7wHmjJaEAAAgAElEQVT4Vkx7lSohdedOFCkarliue/dcMA4dqgCs/CxHW8xAPzyNKISghIeo/3I8hmyogPBw3/siCxuZwwxPQhLiwvPh91OnINnTli5dilGjRqnnLFu2DNWqSbqUTChYUHIR+lK6eL0GNMt3CXvifYEcJXAFuXAfjwpVwqWbEk1twIsvurFrVyLCwqxqDZUqJQmlDdi7NxYvvJAGx9OnKFTWx3reatUKlq++gtOZBSVK2CB5uJ88ceHqVTfKlbMp0Lh5cxwqVDDAum0bQtq2hTcsDMnr1mFRvR/xIb5EzpxeXL+ehtKlg3DnjgFHj8YjV65kSHqlAwcOoHTp0irljryr8IlTUHz2J4g1ZsOTWDvu3TOiTBmbAubbttkRFZWiwEXItm0Ifftt1ccZhaegf8xHykR95UoibDaLAmOKobp/H5leeUWVbEvatQvucuUUqJBxM5LUK7kj33hDRVw727eHZ+HCZyJh6YPG/U8GjvuGEfaUCYq1l7ajo1XVDvmRtDBibjaJL6XDAWf37nBNnQqjBJH42W+aPdmObuIl+KG5WPrPlDAMABEFihkDyPyRuaTbB9k2AjTKLip3gX3tD8qSseiuKOyT9CegoPmBLJk7biT2gWlkCCCp8PI6MomULellDcdK+aiPjUwjTdZ8r3It5ycjD+A/+yjPAID/7Pf/74xeMYBy2AsDSH80eSB9XnThzYboN6SbSmjuZcQwNWhdmyXTRnaR5l8KWmrmIqylDfmd3udG952R9kXY0rxLgKrX49Tbp48i29FNOzwE2X+51uJwwPPqqzAeOwa3RDuuWyelTNQ0eA8dgkVMXcnJcE2YAGe/foFIX84jBTkBF9tlPzy//QaLHN5S+WPZMuDNN9UBpwfP4OOPYfvqKyQULIiJLVrgxKVLqoKHpHEpJ4e9zYawnj0hVU5ctWrBvWEDLBIlfOwYnP37w7x2LRxTpsDQvLkCpzJmBdATEhBWuTIM9+4hec0aTP2lGUaOtGDnTgcqVUrDb7/9purJHv3pJ1XL9oBUqJDgh6VLkbVFCwWq4uMNeLjpoK9+q5gcf/3VNzeS5C45WQWzpEoy4axZA/6QPnAr+f1C0BLrsLLdKiTPno3Tp0/jtddeC6xlibiVKiLimtCrV1b89JMFcXFJsFnNsOXNi8OxJTEIk1WqE6lBLJlIXixrwGefpaJhQ19lGVlvFy4YUKWKJLt24fvvEyFlD2+cPo0m77yj2rrepAmsc+cqdnbs2EyYNcuK779PQ8uWLuXD1769mCSB0qU96FVoEwpv/lq1OTdsEO4nhSGzIR4nr5kRG2dApUohaNDAieXLk9R7nD17NrZt26aikl999VXly5f5/n38WOt79MI3GDnSgUGDnNi504jWrSXiHShRwoOOHRNRrFgwLnacjHmerriPXMhsScbhM3bkyedLvkx2TP4fPG8egocOhbNcOSRu3w5LUFCgJCKTNbvv3oVF3veDB4qp9nTsGPBV04EY9xv3P3/rKVJ0tt6wciVsvXr5qut06gRPhw6wdOyoKom46teH47vvYMiUKaCsBaKxtQhd+u6xH2T/CZy4nwiwhOGU/+t9ZT+pIJItk3upVFLeEGSSUeR+1BVTeY60Q2AqvxnAon+mK6ryPJYapBWAMowyjyCPSi37TcVbnqEDZM6JPFfPGEBlSp4vzHmGCfjfOQaf73szAODz/f7+yt4/EwQiHdHNvbpfCoMYdJBI0ETfHZo2KMTkbzI+FLYU9ryWgpFsHoEkgYruE8OJks8I9ghCKfh1vx29PzQHU9sW4c4DhAeqjFF80MT/KSUhASEdO8K4eTM8FSrAu2sXHH4/Ju/p07C+/roCbq7hw2GOjg5EO9I8I30lK0EmVI8QlQPTIuDy1Cl4P/wQnunTA9cTtHpXrUKIlKwLD8e1ZcvwICJC+fsUKVLExyaFh8M6bx6sH32k/LGcR48CixbB+tln8EgE8aFDuLdsB4btaICLV4UNAwoWdGPcODdKzR0I8+zZ8EhS7GXLsGqVF++8Y8PIkano39+uDrJrhw+rknW/RkWh8dGjSKlXD87VqxWAzJs3E7Jk8eLXXx2KDZKABAkSePJKQ+w8lxOJKSYUafsSKs3vEjDr0twlqVHCw4PQCYsxd3UY7K+9hiZNmuDQoUMoA+AXCOu2WaV0kYjejz/OjKVLbXjyJA2ZEh/AVKiQyktn8CeIlrm2DxsG94gRgRqvVAr69o1Q5eYuXXIgNPQhHj58iB/nzkX0fJ/peJ7Fghe2bFEgTQJaChXKhmrVPNi82Rf8dPasR6V0OXpUGGk9pYsdLcJ24NukNjDfvIR+0TnxzTc2HD6chOLFHSpxtFREkcoo8iM5CqUiigTTZG3SDKGnDqJkoTScuGxTDNT161b07WvGoUPiV/qvdoKQitZYgznojdAB3ZV5lWtc9pZa4w4HwurWhfXiRdz77DMY+/RRa0kUBQIQtW+3bkVQixaKwXQcOQJDsWLP+rn6c2zK+tNZLoJp+ZzgjMBSfCPNJ0/CJsEhDx/CW7Mm7OPHw9qlC4y//gpPmTJw/PgjjAULBkCbHilM0ydBFRkvaZ8KE03aZCTJ7hNMUVbon/P/OsOnyx5pR/aj7HU9XQ3bVH63/iAyykWaXKkU05JAOaMnoZZ5ojlYfutWET6PbfF7Jo6muwtlCQEr25P7aVGQ58peFXeJjCjgv/Io/evazgCAf93cP+8tKwB4+/Zt5VNG4KELZRGg1NoJnuRvAkUCMLJdNFVQ26bgowM37w34E/mTuBIg0m9GF4Jk6ijAKTBpcpaXQBOyXKs7YvN5vJaHmWKq/GYyClOyChazGebevWFatAieF16Aa+9eGHLm9LFnly7BWr++8rFzvv8+PFOmKJMwTbvyDOYmk7Y4Lr2P6vD84AMY586Fu3Jl2LdtgzlEAgd8ZifloH7xImw1ayqGMfH775HaoEGAXZADUZ5rO3MGwZI3TtiJLVtUouggSXrt9SJ26140GloZx475DnMhLsXMKDni5KckLmNPSGOEnd6qTHcCbrJlC0aOHBKQkAjExyOoSRO4njyBNT4e5rQ0PN61C8EVK2LFCqB79zAMGGDHxIkGYP9+nK43DB8Gz8eJtLLPAKXwcC/at3di2jRJw2JQ45NKJ+GFC6CC6Sx23M0Lp8GAn3/+Ges7dUJJALHvvw+pICK+VjKXzZrlwMmTRsTGJkDSkQS1bo39lroY7JmIC+6ScMGMEKsbTdoFYexYO7Jn9+VclHffurUVW7eakJCQpMCfAPwfZ83C6G/FoA0sz5QJ4UuWoEqVKorxyZ49FMWKeXD6tFcFfsgzbt/2YObMIJz/7heYUpPQCmvQD7PgqVQJ5hMn4Ny+HZ2+rYMVK8yIi0uE02lX9VlnzpyJWbNmQY7motWqYdGiRQqUhS5bhlz9uyBHWCouPPKxY1R0EhN9ASuJiWa88ON0NNozPJA6RoGiyZOR1qtXAFQzcMS+bx8KtW8PZ0gI4qSer3qnvr2gu0tYPvlEmeslWtcp0buy1vwuGPTH1dMjSZsC2Miqk/1Lr3hZ7t4FmjdXLLDkxkThwso31rh/vy9Z+urViu2WtugTx71IMMbADGmT1gKaeGWPMkCETCAVK4J9KpH09yXQSi83KD/SyxgGZPA5VBrlbyrDOoiUtSxt8f1RMfXtN0sg3Q7v15VTKp16m3wegS1ZXsoqXkuQLO3JHhFWO7/Pp1V8JRKe90Mpo///sxnIAID/s/nKuPpfM6AAoNQQFSdiCmbdrKELY4I4+YzsnzqU/Dm96Egu97PaBYUpQaQOiOg7Q+2foJKaMQW03gb94+S3/KPPH4U9zTi6Hx3ZQR6ycmgSkMlvClSCNwiLIilTIiPh2L1blXFTQvzWLR9rd/cuPF27wjFrlqonTLBL8EsGhT4/9DGUv1V+sKVLFUMiplH74cMwFCwYqEuqwGNcHMzVqyufvtQBA5DyySdqnMIeydyoxNuPH8NWtSqM/hQfUmfWVqcOTGfOIGn4KBRb8KmqAVupkgcTJthRsaKPLbp8wYuRTa5gR2JVhFmdOHvJjty5fYXr27UzKlPrpDHJGLCpHixHj8JZuDAsMTFIad8errlz8fSpAy+9lFXlA4yLc8NsdmFpjXnofvJ9lVYlqpwHnTqmIEv8dRx5VByrVgWpJMn583tw/HgyQkMNsC5YgCr9auIsyuF6TILKMxhz5AhKtWmD35o1g3HECMVoyPtITbWgUKFMKFPGi6NH7XBOmoWqo5vgInwRtQVxA8F5s+DBQxNinRLNK9VIHBg1yqXm9L33grF6tQm3bqUgNNSOJ0+e4Mbu3ajfs6e6/1j58sDXX6OwABZrELJmDUPlyl4cOODBqVN2dOoUpOoB+9I/S4CB73de/I4vso7Gm0/nwzFjBgZc6YPZs83Yty8RUVEe9b727t2Ldu3aYQWAq6NHo2WrVgoAhrk8iHwhD140XMKRB7nh8Ufc0gzI9Rg0bRosklTcv1/tP/wA70svwRUZ+UwlCNlrN2/eVD6oVc6exY2aNWFcskQpdVyDZMQkZbRBFIsTJ+AaMACOceMCSgr3JpmmPwJm3GdkyLhHFTOYlATL+fNwixIi7UhORAkWWb5c5cZ0LV4Md9Omai/pfnDciwSEDLSgywI/Z5Jp2U90ESH7R5FGhZMAlXteVzAJqHitzI1ueuUYKeekLVEOKMOoMOrzQzcWeRbZP/2ZVAr5HggGyaoS/KaXFZSlem5Uvh/KSVFUMkrB/XOP9QwA+Py9+2EAWisiBpDyAYcADJHk/9pQ5L2OBtBdijAAOAigN4Br2jXinjUVQDspBABgq2SZAPDgT05JoBQc/c7kPkZiEpBRINIJmmyXrolSiIpQ1c25OuCT59GERIdusns6UKQQpIZPNoAmW2rUvI4aOFlAMm8UxvQDokmWbfEA0PtrnDcPlg8/hDc0FO4dO5RfVWCct24hqGlT5Wgv6S48/vJT9NMho8jDjelm9DF6LlxQpelUtO7GjcpPimyAmmdxOG/fXvnuOevUQdIPP8DgB7tkAOS6sI8+gmH+fLhatIBr+XJYJ02CcfRouCtWxOuZj2DHThOGDHFg6NBUBRqF+RLgaFu4EOGDB2NhniF47+4EFC/uxbFjieoA9JV8C0FsrAFdsABfoD/CjSmqxETSqVPYfrEQunWzqu/HjUtD//4eHNr4GA3b5UcoUrB9x1PkLupjeGRMYqKWNocMMWDmTKvyozt50glLw4bYti8YjfEzXn7ZhR3bU2Bu0wbBW7ciddQouD/+OMAUNWoUiiNHLKrm7WuvuVAubxpup2ZH80q3Me9ERWTNZcbDkydhcjhw7Hx2dO8ejAcPjMq3TkDgtm0etGoVhk6d7PjqK6dK6uz45RcUfv11tUUeNm+OpOnTlQI0dSowenQ4Jk60o1IlN15/XXzNgKpV3RjW5hQaTGiJG/mqY8TJN7HO+AacHhNmoi969nbjap+pKFs2CHXrurB+vS8htDDr4l/boGlTXBk1CkEdO6o5WbgwHEOGBGEKPsb7s4vC2LWrcpX44QcjJkyw4fZtk/I7DDY70SznEUyJGItc53bA06YNUhcsCLDdXJdyr+QqvPvLL3ilc2cEJyXh1uLFyNm2bSDqWt4JlSOTRLVLkFBSEhwbNsBbv75iWsnySd8ZeEH2kL6xZKV0BYtygpH9uq+rWcq1jR4NqyhUYnadOBGmAQMUqCXDRgWSQI8+swzOoOKkK5WUDZQJ0rZ8r8sksukyBj04jOtTrqUs4WeUm1RKZR4SEhJ8rLwWWMPE1uyjLlPoJkP5I3uAoJHgU7+GYJWWFyaRZl/IeOpyRh+njE1cQjIYwD956v3NLssAgM/fC/0ZUMTAcbFeAhgvadik3r3kq/UPRwChAEXJBxsDYCygKkTJNf58DJgDoAmAzsLkARCHI8l66yvl8H/+CQSBqGhSf+Ji+rRQsFOL1pkyAj35jIJbZxAp4CjwmABZ/iagI9PIZxAo6YKPTCO/o0M3/6ZjNg8EsgY8jHQ2Uwen+gHGw867di1sHTuqfH6en36Cu1491RWyDMoH6elTZWYTmyrHrQNPzhVNXQTL6ndiomL2TJcvwzV4MOD3HdTN3kzZ4cmXD/aDB+HJlk0BODlgaNpSjGZCAqxjxsAt/65eha12bSmfgfg9R5GtehSKFvXg2LEkZTaWWs8XL15ENpcLdcW0nZiIh+vWocOsJti504TTp5NRooQJBpcLca274+Udk3AbBWGAG0VwHdZsobjjzK1q4wrDNmZMmsSmqPdYs1g8ztzLhQtvfYLIOQNV2TQxtQqgkOS0EsUr42vfPgRbtpixc9Ut1G1bWFWneL3879i+w4oy+Z5g6Z06iMIvSBs/HvY+fXDxolGBuQsXzHj1VSc2bHBi4EAz5syxYiAm49Pl+RHRvj3stWoh5uuvFUPjqwAh1ULC8PChEVeuxELOxWLFMqsk0BcvxiMiwoW0Q4eQr0UL9W6T2rSB+5tvVO6/kiUj1HW3biWgYMEIyfeNLVtSULmyEylXruBBaipybN6MfJMn4/qH0ai4cBDik0w4UqkPyuydhqgoG2JijCqJdqlSbgUcXCkpKFyyJJy5cyP24EEYwrKjePEwJCd5kOYyw1ujBm4s2oIaNUIVYyspc4oXl+AmL+7cMuDxU5PiHD/FGIyKmAb39etIMpl8Jdq06FSZY/E7DFm1CgVGjoSzWDE4jx2DwSYRxr49ynUseyTkxx9h7tIFyJkTjuPH4cmR45mShXSZ0JVBrm2CJd0kSUaLMkI3dypm/YcfYOrZU7GCrp494fj8c5iDgp7xZVP7y19bnNG+8o6owDHAgqBNvmOEMmUVgRtlSHoFlGCTz6V84X16IAhlBGWLzhjq5l+C6/+/6iLsi/4OdFaTSjEtKHK9PJP+0wSA3P+Un3yeKHcZPoD/58Pu73pFBgB8/t9sDiEjANQGsM9vZ7rrZ/em+Icn/h3C7AnYE/Aofz8C0AHAav81wiheAlAVwJE/MS0BBlAOakam6Q7Q9Auk0OXfInzSm4TlOwo23T+P7ILux0MhR2AjzAyTz+qHiFyngzn2TT6n+UnYCR5uNLvofovU9KV9nUWU+3nQePbtQ3CLFip1imvBAnjffltdy0OA4JFCWny8JECB5iz2mb+lf3Jw0KxnMhphkxQZS5bAU6sWHJs2QZLJkFkQJiH42DFYGzdWQC55yxYYqlR5pjwXzUU0nUvfHImJCKtTB4YLF+CIjsaopCGYMMGE775LQ4MG8QqEiIl/wIABGH75Mt5KS0NC27ZInj4dv/8ejsqVQ9G0qRPLl6TC1q0bLKt9S2kjGuMTROM3FIXLFqKqg7RoYceYMS5kySIMlQeJcUbkzR+ESjiOTbtSEJs3r2K+xJ/v+vXrKFOmDBo3bqzA2dOnFpQunQVVC97BoZsF4OzWDWnTpuGdN4GftvnqUEfiATLnsCDOkAUPH/rEWpMmbnz/fTIsFhPy5AmBKTEeTzIVRsKYMcjcrx/utG6NRS+9pFLiiB+UzJEEUnTokAdt2wrrl4zVq4PRq1ewyn+4d28S8i2bhEzjxysW6vaZM3CG5UODBllU5ZFhw+yqfu/nn9swY0YK3n3XqUC0pHSResBdsmRB9SlTkPL227jSawIq1MiLmtaj2PioNI4dM6Jhw1Dlb/n99wlo0ABwPHiAHCVKqLGc7zIOr28dDnGXGz0yDSPmFUXS3QQUCI9FfKIJ77yTiIED7yNz5iDFnMrakOTXnTuH4sEDMQd8huHjgpDy4YfqO1lrXM/yPpRfrdeL8GbNYDt6FHYxH0sNXz9TTYaJJkRTly4wLVsGlwT3SIS7JDLX/FYJ/rjGGYHPfUfFR1eQKHMIFnmvUsT27YNVysk9fQq3+K6uWAGn30eR/odU7AjIqFTqiqQO+hgMJvdRNsgYdBcVKrQ6cGIKFT6XY6Vc4X7X084QAMpvzqF8L/OgA2W6mFDucEy0QMjnlGl6/wliOWb6Mku/dfBNOUt5IAAwwwT8J067v+klGQDw+X+xRf2mXWH4JAjyBQC/AXgJgK+gp+9nr//vfgBeBbATQBYAcdo1NwF8AWD6n5iWAAMoYEZ+RJjRVEshqDNnPHAU+HA4AiBMN6dQ0OqAhWCKEW06U8Z+6r41PGQodMl2EKSSFdD9BakR82AkQ0EgxjbJChKQus+fh/XVV31RvdHRcH30UWBcOitKwasfeGxfxsDDU/7PdC783rxokQoskaoNqYcOwZgnT2CeFQj8/XdYJSXMw4cqp2DKO+8o4MS2CCj5N1kd8ZeT+rGeqlXh2b0bb7QxY/16I54+jVMsnIC/DRs2YP3HH2OP0MshIbi/Zw+yFSum3nW2bKEq9cjRr4/BvHEjTJs3w3jmX0subcIEePv1C7C2AobIPq0adgndZ1fBN4XHounBbuqaBg0aKLaRP4cPH1a+aLK+KlTIjqT7yYhzRyB50yagVi3YWrbE7Z2/4mNMwx7Ugd0SDmuoGdWruzFpkgMFCvjMyUePelCvXgT64Et8UXUZ4suWRfZvvsEXxYtjwNWr6NOnD9566y3FAgqb/fLLhZUZNSYmQb3LKVOMGDPGVyP2xeDraJy6GiZ4sL1oD5z6LauKkO7eXZJNp6BYsQikpBjw6FGqAtDiN7h48WJMnjwZQ+rVw8QdO5BYvToSV61C/YKJuOwqigfXH8KWPUxVL2nTxqJMxwI4XymXgJBdW3EaFfArZJsDAwc6MXq0C5aRI9F+ystYgzcxaVIq2rZ9pPrKmtdyrShFTqcBxV+w4EmsEbE5isFy5aRKscP1q7Nayu3gwgWECyNsscBx+jS8BQsGolAJeGQdmSXVUtWqKnBDSsXZJTBJMmf7WW+Zd913jXtRZ+ooA8hi0d+W+4amUXkvqurHzZswNG0K42+/qcTn9jVrVH1iXwk/X+oeff9ybLqCRxmk95Mgi2y67tcn15G1pDmZf1OJpeyQawk+9b3HvnHsulzQ29ZlAz9nG9ImTeoEpfoY+L3eF8oV3ayuK6PSjwwA+CdOur/xJRkA8Pl+uSJx1/v9/Hze00A1v89fHgD3tOGt8nuit/Uzfwv9vn/6DBwDsNvvU5h+ZsRPUP7xR+q/3RGTnQos8PvvEShRGNNXh5qp/GYaFYI9HdDpPoI0wVDgEozJfTqLwQ6JgKRQ/KPXSnBKRpKCWJ4nQpJJcHVTEMEnx6ezJt7btxEkJd5u34azd29lmjL56xPzGTorwvaYWFb37aEjONlRsh9mAZh16ojTE5xbtsBetWrgkFd9koNBEjkfOQJnhw6wz50Ls8USSIOR3jRGICrpN0y1aikfPYeY+4oXR9u2ZqxbJ+WhEuH1uhV4ObJvHyp07ap8B068/z7yjRihfNGk7zlzZkKpUl7s2hWHEKkvW7IkEBvrC3Ww2fDkt99g9NdfJXNB36oFlRag7+UPsabfDtT8pJxiyjp37oyje/Ygl99v4eDBgyoJsgCJ6i9H4O4NJxJyFYP92jVg/nwES8UI7Sdl6lQkdOiggA8PcQHTa9bY0KNHKL5HR7TsYoPrxg1k3r0bdQAcBtCpWzdVsk6ieXPnzo3GjfPg119NuHnzoXqWzKGUwBv8kRfHTtjggW+dGeBF2Sg3xo51ok4dp7ouc+ZQvPyyG+vWPVVAfu7cuRgv1S0AZPfT7vaiRfF4zx7Mqr4Hk252xMnFp/BC8xfUmo6LM2L4cBNWr7YgJcU3OAuceBU78XnVNSi+c5ZaY64Ll5D5pRKIND3BxSeheBoXh/v376vqIXKoFypUSPVdAPTWrUFo3z4YffEFPp9pgqFnz0DgEPeetEOwYR4+HJYvvoCnWTOkLFumxsW994y59MwZ39qUuTh0SKU80qOACezIqHPf6kmRCbqoWBEEETymV/ZcDx4gpEMHGA4ehDdPHqStWgVUqBDwbSQQ4v7TGTDpJ9sR3zcBljSVSjtkErnnCSb1/KFULglW9bGROeQ+5zUE2/QlpByirCM4lv5xjnRGTwd8/FyXc3w30m8GfMhntFJQ3vAendWV9ZLBAP7RafHP+CwDAD7f71n8+BoBEPB3xz+U/1sAUMosjEw/XSzBRaAjwio9aCLQowZNzVwEpO6ITeGsO1XzWfIdmSsyBzwsKGBpvhHBpyd0plasAzseFEwcLcKYwl2u48Eg9/L/0hc5NFT7iYkwSom3CxfgfuMN2Bctgi04OJAwOb3pjAea7peom8j1MQcOhPh4WKtVg/H6dThGjYJh+PDA3Ep/VTTjoEG+nHxRUSo1R5qYi20+nM7DQgehCuwmJiJUojml+se0aXD16qWunzbNhBEjrJg6NQXdu7tV0IN3/HjknzMHT0qXVixhkH+Mx4+b8PrrEWjXzoXFi70wjBsHy9ixKp2MsKH2Vq0QP3dugD2SMTGHm+nGDRwoNxCvYxv6vh+PUWM9KkehBD1IFYjFLhfytmmjomAFAMrcFM4TgmB7HG71HgPn559DkggbLRYEvfuuqiMrNX1TZ86E5733AkwQD9RNm4zo0CEM09EfXafkh232bFivX8eLAGqK0+t336lDUFwZ8uXLhxo1IvHggQlPntgD6XXU2l24EOaPBiMGhVX6mAIv54B760/qnTPfXGRkVtSs6cHatQlqTKtWrcKwYcNUO/uF3ZUqNDYbku/exef1DiD6RBMcHP4jyg6tH4ioZcUJ6/nzCJFKMtqmS5OCwS1bYvVqyb0YjPEYhn4ba+Dhiy/i5MmTylwv/ZFE2JLwu2DBgmre8+QMRnjqQ9wpUgvJJ07A5K/dK4+mKTLARqWkwFyunIoSd//4Ixyvvx5wN9DZeMVIffFFoFSc5/hxJBkMAQDONa38+PxrkmCG+5nslL43+Z2+v+WzgDuH0wljjx6BCGHZe6aWLQOBIfR7I3ClTOL9elvyGeeb46eyJ/srve8cnyGfsxYxXTv0wBPKKsokyjbKGA0lAY4AACAASURBVM67Hp2sAzTl1uFPWq2DQsoGKlIyVsoyXVGW6+i2QmuAPF/6TdO09CWjFvDzDQD+3d5nAMB/dwb/uvslaEO80Wv5CRP25P+WCfgPGUBhHVjfUoQZwZbu06cYAr9vDYGR7p9DRk4XgBRmvF4EGhNK687Wcg9BFTVg+S3/dMdo+hyJIBYAJ0JRB5Lp/WlY6k2eL+1KugS5R7F2TifMTZrAeOAAvLVrw7NpE5xaAlxq/mTx6PNDzV+fo0AQiR84y73KdCfRlO3bw7R+PVwNG8K9di2MEgwitkmamlatglXKsWXOjJS9e+EuVCiQvJf+jGQ2yWbIvZYhQ2CcMQOeOnXglGTV/jEmJqYie/YQ5MrlxaVLKXBdu4ZM1asr9vHJjh0wRUUF8pM1aZIZx4+b8euvyYi0xiKsTBkgMREGGUdUFO799BNsISHq0BZTqIyT85Fj8mRYZs5EuNmO4EwmXL0a72Ngt21DxDvv4M769UgqVkwFgsh9GzZIPsAwfIgZmLj9RSSUKePLUffttwgfOBD2zp3hrlQJbvFXe+edQGohso6SfqZg/gi8iF+w96cbyNy6tSqfd/KVV5DV5YJ9xgw1p3K90ZgFpUrlRJkybuzfn/xMVHpIo0YwH5Kge9+P12rF3QsXVP1lKjd580YgONiDa9cS1eEqVVGkTF3b9etx8JVX8PGpU6qix9Nr19DydRv2/5YPD3oPRdiUkarfBCcKlB06hMz+gBNpT6K+BQymLl+OKV8GYdSoUOxEXVRrmxP3J07E2bNn0bJlS9U3YQClHrOwmsLQly0bgie3U5HgDoNj6VI4/c+ln6rcQxOjYrB++AG29u3hFQB+7hw8fpcCAhmuQ4ukOGraFIZt21QZQfvXX6vncF9yrRLA0SLAqFuWPuOepJuH7AM9QIrPkXekGC2xu48erRKpS4Swe8oUoG9fpXDQ1YPsIq0OZNe5N3RrhYyHTJoOFOXe9AygbgUg0JNrGGhC5Uyeoyt5Mgb6D7Itgk6dPZRrdFMy16Y8i+PjZ7yf4E6ew7Hw/2QadQWX71v8kTMqgfx1h/hf3XIGAPyr38D/vH15Z7MAtAKUFUtP7aLkgpQ+BSABIJLmRX7ESU8CRdIHgbQHsMZ/jXibX/7fBIHIASNCh8KdGrQupCj4CAQ5bGr7NBfpJg4KPLmWWroOCHVB7Tu8fTWA+UMzNA8TdWh7vQE/IfoYEZywZBLNRgSd7Js61BwOWN5+G+afflKVCjx79sDuLylHszRNu3pKF7mXlQM4Bl4n7fAg5qFnnjVLATVP/vxwSzm5zJkDzuLKP/L0aQTXravquDp//BHuRo3UYUOgR2HPQ5CHgvnwYZikbJqYSc+cgduXBDYQxd25sxkrV5rRrp0TCx83RtCOHXD076/8G3mYff55EMaMMaJyZQ+2bUtEyKRJsE6cqPK1SX/uf/897r34ot9P0BchTgBgj4tDZMWKMMTH4+2mj7BsfRaVbmbYu7cQJvkLnz7Fvd27YfODTbfbgiKFjXgqPmx5SsN06Thc/rUW0bYtbLt34+nSpSoYwezxQLI0ygEtOfMEZJB5apTtIg46X8bheUfxSveqcFSooPzX3KVLI2XTJsWmyvg+/DALVq+24ccfk1GnjiMA/tNu3ULE5MmqTF2mjRtVZK6zdGkVdRz30ksKZMn7HjgwUiV13rw5SZXFk77IusrXqBGSSpZE8NOnCDl4EHe37Eb+JrVR3HMJ55sOwdNvvw24ILCijKT6CVu5EobwcFiWL4fjm2+Q1ratmtf58w3o1y8YS8zvor3lB1w/eBBpFgs2bdqkmFQZd4sWLVTJP1lfxYqFwZnswJOkIHheegnuI0dUXWhZF2SYCLJUKhGPR7Fqxi1b4B40CO5x4wKgRPcbVHtI2pPUMA8fwj5/PowCBKVajUX8Gd2BHHhkqugTRyWQ7dMNgrn8yOTrrDllC4GiZcUKlS9QKrsIk50qlURkHfoDzQi0REnVfQ25TwSAkuH/I+DF9thX9p3AVfrMfcdrpE26r+hATq4lq0eZRFnAfapXFqFJnnKEAJ2ykHJOB5m6yZtKLNtg36n8ytjEBCyKVkYamP/5Qfx3uCMDAD5/b3G234dP2D8995+kcpG8gPIjaWCGpksDE/UHaWAa+0GhZIAXUCk/YkL+Mz8qCEQYQHHSJ6tFIUPwRqFPMEZhRDBGwMbrdXMl2SsdyFEg08RBEEchSN8XmhxpxtHBH/vIA4+gUzeZUrNn2wp0SXLaAQNgmjtXATPP/v1w5cwZOAB46HAsci+BXQCAmc0BMzFLbRGU8lCyiX+egDRJv7FvHxyScNgP0hTQFabtlVdgvHYNrmHD4Bk1KsAMklEksJa+qJJbUic0KQlBEixy/TrsX34J57vvPpMexvfSjXj5ZSsuXDCiAG5icOa56HzlYxjCQrBhgwWjRplw+bIBkZFenDuXjKCUx4goV049W9g/Z926uD1/vmKFZcwCwgSMiT+hgKTQNWsQ8eGHsDdsiLjFK1G2bDgePTKgbY6dmP3oLWRFHOLOnoW1aFFs325At25BePxYch0NR/8PkhD/yScKKIkJNU/58vAGBeHyvn0IihDmzVeij8CPayS70YhbRVrgJZyBzerFMUd5FK8YBOvJk3BHRiLxyhV134QJFkybFoFChTw4ezY58CwBMgLiZC1HfPIJsq9YAfuLL+Lp9u3K9IyQEF+Sbq8X9+65EBUViUyZfPNjNifB6HAgskgRFaGdIpHN69ahQqEnOHsjC1aiDd4oegapp08HGCSyPEHiz2ezIcuOHQjr1g3Ojh2ROHOmAlQyJy+8EIaXs1zD0dgSSJwxAw8aN1asowAE8dOUd5A3b1789hsQFRWMeq95sO1eFAwXL8KxeTOc4gPqZ/50BlzWivTBcfkyQl5+WRA1nJLupWTJQOWP9AqflIoLbtlSlYqTQCVD0aKB6FM9ql/uo5+azpQr1wQ/mOL+IUPHz3VmTzelYu9exVYaYmOVIuRZulTl4uQepqJFoCnzQzlCVprgimBTB0/sTyDq388W6mZsss1sgwFPtGRQOZbnyrsR4MXn6mXcCAT5bMoN7n9dHhG8k5EkqKRc0a0s8jwmwCZDK/eJm4eskQwA+GeOvL/fNRkA8Pl7p/+iuJ7texcAi/wfMRF0D3+AyAF/kuer2i1MBC0soJ4I+v6fnBIFACWJrBzwekADhSDr/NInhyCMWrkIIFao0DV2nQ2kdi3P5HMowHRhSIFJAUotmawggaG0I8KXkYM0CevmET6D7BEPKkyYoKIvvVmywLFrF7wlSwZYDhkbTT/yLP1w0EEpDzMR0vJcEcoCaAJtPH4Mc+XKMPz+OzwzZihWg2NQTIDJBEu7djD6cw16N25Eqnwu5d38CXlp8iH4lt8KkEkev6+/hrtBA8h9spDIGEj/yc664xPRo8ghrE5tAhek/gOXnC/XXO3aHqxaJRUODLBIot7Jk5U5VEzFj37+WfkjyvzqyXcFhMo4MzVqpIDXkyVLYG3eHPHxXtQu58L1p1lhgAeFcAPWonlx/5EF8fHi9+nF2MiZ+ORBf6Tt34+0MmXUWsPy5cjRrx8SmzZF3OzZavxkmeXwpflN/h9x+jQi27TBknLj8O65YfB4DYgy/YKe7jnIjkc42ONbfP9DGGJjjYiMdOPcOUkNFB8AdfRTE3NZrmHDkGntWqRVqICnGzaoNuVdMlelAIvFizNh2LBgIVkxYEAa+tY8jBwNX1Pb6ruSYzD8cmf8jvxo1cqJNXtzqdJ5D65fR5rHo1hiWbvcA+KX6Lh1CznLl1dsbfyZM4HKE7VqheLcOSMueUugaPVI3F+5Us0751r+L2uxQQMzDhww48SJNESdWgJLjx5wv/oqHBs3Bt45wQj3lvRVuVRMmQKTrPnateHculWtBKYf0s21iv0eMsQXPFKhgqqC4/EDyT9iAnUmn0ocwajO8ummUvZRruN+CYCnX3+FtXVrGCRCuFw5eNatgytXrgDIYnsES7oSyD1JwMnf3A/0t5O+kP2kcqezflTk5Ddlkw7k2CblC0Ed5SLHxWwKNOHK8wL+j/70UGyfijeVWTKPNHOzDQJReZb8n2BRZKEEPmUAwD956v3NLssAgH+zF/r/cDiBUnBZpSyZ3R5IukoBR5MOBZxu+pT/kwnQhZYINoIRmg5ZFUNn6Chk0wtbgiU+k/ORnnnk5zzwdABLMKjYNqPRlwZi8WJ1cArjZN+0CR5h0vzfy29WOyCjyYOLJl2OiUwLD3iyLYrBFCDXvDlMO3bA1bo1XEuWKDMdAaU6iKZPh/XTT+EpUAAO8UfLlk2xGcwlxgOB5iayBN4dOxDcrJnyF0w7fhyGfPkCASXsK8Gg1Hy1zpiBtIZNMKnqapw+bVb57UqWdGPYMA8iInwspuHJE9hKlVJmUcX+tWuHtG++UfPCiEcBI2Q2zefOIZfUCC5YEPf37UOmLFlgOndOmbJ3OWtiCCbiCkrAFRSmwFPr1h6MaHcOBV6rCE/hwkg6fTowH0GdO8O2bh0S5s3Dg9q1A6CE74EO8LLGIhYvRuS4cUjo3x9XfjGj/46WOIyq8GrhFaGhXjRtmoTo6DgYjS7FavPAlzGQucrcowdCN29GWrVqsG/erJaR7i/KoIKlS4MxdKiAOQNMBg9CvEmwwwYHbDDBha5RR/D5vrIIkQCLI0cQd+AAJDpYr5tLE6D0I0edOrD99hseSb7H4sXVOz9+3ICGDSMQghQc9VZGwTPL4ZX60/6a0LJuunc3YulSqyrrd+CAC560NAS9+KJSMGT9uMuXV+NkQIPO1ilAJqxcxYowXr2KVHm377yjxkywQ2AhzxATvJSKM506BUe/fjBKrWunM8Aa6tfKmiBrz73B51Jx4fi5VwnUdABF0KhMrbGxML35JoyHDqkawpImBi+9FAjS0U3AuglX9iAVCO4fyh75rSukBJAEUlT8uIcITLknyUbLvMr/OQfpzbZUIHQTLpk85gaUe3T2lIqeDjz1HIOMUNZlEFlxUTRkLEqpySVx9xm1gP8fnp3/NU1lAMD/mlfx3HUkAADFh0QAILVeCj9dy6YplNq1zk6JoGPuO7IXBIIyKzRr8joCIppZ6GdD0CfPZvF3moEIFJmmgswifW7kXkZDyndMCaFYh82bYW7dWjmeu1etgv3111WfKOxpvuIYGSlMc1IARGpJdUX4yvWcIzVnkybBMmYMPEWLwnX4sApU0IGjWZLhNm0qVCPsO3fCUrWqAh80P8kzOE6dARCGyVi+vEpXIwBNElUTKNPEFGBkzp9XdYIlD1yypIcpXFgdOgSSZBRUx4YNg3XaNHjF6V9MzSdPSvRB4JBjG3LIyGEU/vHHCF22DAmffgpX//4w2+0IlRrEV3ViGkiKj0dKWpq6J3TaNFjHjYNr0CA4R49Wh2hqbCxyR0XB63TizqlTMPiTast6kPGTuWUQUKZBgxC+YgUSFy5E8LRpkNQ6CQjDNjRAPDKhwMDWqPxJDZU+hWyp7p+pKyLZ3n0XNvGLrF8fKatWKaArcyfrQQcLvsMXWLzYisXRj5D42IFgpKIZ1uMzjIGhRSOkLlqE0AEDYFm0CPHffou0Jk1U/6VtmW+aHOWzyNGjkWnpUmXqNXeXCo8+hk5S3LzXxQwvDCid/SHafpgFWbIABw96sWGDBCYYVHUQVUbP4suVZ/3qK5hkPv1KBt8TgYSuNKl1sWsXrI0aqfrWrvPn4QwLeybnH9e3Ao+XLyOoWjVVKs65cSM89eoFApO4pwlcuKa4BgmKpB+B3H9Wa8C6IPPCtuQ3/ekIDNXalMTu770H08qVygws5mBHgwbP3Mf2CMrIwCs3Dwny8v/m/qQPHveWPl9cG+wb5Y0OUnW2kLJKl5UEaBy/rsTS7E25SdnErAJcc3p0sswDgTflLGWnfEeQKN+JvM3wAXzuzt7/WIczAOB/bCr/cQ8KAEAxU+lghuCGpjN+x0NL135FYMrBLRopDyAKSbJlNLvoPj00MVJzp7ZLRoDgi9GGullWrqGTOs1NFJTK7GWzBYIChM0wS83dlBS4vvoKrvfeC7xosn3Ms8XDmyCJQpmHAw9AuY79lt/KBLZtG4KaN1d5+Zz794vT1jOAWuUcrF4dhkeP4Jw9G+jWLcDg8bkEvgQOBKjmnj1h/u47eJo3h2f1anj8Jir2k8DRKw779etDAkWcAkQHDw4kk9bfiTIBPniAoNKlAQFA4i/2wQdIi45Wc8PnkUFTEZ52OyLkercbSZcuqXJu3hs3YLhzB7Zly2ATvy0pGeJ2I+HePQVsBQQEVaqkyt8l7NsHS6VKaq2Yt25Fpo4dkfbaa0hYtkwdaHKQSbvym4nJqYiE1a+PkHPn8PTQIWSRwBm7/ZnN6hw4EMmffKIOTc6duCbQjUDeD031oU2bwnLwIBzNmiFhwQK1VqSvBA6MGOUhLt9bmjSBebek1/zXj7NiRaTt3g3DjBkI+/RTJAwciJSPPw6YZLmWmJvStn49svbqpYJA0iTXo3/dyBPPrI3B0I6PcAA1AjkKxWyfPTvQo4ewtg6Ehvoj2AWsJyXBWLiwMj2nnD4NU/HiCvgyJRL9GWUMZFQtnTsrUCVpelz+qGkCG+6DgHKwdCmsko5HAOOJE3BkyRIAyAQ0ci2BDxlIed90BSFQoQzh/uRaJ0tP8zHXnFLYJE/ouHEwScUWMduuWAFH48aBdyXrhQBNZ8/0NU55ofuTcj+xbVokKHN0gErzMQEiGU/6AnJuddCns4dUTPVUMDIX+ue6Uqabgtl3so0BK4B/31N5leuk/KJUwclgAP9x57cacAYA/Ge+9//EqAM+gOLUTCZLPwgJ3CgEdbOJbmoi+0ZhTiZP7uNzyRrwGmrCNJ2kN6FQyMlvCnHdpya98CY4lc8p4L1Xr/qqfDx6BNcnn8A1YsQzwRZkLXWAyv5RC+dBrZtxRCDzQJPxmR8+hLFSJRVF6fr6axi6dg2AKD5bcuzJgebq1AmeefMC95PNUJtZq9vK+7B5M4LeeEMBrpRjx2DOmzcwp4oN8rOvCtQJoOndWzn7K0d+rRYs54uHvWnIEEjtYXf79vAISyM5ALNmDQAYebY8U3yMBARZ585FyLBhcLRrh5Q5cxRDK310OZ2IiIpSOece79iBiKlTkbRkiVqf5suXEVG9OjzFiuHJgQOwBQVB8k5mHzYMYStWIHbyZLg7dw6kTyGTw7lXJjSHAzmKFFGCLnbvXmSrUgXuwoVV1KjKc/f22/DGxyPpu+8Cjvnsu/SfPn4Es5kaNIDl9GnY27TBk+nTFUjl4cvDXdYAf+T92woWFI1D1WB2ligBy5Ur8GTPjqeXLsG8Ywcyt2+P1JYtkTB37jMmQoJgYSYz2e3IJEAtb16kXb4cSDhOoBH82mtIO3oW+yfuRcIL5VGsmAeSl5vgRNYblR0F3MaMgXnCBLi7d4dz5sxAyTe+X33vqX37++8IqVBBMb2p58/DJOhSK6lIRotuH1Iqzrh0KTwNGsCxdi3cfmaWriL6WqV8kOeReaeCxHdBpYk+dwRbNL3qIIyKl3fxYtjmzlW+i8YsWQK+b9zjNOcSjHLPSBs0tbKfulLLNimT5H59bgmE+Tz5jvKIiml65ZbygOPUZYQ8T9YCn8O1qLu1UOHQQSh9NQly07OV0oaw8xlBIP+J4/D5fEYGAHw+39t/Q6//EACKkNFNqTogIgCkg74OCCloRSilP4R0M6ku8Ol7RYFOXzMe3NI2zbIEeKJRy4EqYEE3UVP7ls8CJp7jx2Fr1QruZs0U+ycVNhjYQAZBAABZDf2woHCmTxhNshxbgHEUn6zGjWE8eBCed9+FY+7cfwFQv8auDmMZwMKF8LZrB7fVqsZFHyGyJARpBIWex48RJAElwqh9/z2crVoFgBcZE4JtU1wcrFFRyq/Pvm0bTHXrBlhQeS4BuxrX/fuwCLqQIJbz52HInz+Q0JvjYwCQ8gW0WhFSuTLM164hbc8elbOPAB6HD6vAEHfFingkAS1xcfBYLL6I4UmTEDZ9OhIGDMDjDz7wRfna7chdsSKkv3dPnIAxVy51sNPsywS60q4wgfG3biHz0KE+Zql9e2R9+22ktmiBoA0blD9kUkwMgn/9FalFiyp2kXWaddOa3Mvaqtnq1oX50iWkvfsuHo8bF2C+Cf6oiBCQ21JT4ZXUKCVLIqxDB8XgWYX5e/QI92Ni4Lp9G/lr1oSzTBnE7dqlFAxGitLsx7UUJpHfly4h+exZNf9ksdWanT8flg8+gOftt+FesEDNCdcB94VSNvy5JD0PHiBY/DclUluAaL58AbBLk6rOLCtWcNs2eMR/MHdutUfSpxnhOhEW1ip5DKtU8ZVtk3KDkkrI5Qr4zXLPEKzpTKoeNCLzqINX/i39SQ92+A7Yf/W3pIbyB28Q1PHd6HKG//8jZZT7iywewS5lFV1UCN74fK4h/k0Qyb/JrnIPkoGU8ZId5VxQ4OsgLqCo+lNb8Z3wXp3dTG8hoYyWqPEMAPjfcJz+NX3IAIB/zbz/HVpVAPDevXvqsKYWrQtX+s5QuFOAykFL04Zu1k3P1lEw0meFApcCkmCQDAyBnw5uKPh4IBLgkUkgA0YQKfeSGZMDBLduwZA3L1x+hk032ehmF7IABI9kLsgyEPDpgFi+Cxo5EqapU+EtWxbJO3bAEBoaCPqQ9smUcUw01RGAsj19TsgYWLt2VdUS3G++Cc+yZQFgrgNFLkRLnz4wLVyoGDqnABZ/7j6+AwJomU/zoEEwzZqlIpTNc+YooKgDc+kLGU8FiLZuVcmX3eXK+QIP/Gk01PiGDlUsTfLo0Yjr2lWBBFlPqSkpyFW7NswxMbgrQTHFivlYqv37kb9jR9irVEHsunXqoOTBK4ea3M8UNAQCwkJKn3IvX46wkSOR0qMHQr75RgHRJElw7ff5VO/bHxlNtwW+YzJS2apWVX2K7dIFsSNGqLZomhMmnIyhPJMASflrnTmDrHXqwCFmfIlSPn0ad/btU4mWc3TpAm+ZMogdOjRQK1n6Im4RZJMUuProI5iF0ZozB6533w2YbdXaSkyERZhGAWY3bypzOpUfff8R6Kg5Ez/Mr79W/pXe6OgAqyxt0eQtzxBQrYNJzgnHyLVOYESGynrunK/coIC4/ftV/kGCNu5pgiuCTX1Pk0mV9qhQsB9yH5USvnOCf5l39oUMafq5oJyiGVvWjsy3zCWDPtgntsM1oe9Frgv6yeogT/pPn2NdPshzmX+Qz6bfIftDoMt9SDlCsEmlQMkQP5su/eZ+0Pc45a7uisJ+iiyOjIyU5jIBkHRgGT//oBnIAID/oJf9Hx6qAoDiQyKHoM7C0Y+KBwWFFQ8GCidqyDSLkKHQzS18RnoTEJk1GRNNHTzwdWaPgv7/Y+88oOysqva/b5mSUBN6kyYgHaR8gIAgkFClSFGK8Kl0AoJKBymBEBAIBqRI56/SAgHBCIgQ6aGEFiESDKGFbggpM3Pn3vmv5+T+3u+Z13zfEsIimeRmrayZufd9T9lnn72f/exTqJN1MRhx3sdAw5a4AcV5yDjDInB4LG3W+zAQGH3AJmX7OqbEYAwbFi17752cdcdjj0X7CiskkEPaGIaUtgBO9LeMPpsF9DnAEhBcHD483SSihfsdo0dHYdFFs/txvT+JPXv22ShusUVixNpfeCGxagAFl2UCgxMmpF2kCRCOHRvtiyySwLyex5mn1G59k4va2rzfflEePjzahg6NwsEHp3akcajVoteqq0bx/ffj49Gjo7r00tlmoMqoUbH0zjtHZfXVY8pjjyXWVmX1PvXU6HP99THlrLPis/o6SOQMW8ImHNUjIKO26PfFTzklFrrttvh0wIBYaOjQaNtjj2i/9trUdjlCyVQ/9T7yVDsB1yprqf/6ryhPnBiTBgyIj44+OukDY5HWn9XTfaTsGHsxgYt8/etRWWGF6Fxzzeh1773x4a23RnWLLTLQi7OHyYEpJ3hpuvvuaBXDpzT6VVdlIJ151SrAr3V6V14ZHfvtlx1FhM67HiV26I03omXttSPmnz+mvfJKNC+6aMaKM5coWzJWezx1SaAB+EFXAGlpbv3616HlAtWVVkoHmpcWXjiNCUxknpkiMEP/YMWwXQA65i3P63M2PqhsAiTeA1gyRswlvcfaRw5IJsgiGNS76BhBAqlqZwVZ/gKYQ17YDBg5+uBBpwNzwK2nbmkLNkFl8hl90d/oMLpEuxlHAgpAbuMYmC/ZK/aw4hoAsIcN2BzU3IwB7NOnT7eT94k0SVHieHAeOEUcAYuWcZ5ywgA3WAYZZ4wXzAqOBqM4szUvRPEwfTKcpM5Unt/36UZY3/lieEAt7XInR/rY38eZENHTDhxa6c03o6j07KRJKT1b1BEq9fs/9QwgiT6RBsOR4ZTcSeAMWyZPjlhrrRkbRm6/Pbp22SU7igXHqPdSGVr8v+mmUXz55ahedlkUDjtsxkaLso5+mZFalUOSLBJI0t3DV1wRnUcdFV26R7ie1oMpBORm5U+cmI4t0bkulfHjo1q/NSUB8Iceil477hht2txx330ZgNSYLHHxxdF6ySUx/ZRTYsoxxyRnJ1ZwmS23jPJbb8UE3RbyjW9kQJNr+mBAlIYkwOAg7K/tu2+0PvtsfHbMMbHAJZfEZ8ceG11nnJGAjXRKY6y6WdeH04RZ0fgspyNRPv44pp1xRkzcf/8M/DK+tAPdEpspmWit4zJrrBEF3Qxy0EEx35VXxqRLLklpaYCDZO1HIzlrnHRLKX0dQC6g/NprUawDTuZV4YEHonmXXaK2+ebR+eCD2TE2Dp6QD6C4RaDx5pujoivVfv7zbD0jDBrj6Iw5gBKGX3LSc8wR2L20YUEAa7fd0tFGYpfjhhtSc5AXwM2ZK0ChM1b+nNsL1YGcAKlkCtQmnz8EmjCWzs4BugGm6D1Aj/6r7bTVg1NAH6wldQC0qWP6lQAAIABJREFUnImkXgeAKaDqVJ5hxj/KYb47YIVl1mdshlNffX0044et5Sd1ECxJ3xsM4BzkVb/ipjQA4Fcs8LmoumwX8CKLLJIdR6L+wcDod09LYDwxQhhSDDNrYvjp6RQcEeCISF4/Pd2m71WnsxKesiKVgtPVd27IAZnOgOl3UmEYTtbfwB6oPhgQZ/oAEb6GTmerFbfcMorPPRdVbboQEKgfPwFb6qkplYFDUvtwwDAMMHqpTVo/pDuEhw+PqnbKXnllAm++ziiBrzoALA4ZEs0nnZTSobVHH41C/To55Ih8Esh9551oFWOklOnf/x7VxRbLHJWnxr2uJh2ePXBgVI86Kqbpmq76ncCJQVUK8uqrY9rgwdFxyCH/cyhxsRgL6tiaCRPis+eei4pSm/qnNOo220R1rbVi6mOPZeMGY4KTVts5EgYZaWfosuuvH4XJk2PKAQfEAtdfH59demmUf/SjBFykc2JDxKDoHdYU6jPJX+lBlbmEGMspU+LTc8+N6qGHpv6zA5nd4IBljSkHjuvdZfr1i9LYsTH91FOj18CBMf3kk6NywgkzDra2gIPAiWADMJ6Omll//QTWO15+OWq6XaS+AUEyaCmXo0mp8nfeiTYB+hVWyI40AVQBVFRmmn/PPx9NG20UtSWXjCkvvhjNCyww07t8PY0IOFHdDtb43AOilP5+990o6/q/Dz6IjmuuSRuHAFq0n/nsSw40jswvwBLzA4aSnyrHN4I5c+ug1xl72sl6ODZqABxdn/IA1AEhwSD9d7YOAKc26B/gj2NcAHbYCcA0rLPXgw3wNLEHlryLjXO7p3o8WCMQ1ZrXxjEwc5FX/pxdaQDAzymwxuOZBLqtAcTIAvpgqPS3OwzelpHEILnB1bMAKRgcwBbGH6eBA8KIsmYOZgIjh0GELQMU+FgC2hxM8R5AlCieVIveUZ3U6+3GSANOYAKSo/7Zz9Laq+o3vxntf/lLOvoFpgJDjYNEjr52ivoAjdxjm8ZAx6IceGB0ad3i6NFRmW++BGB8HRggWozcgptsEjFtWkwbOTIK3/xmtpZPMifNjtyaf/rTKF11VTrDr+v885P4AKPuyNWu5Oi6umIB7fB9992Y/uyzUVhjjWwtWUk7Ub/2tYh//Sum6iq2eopaTrgwalTMt802UVtvvZj+6KNZm8oDB0bLeedF24knRtfppyc9yZ8biYMV4IJ9U391l+9yG24YnV//esQqq0R5xIiY/pe/RFUbFeoHIcsZ6kgj10fYQ8lPYPBrq64ahY6OmPrrX8e0738/64/rKuvVOLJD4FFt6LXHHtH8179G28CB0XrqqdFx4IHRPnTo/4Bxu8saQASzk+ncgAFRuvTS9F6ndtoWixkI1O/l00+P8gUXROWkk6Jy6qndvteDegb9ZxlDedddoyQGVusBf/jDbMMLzztjBqABLAFcWfPprCU6m4KIOjup5Q41nRe58srZkSbIH9YcsAn4IcAjJS5ZcF8yANCzAaQ9mf+w5w6m1H7AE/ZD84fsAOXlbzMChDHXAVk+Dm5v+NxtCPNP9RFQqk+qS8Fz2kRjQRs2wO1ZFtjUmT/aQ9Chvnr/PWBm3PW9dHqxxRaTCBprAOdB594AgPPgoH9JXc52ActpEsFiaDD+WSqwfghyHnQRtXqqI2/USYvxrBtQGCoMNkYdVhF2hXV1ACyYBQAf9QPEKAdHQfkYfDewOGmecYeiviCD5ARuvz2aBdD69In2J56I1tVWyw4TpuyZsS0YeBgcf4bftZautO666U5UHV5d3W67JG5PLQHaEsCrM4WVI46IGDIkPQvb5OuZksN47720k1UHRLe/8kpUF1kkO3YGsOqySaB92LDotd9+Ufv2t6N9xIhUPqBSKcHW3XaL6lZbzbhZpX7wsVic8vHHR8tvfhMVHQB93HHZYn8xVaWXX45pOqdw9dUzFon0HcFD/kDv5GT/+tfou8ce0aEz+caNi6KYOKWkF100Y8nYzJKYtjoYU58EbpJTLxRi0SWWSDuyPx06NB0FAyBAv9glDjPmDGovrRm86aZ0XmLrKadEddttY8rtt2cMNiwRGwTYFOVryQrDh6d7b6t77x2VG27IQAxMePuLL8Z8G2yQNpdMe/nlaGppyc6cBGjBVDLWXQ8/HK3bbx9dq64a7c89l3bN+rz1ZQaAG0AJTJv+pt36nfmBbqSxOf74KOuqOLVP92jXrzVz9pj0rmQu2eU3QQFqJGdkzrMEoTDc9E8/1SbSueg2LL/0krGXrJlP+h7wCKgk3c5PQCV91jvO4LpNAATqHQC0A2b0GCCqv/mPPGkHeomeYqf0NzYCORA4k8nAfuqnwGbjJpAvySP2wGIaALAHDtoc0uQMALJbkaMycPQYT4+OYa9IccgI4Wx8vQ3OHCPG+haMGYAIWeTZN1gLj/IBeRhdvSNjy4J9nDag0BkMUrjuDCmbtBVOIDEx9TV0OJMEvMaMiSbdkjB1alTuvDM6+/fPDLyDJ/qSpWnrDlVlALA9zZacscDbHntEUcDvxz+OjqFDMzWhLcgwgeO//CWtzaottVR06H7Zvn0zRhYZ63mur+p97LFRvvba6DjuuOjUmX915sHTrw7EEmP13e+mA5Dbf/e7qHz3uwkswRiWDj44yjqa5rLLInQWXf3KMB1L0nv11VMas/3VV6OyzDIz9OONN2I+HY694oopLawzAXmHMaFNcub6jgOh9XevG26I+XX7hdjXSy9Nt6lMf/99HZ6Yys+zRJKB+qbPpdcJYLW3R+8ZbEm0XXddVPfaK9tkwkYYhO6BBE65+stfxvwXXBDTTz89eumg7VVXjbbRo7sd+M34Ahz1rrPHvbSBQne3Lr54tP3zn1GoM4A+H1p1duWTT8b0e++N4jYz7iAGKDibLv1NbHmpFM1bbRXFUaOi4w9/iJqAuV1ByJIKyoH1Zr2jg0E9o7agn26rdKt0bL55FJ99NgH7wvnnZxuZ6LcHWoA9/+mBHiy16iLIIdvA3EQ3VDW/0zY9g5zpGwETnzN3HFhhs7ATnjXgd+SALFyfHJgy16gfoArQcwD5fwWaGhNsHnXlg2+XHfVOnjy5kQKeQxzq7GhGAwDODqnPHXUmAPjuu+/Goosumjl2B1wOVhzMwBYCetwIy5B5OtSfITVHHc5GkG6jLA5pxlgrQla0q7IBpDg5DYc7HqJtNoFQH4ZVgEBlKV0DmwCw0TOwA2pvxhhMmhS9ttoqCn//ewJRoUN4tRO2MON6LpgD/gY44tj0PW2kTH0Hq9D8+9+nK8Jqyy8f7brCrX6XLUBbQI7bLbqmTYuWDTeM4vjxaQNKTcfE6C7V+qYCnEM2TuPHR8u662qR1Qz2T3f4iuGrO1BYMNqTUnWvvx7Na68dXUsuGe266k3XhNWP7mj79NNYUBtDBITffDNqffr8Tzru0Uejd//+Ud1446iMHJntdCwNGTIjbTpgQFQGDcraqzbAMiEr1pB62qv0s5+l42baBw+OlhNOiNo660THU0+ld7nOTWU58MEp83m8/34stNpqafZOFfumMyLtBg2cvfqvctEXQEHrH/6QDtqu1I9fEfisfPJJOhYH562y0Slf38b36XDozTaL4ksvRceLL0bhG9/Iro9DZzgTUGtAO6+5JrM26BDghHmQANxdd0V5r72ittFGUdHxNPX0PmwhQFipdcbe5xHPsUFLdaAXsPEpQBo7Nkra/DRlSnT88Y8R/folWbGBhH56W70eDwgdGLpJZQ7lwZPbGQ8aPAuAneIn80tj4gwjn7uOeH+xWwBPB+CMsQeJAEzNUxhfxhPgRyrc6yYIglEkiHWwS78Jqn2JjJY9LL300mpSIwU8d/jlz9WLBgD8XOJqPGwSyBhAASHSV0TX+pkO7q3vbAOsAUgAPAA3drZhnDxy9ncw1hg8/s4DOCJoWDzaTbkYcxwbNxRg0KlTP50xdMeg3znPMM9+ObjUDtDWww6Lkm5G2GKLlPIs1EEC6yCdwVEbJAdnlfJtAFyo3qb33ouCDnGePDk6/vzndHWdHDVrpgCYWartl7+M5vPPTynI9uHDE4uUT+N2YzMPPTSK118fleOPj47TT+927Antog5AY/OJJ0Z56NDoOPHEiDPPzBihJNcRI6J5zz2j2r9/tN9xR7bbODk6gaMrroi2QYOicOyx2Tqx1u22i+Ljj6c1k52bbJKluXCsjD/ghEACfeq9++5RevDBmHbRRdH7uOPSVW7FO+5IDCdOmvSjygJcEBykc/HefjvmX3/99HzHbbfF9O22S7JQuymDlD/yYDNSCl5GjozWXXaJyp57RknH7ehg7LffTgBY/9BldqrD2DI26GTp5z9PLKZu8Chrc019rLMU48cfR+tKK6UzAWPixGjXusr6ZieeUdmcx5mYTm1Y2WijlBrXzRlK2wM8ADP004M82FPkjgzRZ5hzD0Tmu/POKGoZhO4Qf+qpaFp22W7HCAHqmatuK5y1I1AEnPEd7fO2AJTyoFX6gbyZU6RwAVMae53xKDnRNuYtgJT1i2QZPK1Nu5jXqg9m1xlK5Kz6aRe7nPU8c5JUO+OjcnmHutAdlx3sIkGwnvn4449jKTHKDQA4Tzr3BgCcJ4f9S+l0AoBvvfVWWkQMa8YaGtbeyahhqDmgNYEWXT1W34mqnzKoMmw4cpwaTsAjbTlEImV64oup3WHioGBk3LFjvPPsAeARMAuIxFEAHjG8agvOEcPLYuzkGH/72ygfdlhyeNMfeyyK9evYnO2jXZ5SVZmqizPqYABIuelZ3bJR2GGHBG6qRx4Z0887LzkKADllkCZrnTAhCmLzdDuCzt5bccWMEXUwBbMlxqZZz+sYl7Fjo1jfrMF4e6oe59cxaVIsoFsmPvssOl97LapLLZUd1pzYy//+7yjfemt0/Pa36eYKZKdbPub7xjdm7BYdNy4Kyy47A4h99FHaMNK16KLRMX58TK0vlpf8kA16A9AABPBzvtVXT7uYOy66KJoFAI89NmrnnpuAEXf+Mu4EK+gFZXSNHh0L1A82nnLrrVHcaafsCjXKQe4AxwT8WFf2+uvRtNZaUd1kk+iab74oP/hgWgeqW0BYRsB1dgAD6uZ8N5Xbct990SQAvddeUa1fm5fXZcm4ePPN0a57o3/0o+ymFr0Pw4vMABa6L7rpsMNmXN92112p+4wpAFLydUaKfqKT3dLVvXplB4JTDoFh1wEHROn3v49a//5Ru/vu6MwxufRHcmFO5dvj6VbPNsCc+XFRfKb61UZOKgDsoYMeOFI3QazkReDJ3EXfYJ35nPYQGNB/AKR+YvNYY4pdcR3CRjqIJMjgecbT5QHwxq4A9hknbaJRG5XJaADAL8Uf9shCGgCwRw7bHNHoBADfe++9bOckAAJDlE9DkArCqAEiHFBRBs9gQDFylAFj6EybO938e/ztJ/DLOALyAIruIAF+OGcYOb2TTyd5nwCgqf8vvBDN3/628npR+dOfoqD1WfX1ZQA10l96HgfBCKssWFL9TrqS/rRcd12UdAWY7rt9/vlor689lANAHji/JMPtt09nsmmHqHaKAuDcUal/+pdA80EHJeay8+STo/O00zKWypkL/z21/6abovmww6L63e9G5ZZbUlkwTgWxKausIooz2t98M7oWXDA7ziV0LuBOO0XX5pvHZ/fem+pKsrzyymg9+uiYLtBw9dXZbQ2sAdNPZ3rZ5chGAQHR3jrcetllo6Kr2C68MCqXXprWStJ2NhIgB+TC2CcgrU07/fql/kwRi9WvXzZenvrMr0PLUqa69m+RRaImxmu77WbcvHLrrdG5007Zncws5kcXYKzoU9KzTz+NZqXtFl88pr/+ejoPUO1ELxOwGzUqpYkrWhfat2+3g61htgCAAJxm9XG11aKgXdu6sWXttVNQpn/IF/AHYILJApwBhNm8ob+Roerj0OyilmNsskkUxo2LjkGDouvYY1P7AVTMQ9roNoIgCaCeAqGWlgxsovd5JpFx8WAR8OtMNmCNdjsIJT3rQA57B0iDvWc81B61UWPrS0aY/3oOe+YAErCtz9i0RhAoOcK2q15nMbGR+hwgSCBN37Evn376aWMTyBzhTmdPIxoAcPbIfW6oNbsJhCuU3OB6BIpBlsHCAeB0iJQBUBhJZxqIWmEQvWyPmlUWV1jpGc53cyOIsdazbrjVHgE8B4WqFxCh3z0lByjDyMP06H2cVklR9sYbR+Gf/4zaWWdFhw5RrgM6gC59k4wAozgSDDx9xAlnch4/Ppo32khbGKP60ENR2WijBGhoi7OJOIDiiy9G+aKLov3yy6NUPyIGp+NgJzEhr70WTeutF7HAAum+WAEJwCuOxB0hY9f0rW/NWOg/YkR0bLllluJNzv2uu9LuY4HDToGfumNMqcmjjoombTS56KIoDhjwP5sw9tgjSvffH5W77orKttv+G2iFdQK0qk0AFP1sUZ832yxq224btQUXjPIdd0THiBFR22qrNA8BEuoT40qZAKuUNlN6fdddo9a3b0y/8840toAFgCQyZwzyhw03CbhNmhTVk0+O8tlnR/Wii6LtkEO6ran0dB/lOyBKbVG69vnn0waeLu3Orm9ycBaIz2Cu+Ftto8/oRcY8XnhhtAjs77VXdN54Y7bGEYACI+lAGQCmn4BxfrIuTn97oJP056mnomXrrdNGnM5HHonyxhunZxxcksb1TQ6ANWwEoJm/mUsEMqxPpM2elYARZLmKM4HOCJNmdsbbARp6xIH1+pvd6CxH8CCWOcdch/UjRQ9zx/fMMwIVDxSxJcxNdJDAAzafI230Pf3RJpAGAzg3uOMv1ocGAPxicmu8FZGtAezbt2+2UxGjC0OGM9bfOBmYP2dKYBJgPIiiMYSegsobRxltdipi9GBkACWJwamzJKoDxgDmL5+igYmA8cDAY8QBboA97yfGveuzz6L56KPTWXeFe+6JSn1nJWUBfnlXfzsgAnDisNjEkj5XKnX77aP4yCNpU0F10KCkk84+wMogL7WZc+3ybATgB+YwOY16GrF25plRO/nkBAa87fqdMcwYuKefjtYtt4za178etTFjYkp904CChLSuaf/9ozBsWHTedFN07rlntslD/e59880z1hrefHPEEkvM2GSiw5l1XqBucHnrrSjajTCs28QBIi9YFnRBDGbLIYekw6gLOlfw+edj6pgxUVpppdT+tAaufm4asvZgQuXp+9a77ormH/4wpdqnnntuljpPTGl9NzGMEm0i+AEQlgXcXnwxOgYPjmYdAn3MMREXXNDtTDrVB4PmABCjkwCijlTRAeJDhmQHUjM+tIH+ewBGyhOdI7gAaHRNnhwt2qAzeXK0vfhiFL/+9X+7Vg2gATPGejgAoDPbgChAG/Mn68vFF0fhuuui8v/+XxTWXjvbKARI9TSnM+SwhTBypNn5m/rUJpgwQDpyAhgDukitzqzNHpQpyGRHuwcA6pPq96sg0Q2VTT0EWtSDLSF400/sly+fgbnFbjCumb2pXwXH8hs2i3lwSSBB4KpzABvHwMy77rwBAOfdsZ/VnmcMoM4BlMHSPxYj40i5WsvvB8Y4Y5hwSqSLZEBhFXgGoJFPtXp0zTocOgaYglnD6Hm0DcMAEMyYsvo6RZUJCCSSBuzoOzYBeLrHDXizdr9OmRKF3r2zHb8AJwy+OwCcNk4LMEPEngENbQD4xS+itvrq0fH441GoAyPed4ZB8mWdmzMcsJXIHzCUWFqlrjfYIGLhhSO07q5+44o7R36HFUqyPPjgKN1wQwI41QEDkvOF9dXOz+bllkvrD3U7RFfv3ul7wDsyJAhIbb3llgS6ajpy5brrsjQaLBl98H6pHfQlMbtnnRUlHY4smZ16qq5jiA6dlVg/XseBN6yrgxlkGVdfHa1iJk84IdpUjrFuLu+ZgbfM+e+xR9oE0/arX0Xrz38e1e99L4q33ZbWMqLjgAoAiV8vB0Dv+uMfo2mPPdL7Ak/oKEBF7VF5MEbOEnHYMbrkrHti0046KZp/9asELAUwnVXUWAnMA76Zsx74Aab1Huw7jL//ncCNbpjp6IiOcjkx8GzacYbdb8FRmbSfZzytyVx34Ejd2AVkhB3yYM7BFHaCcYYtJC0OmGLDhi9DIPhCj/QuaVrAo6eDfd4iI4C8ykpLIepLVgCy/pP+ApIpDwDKu4BHALbWAjZ2Ac+qK+y57zcAYM8du9nd8m4HQTvjB+NEmgmGTsYHB0Z6hFSGfnKvJZEtHcT4wTxg8J0hwwh7VKznARee0sPhw4Jkqcv6Zfc4T94BHJJqAvjoZ7bOrN5Y2qQ/PeInhcbnzkjSZlJVgGUieBw1Br80blyISdK6wuqjj0Zl3XWztWjO5MGSODMh5+MgGlkga4BC0wEHJGBSPfvsqJ1wQrZGCUfmbFN2KO+nn0ZRbJ3kMm5cRP2O6Gwcb7klygcdFNU994zKTTdlmxFw5Dinbunl/feP8rBh0Xb99dG1994Z6+bj7OvvcJqwO+pr6w9+EMW77472W2+Nlr33TufvTX/uuexYDxw5wYbK0Bj4OXdqW+GSS6Lp+OOjonT+ccdlu8OlnwJwXB9Hf32DAXrRpPMUr7wyOi64IJoF4DfeOKU/nekGUPMZ7QIYJKA8eXK0LrNMxCKLRPuECVGqAwTYJcbR2fJ8epNgBxCHXrRNmBC911wzdaPjH/+ISp8+2bE2AAx2N+fZLJ/XHjjxnK+/SzK19bCup+i8g3kCA9oN66cgE3aMPgDysDcEUIDBFBjUTymAtZNc9TvAWW12hs+Xb6gNnFsKE6o6sBn0Tc8BagGFyFB/EzBjKx0IejCKjvq7ZB/URtYI0l4yHMwH9ZUgkLmj/goANhjA2e1KZ1/9DQA4+2Tf02vONoHoLmCYOBkVgA/pSFIi3ZginT1WN46wORgvjCcbHvgeZo3vMaiezso7TxwgbfE0jwNKnoMV0E8cJgyWDCiGGHaDdIs+d3bCAZ7a72DSU3RyOOonuwvd0KMgHtV3ac3cd74TpaefjupJJ4XSs8hbzwNWSXcDVp1BxAHQZlgTZFN+5ZUob7hhRN++6dy/cp8+2XE+Kj8PMnHctV/9KppOPDGqBx4Y0y+9ND3Hs6q/t24euffeqN52W0T9DD0YPJWhcQUo6Pfp2k2s+27b26Pz3Xejrbk52z3uMnGHrb5QBgCsdb31Zhy5Mnx4un1EB3B33HFHqg+gB7jGqfp1XDj7pvPOi5ZzzklrFKuHHZaGx9eG5ZkZ6T2gHmaxJObvjDOiOnBgFE87LWLJJeOzV19NbU5r++q6wlxwIAcAQf9Za9nx7LPRteaa2QYK1zdYVWd5kTXsIO0GCCVAc/TRUbryysQGiu2EnYSZR07MPb3ru6mdScsDWeat6yt6ik4y9wC/6KwzmbzvINQBFN/7HND3jBnMJkGQnoMtx444aON36sDmEcRqvDniBVvhwav6RL8AbAQN6DPjPjPwxzyFSWTesYSBOQ9wJZDkTFQCLLVXqV9lbhp3Afd0Nzxr7W8AwFmT37z8dpYCZvMEToZUKYYZgCKjxj8MuX7CAHlkT3pVhorjYdzJwCTg8DGuMm6ADrUHw+rAxZ0IBtfbhXPDMeLMWF/Es3n2TG3meAkcJk7VnR4MkxtkHAXpNcAQG19gNsoXXhilU06JrnXWieoTT4hCyNg/lcvNHd4vZ13yMlHfWGeEMy99//tR0k0l55wTlWOPTd2FbcGBASxIsyuVV15rrbSrs/3RR6O8ySYZqyWAW9Z6SLGDra0x/Y03ommBBRJg0D8YWIAxTKvup23abbeobLddFP70p/QsANfTdoADHLM7/srUqTH/EkukVHZFrJuORDniiKj86lfddmT67nAHOYxb0jNt3Lj44ui4+uro2n//buAPRpRlCAQ3sMnoQ+EPf0hrK9UGnUNYfO+9mK41oq2tCcBlKd76EUmAFb7zTRItp50WTUOGROXii6N2+OEZAAS8MJ9IOUp2zEUCHJgzdBvdL2iD0VprRSy4YHS+/npU6+l6B6ToDWPiOk+wxjmZpCCpD9YOYAwzTUDA+PqyAAfYDuR4h/mkMcPWwLwyhz3jgG1A5vSdOvPznzKwOdTjwQj6wrpI6gOU+zt6D5uJDSQNru/85px8kIasGWsfF9UtOwLb6cBT9SMT/a5x0EH+jXMA501X3gCA8+a4fxm9TgBw4sSJKZLkmArAAoZGBooUHY7CK/e0Ks8C+Fg/g4N3VgTg4ut7nDXwuoiISYkCtkgpZc65no7SuzLEMHM4XXfOegaHA4sEgwZYwgkASPIsHBE7IIr3ZfjFQAECM0c0ZkwCVqFNL48/HsX11svWfrEmyxlMX/+jsgGC9APmDGeT2Mznn48WnVO32GIx9aWXojD//Fk/cTKkInHSaQweeCBd/VbbcMPoqKc0YW4TY3X99VH8yU/SuX/cTqExBKTAnmrsAb0tAwZE6dpr03Vx1R/9KFvMLz1h/ZSDcU+/4cxjzJho2WCDqH3rW9El5vTssxP4az/00CzdB0OCfkj+2h3JsT840Jaf/jRKv/1tTP/d79IuZrUdJ826NHfwyKebA37kkXSUTGWXXaL0/vvpuJbOV19NV9zBSJEOVFnqE6loQA3rvap//GO0fu970bnrrtHx+98nUaDTzD9nlpgfPANoBVwAwGl3Wcfu3HZbVM47L6rarFIHVh4EKOBhYxHAAj13IMZ8YbwALvRZ3/M7jCsgxj8nkCPVTBoWlhEw6GyqA0cHlh5EAIDVh8Q+11l57IsvJfG7yZ1FxM5JntgwZExKG51nbqptnsLmOYIQ5gcsJnrGuLpc0WNAfj4bQoDEem39LQZwGS0laBwE/WX4xB5XRgMA9rghm2ManADgBx98kFgvomPSU6xf8xQswAtjqp44O5hndxzwuYPF0KpOgBq/qzyMNkYTp5C/WB6wyvo8sWcwiDATgBiiftJ6zlb55hPYA9g0facr2BILVi6J3qyLAAAgAElEQVRnx7Rg6N2AO6MIOMyAdHt7lLfYIoqjR0fnGWek1BzOz+WEM1f9AAbGgDbzHY6Ou5wTy7TXXlG4++6onn9+dBx1VHadF2yB5A2AcJDdtM8+Ubr77qhceWV0HXRQUlKAgJ4v7bhjFP/yl3TzR2GnnTKwguxgQDL2TbucV1wx4sMPo+udd6JtoYVSvb7gXjJCToA3QBlpsRZtlth336ioTe3t0fSHP0Rl+PCIHXfMGEoAF8CSVKADh8Rq//jHUb755ph+111RFZgslVI/SP050woQZ3wzRz5hQrSuvnp0bbhhdC63XDTdeWe6vUV39mYMbD1Nybu+ftVBVecnn0SvZZdN7Oa08eOjq77TnvFFh53RRp9gANFJ5gobGZLOvPhiNP3Xf0XX0ktHh9LUvXtnm0pom2/EQA7Ux7IL6b4zVtQJK6a6PVihjSrPgw7AsOpm6QXMKDpOuwiIAKUAR2wQ6W9AkbOm/p2DYn7XO8w5dCe/lIP+eFqcNmjdnUCk+k0aGTvoOkfKHxYZ/VBdrDnF1gE09Q4ZEOYCTLveJ32MXWvcBTzH+NPZ0pAGAJwtYp8rKs02gSy44ILZgbrqGc5PvwOoAANErlnqsL4uxtk7oneYoPz6OKTHOw4+AR6wcDgAHB6ODuOLQ3VQgwPiM1+/5ywI6RuckTOJOAvVg5EWUGY9JGVLPr52CJkhJ32vegpnnx1NAwcmhq3y8MNRrKe36Rfg1tNXyN6di8oFGAB0Mqb12WcTw6j7e2PcuJhWZ5Sc5cAJ4ZQSAJg4MVp0R+5CC0VFZx7ajS6J8fjoo2hafvn0fafu/i2XM3CYZ5UAD7r2rVmgaLPNYtp992U7iXGYOG4cOjeCSFZsSklg4Nxzo3zWWVEZPDji9tuj6emno/2FF9IdugAlZM26LE/NJ/Bad/hF7eC9995ok/w33bTbmjdf64Uzpm+A2gTOBbIXWCAd4ty5zz7R9OtfZzei6HmVwy03et7P0UP2jJf+TvdLP/10VJ55JqprrpmtJXV9VxkCYegczh/GGRDDXAGgpeUC/fung8M7r7oq2vfdt9s9wA66mJOAD5chwJi0LXrpcw+bQZsAQpk+1MdBfyNfQBjzlbnDHNdzvvnK7QV9hc3GbvlyBOoGHDqY9/5hc9AVPedzjkwAS2I860E/1VYHeIBFzyKofDItBMHeDtqHLAHPtI85Q/vQdx3j1WAA5wqf/Lk70QCAn1tkjRfqEsgAoO7JxFhihDGwGEV9LsND6sYBF2ACo6lnYRb0O0aQMmEZfb2VG1L9TgROqpCoHmDo7cVQJpanvqaOnXvOouVH3lk2GB7WOOHsSDPlHWSeAYThdGDIM7o3trz55lq8k64OK6yxRioOYKm+Otgm3cuuRAA0/YQJQMYwDbqft/SnP6W1crUBAxJDQXsYP5w+oCGxMoMGRfGcc6Lz6KOjqDVyHR3ZdXRpvK+5Jpp0fMp//3fUrrii2+0bGivfKIFzbz7ppCgOGRKdgwdH2xFHZMdgwBrhuAHdAjkAPxy22tj74IPTlWjT77gj3cccH30UlUmTolIHFMhYP9EnWFR0imeadtghyiNHxvSnn47i2mtnLJBkAzuJjs5srSXAp7zCCum2DW2aKeoomF/+MjpOOCGNIQGDM3PoTupP794JzJGGbNLtLBdemA6U1rpCgCiAhrmAriIbwCbzIs+kZbr1yCPpvMnaaqtFZfToqNUbQ9DFponsqB/b1cu8Zj4TfKSgoP4ffXIwjs3QMwL2qsPli4ywA9gHdiYDnAm2AEkcEu87lQH3tFFlqS+0D7kAqH3jB2ONfjhDSH/IHCB3dMvZP4Apz7AEBJkyVsx5gCS2xutl3B3so1fYQrcDYgAbu4DnXZ/eAIDz7tjPas//bRcwLJ+zexxz4OAqz9zBcsGU4JQwVDjnvFMELLDeBhCGkcXwY8R9XY8DMyJvDCvr0ABWtJcUlN8O4u8CGp29UFl6HpCA8/IjQigDMKO2AXC62tqivOmmURwzJjrPOy+6jjsuu8XBwRjAFVnioFW3fgfkqQ797gxlatyoUdG0+ebRtdRS0fH3v0dXa2sCasiC8mBd+FnQruRVVonCe+9F+0svRXWllbKF7TA/5W23TQdWt91zT5T798/S4KTy2EwAiJVRatWGkvHjo23MmOhaccUZBzHXHTPjjsN0EOdsjcrrtdlm6Tq+qaNGxXwbbxxdX/tadI4blzFZztTAnJCydAesspqVgn/mmWgbOzbia1/rtuvb08iSMcACcOLMVa+tt47CqFFRGTp0BjA+8MDovOKKLCUIsGHMWLMJuwurlYD+gw9G8667RnWXXaI2bFi26QlZAgjRSRhSjglRu5hXqlfgSCAzu4tbrGT9Zpfq7bdH7bvfzRg4wLva5cyzGxbmJCAfXSegAJzoJ+vw+I70PnoOaIKRzl/rCMD0+erLBLAnjDnjnQ8encmHkUVOahtyIshkbgAi/cB7l79fV6d3fE2ubAt16Ce/I1f9jY7BDqqM/E5zUviekkaePndVhspuHAQ9q26wZ7/fAIA9e/xmZ+u7MYBEunnjD4OmzwGIXEkEIwLzgpHzqNxZNgwZ73nqiuhe76o80no4UwcLzpLgXNQ2mANnH3ESGHuicNqiNXFyloAlDKu3DcOrsmBxnA2FVYAxIR2UUnWnnhplMXKbbhodDzwQHfWdou50AHTO7uAMfVwAXABM1YucWnffPUoqX0zSoYdmoBHg4qkywHNil3Qlmq5222ab6PjjH7ObHACYTR9+GKUVVohYbLFof/31KOgKsPpRLSrbZQNw6nzuueilVPTaa0f1uedSGwE9vvmD1DttY1wzdlkpVO1w1Jlt2qTyrW9Fdeuto/2ee1K9AGPAjrOv6BhjoWeb11svSjoX7/33ozL//Blgk2MHWMHKOIsIg0N7m/fbL+2y1uaWpiOPTFfUVe65J1tH62OL/sMok2KFCSxNnx6tul5ugQViyvjx0dTS0u0cOwfu6CQAyJk0Z+Bor35KNr1HjIjmffeNmtYD6tzJ+pVvpGsJOtAV5i9ADDYRJhrww9IKAjXYXVKZgEXmFEETY0dwia4DnJjTGgM/RJv2eCqWcaLtecaUwA1Apr4AyrABsM8EMrTfAaaeFbjWchn1mzV8zAHso/qm9kkmBI7MC+RBwEM9PAtgBugyDg66s8CtztSKAWwcBD073ejsrbsBAGev/Hty7dkxMNrkgJF2FgvAh4HXMzhznDURuj6HAeQ9nD1rooj8JTSMK6CJSB2jqM/ZncuuNyJ9vU8KjTZh6HEmDjbdicJkOsACdLKw20EgjBtAC0cDo0U5GGZfFB5PPRWt22yTjk7pePrpKOh6tfqaQPoE84czxTmQnsr/9KN69GxyFo8/nu5k7Vpmmai88kq6dg3mBjkAcGEUYWN677xzlP72t6jcemu0K0VaT0ej2OXLLovyz38eXUccEVMHD84An7N+OOEMwA0cmNY7dp5yStq1y6J52DQcHKwR6XN0ghR0ccKEaFl99aitv350nXhilPbZJ6o//nG0XXJJt2sBGQvJFlCMzpJW1Octq6wSRW1ImTw5ii0t2UYEPYsjd9YaPUBv+a7phBOiPHRoVK+4IqpLLx1dK68c5dVWS/oPeHHDQNmSOeyk603TVltF6amnojJqVNTWWSfbcMGcYo7ADqETAD3fYIUMYfXSeApIf/ObUfjHP2LaiBFRrN+hDLBgnSKMFkFSnj0GcNMO/nbgyLvIFBkCGiVDNj85I6b3PCWL/CibvqLznJFHuQRPKtPtFu3IB1fMeZWLfB1cOSMKYAVkIyeCJP0EJOfBLv3ip+sn79NXAC7PsmEKxhw9Z3ON/tYO7sZdwD3ZDc9a2xsAcNbkNy+/3e0YGAweTg6w5SlgX3+H4USApE+dESKVQhmAGwwajA1MhNYiyrDLSPqmCK5rc7bPo3U/5kV1UA8RtfriKTMHgaobx4MjJNpXvXzHc5TDOj0AqLNPGPbW+++POPDAqOrg4MMPT6JCrmo/OwzzoAFA5Ywmi9thMgGQyQnvtFOUHnwwpSQ7dP9vnYXwNZYAU3fexbFjo2nddRNwbHvllcTuweLQ717bbBPFp56KtgceiOKWW2bpX8aZ8Qdw6r2mjTeecV+uAM3aa3dbL4ZzcwAOEEFPYER1fl3ThRdGTQyZdkeedlp0DBwY1eOO+7c1ZQ7cYNtgr2HMWrQ5pq0t2v71ryyFzEJ6gEWezVK5OHgAT1x8cZR1o8iZZ0ahfscy7znIZRzYwOGMnRue8umnR0m7tgcPjvbDD89uJIHFRMcIpAAbsOMAacbWWUdYtcI110TLUUdFtV+/qOlea+3Srq+XdeChNktvfP45QwgQA+wiW40ZTC7tIChz1jcPdpijvJuY2vpGIOax3oF1ZpyQM+CcecXnvAt4o78AY3bTstaT+a26UrDQ0pIFBXrHg0903+0LeuSsnuTGpg/APDpBOwGo9I95gQ5jl5n/zuSrrWIAGwBw3nXjDQA47479rPY8AcB3332Xg0SzdUMyPjJcnONFpK4KWTTuEbSMFM+608X4AsowsjJyRNFuyPU56R3AEgaR9UU4ev3EITroJN1CXbCSACZ/H8eaT8mobmeEcLg4IhwvjkFlkh4DzGRs53vvRWGJJaKzzvzRL0AFjKs7Vv1Ou2EUAAOksuhPbeTI6L399tG1/PLR8dJL2cHSlOfjgbMGvOvQ5/K550ZVx5ocf3y2iQIn1qXDhFdbbQZAHDs2Sk1NGYMJqFF7lM5EFrXXX0+sXdcKK0TXuHFRra99crbIWVtAHzKXPNROX8eZwOuRR0bT9ddH5eabo7rrrqkdDqhhghy8AGbrD0ardu/27RvT3ngjlU8aDyfregCoYuwpK61jHDYsivvsE7WDD47ab36TseKu777+jTEjMHA9T4HDAw9Eyy67RHXnnaNT6/TqRwA56HCwAUsL0CKggTlV2wm+YJx0hE7rGmtEYeLEaB81KmKddbqlrH0++ZpFwCE6wbzgc2e880sZXN/yTBzvIxvYW4CkxsKZfwIsABwHVKMDeVYUWXimAPmrLm7wYL4ia8aQeghYeM4DDfQGkK22qxx0mrnt4I65RxCsZ7AFrtOUhf1zObkd+vjjj2NZHSXUOAdwVv1hj3y/AQB75LDNEY1OAPCdd94JMW+wXxhaHLI7StbmudGSgcJZ4yQ8cqenecZIn1OX3sP4kZrECWHsMMywZvoeMEpZAAuMpcrCmcrgwmDqd9Zz+UYBDDZOTc/h8ACxRODOLDhwwCkAEmFU6A8ycibOGQZ3+vkyYAVgmxLY7dcvig8/nNKR8ZOfZGv4OJoGR8MaPIA7TkftEHh3EAQjWbjggiifckpUBgyIuPDCrGwOvqUs5Jb0YPDgaNZ1cscck84iJL2mMeIsRQ8eaEf+cF4cO2C4eYcdojRyZLQ9+WRU1lgjrQ3jH0GEO0kAB8+U2tujtOCCUVthhaj+4x+pL8hTdet30rPOKjlgB0x3PfVUtGy5ZdR22CEqd96ZsUMOQiiftLiPK+Vkuq27cHXbSe/e0f7OO9FVX9/o84MgTHXkGTLmDLrFe7SHYKI6eHC0nnZaVI89Ngr1m1ScfdbvgBW1m3F2awUgoe0wvx5YMWYOiGDVsCGUyRzNgo76MhPaznyDcQdssYEEMAy4ywNC7A7zlfexbwRuALM8g8s8ddmqDDZv0E6fm9gMbwu6iU1hDFWf5h8b3AiAaSeZDnY+014AqpZXNA6CniP86WxpRAMAzhaxzxWVZgdBaw2gp2XzAI6UrKclSIVikGBKSOG4U8YI4/hx9pIiwFP1Y0zFzAiUYqR5ztcUkr7CEeEIABw4M/pCe0nFyLACynytDc5UbXanQluydW5ibuzYD2cAeVbvY9BJXVGXR/YAWJchIAFHAOjrxoT+9a/RssMOCdTobLyW+edPrJYcit7nAFmVDwCkfyqPDQ/UC8uEdjdr9/Lzz0fbyJHRssUW3cpzsO9gsvcOO0Tx0Uej86GHonOTTbqt41R9yANwAICgTn0O84Nc9LNJ6/feeivaPvwwqr16ZcelAJKRkzOeBAhJNz74IHqtsELU1lor2p56KukaIA3ApHoFLPW5A3lYNHRLO6ZbVlwxlVUbPTpbPwur5cxPAumlUiqPNB56zJiqPp2ZWHriiZj+6KNR2mijFHgAJFwHJAvALUEJQAN9dJAGcNI77R9+GIWRI6MqMN3UlETu805yUBtVrh/JQ7+o25k05hcBljOmjKmDMOqkrd52wCfvMZbYFK13A8gBavWsp76ZH/4TW6DPyBogO/SP5/3MRbdb1MH6Qp/bMJ3eTuyRB7bMGWwjG4IYT5XpQZWnqwHYMO8Aw3/9618NADhXuOMv1okGAPxicmu8FZEBwMUWWyxbPO/pJ4wrzhojqWf8eitP5+SZPoAUKRSAEMYeI0fKigXtbhwpw0ETzhsH5Ewfzh12gfbjwEir+t/5fmOInSHAkWPUAQ4AJ/UFQ00/3SkDwmA8uTeUPsDGyUnRV3eoOJjk0HSEiI5neeyxqF1zTXTuv3+29pHycNSAVhwVssP5AgpJi6VF5q+/Hr11Vd2KK8Y03SjR3Jxd9QWwJO2fje2HH0aLdgwvumhMfe21KDU3Z+vJkKfagmOXPPRfAUh+gwOMSQJLnZ3R0qdPut6u9s472e5dZO2gSL/Dljk7VfjnP6NlzTXTbuzKQw8l+TI2zmiqXh9z6kB2iR0WeF5wwYj55ks7il2XMSwASIACbfHgyhnr1oEDozhoUFQGDYrqT3+aioE1zLOHAFF2zvsShf+NBVc71HbpHLv49Z76S4AHE626AYIqD9bdWTmOenKQh157H6VTKjcf3ACIGS+YSEAQbQPwEbih086MsUaYvmM7WGYC2MO2JMDd3Jz67SDTgz7aR70OWNFNPc+JA4B+fQaT7ODYWWXVnQB5e3t2VqdnQZj7/FSZnIlImp3ndQzMEmKPGyngedKnNwBgzxv2LSPiFxGxQUQsFRG7R8Rw64bG9MyIODgiFo6IxyJCOwhes2daI+LCiPi+SLSIuC8ijoiI9z+HODIAKAOqf0StGCtADIYVdkZGT+u+HNDAAjlIg4HxdA3gyQ0+gMxBgn+G44E9glXBeantsEsYZI/U3UHikPUODo96YQrkJHHYOH6cMI7U097Ih3a4UwFc4dCJ9inPo38cs4M/FqvjYHBILWKK+veP2sorx/Rnn41SS0u3HbrstHTggSMEdCNXnmHcU6r8nHOi6ayzonbCCVHV/buVSgZuGWvObySt1XTDDdF0xBHpXLzK5Zen5wFQjCd9c5Dq/eUdgEFyvGPHRq9vfrMbePPUqgMkWDOVDxBMAP3ZZ9MdydVtt43qvfdmjlvPebBB0ECZbB5AVgCDwsorh3Ypt3/0UdR69842DTiYVxkEH+guwNMBhX4vPvRQNO+4Y2LnqsOHZzdRsBwBkJ2ere+kZR0cAQjjy9xinAFVzvbpGfqNzAmcaJuegWmDtdQ7pPKxGay3Q3bUT6AB6KR9es83ZUgmpETzzKy+gyl12QGK9FNzhJtkKJcNUIA9HxfSyjCClO/ZDNXlAJKxxEYARPW3r1clCEQGBJbIlHnAOGIr+B4m1ceOd7Bd/K13NRaL6qikBgD8HK5v7nm0AQB73ljuEBHfiohnI+KOmQBAXSlwUkQcGBHjI+LsiFg7InR9xIwTiSMujwhdyKpLWz+NiEu1b6Fe7n8qkWwXMFfByRCSnsWAASQATG7cMc4YQ3bOuQMC8GFAeVY/AXBu5InsMfY4dJwXTgfWxaN4Uisy5Pwj5UpaEVAA40i/AFoYcz4nVQrYza8Tc5aNNnv6kHYDTGk37KGzVIAl+uwL7D3tVywUorTVVlF84onouOaaqO27b9ZfHLvGjT7SRpyNg1CADuCT8W7ZcMMojBkTlaefjlh33Ywpkfx8bEjFp+BBR8r8+c/RPmxYNO22W5Yypq8+zjTY+4+uOAjTu0333Rel3XaLyg9+ELXrrstSoMgZAJ5ni3yZQOHRR6Nlu+2i9r3vxdTrruvGYHt9kg26mXfiMD9Jl7/zncS+VnV49qqrdrsjGhDgExEQ5ms/AStJplOnzjgPsLU1KhMnRlf9nmLGQ+0ChDEHCAbQF0CFBxe8g96z7AEgA0DSuzChjC+gF7kCuvU5LLV+B1wxlgA6P96HeU17AP2ULZnl5cWcI1BjfuTBP/oMiCJTga7mgZOXo7KZm76BSGX68g2fOwQXqg9Z0D99Bnj05R70m7WQgGsPtj3YYEw9YJ7Z/GmkgP9Tdzd3PtcAgD17XJWHcgZQ4/lund37Vb1rC9WZPYG9m+uR3ocRIa9/e/2Zb0TEKxGxaUQ8+R+KJGMAZbzE6DnbBZiCBcQZOuDCsbPOyCN0nBCGk0gYZ0u5+ikjKucDOMKRsB4LMOYn9Hs5tBujCeMHIPV2eb8wqDgwfQerQvkY9Dw4AwxwzANMidYp6Z9kimNSv9QWHLaDWdg0T6+pLGQBIwI7kUCh2CLdHLHqqtEmgFa/GQQ269NPP039wBEBJH2XqDt3BwyJXdB6wg03jC5dH/bCC1Gsj4+cFeyJ+u9HaJSnT4/yUkulXcjViROj0KtXAoAOfKjHgwHYJy1md8DmrFbTb34TxeOOi47TTov2X/wi28zjOkWZ+gm4Id2c9OLPf06gtPrDH0bHFVdkd/aiY9QHmIStQrdxxACe2G+/KN96azo8u0Pn+NWDJ97PgxYcP0CMcUeOiVmsp/TbH3kkuiT/epoahgog78wUAA4AhUwcHKMXzBMAD7ICOAJ80VPSwDD/zAGAjwM0faa6mYPMb+8v5aAHgCL65WCSeQeoAzDyOSBMbaQO5iLPMBaUAXBGP9y2qRwAMOwhdfrSF+yCB3KebUAOyBR7o78JyrBnvg5Wdepv9BA5oifInD5if7QLuHEMzH/o8ebCxxoAsGcPah4ArhQRr0fE+hHxvHVtZP3vYyLiOxHxYET0iYhJ9syEiBgSERf/LyJRqlj/+addFm+//fbbadOAACBODgBFFMwONGfdOCfM2R0MJmARQyejiQOEAZHBU72ABFJreteBAuDMd93RHn3na2voGG3CCLO4X3UDvgCmODvAAk4RQOEGH0cwM8ehOn1jjOp0dgUGB8CDMwZg4KToP06M5/R+6reAxlZbpavIOm+8Mdp2372b40B27jgBEIxDntlBnvo8jct556UUcEVn3J12WhoPGFJAAoxH5vBvuy3K++0XtT33jLYbbkhDQb2wJOiTA3UHySxB8KAhAchjj43y5ZdHx3XXRWG//bKDftFXgInK0r9uzFpX14xzCG+7LZoPOCA6Dz88qhdfnLFpHNmB/gFGXA98Huj3BFROPjnK2kn7m99E7Uc/ylLdABLGD31Df/N6D9hI+nfGGVE655yoDhoUndqpa7vYHVx5oARjqTEETOo9GDo/CBuwS+ADACMIS+C/zsQBMBgrggj6IzkBfBzkkEEg/evAzVk+5jVjpvJg6fNLUABHzGcCRPTEQTqgWX1lrSp64nrl4AsdZI7SR2QgWWpTmj5HxgpYAKwEVugvfQF4A8ppG7oAIMauMLdmBgyZz7xDmxtXwfVsADCrrW8AwFmV4Ox9Pw8AN6uv+Vs6IiZa025VZiEi9qkzf9flwJweHRURD0XEjFvp//3fGRHxy/zH77//frreyI0jkTPGP3+uFakNDC+AEdZEdcAO4JBhgnAMOG0BSRkx/SPlwmYEol93IjgiAAYgE7Ch7/kHSAVUYaABVXpOfdNhqgBAnIyzErB7lA04YG0jhtsZFBwbMnRQrLpYAO4MibN+7ojVJgBY+b77omn33aO2+urpdhEdGeL1+zgC9JCrMzjU5YBb9XRWKjG/bo14/fXofPHFKKyxRraA39kIWChk0XzQQVG+7bao3Hhj1PbeO7tLFyYMxsbfmzRpUiy00ELZ2WmwVjhs/m7RNXf33x/tf/tbdG20UTcVxqn6cT55ZjAB8ZtuiqbDD4/KL34RhXPPzVgjB6CMeT6oAQiguwksXnNNNB1zTFROOilqv/xlt8Ouab8aSsoVVpc54mCV8ev15JNR3HbbqG2/fbQNG5bdCMIcUlkqG1CHfAAssEfIXLIBqKMX+bJoD2XwLjoDGCEgQo9dP9V+laM5r+fym2gAi/QZgOfrWwFXAB399DodMEqW6B1163m1DfuQZ9Ic9Dob74CdculzXtbohQNEtYv+qg42x6gMZ0ORG7qBvUKOzEf9pB4AKTrKtZVu62Q7G+cAzl4nPjtrbwDA2Sn9Wa/7qwSAM2UAP/zww7QLEwMuA0UalEXipEbdWbC+B8PqRlFGWJ+LVYRVgF0izcdicpgXgBeAKC9aB444Bzei7iwoCwDE3zgRX7SOcQXcYKDZvQj4VDt90ThlswDdmQwAJkAE4AXASECrfg4dbQPI4rAdoNHurlotypttFqXRo2Pa9ddH6wEHdDsyBRDkjIcDb19/RRtI4wIWKrq+7lvfSleSdT79dLejSHC27AoFuEixdNi1btmoaJfuwgtnbDLjCNCkDaoXuQDiYHbkPB1sltdaK4qvvRbT33orCosumjlIdEeyBKQztrCWAK/SpZdGsw67PvPM6DrhhOzKNmTlwYzrBA4ZQEQw1KSU8ve+FxWNweWXp/IAaDh/9MV31KIbzBcPRjqnTIlWpdF1S4zS6PWjWvwZyYX/sOewg+ggP51lBoA7u+RzzgMWDyIAN/reARJyRscBu9qMwS5X2H5/Btm6vsOUk5rmOwI06gYs8XwejDJPsFMAOL2HvfLggmDEwSbBrAdsej+/nIRNK7QFXQZAowsAUth3xo52ONjz8XI5AdrRPZXFRrWJEyc2AOCs++EeW0IDAPbYoUsN/ypTwHlJpTWAYgC5C5h0EgabCBZHj5PFqRJlE9EDyHA2qhBDhlHGUPKOfnLmGEAApwvzAtaLEIoAACAASURBVCPpTBZMAeXrWRgR1eW7dAEugDn6x9EKOA5nS2AtPN0EmALU0n/aB5tAu2E1MPqsMwI8Up8zqDhNvtO7sAot998fJbF/a60V1WeeSbeL0Cev250RdeNEAZ7OcuDwE5g/6aQoX3xxdNZ3AHvKCQCAzLMU1oMPRrNu5+jXL6r33JPpGaku9IDDbh1sMNYeSHhqrNrRkY6A0ZErn+kGj/oB0PSD/jMm9NcDieSkzz8/ms8+Ozouuiiqhx2WnSeH86ccPYs8HIyrzaTKk+4+80y0brppVLfeOjpHjMjGAfDCnFFZjDf9hiVjHjmr3bTddlF85JFoe/jhaNp886TTfA/IZBxop57hWCbmEnOZeQJIZB66/Lx9AB/fcAK4I6UKwPV2M0/0Gcw7rDpjgZ7zPvNdP5ETc4c0PmuOCSAATGoTz3ow5YEggBGWTs/B4rOW1W2U5pB/DyBFdugqY4u9Y27xOeMES6n6/cgeZKUA2fUPeQD4kB+651diAt6VvdAxXo1dwD0bCHzR1jcA4BeV3Jzx3v+2CUQbQHTMi/4JqH1Q3/Hrm0B+EBHD6s+sFhGvfpFNIAKAffr0Sc4NJwxgwrABvHAmiM6jWxk9GSitjWGzBobdGQA+o0wcjtet33HEfO7RMYdH42wAnAA5d75qK4uvHUzpc9gvmBTVgfNSWTAIvnaQvsPmeURP+ciPfuNsHKzgvHFADliolzRxcijanbrRRumO3cott0Rpzz2TjFiHpbJZ6wgQVv+0KYVd0QB6V31klcZSi9DrBy5XXn01nQGIHAC5bG4BDKjO3scdF+VrromOoUMjDjkkyY2+OmuMw6bvPsYwYjhVnGf57bdnXEe3wQbR+cQTWeoPMKWyWDuWB/oqM2NoTj45mi66KGrXXhuVfffNPqceHKqeVzthvnDCPMe4d330UfRabrm0EafjhReytaVql4Mn2skBxABEB2JeR/N550XxzDOj8+yzE1Pp7WPu5Nk8D4Zov4+b2sw6M5Xh+si6VX3m84MAzeVCmxlb1yMYLvWXoM53xvqzAE7K8fmC7sKAo99uJ/IBp3/nQQoBmIM9WDRsCIGis4uMh7N0BHsAT/WXLIEHvD422BMCB+YQssBe8bcHuNhAfUadyBN9V9u1C3jxxRdvAMA5w59/5a1oAMCvXOSzXOH8EfH1eimjI+K4+tq9TyLizfoavhNzx8CsM5NjYHasg8LJETG0Xp7WEP6n/7oxgETWGCUcCMZHBonzvGAX9NPX/eB8cKA4DJXhhjmfLtHfDoCcDSCi55gSjDI/80YUQIYTJnqnTtgrHIzaxnpFnKTagtOAFYAxoy+khAEEOGHa7lF/HtC644Px02esKXQHAXiLO+6I4l57RW3ddaPj8cd1GFx6TPW4QwR86TtnIOg/III2uDMuPPlktGy9ddQ22CAqj+n4yRn/HMTxt34mPRB7s9xy6aaN6ePGRdNyyyUg4cflAMTQGxzdzAC7BwiJgdGO5512iuqee0b7DTdk/SXV5v1izBg/PZMB+hdeiK4XX4yuTTeN2oorZrstAaOACPQq33eAZLazWaCqb18JOTonTUp3HqMbgFjW/yEzX0MKY5tnkQuPPBKt/ftHV79+0TZ8eLfxJaAAFCAD/kbnfQ67DjgjpzYB+PicuY7uIBsYO5hZgAxjBehT/QSCMF76zDcZ0baZyZk5pnJpC23wtjJPmcuAWpae+Lq+PKNJECTZiYFTypr5wwYWykVGbpvytur/MrbYBvWBAAeZeTDmTCY6y+YgfTezjIjaKBmr/Y1dwP+py5v7nmsAwJ43plvVAV++5do6qaNeOAj6kPpB0I/WD3n+h73AQdBiAf0g6Pc+hziyY2AE7FibB1jBcKo81lph0HDgfqUbTg4Dx3u+zgbHiGHFMWDsVb7K5jgGnIXe88iasgFbnmLCOQBoiZphYOQkfH0fQAYgBGOmdtBemCpnMr0v/jmAEdDEd8hV9fEMbSTFA4ChvzjC9NxDD0X5+OOj64wzor1//+zKKF+j5YwFjhNnBjCEtXUgqDYl1vaoo6J02WVROe+86Dz66OygYNoF2KKsBBymT4/ikCFRePPN6Ljssoz5w3HxLufZMT6sE3MQQ5tggZIOXn11NA0YkDZvdA0cmAUKnjpmxyfy5H3G1NkpnC1gBt1DTxzcAIycHfJlAk3rrBNF3Sv83ntR69MnuzrQ5YR+kcbPGMl60APoz4COmFgxOlpz98EH0aVDrOsbAwisWH9HmtRTq7Sf+UtwA4hTWfqvOQAwcXAC+NPz6ofmDbrM3EGn9TOvGzDKlIMs9C533jpo13NeBlkHB2puB2i79Cl/TBTBH7on2dJ+2iP5EIjkATsgU8DQwbrbPQ8oCWpJvztrR4BFgMc8dJmz2Q0dBLiibwBiZEKbfJONMi5LLrmkitBxYSIDGv/mIQk0AOA8NNhfclcTAHzrrbeib9++M72SyA2kAyWYBhyQpzbyDJP+xiHLkOKUSY1h7IisHUAJCMpIYtgxlAAjGVM5D5wrjtIdPoY3nwKjTW6oHXhh9PneQS9MJwAYNpB6AUgAE2SiMnEAGHeYSJiaPKj2dhS6utKi0UKx2O36Mb2Lw1b5bNIAIOPg/XMH6glYCGQvv3wUJk6Mzn/+M6pLL52BOfqnn+54nan1fjAOgCzGCNAM4wLoQbf009dKpXE/6aRoHjIkOq+6Kp3hp7LSVXV1XeJ3mFB9T+ocp0+9DlwAIYAbdMrHkjFh7SY6CuPWsvPOUXjwwWh/8skorL9+NwCIrlKn2gBDxSYrTxEC7hJA6dcvig8/HJ1/+1tUNtwwA72qn5QttoD2opOqhzkGIEbn6DN66Gv4CB7UN4EKACKBFzrkywloM0AInWKuEeipPtby0W6V68wXOsznef0EEDLnYRth/9Q+7BL9dz1zAMaY+xo/ZAV7TMCS11VsHTJ0dhAdoi7KBCirvnyQRvt9GQq2AQZZfRPTJ2DqAZ0+/+STT2L55ZdvAMAv2Tn2lOIaALCnjNSc184EAN99990EAGVMnB3R7zANsB6weW5s6RaOztdO8RxAAUCJw8cQA8ZY5+eACaPKZxhkmAzOL2StEIAJ4ymA4MdNAAaI9lUuO/oyx97SkpwuQI72AlY99QQQwfk4CNX7sCYO5ACV3idALCAjXydtpF/IFMcKwIAt4aenGHHmjJGzpdUHH4xeO+4Ytc02i8pf/5oApdrkO4udUcEROqOFcwN4oRs4d8ZffcTJwWo4w0twkGT3gx9E6e67o+OBB6Jriy0SgGZziYMCUmbuIGG9HHgDglzf9Y7vavXdluqzQCkgxo9gaTniiCjfeGN03H57tPfrlx1QjWwAY5JRPo3IOi49wxhlrPNZZ0VJ6wDPOiuqYn0F/OsbJeizZIm+wjJpPBkDPc/5eQBZB+CSoYCoM1rMV7IBAEd00UGimzN0E9DL+FI2QaC+5/pAn9euJ/QPIOZlUj+BQ8aa1m8VAvh5AELf/TO9lwd/qo85pHpoJzJDP90G+lzT+zCBvuZQY+QBiwccjCnyIQBFNz1TgSwJEAUIxahqE0gjBTznOdevqkUNAPhVSXruqydbAyjDBchzIEdkD0AjFUFk644ShgyDmT9qBceMs/WIXHVivPOsAWkS0sIAHhloT9c6IPQNLQwb9dEufa4+qwxYRgAw0T+Gmb55RE47YUbcyeK0nM2QzJCtgzscHjKAyQIw0Cb6DSgFXPj3gEzGgHYAslgPB8CiPQkEH3NMFK+6KjqHDIm2H/84jYcDqDxzgRwBhQ6WAVwwHzg09AaWzsGsyuN8NsZE7W/eeOMovvRStI0bF7HMMt1uIvG+q62wgw6o9Iwvb0AmalNi20qljOmcGUhHBryn5zNm+swzo2nQoKhccklUDzkkA2rOvDlQhvmjXrWBOQRLmsDyc89F6fzzo3bAAVHdZZcMIDIP0RECDIADoAr9Utuly3rP7+PV874pxYGH3iW4QAcBRrRbf/sxUPTDAzyCAGTqcgQ4ofMEb7wDyNL3BBjMb33nwQJ95jlYVhhx5jBgMR+85UGlg3e1B9lpzB2Ee5CKXdTzZEVoI/Uyvmw8Y04SCCF3xthlQMCIrcBWq8+aK41dwHOfc/5Pe9QAgP+ppBrP5SWQMYA65d4NtKc9MEiABwAP6+IwbBgwjBWRrj+nZzimwgGUp0qcFaRsfS8HBmuC46eumaWXAFx0GjbDnRuGW0YZRhAmAKYI8EfqSZG32gVDps/9+Ahk5zLECUp2gBMcEfWonHzKDoBGGwSQfE0WMlT9pJBwPPpbx/sA4p0Fg13JHG9nZ7SsuGLEJ59E5Y03omvxxbud3wjgYCMOztjZDJhLB8sAYB8LfkcmtEs/ub0iY4kE3nTRfa0W7R99FF2FGeYOhsWBifrEsRoAIHSPn4A9tR+2DOAJeEFPYElh/mC1kHnSuWuvjZYjj4zOn/0sKmefnZ2ZCOB0Ns7XXsLcATAYd2eE+AygynmTpGZZ90e7VSdt90AAfUZfkR11EQygE2ozzKEHJchQdZCGBnwR1DGWBHO+7IKx0jOk1AFpABvmB3qP/JCBzzParfagx4AtQBzMM/1wfXB7pzYxvui4ZOCMP30CsHmARhtmdlUl4NrnCrrngRF2lrYiE8+K+LiiT7r2cQmdwdlYAzhPevgGAJwnh/1L6XTGAOo2BlgvZwcAexivbAdkqZSxWXnH5iwKBhQDCzjBQc+M+QPcEf0D0pwxhJ3y8tzZOvjCGTgrhfR8AwVpNJgegAqOy1krBzTutAGsACYck+SAc6BfOCuAM8DJARIMj77DWeIQcEDOZJG2xjmqf6wdgi110AzQqo4YEb10T+7WW0fHvff+2w5oZ2oc3ABSAODIGFAC+wYQ9BQlrBHModrljJM+r737bvReeeWorbFGVJ57LkvDslge2ZPe86ACcEV7YZcAEc6qwFQCaAgS0AlP31JHkonOP9xll+jce+9ou+aabgcgO+PE+/xkjJELOs/feWaSech8Qr5+YLu+A+yrHDZ/uD6zTAEGiXdIBfuaQBhtZIMOIEfmMEyi9Ez6RIBDG9VXgLd+Aqg9UKRfzFtPxyqIYXkEdap/rPMEkPGZB1gub72r/nHsC3MEPUEGrJPVu864shSAvqBXgFzKB/ABqBk7AhcxiegG/ZUsnNXzAMGZRspE5hqTRgr4S/GFPbaQBgDssUM32xve7RgYnJC3ivQJxhIQ5syLWBdYKcAJbJAbfi9L3wMmAQ04EBlHPQvj6GwVDsBvQKBtbvhxXhh3dxyUrTbjzHBG9MuvinK2yBmk/O+SH0DP2RmYA4AeTh7WDtABq8ixFDhQ0qTOjuFE3Yk5o+iADKcOSKI+B0sthx8exRtuiM7LL4/SoYcmIMEaKdrLuOBwVR5nqVEmwMVZDJwbwNfBj6fFOFeQelLQ8Pjj0fSd70TnzjtH1x13ZClW6lNbYF/QW8ZLn8vZsi7L1/KhK6xvpC+s9UMfHEQCltClNJ6vvhot668ftc03j/b77/+3sw+dAQWco+8eFHjQxNjqXQInZ6X1GWCZ8jUOAvjsXgXA0n7KUjmwyMx3+u4gi/JZfgFIp25/N/8ZoN8DOIA08x65owvMBY1LHiS6vjmjh14BBB3soYfIWn8zD0jRcgKBB2seADD/mGP+neoieKQuxoJ5BQAniFM59FO/6z92DDvkDCjPAI5h3QGelCUGsHEV3Gz3pbOtAQ0AONtE3+Mrzo6B4SBoHA6sEkAOIwxAIt2EcYNVcUeDMYd1gK2DSQNA8TfOBmcHmyEpe/oZNpK2ki7iPSJxB5GMFEYbthDDS7sBqe7kPTpnFx/AA/BBeg2WD4YKx+7snoNSQIocN4wYa4NUrwMRB1W0m/VQgDVkqu9xwGoTMoFNhZVJmzwKhSjo+rGpU2PKa69FafHFsxQfQAJ9QE6kpxyIsGYJp8tuYdqiZ/kMVoONGw56JKtst/KNN0az1tYde2x0DBqUAg3AA+s2kZfvjnVnDDOEHBhP9Iu+AAoBEi57QGl+PEKHni+2WNSWXz4qY8dmu1DRUfoCU4qeOFD2w4TRJxiiPKOqcQDQug6j314ucxfGizkMkIHhQp7oLJtcGCPqke6gZ/n6AJaAXAf27OoGRBKIsF5T7YQZpt8ANsCgfgrgAqIoA5DlTB06yrgjB+YiR9F4CtiDNOaZB7HYg/w6XLVTz0uG/E7bJU/mm9oC0GbOIDMH//pO8me9sweozGGyAZQjuTRSwD3eF3/hDjQA4BcW3Tz/YrcUsBt8nAXRvBs+fae0A+vLMNI4TgAZRg8p62/AXh5UqQzYJECmG2WADY51ZkY+MTICM/U1Qb7WiTbiOJwNcyBJGf49EbizbcjK6yLdC0jAceLUHFQ6Q4jjAEDRbxwUctRz7rQAOThmvY/TQj6s5QLAeF+ptzxiRLrTtrN//yj+6U/dzj8jRcUYAkiohzKcMaUuB004MoCQpzz1XR44APjLZ50V5fomizj88Gynuo+Fgz3Atb5H7rA1+lu/I0/kjG7oXU8rwmbrcwAzQQZrUdX/Xsssk8Bz+6RJ6XBu1rf5Oi9PU3pqEHYXcMw76C4Mmf5m44n0jGCJeany/bw7dEHfI2v67voI2FH9ajesOKCEgAkZMMcJDBxMAvRhqJiLsH7oZJ7BRO8ZO3QcO4DOYQNgyRgD5pWXm9dHB2JeLrIhkGUNqepAFuia2gWwlRwI9ghKkIWzpXpejL5Au77nWXQWOwBwd6DIeMM8I3PPSOh3MYDLSAcbawDnSYfeAIDz5LB/KZ3OACDnS8HEyOjBcslIkcLh6Ag9B6vlwASHpPdxLhg1DDsAST+djcEo4vQwdL6GBuPPs0TVpEdwAjgwHBdlYpwBNp7GwfnCWOLsYRdoP3KBYcMxSDY4BtWLg3JmzFN5Ht3zDP0DTNJel5k+o630F+cDyOFzB520CQYhA2oHHBClm2+Ojquvjtp++2VgxwGtAwXAL4CC72DQYAvRIXTCWSOedUDKOPvP8g9/GOXbbovOe++N9m9/O9NJX6uWL5fdqYAVgAXHZ+DEkQ3j7alQxgZZ59kwgKyea9b1fC+/HO3jx0fXkksmHfDdvg5EYfuQkac3GQ901me46vMjXfxZxtwZJ7XXdQk9p++AKvQGFk6yUD2yBwIgap+DduYVrCkBE0FfnmXEniQ5NTd3S8nPbK56gJNn6QFJHOmUtxeMETaF+Unf/JgltQc2lrbpef4jH5/j1E/Q44CW5RnMU/WVbAHZEdh6D4yQPzZGuusnEnjGwucdgYPmmK7yXE438TQA4JfiFHtaIQ0A2NNGbM5pbwKAEydOTGwerAkOGMcNwAM0EdkTPcOQEe3qORwDPzHW7pj0O4CJs/o8euZZvQurANvlTtKZwjy4hMGUMdZ/WEuiaUCMA0Rn1kjTsD4Rh4ZjdKeCg3DwprKQo4NNAJBH9e5g9Dsgx8vQ54AIZOtrm/he7eJ3HGk+xZz6rAN/dYisruuaMCEKCy+cHVZMKlDtxlFx/h6MCs4QleZzHCjODodFyg6Hqee4CQPAwrupf5tuGqVnnon2MWOiuMoqGTsJYEZmDubyAIo2AkBg/JAbANYBL+URWAAYfOoCgsq77x6lESOi429/i66NN+521A/67ICd+aJ+OuvmLBTyBryi44AOZ331GalZX2NGGei4B2XOlqH7lK33mJuUQdCjMli3Rp94Hrkyb3mX+QQQpo16n2eRKwCTAFNtV32wbbRR4JRlKAQRzEXqIUDV935kDWPr7cJuSAeYN4Axgl9fYoId0JgppcxyAg9afa4C4PkeMMccxg4SjFAnNjdvezmCSeV89tlnjXMA5xyf+pW3pAEAv3KRzzUVJgD44YcfJgObBxbsNHMHjXMlJZWPnn3tm4wTjAOgUYaOlBxRL2ua5EAcYMAc8hzOkLVcHNNA6thHhXboM6J4/c6ZdaR19NMdo6fnAC84bDfGMtC+xg1nAjABTPi7OHEAmbNfzqgAWJzhcAZIdQAqnenzzxyA63ccHAyL2qV3S3feGcV99klnzdWGDUsidNaGMdRPnA5gXM9pvAgccLwAEgAC4MmBAbJVv0nXwYrBmCTmRmsTJ0+Otk8+iWJzc3aoNqCNNjH26AzpQuSDfAGXnoJHFoyv2k2akPcyedUBEHJKoOfII6N89dXR/rvfRWHPPbOjQygPUINueN8px8EIvztLCsPmAAxGEF3Ol+FME+MOUHQGnDQx+gnwdyZWZRHY6XMP/pAR4N7Bq/qX1pm2tmYZAdXHPATQYRMAzMgFYMUc97nDu7yTn1cwwAKLrLFFL9BVdDLP6jM3YQmxXzDCDuKRB3rrmQ6Vz+fMQ3RUz+UZP/ri9oTfsY+wrMhdawAX19WBDQZwrnHMn6cjDQD4eaTVeNYlkDGAOkiU659kWDzVCssCMIB9YFclDtwBE8YZx6m/AVeUo58YRUACIIaoH+eGcScKx0HjJAGHOA7V68CStJbvlNSzOAmAAWwGETpAg89hsjjLkHpUDmwRzA5OG1kieKJ7PedrgGArqZs+whLhWNyxO4BgVyOpV9WLU842VdTP0aOs0j77RGn48KjcdFNU99wzrY+jfv3ESTGeOE7kjeMEpDsIBATzE0cGOOUdACRjAViNf/0rmpdcMmorrRQdY8ZkZ+zhhFmOQDmMkeoB1OMkHdhn5Yeu252xVAGwg3OmjT5WrMtDZwmC5v/1ryNOOSUqgwdH54ABmU7TDsA7IIh+0g9na9UO5gD6wyYOFQyA0e/63kGXPy/Q43rgAYGPL3MZcOdADJBDMIU+euCSB/JqA3PV5xLvAoI9Vcw8QMd8fNAZQBY2Q+1UGYBWPgeYMo7MX9hv2uagER0GDAL2YCqRO59zqwe67gyqyiVroPI0liqHMgC02BvXNw98vC2AaE8ry+YiU4114yDoedexNwDgvDv2s9rzBAAnTJiQdpHhqDBopHTcoANmMFBukEnJOFsBu+Cslb739KJAGUyh70gkRae6SOFwViGOh3I8+ud3gAEACmfBTxw6KU5AHKATR48c6Luew9EA4PKgwx0dzpcUFYDaATHMjL4DICAznoeNcAfu7ICzEjhRHDrA2RmW5NDGjo3CLbdE/OIXUasvVNe73BqBowYI0i+AEzICzDBmMLmqQ+9wBiHpSPrkqTmYsgyMP/10tG6xRdT69YuOu+7K0oUAELXBGWXkiQz94HDKZizyDBD9AtSxXssDCpy1M26pLb/7XRQPOiiBv+oFF3QLagD1LCEAuMHmsFZQZePgAU7008G7nvM1iz4+BCUOfhLLa2d2ws45OHX91PeAJthTwJfK4QgZ1wOCPAdyDp7QAbWPeYO+uD4iG2RPvegKeo/O+08AFiyyBzLYAdaAogv8TbnSUZ2HKvnyDvKlPD7HRrLznIAKsIYdA9TSTwA3AS/lMAYeZBNkoQcwvsxFylK7l156aT2+UERMnlWn0Hi/Z0mgAQB71njNSa3NNoHIYLFGTQaQdS0ewWI4+YxoX88C9LxzsC8OFmHscMBE8jgPfc8dl2yiwOAB1NwRY/ApVz8dSOBUAB4ORPU7TtMBjd7JOzjABsCK9gMQYIq8/zCC2Y7WcjlLxcIUeLoI4IzcnJUEaObTP6oDNgAmy9lK3mN9Jo4SJtNToTglHA+OEXnCOAm0AFJxXDBo/PRUG4EFDArAAhDAmjIcMoxhy/DhEd//fnQeemhUL7kkiRaQC4iHuQL0A6Kog3EnUAH4AOJ9PHG0gGV0E30DPMEmZaznyJHR3L9/VPfYIzp///tslzFAirFW+YwfwExl++Hq+ptggEBJ8wGWFLkCKGDBGCuOXPHlAP4sn6MjgFnStMxVlYvsYLQ8wHDwRd3OujLveE765uOObnsA5e9gY2gn88rHX/0S+NG6XsYXAMuaQWSP/CjPQTaBA/W7jXI5EKgCUEnfelnePmwabWdeO4hkTmBLaSef61lnZWF8nQnWLuBGCnhOcqtfbVsaAPCrlffcVFsCgO+9916KfGV0PA2HcwEk5ZkJGWn+YYBlyACQXJnGYm/SHzJezuTJqOEgcL44e4+sMdQ4pvx3+lv/cR44Oz5zsKIytC4I4OBgU3LA8AM0VJYcjdotORD563faARPiLIuzUgA8mERApX7CgBLlAz4AbJKv5AlIR6awIzh56qbdzoTkv6MPjJ2nagGvqkd1AkIAic4KOVNDupKdmgBp6sBBusyQA+9kY3j//VG88MK0Mzl+8pNuKWAPGNRHzk3jXepTe9FbHGkG3OrpblKADkYcrOh5gV4OqmYNWwbwXnstWtZcM2obbxzVRx9NIFV1MkasUwQMeYDC7+gR4DIfIDA3cfwOzmGNmK+ACX5yZAzzBpYWAA6oYM7xPawkx8sArhg7gBJtcbl6e9F7xgJmFt0EhOsnNkXfqd0wntgZn5usWSb4Yg4460ZQxDl9bld8I0UeQNI25hHBAX2hz9gUgDvlMK6eTSCwRR8lPz/qJT+22AD0jPkLSKefkyZNajCAc5NX/px9aQDAzymwxuOZBLK7gLWGhLVIGBZf9E8aSkaeCBiHqudYB+ibAnAYMmAywA5GcEYwNhh6WAQiYbUUdgIACSjCocCiqCwZXhwB4EPvyekAEjCgME4qx4/n0N+UQyROXbQPZ+eskL5zZ+xMEcwjjB0gAQAHcHHHgzOkLbQLxwDbprKdRdJzehfHymgDtCiPMdDn9Isxc4fnYMjT6fRXP31XL/qDQ8exUa/XBbvmbXSnCmsCUEfePIMzdUaK+gGxrMECEAFgYLYcmONsGSfqJahAZgAAyX7Kxx/HQksskY6A0VEwzBHepXwPWPKgCDCW3xUMMERnJTtYRMmAFDpBBXJArwhK9Ll2i7IZIh+48Tf98sCH+c5nLnOeZ1zQfxg+xt5lwrwAcAOWVI+DOJXJGDmQR6/RceTqbBr6i11BzwBo+ptgBgDpwafrF2wt8Tl1zwAAIABJREFU8kbv1Q4CWcqSrVIflBVx4EzbYA2RB+PGhjLep78+530eMQaqS+8sqvuyGyngedK1NwDgPDnsX0qnu10FhyHFCLHbFmPo1xax9s53YWL09ZMF+rxLJI5Bw0Gx01ifA2h4hzQd6UoHfBhUHI6vOXLnps85zwznCLh0RlHlsFvQGRucjTtWmBa9D/ulz2AyPcLX56SO3Lnm+4gDdVbQU1MwDKQ8YdJ8TZaDVZWPM4WpwekAxCiDZ52BA6QB6FUGQBDQoWdgWUmn59kmB6/ogKctkR/XCXrKzcEfwJR3nWVTO9BZ2ql3AdD0RZ/BEgPk0Dv65qwUZQG4GW/YavqeQJnOYWtvj8o770S1Di4yhrBWS7JznQUwIy8CCnTXWR/aRECDXAAxegedZcxVLgy8+sH8yAMf2gTARM7MfUA04MPBO9kC6YMfoAzIYu7xrtrvc5p+sHmJfjLPed6Xaug7lcf91owxegNgxC5gb2i3/gboMSboAPUD/gH9mr+s6cNuub3CNjAGBMMAWwIB2uignP4gS2yTykRHsYvor8p12yNZNG4C+VL8YY8spAEAe+SwzRGNzlLACy+8cBbNuoFy1gSggBPhuXwEj1HzlBCgiIiXdCOgSH/DRDl74U4uzw6oHsAhDgwQC3Oi+lifyBpCHAxO0dk/nI76BKDzyBtA5MfM0H/YTMCdG3d3bqR7qd8ZKow7gARgiBz4m/4BwtwpqDx3Osg2Dwjpq4835XNMhwN22gSoA9DlWam8zlA/cmfcfOMLLAyABCCsv5EXAFbva5zZjenOnVmlfgCY+B2Gm81KgBFSnjh1mChYWcpxoAULB9Bo0rmLvXt3O0TbwZIDO73jgEzygo0GAACOWJrgABKQ5npGewDUkpunan25Bv1kbPOgk2DGQR9sHHrMOMGuezuZGzB86gs6yfsAXPQ6Pwau/+ib6tAyDPURwITeE7zwHqy0/iYV78wdOklWAXBGn906A/AIpFzfVH4e6DEuzKU8Y+8gHHuidwSEJReB6fyufWSITJGj2vLRRx817gKeI9zp7GlEAwDOHrnPDbUmAPjmm2+SQui2+w0HT3oKQ4fRw0lJEETVGHJABVG0gzcZLcCRr/nRMxhbN6L6DECGI8EYUw5MIg4ZUAKLBtulvwE3OMg82HKmTnU704PzdRnwDN+pjYAWnnMWSc9xtiLORD9l9HGsAFtP5eoZALR+snaLepErzgz2EjDoa/wcxNFGwCTMF4AJJ0uq2ethEjBugD+O4EGWtIXxYjzzYwso5GBwxpNF/QQSDtZImwKSHPxSHuwMu5upFyDibKine53p9vWXyAbA5nMD3YWl9LpoN+faAdw8IAIoIzPXR9gg+uVBGOMEQNZPdBdWy9OuyAldcGDCONIvACVABf1GF/LzljYA1mBuGXfeA7Dm24BckQVtA/ghY59XBA3OEtMuAglAP7Jh/jn7TVvctjjAZo5ir2gbgQPjzVx1XWG+sCTE567qxZZ6e9BN5gI2DPv7ySefNK6Cmxu88RfsQwMAfkHBNV6LBAA/+OCDWGCBBbLbHnCych6+wxRgIblh/JQ2lVPF0BJxE1ljpNxBAtYANJ7aAPA4S+POnrr1PcweAI7xxGFiUGHLnJHQs6TfVL87fQdvRPE4Imd1MPwOhPWcgyuckj7389wAsHoWpgmnpPp9NytOwR07YMcBojM3AF+1H3YNp+ppe3fgABZ9prQSQFD1sg4M3fB+Af69H4Bifca/PBPEM8iU9xkvwAtjjRNG1xhn/sapAg4YCxw5rApsMeAP/YGJAxiR/szrtNdL2foMAK32uHwADMwn5Oz1a0zQCZ5Hf9F5vtf7MIiwm/SZQAuwiu7QJrULZht9c9bcWVYfNwCgr/EFjPIcffbAA+CFzPNyoS8AO2SrMmVb9D4MeX5+q93SU+YxANjBop7R34AodA37pb9npsuMgc8FynXQjY4B5DzNS13YA+wdwaneYf10Plhg453aKdkQVBIwu+5oE0gjBTzvevMGAJx3x35We57dBKLUCs4Dp4bBw4ABJnC0vovWmQbAG+XJyHkEDpCBWdS7OB6MOA6Vv3HCnC/H4msMOdGxynbAALMC0wDzgpOXMXZWQp9zbIs7eoCPvvc1T752h4gfoImDJcWMMwJw6CcOFcesz5x1gU1QWVqLpLIcoOo91lABAAGrrFWj7zhbB7U4QDlS6sbhMP48j8P3A5hdN3guD/6QL8wMegGIZezUFhwp448uupxUDruxGRfGFRDm7C7AK582RLYABP102TgwdJBAu1mjBVh3eQEgnLEEwDrwYqyol5+knQHofE5g5SBLzzrry7iTlnWW01kyAhf6DZjkmrV8ulH9BhDByLIGFZkwH13WgFOAOmPqcgCg+lIA9MRliW4iBwIoXwOJfcqPGfOG9vgyB9Xh7KLrEe2E4UNP0RueZS4ACrFDpMnpG/3KA2bsDcAfpg+235cmOGOtzT2NY2Bm1RX23PcbALDnjt3sbnkCgG+//XYsssgiKZrmuASAAakgj3oxgBghwB1Az5kBgB0gxR2b36bhjJgzKRhBGATAkT+P8cbw4mCIsFkDxLs4AJgmQCZ9hKmCPcFJw4h55E6fMd6UCdiC7dRPAWZ972lpdv95XbQfVsBTrzgBALcDMEAPDh0HBXj2TTyAHxgInD2sBaweoMYBtzNTgHk9j1N2RoagAcCC00OHVD8bCAAPyAhwTj/QAdVJihwQg/P2dD3jTJoQptnr0TPszKRNjA99RhaAU19b6EECk9mBB0GOs4kObj2AQEb0U3KBiXVD4XORNgGu0AcAGn+ThmQzg4M/9I22AGwBZei/fjp49/4SZFAWgJANFMjB5wuBga9ZBewxVj5n2VTizzDGtM0DJuYD6/0cNPvvbsechWWuoS/YMPrtAQPLELwvzGnk6DJCh30JQD4IRG+9HmyrBxsff/xxLKdNSI1dwLPbn86W+v9/e3ceevt2lgf8xYotUm/TQCS5iQjFGJE6QVtpHCJShVohrTgWQUWr1tShBWchDqVV29ohYksLbRUcqC2V0j9aRRzQqlWskWq1tQRzvWYwGk3SAcGB57o/hydfT879nX3uLzf3fN8Nh9/Ze6/vGp71rvU+63nXWnsJ4NMC+0NR6J1rYHIIpFegJuBeaWYivduvK7RKgQD1KjfPcTycCSdjtZ70cXhOczqw0U7JvXUmduFFBC6TYu+L00PdllY7Um/PIIkmZiE57cj3lJF2iE0ik5aDa6LTZd7NaSIenB1F6ahkJB97Bzkw4byUTQWj5FBFOjSqj5HcY5vUBQnJX+pTE9P8H7FEmBDjJufqyQl36BLWHCOyoi3KznvX+MAPCct3rVg2IfOdfg5+ceLIkbA/EoHYtpLL+Xdd4SFkbd9rzwjUWGnt6RL+E8qj3FGLGmPKaOqNWKi/MlM/hNCzbFCewQpBh3/bisUeZbUJR+rP5pSDkN9t/PkOQXEgJM8iQhYFyE8rqkiXfrTNI59rRxOwHluUznxG9WXHCDJbEHWwx7OJa7Ay77Vqq7+RZ2NIXk3+zFEWVuqRtrI/ZM7iIHXzWZ5TN3kpt+0z+YZkbwj4ofDHVzViCeBVsO1DM3+wB/Dxxx9/QgHkcKzMkSIkSQiTY6YWcWqtmARd6U2CJrCkz6SVu7IoZSEiJmGreQ4p6U3+vcJv9SOf9wQtL47EBGxvVPJ0nUnnyTGrP/WnnQvVyuXISEKTXulbxUueFL9WWVK3vpOwHW0TsQ496YMjuUTGETTkCAHTvlZSO02HTtWxsYRxym1lLJ/7FYpWtTg1fdqqBpJtJHJ+QmXIg4UHEsE5I/5C7JTjJtQISX+XOjhpqY1ICJtTNiIn1Ji6pvyU6XohJE+fs4deBHjOZ0eSi6w3abN9gV3p01YYqWL6E7nQBxYobUfGJcKLMCJtvaDSf73oYkts+2iD7AmJsUiRf9Rwv4tszkHCtTFlqDtlDAlnN8c2mY/0ufbpn7zP/5HA5IfsmcNacex+1aZe7Kqj0LK5BqlPXurUpNWCSTp2DQvEuhe0iD4SbUtEnnnTm940z3ve81LE/hTcCd36EsATdvpT1OQnCOBrXvOaO78E0hMVh0zFQeRM1ia+Y+jRCtWm+3a+HKvJuJUSk68J2gRvcj6qHUgIhatXyv7fDiX5cwqtNnF4IQVx6tIgO/IwwQtrcyCtEmmXtqRuHGSTvqODTh5IEkLKQagH1UsZHAlHnL8IAMIhz2BIyen6qhsChFhylIiwE8rajoQlHVKdfLVX+lYxESRh2i67VRWEE1nMd/A5XvehH5EF+bBVmCEtbDFlsx8/bUd9YvfawOmzn97LJRSNDLCVVtHU0dhiR9JaGKRtnL7FFxsw5lpJ0yZKlBB/Lz6agPRCR5kpR/+lXuySYgYntq69eZ/03gsxH8Pjxrf2dH/JA6np8d2LRYqeOiUvY7bzOxK/niOR5iOhZ1tNHvWBeQBu3W+ND6LOXv3VZ2zXPMq+05dJ68Q8m20l0fgSGdEfrfrmEMjzn//8JYBPkVN8pmWzBPCZ1mPvOPW9cwo45Ee4w2q3V8AmM04zaZGcTHAIV56hMiWtUG7ScPxHJTF5C03lO5M1gsmpIDpUEiFhDrvJV6tTCGmTDP9PeUhNnvHTTIgQp08JMfEipfYxcj7tuNSHAiI8bS8Rh9IOA2GiliBr+kb52seJHsmF57XPPjfOthUW6hM1VhlNFLWfE8tfzhNJobwhY+yIQ+U0EQcOP3VHTjnHJt19JxpidfzbdaUIIjSufuHQGyt1lZ9+hytl0y9ocMDCx21nyHLwoy4bG0K2+TyvXrQ0IaB2pa76zphyObM8jQeKUY+D4y/yNGFJf6ecY9gZgXfQCtlM/YyRPrXaOOovdtJEHIGCVYfgm8g1IWQ7+T5l5hkKs35Nvr34dHWQujpFbHGTuuX/Lsi2wDQmtFO7ut7mIPNgz4f9XC8apTEujLO8z78od7HVtste9Jl/4dJKoXEYnN/ylrdsCPgdx6e+3WuyBPDtDvlDU+CdXwKJg6POIQ9ppdWtScxkZGUqhCIdR9NXrCBCvkNm8tdlvkciA+FMcJwyMtlEwoRLCeCA7DmUtp1z7xPU1p5se0LmyJCiDvdQNfKd7ykM6soZpZz+xYMOn+UZ11m06mXfG9J93Bd5VGCPxJ2TODpyxIJyhDwhN8gsB4mgIMNNktQNgUIEmnQf1ZLUmxIntE+BYWfqlnzUT7n6mI1oT9f7aK/aIK8mGEK5HWpGcJGHPGdPljA+VabJeRMFfWyxkDq0ysMeKHn6E5ba0GS3+yh1Yi8djlYf+fZ4zv8RZIuCVv6aeLdNpxz4G/vsHrZJQ0VvFQv5ZefwoKQ2Ae6x1wuzfC69+SR4UWm1NeVqgwXKUbkz1tXL3JD6G+89V7W6m7T6mO2nPuYCi9ye89iwhQ/S28Q9+Zrr+g5An3e/sEmh8L0H8KHxx1c1ZAngVbDtQ/YAvva1r30iBMzh98QkpEfBa6XPRNgO0CrbpNkr1fw/DiITbU/mQiQUCCoJx4d4UPxMzhRIK3XO3eSLVLSj6ZCa/3OQnI+JlQNq1YsT55yRKyoCItqKFHKrnnBOWpv6OzzMQXR6YcgOP1ISkIomWkclhiOhHqknAsYp+tx7ddDvTQSE4uwhSxld58Y1/0eYqG4w6rpyftSpfIdw9U/6WZz0okUf5C9CkLKSRz5rtTbPNzlHHnuBg6SyM32A5CNjTaTz/6Tr/jyS/3zfv2Ki3zh5RCkLgFa7WlVzp2TqxhaRj17saDsShNjC3NhlF/m+T4trc9rjyheh8l44GHP+Unf7+bQHqTRujH12AzdtRXakjw1l7zCyRqGVt3Za5OlPds0OhNuROH1mzmBX3vcpeGnhwO5TR+WZB9kpHMxpbK/VVm3t+cK4lbeQO5sMTlk87jUw5/XnSwDP2/cP2vK3ugewJxurfKv+o1qkYBNTr2qtzIW5ECsOOo4q/2wEb6XDatlKu1UHhIITM/EKLVFDUl4m8EyMlIhWljx3JCDahKC14ug7JFUYrSd8WHRYsMPYSJDyORJkJHcxUlQ5rPztkB0HCacOGeU7DgKhQQAoJfoCqdUnyU/oHiloR5R8HXpBjJKuHTeS2ARcvhxgKzwUD3m0/VFU9DWyhQB0fTlipAaRQmKRQGRDGJMig6wgDciH+rCdvIdxsHJwh10iC7DNe+FGaY6YspWU3S91ZouIugWZz1vF6v/DoJVYYet8BqveU0nF92wfDmm78T27ReiRGyTY9w6qIEXGtIVWh3HVSxqLTES31WCLobZlCxRl6XNpehxbZOQ7fal/kfakQdLUDX7mG6QTRq24Kzdpex5sFc8YTx16bCUf81jqbaxbeGlbQsl7CvhBXeEz9/klgM/cvnu6a/5Wh0BMXMcJvVfTFKujqkHFMCmZrHolzYG2czNRm2QRrEzuVInUi9PuVTICwYlyQEjQkWD0Scu0Q8iKM+VcUl4fpkAkONMOXTfx7VU65wC7Jsochs+aOLR6xDh8n/ecMoLUIXDOJn8RFGW0M9aOxo2DCgZHJVX7j8S19+0hOBywfsrn6thk8+iQtRuerSglT/v49G3vwUvaJi+9aGmn2QQf6UR6fcdeW91q0mBstJKV8oWh4W0cIL69gMpn9jV6Lu9drJ4y7BtFRuHV+Rpz+i759sIE9r0gSVuk05/sEXFrsoqk6Q+KWciKcaPPkVQYWvwg0Gwiz7WiJuIgBN/RA3aBdFmcIEpImfcIW9L11gCKcNtA22qeo+yy914ImUvMYeyHTbO5xjTt72uW2Kk6unBe25p0Hklkz6sIuDtGEwJ+wQtekI/3FPDT7VGfhvKXAD4NoD8kRT5BAB977LF59rOffeeeLqGku62i024EjnM4Kngm3lZ7et9dT26ISU+kHBunQyGgeiEp+fk64WKreU6GQ+DIrey9t6JWfvI2iVMmu26IAuJFWTuSZvk0aUs+yKxJPt8jB5yK9xyC8ttBal8+88sg6t1hruThdCGnxIk1mXACtDFHwpNH8I0ymY3mDiG0wtfhZ+ol5RQRRQA5WQ5e2UKe0lE4YEWhaTyaqB7HIiLT5KsJcMpHghEtpEz/6jPOlsqI+DXZ4pyNDfXRx0iZcUMJbtKSZ6SDv8MP1Fv5I2gIi3GGDLVSTgFvNU9fq6fxRUFsW0XyjGl/kbWQkKRJOZQsGMKl7VIbqFtUPHUylyC++RzmfYiiCZcDZLaXUIfZYfKidCJuSF4T83wG+xA3VwVZXCDUbMm4agU4aXuu0Y5W9PU7dbMXghY2cGpSnHyP4zV5vOENb9hTwA+JQ76mGUsAr0FtnwkCdw6BPPLII3fudROeNTEhDCbjTKYhBFbZR4KRdP5RH3oFzjEgfVQaBMUltd5ztsJA1EDf5/O7Tabt6DiB1Nu1H+2gpM0ES+WwSZ9TUs+U1ySWUsARp81CtcmLs0KoPYvMNYFQD06FAxFOp0B5ptvQjoqDpSaljq2WUD+QS3XUduXrxy4HYUUc2mk3SYEHQsaRG3r5nF0kbatMjW9jYR8osoIEIR2tRlFcPJ9y83zCsohAPmM76oWoUda8T50ou2zRtUHIQdJK06pR5518KGicOkKrfy047LtzAEU/xE4zDrrfWjU1tihtaXP2zh1DzcGvbRShZ6vsWJ3Vi61R+VoFRRLZyVG1V8+0xWLLPNHkKc8jiIhZ/iLK5glkvseRMsxN+kmY9Th+kNgOKycNbLShF7KIoP2HbE/exmzf8ak+iHXeI+nmW2TRgih/HdjpRQbM0rfPec5z8tUqgCf060sAT9jpT1GT7xDA/BJIJi6ONxOf1Wg7Sw6bYmKVTUnhADmgVjMQkEyYNppbdSd9r9hNvJyAcCMlBiltkqosq/t81yHDvuevwy5CwZwwHDLxUjWEohCmViOQCFfIUBUQBkoUZ53vTe7IBZUr32VCT10Rbhi0YmbyRzL0V9S6lEsF4SQ5I2VT56htwlUIKMec90gD1fNIbDh8fZK/+r+Jv/awEcQx7UMWkbUmi2yriSfiEVsKXnnpL/VDWvI9J82BNvFBRPszeB4J8rEMY6T3D7IVdoE0wSn1ssWgSQtc0s9NkpFCZBxBOPahBUvyjH0IMfaCrskwWzCGjLkeN8qEBzLfixpEiOotFJzP81lfWgwbY9VCpcm1CIQy9IFxiVC18gljY43NIJSIF1sz1i14LEDYlTaZ++Sjbuqd9N2+tqX0Y1R68wGyn7IsElJOj2Fjp8mg/k/azDF+jSllp735KbjnPve5SwCfIqf4TMtmCeAzrcee2vq+bGa+eGYyA7xyZj5/Zv7rDYt4ggDmFHBCwPbhcSz28piwqGOdt9V3q2UmyVaRmnAhgpxJh3hscrdxnMM+3uWWMkJ2Umf55C810ClLoWETrolcmxAHbUdY2glSAjgcyhIHj7BRDzhCIXKEFLlqx+VkKiKQZ3sfk77gBKmNCJ7P9QNCSTVtNYbqgBQjrMha6pV+bOdM9eQIOUxtggUiqe8R53yuDgiGtmqnnwCEOeeHSITIBCdltyLL7lpV0nbPtwKFpOqLfo/saisyQe1C9pAa48PnyLYQX4fHk6cwZJOo/N+CCGFC7i0yLMqMDc8bG8lbPyG7iEWP1aRxV56+QOyO+9UQICqvfIzpXsAYB4inRVoTfp8hr+ruvUULckPpPV4nFazhIUTeizOYy8eckHKQTDab5yjjrXTqk7YHiw+/6Q1L6jGbZFdwY8tsCRE1XvO+922aJ3t8Ia0+QygRz1wEvb8EckOP9xAmWwL4EHbqDZv0STPzbTPzuTPzEzPzRTPzCTPzopl5/Q3yuKMA5hoYq+KewE18iAfH0qTL5GayM8kJbbTj5kB60mvHh4SYnDuUilhxXh2O41A4X2mbLCQ9FaHDfiZU9aeMtKNtB0Et4KibRCZfYTskSMgZdgiKMCIC0aoX54nEUJ6abGpjnkPu7MXSb8gBp4nMcvAI8lG9acffShOFAolrR0UtQg7gap8mnPQVPNgWNbj7jvqIKHRYjQ1x6NqizSm31RN2gwywxVbMOPDgpf6ppxAcMqg+bASRSt2RUZgjZ8LWxiVFqBVWY8YCBnmWZ+PAXoWqmxD24ip1EzJGhtkaTGBvLHbfdP3zfO+3la7VOiQGhm1LbJ692s4RbKiW8mJjeV6IX+RAvY13qiDbgxf85MV+kFbjGon0nPFhsaYNFnVHQtxzQRN8ttx2o7/kbSEmz5TVP6vIJns+92zyevOb3zyPPvpovt4Q8A2c3sOWZAngw9ajN29PSN9PzszfuDzyTjPz2My8Yma+/gbZ3LkGJgcqKFicA6XIJIZUCFW5bLnJYZ61as/khJxwQK2uNDHIhIZ4IpAIA0fC4VG9TNLHPIWLERL5NGnRBsoVomCFHyz8394e9UKikqZVn8YJyeg+QDjaCVOgkCwEwt6t/EUC1ZXTO+6D48S0mzNTr35PqUNyOCXOq8OJ8HUfH1WFveiPVsq6zJSbUFj6RR0orY1Tq7Otdri4WP/l2T7goqzUw2GHVh05efUUrtV/6oL4U4osbDhbdULc8hxb8Bf5F3JW57ZFCyKOPX8tVJSR8dJXyLCdJlyIWS/cEHT23XtaU8ZxkSPfrp8FSf5SlNVV/uw675HWxjG26qQzu2lyrd/Zf/dX74lDeBFUfUFN7UVQbyHRH4gi3HoMakurcRaJ5qO+YPu4mOpoAZzlZc7KHGJ/tfT637g2vo4kWh8in0hmz7FpV+qY33JfAngDj/cQJlkC+BB26g2alI1C2fz08TPzPZX+W2fmWTPz0hvkcYcAZkLtsIW9LTafczZW0CZppKNVwExc0lHyKG9IlJW0CbnVL87jqEQiaSETcbAmeYQK4UQ2Pd+OT3mtXCE0nAVilXypjEK1x707/WwrI+rQk37anjyRIOTLScoOEyHbjWv6oEmDsvsvUpzPeoN9n5DUZ5xunuF8OCOEoBUuZBROnJ3wOSfboc581sqcfYzKa8eOTHCebIXTZ0Pqn7yQ4dSJIqh+R9Xa5/mLrHY7j7aY972VQPva7pTBOftOX8sfMUWopGsS0uNV3/ieDTvEYlzBSjmUbepjY9r1N2a6/eqEjLKLJmFNVJE3ih9io67mE2PN9+w/bXFNiv6AgflDPZFRCp85hm00wTOXpB75F+x9hixbFCLfbQ+96GLLSc/WqJHGcvJMfVKOPbhN3hzAcZq7SWjqZSsBHNVNnm3P5gX1Sh3e+MY37ingGzi7hzXJEsCHtWfv3a5o/o/PzItn5scq6TfOzEtm5oPv8vgfzUHI+vzdZuZXXvWqVz0xCQmjUKNCIEzePYlzxPYkcRQmWxO/7+XHmfkVgzjNnEzMxIcQcpSUMHt6TJIITghNJm0v6g1CcVSTkDkEJOkpOVQRqgQngXA1AeFUQgy8ODab7tuJccQwQtZgwRmm3fbCwZrD6X5pxYbzCA7U2ORP4ZI3MsLBd5isVQWKBGIXrKi0KTefI9WpI7VL2ziulJ9+PYYxW2Fr4sOhUuoQ/XbWR+errMa393+1unxUr+Sv3y1m2Ahls0lWEwC2pTzjJPVF+BFDSqu+QEQQvLa9pGlFq+uJhCHoiHnSU9qSxphA7PRvE71WVOXTIe4mIPkeqUT48n0vpJB5/deEX/2ocwgwkqg9FO/+Le5g47CMexKT3j7V/qUUtmkxor3JTySj7UCfI1TsCM79e8W9KAq+iZY4VZz25NkO8bJzbUye5jd4w6GJaUcU2JZ0FuDaBfN8nougX/jCF6YpGwI+IRdYAnjCTp+ZawjgV8/My88J17Z6EVgEFoGHGoHcBh1RYF8nQmAJ4Ik6u5p6TQj4rgrgzGTiePM5YbzVVj+hsC6+t4LxYnsrsN7JdPG9PXxvA9vk+avZzXF71d6c3xERWAL4jtgrb5865RBIrnzJ1S955RDIq2fmm+/nEMiGDm6ts57YY7n43gq+i+2M191tAAAIxUlEQVStwHon08X39vBdbG8P29PlvATwdF1+p8G5BiaHPj7nQgRzDcwnzsz7zMzrbgDLTkQ3AOkBkiy+DwDekzy62N4etsl58b09fBfb28P2dDkvATxdl79Vg3MFjIugf2ZmvuByJ+BNUNmJ6CYoXZ9m8b0euyd7crF9MoQe7PvF98Hwu9fTi+3tYXu6nJcAnq7Ln7IGZ0/gl8/M381dt09ZrpsRBBbf27OFxfb2sE3Oi+/t4bvY3h62p8t5CeDpunwbvAgsAovAIrAILAJnR2AJ4NktYNu/CCwCi8AisAgsAqdDYAng6bp8G7wILAKLwCKwCCwCZ0dgCeDZLWDbvwgsAovAIrAILAKnQ2AJ4Om6fBu8CCwCi8AisAgsAmdHYAng2S3g+va/rK6QeeXlQulcLL2vt41ATk1/3OWuxf83M/9lZr50Zn6xHsmY/JqZ+Wsz86yZ+dGZ+esz878qzR+bmX8wM598OXH5n2fm8254f+NZ+ufLLifU//HM5I7LvBbbB+v958/MN8zMX5yZd52ZX5qZz5iZn1p8HwjYPzIz+anNT52Z515+leNfz8zfrl/nWNt9IIj34bshsARw7eIaBHKJ9LfNzOde7g2Mg/2EmXnRzLz+mgxP8sx/mpnvmpmfnJl3npm/MzN/embed2b+zwWDEMIQxU+bmVfNzNfNzPtd0vz/S5p/OjN/aWY+/fJrIfn1lt+dmQ85CY5P1sw/OzP/ZmbeNDM/UARwsX0y5N72939yZv7bBc/Y36/NzAtn5n9f/uXJxfc6fL9iZv7WZcz/3Mz8mZn5VzPzlTPzT3ZeuA7UferJEVgC+OQYbYo/jEB+Ri4kJhdJ55WfkXtsZl5xw5+RW0z/AIHnXAjzS2bmhy8KVX6TM+re37+A9Ccuyl7IXshj3sf5/tWZ+beXNPn1lv8xM39+Zn785OD+8Zn56Ysi+lUzkwvOs0DJXLfYXm8cX39ZYHzY28hi8b0e2/94GeOfWVn8u5lJlCCq4GJ7Pbb75D0QWAK45nG/CLzLzPzfmfn4mfmeejg/K5eQ5UvvN8MTp3+vS2g3Ct9/n5k/dVFTPuhCXEDzQ5f3XzgzHzkz3z8zUWR+s7D75Zn5RzPzD0+MZ5oeO/yNmfmbM/ODRQAX2wczjJ+fmWw1eMHMZMHy+Mx8y8z8i0u2i+/1+EYB/OyZ+eiZ+Z8z8wEz870XVfDbd164Hth98t4ILAFcC7lfBB69TP4vnpkfq4e/8eIYPvh+Mzxp+qim/+FCmj/0gkEwzZ6/YPyawiXhzN+bmYTeo/wlPJRfBOhX9l8m3Jkw3Flf2ROZsFlCwAmXNwFcbB/MKmw/+KaZ+e4LxtlfmW0gId2L7/X4Zi7IdpAvmZnfmZnsCYwd51eW8lpsr8d2n7wHAksA1zzuF4ElgPeL2N3TZx9VNtOH/P3KTvQPDOp7XA4jfNTM/OwltyWADwzrnQx++4JvyIhX9qeFbGfrwZKU67HOwuXvXQ7VZQ/gB17U/OwLXHJ9Pa775JMgsARwTeR+EdgQ8P0i9ofT59BGQuUffjnoIcWG0a7H9i/PzL+/KChyiZIS5TQHZHJAKadWN7x+HcbZYvB9M/NZ9XhOp2efZU4Hr+1eh2ueyv7pnK7OvOAVXLP/L/t7F9vrsd0n74HAEsA1j2sQyCGQhBw///JwQhivvkxg2Sy+r7sjkPGWgzJ/ZWY+4nC1S56w2TsHQHIQJK9HLgdFjodAPmVmslE8r5CbXzj5IZB3m5n3PMCeUHlwiXONspJDIIvtdaPzO2YmKmsfAsl+02z5iPq3tnsdrnnq1y8h339WWeQmgFyx896L7fXA7pP3RmAJ4FrINQhkL1pCE59zIYI5ZfmJl9Xq667J8CTPZNN89vBF/eu7/37rcuIvMGQPX+6w62tg3v8u18B8zOUamFx1ElKZV4fnTgLpPZvZIeDF9sEsIqHe3Fv58ssVO3/ucgAkhxdyUGHxvR7f3Pn3Fy7zaRYqUan/+cz8y9rTu/PC9fjuk28DgSWAaxrXIpArYL74cnFprtr4gsudgNfmd4bnEo682ysr/TiBvFz4GseaU9U/crnSJKcDvVwEHRUwh0FcBP3aM4B4H208EsDF9j7Au0vSj70cTMj9f7mjMgdCnAJe270e26jXue8zkYF3vyjV3zkzXzsz2Xu52F6P7T55DwSWAK55LAKLwCKwCCwCi8AicDIElgCerMO3uYvAIrAILAKLwCKwCCwBXBtYBBaBRWARWAQWgUXgZAgsATxZh29zF4FFYBFYBBaBRWARWAK4NrAILAKLwCKwCCwCi8DJEFgCeLIO3+YuAovAIrAILAKLwCKwBHBtYBFYBBaBRWARWAQWgZMhsATwZB2+zV0EFoFFYBFYBBaBRWAJ4NrAIrAILAKLwCKwCCwCJ0NgCeDJOnybuwgsAovAIrAILAKLwBLAtYFFYBFYBBaBRWARWAROhsASwJN1+DZ3EVgEFoFFYBFYBBaBJYBrA4vAIrAILAKLwCKwCJwMgSWAJ+vwbe4isAgsAovAIrAILAJLANcGFoFFYBFYBBaBRWAROBkCSwBP1uHb3EVgEVgEFoFFYBFYBJYArg0sAovAIrAILAKLwCJwMgSWAJ6sw7e5i8AisAgsAovAIrAILAFcG1gEFoFFYBFYBBaBReBkCCwBPFmHb3MXgUVgEVgEFoFFYBFYArg2sAgsAovAIrAILAKLwMkQWAJ4sg7f5i4Ci8AisAgsAovAIrAEcG1gEVgEFoFFYBFYBBaBkyGwBPBkHb7NXQQWgUVgEVgEFoFFYAng2sAisAgsAovAIrAILAInQ2AJ4Mk6fJu7CCwCi8AisAgsAovAEsC1gUVgEVgEFoFFYBFYBE6GwBLAk3X4NncRWAQWgUVgEVgEFoElgGsDi8AisAgsAovAIrAInAyBJYAn6/Bt7iKwCCwCi8AisAgsAksA1wYWgUVgEVgEFoFFYBE4GQJLAE/W4dvcRWARWAQWgUVgEVgEfh842xR6OmByTQAAAABJRU5ErkJggg==\" width=\"640\">"
      ],
      "text/plain": [
       "<IPython.core.display.HTML object>"
      ]
     },
     "metadata": {},
     "output_type": "display_data"
    }
   ],
   "source": [
    "f9_file = \"/Users/tim/MMT/wfsdat/datadir/f9wfs_20171006-225558.fits\"\n",
    "refaps = f9wfs.modes['blue']['reference']['apertures']\n",
    "results = f9wfs.measure_slopes(f9_file, 'blue', plot=True)\n",
    "#plt.scatter(refaps['xcentroid']+results['xcen'], refaps['ycentroid']+results['ycen'])\n",
    "results['figures']['slopes'].show()\n",
    "# 265 258\n",
    "# ref 240 259.5"
   ]
  },
  {
   "cell_type": "code",
   "execution_count": 5,
   "metadata": {},
   "outputs": [
    {
     "name": "stdout",
     "output_type": "stream",
     "text": [
      "198.30278887482513 nm\n",
      "Fringe Coefficients\n",
      " Z02: -2.99e+03 nm \t X Tilt (1, 1)\n",
      " Z03:  2.39e+03 nm \t Y Tilt (1, -1)\n",
      " Z04:     -2.08 nm \t Defocus (2, 0)\n",
      " Z05:       172 nm \t Primary Astig at 45° (2, -2)\n",
      " Z06: -3.14e+03 nm \t Primary Astig at 0° (2, 2)\n",
      " Z07:   1.4e+03 nm \t Primary Y Coma (3, -1)\n",
      " Z08: -2.04e+03 nm \t Primary X Coma (3, 1)\n",
      " Z09:     -87.1 nm \t Y Trefoil (3, -3)\n",
      " Z10:       482 nm \t X Trefoil (3, 3)\n",
      " Z11:      -336 nm \t Primary Spherical (4, 0)\n",
      " Z12:       424 nm \t Secondary Astigmatism at 0° (4, 2)\n",
      " Z13:      -161 nm \t Secondary Astigmatism at 45° (4, -2)\n",
      " Z14:      -370 nm \t X Tetrafoil (4, 4)\n",
      " Z15:       179 nm \t Y Tetrafoil (4, -4)\n",
      " Z16:      -213 nm \t Secondary X Coma (5, 1)\n",
      " Z17:   -0.0733 nm \t Secondary Y Coma (5, -1)\n",
      " Z18:     0.223 nm \t Secondary X Trefoil (5, 3)\n",
      " Z19:      -220 nm \t Secondary Y Trefoil (5, -3)\n",
      " Z20:      82.6 nm \t X Pentafoil (5, 5)\n",
      " Z21:       101 nm \t Y Pentafoil (5, -5)\n",
      " Z22:     -91.9 nm \t Secondary Spherical (6, 0)\n",
      " Z23:     -29.4 nm \t Tertiary Astigmatism at 45° (6, -2)\n",
      " Z24:       -44 nm \t Tertiary Astigmatism at 0° (6, 2)\n",
      " Z25:     -92.8 nm \t Secondary X Trefoil (6, -4)\n",
      " Z26:     -41.4 nm \t Secondary Y Trefoil (6, 4)\n",
      " Z27:      -120 nm \t Y Hexafoil (6, -6)\n",
      " Z28:      -196 nm \t X Hexafoil (6, 6)\n",
      " Z29:      -106 nm \t Tertiary Y Coma (7, -1)\n",
      " Z30:     -71.2 nm \t Tertiary X Coma (7, 1)\n",
      " Z31:     -12.1 nm \t Tertiary Y Trefoil (7, -3)\n",
      " Z32:      58.6 nm \t Tertiary X Trefoil (7, 3)\n",
      " Z33:      25.1 nm \t Secondary Y Pentafoil (7, -5)\n",
      " Z34:      93.8 nm \t Secondary X Pentafoil (7, 5)\n",
      " Z35:      83.4 nm \t Y Heptafoil (7, -7)\n",
      " Z36:     -63.3 nm \t X Heptafoil (7, 7)\n",
      " Z37:       157 nm \t Tertiary Spherical (8, 0)\n",
      "\n"
     ]
    },
    {
     "data": {
      "application/javascript": [
       "/* Put everything inside the global mpl namespace */\n",
       "window.mpl = {};\n",
       "\n",
       "\n",
       "mpl.get_websocket_type = function() {\n",
       "    if (typeof(WebSocket) !== 'undefined') {\n",
       "        return WebSocket;\n",
       "    } else if (typeof(MozWebSocket) !== 'undefined') {\n",
       "        return MozWebSocket;\n",
       "    } else {\n",
       "        alert('Your browser does not have WebSocket support.' +\n",
       "              'Please try Chrome, Safari or Firefox ≥ 6. ' +\n",
       "              'Firefox 4 and 5 are also supported but you ' +\n",
       "              'have to enable WebSockets in about:config.');\n",
       "    };\n",
       "}\n",
       "\n",
       "mpl.figure = function(figure_id, websocket, ondownload, parent_element) {\n",
       "    this.id = figure_id;\n",
       "\n",
       "    this.ws = websocket;\n",
       "\n",
       "    this.supports_binary = (this.ws.binaryType != undefined);\n",
       "\n",
       "    if (!this.supports_binary) {\n",
       "        var warnings = document.getElementById(\"mpl-warnings\");\n",
       "        if (warnings) {\n",
       "            warnings.style.display = 'block';\n",
       "            warnings.textContent = (\n",
       "                \"This browser does not support binary websocket messages. \" +\n",
       "                    \"Performance may be slow.\");\n",
       "        }\n",
       "    }\n",
       "\n",
       "    this.imageObj = new Image();\n",
       "\n",
       "    this.context = undefined;\n",
       "    this.message = undefined;\n",
       "    this.canvas = undefined;\n",
       "    this.rubberband_canvas = undefined;\n",
       "    this.rubberband_context = undefined;\n",
       "    this.format_dropdown = undefined;\n",
       "\n",
       "    this.image_mode = 'full';\n",
       "\n",
       "    this.root = $('<div/>');\n",
       "    this._root_extra_style(this.root)\n",
       "    this.root.attr('style', 'display: inline-block');\n",
       "\n",
       "    $(parent_element).append(this.root);\n",
       "\n",
       "    this._init_header(this);\n",
       "    this._init_canvas(this);\n",
       "    this._init_toolbar(this);\n",
       "\n",
       "    var fig = this;\n",
       "\n",
       "    this.waiting = false;\n",
       "\n",
       "    this.ws.onopen =  function () {\n",
       "            fig.send_message(\"supports_binary\", {value: fig.supports_binary});\n",
       "            fig.send_message(\"send_image_mode\", {});\n",
       "            if (mpl.ratio != 1) {\n",
       "                fig.send_message(\"set_dpi_ratio\", {'dpi_ratio': mpl.ratio});\n",
       "            }\n",
       "            fig.send_message(\"refresh\", {});\n",
       "        }\n",
       "\n",
       "    this.imageObj.onload = function() {\n",
       "            if (fig.image_mode == 'full') {\n",
       "                // Full images could contain transparency (where diff images\n",
       "                // almost always do), so we need to clear the canvas so that\n",
       "                // there is no ghosting.\n",
       "                fig.context.clearRect(0, 0, fig.canvas.width, fig.canvas.height);\n",
       "            }\n",
       "            fig.context.drawImage(fig.imageObj, 0, 0);\n",
       "        };\n",
       "\n",
       "    this.imageObj.onunload = function() {\n",
       "        this.ws.close();\n",
       "    }\n",
       "\n",
       "    this.ws.onmessage = this._make_on_message_function(this);\n",
       "\n",
       "    this.ondownload = ondownload;\n",
       "}\n",
       "\n",
       "mpl.figure.prototype._init_header = function() {\n",
       "    var titlebar = $(\n",
       "        '<div class=\"ui-dialog-titlebar ui-widget-header ui-corner-all ' +\n",
       "        'ui-helper-clearfix\"/>');\n",
       "    var titletext = $(\n",
       "        '<div class=\"ui-dialog-title\" style=\"width: 100%; ' +\n",
       "        'text-align: center; padding: 3px;\"/>');\n",
       "    titlebar.append(titletext)\n",
       "    this.root.append(titlebar);\n",
       "    this.header = titletext[0];\n",
       "}\n",
       "\n",
       "\n",
       "\n",
       "mpl.figure.prototype._canvas_extra_style = function(canvas_div) {\n",
       "\n",
       "}\n",
       "\n",
       "\n",
       "mpl.figure.prototype._root_extra_style = function(canvas_div) {\n",
       "\n",
       "}\n",
       "\n",
       "mpl.figure.prototype._init_canvas = function() {\n",
       "    var fig = this;\n",
       "\n",
       "    var canvas_div = $('<div/>');\n",
       "\n",
       "    canvas_div.attr('style', 'position: relative; clear: both; outline: 0');\n",
       "\n",
       "    function canvas_keyboard_event(event) {\n",
       "        return fig.key_event(event, event['data']);\n",
       "    }\n",
       "\n",
       "    canvas_div.keydown('key_press', canvas_keyboard_event);\n",
       "    canvas_div.keyup('key_release', canvas_keyboard_event);\n",
       "    this.canvas_div = canvas_div\n",
       "    this._canvas_extra_style(canvas_div)\n",
       "    this.root.append(canvas_div);\n",
       "\n",
       "    var canvas = $('<canvas/>');\n",
       "    canvas.addClass('mpl-canvas');\n",
       "    canvas.attr('style', \"left: 0; top: 0; z-index: 0; outline: 0\")\n",
       "\n",
       "    this.canvas = canvas[0];\n",
       "    this.context = canvas[0].getContext(\"2d\");\n",
       "\n",
       "    var backingStore = this.context.backingStorePixelRatio ||\n",
       "\tthis.context.webkitBackingStorePixelRatio ||\n",
       "\tthis.context.mozBackingStorePixelRatio ||\n",
       "\tthis.context.msBackingStorePixelRatio ||\n",
       "\tthis.context.oBackingStorePixelRatio ||\n",
       "\tthis.context.backingStorePixelRatio || 1;\n",
       "\n",
       "    mpl.ratio = (window.devicePixelRatio || 1) / backingStore;\n",
       "\n",
       "    var rubberband = $('<canvas/>');\n",
       "    rubberband.attr('style', \"position: absolute; left: 0; top: 0; z-index: 1;\")\n",
       "\n",
       "    var pass_mouse_events = true;\n",
       "\n",
       "    canvas_div.resizable({\n",
       "        start: function(event, ui) {\n",
       "            pass_mouse_events = false;\n",
       "        },\n",
       "        resize: function(event, ui) {\n",
       "            fig.request_resize(ui.size.width, ui.size.height);\n",
       "        },\n",
       "        stop: function(event, ui) {\n",
       "            pass_mouse_events = true;\n",
       "            fig.request_resize(ui.size.width, ui.size.height);\n",
       "        },\n",
       "    });\n",
       "\n",
       "    function mouse_event_fn(event) {\n",
       "        if (pass_mouse_events)\n",
       "            return fig.mouse_event(event, event['data']);\n",
       "    }\n",
       "\n",
       "    rubberband.mousedown('button_press', mouse_event_fn);\n",
       "    rubberband.mouseup('button_release', mouse_event_fn);\n",
       "    // Throttle sequential mouse events to 1 every 20ms.\n",
       "    rubberband.mousemove('motion_notify', mouse_event_fn);\n",
       "\n",
       "    rubberband.mouseenter('figure_enter', mouse_event_fn);\n",
       "    rubberband.mouseleave('figure_leave', mouse_event_fn);\n",
       "\n",
       "    canvas_div.on(\"wheel\", function (event) {\n",
       "        event = event.originalEvent;\n",
       "        event['data'] = 'scroll'\n",
       "        if (event.deltaY < 0) {\n",
       "            event.step = 1;\n",
       "        } else {\n",
       "            event.step = -1;\n",
       "        }\n",
       "        mouse_event_fn(event);\n",
       "    });\n",
       "\n",
       "    canvas_div.append(canvas);\n",
       "    canvas_div.append(rubberband);\n",
       "\n",
       "    this.rubberband = rubberband;\n",
       "    this.rubberband_canvas = rubberband[0];\n",
       "    this.rubberband_context = rubberband[0].getContext(\"2d\");\n",
       "    this.rubberband_context.strokeStyle = \"#000000\";\n",
       "\n",
       "    this._resize_canvas = function(width, height) {\n",
       "        // Keep the size of the canvas, canvas container, and rubber band\n",
       "        // canvas in synch.\n",
       "        canvas_div.css('width', width)\n",
       "        canvas_div.css('height', height)\n",
       "\n",
       "        canvas.attr('width', width * mpl.ratio);\n",
       "        canvas.attr('height', height * mpl.ratio);\n",
       "        canvas.attr('style', 'width: ' + width + 'px; height: ' + height + 'px;');\n",
       "\n",
       "        rubberband.attr('width', width);\n",
       "        rubberband.attr('height', height);\n",
       "    }\n",
       "\n",
       "    // Set the figure to an initial 600x600px, this will subsequently be updated\n",
       "    // upon first draw.\n",
       "    this._resize_canvas(600, 600);\n",
       "\n",
       "    // Disable right mouse context menu.\n",
       "    $(this.rubberband_canvas).bind(\"contextmenu\",function(e){\n",
       "        return false;\n",
       "    });\n",
       "\n",
       "    function set_focus () {\n",
       "        canvas.focus();\n",
       "        canvas_div.focus();\n",
       "    }\n",
       "\n",
       "    window.setTimeout(set_focus, 100);\n",
       "}\n",
       "\n",
       "mpl.figure.prototype._init_toolbar = function() {\n",
       "    var fig = this;\n",
       "\n",
       "    var nav_element = $('<div/>')\n",
       "    nav_element.attr('style', 'width: 100%');\n",
       "    this.root.append(nav_element);\n",
       "\n",
       "    // Define a callback function for later on.\n",
       "    function toolbar_event(event) {\n",
       "        return fig.toolbar_button_onclick(event['data']);\n",
       "    }\n",
       "    function toolbar_mouse_event(event) {\n",
       "        return fig.toolbar_button_onmouseover(event['data']);\n",
       "    }\n",
       "\n",
       "    for(var toolbar_ind in mpl.toolbar_items) {\n",
       "        var name = mpl.toolbar_items[toolbar_ind][0];\n",
       "        var tooltip = mpl.toolbar_items[toolbar_ind][1];\n",
       "        var image = mpl.toolbar_items[toolbar_ind][2];\n",
       "        var method_name = mpl.toolbar_items[toolbar_ind][3];\n",
       "\n",
       "        if (!name) {\n",
       "            // put a spacer in here.\n",
       "            continue;\n",
       "        }\n",
       "        var button = $('<button/>');\n",
       "        button.addClass('ui-button ui-widget ui-state-default ui-corner-all ' +\n",
       "                        'ui-button-icon-only');\n",
       "        button.attr('role', 'button');\n",
       "        button.attr('aria-disabled', 'false');\n",
       "        button.click(method_name, toolbar_event);\n",
       "        button.mouseover(tooltip, toolbar_mouse_event);\n",
       "\n",
       "        var icon_img = $('<span/>');\n",
       "        icon_img.addClass('ui-button-icon-primary ui-icon');\n",
       "        icon_img.addClass(image);\n",
       "        icon_img.addClass('ui-corner-all');\n",
       "\n",
       "        var tooltip_span = $('<span/>');\n",
       "        tooltip_span.addClass('ui-button-text');\n",
       "        tooltip_span.html(tooltip);\n",
       "\n",
       "        button.append(icon_img);\n",
       "        button.append(tooltip_span);\n",
       "\n",
       "        nav_element.append(button);\n",
       "    }\n",
       "\n",
       "    var fmt_picker_span = $('<span/>');\n",
       "\n",
       "    var fmt_picker = $('<select/>');\n",
       "    fmt_picker.addClass('mpl-toolbar-option ui-widget ui-widget-content');\n",
       "    fmt_picker_span.append(fmt_picker);\n",
       "    nav_element.append(fmt_picker_span);\n",
       "    this.format_dropdown = fmt_picker[0];\n",
       "\n",
       "    for (var ind in mpl.extensions) {\n",
       "        var fmt = mpl.extensions[ind];\n",
       "        var option = $(\n",
       "            '<option/>', {selected: fmt === mpl.default_extension}).html(fmt);\n",
       "        fmt_picker.append(option)\n",
       "    }\n",
       "\n",
       "    // Add hover states to the ui-buttons\n",
       "    $( \".ui-button\" ).hover(\n",
       "        function() { $(this).addClass(\"ui-state-hover\");},\n",
       "        function() { $(this).removeClass(\"ui-state-hover\");}\n",
       "    );\n",
       "\n",
       "    var status_bar = $('<span class=\"mpl-message\"/>');\n",
       "    nav_element.append(status_bar);\n",
       "    this.message = status_bar[0];\n",
       "}\n",
       "\n",
       "mpl.figure.prototype.request_resize = function(x_pixels, y_pixels) {\n",
       "    // Request matplotlib to resize the figure. Matplotlib will then trigger a resize in the client,\n",
       "    // which will in turn request a refresh of the image.\n",
       "    this.send_message('resize', {'width': x_pixels, 'height': y_pixels});\n",
       "}\n",
       "\n",
       "mpl.figure.prototype.send_message = function(type, properties) {\n",
       "    properties['type'] = type;\n",
       "    properties['figure_id'] = this.id;\n",
       "    this.ws.send(JSON.stringify(properties));\n",
       "}\n",
       "\n",
       "mpl.figure.prototype.send_draw_message = function() {\n",
       "    if (!this.waiting) {\n",
       "        this.waiting = true;\n",
       "        this.ws.send(JSON.stringify({type: \"draw\", figure_id: this.id}));\n",
       "    }\n",
       "}\n",
       "\n",
       "\n",
       "mpl.figure.prototype.handle_save = function(fig, msg) {\n",
       "    var format_dropdown = fig.format_dropdown;\n",
       "    var format = format_dropdown.options[format_dropdown.selectedIndex].value;\n",
       "    fig.ondownload(fig, format);\n",
       "}\n",
       "\n",
       "\n",
       "mpl.figure.prototype.handle_resize = function(fig, msg) {\n",
       "    var size = msg['size'];\n",
       "    if (size[0] != fig.canvas.width || size[1] != fig.canvas.height) {\n",
       "        fig._resize_canvas(size[0], size[1]);\n",
       "        fig.send_message(\"refresh\", {});\n",
       "    };\n",
       "}\n",
       "\n",
       "mpl.figure.prototype.handle_rubberband = function(fig, msg) {\n",
       "    var x0 = msg['x0'] / mpl.ratio;\n",
       "    var y0 = (fig.canvas.height - msg['y0']) / mpl.ratio;\n",
       "    var x1 = msg['x1'] / mpl.ratio;\n",
       "    var y1 = (fig.canvas.height - msg['y1']) / mpl.ratio;\n",
       "    x0 = Math.floor(x0) + 0.5;\n",
       "    y0 = Math.floor(y0) + 0.5;\n",
       "    x1 = Math.floor(x1) + 0.5;\n",
       "    y1 = Math.floor(y1) + 0.5;\n",
       "    var min_x = Math.min(x0, x1);\n",
       "    var min_y = Math.min(y0, y1);\n",
       "    var width = Math.abs(x1 - x0);\n",
       "    var height = Math.abs(y1 - y0);\n",
       "\n",
       "    fig.rubberband_context.clearRect(\n",
       "        0, 0, fig.canvas.width, fig.canvas.height);\n",
       "\n",
       "    fig.rubberband_context.strokeRect(min_x, min_y, width, height);\n",
       "}\n",
       "\n",
       "mpl.figure.prototype.handle_figure_label = function(fig, msg) {\n",
       "    // Updates the figure title.\n",
       "    fig.header.textContent = msg['label'];\n",
       "}\n",
       "\n",
       "mpl.figure.prototype.handle_cursor = function(fig, msg) {\n",
       "    var cursor = msg['cursor'];\n",
       "    switch(cursor)\n",
       "    {\n",
       "    case 0:\n",
       "        cursor = 'pointer';\n",
       "        break;\n",
       "    case 1:\n",
       "        cursor = 'default';\n",
       "        break;\n",
       "    case 2:\n",
       "        cursor = 'crosshair';\n",
       "        break;\n",
       "    case 3:\n",
       "        cursor = 'move';\n",
       "        break;\n",
       "    }\n",
       "    fig.rubberband_canvas.style.cursor = cursor;\n",
       "}\n",
       "\n",
       "mpl.figure.prototype.handle_message = function(fig, msg) {\n",
       "    fig.message.textContent = msg['message'];\n",
       "}\n",
       "\n",
       "mpl.figure.prototype.handle_draw = function(fig, msg) {\n",
       "    // Request the server to send over a new figure.\n",
       "    fig.send_draw_message();\n",
       "}\n",
       "\n",
       "mpl.figure.prototype.handle_image_mode = function(fig, msg) {\n",
       "    fig.image_mode = msg['mode'];\n",
       "}\n",
       "\n",
       "mpl.figure.prototype.updated_canvas_event = function() {\n",
       "    // Called whenever the canvas gets updated.\n",
       "    this.send_message(\"ack\", {});\n",
       "}\n",
       "\n",
       "// A function to construct a web socket function for onmessage handling.\n",
       "// Called in the figure constructor.\n",
       "mpl.figure.prototype._make_on_message_function = function(fig) {\n",
       "    return function socket_on_message(evt) {\n",
       "        if (evt.data instanceof Blob) {\n",
       "            /* FIXME: We get \"Resource interpreted as Image but\n",
       "             * transferred with MIME type text/plain:\" errors on\n",
       "             * Chrome.  But how to set the MIME type?  It doesn't seem\n",
       "             * to be part of the websocket stream */\n",
       "            evt.data.type = \"image/png\";\n",
       "\n",
       "            /* Free the memory for the previous frames */\n",
       "            if (fig.imageObj.src) {\n",
       "                (window.URL || window.webkitURL).revokeObjectURL(\n",
       "                    fig.imageObj.src);\n",
       "            }\n",
       "\n",
       "            fig.imageObj.src = (window.URL || window.webkitURL).createObjectURL(\n",
       "                evt.data);\n",
       "            fig.updated_canvas_event();\n",
       "            fig.waiting = false;\n",
       "            return;\n",
       "        }\n",
       "        else if (typeof evt.data === 'string' && evt.data.slice(0, 21) == \"data:image/png;base64\") {\n",
       "            fig.imageObj.src = evt.data;\n",
       "            fig.updated_canvas_event();\n",
       "            fig.waiting = false;\n",
       "            return;\n",
       "        }\n",
       "\n",
       "        var msg = JSON.parse(evt.data);\n",
       "        var msg_type = msg['type'];\n",
       "\n",
       "        // Call the  \"handle_{type}\" callback, which takes\n",
       "        // the figure and JSON message as its only arguments.\n",
       "        try {\n",
       "            var callback = fig[\"handle_\" + msg_type];\n",
       "        } catch (e) {\n",
       "            console.log(\"No handler for the '\" + msg_type + \"' message type: \", msg);\n",
       "            return;\n",
       "        }\n",
       "\n",
       "        if (callback) {\n",
       "            try {\n",
       "                // console.log(\"Handling '\" + msg_type + \"' message: \", msg);\n",
       "                callback(fig, msg);\n",
       "            } catch (e) {\n",
       "                console.log(\"Exception inside the 'handler_\" + msg_type + \"' callback:\", e, e.stack, msg);\n",
       "            }\n",
       "        }\n",
       "    };\n",
       "}\n",
       "\n",
       "// from http://stackoverflow.com/questions/1114465/getting-mouse-location-in-canvas\n",
       "mpl.findpos = function(e) {\n",
       "    //this section is from http://www.quirksmode.org/js/events_properties.html\n",
       "    var targ;\n",
       "    if (!e)\n",
       "        e = window.event;\n",
       "    if (e.target)\n",
       "        targ = e.target;\n",
       "    else if (e.srcElement)\n",
       "        targ = e.srcElement;\n",
       "    if (targ.nodeType == 3) // defeat Safari bug\n",
       "        targ = targ.parentNode;\n",
       "\n",
       "    // jQuery normalizes the pageX and pageY\n",
       "    // pageX,Y are the mouse positions relative to the document\n",
       "    // offset() returns the position of the element relative to the document\n",
       "    var x = e.pageX - $(targ).offset().left;\n",
       "    var y = e.pageY - $(targ).offset().top;\n",
       "\n",
       "    return {\"x\": x, \"y\": y};\n",
       "};\n",
       "\n",
       "/*\n",
       " * return a copy of an object with only non-object keys\n",
       " * we need this to avoid circular references\n",
       " * http://stackoverflow.com/a/24161582/3208463\n",
       " */\n",
       "function simpleKeys (original) {\n",
       "  return Object.keys(original).reduce(function (obj, key) {\n",
       "    if (typeof original[key] !== 'object')\n",
       "        obj[key] = original[key]\n",
       "    return obj;\n",
       "  }, {});\n",
       "}\n",
       "\n",
       "mpl.figure.prototype.mouse_event = function(event, name) {\n",
       "    var canvas_pos = mpl.findpos(event)\n",
       "\n",
       "    if (name === 'button_press')\n",
       "    {\n",
       "        this.canvas.focus();\n",
       "        this.canvas_div.focus();\n",
       "    }\n",
       "\n",
       "    var x = canvas_pos.x * mpl.ratio;\n",
       "    var y = canvas_pos.y * mpl.ratio;\n",
       "\n",
       "    this.send_message(name, {x: x, y: y, button: event.button,\n",
       "                             step: event.step,\n",
       "                             guiEvent: simpleKeys(event)});\n",
       "\n",
       "    /* This prevents the web browser from automatically changing to\n",
       "     * the text insertion cursor when the button is pressed.  We want\n",
       "     * to control all of the cursor setting manually through the\n",
       "     * 'cursor' event from matplotlib */\n",
       "    event.preventDefault();\n",
       "    return false;\n",
       "}\n",
       "\n",
       "mpl.figure.prototype._key_event_extra = function(event, name) {\n",
       "    // Handle any extra behaviour associated with a key event\n",
       "}\n",
       "\n",
       "mpl.figure.prototype.key_event = function(event, name) {\n",
       "\n",
       "    // Prevent repeat events\n",
       "    if (name == 'key_press')\n",
       "    {\n",
       "        if (event.which === this._key)\n",
       "            return;\n",
       "        else\n",
       "            this._key = event.which;\n",
       "    }\n",
       "    if (name == 'key_release')\n",
       "        this._key = null;\n",
       "\n",
       "    var value = '';\n",
       "    if (event.ctrlKey && event.which != 17)\n",
       "        value += \"ctrl+\";\n",
       "    if (event.altKey && event.which != 18)\n",
       "        value += \"alt+\";\n",
       "    if (event.shiftKey && event.which != 16)\n",
       "        value += \"shift+\";\n",
       "\n",
       "    value += 'k';\n",
       "    value += event.which.toString();\n",
       "\n",
       "    this._key_event_extra(event, name);\n",
       "\n",
       "    this.send_message(name, {key: value,\n",
       "                             guiEvent: simpleKeys(event)});\n",
       "    return false;\n",
       "}\n",
       "\n",
       "mpl.figure.prototype.toolbar_button_onclick = function(name) {\n",
       "    if (name == 'download') {\n",
       "        this.handle_save(this, null);\n",
       "    } else {\n",
       "        this.send_message(\"toolbar_button\", {name: name});\n",
       "    }\n",
       "};\n",
       "\n",
       "mpl.figure.prototype.toolbar_button_onmouseover = function(tooltip) {\n",
       "    this.message.textContent = tooltip;\n",
       "};\n",
       "mpl.toolbar_items = [[\"Home\", \"Reset original view\", \"fa fa-home icon-home\", \"home\"], [\"Back\", \"Back to  previous view\", \"fa fa-arrow-left icon-arrow-left\", \"back\"], [\"Forward\", \"Forward to next view\", \"fa fa-arrow-right icon-arrow-right\", \"forward\"], [\"\", \"\", \"\", \"\"], [\"Pan\", \"Pan axes with left mouse, zoom with right\", \"fa fa-arrows icon-move\", \"pan\"], [\"Zoom\", \"Zoom to rectangle\", \"fa fa-square-o icon-check-empty\", \"zoom\"], [\"\", \"\", \"\", \"\"], [\"Download\", \"Download plot\", \"fa fa-floppy-o icon-save\", \"download\"]];\n",
       "\n",
       "mpl.extensions = [\"eps\", \"jpeg\", \"pdf\", \"png\", \"ps\", \"raw\", \"svg\", \"tif\"];\n",
       "\n",
       "mpl.default_extension = \"png\";var comm_websocket_adapter = function(comm) {\n",
       "    // Create a \"websocket\"-like object which calls the given IPython comm\n",
       "    // object with the appropriate methods. Currently this is a non binary\n",
       "    // socket, so there is still some room for performance tuning.\n",
       "    var ws = {};\n",
       "\n",
       "    ws.close = function() {\n",
       "        comm.close()\n",
       "    };\n",
       "    ws.send = function(m) {\n",
       "        //console.log('sending', m);\n",
       "        comm.send(m);\n",
       "    };\n",
       "    // Register the callback with on_msg.\n",
       "    comm.on_msg(function(msg) {\n",
       "        //console.log('receiving', msg['content']['data'], msg);\n",
       "        // Pass the mpl event to the overriden (by mpl) onmessage function.\n",
       "        ws.onmessage(msg['content']['data'])\n",
       "    });\n",
       "    return ws;\n",
       "}\n",
       "\n",
       "mpl.mpl_figure_comm = function(comm, msg) {\n",
       "    // This is the function which gets called when the mpl process\n",
       "    // starts-up an IPython Comm through the \"matplotlib\" channel.\n",
       "\n",
       "    var id = msg.content.data.id;\n",
       "    // Get hold of the div created by the display call when the Comm\n",
       "    // socket was opened in Python.\n",
       "    var element = $(\"#\" + id);\n",
       "    var ws_proxy = comm_websocket_adapter(comm)\n",
       "\n",
       "    function ondownload(figure, format) {\n",
       "        window.open(figure.imageObj.src);\n",
       "    }\n",
       "\n",
       "    var fig = new mpl.figure(id, ws_proxy,\n",
       "                           ondownload,\n",
       "                           element.get(0));\n",
       "\n",
       "    // Call onopen now - mpl needs it, as it is assuming we've passed it a real\n",
       "    // web socket which is closed, not our websocket->open comm proxy.\n",
       "    ws_proxy.onopen();\n",
       "\n",
       "    fig.parent_element = element.get(0);\n",
       "    fig.cell_info = mpl.find_output_cell(\"<div id='\" + id + \"'></div>\");\n",
       "    if (!fig.cell_info) {\n",
       "        console.error(\"Failed to find cell for figure\", id, fig);\n",
       "        return;\n",
       "    }\n",
       "\n",
       "    var output_index = fig.cell_info[2]\n",
       "    var cell = fig.cell_info[0];\n",
       "\n",
       "};\n",
       "\n",
       "mpl.figure.prototype.handle_close = function(fig, msg) {\n",
       "    var width = fig.canvas.width/mpl.ratio\n",
       "    fig.root.unbind('remove')\n",
       "\n",
       "    // Update the output cell to use the data from the current canvas.\n",
       "    fig.push_to_output();\n",
       "    var dataURL = fig.canvas.toDataURL();\n",
       "    // Re-enable the keyboard manager in IPython - without this line, in FF,\n",
       "    // the notebook keyboard shortcuts fail.\n",
       "    IPython.keyboard_manager.enable()\n",
       "    $(fig.parent_element).html('<img src=\"' + dataURL + '\" width=\"' + width + '\">');\n",
       "    fig.close_ws(fig, msg);\n",
       "}\n",
       "\n",
       "mpl.figure.prototype.close_ws = function(fig, msg){\n",
       "    fig.send_message('closing', msg);\n",
       "    // fig.ws.close()\n",
       "}\n",
       "\n",
       "mpl.figure.prototype.push_to_output = function(remove_interactive) {\n",
       "    // Turn the data on the canvas into data in the output cell.\n",
       "    var width = this.canvas.width/mpl.ratio\n",
       "    var dataURL = this.canvas.toDataURL();\n",
       "    this.cell_info[1]['text/html'] = '<img src=\"' + dataURL + '\" width=\"' + width + '\">';\n",
       "}\n",
       "\n",
       "mpl.figure.prototype.updated_canvas_event = function() {\n",
       "    // Tell IPython that the notebook contents must change.\n",
       "    IPython.notebook.set_dirty(true);\n",
       "    this.send_message(\"ack\", {});\n",
       "    var fig = this;\n",
       "    // Wait a second, then push the new image to the DOM so\n",
       "    // that it is saved nicely (might be nice to debounce this).\n",
       "    setTimeout(function () { fig.push_to_output() }, 1000);\n",
       "}\n",
       "\n",
       "mpl.figure.prototype._init_toolbar = function() {\n",
       "    var fig = this;\n",
       "\n",
       "    var nav_element = $('<div/>')\n",
       "    nav_element.attr('style', 'width: 100%');\n",
       "    this.root.append(nav_element);\n",
       "\n",
       "    // Define a callback function for later on.\n",
       "    function toolbar_event(event) {\n",
       "        return fig.toolbar_button_onclick(event['data']);\n",
       "    }\n",
       "    function toolbar_mouse_event(event) {\n",
       "        return fig.toolbar_button_onmouseover(event['data']);\n",
       "    }\n",
       "\n",
       "    for(var toolbar_ind in mpl.toolbar_items){\n",
       "        var name = mpl.toolbar_items[toolbar_ind][0];\n",
       "        var tooltip = mpl.toolbar_items[toolbar_ind][1];\n",
       "        var image = mpl.toolbar_items[toolbar_ind][2];\n",
       "        var method_name = mpl.toolbar_items[toolbar_ind][3];\n",
       "\n",
       "        if (!name) { continue; };\n",
       "\n",
       "        var button = $('<button class=\"btn btn-default\" href=\"#\" title=\"' + name + '\"><i class=\"fa ' + image + ' fa-lg\"></i></button>');\n",
       "        button.click(method_name, toolbar_event);\n",
       "        button.mouseover(tooltip, toolbar_mouse_event);\n",
       "        nav_element.append(button);\n",
       "    }\n",
       "\n",
       "    // Add the status bar.\n",
       "    var status_bar = $('<span class=\"mpl-message\" style=\"text-align:right; float: right;\"/>');\n",
       "    nav_element.append(status_bar);\n",
       "    this.message = status_bar[0];\n",
       "\n",
       "    // Add the close button to the window.\n",
       "    var buttongrp = $('<div class=\"btn-group inline pull-right\"></div>');\n",
       "    var button = $('<button class=\"btn btn-mini btn-primary\" href=\"#\" title=\"Stop Interaction\"><i class=\"fa fa-power-off icon-remove icon-large\"></i></button>');\n",
       "    button.click(function (evt) { fig.handle_close(fig, {}); } );\n",
       "    button.mouseover('Stop Interaction', toolbar_mouse_event);\n",
       "    buttongrp.append(button);\n",
       "    var titlebar = this.root.find($('.ui-dialog-titlebar'));\n",
       "    titlebar.prepend(buttongrp);\n",
       "}\n",
       "\n",
       "mpl.figure.prototype._root_extra_style = function(el){\n",
       "    var fig = this\n",
       "    el.on(\"remove\", function(){\n",
       "\tfig.close_ws(fig, {});\n",
       "    });\n",
       "}\n",
       "\n",
       "mpl.figure.prototype._canvas_extra_style = function(el){\n",
       "    // this is important to make the div 'focusable\n",
       "    el.attr('tabindex', 0)\n",
       "    // reach out to IPython and tell the keyboard manager to turn it's self\n",
       "    // off when our div gets focus\n",
       "\n",
       "    // location in version 3\n",
       "    if (IPython.notebook.keyboard_manager) {\n",
       "        IPython.notebook.keyboard_manager.register_events(el);\n",
       "    }\n",
       "    else {\n",
       "        // location in version 2\n",
       "        IPython.keyboard_manager.register_events(el);\n",
       "    }\n",
       "\n",
       "}\n",
       "\n",
       "mpl.figure.prototype._key_event_extra = function(event, name) {\n",
       "    var manager = IPython.notebook.keyboard_manager;\n",
       "    if (!manager)\n",
       "        manager = IPython.keyboard_manager;\n",
       "\n",
       "    // Check for shift+enter\n",
       "    if (event.shiftKey && event.which == 13) {\n",
       "        this.canvas_div.blur();\n",
       "        // select the cell after this one\n",
       "        var index = IPython.notebook.find_cell_index(this.cell_info[0]);\n",
       "        IPython.notebook.select(index + 1);\n",
       "    }\n",
       "}\n",
       "\n",
       "mpl.figure.prototype.handle_save = function(fig, msg) {\n",
       "    fig.ondownload(fig, null);\n",
       "}\n",
       "\n",
       "\n",
       "mpl.find_output_cell = function(html_output) {\n",
       "    // Return the cell and output element which can be found *uniquely* in the notebook.\n",
       "    // Note - this is a bit hacky, but it is done because the \"notebook_saving.Notebook\"\n",
       "    // IPython event is triggered only after the cells have been serialised, which for\n",
       "    // our purposes (turning an active figure into a static one), is too late.\n",
       "    var cells = IPython.notebook.get_cells();\n",
       "    var ncells = cells.length;\n",
       "    for (var i=0; i<ncells; i++) {\n",
       "        var cell = cells[i];\n",
       "        if (cell.cell_type === 'code'){\n",
       "            for (var j=0; j<cell.output_area.outputs.length; j++) {\n",
       "                var data = cell.output_area.outputs[j];\n",
       "                if (data.data) {\n",
       "                    // IPython >= 3 moved mimebundle to data attribute of output\n",
       "                    data = data.data;\n",
       "                }\n",
       "                if (data['text/html'] == html_output) {\n",
       "                    return [cell, data, j];\n",
       "                }\n",
       "            }\n",
       "        }\n",
       "    }\n",
       "}\n",
       "\n",
       "// Register the function which deals with the matplotlib target/channel.\n",
       "// The kernel may be null if the page has been refreshed.\n",
       "if (IPython.notebook.kernel != null) {\n",
       "    IPython.notebook.kernel.comm_manager.register_target('matplotlib', mpl.mpl_figure_comm);\n",
       "}\n"
      ],
      "text/plain": [
       "<IPython.core.display.Javascript object>"
      ]
     },
     "metadata": {},
     "output_type": "display_data"
    },
    {
     "data": {
      "text/html": [
       "<img src=\"data:image/png;base64,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\" width=\"640\">"
      ],
      "text/plain": [
       "<IPython.core.display.HTML object>"
      ]
     },
     "metadata": {},
     "output_type": "display_data"
    }
   ],
   "source": [
    "zresults = f9wfs.fit_wavefront(results, plot=True)\n",
    "print(zresults['residual_rms'])\n",
    "print(zresults['zernike'])\n",
    "zresults['resid_plot'].show()"
   ]
  },
  {
   "cell_type": "code",
   "execution_count": null,
   "metadata": {},
   "outputs": [],
   "source": [
    "fig, ax = plt.subplots()\n",
    "fit = results['grid_fit']\n",
    "refx = refaps['xcentroid'] * (fit['scale'] + refaps['xcentroid'] * fit['xcoma']) + results['xcen']\n",
    "refy = refaps['ycentroid'] * (fit['scale'] + refaps['ycentroid'] * fit['ycoma']) + results['ycen']\n",
    "x, y = results['apertures'].positions.transpose()[0], results['apertures'].positions.transpose()[1]\n",
    "spacing = 0.5*(results['xspacing'] + results['yspacing'])\n",
    "ax.scatter(refx, refy)\n",
    "ax.set_aspect('equal')\n",
    "ax.scatter(x, y)\n",
    "ax.set_xlim(0, 845)\n",
    "ax.set_ylim(0, 845)\n",
    "fig.show()"
   ]
  },
  {
   "cell_type": "code",
   "execution_count": null,
   "metadata": {
    "collapsed": true
   },
   "outputs": [],
   "source": []
  },
  {
   "cell_type": "code",
   "execution_count": null,
   "metadata": {
    "collapsed": true
   },
   "outputs": [],
   "source": [
    "fit"
   ]
  },
  {
   "cell_type": "code",
   "execution_count": null,
   "metadata": {
    "collapsed": true
   },
   "outputs": [],
   "source": [
    "spots = {'xcentroid': x, 'ycentroid': y}\n",
    "from scipy import optimize\n",
    "\n",
    "def match_apertures(refx, refy, spotx, spoty):\n",
    "    tot_dist = 0.0\n",
    "    refs = np.array([refx, refy])\n",
    "    spots = np.array([spotx, spoty])\n",
    "    match = np.empty(len(refx))\n",
    "    max_r = spacing / 2.\n",
    "    for i in np.arange(len(refx)):\n",
    "        dists = np.sqrt( (spots[0]-refs[0][i])**2 + (spots[1]-refs[1][i])**2 )\n",
    "        tot_dist += np.min(dists)\n",
    "    return tot_dist\n",
    "\n",
    "def fit_apertures(pars, ref, spots):\n",
    "    xc = pars[0]\n",
    "    yc = pars[1]\n",
    "    xscale = pars[2]\n",
    "    yscale = pars[3]\n",
    "    xcoma = pars[4]\n",
    "    ycoma = pars[5]\n",
    "    refx = ref['xcentroid'] * (xscale + ref['xcentroid'] * xcoma) + xc\n",
    "    refy = ref['ycentroid'] * (yscale + ref['ycentroid'] * ycoma) + yc\n",
    "    spotx = spots['xcentroid']\n",
    "    spoty = spots['ycentroid']\n",
    "    dist = match_apertures(refx, refy, spotx, spoty)\n",
    "    return dist"
   ]
  },
  {
   "cell_type": "code",
   "execution_count": null,
   "metadata": {
    "collapsed": true
   },
   "outputs": [],
   "source": [
    "#%%timeit\n",
    "args = (refaps, spots)\n",
    "pars = (results['xcen'], results['ycen'], 1.0, 1.0, 0.0, 0.0)\n",
    "bounds = (\n",
    "    (results['xcen']-50, results['xcen']+50), \n",
    "    (results['ycen']-50, results['ycen']+50),\n",
    "    (0.8, 1.2),\n",
    "    (0.8, 1.2),\n",
    "    (-0.1, 0.1),\n",
    "    (-0.1, 0.1)\n",
    ")\n",
    "res = optimize.minimize(fit_apertures, pars, args=args, bounds=bounds)\n",
    "res"
   ]
  },
  {
   "cell_type": "code",
   "execution_count": null,
   "metadata": {
    "collapsed": true
   },
   "outputs": [],
   "source": [
    "fig, ax = plt.subplots()\n",
    "refx, refy = refaps['xcentroid'], refaps['ycentroid']\n",
    "refx = refx * (res['x'][2] + refx*res['x'][4]) + res['x'][0]\n",
    "refy = refy * (res['x'][3] + refy*res['x'][5]) + res['x'][1]\n",
    "x, y = results['apertures'].positions.transpose()[0], results['apertures'].positions.transpose()[1]\n",
    "ax.scatter(refx, refy)\n",
    "ax.set_aspect('equal')\n",
    "ax.scatter(x, y)\n",
    "ax.set_xlim(0, 845)\n",
    "ax.set_ylim(0, 845)\n",
    "fig.show()"
   ]
  },
  {
   "cell_type": "code",
   "execution_count": null,
   "metadata": {
    "collapsed": true
   },
   "outputs": [],
   "source": [
    "print(f9wfs.modes['blue']['reference']['xcen'], f9wfs.modes['blue']['reference']['ycen'])\n",
    "print(f9wfs.modes['blue']['reference']['xspacing'], f9wfs.modes['blue']['reference']['yspacing'])\n",
    "f9wfs.modes['blue']['reference'].keys()"
   ]
  },
  {
   "cell_type": "code",
   "execution_count": null,
   "metadata": {
    "collapsed": true
   },
   "outputs": [],
   "source": [
    "zv = zresults['zernike']\n",
    "print(zv.rms)\n",
    "zv.ignore('Z02')\n",
    "zv.ignore('Z03')\n",
    "f = zv.plot_map()\n",
    "f.show()"
   ]
  },
  {
   "cell_type": "code",
   "execution_count": null,
   "metadata": {
    "collapsed": true
   },
   "outputs": [],
   "source": [
    "bc = zv.bar_chart(residual=zresults['residual_rms'])\n",
    "bc.show()"
   ]
  },
  {
   "cell_type": "code",
   "execution_count": null,
   "metadata": {
    "collapsed": true
   },
   "outputs": [],
   "source": [
    "psf, psf_fig = f9wfs.telescope.psf(zv, fov=1.0)\n",
    "psf_fig.show()"
   ]
  },
  {
   "cell_type": "code",
   "execution_count": null,
   "metadata": {
    "collapsed": true
   },
   "outputs": [],
   "source": [
    "plt.close('all')"
   ]
  },
  {
   "cell_type": "markdown",
   "metadata": {},
   "source": [
    "# F/5 Dev Section"
   ]
  },
  {
   "cell_type": "code",
   "execution_count": null,
   "metadata": {
    "collapsed": true
   },
   "outputs": [],
   "source": [
    "plt.close('all')\n",
    "f5wfs = WFSFactory(wfs=\"f5\")"
   ]
  },
  {
   "cell_type": "code",
   "execution_count": null,
   "metadata": {},
   "outputs": [],
   "source": [
    "#%%prun\n",
    "f5_file = \"/Users/tim/MMT/wfsdat/20170605/manual_wfs_0005.fits\"\n",
    "results = f5wfs.measure_slopes(f5_file, 'hecto', plot=True)\n",
    "results['figures']['slopes'].show()"
   ]
  },
  {
   "cell_type": "code",
   "execution_count": null,
   "metadata": {},
   "outputs": [],
   "source": [
    "#%%prun\n",
    "zresults = f5wfs.fit_wavefront(results, plot=True)\n",
    "zv = zresults['zernike']\n",
    "print(zv)\n",
    "print(zv.rms)\n",
    "zresults['resid_plot'].show()"
   ]
  },
  {
   "cell_type": "code",
   "execution_count": null,
   "metadata": {
    "collapsed": true
   },
   "outputs": [],
   "source": [
    "zf = zv.bar_chart(residual=zresults['residual_rms'], total=True, max_c=500*u.nm)\n",
    "zf.show()\n",
    "zresults['residual_rms']"
   ]
  },
  {
   "cell_type": "code",
   "execution_count": null,
   "metadata": {
    "collapsed": true
   },
   "outputs": [],
   "source": [
    "zv.ignore('Z02')\n",
    "zv.ignore('Z03')\n",
    "zv.ignore('Z04')\n",
    "print(zv.rms)\n",
    "mf = zv.plot_map()\n",
    "mf.axes[0].set_title(\"boo\")\n",
    "mf.show()"
   ]
  },
  {
   "cell_type": "code",
   "execution_count": null,
   "metadata": {
    "collapsed": true
   },
   "outputs": [],
   "source": [
    "t, m1foc = f5wfs.telescope.calculate_primary_corrections(zresults['zernike'])"
   ]
  },
  {
   "cell_type": "code",
   "execution_count": null,
   "metadata": {
    "collapsed": true
   },
   "outputs": [],
   "source": [
    "fplot = f5wfs.telescope.plot_forces(t, m1focus=m1foc)\n",
    "fplot.show()"
   ]
  },
  {
   "cell_type": "code",
   "execution_count": null,
   "metadata": {
    "collapsed": true
   },
   "outputs": [],
   "source": [
    "t.show_in_notebook()"
   ]
  },
  {
   "cell_type": "markdown",
   "metadata": {},
   "source": [
    "# Scratch space"
   ]
  },
  {
   "cell_type": "code",
   "execution_count": null,
   "metadata": {
    "collapsed": true
   },
   "outputs": [],
   "source": [
    "cen = center_pupil(subt, pup, plot=True)\n",
    "print(cen)\n",
    "plt.show()"
   ]
  },
  {
   "cell_type": "code",
   "execution_count": null,
   "metadata": {
    "collapsed": true
   },
   "outputs": [],
   "source": [
    "from astropy.io import ascii"
   ]
  },
  {
   "cell_type": "code",
   "execution_count": null,
   "metadata": {
    "collapsed": true
   },
   "outputs": [],
   "source": [
    "t = f9wfs.telescope\n",
    "m = t.zern_map"
   ]
  },
  {
   "cell_type": "code",
   "execution_count": null,
   "metadata": {
    "collapsed": true
   },
   "outputs": [],
   "source": [
    "z = np.loadtxt(\"/Users/tim/MMT/wfsdat/20170110/mmirs_wfs_0375.dao.sub.zrn.cor\")\n",
    "z1 = np.loadtxt(\"/Users/tim/MMT/wfsdat/20170110/mmirs_wfs_0375.dao.av.zrn\")"
   ]
  },
  {
   "cell_type": "code",
   "execution_count": null,
   "metadata": {
    "collapsed": true
   },
   "outputs": [],
   "source": [
    "z1 - z"
   ]
  },
  {
   "cell_type": "code",
   "execution_count": null,
   "metadata": {
    "collapsed": true
   },
   "outputs": [],
   "source": [
    "Z = ZernikeVector(coeffs=z, zmap=m)"
   ]
  },
  {
   "cell_type": "code",
   "execution_count": null,
   "metadata": {
    "collapsed": true
   },
   "outputs": [],
   "source": [
    "Z"
   ]
  },
  {
   "cell_type": "code",
   "execution_count": null,
   "metadata": {
    "collapsed": true
   },
   "outputs": [],
   "source": [
    "from astropy.table import Table\n",
    "from astropy.io import ascii"
   ]
  },
  {
   "cell_type": "code",
   "execution_count": null,
   "metadata": {
    "collapsed": true
   },
   "outputs": [],
   "source": [
    "t = ascii.read(\"/Users/tim/MMT/mmtwfs/mmtwfs/data/mmirszernfield.tab\")"
   ]
  },
  {
   "cell_type": "code",
   "execution_count": null,
   "metadata": {
    "collapsed": true
   },
   "outputs": [],
   "source": [
    "t"
   ]
  },
  {
   "cell_type": "code",
   "execution_count": null,
   "metadata": {
    "collapsed": true
   },
   "outputs": [],
   "source": [
    "np.interp(0.12, t['field_r'], t['Z01'])"
   ]
  },
  {
   "cell_type": "code",
   "execution_count": null,
   "metadata": {
    "collapsed": true
   },
   "outputs": [],
   "source": [
    "range(4, 11)"
   ]
  },
  {
   "cell_type": "code",
   "execution_count": null,
   "metadata": {
    "collapsed": true
   },
   "outputs": [],
   "source": [
    "for i in range(4, 12):\n",
    "    print(\"Z%02d\" % i)"
   ]
  },
  {
   "cell_type": "code",
   "execution_count": null,
   "metadata": {
    "collapsed": true
   },
   "outputs": [],
   "source": [
    "np.max(1, 2)"
   ]
  },
  {
   "cell_type": "code",
   "execution_count": null,
   "metadata": {
    "collapsed": true
   },
   "outputs": [],
   "source": [
    "6.75 + 20.30 + 242.15 + 430.51"
   ]
  },
  {
   "cell_type": "code",
   "execution_count": null,
   "metadata": {
    "collapsed": true
   },
   "outputs": [],
   "source": [
    "13296 - (973.15/.575) - 1025.8"
   ]
  },
  {
   "cell_type": "code",
   "execution_count": null,
   "metadata": {
    "collapsed": true
   },
   "outputs": [],
   "source": [
    "23*6 + 12*6"
   ]
  },
  {
   "cell_type": "code",
   "execution_count": null,
   "metadata": {
    "collapsed": true
   },
   "outputs": [],
   "source": [
    "58.69*12"
   ]
  },
  {
   "cell_type": "code",
   "execution_count": null,
   "metadata": {
    "collapsed": true
   },
   "outputs": [],
   "source": [
    "210+16+69.5+704.28"
   ]
  },
  {
   "cell_type": "code",
   "execution_count": null,
   "metadata": {
    "collapsed": true
   },
   "outputs": [],
   "source": [
    "2225.37 - (977.15 + 999.78 + 699.71)"
   ]
  },
  {
   "cell_type": "code",
   "execution_count": null,
   "metadata": {
    "collapsed": true
   },
   "outputs": [],
   "source": [
    "103212.81+341.47-451.27+9632.5"
   ]
  },
  {
   "cell_type": "code",
   "execution_count": null,
   "metadata": {
    "collapsed": true
   },
   "outputs": [],
   "source": [
    "7324.5+3951.34"
   ]
  },
  {
   "cell_type": "code",
   "execution_count": null,
   "metadata": {
    "collapsed": true
   },
   "outputs": [],
   "source": [
    "112735.51 - (11275.84 + 7245.8 + 56) - 12150"
   ]
  },
  {
   "cell_type": "code",
   "execution_count": null,
   "metadata": {
    "collapsed": true
   },
   "outputs": [],
   "source": [
    "4050*3"
   ]
  },
  {
   "cell_type": "code",
   "execution_count": null,
   "metadata": {
    "collapsed": true
   },
   "outputs": [],
   "source": [
    "3000*.05"
   ]
  },
  {
   "cell_type": "code",
   "execution_count": null,
   "metadata": {
    "collapsed": true
   },
   "outputs": [],
   "source": [
    "28910/98610"
   ]
  },
  {
   "cell_type": "code",
   "execution_count": null,
   "metadata": {
    "collapsed": true
   },
   "outputs": [],
   "source": [
    "ai = [247.68, 252.69, 257.79, 261.79, 266.88, 696.98, 280.11, 261.96, 261.96, 261.92, 261.96]\n",
    "pep = [146.43, 147.28, 145.18, 142.83, 140.7, 138.47, 136.4, 134.18, 132.18, 129.89, 128.12, 126.22]"
   ]
  },
  {
   "cell_type": "code",
   "execution_count": null,
   "metadata": {
    "collapsed": true
   },
   "outputs": [],
   "source": [
    "0.2* (28910/98610 * (np.sum(ai) + np.sum(pep)))"
   ]
  },
  {
   "cell_type": "code",
   "execution_count": null,
   "metadata": {
    "collapsed": true
   },
   "outputs": [],
   "source": [
    "len(pep)"
   ]
  },
  {
   "cell_type": "code",
   "execution_count": null,
   "metadata": {
    "collapsed": true
   },
   "outputs": [],
   "source": [
    "12049 - (290.81 + 850)"
   ]
  },
  {
   "cell_type": "code",
   "execution_count": null,
   "metadata": {
    "collapsed": true
   },
   "outputs": [],
   "source": [
    "18577.64-7324.5"
   ]
  },
  {
   "cell_type": "code",
   "execution_count": null,
   "metadata": {
    "collapsed": true
   },
   "outputs": [],
   "source": [
    "110940.01-11253.14 - 9600"
   ]
  },
  {
   "cell_type": "code",
   "execution_count": null,
   "metadata": {
    "collapsed": true
   },
   "outputs": [],
   "source": [
    "0.032 * 90086.87 + 4226.63"
   ]
  },
  {
   "cell_type": "code",
   "execution_count": null,
   "metadata": {
    "collapsed": true
   },
   "outputs": [],
   "source": [
    "x = 1920 * 5.86e-3 * u.mm\n",
    "\n",
    "y = 1200 * 5.86e-3 * u.mm"
   ]
  },
  {
   "cell_type": "code",
   "execution_count": null,
   "metadata": {
    "collapsed": true
   },
   "outputs": [],
   "source": [
    "np.sqrt(x**2 + y**2)"
   ]
  },
  {
   "cell_type": "code",
   "execution_count": null,
   "metadata": {
    "collapsed": true
   },
   "outputs": [],
   "source": [
    "np.max((1, 2))"
   ]
  },
  {
   "cell_type": "code",
   "execution_count": null,
   "metadata": {
    "collapsed": true
   },
   "outputs": [],
   "source": [
    "mmirs.pup_size"
   ]
  },
  {
   "cell_type": "code",
   "execution_count": null,
   "metadata": {
    "collapsed": true
   },
   "outputs": [],
   "source": [
    "mmirs.modes['mmirs2']['reference']['sigma']"
   ]
  },
  {
   "cell_type": "code",
   "execution_count": null,
   "metadata": {
    "collapsed": true
   },
   "outputs": [],
   "source": [
    "sigma = results['fwhm'] * stats.funcs.gaussian_fwhm_to_sigma\n",
    "\n",
    "wave = 650 * u.nm\n",
    "wave = wave.to(u.m).value  # r_0 equation expects meters so convert\n",
    "# calculate the physical size of each aperture.\n",
    "ref = mmirs.modes['mmirs2']['reference']\n",
    "apsize_pix = np.max((ref['xspacing'], ref['yspacing']))\n",
    "d = mmirs.telescope.diameter * apsize_pix / mmirs.pup_size\n",
    "d = d.to(u.m).value  # r_0 equation expects meters so convert\n",
    "\n",
    "# we need to deconvolve the instrumental spot width from the measured one\n",
    "ref_sigma = ref['sigma']\n",
    "if sigma > ref_sigma:\n",
    "    corr_sigma = np.sqrt(sigma**2 - ref_sigma**2)\n",
    "else:\n",
    "    corr_sigma = 0.0\n",
    "corr_sigma *= mmirs.pix_size.to(u.rad).value  # r_0 equation expects radians so convert\n",
    "# this equation relates the motion within a single aperture to the characteristic scale size of the\n",
    "# turbulence, r_0.\n",
    "r_0 = ( 0.179 * (wave**2) * (d**(-1./3.))/corr_sigma**2 )**0.6\n",
    "print(r_0)\n",
    "# this equation relates the turbulence scale size to an expected image FWHM at the given wavelength.\n",
    "raw_seeing = u.rad * 0.98 * wave / r_0\n",
    "raw_seeing = raw_seeing.to(u.arcsec)\n"
   ]
  },
  {
   "cell_type": "code",
   "execution_count": null,
   "metadata": {
    "collapsed": true
   },
   "outputs": [],
   "source": [
    "\"{0.value:0.2f}{0.unit:unicode}\".format(raw_seeing)"
   ]
  },
  {
   "cell_type": "code",
   "execution_count": null,
   "metadata": {
    "collapsed": true
   },
   "outputs": [],
   "source": [
    "np.sqrt(sigma**2 - ref_sigma**2)"
   ]
  },
  {
   "cell_type": "code",
   "execution_count": null,
   "metadata": {
    "collapsed": true
   },
   "outputs": [],
   "source": [
    "def_mask = ['Z02', 'Z03', 'Z04']\n",
    "mask = ['Z04', 'Z10']\n",
    "def_mask.extend(mask)\n",
    "mask = list(set(def_mask))\n",
    "mask"
   ]
  },
  {
   "cell_type": "code",
   "execution_count": null,
   "metadata": {
    "collapsed": true
   },
   "outputs": [],
   "source": [
    "f = ZernikeVector()"
   ]
  },
  {
   "cell_type": "code",
   "execution_count": null,
   "metadata": {
    "collapsed": true
   },
   "outputs": [],
   "source": [
    "mmirs.telescope.bending_forces(zv=f)"
   ]
  },
  {
   "cell_type": "code",
   "execution_count": null,
   "metadata": {
    "collapsed": true
   },
   "outputs": [],
   "source": [
    "z = ZernikeVector(Z07=500*u.nm)\n",
    "z.plot_map()\n",
    "plt.show()"
   ]
  },
  {
   "cell_type": "code",
   "execution_count": null,
   "metadata": {
    "collapsed": true
   },
   "outputs": [],
   "source": [
    "-z['Z08']"
   ]
  },
  {
   "cell_type": "code",
   "execution_count": null,
   "metadata": {
    "collapsed": true
   },
   "outputs": [],
   "source": [
    "xc, yc = 245, 270\n",
    "xcen, ycen = 255, 255\n",
    "dx = xc - xcen\n",
    "dy = yc - ycen\n",
    "dr, phi = cart2pol([dx, dy])"
   ]
  },
  {
   "cell_type": "code",
   "execution_count": null,
   "metadata": {
    "collapsed": true
   },
   "outputs": [],
   "source": [
    "derot_phi = phi - u.Quantity(225*u.deg, u.rad).value\n",
    "pol2cart([dr, derot_phi])"
   ]
  },
  {
   "cell_type": "code",
   "execution_count": null,
   "metadata": {
    "collapsed": true
   },
   "outputs": [],
   "source": [
    "u.Quantity(225*u.deg, u.rad).value"
   ]
  },
  {
   "cell_type": "code",
   "execution_count": null,
   "metadata": {
    "collapsed": true
   },
   "outputs": [],
   "source": [
    "dx, dy"
   ]
  },
  {
   "cell_type": "code",
   "execution_count": null,
   "metadata": {
    "collapsed": true
   },
   "outputs": [],
   "source": [
    "t = mmirs.telescope\n",
    "zv = ZernikeVector(Z05=1000, Z11=250)\n",
    "force, focus = t.correct_primary(zv)\n",
    "f1 = focus.copy()\n",
    "uforce, ufocus = t.undo_last()\n",
    "print(ufocus)\n",
    "print(f1)\n",
    "assert(ufocus == -1 * f1)"
   ]
  },
  {
   "cell_type": "code",
   "execution_count": null,
   "metadata": {
    "collapsed": true
   },
   "outputs": [],
   "source": [
    "focus.copy()"
   ]
  },
  {
   "cell_type": "code",
   "execution_count": null,
   "metadata": {
    "collapsed": true
   },
   "outputs": [],
   "source": [
    "np.allclose(np.zeros(2), 0.0)"
   ]
  },
  {
   "cell_type": "code",
   "execution_count": null,
   "metadata": {
    "collapsed": true
   },
   "outputs": [],
   "source": [
    "s = \"offset_inc wfs z 200.3\"\n",
    "assert(\"200.3\" in s)"
   ]
  },
  {
   "cell_type": "code",
   "execution_count": null,
   "metadata": {
    "collapsed": true
   },
   "outputs": [],
   "source": [
    "fig, ax = plt.subplots()"
   ]
  },
  {
   "cell_type": "code",
   "execution_count": null,
   "metadata": {
    "collapsed": true
   },
   "outputs": [],
   "source": [
    "ax.imshow(results['data'], cmap=cm.Greys)\n",
    "fig.savefig(\"test.png\")"
   ]
  },
  {
   "cell_type": "code",
   "execution_count": null,
   "metadata": {
    "collapsed": true
   },
   "outputs": [],
   "source": [
    "a = fig.axes[0]"
   ]
  },
  {
   "cell_type": "code",
   "execution_count": null,
   "metadata": {
    "collapsed": true
   },
   "outputs": [],
   "source": [
    "fig.show()"
   ]
  },
  {
   "cell_type": "code",
   "execution_count": null,
   "metadata": {
    "collapsed": true
   },
   "outputs": [],
   "source": [
    "\"{0:0.0f}\".format((550 * u.nm))"
   ]
  },
  {
   "cell_type": "code",
   "execution_count": null,
   "metadata": {
    "collapsed": true
   },
   "outputs": [],
   "source": [
    "x, y, r, p, ph = zvec.phase_map(n=100)\n",
    "i = np.argsort(x)"
   ]
  },
  {
   "cell_type": "code",
   "execution_count": null,
   "metadata": {
    "collapsed": true
   },
   "outputs": [],
   "source": [
    "from plotly.offline import download_plotlyjs, init_notebook_mode, plot, iplot\n",
    "import plotly.graph_objs as go\n",
    "init_notebook_mode(connected=True)"
   ]
  },
  {
   "cell_type": "code",
   "execution_count": null,
   "metadata": {
    "collapsed": true
   },
   "outputs": [],
   "source": [
    "data = [go.Heatmap(z=np.array(ph[i]), x=x[i], y=y[i], colorscale='RdBu')]\n",
    "layout = go.Layout(title=\"test\")\n",
    "fig = go.Figure(data=data, layout=layout)\n",
    "plot(fig, filename=\"blah\")"
   ]
  },
  {
   "cell_type": "code",
   "execution_count": null,
   "metadata": {
    "collapsed": true
   },
   "outputs": [],
   "source": [
    "np.min(ph)"
   ]
  },
  {
   "cell_type": "code",
   "execution_count": null,
   "metadata": {
    "collapsed": true
   },
   "outputs": [],
   "source": [
    "0.119 * 5.4*3/20"
   ]
  },
  {
   "cell_type": "code",
   "execution_count": null,
   "metadata": {
    "collapsed": true
   },
   "outputs": [],
   "source": [
    "if 'HOME' in os.environ:\n",
    "    print('y')"
   ]
  },
  {
   "cell_type": "code",
   "execution_count": null,
   "metadata": {
    "collapsed": true
   },
   "outputs": [],
   "source": [
    "np.zeros((512, 512)).shape"
   ]
  },
  {
   "cell_type": "code",
   "execution_count": null,
   "metadata": {
    "collapsed": true
   },
   "outputs": [],
   "source": [
    "zv = ZernikeVector()"
   ]
  },
  {
   "cell_type": "code",
   "execution_count": null,
   "metadata": {
    "collapsed": true
   },
   "outputs": [],
   "source": [
    "zv.plot_map()"
   ]
  },
  {
   "cell_type": "code",
   "execution_count": null,
   "metadata": {
    "collapsed": true
   },
   "outputs": [],
   "source": [
    "t = MMT()\n",
    "zv = ZernikeVector(Z05=1000, Z11=250)\n",
    "force, focus = t.calculate_primary_corrections(zv)"
   ]
  },
  {
   "cell_type": "code",
   "execution_count": null,
   "metadata": {
    "collapsed": true
   },
   "outputs": [],
   "source": [
    "lforce, lfocus = t.correct_primary(force, focus)"
   ]
  },
  {
   "cell_type": "code",
   "execution_count": null,
   "metadata": {
    "collapsed": true
   },
   "outputs": [],
   "source": [
    "uforce, ufocus = t.undo_last()"
   ]
  },
  {
   "cell_type": "code",
   "execution_count": null,
   "metadata": {
    "collapsed": true
   },
   "outputs": [],
   "source": [
    "focus, lfocus, ufocus"
   ]
  },
  {
   "cell_type": "code",
   "execution_count": null,
   "metadata": {
    "collapsed": true
   },
   "outputs": [],
   "source": [
    "newf9 = WFSFactory(wfs=\"newf9\")"
   ]
  },
  {
   "cell_type": "code",
   "execution_count": null,
   "metadata": {
    "collapsed": true
   },
   "outputs": [],
   "source": [
    "newf9.modes['blue']['reference']"
   ]
  },
  {
   "cell_type": "code",
   "execution_count": null,
   "metadata": {
    "collapsed": true
   },
   "outputs": [],
   "source": [
    "x = newf9.modes['blue']['reference']['apertures']['xcentroid'] + newf9.modes['blue']['reference']['xcen']"
   ]
  },
  {
   "cell_type": "code",
   "execution_count": null,
   "metadata": {
    "collapsed": true
   },
   "outputs": [],
   "source": [
    "y = newf9.modes['blue']['reference']['apertures']['ycentroid'] + newf9.modes['blue']['reference']['ycen']"
   ]
  },
  {
   "cell_type": "code",
   "execution_count": null,
   "metadata": {
    "collapsed": true
   },
   "outputs": [],
   "source": [
    "arr = np.array((x.data, y.data)).transpose()"
   ]
  },
  {
   "cell_type": "code",
   "execution_count": null,
   "metadata": {
    "collapsed": true
   },
   "outputs": [],
   "source": [
    "np.savetxt(\"blah.txt\", arr, fmt=\"%.3f\")"
   ]
  },
  {
   "cell_type": "code",
   "execution_count": null,
   "metadata": {
    "collapsed": true
   },
   "outputs": [],
   "source": [
    "np.savetxt?"
   ]
  },
  {
   "cell_type": "code",
   "execution_count": null,
   "metadata": {
    "collapsed": true
   },
   "outputs": [],
   "source": []
  },
  {
   "cell_type": "code",
   "execution_count": null,
   "metadata": {
    "collapsed": true
   },
   "outputs": [],
   "source": [
    "x, y = 405, 445\n",
    "xnew, ynew = 438, 469\n",
    "xref, yref = 433, 431\n",
    "pixsize = 0.09639\n",
    "\n",
    "rot = u.Quantity(-225 * u.deg, u.rad).value\n",
    "\n",
    "dx = x - xref\n",
    "dy = y - yref\n",
    "\n",
    "dr, phi = cart2pol([dx, dy])\n",
    "\n",
    "derot_phi = phi - rot\n",
    "\n",
    "az, el = pol2cart([dr, derot_phi])\n",
    "print(az, el)"
   ]
  },
  {
   "cell_type": "code",
   "execution_count": null,
   "metadata": {
    "collapsed": true
   },
   "outputs": [],
   "source": [
    "x, y = 405, 445\n",
    "xnew, ynew = 438, 469\n",
    "xref, yref = 433, 431\n",
    "pixsize = 0.09639\n",
    "\n",
    "rot = u.Quantity(-225 * u.deg, u.rad).value\n",
    "\n",
    "dx = 1 * (x - xref)\n",
    "dy = 1 * (y - yref)\n",
    "\n",
    "dr, phi = cart2pol([dx, dy])\n",
    "\n",
    "derot_phi = phi - rot\n",
    "\n",
    "az, el = pol2cart([dr, derot_phi])\n",
    "print(az, el)"
   ]
  },
  {
   "cell_type": "code",
   "execution_count": null,
   "metadata": {
    "collapsed": true
   },
   "outputs": [],
   "source": [
    "azcorr = 3.0 / pixsize\n",
    "elcorr = 0.9 / pixsize\n",
    "drc, phic = cart2pol([azcorr, elcorr])\n",
    "derot_phic = phic + rot\n",
    "az_pix, el_pix = pol2cart([drc, derot_phic])\n",
    "print(az_pix, el_pix)"
   ]
  },
  {
   "cell_type": "code",
   "execution_count": null,
   "metadata": {
    "collapsed": true
   },
   "outputs": [],
   "source": [
    "a = np.arange(5)"
   ]
  },
  {
   "cell_type": "code",
   "execution_count": null,
   "metadata": {
    "collapsed": true
   },
   "outputs": [],
   "source": [
    "np.delete(a, 2)"
   ]
  },
  {
   "cell_type": "code",
   "execution_count": null,
   "metadata": {
    "collapsed": true
   },
   "outputs": [],
   "source": []
  }
 ],
 "metadata": {
  "kernelspec": {
   "display_name": "Python 3",
   "language": "python",
   "name": "python3"
  },
  "language_info": {
   "codemirror_mode": {
    "name": "ipython",
    "version": 3
   },
   "file_extension": ".py",
   "mimetype": "text/x-python",
   "name": "python",
   "nbconvert_exporter": "python",
   "pygments_lexer": "ipython3",
   "version": "3.6.2"
  }
 },
 "nbformat": 4,
 "nbformat_minor": 2
}
