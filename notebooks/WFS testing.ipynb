{
 "cells": [
  {
   "cell_type": "code",
   "execution_count": 1,
   "metadata": {},
   "outputs": [
    {
     "name": "stderr",
     "output_type": "stream",
     "text": [
      "WARNING: AstropyDeprecationWarning: Composition of model classes will be removed in 4.0 (but composition of model instances is not affected) [astropy.modeling.core]\n",
      "WARNING: AstropyDeprecationWarning: astropy.extern.six will be removed in 4.0, use the six module directly if it is still needed [astropy.extern.six]\n"
     ]
    }
   ],
   "source": [
    "import time\n",
    "import os\n",
    "import sys\n",
    "import numpy as np\n",
    "#import ipympl\n",
    "import matplotlib\n",
    "matplotlib.use('nbagg')\n",
    "#from matplotlib import style\n",
    "#style.use('ggplot')\n",
    "import matplotlib.pyplot as plt\n",
    "\n",
    "import astropy.units as u\n",
    "from astropy import stats\n",
    "from astropy.io import fits\n",
    "from mmtwfs.wfs import *\n",
    "from mmtwfs.zernike import ZernikeVector\n",
    "from mmtwfs.telescope import MMT"
   ]
  },
  {
   "cell_type": "code",
   "execution_count": 2,
   "metadata": {},
   "outputs": [],
   "source": [
    "%load_ext autoreload\n",
    "%autoreload 2"
   ]
  },
  {
   "cell_type": "code",
   "execution_count": 3,
   "metadata": {},
   "outputs": [],
   "source": [
    "def wfsrun(wfs, mode, file):\n",
    "    r = wfs.measure_slopes(file, mode=mode, plot=True)\n",
    "    return r"
   ]
  },
  {
   "cell_type": "markdown",
   "metadata": {},
   "source": [
    "# Binospec Dev Section"
   ]
  },
  {
   "cell_type": "code",
   "execution_count": null,
   "metadata": {},
   "outputs": [],
   "source": [
    "bino = WFSFactory(wfs=\"binospec\")"
   ]
  },
  {
   "cell_type": "code",
   "execution_count": null,
   "metadata": {},
   "outputs": [],
   "source": [
    "#%%prun\n",
    "#bino_file = \"/Volumes/LaCie 8TB/wfsdat/20180208/wfs_ff_cal_img_2018.0208.074052.fits\"\n",
    "bino_file = \"/Users/tim/MMT/mmtwfs/mmtwfs/data/test_data/wfs_ff_cal_img_2017.1113.111402.fits\"\n",
    "#bino_file = \"/Volumes/LaCie 8TB/wfsdat/20180209/wfs_ff_cal_img_2018.0209.114054.fits\"\n",
    "#bino_file = \"/Volumes/LaCie 8TB/wfsdat/20180210/wfs_ff_cal_img_2018.0210.095719.fits\"\n",
    "#bino_file = \"/Volumes/LaCie 8TB/wfsdat/20180210/wfs_ff_cal_img_2018.0210.102615.fits\"\n",
    "#bino_file = \"/Volumes/LaCie 8TB/wfsdat/20180604/wfs_ff_cal_img_2018.0604.052401.fits\"\n",
    "results = bino.measure_slopes(bino_file, mode=\"binospec\", plot=True)\n",
    "results['figures']['slopes'].show()"
   ]
  },
  {
   "cell_type": "code",
   "execution_count": null,
   "metadata": {},
   "outputs": [],
   "source": [
    "refaps = bino.modes['binospec']['reference'].masked_apertures\n",
    "fig, ax = plt.subplots()\n",
    "fit = results['grid_fit']\n",
    "refx = refaps['xcentroid'] * (fit['scale'] + refaps['xcentroid'] * fit['xcoma']) + fit['xcen']\n",
    "refy = refaps['ycentroid'] * (fit['scale'] + refaps['ycentroid'] * fit['ycoma']) + fit['ycen']\n",
    "x, y = results['apertures'].positions.transpose()[0], results['apertures'].positions.transpose()[1]\n",
    "spacing = 0.5*(results['xspacing'] + results['yspacing'])\n",
    "ax.scatter(refx, refy)\n",
    "ax.set_aspect('equal')\n",
    "ax.scatter(x, y)\n",
    "ax.set_xlim(0, 512)\n",
    "ax.set_ylim(0, 512)\n",
    "fig.show()\n",
    "\n",
    "results['grid_fit']"
   ]
  },
  {
   "cell_type": "code",
   "execution_count": null,
   "metadata": {},
   "outputs": [],
   "source": [
    "#%%prun\n",
    "zresults = bino.fit_wavefront(results, plot=True)\n",
    "zvec = zresults['zernike']\n",
    "print(zresults['residual_rms'])\n",
    "#zvec.normalize()\n",
    "print(zvec.pretty_print())\n",
    "#print(zvec)\n",
    "zresults['resid_plot'].show()"
   ]
  },
  {
   "cell_type": "code",
   "execution_count": null,
   "metadata": {},
   "outputs": [],
   "source": [
    "zvec.fringe_bar_chart().show()"
   ]
  },
  {
   "cell_type": "code",
   "execution_count": null,
   "metadata": {},
   "outputs": [],
   "source": [
    "zvec.bar_chart(last_mode=22).show()"
   ]
  },
  {
   "cell_type": "code",
   "execution_count": null,
   "metadata": {},
   "outputs": [],
   "source": [
    "zvec.plot_map().show()"
   ]
  },
  {
   "cell_type": "code",
   "execution_count": null,
   "metadata": {},
   "outputs": [],
   "source": [
    "zv = ZernikeVector(Z38=100)\n",
    "ft, m1c, zv_masked = bino.telescope.calculate_primary_corrections(zvec, mask=['Z22'])\n",
    "bino.telescope.to_rcell(ft, filename=\"null_forces\")"
   ]
  },
  {
   "cell_type": "code",
   "execution_count": null,
   "metadata": {},
   "outputs": [],
   "source": [
    "forces, m1focus, zv_masked = bino.calculate_primary(zvec, threshold=0.25*zresults['residual_rms'])"
   ]
  },
  {
   "cell_type": "code",
   "execution_count": null,
   "metadata": {},
   "outputs": [],
   "source": [
    "bino.modes['binospec']['reference']"
   ]
  },
  {
   "cell_type": "code",
   "execution_count": null,
   "metadata": {},
   "outputs": [],
   "source": [
    "bino.modes['binospec']['reference']['xspacing'], bino.modes['binospec']['reference']['yspacing']"
   ]
  },
  {
   "cell_type": "code",
   "execution_count": null,
   "metadata": {},
   "outputs": [],
   "source": [
    "bino.modes['binospec']['reference']['figure'].show()"
   ]
  },
  {
   "cell_type": "markdown",
   "metadata": {},
   "source": [
    "# MMIRS Dev Section"
   ]
  },
  {
   "cell_type": "code",
   "execution_count": null,
   "metadata": {},
   "outputs": [],
   "source": [
    "mmirs = WFSFactory(wfs=\"mmirs\")"
   ]
  },
  {
   "cell_type": "code",
   "execution_count": null,
   "metadata": {},
   "outputs": [],
   "source": [
    "plt.close('all')\n",
    "mmirs_file = \"/Users/tim/MMT/wfsdat/20181120/mmirs_wfs_%04d.fits\" % 157\n",
    "mmirs_file = \"/Volumes/LaCie 8TB/wfsdat/20181221/mmirs_wfs_%04d.fits\" % 261\n",
    "mmirs_file = \"/Users/tim/MMT/mmtwfs/mmtwfs/data/test_data/mmirs_wfs_0150.fits\"\n",
    "#mmirs_file = \"/Volumes/LaCie 8TB/wfsdat/20180511/mmirs_wfs_0265.fits\"\n",
    "#mmirs_file = \"/Users/tim/MMT/wfsdat/test/mmirs_wfs_0192.fits\"\n",
    "#mmirs_file = \"/Volumes/LaCie 8TB/wfsdat/20181121/mmirs_wfs_0201.fits\"\n",
    "#mmirs_file = \"/Users/tim/MMT/wfsdat/20181120/mmirs_wfs_0005.fits\"\n",
    "results = mmirs.measure_slopes(mmirs_file, plot=True)\n",
    "results['figures']['slopes'].show()"
   ]
  },
  {
   "cell_type": "code",
   "execution_count": null,
   "metadata": {},
   "outputs": [],
   "source": [
    "hdu = fits.PrimaryHDU(results['data'])\n",
    "hdu.writeto('data.fits', overwrite=True)\n",
    "mmirs.telescope.obscuration"
   ]
  },
  {
   "cell_type": "code",
   "execution_count": null,
   "metadata": {
    "scrolled": false
   },
   "outputs": [],
   "source": [
    "zresults = mmirs.fit_wavefront(results, plot=True)\n",
    "zvec = zresults['zernike']\n",
    "print(zresults['residual_rms'])\n",
    "#zvec.normalize()\n",
    "print(zvec.pretty_print())\n",
    "zresults['resid_plot'].show()"
   ]
  },
  {
   "cell_type": "code",
   "execution_count": null,
   "metadata": {},
   "outputs": [],
   "source": [
    "zresults['zernike'].fringe_bar_chart().show()"
   ]
  },
  {
   "cell_type": "code",
   "execution_count": null,
   "metadata": {},
   "outputs": [],
   "source": [
    "fig, ax = plt.subplots()\n",
    "norm = wfs_norm(results['data'])\n",
    "ax.imshow(results['data'], cmap='Greys', origin='lower', norm=norm, interpolation='None')\n",
    "mmirs.modes['mmirs1']['reference'].photapers.plot(color='red', lw=1.5, alpha=0.1, ax=ax)\n",
    "plt.show()"
   ]
  },
  {
   "cell_type": "code",
   "execution_count": null,
   "metadata": {},
   "outputs": [],
   "source": [
    "plt.close('all')"
   ]
  },
  {
   "cell_type": "code",
   "execution_count": null,
   "metadata": {},
   "outputs": [],
   "source": [
    "refaps = mmirs.modes['mmirs1']['reference'].masked_apertures\n",
    "fig, ax = plt.subplots()\n",
    "fit = results['grid_fit']\n",
    "refx = refaps['xcentroid'] * (fit['scale'] + refaps['xcentroid'] * fit['xcoma']) + fit['xcen']\n",
    "refy = refaps['ycentroid'] * (fit['scale'] + refaps['ycentroid'] * fit['ycoma']) + fit['ycen']\n",
    "x, y = results['apertures'].positions.transpose()[0], results['apertures'].positions.transpose()[1]\n",
    "spacing = 0.5*(results['xspacing'] + results['yspacing'])\n",
    "ax.scatter(refx, refy)\n",
    "ax.set_aspect('equal')\n",
    "ax.scatter(x, y)\n",
    "ax.set_xlim(0, 512)\n",
    "ax.set_ylim(0, 512)\n",
    "fig.show()\n",
    "\n",
    "results['grid_fit']"
   ]
  },
  {
   "cell_type": "code",
   "execution_count": null,
   "metadata": {},
   "outputs": [],
   "source": [
    "zresults['zernike'].bar_chart(last_mode=21).show()"
   ]
  },
  {
   "cell_type": "code",
   "execution_count": null,
   "metadata": {},
   "outputs": [],
   "source": [
    "psf, pfig = mmirs.telescope.psf(zresults['zernike'].copy())\n",
    "pfig.show()"
   ]
  },
  {
   "cell_type": "code",
   "execution_count": null,
   "metadata": {},
   "outputs": [],
   "source": [
    "print(mmirs.modes['mmirs1']['reference']['fwhm'])\n",
    "\n",
    "spot = mmirs.modes['mmirs1']['reference']['spot']\n",
    "model = Gaussian2D(amplitude=spot.max(), x_mean=spot.shape[1]/2, y_mean=spot.shape[0]/2) + Polynomial2D(degree=0)\n",
    "#model = Gaussian2D(amplitude=spot.max(), x_mean=spot.shape[1]/2, y_mean=spot.shape[0]/2)\n",
    "fitter = LevMarLSQFitter()\n",
    "y, x = np.mgrid[:spot.shape[0], :spot.shape[1]]\n",
    "fit = fitter(model, x, y, spot)\n",
    "fig, ax = plt.subplots()\n",
    "ax.imshow(mmirs.modes['mmirs1']['reference']['spot'] - fit(x, y))\n",
    "fig.show()"
   ]
  },
  {
   "cell_type": "code",
   "execution_count": null,
   "metadata": {},
   "outputs": [],
   "source": [
    "mmirs.modes['mmirs1']['reference']['figure'].show()\n",
    "mmirs.modes['mmirs1']['reference']['xspacing'], mmirs.modes['mmirs1']['reference']['yspacing']"
   ]
  },
  {
   "cell_type": "code",
   "execution_count": null,
   "metadata": {},
   "outputs": [],
   "source": [
    "zplot = zvec.copy()\n",
    "zplot.ignore('Z02')\n",
    "zplot.ignore('Z03')\n",
    "mfig = zplot.plot_map()\n",
    "mfig.show()\n",
    "zplot.peak2valley"
   ]
  },
  {
   "cell_type": "code",
   "execution_count": null,
   "metadata": {},
   "outputs": [],
   "source": [
    "zvec.units = u.nm\n",
    "f = zvec.bar_chart(residual=zresults['residual_rms'])\n",
    "f.set_size_inches(9, 5)\n",
    "\n",
    "f.show()"
   ]
  },
  {
   "cell_type": "code",
   "execution_count": null,
   "metadata": {},
   "outputs": [],
   "source": [
    "plt.close(f)"
   ]
  },
  {
   "cell_type": "code",
   "execution_count": null,
   "metadata": {},
   "outputs": [],
   "source": [
    "torig = mmirs.telescope.bending_forces(zvec)\n",
    "torig.show_in_notebook()"
   ]
  },
  {
   "cell_type": "code",
   "execution_count": null,
   "metadata": {},
   "outputs": [],
   "source": [
    "force_fig = mmirs.telescope.plot_forces(torig)\n",
    "force_fig.show()"
   ]
  },
  {
   "cell_type": "code",
   "execution_count": null,
   "metadata": {},
   "outputs": [],
   "source": [
    "t, m1foc = mmirs.correct_primary(zv=zvec)\n",
    "print(m1foc)\n",
    "t.show_in_notebook()"
   ]
  },
  {
   "cell_type": "code",
   "execution_count": null,
   "metadata": {},
   "outputs": [],
   "source": [
    "new_force_fig = mmirs.telescope.plot_forces(t)\n",
    "new_force_fig.show()"
   ]
  },
  {
   "cell_type": "code",
   "execution_count": null,
   "metadata": {},
   "outputs": [],
   "source": [
    "zpsf = ZernikeVector()\n",
    "psf, psf_fig = mmirs.telescope.psf(zpsf, plot=True)\n",
    "psf_fig.set_size_inches(4.0, 4.0)\n",
    "psf_fig.show()"
   ]
  },
  {
   "cell_type": "markdown",
   "metadata": {},
   "source": [
    "# F/9 Dev Section"
   ]
  },
  {
   "cell_type": "code",
   "execution_count": null,
   "metadata": {},
   "outputs": [],
   "source": [
    "plt.close('all')\n",
    "f9wfs = WFSFactory(wfs=\"newf9\")\n",
    "#f9wfs = WFSFactory(wfs=\"newf9\", pup_offset=[0.0, 0.0])"
   ]
  },
  {
   "cell_type": "code",
   "execution_count": null,
   "metadata": {},
   "outputs": [],
   "source": [
    "f9wfs.modes['blue']['reference'].figure.show()"
   ]
  },
  {
   "cell_type": "code",
   "execution_count": null,
   "metadata": {},
   "outputs": [],
   "source": [
    "baseline1_files = [\"f9wfs_20180131-191734.fits\", \"f9wfs_20180131-191925.fits\", \"f9wfs_20180131-192131.fits\"]\n",
    "baseline2_files = [\"f9wfs_20180131-192350.fits\", \"f9wfs_20180131-192541.fits\", \"f9wfs_20180131-192731.fits\"]\n",
    "baseline3_files = [\n",
    "    \"f9wfs_20180131-192927.fits\", \"f9wfs_20180131-193109.fits\", \n",
    "    \"f9wfs_20180131-193325.fits\", \"f9wfs_20180131-193509.fits\"\n",
    "]"
   ]
  },
  {
   "cell_type": "code",
   "execution_count": null,
   "metadata": {},
   "outputs": [],
   "source": [
    "plt.close('all')\n",
    "#f9_file = \"/Volumes/LaCie 8TB/wfsdat/20180201/\" + baseline2_files[0]\n",
    "f9_file = \"/Users/tim/MMT/mmtwfs/mmtwfs/data/test_data/test_newf9.fits\"\n",
    "#f9_file = \"/Users/tim/MMT/wfsdat/test/f9wfs_20180908-220524.fits\"\n",
    "#f9_file = \"/Users/tim/MMT/wfsdat/20190104/f9wfs_20190104-020657.fits\"\n",
    "results = f9wfs.measure_slopes(f9_file, 'spol', plot=True)\n",
    "#plt.scatter(refaps['xcentroid']+results['xcen'], refaps['ycentroid']+results['ycen'])\n",
    "results['figures']['slopes'].show()\n",
    "# 265 258\n",
    "# ref 240 259.5"
   ]
  },
  {
   "cell_type": "code",
   "execution_count": null,
   "metadata": {},
   "outputs": [],
   "source": [
    "zresults = f9wfs.fit_wavefront(results, plot=True)\n",
    "print(zresults['residual_rms'])\n",
    "print(zresults['zernike'].pretty_print())\n",
    "zresults['resid_plot'].show()"
   ]
  },
  {
   "cell_type": "code",
   "execution_count": null,
   "metadata": {},
   "outputs": [],
   "source": [
    "results['ref_mask']"
   ]
  },
  {
   "cell_type": "code",
   "execution_count": null,
   "metadata": {},
   "outputs": [],
   "source": [
    "f9wfs.modes['blue']['reference'].xcen"
   ]
  },
  {
   "cell_type": "code",
   "execution_count": null,
   "metadata": {},
   "outputs": [],
   "source": [
    "refaps = f9wfs.modes['blue']['reference'].masked_apertures\n",
    "fig, ax = plt.subplots()\n",
    "fit = results['grid_fit']\n",
    "refx = refaps['xcentroid'] * (fit['scale'] + refaps['xcentroid'] * fit['xcoma']) + fit['xcen']\n",
    "refy = refaps['ycentroid'] * (fit['scale'] + refaps['ycentroid'] * fit['ycoma']) + fit['ycen']\n",
    "x, y = results['apertures'].positions.transpose()[0], results['apertures'].positions.transpose()[1]\n",
    "spacing = 0.5*(results['xspacing'] + results['yspacing'])\n",
    "ax.scatter(refx, refy)\n",
    "ax.set_aspect('equal')\n",
    "ax.scatter(x, y)\n",
    "ax.set_xlim(0, 845)\n",
    "ax.set_ylim(0, 845)\n",
    "fig.show()\n",
    "fit['scale']"
   ]
  },
  {
   "cell_type": "code",
   "execution_count": null,
   "metadata": {},
   "outputs": [],
   "source": [
    "data = check_wfsdata(f9_file)\n",
    "x = np.arange(data.shape[1])\n",
    "y = np.arange(data.shape[0])\n",
    "bx = np.arange(data.shape[1]+1)\n",
    "by = np.arange(data.shape[0]+1)\n",
    "apertures = results['spots']\n",
    "\n",
    "# bin the spot positions along the axes and use Lomb-Scargle to measure the grid spacing in each direction\n",
    "xsum = np.histogram(apertures['xcentroid'], bins=bx)\n",
    "ysum = np.histogram(apertures['ycentroid'], bins=by)\n",
    "\n",
    "k = np.linspace(10.0, 50., 500)  # look for spacings from 5 to 50 pixels (plenty of range)\n",
    "f = 1.0 / k  # convert spacing to frequency\n",
    "xp = stats.LombScargle(x, xsum[0]).power(f)\n",
    "yp = stats.LombScargle(y, ysum[0]).power(f)\n",
    "plt.plot(k, yp)\n",
    "plt.show()"
   ]
  },
  {
   "cell_type": "code",
   "execution_count": null,
   "metadata": {},
   "outputs": [],
   "source": [
    "zresults['zernike'].bar_chart(last_mode=21).show()"
   ]
  },
  {
   "cell_type": "code",
   "execution_count": null,
   "metadata": {},
   "outputs": [],
   "source": [
    "zresults['zernike'].fringe_bar_chart().show()"
   ]
  },
  {
   "cell_type": "code",
   "execution_count": null,
   "metadata": {},
   "outputs": [],
   "source": [
    "spots = {'xcentroid': x, 'ycentroid': y}\n",
    "from scipy import optimize\n",
    "\n",
    "def match_apertures(refx, refy, spotx, spoty):\n",
    "    tot_dist = 0.0\n",
    "    refs = np.array([refx, refy])\n",
    "    spots = np.array([spotx, spoty])\n",
    "    match = np.empty(len(refx))\n",
    "    max_r = spacing / 2.\n",
    "    for i in np.arange(len(refx)):\n",
    "        dists = np.sqrt( (spots[0]-refs[0][i])**2 + (spots[1]-refs[1][i])**2 )\n",
    "        tot_dist += np.min(dists)\n",
    "    return tot_dist\n",
    "\n",
    "def fit_apertures(pars, ref, spots):\n",
    "    xc = pars[0]\n",
    "    yc = pars[1]\n",
    "    xscale = pars[2]\n",
    "    yscale = pars[3]\n",
    "    xcoma = pars[4]\n",
    "    ycoma = pars[5]\n",
    "    refx = ref['xcentroid'] * (xscale + ref['xcentroid'] * xcoma) + xc\n",
    "    refy = ref['ycentroid'] * (yscale + ref['ycentroid'] * ycoma) + yc\n",
    "    spotx = spots['xcentroid']\n",
    "    spoty = spots['ycentroid']\n",
    "    dist = match_apertures(refx, refy, spotx, spoty)\n",
    "    return dist"
   ]
  },
  {
   "cell_type": "code",
   "execution_count": null,
   "metadata": {},
   "outputs": [],
   "source": [
    "#%%timeit\n",
    "args = (refaps, spots)\n",
    "pars = (results['xcen'], results['ycen'], 1.0, 1.0, 0.0, 0.0)\n",
    "bounds = (\n",
    "    (results['xcen']-50, results['xcen']+50), \n",
    "    (results['ycen']-50, results['ycen']+50),\n",
    "    (0.8, 1.2),\n",
    "    (0.8, 1.2),\n",
    "    (-0.1, 0.1),\n",
    "    (-0.1, 0.1)\n",
    ")\n",
    "res = optimize.minimize(fit_apertures, pars, args=args, bounds=bounds)\n",
    "res"
   ]
  },
  {
   "cell_type": "code",
   "execution_count": null,
   "metadata": {},
   "outputs": [],
   "source": [
    "fig, ax = plt.subplots()\n",
    "refx, refy = refaps['xcentroid'], refaps['ycentroid']\n",
    "refx = refx * (res['x'][2] + refx*res['x'][4]) + res['x'][0]\n",
    "refy = refy * (res['x'][3] + refy*res['x'][5]) + res['x'][1]\n",
    "x, y = results['apertures'].positions.transpose()[0], results['apertures'].positions.transpose()[1]\n",
    "ax.scatter(refx, refy)\n",
    "ax.set_aspect('equal')\n",
    "ax.scatter(x, y)\n",
    "ax.set_xlim(0, 845)\n",
    "ax.set_ylim(0, 845)\n",
    "fig.show()"
   ]
  },
  {
   "cell_type": "code",
   "execution_count": null,
   "metadata": {},
   "outputs": [],
   "source": [
    "print(f9wfs.modes['blue']['reference']['xcen'], f9wfs.modes['blue']['reference']['ycen'])\n",
    "print(f9wfs.modes['blue']['reference']['xspacing'], f9wfs.modes['blue']['reference']['yspacing'])\n",
    "f9wfs.modes['blue']['reference'].keys()"
   ]
  },
  {
   "cell_type": "code",
   "execution_count": null,
   "metadata": {},
   "outputs": [],
   "source": [
    "zv = zresults['zernike']\n",
    "print(zv.rms)\n",
    "zv.ignore('Z02')\n",
    "zv.ignore('Z03')\n",
    "f = zv.plot_map()\n",
    "f.show()"
   ]
  },
  {
   "cell_type": "code",
   "execution_count": null,
   "metadata": {},
   "outputs": [],
   "source": [
    "bc = zv.bar_chart(residual=zresults['residual_rms'])\n",
    "bc.show()"
   ]
  },
  {
   "cell_type": "code",
   "execution_count": null,
   "metadata": {},
   "outputs": [],
   "source": [
    "psf, psf_fig = f9wfs.telescope.psf(zv, fov=1.0)\n",
    "psf_fig.show()"
   ]
  },
  {
   "cell_type": "code",
   "execution_count": null,
   "metadata": {},
   "outputs": [],
   "source": [
    "plt.close('all')"
   ]
  },
  {
   "cell_type": "markdown",
   "metadata": {},
   "source": [
    "# F/5 Dev Section"
   ]
  },
  {
   "cell_type": "code",
   "execution_count": 4,
   "metadata": {},
   "outputs": [],
   "source": [
    "f5wfs = WFSFactory(wfs=\"f5\")"
   ]
  },
  {
   "cell_type": "code",
   "execution_count": 8,
   "metadata": {},
   "outputs": [
    {
     "data": {
      "application/javascript": [
       "/* Put everything inside the global mpl namespace */\n",
       "window.mpl = {};\n",
       "\n",
       "\n",
       "mpl.get_websocket_type = function() {\n",
       "    if (typeof(WebSocket) !== 'undefined') {\n",
       "        return WebSocket;\n",
       "    } else if (typeof(MozWebSocket) !== 'undefined') {\n",
       "        return MozWebSocket;\n",
       "    } else {\n",
       "        alert('Your browser does not have WebSocket support. ' +\n",
       "              'Please try Chrome, Safari or Firefox ≥ 6. ' +\n",
       "              'Firefox 4 and 5 are also supported but you ' +\n",
       "              'have to enable WebSockets in about:config.');\n",
       "    };\n",
       "}\n",
       "\n",
       "mpl.figure = function(figure_id, websocket, ondownload, parent_element) {\n",
       "    this.id = figure_id;\n",
       "\n",
       "    this.ws = websocket;\n",
       "\n",
       "    this.supports_binary = (this.ws.binaryType != undefined);\n",
       "\n",
       "    if (!this.supports_binary) {\n",
       "        var warnings = document.getElementById(\"mpl-warnings\");\n",
       "        if (warnings) {\n",
       "            warnings.style.display = 'block';\n",
       "            warnings.textContent = (\n",
       "                \"This browser does not support binary websocket messages. \" +\n",
       "                    \"Performance may be slow.\");\n",
       "        }\n",
       "    }\n",
       "\n",
       "    this.imageObj = new Image();\n",
       "\n",
       "    this.context = undefined;\n",
       "    this.message = undefined;\n",
       "    this.canvas = undefined;\n",
       "    this.rubberband_canvas = undefined;\n",
       "    this.rubberband_context = undefined;\n",
       "    this.format_dropdown = undefined;\n",
       "\n",
       "    this.image_mode = 'full';\n",
       "\n",
       "    this.root = $('<div/>');\n",
       "    this._root_extra_style(this.root)\n",
       "    this.root.attr('style', 'display: inline-block');\n",
       "\n",
       "    $(parent_element).append(this.root);\n",
       "\n",
       "    this._init_header(this);\n",
       "    this._init_canvas(this);\n",
       "    this._init_toolbar(this);\n",
       "\n",
       "    var fig = this;\n",
       "\n",
       "    this.waiting = false;\n",
       "\n",
       "    this.ws.onopen =  function () {\n",
       "            fig.send_message(\"supports_binary\", {value: fig.supports_binary});\n",
       "            fig.send_message(\"send_image_mode\", {});\n",
       "            if (mpl.ratio != 1) {\n",
       "                fig.send_message(\"set_dpi_ratio\", {'dpi_ratio': mpl.ratio});\n",
       "            }\n",
       "            fig.send_message(\"refresh\", {});\n",
       "        }\n",
       "\n",
       "    this.imageObj.onload = function() {\n",
       "            if (fig.image_mode == 'full') {\n",
       "                // Full images could contain transparency (where diff images\n",
       "                // almost always do), so we need to clear the canvas so that\n",
       "                // there is no ghosting.\n",
       "                fig.context.clearRect(0, 0, fig.canvas.width, fig.canvas.height);\n",
       "            }\n",
       "            fig.context.drawImage(fig.imageObj, 0, 0);\n",
       "        };\n",
       "\n",
       "    this.imageObj.onunload = function() {\n",
       "        fig.ws.close();\n",
       "    }\n",
       "\n",
       "    this.ws.onmessage = this._make_on_message_function(this);\n",
       "\n",
       "    this.ondownload = ondownload;\n",
       "}\n",
       "\n",
       "mpl.figure.prototype._init_header = function() {\n",
       "    var titlebar = $(\n",
       "        '<div class=\"ui-dialog-titlebar ui-widget-header ui-corner-all ' +\n",
       "        'ui-helper-clearfix\"/>');\n",
       "    var titletext = $(\n",
       "        '<div class=\"ui-dialog-title\" style=\"width: 100%; ' +\n",
       "        'text-align: center; padding: 3px;\"/>');\n",
       "    titlebar.append(titletext)\n",
       "    this.root.append(titlebar);\n",
       "    this.header = titletext[0];\n",
       "}\n",
       "\n",
       "\n",
       "\n",
       "mpl.figure.prototype._canvas_extra_style = function(canvas_div) {\n",
       "\n",
       "}\n",
       "\n",
       "\n",
       "mpl.figure.prototype._root_extra_style = function(canvas_div) {\n",
       "\n",
       "}\n",
       "\n",
       "mpl.figure.prototype._init_canvas = function() {\n",
       "    var fig = this;\n",
       "\n",
       "    var canvas_div = $('<div/>');\n",
       "\n",
       "    canvas_div.attr('style', 'position: relative; clear: both; outline: 0');\n",
       "\n",
       "    function canvas_keyboard_event(event) {\n",
       "        return fig.key_event(event, event['data']);\n",
       "    }\n",
       "\n",
       "    canvas_div.keydown('key_press', canvas_keyboard_event);\n",
       "    canvas_div.keyup('key_release', canvas_keyboard_event);\n",
       "    this.canvas_div = canvas_div\n",
       "    this._canvas_extra_style(canvas_div)\n",
       "    this.root.append(canvas_div);\n",
       "\n",
       "    var canvas = $('<canvas/>');\n",
       "    canvas.addClass('mpl-canvas');\n",
       "    canvas.attr('style', \"left: 0; top: 0; z-index: 0; outline: 0\")\n",
       "\n",
       "    this.canvas = canvas[0];\n",
       "    this.context = canvas[0].getContext(\"2d\");\n",
       "\n",
       "    var backingStore = this.context.backingStorePixelRatio ||\n",
       "\tthis.context.webkitBackingStorePixelRatio ||\n",
       "\tthis.context.mozBackingStorePixelRatio ||\n",
       "\tthis.context.msBackingStorePixelRatio ||\n",
       "\tthis.context.oBackingStorePixelRatio ||\n",
       "\tthis.context.backingStorePixelRatio || 1;\n",
       "\n",
       "    mpl.ratio = (window.devicePixelRatio || 1) / backingStore;\n",
       "\n",
       "    var rubberband = $('<canvas/>');\n",
       "    rubberband.attr('style', \"position: absolute; left: 0; top: 0; z-index: 1;\")\n",
       "\n",
       "    var pass_mouse_events = true;\n",
       "\n",
       "    canvas_div.resizable({\n",
       "        start: function(event, ui) {\n",
       "            pass_mouse_events = false;\n",
       "        },\n",
       "        resize: function(event, ui) {\n",
       "            fig.request_resize(ui.size.width, ui.size.height);\n",
       "        },\n",
       "        stop: function(event, ui) {\n",
       "            pass_mouse_events = true;\n",
       "            fig.request_resize(ui.size.width, ui.size.height);\n",
       "        },\n",
       "    });\n",
       "\n",
       "    function mouse_event_fn(event) {\n",
       "        if (pass_mouse_events)\n",
       "            return fig.mouse_event(event, event['data']);\n",
       "    }\n",
       "\n",
       "    rubberband.mousedown('button_press', mouse_event_fn);\n",
       "    rubberband.mouseup('button_release', mouse_event_fn);\n",
       "    // Throttle sequential mouse events to 1 every 20ms.\n",
       "    rubberband.mousemove('motion_notify', mouse_event_fn);\n",
       "\n",
       "    rubberband.mouseenter('figure_enter', mouse_event_fn);\n",
       "    rubberband.mouseleave('figure_leave', mouse_event_fn);\n",
       "\n",
       "    canvas_div.on(\"wheel\", function (event) {\n",
       "        event = event.originalEvent;\n",
       "        event['data'] = 'scroll'\n",
       "        if (event.deltaY < 0) {\n",
       "            event.step = 1;\n",
       "        } else {\n",
       "            event.step = -1;\n",
       "        }\n",
       "        mouse_event_fn(event);\n",
       "    });\n",
       "\n",
       "    canvas_div.append(canvas);\n",
       "    canvas_div.append(rubberband);\n",
       "\n",
       "    this.rubberband = rubberband;\n",
       "    this.rubberband_canvas = rubberband[0];\n",
       "    this.rubberband_context = rubberband[0].getContext(\"2d\");\n",
       "    this.rubberband_context.strokeStyle = \"#000000\";\n",
       "\n",
       "    this._resize_canvas = function(width, height) {\n",
       "        // Keep the size of the canvas, canvas container, and rubber band\n",
       "        // canvas in synch.\n",
       "        canvas_div.css('width', width)\n",
       "        canvas_div.css('height', height)\n",
       "\n",
       "        canvas.attr('width', width * mpl.ratio);\n",
       "        canvas.attr('height', height * mpl.ratio);\n",
       "        canvas.attr('style', 'width: ' + width + 'px; height: ' + height + 'px;');\n",
       "\n",
       "        rubberband.attr('width', width);\n",
       "        rubberband.attr('height', height);\n",
       "    }\n",
       "\n",
       "    // Set the figure to an initial 600x600px, this will subsequently be updated\n",
       "    // upon first draw.\n",
       "    this._resize_canvas(600, 600);\n",
       "\n",
       "    // Disable right mouse context menu.\n",
       "    $(this.rubberband_canvas).bind(\"contextmenu\",function(e){\n",
       "        return false;\n",
       "    });\n",
       "\n",
       "    function set_focus () {\n",
       "        canvas.focus();\n",
       "        canvas_div.focus();\n",
       "    }\n",
       "\n",
       "    window.setTimeout(set_focus, 100);\n",
       "}\n",
       "\n",
       "mpl.figure.prototype._init_toolbar = function() {\n",
       "    var fig = this;\n",
       "\n",
       "    var nav_element = $('<div/>');\n",
       "    nav_element.attr('style', 'width: 100%');\n",
       "    this.root.append(nav_element);\n",
       "\n",
       "    // Define a callback function for later on.\n",
       "    function toolbar_event(event) {\n",
       "        return fig.toolbar_button_onclick(event['data']);\n",
       "    }\n",
       "    function toolbar_mouse_event(event) {\n",
       "        return fig.toolbar_button_onmouseover(event['data']);\n",
       "    }\n",
       "\n",
       "    for(var toolbar_ind in mpl.toolbar_items) {\n",
       "        var name = mpl.toolbar_items[toolbar_ind][0];\n",
       "        var tooltip = mpl.toolbar_items[toolbar_ind][1];\n",
       "        var image = mpl.toolbar_items[toolbar_ind][2];\n",
       "        var method_name = mpl.toolbar_items[toolbar_ind][3];\n",
       "\n",
       "        if (!name) {\n",
       "            // put a spacer in here.\n",
       "            continue;\n",
       "        }\n",
       "        var button = $('<button/>');\n",
       "        button.addClass('ui-button ui-widget ui-state-default ui-corner-all ' +\n",
       "                        'ui-button-icon-only');\n",
       "        button.attr('role', 'button');\n",
       "        button.attr('aria-disabled', 'false');\n",
       "        button.click(method_name, toolbar_event);\n",
       "        button.mouseover(tooltip, toolbar_mouse_event);\n",
       "\n",
       "        var icon_img = $('<span/>');\n",
       "        icon_img.addClass('ui-button-icon-primary ui-icon');\n",
       "        icon_img.addClass(image);\n",
       "        icon_img.addClass('ui-corner-all');\n",
       "\n",
       "        var tooltip_span = $('<span/>');\n",
       "        tooltip_span.addClass('ui-button-text');\n",
       "        tooltip_span.html(tooltip);\n",
       "\n",
       "        button.append(icon_img);\n",
       "        button.append(tooltip_span);\n",
       "\n",
       "        nav_element.append(button);\n",
       "    }\n",
       "\n",
       "    var fmt_picker_span = $('<span/>');\n",
       "\n",
       "    var fmt_picker = $('<select/>');\n",
       "    fmt_picker.addClass('mpl-toolbar-option ui-widget ui-widget-content');\n",
       "    fmt_picker_span.append(fmt_picker);\n",
       "    nav_element.append(fmt_picker_span);\n",
       "    this.format_dropdown = fmt_picker[0];\n",
       "\n",
       "    for (var ind in mpl.extensions) {\n",
       "        var fmt = mpl.extensions[ind];\n",
       "        var option = $(\n",
       "            '<option/>', {selected: fmt === mpl.default_extension}).html(fmt);\n",
       "        fmt_picker.append(option);\n",
       "    }\n",
       "\n",
       "    // Add hover states to the ui-buttons\n",
       "    $( \".ui-button\" ).hover(\n",
       "        function() { $(this).addClass(\"ui-state-hover\");},\n",
       "        function() { $(this).removeClass(\"ui-state-hover\");}\n",
       "    );\n",
       "\n",
       "    var status_bar = $('<span class=\"mpl-message\"/>');\n",
       "    nav_element.append(status_bar);\n",
       "    this.message = status_bar[0];\n",
       "}\n",
       "\n",
       "mpl.figure.prototype.request_resize = function(x_pixels, y_pixels) {\n",
       "    // Request matplotlib to resize the figure. Matplotlib will then trigger a resize in the client,\n",
       "    // which will in turn request a refresh of the image.\n",
       "    this.send_message('resize', {'width': x_pixels, 'height': y_pixels});\n",
       "}\n",
       "\n",
       "mpl.figure.prototype.send_message = function(type, properties) {\n",
       "    properties['type'] = type;\n",
       "    properties['figure_id'] = this.id;\n",
       "    this.ws.send(JSON.stringify(properties));\n",
       "}\n",
       "\n",
       "mpl.figure.prototype.send_draw_message = function() {\n",
       "    if (!this.waiting) {\n",
       "        this.waiting = true;\n",
       "        this.ws.send(JSON.stringify({type: \"draw\", figure_id: this.id}));\n",
       "    }\n",
       "}\n",
       "\n",
       "\n",
       "mpl.figure.prototype.handle_save = function(fig, msg) {\n",
       "    var format_dropdown = fig.format_dropdown;\n",
       "    var format = format_dropdown.options[format_dropdown.selectedIndex].value;\n",
       "    fig.ondownload(fig, format);\n",
       "}\n",
       "\n",
       "\n",
       "mpl.figure.prototype.handle_resize = function(fig, msg) {\n",
       "    var size = msg['size'];\n",
       "    if (size[0] != fig.canvas.width || size[1] != fig.canvas.height) {\n",
       "        fig._resize_canvas(size[0], size[1]);\n",
       "        fig.send_message(\"refresh\", {});\n",
       "    };\n",
       "}\n",
       "\n",
       "mpl.figure.prototype.handle_rubberband = function(fig, msg) {\n",
       "    var x0 = msg['x0'] / mpl.ratio;\n",
       "    var y0 = (fig.canvas.height - msg['y0']) / mpl.ratio;\n",
       "    var x1 = msg['x1'] / mpl.ratio;\n",
       "    var y1 = (fig.canvas.height - msg['y1']) / mpl.ratio;\n",
       "    x0 = Math.floor(x0) + 0.5;\n",
       "    y0 = Math.floor(y0) + 0.5;\n",
       "    x1 = Math.floor(x1) + 0.5;\n",
       "    y1 = Math.floor(y1) + 0.5;\n",
       "    var min_x = Math.min(x0, x1);\n",
       "    var min_y = Math.min(y0, y1);\n",
       "    var width = Math.abs(x1 - x0);\n",
       "    var height = Math.abs(y1 - y0);\n",
       "\n",
       "    fig.rubberband_context.clearRect(\n",
       "        0, 0, fig.canvas.width, fig.canvas.height);\n",
       "\n",
       "    fig.rubberband_context.strokeRect(min_x, min_y, width, height);\n",
       "}\n",
       "\n",
       "mpl.figure.prototype.handle_figure_label = function(fig, msg) {\n",
       "    // Updates the figure title.\n",
       "    fig.header.textContent = msg['label'];\n",
       "}\n",
       "\n",
       "mpl.figure.prototype.handle_cursor = function(fig, msg) {\n",
       "    var cursor = msg['cursor'];\n",
       "    switch(cursor)\n",
       "    {\n",
       "    case 0:\n",
       "        cursor = 'pointer';\n",
       "        break;\n",
       "    case 1:\n",
       "        cursor = 'default';\n",
       "        break;\n",
       "    case 2:\n",
       "        cursor = 'crosshair';\n",
       "        break;\n",
       "    case 3:\n",
       "        cursor = 'move';\n",
       "        break;\n",
       "    }\n",
       "    fig.rubberband_canvas.style.cursor = cursor;\n",
       "}\n",
       "\n",
       "mpl.figure.prototype.handle_message = function(fig, msg) {\n",
       "    fig.message.textContent = msg['message'];\n",
       "}\n",
       "\n",
       "mpl.figure.prototype.handle_draw = function(fig, msg) {\n",
       "    // Request the server to send over a new figure.\n",
       "    fig.send_draw_message();\n",
       "}\n",
       "\n",
       "mpl.figure.prototype.handle_image_mode = function(fig, msg) {\n",
       "    fig.image_mode = msg['mode'];\n",
       "}\n",
       "\n",
       "mpl.figure.prototype.updated_canvas_event = function() {\n",
       "    // Called whenever the canvas gets updated.\n",
       "    this.send_message(\"ack\", {});\n",
       "}\n",
       "\n",
       "// A function to construct a web socket function for onmessage handling.\n",
       "// Called in the figure constructor.\n",
       "mpl.figure.prototype._make_on_message_function = function(fig) {\n",
       "    return function socket_on_message(evt) {\n",
       "        if (evt.data instanceof Blob) {\n",
       "            /* FIXME: We get \"Resource interpreted as Image but\n",
       "             * transferred with MIME type text/plain:\" errors on\n",
       "             * Chrome.  But how to set the MIME type?  It doesn't seem\n",
       "             * to be part of the websocket stream */\n",
       "            evt.data.type = \"image/png\";\n",
       "\n",
       "            /* Free the memory for the previous frames */\n",
       "            if (fig.imageObj.src) {\n",
       "                (window.URL || window.webkitURL).revokeObjectURL(\n",
       "                    fig.imageObj.src);\n",
       "            }\n",
       "\n",
       "            fig.imageObj.src = (window.URL || window.webkitURL).createObjectURL(\n",
       "                evt.data);\n",
       "            fig.updated_canvas_event();\n",
       "            fig.waiting = false;\n",
       "            return;\n",
       "        }\n",
       "        else if (typeof evt.data === 'string' && evt.data.slice(0, 21) == \"data:image/png;base64\") {\n",
       "            fig.imageObj.src = evt.data;\n",
       "            fig.updated_canvas_event();\n",
       "            fig.waiting = false;\n",
       "            return;\n",
       "        }\n",
       "\n",
       "        var msg = JSON.parse(evt.data);\n",
       "        var msg_type = msg['type'];\n",
       "\n",
       "        // Call the  \"handle_{type}\" callback, which takes\n",
       "        // the figure and JSON message as its only arguments.\n",
       "        try {\n",
       "            var callback = fig[\"handle_\" + msg_type];\n",
       "        } catch (e) {\n",
       "            console.log(\"No handler for the '\" + msg_type + \"' message type: \", msg);\n",
       "            return;\n",
       "        }\n",
       "\n",
       "        if (callback) {\n",
       "            try {\n",
       "                // console.log(\"Handling '\" + msg_type + \"' message: \", msg);\n",
       "                callback(fig, msg);\n",
       "            } catch (e) {\n",
       "                console.log(\"Exception inside the 'handler_\" + msg_type + \"' callback:\", e, e.stack, msg);\n",
       "            }\n",
       "        }\n",
       "    };\n",
       "}\n",
       "\n",
       "// from http://stackoverflow.com/questions/1114465/getting-mouse-location-in-canvas\n",
       "mpl.findpos = function(e) {\n",
       "    //this section is from http://www.quirksmode.org/js/events_properties.html\n",
       "    var targ;\n",
       "    if (!e)\n",
       "        e = window.event;\n",
       "    if (e.target)\n",
       "        targ = e.target;\n",
       "    else if (e.srcElement)\n",
       "        targ = e.srcElement;\n",
       "    if (targ.nodeType == 3) // defeat Safari bug\n",
       "        targ = targ.parentNode;\n",
       "\n",
       "    // jQuery normalizes the pageX and pageY\n",
       "    // pageX,Y are the mouse positions relative to the document\n",
       "    // offset() returns the position of the element relative to the document\n",
       "    var x = e.pageX - $(targ).offset().left;\n",
       "    var y = e.pageY - $(targ).offset().top;\n",
       "\n",
       "    return {\"x\": x, \"y\": y};\n",
       "};\n",
       "\n",
       "/*\n",
       " * return a copy of an object with only non-object keys\n",
       " * we need this to avoid circular references\n",
       " * http://stackoverflow.com/a/24161582/3208463\n",
       " */\n",
       "function simpleKeys (original) {\n",
       "  return Object.keys(original).reduce(function (obj, key) {\n",
       "    if (typeof original[key] !== 'object')\n",
       "        obj[key] = original[key]\n",
       "    return obj;\n",
       "  }, {});\n",
       "}\n",
       "\n",
       "mpl.figure.prototype.mouse_event = function(event, name) {\n",
       "    var canvas_pos = mpl.findpos(event)\n",
       "\n",
       "    if (name === 'button_press')\n",
       "    {\n",
       "        this.canvas.focus();\n",
       "        this.canvas_div.focus();\n",
       "    }\n",
       "\n",
       "    var x = canvas_pos.x * mpl.ratio;\n",
       "    var y = canvas_pos.y * mpl.ratio;\n",
       "\n",
       "    this.send_message(name, {x: x, y: y, button: event.button,\n",
       "                             step: event.step,\n",
       "                             guiEvent: simpleKeys(event)});\n",
       "\n",
       "    /* This prevents the web browser from automatically changing to\n",
       "     * the text insertion cursor when the button is pressed.  We want\n",
       "     * to control all of the cursor setting manually through the\n",
       "     * 'cursor' event from matplotlib */\n",
       "    event.preventDefault();\n",
       "    return false;\n",
       "}\n",
       "\n",
       "mpl.figure.prototype._key_event_extra = function(event, name) {\n",
       "    // Handle any extra behaviour associated with a key event\n",
       "}\n",
       "\n",
       "mpl.figure.prototype.key_event = function(event, name) {\n",
       "\n",
       "    // Prevent repeat events\n",
       "    if (name == 'key_press')\n",
       "    {\n",
       "        if (event.which === this._key)\n",
       "            return;\n",
       "        else\n",
       "            this._key = event.which;\n",
       "    }\n",
       "    if (name == 'key_release')\n",
       "        this._key = null;\n",
       "\n",
       "    var value = '';\n",
       "    if (event.ctrlKey && event.which != 17)\n",
       "        value += \"ctrl+\";\n",
       "    if (event.altKey && event.which != 18)\n",
       "        value += \"alt+\";\n",
       "    if (event.shiftKey && event.which != 16)\n",
       "        value += \"shift+\";\n",
       "\n",
       "    value += 'k';\n",
       "    value += event.which.toString();\n",
       "\n",
       "    this._key_event_extra(event, name);\n",
       "\n",
       "    this.send_message(name, {key: value,\n",
       "                             guiEvent: simpleKeys(event)});\n",
       "    return false;\n",
       "}\n",
       "\n",
       "mpl.figure.prototype.toolbar_button_onclick = function(name) {\n",
       "    if (name == 'download') {\n",
       "        this.handle_save(this, null);\n",
       "    } else {\n",
       "        this.send_message(\"toolbar_button\", {name: name});\n",
       "    }\n",
       "};\n",
       "\n",
       "mpl.figure.prototype.toolbar_button_onmouseover = function(tooltip) {\n",
       "    this.message.textContent = tooltip;\n",
       "};\n",
       "mpl.toolbar_items = [[\"Home\", \"Reset original view\", \"fa fa-home icon-home\", \"home\"], [\"Back\", \"Back to previous view\", \"fa fa-arrow-left icon-arrow-left\", \"back\"], [\"Forward\", \"Forward to next view\", \"fa fa-arrow-right icon-arrow-right\", \"forward\"], [\"\", \"\", \"\", \"\"], [\"Pan\", \"Pan axes with left mouse, zoom with right\", \"fa fa-arrows icon-move\", \"pan\"], [\"Zoom\", \"Zoom to rectangle\", \"fa fa-square-o icon-check-empty\", \"zoom\"], [\"\", \"\", \"\", \"\"], [\"Download\", \"Download plot\", \"fa fa-floppy-o icon-save\", \"download\"]];\n",
       "\n",
       "mpl.extensions = [\"eps\", \"jpeg\", \"pdf\", \"png\", \"ps\", \"raw\", \"svg\", \"tif\"];\n",
       "\n",
       "mpl.default_extension = \"png\";var comm_websocket_adapter = function(comm) {\n",
       "    // Create a \"websocket\"-like object which calls the given IPython comm\n",
       "    // object with the appropriate methods. Currently this is a non binary\n",
       "    // socket, so there is still some room for performance tuning.\n",
       "    var ws = {};\n",
       "\n",
       "    ws.close = function() {\n",
       "        comm.close()\n",
       "    };\n",
       "    ws.send = function(m) {\n",
       "        //console.log('sending', m);\n",
       "        comm.send(m);\n",
       "    };\n",
       "    // Register the callback with on_msg.\n",
       "    comm.on_msg(function(msg) {\n",
       "        //console.log('receiving', msg['content']['data'], msg);\n",
       "        // Pass the mpl event to the overridden (by mpl) onmessage function.\n",
       "        ws.onmessage(msg['content']['data'])\n",
       "    });\n",
       "    return ws;\n",
       "}\n",
       "\n",
       "mpl.mpl_figure_comm = function(comm, msg) {\n",
       "    // This is the function which gets called when the mpl process\n",
       "    // starts-up an IPython Comm through the \"matplotlib\" channel.\n",
       "\n",
       "    var id = msg.content.data.id;\n",
       "    // Get hold of the div created by the display call when the Comm\n",
       "    // socket was opened in Python.\n",
       "    var element = $(\"#\" + id);\n",
       "    var ws_proxy = comm_websocket_adapter(comm)\n",
       "\n",
       "    function ondownload(figure, format) {\n",
       "        window.open(figure.imageObj.src);\n",
       "    }\n",
       "\n",
       "    var fig = new mpl.figure(id, ws_proxy,\n",
       "                           ondownload,\n",
       "                           element.get(0));\n",
       "\n",
       "    // Call onopen now - mpl needs it, as it is assuming we've passed it a real\n",
       "    // web socket which is closed, not our websocket->open comm proxy.\n",
       "    ws_proxy.onopen();\n",
       "\n",
       "    fig.parent_element = element.get(0);\n",
       "    fig.cell_info = mpl.find_output_cell(\"<div id='\" + id + \"'></div>\");\n",
       "    if (!fig.cell_info) {\n",
       "        console.error(\"Failed to find cell for figure\", id, fig);\n",
       "        return;\n",
       "    }\n",
       "\n",
       "    var output_index = fig.cell_info[2]\n",
       "    var cell = fig.cell_info[0];\n",
       "\n",
       "};\n",
       "\n",
       "mpl.figure.prototype.handle_close = function(fig, msg) {\n",
       "    var width = fig.canvas.width/mpl.ratio\n",
       "    fig.root.unbind('remove')\n",
       "\n",
       "    // Update the output cell to use the data from the current canvas.\n",
       "    fig.push_to_output();\n",
       "    var dataURL = fig.canvas.toDataURL();\n",
       "    // Re-enable the keyboard manager in IPython - without this line, in FF,\n",
       "    // the notebook keyboard shortcuts fail.\n",
       "    IPython.keyboard_manager.enable()\n",
       "    $(fig.parent_element).html('<img src=\"' + dataURL + '\" width=\"' + width + '\">');\n",
       "    fig.close_ws(fig, msg);\n",
       "}\n",
       "\n",
       "mpl.figure.prototype.close_ws = function(fig, msg){\n",
       "    fig.send_message('closing', msg);\n",
       "    // fig.ws.close()\n",
       "}\n",
       "\n",
       "mpl.figure.prototype.push_to_output = function(remove_interactive) {\n",
       "    // Turn the data on the canvas into data in the output cell.\n",
       "    var width = this.canvas.width/mpl.ratio\n",
       "    var dataURL = this.canvas.toDataURL();\n",
       "    this.cell_info[1]['text/html'] = '<img src=\"' + dataURL + '\" width=\"' + width + '\">';\n",
       "}\n",
       "\n",
       "mpl.figure.prototype.updated_canvas_event = function() {\n",
       "    // Tell IPython that the notebook contents must change.\n",
       "    IPython.notebook.set_dirty(true);\n",
       "    this.send_message(\"ack\", {});\n",
       "    var fig = this;\n",
       "    // Wait a second, then push the new image to the DOM so\n",
       "    // that it is saved nicely (might be nice to debounce this).\n",
       "    setTimeout(function () { fig.push_to_output() }, 1000);\n",
       "}\n",
       "\n",
       "mpl.figure.prototype._init_toolbar = function() {\n",
       "    var fig = this;\n",
       "\n",
       "    var nav_element = $('<div/>');\n",
       "    nav_element.attr('style', 'width: 100%');\n",
       "    this.root.append(nav_element);\n",
       "\n",
       "    // Define a callback function for later on.\n",
       "    function toolbar_event(event) {\n",
       "        return fig.toolbar_button_onclick(event['data']);\n",
       "    }\n",
       "    function toolbar_mouse_event(event) {\n",
       "        return fig.toolbar_button_onmouseover(event['data']);\n",
       "    }\n",
       "\n",
       "    for(var toolbar_ind in mpl.toolbar_items){\n",
       "        var name = mpl.toolbar_items[toolbar_ind][0];\n",
       "        var tooltip = mpl.toolbar_items[toolbar_ind][1];\n",
       "        var image = mpl.toolbar_items[toolbar_ind][2];\n",
       "        var method_name = mpl.toolbar_items[toolbar_ind][3];\n",
       "\n",
       "        if (!name) { continue; };\n",
       "\n",
       "        var button = $('<button class=\"btn btn-default\" href=\"#\" title=\"' + name + '\"><i class=\"fa ' + image + ' fa-lg\"></i></button>');\n",
       "        button.click(method_name, toolbar_event);\n",
       "        button.mouseover(tooltip, toolbar_mouse_event);\n",
       "        nav_element.append(button);\n",
       "    }\n",
       "\n",
       "    // Add the status bar.\n",
       "    var status_bar = $('<span class=\"mpl-message\" style=\"text-align:right; float: right;\"/>');\n",
       "    nav_element.append(status_bar);\n",
       "    this.message = status_bar[0];\n",
       "\n",
       "    // Add the close button to the window.\n",
       "    var buttongrp = $('<div class=\"btn-group inline pull-right\"></div>');\n",
       "    var button = $('<button class=\"btn btn-mini btn-primary\" href=\"#\" title=\"Stop Interaction\"><i class=\"fa fa-power-off icon-remove icon-large\"></i></button>');\n",
       "    button.click(function (evt) { fig.handle_close(fig, {}); } );\n",
       "    button.mouseover('Stop Interaction', toolbar_mouse_event);\n",
       "    buttongrp.append(button);\n",
       "    var titlebar = this.root.find($('.ui-dialog-titlebar'));\n",
       "    titlebar.prepend(buttongrp);\n",
       "}\n",
       "\n",
       "mpl.figure.prototype._root_extra_style = function(el){\n",
       "    var fig = this\n",
       "    el.on(\"remove\", function(){\n",
       "\tfig.close_ws(fig, {});\n",
       "    });\n",
       "}\n",
       "\n",
       "mpl.figure.prototype._canvas_extra_style = function(el){\n",
       "    // this is important to make the div 'focusable\n",
       "    el.attr('tabindex', 0)\n",
       "    // reach out to IPython and tell the keyboard manager to turn it's self\n",
       "    // off when our div gets focus\n",
       "\n",
       "    // location in version 3\n",
       "    if (IPython.notebook.keyboard_manager) {\n",
       "        IPython.notebook.keyboard_manager.register_events(el);\n",
       "    }\n",
       "    else {\n",
       "        // location in version 2\n",
       "        IPython.keyboard_manager.register_events(el);\n",
       "    }\n",
       "\n",
       "}\n",
       "\n",
       "mpl.figure.prototype._key_event_extra = function(event, name) {\n",
       "    var manager = IPython.notebook.keyboard_manager;\n",
       "    if (!manager)\n",
       "        manager = IPython.keyboard_manager;\n",
       "\n",
       "    // Check for shift+enter\n",
       "    if (event.shiftKey && event.which == 13) {\n",
       "        this.canvas_div.blur();\n",
       "        event.shiftKey = false;\n",
       "        // Send a \"J\" for go to next cell\n",
       "        event.which = 74;\n",
       "        event.keyCode = 74;\n",
       "        manager.command_mode();\n",
       "        manager.handle_keydown(event);\n",
       "    }\n",
       "}\n",
       "\n",
       "mpl.figure.prototype.handle_save = function(fig, msg) {\n",
       "    fig.ondownload(fig, null);\n",
       "}\n",
       "\n",
       "\n",
       "mpl.find_output_cell = function(html_output) {\n",
       "    // Return the cell and output element which can be found *uniquely* in the notebook.\n",
       "    // Note - this is a bit hacky, but it is done because the \"notebook_saving.Notebook\"\n",
       "    // IPython event is triggered only after the cells have been serialised, which for\n",
       "    // our purposes (turning an active figure into a static one), is too late.\n",
       "    var cells = IPython.notebook.get_cells();\n",
       "    var ncells = cells.length;\n",
       "    for (var i=0; i<ncells; i++) {\n",
       "        var cell = cells[i];\n",
       "        if (cell.cell_type === 'code'){\n",
       "            for (var j=0; j<cell.output_area.outputs.length; j++) {\n",
       "                var data = cell.output_area.outputs[j];\n",
       "                if (data.data) {\n",
       "                    // IPython >= 3 moved mimebundle to data attribute of output\n",
       "                    data = data.data;\n",
       "                }\n",
       "                if (data['text/html'] == html_output) {\n",
       "                    return [cell, data, j];\n",
       "                }\n",
       "            }\n",
       "        }\n",
       "    }\n",
       "}\n",
       "\n",
       "// Register the function which deals with the matplotlib target/channel.\n",
       "// The kernel may be null if the page has been refreshed.\n",
       "if (IPython.notebook.kernel != null) {\n",
       "    IPython.notebook.kernel.comm_manager.register_target('matplotlib', mpl.mpl_figure_comm);\n",
       "}\n"
      ],
      "text/plain": [
       "<IPython.core.display.Javascript object>"
      ]
     },
     "metadata": {},
     "output_type": "display_data"
    },
    {
     "data": {
      "text/html": [
       "<img src=\"data:image/png;base64,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\" width=\"638.888905813665\">"
      ],
      "text/plain": [
       "<IPython.core.display.HTML object>"
      ]
     },
     "metadata": {},
     "output_type": "display_data"
    }
   ],
   "source": [
    "#%%prun\n",
    "plt.close('all')\n",
    "f5_file = \"/Volumes/LaCie 8TB/wfsdat/20181022/manual_wfs_0003.fits\"\n",
    "f5_file = \"/Users/tim/MMT/mmtwfs/mmtwfs/data/test_data/auto_wfs_0037_ave.fits\"\n",
    "#f5_file = \"/Users/tim/MMT/wfsdat/20180923/manual_wfs_0009.fits\"\n",
    "results = f5wfs.measure_slopes(f5_file, 'hecto', plot=True)\n",
    "results['figures']['slopes'].show()"
   ]
  },
  {
   "cell_type": "code",
   "execution_count": null,
   "metadata": {},
   "outputs": [],
   "source": [
    "f5wfs.calculate_recenter(results), results['xcen'], results['ycen']"
   ]
  },
  {
   "cell_type": "code",
   "execution_count": null,
   "metadata": {},
   "outputs": [],
   "source": [
    "#%%prun\n",
    "zresults = f5wfs.fit_wavefront(results, plot=True)\n",
    "zv = zresults['zernike']\n",
    "print(zv.pretty_print())\n",
    "print(zv.rms)\n",
    "zresults['resid_plot'].show()"
   ]
  },
  {
   "cell_type": "code",
   "execution_count": null,
   "metadata": {},
   "outputs": [],
   "source": [
    "zf = zv.fringe_bar_chart()\n",
    "zf.show()\n",
    "zresults['residual_rms']"
   ]
  },
  {
   "cell_type": "code",
   "execution_count": null,
   "metadata": {},
   "outputs": [],
   "source": [
    "bc = zv.bar_chart(last_mode=21)\n",
    "bc.show()"
   ]
  },
  {
   "cell_type": "code",
   "execution_count": null,
   "metadata": {},
   "outputs": [],
   "source": [
    "zv.denormalize()\n",
    "zv"
   ]
  },
  {
   "cell_type": "code",
   "execution_count": null,
   "metadata": {
    "slideshow": {
     "slide_type": "-"
    }
   },
   "outputs": [],
   "source": [
    "refaps = f5wfs.modes['hecto']['reference'].masked_apertures\n",
    "fig, ax = plt.subplots()\n",
    "fit = results['grid_fit']\n",
    "refx = refaps['xcentroid'] * (fit['scale'] + refaps['xcentroid'] * fit['xcoma']) + fit['xcen']\n",
    "refy = refaps['ycentroid'] * (fit['scale'] + refaps['ycentroid'] * fit['ycoma']) + fit['ycen']\n",
    "x, y = results['apertures'].positions.transpose()[0], results['apertures'].positions.transpose()[1]\n",
    "spacing = 0.5*(results['xspacing'] + results['yspacing'])\n",
    "ax.scatter(refx, refy)\n",
    "ax.set_aspect('equal')\n",
    "ax.scatter(x, y)\n",
    "ax.set_xlim(0, 512)\n",
    "ax.set_ylim(0, 512)\n",
    "fig.show()"
   ]
  },
  {
   "cell_type": "code",
   "execution_count": null,
   "metadata": {},
   "outputs": [],
   "source": [
    "zv.ignore('Z02')\n",
    "zv.ignore('Z03')\n",
    "zv.ignore('Z04')\n",
    "print(zv.rms)\n",
    "mf = zv.plot_map()\n",
    "mf.show()"
   ]
  },
  {
   "cell_type": "code",
   "execution_count": null,
   "metadata": {},
   "outputs": [],
   "source": [
    "t, m1foc = f5wfs.telescope.calculate_primary_corrections(zresults['zernike'])"
   ]
  },
  {
   "cell_type": "code",
   "execution_count": null,
   "metadata": {},
   "outputs": [],
   "source": [
    "fplot = f5wfs.telescope.plot_forces(t, m1focus=m1foc)\n",
    "fplot.show()"
   ]
  },
  {
   "cell_type": "code",
   "execution_count": null,
   "metadata": {},
   "outputs": [],
   "source": [
    "t.show_in_notebook()"
   ]
  },
  {
   "cell_type": "markdown",
   "metadata": {},
   "source": [
    "# Scratch space"
   ]
  },
  {
   "cell_type": "code",
   "execution_count": null,
   "metadata": {},
   "outputs": [],
   "source": [
    "cen = center_pupil(subt, pup, plot=True)\n",
    "print(cen)\n",
    "plt.show()"
   ]
  },
  {
   "cell_type": "code",
   "execution_count": null,
   "metadata": {},
   "outputs": [],
   "source": [
    "from astropy.io import ascii"
   ]
  },
  {
   "cell_type": "code",
   "execution_count": null,
   "metadata": {},
   "outputs": [],
   "source": [
    "t = f9wfs.telescope\n",
    "m = t.zern_map"
   ]
  },
  {
   "cell_type": "code",
   "execution_count": null,
   "metadata": {},
   "outputs": [],
   "source": [
    "z = np.loadtxt(\"/Users/tim/MMT/wfsdat/20170110/mmirs_wfs_0375.dao.sub.zrn.cor\")\n",
    "z1 = np.loadtxt(\"/Users/tim/MMT/wfsdat/20170110/mmirs_wfs_0375.dao.av.zrn\")"
   ]
  },
  {
   "cell_type": "code",
   "execution_count": null,
   "metadata": {},
   "outputs": [],
   "source": [
    "sigma = results['fwhm'] * stats.funcs.gaussian_fwhm_to_sigma\n",
    "\n",
    "wave = 650 * u.nm\n",
    "wave = wave.to(u.m).value  # r_0 equation expects meters so convert\n",
    "# calculate the physical size of each aperture.\n",
    "ref = mmirs.modes['mmirs2']['reference']\n",
    "apsize_pix = np.max((ref['xspacing'], ref['yspacing']))\n",
    "d = mmirs.telescope.diameter * apsize_pix / mmirs.pup_size\n",
    "d = d.to(u.m).value  # r_0 equation expects meters so convert\n",
    "\n",
    "# we need to deconvolve the instrumental spot width from the measured one\n",
    "ref_sigma = ref['sigma']\n",
    "if sigma > ref_sigma:\n",
    "    corr_sigma = np.sqrt(sigma**2 - ref_sigma**2)\n",
    "else:\n",
    "    corr_sigma = 0.0\n",
    "corr_sigma *= mmirs.pix_size.to(u.rad).value  # r_0 equation expects radians so convert\n",
    "# this equation relates the motion within a single aperture to the characteristic scale size of the\n",
    "# turbulence, r_0.\n",
    "r_0 = ( 0.179 * (wave**2) * (d**(-1./3.))/corr_sigma**2 )**0.6\n",
    "print(r_0)\n",
    "# this equation relates the turbulence scale size to an expected image FWHM at the given wavelength.\n",
    "raw_seeing = u.rad * 0.98 * wave / r_0\n",
    "raw_seeing = raw_seeing.to(u.arcsec)\n"
   ]
  },
  {
   "cell_type": "code",
   "execution_count": null,
   "metadata": {},
   "outputs": [],
   "source": [
    "t = bino.telescope"
   ]
  },
  {
   "cell_type": "code",
   "execution_count": null,
   "metadata": {},
   "outputs": [],
   "source": [
    "z = ZernikeVector(Z11=-1000*u.nm)\n",
    "z.plot_map()\n",
    "plt.show()"
   ]
  },
  {
   "cell_type": "code",
   "execution_count": null,
   "metadata": {},
   "outputs": [],
   "source": [
    "ft, m1, zv_masked = t.calculate_primary_corrections(z)"
   ]
  },
  {
   "cell_type": "code",
   "execution_count": null,
   "metadata": {},
   "outputs": [],
   "source": [
    "ft['force'].min()"
   ]
  },
  {
   "cell_type": "code",
   "execution_count": null,
   "metadata": {},
   "outputs": [],
   "source": [
    "m1"
   ]
  },
  {
   "cell_type": "code",
   "execution_count": null,
   "metadata": {},
   "outputs": [],
   "source": [
    "derot_phi = phi - u.Quantity(225*u.deg, u.rad).value\n",
    "pol2cart([dr, derot_phi])"
   ]
  },
  {
   "cell_type": "code",
   "execution_count": null,
   "metadata": {},
   "outputs": [],
   "source": [
    "u.Quantity(225*u.deg, u.rad).value"
   ]
  },
  {
   "cell_type": "code",
   "execution_count": null,
   "metadata": {},
   "outputs": [],
   "source": [
    "dx, dy"
   ]
  },
  {
   "cell_type": "code",
   "execution_count": null,
   "metadata": {},
   "outputs": [],
   "source": [
    "t = mmirs.telescope\n",
    "zv = ZernikeVector(Z05=1000, Z11=250)\n",
    "force, focus = t.correct_primary(zv)\n",
    "f1 = focus.copy()\n",
    "uforce, ufocus = t.undo_last()\n",
    "print(ufocus)\n",
    "print(f1)\n",
    "assert(ufocus == -1 * f1)"
   ]
  },
  {
   "cell_type": "code",
   "execution_count": null,
   "metadata": {},
   "outputs": [],
   "source": [
    "focus.copy()"
   ]
  },
  {
   "cell_type": "code",
   "execution_count": null,
   "metadata": {},
   "outputs": [],
   "source": [
    "np.allclose(np.zeros(2), 0.0)"
   ]
  },
  {
   "cell_type": "code",
   "execution_count": null,
   "metadata": {},
   "outputs": [],
   "source": [
    "s = \"offset_inc wfs z 200.3\"\n",
    "assert(\"200.3\" in s)"
   ]
  },
  {
   "cell_type": "code",
   "execution_count": null,
   "metadata": {},
   "outputs": [],
   "source": [
    "fig, ax = plt.subplots()"
   ]
  },
  {
   "cell_type": "code",
   "execution_count": null,
   "metadata": {},
   "outputs": [],
   "source": [
    "ax.imshow(results['data'], cmap=cm.Greys)\n",
    "fig.savefig(\"test.png\")"
   ]
  },
  {
   "cell_type": "code",
   "execution_count": null,
   "metadata": {},
   "outputs": [],
   "source": [
    "a = fig.axes[0]"
   ]
  },
  {
   "cell_type": "code",
   "execution_count": null,
   "metadata": {},
   "outputs": [],
   "source": [
    "fig.show()"
   ]
  },
  {
   "cell_type": "code",
   "execution_count": null,
   "metadata": {},
   "outputs": [],
   "source": [
    "\"{0:0.0f}\".format((550 * u.nm))"
   ]
  },
  {
   "cell_type": "code",
   "execution_count": null,
   "metadata": {},
   "outputs": [],
   "source": [
    "x, y, r, p, ph = zvec.phase_map(n=100)\n",
    "i = np.argsort(x)"
   ]
  },
  {
   "cell_type": "code",
   "execution_count": null,
   "metadata": {},
   "outputs": [],
   "source": [
    "from plotly.offline import download_plotlyjs, init_notebook_mode, plot, iplot\n",
    "import plotly.graph_objs as go\n",
    "init_notebook_mode(connected=True)"
   ]
  },
  {
   "cell_type": "code",
   "execution_count": null,
   "metadata": {},
   "outputs": [],
   "source": [
    "data = [go.Heatmap(z=np.array(ph[i]), x=x[i], y=y[i], colorscale='RdBu')]\n",
    "layout = go.Layout(title=\"test\")\n",
    "fig = go.Figure(data=data, layout=layout)\n",
    "plot(fig, filename=\"blah\")"
   ]
  },
  {
   "cell_type": "code",
   "execution_count": null,
   "metadata": {},
   "outputs": [],
   "source": [
    "np.min(ph)"
   ]
  },
  {
   "cell_type": "code",
   "execution_count": null,
   "metadata": {},
   "outputs": [],
   "source": [
    "0.119 * 5.4*3/20"
   ]
  },
  {
   "cell_type": "code",
   "execution_count": null,
   "metadata": {},
   "outputs": [],
   "source": [
    "if 'HOME' in os.environ:\n",
    "    print('y')"
   ]
  },
  {
   "cell_type": "code",
   "execution_count": null,
   "metadata": {},
   "outputs": [],
   "source": [
    "np.zeros((512, 512)).shape"
   ]
  },
  {
   "cell_type": "code",
   "execution_count": null,
   "metadata": {},
   "outputs": [],
   "source": [
    "zv = ZernikeVector()"
   ]
  },
  {
   "cell_type": "code",
   "execution_count": null,
   "metadata": {},
   "outputs": [],
   "source": [
    "zv.plot_map()"
   ]
  },
  {
   "cell_type": "code",
   "execution_count": null,
   "metadata": {},
   "outputs": [],
   "source": [
    "t = MMT()\n",
    "zv = ZernikeVector(Z05=1000, Z11=250)\n",
    "force, focus = t.calculate_primary_corrections(zv)"
   ]
  },
  {
   "cell_type": "code",
   "execution_count": null,
   "metadata": {},
   "outputs": [],
   "source": [
    "lforce, lfocus = t.correct_primary(force, focus)"
   ]
  },
  {
   "cell_type": "code",
   "execution_count": null,
   "metadata": {},
   "outputs": [],
   "source": [
    "uforce, ufocus = t.undo_last()"
   ]
  },
  {
   "cell_type": "code",
   "execution_count": null,
   "metadata": {},
   "outputs": [],
   "source": [
    "focus, lfocus, ufocus"
   ]
  },
  {
   "cell_type": "code",
   "execution_count": null,
   "metadata": {},
   "outputs": [],
   "source": [
    "newf9 = WFSFactory(wfs=\"newf9\")"
   ]
  },
  {
   "cell_type": "code",
   "execution_count": null,
   "metadata": {},
   "outputs": [],
   "source": [
    "newf9.modes['blue']['reference']"
   ]
  },
  {
   "cell_type": "code",
   "execution_count": null,
   "metadata": {},
   "outputs": [],
   "source": [
    "x = newf9.modes['blue']['reference']['apertures']['xcentroid'] + newf9.modes['blue']['reference']['xcen']"
   ]
  },
  {
   "cell_type": "code",
   "execution_count": null,
   "metadata": {},
   "outputs": [],
   "source": [
    "y = newf9.modes['blue']['reference']['apertures']['ycentroid'] + newf9.modes['blue']['reference']['ycen']"
   ]
  },
  {
   "cell_type": "code",
   "execution_count": null,
   "metadata": {},
   "outputs": [],
   "source": [
    "arr = np.array((x.data, y.data)).transpose()"
   ]
  },
  {
   "cell_type": "code",
   "execution_count": null,
   "metadata": {},
   "outputs": [],
   "source": [
    "np.savetxt(\"blah.txt\", arr, fmt=\"%.3f\")"
   ]
  },
  {
   "cell_type": "code",
   "execution_count": null,
   "metadata": {},
   "outputs": [],
   "source": [
    "np.savetxt?"
   ]
  },
  {
   "cell_type": "code",
   "execution_count": null,
   "metadata": {},
   "outputs": [],
   "source": []
  },
  {
   "cell_type": "code",
   "execution_count": null,
   "metadata": {},
   "outputs": [],
   "source": [
    "x, y = 405, 445\n",
    "xnew, ynew = 438, 469\n",
    "xref, yref = 433, 431\n",
    "pixsize = 0.09639\n",
    "\n",
    "rot = u.Quantity(-225 * u.deg, u.rad).value\n",
    "\n",
    "dx = x - xref\n",
    "dy = y - yref\n",
    "\n",
    "dr, phi = cart2pol([dx, dy])\n",
    "\n",
    "derot_phi = phi - rot\n",
    "\n",
    "az, el = pol2cart([dr, derot_phi])\n",
    "print(az, el)"
   ]
  },
  {
   "cell_type": "code",
   "execution_count": null,
   "metadata": {},
   "outputs": [],
   "source": [
    "x, y = 405, 445\n",
    "xnew, ynew = 438, 469\n",
    "xref, yref = 433, 431\n",
    "pixsize = 0.09639\n",
    "\n",
    "rot = u.Quantity(-225 * u.deg, u.rad).value\n",
    "\n",
    "dx = 1 * (x - xref)\n",
    "dy = 1 * (y - yref)\n",
    "\n",
    "dr, phi = cart2pol([dx, dy])\n",
    "\n",
    "derot_phi = phi - rot\n",
    "\n",
    "az, el = pol2cart([dr, derot_phi])\n",
    "print(az, el)"
   ]
  },
  {
   "cell_type": "code",
   "execution_count": null,
   "metadata": {},
   "outputs": [],
   "source": [
    "azcorr = 3.0 / pixsize\n",
    "elcorr = 0.9 / pixsize\n",
    "drc, phic = cart2pol([azcorr, elcorr])\n",
    "derot_phic = phic + rot\n",
    "az_pix, el_pix = pol2cart([drc, derot_phic])\n",
    "print(az_pix, el_pix)"
   ]
  },
  {
   "cell_type": "code",
   "execution_count": null,
   "metadata": {},
   "outputs": [],
   "source": [
    "a = np.arange(5)"
   ]
  },
  {
   "cell_type": "code",
   "execution_count": null,
   "metadata": {},
   "outputs": [],
   "source": [
    "np.delete(a, 2)"
   ]
  },
  {
   "cell_type": "code",
   "execution_count": null,
   "metadata": {},
   "outputs": [],
   "source": [
    "2320-2820"
   ]
  },
  {
   "cell_type": "code",
   "execution_count": null,
   "metadata": {},
   "outputs": [],
   "source": [
    "x1, y1 = 274, 288\n",
    "x2, y2 = 243, 314\n",
    "xc, yc = 255, 255\n",
    "rot_def = 234 * u.deg\n",
    "rotation = u.Quantity(rot_def, u.rad).value"
   ]
  },
  {
   "cell_type": "code",
   "execution_count": null,
   "metadata": {},
   "outputs": [],
   "source": [
    "x1, y1 = 212, 238\n",
    "x2, y2 = 243, 314\n",
    "xc, yc = 255, 255\n",
    "rot_def = 234 * u.deg\n",
    "rotation = u.Quantity(rot_def, u.rad).value"
   ]
  },
  {
   "cell_type": "code",
   "execution_count": null,
   "metadata": {},
   "outputs": [],
   "source": [
    "x1, y1 = 358, 308\n",
    "xc, yc = 419, 439\n",
    "rot_def = -225 * u.deg\n",
    "rotation = u.Quantity(rot_def, u.rad).value"
   ]
  },
  {
   "cell_type": "code",
   "execution_count": null,
   "metadata": {},
   "outputs": [],
   "source": [
    "dx = x1 - xc\n",
    "dy = y1 - yc"
   ]
  },
  {
   "cell_type": "code",
   "execution_count": null,
   "metadata": {},
   "outputs": [],
   "source": [
    "dr, phi = cart2pol([dx, dy])"
   ]
  },
  {
   "cell_type": "code",
   "execution_count": null,
   "metadata": {},
   "outputs": [],
   "source": [
    "derot_phi = rotation + phi"
   ]
  },
  {
   "cell_type": "code",
   "execution_count": null,
   "metadata": {},
   "outputs": [],
   "source": [
    "az, el = pol2cart([dr, derot_phi])\n",
    "az, el"
   ]
  },
  {
   "cell_type": "code",
   "execution_count": null,
   "metadata": {},
   "outputs": [],
   "source": [
    "az*0.0936, el*0.0936"
   ]
  },
  {
   "cell_type": "code",
   "execution_count": null,
   "metadata": {},
   "outputs": [],
   "source": [
    "1.26 * 3600 / 4156"
   ]
  },
  {
   "cell_type": "code",
   "execution_count": null,
   "metadata": {},
   "outputs": [],
   "source": [
    "z = ZernikeVector(Z04=100)"
   ]
  },
  {
   "cell_type": "code",
   "execution_count": null,
   "metadata": {},
   "outputs": [],
   "source": [
    "z"
   ]
  },
  {
   "cell_type": "code",
   "execution_count": null,
   "metadata": {},
   "outputs": [],
   "source": [
    "z.ignore(\"Z04\")"
   ]
  },
  {
   "cell_type": "code",
   "execution_count": null,
   "metadata": {},
   "outputs": [],
   "source": [
    "z"
   ]
  },
  {
   "cell_type": "code",
   "execution_count": null,
   "metadata": {},
   "outputs": [],
   "source": [
    "for i in range(23,37):\n",
    "    print(\"Z{0:02d}\".format(i))"
   ]
  },
  {
   "cell_type": "code",
   "execution_count": null,
   "metadata": {},
   "outputs": [],
   "source": [
    "for z in zv:\n",
    "    print(zv[z])"
   ]
  },
  {
   "cell_type": "code",
   "execution_count": null,
   "metadata": {},
   "outputs": [],
   "source": [
    "np.zeros(0)"
   ]
  },
  {
   "cell_type": "code",
   "execution_count": null,
   "metadata": {},
   "outputs": [],
   "source": [
    "data = check_wfsdata(\"/Users/tim/MMT/wfsdat/20180604/wfs_ff_cal_img_2018.0604.052401.fits\")\n",
    "#data = check_wfsdata(\"/Users/tim/MMT/wfsdat/20171101/mmirs_wfs_0022.fits\")\n",
    "#data = check_wfsdata(\"/Volumes/LACIE SHARE/wfsdat/20180424/f9wfs_20180423-234645.fits\")\n",
    "#data = check_wfsdata(\"/Users/tim/MMT/wfsdat/20180404/manual_wfs_0004.fits\")\n",
    "fix, ax = plt.subplots()\n",
    "norm = wfs_norm(data)\n",
    "ax.imshow(data, cmap='Greys', origin='lower', norm=norm, interpolation='None')\n",
    "ax.set_title(\"Binospec WFS\")\n",
    "plt.savefig(\"/Users/tim/MMT/spie/2018/bino.pdf\")\n",
    "plt.show()"
   ]
  },
  {
   "cell_type": "code",
   "execution_count": null,
   "metadata": {},
   "outputs": [],
   "source": [
    "refdata = check_wfsdata(\"/Users/tim/MMT/mmtwfs/mmtwfs/data/ref_images/f9_new_ref.fits\")\n",
    "refdata = refdata - np.median(refdata)\n",
    "apertures, figure = wfsfind(refdata, fwhm=4.0, threshold=30, plot=True)\n",
    "figure.show()"
   ]
  },
  {
   "cell_type": "code",
   "execution_count": null,
   "metadata": {},
   "outputs": [],
   "source": [
    "u.imperial.inch.to(u.mm)"
   ]
  },
  {
   "cell_type": "code",
   "execution_count": null,
   "metadata": {},
   "outputs": [],
   "source": [
    "np.hypot?"
   ]
  },
  {
   "cell_type": "code",
   "execution_count": null,
   "metadata": {},
   "outputs": [],
   "source": [
    "20/26 * 435"
   ]
  },
  {
   "cell_type": "code",
   "execution_count": null,
   "metadata": {},
   "outputs": [],
   "source": []
  }
 ],
 "metadata": {
  "kernelspec": {
   "display_name": "Python 3",
   "language": "python",
   "name": "python3"
  },
  "language_info": {
   "codemirror_mode": {
    "name": "ipython",
    "version": 3
   },
   "file_extension": ".py",
   "mimetype": "text/x-python",
   "name": "python",
   "nbconvert_exporter": "python",
   "pygments_lexer": "ipython3",
   "version": "3.7.3"
  }
 },
 "nbformat": 4,
 "nbformat_minor": 2
}
