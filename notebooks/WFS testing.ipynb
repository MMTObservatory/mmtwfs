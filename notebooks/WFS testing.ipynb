{
 "cells": [
  {
   "cell_type": "code",
   "execution_count": 2,
   "metadata": {},
   "outputs": [],
   "source": [
    "import time\n",
    "import os\n",
    "import sys\n",
    "import numpy as np\n",
    "#import ipympl\n",
    "import matplotlib\n",
    "#matplotlib.use('nbagg')\n",
    "#from matplotlib import style\n",
    "#style.use('ggplot')\n",
    "import matplotlib.pyplot as plt\n",
    "\n",
    "import astropy.units as u\n",
    "from astropy import stats\n",
    "from astropy.io import fits\n",
    "from mmtwfs.wfs import *\n",
    "from mmtwfs.zernike import ZernikeVector\n",
    "from mmtwfs.telescope import MMT"
   ]
  },
  {
   "cell_type": "code",
   "execution_count": 3,
   "metadata": {},
   "outputs": [],
   "source": [
    "%load_ext autoreload\n",
    "%autoreload 2\n",
    "%matplotlib widget"
   ]
  },
  {
   "cell_type": "code",
   "execution_count": 4,
   "metadata": {},
   "outputs": [],
   "source": [
    "def wfsrun(wfs, mode, file):\n",
    "    r = wfs.measure_slopes(file, mode=mode, plot=True)\n",
    "    return r"
   ]
  },
  {
   "cell_type": "markdown",
   "metadata": {},
   "source": [
    "# Binospec Dev Section"
   ]
  },
  {
   "cell_type": "code",
   "execution_count": 4,
   "metadata": {},
   "outputs": [
    {
     "data": {
      "application/vnd.jupyter.widget-view+json": {
       "model_id": "7271cb96d0414d00aaaf0f493f14c043",
       "version_major": 2,
       "version_minor": 0
      },
      "text/plain": [
       "Canvas(toolbar=Toolbar(toolitems=[('Home', 'Reset original view', 'home', 'home'), ('Back', 'Back to previous …"
      ]
     },
     "metadata": {},
     "output_type": "display_data"
    }
   ],
   "source": [
    "bino = WFSFactory(wfs=\"binospec\")"
   ]
  },
  {
   "cell_type": "code",
   "execution_count": 8,
   "metadata": {},
   "outputs": [
    {
     "data": {
      "application/vnd.jupyter.widget-view+json": {
       "model_id": "624fe7a93e6e40d2a3eaffdeda5bb70a",
       "version_major": 2,
       "version_minor": 0
      },
      "text/plain": [
       "Canvas(toolbar=Toolbar(toolitems=[('Home', 'Reset original view', 'home', 'home'), ('Back', 'Back to previous …"
      ]
     },
     "metadata": {},
     "output_type": "display_data"
    },
    {
     "data": {
      "application/vnd.jupyter.widget-view+json": {
       "model_id": "7496fd9f3a674e12aa7e1abdd38b2db4",
       "version_major": 2,
       "version_minor": 0
      },
      "text/plain": [
       "Canvas(toolbar=Toolbar(toolitems=[('Home', 'Reset original view', 'home', 'home'), ('Back', 'Back to previous …"
      ]
     },
     "metadata": {},
     "output_type": "display_data"
    },
    {
     "data": {
      "application/vnd.jupyter.widget-view+json": {
       "model_id": "65b565c489bf447b93d777faed262260",
       "version_major": 2,
       "version_minor": 0
      },
      "text/plain": [
       "Canvas(toolbar=Toolbar(toolitems=[('Home', 'Reset original view', 'home', 'home'), ('Back', 'Back to previous …"
      ]
     },
     "metadata": {},
     "output_type": "display_data"
    }
   ],
   "source": [
    "#%%prun\n",
    "bino_file = \"/Volumes/LaCie 8TB/wfsdat/20180208/wfs_ff_cal_img_2018.0208.074052.fits\"\n",
    "#bino_file = \"/Users/tim/MMT/mmtwfs/mmtwfs/data/test_data/wfs_ff_cal_img_2017.1113.111402.fits\"\n",
    "#bino_file = \"/Volumes/LaCie 8TB/wfsdat/20180209/wfs_ff_cal_img_2018.0209.114054.fits\"\n",
    "#bino_file = \"/Volumes/LaCie 8TB/wfsdat/20180210/wfs_ff_cal_img_2018.0210.095719.fits\"\n",
    "#bino_file = \"/Volumes/LaCie 8TB/wfsdat/20180210/wfs_ff_cal_img_2018.0210.102615.fits\"\n",
    "bino_file = \"/Volumes/LaCie 8TB/wfsdat/20180604/wfs_ff_cal_img_2018.0604.052401.fits\"\n",
    "bino_file = \"/Volumes/LaCie 8TB/wfsdat/20191119/wfs_ff_cal_img_2019.1119.031015.fits\"\n",
    "results = bino.measure_slopes(bino_file, mode=\"binospec\", plot=True)\n",
    "results['figures']['slopes'].show()"
   ]
  },
  {
   "cell_type": "code",
   "execution_count": null,
   "metadata": {},
   "outputs": [],
   "source": [
    "mask = mk_wfs_mask(results['data'][106:406,100:400], outfile=\"/Users/tim/MMT/mmtwfs/mmtwfs/data/ref_images/bino_mask.fits\")"
   ]
  },
  {
   "cell_type": "code",
   "execution_count": null,
   "metadata": {},
   "outputs": [],
   "source": [
    "refaps = bino.modes['binospec']['reference'].masked_apertures\n",
    "fig, ax = plt.subplots()\n",
    "fit = results['grid_fit']\n",
    "refx = refaps['xcentroid'] * (fit['scale'] + refaps['xcentroid'] * fit['xcoma']) + fit['xcen']\n",
    "refy = refaps['ycentroid'] * (fit['scale'] + refaps['ycentroid'] * fit['ycoma']) + fit['ycen']\n",
    "x, y = results['apertures'].positions.transpose()[0], results['apertures'].positions.transpose()[1]\n",
    "spacing = 0.5*(results['xspacing'] + results['yspacing'])\n",
    "ax.scatter(refx, refy)\n",
    "ax.set_aspect('equal')\n",
    "ax.scatter(x, y)\n",
    "ax.set_xlim(0, 512)\n",
    "ax.set_ylim(0, 512)\n",
    "fig.show()\n",
    "\n",
    "results['grid_fit']"
   ]
  },
  {
   "cell_type": "code",
   "execution_count": null,
   "metadata": {},
   "outputs": [],
   "source": [
    "#%%prun\n",
    "zresults = bino.fit_wavefront(results, plot=True)\n",
    "zvec = zresults['zernike']\n",
    "print(zresults['residual_rms'])\n",
    "#zvec.normalize()\n",
    "print(zvec.pretty_print())\n",
    "#print(zvec)\n",
    "zresults['resid_plot'].show()"
   ]
  },
  {
   "cell_type": "code",
   "execution_count": null,
   "metadata": {},
   "outputs": [],
   "source": [
    "zvec.fringe_bar_chart().show()"
   ]
  },
  {
   "cell_type": "code",
   "execution_count": null,
   "metadata": {},
   "outputs": [],
   "source": [
    "zvec.bar_chart(last_mode=22).show()"
   ]
  },
  {
   "cell_type": "code",
   "execution_count": null,
   "metadata": {},
   "outputs": [],
   "source": [
    "zvec.plot_map().show()"
   ]
  },
  {
   "cell_type": "code",
   "execution_count": null,
   "metadata": {},
   "outputs": [],
   "source": [
    "zv = ZernikeVector(Z38=100)\n",
    "ft, m1c, zv_masked = bino.telescope.calculate_primary_corrections(zvec, mask=['Z22'])\n",
    "bino.telescope.to_rcell(ft, filename=\"null_forces\")"
   ]
  },
  {
   "cell_type": "code",
   "execution_count": null,
   "metadata": {},
   "outputs": [],
   "source": [
    "forces, m1focus, zv_masked = bino.calculate_primary(zvec, threshold=0.25*zresults['residual_rms'])"
   ]
  },
  {
   "cell_type": "code",
   "execution_count": null,
   "metadata": {},
   "outputs": [],
   "source": [
    "bino.modes['binospec']['reference']"
   ]
  },
  {
   "cell_type": "code",
   "execution_count": null,
   "metadata": {},
   "outputs": [],
   "source": [
    "bino.modes['binospec']['reference']['xspacing'], bino.modes['binospec']['reference']['yspacing']"
   ]
  },
  {
   "cell_type": "code",
   "execution_count": null,
   "metadata": {},
   "outputs": [],
   "source": [
    "bino.modes['binospec']['reference']['figure'].show()"
   ]
  },
  {
   "cell_type": "markdown",
   "metadata": {},
   "source": [
    "# MMIRS Dev Section"
   ]
  },
  {
   "cell_type": "code",
   "execution_count": 3,
   "metadata": {},
   "outputs": [
    {
     "data": {
      "application/vnd.jupyter.widget-view+json": {
       "model_id": "",
       "version_major": 2,
       "version_minor": 0
      },
      "text/plain": [
       "Canvas(toolbar=Toolbar(toolitems=[('Home', 'Reset original view', 'home', 'home'), ('Back', 'Back to previous …"
      ]
     },
     "metadata": {},
     "output_type": "display_data"
    },
    {
     "data": {
      "application/vnd.jupyter.widget-view+json": {
       "model_id": "",
       "version_major": 2,
       "version_minor": 0
      },
      "text/plain": [
       "Canvas(toolbar=Toolbar(toolitems=[('Home', 'Reset original view', 'home', 'home'), ('Back', 'Back to previous …"
      ]
     },
     "metadata": {},
     "output_type": "display_data"
    }
   ],
   "source": [
    "mmirs = WFSFactory(wfs=\"mmirs\")"
   ]
  },
  {
   "cell_type": "code",
   "execution_count": 26,
   "metadata": {},
   "outputs": [
    {
     "data": {
      "application/vnd.jupyter.widget-view+json": {
       "model_id": "91533e1abe704c9fa0dcb8a69f3d2fbc",
       "version_major": 2,
       "version_minor": 0
      },
      "text/plain": [
       "Canvas(toolbar=Toolbar(toolitems=[('Home', 'Reset original view', 'home', 'home'), ('Back', 'Back to previous …"
      ]
     },
     "metadata": {},
     "output_type": "display_data"
    },
    {
     "data": {
      "application/vnd.jupyter.widget-view+json": {
       "model_id": "07ff7b12a118420a8262eecf9e6f3467",
       "version_major": 2,
       "version_minor": 0
      },
      "text/plain": [
       "Canvas(toolbar=Toolbar(toolitems=[('Home', 'Reset original view', 'home', 'home'), ('Back', 'Back to previous …"
      ]
     },
     "metadata": {},
     "output_type": "display_data"
    },
    {
     "data": {
      "application/vnd.jupyter.widget-view+json": {
       "model_id": "8969ca7a40d644b09a65dd91bc4594ad",
       "version_major": 2,
       "version_minor": 0
      },
      "text/plain": [
       "Canvas(toolbar=Toolbar(toolitems=[('Home', 'Reset original view', 'home', 'home'), ('Back', 'Back to previous …"
      ]
     },
     "metadata": {},
     "output_type": "display_data"
    }
   ],
   "source": [
    "plt.close('all')\n",
    "#mmirs.cen_sigma = 6.0\n",
    "#mmirs_file = \"/Users/tim/MMT/wfsdat/20181120/mmirs_wfs_%04d.fits\" % 157\n",
    "#mmirs_file = \"/Volumes/LaCie 8TB/wfsdat/20181221/mmirs_wfs_%04d.fits\" % 61\n",
    "mmirs_file = \"/Users/tim/MMT/wfsdat/20171013/mmirs_wfs_rename_%04d.fits\" % 533  # pacman = 565,566\n",
    "#mmirs_file = \"/Users/tim/MMT/mmtwfs/mmtwfs/data/test_data/mmirs_wfs_0150.fits\"\n",
    "mmirs_file = \"/Volumes/LaCie 8TB/wfsdat/20180511/mmirs_wfs_0275.fits\"\n",
    "#mmirs_file = \"/Users/tim/MMT/wfsdat/test/mmirs_wfs_0192.fits\"\n",
    "#mmirs_file = \"/Volumes/LaCie 8TB/wfsdat/20181121/mmirs_wfs_0009.fits\"\n",
    "#mmirs_file = \"/Users/tim/MMT/wfsdat/20181120/mmirs_wfs_0125.fits\"\n",
    "mmirs_file = \"/Volumes/LaCie 8TB/wfsdat/20191213/mmirs_wfs_0039.fits\"\n",
    "results = mmirs.measure_slopes(mmirs_file, plot=True)\n",
    "results['figures']['slopes'].show()"
   ]
  },
  {
   "cell_type": "code",
   "execution_count": null,
   "metadata": {},
   "outputs": [],
   "source": [
    "# 107, 184  363 189\n",
    "180. * np.arctan2(5, 256) / np.pi"
   ]
  },
  {
   "cell_type": "code",
   "execution_count": null,
   "metadata": {},
   "outputs": [],
   "source": [
    "results['figures']['pupil_center'].show()"
   ]
  },
  {
   "cell_type": "code",
   "execution_count": null,
   "metadata": {},
   "outputs": [],
   "source": [
    "results['grid_fit']"
   ]
  },
  {
   "cell_type": "code",
   "execution_count": null,
   "metadata": {},
   "outputs": [],
   "source": [
    "mask = mk_wfs_mask(results['data'][75:395,85:425], outfile=\"/Users/tim/MMT/mmtwfs/mmtwfs/data/ref_images/mmirs_mask.fits\")\n"
   ]
  },
  {
   "cell_type": "code",
   "execution_count": null,
   "metadata": {},
   "outputs": [],
   "source": [
    "hdu = fits.PrimaryHDU(results['data'])\n",
    "hdu.writeto('data.fits', overwrite=True)\n",
    "mmirs.telescope.obscuration"
   ]
  },
  {
   "cell_type": "code",
   "execution_count": 27,
   "metadata": {},
   "outputs": [
    {
     "data": {
      "application/vnd.jupyter.widget-view+json": {
       "model_id": "57d0f4b05c20430eba15bf96dcb95cee",
       "version_major": 2,
       "version_minor": 0
      },
      "text/plain": [
       "Canvas(toolbar=Toolbar(toolitems=[('Home', 'Reset original view', 'home', 'home'), ('Back', 'Back to previous …"
      ]
     },
     "metadata": {},
     "output_type": "display_data"
    },
    {
     "name": "stdout",
     "output_type": "stream",
     "text": [
      "1141.4053991164974 nm\n",
      "Fringe Coefficients\n",
      " Z02:        -208.6 ±   137 nm \t X Tilt (1, 1)\n",
      " Z03:         53.72 ±   156 nm \t Y Tilt (1, -1)\n",
      " Z04:         360.5 ±  47.8 nm \t Defocus (2, 0)\n",
      " Z05:         312.9 ±    89 nm \t Primary Astig at 45° (2, -2)\n",
      " Z06:          40.8 ±   102 nm \t Primary Astig at 0° (2, 2)\n",
      " Z07:        -188.6 ±  65.7 nm \t Primary Y Coma (3, -1)\n",
      " Z08:        -188.2 ±  54.9 nm \t Primary X Coma (3, 1)\n",
      " Z09:        -81.51 ±  83.2 nm \t Y Trefoil (3, -3)\n",
      " Z10:         120.1 ±    84 nm \t X Trefoil (3, 3)\n",
      " Z11:        -91.18 ±  36.3 nm \t Primary Spherical (4, 0)\n",
      "\n",
      "Total RMS: \t 270.3 nm\n",
      "\n"
     ]
    }
   ],
   "source": [
    "mmirs.nzern = 10\n",
    "zresults = mmirs.fit_wavefront(results, plot=True)\n",
    "zvec = zresults['zernike']\n",
    "print(zresults['residual_rms'])\n",
    "#zvec.normalize()\n",
    "print(zvec.pretty_print())\n",
    "zresults['resid_plot'].show()"
   ]
  },
  {
   "cell_type": "code",
   "execution_count": 28,
   "metadata": {},
   "outputs": [
    {
     "data": {
      "application/vnd.jupyter.widget-view+json": {
       "model_id": "fd716674c93c4255a33d4f474a000721",
       "version_major": 2,
       "version_minor": 0
      },
      "text/plain": [
       "Canvas(toolbar=Toolbar(toolitems=[('Home', 'Reset original view', 'home', 'home'), ('Back', 'Back to previous …"
      ]
     },
     "metadata": {},
     "output_type": "display_data"
    }
   ],
   "source": [
    "zresults['zernike'].fringe_bar_chart().show()"
   ]
  },
  {
   "cell_type": "code",
   "execution_count": null,
   "metadata": {},
   "outputs": [],
   "source": [
    "fig, ax = plt.subplots()\n",
    "norm = wfs_norm(results['data'])\n",
    "ax.imshow(results['data'], cmap='Greys', origin='lower', norm=norm, interpolation='None')\n",
    "mmirs.modes['mmirs1']['reference'].photapers.plot(color='red', lw=1.5, alpha=0.1, ax=ax)\n",
    "plt.show()"
   ]
  },
  {
   "cell_type": "code",
   "execution_count": null,
   "metadata": {},
   "outputs": [],
   "source": [
    "plt.close('all')"
   ]
  },
  {
   "cell_type": "code",
   "execution_count": null,
   "metadata": {},
   "outputs": [],
   "source": [
    "refaps = mmirs.modes['mmirs1']['reference'].masked_apertures\n",
    "fig, ax = plt.subplots()\n",
    "fit = results['grid_fit']\n",
    "refx = refaps['xcentroid'] * (fit['scale'] + refaps['xcentroid'] * fit['xcoma']) + fit['xcen']\n",
    "refy = refaps['ycentroid'] * (fit['scale'] + refaps['ycentroid'] * fit['ycoma']) + fit['ycen']\n",
    "x, y = results['apertures'].positions.transpose()[0], results['apertures'].positions.transpose()[1]\n",
    "spacing = 0.5*(results['xspacing'] + results['yspacing'])\n",
    "ax.scatter(refx, refy)\n",
    "ax.set_aspect('equal')\n",
    "ax.scatter(x, y)\n",
    "ax.set_xlim(0, 512)\n",
    "ax.set_ylim(0, 512)\n",
    "fig.show()\n",
    "\n",
    "results['grid_fit']"
   ]
  },
  {
   "cell_type": "code",
   "execution_count": null,
   "metadata": {},
   "outputs": [],
   "source": [
    "zresults['zernike'].bar_chart(last_mode=21).show()"
   ]
  },
  {
   "cell_type": "code",
   "execution_count": null,
   "metadata": {},
   "outputs": [],
   "source": [
    "psf, pfig = mmirs.telescope.psf(zresults['zernike'].copy())\n",
    "pfig.show()"
   ]
  },
  {
   "cell_type": "code",
   "execution_count": null,
   "metadata": {},
   "outputs": [],
   "source": [
    "print(mmirs.modes['mmirs1']['reference']['fwhm'])\n",
    "\n",
    "spot = mmirs.modes['mmirs1']['reference']['spot']\n",
    "model = Gaussian2D(amplitude=spot.max(), x_mean=spot.shape[1]/2, y_mean=spot.shape[0]/2) + Polynomial2D(degree=0)\n",
    "#model = Gaussian2D(amplitude=spot.max(), x_mean=spot.shape[1]/2, y_mean=spot.shape[0]/2)\n",
    "fitter = LevMarLSQFitter()\n",
    "y, x = np.mgrid[:spot.shape[0], :spot.shape[1]]\n",
    "fit = fitter(model, x, y, spot)\n",
    "fig, ax = plt.subplots()\n",
    "ax.imshow(mmirs.modes['mmirs1']['reference']['spot'] - fit(x, y))\n",
    "fig.show()"
   ]
  },
  {
   "cell_type": "code",
   "execution_count": null,
   "metadata": {},
   "outputs": [],
   "source": [
    "mmirs.modes['mmirs1']['reference']['figure'].show()\n",
    "mmirs.modes['mmirs1']['reference']['xspacing'], mmirs.modes['mmirs1']['reference']['yspacing']"
   ]
  },
  {
   "cell_type": "code",
   "execution_count": null,
   "metadata": {},
   "outputs": [],
   "source": [
    "zplot = zvec.copy()\n",
    "zplot.ignore('Z02')\n",
    "zplot.ignore('Z03')\n",
    "mfig = zplot.plot_map()\n",
    "mfig.show()\n",
    "zplot.peak2valley"
   ]
  },
  {
   "cell_type": "code",
   "execution_count": null,
   "metadata": {},
   "outputs": [],
   "source": [
    "zvec.units = u.nm\n",
    "f = zvec.bar_chart(residual=zresults['residual_rms'])\n",
    "f.set_size_inches(9, 5)\n",
    "\n",
    "f.show()"
   ]
  },
  {
   "cell_type": "code",
   "execution_count": null,
   "metadata": {},
   "outputs": [],
   "source": [
    "plt.close('all')"
   ]
  },
  {
   "cell_type": "code",
   "execution_count": null,
   "metadata": {},
   "outputs": [],
   "source": [
    "torig = mmirs.telescope.bending_forces(zvec)\n",
    "torig.show_in_notebook()"
   ]
  },
  {
   "cell_type": "code",
   "execution_count": null,
   "metadata": {},
   "outputs": [],
   "source": [
    "force_fig = mmirs.telescope.plot_forces(torig)\n",
    "force_fig.show()"
   ]
  },
  {
   "cell_type": "code",
   "execution_count": null,
   "metadata": {},
   "outputs": [],
   "source": [
    "t, m1foc = mmirs.correct_primary(zv=zvec)\n",
    "print(m1foc)\n",
    "t.show_in_notebook()"
   ]
  },
  {
   "cell_type": "code",
   "execution_count": null,
   "metadata": {},
   "outputs": [],
   "source": [
    "new_force_fig = mmirs.telescope.plot_forces(t)\n",
    "new_force_fig.show()"
   ]
  },
  {
   "cell_type": "code",
   "execution_count": null,
   "metadata": {},
   "outputs": [],
   "source": [
    "zpsf = ZernikeVector()\n",
    "psf, psf_fig = mmirs.telescope.psf(zpsf, plot=True)\n",
    "psf_fig.set_size_inches(4.0, 4.0)\n",
    "psf_fig.show()"
   ]
  },
  {
   "cell_type": "markdown",
   "metadata": {},
   "source": [
    "# F/9 Dev Section"
   ]
  },
  {
   "cell_type": "code",
   "execution_count": 5,
   "metadata": {},
   "outputs": [
    {
     "data": {
      "application/vnd.jupyter.widget-view+json": {
       "model_id": "",
       "version_major": 2,
       "version_minor": 0
      },
      "text/plain": [
       "Canvas(toolbar=Toolbar(toolitems=[('Home', 'Reset original view', 'home', 'home'), ('Back', 'Back to previous …"
      ]
     },
     "metadata": {},
     "output_type": "display_data"
    }
   ],
   "source": [
    "plt.close('all')\n",
    "f9wfs = WFSFactory(wfs=\"newf9\")\n",
    "#f9wfs = WFSFactory(wfs=\"newf9\", pup_offset=[0.0, 0.0])"
   ]
  },
  {
   "cell_type": "code",
   "execution_count": 6,
   "metadata": {},
   "outputs": [],
   "source": [
    "f9wfs.modes['blue']['reference'].figure.show()"
   ]
  },
  {
   "cell_type": "code",
   "execution_count": null,
   "metadata": {},
   "outputs": [],
   "source": [
    "baseline1_files = [\"f9wfs_20180131-191734.fits\", \"f9wfs_20180131-191925.fits\", \"f9wfs_20180131-192131.fits\"]\n",
    "baseline2_files = [\"f9wfs_20180131-192350.fits\", \"f9wfs_20180131-192541.fits\", \"f9wfs_20180131-192731.fits\"]\n",
    "baseline3_files = [\n",
    "    \"f9wfs_20180131-192927.fits\", \"f9wfs_20180131-193109.fits\", \n",
    "    \"f9wfs_20180131-193325.fits\", \"f9wfs_20180131-193509.fits\"\n",
    "]"
   ]
  },
  {
   "cell_type": "code",
   "execution_count": null,
   "metadata": {},
   "outputs": [],
   "source": [
    "mask = mk_wfs_mask(results['data'][130:710,60:620], outfile=\"/Users/tim/MMT/mmtwfs/mmtwfs/data/ref_images/newf9_mask.fits\")"
   ]
  },
  {
   "cell_type": "code",
   "execution_count": 72,
   "metadata": {},
   "outputs": [
    {
     "data": {
      "application/vnd.jupyter.widget-view+json": {
       "model_id": "2832d1fb171f4db3809c1dad35bf31f9",
       "version_major": 2,
       "version_minor": 0
      },
      "text/plain": [
       "Canvas(toolbar=Toolbar(toolitems=[('Home', 'Reset original view', 'home', 'home'), ('Back', 'Back to previous …"
      ]
     },
     "metadata": {},
     "output_type": "display_data"
    },
    {
     "data": {
      "application/vnd.jupyter.widget-view+json": {
       "model_id": "f05b378fa8bd491dba51702558da29f7",
       "version_major": 2,
       "version_minor": 0
      },
      "text/plain": [
       "Canvas(toolbar=Toolbar(toolitems=[('Home', 'Reset original view', 'home', 'home'), ('Back', 'Back to previous …"
      ]
     },
     "metadata": {},
     "output_type": "display_data"
    },
    {
     "data": {
      "application/vnd.jupyter.widget-view+json": {
       "model_id": "c2ad10ef54d54f3e8aa57845d638846d",
       "version_major": 2,
       "version_minor": 0
      },
      "text/plain": [
       "Canvas(toolbar=Toolbar(toolitems=[('Home', 'Reset original view', 'home', 'home'), ('Back', 'Back to previous …"
      ]
     },
     "metadata": {},
     "output_type": "display_data"
    }
   ],
   "source": [
    "plt.close('all')\n",
    "#f9_file = \"/Volumes/LaCie 8TB/wfsdat/20180201/\" + baseline3_files[0]\n",
    "#f9_file = \"/Users/tim/MMT/mmtwfs/mmtwfs/data/test_data/test_newf9.fits\"\n",
    "#f9_file = \"/Volumes/LaCie 8TB/wfsdat/20180909/f9wfs_20180908-220524.fits\"\n",
    "#f9_file = \"/Volumes/LaCie 8TB/wfsdat/20190104/f9wfs_20190104-020657.fits\"\n",
    "f9_file = \"/Volumes/LaCie 8TB/wfsdat/20200218/f9wfs_20200218-044238.fits\"\n",
    "results = f9wfs.measure_slopes(f9_file, 'blue', plot=True)\n",
    "#plt.scatter(refaps['xcentroid']+results['xcen'], refaps['ycentroid']+results['ycen'])\n",
    "results['figures']['slopes'].show()\n",
    "# 265 258\n",
    "# ref 240 259.5"
   ]
  },
  {
   "cell_type": "code",
   "execution_count": 73,
   "metadata": {},
   "outputs": [
    {
     "data": {
      "application/vnd.jupyter.widget-view+json": {
       "model_id": "ffe8a692c32441d9a2a1d4cdaafd4259",
       "version_major": 2,
       "version_minor": 0
      },
      "text/plain": [
       "Canvas(toolbar=Toolbar(toolitems=[('Home', 'Reset original view', 'home', 'home'), ('Back', 'Back to previous …"
      ]
     },
     "metadata": {},
     "output_type": "display_data"
    },
    {
     "name": "stdout",
     "output_type": "stream",
     "text": [
      "1106.9186470483617 nm\n",
      "Fringe Coefficients\n",
      " Z02:        -90.52 ±   167 nm \t X Tilt (1, 1)\n",
      " Z03:         272.9 ±   163 nm \t Y Tilt (1, -1)\n",
      " Z04:        -582.6 ±  53.6 nm \t Defocus (2, 0)\n",
      " Z05:        -162.8 ±   109 nm \t Primary Astig at 45° (2, -2)\n",
      " Z06:        -157.9 ±   121 nm \t Primary Astig at 0° (2, 2)\n",
      " Z07:         90.46 ±  72.1 nm \t Primary Y Coma (3, -1)\n",
      " Z08:        -24.81 ±  85.8 nm \t Primary X Coma (3, 1)\n",
      " Z09:        -25.99 ±    97 nm \t Y Trefoil (3, -3)\n",
      " Z10:        -69.38 ±   117 nm \t X Trefoil (3, 3)\n",
      " Z11:         98.87 ±  43.5 nm \t Primary Spherical (4, 0)\n",
      " Z12:        -172.3 ±  79.1 nm \t Secondary Astigmatism at 0° (4, 2)\n",
      " Z13:        -295.3 ±  54.6 nm \t Secondary Astigmatism at 45° (4, -2)\n",
      " Z14:        -58.27 ±   103 nm \t X Tetrafoil (4, 4)\n",
      " Z15:        -75.42 ±  91.9 nm \t Y Tetrafoil (4, -4)\n",
      " Z16:        -302.4 ±  80.4 nm \t Secondary X Coma (5, 1)\n",
      " Z17:        -25.49 ±  57.1 nm \t Secondary Y Coma (5, -1)\n",
      " Z18:         89.11 ±  78.4 nm \t Secondary X Trefoil (5, 3)\n",
      " Z19:         44.85 ±  60.7 nm \t Secondary Y Trefoil (5, -3)\n",
      " Z20:         39.53 ±   102 nm \t X Pentafoil (5, 5)\n",
      " Z21:         177.6 ±  94.1 nm \t Y Pentafoil (5, -5)\n",
      " Z22:         39.42 ±  38.3 nm \t Secondary Spherical (6, 0)\n",
      "\n",
      "Total RMS: \t 386.7 nm\n",
      "\n"
     ]
    }
   ],
   "source": [
    "zresults = f9wfs.fit_wavefront(results, plot=True)\n",
    "print(zresults['residual_rms'])\n",
    "print(zresults['zernike'].pretty_print())\n",
    "zresults['resid_plot'].show()"
   ]
  },
  {
   "cell_type": "code",
   "execution_count": 74,
   "metadata": {},
   "outputs": [
    {
     "data": {
      "application/vnd.jupyter.widget-view+json": {
       "model_id": "412ed35dd48a45a596203acfc42aaacc",
       "version_major": 2,
       "version_minor": 0
      },
      "text/plain": [
       "Canvas(toolbar=Toolbar(toolitems=[('Home', 'Reset original view', 'home', 'home'), ('Back', 'Back to previous …"
      ]
     },
     "metadata": {},
     "output_type": "display_data"
    }
   ],
   "source": [
    "zresults['zernike'].fringe_bar_chart().show()"
   ]
  },
  {
   "cell_type": "code",
   "execution_count": null,
   "metadata": {},
   "outputs": [],
   "source": [
    "f9wfs.modes['blue']['reference'].xcen"
   ]
  },
  {
   "cell_type": "code",
   "execution_count": null,
   "metadata": {},
   "outputs": [],
   "source": [
    "refaps = f9wfs.modes['blue']['reference'].masked_apertures\n",
    "fig, ax = plt.subplots()\n",
    "fit = results['grid_fit']\n",
    "refx = refaps['xcentroid'] * (fit['scale'] + refaps['xcentroid'] * fit['xcoma']) + fit['xcen']\n",
    "refy = refaps['ycentroid'] * (fit['scale'] + refaps['ycentroid'] * fit['ycoma']) + fit['ycen']\n",
    "x, y = results['apertures'].positions.transpose()[0], results['apertures'].positions.transpose()[1]\n",
    "spacing = 0.5*(results['xspacing'] + results['yspacing'])\n",
    "ax.scatter(refx, refy)\n",
    "ax.set_aspect('equal')\n",
    "ax.scatter(x, y)\n",
    "ax.set_xlim(0, 845)\n",
    "ax.set_ylim(0, 845)\n",
    "fig.show()\n",
    "fit['scale']"
   ]
  },
  {
   "cell_type": "code",
   "execution_count": null,
   "metadata": {},
   "outputs": [],
   "source": [
    "data = check_wfsdata(f9_file)\n",
    "x = np.arange(data.shape[1])\n",
    "y = np.arange(data.shape[0])\n",
    "bx = np.arange(data.shape[1]+1)\n",
    "by = np.arange(data.shape[0]+1)\n",
    "apertures = results['spots']\n",
    "\n",
    "# bin the spot positions along the axes and use Lomb-Scargle to measure the grid spacing in each direction\n",
    "xsum = np.histogram(apertures['xcentroid'], bins=bx)\n",
    "ysum = np.histogram(apertures['ycentroid'], bins=by)\n",
    "\n",
    "k = np.linspace(10.0, 50., 500)  # look for spacings from 5 to 50 pixels (plenty of range)\n",
    "f = 1.0 / k  # convert spacing to frequency\n",
    "xp = stats.LombScargle(x, xsum[0]).power(f)\n",
    "yp = stats.LombScargle(y, ysum[0]).power(f)\n",
    "plt.plot(k, yp)\n",
    "plt.show()"
   ]
  },
  {
   "cell_type": "code",
   "execution_count": null,
   "metadata": {},
   "outputs": [],
   "source": [
    "zresults['zernike'].bar_chart(last_mode=21).show()"
   ]
  },
  {
   "cell_type": "code",
   "execution_count": null,
   "metadata": {},
   "outputs": [],
   "source": [
    "spots = {'xcentroid': x, 'ycentroid': y}\n",
    "from scipy import optimize\n",
    "\n",
    "def match_apertures(refx, refy, spotx, spoty):\n",
    "    tot_dist = 0.0\n",
    "    refs = np.array([refx, refy])\n",
    "    spots = np.array([spotx, spoty])\n",
    "    match = np.empty(len(refx))\n",
    "    max_r = spacing / 2.\n",
    "    for i in np.arange(len(refx)):\n",
    "        dists = np.sqrt( (spots[0]-refs[0][i])**2 + (spots[1]-refs[1][i])**2 )\n",
    "        tot_dist += np.min(dists)\n",
    "    return tot_dist\n",
    "\n",
    "def fit_apertures(pars, ref, spots):\n",
    "    xc = pars[0]\n",
    "    yc = pars[1]\n",
    "    xscale = pars[2]\n",
    "    yscale = pars[3]\n",
    "    xcoma = pars[4]\n",
    "    ycoma = pars[5]\n",
    "    refx = ref['xcentroid'] * (xscale + ref['xcentroid'] * xcoma) + xc\n",
    "    refy = ref['ycentroid'] * (yscale + ref['ycentroid'] * ycoma) + yc\n",
    "    spotx = spots['xcentroid']\n",
    "    spoty = spots['ycentroid']\n",
    "    dist = match_apertures(refx, refy, spotx, spoty)\n",
    "    return dist"
   ]
  },
  {
   "cell_type": "code",
   "execution_count": null,
   "metadata": {},
   "outputs": [],
   "source": [
    "#%%timeit\n",
    "args = (refaps, spots)\n",
    "pars = (results['xcen'], results['ycen'], 1.0, 1.0, 0.0, 0.0)\n",
    "bounds = (\n",
    "    (results['xcen']-50, results['xcen']+50), \n",
    "    (results['ycen']-50, results['ycen']+50),\n",
    "    (0.8, 1.2),\n",
    "    (0.8, 1.2),\n",
    "    (-0.1, 0.1),\n",
    "    (-0.1, 0.1)\n",
    ")\n",
    "res = optimize.minimize(fit_apertures, pars, args=args, bounds=bounds)\n",
    "res"
   ]
  },
  {
   "cell_type": "code",
   "execution_count": null,
   "metadata": {},
   "outputs": [],
   "source": [
    "fig, ax = plt.subplots()\n",
    "refx, refy = refaps['xcentroid'], refaps['ycentroid']\n",
    "refx = refx * (res['x'][2] + refx*res['x'][4]) + res['x'][0]\n",
    "refy = refy * (res['x'][3] + refy*res['x'][5]) + res['x'][1]\n",
    "x, y = results['apertures'].positions.transpose()[0], results['apertures'].positions.transpose()[1]\n",
    "ax.scatter(refx, refy)\n",
    "ax.set_aspect('equal')\n",
    "ax.scatter(x, y)\n",
    "ax.set_xlim(0, 845)\n",
    "ax.set_ylim(0, 845)\n",
    "fig.show()"
   ]
  },
  {
   "cell_type": "code",
   "execution_count": null,
   "metadata": {},
   "outputs": [],
   "source": [
    "print(f9wfs.modes['blue']['reference']['xcen'], f9wfs.modes['blue']['reference']['ycen'])\n",
    "print(f9wfs.modes['blue']['reference']['xspacing'], f9wfs.modes['blue']['reference']['yspacing'])\n",
    "f9wfs.modes['blue']['reference'].keys()"
   ]
  },
  {
   "cell_type": "code",
   "execution_count": null,
   "metadata": {},
   "outputs": [],
   "source": [
    "zv = zresults['zernike']\n",
    "print(zv.rms)\n",
    "zv.ignore('Z02')\n",
    "zv.ignore('Z03')\n",
    "f = zv.plot_map()\n",
    "f.show()"
   ]
  },
  {
   "cell_type": "code",
   "execution_count": null,
   "metadata": {},
   "outputs": [],
   "source": [
    "bc = zv.bar_chart(residual=zresults['residual_rms'])\n",
    "bc.show()"
   ]
  },
  {
   "cell_type": "code",
   "execution_count": null,
   "metadata": {},
   "outputs": [],
   "source": [
    "psf, psf_fig = f9wfs.telescope.psf(zv, fov=1.0)\n",
    "psf_fig.show()"
   ]
  },
  {
   "cell_type": "code",
   "execution_count": null,
   "metadata": {},
   "outputs": [],
   "source": [
    "plt.close('all')"
   ]
  },
  {
   "cell_type": "markdown",
   "metadata": {},
   "source": [
    "# F/5 Dev Section"
   ]
  },
  {
   "cell_type": "code",
   "execution_count": 6,
   "metadata": {},
   "outputs": [
    {
     "data": {
      "application/vnd.jupyter.widget-view+json": {
       "model_id": "",
       "version_major": 2,
       "version_minor": 0
      },
      "text/plain": [
       "Canvas(toolbar=Toolbar(toolitems=[('Home', 'Reset original view', 'home', 'home'), ('Back', 'Back to previous …"
      ]
     },
     "metadata": {},
     "output_type": "display_data"
    }
   ],
   "source": [
    "f5wfs = WFSFactory(wfs=\"f5\")"
   ]
  },
  {
   "cell_type": "code",
   "execution_count": 23,
   "metadata": {},
   "outputs": [
    {
     "data": {
      "application/vnd.jupyter.widget-view+json": {
       "model_id": "477c407b148e411fae0d71a8b2f0d606",
       "version_major": 2,
       "version_minor": 0
      },
      "text/plain": [
       "Canvas(toolbar=Toolbar(toolitems=[('Home', 'Reset original view', 'home', 'home'), ('Back', 'Back to previous …"
      ]
     },
     "metadata": {},
     "output_type": "display_data"
    },
    {
     "data": {
      "application/vnd.jupyter.widget-view+json": {
       "model_id": "7603f6a03074434e916fdfb141976771",
       "version_major": 2,
       "version_minor": 0
      },
      "text/plain": [
       "Canvas(toolbar=Toolbar(toolitems=[('Home', 'Reset original view', 'home', 'home'), ('Back', 'Back to previous …"
      ]
     },
     "metadata": {},
     "output_type": "display_data"
    },
    {
     "data": {
      "application/vnd.jupyter.widget-view+json": {
       "model_id": "3b93f2faa9c7414986a549588f3918c5",
       "version_major": 2,
       "version_minor": 0
      },
      "text/plain": [
       "Canvas(toolbar=Toolbar(toolitems=[('Home', 'Reset original view', 'home', 'home'), ('Back', 'Back to previous …"
      ]
     },
     "metadata": {},
     "output_type": "display_data"
    }
   ],
   "source": [
    "#%%prun\n",
    "plt.close('all')\n",
    "#f5_file = \"/Volumes/LaCie 8TB/wfsdat/20181022/manual_wfs_0003.fits\"\n",
    "#f5_file = \"/Users/tim/MMT/mmtwfs/mmtwfs/data/test_data/auto_wfs_0037_ave.fits\"\n",
    "f5_file = \"/Users/tim/MMT/wfsdat/20180923/manual_wfs_0019.fits\"\n",
    "f5_file = \"/Volumes/LaCie 8TB/wfsdat/20191015/manual_wfs_0013.fits\"\n",
    "results = f5wfs.measure_slopes(f5_file, 'hecto', plot=True)\n",
    "results['figures']['slopes'].show()"
   ]
  },
  {
   "cell_type": "code",
   "execution_count": null,
   "metadata": {},
   "outputs": [],
   "source": [
    "mask = mk_wfs_mask(results['data'][25:475,25:475], outfile=\"/Users/tim/MMT/mmtwfs/mmtwfs/data/ref_images/f5_mask.fits\")"
   ]
  },
  {
   "cell_type": "code",
   "execution_count": 24,
   "metadata": {},
   "outputs": [
    {
     "data": {
      "text/plain": [
       "((<Quantity -3.059 arcsec>, <Quantity -0.797 arcsec>),\n",
       " 236.00917575744455,\n",
       " 284.99026226450553)"
      ]
     },
     "execution_count": 24,
     "metadata": {},
     "output_type": "execute_result"
    }
   ],
   "source": [
    "f5wfs.calculate_recenter(results), results['xcen'], results['ycen']"
   ]
  },
  {
   "cell_type": "code",
   "execution_count": 25,
   "metadata": {},
   "outputs": [
    {
     "data": {
      "application/vnd.jupyter.widget-view+json": {
       "model_id": "fcbeec26d1c94d6498aa6e196de893af",
       "version_major": 2,
       "version_minor": 0
      },
      "text/plain": [
       "Canvas(toolbar=Toolbar(toolitems=[('Home', 'Reset original view', 'home', 'home'), ('Back', 'Back to previous …"
      ]
     },
     "metadata": {},
     "output_type": "display_data"
    },
    {
     "name": "stdout",
     "output_type": "stream",
     "text": [
      "Fringe Coefficients\n",
      " Z02:        -57.29 ±   192 nm \t X Tilt (1, 1)\n",
      " Z03:         136.7 ±   186 nm \t Y Tilt (1, -1)\n",
      " Z04:          1117 ±  60.8 nm \t Defocus (2, 0)\n",
      " Z05:         446.6 ±   131 nm \t Primary Astig at 45° (2, -2)\n",
      " Z06:         184.6 ±   131 nm \t Primary Astig at 0° (2, 2)\n",
      " Z07:         14.78 ±  75.3 nm \t Primary Y Coma (3, -1)\n",
      " Z08:         135.8 ±  84.5 nm \t Primary X Coma (3, 1)\n",
      " Z09:         47.62 ±   117 nm \t Y Trefoil (3, -3)\n",
      " Z10:         128.1 ±   108 nm \t X Trefoil (3, 3)\n",
      " Z11:        -63.59 ±  49.1 nm \t Primary Spherical (4, 0)\n",
      " Z12:        -94.48 ±  64.1 nm \t Secondary Astigmatism at 0° (4, 2)\n",
      " Z13:        -130.8 ±  55.2 nm \t Secondary Astigmatism at 45° (4, -2)\n",
      " Z14:         16.49 ±  93.6 nm \t X Tetrafoil (4, 4)\n",
      " Z15:        -2.547 ±  85.9 nm \t Y Tetrafoil (4, -4)\n",
      " Z16:        -132.9 ±  61.3 nm \t Secondary X Coma (5, 1)\n",
      " Z17:        -17.24 ±  59.3 nm \t Secondary Y Coma (5, -1)\n",
      " Z18:         -1.69 ±  55.4 nm \t Secondary X Trefoil (5, 3)\n",
      " Z19:        -3.584 ±  61.9 nm \t Secondary Y Trefoil (5, -3)\n",
      " Z20:         86.13 ±  84.2 nm \t X Pentafoil (5, 5)\n",
      " Z21:        -19.39 ±  86.1 nm \t Y Pentafoil (5, -5)\n",
      " Z22:          20.9 ±  39.8 nm \t Secondary Spherical (6, 0)\n",
      "\n",
      "Total RMS: \t 682 nm\n",
      "\n",
      "682.0185900346773 nm\n"
     ]
    }
   ],
   "source": [
    "#%%prun\n",
    "zresults = f5wfs.fit_wavefront(results, plot=True)\n",
    "zv = zresults['zernike']\n",
    "print(zv.pretty_print())\n",
    "print(zv.rms)\n",
    "zresults['resid_plot'].show()"
   ]
  },
  {
   "cell_type": "code",
   "execution_count": 26,
   "metadata": {},
   "outputs": [
    {
     "data": {
      "application/vnd.jupyter.widget-view+json": {
       "model_id": "12407f7d22434ab1b51c7ffe24218e7e",
       "version_major": 2,
       "version_minor": 0
      },
      "text/plain": [
       "Canvas(toolbar=Toolbar(toolitems=[('Home', 'Reset original view', 'home', 'home'), ('Back', 'Back to previous …"
      ]
     },
     "metadata": {},
     "output_type": "display_data"
    },
    {
     "data": {
      "text/latex": [
       "$1363.4802 \\; \\mathrm{nm}$"
      ],
      "text/plain": [
       "<Quantity 1363.48022001 nm>"
      ]
     },
     "execution_count": 26,
     "metadata": {},
     "output_type": "execute_result"
    }
   ],
   "source": [
    "zf = zv.fringe_bar_chart()\n",
    "zf.show()\n",
    "zresults['residual_rms']"
   ]
  },
  {
   "cell_type": "code",
   "execution_count": null,
   "metadata": {},
   "outputs": [],
   "source": [
    "bc = zv.bar_chart(last_mode=21)\n",
    "bc.show()"
   ]
  },
  {
   "cell_type": "code",
   "execution_count": null,
   "metadata": {},
   "outputs": [],
   "source": [
    "zv.denormalize()\n",
    "zv"
   ]
  },
  {
   "cell_type": "code",
   "execution_count": null,
   "metadata": {
    "slideshow": {
     "slide_type": "-"
    }
   },
   "outputs": [],
   "source": [
    "refaps = f5wfs.modes['hecto']['reference'].masked_apertures\n",
    "fig, ax = plt.subplots()\n",
    "fit = results['grid_fit']\n",
    "refx = refaps['xcentroid'] * (fit['scale'] + refaps['xcentroid'] * fit['xcoma']) + fit['xcen']\n",
    "refy = refaps['ycentroid'] * (fit['scale'] + refaps['ycentroid'] * fit['ycoma']) + fit['ycen']\n",
    "x, y = results['apertures'].positions.transpose()[0], results['apertures'].positions.transpose()[1]\n",
    "spacing = 0.5*(results['xspacing'] + results['yspacing'])\n",
    "ax.scatter(refx, refy)\n",
    "ax.set_aspect('equal')\n",
    "ax.scatter(x, y)\n",
    "ax.set_xlim(0, 512)\n",
    "ax.set_ylim(0, 512)\n",
    "fig.show()"
   ]
  },
  {
   "cell_type": "code",
   "execution_count": null,
   "metadata": {},
   "outputs": [],
   "source": [
    "zv.ignore('Z02')\n",
    "zv.ignore('Z03')\n",
    "zv.ignore('Z04')\n",
    "print(zv.rms)\n",
    "mf = zv.plot_map()\n",
    "mf.show()"
   ]
  },
  {
   "cell_type": "code",
   "execution_count": null,
   "metadata": {},
   "outputs": [],
   "source": [
    "t, m1foc = f5wfs.telescope.calculate_primary_corrections(zresults['zernike'])"
   ]
  },
  {
   "cell_type": "code",
   "execution_count": null,
   "metadata": {},
   "outputs": [],
   "source": [
    "fplot = f5wfs.telescope.plot_forces(t, m1focus=m1foc)\n",
    "fplot.show()"
   ]
  },
  {
   "cell_type": "code",
   "execution_count": null,
   "metadata": {},
   "outputs": [],
   "source": [
    "t.show_in_notebook()"
   ]
  },
  {
   "cell_type": "markdown",
   "metadata": {},
   "source": [
    "# Old F/9"
   ]
  },
  {
   "cell_type": "code",
   "execution_count": null,
   "metadata": {},
   "outputs": [],
   "source": [
    "oldf9 = WFSFactory(wfs=\"f9\")"
   ]
  },
  {
   "cell_type": "code",
   "execution_count": null,
   "metadata": {},
   "outputs": [],
   "source": [
    "#%%prun\n",
    "plt.close('all')\n",
    "oldf9_file = \"/Users/tim/MMT/mmtwfs/mmtwfs/data/test_data/TREX_p500_0000.fits\"\n",
    "oldf9_file = \"/Volumes/LaCie 8TB/wfsdat/20031223/start_0001.fits\"\n",
    "results = oldf9.measure_slopes(oldf9_file, 'blue', plot=True)\n",
    "results['figures']['slopes'].show()"
   ]
  },
  {
   "cell_type": "code",
   "execution_count": null,
   "metadata": {},
   "outputs": [],
   "source": [
    "mask = mk_wfs_mask(results['data'][40:460,45:465], outfile=\"/Users/tim/MMT/mmtwfs/mmtwfs/data/ref_images/oldf9_mask.fits\")"
   ]
  },
  {
   "cell_type": "code",
   "execution_count": null,
   "metadata": {},
   "outputs": [],
   "source": [
    "oldf9.ref_spot_fwhm()"
   ]
  },
  {
   "cell_type": "code",
   "execution_count": null,
   "metadata": {},
   "outputs": [],
   "source": []
  },
  {
   "cell_type": "markdown",
   "metadata": {},
   "source": [
    "# Scratch space"
   ]
  },
  {
   "cell_type": "code",
   "execution_count": null,
   "metadata": {},
   "outputs": [],
   "source": [
    "cen = center_pupil(subt, pup, plot=True)\n",
    "print(cen)\n",
    "plt.show()"
   ]
  },
  {
   "cell_type": "code",
   "execution_count": null,
   "metadata": {},
   "outputs": [],
   "source": [
    "from astropy.io import ascii"
   ]
  },
  {
   "cell_type": "code",
   "execution_count": null,
   "metadata": {},
   "outputs": [],
   "source": [
    "t = f9wfs.telescope\n",
    "m = t.zern_map"
   ]
  },
  {
   "cell_type": "code",
   "execution_count": null,
   "metadata": {},
   "outputs": [],
   "source": [
    "z = np.loadtxt(\"/Users/tim/MMT/wfsdat/20170110/mmirs_wfs_0375.dao.sub.zrn.cor\")\n",
    "z1 = np.loadtxt(\"/Users/tim/MMT/wfsdat/20170110/mmirs_wfs_0375.dao.av.zrn\")"
   ]
  },
  {
   "cell_type": "code",
   "execution_count": null,
   "metadata": {},
   "outputs": [],
   "source": [
    "sigma = results['fwhm'] * stats.funcs.gaussian_fwhm_to_sigma\n",
    "\n",
    "wave = 650 * u.nm\n",
    "wave = wave.to(u.m).value  # r_0 equation expects meters so convert\n",
    "# calculate the physical size of each aperture.\n",
    "ref = mmirs.modes['mmirs2']['reference']\n",
    "apsize_pix = np.max((ref['xspacing'], ref['yspacing']))\n",
    "d = mmirs.telescope.diameter * apsize_pix / mmirs.pup_size\n",
    "d = d.to(u.m).value  # r_0 equation expects meters so convert\n",
    "\n",
    "# we need to deconvolve the instrumental spot width from the measured one\n",
    "ref_sigma = ref['sigma']\n",
    "if sigma > ref_sigma:\n",
    "    corr_sigma = np.sqrt(sigma**2 - ref_sigma**2)\n",
    "else:\n",
    "    corr_sigma = 0.0\n",
    "corr_sigma *= mmirs.pix_size.to(u.rad).value  # r_0 equation expects radians so convert\n",
    "# this equation relates the motion within a single aperture to the characteristic scale size of the\n",
    "# turbulence, r_0.\n",
    "r_0 = ( 0.179 * (wave**2) * (d**(-1./3.))/corr_sigma**2 )**0.6\n",
    "print(r_0)\n",
    "# this equation relates the turbulence scale size to an expected image FWHM at the given wavelength.\n",
    "raw_seeing = u.rad * 0.98 * wave / r_0\n",
    "raw_seeing = raw_seeing.to(u.arcsec)\n"
   ]
  },
  {
   "cell_type": "code",
   "execution_count": null,
   "metadata": {},
   "outputs": [],
   "source": [
    "t = bino.telescope"
   ]
  },
  {
   "cell_type": "code",
   "execution_count": null,
   "metadata": {},
   "outputs": [],
   "source": [
    "z = ZernikeVector(Z11=-1000*u.nm)\n",
    "z.plot_map()\n",
    "plt.show()"
   ]
  },
  {
   "cell_type": "code",
   "execution_count": null,
   "metadata": {},
   "outputs": [],
   "source": [
    "ft, m1, zv_masked = t.calculate_primary_corrections(z)"
   ]
  },
  {
   "cell_type": "code",
   "execution_count": null,
   "metadata": {},
   "outputs": [],
   "source": [
    "ft['force'].min()"
   ]
  },
  {
   "cell_type": "code",
   "execution_count": null,
   "metadata": {},
   "outputs": [],
   "source": [
    "m1"
   ]
  },
  {
   "cell_type": "code",
   "execution_count": null,
   "metadata": {},
   "outputs": [],
   "source": [
    "derot_phi = phi - u.Quantity(225*u.deg, u.rad).value\n",
    "pol2cart([dr, derot_phi])"
   ]
  },
  {
   "cell_type": "code",
   "execution_count": null,
   "metadata": {},
   "outputs": [],
   "source": [
    "u.Quantity(225*u.deg, u.rad).value"
   ]
  },
  {
   "cell_type": "code",
   "execution_count": null,
   "metadata": {},
   "outputs": [],
   "source": [
    "dx, dy"
   ]
  },
  {
   "cell_type": "code",
   "execution_count": null,
   "metadata": {},
   "outputs": [],
   "source": [
    "t = mmirs.telescope\n",
    "zv = ZernikeVector(Z05=1000, Z11=250)\n",
    "force, focus = t.correct_primary(zv)\n",
    "f1 = focus.copy()\n",
    "uforce, ufocus = t.undo_last()\n",
    "print(ufocus)\n",
    "print(f1)\n",
    "assert(ufocus == -1 * f1)"
   ]
  },
  {
   "cell_type": "code",
   "execution_count": null,
   "metadata": {},
   "outputs": [],
   "source": [
    "focus.copy()"
   ]
  },
  {
   "cell_type": "code",
   "execution_count": null,
   "metadata": {},
   "outputs": [],
   "source": [
    "np.allclose(np.zeros(2), 0.0)"
   ]
  },
  {
   "cell_type": "code",
   "execution_count": null,
   "metadata": {},
   "outputs": [],
   "source": [
    "s = \"offset_inc wfs z 200.3\"\n",
    "assert(\"200.3\" in s)"
   ]
  },
  {
   "cell_type": "code",
   "execution_count": null,
   "metadata": {},
   "outputs": [],
   "source": [
    "fig, ax = plt.subplots()"
   ]
  },
  {
   "cell_type": "code",
   "execution_count": null,
   "metadata": {},
   "outputs": [],
   "source": [
    "ax.imshow(results['data'], cmap=cm.Greys)\n",
    "fig.savefig(\"test.png\")"
   ]
  },
  {
   "cell_type": "code",
   "execution_count": null,
   "metadata": {},
   "outputs": [],
   "source": [
    "a = fig.axes[0]"
   ]
  },
  {
   "cell_type": "code",
   "execution_count": null,
   "metadata": {},
   "outputs": [],
   "source": [
    "fig.show()"
   ]
  },
  {
   "cell_type": "code",
   "execution_count": null,
   "metadata": {},
   "outputs": [],
   "source": [
    "\"{0:0.0f}\".format((550 * u.nm))"
   ]
  },
  {
   "cell_type": "code",
   "execution_count": null,
   "metadata": {},
   "outputs": [],
   "source": [
    "x, y, r, p, ph = zvec.phase_map(n=100)\n",
    "i = np.argsort(x)"
   ]
  },
  {
   "cell_type": "code",
   "execution_count": null,
   "metadata": {},
   "outputs": [],
   "source": [
    "from plotly.offline import download_plotlyjs, init_notebook_mode, plot, iplot\n",
    "import plotly.graph_objs as go\n",
    "init_notebook_mode(connected=True)"
   ]
  },
  {
   "cell_type": "code",
   "execution_count": null,
   "metadata": {},
   "outputs": [],
   "source": [
    "data = [go.Heatmap(z=np.array(ph[i]), x=x[i], y=y[i], colorscale='RdBu')]\n",
    "layout = go.Layout(title=\"test\")\n",
    "fig = go.Figure(data=data, layout=layout)\n",
    "plot(fig, filename=\"blah\")"
   ]
  },
  {
   "cell_type": "code",
   "execution_count": null,
   "metadata": {},
   "outputs": [],
   "source": [
    "np.min(ph)"
   ]
  },
  {
   "cell_type": "code",
   "execution_count": null,
   "metadata": {},
   "outputs": [],
   "source": [
    "0.119 * 5.4*3/20"
   ]
  },
  {
   "cell_type": "code",
   "execution_count": null,
   "metadata": {},
   "outputs": [],
   "source": [
    "if 'HOME' in os.environ:\n",
    "    print('y')"
   ]
  },
  {
   "cell_type": "code",
   "execution_count": null,
   "metadata": {},
   "outputs": [],
   "source": [
    "np.zeros((512, 512)).shape"
   ]
  },
  {
   "cell_type": "code",
   "execution_count": null,
   "metadata": {},
   "outputs": [],
   "source": [
    "zv = ZernikeVector()"
   ]
  },
  {
   "cell_type": "code",
   "execution_count": null,
   "metadata": {},
   "outputs": [],
   "source": [
    "zv.plot_map()"
   ]
  },
  {
   "cell_type": "code",
   "execution_count": null,
   "metadata": {},
   "outputs": [],
   "source": [
    "t = MMT()\n",
    "zv = ZernikeVector(Z05=1000, Z11=250)\n",
    "force, focus = t.calculate_primary_corrections(zv)"
   ]
  },
  {
   "cell_type": "code",
   "execution_count": null,
   "metadata": {},
   "outputs": [],
   "source": [
    "lforce, lfocus = t.correct_primary(force, focus)"
   ]
  },
  {
   "cell_type": "code",
   "execution_count": null,
   "metadata": {},
   "outputs": [],
   "source": [
    "uforce, ufocus = t.undo_last()"
   ]
  },
  {
   "cell_type": "code",
   "execution_count": null,
   "metadata": {},
   "outputs": [],
   "source": [
    "focus, lfocus, ufocus"
   ]
  },
  {
   "cell_type": "code",
   "execution_count": null,
   "metadata": {},
   "outputs": [],
   "source": [
    "newf9 = WFSFactory(wfs=\"newf9\")"
   ]
  },
  {
   "cell_type": "code",
   "execution_count": null,
   "metadata": {},
   "outputs": [],
   "source": [
    "newf9.modes['blue']['reference']"
   ]
  },
  {
   "cell_type": "code",
   "execution_count": null,
   "metadata": {},
   "outputs": [],
   "source": [
    "x = newf9.modes['blue']['reference']['apertures']['xcentroid'] + newf9.modes['blue']['reference']['xcen']"
   ]
  },
  {
   "cell_type": "code",
   "execution_count": null,
   "metadata": {},
   "outputs": [],
   "source": [
    "y = newf9.modes['blue']['reference']['apertures']['ycentroid'] + newf9.modes['blue']['reference']['ycen']"
   ]
  },
  {
   "cell_type": "code",
   "execution_count": null,
   "metadata": {},
   "outputs": [],
   "source": [
    "arr = np.array((x.data, y.data)).transpose()"
   ]
  },
  {
   "cell_type": "code",
   "execution_count": null,
   "metadata": {},
   "outputs": [],
   "source": [
    "np.savetxt(\"blah.txt\", arr, fmt=\"%.3f\")"
   ]
  },
  {
   "cell_type": "code",
   "execution_count": null,
   "metadata": {},
   "outputs": [],
   "source": [
    "np.savetxt?"
   ]
  },
  {
   "cell_type": "code",
   "execution_count": null,
   "metadata": {},
   "outputs": [],
   "source": []
  },
  {
   "cell_type": "code",
   "execution_count": null,
   "metadata": {},
   "outputs": [],
   "source": [
    "x, y = 405, 445\n",
    "xnew, ynew = 438, 469\n",
    "xref, yref = 433, 431\n",
    "pixsize = 0.09639\n",
    "\n",
    "rot = u.Quantity(-225 * u.deg, u.rad).value\n",
    "\n",
    "dx = x - xref\n",
    "dy = y - yref\n",
    "\n",
    "dr, phi = cart2pol([dx, dy])\n",
    "\n",
    "derot_phi = phi - rot\n",
    "\n",
    "az, el = pol2cart([dr, derot_phi])\n",
    "print(az, el)"
   ]
  },
  {
   "cell_type": "code",
   "execution_count": null,
   "metadata": {},
   "outputs": [],
   "source": [
    "x, y = 405, 445\n",
    "xnew, ynew = 438, 469\n",
    "xref, yref = 433, 431\n",
    "pixsize = 0.09639\n",
    "\n",
    "rot = u.Quantity(-225 * u.deg, u.rad).value\n",
    "\n",
    "dx = 1 * (x - xref)\n",
    "dy = 1 * (y - yref)\n",
    "\n",
    "dr, phi = cart2pol([dx, dy])\n",
    "\n",
    "derot_phi = phi - rot\n",
    "\n",
    "az, el = pol2cart([dr, derot_phi])\n",
    "print(az, el)"
   ]
  },
  {
   "cell_type": "code",
   "execution_count": null,
   "metadata": {},
   "outputs": [],
   "source": [
    "azcorr = 3.0 / pixsize\n",
    "elcorr = 0.9 / pixsize\n",
    "drc, phic = cart2pol([azcorr, elcorr])\n",
    "derot_phic = phic + rot\n",
    "az_pix, el_pix = pol2cart([drc, derot_phic])\n",
    "print(az_pix, el_pix)"
   ]
  },
  {
   "cell_type": "code",
   "execution_count": null,
   "metadata": {},
   "outputs": [],
   "source": [
    "a = np.arange(5)"
   ]
  },
  {
   "cell_type": "code",
   "execution_count": null,
   "metadata": {},
   "outputs": [],
   "source": [
    "np.delete(a, 2)"
   ]
  },
  {
   "cell_type": "code",
   "execution_count": null,
   "metadata": {},
   "outputs": [],
   "source": [
    "2320-2820"
   ]
  },
  {
   "cell_type": "code",
   "execution_count": null,
   "metadata": {},
   "outputs": [],
   "source": [
    "x1, y1 = 274, 288\n",
    "x2, y2 = 243, 314\n",
    "xc, yc = 255, 255\n",
    "rot_def = 234 * u.deg\n",
    "rotation = u.Quantity(rot_def, u.rad).value"
   ]
  },
  {
   "cell_type": "code",
   "execution_count": null,
   "metadata": {},
   "outputs": [],
   "source": [
    "x1, y1 = 212, 238\n",
    "x2, y2 = 243, 314\n",
    "xc, yc = 255, 255\n",
    "rot_def = 234 * u.deg\n",
    "rotation = u.Quantity(rot_def, u.rad).value"
   ]
  },
  {
   "cell_type": "code",
   "execution_count": null,
   "metadata": {},
   "outputs": [],
   "source": [
    "x1, y1 = 358, 308\n",
    "xc, yc = 419, 439\n",
    "rot_def = -225 * u.deg\n",
    "rotation = u.Quantity(rot_def, u.rad).value"
   ]
  },
  {
   "cell_type": "code",
   "execution_count": null,
   "metadata": {},
   "outputs": [],
   "source": [
    "dx = x1 - xc\n",
    "dy = y1 - yc"
   ]
  },
  {
   "cell_type": "code",
   "execution_count": null,
   "metadata": {},
   "outputs": [],
   "source": [
    "dr, phi = cart2pol([dx, dy])"
   ]
  },
  {
   "cell_type": "code",
   "execution_count": null,
   "metadata": {},
   "outputs": [],
   "source": [
    "derot_phi = rotation + phi"
   ]
  },
  {
   "cell_type": "code",
   "execution_count": null,
   "metadata": {},
   "outputs": [],
   "source": [
    "az, el = pol2cart([dr, derot_phi])\n",
    "az, el"
   ]
  },
  {
   "cell_type": "code",
   "execution_count": null,
   "metadata": {},
   "outputs": [],
   "source": [
    "az*0.0936, el*0.0936"
   ]
  },
  {
   "cell_type": "code",
   "execution_count": null,
   "metadata": {},
   "outputs": [],
   "source": [
    "1.26 * 3600 / 4156"
   ]
  },
  {
   "cell_type": "code",
   "execution_count": null,
   "metadata": {},
   "outputs": [],
   "source": [
    "z = ZernikeVector(Z04=100)"
   ]
  },
  {
   "cell_type": "code",
   "execution_count": null,
   "metadata": {},
   "outputs": [],
   "source": [
    "z"
   ]
  },
  {
   "cell_type": "code",
   "execution_count": null,
   "metadata": {},
   "outputs": [],
   "source": [
    "z.ignore(\"Z04\")"
   ]
  },
  {
   "cell_type": "code",
   "execution_count": null,
   "metadata": {},
   "outputs": [],
   "source": [
    "z"
   ]
  },
  {
   "cell_type": "code",
   "execution_count": null,
   "metadata": {},
   "outputs": [],
   "source": [
    "for i in range(23,37):\n",
    "    print(\"Z{0:02d}\".format(i))"
   ]
  },
  {
   "cell_type": "code",
   "execution_count": null,
   "metadata": {},
   "outputs": [],
   "source": [
    "for z in zv:\n",
    "    print(zv[z])"
   ]
  },
  {
   "cell_type": "code",
   "execution_count": null,
   "metadata": {},
   "outputs": [],
   "source": [
    "np.zeros(0)"
   ]
  },
  {
   "cell_type": "code",
   "execution_count": null,
   "metadata": {},
   "outputs": [],
   "source": [
    "data = check_wfsdata(\"/Users/tim/MMT/wfsdat/20180604/wfs_ff_cal_img_2018.0604.052401.fits\")\n",
    "#data = check_wfsdata(\"/Users/tim/MMT/wfsdat/20171101/mmirs_wfs_0022.fits\")\n",
    "#data = check_wfsdata(\"/Volumes/LACIE SHARE/wfsdat/20180424/f9wfs_20180423-234645.fits\")\n",
    "#data = check_wfsdata(\"/Users/tim/MMT/wfsdat/20180404/manual_wfs_0004.fits\")\n",
    "fix, ax = plt.subplots()\n",
    "norm = wfs_norm(data)\n",
    "ax.imshow(data, cmap='Greys', origin='lower', norm=norm, interpolation='None')\n",
    "ax.set_title(\"Binospec WFS\")\n",
    "plt.savefig(\"/Users/tim/MMT/spie/2018/bino.pdf\")\n",
    "plt.show()"
   ]
  },
  {
   "cell_type": "code",
   "execution_count": null,
   "metadata": {},
   "outputs": [],
   "source": [
    "refdata = check_wfsdata(\"/Users/tim/MMT/mmtwfs/mmtwfs/data/ref_images/f9_new_ref.fits\")\n",
    "refdata = refdata - np.median(refdata)\n",
    "apertures, figure = wfsfind(refdata, fwhm=4.0, threshold=30, plot=True)\n",
    "figure.show()"
   ]
  },
  {
   "cell_type": "code",
   "execution_count": null,
   "metadata": {},
   "outputs": [],
   "source": [
    "u.imperial.inch.to(u.mm)"
   ]
  },
  {
   "cell_type": "code",
   "execution_count": null,
   "metadata": {},
   "outputs": [],
   "source": [
    "np.hypot?"
   ]
  },
  {
   "cell_type": "code",
   "execution_count": null,
   "metadata": {},
   "outputs": [],
   "source": [
    "20/26 * 435"
   ]
  },
  {
   "cell_type": "code",
   "execution_count": null,
   "metadata": {},
   "outputs": [],
   "source": [
    "6.5 * 5.29"
   ]
  },
  {
   "cell_type": "code",
   "execution_count": null,
   "metadata": {},
   "outputs": [],
   "source": [
    "1/2.72"
   ]
  },
  {
   "cell_type": "code",
   "execution_count": 4,
   "metadata": {},
   "outputs": [],
   "source": [
    "ref1 = check_wfsdata(\"/Users/tim/wfsdat/Ref_0000.fits\")\n",
    "ref2 = check_wfsdata(\"/Users/tim/MMT/mmtwfs/mmtwfs/data/ref_images/f5_hecto_ref.fits\")"
   ]
  },
  {
   "cell_type": "code",
   "execution_count": 5,
   "metadata": {},
   "outputs": [
    {
     "data": {
      "application/javascript": [
       "/* Put everything inside the global mpl namespace */\n",
       "window.mpl = {};\n",
       "\n",
       "\n",
       "mpl.get_websocket_type = function() {\n",
       "    if (typeof(WebSocket) !== 'undefined') {\n",
       "        return WebSocket;\n",
       "    } else if (typeof(MozWebSocket) !== 'undefined') {\n",
       "        return MozWebSocket;\n",
       "    } else {\n",
       "        alert('Your browser does not have WebSocket support. ' +\n",
       "              'Please try Chrome, Safari or Firefox ≥ 6. ' +\n",
       "              'Firefox 4 and 5 are also supported but you ' +\n",
       "              'have to enable WebSockets in about:config.');\n",
       "    };\n",
       "}\n",
       "\n",
       "mpl.figure = function(figure_id, websocket, ondownload, parent_element) {\n",
       "    this.id = figure_id;\n",
       "\n",
       "    this.ws = websocket;\n",
       "\n",
       "    this.supports_binary = (this.ws.binaryType != undefined);\n",
       "\n",
       "    if (!this.supports_binary) {\n",
       "        var warnings = document.getElementById(\"mpl-warnings\");\n",
       "        if (warnings) {\n",
       "            warnings.style.display = 'block';\n",
       "            warnings.textContent = (\n",
       "                \"This browser does not support binary websocket messages. \" +\n",
       "                    \"Performance may be slow.\");\n",
       "        }\n",
       "    }\n",
       "\n",
       "    this.imageObj = new Image();\n",
       "\n",
       "    this.context = undefined;\n",
       "    this.message = undefined;\n",
       "    this.canvas = undefined;\n",
       "    this.rubberband_canvas = undefined;\n",
       "    this.rubberband_context = undefined;\n",
       "    this.format_dropdown = undefined;\n",
       "\n",
       "    this.image_mode = 'full';\n",
       "\n",
       "    this.root = $('<div/>');\n",
       "    this._root_extra_style(this.root)\n",
       "    this.root.attr('style', 'display: inline-block');\n",
       "\n",
       "    $(parent_element).append(this.root);\n",
       "\n",
       "    this._init_header(this);\n",
       "    this._init_canvas(this);\n",
       "    this._init_toolbar(this);\n",
       "\n",
       "    var fig = this;\n",
       "\n",
       "    this.waiting = false;\n",
       "\n",
       "    this.ws.onopen =  function () {\n",
       "            fig.send_message(\"supports_binary\", {value: fig.supports_binary});\n",
       "            fig.send_message(\"send_image_mode\", {});\n",
       "            if (mpl.ratio != 1) {\n",
       "                fig.send_message(\"set_dpi_ratio\", {'dpi_ratio': mpl.ratio});\n",
       "            }\n",
       "            fig.send_message(\"refresh\", {});\n",
       "        }\n",
       "\n",
       "    this.imageObj.onload = function() {\n",
       "            if (fig.image_mode == 'full') {\n",
       "                // Full images could contain transparency (where diff images\n",
       "                // almost always do), so we need to clear the canvas so that\n",
       "                // there is no ghosting.\n",
       "                fig.context.clearRect(0, 0, fig.canvas.width, fig.canvas.height);\n",
       "            }\n",
       "            fig.context.drawImage(fig.imageObj, 0, 0);\n",
       "        };\n",
       "\n",
       "    this.imageObj.onunload = function() {\n",
       "        fig.ws.close();\n",
       "    }\n",
       "\n",
       "    this.ws.onmessage = this._make_on_message_function(this);\n",
       "\n",
       "    this.ondownload = ondownload;\n",
       "}\n",
       "\n",
       "mpl.figure.prototype._init_header = function() {\n",
       "    var titlebar = $(\n",
       "        '<div class=\"ui-dialog-titlebar ui-widget-header ui-corner-all ' +\n",
       "        'ui-helper-clearfix\"/>');\n",
       "    var titletext = $(\n",
       "        '<div class=\"ui-dialog-title\" style=\"width: 100%; ' +\n",
       "        'text-align: center; padding: 3px;\"/>');\n",
       "    titlebar.append(titletext)\n",
       "    this.root.append(titlebar);\n",
       "    this.header = titletext[0];\n",
       "}\n",
       "\n",
       "\n",
       "\n",
       "mpl.figure.prototype._canvas_extra_style = function(canvas_div) {\n",
       "\n",
       "}\n",
       "\n",
       "\n",
       "mpl.figure.prototype._root_extra_style = function(canvas_div) {\n",
       "\n",
       "}\n",
       "\n",
       "mpl.figure.prototype._init_canvas = function() {\n",
       "    var fig = this;\n",
       "\n",
       "    var canvas_div = $('<div/>');\n",
       "\n",
       "    canvas_div.attr('style', 'position: relative; clear: both; outline: 0');\n",
       "\n",
       "    function canvas_keyboard_event(event) {\n",
       "        return fig.key_event(event, event['data']);\n",
       "    }\n",
       "\n",
       "    canvas_div.keydown('key_press', canvas_keyboard_event);\n",
       "    canvas_div.keyup('key_release', canvas_keyboard_event);\n",
       "    this.canvas_div = canvas_div\n",
       "    this._canvas_extra_style(canvas_div)\n",
       "    this.root.append(canvas_div);\n",
       "\n",
       "    var canvas = $('<canvas/>');\n",
       "    canvas.addClass('mpl-canvas');\n",
       "    canvas.attr('style', \"left: 0; top: 0; z-index: 0; outline: 0\")\n",
       "\n",
       "    this.canvas = canvas[0];\n",
       "    this.context = canvas[0].getContext(\"2d\");\n",
       "\n",
       "    var backingStore = this.context.backingStorePixelRatio ||\n",
       "\tthis.context.webkitBackingStorePixelRatio ||\n",
       "\tthis.context.mozBackingStorePixelRatio ||\n",
       "\tthis.context.msBackingStorePixelRatio ||\n",
       "\tthis.context.oBackingStorePixelRatio ||\n",
       "\tthis.context.backingStorePixelRatio || 1;\n",
       "\n",
       "    mpl.ratio = (window.devicePixelRatio || 1) / backingStore;\n",
       "\n",
       "    var rubberband = $('<canvas/>');\n",
       "    rubberband.attr('style', \"position: absolute; left: 0; top: 0; z-index: 1;\")\n",
       "\n",
       "    var pass_mouse_events = true;\n",
       "\n",
       "    canvas_div.resizable({\n",
       "        start: function(event, ui) {\n",
       "            pass_mouse_events = false;\n",
       "        },\n",
       "        resize: function(event, ui) {\n",
       "            fig.request_resize(ui.size.width, ui.size.height);\n",
       "        },\n",
       "        stop: function(event, ui) {\n",
       "            pass_mouse_events = true;\n",
       "            fig.request_resize(ui.size.width, ui.size.height);\n",
       "        },\n",
       "    });\n",
       "\n",
       "    function mouse_event_fn(event) {\n",
       "        if (pass_mouse_events)\n",
       "            return fig.mouse_event(event, event['data']);\n",
       "    }\n",
       "\n",
       "    rubberband.mousedown('button_press', mouse_event_fn);\n",
       "    rubberband.mouseup('button_release', mouse_event_fn);\n",
       "    // Throttle sequential mouse events to 1 every 20ms.\n",
       "    rubberband.mousemove('motion_notify', mouse_event_fn);\n",
       "\n",
       "    rubberband.mouseenter('figure_enter', mouse_event_fn);\n",
       "    rubberband.mouseleave('figure_leave', mouse_event_fn);\n",
       "\n",
       "    canvas_div.on(\"wheel\", function (event) {\n",
       "        event = event.originalEvent;\n",
       "        event['data'] = 'scroll'\n",
       "        if (event.deltaY < 0) {\n",
       "            event.step = 1;\n",
       "        } else {\n",
       "            event.step = -1;\n",
       "        }\n",
       "        mouse_event_fn(event);\n",
       "    });\n",
       "\n",
       "    canvas_div.append(canvas);\n",
       "    canvas_div.append(rubberband);\n",
       "\n",
       "    this.rubberband = rubberband;\n",
       "    this.rubberband_canvas = rubberband[0];\n",
       "    this.rubberband_context = rubberband[0].getContext(\"2d\");\n",
       "    this.rubberband_context.strokeStyle = \"#000000\";\n",
       "\n",
       "    this._resize_canvas = function(width, height) {\n",
       "        // Keep the size of the canvas, canvas container, and rubber band\n",
       "        // canvas in synch.\n",
       "        canvas_div.css('width', width)\n",
       "        canvas_div.css('height', height)\n",
       "\n",
       "        canvas.attr('width', width * mpl.ratio);\n",
       "        canvas.attr('height', height * mpl.ratio);\n",
       "        canvas.attr('style', 'width: ' + width + 'px; height: ' + height + 'px;');\n",
       "\n",
       "        rubberband.attr('width', width);\n",
       "        rubberband.attr('height', height);\n",
       "    }\n",
       "\n",
       "    // Set the figure to an initial 600x600px, this will subsequently be updated\n",
       "    // upon first draw.\n",
       "    this._resize_canvas(600, 600);\n",
       "\n",
       "    // Disable right mouse context menu.\n",
       "    $(this.rubberband_canvas).bind(\"contextmenu\",function(e){\n",
       "        return false;\n",
       "    });\n",
       "\n",
       "    function set_focus () {\n",
       "        canvas.focus();\n",
       "        canvas_div.focus();\n",
       "    }\n",
       "\n",
       "    window.setTimeout(set_focus, 100);\n",
       "}\n",
       "\n",
       "mpl.figure.prototype._init_toolbar = function() {\n",
       "    var fig = this;\n",
       "\n",
       "    var nav_element = $('<div/>');\n",
       "    nav_element.attr('style', 'width: 100%');\n",
       "    this.root.append(nav_element);\n",
       "\n",
       "    // Define a callback function for later on.\n",
       "    function toolbar_event(event) {\n",
       "        return fig.toolbar_button_onclick(event['data']);\n",
       "    }\n",
       "    function toolbar_mouse_event(event) {\n",
       "        return fig.toolbar_button_onmouseover(event['data']);\n",
       "    }\n",
       "\n",
       "    for(var toolbar_ind in mpl.toolbar_items) {\n",
       "        var name = mpl.toolbar_items[toolbar_ind][0];\n",
       "        var tooltip = mpl.toolbar_items[toolbar_ind][1];\n",
       "        var image = mpl.toolbar_items[toolbar_ind][2];\n",
       "        var method_name = mpl.toolbar_items[toolbar_ind][3];\n",
       "\n",
       "        if (!name) {\n",
       "            // put a spacer in here.\n",
       "            continue;\n",
       "        }\n",
       "        var button = $('<button/>');\n",
       "        button.addClass('ui-button ui-widget ui-state-default ui-corner-all ' +\n",
       "                        'ui-button-icon-only');\n",
       "        button.attr('role', 'button');\n",
       "        button.attr('aria-disabled', 'false');\n",
       "        button.click(method_name, toolbar_event);\n",
       "        button.mouseover(tooltip, toolbar_mouse_event);\n",
       "\n",
       "        var icon_img = $('<span/>');\n",
       "        icon_img.addClass('ui-button-icon-primary ui-icon');\n",
       "        icon_img.addClass(image);\n",
       "        icon_img.addClass('ui-corner-all');\n",
       "\n",
       "        var tooltip_span = $('<span/>');\n",
       "        tooltip_span.addClass('ui-button-text');\n",
       "        tooltip_span.html(tooltip);\n",
       "\n",
       "        button.append(icon_img);\n",
       "        button.append(tooltip_span);\n",
       "\n",
       "        nav_element.append(button);\n",
       "    }\n",
       "\n",
       "    var fmt_picker_span = $('<span/>');\n",
       "\n",
       "    var fmt_picker = $('<select/>');\n",
       "    fmt_picker.addClass('mpl-toolbar-option ui-widget ui-widget-content');\n",
       "    fmt_picker_span.append(fmt_picker);\n",
       "    nav_element.append(fmt_picker_span);\n",
       "    this.format_dropdown = fmt_picker[0];\n",
       "\n",
       "    for (var ind in mpl.extensions) {\n",
       "        var fmt = mpl.extensions[ind];\n",
       "        var option = $(\n",
       "            '<option/>', {selected: fmt === mpl.default_extension}).html(fmt);\n",
       "        fmt_picker.append(option);\n",
       "    }\n",
       "\n",
       "    // Add hover states to the ui-buttons\n",
       "    $( \".ui-button\" ).hover(\n",
       "        function() { $(this).addClass(\"ui-state-hover\");},\n",
       "        function() { $(this).removeClass(\"ui-state-hover\");}\n",
       "    );\n",
       "\n",
       "    var status_bar = $('<span class=\"mpl-message\"/>');\n",
       "    nav_element.append(status_bar);\n",
       "    this.message = status_bar[0];\n",
       "}\n",
       "\n",
       "mpl.figure.prototype.request_resize = function(x_pixels, y_pixels) {\n",
       "    // Request matplotlib to resize the figure. Matplotlib will then trigger a resize in the client,\n",
       "    // which will in turn request a refresh of the image.\n",
       "    this.send_message('resize', {'width': x_pixels, 'height': y_pixels});\n",
       "}\n",
       "\n",
       "mpl.figure.prototype.send_message = function(type, properties) {\n",
       "    properties['type'] = type;\n",
       "    properties['figure_id'] = this.id;\n",
       "    this.ws.send(JSON.stringify(properties));\n",
       "}\n",
       "\n",
       "mpl.figure.prototype.send_draw_message = function() {\n",
       "    if (!this.waiting) {\n",
       "        this.waiting = true;\n",
       "        this.ws.send(JSON.stringify({type: \"draw\", figure_id: this.id}));\n",
       "    }\n",
       "}\n",
       "\n",
       "\n",
       "mpl.figure.prototype.handle_save = function(fig, msg) {\n",
       "    var format_dropdown = fig.format_dropdown;\n",
       "    var format = format_dropdown.options[format_dropdown.selectedIndex].value;\n",
       "    fig.ondownload(fig, format);\n",
       "}\n",
       "\n",
       "\n",
       "mpl.figure.prototype.handle_resize = function(fig, msg) {\n",
       "    var size = msg['size'];\n",
       "    if (size[0] != fig.canvas.width || size[1] != fig.canvas.height) {\n",
       "        fig._resize_canvas(size[0], size[1]);\n",
       "        fig.send_message(\"refresh\", {});\n",
       "    };\n",
       "}\n",
       "\n",
       "mpl.figure.prototype.handle_rubberband = function(fig, msg) {\n",
       "    var x0 = msg['x0'] / mpl.ratio;\n",
       "    var y0 = (fig.canvas.height - msg['y0']) / mpl.ratio;\n",
       "    var x1 = msg['x1'] / mpl.ratio;\n",
       "    var y1 = (fig.canvas.height - msg['y1']) / mpl.ratio;\n",
       "    x0 = Math.floor(x0) + 0.5;\n",
       "    y0 = Math.floor(y0) + 0.5;\n",
       "    x1 = Math.floor(x1) + 0.5;\n",
       "    y1 = Math.floor(y1) + 0.5;\n",
       "    var min_x = Math.min(x0, x1);\n",
       "    var min_y = Math.min(y0, y1);\n",
       "    var width = Math.abs(x1 - x0);\n",
       "    var height = Math.abs(y1 - y0);\n",
       "\n",
       "    fig.rubberband_context.clearRect(\n",
       "        0, 0, fig.canvas.width / mpl.ratio, fig.canvas.height / mpl.ratio);\n",
       "\n",
       "    fig.rubberband_context.strokeRect(min_x, min_y, width, height);\n",
       "}\n",
       "\n",
       "mpl.figure.prototype.handle_figure_label = function(fig, msg) {\n",
       "    // Updates the figure title.\n",
       "    fig.header.textContent = msg['label'];\n",
       "}\n",
       "\n",
       "mpl.figure.prototype.handle_cursor = function(fig, msg) {\n",
       "    var cursor = msg['cursor'];\n",
       "    switch(cursor)\n",
       "    {\n",
       "    case 0:\n",
       "        cursor = 'pointer';\n",
       "        break;\n",
       "    case 1:\n",
       "        cursor = 'default';\n",
       "        break;\n",
       "    case 2:\n",
       "        cursor = 'crosshair';\n",
       "        break;\n",
       "    case 3:\n",
       "        cursor = 'move';\n",
       "        break;\n",
       "    }\n",
       "    fig.rubberband_canvas.style.cursor = cursor;\n",
       "}\n",
       "\n",
       "mpl.figure.prototype.handle_message = function(fig, msg) {\n",
       "    fig.message.textContent = msg['message'];\n",
       "}\n",
       "\n",
       "mpl.figure.prototype.handle_draw = function(fig, msg) {\n",
       "    // Request the server to send over a new figure.\n",
       "    fig.send_draw_message();\n",
       "}\n",
       "\n",
       "mpl.figure.prototype.handle_image_mode = function(fig, msg) {\n",
       "    fig.image_mode = msg['mode'];\n",
       "}\n",
       "\n",
       "mpl.figure.prototype.updated_canvas_event = function() {\n",
       "    // Called whenever the canvas gets updated.\n",
       "    this.send_message(\"ack\", {});\n",
       "}\n",
       "\n",
       "// A function to construct a web socket function for onmessage handling.\n",
       "// Called in the figure constructor.\n",
       "mpl.figure.prototype._make_on_message_function = function(fig) {\n",
       "    return function socket_on_message(evt) {\n",
       "        if (evt.data instanceof Blob) {\n",
       "            /* FIXME: We get \"Resource interpreted as Image but\n",
       "             * transferred with MIME type text/plain:\" errors on\n",
       "             * Chrome.  But how to set the MIME type?  It doesn't seem\n",
       "             * to be part of the websocket stream */\n",
       "            evt.data.type = \"image/png\";\n",
       "\n",
       "            /* Free the memory for the previous frames */\n",
       "            if (fig.imageObj.src) {\n",
       "                (window.URL || window.webkitURL).revokeObjectURL(\n",
       "                    fig.imageObj.src);\n",
       "            }\n",
       "\n",
       "            fig.imageObj.src = (window.URL || window.webkitURL).createObjectURL(\n",
       "                evt.data);\n",
       "            fig.updated_canvas_event();\n",
       "            fig.waiting = false;\n",
       "            return;\n",
       "        }\n",
       "        else if (typeof evt.data === 'string' && evt.data.slice(0, 21) == \"data:image/png;base64\") {\n",
       "            fig.imageObj.src = evt.data;\n",
       "            fig.updated_canvas_event();\n",
       "            fig.waiting = false;\n",
       "            return;\n",
       "        }\n",
       "\n",
       "        var msg = JSON.parse(evt.data);\n",
       "        var msg_type = msg['type'];\n",
       "\n",
       "        // Call the  \"handle_{type}\" callback, which takes\n",
       "        // the figure and JSON message as its only arguments.\n",
       "        try {\n",
       "            var callback = fig[\"handle_\" + msg_type];\n",
       "        } catch (e) {\n",
       "            console.log(\"No handler for the '\" + msg_type + \"' message type: \", msg);\n",
       "            return;\n",
       "        }\n",
       "\n",
       "        if (callback) {\n",
       "            try {\n",
       "                // console.log(\"Handling '\" + msg_type + \"' message: \", msg);\n",
       "                callback(fig, msg);\n",
       "            } catch (e) {\n",
       "                console.log(\"Exception inside the 'handler_\" + msg_type + \"' callback:\", e, e.stack, msg);\n",
       "            }\n",
       "        }\n",
       "    };\n",
       "}\n",
       "\n",
       "// from http://stackoverflow.com/questions/1114465/getting-mouse-location-in-canvas\n",
       "mpl.findpos = function(e) {\n",
       "    //this section is from http://www.quirksmode.org/js/events_properties.html\n",
       "    var targ;\n",
       "    if (!e)\n",
       "        e = window.event;\n",
       "    if (e.target)\n",
       "        targ = e.target;\n",
       "    else if (e.srcElement)\n",
       "        targ = e.srcElement;\n",
       "    if (targ.nodeType == 3) // defeat Safari bug\n",
       "        targ = targ.parentNode;\n",
       "\n",
       "    // jQuery normalizes the pageX and pageY\n",
       "    // pageX,Y are the mouse positions relative to the document\n",
       "    // offset() returns the position of the element relative to the document\n",
       "    var x = e.pageX - $(targ).offset().left;\n",
       "    var y = e.pageY - $(targ).offset().top;\n",
       "\n",
       "    return {\"x\": x, \"y\": y};\n",
       "};\n",
       "\n",
       "/*\n",
       " * return a copy of an object with only non-object keys\n",
       " * we need this to avoid circular references\n",
       " * http://stackoverflow.com/a/24161582/3208463\n",
       " */\n",
       "function simpleKeys (original) {\n",
       "  return Object.keys(original).reduce(function (obj, key) {\n",
       "    if (typeof original[key] !== 'object')\n",
       "        obj[key] = original[key]\n",
       "    return obj;\n",
       "  }, {});\n",
       "}\n",
       "\n",
       "mpl.figure.prototype.mouse_event = function(event, name) {\n",
       "    var canvas_pos = mpl.findpos(event)\n",
       "\n",
       "    if (name === 'button_press')\n",
       "    {\n",
       "        this.canvas.focus();\n",
       "        this.canvas_div.focus();\n",
       "    }\n",
       "\n",
       "    var x = canvas_pos.x * mpl.ratio;\n",
       "    var y = canvas_pos.y * mpl.ratio;\n",
       "\n",
       "    this.send_message(name, {x: x, y: y, button: event.button,\n",
       "                             step: event.step,\n",
       "                             guiEvent: simpleKeys(event)});\n",
       "\n",
       "    /* This prevents the web browser from automatically changing to\n",
       "     * the text insertion cursor when the button is pressed.  We want\n",
       "     * to control all of the cursor setting manually through the\n",
       "     * 'cursor' event from matplotlib */\n",
       "    event.preventDefault();\n",
       "    return false;\n",
       "}\n",
       "\n",
       "mpl.figure.prototype._key_event_extra = function(event, name) {\n",
       "    // Handle any extra behaviour associated with a key event\n",
       "}\n",
       "\n",
       "mpl.figure.prototype.key_event = function(event, name) {\n",
       "\n",
       "    // Prevent repeat events\n",
       "    if (name == 'key_press')\n",
       "    {\n",
       "        if (event.which === this._key)\n",
       "            return;\n",
       "        else\n",
       "            this._key = event.which;\n",
       "    }\n",
       "    if (name == 'key_release')\n",
       "        this._key = null;\n",
       "\n",
       "    var value = '';\n",
       "    if (event.ctrlKey && event.which != 17)\n",
       "        value += \"ctrl+\";\n",
       "    if (event.altKey && event.which != 18)\n",
       "        value += \"alt+\";\n",
       "    if (event.shiftKey && event.which != 16)\n",
       "        value += \"shift+\";\n",
       "\n",
       "    value += 'k';\n",
       "    value += event.which.toString();\n",
       "\n",
       "    this._key_event_extra(event, name);\n",
       "\n",
       "    this.send_message(name, {key: value,\n",
       "                             guiEvent: simpleKeys(event)});\n",
       "    return false;\n",
       "}\n",
       "\n",
       "mpl.figure.prototype.toolbar_button_onclick = function(name) {\n",
       "    if (name == 'download') {\n",
       "        this.handle_save(this, null);\n",
       "    } else {\n",
       "        this.send_message(\"toolbar_button\", {name: name});\n",
       "    }\n",
       "};\n",
       "\n",
       "mpl.figure.prototype.toolbar_button_onmouseover = function(tooltip) {\n",
       "    this.message.textContent = tooltip;\n",
       "};\n",
       "mpl.toolbar_items = [[\"Home\", \"Reset original view\", \"fa fa-home icon-home\", \"home\"], [\"Back\", \"Back to previous view\", \"fa fa-arrow-left icon-arrow-left\", \"back\"], [\"Forward\", \"Forward to next view\", \"fa fa-arrow-right icon-arrow-right\", \"forward\"], [\"\", \"\", \"\", \"\"], [\"Pan\", \"Pan axes with left mouse, zoom with right\", \"fa fa-arrows icon-move\", \"pan\"], [\"Zoom\", \"Zoom to rectangle\", \"fa fa-square-o icon-check-empty\", \"zoom\"], [\"\", \"\", \"\", \"\"], [\"Download\", \"Download plot\", \"fa fa-floppy-o icon-save\", \"download\"]];\n",
       "\n",
       "mpl.extensions = [\"eps\", \"jpeg\", \"pdf\", \"png\", \"ps\", \"raw\", \"svg\", \"tif\"];\n",
       "\n",
       "mpl.default_extension = \"png\";var comm_websocket_adapter = function(comm) {\n",
       "    // Create a \"websocket\"-like object which calls the given IPython comm\n",
       "    // object with the appropriate methods. Currently this is a non binary\n",
       "    // socket, so there is still some room for performance tuning.\n",
       "    var ws = {};\n",
       "\n",
       "    ws.close = function() {\n",
       "        comm.close()\n",
       "    };\n",
       "    ws.send = function(m) {\n",
       "        //console.log('sending', m);\n",
       "        comm.send(m);\n",
       "    };\n",
       "    // Register the callback with on_msg.\n",
       "    comm.on_msg(function(msg) {\n",
       "        //console.log('receiving', msg['content']['data'], msg);\n",
       "        // Pass the mpl event to the overridden (by mpl) onmessage function.\n",
       "        ws.onmessage(msg['content']['data'])\n",
       "    });\n",
       "    return ws;\n",
       "}\n",
       "\n",
       "mpl.mpl_figure_comm = function(comm, msg) {\n",
       "    // This is the function which gets called when the mpl process\n",
       "    // starts-up an IPython Comm through the \"matplotlib\" channel.\n",
       "\n",
       "    var id = msg.content.data.id;\n",
       "    // Get hold of the div created by the display call when the Comm\n",
       "    // socket was opened in Python.\n",
       "    var element = $(\"#\" + id);\n",
       "    var ws_proxy = comm_websocket_adapter(comm)\n",
       "\n",
       "    function ondownload(figure, format) {\n",
       "        window.open(figure.imageObj.src);\n",
       "    }\n",
       "\n",
       "    var fig = new mpl.figure(id, ws_proxy,\n",
       "                           ondownload,\n",
       "                           element.get(0));\n",
       "\n",
       "    // Call onopen now - mpl needs it, as it is assuming we've passed it a real\n",
       "    // web socket which is closed, not our websocket->open comm proxy.\n",
       "    ws_proxy.onopen();\n",
       "\n",
       "    fig.parent_element = element.get(0);\n",
       "    fig.cell_info = mpl.find_output_cell(\"<div id='\" + id + \"'></div>\");\n",
       "    if (!fig.cell_info) {\n",
       "        console.error(\"Failed to find cell for figure\", id, fig);\n",
       "        return;\n",
       "    }\n",
       "\n",
       "    var output_index = fig.cell_info[2]\n",
       "    var cell = fig.cell_info[0];\n",
       "\n",
       "};\n",
       "\n",
       "mpl.figure.prototype.handle_close = function(fig, msg) {\n",
       "    var width = fig.canvas.width/mpl.ratio\n",
       "    fig.root.unbind('remove')\n",
       "\n",
       "    // Update the output cell to use the data from the current canvas.\n",
       "    fig.push_to_output();\n",
       "    var dataURL = fig.canvas.toDataURL();\n",
       "    // Re-enable the keyboard manager in IPython - without this line, in FF,\n",
       "    // the notebook keyboard shortcuts fail.\n",
       "    IPython.keyboard_manager.enable()\n",
       "    $(fig.parent_element).html('<img src=\"' + dataURL + '\" width=\"' + width + '\">');\n",
       "    fig.close_ws(fig, msg);\n",
       "}\n",
       "\n",
       "mpl.figure.prototype.close_ws = function(fig, msg){\n",
       "    fig.send_message('closing', msg);\n",
       "    // fig.ws.close()\n",
       "}\n",
       "\n",
       "mpl.figure.prototype.push_to_output = function(remove_interactive) {\n",
       "    // Turn the data on the canvas into data in the output cell.\n",
       "    var width = this.canvas.width/mpl.ratio\n",
       "    var dataURL = this.canvas.toDataURL();\n",
       "    this.cell_info[1]['text/html'] = '<img src=\"' + dataURL + '\" width=\"' + width + '\">';\n",
       "}\n",
       "\n",
       "mpl.figure.prototype.updated_canvas_event = function() {\n",
       "    // Tell IPython that the notebook contents must change.\n",
       "    IPython.notebook.set_dirty(true);\n",
       "    this.send_message(\"ack\", {});\n",
       "    var fig = this;\n",
       "    // Wait a second, then push the new image to the DOM so\n",
       "    // that it is saved nicely (might be nice to debounce this).\n",
       "    setTimeout(function () { fig.push_to_output() }, 1000);\n",
       "}\n",
       "\n",
       "mpl.figure.prototype._init_toolbar = function() {\n",
       "    var fig = this;\n",
       "\n",
       "    var nav_element = $('<div/>');\n",
       "    nav_element.attr('style', 'width: 100%');\n",
       "    this.root.append(nav_element);\n",
       "\n",
       "    // Define a callback function for later on.\n",
       "    function toolbar_event(event) {\n",
       "        return fig.toolbar_button_onclick(event['data']);\n",
       "    }\n",
       "    function toolbar_mouse_event(event) {\n",
       "        return fig.toolbar_button_onmouseover(event['data']);\n",
       "    }\n",
       "\n",
       "    for(var toolbar_ind in mpl.toolbar_items){\n",
       "        var name = mpl.toolbar_items[toolbar_ind][0];\n",
       "        var tooltip = mpl.toolbar_items[toolbar_ind][1];\n",
       "        var image = mpl.toolbar_items[toolbar_ind][2];\n",
       "        var method_name = mpl.toolbar_items[toolbar_ind][3];\n",
       "\n",
       "        if (!name) { continue; };\n",
       "\n",
       "        var button = $('<button class=\"btn btn-default\" href=\"#\" title=\"' + name + '\"><i class=\"fa ' + image + ' fa-lg\"></i></button>');\n",
       "        button.click(method_name, toolbar_event);\n",
       "        button.mouseover(tooltip, toolbar_mouse_event);\n",
       "        nav_element.append(button);\n",
       "    }\n",
       "\n",
       "    // Add the status bar.\n",
       "    var status_bar = $('<span class=\"mpl-message\" style=\"text-align:right; float: right;\"/>');\n",
       "    nav_element.append(status_bar);\n",
       "    this.message = status_bar[0];\n",
       "\n",
       "    // Add the close button to the window.\n",
       "    var buttongrp = $('<div class=\"btn-group inline pull-right\"></div>');\n",
       "    var button = $('<button class=\"btn btn-mini btn-primary\" href=\"#\" title=\"Stop Interaction\"><i class=\"fa fa-power-off icon-remove icon-large\"></i></button>');\n",
       "    button.click(function (evt) { fig.handle_close(fig, {}); } );\n",
       "    button.mouseover('Stop Interaction', toolbar_mouse_event);\n",
       "    buttongrp.append(button);\n",
       "    var titlebar = this.root.find($('.ui-dialog-titlebar'));\n",
       "    titlebar.prepend(buttongrp);\n",
       "}\n",
       "\n",
       "mpl.figure.prototype._root_extra_style = function(el){\n",
       "    var fig = this\n",
       "    el.on(\"remove\", function(){\n",
       "\tfig.close_ws(fig, {});\n",
       "    });\n",
       "}\n",
       "\n",
       "mpl.figure.prototype._canvas_extra_style = function(el){\n",
       "    // this is important to make the div 'focusable\n",
       "    el.attr('tabindex', 0)\n",
       "    // reach out to IPython and tell the keyboard manager to turn it's self\n",
       "    // off when our div gets focus\n",
       "\n",
       "    // location in version 3\n",
       "    if (IPython.notebook.keyboard_manager) {\n",
       "        IPython.notebook.keyboard_manager.register_events(el);\n",
       "    }\n",
       "    else {\n",
       "        // location in version 2\n",
       "        IPython.keyboard_manager.register_events(el);\n",
       "    }\n",
       "\n",
       "}\n",
       "\n",
       "mpl.figure.prototype._key_event_extra = function(event, name) {\n",
       "    var manager = IPython.notebook.keyboard_manager;\n",
       "    if (!manager)\n",
       "        manager = IPython.keyboard_manager;\n",
       "\n",
       "    // Check for shift+enter\n",
       "    if (event.shiftKey && event.which == 13) {\n",
       "        this.canvas_div.blur();\n",
       "        event.shiftKey = false;\n",
       "        // Send a \"J\" for go to next cell\n",
       "        event.which = 74;\n",
       "        event.keyCode = 74;\n",
       "        manager.command_mode();\n",
       "        manager.handle_keydown(event);\n",
       "    }\n",
       "}\n",
       "\n",
       "mpl.figure.prototype.handle_save = function(fig, msg) {\n",
       "    fig.ondownload(fig, null);\n",
       "}\n",
       "\n",
       "\n",
       "mpl.find_output_cell = function(html_output) {\n",
       "    // Return the cell and output element which can be found *uniquely* in the notebook.\n",
       "    // Note - this is a bit hacky, but it is done because the \"notebook_saving.Notebook\"\n",
       "    // IPython event is triggered only after the cells have been serialised, which for\n",
       "    // our purposes (turning an active figure into a static one), is too late.\n",
       "    var cells = IPython.notebook.get_cells();\n",
       "    var ncells = cells.length;\n",
       "    for (var i=0; i<ncells; i++) {\n",
       "        var cell = cells[i];\n",
       "        if (cell.cell_type === 'code'){\n",
       "            for (var j=0; j<cell.output_area.outputs.length; j++) {\n",
       "                var data = cell.output_area.outputs[j];\n",
       "                if (data.data) {\n",
       "                    // IPython >= 3 moved mimebundle to data attribute of output\n",
       "                    data = data.data;\n",
       "                }\n",
       "                if (data['text/html'] == html_output) {\n",
       "                    return [cell, data, j];\n",
       "                }\n",
       "            }\n",
       "        }\n",
       "    }\n",
       "}\n",
       "\n",
       "// Register the function which deals with the matplotlib target/channel.\n",
       "// The kernel may be null if the page has been refreshed.\n",
       "if (IPython.notebook.kernel != null) {\n",
       "    IPython.notebook.kernel.comm_manager.register_target('matplotlib', mpl.mpl_figure_comm);\n",
       "}\n"
      ],
      "text/plain": [
       "<IPython.core.display.Javascript object>"
      ]
     },
     "metadata": {},
     "output_type": "display_data"
    },
    {
     "data": {
      "text/html": [
       "<img src=\"data:image/png;base64,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\" width=\"639.9999861283738\">"
      ],
      "text/plain": [
       "<IPython.core.display.HTML object>"
      ]
     },
     "metadata": {},
     "output_type": "display_data"
    }
   ],
   "source": [
    "ref1 = ref1 / ref1.max()\n",
    "ref2 = ref2 / ref2.max()\n",
    "diff = ref1 - ref2\n",
    "plt.imshow(diff)\n",
    "plt.show()"
   ]
  },
  {
   "cell_type": "code",
   "execution_count": null,
   "metadata": {},
   "outputs": [],
   "source": []
  }
 ],
 "metadata": {
  "kernelspec": {
   "display_name": "Python 3",
   "language": "python",
   "name": "python3"
  },
  "language_info": {
   "codemirror_mode": {
    "name": "ipython",
    "version": 3
   },
   "file_extension": ".py",
   "mimetype": "text/x-python",
   "name": "python",
   "nbconvert_exporter": "python",
   "pygments_lexer": "ipython3",
   "version": "3.7.6"
  }
 },
 "nbformat": 4,
 "nbformat_minor": 4
}
