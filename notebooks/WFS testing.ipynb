{
 "cells": [
  {
   "cell_type": "code",
   "execution_count": 1,
   "metadata": {},
   "outputs": [],
   "source": [
    "import time\n",
    "import os\n",
    "import sys\n",
    "import numpy as np\n",
    "#import ipympl\n",
    "import matplotlib\n",
    "#matplotlib.use('nbagg')\n",
    "#from matplotlib import style\n",
    "#style.use('ggplot')\n",
    "import matplotlib.pyplot as plt\n",
    "\n",
    "import astropy.units as u\n",
    "from astropy import stats\n",
    "from astropy.io import fits\n",
    "from mmtwfs.wfs import *\n",
    "from mmtwfs.zernike import ZernikeVector\n",
    "from mmtwfs.telescope import MMT"
   ]
  },
  {
   "cell_type": "code",
   "execution_count": 2,
   "metadata": {},
   "outputs": [],
   "source": [
    "%load_ext autoreload\n",
    "%autoreload 2\n",
    "%matplotlib widget"
   ]
  },
  {
   "cell_type": "code",
   "execution_count": 3,
   "metadata": {},
   "outputs": [],
   "source": [
    "def wfsrun(wfs, mode, file):\n",
    "    r = wfs.measure_slopes(file, mode=mode, plot=True)\n",
    "    return r"
   ]
  },
  {
   "cell_type": "markdown",
   "metadata": {},
   "source": [
    "# Binospec Dev Section"
   ]
  },
  {
   "cell_type": "code",
   "execution_count": 4,
   "metadata": {},
   "outputs": [
    {
     "data": {
      "application/vnd.jupyter.widget-view+json": {
       "model_id": "15247d37e82c4be98ba798eba03cdc44",
       "version_major": 2,
       "version_minor": 0
      },
      "text/plain": [
       "Canvas(toolbar=Toolbar(toolitems=[('Home', 'Reset original view', 'home', 'home'), ('Back', 'Back to previous …"
      ]
     },
     "metadata": {},
     "output_type": "display_data"
    }
   ],
   "source": [
    "bino = WFSFactory(wfs=\"binospec\")"
   ]
  },
  {
   "cell_type": "code",
   "execution_count": 5,
   "metadata": {},
   "outputs": [
    {
     "data": {
      "application/vnd.jupyter.widget-view+json": {
       "model_id": "fac05a891dee4594981f7bbd97fa4dc3",
       "version_major": 2,
       "version_minor": 0
      },
      "text/plain": [
       "Canvas(toolbar=Toolbar(toolitems=[('Home', 'Reset original view', 'home', 'home'), ('Back', 'Back to previous …"
      ]
     },
     "metadata": {},
     "output_type": "display_data"
    },
    {
     "name": "stderr",
     "output_type": "stream",
     "text": [
      "Header information not available for Binospec pupil mask. Assuming default position.\n"
     ]
    }
   ],
   "source": [
    "fig, ax = plt.subplots()\n",
    "ax.imshow(bino.pupil_mask(hdr=None))\n",
    "fig.show()"
   ]
  },
  {
   "cell_type": "code",
   "execution_count": 6,
   "metadata": {},
   "outputs": [
    {
     "data": {
      "application/vnd.jupyter.widget-view+json": {
       "model_id": "712ec573aa9f490bb1ddf739c5367977",
       "version_major": 2,
       "version_minor": 0
      },
      "text/plain": [
       "Canvas(toolbar=Toolbar(toolitems=[('Home', 'Reset original view', 'home', 'home'), ('Back', 'Back to previous …"
      ]
     },
     "metadata": {},
     "output_type": "display_data"
    },
    {
     "data": {
      "application/vnd.jupyter.widget-view+json": {
       "model_id": "6b487b2989a14b2dbff3f9bc0f9d6a8c",
       "version_major": 2,
       "version_minor": 0
      },
      "text/plain": [
       "Canvas(toolbar=Toolbar(toolitems=[('Home', 'Reset original view', 'home', 'home'), ('Back', 'Back to previous …"
      ]
     },
     "metadata": {},
     "output_type": "display_data"
    },
    {
     "data": {
      "application/vnd.jupyter.widget-view+json": {
       "model_id": "7d1d7a445485479190d6ac8b95cc1ecb",
       "version_major": 2,
       "version_minor": 0
      },
      "text/plain": [
       "Canvas(toolbar=Toolbar(toolitems=[('Home', 'Reset original view', 'home', 'home'), ('Back', 'Back to previous …"
      ]
     },
     "metadata": {},
     "output_type": "display_data"
    }
   ],
   "source": [
    "#%%prun\n",
    "bino_file = \"/Volumes/LaCie 8TB/wfsdat/20180208/wfs_ff_cal_img_2018.0208.074052.fits\"\n",
    "bino_file = \"/home/tim/MMT/mmtwfs/mmtwfs/data/test_data/wfs_ff_cal_img_2017.1113.111402.fits\"\n",
    "#bino_file = \"/Volumes/LaCie 8TB/wfsdat/20180209/wfs_ff_cal_img_2018.0209.114054.fits\"\n",
    "#bino_file = \"/Volumes/LaCie 8TB/wfsdat/20180210/wfs_ff_cal_img_2018.0210.095719.fits\"\n",
    "#bino_file = \"/Volumes/LaCie 8TB/wfsdat/20180210/wfs_ff_cal_img_2018.0210.102615.fits\"\n",
    "#bino_file = \"/Volumes/LaCie 8TB/wfsdat/20180604/wfs_ff_cal_img_2018.0604.052401.fits\"\n",
    "#bino_file = \"/Volumes/LaCie 8TB/wfsdat/20191119/wfs_ff_cal_img_2019.1119.031015.fits\"\n",
    "#bino_file = \"/Volumes/LaCie 8TB/wfsdat/20200316/wfs_ff_cal_img_2020.0316.045519.fits\"\n",
    "#bino_file = \"/Volumes/LaCie 8TB/wfsdat/20200316/wfs_ff_cal_img_2020.0316.121544.fits\"\n",
    "#bino_file = \"/Volumes/LaCie 8TB/wfsdat/20200127/wfs_ff_cal_img_2020.0127.041552.fits\"\n",
    "#bino_file = \"/Users/tim/MMT/mmtwfs/mmtwfs/data/ref_images/bino_mask.fits\"\n",
    "bino_file = \"/mnt/f/wfsdat/20220125/wfs_ff_cal_img_2022.0125.054438.fits\"\n",
    "results = bino.measure_slopes(bino_file, mode=\"binospec\", plot=True)\n",
    "results['figures']['slopes'].show()"
   ]
  },
  {
   "cell_type": "code",
   "execution_count": 8,
   "metadata": {},
   "outputs": [],
   "source": [
    "mask = mk_wfs_mask(results['data'][106:406,100:400], outfile=\"/Users/tim/MMT/mmtwfs/mmtwfs/data/ref_images/bino_mask.fits\")"
   ]
  },
  {
   "cell_type": "code",
   "execution_count": 7,
   "metadata": {},
   "outputs": [
    {
     "data": {
      "application/vnd.jupyter.widget-view+json": {
       "model_id": "0947440800de45868cf4881545d8f2f3",
       "version_major": 2,
       "version_minor": 0
      },
      "text/plain": [
       "Canvas(toolbar=Toolbar(toolitems=[('Home', 'Reset original view', 'home', 'home'), ('Back', 'Back to previous …"
      ]
     },
     "metadata": {},
     "output_type": "display_data"
    },
    {
     "data": {
      "text/plain": [
       "{'xcen': 268.08644143440875,\n",
       " 'ycen': 259.22179795211866,\n",
       " 'scale': 0.958507076670938,\n",
       " 'xcoma': 3.723314666258065e-06,\n",
       " 'ycoma': -1.8648469324104172e-05}"
      ]
     },
     "execution_count": 7,
     "metadata": {},
     "output_type": "execute_result"
    }
   ],
   "source": [
    "refaps = bino.modes['binospec']['reference'].masked_apertures\n",
    "fig, ax = plt.subplots()\n",
    "fit = results['grid_fit']\n",
    "refx = refaps['xcentroid'] * (fit['scale'] + refaps['xcentroid'] * fit['xcoma']) + fit['xcen']\n",
    "refy = refaps['ycentroid'] * (fit['scale'] + refaps['ycentroid'] * fit['ycoma']) + fit['ycen']\n",
    "x, y = results['apertures'].positions.transpose()[0], results['apertures'].positions.transpose()[1]\n",
    "spacing = 0.5*(results['xspacing'] + results['yspacing'])\n",
    "ax.scatter(refx, refy)\n",
    "ax.set_aspect('equal')\n",
    "ax.scatter(x, y)\n",
    "ax.set_xlim(0, 512)\n",
    "ax.set_ylim(0, 512)\n",
    "fig.show()\n",
    "\n",
    "results['grid_fit']"
   ]
  },
  {
   "cell_type": "code",
   "execution_count": 18,
   "metadata": {},
   "outputs": [
    {
     "data": {
      "application/vnd.jupyter.widget-view+json": {
       "model_id": "1e23bd9fea5c4dc4a426108cefe7fbfe",
       "version_major": 2,
       "version_minor": 0
      },
      "text/plain": [
       "Canvas(toolbar=Toolbar(toolitems=[('Home', 'Reset original view', 'home', 'home'), ('Back', 'Back to previous …"
      ]
     },
     "metadata": {},
     "output_type": "display_data"
    },
    {
     "data": {
      "text/plain": [
       "149.17766808867196"
      ]
     },
     "execution_count": 18,
     "metadata": {},
     "output_type": "execute_result"
    }
   ],
   "source": [
    "fig, ax = plt.subplots()\n",
    "ax.scatter(refaps['xcentroid'], refaps['ycentroid'])\n",
    "ax.set_aspect('equal')\n",
    "fig.show()\n",
    "refaps['xcentroid'].max()"
   ]
  },
  {
   "cell_type": "code",
   "execution_count": 22,
   "metadata": {},
   "outputs": [
    {
     "data": {
      "text/latex": [
       "$0.59495037 \\; \\mathrm{{}^{\\circ}}$"
      ],
      "text/plain": [
       "<Quantity 0.59495037 deg>"
      ]
     },
     "execution_count": 22,
     "metadata": {},
     "output_type": "execute_result"
    }
   ],
   "source": [
    "# get rotation of reference LED image\n",
    "x1, y1 = 4.5, 491.5\n",
    "x2, y2 = 9.5, 10\n",
    "(np.arctan2(5, 481.5) * u.radian).to(u.deg)"
   ]
  },
  {
   "cell_type": "code",
   "execution_count": 8,
   "metadata": {},
   "outputs": [
    {
     "data": {
      "application/vnd.jupyter.widget-view+json": {
       "model_id": "c6fd605e9a474520becbff293e0de12f",
       "version_major": 2,
       "version_minor": 0
      },
      "text/plain": [
       "Canvas(toolbar=Toolbar(toolitems=[('Home', 'Reset original view', 'home', 'home'), ('Back', 'Back to previous …"
      ]
     },
     "metadata": {},
     "output_type": "display_data"
    },
    {
     "name": "stdout",
     "output_type": "stream",
     "text": [
      "1198.0630805536023 nm\n",
      "Fringe Coefficients\n",
      " Z02:        -393.4 ±   223 nm \t X Tilt (1, 1)\n",
      " Z03:         80.81 ±   210 nm \t Y Tilt (1, -1)\n",
      " Z04:         148.3 ±  67.2 nm \t Defocus (2, 0)\n",
      " Z05:        -61.08 ±   156 nm \t Primary Astig at 45° (2, -2)\n",
      " Z06:        -219.8 ±   128 nm \t Primary Astig at 0° (2, 2)\n",
      " Z07:        -60.04 ±  89.5 nm \t Primary Y Coma (3, -1)\n",
      " Z08:        -190.8 ±  93.8 nm \t Primary X Coma (3, 1)\n",
      " Z09:        -144.7 ±   116 nm \t Y Trefoil (3, -3)\n",
      " Z10:         46.88 ±   129 nm \t X Trefoil (3, 3)\n",
      " Z11:        -248.3 ±    55 nm \t Primary Spherical (4, 0)\n",
      " Z12:        -31.35 ±  66.6 nm \t Secondary Astigmatism at 0° (4, 2)\n",
      " Z13:        -17.05 ±  71.5 nm \t Secondary Astigmatism at 45° (4, -2)\n",
      " Z14:        -29.22 ±   103 nm \t X Tetrafoil (4, 4)\n",
      " Z15:        -91.25 ±  94.4 nm \t Y Tetrafoil (4, -4)\n",
      " Z16:          43.5 ±    70 nm \t Secondary X Coma (5, 1)\n",
      " Z17:         237.1 ±    68 nm \t Secondary Y Coma (5, -1)\n",
      " Z18:        -57.27 ±  71.2 nm \t Secondary X Trefoil (5, 3)\n",
      " Z19:         137.3 ±  64.9 nm \t Secondary Y Trefoil (5, -3)\n",
      " Z20:        -9.132 ±  95.5 nm \t X Pentafoil (5, 5)\n",
      " Z21:         72.12 ±  94.3 nm \t Y Pentafoil (5, -5)\n",
      " Z22:         420.1 ±  47.9 nm \t Secondary Spherical (6, 0)\n",
      "\n",
      "Total RMS: \t 263.8 nm\n",
      "\n"
     ]
    }
   ],
   "source": [
    "#%%prun\n",
    "zresults = bino.fit_wavefront(results, plot=True)\n",
    "zvec = zresults['zernike']\n",
    "print(zresults['residual_rms'])\n",
    "#zvec.normalize()\n",
    "print(zvec.pretty_print())\n",
    "#print(zvec)\n",
    "zresults['resid_plot'].show()"
   ]
  },
  {
   "cell_type": "code",
   "execution_count": 9,
   "metadata": {},
   "outputs": [
    {
     "data": {
      "application/vnd.jupyter.widget-view+json": {
       "model_id": "16ddfd52c01947e9bb3f6ccc14173178",
       "version_major": 2,
       "version_minor": 0
      },
      "text/plain": [
       "Canvas(toolbar=Toolbar(toolitems=[('Home', 'Reset original view', 'home', 'home'), ('Back', 'Back to previous …"
      ]
     },
     "metadata": {},
     "output_type": "display_data"
    }
   ],
   "source": [
    "zvec.fringe_bar_chart().show()"
   ]
  },
  {
   "cell_type": "code",
   "execution_count": 10,
   "metadata": {},
   "outputs": [
    {
     "data": {
      "application/vnd.jupyter.widget-view+json": {
       "model_id": "6b05ea4fc8cb478ebb338041f2c5bcec",
       "version_major": 2,
       "version_minor": 0
      },
      "text/plain": [
       "Canvas(toolbar=Toolbar(toolitems=[('Home', 'Reset original view', 'home', 'home'), ('Back', 'Back to previous …"
      ]
     },
     "metadata": {},
     "output_type": "display_data"
    }
   ],
   "source": [
    "zvec.bar_chart(last_mode=22).show()"
   ]
  },
  {
   "cell_type": "code",
   "execution_count": null,
   "metadata": {},
   "outputs": [],
   "source": [
    "zvec.plot_map().show()"
   ]
  },
  {
   "cell_type": "code",
   "execution_count": null,
   "metadata": {},
   "outputs": [],
   "source": [
    "zv = ZernikeVector(Z38=100)\n",
    "ft, m1c, zv_masked = bino.telescope.calculate_primary_corrections(zvec, mask=['Z22'])\n",
    "bino.telescope.to_rcell(ft, filename=\"null_forces\")"
   ]
  },
  {
   "cell_type": "code",
   "execution_count": null,
   "metadata": {},
   "outputs": [],
   "source": [
    "forces, m1focus, zv_masked = bino.calculate_primary(zvec, threshold=0.25*zresults['residual_rms'])"
   ]
  },
  {
   "cell_type": "code",
   "execution_count": null,
   "metadata": {},
   "outputs": [],
   "source": [
    "bino.modes['binospec']['reference']"
   ]
  },
  {
   "cell_type": "code",
   "execution_count": null,
   "metadata": {},
   "outputs": [],
   "source": [
    "bino.modes['binospec']['reference']['xspacing'], bino.modes['binospec']['reference']['yspacing']"
   ]
  },
  {
   "cell_type": "code",
   "execution_count": null,
   "metadata": {},
   "outputs": [],
   "source": [
    "bino.modes['binospec']['reference']['figure'].show()"
   ]
  },
  {
   "cell_type": "markdown",
   "metadata": {},
   "source": [
    "# MMIRS Dev Section"
   ]
  },
  {
   "cell_type": "code",
   "execution_count": 4,
   "metadata": {},
   "outputs": [
    {
     "data": {
      "application/vnd.jupyter.widget-view+json": {
       "model_id": "",
       "version_major": 2,
       "version_minor": 0
      },
      "text/plain": [
       "Canvas(toolbar=Toolbar(toolitems=[('Home', 'Reset original view', 'home', 'home'), ('Back', 'Back to previous …"
      ]
     },
     "metadata": {},
     "output_type": "display_data"
    },
    {
     "data": {
      "application/vnd.jupyter.widget-view+json": {
       "model_id": "",
       "version_major": 2,
       "version_minor": 0
      },
      "text/plain": [
       "Canvas(toolbar=Toolbar(toolitems=[('Home', 'Reset original view', 'home', 'home'), ('Back', 'Back to previous …"
      ]
     },
     "metadata": {},
     "output_type": "display_data"
    }
   ],
   "source": [
    "mmirs = WFSFactory(wfs=\"mmirs\")"
   ]
  },
  {
   "cell_type": "code",
   "execution_count": 9,
   "metadata": {},
   "outputs": [
    {
     "data": {
      "application/vnd.jupyter.widget-view+json": {
       "model_id": "73aff6124fd746299560ec370963aec5",
       "version_major": 2,
       "version_minor": 0
      },
      "text/plain": [
       "Canvas(toolbar=Toolbar(toolitems=[('Home', 'Reset original view', 'home', 'home'), ('Back', 'Back to previous …"
      ]
     },
     "metadata": {},
     "output_type": "display_data"
    },
    {
     "data": {
      "application/vnd.jupyter.widget-view+json": {
       "model_id": "15562924b9b44385bba08a6b45f77fc1",
       "version_major": 2,
       "version_minor": 0
      },
      "text/plain": [
       "Canvas(toolbar=Toolbar(toolitems=[('Home', 'Reset original view', 'home', 'home'), ('Back', 'Back to previous …"
      ]
     },
     "metadata": {},
     "output_type": "display_data"
    },
    {
     "data": {
      "application/vnd.jupyter.widget-view+json": {
       "model_id": "41e1958afb1f46f6847c00d2f9f41560",
       "version_major": 2,
       "version_minor": 0
      },
      "text/plain": [
       "Canvas(toolbar=Toolbar(toolitems=[('Home', 'Reset original view', 'home', 'home'), ('Back', 'Back to previous …"
      ]
     },
     "metadata": {},
     "output_type": "display_data"
    }
   ],
   "source": [
    "plt.close('all')\n",
    "#mmirs.cen_sigma = 6.0\n",
    "mmirs_file = \"/Users/tim/MMT/wfsdat/20181120/mmirs_wfs_%04d.fits\" % 157\n",
    "#mmirs_file = \"/Volumes/LaCie 8TB/wfsdat/20181221/mmirs_wfs_%04d.fits\" % 61\n",
    "#mmirs_file = \"/Volumes/LaCie 8TB/wfsdat/20171013/mmirs_wfs_rename_%04d.fits\" % 566  # pacman = 565,566\n",
    "#mmirs_file = \"/Users/tim/MMT/mmtwfs/mmtwfs/data/test_data/mmirs_wfs_0150.fits\"\n",
    "#mmirs_file = \"/Volumes/LaCie 8TB/wfsdat/20180511/mmirs_wfs_0275.fits\"\n",
    "#mmirs_file = \"/Users/tim/MMT/wfsdat/test/mmirs_wfs_0192.fits\"\n",
    "#mmirs_file = \"/Volumes/LaCie 8TB/wfsdat/20181121/mmirs_wfs_0009.fits\"\n",
    "#mmirs_file = \"/Users/tim/MMT/wfsdat/20181120/mmirs_wfs_0125.fits\"\n",
    "#mmirs_file = \"/Volumes/LaCie 8TB/wfsdat/20191213/mmirs_wfs_0039.fits\"\n",
    "#mmirs_file = \"/Volumes/LaCie 8TB/wfsdat/20200109/mmirs_wfs_0135.fits\"\n",
    "#mmirs_file = \"/Users/tim/MMT/mmtwfs/mmtwfs/data/test_data/mmirs_wfs_0150.fits\"\n",
    "results = mmirs.measure_slopes(mmirs_file, plot=True)\n",
    "results['figures']['slopes'].show()"
   ]
  },
  {
   "cell_type": "code",
   "execution_count": null,
   "metadata": {},
   "outputs": [],
   "source": [
    "# 107, 184  363 189\n",
    "180. * np.arctan2(5, 256) / np.pi"
   ]
  },
  {
   "cell_type": "code",
   "execution_count": null,
   "metadata": {},
   "outputs": [],
   "source": [
    "results['figures']['pupil_center'].show()"
   ]
  },
  {
   "cell_type": "code",
   "execution_count": null,
   "metadata": {},
   "outputs": [],
   "source": [
    "results['grid_fit']"
   ]
  },
  {
   "cell_type": "code",
   "execution_count": null,
   "metadata": {},
   "outputs": [],
   "source": [
    "mask = mk_wfs_mask(results['data'][75:395,85:425], outfile=\"/Users/tim/MMT/mmtwfs/mmtwfs/data/ref_images/mmirs_mask.fits\")\n"
   ]
  },
  {
   "cell_type": "code",
   "execution_count": null,
   "metadata": {},
   "outputs": [],
   "source": [
    "hdu = fits.PrimaryHDU(results['data'])\n",
    "hdu.writeto('data.fits', overwrite=True)\n",
    "mmirs.telescope.obscuration"
   ]
  },
  {
   "cell_type": "code",
   "execution_count": 27,
   "metadata": {},
   "outputs": [
    {
     "data": {
      "application/vnd.jupyter.widget-view+json": {
       "model_id": "57d0f4b05c20430eba15bf96dcb95cee",
       "version_major": 2,
       "version_minor": 0
      },
      "text/plain": [
       "Canvas(toolbar=Toolbar(toolitems=[('Home', 'Reset original view', 'home', 'home'), ('Back', 'Back to previous …"
      ]
     },
     "metadata": {},
     "output_type": "display_data"
    },
    {
     "name": "stdout",
     "output_type": "stream",
     "text": [
      "1141.4053991164974 nm\n",
      "Fringe Coefficients\n",
      " Z02:        -208.6 ±   137 nm \t X Tilt (1, 1)\n",
      " Z03:         53.72 ±   156 nm \t Y Tilt (1, -1)\n",
      " Z04:         360.5 ±  47.8 nm \t Defocus (2, 0)\n",
      " Z05:         312.9 ±    89 nm \t Primary Astig at 45° (2, -2)\n",
      " Z06:          40.8 ±   102 nm \t Primary Astig at 0° (2, 2)\n",
      " Z07:        -188.6 ±  65.7 nm \t Primary Y Coma (3, -1)\n",
      " Z08:        -188.2 ±  54.9 nm \t Primary X Coma (3, 1)\n",
      " Z09:        -81.51 ±  83.2 nm \t Y Trefoil (3, -3)\n",
      " Z10:         120.1 ±    84 nm \t X Trefoil (3, 3)\n",
      " Z11:        -91.18 ±  36.3 nm \t Primary Spherical (4, 0)\n",
      "\n",
      "Total RMS: \t 270.3 nm\n",
      "\n"
     ]
    }
   ],
   "source": [
    "mmirs.nzern = 10\n",
    "zresults = mmirs.fit_wavefront(results, plot=True)\n",
    "zvec = zresults['zernike']\n",
    "print(zresults['residual_rms'])\n",
    "#zvec.normalize()\n",
    "print(zvec.pretty_print())\n",
    "zresults['resid_plot'].show()"
   ]
  },
  {
   "cell_type": "code",
   "execution_count": 28,
   "metadata": {},
   "outputs": [
    {
     "data": {
      "application/vnd.jupyter.widget-view+json": {
       "model_id": "fd716674c93c4255a33d4f474a000721",
       "version_major": 2,
       "version_minor": 0
      },
      "text/plain": [
       "Canvas(toolbar=Toolbar(toolitems=[('Home', 'Reset original view', 'home', 'home'), ('Back', 'Back to previous …"
      ]
     },
     "metadata": {},
     "output_type": "display_data"
    }
   ],
   "source": [
    "zresults['zernike'].fringe_bar_chart().show()"
   ]
  },
  {
   "cell_type": "code",
   "execution_count": null,
   "metadata": {},
   "outputs": [],
   "source": [
    "fig, ax = plt.subplots()\n",
    "norm = wfs_norm(results['data'])\n",
    "ax.imshow(results['data'], cmap='Greys', origin='lower', norm=norm, interpolation='None')\n",
    "mmirs.modes['mmirs1']['reference'].photapers.plot(color='red', lw=1.5, alpha=0.1, ax=ax)\n",
    "plt.show()"
   ]
  },
  {
   "cell_type": "code",
   "execution_count": 13,
   "metadata": {},
   "outputs": [],
   "source": [
    "plt.close('all')"
   ]
  },
  {
   "cell_type": "code",
   "execution_count": null,
   "metadata": {},
   "outputs": [],
   "source": [
    "refaps = mmirs.modes['mmirs1']['reference'].masked_apertures\n",
    "fig, ax = plt.subplots()\n",
    "fit = results['grid_fit']\n",
    "refx = refaps['xcentroid'] * (fit['scale'] + refaps['xcentroid'] * fit['xcoma']) + fit['xcen']\n",
    "refy = refaps['ycentroid'] * (fit['scale'] + refaps['ycentroid'] * fit['ycoma']) + fit['ycen']\n",
    "x, y = results['apertures'].positions.transpose()[0], results['apertures'].positions.transpose()[1]\n",
    "spacing = 0.5*(results['xspacing'] + results['yspacing'])\n",
    "ax.scatter(refx, refy)\n",
    "ax.set_aspect('equal')\n",
    "ax.scatter(x, y)\n",
    "ax.set_xlim(0, 512)\n",
    "ax.set_ylim(0, 512)\n",
    "fig.show()\n",
    "\n",
    "results['grid_fit']"
   ]
  },
  {
   "cell_type": "code",
   "execution_count": null,
   "metadata": {},
   "outputs": [],
   "source": [
    "zresults['zernike'].bar_chart(last_mode=21).show()"
   ]
  },
  {
   "cell_type": "code",
   "execution_count": null,
   "metadata": {},
   "outputs": [],
   "source": [
    "psf, pfig = mmirs.telescope.psf(zresults['zernike'].copy())\n",
    "pfig.show()"
   ]
  },
  {
   "cell_type": "code",
   "execution_count": null,
   "metadata": {},
   "outputs": [],
   "source": [
    "print(mmirs.modes['mmirs1']['reference']['fwhm'])\n",
    "\n",
    "spot = mmirs.modes['mmirs1']['reference']['spot']\n",
    "model = Gaussian2D(amplitude=spot.max(), x_mean=spot.shape[1]/2, y_mean=spot.shape[0]/2) + Polynomial2D(degree=0)\n",
    "#model = Gaussian2D(amplitude=spot.max(), x_mean=spot.shape[1]/2, y_mean=spot.shape[0]/2)\n",
    "fitter = LevMarLSQFitter()\n",
    "y, x = np.mgrid[:spot.shape[0], :spot.shape[1]]\n",
    "fit = fitter(model, x, y, spot)\n",
    "fig, ax = plt.subplots()\n",
    "ax.imshow(mmirs.modes['mmirs1']['reference']['spot'] - fit(x, y))\n",
    "fig.show()"
   ]
  },
  {
   "cell_type": "code",
   "execution_count": null,
   "metadata": {},
   "outputs": [],
   "source": [
    "mmirs.modes['mmirs1']['reference']['figure'].show()\n",
    "mmirs.modes['mmirs1']['reference']['xspacing'], mmirs.modes['mmirs1']['reference']['yspacing']"
   ]
  },
  {
   "cell_type": "code",
   "execution_count": null,
   "metadata": {},
   "outputs": [],
   "source": [
    "zplot = zvec.copy()\n",
    "zplot.ignore('Z02')\n",
    "zplot.ignore('Z03')\n",
    "mfig = zplot.plot_map()\n",
    "mfig.show()\n",
    "zplot.peak2valley"
   ]
  },
  {
   "cell_type": "code",
   "execution_count": null,
   "metadata": {},
   "outputs": [],
   "source": [
    "zvec.units = u.nm\n",
    "f = zvec.bar_chart(residual=zresults['residual_rms'])\n",
    "f.set_size_inches(9, 5)\n",
    "\n",
    "f.show()"
   ]
  },
  {
   "cell_type": "code",
   "execution_count": null,
   "metadata": {},
   "outputs": [],
   "source": [
    "plt.close('all')"
   ]
  },
  {
   "cell_type": "code",
   "execution_count": null,
   "metadata": {},
   "outputs": [],
   "source": [
    "torig = mmirs.telescope.bending_forces(zvec)\n",
    "torig.show_in_notebook()"
   ]
  },
  {
   "cell_type": "code",
   "execution_count": null,
   "metadata": {},
   "outputs": [],
   "source": [
    "force_fig = mmirs.telescope.plot_forces(torig)\n",
    "force_fig.show()"
   ]
  },
  {
   "cell_type": "code",
   "execution_count": null,
   "metadata": {},
   "outputs": [],
   "source": [
    "t, m1foc = mmirs.correct_primary(zv=zvec)\n",
    "print(m1foc)\n",
    "t.show_in_notebook()"
   ]
  },
  {
   "cell_type": "code",
   "execution_count": null,
   "metadata": {},
   "outputs": [],
   "source": [
    "new_force_fig = mmirs.telescope.plot_forces(t)\n",
    "new_force_fig.show()"
   ]
  },
  {
   "cell_type": "code",
   "execution_count": null,
   "metadata": {},
   "outputs": [],
   "source": [
    "zpsf = ZernikeVector()\n",
    "psf, psf_fig = mmirs.telescope.psf(zpsf, plot=True)\n",
    "psf_fig.set_size_inches(4.0, 4.0)\n",
    "psf_fig.show()"
   ]
  },
  {
   "cell_type": "markdown",
   "metadata": {},
   "source": [
    "# F/9 Dev Section"
   ]
  },
  {
   "cell_type": "code",
   "execution_count": 20,
   "metadata": {},
   "outputs": [
    {
     "data": {
      "application/vnd.jupyter.widget-view+json": {
       "model_id": "ed48694a08cf4fcc88d922c0b65aa689",
       "version_major": 2,
       "version_minor": 0
      },
      "text/plain": [
       "Canvas(toolbar=Toolbar(toolitems=[('Home', 'Reset original view', 'home', 'home'), ('Back', 'Back to previous …"
      ]
     },
     "metadata": {},
     "output_type": "display_data"
    }
   ],
   "source": [
    "plt.close('all')\n",
    "f9wfs = WFSFactory(wfs=\"newf9\")\n",
    "f9wfs.cen_sigma = 15.0\n",
    "#f9wfs = WFSFactory(wfs=\"newf9\", pup_offset=[0.0, 0.0])"
   ]
  },
  {
   "cell_type": "code",
   "execution_count": null,
   "metadata": {},
   "outputs": [],
   "source": [
    "baseline1_files = [\"f9wfs_20180131-191734.fits\", \"f9wfs_20180131-191925.fits\", \"f9wfs_20180131-192131.fits\"]\n",
    "baseline2_files = [\"f9wfs_20180131-192350.fits\", \"f9wfs_20180131-192541.fits\", \"f9wfs_20180131-192731.fits\"]\n",
    "baseline3_files = [\n",
    "    \"f9wfs_20180131-192927.fits\", \"f9wfs_20180131-193109.fits\", \n",
    "    \"f9wfs_20180131-193325.fits\", \"f9wfs_20180131-193509.fits\"\n",
    "]"
   ]
  },
  {
   "cell_type": "code",
   "execution_count": null,
   "metadata": {},
   "outputs": [],
   "source": [
    "mask = mk_wfs_mask(results['data'][130:710,60:620], outfile=\"/Users/tim/MMT/mmtwfs/mmtwfs/data/ref_images/newf9_mask.fits\")"
   ]
  },
  {
   "cell_type": "code",
   "execution_count": 24,
   "metadata": {},
   "outputs": [
    {
     "data": {
      "application/vnd.jupyter.widget-view+json": {
       "model_id": "d54d7cdc395f4cdd8c181ec179b30a09",
       "version_major": 2,
       "version_minor": 0
      },
      "text/plain": [
       "Canvas(toolbar=Toolbar(toolitems=[('Home', 'Reset original view', 'home', 'home'), ('Back', 'Back to previous …"
      ]
     },
     "metadata": {},
     "output_type": "display_data"
    },
    {
     "data": {
      "application/vnd.jupyter.widget-view+json": {
       "model_id": "90edd5c0773b42bb8b7cf69b176169f8",
       "version_major": 2,
       "version_minor": 0
      },
      "text/plain": [
       "Canvas(toolbar=Toolbar(toolitems=[('Home', 'Reset original view', 'home', 'home'), ('Back', 'Back to previous …"
      ]
     },
     "metadata": {},
     "output_type": "display_data"
    },
    {
     "data": {
      "application/vnd.jupyter.widget-view+json": {
       "model_id": "9259b9c641fd4123aab1059378d4b723",
       "version_major": 2,
       "version_minor": 0
      },
      "text/plain": [
       "Canvas(toolbar=Toolbar(toolitems=[('Home', 'Reset original view', 'home', 'home'), ('Back', 'Back to previous …"
      ]
     },
     "metadata": {},
     "output_type": "display_data"
    }
   ],
   "source": [
    "plt.close('all')\n",
    "#f9_file = \"/Volumes/LaCie 8TB/wfsdat/20180201/\" + baseline3_files[0]\n",
    "f9_file = \"/home/tim/MMT/mmtwfs/mmtwfs/data/test_data/test_newf9.fits\"\n",
    "#f9_file = \"/Volumes/LaCie 8TB/wfsdat/20180909/f9wfs_20180908-220524.fits\"\n",
    "#f9_file = \"/Volumes/LaCie 8TB/wfsdat/20190104/f9wfs_20190104-020657.fits\"\n",
    "#f9_file = \"/Volumes/LaCie 8TB/wfsdat/20200218/f9wfs_20200218-044238.fits\"\n",
    "#f9_file = \"/Volumes/LaCie 8TB/wfsdat/20200226/f9wfs_20200225-205600.fits\"\n",
    "f9_file = \"/home/tim/tmp/f9wfs_20211130-180901.fits\"\n",
    "results = f9wfs.measure_slopes(f9_file, 'blue', plot=True)\n",
    "#plt.scatter(refaps['xcentroid']+results['xcen'], refaps['ycentroid']+results['ycen'])\n",
    "results['figures']['slopes'].show()\n",
    "# 265 258\n",
    "# ref 240 259.5"
   ]
  },
  {
   "cell_type": "code",
   "execution_count": 25,
   "metadata": {},
   "outputs": [
    {
     "data": {
      "application/vnd.jupyter.widget-view+json": {
       "model_id": "8e22fb71a5d94df6a83fc1e4b0d52f98",
       "version_major": 2,
       "version_minor": 0
      },
      "text/plain": [
       "Canvas(toolbar=Toolbar(toolitems=[('Home', 'Reset original view', 'home', 'home'), ('Back', 'Back to previous …"
      ]
     },
     "metadata": {},
     "output_type": "display_data"
    },
    {
     "name": "stdout",
     "output_type": "stream",
     "text": [
      "1472.7682033210717 nm\n",
      "Fringe Coefficients\n",
      " Z02:          1367 ±   279 nm \t X Tilt (1, 1)\n",
      " Z03:         -1440 ±   214 nm \t Y Tilt (1, -1)\n",
      " Z04:         -9559 ±   115 nm \t Defocus (2, 0)\n",
      " Z05:        -49.34 ±   156 nm \t Primary Astig at 45° (2, -2)\n",
      " Z06:         -1118 ±   221 nm \t Primary Astig at 0° (2, 2)\n",
      " Z07:         -1133 ±   105 nm \t Primary Y Coma (3, -1)\n",
      " Z08:         920.1 ±   215 nm \t Primary X Coma (3, 1)\n",
      " Z09:        -430.4 ±   163 nm \t Y Trefoil (3, -3)\n",
      " Z10:         418.6 ±   233 nm \t X Trefoil (3, 3)\n",
      " Z11:         227.4 ±  95.6 nm \t Primary Spherical (4, 0)\n",
      " Z12:         520.1 ±   156 nm \t Secondary Astigmatism at 0° (4, 2)\n",
      " Z13:        -736.4 ±    94 nm \t Secondary Astigmatism at 45° (4, -2)\n",
      " Z14:         234.6 ±   178 nm \t X Tetrafoil (4, 4)\n",
      " Z15:        -46.03 ±   160 nm \t Y Tetrafoil (4, -4)\n",
      " Z16:        -86.32 ±   148 nm \t Secondary X Coma (5, 1)\n",
      " Z17:        -146.1 ±  94.9 nm \t Secondary Y Coma (5, -1)\n",
      " Z18:         343.1 ±   137 nm \t Secondary X Trefoil (5, 3)\n",
      " Z19:        -48.58 ±  97.4 nm \t Secondary Y Trefoil (5, -3)\n",
      " Z20:         38.52 ±   165 nm \t X Pentafoil (5, 5)\n",
      " Z21:           596 ±   152 nm \t Y Pentafoil (5, -5)\n",
      " Z22:         106.5 ±    58 nm \t Secondary Spherical (6, 0)\n",
      "\n",
      "Total RMS: \t 5578 nm\n",
      "\n"
     ]
    }
   ],
   "source": [
    "zresults = f9wfs.fit_wavefront(results, plot=True)\n",
    "print(zresults['residual_rms'])\n",
    "print(zresults['zernike'].pretty_print())\n",
    "zresults['resid_plot'].show()"
   ]
  },
  {
   "cell_type": "code",
   "execution_count": 26,
   "metadata": {},
   "outputs": [
    {
     "data": {
      "application/vnd.jupyter.widget-view+json": {
       "model_id": "a708d7f8cd3f479da9a8d71056ea8be0",
       "version_major": 2,
       "version_minor": 0
      },
      "text/plain": [
       "Canvas(toolbar=Toolbar(toolitems=[('Home', 'Reset original view', 'home', 'home'), ('Back', 'Back to previous …"
      ]
     },
     "metadata": {},
     "output_type": "display_data"
    }
   ],
   "source": [
    "zresults['zernike'].fringe_bar_chart().show()"
   ]
  },
  {
   "cell_type": "code",
   "execution_count": null,
   "metadata": {},
   "outputs": [],
   "source": [
    "f9wfs.modes['blue']['reference'].xcen"
   ]
  },
  {
   "cell_type": "code",
   "execution_count": null,
   "metadata": {},
   "outputs": [],
   "source": [
    "refaps = f9wfs.modes['blue']['reference'].masked_apertures\n",
    "fig, ax = plt.subplots()\n",
    "fit = results['grid_fit']\n",
    "refx = refaps['xcentroid'] * (fit['scale'] + refaps['xcentroid'] * fit['xcoma']) + fit['xcen']\n",
    "refy = refaps['ycentroid'] * (fit['scale'] + refaps['ycentroid'] * fit['ycoma']) + fit['ycen']\n",
    "x, y = results['apertures'].positions.transpose()[0], results['apertures'].positions.transpose()[1]\n",
    "spacing = 0.5*(results['xspacing'] + results['yspacing'])\n",
    "ax.scatter(refx, refy)\n",
    "ax.set_aspect('equal')\n",
    "ax.scatter(x, y)\n",
    "ax.set_xlim(0, 845)\n",
    "ax.set_ylim(0, 845)\n",
    "fig.show()\n",
    "fit['scale']"
   ]
  },
  {
   "cell_type": "code",
   "execution_count": null,
   "metadata": {},
   "outputs": [],
   "source": [
    "data = check_wfsdata(f9_file)\n",
    "x = np.arange(data.shape[1])\n",
    "y = np.arange(data.shape[0])\n",
    "bx = np.arange(data.shape[1]+1)\n",
    "by = np.arange(data.shape[0]+1)\n",
    "apertures = results['spots']\n",
    "\n",
    "# bin the spot positions along the axes and use Lomb-Scargle to measure the grid spacing in each direction\n",
    "xsum = np.histogram(apertures['xcentroid'], bins=bx)\n",
    "ysum = np.histogram(apertures['ycentroid'], bins=by)\n",
    "\n",
    "k = np.linspace(10.0, 50., 500)  # look for spacings from 5 to 50 pixels (plenty of range)\n",
    "f = 1.0 / k  # convert spacing to frequency\n",
    "xp = stats.LombScargle(x, xsum[0]).power(f)\n",
    "yp = stats.LombScargle(y, ysum[0]).power(f)\n",
    "plt.plot(k, yp)\n",
    "plt.show()"
   ]
  },
  {
   "cell_type": "code",
   "execution_count": null,
   "metadata": {},
   "outputs": [],
   "source": [
    "zresults['zernike'].bar_chart(last_mode=21).show()"
   ]
  },
  {
   "cell_type": "code",
   "execution_count": null,
   "metadata": {},
   "outputs": [],
   "source": [
    "spots = {'xcentroid': x, 'ycentroid': y}\n",
    "from scipy import optimize\n",
    "\n",
    "def match_apertures(refx, refy, spotx, spoty):\n",
    "    tot_dist = 0.0\n",
    "    refs = np.array([refx, refy])\n",
    "    spots = np.array([spotx, spoty])\n",
    "    match = np.empty(len(refx))\n",
    "    max_r = spacing / 2.\n",
    "    for i in np.arange(len(refx)):\n",
    "        dists = np.sqrt( (spots[0]-refs[0][i])**2 + (spots[1]-refs[1][i])**2 )\n",
    "        tot_dist += np.min(dists)\n",
    "    return tot_dist\n",
    "\n",
    "def fit_apertures(pars, ref, spots):\n",
    "    xc = pars[0]\n",
    "    yc = pars[1]\n",
    "    xscale = pars[2]\n",
    "    yscale = pars[3]\n",
    "    xcoma = pars[4]\n",
    "    ycoma = pars[5]\n",
    "    refx = ref['xcentroid'] * (xscale + ref['xcentroid'] * xcoma) + xc\n",
    "    refy = ref['ycentroid'] * (yscale + ref['ycentroid'] * ycoma) + yc\n",
    "    spotx = spots['xcentroid']\n",
    "    spoty = spots['ycentroid']\n",
    "    dist = match_apertures(refx, refy, spotx, spoty)\n",
    "    return dist"
   ]
  },
  {
   "cell_type": "code",
   "execution_count": null,
   "metadata": {},
   "outputs": [],
   "source": [
    "#%%timeit\n",
    "args = (refaps, spots)\n",
    "pars = (results['xcen'], results['ycen'], 1.0, 1.0, 0.0, 0.0)\n",
    "bounds = (\n",
    "    (results['xcen']-50, results['xcen']+50), \n",
    "    (results['ycen']-50, results['ycen']+50),\n",
    "    (0.8, 1.2),\n",
    "    (0.8, 1.2),\n",
    "    (-0.1, 0.1),\n",
    "    (-0.1, 0.1)\n",
    ")\n",
    "res = optimize.minimize(fit_apertures, pars, args=args, bounds=bounds)\n",
    "res"
   ]
  },
  {
   "cell_type": "code",
   "execution_count": null,
   "metadata": {},
   "outputs": [],
   "source": [
    "fig, ax = plt.subplots()\n",
    "refx, refy = refaps['xcentroid'], refaps['ycentroid']\n",
    "refx = refx * (res['x'][2] + refx*res['x'][4]) + res['x'][0]\n",
    "refy = refy * (res['x'][3] + refy*res['x'][5]) + res['x'][1]\n",
    "x, y = results['apertures'].positions.transpose()[0], results['apertures'].positions.transpose()[1]\n",
    "ax.scatter(refx, refy)\n",
    "ax.set_aspect('equal')\n",
    "ax.scatter(x, y)\n",
    "ax.set_xlim(0, 845)\n",
    "ax.set_ylim(0, 845)\n",
    "fig.show()"
   ]
  },
  {
   "cell_type": "code",
   "execution_count": null,
   "metadata": {},
   "outputs": [],
   "source": [
    "print(f9wfs.modes['blue']['reference']['xcen'], f9wfs.modes['blue']['reference']['ycen'])\n",
    "print(f9wfs.modes['blue']['reference']['xspacing'], f9wfs.modes['blue']['reference']['yspacing'])\n",
    "f9wfs.modes['blue']['reference'].keys()"
   ]
  },
  {
   "cell_type": "code",
   "execution_count": null,
   "metadata": {},
   "outputs": [],
   "source": [
    "zv = zresults['zernike']\n",
    "print(zv.rms)\n",
    "zv.ignore('Z02')\n",
    "zv.ignore('Z03')\n",
    "f = zv.plot_map()\n",
    "f.show()"
   ]
  },
  {
   "cell_type": "code",
   "execution_count": null,
   "metadata": {},
   "outputs": [],
   "source": [
    "bc = zv.bar_chart(residual=zresults['residual_rms'])\n",
    "bc.show()"
   ]
  },
  {
   "cell_type": "code",
   "execution_count": null,
   "metadata": {},
   "outputs": [],
   "source": [
    "psf, psf_fig = f9wfs.telescope.psf(zv, fov=1.0)\n",
    "psf_fig.show()"
   ]
  },
  {
   "cell_type": "code",
   "execution_count": null,
   "metadata": {},
   "outputs": [],
   "source": [
    "plt.close('all')"
   ]
  },
  {
   "cell_type": "markdown",
   "metadata": {},
   "source": [
    "# F/5 Dev Section"
   ]
  },
  {
   "cell_type": "code",
   "execution_count": 6,
   "metadata": {},
   "outputs": [
    {
     "data": {
      "application/vnd.jupyter.widget-view+json": {
       "model_id": "",
       "version_major": 2,
       "version_minor": 0
      },
      "text/plain": [
       "Canvas(toolbar=Toolbar(toolitems=[('Home', 'Reset original view', 'home', 'home'), ('Back', 'Back to previous …"
      ]
     },
     "metadata": {},
     "output_type": "display_data"
    }
   ],
   "source": [
    "f5wfs = WFSFactory(wfs=\"f5\")"
   ]
  },
  {
   "cell_type": "code",
   "execution_count": 23,
   "metadata": {},
   "outputs": [
    {
     "data": {
      "application/vnd.jupyter.widget-view+json": {
       "model_id": "477c407b148e411fae0d71a8b2f0d606",
       "version_major": 2,
       "version_minor": 0
      },
      "text/plain": [
       "Canvas(toolbar=Toolbar(toolitems=[('Home', 'Reset original view', 'home', 'home'), ('Back', 'Back to previous …"
      ]
     },
     "metadata": {},
     "output_type": "display_data"
    },
    {
     "data": {
      "application/vnd.jupyter.widget-view+json": {
       "model_id": "7603f6a03074434e916fdfb141976771",
       "version_major": 2,
       "version_minor": 0
      },
      "text/plain": [
       "Canvas(toolbar=Toolbar(toolitems=[('Home', 'Reset original view', 'home', 'home'), ('Back', 'Back to previous …"
      ]
     },
     "metadata": {},
     "output_type": "display_data"
    },
    {
     "data": {
      "application/vnd.jupyter.widget-view+json": {
       "model_id": "3b93f2faa9c7414986a549588f3918c5",
       "version_major": 2,
       "version_minor": 0
      },
      "text/plain": [
       "Canvas(toolbar=Toolbar(toolitems=[('Home', 'Reset original view', 'home', 'home'), ('Back', 'Back to previous …"
      ]
     },
     "metadata": {},
     "output_type": "display_data"
    }
   ],
   "source": [
    "#%%prun\n",
    "plt.close('all')\n",
    "#f5_file = \"/Volumes/LaCie 8TB/wfsdat/20181022/manual_wfs_0003.fits\"\n",
    "#f5_file = \"/Users/tim/MMT/mmtwfs/mmtwfs/data/test_data/auto_wfs_0037_ave.fits\"\n",
    "f5_file = \"/Users/tim/MMT/wfsdat/20180923/manual_wfs_0019.fits\"\n",
    "f5_file = \"/Volumes/LaCie 8TB/wfsdat/20191015/manual_wfs_0013.fits\"\n",
    "results = f5wfs.measure_slopes(f5_file, 'hecto', plot=True)\n",
    "results['figures']['slopes'].show()"
   ]
  },
  {
   "cell_type": "code",
   "execution_count": null,
   "metadata": {},
   "outputs": [],
   "source": [
    "mask = mk_wfs_mask(results['data'][25:475,25:475], outfile=\"/Users/tim/MMT/mmtwfs/mmtwfs/data/ref_images/f5_mask.fits\")"
   ]
  },
  {
   "cell_type": "code",
   "execution_count": 24,
   "metadata": {},
   "outputs": [
    {
     "data": {
      "text/plain": [
       "((<Quantity -3.059 arcsec>, <Quantity -0.797 arcsec>),\n",
       " 236.00917575744455,\n",
       " 284.99026226450553)"
      ]
     },
     "execution_count": 24,
     "metadata": {},
     "output_type": "execute_result"
    }
   ],
   "source": [
    "f5wfs.calculate_recenter(results), results['xcen'], results['ycen']"
   ]
  },
  {
   "cell_type": "code",
   "execution_count": 25,
   "metadata": {},
   "outputs": [
    {
     "data": {
      "application/vnd.jupyter.widget-view+json": {
       "model_id": "fcbeec26d1c94d6498aa6e196de893af",
       "version_major": 2,
       "version_minor": 0
      },
      "text/plain": [
       "Canvas(toolbar=Toolbar(toolitems=[('Home', 'Reset original view', 'home', 'home'), ('Back', 'Back to previous …"
      ]
     },
     "metadata": {},
     "output_type": "display_data"
    },
    {
     "name": "stdout",
     "output_type": "stream",
     "text": [
      "Fringe Coefficients\n",
      " Z02:        -57.29 ±   192 nm \t X Tilt (1, 1)\n",
      " Z03:         136.7 ±   186 nm \t Y Tilt (1, -1)\n",
      " Z04:          1117 ±  60.8 nm \t Defocus (2, 0)\n",
      " Z05:         446.6 ±   131 nm \t Primary Astig at 45° (2, -2)\n",
      " Z06:         184.6 ±   131 nm \t Primary Astig at 0° (2, 2)\n",
      " Z07:         14.78 ±  75.3 nm \t Primary Y Coma (3, -1)\n",
      " Z08:         135.8 ±  84.5 nm \t Primary X Coma (3, 1)\n",
      " Z09:         47.62 ±   117 nm \t Y Trefoil (3, -3)\n",
      " Z10:         128.1 ±   108 nm \t X Trefoil (3, 3)\n",
      " Z11:        -63.59 ±  49.1 nm \t Primary Spherical (4, 0)\n",
      " Z12:        -94.48 ±  64.1 nm \t Secondary Astigmatism at 0° (4, 2)\n",
      " Z13:        -130.8 ±  55.2 nm \t Secondary Astigmatism at 45° (4, -2)\n",
      " Z14:         16.49 ±  93.6 nm \t X Tetrafoil (4, 4)\n",
      " Z15:        -2.547 ±  85.9 nm \t Y Tetrafoil (4, -4)\n",
      " Z16:        -132.9 ±  61.3 nm \t Secondary X Coma (5, 1)\n",
      " Z17:        -17.24 ±  59.3 nm \t Secondary Y Coma (5, -1)\n",
      " Z18:         -1.69 ±  55.4 nm \t Secondary X Trefoil (5, 3)\n",
      " Z19:        -3.584 ±  61.9 nm \t Secondary Y Trefoil (5, -3)\n",
      " Z20:         86.13 ±  84.2 nm \t X Pentafoil (5, 5)\n",
      " Z21:        -19.39 ±  86.1 nm \t Y Pentafoil (5, -5)\n",
      " Z22:          20.9 ±  39.8 nm \t Secondary Spherical (6, 0)\n",
      "\n",
      "Total RMS: \t 682 nm\n",
      "\n",
      "682.0185900346773 nm\n"
     ]
    }
   ],
   "source": [
    "#%%prun\n",
    "zresults = f5wfs.fit_wavefront(results, plot=True)\n",
    "zv = zresults['zernike']\n",
    "print(zv.pretty_print())\n",
    "print(zv.rms)\n",
    "zresults['resid_plot'].show()"
   ]
  },
  {
   "cell_type": "code",
   "execution_count": 26,
   "metadata": {},
   "outputs": [
    {
     "data": {
      "application/vnd.jupyter.widget-view+json": {
       "model_id": "12407f7d22434ab1b51c7ffe24218e7e",
       "version_major": 2,
       "version_minor": 0
      },
      "text/plain": [
       "Canvas(toolbar=Toolbar(toolitems=[('Home', 'Reset original view', 'home', 'home'), ('Back', 'Back to previous …"
      ]
     },
     "metadata": {},
     "output_type": "display_data"
    },
    {
     "data": {
      "text/latex": [
       "$1363.4802 \\; \\mathrm{nm}$"
      ],
      "text/plain": [
       "<Quantity 1363.48022001 nm>"
      ]
     },
     "execution_count": 26,
     "metadata": {},
     "output_type": "execute_result"
    }
   ],
   "source": [
    "zf = zv.fringe_bar_chart()\n",
    "zf.show()\n",
    "zresults['residual_rms']"
   ]
  },
  {
   "cell_type": "code",
   "execution_count": null,
   "metadata": {},
   "outputs": [],
   "source": [
    "bc = zv.bar_chart(last_mode=21)\n",
    "bc.show()"
   ]
  },
  {
   "cell_type": "code",
   "execution_count": null,
   "metadata": {},
   "outputs": [],
   "source": [
    "zv.denormalize()\n",
    "zv"
   ]
  },
  {
   "cell_type": "code",
   "execution_count": null,
   "metadata": {
    "slideshow": {
     "slide_type": "-"
    }
   },
   "outputs": [],
   "source": [
    "refaps = f5wfs.modes['hecto']['reference'].masked_apertures\n",
    "fig, ax = plt.subplots()\n",
    "fit = results['grid_fit']\n",
    "refx = refaps['xcentroid'] * (fit['scale'] + refaps['xcentroid'] * fit['xcoma']) + fit['xcen']\n",
    "refy = refaps['ycentroid'] * (fit['scale'] + refaps['ycentroid'] * fit['ycoma']) + fit['ycen']\n",
    "x, y = results['apertures'].positions.transpose()[0], results['apertures'].positions.transpose()[1]\n",
    "spacing = 0.5*(results['xspacing'] + results['yspacing'])\n",
    "ax.scatter(refx, refy)\n",
    "ax.set_aspect('equal')\n",
    "ax.scatter(x, y)\n",
    "ax.set_xlim(0, 512)\n",
    "ax.set_ylim(0, 512)\n",
    "fig.show()"
   ]
  },
  {
   "cell_type": "code",
   "execution_count": null,
   "metadata": {},
   "outputs": [],
   "source": [
    "zv.ignore('Z02')\n",
    "zv.ignore('Z03')\n",
    "zv.ignore('Z04')\n",
    "print(zv.rms)\n",
    "mf = zv.plot_map()\n",
    "mf.show()"
   ]
  },
  {
   "cell_type": "code",
   "execution_count": null,
   "metadata": {},
   "outputs": [],
   "source": [
    "t, m1foc = f5wfs.telescope.calculate_primary_corrections(zresults['zernike'])"
   ]
  },
  {
   "cell_type": "code",
   "execution_count": null,
   "metadata": {},
   "outputs": [],
   "source": [
    "fplot = f5wfs.telescope.plot_forces(t, m1focus=m1foc)\n",
    "fplot.show()"
   ]
  },
  {
   "cell_type": "code",
   "execution_count": null,
   "metadata": {},
   "outputs": [],
   "source": [
    "t.show_in_notebook()"
   ]
  },
  {
   "cell_type": "markdown",
   "metadata": {},
   "source": [
    "# Old F/9"
   ]
  },
  {
   "cell_type": "code",
   "execution_count": null,
   "metadata": {},
   "outputs": [],
   "source": [
    "oldf9 = WFSFactory(wfs=\"f9\")"
   ]
  },
  {
   "cell_type": "code",
   "execution_count": null,
   "metadata": {},
   "outputs": [],
   "source": [
    "#%%prun\n",
    "plt.close('all')\n",
    "oldf9_file = \"/Users/tim/MMT/mmtwfs/mmtwfs/data/test_data/TREX_p500_0000.fits\"\n",
    "oldf9_file = \"/Volumes/LaCie 8TB/wfsdat/20031223/start_0001.fits\"\n",
    "results = oldf9.measure_slopes(oldf9_file, 'blue', plot=True)\n",
    "results['figures']['slopes'].show()"
   ]
  },
  {
   "cell_type": "code",
   "execution_count": null,
   "metadata": {},
   "outputs": [],
   "source": [
    "mask = mk_wfs_mask(results['data'][40:460,45:465], outfile=\"/Users/tim/MMT/mmtwfs/mmtwfs/data/ref_images/oldf9_mask.fits\")"
   ]
  },
  {
   "cell_type": "code",
   "execution_count": null,
   "metadata": {},
   "outputs": [],
   "source": [
    "oldf9.ref_spot_fwhm()"
   ]
  },
  {
   "cell_type": "markdown",
   "metadata": {},
   "source": [
    "# Scratch space"
   ]
  },
  {
   "cell_type": "code",
   "execution_count": null,
   "metadata": {},
   "outputs": [],
   "source": [
    "cen = center_pupil(subt, pup, plot=True)\n",
    "print(cen)\n",
    "plt.show()"
   ]
  },
  {
   "cell_type": "code",
   "execution_count": null,
   "metadata": {},
   "outputs": [],
   "source": [
    "from astropy.io import ascii"
   ]
  },
  {
   "cell_type": "code",
   "execution_count": null,
   "metadata": {},
   "outputs": [],
   "source": [
    "t = f9wfs.telescope\n",
    "m = t.zern_map"
   ]
  },
  {
   "cell_type": "code",
   "execution_count": null,
   "metadata": {},
   "outputs": [],
   "source": [
    "z = np.loadtxt(\"/Users/tim/MMT/wfsdat/20170110/mmirs_wfs_0375.dao.sub.zrn.cor\")\n",
    "z1 = np.loadtxt(\"/Users/tim/MMT/wfsdat/20170110/mmirs_wfs_0375.dao.av.zrn\")"
   ]
  },
  {
   "cell_type": "code",
   "execution_count": null,
   "metadata": {},
   "outputs": [],
   "source": [
    "sigma = results['fwhm'] * stats.funcs.gaussian_fwhm_to_sigma\n",
    "\n",
    "wave = 650 * u.nm\n",
    "wave = wave.to(u.m).value  # r_0 equation expects meters so convert\n",
    "# calculate the physical size of each aperture.\n",
    "ref = mmirs.modes['mmirs2']['reference']\n",
    "apsize_pix = np.max((ref['xspacing'], ref['yspacing']))\n",
    "d = mmirs.telescope.diameter * apsize_pix / mmirs.pup_size\n",
    "d = d.to(u.m).value  # r_0 equation expects meters so convert\n",
    "\n",
    "# we need to deconvolve the instrumental spot width from the measured one\n",
    "ref_sigma = ref['sigma']\n",
    "if sigma > ref_sigma:\n",
    "    corr_sigma = np.sqrt(sigma**2 - ref_sigma**2)\n",
    "else:\n",
    "    corr_sigma = 0.0\n",
    "corr_sigma *= mmirs.pix_size.to(u.rad).value  # r_0 equation expects radians so convert\n",
    "# this equation relates the motion within a single aperture to the characteristic scale size of the\n",
    "# turbulence, r_0.\n",
    "r_0 = ( 0.179 * (wave**2) * (d**(-1./3.))/corr_sigma**2 )**0.6\n",
    "print(r_0)\n",
    "# this equation relates the turbulence scale size to an expected image FWHM at the given wavelength.\n",
    "raw_seeing = u.rad * 0.98 * wave / r_0\n",
    "raw_seeing = raw_seeing.to(u.arcsec)\n"
   ]
  },
  {
   "cell_type": "code",
   "execution_count": null,
   "metadata": {},
   "outputs": [],
   "source": [
    "t = bino.telescope"
   ]
  },
  {
   "cell_type": "code",
   "execution_count": null,
   "metadata": {},
   "outputs": [],
   "source": [
    "z = ZernikeVector(Z11=-1000*u.nm)\n",
    "z.plot_map()\n",
    "plt.show()"
   ]
  },
  {
   "cell_type": "code",
   "execution_count": null,
   "metadata": {},
   "outputs": [],
   "source": [
    "ft, m1, zv_masked = t.calculate_primary_corrections(z)"
   ]
  },
  {
   "cell_type": "code",
   "execution_count": null,
   "metadata": {},
   "outputs": [],
   "source": [
    "ft['force'].min()"
   ]
  },
  {
   "cell_type": "code",
   "execution_count": null,
   "metadata": {},
   "outputs": [],
   "source": [
    "m1"
   ]
  },
  {
   "cell_type": "code",
   "execution_count": null,
   "metadata": {},
   "outputs": [],
   "source": [
    "derot_phi = phi - u.Quantity(225*u.deg, u.rad).value\n",
    "pol2cart([dr, derot_phi])"
   ]
  },
  {
   "cell_type": "code",
   "execution_count": null,
   "metadata": {},
   "outputs": [],
   "source": [
    "u.Quantity(225*u.deg, u.rad).value"
   ]
  },
  {
   "cell_type": "code",
   "execution_count": null,
   "metadata": {},
   "outputs": [],
   "source": [
    "dx, dy"
   ]
  },
  {
   "cell_type": "code",
   "execution_count": null,
   "metadata": {},
   "outputs": [],
   "source": [
    "t = mmirs.telescope\n",
    "zv = ZernikeVector(Z05=1000, Z11=250)\n",
    "force, focus = t.correct_primary(zv)\n",
    "f1 = focus.copy()\n",
    "uforce, ufocus = t.undo_last()\n",
    "print(ufocus)\n",
    "print(f1)\n",
    "assert(ufocus == -1 * f1)"
   ]
  },
  {
   "cell_type": "code",
   "execution_count": null,
   "metadata": {},
   "outputs": [],
   "source": [
    "focus.copy()"
   ]
  },
  {
   "cell_type": "code",
   "execution_count": null,
   "metadata": {},
   "outputs": [],
   "source": [
    "np.allclose(np.zeros(2), 0.0)"
   ]
  },
  {
   "cell_type": "code",
   "execution_count": null,
   "metadata": {},
   "outputs": [],
   "source": [
    "s = \"offset_inc wfs z 200.3\"\n",
    "assert(\"200.3\" in s)"
   ]
  },
  {
   "cell_type": "code",
   "execution_count": null,
   "metadata": {},
   "outputs": [],
   "source": [
    "fig, ax = plt.subplots()"
   ]
  },
  {
   "cell_type": "code",
   "execution_count": null,
   "metadata": {},
   "outputs": [],
   "source": [
    "ax.imshow(results['data'], cmap=cm.Greys)\n",
    "fig.savefig(\"test.png\")"
   ]
  },
  {
   "cell_type": "code",
   "execution_count": null,
   "metadata": {},
   "outputs": [],
   "source": [
    "a = fig.axes[0]"
   ]
  },
  {
   "cell_type": "code",
   "execution_count": null,
   "metadata": {},
   "outputs": [],
   "source": [
    "fig.show()"
   ]
  },
  {
   "cell_type": "code",
   "execution_count": null,
   "metadata": {},
   "outputs": [],
   "source": [
    "\"{0:0.0f}\".format((550 * u.nm))"
   ]
  },
  {
   "cell_type": "code",
   "execution_count": null,
   "metadata": {},
   "outputs": [],
   "source": [
    "x, y, r, p, ph = zvec.phase_map(n=100)\n",
    "i = np.argsort(x)"
   ]
  },
  {
   "cell_type": "code",
   "execution_count": null,
   "metadata": {},
   "outputs": [],
   "source": [
    "from plotly.offline import download_plotlyjs, init_notebook_mode, plot, iplot\n",
    "import plotly.graph_objs as go\n",
    "init_notebook_mode(connected=True)"
   ]
  },
  {
   "cell_type": "code",
   "execution_count": null,
   "metadata": {},
   "outputs": [],
   "source": [
    "data = [go.Heatmap(z=np.array(ph[i]), x=x[i], y=y[i], colorscale='RdBu')]\n",
    "layout = go.Layout(title=\"test\")\n",
    "fig = go.Figure(data=data, layout=layout)\n",
    "plot(fig, filename=\"blah\")"
   ]
  },
  {
   "cell_type": "code",
   "execution_count": null,
   "metadata": {},
   "outputs": [],
   "source": [
    "t = MMT()\n",
    "zv = ZernikeVector(Z05=1000, Z11=250)\n",
    "force, focus = t.calculate_primary_corrections(zv)"
   ]
  },
  {
   "cell_type": "code",
   "execution_count": null,
   "metadata": {},
   "outputs": [],
   "source": [
    "lforce, lfocus = t.correct_primary(force, focus)"
   ]
  },
  {
   "cell_type": "code",
   "execution_count": null,
   "metadata": {},
   "outputs": [],
   "source": [
    "uforce, ufocus = t.undo_last()"
   ]
  },
  {
   "cell_type": "code",
   "execution_count": null,
   "metadata": {},
   "outputs": [],
   "source": [
    "newf9 = WFSFactory(wfs=\"newf9\")"
   ]
  },
  {
   "cell_type": "code",
   "execution_count": null,
   "metadata": {},
   "outputs": [],
   "source": [
    "newf9.modes['blue']['reference']"
   ]
  },
  {
   "cell_type": "code",
   "execution_count": null,
   "metadata": {},
   "outputs": [],
   "source": [
    "x = newf9.modes['blue']['reference']['apertures']['xcentroid'] + newf9.modes['blue']['reference']['xcen']"
   ]
  },
  {
   "cell_type": "code",
   "execution_count": null,
   "metadata": {},
   "outputs": [],
   "source": [
    "y = newf9.modes['blue']['reference']['apertures']['ycentroid'] + newf9.modes['blue']['reference']['ycen']"
   ]
  },
  {
   "cell_type": "code",
   "execution_count": null,
   "metadata": {},
   "outputs": [],
   "source": [
    "arr = np.array((x.data, y.data)).transpose()"
   ]
  },
  {
   "cell_type": "code",
   "execution_count": null,
   "metadata": {},
   "outputs": [],
   "source": [
    "np.savetxt(\"blah.txt\", arr, fmt=\"%.3f\")"
   ]
  },
  {
   "cell_type": "code",
   "execution_count": null,
   "metadata": {},
   "outputs": [],
   "source": [
    "x, y = 405, 445\n",
    "xnew, ynew = 438, 469\n",
    "xref, yref = 433, 431\n",
    "pixsize = 0.09639\n",
    "\n",
    "rot = u.Quantity(-225 * u.deg, u.rad).value\n",
    "\n",
    "dx = x - xref\n",
    "dy = y - yref\n",
    "\n",
    "dr, phi = cart2pol([dx, dy])\n",
    "\n",
    "derot_phi = phi - rot\n",
    "\n",
    "az, el = pol2cart([dr, derot_phi])\n",
    "print(az, el)"
   ]
  },
  {
   "cell_type": "code",
   "execution_count": null,
   "metadata": {},
   "outputs": [],
   "source": [
    "x, y = 405, 445\n",
    "xnew, ynew = 438, 469\n",
    "xref, yref = 433, 431\n",
    "pixsize = 0.09639\n",
    "\n",
    "rot = u.Quantity(-225 * u.deg, u.rad).value\n",
    "\n",
    "dx = 1 * (x - xref)\n",
    "dy = 1 * (y - yref)\n",
    "\n",
    "dr, phi = cart2pol([dx, dy])\n",
    "\n",
    "derot_phi = phi - rot\n",
    "\n",
    "az, el = pol2cart([dr, derot_phi])\n",
    "print(az, el)"
   ]
  },
  {
   "cell_type": "code",
   "execution_count": null,
   "metadata": {},
   "outputs": [],
   "source": [
    "azcorr = 3.0 / pixsize\n",
    "elcorr = 0.9 / pixsize\n",
    "drc, phic = cart2pol([azcorr, elcorr])\n",
    "derot_phic = phic + rot\n",
    "az_pix, el_pix = pol2cart([drc, derot_phic])\n",
    "print(az_pix, el_pix)"
   ]
  },
  {
   "cell_type": "code",
   "execution_count": null,
   "metadata": {},
   "outputs": [],
   "source": [
    "a = np.arange(5)"
   ]
  },
  {
   "cell_type": "code",
   "execution_count": null,
   "metadata": {},
   "outputs": [],
   "source": [
    "np.delete(a, 2)"
   ]
  },
  {
   "cell_type": "code",
   "execution_count": null,
   "metadata": {},
   "outputs": [],
   "source": [
    "2320-2820"
   ]
  },
  {
   "cell_type": "code",
   "execution_count": null,
   "metadata": {},
   "outputs": [],
   "source": [
    "x1, y1 = 274, 288\n",
    "x2, y2 = 243, 314\n",
    "xc, yc = 255, 255\n",
    "rot_def = 234 * u.deg\n",
    "rotation = u.Quantity(rot_def, u.rad).value"
   ]
  },
  {
   "cell_type": "code",
   "execution_count": null,
   "metadata": {},
   "outputs": [],
   "source": [
    "x1, y1 = 212, 238\n",
    "x2, y2 = 243, 314\n",
    "xc, yc = 255, 255\n",
    "rot_def = 234 * u.deg\n",
    "rotation = u.Quantity(rot_def, u.rad).value"
   ]
  },
  {
   "cell_type": "code",
   "execution_count": null,
   "metadata": {},
   "outputs": [],
   "source": [
    "x1, y1 = 358, 308\n",
    "xc, yc = 419, 439\n",
    "rot_def = -225 * u.deg\n",
    "rotation = u.Quantity(rot_def, u.rad).value"
   ]
  },
  {
   "cell_type": "code",
   "execution_count": null,
   "metadata": {},
   "outputs": [],
   "source": [
    "dx = x1 - xc\n",
    "dy = y1 - yc"
   ]
  },
  {
   "cell_type": "code",
   "execution_count": null,
   "metadata": {},
   "outputs": [],
   "source": [
    "dr, phi = cart2pol([dx, dy])"
   ]
  },
  {
   "cell_type": "code",
   "execution_count": null,
   "metadata": {},
   "outputs": [],
   "source": [
    "derot_phi = rotation + phi"
   ]
  },
  {
   "cell_type": "code",
   "execution_count": null,
   "metadata": {},
   "outputs": [],
   "source": [
    "az, el = pol2cart([dr, derot_phi])\n",
    "az, el"
   ]
  },
  {
   "cell_type": "code",
   "execution_count": null,
   "metadata": {},
   "outputs": [],
   "source": [
    "data = check_wfsdata(\"/Users/tim/MMT/wfsdat/20180604/wfs_ff_cal_img_2018.0604.052401.fits\")\n",
    "#data = check_wfsdata(\"/Users/tim/MMT/wfsdat/20171101/mmirs_wfs_0022.fits\")\n",
    "#data = check_wfsdata(\"/Volumes/LACIE SHARE/wfsdat/20180424/f9wfs_20180423-234645.fits\")\n",
    "#data = check_wfsdata(\"/Users/tim/MMT/wfsdat/20180404/manual_wfs_0004.fits\")\n",
    "fix, ax = plt.subplots()\n",
    "norm = wfs_norm(data)\n",
    "ax.imshow(data, cmap='Greys', origin='lower', norm=norm, interpolation='None')\n",
    "ax.set_title(\"Binospec WFS\")\n",
    "plt.savefig(\"/Users/tim/MMT/spie/2018/bino.pdf\")\n",
    "plt.show()"
   ]
  },
  {
   "cell_type": "code",
   "execution_count": null,
   "metadata": {},
   "outputs": [],
   "source": [
    "refdata = check_wfsdata(\"/Users/tim/MMT/mmtwfs/mmtwfs/data/ref_images/f9_new_ref.fits\")\n",
    "refdata = refdata - np.median(refdata)\n",
    "apertures, figure = wfsfind(refdata, fwhm=4.0, threshold=30, plot=True)\n",
    "figure.show()"
   ]
  },
  {
   "cell_type": "code",
   "execution_count": 16,
   "metadata": {},
   "outputs": [
    {
     "data": {
      "text/plain": [
       "524800.0"
      ]
     },
     "execution_count": 16,
     "metadata": {},
     "output_type": "execute_result"
    }
   ],
   "source": [
    "0.8 * .328e9 * 0.002"
   ]
  },
  {
   "cell_type": "code",
   "execution_count": 17,
   "metadata": {},
   "outputs": [],
   "source": [
    "blah = (\n",
    "    \"this\"\n",
    "    \"is\"\n",
    "    \"a\"\n",
    "    \"string\"\n",
    ")"
   ]
  },
  {
   "cell_type": "code",
   "execution_count": 18,
   "metadata": {},
   "outputs": [
    {
     "data": {
      "text/plain": [
       "'thisisastring'"
      ]
     },
     "execution_count": 18,
     "metadata": {},
     "output_type": "execute_result"
    }
   ],
   "source": [
    "blah"
   ]
  },
  {
   "cell_type": "code",
   "execution_count": null,
   "metadata": {},
   "outputs": [],
   "source": []
  }
 ],
 "metadata": {
  "kernelspec": {
   "display_name": "Python 3",
   "language": "python",
   "name": "python3"
  },
  "language_info": {
   "codemirror_mode": {
    "name": "ipython",
    "version": 3
   },
   "file_extension": ".py",
   "mimetype": "text/x-python",
   "name": "python",
   "nbconvert_exporter": "python",
   "pygments_lexer": "ipython3",
   "version": "3.9.7"
  }
 },
 "nbformat": 4,
 "nbformat_minor": 4
}
