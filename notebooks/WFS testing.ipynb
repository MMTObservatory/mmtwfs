{
 "cells": [
  {
   "cell_type": "code",
   "execution_count": 1,
   "metadata": {},
   "outputs": [
    {
     "name": "stderr",
     "output_type": "stream",
     "text": [
      "WARNING: AstropyDeprecationWarning: Composition of model classes will be removed in 4.0 (but composition of model instances is not affected) [astropy.modeling.core]\n",
      "WARNING: AstropyDeprecationWarning: astropy.extern.six will be removed in 4.0, use the six module directly if it is still needed [astropy.extern.six]\n"
     ]
    }
   ],
   "source": [
    "import time\n",
    "import os\n",
    "import sys\n",
    "import numpy as np\n",
    "#import ipympl\n",
    "import matplotlib\n",
    "matplotlib.use('nbagg')\n",
    "#from matplotlib import style\n",
    "#style.use('ggplot')\n",
    "import matplotlib.pyplot as plt\n",
    "\n",
    "import astropy.units as u\n",
    "from astropy import stats\n",
    "from astropy.io import fits\n",
    "from mmtwfs.wfs import *\n",
    "from mmtwfs.zernike import ZernikeVector\n",
    "from mmtwfs.telescope import MMT"
   ]
  },
  {
   "cell_type": "code",
   "execution_count": 2,
   "metadata": {},
   "outputs": [],
   "source": [
    "%load_ext autoreload\n",
    "%autoreload 2"
   ]
  },
  {
   "cell_type": "code",
   "execution_count": 3,
   "metadata": {},
   "outputs": [],
   "source": [
    "def wfsrun(wfs, mode, file):\n",
    "    r = wfs.measure_slopes(file, mode=mode, plot=True)\n",
    "    return r"
   ]
  },
  {
   "cell_type": "markdown",
   "metadata": {},
   "source": [
    "# Binospec Dev Section"
   ]
  },
  {
   "cell_type": "code",
   "execution_count": 4,
   "metadata": {},
   "outputs": [],
   "source": [
    "bino = WFSFactory(wfs=\"binospec\")"
   ]
  },
  {
   "cell_type": "code",
   "execution_count": 10,
   "metadata": {},
   "outputs": [
    {
     "data": {
      "application/javascript": [
       "/* Put everything inside the global mpl namespace */\n",
       "window.mpl = {};\n",
       "\n",
       "\n",
       "mpl.get_websocket_type = function() {\n",
       "    if (typeof(WebSocket) !== 'undefined') {\n",
       "        return WebSocket;\n",
       "    } else if (typeof(MozWebSocket) !== 'undefined') {\n",
       "        return MozWebSocket;\n",
       "    } else {\n",
       "        alert('Your browser does not have WebSocket support. ' +\n",
       "              'Please try Chrome, Safari or Firefox ≥ 6. ' +\n",
       "              'Firefox 4 and 5 are also supported but you ' +\n",
       "              'have to enable WebSockets in about:config.');\n",
       "    };\n",
       "}\n",
       "\n",
       "mpl.figure = function(figure_id, websocket, ondownload, parent_element) {\n",
       "    this.id = figure_id;\n",
       "\n",
       "    this.ws = websocket;\n",
       "\n",
       "    this.supports_binary = (this.ws.binaryType != undefined);\n",
       "\n",
       "    if (!this.supports_binary) {\n",
       "        var warnings = document.getElementById(\"mpl-warnings\");\n",
       "        if (warnings) {\n",
       "            warnings.style.display = 'block';\n",
       "            warnings.textContent = (\n",
       "                \"This browser does not support binary websocket messages. \" +\n",
       "                    \"Performance may be slow.\");\n",
       "        }\n",
       "    }\n",
       "\n",
       "    this.imageObj = new Image();\n",
       "\n",
       "    this.context = undefined;\n",
       "    this.message = undefined;\n",
       "    this.canvas = undefined;\n",
       "    this.rubberband_canvas = undefined;\n",
       "    this.rubberband_context = undefined;\n",
       "    this.format_dropdown = undefined;\n",
       "\n",
       "    this.image_mode = 'full';\n",
       "\n",
       "    this.root = $('<div/>');\n",
       "    this._root_extra_style(this.root)\n",
       "    this.root.attr('style', 'display: inline-block');\n",
       "\n",
       "    $(parent_element).append(this.root);\n",
       "\n",
       "    this._init_header(this);\n",
       "    this._init_canvas(this);\n",
       "    this._init_toolbar(this);\n",
       "\n",
       "    var fig = this;\n",
       "\n",
       "    this.waiting = false;\n",
       "\n",
       "    this.ws.onopen =  function () {\n",
       "            fig.send_message(\"supports_binary\", {value: fig.supports_binary});\n",
       "            fig.send_message(\"send_image_mode\", {});\n",
       "            if (mpl.ratio != 1) {\n",
       "                fig.send_message(\"set_dpi_ratio\", {'dpi_ratio': mpl.ratio});\n",
       "            }\n",
       "            fig.send_message(\"refresh\", {});\n",
       "        }\n",
       "\n",
       "    this.imageObj.onload = function() {\n",
       "            if (fig.image_mode == 'full') {\n",
       "                // Full images could contain transparency (where diff images\n",
       "                // almost always do), so we need to clear the canvas so that\n",
       "                // there is no ghosting.\n",
       "                fig.context.clearRect(0, 0, fig.canvas.width, fig.canvas.height);\n",
       "            }\n",
       "            fig.context.drawImage(fig.imageObj, 0, 0);\n",
       "        };\n",
       "\n",
       "    this.imageObj.onunload = function() {\n",
       "        fig.ws.close();\n",
       "    }\n",
       "\n",
       "    this.ws.onmessage = this._make_on_message_function(this);\n",
       "\n",
       "    this.ondownload = ondownload;\n",
       "}\n",
       "\n",
       "mpl.figure.prototype._init_header = function() {\n",
       "    var titlebar = $(\n",
       "        '<div class=\"ui-dialog-titlebar ui-widget-header ui-corner-all ' +\n",
       "        'ui-helper-clearfix\"/>');\n",
       "    var titletext = $(\n",
       "        '<div class=\"ui-dialog-title\" style=\"width: 100%; ' +\n",
       "        'text-align: center; padding: 3px;\"/>');\n",
       "    titlebar.append(titletext)\n",
       "    this.root.append(titlebar);\n",
       "    this.header = titletext[0];\n",
       "}\n",
       "\n",
       "\n",
       "\n",
       "mpl.figure.prototype._canvas_extra_style = function(canvas_div) {\n",
       "\n",
       "}\n",
       "\n",
       "\n",
       "mpl.figure.prototype._root_extra_style = function(canvas_div) {\n",
       "\n",
       "}\n",
       "\n",
       "mpl.figure.prototype._init_canvas = function() {\n",
       "    var fig = this;\n",
       "\n",
       "    var canvas_div = $('<div/>');\n",
       "\n",
       "    canvas_div.attr('style', 'position: relative; clear: both; outline: 0');\n",
       "\n",
       "    function canvas_keyboard_event(event) {\n",
       "        return fig.key_event(event, event['data']);\n",
       "    }\n",
       "\n",
       "    canvas_div.keydown('key_press', canvas_keyboard_event);\n",
       "    canvas_div.keyup('key_release', canvas_keyboard_event);\n",
       "    this.canvas_div = canvas_div\n",
       "    this._canvas_extra_style(canvas_div)\n",
       "    this.root.append(canvas_div);\n",
       "\n",
       "    var canvas = $('<canvas/>');\n",
       "    canvas.addClass('mpl-canvas');\n",
       "    canvas.attr('style', \"left: 0; top: 0; z-index: 0; outline: 0\")\n",
       "\n",
       "    this.canvas = canvas[0];\n",
       "    this.context = canvas[0].getContext(\"2d\");\n",
       "\n",
       "    var backingStore = this.context.backingStorePixelRatio ||\n",
       "\tthis.context.webkitBackingStorePixelRatio ||\n",
       "\tthis.context.mozBackingStorePixelRatio ||\n",
       "\tthis.context.msBackingStorePixelRatio ||\n",
       "\tthis.context.oBackingStorePixelRatio ||\n",
       "\tthis.context.backingStorePixelRatio || 1;\n",
       "\n",
       "    mpl.ratio = (window.devicePixelRatio || 1) / backingStore;\n",
       "\n",
       "    var rubberband = $('<canvas/>');\n",
       "    rubberband.attr('style', \"position: absolute; left: 0; top: 0; z-index: 1;\")\n",
       "\n",
       "    var pass_mouse_events = true;\n",
       "\n",
       "    canvas_div.resizable({\n",
       "        start: function(event, ui) {\n",
       "            pass_mouse_events = false;\n",
       "        },\n",
       "        resize: function(event, ui) {\n",
       "            fig.request_resize(ui.size.width, ui.size.height);\n",
       "        },\n",
       "        stop: function(event, ui) {\n",
       "            pass_mouse_events = true;\n",
       "            fig.request_resize(ui.size.width, ui.size.height);\n",
       "        },\n",
       "    });\n",
       "\n",
       "    function mouse_event_fn(event) {\n",
       "        if (pass_mouse_events)\n",
       "            return fig.mouse_event(event, event['data']);\n",
       "    }\n",
       "\n",
       "    rubberband.mousedown('button_press', mouse_event_fn);\n",
       "    rubberband.mouseup('button_release', mouse_event_fn);\n",
       "    // Throttle sequential mouse events to 1 every 20ms.\n",
       "    rubberband.mousemove('motion_notify', mouse_event_fn);\n",
       "\n",
       "    rubberband.mouseenter('figure_enter', mouse_event_fn);\n",
       "    rubberband.mouseleave('figure_leave', mouse_event_fn);\n",
       "\n",
       "    canvas_div.on(\"wheel\", function (event) {\n",
       "        event = event.originalEvent;\n",
       "        event['data'] = 'scroll'\n",
       "        if (event.deltaY < 0) {\n",
       "            event.step = 1;\n",
       "        } else {\n",
       "            event.step = -1;\n",
       "        }\n",
       "        mouse_event_fn(event);\n",
       "    });\n",
       "\n",
       "    canvas_div.append(canvas);\n",
       "    canvas_div.append(rubberband);\n",
       "\n",
       "    this.rubberband = rubberband;\n",
       "    this.rubberband_canvas = rubberband[0];\n",
       "    this.rubberband_context = rubberband[0].getContext(\"2d\");\n",
       "    this.rubberband_context.strokeStyle = \"#000000\";\n",
       "\n",
       "    this._resize_canvas = function(width, height) {\n",
       "        // Keep the size of the canvas, canvas container, and rubber band\n",
       "        // canvas in synch.\n",
       "        canvas_div.css('width', width)\n",
       "        canvas_div.css('height', height)\n",
       "\n",
       "        canvas.attr('width', width * mpl.ratio);\n",
       "        canvas.attr('height', height * mpl.ratio);\n",
       "        canvas.attr('style', 'width: ' + width + 'px; height: ' + height + 'px;');\n",
       "\n",
       "        rubberband.attr('width', width);\n",
       "        rubberband.attr('height', height);\n",
       "    }\n",
       "\n",
       "    // Set the figure to an initial 600x600px, this will subsequently be updated\n",
       "    // upon first draw.\n",
       "    this._resize_canvas(600, 600);\n",
       "\n",
       "    // Disable right mouse context menu.\n",
       "    $(this.rubberband_canvas).bind(\"contextmenu\",function(e){\n",
       "        return false;\n",
       "    });\n",
       "\n",
       "    function set_focus () {\n",
       "        canvas.focus();\n",
       "        canvas_div.focus();\n",
       "    }\n",
       "\n",
       "    window.setTimeout(set_focus, 100);\n",
       "}\n",
       "\n",
       "mpl.figure.prototype._init_toolbar = function() {\n",
       "    var fig = this;\n",
       "\n",
       "    var nav_element = $('<div/>');\n",
       "    nav_element.attr('style', 'width: 100%');\n",
       "    this.root.append(nav_element);\n",
       "\n",
       "    // Define a callback function for later on.\n",
       "    function toolbar_event(event) {\n",
       "        return fig.toolbar_button_onclick(event['data']);\n",
       "    }\n",
       "    function toolbar_mouse_event(event) {\n",
       "        return fig.toolbar_button_onmouseover(event['data']);\n",
       "    }\n",
       "\n",
       "    for(var toolbar_ind in mpl.toolbar_items) {\n",
       "        var name = mpl.toolbar_items[toolbar_ind][0];\n",
       "        var tooltip = mpl.toolbar_items[toolbar_ind][1];\n",
       "        var image = mpl.toolbar_items[toolbar_ind][2];\n",
       "        var method_name = mpl.toolbar_items[toolbar_ind][3];\n",
       "\n",
       "        if (!name) {\n",
       "            // put a spacer in here.\n",
       "            continue;\n",
       "        }\n",
       "        var button = $('<button/>');\n",
       "        button.addClass('ui-button ui-widget ui-state-default ui-corner-all ' +\n",
       "                        'ui-button-icon-only');\n",
       "        button.attr('role', 'button');\n",
       "        button.attr('aria-disabled', 'false');\n",
       "        button.click(method_name, toolbar_event);\n",
       "        button.mouseover(tooltip, toolbar_mouse_event);\n",
       "\n",
       "        var icon_img = $('<span/>');\n",
       "        icon_img.addClass('ui-button-icon-primary ui-icon');\n",
       "        icon_img.addClass(image);\n",
       "        icon_img.addClass('ui-corner-all');\n",
       "\n",
       "        var tooltip_span = $('<span/>');\n",
       "        tooltip_span.addClass('ui-button-text');\n",
       "        tooltip_span.html(tooltip);\n",
       "\n",
       "        button.append(icon_img);\n",
       "        button.append(tooltip_span);\n",
       "\n",
       "        nav_element.append(button);\n",
       "    }\n",
       "\n",
       "    var fmt_picker_span = $('<span/>');\n",
       "\n",
       "    var fmt_picker = $('<select/>');\n",
       "    fmt_picker.addClass('mpl-toolbar-option ui-widget ui-widget-content');\n",
       "    fmt_picker_span.append(fmt_picker);\n",
       "    nav_element.append(fmt_picker_span);\n",
       "    this.format_dropdown = fmt_picker[0];\n",
       "\n",
       "    for (var ind in mpl.extensions) {\n",
       "        var fmt = mpl.extensions[ind];\n",
       "        var option = $(\n",
       "            '<option/>', {selected: fmt === mpl.default_extension}).html(fmt);\n",
       "        fmt_picker.append(option);\n",
       "    }\n",
       "\n",
       "    // Add hover states to the ui-buttons\n",
       "    $( \".ui-button\" ).hover(\n",
       "        function() { $(this).addClass(\"ui-state-hover\");},\n",
       "        function() { $(this).removeClass(\"ui-state-hover\");}\n",
       "    );\n",
       "\n",
       "    var status_bar = $('<span class=\"mpl-message\"/>');\n",
       "    nav_element.append(status_bar);\n",
       "    this.message = status_bar[0];\n",
       "}\n",
       "\n",
       "mpl.figure.prototype.request_resize = function(x_pixels, y_pixels) {\n",
       "    // Request matplotlib to resize the figure. Matplotlib will then trigger a resize in the client,\n",
       "    // which will in turn request a refresh of the image.\n",
       "    this.send_message('resize', {'width': x_pixels, 'height': y_pixels});\n",
       "}\n",
       "\n",
       "mpl.figure.prototype.send_message = function(type, properties) {\n",
       "    properties['type'] = type;\n",
       "    properties['figure_id'] = this.id;\n",
       "    this.ws.send(JSON.stringify(properties));\n",
       "}\n",
       "\n",
       "mpl.figure.prototype.send_draw_message = function() {\n",
       "    if (!this.waiting) {\n",
       "        this.waiting = true;\n",
       "        this.ws.send(JSON.stringify({type: \"draw\", figure_id: this.id}));\n",
       "    }\n",
       "}\n",
       "\n",
       "\n",
       "mpl.figure.prototype.handle_save = function(fig, msg) {\n",
       "    var format_dropdown = fig.format_dropdown;\n",
       "    var format = format_dropdown.options[format_dropdown.selectedIndex].value;\n",
       "    fig.ondownload(fig, format);\n",
       "}\n",
       "\n",
       "\n",
       "mpl.figure.prototype.handle_resize = function(fig, msg) {\n",
       "    var size = msg['size'];\n",
       "    if (size[0] != fig.canvas.width || size[1] != fig.canvas.height) {\n",
       "        fig._resize_canvas(size[0], size[1]);\n",
       "        fig.send_message(\"refresh\", {});\n",
       "    };\n",
       "}\n",
       "\n",
       "mpl.figure.prototype.handle_rubberband = function(fig, msg) {\n",
       "    var x0 = msg['x0'] / mpl.ratio;\n",
       "    var y0 = (fig.canvas.height - msg['y0']) / mpl.ratio;\n",
       "    var x1 = msg['x1'] / mpl.ratio;\n",
       "    var y1 = (fig.canvas.height - msg['y1']) / mpl.ratio;\n",
       "    x0 = Math.floor(x0) + 0.5;\n",
       "    y0 = Math.floor(y0) + 0.5;\n",
       "    x1 = Math.floor(x1) + 0.5;\n",
       "    y1 = Math.floor(y1) + 0.5;\n",
       "    var min_x = Math.min(x0, x1);\n",
       "    var min_y = Math.min(y0, y1);\n",
       "    var width = Math.abs(x1 - x0);\n",
       "    var height = Math.abs(y1 - y0);\n",
       "\n",
       "    fig.rubberband_context.clearRect(\n",
       "        0, 0, fig.canvas.width, fig.canvas.height);\n",
       "\n",
       "    fig.rubberband_context.strokeRect(min_x, min_y, width, height);\n",
       "}\n",
       "\n",
       "mpl.figure.prototype.handle_figure_label = function(fig, msg) {\n",
       "    // Updates the figure title.\n",
       "    fig.header.textContent = msg['label'];\n",
       "}\n",
       "\n",
       "mpl.figure.prototype.handle_cursor = function(fig, msg) {\n",
       "    var cursor = msg['cursor'];\n",
       "    switch(cursor)\n",
       "    {\n",
       "    case 0:\n",
       "        cursor = 'pointer';\n",
       "        break;\n",
       "    case 1:\n",
       "        cursor = 'default';\n",
       "        break;\n",
       "    case 2:\n",
       "        cursor = 'crosshair';\n",
       "        break;\n",
       "    case 3:\n",
       "        cursor = 'move';\n",
       "        break;\n",
       "    }\n",
       "    fig.rubberband_canvas.style.cursor = cursor;\n",
       "}\n",
       "\n",
       "mpl.figure.prototype.handle_message = function(fig, msg) {\n",
       "    fig.message.textContent = msg['message'];\n",
       "}\n",
       "\n",
       "mpl.figure.prototype.handle_draw = function(fig, msg) {\n",
       "    // Request the server to send over a new figure.\n",
       "    fig.send_draw_message();\n",
       "}\n",
       "\n",
       "mpl.figure.prototype.handle_image_mode = function(fig, msg) {\n",
       "    fig.image_mode = msg['mode'];\n",
       "}\n",
       "\n",
       "mpl.figure.prototype.updated_canvas_event = function() {\n",
       "    // Called whenever the canvas gets updated.\n",
       "    this.send_message(\"ack\", {});\n",
       "}\n",
       "\n",
       "// A function to construct a web socket function for onmessage handling.\n",
       "// Called in the figure constructor.\n",
       "mpl.figure.prototype._make_on_message_function = function(fig) {\n",
       "    return function socket_on_message(evt) {\n",
       "        if (evt.data instanceof Blob) {\n",
       "            /* FIXME: We get \"Resource interpreted as Image but\n",
       "             * transferred with MIME type text/plain:\" errors on\n",
       "             * Chrome.  But how to set the MIME type?  It doesn't seem\n",
       "             * to be part of the websocket stream */\n",
       "            evt.data.type = \"image/png\";\n",
       "\n",
       "            /* Free the memory for the previous frames */\n",
       "            if (fig.imageObj.src) {\n",
       "                (window.URL || window.webkitURL).revokeObjectURL(\n",
       "                    fig.imageObj.src);\n",
       "            }\n",
       "\n",
       "            fig.imageObj.src = (window.URL || window.webkitURL).createObjectURL(\n",
       "                evt.data);\n",
       "            fig.updated_canvas_event();\n",
       "            fig.waiting = false;\n",
       "            return;\n",
       "        }\n",
       "        else if (typeof evt.data === 'string' && evt.data.slice(0, 21) == \"data:image/png;base64\") {\n",
       "            fig.imageObj.src = evt.data;\n",
       "            fig.updated_canvas_event();\n",
       "            fig.waiting = false;\n",
       "            return;\n",
       "        }\n",
       "\n",
       "        var msg = JSON.parse(evt.data);\n",
       "        var msg_type = msg['type'];\n",
       "\n",
       "        // Call the  \"handle_{type}\" callback, which takes\n",
       "        // the figure and JSON message as its only arguments.\n",
       "        try {\n",
       "            var callback = fig[\"handle_\" + msg_type];\n",
       "        } catch (e) {\n",
       "            console.log(\"No handler for the '\" + msg_type + \"' message type: \", msg);\n",
       "            return;\n",
       "        }\n",
       "\n",
       "        if (callback) {\n",
       "            try {\n",
       "                // console.log(\"Handling '\" + msg_type + \"' message: \", msg);\n",
       "                callback(fig, msg);\n",
       "            } catch (e) {\n",
       "                console.log(\"Exception inside the 'handler_\" + msg_type + \"' callback:\", e, e.stack, msg);\n",
       "            }\n",
       "        }\n",
       "    };\n",
       "}\n",
       "\n",
       "// from http://stackoverflow.com/questions/1114465/getting-mouse-location-in-canvas\n",
       "mpl.findpos = function(e) {\n",
       "    //this section is from http://www.quirksmode.org/js/events_properties.html\n",
       "    var targ;\n",
       "    if (!e)\n",
       "        e = window.event;\n",
       "    if (e.target)\n",
       "        targ = e.target;\n",
       "    else if (e.srcElement)\n",
       "        targ = e.srcElement;\n",
       "    if (targ.nodeType == 3) // defeat Safari bug\n",
       "        targ = targ.parentNode;\n",
       "\n",
       "    // jQuery normalizes the pageX and pageY\n",
       "    // pageX,Y are the mouse positions relative to the document\n",
       "    // offset() returns the position of the element relative to the document\n",
       "    var x = e.pageX - $(targ).offset().left;\n",
       "    var y = e.pageY - $(targ).offset().top;\n",
       "\n",
       "    return {\"x\": x, \"y\": y};\n",
       "};\n",
       "\n",
       "/*\n",
       " * return a copy of an object with only non-object keys\n",
       " * we need this to avoid circular references\n",
       " * http://stackoverflow.com/a/24161582/3208463\n",
       " */\n",
       "function simpleKeys (original) {\n",
       "  return Object.keys(original).reduce(function (obj, key) {\n",
       "    if (typeof original[key] !== 'object')\n",
       "        obj[key] = original[key]\n",
       "    return obj;\n",
       "  }, {});\n",
       "}\n",
       "\n",
       "mpl.figure.prototype.mouse_event = function(event, name) {\n",
       "    var canvas_pos = mpl.findpos(event)\n",
       "\n",
       "    if (name === 'button_press')\n",
       "    {\n",
       "        this.canvas.focus();\n",
       "        this.canvas_div.focus();\n",
       "    }\n",
       "\n",
       "    var x = canvas_pos.x * mpl.ratio;\n",
       "    var y = canvas_pos.y * mpl.ratio;\n",
       "\n",
       "    this.send_message(name, {x: x, y: y, button: event.button,\n",
       "                             step: event.step,\n",
       "                             guiEvent: simpleKeys(event)});\n",
       "\n",
       "    /* This prevents the web browser from automatically changing to\n",
       "     * the text insertion cursor when the button is pressed.  We want\n",
       "     * to control all of the cursor setting manually through the\n",
       "     * 'cursor' event from matplotlib */\n",
       "    event.preventDefault();\n",
       "    return false;\n",
       "}\n",
       "\n",
       "mpl.figure.prototype._key_event_extra = function(event, name) {\n",
       "    // Handle any extra behaviour associated with a key event\n",
       "}\n",
       "\n",
       "mpl.figure.prototype.key_event = function(event, name) {\n",
       "\n",
       "    // Prevent repeat events\n",
       "    if (name == 'key_press')\n",
       "    {\n",
       "        if (event.which === this._key)\n",
       "            return;\n",
       "        else\n",
       "            this._key = event.which;\n",
       "    }\n",
       "    if (name == 'key_release')\n",
       "        this._key = null;\n",
       "\n",
       "    var value = '';\n",
       "    if (event.ctrlKey && event.which != 17)\n",
       "        value += \"ctrl+\";\n",
       "    if (event.altKey && event.which != 18)\n",
       "        value += \"alt+\";\n",
       "    if (event.shiftKey && event.which != 16)\n",
       "        value += \"shift+\";\n",
       "\n",
       "    value += 'k';\n",
       "    value += event.which.toString();\n",
       "\n",
       "    this._key_event_extra(event, name);\n",
       "\n",
       "    this.send_message(name, {key: value,\n",
       "                             guiEvent: simpleKeys(event)});\n",
       "    return false;\n",
       "}\n",
       "\n",
       "mpl.figure.prototype.toolbar_button_onclick = function(name) {\n",
       "    if (name == 'download') {\n",
       "        this.handle_save(this, null);\n",
       "    } else {\n",
       "        this.send_message(\"toolbar_button\", {name: name});\n",
       "    }\n",
       "};\n",
       "\n",
       "mpl.figure.prototype.toolbar_button_onmouseover = function(tooltip) {\n",
       "    this.message.textContent = tooltip;\n",
       "};\n",
       "mpl.toolbar_items = [[\"Home\", \"Reset original view\", \"fa fa-home icon-home\", \"home\"], [\"Back\", \"Back to previous view\", \"fa fa-arrow-left icon-arrow-left\", \"back\"], [\"Forward\", \"Forward to next view\", \"fa fa-arrow-right icon-arrow-right\", \"forward\"], [\"\", \"\", \"\", \"\"], [\"Pan\", \"Pan axes with left mouse, zoom with right\", \"fa fa-arrows icon-move\", \"pan\"], [\"Zoom\", \"Zoom to rectangle\", \"fa fa-square-o icon-check-empty\", \"zoom\"], [\"\", \"\", \"\", \"\"], [\"Download\", \"Download plot\", \"fa fa-floppy-o icon-save\", \"download\"]];\n",
       "\n",
       "mpl.extensions = [\"eps\", \"jpeg\", \"pdf\", \"png\", \"ps\", \"raw\", \"svg\", \"tif\"];\n",
       "\n",
       "mpl.default_extension = \"png\";var comm_websocket_adapter = function(comm) {\n",
       "    // Create a \"websocket\"-like object which calls the given IPython comm\n",
       "    // object with the appropriate methods. Currently this is a non binary\n",
       "    // socket, so there is still some room for performance tuning.\n",
       "    var ws = {};\n",
       "\n",
       "    ws.close = function() {\n",
       "        comm.close()\n",
       "    };\n",
       "    ws.send = function(m) {\n",
       "        //console.log('sending', m);\n",
       "        comm.send(m);\n",
       "    };\n",
       "    // Register the callback with on_msg.\n",
       "    comm.on_msg(function(msg) {\n",
       "        //console.log('receiving', msg['content']['data'], msg);\n",
       "        // Pass the mpl event to the overridden (by mpl) onmessage function.\n",
       "        ws.onmessage(msg['content']['data'])\n",
       "    });\n",
       "    return ws;\n",
       "}\n",
       "\n",
       "mpl.mpl_figure_comm = function(comm, msg) {\n",
       "    // This is the function which gets called when the mpl process\n",
       "    // starts-up an IPython Comm through the \"matplotlib\" channel.\n",
       "\n",
       "    var id = msg.content.data.id;\n",
       "    // Get hold of the div created by the display call when the Comm\n",
       "    // socket was opened in Python.\n",
       "    var element = $(\"#\" + id);\n",
       "    var ws_proxy = comm_websocket_adapter(comm)\n",
       "\n",
       "    function ondownload(figure, format) {\n",
       "        window.open(figure.imageObj.src);\n",
       "    }\n",
       "\n",
       "    var fig = new mpl.figure(id, ws_proxy,\n",
       "                           ondownload,\n",
       "                           element.get(0));\n",
       "\n",
       "    // Call onopen now - mpl needs it, as it is assuming we've passed it a real\n",
       "    // web socket which is closed, not our websocket->open comm proxy.\n",
       "    ws_proxy.onopen();\n",
       "\n",
       "    fig.parent_element = element.get(0);\n",
       "    fig.cell_info = mpl.find_output_cell(\"<div id='\" + id + \"'></div>\");\n",
       "    if (!fig.cell_info) {\n",
       "        console.error(\"Failed to find cell for figure\", id, fig);\n",
       "        return;\n",
       "    }\n",
       "\n",
       "    var output_index = fig.cell_info[2]\n",
       "    var cell = fig.cell_info[0];\n",
       "\n",
       "};\n",
       "\n",
       "mpl.figure.prototype.handle_close = function(fig, msg) {\n",
       "    var width = fig.canvas.width/mpl.ratio\n",
       "    fig.root.unbind('remove')\n",
       "\n",
       "    // Update the output cell to use the data from the current canvas.\n",
       "    fig.push_to_output();\n",
       "    var dataURL = fig.canvas.toDataURL();\n",
       "    // Re-enable the keyboard manager in IPython - without this line, in FF,\n",
       "    // the notebook keyboard shortcuts fail.\n",
       "    IPython.keyboard_manager.enable()\n",
       "    $(fig.parent_element).html('<img src=\"' + dataURL + '\" width=\"' + width + '\">');\n",
       "    fig.close_ws(fig, msg);\n",
       "}\n",
       "\n",
       "mpl.figure.prototype.close_ws = function(fig, msg){\n",
       "    fig.send_message('closing', msg);\n",
       "    // fig.ws.close()\n",
       "}\n",
       "\n",
       "mpl.figure.prototype.push_to_output = function(remove_interactive) {\n",
       "    // Turn the data on the canvas into data in the output cell.\n",
       "    var width = this.canvas.width/mpl.ratio\n",
       "    var dataURL = this.canvas.toDataURL();\n",
       "    this.cell_info[1]['text/html'] = '<img src=\"' + dataURL + '\" width=\"' + width + '\">';\n",
       "}\n",
       "\n",
       "mpl.figure.prototype.updated_canvas_event = function() {\n",
       "    // Tell IPython that the notebook contents must change.\n",
       "    IPython.notebook.set_dirty(true);\n",
       "    this.send_message(\"ack\", {});\n",
       "    var fig = this;\n",
       "    // Wait a second, then push the new image to the DOM so\n",
       "    // that it is saved nicely (might be nice to debounce this).\n",
       "    setTimeout(function () { fig.push_to_output() }, 1000);\n",
       "}\n",
       "\n",
       "mpl.figure.prototype._init_toolbar = function() {\n",
       "    var fig = this;\n",
       "\n",
       "    var nav_element = $('<div/>');\n",
       "    nav_element.attr('style', 'width: 100%');\n",
       "    this.root.append(nav_element);\n",
       "\n",
       "    // Define a callback function for later on.\n",
       "    function toolbar_event(event) {\n",
       "        return fig.toolbar_button_onclick(event['data']);\n",
       "    }\n",
       "    function toolbar_mouse_event(event) {\n",
       "        return fig.toolbar_button_onmouseover(event['data']);\n",
       "    }\n",
       "\n",
       "    for(var toolbar_ind in mpl.toolbar_items){\n",
       "        var name = mpl.toolbar_items[toolbar_ind][0];\n",
       "        var tooltip = mpl.toolbar_items[toolbar_ind][1];\n",
       "        var image = mpl.toolbar_items[toolbar_ind][2];\n",
       "        var method_name = mpl.toolbar_items[toolbar_ind][3];\n",
       "\n",
       "        if (!name) { continue; };\n",
       "\n",
       "        var button = $('<button class=\"btn btn-default\" href=\"#\" title=\"' + name + '\"><i class=\"fa ' + image + ' fa-lg\"></i></button>');\n",
       "        button.click(method_name, toolbar_event);\n",
       "        button.mouseover(tooltip, toolbar_mouse_event);\n",
       "        nav_element.append(button);\n",
       "    }\n",
       "\n",
       "    // Add the status bar.\n",
       "    var status_bar = $('<span class=\"mpl-message\" style=\"text-align:right; float: right;\"/>');\n",
       "    nav_element.append(status_bar);\n",
       "    this.message = status_bar[0];\n",
       "\n",
       "    // Add the close button to the window.\n",
       "    var buttongrp = $('<div class=\"btn-group inline pull-right\"></div>');\n",
       "    var button = $('<button class=\"btn btn-mini btn-primary\" href=\"#\" title=\"Stop Interaction\"><i class=\"fa fa-power-off icon-remove icon-large\"></i></button>');\n",
       "    button.click(function (evt) { fig.handle_close(fig, {}); } );\n",
       "    button.mouseover('Stop Interaction', toolbar_mouse_event);\n",
       "    buttongrp.append(button);\n",
       "    var titlebar = this.root.find($('.ui-dialog-titlebar'));\n",
       "    titlebar.prepend(buttongrp);\n",
       "}\n",
       "\n",
       "mpl.figure.prototype._root_extra_style = function(el){\n",
       "    var fig = this\n",
       "    el.on(\"remove\", function(){\n",
       "\tfig.close_ws(fig, {});\n",
       "    });\n",
       "}\n",
       "\n",
       "mpl.figure.prototype._canvas_extra_style = function(el){\n",
       "    // this is important to make the div 'focusable\n",
       "    el.attr('tabindex', 0)\n",
       "    // reach out to IPython and tell the keyboard manager to turn it's self\n",
       "    // off when our div gets focus\n",
       "\n",
       "    // location in version 3\n",
       "    if (IPython.notebook.keyboard_manager) {\n",
       "        IPython.notebook.keyboard_manager.register_events(el);\n",
       "    }\n",
       "    else {\n",
       "        // location in version 2\n",
       "        IPython.keyboard_manager.register_events(el);\n",
       "    }\n",
       "\n",
       "}\n",
       "\n",
       "mpl.figure.prototype._key_event_extra = function(event, name) {\n",
       "    var manager = IPython.notebook.keyboard_manager;\n",
       "    if (!manager)\n",
       "        manager = IPython.keyboard_manager;\n",
       "\n",
       "    // Check for shift+enter\n",
       "    if (event.shiftKey && event.which == 13) {\n",
       "        this.canvas_div.blur();\n",
       "        event.shiftKey = false;\n",
       "        // Send a \"J\" for go to next cell\n",
       "        event.which = 74;\n",
       "        event.keyCode = 74;\n",
       "        manager.command_mode();\n",
       "        manager.handle_keydown(event);\n",
       "    }\n",
       "}\n",
       "\n",
       "mpl.figure.prototype.handle_save = function(fig, msg) {\n",
       "    fig.ondownload(fig, null);\n",
       "}\n",
       "\n",
       "\n",
       "mpl.find_output_cell = function(html_output) {\n",
       "    // Return the cell and output element which can be found *uniquely* in the notebook.\n",
       "    // Note - this is a bit hacky, but it is done because the \"notebook_saving.Notebook\"\n",
       "    // IPython event is triggered only after the cells have been serialised, which for\n",
       "    // our purposes (turning an active figure into a static one), is too late.\n",
       "    var cells = IPython.notebook.get_cells();\n",
       "    var ncells = cells.length;\n",
       "    for (var i=0; i<ncells; i++) {\n",
       "        var cell = cells[i];\n",
       "        if (cell.cell_type === 'code'){\n",
       "            for (var j=0; j<cell.output_area.outputs.length; j++) {\n",
       "                var data = cell.output_area.outputs[j];\n",
       "                if (data.data) {\n",
       "                    // IPython >= 3 moved mimebundle to data attribute of output\n",
       "                    data = data.data;\n",
       "                }\n",
       "                if (data['text/html'] == html_output) {\n",
       "                    return [cell, data, j];\n",
       "                }\n",
       "            }\n",
       "        }\n",
       "    }\n",
       "}\n",
       "\n",
       "// Register the function which deals with the matplotlib target/channel.\n",
       "// The kernel may be null if the page has been refreshed.\n",
       "if (IPython.notebook.kernel != null) {\n",
       "    IPython.notebook.kernel.comm_manager.register_target('matplotlib', mpl.mpl_figure_comm);\n",
       "}\n"
      ],
      "text/plain": [
       "<IPython.core.display.Javascript object>"
      ]
     },
     "metadata": {},
     "output_type": "display_data"
    },
    {
     "data": {
      "text/html": [
       "<img src=\"data:image/png;base64,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\" width=\"639.9999861283738\">"
      ],
      "text/plain": [
       "<IPython.core.display.HTML object>"
      ]
     },
     "metadata": {},
     "output_type": "display_data"
    }
   ],
   "source": [
    "#%%prun\n",
    "bino_file = \"/Volumes/LaCie 8TB/wfsdat/20180208/wfs_ff_cal_img_2018.0208.074052.fits\"\n",
    "#bino_file = \"/Users/tim/MMT/mmtwfs/mmtwfs/data/test_data/wfs_ff_cal_img_2017.1113.111402.fits\"\n",
    "#bino_file = \"/Volumes/LaCie 8TB/wfsdat/20180209/wfs_ff_cal_img_2018.0209.114054.fits\"\n",
    "#bino_file = \"/Volumes/LaCie 8TB/wfsdat/20180210/wfs_ff_cal_img_2018.0210.095719.fits\"\n",
    "#bino_file = \"/Volumes/LaCie 8TB/wfsdat/20180210/wfs_ff_cal_img_2018.0210.102615.fits\"\n",
    "#bino_file = \"/Volumes/LaCie 8TB/wfsdat/20180604/wfs_ff_cal_img_2018.0604.052401.fits\"\n",
    "results = bino.measure_slopes(bino_file, mode=\"binospec\", plot=True)\n",
    "results['figures']['slopes'].show()"
   ]
  },
  {
   "cell_type": "code",
   "execution_count": null,
   "metadata": {},
   "outputs": [],
   "source": [
    "mask = mk_wfs_mask(results['data'][106:406,100:400], outfile=\"/Users/tim/MMT/mmtwfs/mmtwfs/data/ref_images/bino_mask.fits\")"
   ]
  },
  {
   "cell_type": "code",
   "execution_count": null,
   "metadata": {},
   "outputs": [],
   "source": [
    "refaps = bino.modes['binospec']['reference'].masked_apertures\n",
    "fig, ax = plt.subplots()\n",
    "fit = results['grid_fit']\n",
    "refx = refaps['xcentroid'] * (fit['scale'] + refaps['xcentroid'] * fit['xcoma']) + fit['xcen']\n",
    "refy = refaps['ycentroid'] * (fit['scale'] + refaps['ycentroid'] * fit['ycoma']) + fit['ycen']\n",
    "x, y = results['apertures'].positions.transpose()[0], results['apertures'].positions.transpose()[1]\n",
    "spacing = 0.5*(results['xspacing'] + results['yspacing'])\n",
    "ax.scatter(refx, refy)\n",
    "ax.set_aspect('equal')\n",
    "ax.scatter(x, y)\n",
    "ax.set_xlim(0, 512)\n",
    "ax.set_ylim(0, 512)\n",
    "fig.show()\n",
    "\n",
    "results['grid_fit']"
   ]
  },
  {
   "cell_type": "code",
   "execution_count": null,
   "metadata": {},
   "outputs": [],
   "source": [
    "#%%prun\n",
    "zresults = bino.fit_wavefront(results, plot=True)\n",
    "zvec = zresults['zernike']\n",
    "print(zresults['residual_rms'])\n",
    "#zvec.normalize()\n",
    "print(zvec.pretty_print())\n",
    "#print(zvec)\n",
    "zresults['resid_plot'].show()"
   ]
  },
  {
   "cell_type": "code",
   "execution_count": null,
   "metadata": {},
   "outputs": [],
   "source": [
    "zvec.fringe_bar_chart().show()"
   ]
  },
  {
   "cell_type": "code",
   "execution_count": null,
   "metadata": {},
   "outputs": [],
   "source": [
    "zvec.bar_chart(last_mode=22).show()"
   ]
  },
  {
   "cell_type": "code",
   "execution_count": null,
   "metadata": {},
   "outputs": [],
   "source": [
    "zvec.plot_map().show()"
   ]
  },
  {
   "cell_type": "code",
   "execution_count": null,
   "metadata": {},
   "outputs": [],
   "source": [
    "zv = ZernikeVector(Z38=100)\n",
    "ft, m1c, zv_masked = bino.telescope.calculate_primary_corrections(zvec, mask=['Z22'])\n",
    "bino.telescope.to_rcell(ft, filename=\"null_forces\")"
   ]
  },
  {
   "cell_type": "code",
   "execution_count": null,
   "metadata": {},
   "outputs": [],
   "source": [
    "forces, m1focus, zv_masked = bino.calculate_primary(zvec, threshold=0.25*zresults['residual_rms'])"
   ]
  },
  {
   "cell_type": "code",
   "execution_count": null,
   "metadata": {},
   "outputs": [],
   "source": [
    "bino.modes['binospec']['reference']"
   ]
  },
  {
   "cell_type": "code",
   "execution_count": null,
   "metadata": {},
   "outputs": [],
   "source": [
    "bino.modes['binospec']['reference']['xspacing'], bino.modes['binospec']['reference']['yspacing']"
   ]
  },
  {
   "cell_type": "code",
   "execution_count": null,
   "metadata": {},
   "outputs": [],
   "source": [
    "bino.modes['binospec']['reference']['figure'].show()"
   ]
  },
  {
   "cell_type": "markdown",
   "metadata": {},
   "source": [
    "# MMIRS Dev Section"
   ]
  },
  {
   "cell_type": "code",
   "execution_count": null,
   "metadata": {},
   "outputs": [],
   "source": [
    "mmirs = WFSFactory(wfs=\"mmirs\")"
   ]
  },
  {
   "cell_type": "code",
   "execution_count": null,
   "metadata": {},
   "outputs": [],
   "source": [
    "plt.close('all')\n",
    "mmirs_file = \"/Users/tim/MMT/wfsdat/20181120/mmirs_wfs_%04d.fits\" % 157\n",
    "mmirs_file = \"/Volumes/LaCie 8TB/wfsdat/20181221/mmirs_wfs_%04d.fits\" % 261\n",
    "mmirs_file = \"/Users/tim/MMT/mmtwfs/mmtwfs/data/test_data/mmirs_wfs_0150.fits\"\n",
    "#mmirs_file = \"/Volumes/LaCie 8TB/wfsdat/20180511/mmirs_wfs_0265.fits\"\n",
    "#mmirs_file = \"/Users/tim/MMT/wfsdat/test/mmirs_wfs_0192.fits\"\n",
    "#mmirs_file = \"/Volumes/LaCie 8TB/wfsdat/20181121/mmirs_wfs_0201.fits\"\n",
    "#mmirs_file = \"/Users/tim/MMT/wfsdat/20181120/mmirs_wfs_0005.fits\"\n",
    "results = mmirs.measure_slopes(mmirs_file, plot=True)\n",
    "results['figures']['slopes'].show()"
   ]
  },
  {
   "cell_type": "code",
   "execution_count": null,
   "metadata": {},
   "outputs": [],
   "source": [
    "hdu = fits.PrimaryHDU(results['data'])\n",
    "hdu.writeto('data.fits', overwrite=True)\n",
    "mmirs.telescope.obscuration"
   ]
  },
  {
   "cell_type": "code",
   "execution_count": null,
   "metadata": {
    "scrolled": false
   },
   "outputs": [],
   "source": [
    "zresults = mmirs.fit_wavefront(results, plot=True)\n",
    "zvec = zresults['zernike']\n",
    "print(zresults['residual_rms'])\n",
    "#zvec.normalize()\n",
    "print(zvec.pretty_print())\n",
    "zresults['resid_plot'].show()"
   ]
  },
  {
   "cell_type": "code",
   "execution_count": null,
   "metadata": {},
   "outputs": [],
   "source": [
    "zresults['zernike'].fringe_bar_chart().show()"
   ]
  },
  {
   "cell_type": "code",
   "execution_count": null,
   "metadata": {},
   "outputs": [],
   "source": [
    "fig, ax = plt.subplots()\n",
    "norm = wfs_norm(results['data'])\n",
    "ax.imshow(results['data'], cmap='Greys', origin='lower', norm=norm, interpolation='None')\n",
    "mmirs.modes['mmirs1']['reference'].photapers.plot(color='red', lw=1.5, alpha=0.1, ax=ax)\n",
    "plt.show()"
   ]
  },
  {
   "cell_type": "code",
   "execution_count": null,
   "metadata": {},
   "outputs": [],
   "source": [
    "plt.close('all')"
   ]
  },
  {
   "cell_type": "code",
   "execution_count": null,
   "metadata": {},
   "outputs": [],
   "source": [
    "refaps = mmirs.modes['mmirs1']['reference'].masked_apertures\n",
    "fig, ax = plt.subplots()\n",
    "fit = results['grid_fit']\n",
    "refx = refaps['xcentroid'] * (fit['scale'] + refaps['xcentroid'] * fit['xcoma']) + fit['xcen']\n",
    "refy = refaps['ycentroid'] * (fit['scale'] + refaps['ycentroid'] * fit['ycoma']) + fit['ycen']\n",
    "x, y = results['apertures'].positions.transpose()[0], results['apertures'].positions.transpose()[1]\n",
    "spacing = 0.5*(results['xspacing'] + results['yspacing'])\n",
    "ax.scatter(refx, refy)\n",
    "ax.set_aspect('equal')\n",
    "ax.scatter(x, y)\n",
    "ax.set_xlim(0, 512)\n",
    "ax.set_ylim(0, 512)\n",
    "fig.show()\n",
    "\n",
    "results['grid_fit']"
   ]
  },
  {
   "cell_type": "code",
   "execution_count": null,
   "metadata": {},
   "outputs": [],
   "source": [
    "zresults['zernike'].bar_chart(last_mode=21).show()"
   ]
  },
  {
   "cell_type": "code",
   "execution_count": null,
   "metadata": {},
   "outputs": [],
   "source": [
    "psf, pfig = mmirs.telescope.psf(zresults['zernike'].copy())\n",
    "pfig.show()"
   ]
  },
  {
   "cell_type": "code",
   "execution_count": null,
   "metadata": {},
   "outputs": [],
   "source": [
    "print(mmirs.modes['mmirs1']['reference']['fwhm'])\n",
    "\n",
    "spot = mmirs.modes['mmirs1']['reference']['spot']\n",
    "model = Gaussian2D(amplitude=spot.max(), x_mean=spot.shape[1]/2, y_mean=spot.shape[0]/2) + Polynomial2D(degree=0)\n",
    "#model = Gaussian2D(amplitude=spot.max(), x_mean=spot.shape[1]/2, y_mean=spot.shape[0]/2)\n",
    "fitter = LevMarLSQFitter()\n",
    "y, x = np.mgrid[:spot.shape[0], :spot.shape[1]]\n",
    "fit = fitter(model, x, y, spot)\n",
    "fig, ax = plt.subplots()\n",
    "ax.imshow(mmirs.modes['mmirs1']['reference']['spot'] - fit(x, y))\n",
    "fig.show()"
   ]
  },
  {
   "cell_type": "code",
   "execution_count": null,
   "metadata": {},
   "outputs": [],
   "source": [
    "mmirs.modes['mmirs1']['reference']['figure'].show()\n",
    "mmirs.modes['mmirs1']['reference']['xspacing'], mmirs.modes['mmirs1']['reference']['yspacing']"
   ]
  },
  {
   "cell_type": "code",
   "execution_count": null,
   "metadata": {},
   "outputs": [],
   "source": [
    "zplot = zvec.copy()\n",
    "zplot.ignore('Z02')\n",
    "zplot.ignore('Z03')\n",
    "mfig = zplot.plot_map()\n",
    "mfig.show()\n",
    "zplot.peak2valley"
   ]
  },
  {
   "cell_type": "code",
   "execution_count": null,
   "metadata": {},
   "outputs": [],
   "source": [
    "zvec.units = u.nm\n",
    "f = zvec.bar_chart(residual=zresults['residual_rms'])\n",
    "f.set_size_inches(9, 5)\n",
    "\n",
    "f.show()"
   ]
  },
  {
   "cell_type": "code",
   "execution_count": null,
   "metadata": {},
   "outputs": [],
   "source": [
    "plt.close(f)"
   ]
  },
  {
   "cell_type": "code",
   "execution_count": null,
   "metadata": {},
   "outputs": [],
   "source": [
    "torig = mmirs.telescope.bending_forces(zvec)\n",
    "torig.show_in_notebook()"
   ]
  },
  {
   "cell_type": "code",
   "execution_count": null,
   "metadata": {},
   "outputs": [],
   "source": [
    "force_fig = mmirs.telescope.plot_forces(torig)\n",
    "force_fig.show()"
   ]
  },
  {
   "cell_type": "code",
   "execution_count": null,
   "metadata": {},
   "outputs": [],
   "source": [
    "t, m1foc = mmirs.correct_primary(zv=zvec)\n",
    "print(m1foc)\n",
    "t.show_in_notebook()"
   ]
  },
  {
   "cell_type": "code",
   "execution_count": null,
   "metadata": {},
   "outputs": [],
   "source": [
    "new_force_fig = mmirs.telescope.plot_forces(t)\n",
    "new_force_fig.show()"
   ]
  },
  {
   "cell_type": "code",
   "execution_count": null,
   "metadata": {},
   "outputs": [],
   "source": [
    "zpsf = ZernikeVector()\n",
    "psf, psf_fig = mmirs.telescope.psf(zpsf, plot=True)\n",
    "psf_fig.set_size_inches(4.0, 4.0)\n",
    "psf_fig.show()"
   ]
  },
  {
   "cell_type": "markdown",
   "metadata": {},
   "source": [
    "# F/9 Dev Section"
   ]
  },
  {
   "cell_type": "code",
   "execution_count": null,
   "metadata": {},
   "outputs": [],
   "source": [
    "plt.close('all')\n",
    "f9wfs = WFSFactory(wfs=\"newf9\")\n",
    "#f9wfs = WFSFactory(wfs=\"newf9\", pup_offset=[0.0, 0.0])"
   ]
  },
  {
   "cell_type": "code",
   "execution_count": null,
   "metadata": {},
   "outputs": [],
   "source": [
    "f9wfs.modes['blue']['reference'].figure.show()"
   ]
  },
  {
   "cell_type": "code",
   "execution_count": null,
   "metadata": {},
   "outputs": [],
   "source": [
    "baseline1_files = [\"f9wfs_20180131-191734.fits\", \"f9wfs_20180131-191925.fits\", \"f9wfs_20180131-192131.fits\"]\n",
    "baseline2_files = [\"f9wfs_20180131-192350.fits\", \"f9wfs_20180131-192541.fits\", \"f9wfs_20180131-192731.fits\"]\n",
    "baseline3_files = [\n",
    "    \"f9wfs_20180131-192927.fits\", \"f9wfs_20180131-193109.fits\", \n",
    "    \"f9wfs_20180131-193325.fits\", \"f9wfs_20180131-193509.fits\"\n",
    "]"
   ]
  },
  {
   "cell_type": "code",
   "execution_count": null,
   "metadata": {},
   "outputs": [],
   "source": [
    "plt.close('all')\n",
    "#f9_file = \"/Volumes/LaCie 8TB/wfsdat/20180201/\" + baseline2_files[0]\n",
    "f9_file = \"/Users/tim/MMT/mmtwfs/mmtwfs/data/test_data/test_newf9.fits\"\n",
    "#f9_file = \"/Users/tim/MMT/wfsdat/test/f9wfs_20180908-220524.fits\"\n",
    "#f9_file = \"/Users/tim/MMT/wfsdat/20190104/f9wfs_20190104-020657.fits\"\n",
    "results = f9wfs.measure_slopes(f9_file, 'spol', plot=True)\n",
    "#plt.scatter(refaps['xcentroid']+results['xcen'], refaps['ycentroid']+results['ycen'])\n",
    "results['figures']['slopes'].show()\n",
    "# 265 258\n",
    "# ref 240 259.5"
   ]
  },
  {
   "cell_type": "code",
   "execution_count": null,
   "metadata": {},
   "outputs": [],
   "source": [
    "zresults = f9wfs.fit_wavefront(results, plot=True)\n",
    "print(zresults['residual_rms'])\n",
    "print(zresults['zernike'].pretty_print())\n",
    "zresults['resid_plot'].show()"
   ]
  },
  {
   "cell_type": "code",
   "execution_count": null,
   "metadata": {},
   "outputs": [],
   "source": [
    "results['ref_mask']"
   ]
  },
  {
   "cell_type": "code",
   "execution_count": null,
   "metadata": {},
   "outputs": [],
   "source": [
    "f9wfs.modes['blue']['reference'].xcen"
   ]
  },
  {
   "cell_type": "code",
   "execution_count": null,
   "metadata": {},
   "outputs": [],
   "source": [
    "refaps = f9wfs.modes['blue']['reference'].masked_apertures\n",
    "fig, ax = plt.subplots()\n",
    "fit = results['grid_fit']\n",
    "refx = refaps['xcentroid'] * (fit['scale'] + refaps['xcentroid'] * fit['xcoma']) + fit['xcen']\n",
    "refy = refaps['ycentroid'] * (fit['scale'] + refaps['ycentroid'] * fit['ycoma']) + fit['ycen']\n",
    "x, y = results['apertures'].positions.transpose()[0], results['apertures'].positions.transpose()[1]\n",
    "spacing = 0.5*(results['xspacing'] + results['yspacing'])\n",
    "ax.scatter(refx, refy)\n",
    "ax.set_aspect('equal')\n",
    "ax.scatter(x, y)\n",
    "ax.set_xlim(0, 845)\n",
    "ax.set_ylim(0, 845)\n",
    "fig.show()\n",
    "fit['scale']"
   ]
  },
  {
   "cell_type": "code",
   "execution_count": null,
   "metadata": {},
   "outputs": [],
   "source": [
    "data = check_wfsdata(f9_file)\n",
    "x = np.arange(data.shape[1])\n",
    "y = np.arange(data.shape[0])\n",
    "bx = np.arange(data.shape[1]+1)\n",
    "by = np.arange(data.shape[0]+1)\n",
    "apertures = results['spots']\n",
    "\n",
    "# bin the spot positions along the axes and use Lomb-Scargle to measure the grid spacing in each direction\n",
    "xsum = np.histogram(apertures['xcentroid'], bins=bx)\n",
    "ysum = np.histogram(apertures['ycentroid'], bins=by)\n",
    "\n",
    "k = np.linspace(10.0, 50., 500)  # look for spacings from 5 to 50 pixels (plenty of range)\n",
    "f = 1.0 / k  # convert spacing to frequency\n",
    "xp = stats.LombScargle(x, xsum[0]).power(f)\n",
    "yp = stats.LombScargle(y, ysum[0]).power(f)\n",
    "plt.plot(k, yp)\n",
    "plt.show()"
   ]
  },
  {
   "cell_type": "code",
   "execution_count": null,
   "metadata": {},
   "outputs": [],
   "source": [
    "zresults['zernike'].bar_chart(last_mode=21).show()"
   ]
  },
  {
   "cell_type": "code",
   "execution_count": null,
   "metadata": {},
   "outputs": [],
   "source": [
    "zresults['zernike'].fringe_bar_chart().show()"
   ]
  },
  {
   "cell_type": "code",
   "execution_count": null,
   "metadata": {},
   "outputs": [],
   "source": [
    "spots = {'xcentroid': x, 'ycentroid': y}\n",
    "from scipy import optimize\n",
    "\n",
    "def match_apertures(refx, refy, spotx, spoty):\n",
    "    tot_dist = 0.0\n",
    "    refs = np.array([refx, refy])\n",
    "    spots = np.array([spotx, spoty])\n",
    "    match = np.empty(len(refx))\n",
    "    max_r = spacing / 2.\n",
    "    for i in np.arange(len(refx)):\n",
    "        dists = np.sqrt( (spots[0]-refs[0][i])**2 + (spots[1]-refs[1][i])**2 )\n",
    "        tot_dist += np.min(dists)\n",
    "    return tot_dist\n",
    "\n",
    "def fit_apertures(pars, ref, spots):\n",
    "    xc = pars[0]\n",
    "    yc = pars[1]\n",
    "    xscale = pars[2]\n",
    "    yscale = pars[3]\n",
    "    xcoma = pars[4]\n",
    "    ycoma = pars[5]\n",
    "    refx = ref['xcentroid'] * (xscale + ref['xcentroid'] * xcoma) + xc\n",
    "    refy = ref['ycentroid'] * (yscale + ref['ycentroid'] * ycoma) + yc\n",
    "    spotx = spots['xcentroid']\n",
    "    spoty = spots['ycentroid']\n",
    "    dist = match_apertures(refx, refy, spotx, spoty)\n",
    "    return dist"
   ]
  },
  {
   "cell_type": "code",
   "execution_count": null,
   "metadata": {},
   "outputs": [],
   "source": [
    "#%%timeit\n",
    "args = (refaps, spots)\n",
    "pars = (results['xcen'], results['ycen'], 1.0, 1.0, 0.0, 0.0)\n",
    "bounds = (\n",
    "    (results['xcen']-50, results['xcen']+50), \n",
    "    (results['ycen']-50, results['ycen']+50),\n",
    "    (0.8, 1.2),\n",
    "    (0.8, 1.2),\n",
    "    (-0.1, 0.1),\n",
    "    (-0.1, 0.1)\n",
    ")\n",
    "res = optimize.minimize(fit_apertures, pars, args=args, bounds=bounds)\n",
    "res"
   ]
  },
  {
   "cell_type": "code",
   "execution_count": null,
   "metadata": {},
   "outputs": [],
   "source": [
    "fig, ax = plt.subplots()\n",
    "refx, refy = refaps['xcentroid'], refaps['ycentroid']\n",
    "refx = refx * (res['x'][2] + refx*res['x'][4]) + res['x'][0]\n",
    "refy = refy * (res['x'][3] + refy*res['x'][5]) + res['x'][1]\n",
    "x, y = results['apertures'].positions.transpose()[0], results['apertures'].positions.transpose()[1]\n",
    "ax.scatter(refx, refy)\n",
    "ax.set_aspect('equal')\n",
    "ax.scatter(x, y)\n",
    "ax.set_xlim(0, 845)\n",
    "ax.set_ylim(0, 845)\n",
    "fig.show()"
   ]
  },
  {
   "cell_type": "code",
   "execution_count": null,
   "metadata": {},
   "outputs": [],
   "source": [
    "print(f9wfs.modes['blue']['reference']['xcen'], f9wfs.modes['blue']['reference']['ycen'])\n",
    "print(f9wfs.modes['blue']['reference']['xspacing'], f9wfs.modes['blue']['reference']['yspacing'])\n",
    "f9wfs.modes['blue']['reference'].keys()"
   ]
  },
  {
   "cell_type": "code",
   "execution_count": null,
   "metadata": {},
   "outputs": [],
   "source": [
    "zv = zresults['zernike']\n",
    "print(zv.rms)\n",
    "zv.ignore('Z02')\n",
    "zv.ignore('Z03')\n",
    "f = zv.plot_map()\n",
    "f.show()"
   ]
  },
  {
   "cell_type": "code",
   "execution_count": null,
   "metadata": {},
   "outputs": [],
   "source": [
    "bc = zv.bar_chart(residual=zresults['residual_rms'])\n",
    "bc.show()"
   ]
  },
  {
   "cell_type": "code",
   "execution_count": null,
   "metadata": {},
   "outputs": [],
   "source": [
    "psf, psf_fig = f9wfs.telescope.psf(zv, fov=1.0)\n",
    "psf_fig.show()"
   ]
  },
  {
   "cell_type": "code",
   "execution_count": null,
   "metadata": {},
   "outputs": [],
   "source": [
    "plt.close('all')"
   ]
  },
  {
   "cell_type": "markdown",
   "metadata": {},
   "source": [
    "# F/5 Dev Section"
   ]
  },
  {
   "cell_type": "code",
   "execution_count": null,
   "metadata": {},
   "outputs": [],
   "source": [
    "f5wfs = WFSFactory(wfs=\"f5\")"
   ]
  },
  {
   "cell_type": "code",
   "execution_count": null,
   "metadata": {},
   "outputs": [],
   "source": [
    "#%%prun\n",
    "plt.close('all')\n",
    "f5_file = \"/Volumes/LaCie 8TB/wfsdat/20181022/manual_wfs_0003.fits\"\n",
    "f5_file = \"/Users/tim/MMT/mmtwfs/mmtwfs/data/test_data/auto_wfs_0037_ave.fits\"\n",
    "#f5_file = \"/Users/tim/MMT/wfsdat/20180923/manual_wfs_0009.fits\"\n",
    "results = f5wfs.measure_slopes(f5_file, 'hecto', plot=True)\n",
    "results['figures']['slopes'].show()"
   ]
  },
  {
   "cell_type": "code",
   "execution_count": null,
   "metadata": {},
   "outputs": [],
   "source": [
    "f5wfs.calculate_recenter(results), results['xcen'], results['ycen']"
   ]
  },
  {
   "cell_type": "code",
   "execution_count": null,
   "metadata": {},
   "outputs": [],
   "source": [
    "#%%prun\n",
    "zresults = f5wfs.fit_wavefront(results, plot=True)\n",
    "zv = zresults['zernike']\n",
    "print(zv.pretty_print())\n",
    "print(zv.rms)\n",
    "zresults['resid_plot'].show()"
   ]
  },
  {
   "cell_type": "code",
   "execution_count": null,
   "metadata": {},
   "outputs": [],
   "source": [
    "zf = zv.fringe_bar_chart()\n",
    "zf.show()\n",
    "zresults['residual_rms']"
   ]
  },
  {
   "cell_type": "code",
   "execution_count": null,
   "metadata": {},
   "outputs": [],
   "source": [
    "bc = zv.bar_chart(last_mode=21)\n",
    "bc.show()"
   ]
  },
  {
   "cell_type": "code",
   "execution_count": null,
   "metadata": {},
   "outputs": [],
   "source": [
    "zv.denormalize()\n",
    "zv"
   ]
  },
  {
   "cell_type": "code",
   "execution_count": null,
   "metadata": {
    "slideshow": {
     "slide_type": "-"
    }
   },
   "outputs": [],
   "source": [
    "refaps = f5wfs.modes['hecto']['reference'].masked_apertures\n",
    "fig, ax = plt.subplots()\n",
    "fit = results['grid_fit']\n",
    "refx = refaps['xcentroid'] * (fit['scale'] + refaps['xcentroid'] * fit['xcoma']) + fit['xcen']\n",
    "refy = refaps['ycentroid'] * (fit['scale'] + refaps['ycentroid'] * fit['ycoma']) + fit['ycen']\n",
    "x, y = results['apertures'].positions.transpose()[0], results['apertures'].positions.transpose()[1]\n",
    "spacing = 0.5*(results['xspacing'] + results['yspacing'])\n",
    "ax.scatter(refx, refy)\n",
    "ax.set_aspect('equal')\n",
    "ax.scatter(x, y)\n",
    "ax.set_xlim(0, 512)\n",
    "ax.set_ylim(0, 512)\n",
    "fig.show()"
   ]
  },
  {
   "cell_type": "code",
   "execution_count": null,
   "metadata": {},
   "outputs": [],
   "source": [
    "zv.ignore('Z02')\n",
    "zv.ignore('Z03')\n",
    "zv.ignore('Z04')\n",
    "print(zv.rms)\n",
    "mf = zv.plot_map()\n",
    "mf.show()"
   ]
  },
  {
   "cell_type": "code",
   "execution_count": null,
   "metadata": {},
   "outputs": [],
   "source": [
    "t, m1foc = f5wfs.telescope.calculate_primary_corrections(zresults['zernike'])"
   ]
  },
  {
   "cell_type": "code",
   "execution_count": null,
   "metadata": {},
   "outputs": [],
   "source": [
    "fplot = f5wfs.telescope.plot_forces(t, m1focus=m1foc)\n",
    "fplot.show()"
   ]
  },
  {
   "cell_type": "code",
   "execution_count": null,
   "metadata": {},
   "outputs": [],
   "source": [
    "t.show_in_notebook()"
   ]
  },
  {
   "cell_type": "markdown",
   "metadata": {},
   "source": [
    "# Scratch space"
   ]
  },
  {
   "cell_type": "code",
   "execution_count": null,
   "metadata": {},
   "outputs": [],
   "source": [
    "cen = center_pupil(subt, pup, plot=True)\n",
    "print(cen)\n",
    "plt.show()"
   ]
  },
  {
   "cell_type": "code",
   "execution_count": null,
   "metadata": {},
   "outputs": [],
   "source": [
    "from astropy.io import ascii"
   ]
  },
  {
   "cell_type": "code",
   "execution_count": null,
   "metadata": {},
   "outputs": [],
   "source": [
    "t = f9wfs.telescope\n",
    "m = t.zern_map"
   ]
  },
  {
   "cell_type": "code",
   "execution_count": null,
   "metadata": {},
   "outputs": [],
   "source": [
    "z = np.loadtxt(\"/Users/tim/MMT/wfsdat/20170110/mmirs_wfs_0375.dao.sub.zrn.cor\")\n",
    "z1 = np.loadtxt(\"/Users/tim/MMT/wfsdat/20170110/mmirs_wfs_0375.dao.av.zrn\")"
   ]
  },
  {
   "cell_type": "code",
   "execution_count": null,
   "metadata": {},
   "outputs": [],
   "source": [
    "sigma = results['fwhm'] * stats.funcs.gaussian_fwhm_to_sigma\n",
    "\n",
    "wave = 650 * u.nm\n",
    "wave = wave.to(u.m).value  # r_0 equation expects meters so convert\n",
    "# calculate the physical size of each aperture.\n",
    "ref = mmirs.modes['mmirs2']['reference']\n",
    "apsize_pix = np.max((ref['xspacing'], ref['yspacing']))\n",
    "d = mmirs.telescope.diameter * apsize_pix / mmirs.pup_size\n",
    "d = d.to(u.m).value  # r_0 equation expects meters so convert\n",
    "\n",
    "# we need to deconvolve the instrumental spot width from the measured one\n",
    "ref_sigma = ref['sigma']\n",
    "if sigma > ref_sigma:\n",
    "    corr_sigma = np.sqrt(sigma**2 - ref_sigma**2)\n",
    "else:\n",
    "    corr_sigma = 0.0\n",
    "corr_sigma *= mmirs.pix_size.to(u.rad).value  # r_0 equation expects radians so convert\n",
    "# this equation relates the motion within a single aperture to the characteristic scale size of the\n",
    "# turbulence, r_0.\n",
    "r_0 = ( 0.179 * (wave**2) * (d**(-1./3.))/corr_sigma**2 )**0.6\n",
    "print(r_0)\n",
    "# this equation relates the turbulence scale size to an expected image FWHM at the given wavelength.\n",
    "raw_seeing = u.rad * 0.98 * wave / r_0\n",
    "raw_seeing = raw_seeing.to(u.arcsec)\n"
   ]
  },
  {
   "cell_type": "code",
   "execution_count": null,
   "metadata": {},
   "outputs": [],
   "source": [
    "t = bino.telescope"
   ]
  },
  {
   "cell_type": "code",
   "execution_count": null,
   "metadata": {},
   "outputs": [],
   "source": [
    "z = ZernikeVector(Z11=-1000*u.nm)\n",
    "z.plot_map()\n",
    "plt.show()"
   ]
  },
  {
   "cell_type": "code",
   "execution_count": null,
   "metadata": {},
   "outputs": [],
   "source": [
    "ft, m1, zv_masked = t.calculate_primary_corrections(z)"
   ]
  },
  {
   "cell_type": "code",
   "execution_count": null,
   "metadata": {},
   "outputs": [],
   "source": [
    "ft['force'].min()"
   ]
  },
  {
   "cell_type": "code",
   "execution_count": null,
   "metadata": {},
   "outputs": [],
   "source": [
    "m1"
   ]
  },
  {
   "cell_type": "code",
   "execution_count": null,
   "metadata": {},
   "outputs": [],
   "source": [
    "derot_phi = phi - u.Quantity(225*u.deg, u.rad).value\n",
    "pol2cart([dr, derot_phi])"
   ]
  },
  {
   "cell_type": "code",
   "execution_count": null,
   "metadata": {},
   "outputs": [],
   "source": [
    "u.Quantity(225*u.deg, u.rad).value"
   ]
  },
  {
   "cell_type": "code",
   "execution_count": null,
   "metadata": {},
   "outputs": [],
   "source": [
    "dx, dy"
   ]
  },
  {
   "cell_type": "code",
   "execution_count": null,
   "metadata": {},
   "outputs": [],
   "source": [
    "t = mmirs.telescope\n",
    "zv = ZernikeVector(Z05=1000, Z11=250)\n",
    "force, focus = t.correct_primary(zv)\n",
    "f1 = focus.copy()\n",
    "uforce, ufocus = t.undo_last()\n",
    "print(ufocus)\n",
    "print(f1)\n",
    "assert(ufocus == -1 * f1)"
   ]
  },
  {
   "cell_type": "code",
   "execution_count": null,
   "metadata": {},
   "outputs": [],
   "source": [
    "focus.copy()"
   ]
  },
  {
   "cell_type": "code",
   "execution_count": null,
   "metadata": {},
   "outputs": [],
   "source": [
    "np.allclose(np.zeros(2), 0.0)"
   ]
  },
  {
   "cell_type": "code",
   "execution_count": null,
   "metadata": {},
   "outputs": [],
   "source": [
    "s = \"offset_inc wfs z 200.3\"\n",
    "assert(\"200.3\" in s)"
   ]
  },
  {
   "cell_type": "code",
   "execution_count": null,
   "metadata": {},
   "outputs": [],
   "source": [
    "fig, ax = plt.subplots()"
   ]
  },
  {
   "cell_type": "code",
   "execution_count": null,
   "metadata": {},
   "outputs": [],
   "source": [
    "ax.imshow(results['data'], cmap=cm.Greys)\n",
    "fig.savefig(\"test.png\")"
   ]
  },
  {
   "cell_type": "code",
   "execution_count": null,
   "metadata": {},
   "outputs": [],
   "source": [
    "a = fig.axes[0]"
   ]
  },
  {
   "cell_type": "code",
   "execution_count": null,
   "metadata": {},
   "outputs": [],
   "source": [
    "fig.show()"
   ]
  },
  {
   "cell_type": "code",
   "execution_count": null,
   "metadata": {},
   "outputs": [],
   "source": [
    "\"{0:0.0f}\".format((550 * u.nm))"
   ]
  },
  {
   "cell_type": "code",
   "execution_count": null,
   "metadata": {},
   "outputs": [],
   "source": [
    "x, y, r, p, ph = zvec.phase_map(n=100)\n",
    "i = np.argsort(x)"
   ]
  },
  {
   "cell_type": "code",
   "execution_count": null,
   "metadata": {},
   "outputs": [],
   "source": [
    "from plotly.offline import download_plotlyjs, init_notebook_mode, plot, iplot\n",
    "import plotly.graph_objs as go\n",
    "init_notebook_mode(connected=True)"
   ]
  },
  {
   "cell_type": "code",
   "execution_count": null,
   "metadata": {},
   "outputs": [],
   "source": [
    "data = [go.Heatmap(z=np.array(ph[i]), x=x[i], y=y[i], colorscale='RdBu')]\n",
    "layout = go.Layout(title=\"test\")\n",
    "fig = go.Figure(data=data, layout=layout)\n",
    "plot(fig, filename=\"blah\")"
   ]
  },
  {
   "cell_type": "code",
   "execution_count": null,
   "metadata": {},
   "outputs": [],
   "source": [
    "np.min(ph)"
   ]
  },
  {
   "cell_type": "code",
   "execution_count": null,
   "metadata": {},
   "outputs": [],
   "source": [
    "0.119 * 5.4*3/20"
   ]
  },
  {
   "cell_type": "code",
   "execution_count": null,
   "metadata": {},
   "outputs": [],
   "source": [
    "if 'HOME' in os.environ:\n",
    "    print('y')"
   ]
  },
  {
   "cell_type": "code",
   "execution_count": null,
   "metadata": {},
   "outputs": [],
   "source": [
    "np.zeros((512, 512)).shape"
   ]
  },
  {
   "cell_type": "code",
   "execution_count": null,
   "metadata": {},
   "outputs": [],
   "source": [
    "zv = ZernikeVector()"
   ]
  },
  {
   "cell_type": "code",
   "execution_count": null,
   "metadata": {},
   "outputs": [],
   "source": [
    "zv.plot_map()"
   ]
  },
  {
   "cell_type": "code",
   "execution_count": null,
   "metadata": {},
   "outputs": [],
   "source": [
    "t = MMT()\n",
    "zv = ZernikeVector(Z05=1000, Z11=250)\n",
    "force, focus = t.calculate_primary_corrections(zv)"
   ]
  },
  {
   "cell_type": "code",
   "execution_count": null,
   "metadata": {},
   "outputs": [],
   "source": [
    "lforce, lfocus = t.correct_primary(force, focus)"
   ]
  },
  {
   "cell_type": "code",
   "execution_count": null,
   "metadata": {},
   "outputs": [],
   "source": [
    "uforce, ufocus = t.undo_last()"
   ]
  },
  {
   "cell_type": "code",
   "execution_count": null,
   "metadata": {},
   "outputs": [],
   "source": [
    "focus, lfocus, ufocus"
   ]
  },
  {
   "cell_type": "code",
   "execution_count": null,
   "metadata": {},
   "outputs": [],
   "source": [
    "newf9 = WFSFactory(wfs=\"newf9\")"
   ]
  },
  {
   "cell_type": "code",
   "execution_count": null,
   "metadata": {},
   "outputs": [],
   "source": [
    "newf9.modes['blue']['reference']"
   ]
  },
  {
   "cell_type": "code",
   "execution_count": null,
   "metadata": {},
   "outputs": [],
   "source": [
    "x = newf9.modes['blue']['reference']['apertures']['xcentroid'] + newf9.modes['blue']['reference']['xcen']"
   ]
  },
  {
   "cell_type": "code",
   "execution_count": null,
   "metadata": {},
   "outputs": [],
   "source": [
    "y = newf9.modes['blue']['reference']['apertures']['ycentroid'] + newf9.modes['blue']['reference']['ycen']"
   ]
  },
  {
   "cell_type": "code",
   "execution_count": null,
   "metadata": {},
   "outputs": [],
   "source": [
    "arr = np.array((x.data, y.data)).transpose()"
   ]
  },
  {
   "cell_type": "code",
   "execution_count": null,
   "metadata": {},
   "outputs": [],
   "source": [
    "np.savetxt(\"blah.txt\", arr, fmt=\"%.3f\")"
   ]
  },
  {
   "cell_type": "code",
   "execution_count": null,
   "metadata": {},
   "outputs": [],
   "source": [
    "np.savetxt?"
   ]
  },
  {
   "cell_type": "code",
   "execution_count": null,
   "metadata": {},
   "outputs": [],
   "source": []
  },
  {
   "cell_type": "code",
   "execution_count": null,
   "metadata": {},
   "outputs": [],
   "source": [
    "x, y = 405, 445\n",
    "xnew, ynew = 438, 469\n",
    "xref, yref = 433, 431\n",
    "pixsize = 0.09639\n",
    "\n",
    "rot = u.Quantity(-225 * u.deg, u.rad).value\n",
    "\n",
    "dx = x - xref\n",
    "dy = y - yref\n",
    "\n",
    "dr, phi = cart2pol([dx, dy])\n",
    "\n",
    "derot_phi = phi - rot\n",
    "\n",
    "az, el = pol2cart([dr, derot_phi])\n",
    "print(az, el)"
   ]
  },
  {
   "cell_type": "code",
   "execution_count": null,
   "metadata": {},
   "outputs": [],
   "source": [
    "x, y = 405, 445\n",
    "xnew, ynew = 438, 469\n",
    "xref, yref = 433, 431\n",
    "pixsize = 0.09639\n",
    "\n",
    "rot = u.Quantity(-225 * u.deg, u.rad).value\n",
    "\n",
    "dx = 1 * (x - xref)\n",
    "dy = 1 * (y - yref)\n",
    "\n",
    "dr, phi = cart2pol([dx, dy])\n",
    "\n",
    "derot_phi = phi - rot\n",
    "\n",
    "az, el = pol2cart([dr, derot_phi])\n",
    "print(az, el)"
   ]
  },
  {
   "cell_type": "code",
   "execution_count": null,
   "metadata": {},
   "outputs": [],
   "source": [
    "azcorr = 3.0 / pixsize\n",
    "elcorr = 0.9 / pixsize\n",
    "drc, phic = cart2pol([azcorr, elcorr])\n",
    "derot_phic = phic + rot\n",
    "az_pix, el_pix = pol2cart([drc, derot_phic])\n",
    "print(az_pix, el_pix)"
   ]
  },
  {
   "cell_type": "code",
   "execution_count": null,
   "metadata": {},
   "outputs": [],
   "source": [
    "a = np.arange(5)"
   ]
  },
  {
   "cell_type": "code",
   "execution_count": null,
   "metadata": {},
   "outputs": [],
   "source": [
    "np.delete(a, 2)"
   ]
  },
  {
   "cell_type": "code",
   "execution_count": null,
   "metadata": {},
   "outputs": [],
   "source": [
    "2320-2820"
   ]
  },
  {
   "cell_type": "code",
   "execution_count": null,
   "metadata": {},
   "outputs": [],
   "source": [
    "x1, y1 = 274, 288\n",
    "x2, y2 = 243, 314\n",
    "xc, yc = 255, 255\n",
    "rot_def = 234 * u.deg\n",
    "rotation = u.Quantity(rot_def, u.rad).value"
   ]
  },
  {
   "cell_type": "code",
   "execution_count": null,
   "metadata": {},
   "outputs": [],
   "source": [
    "x1, y1 = 212, 238\n",
    "x2, y2 = 243, 314\n",
    "xc, yc = 255, 255\n",
    "rot_def = 234 * u.deg\n",
    "rotation = u.Quantity(rot_def, u.rad).value"
   ]
  },
  {
   "cell_type": "code",
   "execution_count": null,
   "metadata": {},
   "outputs": [],
   "source": [
    "x1, y1 = 358, 308\n",
    "xc, yc = 419, 439\n",
    "rot_def = -225 * u.deg\n",
    "rotation = u.Quantity(rot_def, u.rad).value"
   ]
  },
  {
   "cell_type": "code",
   "execution_count": null,
   "metadata": {},
   "outputs": [],
   "source": [
    "dx = x1 - xc\n",
    "dy = y1 - yc"
   ]
  },
  {
   "cell_type": "code",
   "execution_count": null,
   "metadata": {},
   "outputs": [],
   "source": [
    "dr, phi = cart2pol([dx, dy])"
   ]
  },
  {
   "cell_type": "code",
   "execution_count": null,
   "metadata": {},
   "outputs": [],
   "source": [
    "derot_phi = rotation + phi"
   ]
  },
  {
   "cell_type": "code",
   "execution_count": null,
   "metadata": {},
   "outputs": [],
   "source": [
    "az, el = pol2cart([dr, derot_phi])\n",
    "az, el"
   ]
  },
  {
   "cell_type": "code",
   "execution_count": null,
   "metadata": {},
   "outputs": [],
   "source": [
    "az*0.0936, el*0.0936"
   ]
  },
  {
   "cell_type": "code",
   "execution_count": null,
   "metadata": {},
   "outputs": [],
   "source": [
    "1.26 * 3600 / 4156"
   ]
  },
  {
   "cell_type": "code",
   "execution_count": null,
   "metadata": {},
   "outputs": [],
   "source": [
    "z = ZernikeVector(Z04=100)"
   ]
  },
  {
   "cell_type": "code",
   "execution_count": null,
   "metadata": {},
   "outputs": [],
   "source": [
    "z"
   ]
  },
  {
   "cell_type": "code",
   "execution_count": null,
   "metadata": {},
   "outputs": [],
   "source": [
    "z.ignore(\"Z04\")"
   ]
  },
  {
   "cell_type": "code",
   "execution_count": null,
   "metadata": {},
   "outputs": [],
   "source": [
    "z"
   ]
  },
  {
   "cell_type": "code",
   "execution_count": null,
   "metadata": {},
   "outputs": [],
   "source": [
    "for i in range(23,37):\n",
    "    print(\"Z{0:02d}\".format(i))"
   ]
  },
  {
   "cell_type": "code",
   "execution_count": null,
   "metadata": {},
   "outputs": [],
   "source": [
    "for z in zv:\n",
    "    print(zv[z])"
   ]
  },
  {
   "cell_type": "code",
   "execution_count": null,
   "metadata": {},
   "outputs": [],
   "source": [
    "np.zeros(0)"
   ]
  },
  {
   "cell_type": "code",
   "execution_count": null,
   "metadata": {},
   "outputs": [],
   "source": [
    "data = check_wfsdata(\"/Users/tim/MMT/wfsdat/20180604/wfs_ff_cal_img_2018.0604.052401.fits\")\n",
    "#data = check_wfsdata(\"/Users/tim/MMT/wfsdat/20171101/mmirs_wfs_0022.fits\")\n",
    "#data = check_wfsdata(\"/Volumes/LACIE SHARE/wfsdat/20180424/f9wfs_20180423-234645.fits\")\n",
    "#data = check_wfsdata(\"/Users/tim/MMT/wfsdat/20180404/manual_wfs_0004.fits\")\n",
    "fix, ax = plt.subplots()\n",
    "norm = wfs_norm(data)\n",
    "ax.imshow(data, cmap='Greys', origin='lower', norm=norm, interpolation='None')\n",
    "ax.set_title(\"Binospec WFS\")\n",
    "plt.savefig(\"/Users/tim/MMT/spie/2018/bino.pdf\")\n",
    "plt.show()"
   ]
  },
  {
   "cell_type": "code",
   "execution_count": null,
   "metadata": {},
   "outputs": [],
   "source": [
    "refdata = check_wfsdata(\"/Users/tim/MMT/mmtwfs/mmtwfs/data/ref_images/f9_new_ref.fits\")\n",
    "refdata = refdata - np.median(refdata)\n",
    "apertures, figure = wfsfind(refdata, fwhm=4.0, threshold=30, plot=True)\n",
    "figure.show()"
   ]
  },
  {
   "cell_type": "code",
   "execution_count": null,
   "metadata": {},
   "outputs": [],
   "source": [
    "u.imperial.inch.to(u.mm)"
   ]
  },
  {
   "cell_type": "code",
   "execution_count": null,
   "metadata": {},
   "outputs": [],
   "source": [
    "np.hypot?"
   ]
  },
  {
   "cell_type": "code",
   "execution_count": null,
   "metadata": {},
   "outputs": [],
   "source": [
    "20/26 * 435"
   ]
  },
  {
   "cell_type": "code",
   "execution_count": null,
   "metadata": {},
   "outputs": [],
   "source": []
  }
 ],
 "metadata": {
  "kernelspec": {
   "display_name": "Python 3",
   "language": "python",
   "name": "python3"
  },
  "language_info": {
   "codemirror_mode": {
    "name": "ipython",
    "version": 3
   },
   "file_extension": ".py",
   "mimetype": "text/x-python",
   "name": "python",
   "nbconvert_exporter": "python",
   "pygments_lexer": "ipython3",
   "version": "3.7.3"
  }
 },
 "nbformat": 4,
 "nbformat_minor": 2
}
