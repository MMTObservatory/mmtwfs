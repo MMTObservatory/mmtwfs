{
 "cells": [
  {
   "cell_type": "code",
   "execution_count": 1,
   "metadata": {},
   "outputs": [],
   "source": [
    "import numpy as np\n",
    "import matplotlib\n",
    "import matplotlib.pyplot as plt\n",
    "\n",
    "import astropy.units as u\n",
    "from astropy import stats\n",
    "from astropy.io import fits\n",
    "from mmtwfs.wfs import *\n",
    "from mmtwfs.zernike import ZernikeVector\n",
    "from mmtwfs.telescope import MMT"
   ]
  },
  {
   "cell_type": "code",
   "execution_count": 2,
   "metadata": {},
   "outputs": [],
   "source": [
    "%load_ext autoreload\n",
    "%autoreload 2\n",
    "%matplotlib widget"
   ]
  },
  {
   "cell_type": "code",
   "execution_count": 3,
   "metadata": {},
   "outputs": [
    {
     "data": {
      "application/vnd.jupyter.widget-view+json": {
       "model_id": "",
       "version_major": 2,
       "version_minor": 0
      },
      "text/plain": [
       "Canvas(toolbar=Toolbar(toolitems=[('Home', 'Reset original view', 'home', 'home'), ('Back', 'Back to previous …"
      ]
     },
     "metadata": {},
     "output_type": "display_data"
    }
   ],
   "source": [
    "flwo_wfs = WFSFactory(wfs=\"flwo15\")"
   ]
  },
  {
   "cell_type": "code",
   "execution_count": 4,
   "metadata": {},
   "outputs": [
    {
     "name": "stdout",
     "output_type": "stream",
     "text": [
      "/Users/tim/MMT/FLWO/60inch\n"
     ]
    }
   ],
   "source": [
    "%cd ~/MMT/FLWO/60inch/"
   ]
  },
  {
   "cell_type": "code",
   "execution_count": 26,
   "metadata": {},
   "outputs": [
    {
     "data": {
      "application/vnd.jupyter.widget-view+json": {
       "model_id": "8f9453199fbb4a76a4ad0baa5fe2c93f",
       "version_major": 2,
       "version_minor": 0
      },
      "text/plain": [
       "Canvas(toolbar=Toolbar(toolitems=[('Home', 'Reset original view', 'home', 'home'), ('Back', 'Back to previous …"
      ]
     },
     "metadata": {},
     "output_type": "display_data"
    },
    {
     "data": {
      "application/vnd.jupyter.widget-view+json": {
       "model_id": "c4f27a9f1bef4680a8dc9ee89e94a3c9",
       "version_major": 2,
       "version_minor": 0
      },
      "text/plain": [
       "Canvas(toolbar=Toolbar(toolitems=[('Home', 'Reset original view', 'home', 'home'), ('Back', 'Back to previous …"
      ]
     },
     "metadata": {},
     "output_type": "display_data"
    },
    {
     "data": {
      "application/vnd.jupyter.widget-view+json": {
       "model_id": "fd343878eb5d41d0bbb04469af1a2698",
       "version_major": 2,
       "version_minor": 0
      },
      "text/plain": [
       "Canvas(toolbar=Toolbar(toolitems=[('Home', 'Reset original view', 'home', 'home'), ('Back', 'Back to previous …"
      ]
     },
     "metadata": {},
     "output_type": "display_data"
    }
   ],
   "source": [
    "#flwo_wfs.cen_sigma = 3.\n",
    "file = \"1221.star.m2p69.fits\"\n",
    "slopes = flwo_wfs.measure_slopes(file, plot=True)\n",
    "slopes['figures']['slopes'].show()"
   ]
  },
  {
   "cell_type": "code",
   "execution_count": 27,
   "metadata": {},
   "outputs": [
    {
     "data": {
      "application/vnd.jupyter.widget-view+json": {
       "model_id": "40ab40dcecc14088bc7422a85e560348",
       "version_major": 2,
       "version_minor": 0
      },
      "text/plain": [
       "Canvas(toolbar=Toolbar(toolitems=[('Home', 'Reset original view', 'home', 'home'), ('Back', 'Back to previous …"
      ]
     },
     "metadata": {},
     "output_type": "display_data"
    },
    {
     "name": "stdout",
     "output_type": "stream",
     "text": [
      "2949.459324594836 nm\n",
      "Fringe Coefficients\n",
      " Z02:         734.7 ±   442 nm \t X Tilt (1, 1)\n",
      " Z03:        -355.7 ±   400 nm \t Y Tilt (1, -1)\n",
      " Z04:         -6082 ±   178 nm \t Defocus (2, 0)\n",
      " Z05:         446.5 ±   293 nm \t Primary Astig at 45° (2, -2)\n",
      " Z06:        -81.97 ±   300 nm \t Primary Astig at 0° (2, 2)\n",
      " Z07:          -738 ±   221 nm \t Primary Y Coma (3, -1)\n",
      " Z08:         656.7 ±   262 nm \t Primary X Coma (3, 1)\n",
      " Z09:           740 ±   314 nm \t Y Trefoil (3, -3)\n",
      " Z10:        -290.3 ±   275 nm \t X Trefoil (3, 3)\n",
      " Z11:         794.9 ±   165 nm \t Primary Spherical (4, 0)\n",
      " Z12:        -818.9 ±   244 nm \t Secondary Astigmatism at 0° (4, 2)\n",
      " Z13:         275.6 ±   204 nm \t Secondary Astigmatism at 45° (4, -2)\n",
      " Z14:         906.1 ±   323 nm \t X Tetrafoil (4, 4)\n",
      " Z15:          -432 ±   289 nm \t Y Tetrafoil (4, -4)\n",
      " Z16:          16.7 ±   224 nm \t Secondary X Coma (5, 1)\n",
      " Z17:        -294.1 ±   187 nm \t Secondary Y Coma (5, -1)\n",
      " Z18:         115.2 ±   193 nm \t Secondary X Trefoil (5, 3)\n",
      " Z19:         595.9 ±   198 nm \t Secondary Y Trefoil (5, -3)\n",
      " Z20:        -208.3 ±   295 nm \t X Pentafoil (5, 5)\n",
      " Z21:        -30.18 ±   292 nm \t Y Pentafoil (5, -5)\n",
      " Z22:        -157.8 ±   134 nm \t Secondary Spherical (6, 0)\n",
      "\n",
      "Total RMS: \t 3594 nm\n",
      "\n"
     ]
    }
   ],
   "source": [
    "zresults = flwo_wfs.fit_wavefront(slopes, plot=True)\n",
    "zvec = zresults['zernike']\n",
    "print(zresults['residual_rms'])\n",
    "print(zvec.pretty_print())\n",
    "#print(zvec)\n",
    "zresults['resid_plot'].show()"
   ]
  },
  {
   "cell_type": "code",
   "execution_count": 25,
   "metadata": {},
   "outputs": [
    {
     "data": {
      "application/vnd.jupyter.widget-view+json": {
       "model_id": "3a580a121ab943b8a3c81bb5fcd3c064",
       "version_major": 2,
       "version_minor": 0
      },
      "text/plain": [
       "Canvas(toolbar=Toolbar(toolitems=[('Home', 'Reset original view', 'home', 'home'), ('Back', 'Back to previous …"
      ]
     },
     "metadata": {},
     "output_type": "display_data"
    }
   ],
   "source": [
    "zvec.fringe_bar_chart(max_c=2000*u.nm).show()"
   ]
  },
  {
   "cell_type": "code",
   "execution_count": null,
   "metadata": {},
   "outputs": [],
   "source": [
    "mask = mk_wfs_mask(slopes['data'][29:415,85:456])"
   ]
  },
  {
   "cell_type": "code",
   "execution_count": null,
   "metadata": {},
   "outputs": [],
   "source": [
    "plt.imshow(mask, origin='lower')\n",
    "plt.show()"
   ]
  },
  {
   "cell_type": "code",
   "execution_count": null,
   "metadata": {},
   "outputs": [],
   "source": [
    "zvec.fringe_bar_chart(max_c=500*u.nm).savefig(\"zernikes.pdf\")"
   ]
  },
  {
   "cell_type": "code",
   "execution_count": null,
   "metadata": {},
   "outputs": [],
   "source": [
    "500**-0.2 / 700**-0.2"
   ]
  },
  {
   "cell_type": "code",
   "execution_count": 19,
   "metadata": {},
   "outputs": [],
   "source": [
    "plt.close('all')"
   ]
  },
  {
   "cell_type": "code",
   "execution_count": null,
   "metadata": {},
   "outputs": [],
   "source": []
  }
 ],
 "metadata": {
  "kernelspec": {
   "display_name": "Python 3",
   "language": "python",
   "name": "python3"
  },
  "language_info": {
   "codemirror_mode": {
    "name": "ipython",
    "version": 3
   },
   "file_extension": ".py",
   "mimetype": "text/x-python",
   "name": "python",
   "nbconvert_exporter": "python",
   "pygments_lexer": "ipython3",
   "version": "3.7.7"
  }
 },
 "nbformat": 4,
 "nbformat_minor": 4
}
