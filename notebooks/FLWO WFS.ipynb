{
 "cells": [
  {
   "cell_type": "code",
   "execution_count": 1,
   "metadata": {},
   "outputs": [],
   "source": [
    "import numpy as np\n",
    "import matplotlib\n",
    "import matplotlib.pyplot as plt\n",
    "\n",
    "import astropy.units as u\n",
    "from astropy import stats\n",
    "from astropy.io import fits\n",
    "from mmtwfs.wfs import *\n",
    "from mmtwfs.zernike import ZernikeVector\n",
    "from mmtwfs.telescope import MMT"
   ]
  },
  {
   "cell_type": "code",
   "execution_count": 2,
   "metadata": {},
   "outputs": [],
   "source": [
    "%load_ext autoreload\n",
    "%autoreload 2\n",
    "%matplotlib widget"
   ]
  },
  {
   "cell_type": "code",
   "execution_count": 3,
   "metadata": {},
   "outputs": [
    {
     "data": {
      "application/vnd.jupyter.widget-view+json": {
       "model_id": "a04dcba0af2e4985bcf393db1ecdd233",
       "version_major": 2,
       "version_minor": 0
      },
      "text/plain": [
       "Canvas(toolbar=Toolbar(toolitems=[('Home', 'Reset original view', 'home', 'home'), ('Back', 'Back to previous …"
      ]
     },
     "metadata": {},
     "output_type": "display_data"
    }
   ],
   "source": [
    "flwo_wfs = WFSFactory(wfs=\"flwo15\")"
   ]
  },
  {
   "cell_type": "code",
   "execution_count": 4,
   "metadata": {},
   "outputs": [
    {
     "name": "stdout",
     "output_type": "stream",
     "text": [
      "/Users/tim/MMT/FLWO/60inch\n"
     ]
    }
   ],
   "source": [
    "%cd ~/MMT/FLWO/60inch/"
   ]
  },
  {
   "cell_type": "code",
   "execution_count": 5,
   "metadata": {},
   "outputs": [
    {
     "data": {
      "application/vnd.jupyter.widget-view+json": {
       "model_id": "689f2332ec1a436c9b2878e0e1e6c0ba",
       "version_major": 2,
       "version_minor": 0
      },
      "text/plain": [
       "Canvas(toolbar=Toolbar(toolitems=[('Home', 'Reset original view', 'home', 'home'), ('Back', 'Back to previous …"
      ]
     },
     "metadata": {},
     "output_type": "display_data"
    },
    {
     "data": {
      "application/vnd.jupyter.widget-view+json": {
       "model_id": "de5bec78a84c46c3a5e81e72cf910012",
       "version_major": 2,
       "version_minor": 0
      },
      "text/plain": [
       "Canvas(toolbar=Toolbar(toolitems=[('Home', 'Reset original view', 'home', 'home'), ('Back', 'Back to previous …"
      ]
     },
     "metadata": {},
     "output_type": "display_data"
    },
    {
     "data": {
      "application/vnd.jupyter.widget-view+json": {
       "model_id": "30ade782756647af8f4052d7d066be35",
       "version_major": 2,
       "version_minor": 0
      },
      "text/plain": [
       "Canvas(toolbar=Toolbar(toolitems=[('Home', 'Reset original view', 'home', 'home'), ('Back', 'Back to previous …"
      ]
     },
     "metadata": {},
     "output_type": "display_data"
    }
   ],
   "source": [
    "#flwo_wfs.cen_sigma = 3.\n",
    "file = \"1195.star.p2m18.fits\"\n",
    "slopes = flwo_wfs.measure_slopes(file, plot=True)\n",
    "slopes['figures']['slopes'].show()"
   ]
  },
  {
   "cell_type": "code",
   "execution_count": 6,
   "metadata": {},
   "outputs": [
    {
     "data": {
      "application/vnd.jupyter.widget-view+json": {
       "model_id": "9dbd4b6efbd2411cb688559332e4fd38",
       "version_major": 2,
       "version_minor": 0
      },
      "text/plain": [
       "Canvas(toolbar=Toolbar(toolitems=[('Home', 'Reset original view', 'home', 'home'), ('Back', 'Back to previous …"
      ]
     },
     "metadata": {},
     "output_type": "display_data"
    },
    {
     "name": "stdout",
     "output_type": "stream",
     "text": [
      "805.5275049706579 nm\n",
      "Fringe Coefficients\n",
      " Z02:        -4.871 ±  97.6 nm \t X Tilt (1, 1)\n",
      " Z03:          1194 ±   101 nm \t Y Tilt (1, -1)\n",
      " Z04:         -5661 ±    48 nm \t Defocus (2, 0)\n",
      " Z05:        -584.8 ±  71.2 nm \t Primary Astig at 45° (2, -2)\n",
      " Z06:         849.1 ±  71.8 nm \t Primary Astig at 0° (2, 2)\n",
      " Z07:         644.8 ±  58.8 nm \t Primary Y Coma (3, -1)\n",
      " Z08:           783 ±  52.8 nm \t Primary X Coma (3, 1)\n",
      " Z09:        -896.2 ±  69.8 nm \t Y Trefoil (3, -3)\n",
      " Z10:         -1315 ±  76.5 nm \t X Trefoil (3, 3)\n",
      " Z11:         187.7 ±  44.8 nm \t Primary Spherical (4, 0)\n",
      " Z12:        -42.35 ±    52 nm \t Secondary Astigmatism at 0° (4, 2)\n",
      " Z13:         155.8 ±  51.7 nm \t Secondary Astigmatism at 45° (4, -2)\n",
      " Z14:         29.29 ±  72.4 nm \t X Tetrafoil (4, 4)\n",
      " Z15:         103.7 ±  74.5 nm \t Y Tetrafoil (4, -4)\n",
      " Z16:         56.76 ±  52.4 nm \t Secondary X Coma (5, 1)\n",
      " Z17:         18.15 ±  61.3 nm \t Secondary Y Coma (5, -1)\n",
      " Z18:         42.35 ±    55 nm \t Secondary X Trefoil (5, 3)\n",
      " Z19:         56.98 ±  55.5 nm \t Secondary Y Trefoil (5, -3)\n",
      " Z20:        -149.1 ±  74.8 nm \t X Pentafoil (5, 5)\n",
      " Z21:         204.1 ±  78.9 nm \t Y Pentafoil (5, -5)\n",
      " Z22:        -47.76 ±  39.4 nm \t Secondary Spherical (6, 0)\n",
      "\n",
      "Total RMS: \t 3365 nm\n",
      "\n"
     ]
    }
   ],
   "source": [
    "zresults = flwo_wfs.fit_wavefront(slopes, plot=True)\n",
    "zvec = zresults['zernike']\n",
    "print(zresults['residual_rms'])\n",
    "print(zvec.pretty_print())\n",
    "#print(zvec)\n",
    "zresults['resid_plot'].show()"
   ]
  },
  {
   "cell_type": "code",
   "execution_count": 9,
   "metadata": {},
   "outputs": [
    {
     "data": {
      "application/vnd.jupyter.widget-view+json": {
       "model_id": "2ff8a235f3dc410db8e1e84431f68142",
       "version_major": 2,
       "version_minor": 0
      },
      "text/plain": [
       "Canvas(toolbar=Toolbar(toolitems=[('Home', 'Reset original view', 'home', 'home'), ('Back', 'Back to previous …"
      ]
     },
     "metadata": {},
     "output_type": "display_data"
    }
   ],
   "source": [
    "zvec.fringe_bar_chart(max_c=2000*u.nm).show()"
   ]
  },
  {
   "cell_type": "code",
   "execution_count": null,
   "metadata": {},
   "outputs": [],
   "source": [
    "mask = mk_wfs_mask(slopes['data'][29:415,85:456])"
   ]
  },
  {
   "cell_type": "code",
   "execution_count": null,
   "metadata": {},
   "outputs": [],
   "source": [
    "plt.imshow(mask, origin='lower')\n",
    "plt.show()"
   ]
  },
  {
   "cell_type": "code",
   "execution_count": null,
   "metadata": {},
   "outputs": [],
   "source": [
    "zvec.fringe_bar_chart(max_c=500*u.nm).savefig(\"zernikes.pdf\")"
   ]
  },
  {
   "cell_type": "code",
   "execution_count": null,
   "metadata": {},
   "outputs": [],
   "source": [
    "500**-0.2 / 700**-0.2"
   ]
  },
  {
   "cell_type": "code",
   "execution_count": null,
   "metadata": {},
   "outputs": [],
   "source": [
    "plt.close('all')"
   ]
  },
  {
   "cell_type": "code",
   "execution_count": null,
   "metadata": {},
   "outputs": [],
   "source": []
  }
 ],
 "metadata": {
  "kernelspec": {
   "display_name": "Python 3",
   "language": "python",
   "name": "python3"
  },
  "language_info": {
   "codemirror_mode": {
    "name": "ipython",
    "version": 3
   },
   "file_extension": ".py",
   "mimetype": "text/x-python",
   "name": "python",
   "nbconvert_exporter": "python",
   "pygments_lexer": "ipython3",
   "version": "3.7.6"
  }
 },
 "nbformat": 4,
 "nbformat_minor": 4
}
