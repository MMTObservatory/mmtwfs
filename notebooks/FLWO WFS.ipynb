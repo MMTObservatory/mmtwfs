{
 "cells": [
  {
   "cell_type": "code",
   "execution_count": 1,
   "metadata": {},
   "outputs": [],
   "source": [
    "import numpy as np\n",
    "import matplotlib\n",
    "import matplotlib.pyplot as plt\n",
    "\n",
    "import astropy.units as u\n",
    "from astropy import stats\n",
    "from astropy.io import fits\n",
    "from mmtwfs.wfs import *\n",
    "from mmtwfs.zernike import ZernikeVector\n",
    "from mmtwfs.telescope import MMT"
   ]
  },
  {
   "cell_type": "code",
   "execution_count": 2,
   "metadata": {},
   "outputs": [],
   "source": [
    "%load_ext autoreload\n",
    "%autoreload 2\n",
    "%matplotlib widget"
   ]
  },
  {
   "cell_type": "code",
   "execution_count": 3,
   "metadata": {},
   "outputs": [
    {
     "data": {
      "application/vnd.jupyter.widget-view+json": {
       "model_id": "ba290efd2a694bfaab763127d47d6025",
       "version_major": 2,
       "version_minor": 0
      },
      "text/plain": [
       "Canvas(toolbar=Toolbar(toolitems=[('Home', 'Reset original view', 'home', 'home'), ('Back', 'Back to previous …"
      ]
     },
     "metadata": {},
     "output_type": "display_data"
    }
   ],
   "source": [
    "flwo_wfs = WFSFactory(wfs=\"flwo15\")"
   ]
  },
  {
   "cell_type": "code",
   "execution_count": 4,
   "metadata": {},
   "outputs": [
    {
     "name": "stdout",
     "output_type": "stream",
     "text": [
      "/Users/tim/MMT/FLWO/60inch\n"
     ]
    }
   ],
   "source": [
    "%cd ~/MMT/FLWO/60inch/"
   ]
  },
  {
   "cell_type": "code",
   "execution_count": 16,
   "metadata": {},
   "outputs": [
    {
     "name": "stderr",
     "output_type": "stream",
     "text": [
      "/Users/tim/MMT/mmtwfs/mmtwfs/wfs.py:260: RuntimeWarning: More than 20 figures have been opened. Figures created through the pyplot interface (`matplotlib.pyplot.figure`) are retained until explicitly closed and may consume too much memory. (To control this warning, see the rcParam `figure.max_open_warning`).\n",
      "  fig, ax = plt.subplots()\n"
     ]
    },
    {
     "data": {
      "application/vnd.jupyter.widget-view+json": {
       "model_id": "957dd1139ae74e9f98339b999818748a",
       "version_major": 2,
       "version_minor": 0
      },
      "text/plain": [
       "Canvas(toolbar=Toolbar(toolitems=[('Home', 'Reset original view', 'home', 'home'), ('Back', 'Back to previous …"
      ]
     },
     "metadata": {},
     "output_type": "display_data"
    },
    {
     "data": {
      "application/vnd.jupyter.widget-view+json": {
       "model_id": "9a648e245b7841ad91b936ea9dbe1cdb",
       "version_major": 2,
       "version_minor": 0
      },
      "text/plain": [
       "Canvas(toolbar=Toolbar(toolitems=[('Home', 'Reset original view', 'home', 'home'), ('Back', 'Back to previous …"
      ]
     },
     "metadata": {},
     "output_type": "display_data"
    },
    {
     "name": "stderr",
     "output_type": "stream",
     "text": [
      "/Users/tim/MMT/mmtwfs/mmtwfs/wfs.py:569: RuntimeWarning: More than 20 figures have been opened. Figures created through the pyplot interface (`matplotlib.pyplot.figure`) are retained until explicitly closed and may consume too much memory. (To control this warning, see the rcParam `figure.max_open_warning`).\n",
      "  aps_fig, ax = plt.subplots()\n"
     ]
    },
    {
     "data": {
      "application/vnd.jupyter.widget-view+json": {
       "model_id": "99556a559b0f478fb0a8b09f80142054",
       "version_major": 2,
       "version_minor": 0
      },
      "text/plain": [
       "Canvas(toolbar=Toolbar(toolitems=[('Home', 'Reset original view', 'home', 'home'), ('Back', 'Back to previous …"
      ]
     },
     "metadata": {},
     "output_type": "display_data"
    }
   ],
   "source": [
    "#flwo_wfs.cen_sigma = 3.\n",
    "file = \"1206.star.p0p17.fits\"\n",
    "slopes = flwo_wfs.measure_slopes(file, plot=True)\n",
    "slopes['figures']['slopes'].show()"
   ]
  },
  {
   "cell_type": "code",
   "execution_count": 17,
   "metadata": {},
   "outputs": [
    {
     "name": "stderr",
     "output_type": "stream",
     "text": [
      "/Users/tim/MMT/mmtwfs/mmtwfs/wfs.py:1112: RuntimeWarning: More than 20 figures have been opened. Figures created through the pyplot interface (`matplotlib.pyplot.figure`) are retained until explicitly closed and may consume too much memory. (To control this warning, see the rcParam `figure.max_open_warning`).\n",
      "  fig, ax = plt.subplots()\n"
     ]
    },
    {
     "data": {
      "application/vnd.jupyter.widget-view+json": {
       "model_id": "edfbc7fb497c4dd3849e710b6cd2febb",
       "version_major": 2,
       "version_minor": 0
      },
      "text/plain": [
       "Canvas(toolbar=Toolbar(toolitems=[('Home', 'Reset original view', 'home', 'home'), ('Back', 'Back to previous …"
      ]
     },
     "metadata": {},
     "output_type": "display_data"
    },
    {
     "name": "stdout",
     "output_type": "stream",
     "text": [
      "1031.1412752076792 nm\n",
      "Fringe Coefficients\n",
      " Z02:        -441.8 ±   128 nm \t X Tilt (1, 1)\n",
      " Z03:          1472 ±   139 nm \t Y Tilt (1, -1)\n",
      " Z04:         -6627 ±  66.3 nm \t Defocus (2, 0)\n",
      " Z05:        -894.2 ±  95.6 nm \t Primary Astig at 45° (2, -2)\n",
      " Z06:          1203 ±  94.3 nm \t Primary Astig at 0° (2, 2)\n",
      " Z07:         827.1 ±    84 nm \t Primary Y Coma (3, -1)\n",
      " Z08:         602.2 ±  68.4 nm \t Primary X Coma (3, 1)\n",
      " Z09:        -841.3 ±   102 nm \t Y Trefoil (3, -3)\n",
      " Z10:         -1119 ±  95.4 nm \t X Trefoil (3, 3)\n",
      " Z11:         275.1 ±  58.5 nm \t Primary Spherical (4, 0)\n",
      " Z12:         159.2 ±  69.4 nm \t Secondary Astigmatism at 0° (4, 2)\n",
      " Z13:         11.05 ±  68.5 nm \t Secondary Astigmatism at 45° (4, -2)\n",
      " Z14:         189.5 ±  96.1 nm \t X Tetrafoil (4, 4)\n",
      " Z15:         174.5 ±  94.9 nm \t Y Tetrafoil (4, -4)\n",
      " Z16:          24.4 ±  67.8 nm \t Secondary X Coma (5, 1)\n",
      " Z17:           230 ±  82.7 nm \t Secondary Y Coma (5, -1)\n",
      " Z18:        -36.55 ±  68.3 nm \t Secondary X Trefoil (5, 3)\n",
      " Z19:         129.4 ±  74.3 nm \t Secondary Y Trefoil (5, -3)\n",
      " Z20:        -88.42 ±  99.7 nm \t X Pentafoil (5, 5)\n",
      " Z21:         208.9 ±   103 nm \t Y Pentafoil (5, -5)\n",
      " Z22:        -33.05 ±  52.5 nm \t Secondary Spherical (6, 0)\n",
      "\n",
      "Total RMS: \t 3927 nm\n",
      "\n"
     ]
    }
   ],
   "source": [
    "zresults = flwo_wfs.fit_wavefront(slopes, plot=True)\n",
    "zvec = zresults['zernike']\n",
    "print(zresults['residual_rms'])\n",
    "print(zvec.pretty_print())\n",
    "#print(zvec)\n",
    "zresults['resid_plot'].show()"
   ]
  },
  {
   "cell_type": "code",
   "execution_count": 18,
   "metadata": {},
   "outputs": [
    {
     "name": "stderr",
     "output_type": "stream",
     "text": [
      "/Users/tim/MMT/mmtwfs/mmtwfs/zernike.py:1312: RuntimeWarning: More than 20 figures have been opened. Figures created through the pyplot interface (`matplotlib.pyplot.figure`) are retained until explicitly closed and may consume too much memory. (To control this warning, see the rcParam `figure.max_open_warning`).\n",
      "  fig, ax = plt.subplots(figsize=(11, 5))\n"
     ]
    },
    {
     "data": {
      "application/vnd.jupyter.widget-view+json": {
       "model_id": "ac47ff6d2a5a4822aae15bda8c06d168",
       "version_major": 2,
       "version_minor": 0
      },
      "text/plain": [
       "Canvas(toolbar=Toolbar(toolitems=[('Home', 'Reset original view', 'home', 'home'), ('Back', 'Back to previous …"
      ]
     },
     "metadata": {},
     "output_type": "display_data"
    }
   ],
   "source": [
    "zvec.fringe_bar_chart(max_c=2000*u.nm).show()"
   ]
  },
  {
   "cell_type": "code",
   "execution_count": null,
   "metadata": {},
   "outputs": [],
   "source": [
    "mask = mk_wfs_mask(slopes['data'][29:415,85:456])"
   ]
  },
  {
   "cell_type": "code",
   "execution_count": null,
   "metadata": {},
   "outputs": [],
   "source": [
    "plt.imshow(mask, origin='lower')\n",
    "plt.show()"
   ]
  },
  {
   "cell_type": "code",
   "execution_count": null,
   "metadata": {},
   "outputs": [],
   "source": [
    "zvec.fringe_bar_chart(max_c=500*u.nm).savefig(\"zernikes.pdf\")"
   ]
  },
  {
   "cell_type": "code",
   "execution_count": null,
   "metadata": {},
   "outputs": [],
   "source": [
    "500**-0.2 / 700**-0.2"
   ]
  },
  {
   "cell_type": "code",
   "execution_count": null,
   "metadata": {},
   "outputs": [],
   "source": [
    "plt.close('all')"
   ]
  },
  {
   "cell_type": "code",
   "execution_count": null,
   "metadata": {},
   "outputs": [],
   "source": []
  }
 ],
 "metadata": {
  "kernelspec": {
   "display_name": "Python 3",
   "language": "python",
   "name": "python3"
  },
  "language_info": {
   "codemirror_mode": {
    "name": "ipython",
    "version": 3
   },
   "file_extension": ".py",
   "mimetype": "text/x-python",
   "name": "python",
   "nbconvert_exporter": "python",
   "pygments_lexer": "ipython3",
   "version": "3.7.6"
  }
 },
 "nbformat": 4,
 "nbformat_minor": 4
}
