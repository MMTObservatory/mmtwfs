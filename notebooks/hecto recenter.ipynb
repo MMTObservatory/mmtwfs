{
 "cells": [
  {
   "cell_type": "code",
   "execution_count": 4,
   "metadata": {},
   "outputs": [],
   "source": [
    "import numpy as np\n",
    "import astropy.units as u\n",
    "from mmtwfs.wfs import cart2pol, pol2cart"
   ]
  },
  {
   "cell_type": "code",
   "execution_count": 19,
   "metadata": {},
   "outputs": [],
   "source": [
    "center = (251, 267)\n",
    "p10az = (177, 254)\n",
    "p10el = (239, 347)\n",
    "sysrot = (234-90) * u.deg\n",
    "rot = -46.93 * u.deg\n",
    "az_parity = -1\n",
    "el_parity = -1\n",
    "pix_size = 0.135"
   ]
  },
  {
   "cell_type": "code",
   "execution_count": 21,
   "metadata": {},
   "outputs": [
    {
     "data": {
      "text/plain": [
       "(-10.141541878199513, -0.17103605679947487)"
      ]
     },
     "execution_count": 21,
     "metadata": {},
     "output_type": "execute_result"
    }
   ],
   "source": [
    "total_rot = sysrot - rot\n",
    "dx = p10az[0] - center[0]\n",
    "dy = p10az[1] - center[1]\n",
    "dr, phi = cart2pol([dx, -dy])\n",
    "derot_phi = phi + total_rot.to(u.rad).value\n",
    "az, el = pol2cart([dr, derot_phi])\n",
    "az *= az_parity * pix_size\n",
    "el *= el_parity * pix_size\n",
    "az, el"
   ]
  },
  {
   "cell_type": "code",
   "execution_count": null,
   "metadata": {},
   "outputs": [],
   "source": []
  }
 ],
 "metadata": {
  "kernelspec": {
   "display_name": "Python 3",
   "language": "python",
   "name": "python3"
  },
  "language_info": {
   "codemirror_mode": {
    "name": "ipython",
    "version": 3
   },
   "file_extension": ".py",
   "mimetype": "text/x-python",
   "name": "python",
   "nbconvert_exporter": "python",
   "pygments_lexer": "ipython3",
   "version": "3.7.2"
  }
 },
 "nbformat": 4,
 "nbformat_minor": 2
}
