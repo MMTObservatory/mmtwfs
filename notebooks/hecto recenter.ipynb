{
 "cells": [
  {
   "cell_type": "code",
   "execution_count": 1,
   "metadata": {},
   "outputs": [],
   "source": [
    "import numpy as np\n",
    "import astropy.units as u\n",
    "from mmtwfs.wfs import cart2pol, pol2cart"
   ]
  },
  {
   "cell_type": "code",
   "execution_count": 3,
   "metadata": {},
   "outputs": [],
   "source": [
    "# 2019-01-25 data\n",
    "center = (251, 267)\n",
    "p10az = (177, 254)\n",
    "p10el = (239, 347)\n",
    "sysrot = (234-90) * u.deg\n",
    "rot = -46.93 * u.deg\n",
    "az_parity = -1\n",
    "el_parity = -1\n",
    "pix_size = 0.135"
   ]
  },
  {
   "cell_type": "code",
   "execution_count": 4,
   "metadata": {},
   "outputs": [],
   "source": [
    "# 2019-01-26 data\n",
    "center = (241, 265)\n",
    "p10az = (185, 318)\n",
    "p10el = (289, 327)\n",
    "sysrot = (234-90) * u.deg\n",
    "rot = 0.0 * u.deg\n",
    "az_parity = -1\n",
    "el_parity = -1\n",
    "pix_size = 0.135"
   ]
  },
  {
   "cell_type": "code",
   "execution_count": 6,
   "metadata": {},
   "outputs": [
    {
     "data": {
      "text/plain": [
       "(0.3226675618616576, -10.580320677773537)"
      ]
     },
     "execution_count": 6,
     "metadata": {},
     "output_type": "execute_result"
    }
   ],
   "source": [
    "total_rot = sysrot - rot\n",
    "dx = p10el[0] - center[0]\n",
    "dy = p10el[1] - center[1]\n",
    "dr, phi = cart2pol([dx, -dy])\n",
    "derot_phi = phi + total_rot.to(u.rad).value\n",
    "az, el = pol2cart([dr, derot_phi])\n",
    "az *= az_parity * pix_size\n",
    "el *= el_parity * pix_size\n",
    "az, el"
   ]
  },
  {
   "cell_type": "code",
   "execution_count": 9,
   "metadata": {},
   "outputs": [
    {
     "data": {
      "text/plain": [
       "(-17.25, -22.5)"
      ]
     },
     "execution_count": 9,
     "metadata": {},
     "output_type": "execute_result"
    }
   ],
   "source": [
    "az_off = [-16, -13, -16, -19, -18, -16, -20, -20]\n",
    "el_off = [-19, -25, -25, -20, -26, -27, -19, -19]\n",
    "np.mean(az_off), np.mean(el_off)"
   ]
  },
  {
   "cell_type": "code",
   "execution_count": 2,
   "metadata": {},
   "outputs": [],
   "source": [
    "def zero_coma_shift(sky, az=False):\n",
    "    tilt_trans = 9.453\n",
    "    sky_zc = 0.3\n",
    "    tilt = sky / sky_zc\n",
    "    trans = tilt * tilt_trans\n",
    "    if az:\n",
    "        trans *= -1\n",
    "    print(f\"Trans = {trans:.2f}, Tilt = {tilt:.2f}\\n\")"
   ]
  },
  {
   "cell_type": "code",
   "execution_count": 3,
   "metadata": {},
   "outputs": [
    {
     "name": "stdout",
     "output_type": "stream",
     "text": [
      "Trans = 378.12, Tilt = 40.00\n",
      "\n"
     ]
    }
   ],
   "source": [
    "zero_coma_shift(12)  # EL shift on feb 10"
   ]
  },
  {
   "cell_type": "code",
   "execution_count": 3,
   "metadata": {},
   "outputs": [
    {
     "data": {
      "text/plain": [
       "(266.5, 92.5, 44, 2708, 14286)"
      ]
     },
     "execution_count": 3,
     "metadata": {},
     "output_type": "execute_result"
    }
   ],
   "source": [
    "# from feb 10 2022\n",
    "tx = 201 + 40 + 25.5\n",
    "ty = 81 + 11.5\n",
    "x = 330 - 286\n",
    "y = 1693 + 637 + 378\n",
    "z = 13609 + 319 + 358\n",
    "tx, ty, x, y, z"
   ]
  },
  {
   "cell_type": "code",
   "execution_count": 2,
   "metadata": {},
   "outputs": [
    {
     "name": "stdout",
     "output_type": "stream",
     "text": [
      "Trans = -882.28, Tilt = -93.33\n",
      "\n"
     ]
    }
   ],
   "source": [
    "zero_coma_shift(-28)  # EL shift on jan 21 2022"
   ]
  },
  {
   "cell_type": "code",
   "execution_count": 5,
   "metadata": {},
   "outputs": [
    {
     "name": "stdout",
     "output_type": "stream",
     "text": [
      "Trans = 378.12, Tilt = -40.00\n",
      "\n"
     ]
    }
   ],
   "source": [
    "zero_coma_shift(-12, az=True)  # AZ shift on jan 21 2022"
   ]
  },
  {
   "cell_type": "code",
   "execution_count": 10,
   "metadata": {},
   "outputs": [
    {
     "name": "stdout",
     "output_type": "stream",
     "text": [
      "Trans = -708.97, Tilt = -75.00\n",
      "\n"
     ]
    }
   ],
   "source": [
    "zero_coma_shift(np.mean(el_off)) # EL shift feb 8 2022"
   ]
  },
  {
   "cell_type": "code",
   "execution_count": 12,
   "metadata": {},
   "outputs": [
    {
     "name": "stdout",
     "output_type": "stream",
     "text": [
      "Trans = 543.55, Tilt = -57.50\n",
      "\n"
     ]
    }
   ],
   "source": [
    "zero_coma_shift(np.mean(az_off), az=True) # AZ shift feb 8 2022"
   ]
  },
  {
   "cell_type": "code",
   "execution_count": 13,
   "metadata": {},
   "outputs": [],
   "source": [
    "#  X    Y  Z  TX  TY\n",
    "# 554 -709 Z -75 -58"
   ]
  },
  {
   "cell_type": "code",
   "execution_count": 14,
   "metadata": {},
   "outputs": [
    {
     "data": {
      "text/plain": [
       "81"
      ]
     },
     "execution_count": 14,
     "metadata": {},
     "output_type": "execute_result"
    }
   ],
   "source": [
    "139 - 58"
   ]
  },
  {
   "cell_type": "code",
   "execution_count": 15,
   "metadata": {},
   "outputs": [
    {
     "data": {
      "text/plain": [
       "330"
      ]
     },
     "execution_count": 15,
     "metadata": {},
     "output_type": "execute_result"
    }
   ],
   "source": [
    "-224 + 554"
   ]
  },
  {
   "cell_type": "code",
   "execution_count": 16,
   "metadata": {},
   "outputs": [
    {
     "data": {
      "text/plain": [
       "1693.1"
      ]
     },
     "execution_count": 16,
     "metadata": {},
     "output_type": "execute_result"
    }
   ],
   "source": [
    "2402.1 - 709"
   ]
  },
  {
   "cell_type": "code",
   "execution_count": null,
   "metadata": {},
   "outputs": [],
   "source": []
  }
 ],
 "metadata": {
  "kernelspec": {
   "display_name": "Python 3",
   "language": "python",
   "name": "python3"
  },
  "language_info": {
   "codemirror_mode": {
    "name": "ipython",
    "version": 3
   },
   "file_extension": ".py",
   "mimetype": "text/x-python",
   "name": "python",
   "nbconvert_exporter": "python",
   "pygments_lexer": "ipython3",
   "version": "3.9.7"
  }
 },
 "nbformat": 4,
 "nbformat_minor": 2
}
