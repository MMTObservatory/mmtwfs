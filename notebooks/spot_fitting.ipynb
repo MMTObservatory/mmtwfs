{
 "cells": [
  {
   "cell_type": "code",
   "execution_count": null,
   "metadata": {},
   "outputs": [],
   "source": [
    "import numpy as np\n",
    "\n",
    "import matplotlib.pyplot as plt\n",
    "\n",
    "from astropy.io import fits\n",
    "from astropy import stats\n",
    "from astropy.modeling.models import Gaussian2D, Lorentz2D, Moffat2D\n",
    "from astropy.modeling import fitting\n",
    "import astropy.units as u\n",
    "\n",
    "from photutils.aperture import CircularAperture\n",
    "\n",
    "from mmtwfs.wfs import check_wfsdata, wfsfind"
   ]
  },
  {
   "cell_type": "code",
   "execution_count": null,
   "metadata": {},
   "outputs": [],
   "source": [
    "%load_ext autoreload\n",
    "%autoreload 2\n",
    "#%matplotlib widget"
   ]
  },
  {
   "cell_type": "code",
   "execution_count": null,
   "metadata": {},
   "outputs": [],
   "source": [
    "bino_file = \"/Volumes/Elements_18TB/wfsdat/20241001/wfs_ff_cal_img_2024.10.01T025918.888.fits\"\n",
    "bino_file = \"~/MMT/wfsdat/20250203/wfs_ff_cal_img_2025.02.03T114159.989.fits\"\n",
    "bino_file = \"~/MMT/wfsdat/20250203/wfs_ff_cal_img_2025.02.03T123505.342.fits\"\n",
    "data = check_wfsdata(bino_file)"
   ]
  },
  {
   "cell_type": "code",
   "execution_count": null,
   "metadata": {},
   "outputs": [],
   "source": [
    "mean, median, stddev = stats.sigma_clipped_stats(data, sigma=3.0, maxiters=None)"
   ]
  },
  {
   "cell_type": "code",
   "execution_count": null,
   "metadata": {},
   "outputs": [],
   "source": [
    "srcs, wfsfind_fig = wfsfind(data, fwhm=6., threshold=4., std=stddev, plot=True)"
   ]
  },
  {
   "cell_type": "code",
   "execution_count": null,
   "metadata": {},
   "outputs": [],
   "source": [
    "apers = CircularAperture(\n",
    "    list(zip(srcs['xcentroid'], srcs['ycentroid'])),\n",
    "    r=12.\n",
    ")"
   ]
  },
  {
   "cell_type": "code",
   "execution_count": null,
   "metadata": {},
   "outputs": [],
   "source": [
    "masks = apers.to_mask(method='subpixel')\n",
    "sigma = 0.0\n",
    "snrs = []\n",
    "spot = np.zeros(masks[0].shape)\n",
    "for m in masks:\n",
    "    subim = m.cutout(data)\n",
    "\n",
    "    # make co-added spot image for use in calculating the seeing\n",
    "    if subim.shape == spot.shape:\n",
    "        spot += subim\n",
    "\n",
    "    signal = subim.sum()\n",
    "    noise = np.sqrt(stddev**2 * subim.shape[0] * subim.shape[1])\n",
    "    snr = signal / noise\n",
    "    snrs.append(snr)\n",
    "\n",
    "snrs = np.array(snrs)\n",
    "fits.writeto(\"spot.fits\", spot, overwrite=True)\n",
    "\n",
    "back = np.mean([spot[:2, :].mean(), spot[-2:, :].mean(), spot[:, :2].mean(), spot[:, -2:].mean()])\n",
    "print(back)\n",
    "spot -= back\n",
    "g2d = Gaussian2D(amplitude=spot.max(), x_mean=spot.shape[1]/2, y_mean=spot.shape[0]/2)\n",
    "l2d = Lorentz2D(amplitude=spot.max(), x_0=spot.shape[1]/2, y_0=spot.shape[0]/2)\n",
    "m2d = Moffat2D(amplitude=spot.max(), x_0=spot.shape[1]/2, y_0=spot.shape[0]/2)\n",
    "\n",
    "model = m2d\n",
    "gmodel = g2d\n",
    "fitter = fitting.DogBoxLSQFitter()\n",
    "y, x = np.mgrid[:spot.shape[0], :spot.shape[1]]\n",
    "fit = fitter(model, x, y, spot)\n",
    "gfit = fitter(gmodel, x, y, spot)\n",
    "\n",
    "gsigma = 0.5 * (gfit.x_stddev.value + gfit.y_stddev.value)\n",
    "#print(sigma)\n",
    "print(fit.fwhm, gsigma * stats.gaussian_sigma_to_fwhm)"
   ]
  },
  {
   "cell_type": "code",
   "execution_count": null,
   "metadata": {},
   "outputs": [],
   "source": [
    "fig, ax = plt.subplots(1, 3)\n",
    "im1 = ax[0].imshow(spot, origin='lower')\n",
    "im2 = ax[1].imshow(spot - fit(x, y), origin='lower')\n",
    "im2 = ax[2].imshow(spot - gfit(x, y), origin='lower')\n",
    "plt.show()"
   ]
  },
  {
   "cell_type": "code",
   "execution_count": null,
   "metadata": {},
   "outputs": [],
   "source": [
    "gfit"
   ]
  },
  {
   "cell_type": "code",
   "execution_count": null,
   "metadata": {},
   "outputs": [],
   "source": [
    "stats.gaussian_fwhm_to_sigma * fit.fwhm"
   ]
  },
  {
   "cell_type": "code",
   "execution_count": null,
   "metadata": {},
   "outputs": [],
   "source": [
    "(gfit.theta * u.rad).to(u.deg)"
   ]
  },
  {
   "cell_type": "code",
   "execution_count": null,
   "metadata": {},
   "outputs": [],
   "source": []
  }
 ],
 "metadata": {
  "kernelspec": {
   "display_name": "mmtwfs",
   "language": "python",
   "name": "python3"
  },
  "language_info": {
   "codemirror_mode": {
    "name": "ipython",
    "version": 3
   },
   "file_extension": ".py",
   "mimetype": "text/x-python",
   "name": "python",
   "nbconvert_exporter": "python",
   "pygments_lexer": "ipython3",
   "version": "3.13.5"
  }
 },
 "nbformat": 4,
 "nbformat_minor": 2
}
