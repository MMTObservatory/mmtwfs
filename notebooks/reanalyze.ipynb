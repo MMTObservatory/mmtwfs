{
 "cells": [
  {
   "cell_type": "code",
   "execution_count": 1,
   "metadata": {},
   "outputs": [],
   "source": [
    "from datetime import datetime\n",
    "import traceback\n",
    "import functools\n",
    "import multiprocessing\n",
    "from multiprocessing import Pool\n",
    "\n",
    "import pytz\n",
    "import time\n",
    "import os\n",
    "import sys\n",
    "from pathlib import Path\n",
    "\n",
    "import numpy as np\n",
    "import scipy\n",
    "import pandas as pd\n",
    "\n",
    "import matplotlib\n",
    "matplotlib.use('nbagg')\n",
    "from matplotlib import style\n",
    "style.use('ggplot')\n",
    "import matplotlib.pyplot as plt\n",
    "\n",
    "%load_ext autoreload\n",
    "%autoreload 2\n",
    "\n",
    "from astropy import stats\n",
    "\n",
    "import astropy.units as u\n",
    "from astropy.io import fits\n",
    "from mmtwfs.wfs import WFSFactory\n",
    "\n",
    "tz = pytz.timezone(\"America/Phoenix\")"
   ]
  },
  {
   "cell_type": "code",
   "execution_count": 2,
   "metadata": {},
   "outputs": [],
   "source": [
    "def get_traceback(f):\n",
    "    @functools.wraps(f)\n",
    "    def wrapper(*args, **kwargs):\n",
    "        try:\n",
    "            return f(*args, **kwargs)\n",
    "        except Exception as ex:\n",
    "            ret = '#' * 60\n",
    "            ret += \"\\nException caught:\"\n",
    "            ret += \"\\n\"+'-'*60\n",
    "            ret += \"\\n\" + traceback.format_exc()\n",
    "            ret += \"\\n\" + '-' * 60\n",
    "            ret += \"\\n\"+ \"#\" * 60\n",
    "            print(sys.stderr, ret)\n",
    "            sys.stderr.flush()\n",
    "            raise ex\n",
    " \n",
    "    return wrapper"
   ]
  },
  {
   "cell_type": "code",
   "execution_count": 3,
   "metadata": {},
   "outputs": [],
   "source": [
    "# instantiate all of the WFS systems...\n",
    "wfs_keys = ['f9', 'newf9', 'f5', 'mmirs', 'binospec']\n",
    "wfs_systems = {}\n",
    "wfs_names = {}\n",
    "for w in wfs_keys:\n",
    "    wfs_systems[w] = WFSFactory(wfs=w)\n",
    "    wfs_names[w] = wfs_systems[w].name\n",
    "plt.close('all')\n",
    "\n",
    "# give mmirs a default\n",
    "wfs_systems['mmirs'].default_mode = 'mmirs1'\n",
    "\n",
    "# map f9 to oldf9\n",
    "wfs_systems['oldf9'] = wfs_systems['f9']"
   ]
  },
  {
   "cell_type": "code",
   "execution_count": 7,
   "metadata": {},
   "outputs": [],
   "source": [
    "def check_image(f, wfskey=None):\n",
    "    hdr = {}\n",
    "    with fits.open(f) as hdulist:\n",
    "        for h in hdulist:\n",
    "            hdr.update(h.header)\n",
    "        data = hdulist[-1].data\n",
    "    \n",
    "    # if wfskey is None, figure out which WFS from the header info...\n",
    "    if wfskey is None:\n",
    "        # check for MMIRS\n",
    "        if 'WFSNAME' in hdr:\n",
    "            if 'mmirs' in hdr['WFSNAME']:\n",
    "                wfskey = 'mmirs'\n",
    "        if 'mmirs' in f.name:\n",
    "            wfskey = 'mmirs'\n",
    "\n",
    "        # check for binospec\n",
    "        if 'bino' in f.name:\n",
    "            wfskey = 'binospec'\n",
    "        if 'ORIGIN' in hdr:\n",
    "            if 'Binospec' in hdr['ORIGIN']:\n",
    "                wfskey = 'binospec'\n",
    "\n",
    "        # check for new F/9\n",
    "        if 'f9wfs' in f.name:\n",
    "            wfskey = 'newf9'\n",
    "        if 'OBSERVER' in hdr:\n",
    "            if 'F/9 WFS' in hdr['OBSERVER']:\n",
    "                wfskey = 'newf9'\n",
    "        if wfskey is None and 'CAMERA' in hdr:\n",
    "            if 'F/9 WFS' in hdr['CAMERA']:\n",
    "                wfskey = 'newf9'\n",
    "\n",
    "        # check for old F/9\n",
    "        if 'INSTRUME' in hdr:\n",
    "            if 'Apogee' in hdr['INSTRUME']:\n",
    "                wfskey = 'oldf9'\n",
    "        if 'DETECTOR' in hdr:\n",
    "            if 'Apogee' in hdr['DETECTOR']:\n",
    "                wfskey = 'oldf9'\n",
    "\n",
    "        # check for F/5 (hecto)\n",
    "        if wfskey is None and 'SEC' in hdr:  # mmirs has SEC in header as well and is caught above\n",
    "            if 'F5' in hdr['SEC']:\n",
    "                wfskey = 'f5'\n",
    "        if Path(f.parent / \"F5\").exists():\n",
    "            wfskey = 'f5'\n",
    "            \n",
    "    if wfskey is None:\n",
    "        # if wfskey is still None at this point, whinge.\n",
    "        print(f\"Can't determine WFS for {f.name}...\")\n",
    "\n",
    "    if 'AIRMASS' not in hdr:\n",
    "        if 'SECZ' in hdr:\n",
    "            hdr['AIRMASS'] = hdr['SECZ']\n",
    "        else:\n",
    "            hdr['AIRMASS'] = np.nan\n",
    "\n",
    "    # we need to fix the headers in all cases to have a proper DATE-OBS entry with\n",
    "    # properly formatted FITS timestamp.  in the meantime, this hack gets us what we need \n",
    "    # for analysis in pandas.\n",
    "    dtime = None\n",
    "    if 'DATEOBS' in hdr:\n",
    "        dateobs = hdr['DATEOBS']\n",
    "        if 'UT' in hdr:\n",
    "            ut = hdr['UT'].strip()\n",
    "        elif 'TIME-OBS' in hdr:\n",
    "            ut = hdr['TIME-OBS']\n",
    "        else:\n",
    "            ut = \"07:00:00\"  # midnight\n",
    "        timestring = dateobs + \" \" + ut + \" UTC\"\n",
    "        if '-' in timestring:\n",
    "            dtime = datetime.strptime(timestring, \"%Y-%m-%d %H:%M:%S %Z\")\n",
    "        else:\n",
    "            dtime = datetime.strptime(timestring, \"%a %b %d %Y %H:%M:%S %Z\")\n",
    "\n",
    "    else:\n",
    "        if wfskey == \"oldf9\":\n",
    "            d = hdr['DATE-OBS']\n",
    "            if '/' in d:\n",
    "                day, month, year = d.split('/')\n",
    "                year = str(int(year) + 1900)\n",
    "                timestring = year + \"-\" + month + \"-\" + day + \" \" + hdr['TIME-OBS'] + \" UTC\"\n",
    "            else:\n",
    "                timestring = d + \" \" + hdr['TIME-OBS'] + \" UTC\"\n",
    "            dtime = datetime.strptime(timestring, \"%Y-%m-%d %H:%M:%S %Z\")\n",
    "        else:\n",
    "            if 'DATE-OBS' in hdr:\n",
    "                timestring = hdr['DATE-OBS'] + \" UTC\"\n",
    "                try:\n",
    "                    dtime = datetime.strptime(timestring, \"%Y-%m-%dT%H:%M:%S.%f %Z\")\n",
    "                except:\n",
    "                    dtime = datetime.strptime(timestring, \"%Y-%m-%dT%H:%M:%S %Z\")\n",
    "                # mmirs uses local time in this header pre-2019\n",
    "                if wfskey == 'mmirs' and dtime < datetime.fromisoformat(\"2019-01-01T12:00:00\"):\n",
    "                    local_dt = tz.localize(dtime)\n",
    "                    dtime = local_dt.astimezone(pytz.utc)\n",
    "            else:\n",
    "                dt = datetime.fromtimestamp(f.stat().st_ctime)\n",
    "                local_dt = tz.localize(dt)\n",
    "                dtime = local_dt.astimezone(pytz.utc)\n",
    "\n",
    "    if dtime is None:\n",
    "        print(f\"No valid timestamp in header for {f.name}...\")\n",
    "        obstime = None\n",
    "    else:\n",
    "        obstime = dtime.isoformat().replace('+00:00', '')\n",
    "        \n",
    "    hdr['WFSKEY'] = wfskey\n",
    "    hdr['OBS-TIME'] = obstime\n",
    "    return data, hdr"
   ]
  },
  {
   "cell_type": "code",
   "execution_count": 13,
   "metadata": {},
   "outputs": [],
   "source": [
    "@get_traceback\n",
    "def process_image(f):\n",
    "    \"\"\"\n",
    "    Process FITS file, f, to get info we want from the header and then analyse it with the \n",
    "    appropriate WFS instance. Return results in a comma-separated line that will be collected \n",
    "    and saved in a CSV file.\n",
    "    \"\"\"            \n",
    "    data, hdr = check_image(f)\n",
    "    \n",
    "    wfskey = hdr['WFSKEY']\n",
    "    obstime = hdr['OBS-TIME']\n",
    "    airmass = hdr['AIRMASS']\n",
    "    exptime = hdr['EXPTIME']\n",
    "    \n",
    "    # being conservative here and only using data that has proper slope determination\n",
    "    # and wavefront solution. also want to get statistics on the quality of the wavefront fits.\n",
    "    try:\n",
    "        results = wfs_systems[wfskey].measure_slopes(str(f), plot=False)\n",
    "    except:\n",
    "        print(f\"Problem analyzing {f.name}...\")\n",
    "        results = {}\n",
    "        results['slopes'] = None\n",
    "\n",
    "    if results['slopes'] is not None:\n",
    "        zresults = wfs_systems[wfskey].fit_wavefront(results, plot=False)\n",
    "        line = \"%s,%s,%s,%f,%f,%f,%f,%f,%f,%f\\n\" % (\n",
    "            obstime,\n",
    "            wfskey,\n",
    "            f.name,\n",
    "            exptime,\n",
    "            airmass,\n",
    "            results['seeing'].value,\n",
    "            results['raw_seeing'].value,\n",
    "            results['fwhm'],\n",
    "            zresults['zernike_rms'].value,\n",
    "            zresults['residual_rms'].value\n",
    "        )\n",
    "        zfile = f.parent / (f.stem + \".reanalyze.zernike\")\n",
    "        zresults['zernike'].save(filename=zfile)\n",
    "        spotfile = f.parent / (f.stem + \".spots.csv\")\n",
    "        results['spots'].write(spotfile, overwrite=True)\n",
    "        return line\n",
    "    else:\n",
    "        return None\n",
    "\n",
    "#rootdir = Path(\"/Users/tim/MMT/wfsdat\")\n",
    "rootdir = Path(\"/Volumes/LaCie 8TB/wfsdat\")\n",
    "#rootdir = Path(\"/Volumes/Seagate2TB/wfsdat\")\n",
    "#rootdir = Path(\"/mnt/d/wfsdat\")"
   ]
  },
  {
   "cell_type": "code",
   "execution_count": 15,
   "metadata": {},
   "outputs": [
    {
     "name": "stdout",
     "output_type": "stream",
     "text": [
      "checking 20181001... \n",
      "checking 20181002... \n",
      "checking 20181003... \n",
      "checking 20181004... \n",
      "Already processed 20181005...\n",
      "checking 20181006... \n",
      "checking 20181007... \n",
      "checking 20181008... \n",
      "checking 20181009... \n",
      "checking 20181010... \n",
      "checking 20181011... \n"
     ]
    },
    {
     "name": "stderr",
     "output_type": "stream",
     "text": [
      "Wavefront slope measurement failed: (WFSAnalysisFailed(...), 'Only 43 spots detected out of 108 apertures.')\n",
      "Wavefront slope measurement failed: (WFSAnalysisFailed(...), 'Only 42 spots detected out of 108 apertures.')\n"
     ]
    },
    {
     "name": "stdout",
     "output_type": "stream",
     "text": [
      "checking 20181012... \n",
      "checking 20181013... \n",
      "checking 20181014... \n",
      "checking 20181015... \n",
      "checking 20181016... \n",
      "checking 20181017... \n",
      "checking 20181018... \n"
     ]
    },
    {
     "name": "stderr",
     "output_type": "stream",
     "text": [
      "Wavefront slope measurement failed: (WFSAnalysisFailed(...), 'Only 1 spots detected out of 110 apertures.')\n",
      "Wavefront slope measurement failed: (WFSAnalysisFailed(...), 'Only 33 spots detected out of 110 apertures.')\n"
     ]
    },
    {
     "name": "stdout",
     "output_type": "stream",
     "text": [
      "checking 20181019... \n"
     ]
    },
    {
     "name": "stderr",
     "output_type": "stream",
     "text": [
      "Wavefront slope measurement failed: (WFSAnalysisFailed(...), 'Only 15 spots detected out of 151 apertures.')\n",
      "Wavefront slope measurement failed: (WFSAnalysisFailed(...), 'Only 3 spots detected out of 151 apertures.')\n"
     ]
    },
    {
     "name": "stdout",
     "output_type": "stream",
     "text": [
      "checking 20181020... \n",
      "checking 20181021... \n",
      "checking 20181022... \n",
      "checking 20181023... \n",
      "checking 20181024... \n",
      "checking 20181025... \n",
      "checking 20181026... \n"
     ]
    },
    {
     "name": "stderr",
     "output_type": "stream",
     "text": [
      "Wavefront slope measurement failed: (WFSAnalysisFailed(...), 'No WFS spots detected.')\n"
     ]
    },
    {
     "name": "stdout",
     "output_type": "stream",
     "text": [
      "checking 20181027... \n"
     ]
    },
    {
     "name": "stderr",
     "output_type": "stream",
     "text": [
      "Wavefront slope measurement failed: (WFSAnalysisFailed(...), 'Only 35 spots detected out of 151 apertures.')\n",
      "Wavefront slope measurement failed: (WFSAnalysisFailed(...), 'Only 75 spots detected out of 151 apertures.')\n",
      "Wavefront slope measurement failed: (WFSAnalysisFailed(...), 'Only 19 spots detected out of 151 apertures.')\n",
      "Wavefront slope measurement failed: (WFSAnalysisFailed(...), 'Only 27 spots detected out of 151 apertures.')\n"
     ]
    },
    {
     "name": "stdout",
     "output_type": "stream",
     "text": [
      "checking 20181028... \n",
      "checking 20181029... \n",
      "checking 20181030... \n"
     ]
    },
    {
     "name": "stderr",
     "output_type": "stream",
     "text": [
      "Wavefront slope measurement failed: (WFSAnalysisFailed(...), 'No WFS spots detected.')\n"
     ]
    },
    {
     "name": "stdout",
     "output_type": "stream",
     "text": [
      "checking 20181031... \n",
      "checking 20181101... \n"
     ]
    },
    {
     "name": "stderr",
     "output_type": "stream",
     "text": [
      "Wavefront slope measurement failed: (WFSAnalysisFailed(...), 'Only 41 spots detected out of 106 apertures.')\n",
      "Wavefront slope measurement failed: (WFSAnalysisFailed(...), 'Only 50 spots detected out of 106 apertures.')\n"
     ]
    },
    {
     "name": "stdout",
     "output_type": "stream",
     "text": [
      "checking 20181102... \n",
      "checking 20181103... \n",
      "checking 20181104... \n",
      "checking 20181105... \n"
     ]
    },
    {
     "name": "stderr",
     "output_type": "stream",
     "text": [
      "Wavefront slope measurement failed: (WFSAnalysisFailed(...), 'Only 40 spots detected out of 106 apertures.')\n",
      "Wavefront slope measurement failed: (WFSAnalysisFailed(...), 'Only 33 spots detected out of 113 apertures.')\n"
     ]
    },
    {
     "name": "stdout",
     "output_type": "stream",
     "text": [
      "checking 20181106... \n"
     ]
    },
    {
     "name": "stderr",
     "output_type": "stream",
     "text": [
      "Wavefront slope measurement failed: (WFSAnalysisFailed(...), 'Only 46 spots detected out of 113 apertures.')\n",
      "Wavefront slope measurement failed: (WFSAnalysisFailed(...), 'Only 39 spots detected out of 113 apertures.')\n",
      "Wavefront slope measurement failed: (WFSAnalysisFailed(...), 'Only 36 spots detected out of 113 apertures.')\n",
      "Wavefront slope measurement failed: (WFSAnalysisFailed(...), 'Only 31 spots detected out of 113 apertures.')\n",
      "Wavefront slope measurement failed: (WFSAnalysisFailed(...), 'Only 36 spots detected out of 113 apertures.')\n",
      "Wavefront slope measurement failed: (WFSAnalysisFailed(...), 'Only 56 spots detected out of 113 apertures.')\n",
      "Wavefront slope measurement failed: (WFSAnalysisFailed(...), 'Only 40 spots detected out of 113 apertures.')\n",
      "Wavefront slope measurement failed: (WFSAnalysisFailed(...), 'Only 44 spots detected out of 113 apertures.')\n",
      "Wavefront slope measurement failed: (WFSAnalysisFailed(...), 'Only 36 spots detected out of 113 apertures.')\n",
      "Wavefront slope measurement failed: (WFSAnalysisFailed(...), 'Only 37 spots detected out of 113 apertures.')\n",
      "Wavefront slope measurement failed: (WFSAnalysisFailed(...), 'Only 32 spots detected out of 113 apertures.')\n",
      "Wavefront slope measurement failed: (WFSAnalysisFailed(...), 'Only 40 spots detected out of 113 apertures.')\n",
      "Wavefront slope measurement failed: (WFSAnalysisFailed(...), 'Only 32 spots detected out of 113 apertures.')\n",
      "Wavefront slope measurement failed: (WFSAnalysisFailed(...), 'Only 47 spots detected out of 113 apertures.')\n",
      "Wavefront slope measurement failed: (WFSAnalysisFailed(...), 'Only 37 spots detected out of 113 apertures.')\n",
      "Wavefront slope measurement failed: (WFSAnalysisFailed(...), 'Only 37 spots detected out of 113 apertures.')\n",
      "Wavefront slope measurement failed: (WFSAnalysisFailed(...), 'Only 39 spots detected out of 113 apertures.')\n",
      "Wavefront slope measurement failed: (WFSAnalysisFailed(...), 'Only 38 spots detected out of 113 apertures.')\n"
     ]
    },
    {
     "name": "stdout",
     "output_type": "stream",
     "text": [
      "checking 20181107... \n",
      "checking 20181108... \n"
     ]
    },
    {
     "name": "stderr",
     "output_type": "stream",
     "text": [
      "Wavefront slope measurement failed: (WFSAnalysisFailed(...), 'Only 46 spots detected out of 109 apertures.')\n",
      "Wavefront slope measurement failed: (WFSAnalysisFailed(...), 'Only 44 spots detected out of 109 apertures.')\n",
      "Wavefront slope measurement failed: (WFSAnalysisFailed(...), 'Only 42 spots detected out of 111 apertures.')\n",
      "Wavefront slope measurement failed: (WFSAnalysisFailed(...), 'Only 40 spots detected out of 111 apertures.')\n",
      "Wavefront slope measurement failed: (WFSAnalysisFailed(...), 'Only 52 spots detected out of 111 apertures.')\n",
      "Wavefront slope measurement failed: (WFSAnalysisFailed(...), 'Only 45 spots detected out of 111 apertures.')\n",
      "Wavefront slope measurement failed: (WFSAnalysisFailed(...), 'Only 51 spots detected out of 111 apertures.')\n",
      "Wavefront slope measurement failed: (WFSAnalysisFailed(...), 'Only 49 spots detected out of 111 apertures.')\n",
      "Wavefront slope measurement failed: (WFSAnalysisFailed(...), 'Only 52 spots detected out of 111 apertures.')\n",
      "Wavefront slope measurement failed: (WFSAnalysisFailed(...), 'Only 50 spots detected out of 111 apertures.')\n"
     ]
    },
    {
     "name": "stdout",
     "output_type": "stream",
     "text": [
      "checking 20181109... \n"
     ]
    },
    {
     "name": "stderr",
     "output_type": "stream",
     "text": [
      "Wavefront slope measurement failed: (WFSAnalysisFailed(...), 'Only 31 spots detected out of 110 apertures.')\n",
      "Wavefront slope measurement failed: (WFSAnalysisFailed(...), 'Only 39 spots detected out of 107 apertures.')\n"
     ]
    },
    {
     "name": "stdout",
     "output_type": "stream",
     "text": [
      "checking 20181110... \n"
     ]
    },
    {
     "name": "stderr",
     "output_type": "stream",
     "text": [
      "Wavefront slope measurement failed: (WFSAnalysisFailed(...), 'No WFS spots detected.')\n",
      "Wavefront slope measurement failed: (WFSAnalysisFailed(...), 'No WFS spots detected.')\n",
      "Wavefront slope measurement failed: (WFSAnalysisFailed(...), 'No WFS spots detected.')\n"
     ]
    },
    {
     "name": "stdout",
     "output_type": "stream",
     "text": [
      "checking 20181111... \n",
      "checking 20181112... \n"
     ]
    },
    {
     "name": "stderr",
     "output_type": "stream",
     "text": [
      "Wavefront slope measurement failed: (WFSAnalysisFailed(...), 'No WFS spots detected.')\n",
      "Wavefront slope measurement failed: (WFSAnalysisFailed(...), 'No WFS spots detected.')\n",
      "Wavefront slope measurement failed: (WFSAnalysisFailed(...), 'No WFS spots detected.')\n",
      "Wavefront slope measurement failed: (WFSAnalysisFailed(...), 'No WFS spots detected.')\n",
      "Wavefront slope measurement failed: (WFSAnalysisFailed(...), 'No WFS spots detected.')\n",
      "Wavefront slope measurement failed: (WFSAnalysisFailed(...), 'No WFS spots detected.')\n",
      "Wavefront slope measurement failed: (WFSAnalysisFailed(...), 'Only 22 spots detected out of 137 apertures.')\n",
      "Wavefront slope measurement failed: (WFSAnalysisFailed(...), 'No WFS spots detected.')\n",
      "Wavefront slope measurement failed: (WFSAnalysisFailed(...), 'No WFS spots detected.')\n",
      "Wavefront slope measurement failed: (WFSAnalysisFailed(...), 'No WFS spots detected.')\n",
      "Wavefront slope measurement failed: (WFSAnalysisFailed(...), 'No WFS spots detected.')\n",
      "Wavefront slope measurement failed: (WFSAnalysisFailed(...), 'No WFS spots detected.')\n"
     ]
    },
    {
     "name": "stdout",
     "output_type": "stream",
     "text": [
      "checking 20181113... \n"
     ]
    },
    {
     "name": "stderr",
     "output_type": "stream",
     "text": [
      "Wavefront slope measurement failed: (WFSAnalysisFailed(...), 'No WFS spots detected.')\n",
      "Wavefront slope measurement failed: (WFSAnalysisFailed(...), 'No WFS spots detected.')\n",
      "Wavefront slope measurement failed: (WFSAnalysisFailed(...), 'Only 9 spots detected out of 137 apertures.')\n",
      "Wavefront slope measurement failed: (WFSAnalysisFailed(...), 'Only 2 spots detected out of 137 apertures.')\n",
      "Wavefront slope measurement failed: (WFSAnalysisFailed(...), 'Only 1 spots detected out of 137 apertures.')\n",
      "Wavefront slope measurement failed: (WFSAnalysisFailed(...), 'No WFS spots detected.')\n",
      "Wavefront slope measurement failed: (WFSAnalysisFailed(...), 'Only 7 spots detected out of 137 apertures.')\n",
      "Wavefront slope measurement failed: (WFSAnalysisFailed(...), 'No WFS spots detected.')\n",
      "Wavefront slope measurement failed: (WFSAnalysisFailed(...), 'No WFS spots detected.')\n",
      "Wavefront slope measurement failed: (WFSAnalysisFailed(...), 'No WFS spots detected.')\n",
      "Wavefront slope measurement failed: (WFSAnalysisFailed(...), 'No WFS spots detected.')\n",
      "Wavefront slope measurement failed: (WFSAnalysisFailed(...), 'Only 11 spots detected out of 137 apertures.')\n",
      "Wavefront slope measurement failed: (WFSAnalysisFailed(...), 'No WFS spots detected.')\n",
      "Wavefront slope measurement failed: (WFSAnalysisFailed(...), 'Only 3 spots detected out of 137 apertures.')\n",
      "Wavefront slope measurement failed: (WFSAnalysisFailed(...), 'Only 61 spots detected out of 137 apertures.')\n"
     ]
    },
    {
     "name": "stdout",
     "output_type": "stream",
     "text": [
      "checking 20181114... \n"
     ]
    },
    {
     "name": "stderr",
     "output_type": "stream",
     "text": [
      "Wavefront slope measurement failed: (WFSAnalysisFailed(...), 'Only 6 spots detected out of 137 apertures.')\n",
      "Wavefront slope measurement failed: (WFSAnalysisFailed(...), 'No WFS spots detected.')\n",
      "Wavefront slope measurement failed: (WFSAnalysisFailed(...), 'No WFS spots detected.')\n",
      "Wavefront slope measurement failed: (WFSAnalysisFailed(...), 'Only 35 spots detected out of 137 apertures.')\n",
      "Wavefront slope measurement failed: (WFSAnalysisFailed(...), 'No WFS spots detected.')\n",
      "Wavefront slope measurement failed: (WFSAnalysisFailed(...), 'Only 11 spots detected out of 137 apertures.')\n",
      "Wavefront slope measurement failed: (WFSAnalysisFailed(...), 'No WFS spots detected.')\n",
      "Wavefront slope measurement failed: (WFSAnalysisFailed(...), 'Only 1 spots detected out of 137 apertures.')\n"
     ]
    },
    {
     "name": "stdout",
     "output_type": "stream",
     "text": [
      "checking 20181115... \n"
     ]
    },
    {
     "name": "stderr",
     "output_type": "stream",
     "text": [
      "Wavefront slope measurement failed: (WFSAnalysisFailed(...), 'Only 35 spots detected out of 151 apertures.')\n",
      "Wavefront slope measurement failed: (WFSAnalysisFailed(...), 'Only 55 spots detected out of 151 apertures.')\n",
      "Wavefront slope measurement failed: (WFSAnalysisFailed(...), 'Only 51 spots detected out of 151 apertures.')\n",
      "Wavefront slope measurement failed: (WFSAnalysisFailed(...), 'Only 50 spots detected out of 151 apertures.')\n",
      "Wavefront slope measurement failed: (WFSAnalysisFailed(...), 'Only 63 spots detected out of 151 apertures.')\n",
      "Wavefront slope measurement failed: (WFSAnalysisFailed(...), 'Only 41 spots detected out of 151 apertures.')\n",
      "Wavefront slope measurement failed: (WFSAnalysisFailed(...), 'Only 40 spots detected out of 151 apertures.')\n",
      "Wavefront slope measurement failed: (WFSAnalysisFailed(...), 'Only 20 spots detected out of 151 apertures.')\n",
      "Wavefront slope measurement failed: (WFSAnalysisFailed(...), 'Only 74 spots detected out of 151 apertures.')\n",
      "Wavefront slope measurement failed: (WFSAnalysisFailed(...), 'Only 33 spots detected out of 151 apertures.')\n",
      "Wavefront slope measurement failed: (WFSAnalysisFailed(...), 'Only 75 spots detected out of 151 apertures.')\n",
      "Wavefront slope measurement failed: (WFSAnalysisFailed(...), 'Only 70 spots detected out of 151 apertures.')\n",
      "Wavefront slope measurement failed: (WFSAnalysisFailed(...), 'Only 65 spots detected out of 153 apertures.')\n",
      "Wavefront slope measurement failed: (WFSAnalysisFailed(...), 'Only 47 spots detected out of 151 apertures.')\n",
      "Wavefront slope measurement failed: (WFSAnalysisFailed(...), 'Only 9 spots detected out of 151 apertures.')\n",
      "Wavefront slope measurement failed: (WFSAnalysisFailed(...), 'Only 63 spots detected out of 153 apertures.')\n"
     ]
    },
    {
     "name": "stdout",
     "output_type": "stream",
     "text": [
      "checking 20181116... \n"
     ]
    },
    {
     "name": "stderr",
     "output_type": "stream",
     "text": [
      "Wavefront slope measurement failed: (WFSAnalysisFailed(...), 'Only 6 spots detected out of 151 apertures.')\n",
      "Wavefront slope measurement failed: (WFSAnalysisFailed(...), 'Only 40 spots detected out of 151 apertures.')\n",
      "Wavefront slope measurement failed: (WFSAnalysisFailed(...), 'Only 23 spots detected out of 153 apertures.')\n",
      "Wavefront slope measurement failed: (WFSAnalysisFailed(...), 'Only 1 spots detected out of 153 apertures.')\n",
      "Wavefront slope measurement failed: (WFSAnalysisFailed(...), 'Only 61 spots detected out of 153 apertures.')\n",
      "Wavefront slope measurement failed: (WFSAnalysisFailed(...), 'Only 74 spots detected out of 153 apertures.')\n",
      "Wavefront slope measurement failed: (WFSAnalysisFailed(...), 'Only 28 spots detected out of 153 apertures.')\n",
      "Wavefront slope measurement failed: (WFSAnalysisFailed(...), 'Only 32 spots detected out of 153 apertures.')\n",
      "Wavefront slope measurement failed: (WFSAnalysisFailed(...), 'Only 37 spots detected out of 153 apertures.')\n",
      "Wavefront slope measurement failed: (WFSAnalysisFailed(...), 'Only 74 spots detected out of 153 apertures.')\n",
      "Wavefront slope measurement failed: (WFSAnalysisFailed(...), 'Only 9 spots detected out of 151 apertures.')\n",
      "Wavefront slope measurement failed: (WFSAnalysisFailed(...), 'Only 9 spots detected out of 151 apertures.')\n",
      "Wavefront slope measurement failed: (WFSAnalysisFailed(...), 'Only 6 spots detected out of 151 apertures.')\n",
      "Wavefront slope measurement failed: (WFSAnalysisFailed(...), 'Only 41 spots detected out of 151 apertures.')\n",
      "Wavefront slope measurement failed: (WFSAnalysisFailed(...), 'Only 27 spots detected out of 151 apertures.')\n",
      "Wavefront slope measurement failed: (WFSAnalysisFailed(...), 'Only 21 spots detected out of 151 apertures.')\n",
      "Wavefront slope measurement failed: (WFSAnalysisFailed(...), 'Only 10 spots detected out of 151 apertures.')\n",
      "Wavefront slope measurement failed: (WFSAnalysisFailed(...), 'Only 62 spots detected out of 153 apertures.')\n",
      "Wavefront slope measurement failed: (WFSAnalysisFailed(...), 'Only 37 spots detected out of 153 apertures.')\n",
      "Wavefront slope measurement failed: (WFSAnalysisFailed(...), 'Only 1 spots detected out of 153 apertures.')\n",
      "Wavefront slope measurement failed: (WFSAnalysisFailed(...), 'Only 41 spots detected out of 153 apertures.')\n"
     ]
    },
    {
     "name": "stdout",
     "output_type": "stream",
     "text": [
      "checking 20181117... \n"
     ]
    },
    {
     "name": "stderr",
     "output_type": "stream",
     "text": [
      "Wavefront slope measurement failed: (WFSAnalysisFailed(...), 'Only 3 spots detected out of 151 apertures.')\n",
      "Wavefront slope measurement failed: (WFSAnalysisFailed(...), 'Only 1 spots detected out of 153 apertures.')\n",
      "Wavefront slope measurement failed: (WFSAnalysisFailed(...), 'Only 41 spots detected out of 151 apertures.')\n",
      "Wavefront slope measurement failed: (WFSAnalysisFailed(...), 'Only 39 spots detected out of 153 apertures.')\n",
      "Wavefront slope measurement failed: (WFSAnalysisFailed(...), 'Only 23 spots detected out of 153 apertures.')\n",
      "Wavefront slope measurement failed: (WFSAnalysisFailed(...), 'Only 28 spots detected out of 153 apertures.')\n",
      "Wavefront slope measurement failed: (WFSAnalysisFailed(...), 'Only 1 spots detected out of 153 apertures.')\n",
      "Wavefront slope measurement failed: (WFSAnalysisFailed(...), 'Only 46 spots detected out of 153 apertures.')\n",
      "Wavefront slope measurement failed: (WFSAnalysisFailed(...), 'Only 47 spots detected out of 153 apertures.')\n",
      "Wavefront slope measurement failed: (WFSAnalysisFailed(...), 'Only 57 spots detected out of 153 apertures.')\n",
      "Wavefront slope measurement failed: (WFSAnalysisFailed(...), 'Only 64 spots detected out of 153 apertures.')\n",
      "Wavefront slope measurement failed: (WFSAnalysisFailed(...), 'Only 76 spots detected out of 153 apertures.')\n",
      "Wavefront slope measurement failed: (WFSAnalysisFailed(...), 'Only 48 spots detected out of 153 apertures.')\n",
      "Wavefront slope measurement failed: (WFSAnalysisFailed(...), 'Only 40 spots detected out of 153 apertures.')\n",
      "Wavefront slope measurement failed: (WFSAnalysisFailed(...), 'Only 1 spots detected out of 153 apertures.')\n",
      "Wavefront slope measurement failed: (WFSAnalysisFailed(...), 'Only 76 spots detected out of 153 apertures.')\n",
      "Wavefront slope measurement failed: (WFSAnalysisFailed(...), 'Only 48 spots detected out of 153 apertures.')\n",
      "Wavefront slope measurement failed: (WFSAnalysisFailed(...), 'Only 44 spots detected out of 153 apertures.')\n",
      "Wavefront slope measurement failed: (WFSAnalysisFailed(...), 'Only 11 spots detected out of 153 apertures.')\n",
      "Wavefront slope measurement failed: (WFSAnalysisFailed(...), 'Only 75 spots detected out of 153 apertures.')\n",
      "Wavefront slope measurement failed: (WFSAnalysisFailed(...), 'Only 7 spots detected out of 153 apertures.')\n"
     ]
    },
    {
     "name": "stdout",
     "output_type": "stream",
     "text": [
      "checking 20181118... \n"
     ]
    },
    {
     "name": "stderr",
     "output_type": "stream",
     "text": [
      "Wavefront slope measurement failed: (WFSAnalysisFailed(...), 'Only 18 spots detected out of 151 apertures.')\n",
      "Wavefront slope measurement failed: (WFSAnalysisFailed(...), 'Only 17 spots detected out of 151 apertures.')\n",
      "Wavefront slope measurement failed: (WFSAnalysisFailed(...), 'Only 13 spots detected out of 151 apertures.')\n",
      "Wavefront slope measurement failed: (WFSAnalysisFailed(...), 'Only 8 spots detected out of 151 apertures.')\n",
      "Wavefront slope measurement failed: (WFSAnalysisFailed(...), 'Only 15 spots detected out of 151 apertures.')\n",
      "Wavefront slope measurement failed: (WFSAnalysisFailed(...), 'Only 15 spots detected out of 151 apertures.')\n",
      "Wavefront slope measurement failed: (WFSAnalysisFailed(...), 'Only 17 spots detected out of 151 apertures.')\n",
      "Wavefront slope measurement failed: (WFSAnalysisFailed(...), 'Only 6 spots detected out of 153 apertures.')\n",
      "Wavefront slope measurement failed: (WFSAnalysisFailed(...), 'Only 65 spots detected out of 153 apertures.')\n",
      "Wavefront slope measurement failed: (WFSAnalysisFailed(...), 'Only 62 spots detected out of 153 apertures.')\n",
      "Wavefront slope measurement failed: (WFSAnalysisFailed(...), 'Only 1 spots detected out of 153 apertures.')\n",
      "Wavefront slope measurement failed: (WFSAnalysisFailed(...), 'Only 27 spots detected out of 151 apertures.')\n",
      "Wavefront slope measurement failed: (WFSAnalysisFailed(...), 'Only 17 spots detected out of 151 apertures.')\n",
      "Wavefront slope measurement failed: (WFSAnalysisFailed(...), 'Only 13 spots detected out of 151 apertures.')\n",
      "Wavefront slope measurement failed: (WFSAnalysisFailed(...), 'Only 14 spots detected out of 151 apertures.')\n",
      "Wavefront slope measurement failed: (WFSAnalysisFailed(...), 'Only 1 spots detected out of 151 apertures.')\n",
      "Wavefront slope measurement failed: (WFSAnalysisFailed(...), 'Only 1 spots detected out of 151 apertures.')\n",
      "Wavefront slope measurement failed: (WFSAnalysisFailed(...), 'Only 1 spots detected out of 151 apertures.')\n",
      "Wavefront slope measurement failed: (WFSAnalysisFailed(...), 'Only 74 spots detected out of 151 apertures.')\n",
      "Wavefront slope measurement failed: (WFSAnalysisFailed(...), 'Only 1 spots detected out of 151 apertures.')\n",
      "Wavefront slope measurement failed: (WFSAnalysisFailed(...), 'Only 61 spots detected out of 151 apertures.')\n"
     ]
    },
    {
     "name": "stdout",
     "output_type": "stream",
     "text": [
      "checking 20181119... \n"
     ]
    },
    {
     "name": "stderr",
     "output_type": "stream",
     "text": [
      "Wavefront slope measurement failed: (WFSAnalysisFailed(...), 'Only 1 spots detected out of 151 apertures.')\n",
      "Wavefront slope measurement failed: (WFSAnalysisFailed(...), 'Only 11 spots detected out of 151 apertures.')\n",
      "Wavefront slope measurement failed: (WFSAnalysisFailed(...), 'Only 1 spots detected out of 151 apertures.')\n",
      "Wavefront slope measurement failed: (WFSAnalysisFailed(...), 'Only 50 spots detected out of 151 apertures.')\n",
      "Wavefront slope measurement failed: (WFSAnalysisFailed(...), 'Only 10 spots detected out of 151 apertures.')\n",
      "Wavefront slope measurement failed: (WFSAnalysisFailed(...), 'Only 11 spots detected out of 151 apertures.')\n",
      "Wavefront slope measurement failed: (WFSAnalysisFailed(...), 'Only 11 spots detected out of 151 apertures.')\n",
      "Wavefront slope measurement failed: (WFSAnalysisFailed(...), 'Only 14 spots detected out of 151 apertures.')\n",
      "Wavefront slope measurement failed: (WFSAnalysisFailed(...), 'Only 18 spots detected out of 153 apertures.')\n",
      "Wavefront slope measurement failed: (WFSAnalysisFailed(...), 'Only 50 spots detected out of 151 apertures.')\n",
      "Wavefront slope measurement failed: (WFSAnalysisFailed(...), 'Only 5 spots detected out of 151 apertures.')\n",
      "Wavefront slope measurement failed: (WFSAnalysisFailed(...), 'Only 34 spots detected out of 151 apertures.')\n",
      "Wavefront slope measurement failed: (WFSAnalysisFailed(...), 'Only 23 spots detected out of 151 apertures.')\n",
      "Wavefront slope measurement failed: (WFSAnalysisFailed(...), 'Only 48 spots detected out of 153 apertures.')\n",
      "Wavefront slope measurement failed: (WFSAnalysisFailed(...), 'Only 10 spots detected out of 153 apertures.')\n"
     ]
    },
    {
     "name": "stdout",
     "output_type": "stream",
     "text": [
      "checking 20181120... \n"
     ]
    },
    {
     "name": "stderr",
     "output_type": "stream",
     "text": [
      "Wavefront slope measurement failed: (WFSAnalysisFailed(...), 'Only 1 spots detected out of 151 apertures.')\n",
      "Wavefront slope measurement failed: (WFSAnalysisFailed(...), 'Only 75 spots detected out of 151 apertures.')\n",
      "Wavefront slope measurement failed: (WFSAnalysisFailed(...), 'Only 46 spots detected out of 151 apertures.')\n",
      "Wavefront slope measurement failed: (WFSAnalysisFailed(...), 'Only 31 spots detected out of 151 apertures.')\n",
      "Wavefront slope measurement failed: (WFSAnalysisFailed(...), 'Only 19 spots detected out of 151 apertures.')\n",
      "Wavefront slope measurement failed: (WFSAnalysisFailed(...), 'Only 33 spots detected out of 151 apertures.')\n",
      "Wavefront slope measurement failed: (WFSAnalysisFailed(...), 'Only 38 spots detected out of 151 apertures.')\n",
      "Wavefront slope measurement failed: (WFSAnalysisFailed(...), 'Only 11 spots detected out of 151 apertures.')\n",
      "Wavefront slope measurement failed: (WFSAnalysisFailed(...), 'Only 15 spots detected out of 151 apertures.')\n",
      "Wavefront slope measurement failed: (WFSAnalysisFailed(...), 'Only 63 spots detected out of 151 apertures.')\n",
      "Wavefront slope measurement failed: (WFSAnalysisFailed(...), 'Only 43 spots detected out of 151 apertures.')\n",
      "Wavefront slope measurement failed: (WFSAnalysisFailed(...), 'Only 70 spots detected out of 151 apertures.')\n",
      "Wavefront slope measurement failed: (WFSAnalysisFailed(...), 'Only 73 spots detected out of 151 apertures.')\n",
      "Wavefront slope measurement failed: (WFSAnalysisFailed(...), 'Only 70 spots detected out of 151 apertures.')\n",
      "Wavefront slope measurement failed: (WFSAnalysisFailed(...), 'Only 25 spots detected out of 151 apertures.')\n",
      "Wavefront slope measurement failed: (WFSAnalysisFailed(...), 'Only 26 spots detected out of 151 apertures.')\n",
      "Wavefront slope measurement failed: (WFSAnalysisFailed(...), 'Only 38 spots detected out of 151 apertures.')\n",
      "Wavefront slope measurement failed: (WFSAnalysisFailed(...), 'Only 23 spots detected out of 151 apertures.')\n",
      "Wavefront slope measurement failed: (WFSAnalysisFailed(...), 'Only 11 spots detected out of 151 apertures.')\n",
      "Wavefront slope measurement failed: (WFSAnalysisFailed(...), 'Only 62 spots detected out of 151 apertures.')\n",
      "Wavefront slope measurement failed: (WFSAnalysisFailed(...), 'Only 74 spots detected out of 151 apertures.')\n",
      "Wavefront slope measurement failed: (WFSAnalysisFailed(...), 'Only 4 spots detected out of 151 apertures.')\n",
      "Wavefront slope measurement failed: (WFSAnalysisFailed(...), 'Only 66 spots detected out of 151 apertures.')\n",
      "Wavefront slope measurement failed: (WFSAnalysisFailed(...), 'Only 36 spots detected out of 151 apertures.')\n",
      "Wavefront slope measurement failed: (WFSAnalysisFailed(...), 'Only 44 spots detected out of 151 apertures.')\n",
      "Wavefront slope measurement failed: (WFSAnalysisFailed(...), 'Only 43 spots detected out of 151 apertures.')\n",
      "Wavefront slope measurement failed: (WFSAnalysisFailed(...), 'Only 1 spots detected out of 151 apertures.')\n",
      "Wavefront slope measurement failed: (WFSAnalysisFailed(...), 'Only 1 spots detected out of 151 apertures.')\n",
      "Wavefront slope measurement failed: (WFSAnalysisFailed(...), 'Only 21 spots detected out of 151 apertures.')\n",
      "Wavefront slope measurement failed: (WFSAnalysisFailed(...), 'Only 44 spots detected out of 151 apertures.')\n",
      "Wavefront slope measurement failed: (WFSAnalysisFailed(...), 'Only 45 spots detected out of 151 apertures.')\n",
      "Wavefront slope measurement failed: (WFSAnalysisFailed(...), 'Only 29 spots detected out of 151 apertures.')\n",
      "Wavefront slope measurement failed: (WFSAnalysisFailed(...), 'Only 39 spots detected out of 151 apertures.')\n",
      "Wavefront slope measurement failed: (WFSAnalysisFailed(...), 'Only 24 spots detected out of 153 apertures.')\n",
      "Wavefront slope measurement failed: (WFSAnalysisFailed(...), 'Only 34 spots detected out of 153 apertures.')\n",
      "Wavefront slope measurement failed: (WFSAnalysisFailed(...), 'Only 32 spots detected out of 153 apertures.')\n",
      "Wavefront slope measurement failed: (WFSAnalysisFailed(...), 'Only 27 spots detected out of 153 apertures.')\n",
      "Wavefront slope measurement failed: (WFSAnalysisFailed(...), 'Only 62 spots detected out of 153 apertures.')\n",
      "Wavefront slope measurement failed: (WFSAnalysisFailed(...), 'Only 40 spots detected out of 153 apertures.')\n",
      "Wavefront slope measurement failed: (WFSAnalysisFailed(...), 'Only 74 spots detected out of 151 apertures.')\n",
      "Wavefront slope measurement failed: (WFSAnalysisFailed(...), 'Only 75 spots detected out of 151 apertures.')\n",
      "Wavefront slope measurement failed: (WFSAnalysisFailed(...), 'Only 53 spots detected out of 151 apertures.')\n"
     ]
    },
    {
     "name": "stdout",
     "output_type": "stream",
     "text": [
      "checking 20181121... \n"
     ]
    },
    {
     "name": "stderr",
     "output_type": "stream",
     "text": [
      "Wavefront slope measurement failed: (WFSAnalysisFailed(...), 'Only 1 spots detected out of 151 apertures.')\n",
      "Wavefront slope measurement failed: (WFSAnalysisFailed(...), 'Only 33 spots detected out of 151 apertures.')\n",
      "Wavefront slope measurement failed: (WFSAnalysisFailed(...), 'Only 34 spots detected out of 151 apertures.')\n",
      "Wavefront slope measurement failed: (WFSAnalysisFailed(...), 'Only 18 spots detected out of 153 apertures.')\n",
      "Wavefront slope measurement failed: (WFSAnalysisFailed(...), 'Only 59 spots detected out of 151 apertures.')\n",
      "Wavefront slope measurement failed: (WFSAnalysisFailed(...), 'Only 1 spots detected out of 151 apertures.')\n",
      "Wavefront slope measurement failed: (WFSAnalysisFailed(...), 'Only 9 spots detected out of 151 apertures.')\n"
     ]
    },
    {
     "name": "stdout",
     "output_type": "stream",
     "text": [
      "checking 20181122... \n"
     ]
    },
    {
     "name": "stderr",
     "output_type": "stream",
     "text": [
      "Wavefront slope measurement failed: (WFSAnalysisFailed(...), 'Only 13 spots detected out of 151 apertures.')\n",
      "Wavefront slope measurement failed: (WFSAnalysisFailed(...), 'Only 14 spots detected out of 151 apertures.')\n",
      "Wavefront slope measurement failed: (WFSAnalysisFailed(...), 'Only 21 spots detected out of 151 apertures.')\n",
      "Wavefront slope measurement failed: (WFSAnalysisFailed(...), 'Only 17 spots detected out of 151 apertures.')\n",
      "Wavefront slope measurement failed: (WFSAnalysisFailed(...), 'Only 25 spots detected out of 151 apertures.')\n",
      "Wavefront slope measurement failed: (WFSAnalysisFailed(...), 'Only 20 spots detected out of 151 apertures.')\n",
      "Wavefront slope measurement failed: (WFSAnalysisFailed(...), 'Only 19 spots detected out of 151 apertures.')\n",
      "Wavefront slope measurement failed: (WFSAnalysisFailed(...), 'Only 17 spots detected out of 151 apertures.')\n",
      "Wavefront slope measurement failed: (WFSAnalysisFailed(...), 'Only 33 spots detected out of 151 apertures.')\n",
      "Wavefront slope measurement failed: (WFSAnalysisFailed(...), 'Only 17 spots detected out of 151 apertures.')\n",
      "Wavefront slope measurement failed: (WFSAnalysisFailed(...), 'Only 23 spots detected out of 151 apertures.')\n",
      "Wavefront slope measurement failed: (WFSAnalysisFailed(...), 'Only 17 spots detected out of 151 apertures.')\n",
      "Wavefront slope measurement failed: (WFSAnalysisFailed(...), 'Only 22 spots detected out of 151 apertures.')\n",
      "Wavefront slope measurement failed: (WFSAnalysisFailed(...), 'Only 25 spots detected out of 151 apertures.')\n",
      "Wavefront slope measurement failed: (WFSAnalysisFailed(...), 'Only 21 spots detected out of 151 apertures.')\n",
      "Wavefront slope measurement failed: (WFSAnalysisFailed(...), 'Only 19 spots detected out of 151 apertures.')\n",
      "Wavefront slope measurement failed: (WFSAnalysisFailed(...), 'Only 27 spots detected out of 151 apertures.')\n",
      "Wavefront slope measurement failed: (WFSAnalysisFailed(...), 'Only 23 spots detected out of 151 apertures.')\n",
      "Wavefront slope measurement failed: (WFSAnalysisFailed(...), 'Only 22 spots detected out of 151 apertures.')\n",
      "Wavefront slope measurement failed: (WFSAnalysisFailed(...), 'Only 25 spots detected out of 151 apertures.')\n",
      "Wavefront slope measurement failed: (WFSAnalysisFailed(...), 'Only 24 spots detected out of 151 apertures.')\n",
      "Wavefront slope measurement failed: (WFSAnalysisFailed(...), 'Only 22 spots detected out of 151 apertures.')\n",
      "Wavefront slope measurement failed: (WFSAnalysisFailed(...), 'Only 19 spots detected out of 151 apertures.')\n",
      "Wavefront slope measurement failed: (WFSAnalysisFailed(...), 'Only 24 spots detected out of 151 apertures.')\n",
      "Wavefront slope measurement failed: (WFSAnalysisFailed(...), 'Only 23 spots detected out of 151 apertures.')\n",
      "Wavefront slope measurement failed: (WFSAnalysisFailed(...), 'Only 1 spots detected out of 151 apertures.')\n",
      "Wavefront slope measurement failed: (WFSAnalysisFailed(...), 'Only 6 spots detected out of 151 apertures.')\n",
      "Wavefront slope measurement failed: (WFSAnalysisFailed(...), 'Only 5 spots detected out of 151 apertures.')\n",
      "Wavefront slope measurement failed: (WFSAnalysisFailed(...), 'Only 27 spots detected out of 151 apertures.')\n",
      "Wavefront slope measurement failed: (WFSAnalysisFailed(...), 'Only 24 spots detected out of 151 apertures.')\n",
      "Wavefront slope measurement failed: (WFSAnalysisFailed(...), 'Only 2 spots detected out of 151 apertures.')\n",
      "Wavefront slope measurement failed: (WFSAnalysisFailed(...), 'Only 31 spots detected out of 151 apertures.')\n",
      "Wavefront slope measurement failed: (WFSAnalysisFailed(...), 'Only 3 spots detected out of 151 apertures.')\n",
      "Wavefront slope measurement failed: (WFSAnalysisFailed(...), 'Only 21 spots detected out of 151 apertures.')\n",
      "Wavefront slope measurement failed: (WFSAnalysisFailed(...), 'Only 1 spots detected out of 151 apertures.')\n",
      "Wavefront slope measurement failed: (WFSAnalysisFailed(...), 'Only 26 spots detected out of 151 apertures.')\n",
      "Wavefront slope measurement failed: (WFSAnalysisFailed(...), 'Only 1 spots detected out of 151 apertures.')\n",
      "Wavefront slope measurement failed: (WFSAnalysisFailed(...), 'Only 3 spots detected out of 151 apertures.')\n",
      "Wavefront slope measurement failed: (WFSAnalysisFailed(...), 'Only 1 spots detected out of 151 apertures.')\n",
      "Wavefront slope measurement failed: (WFSAnalysisFailed(...), 'Only 4 spots detected out of 151 apertures.')\n",
      "Wavefront slope measurement failed: (WFSAnalysisFailed(...), 'Only 4 spots detected out of 151 apertures.')\n",
      "Wavefront slope measurement failed: (WFSAnalysisFailed(...), 'Only 7 spots detected out of 151 apertures.')\n",
      "Wavefront slope measurement failed: (WFSAnalysisFailed(...), 'Only 1 spots detected out of 151 apertures.')\n",
      "Wavefront slope measurement failed: (WFSAnalysisFailed(...), 'Only 5 spots detected out of 151 apertures.')\n",
      "Wavefront slope measurement failed: (WFSAnalysisFailed(...), 'Only 3 spots detected out of 151 apertures.')\n",
      "Wavefront slope measurement failed: (WFSAnalysisFailed(...), 'Only 14 spots detected out of 151 apertures.')\n",
      "Wavefront slope measurement failed: (WFSAnalysisFailed(...), 'Only 6 spots detected out of 151 apertures.')\n",
      "Wavefront slope measurement failed: (WFSAnalysisFailed(...), 'Only 5 spots detected out of 151 apertures.')\n",
      "Wavefront slope measurement failed: (WFSAnalysisFailed(...), 'Only 7 spots detected out of 151 apertures.')\n",
      "Wavefront slope measurement failed: (WFSAnalysisFailed(...), 'Only 9 spots detected out of 151 apertures.')\n",
      "Wavefront slope measurement failed: (WFSAnalysisFailed(...), 'Only 5 spots detected out of 151 apertures.')\n",
      "Wavefront slope measurement failed: (WFSAnalysisFailed(...), 'Only 6 spots detected out of 151 apertures.')\n",
      "Wavefront slope measurement failed: (WFSAnalysisFailed(...), 'Only 8 spots detected out of 151 apertures.')\n",
      "Wavefront slope measurement failed: (WFSAnalysisFailed(...), 'Only 1 spots detected out of 151 apertures.')\n",
      "Wavefront slope measurement failed: (WFSAnalysisFailed(...), 'Only 5 spots detected out of 151 apertures.')\n",
      "Wavefront slope measurement failed: (WFSAnalysisFailed(...), 'Only 2 spots detected out of 151 apertures.')\n",
      "Wavefront slope measurement failed: (WFSAnalysisFailed(...), 'Only 7 spots detected out of 151 apertures.')\n",
      "Wavefront slope measurement failed: (WFSAnalysisFailed(...), 'Only 9 spots detected out of 151 apertures.')\n",
      "Wavefront slope measurement failed: (WFSAnalysisFailed(...), 'Only 21 spots detected out of 151 apertures.')\n",
      "Wavefront slope measurement failed: (WFSAnalysisFailed(...), 'Only 14 spots detected out of 151 apertures.')\n",
      "Wavefront slope measurement failed: (WFSAnalysisFailed(...), 'Only 19 spots detected out of 151 apertures.')\n",
      "Wavefront slope measurement failed: (WFSAnalysisFailed(...), 'Only 3 spots detected out of 151 apertures.')\n",
      "Wavefront slope measurement failed: (WFSAnalysisFailed(...), 'Only 5 spots detected out of 151 apertures.')\n",
      "Wavefront slope measurement failed: (WFSAnalysisFailed(...), 'Only 14 spots detected out of 151 apertures.')\n",
      "Wavefront slope measurement failed: (WFSAnalysisFailed(...), 'Only 21 spots detected out of 151 apertures.')\n",
      "Wavefront slope measurement failed: (WFSAnalysisFailed(...), 'Only 9 spots detected out of 151 apertures.')\n",
      "Wavefront slope measurement failed: (WFSAnalysisFailed(...), 'Only 20 spots detected out of 151 apertures.')\n",
      "Wavefront slope measurement failed: (WFSAnalysisFailed(...), 'Only 10 spots detected out of 151 apertures.')\n",
      "Wavefront slope measurement failed: (WFSAnalysisFailed(...), 'Only 20 spots detected out of 151 apertures.')\n",
      "Wavefront slope measurement failed: (WFSAnalysisFailed(...), 'Only 15 spots detected out of 151 apertures.')\n",
      "Wavefront slope measurement failed: (WFSAnalysisFailed(...), 'Only 15 spots detected out of 151 apertures.')\n",
      "Wavefront slope measurement failed: (WFSAnalysisFailed(...), 'Only 18 spots detected out of 151 apertures.')\n",
      "Wavefront slope measurement failed: (WFSAnalysisFailed(...), 'Only 18 spots detected out of 151 apertures.')\n",
      "Wavefront slope measurement failed: (WFSAnalysisFailed(...), 'Only 9 spots detected out of 151 apertures.')\n",
      "Wavefront slope measurement failed: (WFSAnalysisFailed(...), 'Only 14 spots detected out of 151 apertures.')\n",
      "Wavefront slope measurement failed: (WFSAnalysisFailed(...), 'Only 18 spots detected out of 151 apertures.')\n"
     ]
    },
    {
     "name": "stderr",
     "output_type": "stream",
     "text": [
      "Wavefront slope measurement failed: (WFSAnalysisFailed(...), 'Only 23 spots detected out of 151 apertures.')\n"
     ]
    },
    {
     "name": "stdout",
     "output_type": "stream",
     "text": [
      "checking 20181123... \n",
      "checking 20181124... \n"
     ]
    },
    {
     "name": "stderr",
     "output_type": "stream",
     "text": [
      "Wavefront slope measurement failed: (WFSAnalysisFailed(...), 'Only 52 spots detected out of 151 apertures.')\n",
      "Wavefront slope measurement failed: (WFSAnalysisFailed(...), 'Only 23 spots detected out of 151 apertures.')\n",
      "Wavefront slope measurement failed: (WFSAnalysisFailed(...), 'Only 65 spots detected out of 151 apertures.')\n",
      "Wavefront slope measurement failed: (WFSAnalysisFailed(...), 'Only 26 spots detected out of 151 apertures.')\n",
      "Wavefront slope measurement failed: (WFSAnalysisFailed(...), 'Only 44 spots detected out of 151 apertures.')\n",
      "Wavefront slope measurement failed: (WFSAnalysisFailed(...), 'Only 7 spots detected out of 151 apertures.')\n",
      "Wavefront slope measurement failed: (WFSAnalysisFailed(...), 'Only 9 spots detected out of 151 apertures.')\n",
      "Wavefront slope measurement failed: (WFSAnalysisFailed(...), 'Only 3 spots detected out of 151 apertures.')\n",
      "Wavefront slope measurement failed: (WFSAnalysisFailed(...), 'Only 1 spots detected out of 151 apertures.')\n",
      "Wavefront slope measurement failed: (WFSAnalysisFailed(...), 'Only 6 spots detected out of 151 apertures.')\n",
      "Wavefront slope measurement failed: (WFSAnalysisFailed(...), 'Only 4 spots detected out of 151 apertures.')\n",
      "Wavefront slope measurement failed: (WFSAnalysisFailed(...), 'Only 27 spots detected out of 151 apertures.')\n",
      "Wavefront slope measurement failed: (WFSAnalysisFailed(...), 'Only 23 spots detected out of 151 apertures.')\n",
      "Wavefront slope measurement failed: (WFSAnalysisFailed(...), 'Only 4 spots detected out of 151 apertures.')\n"
     ]
    },
    {
     "name": "stdout",
     "output_type": "stream",
     "text": [
      "checking 20181125... \n"
     ]
    },
    {
     "name": "stderr",
     "output_type": "stream",
     "text": [
      "Wavefront slope measurement failed: (WFSAnalysisFailed(...), 'Only 14 spots detected out of 151 apertures.')\n",
      "Wavefront slope measurement failed: (WFSAnalysisFailed(...), 'Only 21 spots detected out of 151 apertures.')\n",
      "Wavefront slope measurement failed: (WFSAnalysisFailed(...), 'Only 15 spots detected out of 151 apertures.')\n",
      "Wavefront slope measurement failed: (WFSAnalysisFailed(...), 'Only 9 spots detected out of 151 apertures.')\n",
      "Wavefront slope measurement failed: (WFSAnalysisFailed(...), 'Only 13 spots detected out of 151 apertures.')\n",
      "Wavefront slope measurement failed: (WFSAnalysisFailed(...), 'Only 18 spots detected out of 151 apertures.')\n",
      "Wavefront slope measurement failed: (WFSAnalysisFailed(...), 'Only 16 spots detected out of 151 apertures.')\n",
      "Wavefront slope measurement failed: (WFSAnalysisFailed(...), 'Only 33 spots detected out of 151 apertures.')\n",
      "Wavefront slope measurement failed: (WFSAnalysisFailed(...), 'Only 48 spots detected out of 151 apertures.')\n",
      "Wavefront slope measurement failed: (WFSAnalysisFailed(...), 'Only 67 spots detected out of 151 apertures.')\n",
      "Wavefront slope measurement failed: (WFSAnalysisFailed(...), 'Only 18 spots detected out of 151 apertures.')\n",
      "Wavefront slope measurement failed: (WFSAnalysisFailed(...), 'Only 28 spots detected out of 151 apertures.')\n",
      "Wavefront slope measurement failed: (WFSAnalysisFailed(...), 'Only 8 spots detected out of 151 apertures.')\n",
      "Wavefront slope measurement failed: (WFSAnalysisFailed(...), 'Only 13 spots detected out of 151 apertures.')\n",
      "Wavefront slope measurement failed: (WFSAnalysisFailed(...), 'Only 14 spots detected out of 151 apertures.')\n",
      "Wavefront slope measurement failed: (WFSAnalysisFailed(...), 'Only 74 spots detected out of 151 apertures.')\n",
      "Wavefront slope measurement failed: (WFSAnalysisFailed(...), 'Only 36 spots detected out of 151 apertures.')\n",
      "Wavefront slope measurement failed: (WFSAnalysisFailed(...), 'Only 53 spots detected out of 151 apertures.')\n",
      "Wavefront slope measurement failed: (WFSAnalysisFailed(...), 'Only 63 spots detected out of 151 apertures.')\n",
      "Wavefront slope measurement failed: (WFSAnalysisFailed(...), 'Only 1 spots detected out of 151 apertures.')\n",
      "Wavefront slope measurement failed: (WFSAnalysisFailed(...), 'Only 1 spots detected out of 151 apertures.')\n",
      "Wavefront slope measurement failed: (WFSAnalysisFailed(...), 'Only 60 spots detected out of 151 apertures.')\n",
      "Wavefront slope measurement failed: (WFSAnalysisFailed(...), 'Only 67 spots detected out of 151 apertures.')\n",
      "Wavefront slope measurement failed: (WFSAnalysisFailed(...), 'Only 16 spots detected out of 151 apertures.')\n"
     ]
    },
    {
     "name": "stdout",
     "output_type": "stream",
     "text": [
      "checking 20181126... \n"
     ]
    },
    {
     "name": "stderr",
     "output_type": "stream",
     "text": [
      "Wavefront slope measurement failed: (WFSAnalysisFailed(...), 'Only 55 spots detected out of 151 apertures.')\n",
      "Wavefront slope measurement failed: (WFSAnalysisFailed(...), 'Only 36 spots detected out of 151 apertures.')\n",
      "Wavefront slope measurement failed: (WFSAnalysisFailed(...), 'Only 9 spots detected out of 151 apertures.')\n",
      "Wavefront slope measurement failed: (WFSAnalysisFailed(...), 'Only 9 spots detected out of 151 apertures.')\n",
      "Wavefront slope measurement failed: (WFSAnalysisFailed(...), 'Only 20 spots detected out of 151 apertures.')\n",
      "Wavefront slope measurement failed: (WFSAnalysisFailed(...), 'Only 42 spots detected out of 151 apertures.')\n",
      "Wavefront slope measurement failed: (WFSAnalysisFailed(...), 'Only 58 spots detected out of 151 apertures.')\n",
      "Wavefront slope measurement failed: (WFSAnalysisFailed(...), 'Only 67 spots detected out of 151 apertures.')\n",
      "Wavefront slope measurement failed: (WFSAnalysisFailed(...), 'Only 30 spots detected out of 151 apertures.')\n",
      "Wavefront slope measurement failed: (WFSAnalysisFailed(...), 'Only 37 spots detected out of 151 apertures.')\n",
      "Wavefront slope measurement failed: (WFSAnalysisFailed(...), 'Only 59 spots detected out of 153 apertures.')\n",
      "Wavefront slope measurement failed: (WFSAnalysisFailed(...), 'Only 44 spots detected out of 153 apertures.')\n"
     ]
    },
    {
     "name": "stdout",
     "output_type": "stream",
     "text": [
      "checking 20181127... \n"
     ]
    },
    {
     "name": "stderr",
     "output_type": "stream",
     "text": [
      "Wavefront slope measurement failed: (WFSAnalysisFailed(...), 'Only 2 spots detected out of 151 apertures.')\n",
      "Wavefront slope measurement failed: (WFSAnalysisFailed(...), 'Only 6 spots detected out of 153 apertures.')\n",
      "Wavefront slope measurement failed: (WFSAnalysisFailed(...), 'Only 3 spots detected out of 153 apertures.')\n",
      "Wavefront slope measurement failed: (WFSAnalysisFailed(...), 'Only 1 spots detected out of 151 apertures.')\n",
      "Wavefront slope measurement failed: (WFSAnalysisFailed(...), 'Only 41 spots detected out of 151 apertures.')\n",
      "Wavefront slope measurement failed: (WFSAnalysisFailed(...), 'Only 61 spots detected out of 153 apertures.')\n",
      "Wavefront slope measurement failed: (WFSAnalysisFailed(...), 'Only 43 spots detected out of 151 apertures.')\n",
      "Wavefront slope measurement failed: (WFSAnalysisFailed(...), 'Only 25 spots detected out of 151 apertures.')\n",
      "Wavefront slope measurement failed: (WFSAnalysisFailed(...), 'Only 4 spots detected out of 151 apertures.')\n",
      "Wavefront slope measurement failed: (WFSAnalysisFailed(...), 'Only 3 spots detected out of 151 apertures.')\n",
      "Wavefront slope measurement failed: (WFSAnalysisFailed(...), 'Only 5 spots detected out of 151 apertures.')\n",
      "Wavefront slope measurement failed: (WFSAnalysisFailed(...), 'Only 4 spots detected out of 151 apertures.')\n",
      "Wavefront slope measurement failed: (WFSAnalysisFailed(...), 'Only 11 spots detected out of 151 apertures.')\n",
      "Wavefront slope measurement failed: (WFSAnalysisFailed(...), 'Only 6 spots detected out of 151 apertures.')\n",
      "Wavefront slope measurement failed: (WFSAnalysisFailed(...), 'Only 6 spots detected out of 151 apertures.')\n",
      "Wavefront slope measurement failed: (WFSAnalysisFailed(...), 'Only 3 spots detected out of 151 apertures.')\n",
      "Wavefront slope measurement failed: (WFSAnalysisFailed(...), 'Only 1 spots detected out of 151 apertures.')\n",
      "Wavefront slope measurement failed: (WFSAnalysisFailed(...), 'Only 5 spots detected out of 151 apertures.')\n",
      "Wavefront slope measurement failed: (WFSAnalysisFailed(...), 'Only 7 spots detected out of 151 apertures.')\n",
      "Wavefront slope measurement failed: (WFSAnalysisFailed(...), 'Only 8 spots detected out of 151 apertures.')\n",
      "Wavefront slope measurement failed: (WFSAnalysisFailed(...), 'Only 3 spots detected out of 151 apertures.')\n",
      "Wavefront slope measurement failed: (WFSAnalysisFailed(...), 'Only 11 spots detected out of 151 apertures.')\n",
      "Wavefront slope measurement failed: (WFSAnalysisFailed(...), 'Only 4 spots detected out of 151 apertures.')\n",
      "Wavefront slope measurement failed: (WFSAnalysisFailed(...), 'Only 29 spots detected out of 151 apertures.')\n",
      "Wavefront slope measurement failed: (WFSAnalysisFailed(...), 'Only 73 spots detected out of 151 apertures.')\n",
      "Wavefront slope measurement failed: (WFSAnalysisFailed(...), 'Only 8 spots detected out of 151 apertures.')\n",
      "Wavefront slope measurement failed: (WFSAnalysisFailed(...), 'Only 8 spots detected out of 151 apertures.')\n",
      "Wavefront slope measurement failed: (WFSAnalysisFailed(...), 'Only 4 spots detected out of 151 apertures.')\n",
      "Wavefront slope measurement failed: (WFSAnalysisFailed(...), 'Only 72 spots detected out of 151 apertures.')\n",
      "Wavefront slope measurement failed: (WFSAnalysisFailed(...), 'Only 3 spots detected out of 151 apertures.')\n",
      "Wavefront slope measurement failed: (WFSAnalysisFailed(...), 'Only 17 spots detected out of 151 apertures.')\n",
      "Wavefront slope measurement failed: (WFSAnalysisFailed(...), 'Only 53 spots detected out of 151 apertures.')\n",
      "Wavefront slope measurement failed: (WFSAnalysisFailed(...), 'Only 5 spots detected out of 151 apertures.')\n",
      "Wavefront slope measurement failed: (WFSAnalysisFailed(...), 'Only 26 spots detected out of 151 apertures.')\n",
      "Wavefront slope measurement failed: (WFSAnalysisFailed(...), 'Only 44 spots detected out of 151 apertures.')\n",
      "Wavefront slope measurement failed: (WFSAnalysisFailed(...), 'Only 14 spots detected out of 151 apertures.')\n",
      "Wavefront slope measurement failed: (WFSAnalysisFailed(...), 'Only 6 spots detected out of 151 apertures.')\n",
      "Wavefront slope measurement failed: (WFSAnalysisFailed(...), 'Only 63 spots detected out of 151 apertures.')\n",
      "Wavefront slope measurement failed: (WFSAnalysisFailed(...), 'Only 64 spots detected out of 151 apertures.')\n",
      "Wavefront slope measurement failed: (WFSAnalysisFailed(...), 'Only 1 spots detected out of 151 apertures.')\n",
      "Wavefront slope measurement failed: (WFSAnalysisFailed(...), 'Only 42 spots detected out of 151 apertures.')\n",
      "Wavefront slope measurement failed: (WFSAnalysisFailed(...), 'Only 18 spots detected out of 151 apertures.')\n",
      "Wavefront slope measurement failed: (WFSAnalysisFailed(...), 'Only 9 spots detected out of 151 apertures.')\n",
      "Wavefront slope measurement failed: (WFSAnalysisFailed(...), 'Only 51 spots detected out of 151 apertures.')\n",
      "Wavefront slope measurement failed: (WFSAnalysisFailed(...), 'Only 31 spots detected out of 151 apertures.')\n",
      "Wavefront slope measurement failed: (WFSAnalysisFailed(...), 'Only 17 spots detected out of 151 apertures.')\n",
      "Wavefront slope measurement failed: (WFSAnalysisFailed(...), 'Only 52 spots detected out of 151 apertures.')\n"
     ]
    },
    {
     "name": "stdout",
     "output_type": "stream",
     "text": [
      "checking 20181128... \n"
     ]
    },
    {
     "name": "stderr",
     "output_type": "stream",
     "text": [
      "Wavefront slope measurement failed: (WFSAnalysisFailed(...), 'Only 76 spots detected out of 153 apertures.')\n",
      "Wavefront slope measurement failed: (WFSAnalysisFailed(...), 'Only 61 spots detected out of 153 apertures.')\n",
      "Wavefront slope measurement failed: (WFSAnalysisFailed(...), 'Only 1 spots detected out of 151 apertures.')\n",
      "Wavefront slope measurement failed: (WFSAnalysisFailed(...), 'Only 1 spots detected out of 151 apertures.')\n",
      "Wavefront slope measurement failed: (WFSAnalysisFailed(...), 'Only 5 spots detected out of 151 apertures.')\n",
      "Wavefront slope measurement failed: (WFSAnalysisFailed(...), 'Only 1 spots detected out of 151 apertures.')\n",
      "Wavefront slope measurement failed: (WFSAnalysisFailed(...), 'Only 15 spots detected out of 151 apertures.')\n",
      "Wavefront slope measurement failed: (WFSAnalysisFailed(...), 'Only 14 spots detected out of 151 apertures.')\n",
      "Wavefront slope measurement failed: (WFSAnalysisFailed(...), 'Only 18 spots detected out of 151 apertures.')\n",
      "Wavefront slope measurement failed: (WFSAnalysisFailed(...), 'Only 41 spots detected out of 151 apertures.')\n",
      "Wavefront slope measurement failed: (WFSAnalysisFailed(...), 'Only 49 spots detected out of 151 apertures.')\n"
     ]
    },
    {
     "name": "stdout",
     "output_type": "stream",
     "text": [
      "checking 20181129... \n"
     ]
    },
    {
     "name": "stderr",
     "output_type": "stream",
     "text": [
      "/Users/tim/conda/envs/py37/lib/python3.7/site-packages/photutils/centroids/core.py:121: RuntimeWarning: invalid value encountered in double_scalars\n",
      "  for axis in range(data.ndim)])[::-1]\n",
      "Wavefront slope measurement failed: (WFSAnalysisFailed(...), 'No WFS spots detected.')\n",
      "/Users/tim/conda/envs/py37/lib/python3.7/site-packages/photutils/centroids/core.py:121: RuntimeWarning: invalid value encountered in double_scalars\n",
      "  for axis in range(data.ndim)])[::-1]\n",
      "Wavefront slope measurement failed: (WFSAnalysisFailed(...), 'No WFS spots detected.')\n",
      "/Users/tim/conda/envs/py37/lib/python3.7/site-packages/photutils/centroids/core.py:121: RuntimeWarning: invalid value encountered in double_scalars\n",
      "  for axis in range(data.ndim)])[::-1]\n",
      "Wavefront slope measurement failed: (WFSAnalysisFailed(...), 'No WFS spots detected.')\n",
      "Wavefront slope measurement failed: (WFSAnalysisFailed(...), 'Only 1 spots detected out of 151 apertures.')\n",
      "/Users/tim/conda/envs/py37/lib/python3.7/site-packages/photutils/centroids/core.py:121: RuntimeWarning: invalid value encountered in double_scalars\n",
      "  for axis in range(data.ndim)])[::-1]\n",
      "Wavefront slope measurement failed: (WFSAnalysisFailed(...), 'No WFS spots detected.')\n",
      "/Users/tim/conda/envs/py37/lib/python3.7/site-packages/photutils/centroids/core.py:121: RuntimeWarning: invalid value encountered in double_scalars\n",
      "  for axis in range(data.ndim)])[::-1]\n",
      "Wavefront slope measurement failed: (WFSAnalysisFailed(...), 'No WFS spots detected.')\n",
      "/Users/tim/conda/envs/py37/lib/python3.7/site-packages/photutils/centroids/core.py:121: RuntimeWarning: invalid value encountered in double_scalars\n",
      "  for axis in range(data.ndim)])[::-1]\n",
      "Wavefront slope measurement failed: (WFSAnalysisFailed(...), 'No WFS spots detected.')\n",
      "/Users/tim/conda/envs/py37/lib/python3.7/site-packages/photutils/centroids/core.py:121: RuntimeWarning: invalid value encountered in double_scalars\n",
      "  for axis in range(data.ndim)])[::-1]\n",
      "Wavefront slope measurement failed: (WFSAnalysisFailed(...), 'No WFS spots detected.')\n",
      "Wavefront slope measurement failed: (WFSAnalysisFailed(...), 'Only 43 spots detected out of 151 apertures.')\n",
      "Wavefront slope measurement failed: (WFSAnalysisFailed(...), 'Only 1 spots detected out of 151 apertures.')\n",
      "Wavefront slope measurement failed: (WFSAnalysisFailed(...), 'Only 43 spots detected out of 151 apertures.')\n",
      "Wavefront slope measurement failed: (WFSAnalysisFailed(...), 'Only 19 spots detected out of 151 apertures.')\n",
      "Wavefront slope measurement failed: (WFSAnalysisFailed(...), 'Only 44 spots detected out of 151 apertures.')\n",
      "Wavefront slope measurement failed: (WFSAnalysisFailed(...), 'Only 21 spots detected out of 151 apertures.')\n",
      "Wavefront slope measurement failed: (WFSAnalysisFailed(...), 'Only 14 spots detected out of 151 apertures.')\n",
      "Wavefront slope measurement failed: (WFSAnalysisFailed(...), 'Only 33 spots detected out of 151 apertures.')\n",
      "Wavefront slope measurement failed: (WFSAnalysisFailed(...), 'Only 41 spots detected out of 151 apertures.')\n",
      "/Users/tim/conda/envs/py37/lib/python3.7/site-packages/photutils/centroids/core.py:121: RuntimeWarning: invalid value encountered in double_scalars\n",
      "  for axis in range(data.ndim)])[::-1]\n",
      "Wavefront slope measurement failed: (WFSAnalysisFailed(...), 'No WFS spots detected.')\n",
      "/Users/tim/conda/envs/py37/lib/python3.7/site-packages/photutils/centroids/core.py:121: RuntimeWarning: invalid value encountered in double_scalars\n",
      "  for axis in range(data.ndim)])[::-1]\n",
      "Wavefront slope measurement failed: (WFSAnalysisFailed(...), 'No WFS spots detected.')\n",
      "Wavefront slope measurement failed: (WFSAnalysisFailed(...), 'Only 27 spots detected out of 151 apertures.')\n",
      "/Users/tim/conda/envs/py37/lib/python3.7/site-packages/photutils/centroids/core.py:121: RuntimeWarning: invalid value encountered in double_scalars\n",
      "  for axis in range(data.ndim)])[::-1]\n",
      "Wavefront slope measurement failed: (WFSAnalysisFailed(...), 'No WFS spots detected.')\n"
     ]
    },
    {
     "name": "stdout",
     "output_type": "stream",
     "text": [
      "checking 20181130... \n",
      "checking 20181201... \n",
      "checking 20181202... \n",
      "checking 20181203... \n",
      "checking 20181204... \n",
      "checking 20181205... \n",
      "checking 20181206... \n"
     ]
    },
    {
     "name": "stderr",
     "output_type": "stream",
     "text": [
      "Wavefront slope measurement failed: (WFSAnalysisFailed(...), 'No WFS spots detected.')\n"
     ]
    },
    {
     "name": "stdout",
     "output_type": "stream",
     "text": [
      "checking 20181207... \n",
      "checking 20181208... \n",
      "checking 20181209... \n"
     ]
    },
    {
     "name": "stderr",
     "output_type": "stream",
     "text": [
      "Wavefront slope measurement failed: (WFSAnalysisFailed(...), 'No WFS spots detected.')\n",
      "Wavefront slope measurement failed: (WFSAnalysisFailed(...), 'Only 65 spots detected out of 137 apertures.')\n",
      "Wavefront slope measurement failed: (WFSAnalysisFailed(...), 'Only 63 spots detected out of 137 apertures.')\n",
      "Wavefront slope measurement failed: (WFSAnalysisFailed(...), 'No WFS spots detected.')\n",
      "Wavefront slope measurement failed: (WFSAnalysisFailed(...), 'Only 59 spots detected out of 137 apertures.')\n"
     ]
    },
    {
     "name": "stdout",
     "output_type": "stream",
     "text": [
      "checking 20181210... \n",
      "checking 20181211... \n",
      "checking 20181212... \n",
      "checking 20181213... \n"
     ]
    },
    {
     "name": "stderr",
     "output_type": "stream",
     "text": [
      "Wavefront slope measurement failed: (WFSAnalysisFailed(...), 'Only 36 spots detected out of 111 apertures.')\n"
     ]
    },
    {
     "name": "stdout",
     "output_type": "stream",
     "text": [
      "checking 20181214... \n",
      "checking 20181215... \n",
      "checking 20181216... \n",
      "checking 20181217... \n",
      "checking 20181218... \n",
      "checking 20181219... \n"
     ]
    },
    {
     "name": "stderr",
     "output_type": "stream",
     "text": [
      "Wavefront slope measurement failed: (WFSAnalysisFailed(...), 'Only 29 spots detected out of 151 apertures.')\n",
      "Wavefront slope measurement failed: (WFSAnalysisFailed(...), 'Only 39 spots detected out of 151 apertures.')\n",
      "Wavefront slope measurement failed: (WFSAnalysisFailed(...), 'Only 32 spots detected out of 151 apertures.')\n",
      "Wavefront slope measurement failed: (WFSAnalysisFailed(...), 'Only 58 spots detected out of 153 apertures.')\n",
      "Wavefront slope measurement failed: (WFSAnalysisFailed(...), 'Only 34 spots detected out of 153 apertures.')\n",
      "Wavefront slope measurement failed: (WFSAnalysisFailed(...), 'Only 61 spots detected out of 153 apertures.')\n",
      "Wavefront slope measurement failed: (WFSAnalysisFailed(...), 'Only 12 spots detected out of 153 apertures.')\n",
      "Wavefront slope measurement failed: (WFSAnalysisFailed(...), 'Only 36 spots detected out of 153 apertures.')\n",
      "Wavefront slope measurement failed: (WFSAnalysisFailed(...), 'Only 53 spots detected out of 153 apertures.')\n",
      "Wavefront slope measurement failed: (WFSAnalysisFailed(...), 'Only 53 spots detected out of 153 apertures.')\n",
      "Wavefront slope measurement failed: (WFSAnalysisFailed(...), 'Only 3 spots detected out of 153 apertures.')\n",
      "Wavefront slope measurement failed: (WFSAnalysisFailed(...), 'Only 50 spots detected out of 153 apertures.')\n",
      "Wavefront slope measurement failed: (WFSAnalysisFailed(...), 'Only 43 spots detected out of 153 apertures.')\n",
      "Wavefront slope measurement failed: (WFSAnalysisFailed(...), 'Only 48 spots detected out of 153 apertures.')\n",
      "Wavefront slope measurement failed: (WFSAnalysisFailed(...), 'Only 35 spots detected out of 153 apertures.')\n",
      "Wavefront slope measurement failed: (WFSAnalysisFailed(...), 'Only 31 spots detected out of 153 apertures.')\n",
      "Wavefront slope measurement failed: (WFSAnalysisFailed(...), 'Only 43 spots detected out of 153 apertures.')\n",
      "Wavefront slope measurement failed: (WFSAnalysisFailed(...), 'Only 51 spots detected out of 153 apertures.')\n",
      "Wavefront slope measurement failed: (WFSAnalysisFailed(...), 'Only 72 spots detected out of 151 apertures.')\n",
      "Wavefront slope measurement failed: (WFSAnalysisFailed(...), 'Only 24 spots detected out of 151 apertures.')\n",
      "Wavefront slope measurement failed: (WFSAnalysisFailed(...), 'Only 48 spots detected out of 151 apertures.')\n",
      "Wavefront slope measurement failed: (WFSAnalysisFailed(...), 'Only 31 spots detected out of 151 apertures.')\n",
      "Wavefront slope measurement failed: (WFSAnalysisFailed(...), 'Only 30 spots detected out of 151 apertures.')\n",
      "Wavefront slope measurement failed: (WFSAnalysisFailed(...), 'Only 29 spots detected out of 153 apertures.')\n",
      "Wavefront slope measurement failed: (WFSAnalysisFailed(...), 'Only 22 spots detected out of 153 apertures.')\n",
      "Wavefront slope measurement failed: (WFSAnalysisFailed(...), 'Only 1 spots detected out of 153 apertures.')\n",
      "Wavefront slope measurement failed: (WFSAnalysisFailed(...), 'Only 23 spots detected out of 153 apertures.')\n",
      "Wavefront slope measurement failed: (WFSAnalysisFailed(...), 'Only 62 spots detected out of 153 apertures.')\n",
      "Wavefront slope measurement failed: (WFSAnalysisFailed(...), 'Only 25 spots detected out of 153 apertures.')\n",
      "Wavefront slope measurement failed: (WFSAnalysisFailed(...), 'Only 17 spots detected out of 153 apertures.')\n",
      "Wavefront slope measurement failed: (WFSAnalysisFailed(...), 'Only 9 spots detected out of 153 apertures.')\n",
      "Wavefront slope measurement failed: (WFSAnalysisFailed(...), 'Only 6 spots detected out of 153 apertures.')\n",
      "Wavefront slope measurement failed: (WFSAnalysisFailed(...), 'Only 3 spots detected out of 153 apertures.')\n",
      "Wavefront slope measurement failed: (WFSAnalysisFailed(...), 'Only 4 spots detected out of 151 apertures.')\n",
      "Wavefront slope measurement failed: (WFSAnalysisFailed(...), 'Only 5 spots detected out of 151 apertures.')\n",
      "Wavefront slope measurement failed: (WFSAnalysisFailed(...), 'Only 36 spots detected out of 151 apertures.')\n",
      "Wavefront slope measurement failed: (WFSAnalysisFailed(...), 'Only 45 spots detected out of 153 apertures.')\n",
      "Wavefront slope measurement failed: (WFSAnalysisFailed(...), 'Only 19 spots detected out of 153 apertures.')\n",
      "Wavefront slope measurement failed: (WFSAnalysisFailed(...), 'Only 19 spots detected out of 153 apertures.')\n",
      "Wavefront slope measurement failed: (WFSAnalysisFailed(...), 'Only 14 spots detected out of 153 apertures.')\n",
      "Wavefront slope measurement failed: (WFSAnalysisFailed(...), 'Only 36 spots detected out of 153 apertures.')\n",
      "Wavefront slope measurement failed: (WFSAnalysisFailed(...), 'Only 22 spots detected out of 153 apertures.')\n",
      "Wavefront slope measurement failed: (WFSAnalysisFailed(...), 'Only 50 spots detected out of 153 apertures.')\n",
      "Wavefront slope measurement failed: (WFSAnalysisFailed(...), 'Only 11 spots detected out of 153 apertures.')\n",
      "Wavefront slope measurement failed: (WFSAnalysisFailed(...), 'Only 6 spots detected out of 153 apertures.')\n",
      "Wavefront slope measurement failed: (WFSAnalysisFailed(...), 'Only 15 spots detected out of 153 apertures.')\n",
      "Wavefront slope measurement failed: (WFSAnalysisFailed(...), 'Only 73 spots detected out of 153 apertures.')\n",
      "Wavefront slope measurement failed: (WFSAnalysisFailed(...), 'Only 19 spots detected out of 153 apertures.')\n",
      "Wavefront slope measurement failed: (WFSAnalysisFailed(...), 'Only 17 spots detected out of 153 apertures.')\n",
      "Wavefront slope measurement failed: (WFSAnalysisFailed(...), 'Only 66 spots detected out of 153 apertures.')\n",
      "Wavefront slope measurement failed: (WFSAnalysisFailed(...), 'Only 73 spots detected out of 153 apertures.')\n",
      "Wavefront slope measurement failed: (WFSAnalysisFailed(...), 'Only 59 spots detected out of 153 apertures.')\n",
      "Wavefront slope measurement failed: (WFSAnalysisFailed(...), 'Only 60 spots detected out of 153 apertures.')\n",
      "Wavefront slope measurement failed: (WFSAnalysisFailed(...), 'Only 45 spots detected out of 153 apertures.')\n",
      "Wavefront slope measurement failed: (WFSAnalysisFailed(...), 'Only 52 spots detected out of 153 apertures.')\n",
      "Wavefront slope measurement failed: (WFSAnalysisFailed(...), 'Only 5 spots detected out of 153 apertures.')\n",
      "Wavefront slope measurement failed: (WFSAnalysisFailed(...), 'Only 42 spots detected out of 153 apertures.')\n",
      "Wavefront slope measurement failed: (WFSAnalysisFailed(...), 'Only 1 spots detected out of 153 apertures.')\n",
      "Wavefront slope measurement failed: (WFSAnalysisFailed(...), 'Only 15 spots detected out of 153 apertures.')\n",
      "Wavefront slope measurement failed: (WFSAnalysisFailed(...), 'Only 35 spots detected out of 153 apertures.')\n",
      "Wavefront slope measurement failed: (WFSAnalysisFailed(...), 'Only 5 spots detected out of 153 apertures.')\n",
      "Wavefront slope measurement failed: (WFSAnalysisFailed(...), 'Only 69 spots detected out of 153 apertures.')\n",
      "Wavefront slope measurement failed: (WFSAnalysisFailed(...), 'Only 61 spots detected out of 153 apertures.')\n",
      "Wavefront slope measurement failed: (WFSAnalysisFailed(...), 'Only 69 spots detected out of 153 apertures.')\n",
      "Wavefront slope measurement failed: (WFSAnalysisFailed(...), 'Only 8 spots detected out of 153 apertures.')\n",
      "Wavefront slope measurement failed: (WFSAnalysisFailed(...), 'Only 50 spots detected out of 153 apertures.')\n",
      "Wavefront slope measurement failed: (WFSAnalysisFailed(...), 'Only 20 spots detected out of 153 apertures.')\n",
      "Wavefront slope measurement failed: (WFSAnalysisFailed(...), 'Only 1 spots detected out of 153 apertures.')\n",
      "Wavefront slope measurement failed: (WFSAnalysisFailed(...), 'Only 6 spots detected out of 153 apertures.')\n",
      "Wavefront slope measurement failed: (WFSAnalysisFailed(...), 'Only 3 spots detected out of 153 apertures.')\n",
      "Wavefront slope measurement failed: (WFSAnalysisFailed(...), 'Only 6 spots detected out of 153 apertures.')\n",
      "Wavefront slope measurement failed: (WFSAnalysisFailed(...), 'Only 5 spots detected out of 153 apertures.')\n",
      "Wavefront slope measurement failed: (WFSAnalysisFailed(...), 'Only 5 spots detected out of 153 apertures.')\n",
      "Wavefront slope measurement failed: (WFSAnalysisFailed(...), 'Only 35 spots detected out of 153 apertures.')\n",
      "Wavefront slope measurement failed: (WFSAnalysisFailed(...), 'Only 37 spots detected out of 153 apertures.')\n",
      "Wavefront slope measurement failed: (WFSAnalysisFailed(...), 'Only 25 spots detected out of 153 apertures.')\n"
     ]
    },
    {
     "name": "stderr",
     "output_type": "stream",
     "text": [
      "Wavefront slope measurement failed: (WFSAnalysisFailed(...), 'Only 46 spots detected out of 153 apertures.')\n",
      "Wavefront slope measurement failed: (WFSAnalysisFailed(...), 'Only 71 spots detected out of 153 apertures.')\n",
      "Wavefront slope measurement failed: (WFSAnalysisFailed(...), 'Only 56 spots detected out of 153 apertures.')\n",
      "Wavefront slope measurement failed: (WFSAnalysisFailed(...), 'Only 26 spots detected out of 153 apertures.')\n",
      "Wavefront slope measurement failed: (WFSAnalysisFailed(...), 'Only 45 spots detected out of 153 apertures.')\n",
      "Wavefront slope measurement failed: (WFSAnalysisFailed(...), 'Only 55 spots detected out of 153 apertures.')\n",
      "Wavefront slope measurement failed: (WFSAnalysisFailed(...), 'Only 24 spots detected out of 153 apertures.')\n",
      "Wavefront slope measurement failed: (WFSAnalysisFailed(...), 'Only 53 spots detected out of 153 apertures.')\n",
      "Wavefront slope measurement failed: (WFSAnalysisFailed(...), 'Only 30 spots detected out of 153 apertures.')\n",
      "Wavefront slope measurement failed: (WFSAnalysisFailed(...), 'Only 32 spots detected out of 153 apertures.')\n",
      "Wavefront slope measurement failed: (WFSAnalysisFailed(...), 'Only 62 spots detected out of 153 apertures.')\n",
      "Wavefront slope measurement failed: (WFSAnalysisFailed(...), 'Only 72 spots detected out of 153 apertures.')\n",
      "Wavefront slope measurement failed: (WFSAnalysisFailed(...), 'Only 76 spots detected out of 153 apertures.')\n",
      "Wavefront slope measurement failed: (WFSAnalysisFailed(...), 'Only 1 spots detected out of 153 apertures.')\n",
      "Wavefront slope measurement failed: (WFSAnalysisFailed(...), 'Only 49 spots detected out of 153 apertures.')\n",
      "Wavefront slope measurement failed: (WFSAnalysisFailed(...), 'Only 76 spots detected out of 153 apertures.')\n",
      "Wavefront slope measurement failed: (WFSAnalysisFailed(...), 'Only 21 spots detected out of 153 apertures.')\n",
      "Wavefront slope measurement failed: (WFSAnalysisFailed(...), 'Only 51 spots detected out of 153 apertures.')\n",
      "Wavefront slope measurement failed: (WFSAnalysisFailed(...), 'Only 49 spots detected out of 153 apertures.')\n",
      "Wavefront slope measurement failed: (WFSAnalysisFailed(...), 'Only 68 spots detected out of 153 apertures.')\n",
      "Wavefront slope measurement failed: (WFSAnalysisFailed(...), 'Only 36 spots detected out of 153 apertures.')\n",
      "Wavefront slope measurement failed: (WFSAnalysisFailed(...), 'Only 48 spots detected out of 153 apertures.')\n",
      "Wavefront slope measurement failed: (WFSAnalysisFailed(...), 'Only 41 spots detected out of 153 apertures.')\n",
      "Wavefront slope measurement failed: (WFSAnalysisFailed(...), 'Only 36 spots detected out of 153 apertures.')\n",
      "Wavefront slope measurement failed: (WFSAnalysisFailed(...), 'Only 1 spots detected out of 153 apertures.')\n",
      "Wavefront slope measurement failed: (WFSAnalysisFailed(...), 'Only 61 spots detected out of 153 apertures.')\n",
      "Wavefront slope measurement failed: (WFSAnalysisFailed(...), 'Only 9 spots detected out of 153 apertures.')\n",
      "Wavefront slope measurement failed: (WFSAnalysisFailed(...), 'Only 10 spots detected out of 153 apertures.')\n",
      "Wavefront slope measurement failed: (WFSAnalysisFailed(...), 'Only 69 spots detected out of 153 apertures.')\n",
      "Wavefront slope measurement failed: (WFSAnalysisFailed(...), 'Only 73 spots detected out of 153 apertures.')\n",
      "Wavefront slope measurement failed: (WFSAnalysisFailed(...), 'Only 52 spots detected out of 153 apertures.')\n",
      "Wavefront slope measurement failed: (WFSAnalysisFailed(...), 'Only 35 spots detected out of 153 apertures.')\n",
      "Wavefront slope measurement failed: (WFSAnalysisFailed(...), 'Only 33 spots detected out of 153 apertures.')\n",
      "Wavefront slope measurement failed: (WFSAnalysisFailed(...), 'Only 36 spots detected out of 153 apertures.')\n",
      "Wavefront slope measurement failed: (WFSAnalysisFailed(...), 'Only 27 spots detected out of 153 apertures.')\n",
      "Wavefront slope measurement failed: (WFSAnalysisFailed(...), 'Only 40 spots detected out of 153 apertures.')\n",
      "Wavefront slope measurement failed: (WFSAnalysisFailed(...), 'Only 73 spots detected out of 153 apertures.')\n",
      "Wavefront slope measurement failed: (WFSAnalysisFailed(...), 'Only 34 spots detected out of 153 apertures.')\n",
      "Wavefront slope measurement failed: (WFSAnalysisFailed(...), 'Only 53 spots detected out of 153 apertures.')\n"
     ]
    },
    {
     "name": "stdout",
     "output_type": "stream",
     "text": [
      "checking 20181220... \n"
     ]
    },
    {
     "name": "stderr",
     "output_type": "stream",
     "text": [
      "Wavefront slope measurement failed: (WFSAnalysisFailed(...), 'Only 17 spots detected out of 151 apertures.')\n",
      "Wavefront slope measurement failed: (WFSAnalysisFailed(...), 'Only 1 spots detected out of 151 apertures.')\n",
      "Wavefront slope measurement failed: (WFSAnalysisFailed(...), 'Only 9 spots detected out of 151 apertures.')\n",
      "Wavefront slope measurement failed: (WFSAnalysisFailed(...), 'Only 17 spots detected out of 153 apertures.')\n",
      "Wavefront slope measurement failed: (WFSAnalysisFailed(...), 'Only 27 spots detected out of 151 apertures.')\n",
      "Wavefront slope measurement failed: (WFSAnalysisFailed(...), 'Only 21 spots detected out of 151 apertures.')\n",
      "Wavefront slope measurement failed: (WFSAnalysisFailed(...), 'Only 68 spots detected out of 151 apertures.')\n",
      "Wavefront slope measurement failed: (WFSAnalysisFailed(...), 'Only 37 spots detected out of 151 apertures.')\n",
      "Wavefront slope measurement failed: (WFSAnalysisFailed(...), 'Only 9 spots detected out of 151 apertures.')\n",
      "Wavefront slope measurement failed: (WFSAnalysisFailed(...), 'Only 50 spots detected out of 151 apertures.')\n",
      "Wavefront slope measurement failed: (WFSAnalysisFailed(...), 'Only 1 spots detected out of 151 apertures.')\n",
      "Wavefront slope measurement failed: (WFSAnalysisFailed(...), 'Only 55 spots detected out of 151 apertures.')\n",
      "Wavefront slope measurement failed: (WFSAnalysisFailed(...), 'Only 56 spots detected out of 153 apertures.')\n",
      "Wavefront slope measurement failed: (WFSAnalysisFailed(...), 'Only 62 spots detected out of 153 apertures.')\n",
      "Wavefront slope measurement failed: (WFSAnalysisFailed(...), 'Only 24 spots detected out of 153 apertures.')\n",
      "Wavefront slope measurement failed: (WFSAnalysisFailed(...), 'Only 1 spots detected out of 153 apertures.')\n",
      "Wavefront slope measurement failed: (WFSAnalysisFailed(...), 'Only 41 spots detected out of 153 apertures.')\n",
      "Wavefront slope measurement failed: (WFSAnalysisFailed(...), 'Only 59 spots detected out of 153 apertures.')\n",
      "Wavefront slope measurement failed: (WFSAnalysisFailed(...), 'Only 18 spots detected out of 153 apertures.')\n",
      "Wavefront slope measurement failed: (WFSAnalysisFailed(...), 'Only 47 spots detected out of 151 apertures.')\n",
      "Wavefront slope measurement failed: (WFSAnalysisFailed(...), 'Only 54 spots detected out of 151 apertures.')\n",
      "Wavefront slope measurement failed: (WFSAnalysisFailed(...), 'Only 24 spots detected out of 153 apertures.')\n",
      "Wavefront slope measurement failed: (WFSAnalysisFailed(...), 'Only 31 spots detected out of 151 apertures.')\n",
      "Wavefront slope measurement failed: (WFSAnalysisFailed(...), 'Only 32 spots detected out of 153 apertures.')\n"
     ]
    },
    {
     "name": "stdout",
     "output_type": "stream",
     "text": [
      "checking 20181221... \n"
     ]
    },
    {
     "name": "stderr",
     "output_type": "stream",
     "text": [
      "Wavefront slope measurement failed: (WFSAnalysisFailed(...), 'Only 60 spots detected out of 151 apertures.')\n",
      "Wavefront slope measurement failed: (WFSAnalysisFailed(...), 'Only 35 spots detected out of 151 apertures.')\n",
      "Wavefront slope measurement failed: (WFSAnalysisFailed(...), 'Only 32 spots detected out of 151 apertures.')\n",
      "Wavefront slope measurement failed: (WFSAnalysisFailed(...), 'Only 74 spots detected out of 151 apertures.')\n",
      "Wavefront slope measurement failed: (WFSAnalysisFailed(...), 'Only 74 spots detected out of 151 apertures.')\n",
      "Wavefront slope measurement failed: (WFSAnalysisFailed(...), 'Only 53 spots detected out of 153 apertures.')\n",
      "Wavefront slope measurement failed: (WFSAnalysisFailed(...), 'Only 11 spots detected out of 153 apertures.')\n",
      "Wavefront slope measurement failed: (WFSAnalysisFailed(...), 'Only 43 spots detected out of 153 apertures.')\n",
      "Wavefront slope measurement failed: (WFSAnalysisFailed(...), 'Only 22 spots detected out of 153 apertures.')\n",
      "Wavefront slope measurement failed: (WFSAnalysisFailed(...), 'Only 1 spots detected out of 153 apertures.')\n",
      "Wavefront slope measurement failed: (WFSAnalysisFailed(...), 'Only 41 spots detected out of 151 apertures.')\n",
      "Wavefront slope measurement failed: (WFSAnalysisFailed(...), 'Only 22 spots detected out of 153 apertures.')\n",
      "Wavefront slope measurement failed: (WFSAnalysisFailed(...), 'Only 20 spots detected out of 153 apertures.')\n",
      "Wavefront slope measurement failed: (WFSAnalysisFailed(...), 'Only 66 spots detected out of 151 apertures.')\n",
      "Wavefront slope measurement failed: (WFSAnalysisFailed(...), 'Only 18 spots detected out of 153 apertures.')\n",
      "Wavefront slope measurement failed: (WFSAnalysisFailed(...), 'Only 15 spots detected out of 153 apertures.')\n",
      "Wavefront slope measurement failed: (WFSAnalysisFailed(...), 'Only 1 spots detected out of 153 apertures.')\n",
      "Wavefront slope measurement failed: (WFSAnalysisFailed(...), 'Only 2 spots detected out of 153 apertures.')\n",
      "Wavefront slope measurement failed: (WFSAnalysisFailed(...), 'Only 15 spots detected out of 153 apertures.')\n",
      "Wavefront slope measurement failed: (WFSAnalysisFailed(...), 'Only 20 spots detected out of 153 apertures.')\n",
      "Wavefront slope measurement failed: (WFSAnalysisFailed(...), 'Only 25 spots detected out of 153 apertures.')\n",
      "Wavefront slope measurement failed: (WFSAnalysisFailed(...), 'Only 18 spots detected out of 153 apertures.')\n",
      "Wavefront slope measurement failed: (WFSAnalysisFailed(...), 'Only 14 spots detected out of 153 apertures.')\n",
      "Wavefront slope measurement failed: (WFSAnalysisFailed(...), 'Only 18 spots detected out of 153 apertures.')\n",
      "Wavefront slope measurement failed: (WFSAnalysisFailed(...), 'Only 23 spots detected out of 153 apertures.')\n",
      "Wavefront slope measurement failed: (WFSAnalysisFailed(...), 'Only 31 spots detected out of 153 apertures.')\n",
      "Wavefront slope measurement failed: (WFSAnalysisFailed(...), 'Only 25 spots detected out of 153 apertures.')\n",
      "Wavefront slope measurement failed: (WFSAnalysisFailed(...), 'Only 28 spots detected out of 153 apertures.')\n",
      "Wavefront slope measurement failed: (WFSAnalysisFailed(...), 'Only 24 spots detected out of 153 apertures.')\n",
      "Wavefront slope measurement failed: (WFSAnalysisFailed(...), 'Only 20 spots detected out of 153 apertures.')\n",
      "Wavefront slope measurement failed: (WFSAnalysisFailed(...), 'Only 1 spots detected out of 153 apertures.')\n",
      "Wavefront slope measurement failed: (WFSAnalysisFailed(...), 'Only 23 spots detected out of 153 apertures.')\n",
      "Wavefront slope measurement failed: (WFSAnalysisFailed(...), 'Only 27 spots detected out of 153 apertures.')\n",
      "Wavefront slope measurement failed: (WFSAnalysisFailed(...), 'Only 2 spots detected out of 153 apertures.')\n",
      "Wavefront slope measurement failed: (WFSAnalysisFailed(...), 'Only 19 spots detected out of 153 apertures.')\n",
      "Wavefront slope measurement failed: (WFSAnalysisFailed(...), 'Only 28 spots detected out of 153 apertures.')\n",
      "Wavefront slope measurement failed: (WFSAnalysisFailed(...), 'Only 32 spots detected out of 153 apertures.')\n",
      "Wavefront slope measurement failed: (WFSAnalysisFailed(...), 'Only 26 spots detected out of 153 apertures.')\n",
      "Wavefront slope measurement failed: (WFSAnalysisFailed(...), 'Only 23 spots detected out of 153 apertures.')\n",
      "Wavefront slope measurement failed: (WFSAnalysisFailed(...), 'Only 30 spots detected out of 153 apertures.')\n",
      "Wavefront slope measurement failed: (WFSAnalysisFailed(...), 'Only 20 spots detected out of 153 apertures.')\n",
      "Wavefront slope measurement failed: (WFSAnalysisFailed(...), 'Only 21 spots detected out of 153 apertures.')\n",
      "Wavefront slope measurement failed: (WFSAnalysisFailed(...), 'Only 27 spots detected out of 153 apertures.')\n",
      "Wavefront slope measurement failed: (WFSAnalysisFailed(...), 'Only 21 spots detected out of 153 apertures.')\n",
      "Wavefront slope measurement failed: (WFSAnalysisFailed(...), 'Only 15 spots detected out of 153 apertures.')\n",
      "Wavefront slope measurement failed: (WFSAnalysisFailed(...), 'Only 9 spots detected out of 153 apertures.')\n",
      "Wavefront slope measurement failed: (WFSAnalysisFailed(...), 'Only 23 spots detected out of 153 apertures.')\n",
      "Wavefront slope measurement failed: (WFSAnalysisFailed(...), 'Only 21 spots detected out of 153 apertures.')\n",
      "Wavefront slope measurement failed: (WFSAnalysisFailed(...), 'Only 20 spots detected out of 153 apertures.')\n",
      "Wavefront slope measurement failed: (WFSAnalysisFailed(...), 'Only 22 spots detected out of 153 apertures.')\n",
      "Wavefront slope measurement failed: (WFSAnalysisFailed(...), 'Only 18 spots detected out of 153 apertures.')\n",
      "Wavefront slope measurement failed: (WFSAnalysisFailed(...), 'Only 18 spots detected out of 153 apertures.')\n",
      "Wavefront slope measurement failed: (WFSAnalysisFailed(...), 'Only 30 spots detected out of 153 apertures.')\n",
      "Wavefront slope measurement failed: (WFSAnalysisFailed(...), 'Only 15 spots detected out of 153 apertures.')\n",
      "Wavefront slope measurement failed: (WFSAnalysisFailed(...), 'Only 1 spots detected out of 153 apertures.')\n",
      "Wavefront slope measurement failed: (WFSAnalysisFailed(...), 'Only 31 spots detected out of 153 apertures.')\n",
      "Wavefront slope measurement failed: (WFSAnalysisFailed(...), 'Only 21 spots detected out of 153 apertures.')\n",
      "Wavefront slope measurement failed: (WFSAnalysisFailed(...), 'Only 27 spots detected out of 153 apertures.')\n",
      "Wavefront slope measurement failed: (WFSAnalysisFailed(...), 'Only 21 spots detected out of 153 apertures.')\n",
      "Wavefront slope measurement failed: (WFSAnalysisFailed(...), 'Only 18 spots detected out of 153 apertures.')\n",
      "Wavefront slope measurement failed: (WFSAnalysisFailed(...), 'Only 18 spots detected out of 153 apertures.')\n",
      "Wavefront slope measurement failed: (WFSAnalysisFailed(...), 'Only 24 spots detected out of 153 apertures.')\n",
      "Wavefront slope measurement failed: (WFSAnalysisFailed(...), 'Only 17 spots detected out of 153 apertures.')\n",
      "Wavefront slope measurement failed: (WFSAnalysisFailed(...), 'Only 21 spots detected out of 153 apertures.')\n",
      "Wavefront slope measurement failed: (WFSAnalysisFailed(...), 'Only 30 spots detected out of 153 apertures.')\n",
      "Wavefront slope measurement failed: (WFSAnalysisFailed(...), 'Only 22 spots detected out of 153 apertures.')\n",
      "Wavefront slope measurement failed: (WFSAnalysisFailed(...), 'Only 20 spots detected out of 153 apertures.')\n",
      "Wavefront slope measurement failed: (WFSAnalysisFailed(...), 'Only 25 spots detected out of 153 apertures.')\n",
      "Wavefront slope measurement failed: (WFSAnalysisFailed(...), 'Only 25 spots detected out of 153 apertures.')\n",
      "Wavefront slope measurement failed: (WFSAnalysisFailed(...), 'Only 30 spots detected out of 153 apertures.')\n",
      "Wavefront slope measurement failed: (WFSAnalysisFailed(...), 'Only 28 spots detected out of 153 apertures.')\n",
      "Wavefront slope measurement failed: (WFSAnalysisFailed(...), 'Only 19 spots detected out of 153 apertures.')\n",
      "Wavefront slope measurement failed: (WFSAnalysisFailed(...), 'Only 25 spots detected out of 153 apertures.')\n",
      "Wavefront slope measurement failed: (WFSAnalysisFailed(...), 'Only 24 spots detected out of 153 apertures.')\n",
      "Wavefront slope measurement failed: (WFSAnalysisFailed(...), 'Only 25 spots detected out of 153 apertures.')\n",
      "Wavefront slope measurement failed: (WFSAnalysisFailed(...), 'Only 20 spots detected out of 153 apertures.')\n"
     ]
    },
    {
     "name": "stderr",
     "output_type": "stream",
     "text": [
      "Wavefront slope measurement failed: (WFSAnalysisFailed(...), 'Only 31 spots detected out of 153 apertures.')\n",
      "Wavefront slope measurement failed: (WFSAnalysisFailed(...), 'Only 1 spots detected out of 151 apertures.')\n",
      "Wavefront slope measurement failed: (WFSAnalysisFailed(...), 'Only 1 spots detected out of 151 apertures.')\n",
      "Wavefront slope measurement failed: (WFSAnalysisFailed(...), 'Only 10 spots detected out of 153 apertures.')\n",
      "Wavefront slope measurement failed: (WFSAnalysisFailed(...), 'Only 8 spots detected out of 153 apertures.')\n",
      "Wavefront slope measurement failed: (WFSAnalysisFailed(...), 'Only 15 spots detected out of 153 apertures.')\n",
      "Wavefront slope measurement failed: (WFSAnalysisFailed(...), 'Only 20 spots detected out of 153 apertures.')\n",
      "Wavefront slope measurement failed: (WFSAnalysisFailed(...), 'Only 20 spots detected out of 153 apertures.')\n",
      "Wavefront slope measurement failed: (WFSAnalysisFailed(...), 'Only 19 spots detected out of 153 apertures.')\n",
      "Wavefront slope measurement failed: (WFSAnalysisFailed(...), 'Only 46 spots detected out of 153 apertures.')\n",
      "Wavefront slope measurement failed: (WFSAnalysisFailed(...), 'Only 58 spots detected out of 153 apertures.')\n",
      "Wavefront slope measurement failed: (WFSAnalysisFailed(...), 'Only 37 spots detected out of 151 apertures.')\n",
      "Wavefront slope measurement failed: (WFSAnalysisFailed(...), 'Only 55 spots detected out of 151 apertures.')\n",
      "Wavefront slope measurement failed: (WFSAnalysisFailed(...), 'Only 10 spots detected out of 151 apertures.')\n"
     ]
    },
    {
     "name": "stdout",
     "output_type": "stream",
     "text": [
      "checking 20181222... \n",
      "checking 20181223... \n"
     ]
    },
    {
     "name": "stderr",
     "output_type": "stream",
     "text": [
      "Wavefront slope measurement failed: (WFSAnalysisFailed(...), 'Only 72 spots detected out of 151 apertures.')\n",
      "Wavefront slope measurement failed: (WFSAnalysisFailed(...), 'Only 21 spots detected out of 151 apertures.')\n",
      "Wavefront slope measurement failed: (WFSAnalysisFailed(...), 'Only 23 spots detected out of 153 apertures.')\n",
      "Wavefront slope measurement failed: (WFSAnalysisFailed(...), 'Only 67 spots detected out of 151 apertures.')\n",
      "Wavefront slope measurement failed: (WFSAnalysisFailed(...), 'Only 49 spots detected out of 151 apertures.')\n",
      "Wavefront slope measurement failed: (WFSAnalysisFailed(...), 'Only 62 spots detected out of 151 apertures.')\n",
      "Wavefront slope measurement failed: (WFSAnalysisFailed(...), 'Only 1 spots detected out of 151 apertures.')\n",
      "Wavefront slope measurement failed: (WFSAnalysisFailed(...), 'Only 74 spots detected out of 151 apertures.')\n",
      "Wavefront slope measurement failed: (WFSAnalysisFailed(...), 'Only 64 spots detected out of 151 apertures.')\n",
      "Wavefront slope measurement failed: (WFSAnalysisFailed(...), 'Only 23 spots detected out of 153 apertures.')\n",
      "Wavefront slope measurement failed: (WFSAnalysisFailed(...), 'Only 1 spots detected out of 153 apertures.')\n",
      "Wavefront slope measurement failed: (WFSAnalysisFailed(...), 'Only 1 spots detected out of 153 apertures.')\n",
      "Wavefront slope measurement failed: (WFSAnalysisFailed(...), 'Only 2 spots detected out of 153 apertures.')\n",
      "Wavefront slope measurement failed: (WFSAnalysisFailed(...), 'Only 10 spots detected out of 153 apertures.')\n",
      "Wavefront slope measurement failed: (WFSAnalysisFailed(...), 'Only 69 spots detected out of 153 apertures.')\n",
      "Wavefront slope measurement failed: (WFSAnalysisFailed(...), 'Only 4 spots detected out of 153 apertures.')\n",
      "Wavefront slope measurement failed: (WFSAnalysisFailed(...), 'Only 28 spots detected out of 153 apertures.')\n",
      "Wavefront slope measurement failed: (WFSAnalysisFailed(...), 'Only 22 spots detected out of 153 apertures.')\n"
     ]
    },
    {
     "name": "stdout",
     "output_type": "stream",
     "text": [
      "checking 20181224... \n"
     ]
    },
    {
     "name": "stderr",
     "output_type": "stream",
     "text": [
      "Wavefront slope measurement failed: (WFSAnalysisFailed(...), 'Only 8 spots detected out of 153 apertures.')\n",
      "Wavefront slope measurement failed: (WFSAnalysisFailed(...), 'Only 15 spots detected out of 153 apertures.')\n",
      "Wavefront slope measurement failed: (WFSAnalysisFailed(...), 'Only 2 spots detected out of 153 apertures.')\n",
      "Wavefront slope measurement failed: (WFSAnalysisFailed(...), 'Only 4 spots detected out of 153 apertures.')\n",
      "Wavefront slope measurement failed: (WFSAnalysisFailed(...), 'Only 5 spots detected out of 153 apertures.')\n"
     ]
    },
    {
     "name": "stdout",
     "output_type": "stream",
     "text": [
      "checking 20181225... \n",
      "checking 20181226... \n",
      "checking 20181227... \n",
      "checking 20181228... \n",
      "checking 20181229... \n"
     ]
    },
    {
     "name": "stderr",
     "output_type": "stream",
     "text": [
      "Wavefront slope measurement failed: (WFSAnalysisFailed(...), 'No WFS spots detected.')\n",
      "Wavefront slope measurement failed: (WFSAnalysisFailed(...), 'No WFS spots detected.')\n",
      "Wavefront slope measurement failed: (WFSAnalysisFailed(...), 'Only 4 spots detected out of 137 apertures.')\n"
     ]
    },
    {
     "name": "stdout",
     "output_type": "stream",
     "text": [
      "checking 20181230... \n",
      "checking 20181231... \n"
     ]
    },
    {
     "name": "stderr",
     "output_type": "stream",
     "text": [
      "Wavefront slope measurement failed: (WFSAnalysisFailed(...), 'Only 1 spots detected out of 137 apertures.')\n",
      "Wavefront slope measurement failed: (WFSAnalysisFailed(...), 'Only 45 spots detected out of 137 apertures.')\n",
      "Wavefront slope measurement failed: (WFSAnalysisFailed(...), 'Only 1 spots detected out of 137 apertures.')\n",
      "Wavefront slope measurement failed: (WFSAnalysisFailed(...), 'Only 63 spots detected out of 137 apertures.')\n",
      "Wavefront slope measurement failed: (WFSAnalysisFailed(...), 'Only 37 spots detected out of 137 apertures.')\n",
      "Wavefront slope measurement failed: (WFSAnalysisFailed(...), 'Only 25 spots detected out of 137 apertures.')\n"
     ]
    }
   ],
   "source": [
    "dirs = sorted(list(rootdir.glob(\"20181*\")))  # pathlib, where have you been all my life!\n",
    "csv_header = \"time,wfs,file,airmass,seeing,raw_seeing,fwhm,wavefront_rms,residual_rms\\n\"\n",
    "for d in dirs:\n",
    "    if d.is_dir():\n",
    "        if Path.exists(d / \"reanalyze_results.csv\"):\n",
    "            print(\"Already processed %s...\" % d.name)\n",
    "        else:\n",
    "            try:\n",
    "                lines = []\n",
    "                lines.append(csv_header)\n",
    "                night = int(d.name)  # valid WFS directories are ints of the form YYYYMMDD. if not this form, int barfs\n",
    "                msg = \"checking %d... \" % night\n",
    "                fitsfiles = d.glob(\"*.fits\")\n",
    "                print(msg)\n",
    "#                 for f in fitsfiles:\n",
    "#                     print(\"Processing %s...\" % f)\n",
    "#                     process_image(f)\n",
    "                nproc = 6 # my mac mini's i7 has 6 cores and py37 can use hyperthreading for more... \n",
    "                with Pool(processes=nproc) as pool:  # my mac mini's i7 has 6 cores... \n",
    "                    plines = pool.map(process_image, fitsfiles)  # plines comes out in same order as fitslines!\n",
    "                plines = list(filter(None.__ne__, plines))  # trim out any None entries\n",
    "                lines.extend(plines)\n",
    "                with open(d / \"reanalyze_results.csv\", \"w\") as f:\n",
    "                    f.writelines(lines)\n",
    "            except ValueError as e:  # this means running int(d.name) failed so it's not a valid directory...\n",
    "                print(f\"Skipping %s... ({e})\" % d.name)"
   ]
  },
  {
   "cell_type": "code",
   "execution_count": null,
   "metadata": {},
   "outputs": [],
   "source": []
  }
 ],
 "metadata": {
  "kernelspec": {
   "display_name": "Python 3",
   "language": "python",
   "name": "python3"
  },
  "language_info": {
   "codemirror_mode": {
    "name": "ipython",
    "version": 3
   },
   "file_extension": ".py",
   "mimetype": "text/x-python",
   "name": "python",
   "nbconvert_exporter": "python",
   "pygments_lexer": "ipython3",
   "version": "3.7.2"
  }
 },
 "nbformat": 4,
 "nbformat_minor": 2
}
