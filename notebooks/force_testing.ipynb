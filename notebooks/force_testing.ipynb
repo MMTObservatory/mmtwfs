{
 "cells": [
  {
   "cell_type": "code",
   "execution_count": null,
   "metadata": {},
   "outputs": [],
   "source": [
    "import matplotlib.pyplot as plt\n",
    "import pandas as pd\n",
    "from pathlib import Path\n",
    "\n",
    "from mmtwfs.wfs import WFSFactory"
   ]
  },
  {
   "cell_type": "code",
   "execution_count": null,
   "metadata": {},
   "outputs": [],
   "source": [
    "%load_ext autoreload\n",
    "%autoreload 2\n",
    "%matplotlib widget\n",
    "WFSROOT = Path(\"/Users/tim/MMT/wfsdat/20170318\")"
   ]
  },
  {
   "cell_type": "code",
   "execution_count": null,
   "metadata": {},
   "outputs": [],
   "source": [
    "oldf9 = WFSFactory(wfs=\"f9\", plot=True)"
   ]
  },
  {
   "cell_type": "code",
   "execution_count": null,
   "metadata": {},
   "outputs": [],
   "source": [
    "#%%prun\n",
    "plt.close('all')\n",
    "oldf9_file = WFSROOT / \"ast0_M1000_0002.fits\"\n",
    "results = oldf9.measure_slopes(oldf9_file, 'blue', plot=True)\n",
    "#results['figures']['slopes'].show()\n",
    "zresults = oldf9.fit_wavefront(results, plot=True)\n",
    "zvec = zresults['zernike']\n",
    "print(zresults['residual_rms'])\n",
    "print(zvec.pretty_print())\n",
    "zresults['resid_plot'].show()\n",
    "zvec.fringe_bar_chart()"
   ]
  },
  {
   "cell_type": "code",
   "execution_count": null,
   "metadata": {},
   "outputs": [],
   "source": [
    "reanalyzed = pd.read_csv(\"~/MMT/wfsdat/20170318/reanalyze_results.csv\")\n",
    "reanalyzed.sort_values(by=\"time\")\n",
    "reanalyzed = reanalyzed.set_index(pd.DatetimeIndex(reanalyzed['time'], name='ut'))\n",
    "reanalyzed.sort_index(inplace=True)\n",
    "reanalyzed.to_csv(\"~/MMT/wfsdat/20170318/sorted_results.csv\", index=False)"
   ]
  },
  {
   "cell_type": "code",
   "execution_count": null,
   "metadata": {},
   "outputs": [],
   "source": [
    "reanalyzed['file']"
   ]
  },
  {
   "cell_type": "code",
   "execution_count": null,
   "metadata": {},
   "outputs": [],
   "source": [
    "def zaverage(fitsfiles):\n",
    "    \"\"\"Average Zernike coefficients from a list of FITS files.\"\"\"\n",
    "    zvec = None\n",
    "    fitsfiles = list(fitsfiles)\n",
    "    for fitsfile in fitsfiles:\n",
    "        results = oldf9.measure_slopes(fitsfile, 'blue', plot=False)\n",
    "        zresults = oldf9.fit_wavefront(results, plot=False)\n",
    "        if zvec is None:\n",
    "            zvec = zresults['zernike']\n",
    "        else:\n",
    "            zvec += zresults['zernike']\n",
    "    return zvec / len(fitsfiles)"
   ]
  },
  {
   "cell_type": "code",
   "execution_count": null,
   "metadata": {},
   "outputs": [],
   "source": [
    "len(list(WFSROOT.glob(\"ast0_P1000_000*.fits\")))"
   ]
  },
  {
   "cell_type": "code",
   "execution_count": null,
   "metadata": {},
   "outputs": [],
   "source": [
    "zave = zaverage(WFSROOT.glob(\"ast0_P1000_000*.fits\"))\n",
    "print(zave.pretty_print())\n",
    "zave.fringe_bar_chart()"
   ]
  },
  {
   "cell_type": "code",
   "execution_count": null,
   "metadata": {},
   "outputs": [],
   "source": [
    "zave = zaverage(WFSROOT.glob(\"final_tweak_00*.fits\"))\n",
    "print(zave.pretty_print())\n",
    "zave.fringe_bar_chart()"
   ]
  },
  {
   "cell_type": "code",
   "execution_count": null,
   "metadata": {},
   "outputs": [],
   "source": []
  }
 ],
 "metadata": {
  "kernelspec": {
   "display_name": "mmtwfs",
   "language": "python",
   "name": "python3"
  },
  "language_info": {
   "codemirror_mode": {
    "name": "ipython",
    "version": 3
   },
   "file_extension": ".py",
   "mimetype": "text/x-python",
   "name": "python",
   "nbconvert_exporter": "python",
   "pygments_lexer": "ipython3",
   "version": "3.13.5"
  }
 },
 "nbformat": 4,
 "nbformat_minor": 4
}
