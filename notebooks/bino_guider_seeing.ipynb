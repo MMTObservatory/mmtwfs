{
 "cells": [
  {
   "cell_type": "code",
   "execution_count": 1,
   "metadata": {},
   "outputs": [],
   "source": [
    "import warnings\n",
    "import time\n",
    "from datetime import datetime\n",
    "import os\n",
    "import sys\n",
    "import numpy as np\n",
    "import matplotlib\n",
    "%matplotlib ipympl\n",
    "import matplotlib.pyplot as plt\n",
    "import pandas as pd\n",
    "\n",
    "import multiprocessing\n",
    "from multiprocessing import Pool\n",
    "\n",
    "import photutils\n",
    "\n",
    "from pathlib import Path\n",
    "\n",
    "import astropy.units as u\n",
    "from astropy import stats\n",
    "from astropy.io import fits\n",
    "from astropy.table import Table, hstack, vstack\n",
    "\n",
    "from astropy.modeling.models import Gaussian2D, Polynomial2D, Moffat2D\n",
    "from astropy.modeling.fitting import LevMarLSQFitter"
   ]
  },
  {
   "cell_type": "code",
   "execution_count": 2,
   "metadata": {},
   "outputs": [
    {
     "name": "stdout",
     "output_type": "stream",
     "text": [
      "/Volumes/LACIE SHARE/bino_gdr\n"
     ]
    }
   ],
   "source": [
    "%cd \"/Volumes/LACIE SHARE/bino_gdr\"\n",
    "root = Path(\".\")"
   ]
  },
  {
   "cell_type": "code",
   "execution_count": 3,
   "metadata": {},
   "outputs": [
    {
     "name": "stdout",
     "output_type": "stream",
     "text": [
      "\u001b[30m\u001b[43mGDR1\u001b[m\u001b[m/ \u001b[30m\u001b[43mGDR2\u001b[m\u001b[m/\n"
     ]
    }
   ],
   "source": [
    "%ls"
   ]
  },
  {
   "cell_type": "code",
   "execution_count": 4,
   "metadata": {},
   "outputs": [
    {
     "name": "stdout",
     "output_type": "stream",
     "text": [
      "32\n"
     ]
    }
   ],
   "source": [
    "hdr_keys = ['DATE-OBS', 'RA', 'DEC', 'AZ', 'EL', 'ROT', 'TEMP', 'FOCUS', 'EXPTIME']\n",
    "guiders = ['GDR1', 'GDR2']\n",
    "darks = {}\n",
    "darks['GDR1'] = fits.open(root / \"GDR1\" / \"box1_median_dark.fits\")[0].data\n",
    "darks['GDR2'] = fits.open(root / \"GDR2\" / \"box1_median_dark.fits\")[0].data\n",
    "\n",
    "# 13 um pixels binned 2x2 and 0.167 mm/arcsec plate scale\n",
    "pix_scale = 2 * 0.013 / 0.167  # arcsec/pixel\n",
    "\n",
    "apsize = int(5. / pix_scale)  # 5\" arcsec aperture width\n",
    "print(apsize)"
   ]
  },
  {
   "cell_type": "code",
   "execution_count": 5,
   "metadata": {},
   "outputs": [],
   "source": [
    "def process_image(fitsfile, retall=False):    \n",
    "    with fits.open(fitsfile) as hdu:\n",
    "        hdr = hdu[0].header\n",
    "        data = hdu[0].data\n",
    "\n",
    "    try:\n",
    "        mean, median, std = stats.sigma_clipped_stats(data, sigma=4.0, iters=5)\n",
    "    except:\n",
    "        if retall:\n",
    "            return None, data, None, None, None\n",
    "        else:\n",
    "            return None\n",
    "    \n",
    "    # in some images there's a big step in the background so we take the median along each row and subtract that vector\n",
    "    m = np.median(data, axis=1)\n",
    "    data = data - m[:, None]\n",
    "    \n",
    "    daofind = photutils.DAOStarFinder(fwhm=8.0, threshold=4.*std, sharphi=0.9, exclude_border=True)\n",
    "    srcs = daofind(data)\n",
    "    nsrcs = len(srcs)\n",
    "    if nsrcs == 0:\n",
    "        print(f\"No star detected in {fitsfile}\")\n",
    "        if retall:\n",
    "            return None, data, None, None, None\n",
    "        else:\n",
    "            return None\n",
    "\n",
    "    srcs.sort('flux')\n",
    "    srcs.reverse()\n",
    "    \n",
    "    apers = photutils.CircularAperture(\n",
    "        (srcs['xcentroid'][0], srcs['ycentroid'][0]),\n",
    "        r=apsize/2.\n",
    "    )\n",
    "    masks = apers.to_mask(method=\"subpixel\")\n",
    "    \n",
    "    subim = masks[0].cutout(data)\n",
    "    props = photutils.data_properties(subim)\n",
    "    tline = hstack([srcs[0], props.to_table()])\n",
    "    tline['filename'] = fitsfile\n",
    "    try:\n",
    "        for k in hdr_keys:\n",
    "            tline[k] = hdr[k]\n",
    "    except:\n",
    "        if retall:\n",
    "            return None, data, None, None, None\n",
    "        else:\n",
    "            return None\n",
    "\n",
    "    y, x = np.mgrid[:data.shape[0], :data.shape[1]]\n",
    "    sigma = (tline['semimajor_axis_sigma'][0].value + tline['semiminor_axis_sigma'][0].value) / 2.\n",
    "    \n",
    "    fitter = LevMarLSQFitter()\n",
    "    gauss_model = Gaussian2D(\n",
    "        amplitude=data.max(),\n",
    "        x_mean=data.shape[1]/2.,\n",
    "        y_mean=data.shape[0]/2.,\n",
    "        x_stddev = sigma,\n",
    "        y_stddev = sigma\n",
    "    )\n",
    "    moffat_model = Moffat2D(\n",
    "        amplitude=data.max(),\n",
    "        x_0=data.shape[1]/2.,\n",
    "        y_0=data.shape[0]/2.,\n",
    "        gamma=sigma\n",
    "    )\n",
    "    gauss_fit = fitter(gauss_model, x, y, data)\n",
    "    moffat_fit = fitter(moffat_model, x, y, data)\n",
    "    if retall:\n",
    "        print(gauss_fit)\n",
    "        print(moffat_fit)\n",
    "    \n",
    "    gamma = moffat_fit.gamma.value\n",
    "    alpha = moffat_fit.alpha.value\n",
    "    moffat_fwhm = pix_scale * 2. * gamma * np.sqrt(2.**(1./alpha) - 1.)\n",
    "    gauss_fwhm = pix_scale * 0.5 * (gauss_fit.x_stddev.value + gauss_fit.y_stddev.value) * stats.gaussian_sigma_to_fwhm\n",
    "    moment_fwhm = pix_scale * 0.5 * (tline['semimajor_axis_sigma'] + tline['semiminor_axis_sigma']) * stats.gaussian_sigma_to_fwhm\n",
    "    \n",
    "    tline['gauss_x'] = gauss_fit.x_mean.value\n",
    "    tline['gauss_y'] = gauss_fit.y_mean.value\n",
    "    tline['gauss_sigx'] = gauss_fit.x_stddev.value\n",
    "    tline['gauss_sigy'] = gauss_fit.y_stddev.value\n",
    "    tline['gauss_amplitude'] = gauss_fit.amplitude.value\n",
    "    tline['gauss_theta'] = gauss_fit.theta.value\n",
    "    tline['moffat_amplitude'] = moffat_fit.amplitude.value\n",
    "    tline['moffat_gamma'] = gamma\n",
    "    tline['moffat_alpha'] = alpha\n",
    "    tline['moffat_x'] = moffat_fit.x_0.value\n",
    "    tline['moffat_y'] = moffat_fit.y_0.value\n",
    "    tline['stats_mean'] = mean\n",
    "    tline['stats_median'] = median\n",
    "    tline['stats_std'] = std\n",
    "    tline['moment_fwhm'] = moment_fwhm\n",
    "    tline['gauss_fwhm'] = gauss_fwhm\n",
    "    tline['moffat_fwhm'] = moffat_fwhm\n",
    "    resid = data - moffat_fit(x, y)\n",
    "    if retall:\n",
    "        return tline, data, resid, gauss_fit, moffat_fit\n",
    "    else:\n",
    "        del data\n",
    "        del hdr\n",
    "        del x\n",
    "        del y\n",
    "        del resid\n",
    "        return tline"
   ]
  },
  {
   "cell_type": "code",
   "execution_count": 6,
   "metadata": {},
   "outputs": [],
   "source": [
    "fdir = root / \"GDR2\" / \"2018.0412\" "
   ]
  },
  {
   "cell_type": "code",
   "execution_count": 7,
   "metadata": {},
   "outputs": [],
   "source": [
    "files = sorted(list(fdir.glob(\"gdr*.fits\")))"
   ]
  },
  {
   "cell_type": "code",
   "execution_count": 8,
   "metadata": {},
   "outputs": [
    {
     "data": {
      "text/plain": [
       "13068"
      ]
     },
     "execution_count": 8,
     "metadata": {},
     "output_type": "execute_result"
    }
   ],
   "source": [
    "len(files)"
   ]
  },
  {
   "cell_type": "code",
   "execution_count": 9,
   "metadata": {},
   "outputs": [
    {
     "name": "stdout",
     "output_type": "stream",
     "text": [
      "Model: Gaussian2D\n",
      "Inputs: ('x', 'y')\n",
      "Outputs: ('z',)\n",
      "Model set size: 1\n",
      "Parameters:\n",
      "      amplitude       x_mean        y_mean    ...   y_stddev       theta     \n",
      "    ------------- ------------- ------------- ... ------------ --------------\n",
      "    1336.89284083 64.5485862821 62.9145300226 ... 3.8739389863 0.168222944992\n",
      "Model: Moffat2D\n",
      "Inputs: ('x', 'y')\n",
      "Outputs: ('z',)\n",
      "Model set size: 1\n",
      "Parameters:\n",
      "     amplitude       x_0           y_0          gamma         alpha    \n",
      "    ----------- ------------- ------------- ------------- -------------\n",
      "    1539.627951 64.5477076039 62.8847691132 5.39650671914 1.93707481882\n"
     ]
    }
   ],
   "source": [
    "t, i, resid, gf, mf = process_image(\"GDR2/2018.0412/gdr2_raw_box_img_2018.0412.111604.1.fits\", retall=True)"
   ]
  },
  {
   "cell_type": "code",
   "execution_count": 10,
   "metadata": {},
   "outputs": [
    {
     "data": {
      "text/html": [
       "<i>QTable length=1</i>\n",
       "<table id=\"table4594577704\" class=\"table-striped table-bordered table-condensed\">\n",
       "<thead><tr><th>id_1</th><th>xcentroid_1</th><th>ycentroid_1</th><th>sharpness</th><th>roundness1</th><th>roundness2</th><th>npix</th><th>sky</th><th>peak</th><th>flux</th><th>mag</th><th>id_2</th><th>xcentroid_2</th><th>ycentroid_2</th><th>sky_centroid</th><th>sky_centroid_icrs</th><th>source_sum</th><th>source_sum_err</th><th>background_sum</th><th>background_mean</th><th>background_at_centroid</th><th>xmin</th><th>xmax</th><th>ymin</th><th>ymax</th><th>min_value</th><th>max_value</th><th>minval_xpos</th><th>minval_ypos</th><th>maxval_xpos</th><th>maxval_ypos</th><th>area</th><th>equivalent_radius</th><th>perimeter</th><th>semimajor_axis_sigma</th><th>semiminor_axis_sigma</th><th>eccentricity</th><th>orientation</th><th>ellipticity</th><th>elongation</th><th>covar_sigx2</th><th>covar_sigxy</th><th>covar_sigy2</th><th>cxx</th><th>cxy</th><th>cyy</th><th>filename</th><th>DATE-OBS</th><th>RA</th><th>DEC</th><th>AZ</th><th>EL</th><th>ROT</th><th>TEMP</th><th>FOCUS</th><th>EXPTIME</th><th>gauss_x</th><th>gauss_y</th><th>gauss_sigx</th><th>gauss_sigy</th><th>gauss_amplitude</th><th>gauss_theta</th><th>moffat_amplitude</th><th>moffat_gamma</th><th>moffat_alpha</th><th>moffat_x</th><th>moffat_y</th><th>stats_mean</th><th>stats_median</th><th>stats_std</th><th>moment_fwhm</th><th>gauss_fwhm</th><th>moffat_fwhm</th></tr></thead>\n",
       "<thead><tr><th></th><th></th><th></th><th></th><th></th><th></th><th></th><th></th><th></th><th></th><th></th><th></th><th>pix</th><th>pix</th><th></th><th></th><th></th><th></th><th></th><th></th><th></th><th>pix</th><th>pix</th><th>pix</th><th>pix</th><th></th><th></th><th>pix</th><th>pix</th><th>pix</th><th>pix</th><th>pix2</th><th>pix</th><th>pix</th><th>pix</th><th>pix</th><th></th><th>rad</th><th></th><th></th><th>pix2</th><th>pix2</th><th>pix2</th><th>1 / pix2</th><th>1 / pix2</th><th>1 / pix2</th><th></th><th></th><th></th><th></th><th></th><th></th><th></th><th></th><th></th><th></th><th></th><th></th><th></th><th></th><th></th><th></th><th></th><th></th><th></th><th></th><th></th><th></th><th></th><th></th><th>pix</th><th></th><th></th></tr></thead>\n",
       "<thead><tr><th>int64</th><th>float64</th><th>float64</th><th>float64</th><th>float64</th><th>float64</th><th>float64</th><th>float64</th><th>float64</th><th>float64</th><th>float64</th><th>int64</th><th>float64</th><th>float64</th><th>object</th><th>object</th><th>float64</th><th>object</th><th>object</th><th>object</th><th>object</th><th>float64</th><th>float64</th><th>float64</th><th>float64</th><th>float64</th><th>float64</th><th>float64</th><th>float64</th><th>float64</th><th>float64</th><th>float64</th><th>float64</th><th>float64</th><th>float64</th><th>float64</th><th>float64</th><th>float64</th><th>float64</th><th>float64</th><th>float64</th><th>float64</th><th>float64</th><th>float64</th><th>float64</th><th>float64</th><th>str55</th><th>str23</th><th>float64</th><th>float64</th><th>float64</th><th>float64</th><th>float64</th><th>float64</th><th>float64</th><th>float64</th><th>float64</th><th>float64</th><th>float64</th><th>float64</th><th>float64</th><th>float64</th><th>float64</th><th>float64</th><th>float64</th><th>float64</th><th>float64</th><th>float64</th><th>float64</th><th>float64</th><th>float64</th><th>float64</th><th>float64</th></tr></thead>\n",
       "<tr><td>1</td><td>64.5269672384</td><td>62.8458636401</td><td>0.440630002176</td><td>-0.107537898012</td><td>0.147596747858</td><td>121.0</td><td>0.0</td><td>1479.0</td><td>18.7203354816</td><td>-3.18078406833</td><td>1</td><td>15.955881231549096</td><td>16.125881921472224</td><td>None</td><td>None</td><td>137655.0</td><td>None</td><td>None</td><td>None</td><td>None</td><td>0.0</td><td>32.0</td><td>0.0</td><td>32.0</td><td>-14.5</td><td>1479.0</td><td>0.0</td><td>25.0</td><td>15.0</td><td>16.0</td><td>1089.0</td><td>18.61825625707596</td><td>128.0</td><td>5.601788402487784</td><td>5.295403586823558</td><td>0.32618517613106646</td><td>-1.5445662678685375</td><td>0.05469410724763524</td><td>1.0578586335565805</td><td>28.043595723069668</td><td>-0.08753503049864121</td><td>31.377736730520773</td><td>0.03565907588139695</td><td>0.0001989575170216314</td><td>0.031870007593742825</td><td>GDR2/2018.0412/gdr2_raw_box_img_2018.0412.111604.1.fits</td><td>2018-04-12T11:16:04.526</td><td>17.66843889</td><td>68.8765</td><td>4.06896462</td><td>52.65605322</td><td>-66.16851968</td><td>8.3</td><td>0.0</td><td>1.0</td><td>64.5485862821</td><td>62.9145300226</td><td>3.4118120782</td><td>3.8739389863</td><td>1336.89284083</td><td>0.168222944992</td><td>1539.627951</td><td>5.39650671914</td><td>1.93707481882</td><td>64.5477076039</td><td>62.8847691132</td><td>2553.32600526</td><td>2555.0</td><td>34.833921878</td><td>1.9975571239685832</td><td>1.33554625417</td><td>1.1021672785</td></tr>\n",
       "</table>"
      ],
      "text/plain": [
       "<QTable length=1>\n",
       " id_1  xcentroid_1   ycentroid_1  ...   gauss_fwhm  moffat_fwhm \n",
       "                                  ...                           \n",
       "int64    float64       float64    ...    float64      float64   \n",
       "----- ------------- ------------- ... ------------- ------------\n",
       "    1 64.5269672384 62.8458636401 ... 1.33554625417 1.1021672785"
      ]
     },
     "execution_count": 10,
     "metadata": {},
     "output_type": "execute_result"
    }
   ],
   "source": [
    "t"
   ]
  },
  {
   "cell_type": "code",
   "execution_count": 11,
   "metadata": {},
   "outputs": [
    {
     "data": {
      "application/vnd.jupyter.widget-view+json": {
       "model_id": "",
       "version_major": 2,
       "version_minor": 0
      },
      "text/plain": [
       "FigureCanvasNbAgg()"
      ]
     },
     "metadata": {},
     "output_type": "display_data"
    }
   ],
   "source": [
    "%matplotlib ipympl\n",
    "plt.imshow(resid)\n",
    "plt.show()"
   ]
  },
  {
   "cell_type": "code",
   "execution_count": 12,
   "metadata": {},
   "outputs": [
    {
     "name": "stderr",
     "output_type": "stream",
     "text": [
      "WARNING: The fit may be unsuccessful; check fit_info['message'] for more information. [astropy.modeling.fitting]\n",
      "WARNING: The fit may be unsuccessful; check fit_info['message'] for more information. [astropy.modeling.fitting]\n",
      "WARNING: The fit may be unsuccessful; check fit_info['message'] for more information. [astropy.modeling.fitting]\n",
      "WARNING: The fit may be unsuccessful; check fit_info['message'] for more information. [astropy.modeling.fitting]\n",
      "WARNING: Sources were found, but none pass the sharpness and roundness criteria. [photutils.detection.findstars]\n"
     ]
    },
    {
     "name": "stdout",
     "output_type": "stream",
     "text": [
      "No star detected in GDR2/2018.0412/gdr2_cal_box_img_2018.0412.050320.1.fits\n"
     ]
    },
    {
     "name": "stderr",
     "output_type": "stream",
     "text": [
      "WARNING: The fit may be unsuccessful; check fit_info['message'] for more information. [astropy.modeling.fitting]\n",
      "WARNING: Sources were found, but none pass the sharpness and roundness criteria. [photutils.detection.findstars]\n"
     ]
    },
    {
     "name": "stdout",
     "output_type": "stream",
     "text": [
      "No star detected in GDR2/2018.0412/gdr2_cal_box_img_2018.0412.053648.1.fits\n"
     ]
    },
    {
     "name": "stderr",
     "output_type": "stream",
     "text": [
      "WARNING: The fit may be unsuccessful; check fit_info['message'] for more information. [astropy.modeling.fitting]\n"
     ]
    },
    {
     "name": "stdout",
     "output_type": "stream",
     "text": [
      "No star detected in GDR2/2018.0412/gdr2_cal_box_img_2018.0412.051106.1.fits\n",
      "No star detected in GDR2/2018.0412/gdr2_cal_box_img_2018.0412.051458.1.fits\n"
     ]
    },
    {
     "name": "stderr",
     "output_type": "stream",
     "text": [
      "WARNING: No sources were found. [photutils.detection.findstars]\n"
     ]
    },
    {
     "name": "stdout",
     "output_type": "stream",
     "text": [
      "No star detected in GDR2/2018.0412/gdr2_cal_box_img_2018.0412.080926.1.fits\n",
      "No star detected in GDR2/2018.0412/gdr2_cal_box_img_2018.0412.080930.1.fits\n",
      "No star detected in GDR2/2018.0412/gdr2_cal_box_img_2018.0412.080935.1.fits\n",
      "No star detected in GDR2/2018.0412/gdr2_cal_box_img_2018.0412.080939.1.fits\n",
      "No star detected in GDR2/2018.0412/gdr2_cal_box_img_2018.0412.080943.1.fits\n"
     ]
    },
    {
     "name": "stderr",
     "output_type": "stream",
     "text": [
      "WARNING: The fit may be unsuccessful; check fit_info['message'] for more information. [astropy.modeling.fitting]\n",
      "WARNING: The fit may be unsuccessful; check fit_info['message'] for more information. [astropy.modeling.fitting]\n"
     ]
    },
    {
     "name": "stdout",
     "output_type": "stream",
     "text": [
      "No star detected in GDR2/2018.0412/gdr2_raw_box_img_2018.0412.050320.1.fits\n",
      "No star detected in GDR2/2018.0412/gdr2_raw_box_img_2018.0412.051106.1.fits\n"
     ]
    },
    {
     "name": "stderr",
     "output_type": "stream",
     "text": [
      "WARNING: Sources were found, but none pass the sharpness and roundness criteria. [photutils.detection.findstars]\n"
     ]
    },
    {
     "name": "stdout",
     "output_type": "stream",
     "text": [
      "No star detected in GDR2/2018.0412/gdr2_raw_box_img_2018.0412.053648.1.fits\n",
      "No star detected in GDR2/2018.0412/gdr2_raw_box_img_2018.0412.051458.1.fits\n"
     ]
    },
    {
     "name": "stderr",
     "output_type": "stream",
     "text": [
      "WARNING: No sources were found. [photutils.detection.findstars]\n"
     ]
    },
    {
     "name": "stdout",
     "output_type": "stream",
     "text": [
      "No star detected in GDR2/2018.0412/gdr2_raw_box_img_2018.0412.080926.1.fits\n",
      "No star detected in GDR2/2018.0412/gdr2_raw_box_img_2018.0412.080930.1.fits\n",
      "No star detected in GDR2/2018.0412/gdr2_raw_box_img_2018.0412.080935.1.fits\n",
      "No star detected in GDR2/2018.0412/gdr2_raw_box_img_2018.0412.080939.1.fits\n",
      "No star detected in GDR2/2018.0412/gdr2_raw_box_img_2018.0412.080943.1.fits\n"
     ]
    }
   ],
   "source": [
    "nproc = 8\n",
    "with Pool(processes=nproc) as pool:  # my mac's i7 has 4 cores + hyperthreading so 8 virtual cores. \n",
    "    plines = pool.map(process_image, files)  # plines comes out in same order as fitslines!\n",
    "plines = list(filter(None.__ne__, plines))  # trim out any None entries\n",
    "df = Table(vstack(plines)).to_pandas()"
   ]
  },
  {
   "cell_type": "code",
   "execution_count": 13,
   "metadata": {},
   "outputs": [
    {
     "data": {
      "text/plain": [
       "13050"
      ]
     },
     "execution_count": 13,
     "metadata": {},
     "output_type": "execute_result"
    }
   ],
   "source": [
    "len(df)"
   ]
  },
  {
   "cell_type": "code",
   "execution_count": 14,
   "metadata": {},
   "outputs": [
    {
     "data": {
      "application/vnd.jupyter.widget-view+json": {
       "model_id": "14956819a1f142b383465810cecc45a3",
       "version_major": 2,
       "version_minor": 0
      },
      "text/plain": [
       "FigureCanvasNbAgg()"
      ]
     },
     "metadata": {},
     "output_type": "display_data"
    },
    {
     "data": {
      "application/vnd.jupyter.widget-view+json": {
       "model_id": "2f7c8e553f8f4f51bbb6573a3ba43c10",
       "version_major": 2,
       "version_minor": 0
      },
      "text/plain": [
       "FigureCanvasNbAgg()"
      ]
     },
     "metadata": {},
     "output_type": "display_data"
    },
    {
     "data": {
      "text/plain": [
       "array([[<matplotlib.axes._subplots.AxesSubplot object at 0x1c74d08048>]], dtype=object)"
      ]
     },
     "execution_count": 14,
     "metadata": {},
     "output_type": "execute_result"
    }
   ],
   "source": [
    "%matplotlib ipympl\n",
    "df.hist(column=[\"moffat_fwhm\", 'gauss_fwhm', 'moment_fwhm'], range=(0, 4), bins=100, alpha=0.6)\n",
    "df.hist(column=[\"moffat_alpha\"], range=(0, 10), bins=100, alpha=0.6)"
   ]
  },
  {
   "cell_type": "code",
   "execution_count": 15,
   "metadata": {},
   "outputs": [],
   "source": [
    "df.to_csv(\"2018_04_12.csv\")"
   ]
  },
  {
   "cell_type": "code",
   "execution_count": 59,
   "metadata": {},
   "outputs": [
    {
     "data": {
      "text/plain": [
       "Index(['id_1', 'xcentroid_1', 'ycentroid_1', 'sharpness', 'roundness1',\n",
       "       'roundness2', 'npix', 'sky', 'peak', 'flux', 'mag', 'id_2',\n",
       "       'xcentroid_2', 'ycentroid_2', 'sky_centroid', 'sky_centroid_icrs',\n",
       "       'source_sum', 'source_sum_err', 'background_sum', 'background_mean',\n",
       "       'background_at_centroid', 'xmin', 'xmax', 'ymin', 'ymax', 'min_value',\n",
       "       'max_value', 'minval_xpos', 'minval_ypos', 'maxval_xpos', 'maxval_ypos',\n",
       "       'area', 'equivalent_radius', 'perimeter', 'semimajor_axis_sigma',\n",
       "       'semiminor_axis_sigma', 'eccentricity', 'orientation', 'ellipticity',\n",
       "       'elongation', 'covar_sigx2', 'covar_sigxy', 'covar_sigy2', 'cxx', 'cxy',\n",
       "       'cyy', 'filename', 'DATE-OBS', 'RA', 'DEC', 'AZ', 'EL', 'ROT', 'TEMP',\n",
       "       'FOCUS', 'EXPTIME', 'gauss_x', 'gauss_y', 'gauss_sigx', 'gauss_sigy',\n",
       "       'gauss_amplitude', 'gauss_theta', 'moffat_amplitude', 'moffat_gamma',\n",
       "       'moffat_alpha', 'moffat_x', 'moffat_y', 'stats_mean', 'stats_median',\n",
       "       'stats_std', 'moment_fwhm', 'gauss_fwhm', 'moffat_fwhm'],\n",
       "      dtype='object')"
      ]
     },
     "execution_count": 59,
     "metadata": {},
     "output_type": "execute_result"
    }
   ],
   "source": [
    "df.columns"
   ]
  },
  {
   "cell_type": "code",
   "execution_count": 21,
   "metadata": {},
   "outputs": [
    {
     "data": {
      "application/vnd.jupyter.widget-view+json": {
       "model_id": "b1908786e1f24ad18c3a24909f8b6e4b",
       "version_major": 2,
       "version_minor": 0
      },
      "text/plain": [
       "FigureCanvasNbAgg()"
      ]
     },
     "metadata": {},
     "output_type": "display_data"
    },
    {
     "data": {
      "text/plain": [
       "array([[<matplotlib.axes._subplots.AxesSubplot object at 0x1c7e3897f0>]], dtype=object)"
      ]
     },
     "execution_count": 21,
     "metadata": {},
     "output_type": "execute_result"
    }
   ],
   "source": [
    "df.hist(column=['ROT'], range=(-180, 180.0), bins=100, alpha=0.6)"
   ]
  },
  {
   "cell_type": "code",
   "execution_count": 16,
   "metadata": {},
   "outputs": [
    {
     "data": {
      "text/plain": [
       "0        2018-04-12T02:38:53.111\n",
       "1        2018-04-12T02:39:00.092\n",
       "2        2018-04-12T02:39:07.104\n",
       "3        2018-04-12T02:39:14.051\n",
       "4        2018-04-12T02:39:25.211\n",
       "5        2018-04-12T02:39:29.026\n",
       "6        2018-04-12T02:39:32.938\n",
       "7        2018-04-12T02:39:36.953\n",
       "8        2018-04-12T02:39:40.809\n",
       "9        2018-04-12T02:39:44.703\n",
       "10       2018-04-12T02:39:48.601\n",
       "11       2018-04-12T02:39:52.428\n",
       "12       2018-04-12T02:39:56.617\n",
       "13       2018-04-12T02:40:00.447\n",
       "14       2018-04-12T02:40:04.328\n",
       "15       2018-04-12T02:40:08.290\n",
       "16       2018-04-12T02:40:12.283\n",
       "17       2018-04-12T02:40:16.112\n",
       "18       2018-04-12T02:40:20.053\n",
       "19       2018-04-12T02:40:23.888\n",
       "20       2018-04-12T02:40:27.732\n",
       "21       2018-04-12T02:40:31.677\n",
       "22       2018-04-12T02:40:35.519\n",
       "23       2018-04-12T02:40:39.404\n",
       "24       2018-04-12T02:40:43.397\n",
       "25       2018-04-12T02:40:47.171\n",
       "26       2018-04-12T02:40:51.035\n",
       "27       2018-04-12T02:40:54.819\n",
       "28       2018-04-12T02:40:58.694\n",
       "29       2018-04-12T02:41:02.674\n",
       "                  ...           \n",
       "13020    2018-04-12T11:17:10.128\n",
       "13021    2018-04-12T11:17:14.171\n",
       "13022    2018-04-12T11:17:18.378\n",
       "13023    2018-04-12T11:17:22.378\n",
       "13024    2018-04-12T11:17:26.365\n",
       "13025    2018-04-12T11:17:30.378\n",
       "13026    2018-04-12T11:17:34.440\n",
       "13027    2018-04-12T11:17:38.398\n",
       "13028    2018-04-12T11:17:42.428\n",
       "13029    2018-04-12T11:17:46.586\n",
       "13030    2018-04-12T11:17:50.584\n",
       "13031    2018-04-12T11:17:54.792\n",
       "13032    2018-04-12T11:17:58.802\n",
       "13033    2018-04-12T11:18:02.809\n",
       "13034    2018-04-12T11:18:06.815\n",
       "13035    2018-04-12T11:18:10.881\n",
       "13036    2018-04-12T11:18:15.033\n",
       "13037    2018-04-12T11:18:19.059\n",
       "13038    2018-04-12T11:18:23.016\n",
       "13039    2018-04-12T11:18:27.045\n",
       "13040    2018-04-12T11:18:31.065\n",
       "13041    2018-04-12T11:18:35.240\n",
       "13042    2018-04-12T11:18:39.243\n",
       "13043    2018-04-12T11:18:43.247\n",
       "13044    2018-04-12T11:18:47.259\n",
       "13045    2018-04-12T11:18:51.450\n",
       "13046    2018-04-12T11:18:55.450\n",
       "13047    2018-04-12T11:18:59.456\n",
       "13048    2018-04-12T11:19:03.530\n",
       "13049    2018-04-12T11:19:07.493\n",
       "Name: DATE-OBS, Length: 13050, dtype: object"
      ]
     },
     "execution_count": 16,
     "metadata": {},
     "output_type": "execute_result"
    }
   ],
   "source": [
    "df['DATE-OBS']"
   ]
  },
  {
   "cell_type": "code",
   "execution_count": 17,
   "metadata": {},
   "outputs": [],
   "source": [
    "import gc"
   ]
  },
  {
   "cell_type": "code",
   "execution_count": 18,
   "metadata": {},
   "outputs": [
    {
     "data": {
      "text/plain": [
       "60990"
      ]
     },
     "execution_count": 18,
     "metadata": {},
     "output_type": "execute_result"
    }
   ],
   "source": [
    "gc.collect()"
   ]
  },
  {
   "cell_type": "code",
   "execution_count": 14,
   "metadata": {},
   "outputs": [],
   "source": [
    "test = fits.open(\"GDR2/2018.0209/gdr2_raw_box_img_2018.0209.114833.1.fits\")[0].data"
   ]
  },
  {
   "cell_type": "code",
   "execution_count": 28,
   "metadata": {},
   "outputs": [],
   "source": [
    "m = np.median(test, axis=1)\n",
    "c = test - m[:, None]"
   ]
  },
  {
   "cell_type": "code",
   "execution_count": 29,
   "metadata": {},
   "outputs": [
    {
     "data": {
      "application/vnd.jupyter.widget-view+json": {
       "model_id": "b01dc628a0bc4ad98320644aaa522039",
       "version_major": 2,
       "version_minor": 0
      },
      "text/plain": [
       "FigureCanvasNbAgg()"
      ]
     },
     "metadata": {},
     "output_type": "display_data"
    }
   ],
   "source": [
    "%matplotlib ipympl\n",
    "plt.imshow(c)\n",
    "plt.show()"
   ]
  },
  {
   "cell_type": "code",
   "execution_count": null,
   "metadata": {},
   "outputs": [],
   "source": []
  }
 ],
 "metadata": {
  "kernelspec": {
   "display_name": "Python 3",
   "language": "python",
   "name": "python3"
  },
  "language_info": {
   "codemirror_mode": {
    "name": "ipython",
    "version": 3
   },
   "file_extension": ".py",
   "mimetype": "text/x-python",
   "name": "python",
   "nbconvert_exporter": "python",
   "pygments_lexer": "ipython3",
   "version": "3.6.6"
  }
 },
 "nbformat": 4,
 "nbformat_minor": 2
}
